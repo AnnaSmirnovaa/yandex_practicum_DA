{
 "cells": [
  {
   "cell_type": "markdown",
   "metadata": {
    "id": "sIfNaMOxgFyK"
   },
   "source": [
    "# Исследование данных о российском кинопрокате\n",
    "Заказчик этого исследования — Министерство культуры Российской Федерации. В нашем распоряжении данные, опубликованные на портале открытых данных Министерства культуры.\n",
    "Необходимо изучить рынок российского кинопроката и выявить текущие тренды. Проанализируем данные о фильмах, которые получили государственную поддержку. Узнаем, насколько такие фильмы интересны зрителю.\n",
    "Представленные данные содержат информацию о прокатных удостоверениях, сборах и государственной поддержке фильмов, а также информацию с сайта КиноПоиск.\n",
    "\n",
    "\n",
    "В ходе исследования мы:\n",
    "\n",
    "- Изучим общую информацию\n",
    "- Проведем предобработку данных ( устраним пропущенные значения. приведем в соответсвия типы данных, удалим дубликаты)\n",
    "- Добавим в таблицу новые столбцы, необходимые для исследования\n",
    "- Проведем исследовательский анализ данных. (Изучим сколько выходило фильмов в год, как менялась динамика проката, влияют ли возрастные ограничения на прокат фильмов, проанализируем  фильмы, которым была оказана государственная поддержка)\n",
    "\n",
    "\n",
    "Описание данных:\n",
    "\n",
    "\n",
    "Таблица **mkrf_movies** содержит информацию из реестра прокатных удостоверений. У одного фильма может быть несколько прокатных удостоверений.\n",
    "- *title* — название фильма;\n",
    "- *puNumber* — номер прокатного удостоверения;\n",
    "- *show_start_date* — дата премьеры фильма;\n",
    "- *type* — тип фильма;\n",
    "- *film_studio* — студия-производитель;\n",
    "- *production_country* — страна-производитель;\n",
    "- *director* — режиссёр;\n",
    "- *producer* — продюсер;\n",
    "- *age_restriction* — возрастная категория;\n",
    "- *refundable_support* — объём возвратных средств государственной поддержки;\n",
    "- *nonrefundable_support* — объём невозвратных средств государственной поддержки;\n",
    "- *financing_source* — источник государственного финансирования;\n",
    "- *budget* — общий бюджет фильма;\n",
    "- *ratings* — рейтинг фильма на КиноПоиске;\n",
    "- *genres* — жанр фильма.\n",
    "\n",
    "\n",
    "Столбец **budget** уже включает в себя полный объём государственной поддержки. Данные в этом столбце указаны только для тех фильмов, которые получили государственную поддержку.\n",
    "\n",
    "\n",
    "Таблица **mkrf_shows** содержит сведения о показах фильмов в российских кинотеатрах.\n",
    "- *puNumber* — номер прокатного удостоверения;\n",
    "- *box_office* — сборы в рублях.\n",
    "\n",
    "\n"
   ]
  },
  {
   "cell_type": "markdown",
   "metadata": {
    "id": "3bSlkCsbgFyL"
   },
   "source": [
    "###  Откроем файлы с данными и объедините их в один датафрейм. \n"
   ]
  },
  {
   "cell_type": "markdown",
   "metadata": {},
   "source": [
    "#### Импортируем библиотеки. Считаем данные из csv-файлов в датафреймы и сохраним в переменные `movies` ,  `shows`.Выведем общую информацию о файлах."
   ]
  },
  {
   "cell_type": "code",
   "execution_count": 188,
   "metadata": {
    "id": "dw87FlzMgFyM"
   },
   "outputs": [],
   "source": [
    "import pandas as pd\n",
    "import matplotlib.pyplot as plt \n",
    "pd.options.display.float_format = '{:.2f}'.format"
   ]
  },
  {
   "cell_type": "code",
   "execution_count": 189,
   "metadata": {},
   "outputs": [
    {
     "name": "stdout",
     "output_type": "stream",
     "text": [
      "<class 'pandas.core.frame.DataFrame'>\n",
      "RangeIndex: 7486 entries, 0 to 7485\n",
      "Data columns (total 15 columns):\n",
      " #   Column                 Non-Null Count  Dtype  \n",
      "---  ------                 --------------  -----  \n",
      " 0   title                  7486 non-null   object \n",
      " 1   puNumber               7486 non-null   object \n",
      " 2   show_start_date        7486 non-null   object \n",
      " 3   type                   7486 non-null   object \n",
      " 4   film_studio            7468 non-null   object \n",
      " 5   production_country     7484 non-null   object \n",
      " 6   director               7477 non-null   object \n",
      " 7   producer               6918 non-null   object \n",
      " 8   age_restriction        7486 non-null   object \n",
      " 9   refundable_support     332 non-null    float64\n",
      " 10  nonrefundable_support  332 non-null    float64\n",
      " 11  budget                 332 non-null    float64\n",
      " 12  financing_source       332 non-null    object \n",
      " 13  ratings                6519 non-null   object \n",
      " 14  genres                 6510 non-null   object \n",
      "dtypes: float64(3), object(12)\n",
      "memory usage: 877.4+ KB\n"
     ]
    }
   ],
   "source": [
    "movies = pd.read_csv('mkrf_movies.csv')\n",
    "movies.info()"
   ]
  },
  {
   "cell_type": "code",
   "execution_count": 190,
   "metadata": {},
   "outputs": [
    {
     "name": "stdout",
     "output_type": "stream",
     "text": [
      "<class 'pandas.core.frame.DataFrame'>\n",
      "RangeIndex: 3158 entries, 0 to 3157\n",
      "Data columns (total 2 columns):\n",
      " #   Column      Non-Null Count  Dtype  \n",
      "---  ------      --------------  -----  \n",
      " 0   puNumber    3158 non-null   int64  \n",
      " 1   box_office  3158 non-null   float64\n",
      "dtypes: float64(1), int64(1)\n",
      "memory usage: 49.5 KB\n"
     ]
    }
   ],
   "source": [
    "shows = pd.read_csv('mkrf_shows.csv')\n",
    "shows.info()"
   ]
  },
  {
   "cell_type": "markdown",
   "metadata": {},
   "source": [
    "#### Объединим данные таким образом, чтобы все объекты из датасета movies обязательно вошли в получившийся датафрейм."
   ]
  },
  {
   "cell_type": "markdown",
   "metadata": {},
   "source": [
    "Данные файлы содержат общий столбец **puNumber**. Мы можем объеденить данные файлы, но перед этим мы должны привести тип данных этого столбца к одинаковому в обеих таблицах. \n",
    "\n",
    "В таблице **movies** тип данных в столбце - object, при попытке поменять его на int c помощью метода astype(), выдает ошибку о наличии значения 'нет' в столбце. Выведем данную строку и проанализируем возможность ее удаления."
   ]
  },
  {
   "cell_type": "code",
   "execution_count": 191,
   "metadata": {},
   "outputs": [
    {
     "data": {
      "text/html": [
       "<div>\n",
       "<style scoped>\n",
       "    .dataframe tbody tr th:only-of-type {\n",
       "        vertical-align: middle;\n",
       "    }\n",
       "\n",
       "    .dataframe tbody tr th {\n",
       "        vertical-align: top;\n",
       "    }\n",
       "\n",
       "    .dataframe thead th {\n",
       "        text-align: right;\n",
       "    }\n",
       "</style>\n",
       "<table border=\"1\" class=\"dataframe\">\n",
       "  <thead>\n",
       "    <tr style=\"text-align: right;\">\n",
       "      <th></th>\n",
       "      <th>title</th>\n",
       "      <th>puNumber</th>\n",
       "      <th>show_start_date</th>\n",
       "      <th>type</th>\n",
       "      <th>film_studio</th>\n",
       "      <th>production_country</th>\n",
       "      <th>director</th>\n",
       "      <th>producer</th>\n",
       "      <th>age_restriction</th>\n",
       "      <th>refundable_support</th>\n",
       "      <th>nonrefundable_support</th>\n",
       "      <th>budget</th>\n",
       "      <th>financing_source</th>\n",
       "      <th>ratings</th>\n",
       "      <th>genres</th>\n",
       "    </tr>\n",
       "  </thead>\n",
       "  <tbody>\n",
       "    <tr>\n",
       "      <th>1797</th>\n",
       "      <td>Курбан-роман. (История с жертвой)</td>\n",
       "      <td>нет</td>\n",
       "      <td>2014-05-15T12:00:00.000Z</td>\n",
       "      <td>Художественный</td>\n",
       "      <td>ФОНД \"ИННОВАЦИЯ\"</td>\n",
       "      <td>Россия</td>\n",
       "      <td>С.Юзеев</td>\n",
       "      <td>М.Галицкая</td>\n",
       "      <td>«12+» - для детей старше 12 лет</td>\n",
       "      <td>NaN</td>\n",
       "      <td>NaN</td>\n",
       "      <td>NaN</td>\n",
       "      <td>NaN</td>\n",
       "      <td>NaN</td>\n",
       "      <td>NaN</td>\n",
       "    </tr>\n",
       "  </tbody>\n",
       "</table>\n",
       "</div>"
      ],
      "text/plain": [
       "                                  title puNumber           show_start_date  \\\n",
       "1797  Курбан-роман. (История с жертвой)      нет  2014-05-15T12:00:00.000Z   \n",
       "\n",
       "                type       film_studio production_country director  \\\n",
       "1797  Художественный  ФОНД \"ИННОВАЦИЯ\"             Россия  С.Юзеев   \n",
       "\n",
       "        producer                  age_restriction  refundable_support  \\\n",
       "1797  М.Галицкая  «12+» - для детей старше 12 лет                 NaN   \n",
       "\n",
       "      nonrefundable_support  budget financing_source ratings genres  \n",
       "1797                    NaN     NaN              NaN     NaN    NaN  "
      ]
     },
     "execution_count": 191,
     "metadata": {},
     "output_type": "execute_result"
    }
   ],
   "source": [
    "movies[movies['puNumber'] == 'нет']"
   ]
  },
  {
   "cell_type": "code",
   "execution_count": 192,
   "metadata": {},
   "outputs": [
    {
     "data": {
      "text/html": [
       "<div>\n",
       "<style scoped>\n",
       "    .dataframe tbody tr th:only-of-type {\n",
       "        vertical-align: middle;\n",
       "    }\n",
       "\n",
       "    .dataframe tbody tr th {\n",
       "        vertical-align: top;\n",
       "    }\n",
       "\n",
       "    .dataframe thead th {\n",
       "        text-align: right;\n",
       "    }\n",
       "</style>\n",
       "<table border=\"1\" class=\"dataframe\">\n",
       "  <thead>\n",
       "    <tr style=\"text-align: right;\">\n",
       "      <th></th>\n",
       "      <th>title</th>\n",
       "      <th>puNumber</th>\n",
       "      <th>show_start_date</th>\n",
       "      <th>type</th>\n",
       "      <th>film_studio</th>\n",
       "      <th>production_country</th>\n",
       "      <th>director</th>\n",
       "      <th>producer</th>\n",
       "      <th>age_restriction</th>\n",
       "      <th>refundable_support</th>\n",
       "      <th>nonrefundable_support</th>\n",
       "      <th>budget</th>\n",
       "      <th>financing_source</th>\n",
       "      <th>ratings</th>\n",
       "      <th>genres</th>\n",
       "    </tr>\n",
       "  </thead>\n",
       "  <tbody>\n",
       "    <tr>\n",
       "      <th>1797</th>\n",
       "      <td>Курбан-роман. (История с жертвой)</td>\n",
       "      <td>нет</td>\n",
       "      <td>2014-05-15T12:00:00.000Z</td>\n",
       "      <td>Художественный</td>\n",
       "      <td>ФОНД \"ИННОВАЦИЯ\"</td>\n",
       "      <td>Россия</td>\n",
       "      <td>С.Юзеев</td>\n",
       "      <td>М.Галицкая</td>\n",
       "      <td>«12+» - для детей старше 12 лет</td>\n",
       "      <td>NaN</td>\n",
       "      <td>NaN</td>\n",
       "      <td>NaN</td>\n",
       "      <td>NaN</td>\n",
       "      <td>NaN</td>\n",
       "      <td>NaN</td>\n",
       "    </tr>\n",
       "    <tr>\n",
       "      <th>2078</th>\n",
       "      <td>Курбан-роман. (История с жертвой).</td>\n",
       "      <td>111009614</td>\n",
       "      <td>2014-09-02T12:00:00.000Z</td>\n",
       "      <td>Художественный</td>\n",
       "      <td>ФОНД \"ИННОВАЦИЯ\"</td>\n",
       "      <td>Россия</td>\n",
       "      <td>С.Юзеев</td>\n",
       "      <td>М.Галицкая</td>\n",
       "      <td>«12+» - для детей старше 12 лет</td>\n",
       "      <td>NaN</td>\n",
       "      <td>NaN</td>\n",
       "      <td>NaN</td>\n",
       "      <td>NaN</td>\n",
       "      <td>NaN</td>\n",
       "      <td>NaN</td>\n",
       "    </tr>\n",
       "  </tbody>\n",
       "</table>\n",
       "</div>"
      ],
      "text/plain": [
       "                                   title   puNumber           show_start_date  \\\n",
       "1797   Курбан-роман. (История с жертвой)        нет  2014-05-15T12:00:00.000Z   \n",
       "2078  Курбан-роман. (История с жертвой).  111009614  2014-09-02T12:00:00.000Z   \n",
       "\n",
       "                type       film_studio production_country director  \\\n",
       "1797  Художественный  ФОНД \"ИННОВАЦИЯ\"             Россия  С.Юзеев   \n",
       "2078  Художественный  ФОНД \"ИННОВАЦИЯ\"             Россия  С.Юзеев   \n",
       "\n",
       "        producer                  age_restriction  refundable_support  \\\n",
       "1797  М.Галицкая  «12+» - для детей старше 12 лет                 NaN   \n",
       "2078  М.Галицкая  «12+» - для детей старше 12 лет                 NaN   \n",
       "\n",
       "      nonrefundable_support  budget financing_source ratings genres  \n",
       "1797                    NaN     NaN              NaN     NaN    NaN  \n",
       "2078                    NaN     NaN              NaN     NaN    NaN  "
      ]
     },
     "execution_count": 192,
     "metadata": {},
     "output_type": "execute_result"
    }
   ],
   "source": [
    "movies.query('\"М.Галицкая\" in producer')"
   ]
  },
  {
   "cell_type": "markdown",
   "metadata": {},
   "source": [
    "Данный фильм имеет дубликат, поэтому удалим строку с значением 'нет' в столбце **'puNumber'**, поменяем тип данных на **int**."
   ]
  },
  {
   "cell_type": "code",
   "execution_count": 193,
   "metadata": {},
   "outputs": [],
   "source": [
    "movies = movies[movies['puNumber'] != 'нет']\n",
    "\n",
    "movies['puNumber'] = movies['puNumber'].astype('int')"
   ]
  },
  {
   "cell_type": "markdown",
   "metadata": {},
   "source": [
    "Соединим таблицы в один Датафрейм."
   ]
  },
  {
   "cell_type": "code",
   "execution_count": 194,
   "metadata": {
    "scrolled": true
   },
   "outputs": [
    {
     "data": {
      "text/html": [
       "<div>\n",
       "<style scoped>\n",
       "    .dataframe tbody tr th:only-of-type {\n",
       "        vertical-align: middle;\n",
       "    }\n",
       "\n",
       "    .dataframe tbody tr th {\n",
       "        vertical-align: top;\n",
       "    }\n",
       "\n",
       "    .dataframe thead th {\n",
       "        text-align: right;\n",
       "    }\n",
       "</style>\n",
       "<table border=\"1\" class=\"dataframe\">\n",
       "  <thead>\n",
       "    <tr style=\"text-align: right;\">\n",
       "      <th></th>\n",
       "      <th>title</th>\n",
       "      <th>puNumber</th>\n",
       "      <th>show_start_date</th>\n",
       "      <th>type</th>\n",
       "      <th>film_studio</th>\n",
       "      <th>production_country</th>\n",
       "      <th>director</th>\n",
       "      <th>producer</th>\n",
       "      <th>age_restriction</th>\n",
       "      <th>refundable_support</th>\n",
       "      <th>nonrefundable_support</th>\n",
       "      <th>budget</th>\n",
       "      <th>financing_source</th>\n",
       "      <th>ratings</th>\n",
       "      <th>genres</th>\n",
       "      <th>box_office</th>\n",
       "    </tr>\n",
       "  </thead>\n",
       "  <tbody>\n",
       "    <tr>\n",
       "      <th>0</th>\n",
       "      <td>Открытый простор</td>\n",
       "      <td>221048915</td>\n",
       "      <td>2015-11-27T12:00:00.000Z</td>\n",
       "      <td>Художественный</td>\n",
       "      <td>Тачстоун Пикчерз, Кобальт Пикчерз, Бикон Пикче...</td>\n",
       "      <td>США</td>\n",
       "      <td>Кевин Костнер</td>\n",
       "      <td>Дэвид Валдес, Кевин Костнер, Джейк Эбертс</td>\n",
       "      <td>«18+» - запрещено для детей</td>\n",
       "      <td>NaN</td>\n",
       "      <td>NaN</td>\n",
       "      <td>NaN</td>\n",
       "      <td>NaN</td>\n",
       "      <td>7.2</td>\n",
       "      <td>боевик,драма,мелодрама</td>\n",
       "      <td>NaN</td>\n",
       "    </tr>\n",
       "    <tr>\n",
       "      <th>1</th>\n",
       "      <td>Особо важное задание</td>\n",
       "      <td>111013716</td>\n",
       "      <td>2016-09-13T12:00:00.000Z</td>\n",
       "      <td>Художественный</td>\n",
       "      <td>Киностудия \"Мосфильм\"</td>\n",
       "      <td>СССР</td>\n",
       "      <td>Е.Матвеев</td>\n",
       "      <td>NaN</td>\n",
       "      <td>«6+» - для детей старше 6 лет</td>\n",
       "      <td>NaN</td>\n",
       "      <td>NaN</td>\n",
       "      <td>NaN</td>\n",
       "      <td>NaN</td>\n",
       "      <td>6.6</td>\n",
       "      <td>драма,военный</td>\n",
       "      <td>NaN</td>\n",
       "    </tr>\n",
       "    <tr>\n",
       "      <th>2</th>\n",
       "      <td>Особо опасен</td>\n",
       "      <td>221038416</td>\n",
       "      <td>2016-10-10T12:00:00.000Z</td>\n",
       "      <td>Художественный</td>\n",
       "      <td>Юниверсал Пикчерз, Кикстарт Продакшнз, Марк Пл...</td>\n",
       "      <td>США</td>\n",
       "      <td>Тимур Бекмамбетов</td>\n",
       "      <td>Джим Лемли, Джейсон Нетер, Марк Е.Платт, Яйн Смит</td>\n",
       "      <td>«18+» - запрещено для детей</td>\n",
       "      <td>NaN</td>\n",
       "      <td>NaN</td>\n",
       "      <td>NaN</td>\n",
       "      <td>NaN</td>\n",
       "      <td>6.8</td>\n",
       "      <td>фантастика,боевик,триллер</td>\n",
       "      <td>NaN</td>\n",
       "    </tr>\n",
       "    <tr>\n",
       "      <th>3</th>\n",
       "      <td>Особо опасен</td>\n",
       "      <td>221026916</td>\n",
       "      <td>2016-06-10T12:00:00.000Z</td>\n",
       "      <td>Художественный</td>\n",
       "      <td>Юниверсал Пикчерз, Кикстарт Продакшнз, Марк Пл...</td>\n",
       "      <td>США</td>\n",
       "      <td>Тимур Бекмамбетов</td>\n",
       "      <td>Джим Лемли, Джейсон Нетер, Марк Е.Платт, Яйн Смит</td>\n",
       "      <td>«18+» - запрещено для детей</td>\n",
       "      <td>NaN</td>\n",
       "      <td>NaN</td>\n",
       "      <td>NaN</td>\n",
       "      <td>NaN</td>\n",
       "      <td>6.8</td>\n",
       "      <td>фантастика,боевик,триллер</td>\n",
       "      <td>NaN</td>\n",
       "    </tr>\n",
       "    <tr>\n",
       "      <th>4</th>\n",
       "      <td>Особо опасен</td>\n",
       "      <td>221030815</td>\n",
       "      <td>2015-07-29T12:00:00.000Z</td>\n",
       "      <td>Художественный</td>\n",
       "      <td>Юниверсал Пикчерз, Кикстарт Продакшнз, Марк Пл...</td>\n",
       "      <td>США</td>\n",
       "      <td>Тимур Бекмамбетов</td>\n",
       "      <td>Джим Лемли, Джейсон Нетер, Марк Е.Платт, Яйн Смит</td>\n",
       "      <td>«18+» - запрещено для детей</td>\n",
       "      <td>NaN</td>\n",
       "      <td>NaN</td>\n",
       "      <td>NaN</td>\n",
       "      <td>NaN</td>\n",
       "      <td>6.8</td>\n",
       "      <td>фантастика,боевик,триллер</td>\n",
       "      <td>NaN</td>\n",
       "    </tr>\n",
       "    <tr>\n",
       "      <th>...</th>\n",
       "      <td>...</td>\n",
       "      <td>...</td>\n",
       "      <td>...</td>\n",
       "      <td>...</td>\n",
       "      <td>...</td>\n",
       "      <td>...</td>\n",
       "      <td>...</td>\n",
       "      <td>...</td>\n",
       "      <td>...</td>\n",
       "      <td>...</td>\n",
       "      <td>...</td>\n",
       "      <td>...</td>\n",
       "      <td>...</td>\n",
       "      <td>...</td>\n",
       "      <td>...</td>\n",
       "      <td>...</td>\n",
       "    </tr>\n",
       "    <tr>\n",
       "      <th>7480</th>\n",
       "      <td>Сад художника: Американский импрессионизм</td>\n",
       "      <td>126008019</td>\n",
       "      <td>2019-12-23T12:00:00.000Z</td>\n",
       "      <td>Прочие</td>\n",
       "      <td>Севен Артс Продакшнз</td>\n",
       "      <td>Великобритания</td>\n",
       "      <td>Фил Грабски</td>\n",
       "      <td>Фил Грабски</td>\n",
       "      <td>«12+» - для детей старше 12 лет</td>\n",
       "      <td>NaN</td>\n",
       "      <td>NaN</td>\n",
       "      <td>NaN</td>\n",
       "      <td>NaN</td>\n",
       "      <td>NaN</td>\n",
       "      <td>NaN</td>\n",
       "      <td>NaN</td>\n",
       "    </tr>\n",
       "    <tr>\n",
       "      <th>7481</th>\n",
       "      <td>Звериная ярость</td>\n",
       "      <td>121037819</td>\n",
       "      <td>2019-12-24T12:00:00.000Z</td>\n",
       "      <td>Художественный</td>\n",
       "      <td>Дэниел Гродник Продакшнз, Вандерфилм Медиа Кор...</td>\n",
       "      <td>США</td>\n",
       "      <td>Ник Пауэлл</td>\n",
       "      <td>Джефф Боулер, Дэниэл Гродник, Луильо Руис, Брэ...</td>\n",
       "      <td>«16+» - для детей старше 16 лет</td>\n",
       "      <td>NaN</td>\n",
       "      <td>NaN</td>\n",
       "      <td>NaN</td>\n",
       "      <td>NaN</td>\n",
       "      <td>5.4</td>\n",
       "      <td>боевик,триллер</td>\n",
       "      <td>NaN</td>\n",
       "    </tr>\n",
       "    <tr>\n",
       "      <th>7482</th>\n",
       "      <td>Щенячий патруль: Скорей спешим на помощь!</td>\n",
       "      <td>124010819</td>\n",
       "      <td>2019-12-28T12:00:00.000Z</td>\n",
       "      <td>Художественный</td>\n",
       "      <td>Никелодеон Анимейшн Студиос, Спин Мастер</td>\n",
       "      <td>США - Канада</td>\n",
       "      <td>Чарльз Е.Бастьен</td>\n",
       "      <td>Дженнифер Додж</td>\n",
       "      <td>«0+» - для любой зрительской аудитории</td>\n",
       "      <td>NaN</td>\n",
       "      <td>NaN</td>\n",
       "      <td>NaN</td>\n",
       "      <td>NaN</td>\n",
       "      <td>NaN</td>\n",
       "      <td>NaN</td>\n",
       "      <td>NaN</td>\n",
       "    </tr>\n",
       "    <tr>\n",
       "      <th>7483</th>\n",
       "      <td>Машины песенки. Серия \"Испанские мотивы\"</td>\n",
       "      <td>124010619</td>\n",
       "      <td>2019-12-30T12:00:00.000Z</td>\n",
       "      <td>Анимационный</td>\n",
       "      <td>Анимаккорд Лтд., ООО Студия \"АНИМАККОРД\"</td>\n",
       "      <td>Республика Кипр, Россия</td>\n",
       "      <td>А.Беляев</td>\n",
       "      <td>Д.Ловейко</td>\n",
       "      <td>«0+» - для любой зрительской аудитории</td>\n",
       "      <td>NaN</td>\n",
       "      <td>NaN</td>\n",
       "      <td>NaN</td>\n",
       "      <td>NaN</td>\n",
       "      <td>NaN</td>\n",
       "      <td>NaN</td>\n",
       "      <td>NaN</td>\n",
       "    </tr>\n",
       "    <tr>\n",
       "      <th>7484</th>\n",
       "      <td>Машины песенки. Серия \"Когда цветут кактусы\"</td>\n",
       "      <td>124010719</td>\n",
       "      <td>2019-12-30T12:00:00.000Z</td>\n",
       "      <td>Анимационный</td>\n",
       "      <td>Анимаккорд Лтд., ООО Студия \"АНИМАККОРД\"</td>\n",
       "      <td>Республика Кипр, Россия</td>\n",
       "      <td>И.Трусов</td>\n",
       "      <td>Д.Ловейко</td>\n",
       "      <td>«0+» - для любой зрительской аудитории</td>\n",
       "      <td>NaN</td>\n",
       "      <td>NaN</td>\n",
       "      <td>NaN</td>\n",
       "      <td>NaN</td>\n",
       "      <td>6.3</td>\n",
       "      <td>комедия,вестерн</td>\n",
       "      <td>NaN</td>\n",
       "    </tr>\n",
       "  </tbody>\n",
       "</table>\n",
       "<p>7485 rows × 16 columns</p>\n",
       "</div>"
      ],
      "text/plain": [
       "                                             title   puNumber  \\\n",
       "0                                 Открытый простор  221048915   \n",
       "1                             Особо важное задание  111013716   \n",
       "2                                     Особо опасен  221038416   \n",
       "3                                     Особо опасен  221026916   \n",
       "4                                     Особо опасен  221030815   \n",
       "...                                            ...        ...   \n",
       "7480     Сад художника: Американский импрессионизм  126008019   \n",
       "7481                               Звериная ярость  121037819   \n",
       "7482     Щенячий патруль: Скорей спешим на помощь!  124010819   \n",
       "7483      Машины песенки. Серия \"Испанские мотивы\"  124010619   \n",
       "7484  Машины песенки. Серия \"Когда цветут кактусы\"  124010719   \n",
       "\n",
       "               show_start_date             type  \\\n",
       "0     2015-11-27T12:00:00.000Z   Художественный   \n",
       "1     2016-09-13T12:00:00.000Z   Художественный   \n",
       "2     2016-10-10T12:00:00.000Z   Художественный   \n",
       "3     2016-06-10T12:00:00.000Z   Художественный   \n",
       "4     2015-07-29T12:00:00.000Z   Художественный   \n",
       "...                        ...              ...   \n",
       "7480  2019-12-23T12:00:00.000Z           Прочие   \n",
       "7481  2019-12-24T12:00:00.000Z   Художественный   \n",
       "7482  2019-12-28T12:00:00.000Z   Художественный   \n",
       "7483  2019-12-30T12:00:00.000Z     Анимационный   \n",
       "7484  2019-12-30T12:00:00.000Z     Анимационный   \n",
       "\n",
       "                                            film_studio  \\\n",
       "0     Тачстоун Пикчерз, Кобальт Пикчерз, Бикон Пикче...   \n",
       "1                                 Киностудия \"Мосфильм\"   \n",
       "2     Юниверсал Пикчерз, Кикстарт Продакшнз, Марк Пл...   \n",
       "3     Юниверсал Пикчерз, Кикстарт Продакшнз, Марк Пл...   \n",
       "4     Юниверсал Пикчерз, Кикстарт Продакшнз, Марк Пл...   \n",
       "...                                                 ...   \n",
       "7480                               Севен Артс Продакшнз   \n",
       "7481  Дэниел Гродник Продакшнз, Вандерфилм Медиа Кор...   \n",
       "7482           Никелодеон Анимейшн Студиос, Спин Мастер   \n",
       "7483           Анимаккорд Лтд., ООО Студия \"АНИМАККОРД\"   \n",
       "7484           Анимаккорд Лтд., ООО Студия \"АНИМАККОРД\"   \n",
       "\n",
       "           production_country           director  \\\n",
       "0                         США      Кевин Костнер   \n",
       "1                        СССР          Е.Матвеев   \n",
       "2                         США  Тимур Бекмамбетов   \n",
       "3                         США  Тимур Бекмамбетов   \n",
       "4                         США  Тимур Бекмамбетов   \n",
       "...                       ...                ...   \n",
       "7480           Великобритания        Фил Грабски   \n",
       "7481                      США         Ник Пауэлл   \n",
       "7482             США - Канада   Чарльз Е.Бастьен   \n",
       "7483  Республика Кипр, Россия           А.Беляев   \n",
       "7484  Республика Кипр, Россия           И.Трусов   \n",
       "\n",
       "                                               producer  \\\n",
       "0             Дэвид Валдес, Кевин Костнер, Джейк Эбертс   \n",
       "1                                                   NaN   \n",
       "2     Джим Лемли, Джейсон Нетер, Марк Е.Платт, Яйн Смит   \n",
       "3     Джим Лемли, Джейсон Нетер, Марк Е.Платт, Яйн Смит   \n",
       "4     Джим Лемли, Джейсон Нетер, Марк Е.Платт, Яйн Смит   \n",
       "...                                                 ...   \n",
       "7480                                        Фил Грабски   \n",
       "7481  Джефф Боулер, Дэниэл Гродник, Луильо Руис, Брэ...   \n",
       "7482                                     Дженнифер Додж   \n",
       "7483                                          Д.Ловейко   \n",
       "7484                                          Д.Ловейко   \n",
       "\n",
       "                             age_restriction  refundable_support  \\\n",
       "0                «18+» - запрещено для детей                 NaN   \n",
       "1              «6+» - для детей старше 6 лет                 NaN   \n",
       "2                «18+» - запрещено для детей                 NaN   \n",
       "3                «18+» - запрещено для детей                 NaN   \n",
       "4                «18+» - запрещено для детей                 NaN   \n",
       "...                                      ...                 ...   \n",
       "7480         «12+» - для детей старше 12 лет                 NaN   \n",
       "7481         «16+» - для детей старше 16 лет                 NaN   \n",
       "7482  «0+» - для любой зрительской аудитории                 NaN   \n",
       "7483  «0+» - для любой зрительской аудитории                 NaN   \n",
       "7484  «0+» - для любой зрительской аудитории                 NaN   \n",
       "\n",
       "      nonrefundable_support  budget financing_source ratings  \\\n",
       "0                       NaN     NaN              NaN     7.2   \n",
       "1                       NaN     NaN              NaN     6.6   \n",
       "2                       NaN     NaN              NaN     6.8   \n",
       "3                       NaN     NaN              NaN     6.8   \n",
       "4                       NaN     NaN              NaN     6.8   \n",
       "...                     ...     ...              ...     ...   \n",
       "7480                    NaN     NaN              NaN     NaN   \n",
       "7481                    NaN     NaN              NaN     5.4   \n",
       "7482                    NaN     NaN              NaN     NaN   \n",
       "7483                    NaN     NaN              NaN     NaN   \n",
       "7484                    NaN     NaN              NaN     6.3   \n",
       "\n",
       "                         genres  box_office  \n",
       "0        боевик,драма,мелодрама         NaN  \n",
       "1                 драма,военный         NaN  \n",
       "2     фантастика,боевик,триллер         NaN  \n",
       "3     фантастика,боевик,триллер         NaN  \n",
       "4     фантастика,боевик,триллер         NaN  \n",
       "...                         ...         ...  \n",
       "7480                        NaN         NaN  \n",
       "7481             боевик,триллер         NaN  \n",
       "7482                        NaN         NaN  \n",
       "7483                        NaN         NaN  \n",
       "7484            комедия,вестерн         NaN  \n",
       "\n",
       "[7485 rows x 16 columns]"
      ]
     },
     "execution_count": 194,
     "metadata": {},
     "output_type": "execute_result"
    }
   ],
   "source": [
    "movies_new = movies.merge(shows, on='puNumber', how='outer')\n",
    "movies_new"
   ]
  },
  {
   "cell_type": "markdown",
   "metadata": {},
   "source": [
    "Выведем общую информацию по новой таблице и проверим чтобы все строки из двух таблиц вошли в новый датафрейм."
   ]
  },
  {
   "cell_type": "code",
   "execution_count": 195,
   "metadata": {},
   "outputs": [
    {
     "name": "stdout",
     "output_type": "stream",
     "text": [
      "<class 'pandas.core.frame.DataFrame'>\n",
      "Int64Index: 7485 entries, 0 to 7484\n",
      "Data columns (total 16 columns):\n",
      " #   Column                 Non-Null Count  Dtype  \n",
      "---  ------                 --------------  -----  \n",
      " 0   title                  7485 non-null   object \n",
      " 1   puNumber               7485 non-null   int32  \n",
      " 2   show_start_date        7485 non-null   object \n",
      " 3   type                   7485 non-null   object \n",
      " 4   film_studio            7467 non-null   object \n",
      " 5   production_country     7483 non-null   object \n",
      " 6   director               7476 non-null   object \n",
      " 7   producer               6917 non-null   object \n",
      " 8   age_restriction        7485 non-null   object \n",
      " 9   refundable_support     332 non-null    float64\n",
      " 10  nonrefundable_support  332 non-null    float64\n",
      " 11  budget                 332 non-null    float64\n",
      " 12  financing_source       332 non-null    object \n",
      " 13  ratings                6519 non-null   object \n",
      " 14  genres                 6510 non-null   object \n",
      " 15  box_office             3158 non-null   float64\n",
      "dtypes: float64(4), int32(1), object(11)\n",
      "memory usage: 964.9+ KB\n",
      "\n",
      "Количество строк в таблице movies равно: 7485\n",
      "Количество значений в стобце box_office в таблице shows равно: 3158\n"
     ]
    }
   ],
   "source": [
    "movies_new.info()\n",
    "print('')\n",
    "print('Количество строк в таблице movies равно:', movies.shape[0])\n",
    "# для сравнения выведем колтичество строк из первоначальной таблицы\n",
    "print('Количество значений в стобце box_office в таблице shows равно:', len(shows['box_office']))\n",
    "# и количество значений в столбце box_office таблицы shows\n"
   ]
  },
  {
   "cell_type": "markdown",
   "metadata": {},
   "source": [
    "Все 3158 строк по столбцу **box_office** вошли в обновленную таблицу. Общее число строк совпадает с числом строк в таблице movies. Все данные перенесены в новую таблицу при соединении. "
   ]
  },
  {
   "cell_type": "markdown",
   "metadata": {
    "id": "KLDGpPG0gFyM"
   },
   "source": [
    "###  Предобработка данных"
   ]
  },
  {
   "cell_type": "markdown",
   "metadata": {
    "id": "ssWwKXsxgFyO"
   },
   "source": [
    "####  Проверим типы данных\n",
    "\n",
    "- Проверьте типы данных в датафрейме и преобразуйте их там, где это необходимо."
   ]
  },
  {
   "cell_type": "code",
   "execution_count": 196,
   "metadata": {},
   "outputs": [
    {
     "name": "stdout",
     "output_type": "stream",
     "text": [
      "<class 'pandas.core.frame.DataFrame'>\n",
      "Int64Index: 7485 entries, 0 to 7484\n",
      "Data columns (total 16 columns):\n",
      " #   Column                 Non-Null Count  Dtype  \n",
      "---  ------                 --------------  -----  \n",
      " 0   title                  7485 non-null   object \n",
      " 1   puNumber               7485 non-null   int32  \n",
      " 2   show_start_date        7485 non-null   object \n",
      " 3   type                   7485 non-null   object \n",
      " 4   film_studio            7467 non-null   object \n",
      " 5   production_country     7483 non-null   object \n",
      " 6   director               7476 non-null   object \n",
      " 7   producer               6917 non-null   object \n",
      " 8   age_restriction        7485 non-null   object \n",
      " 9   refundable_support     332 non-null    float64\n",
      " 10  nonrefundable_support  332 non-null    float64\n",
      " 11  budget                 332 non-null    float64\n",
      " 12  financing_source       332 non-null    object \n",
      " 13  ratings                6519 non-null   object \n",
      " 14  genres                 6510 non-null   object \n",
      " 15  box_office             3158 non-null   float64\n",
      "dtypes: float64(4), int32(1), object(11)\n",
      "memory usage: 964.9+ KB\n"
     ]
    }
   ],
   "source": [
    "movies_new.info()"
   ]
  },
  {
   "cell_type": "markdown",
   "metadata": {},
   "source": [
    "- В столбце **ratings** тип данных object , преобразуем его в числовой тип, но перед этим обработаем аномальные значения."
   ]
  },
  {
   "cell_type": "code",
   "execution_count": 197,
   "metadata": {},
   "outputs": [
    {
     "data": {
      "text/plain": [
       "array(['7.2', '6.6', '6.8', '7.7', '8.3', '8.0', '7.8', '8.1', '7.1',\n",
       "       '6.0', '7.4', '5.8', '8.7', '6.3', '6.9', '5.0', '4.3', '7.3',\n",
       "       '7.0', '6.4', nan, '8.2', '7.5', '6.7', '7.9', '5.9', '6.2', '5.6',\n",
       "       '6.5', '2.4', '7.6', '6.1', '8.6', '8.5', '8.8', '5.5', '5.1',\n",
       "       '5.7', '5.4', '99%', '4.4', '4.5', '5.3', '4.1', '8.4', '2.6',\n",
       "       '3.8', '4.6', '4.8', '4.0', '3.0', '1.6', '4.2', '5.2', '4.7',\n",
       "       '4.9', '3.9', '2.7', '3.3', '2.9', '28%', '3.7', '1.4', '3.1',\n",
       "       '97%', '3.5', '3.2', '2.8', '1.5', '2.1', '2.5', '9.2', '3.4',\n",
       "       '1.1', '3.6', '83%', '64%', '91%', '94%', '62%', '79%', '90%',\n",
       "       '19%', '88%', '1.0', '89%', '1.3', '1.9', '1.8', '1.2', '1.7',\n",
       "       '9.0', '98%', '8.9', '9.1'], dtype=object)"
      ]
     },
     "execution_count": 197,
     "metadata": {},
     "output_type": "execute_result"
    }
   ],
   "source": [
    "movies_new['ratings'].unique()"
   ]
  },
  {
   "cell_type": "markdown",
   "metadata": {},
   "source": [
    "В столбце присутствуют значения по 10ти бальной шкале и процентной оценке. Процентную оценку мы не можем привести к 10бальной, так как она ей не соответствует. Таких значений в таблице всего 29шт, это менее 1%, поэтому  заменим значения с процентом на NAN, при изменении типа данных остальных значений."
   ]
  },
  {
   "cell_type": "code",
   "execution_count": 198,
   "metadata": {},
   "outputs": [],
   "source": [
    "movies_new['ratings'] = pd.to_numeric(movies_new['ratings'], errors='coerce') #меняем тип данных на float"
   ]
  },
  {
   "cell_type": "markdown",
   "metadata": {},
   "source": [
    "- Переведем строковый тип данных в дату в столбце **show_start_date**. Это поможет нам при дальнейшем анализе и преобразовании даты для новый столбцов."
   ]
  },
  {
   "cell_type": "code",
   "execution_count": 199,
   "metadata": {},
   "outputs": [],
   "source": [
    "movies_new['show_start_date'] = pd.to_datetime(movies_new['show_start_date'], format='%Y-%m-%dT%H:%M:%S').dt.tz_localize(None)"
   ]
  },
  {
   "cell_type": "markdown",
   "metadata": {
    "id": "i0MOLbF-gFyP"
   },
   "source": [
    "####  Изучим пропуски в датафрейме\n",
    "\n",
    "- Объясните, почему заполнили пропуски определённым образом или почему не стали этого делать."
   ]
  },
  {
   "cell_type": "code",
   "execution_count": 200,
   "metadata": {
    "id": "8MJD_lkngFyP"
   },
   "outputs": [
    {
     "data": {
      "text/plain": [
       "title                       0\n",
       "puNumber                    0\n",
       "show_start_date             0\n",
       "type                        0\n",
       "film_studio                18\n",
       "production_country          2\n",
       "director                    9\n",
       "producer                  568\n",
       "age_restriction             0\n",
       "refundable_support       7153\n",
       "nonrefundable_support    7153\n",
       "budget                   7153\n",
       "financing_source         7153\n",
       "ratings                   995\n",
       "genres                    975\n",
       "box_office               4327\n",
       "dtype: int64"
      ]
     },
     "execution_count": 200,
     "metadata": {},
     "output_type": "execute_result"
    }
   ],
   "source": [
    "movies_new.isna().sum()# выведем количество пропущенных значений в столбцах"
   ]
  },
  {
   "cell_type": "markdown",
   "metadata": {},
   "source": [
    "- В столбцах *'film_studio' , 'production_country' , 'director' , 'producer' , 'genres'* есть случайные пропущенные значения, сложно назвать природу их возникновения. В столбце *financing_source* пропуски не случайные, они  возникли , так как данные в этом столбце указаны только для фильмов с гос поддержкой, пропущенные значения у фильмов без спонсирования от государства. Заполним пропуски техническим значением **unknow**."
   ]
  },
  {
   "cell_type": "code",
   "execution_count": 201,
   "metadata": {},
   "outputs": [],
   "source": [
    "# создадим список с наименованиями столбцов, в которых необходимо произвести замену\n",
    "change_pass = ['film_studio', 'production_country', 'director', 'producer', 'genres', 'financing_source']\n",
    "\n",
    "#заменим все NAN  на unknow в данных столбцах с помощью цикла\n",
    "for index in change_pass:\n",
    "    movies_new[index] = movies_new[index].fillna('unknow')"
   ]
  },
  {
   "cell_type": "markdown",
   "metadata": {},
   "source": [
    "- В описании данных в таблицах сказано, что данные в столбце **budget** заполнены только для фильмов, имеющих гос поддержку. Пропуски в столбцах *budget , nonrefundable_support , refundable_support* у тех фильмов, которые не получали финансирования со стороны государства. Оставим пропуски в этих столбцах без изменения и будем считать наличия значения NAN как показатель отсутствия финансовой помощи от государства."
   ]
  },
  {
   "cell_type": "markdown",
   "metadata": {},
   "source": [
    "- Пропуски в столбцах **ratings** и  **box_office** вероятнее всего появились из-за отсутствия данных по ним. Они являются количественные значениями и требуют заполнения пропусков числовыми значениями. По каждому фильму эти столбцы имеют уникальные показатели, поэтому заполнить средним или медианой считаю не целесообразным. Оставим данные пропуски без изменений."
   ]
  },
  {
   "cell_type": "markdown",
   "metadata": {
    "id": "4c6k1t9ygFyQ"
   },
   "source": [
    "####  Изучим дубликаты в датафрейме\n",
    "- Проверьте, есть ли в данных дубликаты. Опишите причины, которые могли повлиять на появление дублей."
   ]
  },
  {
   "cell_type": "markdown",
   "metadata": {},
   "source": [
    "- Проверим нашу таблицу на наличие явных дубликатов. Выведем количество явных дубликатов."
   ]
  },
  {
   "cell_type": "code",
   "execution_count": 202,
   "metadata": {},
   "outputs": [
    {
     "data": {
      "text/plain": [
       "0"
      ]
     },
     "execution_count": 202,
     "metadata": {},
     "output_type": "execute_result"
    }
   ],
   "source": [
    "movies_new.duplicated().sum()"
   ]
  },
  {
   "cell_type": "markdown",
   "metadata": {},
   "source": [
    "Значение равно 0. В таблице нет явных дубликатов."
   ]
  },
  {
   "cell_type": "markdown",
   "metadata": {},
   "source": [
    "В таблице **movies_new** есть два столбца, которые должны содержать только уникальные значения.Это *puNumber и puNumber*\n"
   ]
  },
  {
   "cell_type": "markdown",
   "metadata": {},
   "source": [
    "- Проанализируем уникальные значения в столбце **title**"
   ]
  },
  {
   "cell_type": "code",
   "execution_count": 203,
   "metadata": {},
   "outputs": [
    {
     "data": {
      "text/plain": [
       "array(['Открытый простор', 'Особо важное задание', 'Особо опасен', ...,\n",
       "       'Щенячий патруль: Скорей спешим на помощь!',\n",
       "       'Машины песенки. Серия \"Испанские мотивы\"',\n",
       "       'Машины песенки. Серия \"Когда цветут кактусы\"'], dtype=object)"
      ]
     },
     "execution_count": 203,
     "metadata": {},
     "output_type": "execute_result"
    }
   ],
   "source": [
    "movies_new['title'].unique()"
   ]
  },
  {
   "cell_type": "markdown",
   "metadata": {},
   "source": [
    "В названиях фильмов встречаются знаки препинания в конце наименований. Удалим эти точки."
   ]
  },
  {
   "cell_type": "code",
   "execution_count": 204,
   "metadata": {},
   "outputs": [],
   "source": [
    "movies_new['title'] = movies_new['title'].str.strip('.')"
   ]
  },
  {
   "cell_type": "markdown",
   "metadata": {},
   "source": [
    "Сгруппируем данные по наименованию фильмов и посмотрим какое количество дубликатов"
   ]
  },
  {
   "cell_type": "code",
   "execution_count": 205,
   "metadata": {},
   "outputs": [
    {
     "data": {
      "text/plain": [
       "title\n",
       "День святого Валентина_                                        5\n",
       "Кошки против собак: Месть Китти Галор                          4\n",
       "Форсаж 7                                                       4\n",
       "Начало_                                                        4\n",
       "Гарри Поттер и Дары Смерти - Часть 1/По роману Дж.К.Ролинг/    4\n",
       "dtype: int64"
      ]
     },
     "execution_count": 205,
     "metadata": {},
     "output_type": "execute_result"
    }
   ],
   "source": [
    "movies_new.value_counts('title').head()"
   ]
  },
  {
   "cell_type": "markdown",
   "metadata": {},
   "source": [
    "Так как у одного фильма может быть несколько прокатных удостоверений, то в таблице встречаются дубликаты по наименованию картины, удалим строки с повторяющимися значениями."
   ]
  },
  {
   "cell_type": "code",
   "execution_count": 206,
   "metadata": {},
   "outputs": [],
   "source": [
    "movies_new = movies_new.sort_values(by = 'box_office', ascending = False).drop_duplicates(subset=['title'])"
   ]
  },
  {
   "cell_type": "markdown",
   "metadata": {},
   "source": [
    "\n",
    "- Проверим есть ли скрытые дубликаты по столбцу **puNumber**"
   ]
  },
  {
   "cell_type": "code",
   "execution_count": 207,
   "metadata": {},
   "outputs": [
    {
     "data": {
      "text/plain": [
       "puNumber\n",
       "1811096      1\n",
       "121024817    1\n",
       "121025115    1\n",
       "121025114    1\n",
       "121025113    1\n",
       "dtype: int64"
      ]
     },
     "execution_count": 207,
     "metadata": {},
     "output_type": "execute_result"
    }
   ],
   "source": [
    "movies_new.value_counts('puNumber').head()"
   ]
  },
  {
   "cell_type": "markdown",
   "metadata": {},
   "source": [
    "После удаления неявных дубликатов в **title**, в столбце **puNumber** неявных дубликатов не осталось."
   ]
  },
  {
   "cell_type": "markdown",
   "metadata": {
    "id": "52fOPrEBgFyQ"
   },
   "source": [
    "#### Изучим категориальные значения"
   ]
  },
  {
   "cell_type": "markdown",
   "metadata": {},
   "source": [
    "- Выведем число уникальных значений в категориальных столбцах и проанализируем их."
   ]
  },
  {
   "cell_type": "code",
   "execution_count": 208,
   "metadata": {
    "scrolled": true
   },
   "outputs": [
    {
     "name": "stdout",
     "output_type": "stream",
     "text": [
      "Число уникальных значений в столбце type : 8\n",
      "Число уникальных значений в столбце producer : 5286\n",
      "Число уникальных значений в столбце film_studio : 5424\n",
      "Число уникальных значений в столбце production_country : 942\n",
      "Число уникальных значений в столбце director : 4776\n",
      "Число уникальных значений в столбце age_restriction : 5\n",
      "Число уникальных значений в столбце financing_source : 4\n",
      "Число уникальных значений в столбце genres : 743\n"
     ]
    }
   ],
   "source": [
    "#создадим список с названиями категориальных столбцов\n",
    "columns_category=['type', 'producer', 'film_studio', 'production_country', \n",
    "                  'director', 'age_restriction', 'financing_source','genres']\n",
    "for index in columns_category:\n",
    "    print('Число уникальных значений в столбце', index, ':', len(movies_new[index].unique()))"
   ]
  },
  {
   "cell_type": "markdown",
   "metadata": {},
   "source": [
    "Категориальные столбцы необходимы в аналитике для категоризации и анализа показателей по сформированным категориям. Столбцы type , age_restriction, financing_source имеют приемлемое количество уникальных значений( не более 8), по ним реально будем сформировать данные и проводить анализ. В остальных столбцах число уникальных значений превышает 700 шт. В столбце film_studio уникальных значений 5442. Это связано с тем, что над одним фильмом могли работать несколько стран, продюссеров и режиссеров, студий и тд. Анализ по таким категориям бесполезен. Поэтому для категоризации необходимо будет выделить из всего  значения основное(первое). Так в дальнейшем исследовании мы выделим главного режиссера и основной жанр картины."
   ]
  },
  {
   "cell_type": "markdown",
   "metadata": {},
   "source": [
    "- В датафрейме есть категориальные столбцы в значениях которых в начале или в конце есть пробелы, устраним их."
   ]
  },
  {
   "cell_type": "code",
   "execution_count": 209,
   "metadata": {},
   "outputs": [],
   "source": [
    "change_category = ['type', 'producer', 'film_studio', 'production_country', 'director']\n",
    "#создадим список с названиями столбцов, в которых нужно убрать пробелы\n",
    "\n",
    "for index in change_category:\n",
    "    movies_new[index] = movies_new[index].str.strip()"
   ]
  },
  {
   "cell_type": "markdown",
   "metadata": {
    "id": "XFSN5lrEgFyR"
   },
   "source": [
    "####  Проверим количественные значения"
   ]
  },
  {
   "cell_type": "markdown",
   "metadata": {},
   "source": [
    "- Рассмотрим столбец budget. Выделяются значения равные 0. Проанализируем их."
   ]
  },
  {
   "cell_type": "code",
   "execution_count": 210,
   "metadata": {
    "id": "YbzClBxagFyS",
    "scrolled": true
   },
   "outputs": [
    {
     "data": {
      "text/html": [
       "<div>\n",
       "<style scoped>\n",
       "    .dataframe tbody tr th:only-of-type {\n",
       "        vertical-align: middle;\n",
       "    }\n",
       "\n",
       "    .dataframe tbody tr th {\n",
       "        vertical-align: top;\n",
       "    }\n",
       "\n",
       "    .dataframe thead th {\n",
       "        text-align: right;\n",
       "    }\n",
       "</style>\n",
       "<table border=\"1\" class=\"dataframe\">\n",
       "  <thead>\n",
       "    <tr style=\"text-align: right;\">\n",
       "      <th></th>\n",
       "      <th>title</th>\n",
       "      <th>puNumber</th>\n",
       "      <th>show_start_date</th>\n",
       "      <th>type</th>\n",
       "      <th>film_studio</th>\n",
       "      <th>production_country</th>\n",
       "      <th>director</th>\n",
       "      <th>producer</th>\n",
       "      <th>age_restriction</th>\n",
       "      <th>refundable_support</th>\n",
       "      <th>nonrefundable_support</th>\n",
       "      <th>budget</th>\n",
       "      <th>financing_source</th>\n",
       "      <th>ratings</th>\n",
       "      <th>genres</th>\n",
       "      <th>box_office</th>\n",
       "    </tr>\n",
       "  </thead>\n",
       "  <tbody>\n",
       "    <tr>\n",
       "      <th>3564</th>\n",
       "      <td>Притяжение (2016)</td>\n",
       "      <td>111018116</td>\n",
       "      <td>2016-12-16 12:00:00</td>\n",
       "      <td>Художественный</td>\n",
       "      <td>ООО \"Водород 2011\",  ООО \"Арт Пикчерс Студия\"</td>\n",
       "      <td>Россия</td>\n",
       "      <td>Ф.Бондарчук</td>\n",
       "      <td>ООО \"Арт Пикчерс Студия\"</td>\n",
       "      <td>«12+» - для детей старше 12 лет</td>\n",
       "      <td>0.00</td>\n",
       "      <td>250000000.00</td>\n",
       "      <td>0.00</td>\n",
       "      <td>Фонд кино</td>\n",
       "      <td>5.60</td>\n",
       "      <td>фантастика</td>\n",
       "      <td>1038321489.00</td>\n",
       "    </tr>\n",
       "    <tr>\n",
       "      <th>2057</th>\n",
       "      <td>Дуxless 2</td>\n",
       "      <td>111000415</td>\n",
       "      <td>2015-01-26 12:00:00</td>\n",
       "      <td>Художественный</td>\n",
       "      <td>ООО \"Киностудия \"Слово\", ООО \"Арт Пикчерс Студия\"</td>\n",
       "      <td>Россия</td>\n",
       "      <td>Р.Прыгунов</td>\n",
       "      <td>П.Ануров, Ф.Бондарчук, Д.Рудовский</td>\n",
       "      <td>«16+» - для детей старше 16 лет</td>\n",
       "      <td>0.00</td>\n",
       "      <td>75000000.00</td>\n",
       "      <td>0.00</td>\n",
       "      <td>Фонд кино</td>\n",
       "      <td>6.60</td>\n",
       "      <td>драма</td>\n",
       "      <td>446163511.00</td>\n",
       "    </tr>\n",
       "    <tr>\n",
       "      <th>5672</th>\n",
       "      <td>Селфи</td>\n",
       "      <td>111012117</td>\n",
       "      <td>2018-02-01 12:00:00</td>\n",
       "      <td>Художественный</td>\n",
       "      <td>ООО \"Киностудия \"Слово\", ООО \"Арт Пикчерс Студия\"</td>\n",
       "      <td>Россия</td>\n",
       "      <td>Н.Хомерики</td>\n",
       "      <td>П.Ануров, Ф.Бондарчук, Д.Рудовский</td>\n",
       "      <td>«16+» - для детей старше 16 лет</td>\n",
       "      <td>20000000.00</td>\n",
       "      <td>40000000.00</td>\n",
       "      <td>0.00</td>\n",
       "      <td>Фонд кино</td>\n",
       "      <td>5.80</td>\n",
       "      <td>триллер,драма</td>\n",
       "      <td>225196400.03</td>\n",
       "    </tr>\n",
       "    <tr>\n",
       "      <th>2471</th>\n",
       "      <td>Воин (2015)</td>\n",
       "      <td>111017315</td>\n",
       "      <td>2015-09-28 12:00:00</td>\n",
       "      <td>Художественный</td>\n",
       "      <td>ООО \"Форпост Продакшн\", ООО \"Арт Пикчерс Студия\"</td>\n",
       "      <td>Россия</td>\n",
       "      <td>А.Андрианов</td>\n",
       "      <td>ООО \"Арт Пикчерс Студия\"</td>\n",
       "      <td>«12+» - для детей старше 12 лет</td>\n",
       "      <td>10000000.00</td>\n",
       "      <td>70000000.00</td>\n",
       "      <td>0.00</td>\n",
       "      <td>Фонд кино</td>\n",
       "      <td>7.80</td>\n",
       "      <td>боевик,драма,криминал</td>\n",
       "      <td>196572438.40</td>\n",
       "    </tr>\n",
       "    <tr>\n",
       "      <th>2614</th>\n",
       "      <td>Савва. Сердце воина</td>\n",
       "      <td>114001715</td>\n",
       "      <td>2015-07-21 12:00:00</td>\n",
       "      <td>Анимационный</td>\n",
       "      <td>ООО \"Глюкоза Продакшн\", ООО \"Арт Пикчерс Студия\"</td>\n",
       "      <td>Россия</td>\n",
       "      <td>М.Фадеев</td>\n",
       "      <td>А.Чистяков</td>\n",
       "      <td>«6+» - для детей старше 6 лет</td>\n",
       "      <td>60000000.00</td>\n",
       "      <td>100000000.00</td>\n",
       "      <td>0.00</td>\n",
       "      <td>Фонд кино</td>\n",
       "      <td>4.60</td>\n",
       "      <td>мультфильм,приключения,фэнтези</td>\n",
       "      <td>184487551.40</td>\n",
       "    </tr>\n",
       "    <tr>\n",
       "      <th>6822</th>\n",
       "      <td>Большое путешествие</td>\n",
       "      <td>114002419</td>\n",
       "      <td>2019-04-20 12:00:00</td>\n",
       "      <td>Анимационный</td>\n",
       "      <td>ООО \"ЛИЦЕНЗИОННЫЕ БРЕНДЫ\"</td>\n",
       "      <td>Россия</td>\n",
       "      <td>Н.Лопато, В.Ровенский</td>\n",
       "      <td>ООО \"ЛИЦЕНЗИОННЫЕ БРЕНДЫ\"</td>\n",
       "      <td>«6+» - для детей старше 6 лет</td>\n",
       "      <td>60000000.00</td>\n",
       "      <td>120000000.00</td>\n",
       "      <td>0.00</td>\n",
       "      <td>Фонд кино</td>\n",
       "      <td>6.20</td>\n",
       "      <td>мультфильм,комедия,приключения</td>\n",
       "      <td>147606826.51</td>\n",
       "    </tr>\n",
       "    <tr>\n",
       "      <th>5805</th>\n",
       "      <td>Два хвоста</td>\n",
       "      <td>114001018</td>\n",
       "      <td>2018-05-31 12:00:00</td>\n",
       "      <td>Анимационный</td>\n",
       "      <td>ООО \"ЛИЦЕНЗИОННЫЕ БРЕНДЫ\"</td>\n",
       "      <td>Россия</td>\n",
       "      <td>В.Ровенский, Н.Лопато, В.Азеев</td>\n",
       "      <td>ООО \"ЛИЦЕНЗИОННЫЕ БРЕНДЫ\"</td>\n",
       "      <td>«6+» - для детей старше 6 лет</td>\n",
       "      <td>10000000.00</td>\n",
       "      <td>60000000.00</td>\n",
       "      <td>0.00</td>\n",
       "      <td>Фонд кино</td>\n",
       "      <td>5.00</td>\n",
       "      <td>мультфильм,детский</td>\n",
       "      <td>106514301.03</td>\n",
       "    </tr>\n",
       "    <tr>\n",
       "      <th>6007</th>\n",
       "      <td>Принцесса и дракон</td>\n",
       "      <td>114003018</td>\n",
       "      <td>2018-08-23 12:00:00</td>\n",
       "      <td>Анимационный</td>\n",
       "      <td>ООО \"ЛИЦЕНЗИОННЫЕ БРЕНДЫ\"</td>\n",
       "      <td>Россия</td>\n",
       "      <td>М.Нефедова</td>\n",
       "      <td>ООО \"ЛИЦЕНЗИОННЫЕ БРЕНДЫ\"</td>\n",
       "      <td>«6+» - для детей старше 6 лет</td>\n",
       "      <td>40000000.00</td>\n",
       "      <td>40000000.00</td>\n",
       "      <td>0.00</td>\n",
       "      <td>Фонд кино</td>\n",
       "      <td>5.20</td>\n",
       "      <td>мультфильм,фэнтези,детский</td>\n",
       "      <td>83366328.66</td>\n",
       "    </tr>\n",
       "    <tr>\n",
       "      <th>2787</th>\n",
       "      <td>Срочно выйду замуж</td>\n",
       "      <td>111017115</td>\n",
       "      <td>2015-09-30 12:00:00</td>\n",
       "      <td>Художественный</td>\n",
       "      <td>АО \"ВайТ Медиа\", ООО \"Арт Пикчерс Студия\"</td>\n",
       "      <td>Россия</td>\n",
       "      <td>С Чекалов</td>\n",
       "      <td>Ф.Бондарчук, Т.Вайнштейн, Д.Рудовский</td>\n",
       "      <td>«16+» - для детей старше 16 лет</td>\n",
       "      <td>0.00</td>\n",
       "      <td>35000000.00</td>\n",
       "      <td>0.00</td>\n",
       "      <td>Фонд кино</td>\n",
       "      <td>5.10</td>\n",
       "      <td>комедия,мелодрама</td>\n",
       "      <td>72937783.20</td>\n",
       "    </tr>\n",
       "    <tr>\n",
       "      <th>3046</th>\n",
       "      <td>Любовь с ограничениями</td>\n",
       "      <td>111008216</td>\n",
       "      <td>2016-04-29 12:00:00</td>\n",
       "      <td>Художественный</td>\n",
       "      <td>АО \"ВайТ Медиа\", ООО \"Арт Пикчерс Студия\"</td>\n",
       "      <td>Россия</td>\n",
       "      <td>Д.Тюрин</td>\n",
       "      <td>Ф.Бондарчук, Т.Вайнштейн, Д.Рудовский</td>\n",
       "      <td>«16+» - для детей старше 16 лет</td>\n",
       "      <td>19000000.00</td>\n",
       "      <td>51000000.00</td>\n",
       "      <td>0.00</td>\n",
       "      <td>Фонд кино</td>\n",
       "      <td>6.30</td>\n",
       "      <td>комедия,мелодрама</td>\n",
       "      <td>70299052.00</td>\n",
       "    </tr>\n",
       "    <tr>\n",
       "      <th>2531</th>\n",
       "      <td>Бармен</td>\n",
       "      <td>111009615</td>\n",
       "      <td>2015-05-26 12:00:00</td>\n",
       "      <td>Художественный</td>\n",
       "      <td>АО \"ВайТ Медиа\", ООО \"Арт Пикчерс Студия\"</td>\n",
       "      <td>Россия</td>\n",
       "      <td>Д.Штурманова</td>\n",
       "      <td>Т.Вайнштейн</td>\n",
       "      <td>«16+» - для детей старше 16 лет</td>\n",
       "      <td>20000000.00</td>\n",
       "      <td>0.00</td>\n",
       "      <td>0.00</td>\n",
       "      <td>Фонд кино</td>\n",
       "      <td>6.20</td>\n",
       "      <td>комедия,фэнтези</td>\n",
       "      <td>67418974.80</td>\n",
       "    </tr>\n",
       "    <tr>\n",
       "      <th>3674</th>\n",
       "      <td>Чудо-юдо</td>\n",
       "      <td>114001817</td>\n",
       "      <td>2017-06-27 12:00:00</td>\n",
       "      <td>Анимационный</td>\n",
       "      <td>ООО \"КиноФирма\"</td>\n",
       "      <td>Россия</td>\n",
       "      <td>А.Лукичев</td>\n",
       "      <td>ООО \"КиноФирма\"</td>\n",
       "      <td>«6+» - для детей старше 6 лет</td>\n",
       "      <td>20000000.00</td>\n",
       "      <td>20000000.00</td>\n",
       "      <td>0.00</td>\n",
       "      <td>Фонд кино</td>\n",
       "      <td>5.20</td>\n",
       "      <td>мультфильм,фэнтези,семейный</td>\n",
       "      <td>55108014.76</td>\n",
       "    </tr>\n",
       "    <tr>\n",
       "      <th>3738</th>\n",
       "      <td>Мифы</td>\n",
       "      <td>111004317</td>\n",
       "      <td>2017-06-07 12:00:00</td>\n",
       "      <td>Художественный</td>\n",
       "      <td>ООО \"ХАЙПФИЛМ\", ООО \"Арт Пикчерс Студия\"</td>\n",
       "      <td>Россия</td>\n",
       "      <td>А.Молочников</td>\n",
       "      <td>Ф.Бондарчук, Д.Рудовский, И.Стюарт, М.Османн, ...</td>\n",
       "      <td>«16+» - для детей старше 16 лет</td>\n",
       "      <td>25000000.00</td>\n",
       "      <td>20000000.00</td>\n",
       "      <td>0.00</td>\n",
       "      <td>Фонд кино</td>\n",
       "      <td>4.80</td>\n",
       "      <td>комедия</td>\n",
       "      <td>50451949.00</td>\n",
       "    </tr>\n",
       "    <tr>\n",
       "      <th>2873</th>\n",
       "      <td>Помню - не помню!</td>\n",
       "      <td>111004916</td>\n",
       "      <td>2016-03-01 12:00:00</td>\n",
       "      <td>Художественный</td>\n",
       "      <td>ООО \"КиноФирма\"</td>\n",
       "      <td>Россия</td>\n",
       "      <td>В.Ровенский</td>\n",
       "      <td>ООО \"КиноФирма\"</td>\n",
       "      <td>«12+» - для детей старше 12 лет</td>\n",
       "      <td>0.00</td>\n",
       "      <td>6000000.00</td>\n",
       "      <td>0.00</td>\n",
       "      <td>Министерство культуры</td>\n",
       "      <td>4.30</td>\n",
       "      <td>комедия</td>\n",
       "      <td>15362931.43</td>\n",
       "    </tr>\n",
       "    <tr>\n",
       "      <th>2052</th>\n",
       "      <td>14+</td>\n",
       "      <td>111023614</td>\n",
       "      <td>2014-12-19 12:00:00</td>\n",
       "      <td>Художественный</td>\n",
       "      <td>ООО Киностудия  \"Сентябрь\"</td>\n",
       "      <td>Россия</td>\n",
       "      <td>А.Зайцев</td>\n",
       "      <td>О.Гранина, А.Зайцев</td>\n",
       "      <td>«16+» - для детей старше 16 лет</td>\n",
       "      <td>0.00</td>\n",
       "      <td>23000000.00</td>\n",
       "      <td>0.00</td>\n",
       "      <td>Министерство культуры, Фонд кино</td>\n",
       "      <td>6.60</td>\n",
       "      <td>мелодрама</td>\n",
       "      <td>10234016.10</td>\n",
       "    </tr>\n",
       "    <tr>\n",
       "      <th>2683</th>\n",
       "      <td>Тряпичный союз</td>\n",
       "      <td>111010215</td>\n",
       "      <td>2015-06-08 12:00:00</td>\n",
       "      <td>Художественный</td>\n",
       "      <td>ООО \"Кинокомпания \"КОКТЕБЕЛЬ\"</td>\n",
       "      <td>Россия</td>\n",
       "      <td>М.Местецкий</td>\n",
       "      <td>Р.Борисевич, А.Кушаев</td>\n",
       "      <td>«18+» - запрещено для детей</td>\n",
       "      <td>0.00</td>\n",
       "      <td>59000000.00</td>\n",
       "      <td>0.00</td>\n",
       "      <td>Фонд кино</td>\n",
       "      <td>6.30</td>\n",
       "      <td>комедия,драма</td>\n",
       "      <td>1957738.51</td>\n",
       "    </tr>\n",
       "    <tr>\n",
       "      <th>6322</th>\n",
       "      <td>Баба Яга</td>\n",
       "      <td>114006518</td>\n",
       "      <td>2018-11-08 12:00:00</td>\n",
       "      <td>Анимационный</td>\n",
       "      <td>ООО \"Арт Пикчерс Студия\"</td>\n",
       "      <td>Россия</td>\n",
       "      <td>В.Саков</td>\n",
       "      <td>ООО \"Арт Пикчерс Студия\", ООО \"КРИЭЙТИВ АНИМЭЙ...</td>\n",
       "      <td>«6+» - для детей старше 6 лет</td>\n",
       "      <td>0.00</td>\n",
       "      <td>138969465.00</td>\n",
       "      <td>0.00</td>\n",
       "      <td>Фонд кино</td>\n",
       "      <td>NaN</td>\n",
       "      <td>unknow</td>\n",
       "      <td>1334699.40</td>\n",
       "    </tr>\n",
       "  </tbody>\n",
       "</table>\n",
       "</div>"
      ],
      "text/plain": [
       "                       title   puNumber     show_start_date            type  \\\n",
       "3564       Притяжение (2016)  111018116 2016-12-16 12:00:00  Художественный   \n",
       "2057               Дуxless 2  111000415 2015-01-26 12:00:00  Художественный   \n",
       "5672                   Селфи  111012117 2018-02-01 12:00:00  Художественный   \n",
       "2471             Воин (2015)  111017315 2015-09-28 12:00:00  Художественный   \n",
       "2614     Савва. Сердце воина  114001715 2015-07-21 12:00:00    Анимационный   \n",
       "6822     Большое путешествие  114002419 2019-04-20 12:00:00    Анимационный   \n",
       "5805              Два хвоста  114001018 2018-05-31 12:00:00    Анимационный   \n",
       "6007      Принцесса и дракон  114003018 2018-08-23 12:00:00    Анимационный   \n",
       "2787      Срочно выйду замуж  111017115 2015-09-30 12:00:00  Художественный   \n",
       "3046  Любовь с ограничениями  111008216 2016-04-29 12:00:00  Художественный   \n",
       "2531                  Бармен  111009615 2015-05-26 12:00:00  Художественный   \n",
       "3674                Чудо-юдо  114001817 2017-06-27 12:00:00    Анимационный   \n",
       "3738                    Мифы  111004317 2017-06-07 12:00:00  Художественный   \n",
       "2873       Помню - не помню!  111004916 2016-03-01 12:00:00  Художественный   \n",
       "2052                     14+  111023614 2014-12-19 12:00:00  Художественный   \n",
       "2683          Тряпичный союз  111010215 2015-06-08 12:00:00  Художественный   \n",
       "6322                Баба Яга  114006518 2018-11-08 12:00:00    Анимационный   \n",
       "\n",
       "                                            film_studio production_country  \\\n",
       "3564      ООО \"Водород 2011\",  ООО \"Арт Пикчерс Студия\"             Россия   \n",
       "2057  ООО \"Киностудия \"Слово\", ООО \"Арт Пикчерс Студия\"             Россия   \n",
       "5672  ООО \"Киностудия \"Слово\", ООО \"Арт Пикчерс Студия\"             Россия   \n",
       "2471   ООО \"Форпост Продакшн\", ООО \"Арт Пикчерс Студия\"             Россия   \n",
       "2614   ООО \"Глюкоза Продакшн\", ООО \"Арт Пикчерс Студия\"             Россия   \n",
       "6822                          ООО \"ЛИЦЕНЗИОННЫЕ БРЕНДЫ\"             Россия   \n",
       "5805                          ООО \"ЛИЦЕНЗИОННЫЕ БРЕНДЫ\"             Россия   \n",
       "6007                          ООО \"ЛИЦЕНЗИОННЫЕ БРЕНДЫ\"             Россия   \n",
       "2787          АО \"ВайТ Медиа\", ООО \"Арт Пикчерс Студия\"             Россия   \n",
       "3046          АО \"ВайТ Медиа\", ООО \"Арт Пикчерс Студия\"             Россия   \n",
       "2531          АО \"ВайТ Медиа\", ООО \"Арт Пикчерс Студия\"             Россия   \n",
       "3674                                    ООО \"КиноФирма\"             Россия   \n",
       "3738           ООО \"ХАЙПФИЛМ\", ООО \"Арт Пикчерс Студия\"             Россия   \n",
       "2873                                    ООО \"КиноФирма\"             Россия   \n",
       "2052                         ООО Киностудия  \"Сентябрь\"             Россия   \n",
       "2683                      ООО \"Кинокомпания \"КОКТЕБЕЛЬ\"             Россия   \n",
       "6322                           ООО \"Арт Пикчерс Студия\"             Россия   \n",
       "\n",
       "                            director  \\\n",
       "3564                     Ф.Бондарчук   \n",
       "2057                      Р.Прыгунов   \n",
       "5672                      Н.Хомерики   \n",
       "2471                     А.Андрианов   \n",
       "2614                        М.Фадеев   \n",
       "6822           Н.Лопато, В.Ровенский   \n",
       "5805  В.Ровенский, Н.Лопато, В.Азеев   \n",
       "6007                      М.Нефедова   \n",
       "2787                       С Чекалов   \n",
       "3046                         Д.Тюрин   \n",
       "2531                    Д.Штурманова   \n",
       "3674                       А.Лукичев   \n",
       "3738                    А.Молочников   \n",
       "2873                     В.Ровенский   \n",
       "2052                        А.Зайцев   \n",
       "2683                     М.Местецкий   \n",
       "6322                         В.Саков   \n",
       "\n",
       "                                               producer  \\\n",
       "3564                           ООО \"Арт Пикчерс Студия\"   \n",
       "2057                 П.Ануров, Ф.Бондарчук, Д.Рудовский   \n",
       "5672                 П.Ануров, Ф.Бондарчук, Д.Рудовский   \n",
       "2471                           ООО \"Арт Пикчерс Студия\"   \n",
       "2614                                         А.Чистяков   \n",
       "6822                          ООО \"ЛИЦЕНЗИОННЫЕ БРЕНДЫ\"   \n",
       "5805                          ООО \"ЛИЦЕНЗИОННЫЕ БРЕНДЫ\"   \n",
       "6007                          ООО \"ЛИЦЕНЗИОННЫЕ БРЕНДЫ\"   \n",
       "2787              Ф.Бондарчук, Т.Вайнштейн, Д.Рудовский   \n",
       "3046              Ф.Бондарчук, Т.Вайнштейн, Д.Рудовский   \n",
       "2531                                        Т.Вайнштейн   \n",
       "3674                                    ООО \"КиноФирма\"   \n",
       "3738  Ф.Бондарчук, Д.Рудовский, И.Стюарт, М.Османн, ...   \n",
       "2873                                    ООО \"КиноФирма\"   \n",
       "2052                                О.Гранина, А.Зайцев   \n",
       "2683                              Р.Борисевич, А.Кушаев   \n",
       "6322  ООО \"Арт Пикчерс Студия\", ООО \"КРИЭЙТИВ АНИМЭЙ...   \n",
       "\n",
       "                      age_restriction  refundable_support  \\\n",
       "3564  «12+» - для детей старше 12 лет                0.00   \n",
       "2057  «16+» - для детей старше 16 лет                0.00   \n",
       "5672  «16+» - для детей старше 16 лет         20000000.00   \n",
       "2471  «12+» - для детей старше 12 лет         10000000.00   \n",
       "2614    «6+» - для детей старше 6 лет         60000000.00   \n",
       "6822    «6+» - для детей старше 6 лет         60000000.00   \n",
       "5805    «6+» - для детей старше 6 лет         10000000.00   \n",
       "6007    «6+» - для детей старше 6 лет         40000000.00   \n",
       "2787  «16+» - для детей старше 16 лет                0.00   \n",
       "3046  «16+» - для детей старше 16 лет         19000000.00   \n",
       "2531  «16+» - для детей старше 16 лет         20000000.00   \n",
       "3674    «6+» - для детей старше 6 лет         20000000.00   \n",
       "3738  «16+» - для детей старше 16 лет         25000000.00   \n",
       "2873  «12+» - для детей старше 12 лет                0.00   \n",
       "2052  «16+» - для детей старше 16 лет                0.00   \n",
       "2683      «18+» - запрещено для детей                0.00   \n",
       "6322    «6+» - для детей старше 6 лет                0.00   \n",
       "\n",
       "      nonrefundable_support  budget                  financing_source  \\\n",
       "3564           250000000.00    0.00                         Фонд кино   \n",
       "2057            75000000.00    0.00                         Фонд кино   \n",
       "5672            40000000.00    0.00                         Фонд кино   \n",
       "2471            70000000.00    0.00                         Фонд кино   \n",
       "2614           100000000.00    0.00                         Фонд кино   \n",
       "6822           120000000.00    0.00                         Фонд кино   \n",
       "5805            60000000.00    0.00                         Фонд кино   \n",
       "6007            40000000.00    0.00                         Фонд кино   \n",
       "2787            35000000.00    0.00                         Фонд кино   \n",
       "3046            51000000.00    0.00                         Фонд кино   \n",
       "2531                   0.00    0.00                         Фонд кино   \n",
       "3674            20000000.00    0.00                         Фонд кино   \n",
       "3738            20000000.00    0.00                         Фонд кино   \n",
       "2873             6000000.00    0.00             Министерство культуры   \n",
       "2052            23000000.00    0.00  Министерство культуры, Фонд кино   \n",
       "2683            59000000.00    0.00                         Фонд кино   \n",
       "6322           138969465.00    0.00                         Фонд кино   \n",
       "\n",
       "      ratings                          genres    box_office  \n",
       "3564     5.60                      фантастика 1038321489.00  \n",
       "2057     6.60                           драма  446163511.00  \n",
       "5672     5.80                   триллер,драма  225196400.03  \n",
       "2471     7.80           боевик,драма,криминал  196572438.40  \n",
       "2614     4.60  мультфильм,приключения,фэнтези  184487551.40  \n",
       "6822     6.20  мультфильм,комедия,приключения  147606826.51  \n",
       "5805     5.00              мультфильм,детский  106514301.03  \n",
       "6007     5.20      мультфильм,фэнтези,детский   83366328.66  \n",
       "2787     5.10               комедия,мелодрама   72937783.20  \n",
       "3046     6.30               комедия,мелодрама   70299052.00  \n",
       "2531     6.20                 комедия,фэнтези   67418974.80  \n",
       "3674     5.20     мультфильм,фэнтези,семейный   55108014.76  \n",
       "3738     4.80                         комедия   50451949.00  \n",
       "2873     4.30                         комедия   15362931.43  \n",
       "2052     6.60                       мелодрама   10234016.10  \n",
       "2683     6.30                   комедия,драма    1957738.51  \n",
       "6322      NaN                          unknow    1334699.40  "
      ]
     },
     "execution_count": 210,
     "metadata": {},
     "output_type": "execute_result"
    }
   ],
   "source": [
    "movies_new[movies_new['budget'] == 0]"
   ]
  },
  {
   "cell_type": "markdown",
   "metadata": {},
   "source": [
    "В таблице 17 фильмов с значением 0 в столбце Бюджет, но значения в столбцах с объёмом возвратных и невозвратных средств государственной поддержки заполнены, значит бюджетные средства выделялись. Возможно общий бюджет данных фильмов не публичная информация. Заполнить данные значения суммой из столбцов refundable_support и  nunrefundable_support, считаю некорректным, тк при анализе даст ложный результат о доле гос поддержки от общего бюджета. Оставить данные в исходном виде так же не стоит, тк будет невозможен анализ результатов с нулевым бюджетом. В исходных данных 327 фильмов с гос поддеркжой, аномальные данные составляют 5%, считаю необходимым очистить датафрейм от аномальных данных."
   ]
  },
  {
   "cell_type": "code",
   "execution_count": 211,
   "metadata": {},
   "outputs": [],
   "source": [
    "movies_new = movies_new[movies_new['budget'] != 0]"
   ]
  },
  {
   "cell_type": "markdown",
   "metadata": {},
   "source": [
    "- Проанализируем столбцы с количественными значениями и проверим их на наличие аномальных значений"
   ]
  },
  {
   "cell_type": "markdown",
   "metadata": {},
   "source": [
    "Общий бюджет:"
   ]
  },
  {
   "cell_type": "code",
   "execution_count": 212,
   "metadata": {},
   "outputs": [
    {
     "data": {
      "text/plain": [
       "count          313.00\n",
       "mean     131735130.80\n",
       "std      186219503.52\n",
       "min       14462464.00\n",
       "25%       46153846.00\n",
       "50%       73379554.00\n",
       "75%      150000000.00\n",
       "max     2305074303.00\n",
       "Name: budget, dtype: float64"
      ]
     },
     "execution_count": 212,
     "metadata": {},
     "output_type": "execute_result"
    }
   ],
   "source": [
    "movies_new['budget'].describe()# посмотрим характеристики распределения в столбце budget"
   ]
  },
  {
   "cell_type": "code",
   "execution_count": 213,
   "metadata": {},
   "outputs": [
    {
     "data": {
      "image/png": "[encoded data removed]",
      "text/plain": [
       "<Figure size 432x288 with 1 Axes>"
      ]
     },
     "metadata": {
      "needs_background": "light"
     },
     "output_type": "display_data"
    }
   ],
   "source": [
    "movies_new.boxplot('budget');"
   ]
  },
  {
   "cell_type": "markdown",
   "metadata": {},
   "source": [
    "Среднее и медианное значения различаются почти в 2 раза, значит в стобце присутствуют аномальные показатели, по диаграмме размаза видим, что существует аномально большие значения. Есть несколько выбросов в бюджетом более 1млр руб. При дальнейшем исследовании средних и медианных значений стоит очистить данные от выброса для более точного анализа."
   ]
  },
  {
   "cell_type": "markdown",
   "metadata": {},
   "source": [
    "Объём возвратных средств государственной поддержки:"
   ]
  },
  {
   "cell_type": "code",
   "execution_count": 214,
   "metadata": {},
   "outputs": [
    {
     "data": {
      "text/plain": [
       "count         313.00\n",
       "mean     11334355.01\n",
       "std      24728011.29\n",
       "min             0.00\n",
       "25%             0.00\n",
       "50%             0.00\n",
       "75%      10000000.00\n",
       "max     180000000.00\n",
       "Name: refundable_support, dtype: float64"
      ]
     },
     "execution_count": 214,
     "metadata": {},
     "output_type": "execute_result"
    }
   ],
   "source": [
    "movies_new['refundable_support'].describe()"
   ]
  },
  {
   "cell_type": "code",
   "execution_count": 215,
   "metadata": {},
   "outputs": [
    {
     "data": {
      "image/png": "[encoded data removed]",
      "text/plain": [
       "<Figure size 432x288 with 1 Axes>"
      ]
     },
     "metadata": {
      "needs_background": "light"
     },
     "output_type": "display_data"
    }
   ],
   "source": [
    "movies_new.boxplot('refundable_support');"
   ]
  },
  {
   "cell_type": "code",
   "execution_count": 216,
   "metadata": {},
   "outputs": [
    {
     "data": {
      "image/png": "[encoded data removed]",
      "text/plain": [
       "<Figure size 432x288 with 1 Axes>"
      ]
     },
     "metadata": {
      "needs_background": "light"
     },
     "output_type": "display_data"
    }
   ],
   "source": [
    "movies_new.hist('refundable_support', range=(0,60000000));"
   ]
  },
  {
   "cell_type": "markdown",
   "metadata": {},
   "source": [
    "Более 50% значений в столбце равны нулю. А среднее значение равное 10793760 руб. по столбцу практически равно третьему квартилю. Всего 25% фильмов имеют более 10000000 руб. возвратных средств государственной поддержки."
   ]
  },
  {
   "cell_type": "markdown",
   "metadata": {},
   "source": [
    "Объём невозвратных средств государственной поддержки:"
   ]
  },
  {
   "cell_type": "code",
   "execution_count": 217,
   "metadata": {},
   "outputs": [
    {
     "data": {
      "text/plain": [
       "count         313.00\n",
       "mean     47040635.29\n",
       "std      56659163.96\n",
       "min             0.00\n",
       "25%      25000000.00\n",
       "50%      30000000.00\n",
       "75%      40000000.00\n",
       "max     400000000.00\n",
       "Name: nonrefundable_support, dtype: float64"
      ]
     },
     "execution_count": 217,
     "metadata": {},
     "output_type": "execute_result"
    }
   ],
   "source": [
    "movies_new['nonrefundable_support'].describe()"
   ]
  },
  {
   "cell_type": "code",
   "execution_count": 218,
   "metadata": {},
   "outputs": [
    {
     "data": {
      "image/png": "[encoded data removed]",
      "text/plain": [
       "<Figure size 432x288 with 1 Axes>"
      ]
     },
     "metadata": {
      "needs_background": "light"
     },
     "output_type": "display_data"
    }
   ],
   "source": [
    "movies_new.boxplot('nonrefundable_support');"
   ]
  },
  {
   "cell_type": "code",
   "execution_count": 219,
   "metadata": {},
   "outputs": [
    {
     "data": {
      "image/png": "[encoded data removed]",
      "text/plain": [
       "<Figure size 432x288 with 1 Axes>"
      ]
     },
     "metadata": {
      "needs_background": "light"
     },
     "output_type": "display_data"
    }
   ],
   "source": [
    "movies_new.hist('nonrefundable_support', bins=30);"
   ]
  },
  {
   "cell_type": "markdown",
   "metadata": {},
   "source": [
    "По данному столбцу медиана и среднее  более близки к одинаковому значению, но имеются выбросы, так есть несколько фильмов с аномально большим объёмом невозвратных средств государственной поддержки, превыщающей 300 млн руб. Более 130 фильмов имеют 25 млн рублей невозвратных средств."
   ]
  },
  {
   "cell_type": "markdown",
   "metadata": {},
   "source": [
    "Рейтинг фильма на КиноПоиске:"
   ]
  },
  {
   "cell_type": "code",
   "execution_count": 220,
   "metadata": {},
   "outputs": [
    {
     "data": {
      "text/plain": [
       "count   5722.00\n",
       "mean       6.45\n",
       "std        1.11\n",
       "min        1.00\n",
       "25%        5.80\n",
       "50%        6.60\n",
       "75%        7.20\n",
       "max        9.20\n",
       "Name: ratings, dtype: float64"
      ]
     },
     "execution_count": 220,
     "metadata": {},
     "output_type": "execute_result"
    }
   ],
   "source": [
    "movies_new['ratings'].describe()"
   ]
  },
  {
   "cell_type": "code",
   "execution_count": 221,
   "metadata": {},
   "outputs": [
    {
     "data": {
      "image/png": "[encoded data removed]",
      "text/plain": [
       "<Figure size 432x288 with 1 Axes>"
      ]
     },
     "metadata": {
      "needs_background": "light"
     },
     "output_type": "display_data"
    }
   ],
   "source": [
    "movies_new.hist('ratings', range=(1,10));"
   ]
  },
  {
   "cell_type": "code",
   "execution_count": 222,
   "metadata": {},
   "outputs": [
    {
     "data": {
      "image/png": "[encoded data removed]",
      "text/plain": [
       "<Figure size 432x288 with 1 Axes>"
      ]
     },
     "metadata": {
      "needs_background": "light"
     },
     "output_type": "display_data"
    }
   ],
   "source": [
    "movies_new.boxplot('ratings');"
   ]
  },
  {
   "cell_type": "markdown",
   "metadata": {},
   "source": [
    "Почти 2000 получили оценку в районе 7 баллов. Максимальные десять баллов не получил ни один фильм.Так же редкие фильмы получают оценку более 8ми баллов. В данных встречаются аномально низкие зачение рейтинга, ниже 3,8 баллов."
   ]
  },
  {
   "cell_type": "markdown",
   "metadata": {},
   "source": [
    "Сборы с проката в рублях:"
   ]
  },
  {
   "cell_type": "code",
   "execution_count": 223,
   "metadata": {},
   "outputs": [
    {
     "data": {
      "text/plain": [
       "count         3104.00\n",
       "mean      76909012.83\n",
       "std      241536008.43\n",
       "min              0.00\n",
       "25%         102406.25\n",
       "50%        2402285.00\n",
       "75%       23989289.27\n",
       "max     3073568690.79\n",
       "Name: box_office, dtype: float64"
      ]
     },
     "execution_count": 223,
     "metadata": {},
     "output_type": "execute_result"
    }
   ],
   "source": [
    "movies_new['box_office'].describe()"
   ]
  },
  {
   "cell_type": "code",
   "execution_count": 224,
   "metadata": {
    "scrolled": true
   },
   "outputs": [
    {
     "data": {
      "image/png": "[encoded data removed]",
      "text/plain": [
       "<Figure size 432x288 with 1 Axes>"
      ]
     },
     "metadata": {
      "needs_background": "light"
     },
     "output_type": "display_data"
    }
   ],
   "source": [
    "movies_new.boxplot('box_office');"
   ]
  },
  {
   "cell_type": "code",
   "execution_count": 225,
   "metadata": {},
   "outputs": [
    {
     "data": {
      "image/png": "[encoded data removed]",
      "text/plain": [
       "<Figure size 432x288 with 1 Axes>"
      ]
     },
     "metadata": {
      "needs_background": "light"
     },
     "output_type": "display_data"
    }
   ],
   "source": [
    "movies_new.hist('box_office', bins=50, range=(0,10000000));"
   ]
  },
  {
   "cell_type": "markdown",
   "metadata": {},
   "source": [
    "Разброс значений в данном столбце слишком большой. Так 25% фильмов не набрали и 130 000 рублей. В то же время встречаются аномально большие значения, шесть фильмов собрали более 2 млрд рублей.\n",
    "\n",
    "\n",
    "\n",
    "**По всем количественным столбцам можно сделать вывод что в каждом из них встречаются аномально большие или малые значения. Этот факт необходимо учесть в дальнейшем исследовании и при анализе средних показателей избавляться от аномальных значений и выбросов.**"
   ]
  },
  {
   "cell_type": "markdown",
   "metadata": {
    "id": "Eu6oWp2CgFyS"
   },
   "source": [
    "####  Добавим новые столбцы\n",
    "\n",
    "\n",
    "\n"
   ]
  },
  {
   "cell_type": "markdown",
   "metadata": {
    "id": "7GgW-UpAgFyS"
   },
   "source": [
    "- Создадим столбец с информацией о годе проката. Выделим год из даты премьеры фильма."
   ]
  },
  {
   "cell_type": "code",
   "execution_count": 226,
   "metadata": {
    "id": "I-yd1DkWgFyT",
    "scrolled": true
   },
   "outputs": [],
   "source": [
    "movies_new['years_show'] = movies_new['show_start_date'].dt.year"
   ]
  },
  {
   "cell_type": "markdown",
   "metadata": {
    "id": "nFTDLDYOgFyT"
   },
   "source": [
    "- Создадим два столбца: с именем и фамилией главного режиссёра и основным жанром фильма. В столбцы войдут первые значения из списка режиссёров и жанров соответственно.\n"
   ]
  },
  {
   "cell_type": "code",
   "execution_count": 227,
   "metadata": {
    "id": "LSbRZKbMgFyU",
    "scrolled": true
   },
   "outputs": [],
   "source": [
    "#создадим функцию, которая: \n",
    "def clean(name):\n",
    "    split_name = name.split(',') #разделит в каждой ячейке слова запятой и к каждому слову станет можно обратиться по индексу\n",
    "    split = split_name[0] #сохранит первое значение в ячейке в переменную\n",
    "    return split          #вернет эту переменную в новый столбец соответственно"
   ]
  },
  {
   "cell_type": "code",
   "execution_count": 228,
   "metadata": {},
   "outputs": [],
   "source": [
    "# применим функцию к столбцу director и сохраним в новый столбцец имя главного режиссера\n",
    "movies_new['main_director'] = movies_new['director'].apply(clean) \n",
    "\n",
    "# применим функцию к столбцу genres и сохраним в новый столбцец основной жанр фильма\n",
    "movies_new['main_genres'] = movies_new['genres'].apply(clean)"
   ]
  },
  {
   "cell_type": "markdown",
   "metadata": {
    "id": "1FsCXHwdgFyU"
   },
   "source": [
    "- Посчитаем, какую долю от общего бюджета фильма составляет государственная поддержка."
   ]
  },
  {
   "cell_type": "code",
   "execution_count": 229,
   "metadata": {},
   "outputs": [
    {
     "data": {
      "image/png": "[encoded data removed]",
      "text/plain": [
       "<Figure size 432x288 with 1 Axes>"
      ]
     },
     "metadata": {
      "needs_background": "light"
     },
     "output_type": "display_data"
    }
   ],
   "source": [
    "movies_new['ratio_support'] = (movies_new['refundable_support'] + movies_new['nonrefundable_support']) / movies_new['budget']\n",
    "\n",
    "movies_new.hist('ratio_support');"
   ]
  },
  {
   "cell_type": "markdown",
   "metadata": {},
   "source": [
    "У Основой части фильмов  65%-70% средств это средства выделенные государством."
   ]
  },
  {
   "cell_type": "markdown",
   "metadata": {},
   "source": [
    "- Добавим столбец с общей суммой государственной поддержки"
   ]
  },
  {
   "cell_type": "code",
   "execution_count": 230,
   "metadata": {},
   "outputs": [],
   "source": [
    "movies_new['total_support'] = movies_new['refundable_support'] + movies_new['nonrefundable_support']"
   ]
  },
  {
   "cell_type": "markdown",
   "metadata": {},
   "source": [
    "- Создадим столбец **profit**, в котором отразим прибыльность фильмов."
   ]
  },
  {
   "cell_type": "code",
   "execution_count": 231,
   "metadata": {},
   "outputs": [],
   "source": [
    "#рассчитаем разность между доходами и расходами\n",
    "movies_new['profit'] = movies_new['box_office'] - movies_new['budget']"
   ]
  },
  {
   "cell_type": "markdown",
   "metadata": {
    "id": "6t4EukPLgFyV"
   },
   "source": [
    "### Исследовательский анализ данных\n"
   ]
  },
  {
   "cell_type": "markdown",
   "metadata": {
    "id": "vAH8WCzugFyV"
   },
   "source": [
    "- Посмотрим, сколько фильмов выходило в прокат каждый год. Данные о прокате в кинотеатрах известны не для всех фильмов. Посчитаем, какую долю составляют фильмы с указанной информацией о прокате в кинотеатрах."
   ]
  },
  {
   "cell_type": "markdown",
   "metadata": {},
   "source": [
    "Создадим новый столбец **box**, в котором будет отражены информации о наличии значений о прокате."
   ]
  },
  {
   "cell_type": "code",
   "execution_count": 232,
   "metadata": {},
   "outputs": [],
   "source": [
    "movies_new['box'] = movies_new['box_office'] > 0"
   ]
  },
  {
   "cell_type": "markdown",
   "metadata": {},
   "source": [
    "С помощью сводной таблицы сгруппируем данные о количестве фильмов вышедших в прокат за каждый год."
   ]
  },
  {
   "cell_type": "code",
   "execution_count": 233,
   "metadata": {
    "id": "ABeV47y7gFyW"
   },
   "outputs": [
    {
     "data": {
      "text/html": [
       "<div>\n",
       "<style scoped>\n",
       "    .dataframe tbody tr th:only-of-type {\n",
       "        vertical-align: middle;\n",
       "    }\n",
       "\n",
       "    .dataframe tbody tr th {\n",
       "        vertical-align: top;\n",
       "    }\n",
       "\n",
       "    .dataframe thead th {\n",
       "        text-align: right;\n",
       "    }\n",
       "</style>\n",
       "<table border=\"1\" class=\"dataframe\">\n",
       "  <thead>\n",
       "    <tr style=\"text-align: right;\">\n",
       "      <th></th>\n",
       "      <th>Всего фильмов</th>\n",
       "      <th>Количество фильмов в прокате</th>\n",
       "      <th>Доля фильмов в прокате</th>\n",
       "    </tr>\n",
       "    <tr>\n",
       "      <th>years_show</th>\n",
       "      <th></th>\n",
       "      <th></th>\n",
       "      <th></th>\n",
       "    </tr>\n",
       "  </thead>\n",
       "  <tbody>\n",
       "    <tr>\n",
       "      <th>2010</th>\n",
       "      <td>756</td>\n",
       "      <td>97</td>\n",
       "      <td>0.13</td>\n",
       "    </tr>\n",
       "    <tr>\n",
       "      <th>2011</th>\n",
       "      <td>472</td>\n",
       "      <td>105</td>\n",
       "      <td>0.22</td>\n",
       "    </tr>\n",
       "    <tr>\n",
       "      <th>2012</th>\n",
       "      <td>520</td>\n",
       "      <td>123</td>\n",
       "      <td>0.24</td>\n",
       "    </tr>\n",
       "    <tr>\n",
       "      <th>2013</th>\n",
       "      <td>585</td>\n",
       "      <td>177</td>\n",
       "      <td>0.30</td>\n",
       "    </tr>\n",
       "    <tr>\n",
       "      <th>2014</th>\n",
       "      <td>725</td>\n",
       "      <td>267</td>\n",
       "      <td>0.37</td>\n",
       "    </tr>\n",
       "    <tr>\n",
       "      <th>2015</th>\n",
       "      <td>662</td>\n",
       "      <td>452</td>\n",
       "      <td>0.68</td>\n",
       "    </tr>\n",
       "    <tr>\n",
       "      <th>2016</th>\n",
       "      <td>726</td>\n",
       "      <td>507</td>\n",
       "      <td>0.70</td>\n",
       "    </tr>\n",
       "    <tr>\n",
       "      <th>2017</th>\n",
       "      <td>495</td>\n",
       "      <td>354</td>\n",
       "      <td>0.72</td>\n",
       "    </tr>\n",
       "    <tr>\n",
       "      <th>2018</th>\n",
       "      <td>872</td>\n",
       "      <td>471</td>\n",
       "      <td>0.54</td>\n",
       "    </tr>\n",
       "    <tr>\n",
       "      <th>2019</th>\n",
       "      <td>892</td>\n",
       "      <td>527</td>\n",
       "      <td>0.59</td>\n",
       "    </tr>\n",
       "  </tbody>\n",
       "</table>\n",
       "</div>"
      ],
      "text/plain": [
       "            Всего фильмов  Количество фильмов в прокате  \\\n",
       "years_show                                                \n",
       "2010                  756                            97   \n",
       "2011                  472                           105   \n",
       "2012                  520                           123   \n",
       "2013                  585                           177   \n",
       "2014                  725                           267   \n",
       "2015                  662                           452   \n",
       "2016                  726                           507   \n",
       "2017                  495                           354   \n",
       "2018                  872                           471   \n",
       "2019                  892                           527   \n",
       "\n",
       "            Доля фильмов в прокате  \n",
       "years_show                          \n",
       "2010                          0.13  \n",
       "2011                          0.22  \n",
       "2012                          0.24  \n",
       "2013                          0.30  \n",
       "2014                          0.37  \n",
       "2015                          0.68  \n",
       "2016                          0.70  \n",
       "2017                          0.72  \n",
       "2018                          0.54  \n",
       "2019                          0.59  "
      ]
     },
     "metadata": {},
     "output_type": "display_data"
    },
    {
     "data": {
      "image/png": "[encoded data removed]",
      "text/plain": [
       "<Figure size 432x288 with 1 Axes>"
      ]
     },
     "metadata": {
      "needs_background": "light"
     },
     "output_type": "display_data"
    }
   ],
   "source": [
    "df = movies_new.pivot_table(index='years_show', values='box', aggfunc=['count','sum','mean'])\n",
    "df.columns = ['Всего фильмов', 'Количество фильмов в прокате', 'Доля фильмов в прокате']\n",
    "display(df)\n",
    "df.plot(y='Доля фильмов в прокате', kind='line');"
   ]
  },
  {
   "cell_type": "markdown",
   "metadata": {},
   "source": [
    "Максимальная доля фильмов, с указанной информацией о прокате в кинотеатрах была в 2017 году и составила 72%, но в этот год вышло почти самое минимальное количество фильмов- 495 картин. Больше всего картин вышло в 2018 , 2019 годах, доля с информацией о собранных средствах в прокате превышает 50%. Минимальная информация о прокате в кинотеатре указана за 2010-2012 года, информация о прокате в кино не превышает 24%."
   ]
  },
  {
   "cell_type": "markdown",
   "metadata": {
    "id": "BEOdcIrIgFyW"
   },
   "source": [
    "- Изучим, как менялась динамика проката по годам. В каком году сумма сборов была минимальной? А максимальной?"
   ]
  },
  {
   "cell_type": "code",
   "execution_count": 234,
   "metadata": {
    "id": "tfEhofYvgFyX"
   },
   "outputs": [
    {
     "data": {
      "image/png": "[encoded data removed]",
      "text/plain": [
       "<Figure size 432x288 with 1 Axes>"
      ]
     },
     "metadata": {
      "needs_background": "light"
     },
     "output_type": "display_data"
    }
   ],
   "source": [
    "(movies_new\n",
    "           .pivot_table(index='years_show', values='box_office', aggfunc='sum')\n",
    "           .plot(y='box_office', kind='bar',grid = True,  legend=False)\n",
    ");\n",
    "plt.title('Динамика проката фильмов по годам');\n",
    "plt.xlabel('год');\n",
    "plt.ylabel('сборы с проката');\n",
    "plt.xticks(rotation = 'horizontal');"
   ]
  },
  {
   "cell_type": "markdown",
   "metadata": {},
   "source": [
    "Минимальная сумма сборов была в 2010 году и составила всего 2,4 млн. рублей. В 2010-2012 года динамика практически не менялась, в 2014 году сумма сбора увеличилась в несколько раз, в 2015 можно наблюдать так же резкий скачок суммы, она достигла 38 млрд рублей. С 2017 по 2019 можно уже наблюдать плавный рост сумм сбора средств."
   ]
  },
  {
   "cell_type": "markdown",
   "metadata": {
    "id": "G-7qS-N-gFyY"
   },
   "source": [
    "- С помощью сводной таблицы посчитаем среднюю и медианную сумму сборов для каждого года."
   ]
  },
  {
   "cell_type": "code",
   "execution_count": 235,
   "metadata": {},
   "outputs": [
    {
     "data": {
      "text/html": [
       "<div>\n",
       "<style scoped>\n",
       "    .dataframe tbody tr th:only-of-type {\n",
       "        vertical-align: middle;\n",
       "    }\n",
       "\n",
       "    .dataframe tbody tr th {\n",
       "        vertical-align: top;\n",
       "    }\n",
       "\n",
       "    .dataframe thead tr th {\n",
       "        text-align: left;\n",
       "    }\n",
       "\n",
       "    .dataframe thead tr:last-of-type th {\n",
       "        text-align: right;\n",
       "    }\n",
       "</style>\n",
       "<table border=\"1\" class=\"dataframe\">\n",
       "  <thead>\n",
       "    <tr>\n",
       "      <th></th>\n",
       "      <th>mean</th>\n",
       "      <th>median</th>\n",
       "    </tr>\n",
       "    <tr>\n",
       "      <th></th>\n",
       "      <th>box_office</th>\n",
       "      <th>box_office</th>\n",
       "    </tr>\n",
       "    <tr>\n",
       "      <th>years_show</th>\n",
       "      <th></th>\n",
       "      <th></th>\n",
       "    </tr>\n",
       "  </thead>\n",
       "  <tbody>\n",
       "    <tr>\n",
       "      <th>2010</th>\n",
       "      <td>24020.34</td>\n",
       "      <td>1710.00</td>\n",
       "    </tr>\n",
       "    <tr>\n",
       "      <th>2011</th>\n",
       "      <td>133638.29</td>\n",
       "      <td>2905.00</td>\n",
       "    </tr>\n",
       "    <tr>\n",
       "      <th>2012</th>\n",
       "      <td>54339.24</td>\n",
       "      <td>5660.00</td>\n",
       "    </tr>\n",
       "    <tr>\n",
       "      <th>2013</th>\n",
       "      <td>163676.55</td>\n",
       "      <td>3522.50</td>\n",
       "    </tr>\n",
       "    <tr>\n",
       "      <th>2014</th>\n",
       "      <td>27233335.58</td>\n",
       "      <td>20220.00</td>\n",
       "    </tr>\n",
       "    <tr>\n",
       "      <th>2015</th>\n",
       "      <td>84634198.64</td>\n",
       "      <td>4808555.10</td>\n",
       "    </tr>\n",
       "    <tr>\n",
       "      <th>2016</th>\n",
       "      <td>92011654.55</td>\n",
       "      <td>4341120.75</td>\n",
       "    </tr>\n",
       "    <tr>\n",
       "      <th>2017</th>\n",
       "      <td>136886263.26</td>\n",
       "      <td>9943877.50</td>\n",
       "    </tr>\n",
       "    <tr>\n",
       "      <th>2018</th>\n",
       "      <td>104568983.88</td>\n",
       "      <td>8751895.75</td>\n",
       "    </tr>\n",
       "    <tr>\n",
       "      <th>2019</th>\n",
       "      <td>91608089.35</td>\n",
       "      <td>4654563.09</td>\n",
       "    </tr>\n",
       "  </tbody>\n",
       "</table>\n",
       "</div>"
      ],
      "text/plain": [
       "                   mean     median\n",
       "             box_office box_office\n",
       "years_show                        \n",
       "2010           24020.34    1710.00\n",
       "2011          133638.29    2905.00\n",
       "2012           54339.24    5660.00\n",
       "2013          163676.55    3522.50\n",
       "2014        27233335.58   20220.00\n",
       "2015        84634198.64 4808555.10\n",
       "2016        92011654.55 4341120.75\n",
       "2017       136886263.26 9943877.50\n",
       "2018       104568983.88 8751895.75\n",
       "2019        91608089.35 4654563.09"
      ]
     },
     "execution_count": 235,
     "metadata": {},
     "output_type": "execute_result"
    }
   ],
   "source": [
    "movies_new.pivot_table(index='years_show', values='box_office', aggfunc=['mean', 'median'])"
   ]
  },
  {
   "cell_type": "markdown",
   "metadata": {},
   "source": [
    "Средняя и медианная сумма сборов имеют совершенно разные значения.Среднее арифметическое набора данных находится суммированием всех чисел в выборке и делением полученной суммы на количество чисел. Медиана — это число, которое окажется строго по центру списка чисел в наборе данных, если их предварительно упорядочить по возрастанию. Из определения среднего и медианы, можно сделать вывод, что в наших данных есть аномально большие или малые значения. \n",
    "\n",
    "\n",
    "В данных представлены совершенно разные фильмы по целевым критериям. Есть фильмы, которые были в прокате лишь на закрытых показах и сумма их сбора не может сравниться с мировыми картинами, идущими в кино во всех странах.\n",
    "\n",
    "Так в датафрейме есть 24 фильма, сборы которых равны нулю. В 2019 году есть два аномально больших значения столбца по фильмам \"Холоп\" и \"Мстители\", сумма их сборов составила более 2,5 млрд. рублей, что сильно влияет на статистику и среднее значение. Для объективной оценки средней суммы сборов по годам лучше избавляться от таких значений.\n",
    "\n",
    "\n",
    "\n"
   ]
  },
  {
   "cell_type": "markdown",
   "metadata": {
    "id": "Ok89WFwJgFyZ"
   },
   "source": [
    "- Определите, влияет ли возрастное ограничение аудитории («6+», «12+», «16+», «18+» и т. д.) на сборы фильма в прокате в период с 2015 по 2019 год? Фильмы с каким возрастным ограничением собрали больше всего денег в прокате? Меняется ли картина в зависимости от года? Если да, предположите, с чем это может быть связано."
   ]
  },
  {
   "cell_type": "markdown",
   "metadata": {},
   "source": [
    "Рассчитаем сколько в среднем собирал фильм с проката в каждой  возрастной категории за каждый год начиная с 2015г. "
   ]
  },
  {
   "cell_type": "markdown",
   "metadata": {},
   "source": [
    "Пострим для наглядности гистогроаммы для каждого года."
   ]
  },
  {
   "cell_type": "code",
   "execution_count": 236,
   "metadata": {},
   "outputs": [],
   "source": [
    "#Для наглядности создадим столбец с сокращенными наименованиеями возрастных категорий\n",
    "#создадим функцию, которая: \n",
    "def restriction(age):\n",
    "    split_age = age.split(' ') #разделит в каждой ячейке слова пробелом и к каждому слову станет можно обратиться по индексу\n",
    "    split_a = split_age[0] #сохранит первое значение в ячейке в переменную\n",
    "    return split_a \n",
    "\n",
    "movies_new['age'] = movies_new['age_restriction'].apply(restriction) #применим функцию к столбцу с категориями по по возрасту"
   ]
  },
  {
   "cell_type": "code",
   "execution_count": 237,
   "metadata": {},
   "outputs": [
    {
     "data": {
      "text/html": [
       "<div>\n",
       "<style scoped>\n",
       "    .dataframe tbody tr th:only-of-type {\n",
       "        vertical-align: middle;\n",
       "    }\n",
       "\n",
       "    .dataframe tbody tr th {\n",
       "        vertical-align: top;\n",
       "    }\n",
       "\n",
       "    .dataframe thead th {\n",
       "        text-align: right;\n",
       "    }\n",
       "</style>\n",
       "<table border=\"1\" class=\"dataframe\">\n",
       "  <thead>\n",
       "    <tr style=\"text-align: right;\">\n",
       "      <th>years_show</th>\n",
       "      <th>2015</th>\n",
       "      <th>2016</th>\n",
       "      <th>2017</th>\n",
       "      <th>2018</th>\n",
       "      <th>2019</th>\n",
       "    </tr>\n",
       "    <tr>\n",
       "      <th>age</th>\n",
       "      <th></th>\n",
       "      <th></th>\n",
       "      <th></th>\n",
       "      <th></th>\n",
       "      <th></th>\n",
       "    </tr>\n",
       "  </thead>\n",
       "  <tbody>\n",
       "    <tr>\n",
       "      <th>«0+»</th>\n",
       "      <td>10244678.33</td>\n",
       "      <td>4055033.13</td>\n",
       "      <td>76532976.67</td>\n",
       "      <td>6489800.42</td>\n",
       "      <td>5915355.61</td>\n",
       "    </tr>\n",
       "    <tr>\n",
       "      <th>«12+»</th>\n",
       "      <td>186382077.37</td>\n",
       "      <td>141148577.27</td>\n",
       "      <td>191498235.63</td>\n",
       "      <td>212944651.65</td>\n",
       "      <td>150949225.14</td>\n",
       "    </tr>\n",
       "    <tr>\n",
       "      <th>«16+»</th>\n",
       "      <td>65741455.50</td>\n",
       "      <td>93751863.29</td>\n",
       "      <td>155788257.93</td>\n",
       "      <td>105021973.85</td>\n",
       "      <td>71648421.26</td>\n",
       "    </tr>\n",
       "    <tr>\n",
       "      <th>«18+»</th>\n",
       "      <td>41623747.63</td>\n",
       "      <td>45596811.20</td>\n",
       "      <td>66103325.50</td>\n",
       "      <td>48939025.15</td>\n",
       "      <td>55613303.85</td>\n",
       "    </tr>\n",
       "    <tr>\n",
       "      <th>«6+»</th>\n",
       "      <td>163794458.08</td>\n",
       "      <td>182623363.76</td>\n",
       "      <td>273432593.89</td>\n",
       "      <td>152519373.76</td>\n",
       "      <td>158811772.80</td>\n",
       "    </tr>\n",
       "  </tbody>\n",
       "</table>\n",
       "</div>"
      ],
      "text/plain": [
       "years_show         2015         2016         2017         2018         2019\n",
       "age                                                                        \n",
       "«0+»        10244678.33   4055033.13  76532976.67   6489800.42   5915355.61\n",
       "«12+»      186382077.37 141148577.27 191498235.63 212944651.65 150949225.14\n",
       "«16+»       65741455.50  93751863.29 155788257.93 105021973.85  71648421.26\n",
       "«18+»       41623747.63  45596811.20  66103325.50  48939025.15  55613303.85\n",
       "«6+»       163794458.08 182623363.76 273432593.89 152519373.76 158811772.80"
      ]
     },
     "execution_count": 237,
     "metadata": {},
     "output_type": "execute_result"
    }
   ],
   "source": [
    "age = (movies_new\n",
    "                 .query('years_show >= 2015')\n",
    "                 .pivot_table(index='age', columns='years_show', values='box_office', aggfunc='mean')\n",
    "      )       \n",
    "age"
   ]
  },
  {
   "cell_type": "code",
   "execution_count": 238,
   "metadata": {},
   "outputs": [
    {
     "data": {
      "image/png": "[encoded data removed]",
      "text/plain": [
       "<Figure size 432x288 with 1 Axes>"
      ]
     },
     "metadata": {
      "needs_background": "light"
     },
     "output_type": "display_data"
    },
    {
     "data": {
      "image/png": "[encoded data removed]",
      "text/plain": [
       "<Figure size 432x288 with 1 Axes>"
      ]
     },
     "metadata": {
      "needs_background": "light"
     },
     "output_type": "display_data"
    },
    {
     "data": {
      "image/png": "[encoded data removed]",
      "text/plain": [
       "<Figure size 432x288 with 1 Axes>"
      ]
     },
     "metadata": {
      "needs_background": "light"
     },
     "output_type": "display_data"
    },
    {
     "data": {
      "image/png": "[encoded data removed]",
      "text/plain": [
       "<Figure size 432x288 with 1 Axes>"
      ]
     },
     "metadata": {
      "needs_background": "light"
     },
     "output_type": "display_data"
    },
    {
     "data": {
      "image/png": "[encoded data removed]",
      "text/plain": [
       "<Figure size 432x288 with 1 Axes>"
      ]
     },
     "metadata": {
      "needs_background": "light"
     },
     "output_type": "display_data"
    }
   ],
   "source": [
    "columns = age.columns # создадим список с названиями столбцов\n",
    "\n",
    "# для каждого года с помощью цикла построим гистограммы\n",
    "for column in columns:\n",
    "    age.plot(y=column, kind='bar')\n",
    "    plt.title(f'Средняя сумма сбора по категориям за {column} год')\n",
    "    plt.xlabel('Возрастная категория')\n",
    "    plt.ylabel('Средняя сумма сбора')\n",
    "    plt.xticks(rotation = 'horizontal')"
   ]
  },
  {
   "cell_type": "markdown",
   "metadata": {},
   "source": [
    "На протяжении всего рассматриваемого периода с 2015 года по 2019 год самый минимальный средний сбор показывает фильмы с возрастным ограничением 0+. Лишь в 2017 году средний сбор с проката фильма 0+ увеличился вдвое и достиг 76 млн.руб.\n",
    "\n",
    "Лидирующие позиции почти во все года занимают фильмы категории 6+, сборы в 2017 году составили более 273 млн. рублей.\n",
    "Можно сделать вывод, что возрастная категория влияет на сборы от проката фильмов, так категория 6+ в среднем собирает в два раза больше средств, чем 18+.Категории 12+ и 6+ более востребованы у зрителя. Возрастное ограничение 0+ занимает последние позиции в рейтинге сбора средств с проката."
   ]
  },
  {
   "cell_type": "markdown",
   "metadata": {},
   "source": [
    "Выведем в сводной таблицы суммы сборов для каждой категории по годам"
   ]
  },
  {
   "cell_type": "code",
   "execution_count": 239,
   "metadata": {},
   "outputs": [
    {
     "data": {
      "text/html": [
       "<div>\n",
       "<style scoped>\n",
       "    .dataframe tbody tr th:only-of-type {\n",
       "        vertical-align: middle;\n",
       "    }\n",
       "\n",
       "    .dataframe tbody tr th {\n",
       "        vertical-align: top;\n",
       "    }\n",
       "\n",
       "    .dataframe thead th {\n",
       "        text-align: right;\n",
       "    }\n",
       "</style>\n",
       "<table border=\"1\" class=\"dataframe\">\n",
       "  <thead>\n",
       "    <tr style=\"text-align: right;\">\n",
       "      <th></th>\n",
       "      <th>2015</th>\n",
       "      <th>2016</th>\n",
       "      <th>2017</th>\n",
       "      <th>2018</th>\n",
       "      <th>2019</th>\n",
       "      <th>total</th>\n",
       "    </tr>\n",
       "    <tr>\n",
       "      <th>age</th>\n",
       "      <th></th>\n",
       "      <th></th>\n",
       "      <th></th>\n",
       "      <th></th>\n",
       "      <th></th>\n",
       "      <th></th>\n",
       "    </tr>\n",
       "  </thead>\n",
       "  <tbody>\n",
       "    <tr>\n",
       "      <th>«0+»</th>\n",
       "      <td>379053098.37</td>\n",
       "      <td>150036225.67</td>\n",
       "      <td>229598930.00</td>\n",
       "      <td>32449002.11</td>\n",
       "      <td>17746066.82</td>\n",
       "      <td>808883322.97</td>\n",
       "    </tr>\n",
       "    <tr>\n",
       "      <th>«12+»</th>\n",
       "      <td>13419509570.51</td>\n",
       "      <td>11150737603.96</td>\n",
       "      <td>7851427660.67</td>\n",
       "      <td>14267291660.69</td>\n",
       "      <td>12679734911.67</td>\n",
       "      <td>59368701407.50</td>\n",
       "    </tr>\n",
       "    <tr>\n",
       "      <th>«16+»</th>\n",
       "      <td>10781598701.27</td>\n",
       "      <td>16594079802.74</td>\n",
       "      <td>18694590951.06</td>\n",
       "      <td>16278405946.93</td>\n",
       "      <td>12753418984.60</td>\n",
       "      <td>75102094386.60</td>\n",
       "    </tr>\n",
       "    <tr>\n",
       "      <th>«18+»</th>\n",
       "      <td>5411087191.93</td>\n",
       "      <td>6793924868.87</td>\n",
       "      <td>9651085523.02</td>\n",
       "      <td>8760085501.15</td>\n",
       "      <td>10121621300.13</td>\n",
       "      <td>40737804385.10</td>\n",
       "    </tr>\n",
       "    <tr>\n",
       "      <th>«6+»</th>\n",
       "      <td>8517311820.01</td>\n",
       "      <td>12053142008.24</td>\n",
       "      <td>12031034131.00</td>\n",
       "      <td>9913759294.32</td>\n",
       "      <td>12704941824.35</td>\n",
       "      <td>55220189077.92</td>\n",
       "    </tr>\n",
       "  </tbody>\n",
       "</table>\n",
       "</div>"
      ],
      "text/plain": [
       "                2015           2016           2017           2018  \\\n",
       "age                                                                 \n",
       "«0+»    379053098.37   150036225.67   229598930.00    32449002.11   \n",
       "«12+» 13419509570.51 11150737603.96  7851427660.67 14267291660.69   \n",
       "«16+» 10781598701.27 16594079802.74 18694590951.06 16278405946.93   \n",
       "«18+»  5411087191.93  6793924868.87  9651085523.02  8760085501.15   \n",
       "«6+»   8517311820.01 12053142008.24 12031034131.00  9913759294.32   \n",
       "\n",
       "                2019          total  \n",
       "age                                  \n",
       "«0+»     17746066.82   808883322.97  \n",
       "«12+» 12679734911.67 59368701407.50  \n",
       "«16+» 12753418984.60 75102094386.60  \n",
       "«18+» 10121621300.13 40737804385.10  \n",
       "«6+»  12704941824.35 55220189077.92  "
      ]
     },
     "execution_count": 239,
     "metadata": {},
     "output_type": "execute_result"
    }
   ],
   "source": [
    "year = (movies_new\n",
    "                  .query('years_show >= 2015')\n",
    "                  .pivot_table(index='age', columns='years_show', values='box_office', aggfunc='sum')\n",
    "       )\n",
    "year.columns = ['2015', '2016', '2017', '2018', '2019']\n",
    "year['total'] = year[['2015', '2016', '2017', '2018', '2019']].sum(axis=1)\n",
    "year"
   ]
  },
  {
   "cell_type": "markdown",
   "metadata": {},
   "source": [
    "Фильмы с возрастным ограничением 16+ собрали наибольшее количество средств. Минимальное количество средств ежегодно собирают фильмы 0+,связано это и в том числе с тем, что картин данной категории выходит на порядок меньше, чем остальных."
   ]
  },
  {
   "cell_type": "markdown",
   "metadata": {
    "id": "l_Kg6Ku4gFya"
   },
   "source": [
    "### Исследуем фильмы, которые получили государственную поддержку\n",
    "\n",
    "На этом этапе нет конкретных инструкций и заданий — поищите интересные закономерности в данных. Посмотрите, сколько выделяют средств на поддержку кино. Проверьте, хорошо ли окупаются такие фильмы, какой у них рейтинг."
   ]
  },
  {
   "cell_type": "markdown",
   "metadata": {},
   "source": [
    "Для удобства создадим таблицу, в которую входят только фильмы получившие гос поддержку."
   ]
  },
  {
   "cell_type": "code",
   "execution_count": 240,
   "metadata": {
    "id": "W9QKpjUdgFyb",
    "scrolled": true
   },
   "outputs": [
    {
     "data": {
      "text/html": [
       "<div>\n",
       "<style scoped>\n",
       "    .dataframe tbody tr th:only-of-type {\n",
       "        vertical-align: middle;\n",
       "    }\n",
       "\n",
       "    .dataframe tbody tr th {\n",
       "        vertical-align: top;\n",
       "    }\n",
       "\n",
       "    .dataframe thead th {\n",
       "        text-align: right;\n",
       "    }\n",
       "</style>\n",
       "<table border=\"1\" class=\"dataframe\">\n",
       "  <thead>\n",
       "    <tr style=\"text-align: right;\">\n",
       "      <th></th>\n",
       "      <th>title</th>\n",
       "      <th>puNumber</th>\n",
       "      <th>show_start_date</th>\n",
       "      <th>type</th>\n",
       "      <th>film_studio</th>\n",
       "      <th>production_country</th>\n",
       "      <th>director</th>\n",
       "      <th>producer</th>\n",
       "      <th>age_restriction</th>\n",
       "      <th>refundable_support</th>\n",
       "      <th>...</th>\n",
       "      <th>genres</th>\n",
       "      <th>box_office</th>\n",
       "      <th>years_show</th>\n",
       "      <th>main_director</th>\n",
       "      <th>main_genres</th>\n",
       "      <th>ratio_support</th>\n",
       "      <th>total_support</th>\n",
       "      <th>profit</th>\n",
       "      <th>box</th>\n",
       "      <th>age</th>\n",
       "    </tr>\n",
       "  </thead>\n",
       "  <tbody>\n",
       "    <tr>\n",
       "      <th>7455</th>\n",
       "      <td>Холоп</td>\n",
       "      <td>111021719</td>\n",
       "      <td>2019-12-19 12:00:00</td>\n",
       "      <td>Художественный</td>\n",
       "      <td>ООО \"МЕМ-МЕДИА\" по заказу АО \"ВБД Груп\"</td>\n",
       "      <td>Россия</td>\n",
       "      <td>К.Шипенко</td>\n",
       "      <td>Э.Илоян, Д.Жалинский, В.Дусмухаметов, Т.Бадзие...</td>\n",
       "      <td>«12+» - для детей старше 12 лет</td>\n",
       "      <td>25000000.00</td>\n",
       "      <td>...</td>\n",
       "      <td>комедия</td>\n",
       "      <td>3073568690.79</td>\n",
       "      <td>2019</td>\n",
       "      <td>К.Шипенко</td>\n",
       "      <td>комедия</td>\n",
       "      <td>0.38</td>\n",
       "      <td>60000000.00</td>\n",
       "      <td>2913568690.79</td>\n",
       "      <td>True</td>\n",
       "      <td>«12+»</td>\n",
       "    </tr>\n",
       "    <tr>\n",
       "      <th>5652</th>\n",
       "      <td>Движение вверх</td>\n",
       "      <td>111011817</td>\n",
       "      <td>2017-12-21 12:00:00</td>\n",
       "      <td>Художественный</td>\n",
       "      <td>ООО \"Студия \"ТРИТЭ\" Никиты Михалкова\"</td>\n",
       "      <td>Россия</td>\n",
       "      <td>А.Мегердичев</td>\n",
       "      <td>Л.Верещагин, А.Златопольский, Н.Михалков, ООО ...</td>\n",
       "      <td>«6+» - для детей старше 6 лет</td>\n",
       "      <td>0.00</td>\n",
       "      <td>...</td>\n",
       "      <td>спорт,драма</td>\n",
       "      <td>2779686144.00</td>\n",
       "      <td>2017</td>\n",
       "      <td>А.Мегердичев</td>\n",
       "      <td>спорт</td>\n",
       "      <td>0.68</td>\n",
       "      <td>400000000.00</td>\n",
       "      <td>2189493953.00</td>\n",
       "      <td>True</td>\n",
       "      <td>«6+»</td>\n",
       "    </tr>\n",
       "    <tr>\n",
       "      <th>6548</th>\n",
       "      <td>Т-34</td>\n",
       "      <td>111024918</td>\n",
       "      <td>2018-12-21 12:00:00</td>\n",
       "      <td>Художественный</td>\n",
       "      <td>ООО \"Кинокомпания МАРС-фильм\" по заказу ООО \"М...</td>\n",
       "      <td>Россия</td>\n",
       "      <td>А.Сидоров</td>\n",
       "      <td>А.Златопольский, Р.Дишдишян, Л.Блаватник, Н.Яр...</td>\n",
       "      <td>«12+» - для детей старше 12 лет</td>\n",
       "      <td>60000000.00</td>\n",
       "      <td>...</td>\n",
       "      <td>драма,военный,боевик</td>\n",
       "      <td>2271754004.52</td>\n",
       "      <td>2018</td>\n",
       "      <td>А.Сидоров</td>\n",
       "      <td>драма</td>\n",
       "      <td>0.32</td>\n",
       "      <td>180000000.00</td>\n",
       "      <td>1707969287.52</td>\n",
       "      <td>True</td>\n",
       "      <td>«12+»</td>\n",
       "    </tr>\n",
       "    <tr>\n",
       "      <th>5504</th>\n",
       "      <td>Последний богатырь</td>\n",
       "      <td>111007017</td>\n",
       "      <td>2017-10-19 12:00:00</td>\n",
       "      <td>Художественный</td>\n",
       "      <td>ООО \"Киностудия \"Слово\" по заказу ООО \"Уолт Ди...</td>\n",
       "      <td>Россия</td>\n",
       "      <td>Д.Дьяченко</td>\n",
       "      <td>Э.Илоян, Д.Жалинский, М.Озкан, А.Троцюк, В.Шляппо</td>\n",
       "      <td>«12+» - для детей старше 12 лет</td>\n",
       "      <td>50000000.00</td>\n",
       "      <td>...</td>\n",
       "      <td>комедия,фэнтези,приключения</td>\n",
       "      <td>1655037688.00</td>\n",
       "      <td>2017</td>\n",
       "      <td>Д.Дьяченко</td>\n",
       "      <td>комедия</td>\n",
       "      <td>0.28</td>\n",
       "      <td>100000000.00</td>\n",
       "      <td>1302560113.00</td>\n",
       "      <td>True</td>\n",
       "      <td>«12+»</td>\n",
       "    </tr>\n",
       "    <tr>\n",
       "      <th>5707</th>\n",
       "      <td>Лёд</td>\n",
       "      <td>111000518</td>\n",
       "      <td>2018-02-01 12:00:00</td>\n",
       "      <td>Художественный</td>\n",
       "      <td>ООО \"Водород 2011\", ООО \"Арт Пикчерс Студия\", ...</td>\n",
       "      <td>Россия</td>\n",
       "      <td>О.Трофим</td>\n",
       "      <td>М.Врубель, А.Андрющенко, Ф.Бондарчук, Д.Рудовс...</td>\n",
       "      <td>«12+» - для детей старше 12 лет</td>\n",
       "      <td>25000000.00</td>\n",
       "      <td>...</td>\n",
       "      <td>unknow</td>\n",
       "      <td>1445731797.89</td>\n",
       "      <td>2018</td>\n",
       "      <td>О.Трофим</td>\n",
       "      <td>unknow</td>\n",
       "      <td>0.57</td>\n",
       "      <td>85000000.00</td>\n",
       "      <td>1297146575.89</td>\n",
       "      <td>True</td>\n",
       "      <td>«12+»</td>\n",
       "    </tr>\n",
       "    <tr>\n",
       "      <th>...</th>\n",
       "      <td>...</td>\n",
       "      <td>...</td>\n",
       "      <td>...</td>\n",
       "      <td>...</td>\n",
       "      <td>...</td>\n",
       "      <td>...</td>\n",
       "      <td>...</td>\n",
       "      <td>...</td>\n",
       "      <td>...</td>\n",
       "      <td>...</td>\n",
       "      <td>...</td>\n",
       "      <td>...</td>\n",
       "      <td>...</td>\n",
       "      <td>...</td>\n",
       "      <td>...</td>\n",
       "      <td>...</td>\n",
       "      <td>...</td>\n",
       "      <td>...</td>\n",
       "      <td>...</td>\n",
       "      <td>...</td>\n",
       "      <td>...</td>\n",
       "    </tr>\n",
       "    <tr>\n",
       "      <th>7179</th>\n",
       "      <td>Байкал - Сердце мира 3D</td>\n",
       "      <td>112004619</td>\n",
       "      <td>2019-11-01 12:00:00</td>\n",
       "      <td>Документальный</td>\n",
       "      <td>ООО \"Продюсерский центр \"Новое Время\"</td>\n",
       "      <td>Россия</td>\n",
       "      <td>А.Попова</td>\n",
       "      <td>И.Добровольский, А.Разуваева, Ю.Перкуль</td>\n",
       "      <td>«0+» - для любой зрительской аудитории</td>\n",
       "      <td>0.00</td>\n",
       "      <td>...</td>\n",
       "      <td>семейный</td>\n",
       "      <td>NaN</td>\n",
       "      <td>2019</td>\n",
       "      <td>А.Попова</td>\n",
       "      <td>семейный</td>\n",
       "      <td>0.09</td>\n",
       "      <td>3000000.00</td>\n",
       "      <td>NaN</td>\n",
       "      <td>False</td>\n",
       "      <td>«0+»</td>\n",
       "    </tr>\n",
       "    <tr>\n",
       "      <th>7228</th>\n",
       "      <td>На Луне</td>\n",
       "      <td>111015519</td>\n",
       "      <td>2019-11-01 12:00:00</td>\n",
       "      <td>Художественный</td>\n",
       "      <td>ООО \"Киностудия \"ВЕРТИКАЛЬ\"</td>\n",
       "      <td>Россия</td>\n",
       "      <td>Е.Михалков-Кончаловский</td>\n",
       "      <td>С.Говорухин, Е.Маскина</td>\n",
       "      <td>«16+» - для детей старше 16 лет</td>\n",
       "      <td>0.00</td>\n",
       "      <td>...</td>\n",
       "      <td>приключения,триллер</td>\n",
       "      <td>NaN</td>\n",
       "      <td>2019</td>\n",
       "      <td>Е.Михалков-Кончаловский</td>\n",
       "      <td>приключения</td>\n",
       "      <td>0.60</td>\n",
       "      <td>35000000.00</td>\n",
       "      <td>NaN</td>\n",
       "      <td>False</td>\n",
       "      <td>«16+»</td>\n",
       "    </tr>\n",
       "    <tr>\n",
       "      <th>7343</th>\n",
       "      <td>Кроличья лапа</td>\n",
       "      <td>111018919</td>\n",
       "      <td>2019-11-20 12:00:00</td>\n",
       "      <td>Художественный</td>\n",
       "      <td>ООО \"Зебра\", \"Артемис\", \"Гринлит\"</td>\n",
       "      <td>Россия, Бельгия, Финляндия</td>\n",
       "      <td>Н.Джорджадзе</td>\n",
       "      <td>Ю.Соболевская</td>\n",
       "      <td>«16+» - для детей старше 16 лет</td>\n",
       "      <td>0.00</td>\n",
       "      <td>...</td>\n",
       "      <td>unknow</td>\n",
       "      <td>NaN</td>\n",
       "      <td>2019</td>\n",
       "      <td>Н.Джорджадзе</td>\n",
       "      <td>unknow</td>\n",
       "      <td>0.63</td>\n",
       "      <td>30000000.00</td>\n",
       "      <td>NaN</td>\n",
       "      <td>False</td>\n",
       "      <td>«16+»</td>\n",
       "    </tr>\n",
       "    <tr>\n",
       "      <th>7475</th>\n",
       "      <td>Я свободен</td>\n",
       "      <td>111023019</td>\n",
       "      <td>2019-12-26 12:00:00</td>\n",
       "      <td>Художественный</td>\n",
       "      <td>АО \"ТПО \"Киностудия им. М.Горького\"</td>\n",
       "      <td>Россия</td>\n",
       "      <td>И.Северов</td>\n",
       "      <td>С.Зернов</td>\n",
       "      <td>«12+» - для детей старше 12 лет</td>\n",
       "      <td>0.00</td>\n",
       "      <td>...</td>\n",
       "      <td>драма</td>\n",
       "      <td>NaN</td>\n",
       "      <td>2019</td>\n",
       "      <td>И.Северов</td>\n",
       "      <td>драма</td>\n",
       "      <td>0.65</td>\n",
       "      <td>30000000.00</td>\n",
       "      <td>NaN</td>\n",
       "      <td>False</td>\n",
       "      <td>«12+»</td>\n",
       "    </tr>\n",
       "    <tr>\n",
       "      <th>7477</th>\n",
       "      <td>(Не)идеальный мужчина</td>\n",
       "      <td>111023119</td>\n",
       "      <td>2019-12-24 12:00:00</td>\n",
       "      <td>Художественный</td>\n",
       "      <td>ООО \"Нон-Стоп Продакшн\"</td>\n",
       "      <td>Россия</td>\n",
       "      <td>М.Бальчюнас (псевдоним М.Вайсберг)</td>\n",
       "      <td>С.Мелькумов, А.Роднянский, М.Вайсберг, Р.Минас...</td>\n",
       "      <td>«12+» - для детей старше 12 лет</td>\n",
       "      <td>40000000.00</td>\n",
       "      <td>...</td>\n",
       "      <td>комедия,фантастика,мелодрама</td>\n",
       "      <td>NaN</td>\n",
       "      <td>2019</td>\n",
       "      <td>М.Бальчюнас (псевдоним М.Вайсберг)</td>\n",
       "      <td>комедия</td>\n",
       "      <td>0.67</td>\n",
       "      <td>100000000.00</td>\n",
       "      <td>NaN</td>\n",
       "      <td>False</td>\n",
       "      <td>«12+»</td>\n",
       "    </tr>\n",
       "  </tbody>\n",
       "</table>\n",
       "<p>313 rows × 24 columns</p>\n",
       "</div>"
      ],
      "text/plain": [
       "                        title   puNumber     show_start_date            type  \\\n",
       "7455                    Холоп  111021719 2019-12-19 12:00:00  Художественный   \n",
       "5652           Движение вверх  111011817 2017-12-21 12:00:00  Художественный   \n",
       "6548                     Т-34  111024918 2018-12-21 12:00:00  Художественный   \n",
       "5504       Последний богатырь  111007017 2017-10-19 12:00:00  Художественный   \n",
       "5707                      Лёд  111000518 2018-02-01 12:00:00  Художественный   \n",
       "...                       ...        ...                 ...             ...   \n",
       "7179  Байкал - Сердце мира 3D  112004619 2019-11-01 12:00:00  Документальный   \n",
       "7228                  На Луне  111015519 2019-11-01 12:00:00  Художественный   \n",
       "7343            Кроличья лапа  111018919 2019-11-20 12:00:00  Художественный   \n",
       "7475               Я свободен  111023019 2019-12-26 12:00:00  Художественный   \n",
       "7477    (Не)идеальный мужчина  111023119 2019-12-24 12:00:00  Художественный   \n",
       "\n",
       "                                            film_studio  \\\n",
       "7455            ООО \"МЕМ-МЕДИА\" по заказу АО \"ВБД Груп\"   \n",
       "5652              ООО \"Студия \"ТРИТЭ\" Никиты Михалкова\"   \n",
       "6548  ООО \"Кинокомпания МАРС-фильм\" по заказу ООО \"М...   \n",
       "5504  ООО \"Киностудия \"Слово\" по заказу ООО \"Уолт Ди...   \n",
       "5707  ООО \"Водород 2011\", ООО \"Арт Пикчерс Студия\", ...   \n",
       "...                                                 ...   \n",
       "7179              ООО \"Продюсерский центр \"Новое Время\"   \n",
       "7228                        ООО \"Киностудия \"ВЕРТИКАЛЬ\"   \n",
       "7343                  ООО \"Зебра\", \"Артемис\", \"Гринлит\"   \n",
       "7475                АО \"ТПО \"Киностудия им. М.Горького\"   \n",
       "7477                            ООО \"Нон-Стоп Продакшн\"   \n",
       "\n",
       "              production_country                            director  \\\n",
       "7455                      Россия                           К.Шипенко   \n",
       "5652                      Россия                        А.Мегердичев   \n",
       "6548                      Россия                           А.Сидоров   \n",
       "5504                      Россия                          Д.Дьяченко   \n",
       "5707                      Россия                            О.Трофим   \n",
       "...                          ...                                 ...   \n",
       "7179                      Россия                            А.Попова   \n",
       "7228                      Россия             Е.Михалков-Кончаловский   \n",
       "7343  Россия, Бельгия, Финляндия                        Н.Джорджадзе   \n",
       "7475                      Россия                           И.Северов   \n",
       "7477                      Россия  М.Бальчюнас (псевдоним М.Вайсберг)   \n",
       "\n",
       "                                               producer  \\\n",
       "7455  Э.Илоян, Д.Жалинский, В.Дусмухаметов, Т.Бадзие...   \n",
       "5652  Л.Верещагин, А.Златопольский, Н.Михалков, ООО ...   \n",
       "6548  А.Златопольский, Р.Дишдишян, Л.Блаватник, Н.Яр...   \n",
       "5504  Э.Илоян, Д.Жалинский, М.Озкан, А.Троцюк, В.Шляппо   \n",
       "5707  М.Врубель, А.Андрющенко, Ф.Бондарчук, Д.Рудовс...   \n",
       "...                                                 ...   \n",
       "7179            И.Добровольский, А.Разуваева, Ю.Перкуль   \n",
       "7228                             С.Говорухин, Е.Маскина   \n",
       "7343                                      Ю.Соболевская   \n",
       "7475                                           С.Зернов   \n",
       "7477  С.Мелькумов, А.Роднянский, М.Вайсберг, Р.Минас...   \n",
       "\n",
       "                             age_restriction  refundable_support  ...  \\\n",
       "7455         «12+» - для детей старше 12 лет         25000000.00  ...   \n",
       "5652           «6+» - для детей старше 6 лет                0.00  ...   \n",
       "6548         «12+» - для детей старше 12 лет         60000000.00  ...   \n",
       "5504         «12+» - для детей старше 12 лет         50000000.00  ...   \n",
       "5707         «12+» - для детей старше 12 лет         25000000.00  ...   \n",
       "...                                      ...                 ...  ...   \n",
       "7179  «0+» - для любой зрительской аудитории                0.00  ...   \n",
       "7228         «16+» - для детей старше 16 лет                0.00  ...   \n",
       "7343         «16+» - для детей старше 16 лет                0.00  ...   \n",
       "7475         «12+» - для детей старше 12 лет                0.00  ...   \n",
       "7477         «12+» - для детей старше 12 лет         40000000.00  ...   \n",
       "\n",
       "                            genres    box_office years_show  \\\n",
       "7455                       комедия 3073568690.79       2019   \n",
       "5652                   спорт,драма 2779686144.00       2017   \n",
       "6548          драма,военный,боевик 2271754004.52       2018   \n",
       "5504   комедия,фэнтези,приключения 1655037688.00       2017   \n",
       "5707                        unknow 1445731797.89       2018   \n",
       "...                            ...           ...        ...   \n",
       "7179                      семейный           NaN       2019   \n",
       "7228           приключения,триллер           NaN       2019   \n",
       "7343                        unknow           NaN       2019   \n",
       "7475                         драма           NaN       2019   \n",
       "7477  комедия,фантастика,мелодрама           NaN       2019   \n",
       "\n",
       "                           main_director  main_genres  ratio_support  \\\n",
       "7455                           К.Шипенко      комедия           0.38   \n",
       "5652                        А.Мегердичев        спорт           0.68   \n",
       "6548                           А.Сидоров        драма           0.32   \n",
       "5504                          Д.Дьяченко      комедия           0.28   \n",
       "5707                            О.Трофим       unknow           0.57   \n",
       "...                                  ...          ...            ...   \n",
       "7179                            А.Попова     семейный           0.09   \n",
       "7228             Е.Михалков-Кончаловский  приключения           0.60   \n",
       "7343                        Н.Джорджадзе       unknow           0.63   \n",
       "7475                           И.Северов        драма           0.65   \n",
       "7477  М.Бальчюнас (псевдоним М.Вайсберг)      комедия           0.67   \n",
       "\n",
       "      total_support        profit    box    age  \n",
       "7455    60000000.00 2913568690.79   True  «12+»  \n",
       "5652   400000000.00 2189493953.00   True   «6+»  \n",
       "6548   180000000.00 1707969287.52   True  «12+»  \n",
       "5504   100000000.00 1302560113.00   True  «12+»  \n",
       "5707    85000000.00 1297146575.89   True  «12+»  \n",
       "...             ...           ...    ...    ...  \n",
       "7179     3000000.00           NaN  False   «0+»  \n",
       "7228    35000000.00           NaN  False  «16+»  \n",
       "7343    30000000.00           NaN  False  «16+»  \n",
       "7475    30000000.00           NaN  False  «12+»  \n",
       "7477   100000000.00           NaN  False  «12+»  \n",
       "\n",
       "[313 rows x 24 columns]"
      ]
     },
     "execution_count": 240,
     "metadata": {},
     "output_type": "execute_result"
    }
   ],
   "source": [
    "movie_support = movies_new[(movies_new['budget'] > 0)]\n",
    "movie_support"
   ]
  },
  {
   "cell_type": "markdown",
   "metadata": {},
   "source": [
    "- Проанализируем столбец **total_support**, в котором отражена общая сумма государственной поддержки"
   ]
  },
  {
   "cell_type": "code",
   "execution_count": 241,
   "metadata": {},
   "outputs": [
    {
     "data": {
      "image/png": "[encoded data removed]",
      "text/plain": [
       "<Figure size 432x288 with 1 Axes>"
      ]
     },
     "metadata": {
      "needs_background": "light"
     },
     "output_type": "display_data"
    }
   ],
   "source": [
    "movie_support.hist('total_support', bins=50);"
   ]
  },
  {
   "cell_type": "markdown",
   "metadata": {},
   "source": [
    "Половина фильмов из представленных данных получили государственную поддержку в размере 35 млн. рублей. Есть выдающие значения в данных. Так картина 'Союз спасения' получила от государства 500 млн. рублей."
   ]
  },
  {
   "cell_type": "markdown",
   "metadata": {},
   "source": [
    "- Проанализируем столбец **profit**, в котором отражена информация о прибыльности фильмов."
   ]
  },
  {
   "cell_type": "code",
   "execution_count": 242,
   "metadata": {},
   "outputs": [
    {
     "data": {
      "image/png": "[encoded data removed]",
      "text/plain": [
       "<Figure size 432x288 with 1 Axes>"
      ]
     },
     "metadata": {
      "needs_background": "light"
     },
     "output_type": "display_data"
    }
   ],
   "source": [
    "movie_support.hist('profit');"
   ]
  },
  {
   "cell_type": "markdown",
   "metadata": {},
   "source": [
    "Из гистрограммы видно, что более 200 фильмов были убыточными. Всего 66 фильмов имели прибыль после проката каритины в кинотеатрах."
   ]
  },
  {
   "cell_type": "code",
   "execution_count": 243,
   "metadata": {},
   "outputs": [
    {
     "name": "stdout",
     "output_type": "stream",
     "text": [
      "0.10140242054195904\n"
     ]
    },
    {
     "data": {
      "text/plain": [
       "0.10907497700095874"
      ]
     },
     "execution_count": 243,
     "metadata": {},
     "output_type": "execute_result"
    }
   ],
   "source": [
    "print(movie_support['profit'].corr(movie_support['ratings']))\n",
    "movie_support['budget'].corr(movie_support['ratings'])"
   ]
  },
  {
   "cell_type": "code",
   "execution_count": 244,
   "metadata": {},
   "outputs": [
    {
     "data": {
      "image/png": "[encoded data removed]",
      "text/plain": [
       "<Figure size 432x288 with 1 Axes>"
      ]
     },
     "metadata": {
      "needs_background": "light"
     },
     "output_type": "display_data"
    }
   ],
   "source": [
    "(movie_support\n",
    "              .pivot_table(index='ratings', values='budget')\n",
    "              .plot(y='budget', kind='line')\n",
    ");"
   ]
  },
  {
   "cell_type": "code",
   "execution_count": 245,
   "metadata": {},
   "outputs": [
    {
     "data": {
      "image/png": "[encoded data removed]",
      "text/plain": [
       "<Figure size 432x288 with 1 Axes>"
      ]
     },
     "metadata": {
      "needs_background": "light"
     },
     "output_type": "display_data"
    }
   ],
   "source": [
    "movie_support.plot(x='budget', y='ratings', kind='scatter', alpha=0.3);"
   ]
  },
  {
   "cell_type": "markdown",
   "metadata": {},
   "source": [
    "Коэффициент корреляции показывает, что зависимости рейтинга от окупаемости и бюджета  картины нет. Как высокий так и низкий рейтинг получают картины похожими бюджетами."
   ]
  },
  {
   "cell_type": "markdown",
   "metadata": {},
   "source": [
    "- Проанализируем на какой жанр выделяется больше денежных средств."
   ]
  },
  {
   "cell_type": "code",
   "execution_count": 246,
   "metadata": {
    "scrolled": false
   },
   "outputs": [
    {
     "data": {
      "image/png": "[encoded data removed]",
      "text/plain": [
       "<Figure size 720x504 with 1 Axes>"
      ]
     },
     "metadata": {
      "needs_background": "light"
     },
     "output_type": "display_data"
    }
   ],
   "source": [
    "(movie_support\n",
    "                     .pivot_table(index='main_genres', values='total_support', aggfunc='sum')\n",
    "                     .sort_values('total_support', ascending=False)\n",
    "                     .plot(y='total_support', kind='barh', figsize = (10, 7))\n",
    ");"
   ]
  },
  {
   "cell_type": "markdown",
   "metadata": {},
   "source": [
    "На фильмы с жанром драма выделялось более 5 млрд рублей за рассматриваемое десятилетие. В два раза меньше спонсировались фильмы жанра комедия. Минимальные инвестиции были в жанры реальное ТВ  и составили 53 млн руб. "
   ]
  },
  {
   "cell_type": "markdown",
   "metadata": {},
   "source": [
    "- Проанализируем рейтинг по жанрам"
   ]
  },
  {
   "cell_type": "markdown",
   "metadata": {},
   "source": [
    "Проверим количество фильмов по каждому жанру."
   ]
  },
  {
   "cell_type": "code",
   "execution_count": 247,
   "metadata": {
    "scrolled": true
   },
   "outputs": [
    {
     "data": {
      "text/plain": [
       "main_genres\n",
       "драма         91\n",
       "комедия       68\n",
       "мультфильм    26\n",
       "unknow        15\n",
       "триллер       14\n",
       "мелодрама     14\n",
       "фэнтези       11\n",
       "ужасы         10\n",
       "военный        9\n",
       "фантастика     9\n",
       "dtype: int64"
      ]
     },
     "execution_count": 247,
     "metadata": {},
     "output_type": "execute_result"
    }
   ],
   "source": [
    "movie_support.value_counts('main_genres').head(10)"
   ]
  },
  {
   "cell_type": "markdown",
   "metadata": {},
   "source": [
    "Для правдопободного анализа средней оценки фильма, возьмем данные ,где количество картин более 10 штук в жанре."
   ]
  },
  {
   "cell_type": "code",
   "execution_count": 248,
   "metadata": {},
   "outputs": [],
   "source": [
    "top_genres = movie_support.value_counts('main_genres').head(8).index\n",
    "\n",
    "max_sup = movie_support.query('main_genres in @top_genres')"
   ]
  },
  {
   "cell_type": "code",
   "execution_count": 68,
   "metadata": {},
   "outputs": [
    {
     "data": {
      "image/png": "[encoded data removed]",
      "text/plain": [
       "<Figure size 432x288 with 1 Axes>"
      ]
     },
     "metadata": {
      "needs_background": "light"
     },
     "output_type": "display_data"
    }
   ],
   "source": [
    "(max_sup\n",
    "             .pivot_table(index='main_genres', values='ratings')\n",
    "             .sort_values('ratings', ascending=False)\n",
    "             .plot(y='ratings', kind='barh', legend=False)\n",
    ");\n",
    "plt.title('Рейтинг по жанрам фильма');\n",
    "plt.xlabel('Средний балл');\n",
    "plt.ylabel('Жанр');\n"
   ]
  },
  {
   "cell_type": "markdown",
   "metadata": {},
   "source": [
    "Наивысшую оценку, превышающую 6,2 получают фильмы жанра драма. У ужастиков средняя оценка ниже, чем у остальных фильмов и равна в среднем 5,2 балла."
   ]
  },
  {
   "cell_type": "markdown",
   "metadata": {},
   "source": [
    "- Проанализируем средние суммы сборов по жанрам фильмов с гос поддержкой"
   ]
  },
  {
   "cell_type": "markdown",
   "metadata": {},
   "source": [
    "Ранее мы рассматривали столбец **box_office** и говорили, что в нем встречаются аномально большие значения, удля анализа удалим их и посмотрим среднии суммы сбора по жанрам. Так же будем рассматривать жанры, у которых число картин больше 10."
   ]
  },
  {
   "cell_type": "code",
   "execution_count": 69,
   "metadata": {},
   "outputs": [
    {
     "data": {
      "text/html": [
       "<div>\n",
       "<style scoped>\n",
       "    .dataframe tbody tr th:only-of-type {\n",
       "        vertical-align: middle;\n",
       "    }\n",
       "\n",
       "    .dataframe tbody tr th {\n",
       "        vertical-align: top;\n",
       "    }\n",
       "\n",
       "    .dataframe thead th {\n",
       "        text-align: right;\n",
       "    }\n",
       "</style>\n",
       "<table border=\"1\" class=\"dataframe\">\n",
       "  <thead>\n",
       "    <tr style=\"text-align: right;\">\n",
       "      <th></th>\n",
       "      <th>box_office</th>\n",
       "    </tr>\n",
       "    <tr>\n",
       "      <th>main_genres</th>\n",
       "      <th></th>\n",
       "    </tr>\n",
       "  </thead>\n",
       "  <tbody>\n",
       "    <tr>\n",
       "      <th>мультфильм</th>\n",
       "      <td>201797244.49</td>\n",
       "    </tr>\n",
       "    <tr>\n",
       "      <th>комедия</th>\n",
       "      <td>114968348.41</td>\n",
       "    </tr>\n",
       "    <tr>\n",
       "      <th>фэнтези</th>\n",
       "      <td>90530600.72</td>\n",
       "    </tr>\n",
       "    <tr>\n",
       "      <th>ужасы</th>\n",
       "      <td>71012318.94</td>\n",
       "    </tr>\n",
       "    <tr>\n",
       "      <th>драма</th>\n",
       "      <td>64701941.42</td>\n",
       "    </tr>\n",
       "    <tr>\n",
       "      <th>триллер</th>\n",
       "      <td>33946699.29</td>\n",
       "    </tr>\n",
       "    <tr>\n",
       "      <th>мелодрама</th>\n",
       "      <td>3427303.86</td>\n",
       "    </tr>\n",
       "  </tbody>\n",
       "</table>\n",
       "</div>"
      ],
      "text/plain": [
       "              box_office\n",
       "main_genres             \n",
       "мультфильм  201797244.49\n",
       "комедия     114968348.41\n",
       "фэнтези      90530600.72\n",
       "ужасы        71012318.94\n",
       "драма        64701941.42\n",
       "триллер      33946699.29\n",
       "мелодрама     3427303.86"
      ]
     },
     "execution_count": 69,
     "metadata": {},
     "output_type": "execute_result"
    }
   ],
   "source": [
    "(max_sup\n",
    "        .query('box_office < 1000000000')\n",
    "        .pivot_table(index='main_genres', values='box_office').sort_values('box_office',ascending=False)\n",
    ")"
   ]
  },
  {
   "cell_type": "markdown",
   "metadata": {},
   "source": [
    "Показатель средней суммы сборов самый большой у мультфильмов и равен 201 млн руб за картину. Минимально собирают фильмы жанра мелодрама."
   ]
  },
  {
   "cell_type": "markdown",
   "metadata": {},
   "source": [
    "- Сравним рейтинг фильмов с государственной поддержкой и без нее."
   ]
  },
  {
   "cell_type": "code",
   "execution_count": 70,
   "metadata": {},
   "outputs": [],
   "source": [
    "#создадим столбец где True- есть поддержка, False-нет поддержки\n",
    "movies_new['support'] = movies_new['total_support'] > 0"
   ]
  },
  {
   "cell_type": "code",
   "execution_count": 71,
   "metadata": {},
   "outputs": [
    {
     "data": {
      "text/html": [
       "<div>\n",
       "<style scoped>\n",
       "    .dataframe tbody tr th:only-of-type {\n",
       "        vertical-align: middle;\n",
       "    }\n",
       "\n",
       "    .dataframe tbody tr th {\n",
       "        vertical-align: top;\n",
       "    }\n",
       "\n",
       "    .dataframe thead th {\n",
       "        text-align: right;\n",
       "    }\n",
       "</style>\n",
       "<table border=\"1\" class=\"dataframe\">\n",
       "  <thead>\n",
       "    <tr style=\"text-align: right;\">\n",
       "      <th></th>\n",
       "      <th>ratings</th>\n",
       "    </tr>\n",
       "  </thead>\n",
       "  <tbody>\n",
       "    <tr>\n",
       "      <th>Без гос поддержки</th>\n",
       "      <td>6.60</td>\n",
       "    </tr>\n",
       "    <tr>\n",
       "      <th>С гос подддержкой</th>\n",
       "      <td>6.20</td>\n",
       "    </tr>\n",
       "  </tbody>\n",
       "</table>\n",
       "</div>"
      ],
      "text/plain": [
       "                   ratings\n",
       "Без гос поддержки     6.60\n",
       "С гос подддержкой     6.20"
      ]
     },
     "execution_count": 71,
     "metadata": {},
     "output_type": "execute_result"
    }
   ],
   "source": [
    "raiting = movies_new.pivot_table(index='support', values='ratings', aggfunc='median')\n",
    "raiting.index = ['Без гос поддержки', 'С гос подддержкой']\n",
    "raiting"
   ]
  },
  {
   "cell_type": "markdown",
   "metadata": {},
   "source": [
    "Средний рейтинг фильмов с государственной поддержкой и без практически одинаков."
   ]
  },
  {
   "cell_type": "markdown",
   "metadata": {},
   "source": [
    "- Проанализируем источники финансирования."
   ]
  },
  {
   "cell_type": "code",
   "execution_count": 72,
   "metadata": {},
   "outputs": [
    {
     "data": {
      "text/html": [
       "<div>\n",
       "<style scoped>\n",
       "    .dataframe tbody tr th:only-of-type {\n",
       "        vertical-align: middle;\n",
       "    }\n",
       "\n",
       "    .dataframe tbody tr th {\n",
       "        vertical-align: top;\n",
       "    }\n",
       "\n",
       "    .dataframe thead th {\n",
       "        text-align: right;\n",
       "    }\n",
       "</style>\n",
       "<table border=\"1\" class=\"dataframe\">\n",
       "  <thead>\n",
       "    <tr style=\"text-align: right;\">\n",
       "      <th></th>\n",
       "      <th>Невозвратные средства</th>\n",
       "      <th>Возвратные средства</th>\n",
       "      <th>Общая сумма</th>\n",
       "    </tr>\n",
       "    <tr>\n",
       "      <th>financing_source</th>\n",
       "      <th></th>\n",
       "      <th></th>\n",
       "      <th></th>\n",
       "    </tr>\n",
       "  </thead>\n",
       "  <tbody>\n",
       "    <tr>\n",
       "      <th>Министерство культуры</th>\n",
       "      <td>4830661000.00</td>\n",
       "      <td>0.00</td>\n",
       "      <td>4830661000.00</td>\n",
       "    </tr>\n",
       "    <tr>\n",
       "      <th>Министерство культуры, Фонд кино</th>\n",
       "      <td>806931354.00</td>\n",
       "      <td>318153119.00</td>\n",
       "      <td>1125084473.00</td>\n",
       "    </tr>\n",
       "    <tr>\n",
       "      <th>Фонд кино</th>\n",
       "      <td>9086126493.00</td>\n",
       "      <td>3229500000.00</td>\n",
       "      <td>12315626493.00</td>\n",
       "    </tr>\n",
       "  </tbody>\n",
       "</table>\n",
       "</div>"
      ],
      "text/plain": [
       "                                  Невозвратные средства  Возвратные средства  \\\n",
       "financing_source                                                               \n",
       "Министерство культуры                     4830661000.00                 0.00   \n",
       "Министерство культуры, Фонд кино           806931354.00         318153119.00   \n",
       "Фонд кино                                 9086126493.00        3229500000.00   \n",
       "\n",
       "                                    Общая сумма  \n",
       "financing_source                                 \n",
       "Министерство культуры             4830661000.00  \n",
       "Министерство культуры, Фонд кино  1125084473.00  \n",
       "Фонд кино                        12315626493.00  "
      ]
     },
     "metadata": {},
     "output_type": "display_data"
    },
    {
     "data": {
      "text/plain": [
       "financing_source\n",
       "Министерство культуры               163\n",
       "Фонд кино                           130\n",
       "Министерство культуры, Фонд кино     20\n",
       "dtype: int64"
      ]
     },
     "execution_count": 72,
     "metadata": {},
     "output_type": "execute_result"
    }
   ],
   "source": [
    "sup = movie_support.pivot_table(index='financing_source', \n",
    "                                values=['refundable_support', 'nonrefundable_support', 'total_support'], aggfunc='sum')\n",
    "sup.columns = ['Невозвратные средства', 'Возвратные средства', 'Общая сумма',]\n",
    "\n",
    "display(sup)\n",
    "movie_support.value_counts('financing_source')"
   ]
  },
  {
   "cell_type": "markdown",
   "metadata": {},
   "source": [
    "Министерство культуры проспонсировало 163 фильма за анализируемые периоды, Фонд кино оказывает поддрежку чуть реже, за прошлое десятилетие он выделил средства для 130 картин. Так же есть фильмы, которым была оказана спонсорская помощь обеими организациями, таких 20 фильмов. Несмотря на то, что фонд кино профинансировал на 30 картин меньше, средств он выделил в разы больше. Так общая сумма гос поддержки от них составила 12 млр. рублей, в то время как министерство культуры выделило 4,8 млр. руб. Стоит обратить внимание, что министерство культуры не выделяет возвратные средства, а у Фонда кино 26% являются возвратными."
   ]
  },
  {
   "cell_type": "markdown",
   "metadata": {},
   "source": [
    "- Проанализируем как влияет возрастная категория на выделение государственной поддержки"
   ]
  },
  {
   "cell_type": "code",
   "execution_count": 73,
   "metadata": {},
   "outputs": [
    {
     "data": {
      "text/html": [
       "<div>\n",
       "<style scoped>\n",
       "    .dataframe tbody tr th:only-of-type {\n",
       "        vertical-align: middle;\n",
       "    }\n",
       "\n",
       "    .dataframe tbody tr th {\n",
       "        vertical-align: top;\n",
       "    }\n",
       "\n",
       "    .dataframe thead th {\n",
       "        text-align: right;\n",
       "    }\n",
       "</style>\n",
       "<table border=\"1\" class=\"dataframe\">\n",
       "  <thead>\n",
       "    <tr style=\"text-align: right;\">\n",
       "      <th></th>\n",
       "      <th>Общая сумма</th>\n",
       "      <th>Количество фильмов</th>\n",
       "    </tr>\n",
       "    <tr>\n",
       "      <th>age</th>\n",
       "      <th></th>\n",
       "      <th></th>\n",
       "    </tr>\n",
       "  </thead>\n",
       "  <tbody>\n",
       "    <tr>\n",
       "      <th>«0+»</th>\n",
       "      <td>273520000.00</td>\n",
       "      <td>8</td>\n",
       "    </tr>\n",
       "    <tr>\n",
       "      <th>«12+»</th>\n",
       "      <td>6963394165.00</td>\n",
       "      <td>102</td>\n",
       "    </tr>\n",
       "    <tr>\n",
       "      <th>«16+»</th>\n",
       "      <td>5241053319.00</td>\n",
       "      <td>118</td>\n",
       "    </tr>\n",
       "    <tr>\n",
       "      <th>«18+»</th>\n",
       "      <td>916000000.00</td>\n",
       "      <td>26</td>\n",
       "    </tr>\n",
       "    <tr>\n",
       "      <th>«6+»</th>\n",
       "      <td>4877404482.00</td>\n",
       "      <td>59</td>\n",
       "    </tr>\n",
       "  </tbody>\n",
       "</table>\n",
       "</div>"
      ],
      "text/plain": [
       "        Общая сумма  Количество фильмов\n",
       "age                                    \n",
       "«0+»   273520000.00                   8\n",
       "«12+» 6963394165.00                 102\n",
       "«16+» 5241053319.00                 118\n",
       "«18+»  916000000.00                  26\n",
       "«6+»  4877404482.00                  59"
      ]
     },
     "execution_count": 73,
     "metadata": {},
     "output_type": "execute_result"
    }
   ],
   "source": [
    "age_support = movies_new.pivot_table(index='age', values='total_support', aggfunc=['sum', 'count'])\n",
    "age_support.columns = ['Общая сумма', 'Количество фильмов']\n",
    "age_support"
   ]
  },
  {
   "cell_type": "markdown",
   "metadata": {},
   "source": [
    "На основании данных можно сделать вывод, что государство делает упор на фильмы предназначенные для подростков и дошкольников. Больше 200 фильмов с категорией 12+ и 16+ получили финансирование, а фильмов для взрослых или малышей было всего 26 и 8 соответственно. Аномально большие значения финансовой помощи так же были в возрастных категориях 12+ и 16+. Стоит обратить внимание на категорию 6+. Фильмов с гос поддержкой в этой категории было выпущено в два раза меньше , чем с категорией 16+, но средств было выделено практически одинакого. Такие показатели связаны с тем, что два фильма(\"Движение вверх\", \"Экипаж\") получили аномально больше суммы гос поддержки равные 400 млн. рублей. "
   ]
  },
  {
   "cell_type": "markdown",
   "metadata": {},
   "source": [
    "- Проанализируем обьем государственной поддержки по годам."
   ]
  },
  {
   "cell_type": "code",
   "execution_count": 74,
   "metadata": {},
   "outputs": [
    {
     "data": {
      "image/png": "[encoded data removed]",
      "text/plain": [
       "<Figure size 432x288 with 1 Axes>"
      ]
     },
     "metadata": {
      "needs_background": "light"
     },
     "output_type": "display_data"
    }
   ],
   "source": [
    "(movie_support\n",
    "              .pivot_table(index='years_show', values='total_support', aggfunc='sum')\n",
    "              .plot(y='total_support', kind='bar', legend=False)\n",
    ");\n",
    "plt.title('Сумма государственной поддержки по годам.');\n",
    "plt.xlabel('год');\n",
    "plt.ylabel('сумма');\n",
    "plt.xticks(rotation = 'horizontal');"
   ]
  },
  {
   "cell_type": "markdown",
   "metadata": {},
   "source": [
    "Максимальный объем государственной поддержки был оказан в 2019 году и составил 4,2 млрд. рублей. В 2016 году этот показатель был так же высок и составлял 3,9 млрд. рублей. В 2017-2018 годах был спад гос помощи и равнялся 3 млрд рублей в год. Анализируя предоставленные нам данные можно сделать вывод, что в 2010-2011 годах спонсорской помощи от государства не было, а в 2013-2014 она была в разы меньше, чем в следующие года, либо мы владеем не полными данными до 2015 года. "
   ]
  },
  {
   "cell_type": "markdown",
   "metadata": {},
   "source": [
    "- Проанализируем как связаны режиссеры и суммы гос поддержки"
   ]
  },
  {
   "cell_type": "code",
   "execution_count": 75,
   "metadata": {},
   "outputs": [
    {
     "data": {
      "text/html": [
       "<div>\n",
       "<style scoped>\n",
       "    .dataframe tbody tr th:only-of-type {\n",
       "        vertical-align: middle;\n",
       "    }\n",
       "\n",
       "    .dataframe tbody tr th {\n",
       "        vertical-align: top;\n",
       "    }\n",
       "\n",
       "    .dataframe thead th {\n",
       "        text-align: right;\n",
       "    }\n",
       "</style>\n",
       "<table border=\"1\" class=\"dataframe\">\n",
       "  <thead>\n",
       "    <tr style=\"text-align: right;\">\n",
       "      <th></th>\n",
       "      <th>Сумма поддержки</th>\n",
       "      <th>Количество фильмов</th>\n",
       "    </tr>\n",
       "    <tr>\n",
       "      <th>main_director</th>\n",
       "      <th></th>\n",
       "      <th></th>\n",
       "    </tr>\n",
       "  </thead>\n",
       "  <tbody>\n",
       "    <tr>\n",
       "      <th>Н.Хомерики</th>\n",
       "      <td>600000000.00</td>\n",
       "      <td>2</td>\n",
       "    </tr>\n",
       "    <tr>\n",
       "      <th>А.Кравчук</th>\n",
       "      <td>500000000.00</td>\n",
       "      <td>1</td>\n",
       "    </tr>\n",
       "    <tr>\n",
       "      <th>Р.Давлетьяров</th>\n",
       "      <td>459847945.00</td>\n",
       "      <td>5</td>\n",
       "    </tr>\n",
       "    <tr>\n",
       "      <th>А.Мизгирев</th>\n",
       "      <td>450000000.00</td>\n",
       "      <td>1</td>\n",
       "    </tr>\n",
       "    <tr>\n",
       "      <th>Н.Лебедев</th>\n",
       "      <td>442104482.00</td>\n",
       "      <td>1</td>\n",
       "    </tr>\n",
       "    <tr>\n",
       "      <th>А.Мегердичев</th>\n",
       "      <td>400000000.00</td>\n",
       "      <td>1</td>\n",
       "    </tr>\n",
       "    <tr>\n",
       "      <th>Д.Дьяченко</th>\n",
       "      <td>351000000.00</td>\n",
       "      <td>4</td>\n",
       "    </tr>\n",
       "    <tr>\n",
       "      <th>А.Цицилин</th>\n",
       "      <td>350000000.00</td>\n",
       "      <td>3</td>\n",
       "    </tr>\n",
       "    <tr>\n",
       "      <th>Д.Киселев</th>\n",
       "      <td>350000000.00</td>\n",
       "      <td>2</td>\n",
       "    </tr>\n",
       "    <tr>\n",
       "      <th>И.Шурховецкий</th>\n",
       "      <td>350000000.00</td>\n",
       "      <td>1</td>\n",
       "    </tr>\n",
       "  </tbody>\n",
       "</table>\n",
       "</div>"
      ],
      "text/plain": [
       "               Сумма поддержки  Количество фильмов\n",
       "main_director                                     \n",
       "Н.Хомерики        600000000.00                   2\n",
       "А.Кравчук         500000000.00                   1\n",
       "Р.Давлетьяров     459847945.00                   5\n",
       "А.Мизгирев        450000000.00                   1\n",
       "Н.Лебедев         442104482.00                   1\n",
       "А.Мегердичев      400000000.00                   1\n",
       "Д.Дьяченко        351000000.00                   4\n",
       "А.Цицилин         350000000.00                   3\n",
       "Д.Киселев         350000000.00                   2\n",
       "И.Шурховецкий     350000000.00                   1"
      ]
     },
     "execution_count": 75,
     "metadata": {},
     "output_type": "execute_result"
    }
   ],
   "source": [
    "director = movie_support.pivot_table(index='main_director', values='total_support', aggfunc=['sum','count'])\n",
    "director.columns = ['Сумма поддержки', 'Количество фильмов']\n",
    "director.sort_values('Сумма поддержки', ascending = False).head(10)\n"
   ]
  },
  {
   "cell_type": "code",
   "execution_count": 76,
   "metadata": {},
   "outputs": [
    {
     "data": {
      "text/html": [
       "<div>\n",
       "<style scoped>\n",
       "    .dataframe tbody tr th:only-of-type {\n",
       "        vertical-align: middle;\n",
       "    }\n",
       "\n",
       "    .dataframe tbody tr th {\n",
       "        vertical-align: top;\n",
       "    }\n",
       "\n",
       "    .dataframe thead th {\n",
       "        text-align: right;\n",
       "    }\n",
       "</style>\n",
       "<table border=\"1\" class=\"dataframe\">\n",
       "  <thead>\n",
       "    <tr style=\"text-align: right;\">\n",
       "      <th></th>\n",
       "      <th>Сумма поддержки</th>\n",
       "      <th>Количество фильмов</th>\n",
       "    </tr>\n",
       "    <tr>\n",
       "      <th>main_director</th>\n",
       "      <th></th>\n",
       "      <th></th>\n",
       "    </tr>\n",
       "  </thead>\n",
       "  <tbody>\n",
       "    <tr>\n",
       "      <th>Р.Давлетьяров</th>\n",
       "      <td>459847945.00</td>\n",
       "      <td>5</td>\n",
       "    </tr>\n",
       "    <tr>\n",
       "      <th>Д.Дьяченко</th>\n",
       "      <td>351000000.00</td>\n",
       "      <td>4</td>\n",
       "    </tr>\n",
       "    <tr>\n",
       "      <th>С.Андреасян</th>\n",
       "      <td>325000000.00</td>\n",
       "      <td>4</td>\n",
       "    </tr>\n",
       "    <tr>\n",
       "      <th>С.Мокрицкий</th>\n",
       "      <td>202510000.00</td>\n",
       "      <td>3</td>\n",
       "    </tr>\n",
       "    <tr>\n",
       "      <th>Д.Шмидт</th>\n",
       "      <td>215000000.00</td>\n",
       "      <td>3</td>\n",
       "    </tr>\n",
       "    <tr>\n",
       "      <th>А.Котт</th>\n",
       "      <td>129000000.00</td>\n",
       "      <td>3</td>\n",
       "    </tr>\n",
       "    <tr>\n",
       "      <th>А.Цицилин</th>\n",
       "      <td>350000000.00</td>\n",
       "      <td>3</td>\n",
       "    </tr>\n",
       "    <tr>\n",
       "      <th>А.Аксененко</th>\n",
       "      <td>90000000.00</td>\n",
       "      <td>3</td>\n",
       "    </tr>\n",
       "    <tr>\n",
       "      <th>К.Шипенко</th>\n",
       "      <td>312000000.00</td>\n",
       "      <td>3</td>\n",
       "    </tr>\n",
       "    <tr>\n",
       "      <th>А.Пармас</th>\n",
       "      <td>55000000.00</td>\n",
       "      <td>2</td>\n",
       "    </tr>\n",
       "  </tbody>\n",
       "</table>\n",
       "</div>"
      ],
      "text/plain": [
       "               Сумма поддержки  Количество фильмов\n",
       "main_director                                     \n",
       "Р.Давлетьяров     459847945.00                   5\n",
       "Д.Дьяченко        351000000.00                   4\n",
       "С.Андреасян       325000000.00                   4\n",
       "С.Мокрицкий       202510000.00                   3\n",
       "Д.Шмидт           215000000.00                   3\n",
       "А.Котт            129000000.00                   3\n",
       "А.Цицилин         350000000.00                   3\n",
       "А.Аксененко        90000000.00                   3\n",
       "К.Шипенко         312000000.00                   3\n",
       "А.Пармас           55000000.00                   2"
      ]
     },
     "execution_count": 76,
     "metadata": {},
     "output_type": "execute_result"
    }
   ],
   "source": [
    "director.sort_values('Количество фильмов', ascending = False).head(10)"
   ]
  },
  {
   "cell_type": "markdown",
   "metadata": {},
   "source": [
    "На основании сводных таблиц, можно проследить зависимость, тем режиссерам, кому помощь выделялась чаще(три и более фильма), сумма этой помощи меньше в разы, в отличии от картин, режиссерам которых выделялась помощь лишь однажды."
   ]
  },
  {
   "cell_type": "markdown",
   "metadata": {
    "id": "V2gYwMcPgFyd"
   },
   "source": [
    "### Общий вывод"
   ]
  },
  {
   "cell_type": "markdown",
   "metadata": {},
   "source": [
    "На основании исследовательского анализа данных, можно сделать вывод:\n",
    "    \n",
    "1. Максимальная доля фильмов, с указанной информацией о прокате в кинотеатрах была в 2017 году и составила 72%, но в этот год вышло почти самое минимальное количество фильмов- 495 картин. Больше всего картин вышло в 2018 , 2019 годах, доля с информацией о собранных средствах в прокате превышает 50%. Минимальная информация о прокате в кинотеатре указана за 2010-2012 года, информация о прокате в кино не превышает 24%.\n",
    "2. Минимальная сумма сборов была в 2010 году и составила всего 2,4 млн. рублей. В 2010-2012 года динамика практически не менялась, в 2014 году сумма сбора увеличилась в несколько раз, в 2015 можно наблюдать так же резкий скачок суммы, она достигла 38 млрд рублей. С 2017 по 2019 можно уже наблюдать плавный рост сумм сбора средств.\n",
    "3. Средняя и медианная сумма сборов имеют совершенно разные значения.В связи с тем, что в данных представлены совершенно разные фильмы по целевым критериям. Есть фильмы, которые были в прокате лишь на закрытых показах и сумма их сбора не может сравниться с мировыми картинами, идущими в кино во всех странах.\n",
    "4. На протяжении всего рассматриваемого периода с 2015 года по 2019 год самый минимальный средний сбор показывает фильмы с возрастным ограничением 0+. Лишь в 2017 году средний сбор с проката фильма 0+ увеличился вдвое и достиг 76 млн.руб.\n",
    "Лидирующие позиции почти во все года занимают фильмы категории 6+, сборы в 2017 году составили более 273 млн. рублей. Можно сделать вывод, что возрастная категория влияет на сборы от проката фильмов, так категория 6+ в среднем собирает в два раза больше средств, чем 18+.Категории 12+ и 6+ более востребованы у зрителя. Возрастное ограничение 0+ занимает последние позиции в рейтинге сбора средств с проката.\n",
    "5. Фильмы с возрастным ограничением 16+ собрали наибольшее количество средств. Минимальное количество средст ежегодно собирают фильмы 0+,связано это и в том числе с тем, что картин данной категории выходит на порядок меньше, чем остальных.\n",
    "6. Половина фильмов из представленных данных получили государственную поддержку в размере 35 млн. рублей. Есть выдающие значения в данных. Так картина 'Союз спасения' получила от государства 500 млн. рублей.\n",
    "7. Более 200 фильмов были убыточными. Всего 66 фильмов имели прибыль после проката каритины в кинотеатрах.\n",
    "8. Коэффициент корреляции равен 0,1 и показывает, что зависимости рейтинга от окупаемости и бюджета картины нет. Как высокий так и низкий рейтинг получают картины похожими бюджетами.\n",
    "9. На фильмы с жанром драма выделялось более 5 млрд рублей  за рассматриваемое десятилетие. В два раза меньше спонсировались фильмы жанра комедия. Минимальные инвестиции были в жанры реальное ТВ и составили 53 млн руб.\n",
    "10. Наивысшую оценку, превышающую 6,2 получают фильмы жанра драма. У ужастиков средняя оценка ниже, чем у остальных фильмов и равна в среднем 5,2 балла.\n",
    "11. Средний рейтинг фильмов с государственной поддержкой и без практически одинаков\n",
    "12. Министерство культуры проспонсировало 163 фильма за анализируемые периоды, Фонд кино оказывает поддрежку чуть реже, за прошлое десятилетие он выделил средства для 130 картин. Так же есть фильмы, которым была оказана спонсорская помощь обеими организациями, таких 20 фильмов. Несмотря на то, что фонд кино профинансировал на 30 картин меньше, средств он выделил в разы больше. Так общая сумма гос поддержки от них составила 12 млр. рублей, в то время как министерство культуры выделило 4,8 млр. руб. Стоит обратить внимание, что министерство культуры не выделяет возвратные средства, а у Фонда кино 26% являются возвратными.\n",
    "13. На основании данных можно сделать вывод, что государство делает упор на фильмы предназначенные для подростков и дошкольников. Больше 200 фильмов с категорией 12+ и 16+ получили финансирование, а фильмов для взрослых или малышей было всего 26 и 8 соответственно. Аномально большие значения финансовой помощи так же были в возрастных категориях 12+ и 16+. Стоит обратить внимание на категорию 6+. Фильмов с гос поддержкой в этой категории было выпущено в два раза меньше , чем с категорией 16+, но средств было выделено практически одинакого. Такие показатели связаны с тем, что два фильма(\"Движение вверх\", \"Экипаж\") получили аномально больше суммы гос поддержки равные 400 млн. рублей.\n",
    "14. Максимальный объем государственной поддержки был оказан в 2019 году и составил 4,2 млрд. рублей. В 2016 году этот показатель был так же высок и составлял 3,9 млрд. рублей. В 2017-2018 годах был спад гос помощи и равнялся 3 млрд рублей в год. Анализируя предоставленные нам данные можно сделать вывод, что в 2010-2011 годах спонсорской помощи от государства не было, а в 2013-2014 она была в разы меньше, чем в следующие года, либо мы владеем не полными данными до 2015 года.\n",
    "15. На основании анализа, можно проследить зависимость, тем режиссерам, кому помощь выделялась чаще(три и более фильма), сумма этой помощи меньше в разы, в отличии от картин, режиссерам которых выделялась помощь лишь однажды.\n",
    "16. Показатель средней суммы сборов самый большой у мультфильмов и равен 201 млн руб за картину. Минимально собирают фильмы жанра мелодрама.\n",
    "\n",
    "\n",
    "На основании проведенного исследования можно порекомендовать продолжать осуществлять поддержку фильмам жанра драма, так как картины данного жанра получают высокие оценки зрителя. Так же советуем обратить внимания и увеличить спонсорскую поддержку фильмам жанра мультфильм и комедия, так как средние суммы сборов по ним показывают наибольшие значения.\n"
   ]
  }
 ],
 "metadata": {
  "ExecuteTimeLog": [
   {
    "duration": 537,
    "start_time": "2021-07-07T10:12:08.634Z"
   },
   {
    "duration": 206,
    "start_time": "2021-07-07T10:12:30.191Z"
   },
   {
    "duration": 227,
    "start_time": "2021-07-07T10:12:33.078Z"
   },
   {
    "duration": 153,
    "start_time": "2021-07-07T10:13:42.146Z"
   },
   {
    "duration": 233,
    "start_time": "2021-07-07T10:30:09.252Z"
   },
   {
    "duration": 19,
    "start_time": "2021-07-07T10:30:15.577Z"
   },
   {
    "duration": 18,
    "start_time": "2021-07-07T10:30:57.348Z"
   },
   {
    "duration": 19,
    "start_time": "2021-07-07T10:31:17.452Z"
   },
   {
    "duration": 21,
    "start_time": "2021-07-07T10:31:32.227Z"
   },
   {
    "duration": 27,
    "start_time": "2021-07-07T10:32:06.588Z"
   },
   {
    "duration": 23,
    "start_time": "2021-07-07T10:32:43.645Z"
   },
   {
    "duration": 24,
    "start_time": "2021-07-07T10:33:06.948Z"
   },
   {
    "duration": 7,
    "start_time": "2021-07-07T10:33:28.558Z"
   },
   {
    "duration": 23,
    "start_time": "2021-07-07T10:33:43.761Z"
   },
   {
    "duration": 28,
    "start_time": "2021-07-07T10:34:13.466Z"
   },
   {
    "duration": 23,
    "start_time": "2021-07-07T10:35:56.187Z"
   },
   {
    "duration": 6,
    "start_time": "2021-07-07T10:36:48.182Z"
   },
   {
    "duration": 14,
    "start_time": "2021-07-07T10:37:49.641Z"
   },
   {
    "duration": 6,
    "start_time": "2021-07-07T10:38:06.694Z"
   },
   {
    "duration": 6,
    "start_time": "2021-07-07T10:38:13.493Z"
   },
   {
    "duration": 19,
    "start_time": "2021-07-07T10:38:44.056Z"
   },
   {
    "duration": 186,
    "start_time": "2021-07-07T10:48:35.618Z"
   },
   {
    "duration": 24,
    "start_time": "2021-07-07T10:48:51.498Z"
   },
   {
    "duration": 20,
    "start_time": "2021-07-07T10:48:59.415Z"
   },
   {
    "duration": 20,
    "start_time": "2021-07-07T10:53:02.195Z"
   },
   {
    "duration": 188,
    "start_time": "2021-07-07T10:54:40.486Z"
   },
   {
    "duration": 115,
    "start_time": "2021-07-07T10:54:52.552Z"
   },
   {
    "duration": 214,
    "start_time": "2021-07-07T10:54:56.354Z"
   },
   {
    "duration": 47,
    "start_time": "2021-07-07T10:54:58.282Z"
   },
   {
    "duration": 217,
    "start_time": "2021-07-07T10:59:16.075Z"
   },
   {
    "duration": 51,
    "start_time": "2021-07-07T10:59:16.243Z"
   },
   {
    "duration": 578,
    "start_time": "2021-07-07T10:59:18.774Z"
   },
   {
    "duration": 161,
    "start_time": "2021-07-07T10:59:21.238Z"
   },
   {
    "duration": 59,
    "start_time": "2021-07-07T10:59:21.453Z"
   },
   {
    "duration": 3,
    "start_time": "2021-07-07T11:02:10.786Z"
   },
   {
    "duration": 13,
    "start_time": "2021-07-07T11:07:07.722Z"
   },
   {
    "duration": 26,
    "start_time": "2021-07-07T11:07:17.958Z"
   },
   {
    "duration": 22,
    "start_time": "2021-07-07T11:08:17.939Z"
   },
   {
    "duration": 212,
    "start_time": "2021-07-07T11:08:19.665Z"
   },
   {
    "duration": 21,
    "start_time": "2021-07-07T11:08:29.945Z"
   },
   {
    "duration": 31,
    "start_time": "2021-07-07T11:08:38.899Z"
   },
   {
    "duration": 23,
    "start_time": "2021-07-07T11:08:54.527Z"
   },
   {
    "duration": 8,
    "start_time": "2021-07-07T11:18:55.974Z"
   },
   {
    "duration": 7,
    "start_time": "2021-07-07T11:19:03.639Z"
   },
   {
    "duration": 7,
    "start_time": "2021-07-07T11:19:06.444Z"
   },
   {
    "duration": 578,
    "start_time": "2021-07-07T12:09:59.576Z"
   },
   {
    "duration": 195,
    "start_time": "2021-07-07T12:10:00.156Z"
   },
   {
    "duration": 115,
    "start_time": "2021-07-07T12:10:00.353Z"
   },
   {
    "duration": 3,
    "start_time": "2021-07-07T12:10:00.470Z"
   },
   {
    "duration": 32,
    "start_time": "2021-07-07T12:10:00.474Z"
   },
   {
    "duration": 23,
    "start_time": "2021-07-07T12:10:00.508Z"
   },
   {
    "duration": 19,
    "start_time": "2021-07-07T12:10:00.533Z"
   },
   {
    "duration": 44,
    "start_time": "2021-07-07T12:10:00.553Z"
   },
   {
    "duration": 7,
    "start_time": "2021-07-07T12:10:00.600Z"
   },
   {
    "duration": 7,
    "start_time": "2021-07-07T12:19:45.761Z"
   },
   {
    "duration": 21,
    "start_time": "2021-07-07T12:21:35.482Z"
   },
   {
    "duration": 21,
    "start_time": "2021-07-07T12:29:23.569Z"
   },
   {
    "duration": 525,
    "start_time": "2021-07-07T12:29:44.542Z"
   },
   {
    "duration": 214,
    "start_time": "2021-07-07T12:29:45.069Z"
   },
   {
    "duration": 92,
    "start_time": "2021-07-07T12:29:45.285Z"
   },
   {
    "duration": 3,
    "start_time": "2021-07-07T12:29:45.379Z"
   },
   {
    "duration": 28,
    "start_time": "2021-07-07T12:29:45.384Z"
   },
   {
    "duration": 23,
    "start_time": "2021-07-07T12:29:45.413Z"
   },
   {
    "duration": 21,
    "start_time": "2021-07-07T12:29:45.437Z"
   },
   {
    "duration": 41,
    "start_time": "2021-07-07T12:29:45.460Z"
   },
   {
    "duration": 7,
    "start_time": "2021-07-07T12:29:45.502Z"
   },
   {
    "duration": 20,
    "start_time": "2021-07-07T12:29:45.511Z"
   },
   {
    "duration": 12,
    "start_time": "2021-07-07T12:34:02.800Z"
   },
   {
    "duration": 7,
    "start_time": "2021-07-07T12:35:10.479Z"
   },
   {
    "duration": 8,
    "start_time": "2021-07-07T12:35:22.440Z"
   },
   {
    "duration": 6,
    "start_time": "2021-07-07T12:35:35.649Z"
   },
   {
    "duration": 6,
    "start_time": "2021-07-07T12:35:43.107Z"
   },
   {
    "duration": 22,
    "start_time": "2021-07-07T12:38:03.029Z"
   },
   {
    "duration": 10,
    "start_time": "2021-07-07T12:38:06.592Z"
   },
   {
    "duration": 563,
    "start_time": "2021-07-07T12:38:46.493Z"
   },
   {
    "duration": 265,
    "start_time": "2021-07-07T12:38:47.058Z"
   },
   {
    "duration": 94,
    "start_time": "2021-07-07T12:38:47.325Z"
   },
   {
    "duration": 3,
    "start_time": "2021-07-07T12:38:47.422Z"
   },
   {
    "duration": 30,
    "start_time": "2021-07-07T12:38:47.427Z"
   },
   {
    "duration": 16,
    "start_time": "2021-07-07T12:38:53.305Z"
   },
   {
    "duration": 10,
    "start_time": "2021-07-07T12:38:53.499Z"
   },
   {
    "duration": 8,
    "start_time": "2021-07-07T12:39:48.161Z"
   },
   {
    "duration": 27,
    "start_time": "2021-07-07T12:41:17.629Z"
   },
   {
    "duration": 17,
    "start_time": "2021-07-07T12:41:17.867Z"
   },
   {
    "duration": 21,
    "start_time": "2021-07-07T12:41:19.310Z"
   },
   {
    "duration": 7,
    "start_time": "2021-07-07T12:41:19.544Z"
   },
   {
    "duration": 20,
    "start_time": "2021-07-07T12:41:20.504Z"
   },
   {
    "duration": 554,
    "start_time": "2021-07-07T12:56:23.696Z"
   },
   {
    "duration": 200,
    "start_time": "2021-07-07T12:56:25.234Z"
   },
   {
    "duration": 119,
    "start_time": "2021-07-07T12:56:25.480Z"
   },
   {
    "duration": 4,
    "start_time": "2021-07-07T12:56:25.762Z"
   },
   {
    "duration": 26,
    "start_time": "2021-07-07T12:56:27.172Z"
   },
   {
    "duration": 12,
    "start_time": "2021-07-07T12:56:29.051Z"
   },
   {
    "duration": 10,
    "start_time": "2021-07-07T12:56:29.291Z"
   },
   {
    "duration": 8,
    "start_time": "2021-07-07T12:56:29.623Z"
   },
   {
    "duration": 28,
    "start_time": "2021-07-07T12:56:32.137Z"
   },
   {
    "duration": 19,
    "start_time": "2021-07-07T12:56:39.785Z"
   },
   {
    "duration": 20,
    "start_time": "2021-07-07T12:56:44.297Z"
   },
   {
    "duration": 7,
    "start_time": "2021-07-07T12:56:45.392Z"
   },
   {
    "duration": 23,
    "start_time": "2021-07-07T12:56:46.615Z"
   },
   {
    "duration": 4,
    "start_time": "2021-07-07T12:57:06.625Z"
   },
   {
    "duration": 32,
    "start_time": "2021-07-07T12:57:36.690Z"
   },
   {
    "duration": 18,
    "start_time": "2021-07-07T12:58:00.149Z"
   },
   {
    "duration": 15,
    "start_time": "2021-07-07T12:59:16.793Z"
   },
   {
    "duration": 7,
    "start_time": "2021-07-07T13:19:22.624Z"
   },
   {
    "duration": 6,
    "start_time": "2021-07-07T14:17:33.527Z"
   },
   {
    "duration": 9,
    "start_time": "2021-07-07T14:17:48.409Z"
   },
   {
    "duration": 8,
    "start_time": "2021-07-07T14:20:13.060Z"
   },
   {
    "duration": 8,
    "start_time": "2021-07-07T14:20:37.957Z"
   },
   {
    "duration": 8,
    "start_time": "2021-07-07T14:20:47.470Z"
   },
   {
    "duration": 9,
    "start_time": "2021-07-07T14:20:54.503Z"
   },
   {
    "duration": 10,
    "start_time": "2021-07-07T14:28:57.763Z"
   },
   {
    "duration": 3,
    "start_time": "2021-07-07T14:30:23.377Z"
   },
   {
    "duration": 3,
    "start_time": "2021-07-07T14:30:36.489Z"
   },
   {
    "duration": 103,
    "start_time": "2021-07-07T14:30:52.351Z"
   },
   {
    "duration": 8,
    "start_time": "2021-07-07T14:30:54.763Z"
   },
   {
    "duration": 8,
    "start_time": "2021-07-07T14:31:29.301Z"
   },
   {
    "duration": 13,
    "start_time": "2021-07-07T14:31:44.516Z"
   },
   {
    "duration": 7,
    "start_time": "2021-07-07T14:33:10.972Z"
   },
   {
    "duration": 11,
    "start_time": "2021-07-07T14:33:27.780Z"
   },
   {
    "duration": 8,
    "start_time": "2021-07-07T14:34:44.588Z"
   },
   {
    "duration": 57,
    "start_time": "2021-07-07T14:35:59.042Z"
   },
   {
    "duration": 3,
    "start_time": "2021-07-07T14:36:28.168Z"
   },
   {
    "duration": 5,
    "start_time": "2021-07-07T14:36:46.254Z"
   },
   {
    "duration": 4,
    "start_time": "2021-07-07T14:36:52.714Z"
   },
   {
    "duration": 3,
    "start_time": "2021-07-07T14:36:56.612Z"
   },
   {
    "duration": 4,
    "start_time": "2021-07-07T14:36:57.049Z"
   },
   {
    "duration": 3,
    "start_time": "2021-07-07T14:39:21.214Z"
   },
   {
    "duration": 7,
    "start_time": "2021-07-07T14:39:52.406Z"
   },
   {
    "duration": 11,
    "start_time": "2021-07-07T14:39:58.576Z"
   },
   {
    "duration": 9,
    "start_time": "2021-07-07T14:40:26.301Z"
   },
   {
    "duration": 10,
    "start_time": "2021-07-07T14:40:31.704Z"
   },
   {
    "duration": 11,
    "start_time": "2021-07-07T14:40:36.249Z"
   },
   {
    "duration": 10,
    "start_time": "2021-07-07T14:40:39.783Z"
   },
   {
    "duration": 9,
    "start_time": "2021-07-07T14:40:48.558Z"
   },
   {
    "duration": 10,
    "start_time": "2021-07-07T14:40:57.143Z"
   },
   {
    "duration": 9,
    "start_time": "2021-07-07T14:41:06.074Z"
   },
   {
    "duration": 4324,
    "start_time": "2021-07-07T14:41:22.004Z"
   },
   {
    "duration": 11,
    "start_time": "2021-07-07T14:41:33.392Z"
   },
   {
    "duration": 9,
    "start_time": "2021-07-07T14:41:39.288Z"
   },
   {
    "duration": 569,
    "start_time": "2021-07-07T14:42:14.387Z"
   },
   {
    "duration": 197,
    "start_time": "2021-07-07T14:42:14.959Z"
   },
   {
    "duration": 84,
    "start_time": "2021-07-07T14:42:16.052Z"
   },
   {
    "duration": 4,
    "start_time": "2021-07-07T14:42:16.900Z"
   },
   {
    "duration": 27,
    "start_time": "2021-07-07T14:42:19.898Z"
   },
   {
    "duration": 12,
    "start_time": "2021-07-07T14:42:21.577Z"
   },
   {
    "duration": 9,
    "start_time": "2021-07-07T14:42:21.813Z"
   },
   {
    "duration": 9,
    "start_time": "2021-07-07T14:42:22.569Z"
   },
   {
    "duration": 29,
    "start_time": "2021-07-07T14:42:25.837Z"
   },
   {
    "duration": 20,
    "start_time": "2021-07-07T14:42:27.003Z"
   },
   {
    "duration": 21,
    "start_time": "2021-07-07T14:42:28.767Z"
   },
   {
    "duration": 7,
    "start_time": "2021-07-07T14:42:29.838Z"
   },
   {
    "duration": 4,
    "start_time": "2021-07-07T14:43:25.493Z"
   },
   {
    "duration": 7,
    "start_time": "2021-07-07T14:43:26.573Z"
   },
   {
    "duration": 10,
    "start_time": "2021-07-07T14:43:31.639Z"
   },
   {
    "duration": 9,
    "start_time": "2021-07-07T14:43:32.046Z"
   },
   {
    "duration": 10,
    "start_time": "2021-07-07T14:43:33.301Z"
   },
   {
    "duration": 12,
    "start_time": "2021-07-07T14:43:33.658Z"
   },
   {
    "duration": 8,
    "start_time": "2021-07-07T14:43:34.552Z"
   },
   {
    "duration": 9,
    "start_time": "2021-07-07T14:43:35.058Z"
   },
   {
    "duration": 12,
    "start_time": "2021-07-07T14:43:35.914Z"
   },
   {
    "duration": 17,
    "start_time": "2021-07-07T14:45:34.368Z"
   },
   {
    "duration": 512,
    "start_time": "2021-07-07T14:51:58.236Z"
   },
   {
    "duration": 223,
    "start_time": "2021-07-07T14:51:58.750Z"
   },
   {
    "duration": 93,
    "start_time": "2021-07-07T14:51:58.977Z"
   },
   {
    "duration": 4,
    "start_time": "2021-07-07T14:51:59.071Z"
   },
   {
    "duration": 37,
    "start_time": "2021-07-07T14:51:59.077Z"
   },
   {
    "duration": 18,
    "start_time": "2021-07-07T14:51:59.116Z"
   },
   {
    "duration": 10,
    "start_time": "2021-07-07T14:51:59.137Z"
   },
   {
    "duration": 8,
    "start_time": "2021-07-07T14:51:59.149Z"
   },
   {
    "duration": 54,
    "start_time": "2021-07-07T14:51:59.158Z"
   },
   {
    "duration": 18,
    "start_time": "2021-07-07T14:51:59.213Z"
   },
   {
    "duration": 22,
    "start_time": "2021-07-07T14:51:59.232Z"
   },
   {
    "duration": 36,
    "start_time": "2021-07-07T14:51:59.255Z"
   },
   {
    "duration": 7,
    "start_time": "2021-07-07T14:51:59.293Z"
   },
   {
    "duration": 10,
    "start_time": "2021-07-07T14:51:59.302Z"
   },
   {
    "duration": 9,
    "start_time": "2021-07-07T14:51:59.313Z"
   },
   {
    "duration": 11,
    "start_time": "2021-07-07T14:51:59.324Z"
   },
   {
    "duration": 8,
    "start_time": "2021-07-07T14:51:59.337Z"
   },
   {
    "duration": 46,
    "start_time": "2021-07-07T14:51:59.347Z"
   },
   {
    "duration": 22,
    "start_time": "2021-07-07T14:51:59.395Z"
   },
   {
    "duration": 24,
    "start_time": "2021-07-07T14:57:32.911Z"
   },
   {
    "duration": 7,
    "start_time": "2021-07-07T14:58:22.070Z"
   },
   {
    "duration": 4,
    "start_time": "2021-07-07T14:59:11.239Z"
   },
   {
    "duration": 25,
    "start_time": "2021-07-07T15:07:22.208Z"
   },
   {
    "duration": 16,
    "start_time": "2021-07-07T15:08:25.560Z"
   },
   {
    "duration": 15,
    "start_time": "2021-07-07T15:08:40.647Z"
   },
   {
    "duration": 14,
    "start_time": "2021-07-07T15:08:46.669Z"
   },
   {
    "duration": 533,
    "start_time": "2021-07-07T15:18:07.440Z"
   },
   {
    "duration": 173,
    "start_time": "2021-07-07T15:18:07.974Z"
   },
   {
    "duration": 84,
    "start_time": "2021-07-07T15:18:08.149Z"
   },
   {
    "duration": 3,
    "start_time": "2021-07-07T15:18:08.235Z"
   },
   {
    "duration": 30,
    "start_time": "2021-07-07T15:18:08.240Z"
   },
   {
    "duration": 22,
    "start_time": "2021-07-07T15:18:08.272Z"
   },
   {
    "duration": 11,
    "start_time": "2021-07-07T15:18:08.295Z"
   },
   {
    "duration": 11,
    "start_time": "2021-07-07T15:18:08.309Z"
   },
   {
    "duration": 40,
    "start_time": "2021-07-07T15:18:08.322Z"
   },
   {
    "duration": 42,
    "start_time": "2021-07-07T15:18:08.364Z"
   },
   {
    "duration": 22,
    "start_time": "2021-07-07T15:18:08.408Z"
   },
   {
    "duration": 5,
    "start_time": "2021-07-07T15:18:08.432Z"
   },
   {
    "duration": 13,
    "start_time": "2021-07-07T15:18:08.439Z"
   },
   {
    "duration": 9,
    "start_time": "2021-07-07T15:18:08.454Z"
   },
   {
    "duration": 32,
    "start_time": "2021-07-07T15:18:08.465Z"
   },
   {
    "duration": 10,
    "start_time": "2021-07-07T15:18:08.501Z"
   },
   {
    "duration": 7,
    "start_time": "2021-07-07T15:18:08.513Z"
   },
   {
    "duration": 11,
    "start_time": "2021-07-07T15:18:08.521Z"
   },
   {
    "duration": 17,
    "start_time": "2021-07-07T15:18:08.534Z"
   },
   {
    "duration": 44,
    "start_time": "2021-07-07T15:18:08.553Z"
   },
   {
    "duration": 22,
    "start_time": "2021-07-07T15:18:08.599Z"
   },
   {
    "duration": 61,
    "start_time": "2021-07-07T15:18:08.622Z"
   },
   {
    "duration": 7,
    "start_time": "2021-07-07T15:18:39.457Z"
   },
   {
    "duration": 5,
    "start_time": "2021-07-07T16:05:17.020Z"
   },
   {
    "duration": 5,
    "start_time": "2021-07-07T16:51:28.794Z"
   },
   {
    "duration": 546,
    "start_time": "2021-07-07T16:52:26.306Z"
   },
   {
    "duration": 203,
    "start_time": "2021-07-07T16:52:27.523Z"
   },
   {
    "duration": 85,
    "start_time": "2021-07-07T16:52:27.736Z"
   },
   {
    "duration": 4,
    "start_time": "2021-07-07T16:52:27.899Z"
   },
   {
    "duration": 25,
    "start_time": "2021-07-07T16:52:28.674Z"
   },
   {
    "duration": 8,
    "start_time": "2021-07-07T16:52:32.956Z"
   },
   {
    "duration": 18,
    "start_time": "2021-07-07T16:52:35.616Z"
   },
   {
    "duration": 6,
    "start_time": "2021-07-07T16:52:36.913Z"
   },
   {
    "duration": 11,
    "start_time": "2021-07-07T16:52:40.258Z"
   },
   {
    "duration": 10,
    "start_time": "2021-07-07T16:52:46.251Z"
   },
   {
    "duration": 8,
    "start_time": "2021-07-07T16:52:47.182Z"
   },
   {
    "duration": 27,
    "start_time": "2021-07-07T16:53:20.391Z"
   },
   {
    "duration": 20,
    "start_time": "2021-07-07T16:53:22.022Z"
   },
   {
    "duration": 23,
    "start_time": "2021-07-07T16:53:23.690Z"
   },
   {
    "duration": 8,
    "start_time": "2021-07-07T16:53:24.261Z"
   },
   {
    "duration": 4,
    "start_time": "2021-07-07T16:53:38.733Z"
   },
   {
    "duration": 7,
    "start_time": "2021-07-07T16:53:40.445Z"
   },
   {
    "duration": 11,
    "start_time": "2021-07-07T16:53:41.348Z"
   },
   {
    "duration": 13,
    "start_time": "2021-07-07T16:53:45.250Z"
   },
   {
    "duration": 12,
    "start_time": "2021-07-07T16:53:45.467Z"
   },
   {
    "duration": 4,
    "start_time": "2021-07-07T16:55:32.704Z"
   },
   {
    "duration": 12,
    "start_time": "2021-07-07T16:55:49.012Z"
   },
   {
    "duration": 18,
    "start_time": "2021-07-07T16:55:49.547Z"
   },
   {
    "duration": 611,
    "start_time": "2021-07-07T16:58:35.156Z"
   },
   {
    "duration": 200,
    "start_time": "2021-07-07T16:58:35.770Z"
   },
   {
    "duration": 86,
    "start_time": "2021-07-07T16:58:35.972Z"
   },
   {
    "duration": 3,
    "start_time": "2021-07-07T16:58:36.060Z"
   },
   {
    "duration": 27,
    "start_time": "2021-07-07T16:58:36.065Z"
   },
   {
    "duration": 8,
    "start_time": "2021-07-07T16:58:36.094Z"
   },
   {
    "duration": 17,
    "start_time": "2021-07-07T16:58:36.103Z"
   },
   {
    "duration": 5,
    "start_time": "2021-07-07T16:58:36.123Z"
   },
   {
    "duration": 11,
    "start_time": "2021-07-07T16:58:36.130Z"
   },
   {
    "duration": 7,
    "start_time": "2021-07-07T16:58:36.143Z"
   },
   {
    "duration": 37,
    "start_time": "2021-07-07T16:58:36.152Z"
   },
   {
    "duration": 27,
    "start_time": "2021-07-07T16:58:36.191Z"
   },
   {
    "duration": 19,
    "start_time": "2021-07-07T16:58:36.219Z"
   },
   {
    "duration": 49,
    "start_time": "2021-07-07T16:58:36.240Z"
   },
   {
    "duration": 6,
    "start_time": "2021-07-07T16:58:36.291Z"
   },
   {
    "duration": 3,
    "start_time": "2021-07-07T16:58:36.299Z"
   },
   {
    "duration": 13,
    "start_time": "2021-07-07T16:58:36.304Z"
   },
   {
    "duration": 10,
    "start_time": "2021-07-07T16:58:36.319Z"
   },
   {
    "duration": 10,
    "start_time": "2021-07-07T16:58:36.331Z"
   },
   {
    "duration": 44,
    "start_time": "2021-07-07T16:58:36.343Z"
   },
   {
    "duration": 4,
    "start_time": "2021-07-07T16:58:36.388Z"
   },
   {
    "duration": 13,
    "start_time": "2021-07-07T16:58:36.394Z"
   },
   {
    "duration": 16,
    "start_time": "2021-07-07T16:58:36.410Z"
   },
   {
    "duration": 8,
    "start_time": "2021-07-07T17:02:31.629Z"
   },
   {
    "duration": 8,
    "start_time": "2021-07-07T17:02:34.308Z"
   },
   {
    "duration": 6,
    "start_time": "2021-07-07T17:05:13.483Z"
   },
   {
    "duration": 17,
    "start_time": "2021-07-07T17:05:20.606Z"
   },
   {
    "duration": 7,
    "start_time": "2021-07-07T17:05:34.638Z"
   },
   {
    "duration": 3,
    "start_time": "2021-07-07T17:06:31.883Z"
   },
   {
    "duration": 570,
    "start_time": "2021-07-07T17:06:37.165Z"
   },
   {
    "duration": 174,
    "start_time": "2021-07-07T17:06:37.737Z"
   },
   {
    "duration": 47,
    "start_time": "2021-07-07T17:06:37.913Z"
   },
   {
    "duration": 3,
    "start_time": "2021-07-07T17:06:37.962Z"
   },
   {
    "duration": 27,
    "start_time": "2021-07-07T17:06:37.967Z"
   },
   {
    "duration": 7,
    "start_time": "2021-07-07T17:06:37.996Z"
   },
   {
    "duration": 16,
    "start_time": "2021-07-07T17:06:38.005Z"
   },
   {
    "duration": 6,
    "start_time": "2021-07-07T17:06:38.024Z"
   },
   {
    "duration": 12,
    "start_time": "2021-07-07T17:06:38.031Z"
   },
   {
    "duration": 41,
    "start_time": "2021-07-07T17:06:38.045Z"
   },
   {
    "duration": 8,
    "start_time": "2021-07-07T17:06:38.088Z"
   },
   {
    "duration": 26,
    "start_time": "2021-07-07T17:06:38.098Z"
   },
   {
    "duration": 17,
    "start_time": "2021-07-07T17:06:38.126Z"
   },
   {
    "duration": 43,
    "start_time": "2021-07-07T17:06:38.144Z"
   },
   {
    "duration": 6,
    "start_time": "2021-07-07T17:06:38.188Z"
   },
   {
    "duration": 5,
    "start_time": "2021-07-07T17:06:38.195Z"
   },
   {
    "duration": 9,
    "start_time": "2021-07-07T17:06:38.201Z"
   },
   {
    "duration": 12,
    "start_time": "2021-07-07T17:06:38.212Z"
   },
   {
    "duration": 11,
    "start_time": "2021-07-07T17:06:38.226Z"
   },
   {
    "duration": 47,
    "start_time": "2021-07-07T17:06:38.239Z"
   },
   {
    "duration": 4,
    "start_time": "2021-07-07T17:06:38.288Z"
   },
   {
    "duration": 13,
    "start_time": "2021-07-07T17:06:38.293Z"
   },
   {
    "duration": 5,
    "start_time": "2021-07-07T17:06:38.309Z"
   },
   {
    "duration": 18,
    "start_time": "2021-07-07T17:06:38.325Z"
   },
   {
    "duration": 20,
    "start_time": "2021-07-07T17:07:02.805Z"
   },
   {
    "duration": 19,
    "start_time": "2021-07-07T17:07:08.527Z"
   },
   {
    "duration": 19,
    "start_time": "2021-07-07T17:07:12.758Z"
   },
   {
    "duration": 22,
    "start_time": "2021-07-07T17:07:17.497Z"
   },
   {
    "duration": 19,
    "start_time": "2021-07-07T17:07:19.645Z"
   },
   {
    "duration": 10,
    "start_time": "2021-07-07T17:07:34.239Z"
   },
   {
    "duration": 17,
    "start_time": "2021-07-07T17:07:54.144Z"
   },
   {
    "duration": 14,
    "start_time": "2021-07-07T17:08:14.357Z"
   },
   {
    "duration": 616,
    "start_time": "2021-07-07T17:08:45.254Z"
   },
   {
    "duration": 178,
    "start_time": "2021-07-07T17:08:45.872Z"
   },
   {
    "duration": 60,
    "start_time": "2021-07-07T17:08:46.054Z"
   },
   {
    "duration": 3,
    "start_time": "2021-07-07T17:08:46.116Z"
   },
   {
    "duration": 26,
    "start_time": "2021-07-07T17:08:46.121Z"
   },
   {
    "duration": 7,
    "start_time": "2021-07-07T17:08:46.149Z"
   },
   {
    "duration": 17,
    "start_time": "2021-07-07T17:08:46.158Z"
   },
   {
    "duration": 14,
    "start_time": "2021-07-07T17:08:46.176Z"
   },
   {
    "duration": 17,
    "start_time": "2021-07-07T17:08:46.193Z"
   },
   {
    "duration": 9,
    "start_time": "2021-07-07T17:08:46.211Z"
   },
   {
    "duration": 21,
    "start_time": "2021-07-07T17:08:46.221Z"
   },
   {
    "duration": 49,
    "start_time": "2021-07-07T17:08:46.244Z"
   },
   {
    "duration": 24,
    "start_time": "2021-07-07T17:08:46.295Z"
   },
   {
    "duration": 22,
    "start_time": "2021-07-07T17:08:46.321Z"
   },
   {
    "duration": 6,
    "start_time": "2021-07-07T17:08:46.345Z"
   },
   {
    "duration": 5,
    "start_time": "2021-07-07T17:08:46.353Z"
   },
   {
    "duration": 13,
    "start_time": "2021-07-07T17:08:46.386Z"
   },
   {
    "duration": 12,
    "start_time": "2021-07-07T17:08:46.402Z"
   },
   {
    "duration": 10,
    "start_time": "2021-07-07T17:08:46.415Z"
   },
   {
    "duration": 7,
    "start_time": "2021-07-07T17:08:46.427Z"
   },
   {
    "duration": 8,
    "start_time": "2021-07-07T17:08:46.435Z"
   },
   {
    "duration": 68,
    "start_time": "2021-07-07T17:08:46.446Z"
   },
   {
    "duration": 13,
    "start_time": "2021-07-07T17:08:46.516Z"
   },
   {
    "duration": 78,
    "start_time": "2021-07-07T17:08:46.530Z"
   },
   {
    "duration": 40,
    "start_time": "2021-07-07T17:09:08.185Z"
   },
   {
    "duration": 16,
    "start_time": "2021-07-07T17:09:19.324Z"
   },
   {
    "duration": 21,
    "start_time": "2021-07-07T17:09:23.290Z"
   },
   {
    "duration": 13,
    "start_time": "2021-07-07T17:09:54.812Z"
   },
   {
    "duration": 13,
    "start_time": "2021-07-07T17:10:02.039Z"
   },
   {
    "duration": 10,
    "start_time": "2021-07-07T17:10:29.632Z"
   },
   {
    "duration": 13,
    "start_time": "2021-07-07T17:10:52.372Z"
   },
   {
    "duration": 13,
    "start_time": "2021-07-07T17:11:17.270Z"
   },
   {
    "duration": 13,
    "start_time": "2021-07-07T17:14:59.284Z"
   },
   {
    "duration": 547,
    "start_time": "2021-07-07T17:18:52.403Z"
   },
   {
    "duration": 163,
    "start_time": "2021-07-07T17:18:52.952Z"
   },
   {
    "duration": 44,
    "start_time": "2021-07-07T17:18:53.117Z"
   },
   {
    "duration": 3,
    "start_time": "2021-07-07T17:18:53.162Z"
   },
   {
    "duration": 26,
    "start_time": "2021-07-07T17:18:53.167Z"
   },
   {
    "duration": 6,
    "start_time": "2021-07-07T17:18:53.195Z"
   },
   {
    "duration": 15,
    "start_time": "2021-07-07T17:18:53.203Z"
   },
   {
    "duration": 5,
    "start_time": "2021-07-07T17:18:53.220Z"
   },
   {
    "duration": 11,
    "start_time": "2021-07-07T17:18:53.228Z"
   },
   {
    "duration": 9,
    "start_time": "2021-07-07T17:18:53.241Z"
   },
   {
    "duration": 41,
    "start_time": "2021-07-07T17:18:53.252Z"
   },
   {
    "duration": 33,
    "start_time": "2021-07-07T17:18:53.295Z"
   },
   {
    "duration": 19,
    "start_time": "2021-07-07T17:18:53.330Z"
   },
   {
    "duration": 49,
    "start_time": "2021-07-07T17:18:53.350Z"
   },
   {
    "duration": 5,
    "start_time": "2021-07-07T17:18:53.401Z"
   },
   {
    "duration": 5,
    "start_time": "2021-07-07T17:18:53.408Z"
   },
   {
    "duration": 11,
    "start_time": "2021-07-07T17:18:53.414Z"
   },
   {
    "duration": 9,
    "start_time": "2021-07-07T17:18:53.427Z"
   },
   {
    "duration": 10,
    "start_time": "2021-07-07T17:18:53.437Z"
   },
   {
    "duration": 39,
    "start_time": "2021-07-07T17:18:53.448Z"
   },
   {
    "duration": 26,
    "start_time": "2021-07-07T17:18:55.799Z"
   },
   {
    "duration": 598,
    "start_time": "2021-07-07T17:20:17.862Z"
   },
   {
    "duration": 161,
    "start_time": "2021-07-07T17:20:18.462Z"
   },
   {
    "duration": 45,
    "start_time": "2021-07-07T17:20:18.626Z"
   },
   {
    "duration": 4,
    "start_time": "2021-07-07T17:20:18.673Z"
   },
   {
    "duration": 38,
    "start_time": "2021-07-07T17:20:26.877Z"
   },
   {
    "duration": 7,
    "start_time": "2021-07-07T17:20:37.405Z"
   },
   {
    "duration": 19,
    "start_time": "2021-07-07T17:20:51.534Z"
   },
   {
    "duration": 5,
    "start_time": "2021-07-07T17:20:57.228Z"
   },
   {
    "duration": 7,
    "start_time": "2021-07-07T17:21:08.235Z"
   },
   {
    "duration": 19,
    "start_time": "2021-07-07T17:21:42.158Z"
   },
   {
    "duration": 14,
    "start_time": "2021-07-07T17:21:50.225Z"
   },
   {
    "duration": 22,
    "start_time": "2021-07-07T17:22:54.104Z"
   },
   {
    "duration": 5,
    "start_time": "2021-07-07T17:22:56.371Z"
   },
   {
    "duration": 14,
    "start_time": "2021-07-07T17:22:58.316Z"
   },
   {
    "duration": 5,
    "start_time": "2021-07-07T17:22:58.493Z"
   },
   {
    "duration": 35,
    "start_time": "2021-07-07T17:22:59.666Z"
   },
   {
    "duration": 6,
    "start_time": "2021-07-07T17:23:02.410Z"
   },
   {
    "duration": 611,
    "start_time": "2021-07-07T17:24:59.664Z"
   },
   {
    "duration": 178,
    "start_time": "2021-07-07T17:25:01.945Z"
   },
   {
    "duration": 47,
    "start_time": "2021-07-07T17:25:02.125Z"
   },
   {
    "duration": 2,
    "start_time": "2021-07-07T17:25:07.903Z"
   },
   {
    "duration": 254,
    "start_time": "2021-07-07T17:25:08.232Z"
   },
   {
    "duration": 182,
    "start_time": "2021-07-07T17:25:08.671Z"
   },
   {
    "duration": 6,
    "start_time": "2021-07-07T17:25:13.104Z"
   },
   {
    "duration": 36,
    "start_time": "2021-07-07T17:25:13.662Z"
   },
   {
    "duration": 7,
    "start_time": "2021-07-07T17:25:14.528Z"
   },
   {
    "duration": 24,
    "start_time": "2021-07-07T17:25:27.982Z"
   },
   {
    "duration": 3,
    "start_time": "2021-07-07T17:25:48.982Z"
   },
   {
    "duration": 165,
    "start_time": "2021-07-07T17:25:48.987Z"
   },
   {
    "duration": 50,
    "start_time": "2021-07-07T17:25:49.154Z"
   },
   {
    "duration": 4,
    "start_time": "2021-07-07T17:25:49.206Z"
   },
   {
    "duration": 26,
    "start_time": "2021-07-07T17:25:49.212Z"
   },
   {
    "duration": 7,
    "start_time": "2021-07-07T17:25:49.240Z"
   },
   {
    "duration": 16,
    "start_time": "2021-07-07T17:25:49.249Z"
   },
   {
    "duration": 22,
    "start_time": "2021-07-07T17:25:49.266Z"
   },
   {
    "duration": 16,
    "start_time": "2021-07-07T17:25:49.291Z"
   },
   {
    "duration": 9,
    "start_time": "2021-07-07T17:25:49.309Z"
   },
   {
    "duration": 7,
    "start_time": "2021-07-07T17:25:49.319Z"
   },
   {
    "duration": 28,
    "start_time": "2021-07-07T17:25:49.328Z"
   },
   {
    "duration": 44,
    "start_time": "2021-07-07T17:25:49.357Z"
   },
   {
    "duration": 22,
    "start_time": "2021-07-07T17:25:49.403Z"
   },
   {
    "duration": 7,
    "start_time": "2021-07-07T17:25:49.427Z"
   },
   {
    "duration": 3,
    "start_time": "2021-07-07T17:25:49.436Z"
   },
   {
    "duration": 44,
    "start_time": "2021-07-07T17:25:49.441Z"
   },
   {
    "duration": 12,
    "start_time": "2021-07-07T17:25:49.488Z"
   },
   {
    "duration": 13,
    "start_time": "2021-07-07T17:25:49.502Z"
   },
   {
    "duration": 10,
    "start_time": "2021-07-07T17:25:49.516Z"
   },
   {
    "duration": 62,
    "start_time": "2021-07-07T17:25:49.527Z"
   },
   {
    "duration": 26,
    "start_time": "2021-07-07T17:26:51.809Z"
   },
   {
    "duration": 26,
    "start_time": "2021-07-07T17:26:55.759Z"
   },
   {
    "duration": 26,
    "start_time": "2021-07-07T17:27:04.501Z"
   },
   {
    "duration": 25,
    "start_time": "2021-07-07T17:28:24.859Z"
   },
   {
    "duration": 21,
    "start_time": "2021-07-07T17:28:55.250Z"
   },
   {
    "duration": 21,
    "start_time": "2021-07-07T17:28:58.885Z"
   },
   {
    "duration": 7,
    "start_time": "2021-07-07T17:45:40.972Z"
   },
   {
    "duration": 13,
    "start_time": "2021-07-07T17:45:42.529Z"
   },
   {
    "duration": 27,
    "start_time": "2021-07-07T17:45:51.026Z"
   },
   {
    "duration": 518,
    "start_time": "2021-07-07T17:46:15.532Z"
   },
   {
    "duration": 235,
    "start_time": "2021-07-07T17:46:16.053Z"
   },
   {
    "duration": 80,
    "start_time": "2021-07-07T17:46:16.292Z"
   },
   {
    "duration": 5,
    "start_time": "2021-07-07T17:46:16.373Z"
   },
   {
    "duration": 26,
    "start_time": "2021-07-07T17:46:16.380Z"
   },
   {
    "duration": 7,
    "start_time": "2021-07-07T17:46:16.408Z"
   },
   {
    "duration": 16,
    "start_time": "2021-07-07T17:46:16.418Z"
   },
   {
    "duration": 5,
    "start_time": "2021-07-07T17:46:16.436Z"
   },
   {
    "duration": 13,
    "start_time": "2021-07-07T17:46:16.442Z"
   },
   {
    "duration": 35,
    "start_time": "2021-07-07T17:46:16.456Z"
   },
   {
    "duration": 8,
    "start_time": "2021-07-07T17:46:16.493Z"
   },
   {
    "duration": 28,
    "start_time": "2021-07-07T17:46:16.502Z"
   },
   {
    "duration": 17,
    "start_time": "2021-07-07T17:46:16.532Z"
   },
   {
    "duration": 44,
    "start_time": "2021-07-07T17:46:16.551Z"
   },
   {
    "duration": 6,
    "start_time": "2021-07-07T17:46:16.597Z"
   },
   {
    "duration": 4,
    "start_time": "2021-07-07T17:46:16.605Z"
   },
   {
    "duration": 9,
    "start_time": "2021-07-07T17:46:16.610Z"
   },
   {
    "duration": 9,
    "start_time": "2021-07-07T17:46:16.621Z"
   },
   {
    "duration": 10,
    "start_time": "2021-07-07T17:46:16.632Z"
   },
   {
    "duration": 43,
    "start_time": "2021-07-07T17:46:16.644Z"
   },
   {
    "duration": 26,
    "start_time": "2021-07-07T17:46:16.689Z"
   },
   {
    "duration": 19,
    "start_time": "2021-07-07T17:46:16.718Z"
   },
   {
    "duration": 8,
    "start_time": "2021-07-07T17:46:16.738Z"
   },
   {
    "duration": 43,
    "start_time": "2021-07-07T17:46:16.747Z"
   },
   {
    "duration": 19,
    "start_time": "2021-07-07T17:46:16.791Z"
   },
   {
    "duration": 9,
    "start_time": "2021-07-07T17:46:16.812Z"
   },
   {
    "duration": 60,
    "start_time": "2021-07-07T17:46:16.822Z"
   },
   {
    "duration": -8,
    "start_time": "2021-07-07T17:46:16.892Z"
   },
   {
    "duration": 12,
    "start_time": "2021-07-07T17:48:47.707Z"
   },
   {
    "duration": 553,
    "start_time": "2021-07-07T18:10:09.350Z"
   },
   {
    "duration": 230,
    "start_time": "2021-07-07T18:10:09.905Z"
   },
   {
    "duration": 97,
    "start_time": "2021-07-07T18:10:10.137Z"
   },
   {
    "duration": 5,
    "start_time": "2021-07-07T18:10:10.236Z"
   },
   {
    "duration": 29,
    "start_time": "2021-07-07T18:10:10.242Z"
   },
   {
    "duration": 7,
    "start_time": "2021-07-07T18:10:10.272Z"
   },
   {
    "duration": 15,
    "start_time": "2021-07-07T18:10:10.281Z"
   },
   {
    "duration": 4,
    "start_time": "2021-07-07T18:10:10.299Z"
   },
   {
    "duration": 14,
    "start_time": "2021-07-07T18:10:10.305Z"
   },
   {
    "duration": 8,
    "start_time": "2021-07-07T18:10:10.321Z"
   },
   {
    "duration": 8,
    "start_time": "2021-07-07T18:10:10.331Z"
   },
   {
    "duration": 56,
    "start_time": "2021-07-07T18:10:10.341Z"
   },
   {
    "duration": 19,
    "start_time": "2021-07-07T18:10:10.399Z"
   },
   {
    "duration": 23,
    "start_time": "2021-07-07T18:10:10.419Z"
   },
   {
    "duration": 6,
    "start_time": "2021-07-07T18:10:10.444Z"
   },
   {
    "duration": 9,
    "start_time": "2021-07-07T18:10:10.451Z"
   },
   {
    "duration": 30,
    "start_time": "2021-07-07T18:10:10.462Z"
   },
   {
    "duration": 9,
    "start_time": "2021-07-07T18:10:10.494Z"
   },
   {
    "duration": 14,
    "start_time": "2021-07-07T18:10:10.505Z"
   },
   {
    "duration": 7,
    "start_time": "2021-07-07T18:10:10.521Z"
   },
   {
    "duration": 26,
    "start_time": "2021-07-07T18:10:10.530Z"
   },
   {
    "duration": 44,
    "start_time": "2021-07-07T18:10:10.558Z"
   },
   {
    "duration": 7,
    "start_time": "2021-07-07T18:10:10.605Z"
   },
   {
    "duration": 11,
    "start_time": "2021-07-07T18:10:10.614Z"
   },
   {
    "duration": 19,
    "start_time": "2021-07-07T18:10:10.626Z"
   },
   {
    "duration": 44,
    "start_time": "2021-07-07T18:10:10.646Z"
   },
   {
    "duration": 516,
    "start_time": "2021-07-07T18:14:00.826Z"
   },
   {
    "duration": 230,
    "start_time": "2021-07-07T18:14:01.344Z"
   },
   {
    "duration": 105,
    "start_time": "2021-07-07T18:14:01.576Z"
   },
   {
    "duration": 5,
    "start_time": "2021-07-07T18:14:01.683Z"
   },
   {
    "duration": 46,
    "start_time": "2021-07-07T18:14:01.690Z"
   },
   {
    "duration": 7,
    "start_time": "2021-07-07T18:14:01.738Z"
   },
   {
    "duration": 20,
    "start_time": "2021-07-07T18:14:01.747Z"
   },
   {
    "duration": 16,
    "start_time": "2021-07-07T18:14:01.769Z"
   },
   {
    "duration": 14,
    "start_time": "2021-07-07T18:14:01.787Z"
   },
   {
    "duration": 15,
    "start_time": "2021-07-07T18:14:01.803Z"
   },
   {
    "duration": 12,
    "start_time": "2021-07-07T18:14:01.820Z"
   },
   {
    "duration": 35,
    "start_time": "2021-07-07T18:14:01.833Z"
   },
   {
    "duration": 31,
    "start_time": "2021-07-07T18:14:01.869Z"
   },
   {
    "duration": 37,
    "start_time": "2021-07-07T18:14:01.902Z"
   },
   {
    "duration": 8,
    "start_time": "2021-07-07T18:14:01.942Z"
   },
   {
    "duration": 16,
    "start_time": "2021-07-07T18:14:01.952Z"
   },
   {
    "duration": 13,
    "start_time": "2021-07-07T18:14:01.970Z"
   },
   {
    "duration": 32,
    "start_time": "2021-07-07T18:14:01.985Z"
   },
   {
    "duration": 11,
    "start_time": "2021-07-07T18:14:02.019Z"
   },
   {
    "duration": 22,
    "start_time": "2021-07-07T18:14:02.031Z"
   },
   {
    "duration": 27,
    "start_time": "2021-07-07T18:14:02.055Z"
   },
   {
    "duration": 18,
    "start_time": "2021-07-07T18:14:02.084Z"
   },
   {
    "duration": 18,
    "start_time": "2021-07-07T18:14:02.106Z"
   },
   {
    "duration": 11,
    "start_time": "2021-07-07T18:14:02.126Z"
   },
   {
    "duration": 21,
    "start_time": "2021-07-07T18:14:02.138Z"
   },
   {
    "duration": 32,
    "start_time": "2021-07-07T18:14:02.161Z"
   },
   {
    "duration": 28,
    "start_time": "2021-07-07T18:14:44.295Z"
   },
   {
    "duration": 6,
    "start_time": "2021-07-07T18:15:05.834Z"
   },
   {
    "duration": 511,
    "start_time": "2021-07-07T18:15:41.541Z"
   },
   {
    "duration": 183,
    "start_time": "2021-07-07T18:15:42.054Z"
   },
   {
    "duration": 50,
    "start_time": "2021-07-07T18:15:42.239Z"
   },
   {
    "duration": 5,
    "start_time": "2021-07-07T18:15:42.291Z"
   },
   {
    "duration": 48,
    "start_time": "2021-07-07T18:15:42.297Z"
   },
   {
    "duration": 8,
    "start_time": "2021-07-07T18:15:42.346Z"
   },
   {
    "duration": 17,
    "start_time": "2021-07-07T18:15:42.356Z"
   },
   {
    "duration": 15,
    "start_time": "2021-07-07T18:15:42.375Z"
   },
   {
    "duration": 12,
    "start_time": "2021-07-07T18:15:42.392Z"
   },
   {
    "duration": 7,
    "start_time": "2021-07-07T18:15:42.406Z"
   },
   {
    "duration": 7,
    "start_time": "2021-07-07T18:15:42.415Z"
   },
   {
    "duration": 29,
    "start_time": "2021-07-07T18:15:42.423Z"
   },
   {
    "duration": 43,
    "start_time": "2021-07-07T18:15:42.453Z"
   },
   {
    "duration": 18,
    "start_time": "2021-07-07T18:15:42.497Z"
   },
   {
    "duration": 6,
    "start_time": "2021-07-07T18:15:42.516Z"
   },
   {
    "duration": 3,
    "start_time": "2021-07-07T18:15:42.523Z"
   },
   {
    "duration": 18,
    "start_time": "2021-07-07T18:15:42.528Z"
   },
   {
    "duration": 10,
    "start_time": "2021-07-07T18:15:42.547Z"
   },
   {
    "duration": 36,
    "start_time": "2021-07-07T18:15:42.559Z"
   },
   {
    "duration": 8,
    "start_time": "2021-07-07T18:15:42.597Z"
   },
   {
    "duration": 28,
    "start_time": "2021-07-07T18:15:42.606Z"
   },
   {
    "duration": 52,
    "start_time": "2021-07-07T18:15:42.635Z"
   },
   {
    "duration": 7,
    "start_time": "2021-07-07T18:15:42.690Z"
   },
   {
    "duration": 10,
    "start_time": "2021-07-07T18:15:42.699Z"
   },
   {
    "duration": 19,
    "start_time": "2021-07-07T18:15:42.711Z"
   },
   {
    "duration": 9,
    "start_time": "2021-07-07T18:15:42.732Z"
   },
   {
    "duration": 5,
    "start_time": "2021-07-07T18:15:42.743Z"
   },
   {
    "duration": 1450,
    "start_time": "2021-07-07T18:15:51.984Z"
   },
   {
    "duration": 161,
    "start_time": "2021-07-07T18:15:53.435Z"
   },
   {
    "duration": 124,
    "start_time": "2021-07-07T18:15:53.598Z"
   },
   {
    "duration": 5,
    "start_time": "2021-07-07T18:15:53.724Z"
   },
   {
    "duration": 34,
    "start_time": "2021-07-07T18:15:53.730Z"
   },
   {
    "duration": 7,
    "start_time": "2021-07-07T18:15:53.765Z"
   },
   {
    "duration": 15,
    "start_time": "2021-07-07T18:15:53.773Z"
   },
   {
    "duration": 5,
    "start_time": "2021-07-07T18:15:53.791Z"
   },
   {
    "duration": 19,
    "start_time": "2021-07-07T18:15:53.798Z"
   },
   {
    "duration": 9,
    "start_time": "2021-07-07T18:15:53.818Z"
   },
   {
    "duration": 19,
    "start_time": "2021-07-07T18:15:53.828Z"
   },
   {
    "duration": 27,
    "start_time": "2021-07-07T18:15:53.848Z"
   },
   {
    "duration": 16,
    "start_time": "2021-07-07T18:15:53.884Z"
   },
   {
    "duration": 29,
    "start_time": "2021-07-07T18:15:53.901Z"
   },
   {
    "duration": 5,
    "start_time": "2021-07-07T18:15:53.932Z"
   },
   {
    "duration": 15,
    "start_time": "2021-07-07T18:15:53.939Z"
   },
   {
    "duration": 13,
    "start_time": "2021-07-07T18:15:53.956Z"
   },
   {
    "duration": 20,
    "start_time": "2021-07-07T18:15:53.971Z"
   },
   {
    "duration": 14,
    "start_time": "2021-07-07T18:15:53.992Z"
   },
   {
    "duration": 9,
    "start_time": "2021-07-07T18:15:54.009Z"
   },
   {
    "duration": 28,
    "start_time": "2021-07-07T18:15:54.020Z"
   },
   {
    "duration": 50,
    "start_time": "2021-07-07T18:15:54.051Z"
   },
   {
    "duration": 8,
    "start_time": "2021-07-07T18:15:54.105Z"
   },
   {
    "duration": 11,
    "start_time": "2021-07-07T18:15:54.115Z"
   },
   {
    "duration": 20,
    "start_time": "2021-07-07T18:15:54.128Z"
   },
   {
    "duration": 13,
    "start_time": "2021-07-07T18:15:54.184Z"
   },
   {
    "duration": 7,
    "start_time": "2021-07-07T18:15:54.199Z"
   },
   {
    "duration": 7,
    "start_time": "2021-07-07T18:17:08.042Z"
   },
   {
    "duration": 8,
    "start_time": "2021-07-07T18:17:21.008Z"
   },
   {
    "duration": 7,
    "start_time": "2021-07-07T18:17:29.003Z"
   },
   {
    "duration": 8,
    "start_time": "2021-07-07T18:17:32.492Z"
   },
   {
    "duration": 9,
    "start_time": "2021-07-07T18:17:41.758Z"
   },
   {
    "duration": 255,
    "start_time": "2021-07-07T18:20:20.897Z"
   },
   {
    "duration": 173,
    "start_time": "2021-07-07T18:20:26.636Z"
   },
   {
    "duration": 7,
    "start_time": "2021-07-07T18:21:47.164Z"
   },
   {
    "duration": 254,
    "start_time": "2021-07-07T18:23:08.703Z"
   },
   {
    "duration": 21,
    "start_time": "2021-07-07T18:23:22.506Z"
   },
   {
    "duration": 315,
    "start_time": "2021-07-07T18:25:54.801Z"
   },
   {
    "duration": 34,
    "start_time": "2021-07-07T18:26:51.817Z"
   },
   {
    "duration": 327,
    "start_time": "2021-07-07T18:26:56.147Z"
   },
   {
    "duration": 342,
    "start_time": "2021-07-07T18:27:15.887Z"
   },
   {
    "duration": 302,
    "start_time": "2021-07-07T18:28:18.569Z"
   },
   {
    "duration": 226,
    "start_time": "2021-07-07T18:29:20.879Z"
   },
   {
    "duration": 207,
    "start_time": "2021-07-07T18:29:58.114Z"
   },
   {
    "duration": 140,
    "start_time": "2021-07-07T18:32:04.372Z"
   },
   {
    "duration": 158,
    "start_time": "2021-07-07T18:32:32.508Z"
   },
   {
    "duration": 145,
    "start_time": "2021-07-07T18:32:41.365Z"
   },
   {
    "duration": 132,
    "start_time": "2021-07-07T18:32:45.199Z"
   },
   {
    "duration": 11,
    "start_time": "2021-07-07T18:35:24.679Z"
   },
   {
    "duration": 268,
    "start_time": "2021-07-07T18:36:16.145Z"
   },
   {
    "duration": 227,
    "start_time": "2021-07-07T18:37:04.918Z"
   },
   {
    "duration": 3,
    "start_time": "2021-07-07T18:37:33.012Z"
   },
   {
    "duration": 671,
    "start_time": "2021-07-07T18:37:38.295Z"
   },
   {
    "duration": 54,
    "start_time": "2021-07-07T18:37:53.406Z"
   },
   {
    "duration": 631,
    "start_time": "2021-07-07T18:37:56.463Z"
   },
   {
    "duration": 19,
    "start_time": "2021-07-07T18:39:40.535Z"
   },
   {
    "duration": 20,
    "start_time": "2021-07-07T18:40:12.236Z"
   },
   {
    "duration": 633,
    "start_time": "2021-07-07T18:42:00.398Z"
   },
   {
    "duration": 218,
    "start_time": "2021-07-07T18:42:01.033Z"
   },
   {
    "duration": 49,
    "start_time": "2021-07-07T18:42:01.253Z"
   },
   {
    "duration": 5,
    "start_time": "2021-07-07T18:42:01.303Z"
   },
   {
    "duration": 27,
    "start_time": "2021-07-07T18:42:01.310Z"
   },
   {
    "duration": 8,
    "start_time": "2021-07-07T18:42:01.339Z"
   },
   {
    "duration": 20,
    "start_time": "2021-07-07T18:42:01.348Z"
   },
   {
    "duration": 6,
    "start_time": "2021-07-07T18:42:01.386Z"
   },
   {
    "duration": 16,
    "start_time": "2021-07-07T18:42:01.394Z"
   },
   {
    "duration": 9,
    "start_time": "2021-07-07T18:42:01.411Z"
   },
   {
    "duration": 11,
    "start_time": "2021-07-07T18:42:01.421Z"
   },
   {
    "duration": 31,
    "start_time": "2021-07-07T18:42:01.434Z"
   },
   {
    "duration": 18,
    "start_time": "2021-07-07T18:42:01.485Z"
   },
   {
    "duration": 23,
    "start_time": "2021-07-07T18:42:01.505Z"
   },
   {
    "duration": 6,
    "start_time": "2021-07-07T18:42:01.530Z"
   },
   {
    "duration": 10,
    "start_time": "2021-07-07T18:42:01.538Z"
   },
   {
    "duration": 13,
    "start_time": "2021-07-07T18:42:01.550Z"
   },
   {
    "duration": 24,
    "start_time": "2021-07-07T18:42:01.564Z"
   },
   {
    "duration": 20,
    "start_time": "2021-07-07T18:42:01.590Z"
   },
   {
    "duration": 8,
    "start_time": "2021-07-07T18:42:01.611Z"
   },
   {
    "duration": 31,
    "start_time": "2021-07-07T18:42:01.620Z"
   },
   {
    "duration": 39,
    "start_time": "2021-07-07T18:42:01.653Z"
   },
   {
    "duration": 8,
    "start_time": "2021-07-07T18:42:01.696Z"
   },
   {
    "duration": 13,
    "start_time": "2021-07-07T18:42:01.705Z"
   },
   {
    "duration": 20,
    "start_time": "2021-07-07T18:42:01.720Z"
   },
   {
    "duration": 12,
    "start_time": "2021-07-07T18:42:01.741Z"
   },
   {
    "duration": 35,
    "start_time": "2021-07-07T18:42:01.755Z"
   },
   {
    "duration": 14,
    "start_time": "2021-07-07T18:42:01.792Z"
   },
   {
    "duration": 188,
    "start_time": "2021-07-07T18:42:01.808Z"
   },
   {
    "duration": 19,
    "start_time": "2021-07-07T18:42:01.998Z"
   },
   {
    "duration": 175,
    "start_time": "2021-07-07T18:42:02.019Z"
   },
   {
    "duration": 134,
    "start_time": "2021-07-07T18:42:02.196Z"
   },
   {
    "duration": 10,
    "start_time": "2021-07-07T18:42:02.331Z"
   },
   {
    "duration": 19,
    "start_time": "2021-07-07T18:42:02.343Z"
   },
   {
    "duration": 628,
    "start_time": "2021-07-07T18:46:30.701Z"
   },
   {
    "duration": 183,
    "start_time": "2021-07-07T18:46:31.331Z"
   },
   {
    "duration": 48,
    "start_time": "2021-07-07T18:46:31.516Z"
   },
   {
    "duration": 5,
    "start_time": "2021-07-07T18:46:31.566Z"
   },
   {
    "duration": 28,
    "start_time": "2021-07-07T18:46:31.572Z"
   },
   {
    "duration": 8,
    "start_time": "2021-07-07T18:46:31.602Z"
   },
   {
    "duration": 19,
    "start_time": "2021-07-07T18:46:31.611Z"
   },
   {
    "duration": 6,
    "start_time": "2021-07-07T18:46:31.633Z"
   },
   {
    "duration": 17,
    "start_time": "2021-07-07T18:46:31.642Z"
   },
   {
    "duration": 10,
    "start_time": "2021-07-07T18:46:31.684Z"
   },
   {
    "duration": 9,
    "start_time": "2021-07-07T18:46:31.695Z"
   },
   {
    "duration": 28,
    "start_time": "2021-07-07T18:46:31.705Z"
   },
   {
    "duration": 18,
    "start_time": "2021-07-07T18:46:31.735Z"
   },
   {
    "duration": 48,
    "start_time": "2021-07-07T18:46:31.755Z"
   },
   {
    "duration": 6,
    "start_time": "2021-07-07T18:46:31.804Z"
   },
   {
    "duration": 4,
    "start_time": "2021-07-07T18:46:31.812Z"
   },
   {
    "duration": 9,
    "start_time": "2021-07-07T18:46:31.817Z"
   },
   {
    "duration": 10,
    "start_time": "2021-07-07T18:46:31.827Z"
   },
   {
    "duration": 12,
    "start_time": "2021-07-07T18:46:31.838Z"
   },
   {
    "duration": 39,
    "start_time": "2021-07-07T18:46:31.851Z"
   },
   {
    "duration": 24,
    "start_time": "2021-07-07T18:46:31.892Z"
   },
   {
    "duration": 15,
    "start_time": "2021-07-07T18:46:31.918Z"
   },
   {
    "duration": 7,
    "start_time": "2021-07-07T18:46:31.936Z"
   },
   {
    "duration": 8,
    "start_time": "2021-07-07T18:46:31.944Z"
   },
   {
    "duration": 19,
    "start_time": "2021-07-07T18:46:31.984Z"
   },
   {
    "duration": 10,
    "start_time": "2021-07-07T18:46:32.004Z"
   },
   {
    "duration": 5,
    "start_time": "2021-07-07T18:46:32.016Z"
   },
   {
    "duration": 9,
    "start_time": "2021-07-07T18:46:32.023Z"
   },
   {
    "duration": 199,
    "start_time": "2021-07-07T18:46:32.033Z"
   },
   {
    "duration": 19,
    "start_time": "2021-07-07T18:46:32.234Z"
   },
   {
    "duration": 159,
    "start_time": "2021-07-07T18:46:32.255Z"
   },
   {
    "duration": 134,
    "start_time": "2021-07-07T18:46:32.416Z"
   },
   {
    "duration": 10,
    "start_time": "2021-07-07T18:46:32.552Z"
   },
   {
    "duration": 34,
    "start_time": "2021-07-07T18:46:32.563Z"
   },
   {
    "duration": 1039,
    "start_time": "2021-07-08T08:41:09.419Z"
   },
   {
    "duration": 333,
    "start_time": "2021-07-08T08:41:10.459Z"
   },
   {
    "duration": 173,
    "start_time": "2021-07-08T08:41:10.794Z"
   },
   {
    "duration": 5,
    "start_time": "2021-07-08T08:41:10.968Z"
   },
   {
    "duration": 25,
    "start_time": "2021-07-08T08:41:10.975Z"
   },
   {
    "duration": 9,
    "start_time": "2021-07-08T08:41:11.002Z"
   },
   {
    "duration": 18,
    "start_time": "2021-07-08T08:41:11.013Z"
   },
   {
    "duration": 6,
    "start_time": "2021-07-08T08:41:11.033Z"
   },
   {
    "duration": 44,
    "start_time": "2021-07-08T08:41:11.042Z"
   },
   {
    "duration": 10,
    "start_time": "2021-07-08T08:41:11.088Z"
   },
   {
    "duration": 9,
    "start_time": "2021-07-08T08:41:11.100Z"
   },
   {
    "duration": 27,
    "start_time": "2021-07-08T08:41:11.111Z"
   },
   {
    "duration": 46,
    "start_time": "2021-07-08T08:41:11.140Z"
   },
   {
    "duration": 17,
    "start_time": "2021-07-08T08:41:11.187Z"
   },
   {
    "duration": 6,
    "start_time": "2021-07-08T08:41:11.206Z"
   },
   {
    "duration": 5,
    "start_time": "2021-07-08T08:41:11.213Z"
   },
   {
    "duration": 10,
    "start_time": "2021-07-08T08:41:11.219Z"
   },
   {
    "duration": 9,
    "start_time": "2021-07-08T08:41:11.230Z"
   },
   {
    "duration": 45,
    "start_time": "2021-07-08T08:41:11.241Z"
   },
   {
    "duration": 7,
    "start_time": "2021-07-08T08:41:11.287Z"
   },
   {
    "duration": 24,
    "start_time": "2021-07-08T08:41:11.296Z"
   },
   {
    "duration": 16,
    "start_time": "2021-07-08T08:41:11.322Z"
   },
   {
    "duration": 7,
    "start_time": "2021-07-08T08:41:11.341Z"
   },
   {
    "duration": 41,
    "start_time": "2021-07-08T08:41:11.349Z"
   },
   {
    "duration": 17,
    "start_time": "2021-07-08T08:41:11.391Z"
   },
   {
    "duration": 9,
    "start_time": "2021-07-08T08:41:11.410Z"
   },
   {
    "duration": 5,
    "start_time": "2021-07-08T08:41:11.421Z"
   },
   {
    "duration": 6,
    "start_time": "2021-07-08T08:41:11.428Z"
   },
   {
    "duration": 198,
    "start_time": "2021-07-08T08:41:11.435Z"
   },
   {
    "duration": 18,
    "start_time": "2021-07-08T08:41:11.635Z"
   },
   {
    "duration": 155,
    "start_time": "2021-07-08T08:41:11.655Z"
   },
   {
    "duration": 138,
    "start_time": "2021-07-08T08:41:11.811Z"
   },
   {
    "duration": 10,
    "start_time": "2021-07-08T08:41:11.950Z"
   },
   {
    "duration": 29,
    "start_time": "2021-07-08T08:41:11.961Z"
   },
   {
    "duration": 171,
    "start_time": "2021-07-08T08:47:44.522Z"
   },
   {
    "duration": 124,
    "start_time": "2021-07-08T08:47:46.872Z"
   },
   {
    "duration": 191,
    "start_time": "2021-07-08T08:47:58.148Z"
   },
   {
    "duration": 191,
    "start_time": "2021-07-08T08:48:07.412Z"
   },
   {
    "duration": 261,
    "start_time": "2021-07-08T08:48:10.385Z"
   },
   {
    "duration": 255,
    "start_time": "2021-07-08T08:48:14.494Z"
   },
   {
    "duration": 219,
    "start_time": "2021-07-08T08:48:22.752Z"
   },
   {
    "duration": 173,
    "start_time": "2021-07-08T08:49:06.395Z"
   },
   {
    "duration": 180,
    "start_time": "2021-07-08T08:49:21.011Z"
   },
   {
    "duration": 6,
    "start_time": "2021-07-08T08:50:31.697Z"
   },
   {
    "duration": 10,
    "start_time": "2021-07-08T08:50:47.394Z"
   },
   {
    "duration": 11,
    "start_time": "2021-07-08T08:53:49.332Z"
   },
   {
    "duration": 171,
    "start_time": "2021-07-08T08:54:28.408Z"
   },
   {
    "duration": 636,
    "start_time": "2021-07-08T09:02:48.385Z"
   },
   {
    "duration": 227,
    "start_time": "2021-07-08T09:02:49.023Z"
   },
   {
    "duration": 104,
    "start_time": "2021-07-08T09:02:49.252Z"
   },
   {
    "duration": 5,
    "start_time": "2021-07-08T09:02:49.358Z"
   },
   {
    "duration": 27,
    "start_time": "2021-07-08T09:02:49.365Z"
   },
   {
    "duration": 8,
    "start_time": "2021-07-08T09:02:49.394Z"
   },
   {
    "duration": 18,
    "start_time": "2021-07-08T09:02:49.404Z"
   },
   {
    "duration": 6,
    "start_time": "2021-07-08T09:02:49.424Z"
   },
   {
    "duration": 11,
    "start_time": "2021-07-08T09:02:49.433Z"
   },
   {
    "duration": 13,
    "start_time": "2021-07-08T09:02:49.485Z"
   },
   {
    "duration": 9,
    "start_time": "2021-07-08T09:02:49.500Z"
   },
   {
    "duration": 38,
    "start_time": "2021-07-08T09:02:49.511Z"
   },
   {
    "duration": 42,
    "start_time": "2021-07-08T09:02:49.551Z"
   },
   {
    "duration": 21,
    "start_time": "2021-07-08T09:02:49.594Z"
   },
   {
    "duration": 6,
    "start_time": "2021-07-08T09:02:49.616Z"
   },
   {
    "duration": 3,
    "start_time": "2021-07-08T09:02:49.623Z"
   },
   {
    "duration": 9,
    "start_time": "2021-07-08T09:02:49.628Z"
   },
   {
    "duration": 52,
    "start_time": "2021-07-08T09:02:49.638Z"
   },
   {
    "duration": 11,
    "start_time": "2021-07-08T09:02:49.692Z"
   },
   {
    "duration": 8,
    "start_time": "2021-07-08T09:02:49.704Z"
   },
   {
    "duration": 27,
    "start_time": "2021-07-08T09:02:49.713Z"
   },
   {
    "duration": 59,
    "start_time": "2021-07-08T09:02:49.741Z"
   },
   {
    "duration": 8,
    "start_time": "2021-07-08T09:02:49.803Z"
   },
   {
    "duration": 14,
    "start_time": "2021-07-08T09:02:49.813Z"
   },
   {
    "duration": 20,
    "start_time": "2021-07-08T09:02:49.829Z"
   },
   {
    "duration": 44,
    "start_time": "2021-07-08T09:02:49.851Z"
   },
   {
    "duration": 14,
    "start_time": "2021-07-08T09:02:49.896Z"
   },
   {
    "duration": 221,
    "start_time": "2021-07-08T09:02:49.912Z"
   },
   {
    "duration": 6,
    "start_time": "2021-07-08T09:02:50.134Z"
   },
   {
    "duration": 206,
    "start_time": "2021-07-08T09:02:50.142Z"
   },
   {
    "duration": 19,
    "start_time": "2021-07-08T09:02:50.350Z"
   },
   {
    "duration": 21,
    "start_time": "2021-07-08T09:02:50.370Z"
   },
   {
    "duration": 20,
    "start_time": "2021-07-08T09:02:50.393Z"
   },
   {
    "duration": 5,
    "start_time": "2021-07-08T09:02:50.414Z"
   },
   {
    "duration": 5,
    "start_time": "2021-07-08T09:03:34.173Z"
   },
   {
    "duration": 6,
    "start_time": "2021-07-08T09:04:49.062Z"
   },
   {
    "duration": 9,
    "start_time": "2021-07-08T09:04:50.118Z"
   },
   {
    "duration": 14,
    "start_time": "2021-07-08T09:04:58.512Z"
   },
   {
    "duration": 9,
    "start_time": "2021-07-08T09:05:10.988Z"
   },
   {
    "duration": 11,
    "start_time": "2021-07-08T09:05:11.743Z"
   },
   {
    "duration": 7,
    "start_time": "2021-07-08T09:05:25.677Z"
   },
   {
    "duration": 13,
    "start_time": "2021-07-08T09:05:47.189Z"
   },
   {
    "duration": 13,
    "start_time": "2021-07-08T09:05:54.755Z"
   },
   {
    "duration": 4,
    "start_time": "2021-07-08T09:06:29.189Z"
   },
   {
    "duration": 244,
    "start_time": "2021-07-08T09:06:29.195Z"
   },
   {
    "duration": 91,
    "start_time": "2021-07-08T09:06:29.441Z"
   },
   {
    "duration": 4,
    "start_time": "2021-07-08T09:06:29.534Z"
   },
   {
    "duration": 28,
    "start_time": "2021-07-08T09:06:29.540Z"
   },
   {
    "duration": 6,
    "start_time": "2021-07-08T09:06:29.570Z"
   },
   {
    "duration": 18,
    "start_time": "2021-07-08T09:06:29.578Z"
   },
   {
    "duration": 5,
    "start_time": "2021-07-08T09:06:29.597Z"
   },
   {
    "duration": 13,
    "start_time": "2021-07-08T09:06:29.605Z"
   },
   {
    "duration": 8,
    "start_time": "2021-07-08T09:06:29.620Z"
   },
   {
    "duration": 7,
    "start_time": "2021-07-08T09:06:29.630Z"
   },
   {
    "duration": 63,
    "start_time": "2021-07-08T09:06:29.639Z"
   },
   {
    "duration": 17,
    "start_time": "2021-07-08T09:06:29.704Z"
   },
   {
    "duration": 20,
    "start_time": "2021-07-08T09:06:29.723Z"
   },
   {
    "duration": 6,
    "start_time": "2021-07-08T09:06:29.745Z"
   },
   {
    "duration": 3,
    "start_time": "2021-07-08T09:06:29.752Z"
   },
   {
    "duration": 7,
    "start_time": "2021-07-08T09:06:29.785Z"
   },
   {
    "duration": 11,
    "start_time": "2021-07-08T09:06:29.794Z"
   },
   {
    "duration": 15,
    "start_time": "2021-07-08T09:06:29.807Z"
   },
   {
    "duration": 8,
    "start_time": "2021-07-08T09:06:29.823Z"
   },
   {
    "duration": 70,
    "start_time": "2021-07-08T09:06:29.832Z"
   },
   {
    "duration": 17,
    "start_time": "2021-07-08T09:06:29.903Z"
   },
   {
    "duration": 9,
    "start_time": "2021-07-08T09:06:29.921Z"
   },
   {
    "duration": 9,
    "start_time": "2021-07-08T09:06:29.932Z"
   },
   {
    "duration": 57,
    "start_time": "2021-07-08T09:06:29.942Z"
   },
   {
    "duration": 11,
    "start_time": "2021-07-08T09:06:30.001Z"
   },
   {
    "duration": 19,
    "start_time": "2021-07-08T09:06:30.016Z"
   },
   {
    "duration": 217,
    "start_time": "2021-07-08T09:06:30.037Z"
   },
   {
    "duration": 6,
    "start_time": "2021-07-08T09:06:30.255Z"
   },
   {
    "duration": 205,
    "start_time": "2021-07-08T09:06:30.263Z"
   },
   {
    "duration": 27,
    "start_time": "2021-07-08T09:06:30.470Z"
   },
   {
    "duration": 11,
    "start_time": "2021-07-08T09:06:30.500Z"
   },
   {
    "duration": 31,
    "start_time": "2021-07-08T09:06:30.513Z"
   },
   {
    "duration": 18,
    "start_time": "2021-07-08T09:06:30.546Z"
   },
   {
    "duration": 11,
    "start_time": "2021-07-08T09:06:30.566Z"
   },
   {
    "duration": 19,
    "start_time": "2021-07-08T09:06:30.579Z"
   },
   {
    "duration": 20,
    "start_time": "2021-07-08T09:06:49.466Z"
   },
   {
    "duration": 9,
    "start_time": "2021-07-08T09:06:51.994Z"
   },
   {
    "duration": 20,
    "start_time": "2021-07-08T09:06:52.273Z"
   },
   {
    "duration": 246,
    "start_time": "2021-07-08T09:10:21.272Z"
   },
   {
    "duration": 84,
    "start_time": "2021-07-08T09:10:21.436Z"
   },
   {
    "duration": 7,
    "start_time": "2021-07-08T09:10:37.608Z"
   },
   {
    "duration": 189,
    "start_time": "2021-07-08T09:10:38.573Z"
   },
   {
    "duration": 185,
    "start_time": "2021-07-08T09:10:53.181Z"
   },
   {
    "duration": 11,
    "start_time": "2021-07-08T09:10:59.549Z"
   },
   {
    "duration": 42,
    "start_time": "2021-07-08T09:10:59.709Z"
   },
   {
    "duration": 12,
    "start_time": "2021-07-08T09:11:02.857Z"
   },
   {
    "duration": 28,
    "start_time": "2021-07-08T09:11:10.062Z"
   },
   {
    "duration": 249,
    "start_time": "2021-07-08T09:11:37.388Z"
   },
   {
    "duration": 232,
    "start_time": "2021-07-08T09:11:49.485Z"
   },
   {
    "duration": 453,
    "start_time": "2021-07-08T09:12:01.546Z"
   },
   {
    "duration": 440,
    "start_time": "2021-07-08T09:12:12.347Z"
   },
   {
    "duration": 213,
    "start_time": "2021-07-08T09:13:32.196Z"
   },
   {
    "duration": 172,
    "start_time": "2021-07-08T09:14:07.400Z"
   },
   {
    "duration": 185,
    "start_time": "2021-07-08T09:14:14.905Z"
   },
   {
    "duration": 209,
    "start_time": "2021-07-08T09:14:40.109Z"
   },
   {
    "duration": 201,
    "start_time": "2021-07-08T09:14:54.506Z"
   },
   {
    "duration": 622,
    "start_time": "2021-07-08T09:18:14.497Z"
   },
   {
    "duration": 220,
    "start_time": "2021-07-08T09:18:15.121Z"
   },
   {
    "duration": 79,
    "start_time": "2021-07-08T09:18:15.343Z"
   },
   {
    "duration": 4,
    "start_time": "2021-07-08T09:18:15.425Z"
   },
   {
    "duration": 24,
    "start_time": "2021-07-08T09:18:15.431Z"
   },
   {
    "duration": 8,
    "start_time": "2021-07-08T09:18:15.457Z"
   },
   {
    "duration": 16,
    "start_time": "2021-07-08T09:18:15.466Z"
   },
   {
    "duration": 5,
    "start_time": "2021-07-08T09:18:15.484Z"
   },
   {
    "duration": 10,
    "start_time": "2021-07-08T09:18:15.493Z"
   },
   {
    "duration": 8,
    "start_time": "2021-07-08T09:18:15.504Z"
   },
   {
    "duration": 7,
    "start_time": "2021-07-08T09:18:15.513Z"
   },
   {
    "duration": 26,
    "start_time": "2021-07-08T09:18:15.522Z"
   },
   {
    "duration": 49,
    "start_time": "2021-07-08T09:18:15.550Z"
   },
   {
    "duration": 21,
    "start_time": "2021-07-08T09:18:15.601Z"
   },
   {
    "duration": 8,
    "start_time": "2021-07-08T09:18:15.624Z"
   },
   {
    "duration": 3,
    "start_time": "2021-07-08T09:18:15.634Z"
   },
   {
    "duration": 8,
    "start_time": "2021-07-08T09:18:15.639Z"
   },
   {
    "duration": 45,
    "start_time": "2021-07-08T09:18:15.649Z"
   },
   {
    "duration": 13,
    "start_time": "2021-07-08T09:18:15.696Z"
   },
   {
    "duration": 10,
    "start_time": "2021-07-08T09:18:15.711Z"
   },
   {
    "duration": 64,
    "start_time": "2021-07-08T09:18:15.722Z"
   },
   {
    "duration": 19,
    "start_time": "2021-07-08T09:18:15.788Z"
   },
   {
    "duration": 9,
    "start_time": "2021-07-08T09:18:15.809Z"
   },
   {
    "duration": 9,
    "start_time": "2021-07-08T09:18:15.820Z"
   },
   {
    "duration": 18,
    "start_time": "2021-07-08T09:18:15.831Z"
   },
   {
    "duration": 43,
    "start_time": "2021-07-08T09:18:15.851Z"
   },
   {
    "duration": 12,
    "start_time": "2021-07-08T09:18:15.897Z"
   },
   {
    "duration": 219,
    "start_time": "2021-07-08T09:18:15.911Z"
   },
   {
    "duration": 8,
    "start_time": "2021-07-08T09:18:16.132Z"
   },
   {
    "duration": 199,
    "start_time": "2021-07-08T09:18:16.141Z"
   },
   {
    "duration": 18,
    "start_time": "2021-07-08T09:18:16.341Z"
   },
   {
    "duration": 24,
    "start_time": "2021-07-08T09:18:16.361Z"
   },
   {
    "duration": 24,
    "start_time": "2021-07-08T09:18:16.387Z"
   },
   {
    "duration": 211,
    "start_time": "2021-07-08T09:18:16.413Z"
   },
   {
    "duration": 18,
    "start_time": "2021-07-08T09:18:16.626Z"
   },
   {
    "duration": 596,
    "start_time": "2021-07-08T10:06:33.623Z"
   },
   {
    "duration": 181,
    "start_time": "2021-07-08T10:06:34.221Z"
   },
   {
    "duration": 176,
    "start_time": "2021-07-08T10:06:34.635Z"
   },
   {
    "duration": 239,
    "start_time": "2021-07-08T10:06:55.572Z"
   },
   {
    "duration": 6,
    "start_time": "2021-07-08T10:06:57.687Z"
   },
   {
    "duration": 4,
    "start_time": "2021-07-08T10:07:03.956Z"
   },
   {
    "duration": 4,
    "start_time": "2021-07-08T10:07:10.376Z"
   },
   {
    "duration": 4,
    "start_time": "2021-07-08T10:17:19.889Z"
   },
   {
    "duration": 3,
    "start_time": "2021-07-08T10:19:19.407Z"
   },
   {
    "duration": 197,
    "start_time": "2021-07-08T10:19:19.412Z"
   },
   {
    "duration": 127,
    "start_time": "2021-07-08T10:19:19.611Z"
   },
   {
    "duration": 4,
    "start_time": "2021-07-08T10:19:19.740Z"
   },
   {
    "duration": 27,
    "start_time": "2021-07-08T10:19:19.746Z"
   },
   {
    "duration": 7,
    "start_time": "2021-07-08T10:19:19.775Z"
   },
   {
    "duration": 30,
    "start_time": "2021-07-08T10:19:19.784Z"
   },
   {
    "duration": 7,
    "start_time": "2021-07-08T10:19:19.817Z"
   },
   {
    "duration": 26,
    "start_time": "2021-07-08T10:19:19.826Z"
   },
   {
    "duration": 18,
    "start_time": "2021-07-08T10:19:19.854Z"
   },
   {
    "duration": 14,
    "start_time": "2021-07-08T10:19:19.874Z"
   },
   {
    "duration": 48,
    "start_time": "2021-07-08T10:19:19.890Z"
   },
   {
    "duration": 17,
    "start_time": "2021-07-08T10:19:19.940Z"
   },
   {
    "duration": 38,
    "start_time": "2021-07-08T10:19:19.959Z"
   },
   {
    "duration": 8,
    "start_time": "2021-07-08T10:19:19.999Z"
   },
   {
    "duration": 15,
    "start_time": "2021-07-08T10:19:20.009Z"
   },
   {
    "duration": 22,
    "start_time": "2021-07-08T10:19:20.026Z"
   },
   {
    "duration": 10,
    "start_time": "2021-07-08T10:19:20.050Z"
   },
   {
    "duration": 10,
    "start_time": "2021-07-08T10:19:20.062Z"
   },
   {
    "duration": 20,
    "start_time": "2021-07-08T10:19:20.073Z"
   },
   {
    "duration": 29,
    "start_time": "2021-07-08T10:19:20.095Z"
   },
   {
    "duration": 17,
    "start_time": "2021-07-08T10:19:20.126Z"
   },
   {
    "duration": 40,
    "start_time": "2021-07-08T10:19:20.146Z"
   },
   {
    "duration": 15,
    "start_time": "2021-07-08T10:19:20.189Z"
   },
   {
    "duration": 19,
    "start_time": "2021-07-08T10:19:20.206Z"
   },
   {
    "duration": 10,
    "start_time": "2021-07-08T10:19:20.226Z"
   },
   {
    "duration": 11,
    "start_time": "2021-07-08T10:19:20.238Z"
   },
   {
    "duration": 297,
    "start_time": "2021-07-08T10:19:20.250Z"
   },
   {
    "duration": 6,
    "start_time": "2021-07-08T10:19:20.549Z"
   },
   {
    "duration": 191,
    "start_time": "2021-07-08T10:19:20.557Z"
   },
   {
    "duration": 19,
    "start_time": "2021-07-08T10:19:20.750Z"
   },
   {
    "duration": 20,
    "start_time": "2021-07-08T10:19:20.771Z"
   },
   {
    "duration": 15,
    "start_time": "2021-07-08T10:19:20.793Z"
   },
   {
    "duration": 222,
    "start_time": "2021-07-08T10:19:20.809Z"
   },
   {
    "duration": 20,
    "start_time": "2021-07-08T10:19:21.033Z"
   },
   {
    "duration": 27,
    "start_time": "2021-07-08T10:45:04.055Z"
   },
   {
    "duration": 8,
    "start_time": "2021-07-08T10:45:08.478Z"
   },
   {
    "duration": 8,
    "start_time": "2021-07-08T10:45:31.982Z"
   },
   {
    "duration": 10,
    "start_time": "2021-07-08T10:46:01.221Z"
   },
   {
    "duration": 17,
    "start_time": "2021-07-08T10:46:40.011Z"
   },
   {
    "duration": 193,
    "start_time": "2021-07-08T10:48:19.471Z"
   },
   {
    "duration": 225,
    "start_time": "2021-07-08T10:49:26.480Z"
   },
   {
    "duration": 204,
    "start_time": "2021-07-08T10:49:59.992Z"
   },
   {
    "duration": 435,
    "start_time": "2021-07-08T10:50:06.779Z"
   },
   {
    "duration": 199,
    "start_time": "2021-07-08T10:50:14.891Z"
   },
   {
    "duration": 204,
    "start_time": "2021-07-08T10:50:18.501Z"
   },
   {
    "duration": 244,
    "start_time": "2021-07-08T10:50:23.359Z"
   },
   {
    "duration": 192,
    "start_time": "2021-07-08T10:50:29.135Z"
   },
   {
    "duration": 218,
    "start_time": "2021-07-08T10:50:33.092Z"
   },
   {
    "duration": 207,
    "start_time": "2021-07-08T10:52:45.381Z"
   },
   {
    "duration": 5,
    "start_time": "2021-07-08T10:53:34.641Z"
   },
   {
    "duration": 196,
    "start_time": "2021-07-08T10:53:41.478Z"
   },
   {
    "duration": 43,
    "start_time": "2021-07-08T10:53:50.335Z"
   },
   {
    "duration": 32,
    "start_time": "2021-07-08T10:53:55.294Z"
   },
   {
    "duration": 55,
    "start_time": "2021-07-08T10:54:09.675Z"
   },
   {
    "duration": 16,
    "start_time": "2021-07-08T10:54:12.260Z"
   },
   {
    "duration": 15,
    "start_time": "2021-07-08T10:54:49.150Z"
   },
   {
    "duration": 20,
    "start_time": "2021-07-08T10:56:07.596Z"
   },
   {
    "duration": 16,
    "start_time": "2021-07-08T10:58:26.276Z"
   },
   {
    "duration": 22,
    "start_time": "2021-07-08T10:59:00.486Z"
   },
   {
    "duration": 18,
    "start_time": "2021-07-08T11:02:09.653Z"
   },
   {
    "duration": 10,
    "start_time": "2021-07-08T11:03:44.331Z"
   },
   {
    "duration": 10,
    "start_time": "2021-07-08T11:03:54.055Z"
   },
   {
    "duration": 12,
    "start_time": "2021-07-08T11:04:41.967Z"
   },
   {
    "duration": 24,
    "start_time": "2021-07-08T11:07:30.732Z"
   },
   {
    "duration": 6,
    "start_time": "2021-07-08T11:07:37.364Z"
   },
   {
    "duration": 16,
    "start_time": "2021-07-08T11:08:01.819Z"
   },
   {
    "duration": 17,
    "start_time": "2021-07-08T11:09:47.488Z"
   },
   {
    "duration": 246,
    "start_time": "2021-07-08T11:10:00.830Z"
   },
   {
    "duration": 18,
    "start_time": "2021-07-08T11:13:55.195Z"
   },
   {
    "duration": 204,
    "start_time": "2021-07-08T11:14:04.951Z"
   },
   {
    "duration": 19,
    "start_time": "2021-07-08T11:15:10.613Z"
   },
   {
    "duration": 680,
    "start_time": "2021-07-08T11:16:25.793Z"
   },
   {
    "duration": 451,
    "start_time": "2021-07-08T11:16:40.313Z"
   },
   {
    "duration": 469,
    "start_time": "2021-07-08T11:17:21.286Z"
   },
   {
    "duration": 20,
    "start_time": "2021-07-08T11:19:12.554Z"
   },
   {
    "duration": 35,
    "start_time": "2021-07-08T11:20:05.484Z"
   },
   {
    "duration": 53,
    "start_time": "2021-07-08T11:21:40.050Z"
   },
   {
    "duration": 13,
    "start_time": "2021-07-08T11:22:26.059Z"
   },
   {
    "duration": 19,
    "start_time": "2021-07-08T11:22:47.419Z"
   },
   {
    "duration": 25,
    "start_time": "2021-07-08T11:23:19.958Z"
   },
   {
    "duration": 29,
    "start_time": "2021-07-08T11:23:25.415Z"
   },
   {
    "duration": 10,
    "start_time": "2021-07-08T11:24:45.138Z"
   },
   {
    "duration": 19,
    "start_time": "2021-07-08T11:24:54.498Z"
   },
   {
    "duration": 12,
    "start_time": "2021-07-08T11:25:32.225Z"
   },
   {
    "duration": 19,
    "start_time": "2021-07-08T11:25:37.092Z"
   },
   {
    "duration": 17,
    "start_time": "2021-07-08T11:25:58.116Z"
   },
   {
    "duration": 15,
    "start_time": "2021-07-08T11:26:02.258Z"
   },
   {
    "duration": 8,
    "start_time": "2021-07-08T11:26:59.682Z"
   },
   {
    "duration": 184,
    "start_time": "2021-07-08T11:27:21.894Z"
   },
   {
    "duration": 8,
    "start_time": "2021-07-08T11:27:23.824Z"
   },
   {
    "duration": 202,
    "start_time": "2021-07-08T11:27:23.962Z"
   },
   {
    "duration": 360,
    "start_time": "2021-07-08T11:28:33.215Z"
   },
   {
    "duration": 231,
    "start_time": "2021-07-08T11:32:05.542Z"
   },
   {
    "duration": 607,
    "start_time": "2021-07-08T11:36:27.854Z"
   },
   {
    "duration": 241,
    "start_time": "2021-07-08T11:36:28.463Z"
   },
   {
    "duration": 67,
    "start_time": "2021-07-08T11:36:28.709Z"
   },
   {
    "duration": 5,
    "start_time": "2021-07-08T11:36:28.778Z"
   },
   {
    "duration": 32,
    "start_time": "2021-07-08T11:36:28.784Z"
   },
   {
    "duration": 11,
    "start_time": "2021-07-08T11:36:28.819Z"
   },
   {
    "duration": 20,
    "start_time": "2021-07-08T11:36:28.834Z"
   },
   {
    "duration": 36,
    "start_time": "2021-07-08T11:36:28.857Z"
   },
   {
    "duration": 16,
    "start_time": "2021-07-08T11:36:28.895Z"
   },
   {
    "duration": 14,
    "start_time": "2021-07-08T11:36:28.913Z"
   },
   {
    "duration": 9,
    "start_time": "2021-07-08T11:36:28.930Z"
   },
   {
    "duration": 55,
    "start_time": "2021-07-08T11:36:28.941Z"
   },
   {
    "duration": 27,
    "start_time": "2021-07-08T11:36:28.999Z"
   },
   {
    "duration": 30,
    "start_time": "2021-07-08T11:36:29.028Z"
   },
   {
    "duration": 31,
    "start_time": "2021-07-08T11:36:29.060Z"
   },
   {
    "duration": 3,
    "start_time": "2021-07-08T11:36:29.093Z"
   },
   {
    "duration": 12,
    "start_time": "2021-07-08T11:36:29.099Z"
   },
   {
    "duration": 11,
    "start_time": "2021-07-08T11:36:29.112Z"
   },
   {
    "duration": 12,
    "start_time": "2021-07-08T11:36:29.125Z"
   },
   {
    "duration": 9,
    "start_time": "2021-07-08T11:36:29.139Z"
   },
   {
    "duration": 31,
    "start_time": "2021-07-08T11:36:29.191Z"
   },
   {
    "duration": 17,
    "start_time": "2021-07-08T11:36:29.226Z"
   },
   {
    "duration": 7,
    "start_time": "2021-07-08T11:36:29.245Z"
   },
   {
    "duration": 10,
    "start_time": "2021-07-08T11:36:29.254Z"
   },
   {
    "duration": 30,
    "start_time": "2021-07-08T11:36:29.292Z"
   },
   {
    "duration": 11,
    "start_time": "2021-07-08T11:36:29.324Z"
   },
   {
    "duration": 11,
    "start_time": "2021-07-08T11:36:29.337Z"
   },
   {
    "duration": 230,
    "start_time": "2021-07-08T11:36:29.349Z"
   },
   {
    "duration": 13,
    "start_time": "2021-07-08T11:36:29.588Z"
   },
   {
    "duration": 205,
    "start_time": "2021-07-08T11:36:29.603Z"
   },
   {
    "duration": 20,
    "start_time": "2021-07-08T11:36:29.810Z"
   },
   {
    "duration": 9,
    "start_time": "2021-07-08T11:36:29.832Z"
   },
   {
    "duration": 16,
    "start_time": "2021-07-08T11:36:29.843Z"
   },
   {
    "duration": 283,
    "start_time": "2021-07-08T11:36:29.861Z"
   },
   {
    "duration": 50,
    "start_time": "2021-07-08T11:36:30.146Z"
   },
   {
    "duration": 14,
    "start_time": "2021-07-08T11:36:30.198Z"
   },
   {
    "duration": 11,
    "start_time": "2021-07-08T11:36:30.214Z"
   },
   {
    "duration": 245,
    "start_time": "2021-07-08T11:36:30.227Z"
   },
   {
    "duration": 439,
    "start_time": "2021-07-08T11:36:30.474Z"
   },
   {
    "duration": 210,
    "start_time": "2021-07-08T11:36:30.915Z"
   },
   {
    "duration": 15,
    "start_time": "2021-07-08T11:36:31.127Z"
   },
   {
    "duration": 17,
    "start_time": "2021-07-08T11:38:20.451Z"
   },
   {
    "duration": 642,
    "start_time": "2021-07-08T11:46:17.881Z"
   },
   {
    "duration": 210,
    "start_time": "2021-07-08T11:46:18.525Z"
   },
   {
    "duration": 104,
    "start_time": "2021-07-08T11:46:18.741Z"
   },
   {
    "duration": 8,
    "start_time": "2021-07-08T11:46:18.847Z"
   },
   {
    "duration": 25,
    "start_time": "2021-07-08T11:46:18.857Z"
   },
   {
    "duration": 14,
    "start_time": "2021-07-08T11:46:18.884Z"
   },
   {
    "duration": 22,
    "start_time": "2021-07-08T11:46:18.900Z"
   },
   {
    "duration": 5,
    "start_time": "2021-07-08T11:46:18.924Z"
   },
   {
    "duration": 13,
    "start_time": "2021-07-08T11:46:18.931Z"
   },
   {
    "duration": 45,
    "start_time": "2021-07-08T11:46:18.946Z"
   },
   {
    "duration": 12,
    "start_time": "2021-07-08T11:46:18.993Z"
   },
   {
    "duration": 38,
    "start_time": "2021-07-08T11:46:19.006Z"
   },
   {
    "duration": 50,
    "start_time": "2021-07-08T11:46:19.046Z"
   },
   {
    "duration": 29,
    "start_time": "2021-07-08T11:46:19.099Z"
   },
   {
    "duration": 7,
    "start_time": "2021-07-08T11:46:19.130Z"
   },
   {
    "duration": 3,
    "start_time": "2021-07-08T11:46:19.139Z"
   },
   {
    "duration": 11,
    "start_time": "2021-07-08T11:46:19.144Z"
   },
   {
    "duration": 40,
    "start_time": "2021-07-08T11:46:19.157Z"
   },
   {
    "duration": 15,
    "start_time": "2021-07-08T11:46:19.199Z"
   },
   {
    "duration": 10,
    "start_time": "2021-07-08T11:46:19.217Z"
   },
   {
    "duration": 68,
    "start_time": "2021-07-08T11:46:19.230Z"
   },
   {
    "duration": 17,
    "start_time": "2021-07-08T11:46:19.301Z"
   },
   {
    "duration": 7,
    "start_time": "2021-07-08T11:46:19.321Z"
   },
   {
    "duration": 11,
    "start_time": "2021-07-08T11:46:19.330Z"
   },
   {
    "duration": 59,
    "start_time": "2021-07-08T11:46:19.343Z"
   },
   {
    "duration": 17,
    "start_time": "2021-07-08T11:46:19.405Z"
   },
   {
    "duration": 16,
    "start_time": "2021-07-08T11:46:19.424Z"
   },
   {
    "duration": 252,
    "start_time": "2021-07-08T11:46:19.443Z"
   },
   {
    "duration": 9,
    "start_time": "2021-07-08T11:46:19.697Z"
   },
   {
    "duration": 224,
    "start_time": "2021-07-08T11:46:19.708Z"
   },
   {
    "duration": 21,
    "start_time": "2021-07-08T11:46:19.934Z"
   },
   {
    "duration": 9,
    "start_time": "2021-07-08T11:46:19.956Z"
   },
   {
    "duration": 32,
    "start_time": "2021-07-08T11:46:19.967Z"
   },
   {
    "duration": 288,
    "start_time": "2021-07-08T11:46:20.004Z"
   },
   {
    "duration": 23,
    "start_time": "2021-07-08T11:46:20.300Z"
   },
   {
    "duration": 11,
    "start_time": "2021-07-08T11:46:20.325Z"
   },
   {
    "duration": 11,
    "start_time": "2021-07-08T11:46:20.339Z"
   },
   {
    "duration": 259,
    "start_time": "2021-07-08T11:46:20.352Z"
   },
   {
    "duration": 438,
    "start_time": "2021-07-08T11:46:20.613Z"
   },
   {
    "duration": 207,
    "start_time": "2021-07-08T11:46:21.054Z"
   },
   {
    "duration": 27,
    "start_time": "2021-07-08T11:46:21.262Z"
   },
   {
    "duration": 19,
    "start_time": "2021-07-08T11:46:21.291Z"
   },
   {
    "duration": 820,
    "start_time": "2021-07-08T11:49:01.655Z"
   },
   {
    "duration": 372,
    "start_time": "2021-07-08T11:49:02.478Z"
   },
   {
    "duration": 98,
    "start_time": "2021-07-08T11:49:02.853Z"
   },
   {
    "duration": 6,
    "start_time": "2021-07-08T11:49:02.953Z"
   },
   {
    "duration": 39,
    "start_time": "2021-07-08T11:49:02.960Z"
   },
   {
    "duration": 9,
    "start_time": "2021-07-08T11:49:03.003Z"
   },
   {
    "duration": 23,
    "start_time": "2021-07-08T11:49:03.014Z"
   },
   {
    "duration": 6,
    "start_time": "2021-07-08T11:49:03.041Z"
   },
   {
    "duration": 20,
    "start_time": "2021-07-08T11:49:03.049Z"
   },
   {
    "duration": 18,
    "start_time": "2021-07-08T11:49:03.084Z"
   },
   {
    "duration": 14,
    "start_time": "2021-07-08T11:49:03.104Z"
   },
   {
    "duration": 39,
    "start_time": "2021-07-08T11:49:03.119Z"
   },
   {
    "duration": 38,
    "start_time": "2021-07-08T11:49:03.160Z"
   },
   {
    "duration": 26,
    "start_time": "2021-07-08T11:49:03.200Z"
   },
   {
    "duration": 7,
    "start_time": "2021-07-08T11:49:03.227Z"
   },
   {
    "duration": 4,
    "start_time": "2021-07-08T11:49:03.236Z"
   },
   {
    "duration": 15,
    "start_time": "2021-07-08T11:49:03.243Z"
   },
   {
    "duration": 21,
    "start_time": "2021-07-08T11:49:03.285Z"
   },
   {
    "duration": 17,
    "start_time": "2021-07-08T11:49:03.309Z"
   },
   {
    "duration": 10,
    "start_time": "2021-07-08T11:49:03.328Z"
   },
   {
    "duration": 65,
    "start_time": "2021-07-08T11:49:03.340Z"
   },
   {
    "duration": 18,
    "start_time": "2021-07-08T11:49:03.407Z"
   },
   {
    "duration": 8,
    "start_time": "2021-07-08T11:49:03.428Z"
   },
   {
    "duration": 15,
    "start_time": "2021-07-08T11:49:03.438Z"
   },
   {
    "duration": 40,
    "start_time": "2021-07-08T11:49:03.455Z"
   },
   {
    "duration": 12,
    "start_time": "2021-07-08T11:49:03.497Z"
   },
   {
    "duration": 29,
    "start_time": "2021-07-08T11:49:03.511Z"
   },
   {
    "duration": 285,
    "start_time": "2021-07-08T11:49:03.542Z"
   },
   {
    "duration": 8,
    "start_time": "2021-07-08T11:49:03.829Z"
   },
   {
    "duration": 227,
    "start_time": "2021-07-08T11:49:03.838Z"
   },
   {
    "duration": 40,
    "start_time": "2021-07-08T11:49:04.066Z"
   },
   {
    "duration": 10,
    "start_time": "2021-07-08T11:49:04.108Z"
   },
   {
    "duration": 26,
    "start_time": "2021-07-08T11:49:04.121Z"
   },
   {
    "duration": 290,
    "start_time": "2021-07-08T11:49:04.149Z"
   },
   {
    "duration": 26,
    "start_time": "2021-07-08T11:49:04.441Z"
   },
   {
    "duration": 31,
    "start_time": "2021-07-08T11:49:04.470Z"
   },
   {
    "duration": 14,
    "start_time": "2021-07-08T11:49:04.503Z"
   },
   {
    "duration": 259,
    "start_time": "2021-07-08T11:49:04.521Z"
   },
   {
    "duration": 480,
    "start_time": "2021-07-08T11:49:04.782Z"
   },
   {
    "duration": 225,
    "start_time": "2021-07-08T11:49:05.264Z"
   },
   {
    "duration": 22,
    "start_time": "2021-07-08T11:49:05.491Z"
   },
   {
    "duration": 24,
    "start_time": "2021-07-08T11:49:05.515Z"
   },
   {
    "duration": 634,
    "start_time": "2021-07-08T11:52:24.960Z"
   },
   {
    "duration": 199,
    "start_time": "2021-07-08T11:52:25.599Z"
   },
   {
    "duration": 106,
    "start_time": "2021-07-08T11:52:25.803Z"
   },
   {
    "duration": 7,
    "start_time": "2021-07-08T11:52:25.911Z"
   },
   {
    "duration": 29,
    "start_time": "2021-07-08T11:52:25.920Z"
   },
   {
    "duration": 7,
    "start_time": "2021-07-08T11:52:25.951Z"
   },
   {
    "duration": 26,
    "start_time": "2021-07-08T11:52:25.961Z"
   },
   {
    "duration": 11,
    "start_time": "2021-07-08T11:52:25.990Z"
   },
   {
    "duration": 29,
    "start_time": "2021-07-08T11:52:26.005Z"
   },
   {
    "duration": 9,
    "start_time": "2021-07-08T11:52:26.036Z"
   },
   {
    "duration": 8,
    "start_time": "2021-07-08T11:52:26.047Z"
   },
   {
    "duration": 63,
    "start_time": "2021-07-08T11:52:26.057Z"
   },
   {
    "duration": 17,
    "start_time": "2021-07-08T11:52:26.122Z"
   },
   {
    "duration": 43,
    "start_time": "2021-07-08T11:52:26.142Z"
   },
   {
    "duration": 17,
    "start_time": "2021-07-08T11:52:26.187Z"
   },
   {
    "duration": 5,
    "start_time": "2021-07-08T11:52:26.206Z"
   },
   {
    "duration": 12,
    "start_time": "2021-07-08T11:52:26.212Z"
   },
   {
    "duration": 11,
    "start_time": "2021-07-08T11:52:26.226Z"
   },
   {
    "duration": 12,
    "start_time": "2021-07-08T11:52:26.238Z"
   },
   {
    "duration": 38,
    "start_time": "2021-07-08T11:52:26.252Z"
   },
   {
    "duration": 40,
    "start_time": "2021-07-08T11:52:26.292Z"
   },
   {
    "duration": 17,
    "start_time": "2021-07-08T11:52:26.336Z"
   },
   {
    "duration": 39,
    "start_time": "2021-07-08T11:52:26.355Z"
   },
   {
    "duration": 11,
    "start_time": "2021-07-08T11:52:26.395Z"
   },
   {
    "duration": 23,
    "start_time": "2021-07-08T11:52:26.408Z"
   },
   {
    "duration": 12,
    "start_time": "2021-07-08T11:52:26.432Z"
   },
   {
    "duration": 41,
    "start_time": "2021-07-08T11:52:26.446Z"
   },
   {
    "duration": 215,
    "start_time": "2021-07-08T11:52:26.493Z"
   },
   {
    "duration": 8,
    "start_time": "2021-07-08T11:52:26.710Z"
   },
   {
    "duration": 228,
    "start_time": "2021-07-08T11:52:26.720Z"
   },
   {
    "duration": 18,
    "start_time": "2021-07-08T11:52:26.950Z"
   },
   {
    "duration": 35,
    "start_time": "2021-07-08T11:52:26.969Z"
   },
   {
    "duration": 23,
    "start_time": "2021-07-08T11:52:27.006Z"
   },
   {
    "duration": 258,
    "start_time": "2021-07-08T11:52:27.030Z"
   },
   {
    "duration": 24,
    "start_time": "2021-07-08T11:52:27.290Z"
   },
   {
    "duration": 12,
    "start_time": "2021-07-08T11:52:27.316Z"
   },
   {
    "duration": 10,
    "start_time": "2021-07-08T11:52:27.329Z"
   },
   {
    "duration": 298,
    "start_time": "2021-07-08T11:52:27.341Z"
   },
   {
    "duration": 436,
    "start_time": "2021-07-08T11:52:27.641Z"
   },
   {
    "duration": 216,
    "start_time": "2021-07-08T11:52:28.079Z"
   },
   {
    "duration": 20,
    "start_time": "2021-07-08T11:52:28.297Z"
   },
   {
    "duration": 17,
    "start_time": "2021-07-08T11:52:28.319Z"
   },
   {
    "duration": 378,
    "start_time": "2022-07-18T09:22:07.891Z"
   },
   {
    "duration": 215,
    "start_time": "2022-07-18T09:22:10.076Z"
   },
   {
    "duration": 87,
    "start_time": "2022-07-18T09:23:50.873Z"
   },
   {
    "duration": 10,
    "start_time": "2022-07-18T09:24:48.358Z"
   },
   {
    "duration": 18,
    "start_time": "2022-07-18T09:25:36.489Z"
   },
   {
    "duration": 3,
    "start_time": "2022-07-18T09:51:39.226Z"
   },
   {
    "duration": 14,
    "start_time": "2022-07-18T09:51:46.128Z"
   },
   {
    "duration": 268,
    "start_time": "2022-07-18T09:52:03.135Z"
   },
   {
    "duration": 3,
    "start_time": "2022-07-18T09:52:59.109Z"
   },
   {
    "duration": 98,
    "start_time": "2022-07-18T09:52:59.114Z"
   },
   {
    "duration": 43,
    "start_time": "2022-07-18T09:52:59.214Z"
   },
   {
    "duration": 9,
    "start_time": "2022-07-18T09:52:59.259Z"
   },
   {
    "duration": 18,
    "start_time": "2022-07-18T09:52:59.270Z"
   },
   {
    "duration": 202,
    "start_time": "2022-07-18T09:52:59.290Z"
   },
   {
    "duration": 0,
    "start_time": "2022-07-18T09:52:59.494Z"
   },
   {
    "duration": 2,
    "start_time": "2022-07-18T09:53:24.249Z"
   },
   {
    "duration": 103,
    "start_time": "2022-07-18T09:53:24.253Z"
   },
   {
    "duration": 42,
    "start_time": "2022-07-18T09:53:24.357Z"
   },
   {
    "duration": 10,
    "start_time": "2022-07-18T09:53:24.401Z"
   },
   {
    "duration": 16,
    "start_time": "2022-07-18T09:53:24.413Z"
   },
   {
    "duration": 5,
    "start_time": "2022-07-18T09:54:45.937Z"
   },
   {
    "duration": 19,
    "start_time": "2022-07-18T09:55:36.415Z"
   },
   {
    "duration": 8,
    "start_time": "2022-07-18T09:57:38.498Z"
   },
   {
    "duration": 15,
    "start_time": "2022-07-18T09:57:47.592Z"
   },
   {
    "duration": 6,
    "start_time": "2022-07-18T09:58:07.159Z"
   },
   {
    "duration": 21,
    "start_time": "2022-07-18T09:58:16.239Z"
   },
   {
    "duration": 100,
    "start_time": "2022-07-18T09:59:16.597Z"
   },
   {
    "duration": 4,
    "start_time": "2022-07-18T09:59:51.642Z"
   },
   {
    "duration": 8,
    "start_time": "2022-07-18T10:00:10.564Z"
   },
   {
    "duration": 10,
    "start_time": "2022-07-18T10:00:36.576Z"
   },
   {
    "duration": 10,
    "start_time": "2022-07-18T10:00:44.820Z"
   },
   {
    "duration": 11,
    "start_time": "2022-07-18T10:01:13.286Z"
   },
   {
    "duration": 12,
    "start_time": "2022-07-18T10:02:01.087Z"
   },
   {
    "duration": 12,
    "start_time": "2022-07-18T10:02:17.364Z"
   },
   {
    "duration": 12,
    "start_time": "2022-07-18T10:03:55.407Z"
   },
   {
    "duration": 15,
    "start_time": "2022-07-18T10:04:15.490Z"
   },
   {
    "duration": 22,
    "start_time": "2022-07-18T10:04:32.574Z"
   },
   {
    "duration": 11,
    "start_time": "2022-07-18T10:07:13.503Z"
   },
   {
    "duration": 11,
    "start_time": "2022-07-18T10:25:06.882Z"
   },
   {
    "duration": 56,
    "start_time": "2022-07-18T10:25:33.526Z"
   },
   {
    "duration": 21,
    "start_time": "2022-07-18T10:32:49.863Z"
   },
   {
    "duration": 21,
    "start_time": "2022-07-18T10:33:08.283Z"
   },
   {
    "duration": 15,
    "start_time": "2022-07-18T10:52:38.741Z"
   },
   {
    "duration": 3,
    "start_time": "2022-07-18T10:53:33.377Z"
   },
   {
    "duration": 113,
    "start_time": "2022-07-18T10:53:33.382Z"
   },
   {
    "duration": 52,
    "start_time": "2022-07-18T10:53:33.496Z"
   },
   {
    "duration": 11,
    "start_time": "2022-07-18T10:53:33.551Z"
   },
   {
    "duration": 19,
    "start_time": "2022-07-18T10:53:33.564Z"
   },
   {
    "duration": 21,
    "start_time": "2022-07-18T10:53:33.585Z"
   },
   {
    "duration": 36,
    "start_time": "2022-07-18T10:53:33.607Z"
   },
   {
    "duration": 18,
    "start_time": "2022-07-18T10:53:33.645Z"
   },
   {
    "duration": 29,
    "start_time": "2022-07-18T10:53:33.667Z"
   },
   {
    "duration": 38,
    "start_time": "2022-07-18T10:53:33.698Z"
   },
   {
    "duration": 25,
    "start_time": "2022-07-18T10:54:29.082Z"
   },
   {
    "duration": 12,
    "start_time": "2022-07-18T10:55:34.388Z"
   },
   {
    "duration": 12,
    "start_time": "2022-07-18T11:02:03.454Z"
   },
   {
    "duration": 4,
    "start_time": "2022-07-18T11:03:13.887Z"
   },
   {
    "duration": 22,
    "start_time": "2022-07-18T11:03:24.777Z"
   },
   {
    "duration": 7,
    "start_time": "2022-07-18T11:06:00.770Z"
   },
   {
    "duration": 944,
    "start_time": "2022-07-18T11:06:51.702Z"
   },
   {
    "duration": 23,
    "start_time": "2022-07-18T11:07:41.819Z"
   },
   {
    "duration": 8,
    "start_time": "2022-07-18T11:07:55.583Z"
   },
   {
    "duration": 37,
    "start_time": "2022-07-18T11:08:13.005Z"
   },
   {
    "duration": 25,
    "start_time": "2022-07-18T11:11:38.191Z"
   },
   {
    "duration": 26,
    "start_time": "2022-07-18T11:13:21.563Z"
   },
   {
    "duration": 2,
    "start_time": "2022-07-18T11:13:31.703Z"
   },
   {
    "duration": 27,
    "start_time": "2022-07-18T11:14:14.920Z"
   },
   {
    "duration": 24,
    "start_time": "2022-07-18T11:15:20.767Z"
   },
   {
    "duration": 9,
    "start_time": "2022-07-18T11:21:39.594Z"
   },
   {
    "duration": 18,
    "start_time": "2022-07-18T11:23:35.576Z"
   },
   {
    "duration": 14,
    "start_time": "2022-07-18T11:23:58.581Z"
   },
   {
    "duration": 21,
    "start_time": "2022-07-18T11:26:16.326Z"
   },
   {
    "duration": 20,
    "start_time": "2022-07-18T11:30:56.823Z"
   },
   {
    "duration": 10,
    "start_time": "2022-07-18T11:35:46.088Z"
   },
   {
    "duration": 25,
    "start_time": "2022-07-18T11:35:50.452Z"
   },
   {
    "duration": 44,
    "start_time": "2022-07-18T11:37:10.321Z"
   },
   {
    "duration": 18,
    "start_time": "2022-07-18T11:37:11.586Z"
   },
   {
    "duration": 3,
    "start_time": "2022-07-18T11:37:25.485Z"
   },
   {
    "duration": 26,
    "start_time": "2022-07-18T11:37:26.544Z"
   },
   {
    "duration": 4,
    "start_time": "2022-07-18T11:37:33.057Z"
   },
   {
    "duration": 138,
    "start_time": "2022-07-18T11:37:33.067Z"
   },
   {
    "duration": 46,
    "start_time": "2022-07-18T11:37:33.208Z"
   },
   {
    "duration": 19,
    "start_time": "2022-07-18T11:37:33.256Z"
   },
   {
    "duration": 31,
    "start_time": "2022-07-18T11:37:33.278Z"
   },
   {
    "duration": 9,
    "start_time": "2022-07-18T11:37:33.311Z"
   },
   {
    "duration": 21,
    "start_time": "2022-07-18T11:37:33.321Z"
   },
   {
    "duration": 23,
    "start_time": "2022-07-18T11:37:33.344Z"
   },
   {
    "duration": 47,
    "start_time": "2022-07-18T11:37:33.369Z"
   },
   {
    "duration": 13,
    "start_time": "2022-07-18T11:37:33.418Z"
   },
   {
    "duration": 24,
    "start_time": "2022-07-18T11:37:33.433Z"
   },
   {
    "duration": 22,
    "start_time": "2022-07-18T11:37:33.459Z"
   },
   {
    "duration": 34,
    "start_time": "2022-07-18T11:37:33.483Z"
   },
   {
    "duration": 31,
    "start_time": "2022-07-18T11:37:33.518Z"
   },
   {
    "duration": 3,
    "start_time": "2022-07-18T11:37:33.551Z"
   },
   {
    "duration": 49,
    "start_time": "2022-07-18T11:37:33.556Z"
   },
   {
    "duration": 7,
    "start_time": "2022-07-18T11:47:53.048Z"
   },
   {
    "duration": 18,
    "start_time": "2022-07-18T11:47:54.929Z"
   },
   {
    "duration": 15,
    "start_time": "2022-07-18T11:48:06.220Z"
   },
   {
    "duration": 10,
    "start_time": "2022-07-18T11:56:27.122Z"
   },
   {
    "duration": 21,
    "start_time": "2022-07-18T11:56:28.188Z"
   },
   {
    "duration": 18,
    "start_time": "2022-07-18T11:56:36.684Z"
   },
   {
    "duration": 30,
    "start_time": "2022-07-18T11:57:07.087Z"
   },
   {
    "duration": 4,
    "start_time": "2022-07-18T11:57:19.100Z"
   },
   {
    "duration": 133,
    "start_time": "2022-07-18T11:57:19.106Z"
   },
   {
    "duration": 77,
    "start_time": "2022-07-18T11:57:19.242Z"
   },
   {
    "duration": 15,
    "start_time": "2022-07-18T11:57:19.322Z"
   },
   {
    "duration": 15,
    "start_time": "2022-07-18T11:57:19.339Z"
   },
   {
    "duration": 10,
    "start_time": "2022-07-18T11:57:19.356Z"
   },
   {
    "duration": 52,
    "start_time": "2022-07-18T11:57:19.368Z"
   },
   {
    "duration": 30,
    "start_time": "2022-07-18T11:57:19.421Z"
   },
   {
    "duration": 37,
    "start_time": "2022-07-18T11:57:19.453Z"
   },
   {
    "duration": 31,
    "start_time": "2022-07-18T11:57:19.494Z"
   },
   {
    "duration": 28,
    "start_time": "2022-07-18T11:57:19.527Z"
   },
   {
    "duration": 22,
    "start_time": "2022-07-18T11:57:19.556Z"
   },
   {
    "duration": 36,
    "start_time": "2022-07-18T11:57:19.580Z"
   },
   {
    "duration": 25,
    "start_time": "2022-07-18T11:57:19.618Z"
   },
   {
    "duration": 8,
    "start_time": "2022-07-18T11:57:19.645Z"
   },
   {
    "duration": 29,
    "start_time": "2022-07-18T11:57:19.655Z"
   },
   {
    "duration": 14,
    "start_time": "2022-07-18T11:57:30.813Z"
   },
   {
    "duration": 10,
    "start_time": "2022-07-18T12:04:01.699Z"
   },
   {
    "duration": 19,
    "start_time": "2022-07-18T12:04:02.673Z"
   },
   {
    "duration": 10,
    "start_time": "2022-07-18T12:04:09.673Z"
   },
   {
    "duration": 19,
    "start_time": "2022-07-18T12:04:10.180Z"
   },
   {
    "duration": 65,
    "start_time": "2022-07-18T12:06:37.511Z"
   },
   {
    "duration": 10,
    "start_time": "2022-07-18T12:06:41.772Z"
   },
   {
    "duration": 19,
    "start_time": "2022-07-18T12:06:43.113Z"
   },
   {
    "duration": 10,
    "start_time": "2022-07-18T12:07:00.992Z"
   },
   {
    "duration": 30,
    "start_time": "2022-07-18T12:07:01.656Z"
   },
   {
    "duration": 11,
    "start_time": "2022-07-18T12:18:38.266Z"
   },
   {
    "duration": 18,
    "start_time": "2022-07-18T12:18:39.086Z"
   },
   {
    "duration": 3,
    "start_time": "2022-07-18T12:18:50.431Z"
   },
   {
    "duration": 98,
    "start_time": "2022-07-18T12:18:50.439Z"
   },
   {
    "duration": 43,
    "start_time": "2022-07-18T12:18:50.539Z"
   },
   {
    "duration": 10,
    "start_time": "2022-07-18T12:18:50.583Z"
   },
   {
    "duration": 16,
    "start_time": "2022-07-18T12:18:50.596Z"
   },
   {
    "duration": 9,
    "start_time": "2022-07-18T12:18:50.614Z"
   },
   {
    "duration": 16,
    "start_time": "2022-07-18T12:18:50.624Z"
   },
   {
    "duration": 26,
    "start_time": "2022-07-18T12:18:50.641Z"
   },
   {
    "duration": 19,
    "start_time": "2022-07-18T12:18:50.669Z"
   },
   {
    "duration": 10,
    "start_time": "2022-07-18T12:18:50.690Z"
   },
   {
    "duration": 24,
    "start_time": "2022-07-18T12:18:50.703Z"
   },
   {
    "duration": 32,
    "start_time": "2022-07-18T12:18:50.729Z"
   },
   {
    "duration": 9,
    "start_time": "2022-07-18T12:18:50.763Z"
   },
   {
    "duration": 28,
    "start_time": "2022-07-18T12:18:50.773Z"
   },
   {
    "duration": 10,
    "start_time": "2022-07-18T12:18:50.803Z"
   },
   {
    "duration": 0,
    "start_time": "2022-07-18T12:18:50.814Z"
   },
   {
    "duration": 0,
    "start_time": "2022-07-18T12:18:50.815Z"
   },
   {
    "duration": 3,
    "start_time": "2022-07-18T12:19:49.917Z"
   },
   {
    "duration": 103,
    "start_time": "2022-07-18T12:19:49.923Z"
   },
   {
    "duration": 44,
    "start_time": "2022-07-18T12:19:50.028Z"
   },
   {
    "duration": 11,
    "start_time": "2022-07-18T12:19:50.074Z"
   },
   {
    "duration": 19,
    "start_time": "2022-07-18T12:19:50.088Z"
   },
   {
    "duration": 10,
    "start_time": "2022-07-18T12:19:50.108Z"
   },
   {
    "duration": 18,
    "start_time": "2022-07-18T12:19:50.120Z"
   },
   {
    "duration": 35,
    "start_time": "2022-07-18T12:19:50.139Z"
   },
   {
    "duration": 19,
    "start_time": "2022-07-18T12:19:50.176Z"
   },
   {
    "duration": 13,
    "start_time": "2022-07-18T12:19:50.196Z"
   },
   {
    "duration": 29,
    "start_time": "2022-07-18T12:19:50.211Z"
   },
   {
    "duration": 31,
    "start_time": "2022-07-18T12:19:50.241Z"
   },
   {
    "duration": 12,
    "start_time": "2022-07-18T12:19:50.273Z"
   },
   {
    "duration": 25,
    "start_time": "2022-07-18T12:19:50.286Z"
   },
   {
    "duration": 9,
    "start_time": "2022-07-18T12:19:50.312Z"
   },
   {
    "duration": 54,
    "start_time": "2022-07-18T12:19:50.322Z"
   },
   {
    "duration": 12,
    "start_time": "2022-07-18T12:19:50.378Z"
   },
   {
    "duration": 3,
    "start_time": "2022-07-18T12:20:30.402Z"
   },
   {
    "duration": 109,
    "start_time": "2022-07-18T12:20:30.407Z"
   },
   {
    "duration": 54,
    "start_time": "2022-07-18T12:20:30.518Z"
   },
   {
    "duration": 11,
    "start_time": "2022-07-18T12:20:30.574Z"
   },
   {
    "duration": 28,
    "start_time": "2022-07-18T12:20:30.587Z"
   },
   {
    "duration": 15,
    "start_time": "2022-07-18T12:20:30.616Z"
   },
   {
    "duration": 44,
    "start_time": "2022-07-18T12:20:30.633Z"
   },
   {
    "duration": 34,
    "start_time": "2022-07-18T12:20:30.679Z"
   },
   {
    "duration": 19,
    "start_time": "2022-07-18T12:20:30.714Z"
   },
   {
    "duration": 18,
    "start_time": "2022-07-18T12:20:30.735Z"
   },
   {
    "duration": 27,
    "start_time": "2022-07-18T12:20:30.770Z"
   },
   {
    "duration": 12,
    "start_time": "2022-07-18T12:20:30.798Z"
   },
   {
    "duration": 10,
    "start_time": "2022-07-18T12:20:30.812Z"
   },
   {
    "duration": 50,
    "start_time": "2022-07-18T12:20:30.824Z"
   },
   {
    "duration": 10,
    "start_time": "2022-07-18T12:20:30.876Z"
   },
   {
    "duration": 1,
    "start_time": "2022-07-18T12:20:30.888Z"
   },
   {
    "duration": 0,
    "start_time": "2022-07-18T12:20:30.890Z"
   },
   {
    "duration": 8,
    "start_time": "2022-07-18T12:20:49.672Z"
   },
   {
    "duration": 3,
    "start_time": "2022-07-18T12:20:54.573Z"
   },
   {
    "duration": 121,
    "start_time": "2022-07-18T12:20:54.578Z"
   },
   {
    "duration": 45,
    "start_time": "2022-07-18T12:20:54.701Z"
   },
   {
    "duration": 9,
    "start_time": "2022-07-18T12:20:54.748Z"
   },
   {
    "duration": 30,
    "start_time": "2022-07-18T12:20:54.759Z"
   },
   {
    "duration": 8,
    "start_time": "2022-07-18T12:20:54.791Z"
   },
   {
    "duration": 18,
    "start_time": "2022-07-18T12:20:54.800Z"
   },
   {
    "duration": 17,
    "start_time": "2022-07-18T12:20:54.819Z"
   },
   {
    "duration": 18,
    "start_time": "2022-07-18T12:20:54.837Z"
   },
   {
    "duration": 17,
    "start_time": "2022-07-18T12:20:54.857Z"
   },
   {
    "duration": 26,
    "start_time": "2022-07-18T12:20:54.876Z"
   },
   {
    "duration": 12,
    "start_time": "2022-07-18T12:20:54.904Z"
   },
   {
    "duration": 12,
    "start_time": "2022-07-18T12:20:54.918Z"
   },
   {
    "duration": 39,
    "start_time": "2022-07-18T12:20:54.931Z"
   },
   {
    "duration": 8,
    "start_time": "2022-07-18T12:20:54.972Z"
   },
   {
    "duration": 23,
    "start_time": "2022-07-18T12:20:54.981Z"
   },
   {
    "duration": 15,
    "start_time": "2022-07-18T12:20:55.005Z"
   },
   {
    "duration": 2,
    "start_time": "2022-07-18T12:23:46.013Z"
   },
   {
    "duration": 103,
    "start_time": "2022-07-18T12:23:46.018Z"
   },
   {
    "duration": 48,
    "start_time": "2022-07-18T12:23:46.122Z"
   },
   {
    "duration": 9,
    "start_time": "2022-07-18T12:23:46.172Z"
   },
   {
    "duration": 18,
    "start_time": "2022-07-18T12:23:46.183Z"
   },
   {
    "duration": 17,
    "start_time": "2022-07-18T12:23:46.203Z"
   },
   {
    "duration": 22,
    "start_time": "2022-07-18T12:23:46.222Z"
   },
   {
    "duration": 31,
    "start_time": "2022-07-18T12:23:46.247Z"
   },
   {
    "duration": 39,
    "start_time": "2022-07-18T12:23:46.280Z"
   },
   {
    "duration": 17,
    "start_time": "2022-07-18T12:23:46.321Z"
   },
   {
    "duration": 39,
    "start_time": "2022-07-18T12:23:46.340Z"
   },
   {
    "duration": 15,
    "start_time": "2022-07-18T12:23:46.381Z"
   },
   {
    "duration": 30,
    "start_time": "2022-07-18T12:23:46.398Z"
   },
   {
    "duration": 41,
    "start_time": "2022-07-18T12:23:46.430Z"
   },
   {
    "duration": 13,
    "start_time": "2022-07-18T12:23:46.475Z"
   },
   {
    "duration": 35,
    "start_time": "2022-07-18T12:23:46.489Z"
   },
   {
    "duration": 17,
    "start_time": "2022-07-18T12:23:46.525Z"
   },
   {
    "duration": 3,
    "start_time": "2022-07-18T12:24:41.552Z"
   },
   {
    "duration": 134,
    "start_time": "2022-07-18T12:24:41.556Z"
   },
   {
    "duration": 42,
    "start_time": "2022-07-18T12:24:41.692Z"
   },
   {
    "duration": 10,
    "start_time": "2022-07-18T12:24:41.736Z"
   },
   {
    "duration": 22,
    "start_time": "2022-07-18T12:24:41.748Z"
   },
   {
    "duration": 25,
    "start_time": "2022-07-18T12:24:41.771Z"
   },
   {
    "duration": 16,
    "start_time": "2022-07-18T12:24:41.797Z"
   },
   {
    "duration": 18,
    "start_time": "2022-07-18T12:24:41.814Z"
   },
   {
    "duration": 18,
    "start_time": "2022-07-18T12:24:41.834Z"
   },
   {
    "duration": 11,
    "start_time": "2022-07-18T12:24:41.854Z"
   },
   {
    "duration": 35,
    "start_time": "2022-07-18T12:24:41.868Z"
   },
   {
    "duration": 12,
    "start_time": "2022-07-18T12:24:41.905Z"
   },
   {
    "duration": 12,
    "start_time": "2022-07-18T12:24:41.919Z"
   },
   {
    "duration": 49,
    "start_time": "2022-07-18T12:24:41.933Z"
   },
   {
    "duration": 7,
    "start_time": "2022-07-18T12:24:41.984Z"
   },
   {
    "duration": 21,
    "start_time": "2022-07-18T12:24:41.992Z"
   },
   {
    "duration": 16,
    "start_time": "2022-07-18T12:24:42.016Z"
   },
   {
    "duration": 15,
    "start_time": "2022-07-18T12:25:13.341Z"
   },
   {
    "duration": 18,
    "start_time": "2022-07-18T12:26:12.754Z"
   },
   {
    "duration": 10,
    "start_time": "2022-07-18T12:28:43.425Z"
   },
   {
    "duration": 9,
    "start_time": "2022-07-18T12:29:44.809Z"
   },
   {
    "duration": 20,
    "start_time": "2022-07-18T12:29:48.078Z"
   },
   {
    "duration": 16,
    "start_time": "2022-07-18T12:30:39.269Z"
   },
   {
    "duration": 13,
    "start_time": "2022-07-18T12:32:02.597Z"
   },
   {
    "duration": 12,
    "start_time": "2022-07-18T12:32:17.347Z"
   },
   {
    "duration": 24,
    "start_time": "2022-07-18T12:33:01.449Z"
   },
   {
    "duration": 7,
    "start_time": "2022-07-18T12:36:01.339Z"
   },
   {
    "duration": 6,
    "start_time": "2022-07-18T12:36:51.555Z"
   },
   {
    "duration": 7,
    "start_time": "2022-07-18T12:36:57.037Z"
   },
   {
    "duration": 25,
    "start_time": "2022-07-18T12:37:10.441Z"
   },
   {
    "duration": 2,
    "start_time": "2022-07-18T12:37:40.736Z"
   },
   {
    "duration": 113,
    "start_time": "2022-07-18T12:37:40.740Z"
   },
   {
    "duration": 48,
    "start_time": "2022-07-18T12:37:40.854Z"
   },
   {
    "duration": 11,
    "start_time": "2022-07-18T12:37:40.903Z"
   },
   {
    "duration": 18,
    "start_time": "2022-07-18T12:37:40.915Z"
   },
   {
    "duration": 9,
    "start_time": "2022-07-18T12:37:40.934Z"
   },
   {
    "duration": 25,
    "start_time": "2022-07-18T12:37:40.945Z"
   },
   {
    "duration": 17,
    "start_time": "2022-07-18T12:37:40.977Z"
   },
   {
    "duration": 19,
    "start_time": "2022-07-18T12:37:40.997Z"
   },
   {
    "duration": 16,
    "start_time": "2022-07-18T12:37:41.018Z"
   },
   {
    "duration": 38,
    "start_time": "2022-07-18T12:37:41.036Z"
   },
   {
    "duration": 14,
    "start_time": "2022-07-18T12:37:41.078Z"
   },
   {
    "duration": 11,
    "start_time": "2022-07-18T12:37:41.094Z"
   },
   {
    "duration": 26,
    "start_time": "2022-07-18T12:37:41.107Z"
   },
   {
    "duration": 12,
    "start_time": "2022-07-18T12:37:41.163Z"
   },
   {
    "duration": 19,
    "start_time": "2022-07-18T12:37:41.179Z"
   },
   {
    "duration": 37,
    "start_time": "2022-07-18T12:37:41.200Z"
   },
   {
    "duration": 18,
    "start_time": "2022-07-18T12:37:41.239Z"
   },
   {
    "duration": 17,
    "start_time": "2022-07-18T12:37:41.258Z"
   },
   {
    "duration": 12,
    "start_time": "2022-07-18T12:37:41.277Z"
   },
   {
    "duration": 17,
    "start_time": "2022-07-18T12:37:41.291Z"
   },
   {
    "duration": 14,
    "start_time": "2022-07-18T12:38:35.819Z"
   },
   {
    "duration": 23,
    "start_time": "2022-07-18T12:39:29.873Z"
   },
   {
    "duration": 6,
    "start_time": "2022-07-18T12:42:18.701Z"
   },
   {
    "duration": 115,
    "start_time": "2022-07-18T12:42:18.709Z"
   },
   {
    "duration": 46,
    "start_time": "2022-07-18T12:42:18.826Z"
   },
   {
    "duration": 12,
    "start_time": "2022-07-18T12:42:18.881Z"
   },
   {
    "duration": 16,
    "start_time": "2022-07-18T12:42:18.894Z"
   },
   {
    "duration": 8,
    "start_time": "2022-07-18T12:42:18.912Z"
   },
   {
    "duration": 17,
    "start_time": "2022-07-18T12:42:18.922Z"
   },
   {
    "duration": 33,
    "start_time": "2022-07-18T12:42:18.941Z"
   },
   {
    "duration": 28,
    "start_time": "2022-07-18T12:42:18.977Z"
   },
   {
    "duration": 10,
    "start_time": "2022-07-18T12:42:19.009Z"
   },
   {
    "duration": 25,
    "start_time": "2022-07-18T12:42:19.020Z"
   },
   {
    "duration": 24,
    "start_time": "2022-07-18T12:42:19.048Z"
   },
   {
    "duration": 33,
    "start_time": "2022-07-18T12:42:19.074Z"
   },
   {
    "duration": 29,
    "start_time": "2022-07-18T12:42:19.109Z"
   },
   {
    "duration": 8,
    "start_time": "2022-07-18T12:42:19.139Z"
   },
   {
    "duration": 23,
    "start_time": "2022-07-18T12:42:19.148Z"
   },
   {
    "duration": 33,
    "start_time": "2022-07-18T12:42:19.178Z"
   },
   {
    "duration": 25,
    "start_time": "2022-07-18T12:42:19.213Z"
   },
   {
    "duration": 7,
    "start_time": "2022-07-18T12:42:19.240Z"
   },
   {
    "duration": 21,
    "start_time": "2022-07-18T12:42:19.249Z"
   },
   {
    "duration": 0,
    "start_time": "2022-07-18T12:42:19.275Z"
   },
   {
    "duration": 0,
    "start_time": "2022-07-18T12:42:19.276Z"
   },
   {
    "duration": 2,
    "start_time": "2022-07-18T12:44:42.169Z"
   },
   {
    "duration": 103,
    "start_time": "2022-07-18T12:44:42.173Z"
   },
   {
    "duration": 45,
    "start_time": "2022-07-18T12:44:42.278Z"
   },
   {
    "duration": 10,
    "start_time": "2022-07-18T12:44:42.325Z"
   },
   {
    "duration": 19,
    "start_time": "2022-07-18T12:44:42.336Z"
   },
   {
    "duration": 8,
    "start_time": "2022-07-18T12:44:42.357Z"
   },
   {
    "duration": 25,
    "start_time": "2022-07-18T12:44:42.367Z"
   },
   {
    "duration": 25,
    "start_time": "2022-07-18T12:44:42.393Z"
   },
   {
    "duration": 17,
    "start_time": "2022-07-18T12:44:42.421Z"
   },
   {
    "duration": 20,
    "start_time": "2022-07-18T12:44:42.440Z"
   },
   {
    "duration": 26,
    "start_time": "2022-07-18T12:44:42.462Z"
   },
   {
    "duration": 14,
    "start_time": "2022-07-18T12:44:42.489Z"
   },
   {
    "duration": 15,
    "start_time": "2022-07-18T12:44:42.505Z"
   },
   {
    "duration": 50,
    "start_time": "2022-07-18T12:44:42.523Z"
   },
   {
    "duration": 9,
    "start_time": "2022-07-18T12:44:42.575Z"
   },
   {
    "duration": 29,
    "start_time": "2022-07-18T12:44:42.586Z"
   },
   {
    "duration": 26,
    "start_time": "2022-07-18T12:44:42.617Z"
   },
   {
    "duration": 24,
    "start_time": "2022-07-18T12:44:42.645Z"
   },
   {
    "duration": 6,
    "start_time": "2022-07-18T12:44:42.670Z"
   },
   {
    "duration": 31,
    "start_time": "2022-07-18T12:44:42.678Z"
   },
   {
    "duration": 0,
    "start_time": "2022-07-18T12:44:42.711Z"
   },
   {
    "duration": 0,
    "start_time": "2022-07-18T12:44:42.713Z"
   },
   {
    "duration": 3,
    "start_time": "2022-07-18T12:54:29.683Z"
   },
   {
    "duration": 114,
    "start_time": "2022-07-18T12:54:29.688Z"
   },
   {
    "duration": 43,
    "start_time": "2022-07-18T12:54:29.804Z"
   },
   {
    "duration": 9,
    "start_time": "2022-07-18T12:54:29.849Z"
   },
   {
    "duration": 48,
    "start_time": "2022-07-18T12:54:29.860Z"
   },
   {
    "duration": 12,
    "start_time": "2022-07-18T12:54:29.910Z"
   },
   {
    "duration": 19,
    "start_time": "2022-07-18T12:54:29.924Z"
   },
   {
    "duration": 38,
    "start_time": "2022-07-18T12:54:29.944Z"
   },
   {
    "duration": 43,
    "start_time": "2022-07-18T12:54:29.984Z"
   },
   {
    "duration": 13,
    "start_time": "2022-07-18T12:54:30.028Z"
   },
   {
    "duration": 38,
    "start_time": "2022-07-18T12:54:30.044Z"
   },
   {
    "duration": 27,
    "start_time": "2022-07-18T12:54:30.083Z"
   },
   {
    "duration": 10,
    "start_time": "2022-07-18T12:54:30.111Z"
   },
   {
    "duration": 32,
    "start_time": "2022-07-18T12:54:30.123Z"
   },
   {
    "duration": 18,
    "start_time": "2022-07-18T12:54:30.157Z"
   },
   {
    "duration": 37,
    "start_time": "2022-07-18T12:54:30.183Z"
   },
   {
    "duration": 46,
    "start_time": "2022-07-18T12:54:30.222Z"
   },
   {
    "duration": 52,
    "start_time": "2022-07-18T12:54:30.272Z"
   },
   {
    "duration": 20,
    "start_time": "2022-07-18T12:54:30.325Z"
   },
   {
    "duration": 50,
    "start_time": "2022-07-18T12:54:30.347Z"
   },
   {
    "duration": 30,
    "start_time": "2022-07-18T12:54:30.398Z"
   },
   {
    "duration": 19,
    "start_time": "2022-07-18T12:54:30.430Z"
   },
   {
    "duration": 66,
    "start_time": "2022-07-18T12:54:30.451Z"
   },
   {
    "duration": 12,
    "start_time": "2022-07-18T12:54:56.004Z"
   },
   {
    "duration": 2,
    "start_time": "2022-07-18T13:33:54.373Z"
   },
   {
    "duration": 113,
    "start_time": "2022-07-18T13:33:54.382Z"
   },
   {
    "duration": 42,
    "start_time": "2022-07-18T13:33:54.497Z"
   },
   {
    "duration": 10,
    "start_time": "2022-07-18T13:33:54.540Z"
   },
   {
    "duration": 19,
    "start_time": "2022-07-18T13:33:54.552Z"
   },
   {
    "duration": 18,
    "start_time": "2022-07-18T13:34:23.410Z"
   },
   {
    "duration": 3,
    "start_time": "2022-07-18T13:34:50.725Z"
   },
   {
    "duration": 83,
    "start_time": "2022-07-18T13:34:51.857Z"
   },
   {
    "duration": 46,
    "start_time": "2022-07-18T13:34:56.562Z"
   },
   {
    "duration": 11,
    "start_time": "2022-07-18T13:35:00.837Z"
   },
   {
    "duration": 16,
    "start_time": "2022-07-18T13:35:02.765Z"
   },
   {
    "duration": 3,
    "start_time": "2022-07-18T13:39:56.290Z"
   },
   {
    "duration": 84,
    "start_time": "2022-07-18T13:39:57.136Z"
   },
   {
    "duration": 35,
    "start_time": "2022-07-18T13:39:57.756Z"
   },
   {
    "duration": 10,
    "start_time": "2022-07-18T13:39:58.896Z"
   },
   {
    "duration": 15,
    "start_time": "2022-07-18T13:40:00.450Z"
   },
   {
    "duration": 17,
    "start_time": "2022-07-18T13:40:15.864Z"
   },
   {
    "duration": 3,
    "start_time": "2022-07-18T13:45:55.520Z"
   },
   {
    "duration": 91,
    "start_time": "2022-07-18T13:45:55.526Z"
   },
   {
    "duration": 35,
    "start_time": "2022-07-18T13:45:55.619Z"
   },
   {
    "duration": 10,
    "start_time": "2022-07-18T13:45:55.656Z"
   },
   {
    "duration": 17,
    "start_time": "2022-07-18T13:45:55.667Z"
   },
   {
    "duration": 5,
    "start_time": "2022-07-18T13:45:55.686Z"
   },
   {
    "duration": 7,
    "start_time": "2022-07-18T13:46:01.152Z"
   },
   {
    "duration": 15,
    "start_time": "2022-07-18T13:46:16.654Z"
   },
   {
    "duration": 3,
    "start_time": "2022-07-18T13:47:45.769Z"
   },
   {
    "duration": 85,
    "start_time": "2022-07-18T13:47:45.776Z"
   },
   {
    "duration": 35,
    "start_time": "2022-07-18T13:47:45.863Z"
   },
   {
    "duration": 9,
    "start_time": "2022-07-18T13:47:45.900Z"
   },
   {
    "duration": 15,
    "start_time": "2022-07-18T13:47:45.911Z"
   },
   {
    "duration": 5,
    "start_time": "2022-07-18T13:47:45.928Z"
   },
   {
    "duration": 5,
    "start_time": "2022-07-18T13:47:45.935Z"
   },
   {
    "duration": 26,
    "start_time": "2022-07-18T13:47:45.942Z"
   },
   {
    "duration": 12,
    "start_time": "2022-07-18T13:47:45.969Z"
   },
   {
    "duration": 15,
    "start_time": "2022-07-18T13:47:45.983Z"
   },
   {
    "duration": 17,
    "start_time": "2022-07-18T13:47:46.001Z"
   },
   {
    "duration": 10,
    "start_time": "2022-07-18T13:47:46.019Z"
   },
   {
    "duration": 47,
    "start_time": "2022-07-18T13:47:46.031Z"
   },
   {
    "duration": 7,
    "start_time": "2022-07-18T13:47:46.080Z"
   },
   {
    "duration": 18,
    "start_time": "2022-07-18T13:47:46.088Z"
   },
   {
    "duration": 15,
    "start_time": "2022-07-18T13:47:46.107Z"
   },
   {
    "duration": 38,
    "start_time": "2022-07-18T13:47:46.123Z"
   },
   {
    "duration": 5,
    "start_time": "2022-07-18T13:47:46.163Z"
   },
   {
    "duration": 24,
    "start_time": "2022-07-18T13:47:46.170Z"
   },
   {
    "duration": 30,
    "start_time": "2022-07-18T13:47:46.196Z"
   },
   {
    "duration": 12,
    "start_time": "2022-07-18T13:47:46.228Z"
   },
   {
    "duration": 30,
    "start_time": "2022-07-18T13:47:46.242Z"
   },
   {
    "duration": 2,
    "start_time": "2022-07-18T13:47:46.274Z"
   },
   {
    "duration": 29,
    "start_time": "2022-07-18T13:48:02.942Z"
   },
   {
    "duration": 3,
    "start_time": "2022-07-18T13:48:09.719Z"
   },
   {
    "duration": 102,
    "start_time": "2022-07-18T13:48:09.724Z"
   },
   {
    "duration": 35,
    "start_time": "2022-07-18T13:48:09.828Z"
   },
   {
    "duration": 9,
    "start_time": "2022-07-18T13:48:09.864Z"
   },
   {
    "duration": 41,
    "start_time": "2022-07-18T13:48:09.875Z"
   },
   {
    "duration": 23,
    "start_time": "2022-07-18T13:48:09.918Z"
   },
   {
    "duration": 21,
    "start_time": "2022-07-18T13:48:09.943Z"
   },
   {
    "duration": 28,
    "start_time": "2022-07-18T13:48:19.468Z"
   },
   {
    "duration": 13,
    "start_time": "2022-07-18T13:50:26.379Z"
   },
   {
    "duration": 23,
    "start_time": "2022-07-18T13:51:22.035Z"
   },
   {
    "duration": 2,
    "start_time": "2022-07-18T13:53:39.026Z"
   },
   {
    "duration": 86,
    "start_time": "2022-07-18T13:53:39.030Z"
   },
   {
    "duration": 35,
    "start_time": "2022-07-18T13:53:39.118Z"
   },
   {
    "duration": 9,
    "start_time": "2022-07-18T13:53:39.155Z"
   },
   {
    "duration": 15,
    "start_time": "2022-07-18T13:53:39.166Z"
   },
   {
    "duration": 6,
    "start_time": "2022-07-18T13:53:39.182Z"
   },
   {
    "duration": 5,
    "start_time": "2022-07-18T13:53:39.190Z"
   },
   {
    "duration": 33,
    "start_time": "2022-07-18T13:53:39.197Z"
   },
   {
    "duration": 11,
    "start_time": "2022-07-18T13:53:47.827Z"
   },
   {
    "duration": 2,
    "start_time": "2022-07-18T13:53:57.205Z"
   },
   {
    "duration": 17,
    "start_time": "2022-07-18T13:55:17.229Z"
   },
   {
    "duration": 7,
    "start_time": "2022-07-18T13:55:47.703Z"
   },
   {
    "duration": 21,
    "start_time": "2022-07-18T13:55:54.895Z"
   },
   {
    "duration": 3,
    "start_time": "2022-07-18T13:56:31.313Z"
   },
   {
    "duration": 94,
    "start_time": "2022-07-18T13:56:31.317Z"
   },
   {
    "duration": 34,
    "start_time": "2022-07-18T13:56:31.413Z"
   },
   {
    "duration": 10,
    "start_time": "2022-07-18T13:56:31.449Z"
   },
   {
    "duration": 37,
    "start_time": "2022-07-18T13:56:31.460Z"
   },
   {
    "duration": 13,
    "start_time": "2022-07-18T13:56:31.499Z"
   },
   {
    "duration": 23,
    "start_time": "2022-07-18T13:56:31.513Z"
   },
   {
    "duration": 28,
    "start_time": "2022-07-18T13:56:31.537Z"
   },
   {
    "duration": 9,
    "start_time": "2022-07-18T13:56:31.567Z"
   },
   {
    "duration": 10,
    "start_time": "2022-07-18T13:56:31.577Z"
   },
   {
    "duration": 17,
    "start_time": "2022-07-18T13:56:36.621Z"
   },
   {
    "duration": 24,
    "start_time": "2022-07-18T13:58:31.792Z"
   },
   {
    "duration": 16,
    "start_time": "2022-07-18T13:58:47.016Z"
   },
   {
    "duration": 5,
    "start_time": "2022-07-18T14:01:14.799Z"
   },
   {
    "duration": 5,
    "start_time": "2022-07-18T14:01:18.263Z"
   },
   {
    "duration": 9,
    "start_time": "2022-07-18T14:01:19.587Z"
   },
   {
    "duration": 3,
    "start_time": "2022-07-18T14:01:24.281Z"
   },
   {
    "duration": 5,
    "start_time": "2022-07-18T14:01:31.192Z"
   },
   {
    "duration": 20,
    "start_time": "2022-07-18T14:01:37.545Z"
   },
   {
    "duration": 9,
    "start_time": "2022-07-18T14:02:29.678Z"
   },
   {
    "duration": 13,
    "start_time": "2022-07-18T14:04:16.014Z"
   },
   {
    "duration": 29,
    "start_time": "2022-07-18T14:06:03.538Z"
   },
   {
    "duration": 22,
    "start_time": "2022-07-18T14:07:51.600Z"
   },
   {
    "duration": 22,
    "start_time": "2022-07-18T14:08:52.459Z"
   },
   {
    "duration": 6,
    "start_time": "2022-07-18T14:10:25.380Z"
   },
   {
    "duration": 14,
    "start_time": "2022-07-18T14:12:46.368Z"
   },
   {
    "duration": 7,
    "start_time": "2022-07-18T14:15:03.005Z"
   },
   {
    "duration": 2,
    "start_time": "2022-07-18T14:15:45.210Z"
   },
   {
    "duration": 100,
    "start_time": "2022-07-18T14:15:45.214Z"
   },
   {
    "duration": 35,
    "start_time": "2022-07-18T14:15:45.317Z"
   },
   {
    "duration": 11,
    "start_time": "2022-07-18T14:15:45.354Z"
   },
   {
    "duration": 26,
    "start_time": "2022-07-18T14:15:45.367Z"
   },
   {
    "duration": 6,
    "start_time": "2022-07-18T14:15:45.395Z"
   },
   {
    "duration": 6,
    "start_time": "2022-07-18T14:15:45.402Z"
   },
   {
    "duration": 28,
    "start_time": "2022-07-18T14:15:45.410Z"
   },
   {
    "duration": 22,
    "start_time": "2022-07-18T14:15:45.440Z"
   },
   {
    "duration": 25,
    "start_time": "2022-07-18T14:15:45.464Z"
   },
   {
    "duration": 19,
    "start_time": "2022-07-18T14:15:45.492Z"
   },
   {
    "duration": 5,
    "start_time": "2022-07-18T14:15:45.512Z"
   },
   {
    "duration": 9,
    "start_time": "2022-07-18T14:15:45.518Z"
   },
   {
    "duration": 10,
    "start_time": "2022-07-18T14:15:45.528Z"
   },
   {
    "duration": 21,
    "start_time": "2022-07-18T14:15:45.540Z"
   },
   {
    "duration": 14,
    "start_time": "2022-07-18T14:15:45.563Z"
   },
   {
    "duration": 8,
    "start_time": "2022-07-18T14:15:45.579Z"
   },
   {
    "duration": 7,
    "start_time": "2022-07-18T14:15:48.146Z"
   },
   {
    "duration": 10,
    "start_time": "2022-07-18T14:15:56.640Z"
   },
   {
    "duration": 4,
    "start_time": "2022-07-18T14:17:51.624Z"
   },
   {
    "duration": 5,
    "start_time": "2022-07-18T14:22:51.421Z"
   },
   {
    "duration": 1051,
    "start_time": "2022-07-18T14:25:46.752Z"
   },
   {
    "duration": 8,
    "start_time": "2022-07-18T14:25:56.840Z"
   },
   {
    "duration": 4,
    "start_time": "2022-07-18T14:27:14.437Z"
   },
   {
    "duration": 5,
    "start_time": "2022-07-18T14:28:22.715Z"
   },
   {
    "duration": 8,
    "start_time": "2022-07-18T14:29:23.966Z"
   },
   {
    "duration": 10,
    "start_time": "2022-07-18T14:43:06.112Z"
   },
   {
    "duration": 10,
    "start_time": "2022-07-18T14:43:44.285Z"
   },
   {
    "duration": 9,
    "start_time": "2022-07-18T14:44:29.893Z"
   },
   {
    "duration": 5,
    "start_time": "2022-07-18T14:45:02.442Z"
   },
   {
    "duration": 8,
    "start_time": "2022-07-18T14:45:17.050Z"
   },
   {
    "duration": 6,
    "start_time": "2022-07-18T14:45:35.613Z"
   },
   {
    "duration": 5,
    "start_time": "2022-07-18T14:46:02.112Z"
   },
   {
    "duration": 7,
    "start_time": "2022-07-18T14:46:22.097Z"
   },
   {
    "duration": 4,
    "start_time": "2022-07-18T14:47:26.655Z"
   },
   {
    "duration": 8,
    "start_time": "2022-07-18T14:48:07.882Z"
   },
   {
    "duration": 9,
    "start_time": "2022-07-18T14:49:04.388Z"
   },
   {
    "duration": 23,
    "start_time": "2022-07-18T14:49:22.817Z"
   },
   {
    "duration": 31,
    "start_time": "2022-07-18T14:54:32.871Z"
   },
   {
    "duration": 24,
    "start_time": "2022-07-18T15:04:11.982Z"
   },
   {
    "duration": 7,
    "start_time": "2022-07-18T15:04:43.257Z"
   },
   {
    "duration": 29,
    "start_time": "2022-07-18T15:06:40.651Z"
   },
   {
    "duration": 36,
    "start_time": "2022-07-18T15:07:02.884Z"
   },
   {
    "duration": 23,
    "start_time": "2022-07-18T15:13:15.941Z"
   },
   {
    "duration": 417,
    "start_time": "2022-07-18T18:54:08.824Z"
   },
   {
    "duration": 495,
    "start_time": "2022-07-18T18:54:09.243Z"
   },
   {
    "duration": 77,
    "start_time": "2022-07-18T18:54:09.740Z"
   },
   {
    "duration": 13,
    "start_time": "2022-07-18T18:54:09.819Z"
   },
   {
    "duration": 33,
    "start_time": "2022-07-18T18:54:09.834Z"
   },
   {
    "duration": 22,
    "start_time": "2022-07-18T18:54:09.868Z"
   },
   {
    "duration": 20,
    "start_time": "2022-07-18T18:54:09.892Z"
   },
   {
    "duration": 38,
    "start_time": "2022-07-18T18:54:09.914Z"
   },
   {
    "duration": 9,
    "start_time": "2022-07-18T18:54:09.954Z"
   },
   {
    "duration": 26,
    "start_time": "2022-07-18T18:54:09.966Z"
   },
   {
    "duration": 21,
    "start_time": "2022-07-18T18:54:09.994Z"
   },
   {
    "duration": 12,
    "start_time": "2022-07-18T18:54:10.017Z"
   },
   {
    "duration": 30,
    "start_time": "2022-07-18T18:54:10.031Z"
   },
   {
    "duration": 22,
    "start_time": "2022-07-18T18:54:10.064Z"
   },
   {
    "duration": 15,
    "start_time": "2022-07-18T18:54:10.088Z"
   },
   {
    "duration": 24,
    "start_time": "2022-07-18T18:54:10.105Z"
   },
   {
    "duration": 65,
    "start_time": "2022-07-18T18:54:10.132Z"
   },
   {
    "duration": 37,
    "start_time": "2022-07-18T18:54:10.200Z"
   },
   {
    "duration": 30,
    "start_time": "2022-07-18T18:54:10.240Z"
   },
   {
    "duration": 34,
    "start_time": "2022-07-18T18:54:10.272Z"
   },
   {
    "duration": 54,
    "start_time": "2022-07-18T18:54:10.308Z"
   },
   {
    "duration": 65,
    "start_time": "2022-07-18T18:54:10.364Z"
   },
   {
    "duration": 446,
    "start_time": "2022-07-18T18:54:10.431Z"
   },
   {
    "duration": 0,
    "start_time": "2022-07-18T18:54:10.878Z"
   },
   {
    "duration": 9,
    "start_time": "2022-07-18T18:58:53.125Z"
   },
   {
    "duration": 75,
    "start_time": "2022-07-18T19:03:48.805Z"
   },
   {
    "duration": 5,
    "start_time": "2022-07-18T19:04:07.981Z"
   },
   {
    "duration": 411,
    "start_time": "2022-07-18T19:05:04.932Z"
   },
   {
    "duration": 17,
    "start_time": "2022-07-18T19:06:31.629Z"
   },
   {
    "duration": 2,
    "start_time": "2022-07-18T19:06:58.989Z"
   },
   {
    "duration": 92,
    "start_time": "2022-07-18T19:06:58.994Z"
   },
   {
    "duration": 37,
    "start_time": "2022-07-18T19:06:59.087Z"
   },
   {
    "duration": 12,
    "start_time": "2022-07-18T19:06:59.126Z"
   },
   {
    "duration": 18,
    "start_time": "2022-07-18T19:06:59.140Z"
   },
   {
    "duration": 6,
    "start_time": "2022-07-18T19:06:59.160Z"
   },
   {
    "duration": 9,
    "start_time": "2022-07-18T19:06:59.167Z"
   },
   {
    "duration": 28,
    "start_time": "2022-07-18T19:06:59.177Z"
   },
   {
    "duration": 7,
    "start_time": "2022-07-18T19:06:59.207Z"
   },
   {
    "duration": 30,
    "start_time": "2022-07-18T19:06:59.216Z"
   },
   {
    "duration": 21,
    "start_time": "2022-07-18T19:06:59.247Z"
   },
   {
    "duration": 6,
    "start_time": "2022-07-18T19:06:59.270Z"
   },
   {
    "duration": 8,
    "start_time": "2022-07-18T19:06:59.279Z"
   },
   {
    "duration": 11,
    "start_time": "2022-07-18T19:06:59.303Z"
   },
   {
    "duration": 7,
    "start_time": "2022-07-18T19:06:59.317Z"
   },
   {
    "duration": 17,
    "start_time": "2022-07-18T19:06:59.325Z"
   },
   {
    "duration": 10,
    "start_time": "2022-07-18T19:06:59.344Z"
   },
   {
    "duration": 11,
    "start_time": "2022-07-18T19:06:59.355Z"
   },
   {
    "duration": 39,
    "start_time": "2022-07-18T19:06:59.368Z"
   },
   {
    "duration": 8,
    "start_time": "2022-07-18T19:06:59.408Z"
   },
   {
    "duration": 26,
    "start_time": "2022-07-18T19:06:59.417Z"
   },
   {
    "duration": 25,
    "start_time": "2022-07-18T19:06:59.445Z"
   },
   {
    "duration": 42,
    "start_time": "2022-07-18T19:06:59.472Z"
   },
   {
    "duration": 310,
    "start_time": "2022-07-18T19:06:59.516Z"
   },
   {
    "duration": 0,
    "start_time": "2022-07-18T19:06:59.827Z"
   },
   {
    "duration": 7,
    "start_time": "2022-07-18T19:08:05.432Z"
   },
   {
    "duration": 34,
    "start_time": "2022-07-18T19:08:20.321Z"
   },
   {
    "duration": 2,
    "start_time": "2022-07-18T19:10:15.987Z"
   },
   {
    "duration": 91,
    "start_time": "2022-07-18T19:10:15.994Z"
   },
   {
    "duration": 38,
    "start_time": "2022-07-18T19:10:16.088Z"
   },
   {
    "duration": 12,
    "start_time": "2022-07-18T19:10:16.129Z"
   },
   {
    "duration": 34,
    "start_time": "2022-07-18T19:10:16.144Z"
   },
   {
    "duration": 8,
    "start_time": "2022-07-18T19:10:16.180Z"
   },
   {
    "duration": 15,
    "start_time": "2022-07-18T19:10:16.189Z"
   },
   {
    "duration": 30,
    "start_time": "2022-07-18T19:10:16.205Z"
   },
   {
    "duration": 10,
    "start_time": "2022-07-18T19:10:16.237Z"
   },
   {
    "duration": 21,
    "start_time": "2022-07-18T19:10:16.248Z"
   },
   {
    "duration": 19,
    "start_time": "2022-07-18T19:10:16.271Z"
   },
   {
    "duration": 13,
    "start_time": "2022-07-18T19:10:16.292Z"
   },
   {
    "duration": 13,
    "start_time": "2022-07-18T19:10:16.307Z"
   },
   {
    "duration": 18,
    "start_time": "2022-07-18T19:10:16.322Z"
   },
   {
    "duration": 11,
    "start_time": "2022-07-18T19:10:16.342Z"
   },
   {
    "duration": 17,
    "start_time": "2022-07-18T19:10:16.355Z"
   },
   {
    "duration": 10,
    "start_time": "2022-07-18T19:10:16.373Z"
   },
   {
    "duration": 24,
    "start_time": "2022-07-18T19:10:16.384Z"
   },
   {
    "duration": 13,
    "start_time": "2022-07-18T19:10:16.410Z"
   },
   {
    "duration": 23,
    "start_time": "2022-07-18T19:10:16.425Z"
   },
   {
    "duration": 27,
    "start_time": "2022-07-18T19:10:16.450Z"
   },
   {
    "duration": 33,
    "start_time": "2022-07-18T19:10:16.479Z"
   },
   {
    "duration": 17,
    "start_time": "2022-07-18T19:10:16.513Z"
   },
   {
    "duration": 42,
    "start_time": "2022-07-18T19:10:16.532Z"
   },
   {
    "duration": 3,
    "start_time": "2022-07-18T19:10:16.603Z"
   },
   {
    "duration": 5,
    "start_time": "2022-07-18T19:18:41.162Z"
   },
   {
    "duration": 92,
    "start_time": "2022-07-18T19:26:31.895Z"
   },
   {
    "duration": 101,
    "start_time": "2022-07-18T19:27:44.290Z"
   },
   {
    "duration": 372,
    "start_time": "2022-07-18T19:28:52.665Z"
   },
   {
    "duration": 75,
    "start_time": "2022-07-18T19:38:47.091Z"
   },
   {
    "duration": 109,
    "start_time": "2022-07-18T19:38:54.095Z"
   },
   {
    "duration": 309,
    "start_time": "2022-07-18T19:40:25.625Z"
   },
   {
    "duration": 111,
    "start_time": "2022-07-18T19:41:24.477Z"
   },
   {
    "duration": 90,
    "start_time": "2022-07-18T19:50:12.094Z"
   },
   {
    "duration": 2,
    "start_time": "2022-07-18T19:50:32.568Z"
   },
   {
    "duration": 97,
    "start_time": "2022-07-18T19:50:32.574Z"
   },
   {
    "duration": 37,
    "start_time": "2022-07-18T19:50:32.673Z"
   },
   {
    "duration": 12,
    "start_time": "2022-07-18T19:50:32.712Z"
   },
   {
    "duration": 29,
    "start_time": "2022-07-18T19:50:32.726Z"
   },
   {
    "duration": 12,
    "start_time": "2022-07-18T19:50:32.757Z"
   },
   {
    "duration": 9,
    "start_time": "2022-07-18T19:50:32.771Z"
   },
   {
    "duration": 38,
    "start_time": "2022-07-18T19:50:32.782Z"
   },
   {
    "duration": 8,
    "start_time": "2022-07-18T19:50:32.822Z"
   },
   {
    "duration": 24,
    "start_time": "2022-07-18T19:50:32.832Z"
   },
   {
    "duration": 26,
    "start_time": "2022-07-18T19:50:32.858Z"
   },
   {
    "duration": 6,
    "start_time": "2022-07-18T19:50:32.885Z"
   },
   {
    "duration": 6,
    "start_time": "2022-07-18T19:50:32.905Z"
   },
   {
    "duration": 16,
    "start_time": "2022-07-18T19:50:32.912Z"
   },
   {
    "duration": 5,
    "start_time": "2022-07-18T19:50:32.930Z"
   },
   {
    "duration": 26,
    "start_time": "2022-07-18T19:50:32.937Z"
   },
   {
    "duration": 13,
    "start_time": "2022-07-18T19:50:32.965Z"
   },
   {
    "duration": 28,
    "start_time": "2022-07-18T19:50:32.980Z"
   },
   {
    "duration": 10,
    "start_time": "2022-07-18T19:50:33.010Z"
   },
   {
    "duration": 10,
    "start_time": "2022-07-18T19:50:33.022Z"
   },
   {
    "duration": 28,
    "start_time": "2022-07-18T19:50:33.034Z"
   },
   {
    "duration": 50,
    "start_time": "2022-07-18T19:50:33.064Z"
   },
   {
    "duration": 15,
    "start_time": "2022-07-18T19:50:33.116Z"
   },
   {
    "duration": 41,
    "start_time": "2022-07-18T19:50:33.133Z"
   },
   {
    "duration": 29,
    "start_time": "2022-07-18T19:50:33.176Z"
   },
   {
    "duration": 98,
    "start_time": "2022-07-18T19:50:33.207Z"
   },
   {
    "duration": 2,
    "start_time": "2022-07-18T19:50:33.307Z"
   },
   {
    "duration": 4,
    "start_time": "2022-07-18T19:50:53.048Z"
   },
   {
    "duration": 18,
    "start_time": "2022-07-18T19:51:26.473Z"
   },
   {
    "duration": 82,
    "start_time": "2022-07-18T19:52:48.555Z"
   },
   {
    "duration": 5,
    "start_time": "2022-07-18T19:53:21.914Z"
   },
   {
    "duration": 409,
    "start_time": "2022-07-19T06:38:41.426Z"
   },
   {
    "duration": 253,
    "start_time": "2022-07-19T06:38:41.837Z"
   },
   {
    "duration": 79,
    "start_time": "2022-07-19T06:38:42.092Z"
   },
   {
    "duration": 10,
    "start_time": "2022-07-19T06:38:42.173Z"
   },
   {
    "duration": 22,
    "start_time": "2022-07-19T06:38:42.186Z"
   },
   {
    "duration": 5,
    "start_time": "2022-07-19T06:38:42.209Z"
   },
   {
    "duration": 6,
    "start_time": "2022-07-19T06:38:42.215Z"
   },
   {
    "duration": 37,
    "start_time": "2022-07-19T06:38:42.222Z"
   },
   {
    "duration": 92,
    "start_time": "2022-07-19T06:38:42.260Z"
   },
   {
    "duration": 7,
    "start_time": "2022-07-19T06:38:42.353Z"
   },
   {
    "duration": 21,
    "start_time": "2022-07-19T06:38:42.362Z"
   },
   {
    "duration": 12,
    "start_time": "2022-07-19T06:38:42.384Z"
   },
   {
    "duration": 5,
    "start_time": "2022-07-19T06:38:42.398Z"
   },
   {
    "duration": 5,
    "start_time": "2022-07-19T06:38:42.405Z"
   },
   {
    "duration": 41,
    "start_time": "2022-07-19T06:38:42.411Z"
   },
   {
    "duration": 6,
    "start_time": "2022-07-19T06:38:42.454Z"
   },
   {
    "duration": 15,
    "start_time": "2022-07-19T06:38:42.461Z"
   },
   {
    "duration": 10,
    "start_time": "2022-07-19T06:38:42.477Z"
   },
   {
    "duration": 7,
    "start_time": "2022-07-19T06:38:42.488Z"
   },
   {
    "duration": 12,
    "start_time": "2022-07-19T06:38:42.497Z"
   },
   {
    "duration": 11,
    "start_time": "2022-07-19T06:38:42.511Z"
   },
   {
    "duration": 52,
    "start_time": "2022-07-19T06:38:42.524Z"
   },
   {
    "duration": 29,
    "start_time": "2022-07-19T06:38:42.578Z"
   },
   {
    "duration": 19,
    "start_time": "2022-07-19T06:38:42.609Z"
   },
   {
    "duration": 38,
    "start_time": "2022-07-19T06:38:42.652Z"
   },
   {
    "duration": 3,
    "start_time": "2022-07-19T06:38:42.691Z"
   },
   {
    "duration": 15,
    "start_time": "2022-07-19T06:40:51.846Z"
   },
   {
    "duration": 404,
    "start_time": "2022-07-19T10:03:34.093Z"
   },
   {
    "duration": 470,
    "start_time": "2022-07-19T10:03:34.499Z"
   },
   {
    "duration": 108,
    "start_time": "2022-07-19T10:03:34.971Z"
   },
   {
    "duration": 17,
    "start_time": "2022-07-19T10:03:35.081Z"
   },
   {
    "duration": 38,
    "start_time": "2022-07-19T10:03:35.100Z"
   },
   {
    "duration": 24,
    "start_time": "2022-07-19T10:03:35.140Z"
   },
   {
    "duration": 11,
    "start_time": "2022-07-19T10:03:35.167Z"
   },
   {
    "duration": 39,
    "start_time": "2022-07-19T10:03:35.180Z"
   },
   {
    "duration": 137,
    "start_time": "2022-07-19T10:03:35.221Z"
   },
   {
    "duration": 8,
    "start_time": "2022-07-19T10:03:35.363Z"
   },
   {
    "duration": 24,
    "start_time": "2022-07-19T10:03:35.373Z"
   },
   {
    "duration": 11,
    "start_time": "2022-07-19T10:03:35.400Z"
   },
   {
    "duration": 40,
    "start_time": "2022-07-19T10:03:35.413Z"
   },
   {
    "duration": 24,
    "start_time": "2022-07-19T10:03:35.455Z"
   },
   {
    "duration": 13,
    "start_time": "2022-07-19T10:03:35.481Z"
   },
   {
    "duration": 16,
    "start_time": "2022-07-19T10:03:35.495Z"
   },
   {
    "duration": 21,
    "start_time": "2022-07-19T10:03:35.513Z"
   },
   {
    "duration": 41,
    "start_time": "2022-07-19T10:03:35.536Z"
   },
   {
    "duration": 15,
    "start_time": "2022-07-19T10:03:35.579Z"
   },
   {
    "duration": 16,
    "start_time": "2022-07-19T10:03:35.596Z"
   },
   {
    "duration": 87,
    "start_time": "2022-07-19T10:03:35.614Z"
   },
   {
    "duration": 34,
    "start_time": "2022-07-19T10:03:35.702Z"
   },
   {
    "duration": 19,
    "start_time": "2022-07-19T10:03:35.737Z"
   },
   {
    "duration": 43,
    "start_time": "2022-07-19T10:03:35.758Z"
   },
   {
    "duration": 25,
    "start_time": "2022-07-19T10:03:35.803Z"
   },
   {
    "duration": 7,
    "start_time": "2022-07-19T10:06:05.299Z"
   },
   {
    "duration": 8,
    "start_time": "2022-07-19T10:07:54.014Z"
   },
   {
    "duration": 11,
    "start_time": "2022-07-19T10:08:09.183Z"
   },
   {
    "duration": 10,
    "start_time": "2022-07-19T10:08:15.006Z"
   },
   {
    "duration": 14,
    "start_time": "2022-07-19T10:08:46.859Z"
   },
   {
    "duration": 8,
    "start_time": "2022-07-19T10:09:27.073Z"
   },
   {
    "duration": 31,
    "start_time": "2022-07-19T10:13:00.559Z"
   },
   {
    "duration": 19,
    "start_time": "2022-07-19T10:15:22.553Z"
   },
   {
    "duration": 17,
    "start_time": "2022-07-19T10:17:07.749Z"
   },
   {
    "duration": 3,
    "start_time": "2022-07-19T10:18:54.640Z"
   },
   {
    "duration": 61,
    "start_time": "2022-07-19T10:20:16.664Z"
   },
   {
    "duration": 7,
    "start_time": "2022-07-19T10:20:22.007Z"
   },
   {
    "duration": 6,
    "start_time": "2022-07-19T10:21:10.659Z"
   },
   {
    "duration": 31,
    "start_time": "2022-07-19T10:22:10.011Z"
   },
   {
    "duration": 30,
    "start_time": "2022-07-19T10:22:51.463Z"
   },
   {
    "duration": 28,
    "start_time": "2022-07-19T10:25:09.965Z"
   },
   {
    "duration": 24,
    "start_time": "2022-07-19T10:25:34.019Z"
   },
   {
    "duration": 20,
    "start_time": "2022-07-19T10:29:08.885Z"
   },
   {
    "duration": 17,
    "start_time": "2022-07-19T10:29:26.670Z"
   },
   {
    "duration": 25,
    "start_time": "2022-07-19T10:30:09.255Z"
   },
   {
    "duration": 19,
    "start_time": "2022-07-19T10:32:02.492Z"
   },
   {
    "duration": 10,
    "start_time": "2022-07-19T10:32:07.350Z"
   },
   {
    "duration": 10,
    "start_time": "2022-07-19T10:32:26.079Z"
   },
   {
    "duration": 9,
    "start_time": "2022-07-19T10:32:32.588Z"
   },
   {
    "duration": 3,
    "start_time": "2022-07-19T10:32:37.802Z"
   },
   {
    "duration": 99,
    "start_time": "2022-07-19T10:32:37.807Z"
   },
   {
    "duration": 37,
    "start_time": "2022-07-19T10:32:37.908Z"
   },
   {
    "duration": 11,
    "start_time": "2022-07-19T10:32:37.948Z"
   },
   {
    "duration": 19,
    "start_time": "2022-07-19T10:32:37.961Z"
   },
   {
    "duration": 6,
    "start_time": "2022-07-19T10:32:37.982Z"
   },
   {
    "duration": 7,
    "start_time": "2022-07-19T10:32:37.990Z"
   },
   {
    "duration": 26,
    "start_time": "2022-07-19T10:32:37.998Z"
   },
   {
    "duration": 80,
    "start_time": "2022-07-19T10:32:38.027Z"
   },
   {
    "duration": 18,
    "start_time": "2022-07-19T10:32:38.109Z"
   },
   {
    "duration": 15,
    "start_time": "2022-07-19T10:32:38.129Z"
   },
   {
    "duration": 10,
    "start_time": "2022-07-19T10:32:38.146Z"
   },
   {
    "duration": 15,
    "start_time": "2022-07-19T10:32:38.157Z"
   },
   {
    "duration": 17,
    "start_time": "2022-07-19T10:32:38.173Z"
   },
   {
    "duration": 5,
    "start_time": "2022-07-19T10:32:38.192Z"
   },
   {
    "duration": 28,
    "start_time": "2022-07-19T10:32:38.199Z"
   },
   {
    "duration": 10,
    "start_time": "2022-07-19T10:32:38.229Z"
   },
   {
    "duration": 6,
    "start_time": "2022-07-19T10:32:38.240Z"
   },
   {
    "duration": 10,
    "start_time": "2022-07-19T10:32:38.248Z"
   },
   {
    "duration": 8,
    "start_time": "2022-07-19T10:32:38.260Z"
   },
   {
    "duration": 8,
    "start_time": "2022-07-19T10:32:38.269Z"
   },
   {
    "duration": 60,
    "start_time": "2022-07-19T10:32:38.279Z"
   },
   {
    "duration": 28,
    "start_time": "2022-07-19T10:32:38.341Z"
   },
   {
    "duration": 33,
    "start_time": "2022-07-19T10:32:38.372Z"
   },
   {
    "duration": 31,
    "start_time": "2022-07-19T10:32:38.424Z"
   },
   {
    "duration": 18,
    "start_time": "2022-07-19T10:32:38.456Z"
   },
   {
    "duration": 2,
    "start_time": "2022-07-19T10:32:38.476Z"
   },
   {
    "duration": 18,
    "start_time": "2022-07-19T10:32:48.528Z"
   },
   {
    "duration": 23,
    "start_time": "2022-07-19T10:32:54.104Z"
   },
   {
    "duration": 23,
    "start_time": "2022-07-19T10:33:05.427Z"
   },
   {
    "duration": 26,
    "start_time": "2022-07-19T10:38:55.875Z"
   },
   {
    "duration": 23,
    "start_time": "2022-07-19T10:46:26.193Z"
   },
   {
    "duration": 5,
    "start_time": "2022-07-19T10:52:48.913Z"
   },
   {
    "duration": 6,
    "start_time": "2022-07-19T10:53:10.473Z"
   },
   {
    "duration": 7,
    "start_time": "2022-07-19T10:53:15.983Z"
   },
   {
    "duration": 3,
    "start_time": "2022-07-19T10:53:20.081Z"
   },
   {
    "duration": 94,
    "start_time": "2022-07-19T10:53:20.086Z"
   },
   {
    "duration": 37,
    "start_time": "2022-07-19T10:53:20.182Z"
   },
   {
    "duration": 10,
    "start_time": "2022-07-19T10:53:20.221Z"
   },
   {
    "duration": 18,
    "start_time": "2022-07-19T10:53:20.233Z"
   },
   {
    "duration": 6,
    "start_time": "2022-07-19T10:53:20.252Z"
   },
   {
    "duration": 7,
    "start_time": "2022-07-19T10:53:20.259Z"
   },
   {
    "duration": 24,
    "start_time": "2022-07-19T10:53:20.267Z"
   },
   {
    "duration": 100,
    "start_time": "2022-07-19T10:53:20.293Z"
   },
   {
    "duration": 7,
    "start_time": "2022-07-19T10:53:20.395Z"
   },
   {
    "duration": 30,
    "start_time": "2022-07-19T10:53:20.405Z"
   },
   {
    "duration": 11,
    "start_time": "2022-07-19T10:53:20.437Z"
   },
   {
    "duration": 8,
    "start_time": "2022-07-19T10:53:20.449Z"
   },
   {
    "duration": 14,
    "start_time": "2022-07-19T10:53:20.459Z"
   },
   {
    "duration": 5,
    "start_time": "2022-07-19T10:53:20.475Z"
   },
   {
    "duration": 7,
    "start_time": "2022-07-19T10:53:20.481Z"
   },
   {
    "duration": 40,
    "start_time": "2022-07-19T10:53:20.489Z"
   },
   {
    "duration": 6,
    "start_time": "2022-07-19T10:53:20.530Z"
   },
   {
    "duration": 12,
    "start_time": "2022-07-19T10:53:20.538Z"
   },
   {
    "duration": 9,
    "start_time": "2022-07-19T10:53:20.551Z"
   },
   {
    "duration": 15,
    "start_time": "2022-07-19T10:53:20.562Z"
   },
   {
    "duration": 45,
    "start_time": "2022-07-19T10:53:20.579Z"
   },
   {
    "duration": 27,
    "start_time": "2022-07-19T10:53:20.626Z"
   },
   {
    "duration": 34,
    "start_time": "2022-07-19T10:53:20.655Z"
   },
   {
    "duration": 5,
    "start_time": "2022-07-19T10:53:20.690Z"
   },
   {
    "duration": 56,
    "start_time": "2022-07-19T10:53:20.696Z"
   },
   {
    "duration": 21,
    "start_time": "2022-07-19T10:53:20.754Z"
   },
   {
    "duration": 47,
    "start_time": "2022-07-19T10:53:20.777Z"
   },
   {
    "duration": 21,
    "start_time": "2022-07-19T10:53:20.826Z"
   },
   {
    "duration": 2,
    "start_time": "2022-07-19T10:53:20.849Z"
   },
   {
    "duration": 13,
    "start_time": "2022-07-19T10:53:43.548Z"
   },
   {
    "duration": 32,
    "start_time": "2022-07-19T10:53:56.696Z"
   },
   {
    "duration": 13,
    "start_time": "2022-07-19T10:54:23.210Z"
   },
   {
    "duration": 14,
    "start_time": "2022-07-19T10:57:01.988Z"
   },
   {
    "duration": 31,
    "start_time": "2022-07-19T10:57:19.599Z"
   },
   {
    "duration": 4,
    "start_time": "2022-07-19T11:27:36.189Z"
   },
   {
    "duration": 37,
    "start_time": "2022-07-19T11:27:43.033Z"
   },
   {
    "duration": 12,
    "start_time": "2022-07-19T11:33:07.564Z"
   },
   {
    "duration": 15,
    "start_time": "2022-07-19T11:33:39.422Z"
   },
   {
    "duration": 13,
    "start_time": "2022-07-19T11:34:12.766Z"
   },
   {
    "duration": 5,
    "start_time": "2022-07-19T11:35:21.727Z"
   },
   {
    "duration": 51,
    "start_time": "2022-07-19T11:35:33.664Z"
   },
   {
    "duration": 51,
    "start_time": "2022-07-19T11:35:48.156Z"
   },
   {
    "duration": 76,
    "start_time": "2022-07-19T11:36:20.208Z"
   },
   {
    "duration": 3,
    "start_time": "2022-07-19T11:36:35.484Z"
   },
   {
    "duration": 92,
    "start_time": "2022-07-19T11:36:35.489Z"
   },
   {
    "duration": 39,
    "start_time": "2022-07-19T11:36:35.583Z"
   },
   {
    "duration": 11,
    "start_time": "2022-07-19T11:36:35.635Z"
   },
   {
    "duration": 35,
    "start_time": "2022-07-19T11:36:35.648Z"
   },
   {
    "duration": 23,
    "start_time": "2022-07-19T11:36:35.685Z"
   },
   {
    "duration": 29,
    "start_time": "2022-07-19T11:36:35.709Z"
   },
   {
    "duration": 41,
    "start_time": "2022-07-19T11:36:35.739Z"
   },
   {
    "duration": 92,
    "start_time": "2022-07-19T11:36:35.784Z"
   },
   {
    "duration": 8,
    "start_time": "2022-07-19T11:36:35.877Z"
   },
   {
    "duration": 48,
    "start_time": "2022-07-19T11:36:35.887Z"
   },
   {
    "duration": 22,
    "start_time": "2022-07-19T11:36:35.937Z"
   },
   {
    "duration": 32,
    "start_time": "2022-07-19T11:36:35.961Z"
   },
   {
    "duration": 40,
    "start_time": "2022-07-19T11:36:35.995Z"
   },
   {
    "duration": 36,
    "start_time": "2022-07-19T11:36:36.037Z"
   },
   {
    "duration": 31,
    "start_time": "2022-07-19T11:36:36.075Z"
   },
   {
    "duration": 21,
    "start_time": "2022-07-19T11:36:36.107Z"
   },
   {
    "duration": 41,
    "start_time": "2022-07-19T11:36:36.130Z"
   },
   {
    "duration": 13,
    "start_time": "2022-07-19T11:36:36.173Z"
   },
   {
    "duration": 8,
    "start_time": "2022-07-19T11:36:36.187Z"
   },
   {
    "duration": 12,
    "start_time": "2022-07-19T11:36:36.197Z"
   },
   {
    "duration": 28,
    "start_time": "2022-07-19T11:36:36.211Z"
   },
   {
    "duration": 30,
    "start_time": "2022-07-19T11:36:36.241Z"
   },
   {
    "duration": 27,
    "start_time": "2022-07-19T11:36:36.275Z"
   },
   {
    "duration": 62,
    "start_time": "2022-07-19T11:36:36.324Z"
   },
   {
    "duration": 0,
    "start_time": "2022-07-19T11:36:36.388Z"
   },
   {
    "duration": 0,
    "start_time": "2022-07-19T11:36:36.390Z"
   },
   {
    "duration": 0,
    "start_time": "2022-07-19T11:36:36.391Z"
   },
   {
    "duration": 0,
    "start_time": "2022-07-19T11:36:36.393Z"
   },
   {
    "duration": 0,
    "start_time": "2022-07-19T11:36:36.394Z"
   },
   {
    "duration": 0,
    "start_time": "2022-07-19T11:36:36.396Z"
   },
   {
    "duration": 0,
    "start_time": "2022-07-19T11:36:36.398Z"
   },
   {
    "duration": 0,
    "start_time": "2022-07-19T11:36:36.399Z"
   },
   {
    "duration": 5,
    "start_time": "2022-07-19T11:37:47.713Z"
   },
   {
    "duration": 12,
    "start_time": "2022-07-19T11:38:04.883Z"
   },
   {
    "duration": 14,
    "start_time": "2022-07-19T11:38:12.723Z"
   },
   {
    "duration": 24,
    "start_time": "2022-07-19T11:39:11.910Z"
   },
   {
    "duration": 17,
    "start_time": "2022-07-19T11:39:25.761Z"
   },
   {
    "duration": 17,
    "start_time": "2022-07-19T11:48:44.997Z"
   },
   {
    "duration": 2,
    "start_time": "2022-07-19T11:50:35.623Z"
   },
   {
    "duration": 96,
    "start_time": "2022-07-19T11:50:35.627Z"
   },
   {
    "duration": 38,
    "start_time": "2022-07-19T11:50:35.724Z"
   },
   {
    "duration": 11,
    "start_time": "2022-07-19T11:50:35.763Z"
   },
   {
    "duration": 62,
    "start_time": "2022-07-19T11:50:35.776Z"
   },
   {
    "duration": 5,
    "start_time": "2022-07-19T11:50:35.839Z"
   },
   {
    "duration": 8,
    "start_time": "2022-07-19T11:50:35.846Z"
   },
   {
    "duration": 24,
    "start_time": "2022-07-19T11:50:35.855Z"
   },
   {
    "duration": 101,
    "start_time": "2022-07-19T11:50:35.883Z"
   },
   {
    "duration": 9,
    "start_time": "2022-07-19T11:50:35.985Z"
   },
   {
    "duration": 28,
    "start_time": "2022-07-19T11:50:35.996Z"
   },
   {
    "duration": 17,
    "start_time": "2022-07-19T11:50:36.026Z"
   },
   {
    "duration": 16,
    "start_time": "2022-07-19T11:50:36.045Z"
   },
   {
    "duration": 24,
    "start_time": "2022-07-19T11:50:36.063Z"
   },
   {
    "duration": 6,
    "start_time": "2022-07-19T11:50:36.089Z"
   },
   {
    "duration": 27,
    "start_time": "2022-07-19T11:50:36.096Z"
   },
   {
    "duration": 9,
    "start_time": "2022-07-19T11:50:36.125Z"
   },
   {
    "duration": 6,
    "start_time": "2022-07-19T11:50:36.135Z"
   },
   {
    "duration": 15,
    "start_time": "2022-07-19T11:50:36.142Z"
   },
   {
    "duration": 8,
    "start_time": "2022-07-19T11:50:36.159Z"
   },
   {
    "duration": 12,
    "start_time": "2022-07-19T11:50:36.169Z"
   },
   {
    "duration": 54,
    "start_time": "2022-07-19T11:50:36.183Z"
   },
   {
    "duration": 33,
    "start_time": "2022-07-19T11:50:36.239Z"
   },
   {
    "duration": 32,
    "start_time": "2022-07-19T11:50:36.276Z"
   },
   {
    "duration": 37,
    "start_time": "2022-07-19T11:50:36.310Z"
   },
   {
    "duration": 35,
    "start_time": "2022-07-19T11:50:36.349Z"
   },
   {
    "duration": 41,
    "start_time": "2022-07-19T11:50:36.386Z"
   },
   {
    "duration": 14,
    "start_time": "2022-07-19T11:50:36.430Z"
   },
   {
    "duration": 31,
    "start_time": "2022-07-19T11:50:36.446Z"
   },
   {
    "duration": 46,
    "start_time": "2022-07-19T11:50:36.479Z"
   },
   {
    "duration": 27,
    "start_time": "2022-07-19T11:50:36.527Z"
   },
   {
    "duration": 22,
    "start_time": "2022-07-19T11:50:36.555Z"
   },
   {
    "duration": 2,
    "start_time": "2022-07-19T11:50:36.579Z"
   },
   {
    "duration": 144,
    "start_time": "2022-07-19T12:04:05.402Z"
   },
   {
    "duration": 178,
    "start_time": "2022-07-19T12:04:19.256Z"
   },
   {
    "duration": 171,
    "start_time": "2022-07-19T12:04:26.906Z"
   },
   {
    "duration": 178,
    "start_time": "2022-07-19T12:05:15.121Z"
   },
   {
    "duration": 3,
    "start_time": "2022-07-19T12:05:56.107Z"
   },
   {
    "duration": 91,
    "start_time": "2022-07-19T12:05:56.112Z"
   },
   {
    "duration": 38,
    "start_time": "2022-07-19T12:05:56.205Z"
   },
   {
    "duration": 10,
    "start_time": "2022-07-19T12:05:56.245Z"
   },
   {
    "duration": 19,
    "start_time": "2022-07-19T12:05:56.258Z"
   },
   {
    "duration": 9,
    "start_time": "2022-07-19T12:05:56.279Z"
   },
   {
    "duration": 5,
    "start_time": "2022-07-19T12:05:56.290Z"
   },
   {
    "duration": 29,
    "start_time": "2022-07-19T12:05:56.296Z"
   },
   {
    "duration": 97,
    "start_time": "2022-07-19T12:05:56.327Z"
   },
   {
    "duration": 8,
    "start_time": "2022-07-19T12:05:56.426Z"
   },
   {
    "duration": 26,
    "start_time": "2022-07-19T12:05:56.437Z"
   },
   {
    "duration": 12,
    "start_time": "2022-07-19T12:05:56.465Z"
   },
   {
    "duration": 9,
    "start_time": "2022-07-19T12:05:56.478Z"
   },
   {
    "duration": 42,
    "start_time": "2022-07-19T12:05:56.489Z"
   },
   {
    "duration": 7,
    "start_time": "2022-07-19T12:05:56.533Z"
   },
   {
    "duration": 7,
    "start_time": "2022-07-19T12:05:56.542Z"
   },
   {
    "duration": 9,
    "start_time": "2022-07-19T12:05:56.551Z"
   },
   {
    "duration": 7,
    "start_time": "2022-07-19T12:05:56.562Z"
   },
   {
    "duration": 10,
    "start_time": "2022-07-19T12:05:56.571Z"
   },
   {
    "duration": 44,
    "start_time": "2022-07-19T12:05:56.583Z"
   },
   {
    "duration": 21,
    "start_time": "2022-07-19T12:05:56.629Z"
   },
   {
    "duration": 29,
    "start_time": "2022-07-19T12:05:56.652Z"
   },
   {
    "duration": 49,
    "start_time": "2022-07-19T12:05:56.682Z"
   },
   {
    "duration": 30,
    "start_time": "2022-07-19T12:05:56.734Z"
   },
   {
    "duration": 28,
    "start_time": "2022-07-19T12:05:56.766Z"
   },
   {
    "duration": 59,
    "start_time": "2022-07-19T12:05:56.796Z"
   },
   {
    "duration": 192,
    "start_time": "2022-07-19T12:05:56.857Z"
   },
   {
    "duration": 54,
    "start_time": "2022-07-19T12:07:18.805Z"
   },
   {
    "duration": 342,
    "start_time": "2022-07-19T12:07:26.255Z"
   },
   {
    "duration": 149,
    "start_time": "2022-07-19T12:07:47.931Z"
   },
   {
    "duration": 144,
    "start_time": "2022-07-19T12:08:12.415Z"
   },
   {
    "duration": 152,
    "start_time": "2022-07-19T12:08:42.154Z"
   },
   {
    "duration": 43,
    "start_time": "2022-07-19T12:15:47.329Z"
   },
   {
    "duration": 64,
    "start_time": "2022-07-19T12:16:08.717Z"
   },
   {
    "duration": 54,
    "start_time": "2022-07-19T12:17:46.419Z"
   },
   {
    "duration": 3,
    "start_time": "2022-07-19T12:18:30.149Z"
   },
   {
    "duration": 92,
    "start_time": "2022-07-19T12:18:30.154Z"
   },
   {
    "duration": 38,
    "start_time": "2022-07-19T12:18:30.247Z"
   },
   {
    "duration": 11,
    "start_time": "2022-07-19T12:18:30.287Z"
   },
   {
    "duration": 40,
    "start_time": "2022-07-19T12:18:30.299Z"
   },
   {
    "duration": 23,
    "start_time": "2022-07-19T12:18:30.341Z"
   },
   {
    "duration": 45,
    "start_time": "2022-07-19T12:18:30.366Z"
   },
   {
    "duration": 46,
    "start_time": "2022-07-19T12:18:30.413Z"
   },
   {
    "duration": 82,
    "start_time": "2022-07-19T12:18:30.461Z"
   },
   {
    "duration": 7,
    "start_time": "2022-07-19T12:18:30.544Z"
   },
   {
    "duration": 36,
    "start_time": "2022-07-19T12:18:30.553Z"
   },
   {
    "duration": 22,
    "start_time": "2022-07-19T12:18:30.591Z"
   },
   {
    "duration": 30,
    "start_time": "2022-07-19T12:18:30.615Z"
   },
   {
    "duration": 37,
    "start_time": "2022-07-19T12:18:30.647Z"
   },
   {
    "duration": 21,
    "start_time": "2022-07-19T12:18:30.686Z"
   },
   {
    "duration": 31,
    "start_time": "2022-07-19T12:18:30.709Z"
   },
   {
    "duration": 33,
    "start_time": "2022-07-19T12:18:30.742Z"
   },
   {
    "duration": 27,
    "start_time": "2022-07-19T12:18:30.777Z"
   },
   {
    "duration": 28,
    "start_time": "2022-07-19T12:18:30.806Z"
   },
   {
    "duration": 20,
    "start_time": "2022-07-19T12:18:30.835Z"
   },
   {
    "duration": 9,
    "start_time": "2022-07-19T12:18:30.857Z"
   },
   {
    "duration": 40,
    "start_time": "2022-07-19T12:18:30.868Z"
   },
   {
    "duration": 32,
    "start_time": "2022-07-19T12:18:30.910Z"
   },
   {
    "duration": 27,
    "start_time": "2022-07-19T12:18:30.945Z"
   },
   {
    "duration": 39,
    "start_time": "2022-07-19T12:18:30.974Z"
   },
   {
    "duration": 41,
    "start_time": "2022-07-19T12:18:31.015Z"
   },
   {
    "duration": 162,
    "start_time": "2022-07-19T12:18:31.058Z"
   },
   {
    "duration": 54,
    "start_time": "2022-07-19T12:18:31.223Z"
   },
   {
    "duration": 4,
    "start_time": "2022-07-19T12:19:28.531Z"
   },
   {
    "duration": 4,
    "start_time": "2022-07-19T12:21:38.186Z"
   },
   {
    "duration": 45,
    "start_time": "2022-07-19T12:22:03.803Z"
   },
   {
    "duration": 43,
    "start_time": "2022-07-19T12:22:57.754Z"
   },
   {
    "duration": 36,
    "start_time": "2022-07-19T12:23:35.138Z"
   },
   {
    "duration": 2,
    "start_time": "2022-07-19T12:25:51.377Z"
   },
   {
    "duration": 89,
    "start_time": "2022-07-19T12:25:51.381Z"
   },
   {
    "duration": 37,
    "start_time": "2022-07-19T12:25:51.473Z"
   },
   {
    "duration": 10,
    "start_time": "2022-07-19T12:25:51.511Z"
   },
   {
    "duration": 19,
    "start_time": "2022-07-19T12:25:51.523Z"
   },
   {
    "duration": 6,
    "start_time": "2022-07-19T12:25:51.544Z"
   },
   {
    "duration": 6,
    "start_time": "2022-07-19T12:25:51.552Z"
   },
   {
    "duration": 18,
    "start_time": "2022-07-19T12:25:58.400Z"
   },
   {
    "duration": 27,
    "start_time": "2022-07-19T12:26:12.563Z"
   },
   {
    "duration": 17,
    "start_time": "2022-07-19T12:28:16.588Z"
   },
   {
    "duration": 3,
    "start_time": "2022-07-19T12:29:06.075Z"
   },
   {
    "duration": 95,
    "start_time": "2022-07-19T12:29:06.080Z"
   },
   {
    "duration": 37,
    "start_time": "2022-07-19T12:29:06.178Z"
   },
   {
    "duration": 10,
    "start_time": "2022-07-19T12:29:06.217Z"
   },
   {
    "duration": 23,
    "start_time": "2022-07-19T12:29:06.229Z"
   },
   {
    "duration": 5,
    "start_time": "2022-07-19T12:29:06.254Z"
   },
   {
    "duration": 10,
    "start_time": "2022-07-19T12:29:06.261Z"
   },
   {
    "duration": 23,
    "start_time": "2022-07-19T12:29:06.273Z"
   },
   {
    "duration": 29,
    "start_time": "2022-07-19T12:29:06.298Z"
   },
   {
    "duration": 25,
    "start_time": "2022-07-19T12:29:06.329Z"
   },
   {
    "duration": 97,
    "start_time": "2022-07-19T12:29:06.356Z"
   },
   {
    "duration": 7,
    "start_time": "2022-07-19T12:29:06.454Z"
   },
   {
    "duration": 21,
    "start_time": "2022-07-19T12:29:06.462Z"
   },
   {
    "duration": 10,
    "start_time": "2022-07-19T12:29:06.485Z"
   },
   {
    "duration": 9,
    "start_time": "2022-07-19T12:29:06.497Z"
   },
   {
    "duration": 14,
    "start_time": "2022-07-19T12:29:06.523Z"
   },
   {
    "duration": 7,
    "start_time": "2022-07-19T12:29:06.538Z"
   },
   {
    "duration": 9,
    "start_time": "2022-07-19T12:29:06.547Z"
   },
   {
    "duration": 10,
    "start_time": "2022-07-19T12:29:06.558Z"
   },
   {
    "duration": 5,
    "start_time": "2022-07-19T12:29:06.570Z"
   },
   {
    "duration": 21,
    "start_time": "2022-07-19T12:29:06.577Z"
   },
   {
    "duration": 28,
    "start_time": "2022-07-19T12:29:06.599Z"
   },
   {
    "duration": 11,
    "start_time": "2022-07-19T12:29:06.629Z"
   },
   {
    "duration": 27,
    "start_time": "2022-07-19T12:29:06.642Z"
   },
   {
    "duration": 32,
    "start_time": "2022-07-19T12:29:06.671Z"
   },
   {
    "duration": 26,
    "start_time": "2022-07-19T12:29:06.722Z"
   },
   {
    "duration": 26,
    "start_time": "2022-07-19T12:29:06.750Z"
   },
   {
    "duration": 59,
    "start_time": "2022-07-19T12:29:06.777Z"
   },
   {
    "duration": 147,
    "start_time": "2022-07-19T12:29:06.839Z"
   },
   {
    "duration": 41,
    "start_time": "2022-07-19T12:29:06.987Z"
   },
   {
    "duration": 41,
    "start_time": "2022-07-19T12:29:07.030Z"
   },
   {
    "duration": 24,
    "start_time": "2022-07-19T12:29:07.073Z"
   },
   {
    "duration": 50,
    "start_time": "2022-07-19T12:29:07.099Z"
   },
   {
    "duration": 22,
    "start_time": "2022-07-19T12:29:07.150Z"
   },
   {
    "duration": 3,
    "start_time": "2022-07-19T12:29:07.174Z"
   },
   {
    "duration": 14,
    "start_time": "2022-07-19T12:30:20.961Z"
   },
   {
    "duration": 10,
    "start_time": "2022-07-19T12:30:27.747Z"
   },
   {
    "duration": 42,
    "start_time": "2022-07-19T12:37:27.372Z"
   },
   {
    "duration": 42,
    "start_time": "2022-07-19T12:38:07.848Z"
   },
   {
    "duration": 3,
    "start_time": "2022-07-19T12:38:15.458Z"
   },
   {
    "duration": 93,
    "start_time": "2022-07-19T12:38:15.464Z"
   },
   {
    "duration": 38,
    "start_time": "2022-07-19T12:38:15.559Z"
   },
   {
    "duration": 14,
    "start_time": "2022-07-19T12:38:15.599Z"
   },
   {
    "duration": 21,
    "start_time": "2022-07-19T12:38:15.617Z"
   },
   {
    "duration": 8,
    "start_time": "2022-07-19T12:38:15.640Z"
   },
   {
    "duration": 11,
    "start_time": "2022-07-19T12:38:15.650Z"
   },
   {
    "duration": 20,
    "start_time": "2022-07-19T12:38:15.663Z"
   },
   {
    "duration": 18,
    "start_time": "2022-07-19T12:38:15.685Z"
   },
   {
    "duration": 32,
    "start_time": "2022-07-19T12:38:15.724Z"
   },
   {
    "duration": 110,
    "start_time": "2022-07-19T12:38:15.761Z"
   },
   {
    "duration": 8,
    "start_time": "2022-07-19T12:38:15.872Z"
   },
   {
    "duration": 25,
    "start_time": "2022-07-19T12:38:15.882Z"
   },
   {
    "duration": 23,
    "start_time": "2022-07-19T12:38:15.909Z"
   },
   {
    "duration": 9,
    "start_time": "2022-07-19T12:38:15.933Z"
   },
   {
    "duration": 16,
    "start_time": "2022-07-19T12:38:15.943Z"
   },
   {
    "duration": 7,
    "start_time": "2022-07-19T12:38:15.962Z"
   },
   {
    "duration": 11,
    "start_time": "2022-07-19T12:38:15.971Z"
   },
   {
    "duration": 44,
    "start_time": "2022-07-19T12:38:15.983Z"
   },
   {
    "duration": 7,
    "start_time": "2022-07-19T12:38:16.029Z"
   },
   {
    "duration": 15,
    "start_time": "2022-07-19T12:38:16.038Z"
   },
   {
    "duration": 12,
    "start_time": "2022-07-19T12:38:16.056Z"
   },
   {
    "duration": 9,
    "start_time": "2022-07-19T12:38:16.070Z"
   },
   {
    "duration": 60,
    "start_time": "2022-07-19T12:38:16.081Z"
   },
   {
    "duration": 35,
    "start_time": "2022-07-19T12:38:16.143Z"
   },
   {
    "duration": 48,
    "start_time": "2022-07-19T12:38:16.179Z"
   },
   {
    "duration": 29,
    "start_time": "2022-07-19T12:38:16.229Z"
   },
   {
    "duration": 40,
    "start_time": "2022-07-19T12:38:16.261Z"
   },
   {
    "duration": 166,
    "start_time": "2022-07-19T12:38:16.326Z"
   },
   {
    "duration": 61,
    "start_time": "2022-07-19T12:38:16.494Z"
   },
   {
    "duration": 43,
    "start_time": "2022-07-19T12:38:35.817Z"
   },
   {
    "duration": 4,
    "start_time": "2022-07-19T12:38:39.738Z"
   },
   {
    "duration": 110,
    "start_time": "2022-07-19T12:38:39.744Z"
   },
   {
    "duration": 37,
    "start_time": "2022-07-19T12:38:39.856Z"
   },
   {
    "duration": 11,
    "start_time": "2022-07-19T12:38:39.895Z"
   },
   {
    "duration": 17,
    "start_time": "2022-07-19T12:38:39.909Z"
   },
   {
    "duration": 7,
    "start_time": "2022-07-19T12:38:39.928Z"
   },
   {
    "duration": 6,
    "start_time": "2022-07-19T12:38:39.937Z"
   },
   {
    "duration": 24,
    "start_time": "2022-07-19T12:38:39.945Z"
   },
   {
    "duration": 17,
    "start_time": "2022-07-19T12:38:39.971Z"
   },
   {
    "duration": 60,
    "start_time": "2022-07-19T12:38:39.990Z"
   },
   {
    "duration": 101,
    "start_time": "2022-07-19T12:38:40.053Z"
   },
   {
    "duration": 8,
    "start_time": "2022-07-19T12:38:40.155Z"
   },
   {
    "duration": 18,
    "start_time": "2022-07-19T12:38:40.165Z"
   },
   {
    "duration": 11,
    "start_time": "2022-07-19T12:38:40.185Z"
   },
   {
    "duration": 9,
    "start_time": "2022-07-19T12:38:40.224Z"
   },
   {
    "duration": 24,
    "start_time": "2022-07-19T12:38:40.234Z"
   },
   {
    "duration": 8,
    "start_time": "2022-07-19T12:38:40.260Z"
   },
   {
    "duration": 12,
    "start_time": "2022-07-19T12:38:40.270Z"
   },
   {
    "duration": 17,
    "start_time": "2022-07-19T12:38:40.284Z"
   },
   {
    "duration": 25,
    "start_time": "2022-07-19T12:38:40.303Z"
   },
   {
    "duration": 11,
    "start_time": "2022-07-19T12:38:40.330Z"
   },
   {
    "duration": 9,
    "start_time": "2022-07-19T12:38:40.343Z"
   },
   {
    "duration": 11,
    "start_time": "2022-07-19T12:38:40.354Z"
   },
   {
    "duration": 60,
    "start_time": "2022-07-19T12:38:40.367Z"
   },
   {
    "duration": 33,
    "start_time": "2022-07-19T12:38:40.430Z"
   },
   {
    "duration": 36,
    "start_time": "2022-07-19T12:38:40.466Z"
   },
   {
    "duration": 29,
    "start_time": "2022-07-19T12:38:40.525Z"
   },
   {
    "duration": 66,
    "start_time": "2022-07-19T12:38:40.556Z"
   },
   {
    "duration": 214,
    "start_time": "2022-07-19T12:38:40.627Z"
   },
   {
    "duration": 49,
    "start_time": "2022-07-19T12:38:40.843Z"
   },
   {
    "duration": 43,
    "start_time": "2022-07-19T12:38:45.707Z"
   },
   {
    "duration": 591,
    "start_time": "2022-07-19T12:39:53.137Z"
   },
   {
    "duration": 3,
    "start_time": "2022-07-19T12:52:18.015Z"
   },
   {
    "duration": 110,
    "start_time": "2022-07-19T12:52:18.021Z"
   },
   {
    "duration": 41,
    "start_time": "2022-07-19T12:52:18.133Z"
   },
   {
    "duration": 12,
    "start_time": "2022-07-19T12:52:18.177Z"
   },
   {
    "duration": 37,
    "start_time": "2022-07-19T12:52:18.192Z"
   },
   {
    "duration": 31,
    "start_time": "2022-07-19T12:52:18.231Z"
   },
   {
    "duration": 38,
    "start_time": "2022-07-19T12:52:18.264Z"
   },
   {
    "duration": 48,
    "start_time": "2022-07-19T12:52:18.304Z"
   },
   {
    "duration": 42,
    "start_time": "2022-07-19T12:52:18.354Z"
   },
   {
    "duration": 54,
    "start_time": "2022-07-19T12:52:18.397Z"
   },
   {
    "duration": 85,
    "start_time": "2022-07-19T12:52:18.453Z"
   },
   {
    "duration": 8,
    "start_time": "2022-07-19T12:52:18.540Z"
   },
   {
    "duration": 40,
    "start_time": "2022-07-19T12:52:18.549Z"
   },
   {
    "duration": 29,
    "start_time": "2022-07-19T12:52:18.592Z"
   },
   {
    "duration": 31,
    "start_time": "2022-07-19T12:52:18.623Z"
   },
   {
    "duration": 53,
    "start_time": "2022-07-19T12:52:18.656Z"
   },
   {
    "duration": 24,
    "start_time": "2022-07-19T12:52:18.711Z"
   },
   {
    "duration": 30,
    "start_time": "2022-07-19T12:52:18.736Z"
   },
   {
    "duration": 39,
    "start_time": "2022-07-19T12:52:18.768Z"
   },
   {
    "duration": 44,
    "start_time": "2022-07-19T12:52:18.809Z"
   },
   {
    "duration": 40,
    "start_time": "2022-07-19T12:52:18.854Z"
   },
   {
    "duration": 47,
    "start_time": "2022-07-19T12:52:18.896Z"
   },
   {
    "duration": 37,
    "start_time": "2022-07-19T12:52:18.945Z"
   },
   {
    "duration": 49,
    "start_time": "2022-07-19T12:52:18.984Z"
   },
   {
    "duration": 82,
    "start_time": "2022-07-19T12:52:19.035Z"
   },
   {
    "duration": 44,
    "start_time": "2022-07-19T12:52:19.119Z"
   },
   {
    "duration": 31,
    "start_time": "2022-07-19T12:52:19.164Z"
   },
   {
    "duration": 47,
    "start_time": "2022-07-19T12:52:19.197Z"
   },
   {
    "duration": 160,
    "start_time": "2022-07-19T12:52:19.246Z"
   },
   {
    "duration": 154,
    "start_time": "2022-07-19T12:52:24.870Z"
   },
   {
    "duration": 48,
    "start_time": "2022-07-19T12:52:42.579Z"
   },
   {
    "duration": 207,
    "start_time": "2022-07-19T12:53:09.436Z"
   },
   {
    "duration": 41,
    "start_time": "2022-07-19T12:53:25.678Z"
   },
   {
    "duration": 155,
    "start_time": "2022-07-19T12:57:02.342Z"
   },
   {
    "duration": 36,
    "start_time": "2022-07-19T12:57:48.842Z"
   },
   {
    "duration": 44,
    "start_time": "2022-07-19T12:58:51.577Z"
   },
   {
    "duration": 33,
    "start_time": "2022-07-19T12:59:33.444Z"
   },
   {
    "duration": 12,
    "start_time": "2022-07-19T13:00:02.921Z"
   },
   {
    "duration": 33,
    "start_time": "2022-07-19T13:01:55.350Z"
   },
   {
    "duration": 40,
    "start_time": "2022-07-19T13:03:00.053Z"
   },
   {
    "duration": 3,
    "start_time": "2022-07-19T13:03:59.496Z"
   },
   {
    "duration": 90,
    "start_time": "2022-07-19T13:03:59.503Z"
   },
   {
    "duration": 37,
    "start_time": "2022-07-19T13:03:59.595Z"
   },
   {
    "duration": 10,
    "start_time": "2022-07-19T13:03:59.634Z"
   },
   {
    "duration": 17,
    "start_time": "2022-07-19T13:03:59.646Z"
   },
   {
    "duration": 9,
    "start_time": "2022-07-19T13:03:59.664Z"
   },
   {
    "duration": 7,
    "start_time": "2022-07-19T13:03:59.674Z"
   },
   {
    "duration": 19,
    "start_time": "2022-07-19T13:03:59.683Z"
   },
   {
    "duration": 33,
    "start_time": "2022-07-19T13:03:59.704Z"
   },
   {
    "duration": 28,
    "start_time": "2022-07-19T13:03:59.739Z"
   },
   {
    "duration": 107,
    "start_time": "2022-07-19T13:03:59.771Z"
   },
   {
    "duration": 7,
    "start_time": "2022-07-19T13:03:59.879Z"
   },
   {
    "duration": 21,
    "start_time": "2022-07-19T13:03:59.887Z"
   },
   {
    "duration": 18,
    "start_time": "2022-07-19T13:03:59.910Z"
   },
   {
    "duration": 8,
    "start_time": "2022-07-19T13:03:59.930Z"
   },
   {
    "duration": 15,
    "start_time": "2022-07-19T13:03:59.940Z"
   },
   {
    "duration": 6,
    "start_time": "2022-07-19T13:03:59.956Z"
   },
   {
    "duration": 21,
    "start_time": "2022-07-19T13:03:59.964Z"
   },
   {
    "duration": 12,
    "start_time": "2022-07-19T13:03:59.987Z"
   },
   {
    "duration": 27,
    "start_time": "2022-07-19T13:04:00.001Z"
   },
   {
    "duration": 16,
    "start_time": "2022-07-19T13:04:00.029Z"
   },
   {
    "duration": 10,
    "start_time": "2022-07-19T13:04:00.047Z"
   },
   {
    "duration": 11,
    "start_time": "2022-07-19T13:04:00.058Z"
   },
   {
    "duration": 24,
    "start_time": "2022-07-19T13:04:00.070Z"
   },
   {
    "duration": 55,
    "start_time": "2022-07-19T13:04:00.095Z"
   },
   {
    "duration": 28,
    "start_time": "2022-07-19T13:04:00.152Z"
   },
   {
    "duration": 47,
    "start_time": "2022-07-19T13:04:00.182Z"
   },
   {
    "duration": 37,
    "start_time": "2022-07-19T13:04:00.231Z"
   },
   {
    "duration": 177,
    "start_time": "2022-07-19T13:04:00.271Z"
   },
   {
    "duration": 41,
    "start_time": "2022-07-19T13:04:00.450Z"
   },
   {
    "duration": 44,
    "start_time": "2022-07-19T13:04:10.161Z"
   },
   {
    "duration": 156,
    "start_time": "2022-07-19T13:04:33.616Z"
   },
   {
    "duration": 175,
    "start_time": "2022-07-19T13:04:53.904Z"
   },
   {
    "duration": 3,
    "start_time": "2022-07-19T13:09:21.982Z"
   },
   {
    "duration": 99,
    "start_time": "2022-07-19T13:09:21.987Z"
   },
   {
    "duration": 38,
    "start_time": "2022-07-19T13:09:22.088Z"
   },
   {
    "duration": 11,
    "start_time": "2022-07-19T13:09:22.128Z"
   },
   {
    "duration": 14,
    "start_time": "2022-07-19T13:09:22.142Z"
   },
   {
    "duration": 9,
    "start_time": "2022-07-19T13:09:22.158Z"
   },
   {
    "duration": 6,
    "start_time": "2022-07-19T13:09:22.168Z"
   },
   {
    "duration": 24,
    "start_time": "2022-07-19T13:09:22.175Z"
   },
   {
    "duration": 37,
    "start_time": "2022-07-19T13:09:22.200Z"
   },
   {
    "duration": 26,
    "start_time": "2022-07-19T13:09:22.239Z"
   },
   {
    "duration": 102,
    "start_time": "2022-07-19T13:09:22.268Z"
   },
   {
    "duration": 7,
    "start_time": "2022-07-19T13:09:22.371Z"
   },
   {
    "duration": 25,
    "start_time": "2022-07-19T13:09:22.379Z"
   },
   {
    "duration": 18,
    "start_time": "2022-07-19T13:09:22.406Z"
   },
   {
    "duration": 8,
    "start_time": "2022-07-19T13:09:22.425Z"
   },
   {
    "duration": 15,
    "start_time": "2022-07-19T13:09:22.435Z"
   },
   {
    "duration": 6,
    "start_time": "2022-07-19T13:09:22.452Z"
   },
   {
    "duration": 13,
    "start_time": "2022-07-19T13:09:22.460Z"
   },
   {
    "duration": 12,
    "start_time": "2022-07-19T13:09:22.474Z"
   },
   {
    "duration": 6,
    "start_time": "2022-07-19T13:09:22.487Z"
   },
   {
    "duration": 38,
    "start_time": "2022-07-19T13:09:22.495Z"
   },
   {
    "duration": 11,
    "start_time": "2022-07-19T13:09:22.535Z"
   },
   {
    "duration": 9,
    "start_time": "2022-07-19T13:09:22.548Z"
   },
   {
    "duration": 25,
    "start_time": "2022-07-19T13:09:26.299Z"
   },
   {
    "duration": 2,
    "start_time": "2022-07-19T13:21:48.184Z"
   },
   {
    "duration": 87,
    "start_time": "2022-07-19T13:21:48.191Z"
   },
   {
    "duration": 38,
    "start_time": "2022-07-19T13:21:48.280Z"
   },
   {
    "duration": 9,
    "start_time": "2022-07-19T13:21:48.320Z"
   },
   {
    "duration": 18,
    "start_time": "2022-07-19T13:21:48.331Z"
   },
   {
    "duration": 6,
    "start_time": "2022-07-19T13:21:48.350Z"
   },
   {
    "duration": 6,
    "start_time": "2022-07-19T13:21:48.357Z"
   },
   {
    "duration": 21,
    "start_time": "2022-07-19T13:21:48.365Z"
   },
   {
    "duration": 38,
    "start_time": "2022-07-19T13:21:48.388Z"
   },
   {
    "duration": 25,
    "start_time": "2022-07-19T13:21:48.428Z"
   },
   {
    "duration": 102,
    "start_time": "2022-07-19T13:21:48.457Z"
   },
   {
    "duration": 7,
    "start_time": "2022-07-19T13:21:48.562Z"
   },
   {
    "duration": 23,
    "start_time": "2022-07-19T13:21:48.571Z"
   },
   {
    "duration": 12,
    "start_time": "2022-07-19T13:21:48.596Z"
   },
   {
    "duration": 22,
    "start_time": "2022-07-19T13:21:48.610Z"
   },
   {
    "duration": 15,
    "start_time": "2022-07-19T13:21:48.633Z"
   },
   {
    "duration": 5,
    "start_time": "2022-07-19T13:21:48.650Z"
   },
   {
    "duration": 8,
    "start_time": "2022-07-19T13:21:48.657Z"
   },
   {
    "duration": 11,
    "start_time": "2022-07-19T13:21:48.667Z"
   },
   {
    "duration": 6,
    "start_time": "2022-07-19T13:21:48.679Z"
   },
   {
    "duration": 39,
    "start_time": "2022-07-19T13:21:48.686Z"
   },
   {
    "duration": 8,
    "start_time": "2022-07-19T13:21:48.727Z"
   },
   {
    "duration": 10,
    "start_time": "2022-07-19T13:21:48.737Z"
   },
   {
    "duration": 17,
    "start_time": "2022-07-19T13:21:48.748Z"
   },
   {
    "duration": 25,
    "start_time": "2022-07-19T13:21:48.767Z"
   },
   {
    "duration": 34,
    "start_time": "2022-07-19T13:21:48.793Z"
   },
   {
    "duration": 17,
    "start_time": "2022-07-19T13:21:57.190Z"
   },
   {
    "duration": 3,
    "start_time": "2022-07-19T13:22:35.842Z"
   },
   {
    "duration": 98,
    "start_time": "2022-07-19T13:22:35.847Z"
   },
   {
    "duration": 38,
    "start_time": "2022-07-19T13:22:35.947Z"
   },
   {
    "duration": 12,
    "start_time": "2022-07-19T13:22:35.987Z"
   },
   {
    "duration": 17,
    "start_time": "2022-07-19T13:22:36.002Z"
   },
   {
    "duration": 7,
    "start_time": "2022-07-19T13:22:36.021Z"
   },
   {
    "duration": 13,
    "start_time": "2022-07-19T13:22:36.029Z"
   },
   {
    "duration": 20,
    "start_time": "2022-07-19T13:22:36.045Z"
   },
   {
    "duration": 15,
    "start_time": "2022-07-19T13:22:36.067Z"
   },
   {
    "duration": 50,
    "start_time": "2022-07-19T13:22:36.084Z"
   },
   {
    "duration": 94,
    "start_time": "2022-07-19T13:22:36.137Z"
   },
   {
    "duration": 7,
    "start_time": "2022-07-19T13:22:36.232Z"
   },
   {
    "duration": 27,
    "start_time": "2022-07-19T13:22:36.240Z"
   },
   {
    "duration": 26,
    "start_time": "2022-07-19T13:22:36.268Z"
   },
   {
    "duration": 14,
    "start_time": "2022-07-19T13:22:36.296Z"
   },
   {
    "duration": 14,
    "start_time": "2022-07-19T13:22:36.312Z"
   },
   {
    "duration": 5,
    "start_time": "2022-07-19T13:22:36.328Z"
   },
   {
    "duration": 8,
    "start_time": "2022-07-19T13:22:36.335Z"
   },
   {
    "duration": 10,
    "start_time": "2022-07-19T13:22:36.344Z"
   },
   {
    "duration": 5,
    "start_time": "2022-07-19T13:22:36.355Z"
   },
   {
    "duration": 11,
    "start_time": "2022-07-19T13:22:36.362Z"
   },
   {
    "duration": 11,
    "start_time": "2022-07-19T13:22:36.375Z"
   },
   {
    "duration": 36,
    "start_time": "2022-07-19T13:22:36.388Z"
   },
   {
    "duration": 14,
    "start_time": "2022-07-19T13:22:45.588Z"
   },
   {
    "duration": 25,
    "start_time": "2022-07-19T13:22:47.531Z"
   },
   {
    "duration": 6,
    "start_time": "2022-07-19T13:22:57.040Z"
   },
   {
    "duration": 14,
    "start_time": "2022-07-19T13:22:58.187Z"
   },
   {
    "duration": 2,
    "start_time": "2022-07-19T13:31:52.491Z"
   },
   {
    "duration": 91,
    "start_time": "2022-07-19T13:31:52.497Z"
   },
   {
    "duration": 37,
    "start_time": "2022-07-19T13:31:52.590Z"
   },
   {
    "duration": 11,
    "start_time": "2022-07-19T13:31:52.629Z"
   },
   {
    "duration": 17,
    "start_time": "2022-07-19T13:31:52.642Z"
   },
   {
    "duration": 6,
    "start_time": "2022-07-19T13:31:52.661Z"
   },
   {
    "duration": 12,
    "start_time": "2022-07-19T13:31:52.669Z"
   },
   {
    "duration": 21,
    "start_time": "2022-07-19T13:31:52.682Z"
   },
   {
    "duration": 33,
    "start_time": "2022-07-19T13:31:52.704Z"
   },
   {
    "duration": 25,
    "start_time": "2022-07-19T13:31:52.739Z"
   },
   {
    "duration": 104,
    "start_time": "2022-07-19T13:31:52.767Z"
   },
   {
    "duration": 7,
    "start_time": "2022-07-19T13:31:52.873Z"
   },
   {
    "duration": 26,
    "start_time": "2022-07-19T13:31:52.881Z"
   },
   {
    "duration": 19,
    "start_time": "2022-07-19T13:31:52.909Z"
   },
   {
    "duration": 9,
    "start_time": "2022-07-19T13:31:52.930Z"
   },
   {
    "duration": 25,
    "start_time": "2022-07-19T13:31:52.942Z"
   },
   {
    "duration": 5,
    "start_time": "2022-07-19T13:31:52.969Z"
   },
   {
    "duration": 12,
    "start_time": "2022-07-19T13:31:52.976Z"
   },
   {
    "duration": 8,
    "start_time": "2022-07-19T13:31:52.990Z"
   },
   {
    "duration": 27,
    "start_time": "2022-07-19T13:31:53.000Z"
   },
   {
    "duration": 17,
    "start_time": "2022-07-19T13:31:53.029Z"
   },
   {
    "duration": 18,
    "start_time": "2022-07-19T13:31:53.048Z"
   },
   {
    "duration": 12,
    "start_time": "2022-07-19T13:31:53.068Z"
   },
   {
    "duration": 32,
    "start_time": "2022-07-19T13:31:53.082Z"
   },
   {
    "duration": 11,
    "start_time": "2022-07-19T13:31:53.116Z"
   },
   {
    "duration": 32,
    "start_time": "2022-07-19T13:31:53.129Z"
   },
   {
    "duration": 38,
    "start_time": "2022-07-19T13:31:53.163Z"
   },
   {
    "duration": 5,
    "start_time": "2022-07-19T13:31:59.656Z"
   },
   {
    "duration": 146,
    "start_time": "2022-07-19T13:32:42.690Z"
   },
   {
    "duration": 151,
    "start_time": "2022-07-19T13:32:54.737Z"
   },
   {
    "duration": 3,
    "start_time": "2022-07-19T13:40:32.218Z"
   },
   {
    "duration": 93,
    "start_time": "2022-07-19T13:40:32.223Z"
   },
   {
    "duration": 38,
    "start_time": "2022-07-19T13:40:32.317Z"
   },
   {
    "duration": 10,
    "start_time": "2022-07-19T13:40:32.358Z"
   },
   {
    "duration": 15,
    "start_time": "2022-07-19T13:40:32.370Z"
   },
   {
    "duration": 6,
    "start_time": "2022-07-19T13:40:32.387Z"
   },
   {
    "duration": 10,
    "start_time": "2022-07-19T13:40:32.394Z"
   },
   {
    "duration": 20,
    "start_time": "2022-07-19T13:40:32.406Z"
   },
   {
    "duration": 15,
    "start_time": "2022-07-19T13:40:32.429Z"
   },
   {
    "duration": 25,
    "start_time": "2022-07-19T13:40:32.445Z"
   },
   {
    "duration": 98,
    "start_time": "2022-07-19T13:40:32.472Z"
   },
   {
    "duration": 7,
    "start_time": "2022-07-19T13:40:32.572Z"
   },
   {
    "duration": 20,
    "start_time": "2022-07-19T13:40:32.582Z"
   },
   {
    "duration": 25,
    "start_time": "2022-07-19T13:40:32.604Z"
   },
   {
    "duration": 8,
    "start_time": "2022-07-19T13:40:32.631Z"
   },
   {
    "duration": 22,
    "start_time": "2022-07-19T13:40:32.641Z"
   },
   {
    "duration": 6,
    "start_time": "2022-07-19T13:40:32.665Z"
   },
   {
    "duration": 8,
    "start_time": "2022-07-19T13:40:32.673Z"
   },
   {
    "duration": 13,
    "start_time": "2022-07-19T13:40:32.682Z"
   },
   {
    "duration": 27,
    "start_time": "2022-07-19T13:40:32.697Z"
   },
   {
    "duration": 19,
    "start_time": "2022-07-19T13:40:32.726Z"
   },
   {
    "duration": 9,
    "start_time": "2022-07-19T13:40:32.747Z"
   },
   {
    "duration": 10,
    "start_time": "2022-07-19T13:40:32.757Z"
   },
   {
    "duration": 29,
    "start_time": "2022-07-19T13:40:32.769Z"
   },
   {
    "duration": 27,
    "start_time": "2022-07-19T13:40:32.799Z"
   },
   {
    "duration": 4,
    "start_time": "2022-07-19T13:40:32.828Z"
   },
   {
    "duration": 13,
    "start_time": "2022-07-19T13:40:32.833Z"
   },
   {
    "duration": 162,
    "start_time": "2022-07-19T13:40:32.847Z"
   },
   {
    "duration": 7,
    "start_time": "2022-07-19T13:42:26.751Z"
   },
   {
    "duration": 5,
    "start_time": "2022-07-19T13:42:51.033Z"
   },
   {
    "duration": 10,
    "start_time": "2022-07-19T13:43:21.947Z"
   },
   {
    "duration": 8,
    "start_time": "2022-07-19T13:44:55.403Z"
   },
   {
    "duration": 10,
    "start_time": "2022-07-19T13:44:56.359Z"
   },
   {
    "duration": 7,
    "start_time": "2022-07-19T13:45:35.155Z"
   },
   {
    "duration": 7,
    "start_time": "2022-07-19T13:45:35.832Z"
   },
   {
    "duration": 6,
    "start_time": "2022-07-19T13:46:14.613Z"
   },
   {
    "duration": 8,
    "start_time": "2022-07-19T13:46:16.062Z"
   },
   {
    "duration": 8,
    "start_time": "2022-07-19T13:47:00.973Z"
   },
   {
    "duration": 7,
    "start_time": "2022-07-19T13:47:09.496Z"
   },
   {
    "duration": 5,
    "start_time": "2022-07-19T13:48:32.787Z"
   },
   {
    "duration": 7,
    "start_time": "2022-07-19T13:48:33.634Z"
   },
   {
    "duration": 9,
    "start_time": "2022-07-19T13:49:49.121Z"
   },
   {
    "duration": 8,
    "start_time": "2022-07-19T13:50:15.671Z"
   },
   {
    "duration": 57,
    "start_time": "2022-07-19T16:07:03.870Z"
   },
   {
    "duration": 395,
    "start_time": "2022-07-19T16:07:09.770Z"
   },
   {
    "duration": 184,
    "start_time": "2022-07-19T16:07:10.166Z"
   },
   {
    "duration": 64,
    "start_time": "2022-07-19T16:07:10.351Z"
   },
   {
    "duration": 11,
    "start_time": "2022-07-19T16:07:10.417Z"
   },
   {
    "duration": 42,
    "start_time": "2022-07-19T16:07:10.429Z"
   },
   {
    "duration": 17,
    "start_time": "2022-07-19T16:07:10.473Z"
   },
   {
    "duration": 18,
    "start_time": "2022-07-19T16:07:10.491Z"
   },
   {
    "duration": 48,
    "start_time": "2022-07-19T16:07:10.510Z"
   },
   {
    "duration": 16,
    "start_time": "2022-07-19T16:07:10.559Z"
   },
   {
    "duration": 15,
    "start_time": "2022-07-19T16:07:10.577Z"
   },
   {
    "duration": 3,
    "start_time": "2022-07-19T16:07:54.306Z"
   },
   {
    "duration": 96,
    "start_time": "2022-07-19T16:07:54.311Z"
   },
   {
    "duration": 37,
    "start_time": "2022-07-19T16:07:54.409Z"
   },
   {
    "duration": 10,
    "start_time": "2022-07-19T16:07:54.447Z"
   },
   {
    "duration": 16,
    "start_time": "2022-07-19T16:07:54.459Z"
   },
   {
    "duration": 15,
    "start_time": "2022-07-19T16:07:54.476Z"
   },
   {
    "duration": 6,
    "start_time": "2022-07-19T16:07:54.493Z"
   },
   {
    "duration": 21,
    "start_time": "2022-07-19T16:07:54.500Z"
   },
   {
    "duration": 18,
    "start_time": "2022-07-19T16:07:54.523Z"
   },
   {
    "duration": 7,
    "start_time": "2022-07-19T16:07:54.542Z"
   },
   {
    "duration": 101,
    "start_time": "2022-07-19T16:07:54.551Z"
   },
   {
    "duration": 10,
    "start_time": "2022-07-19T16:07:54.654Z"
   },
   {
    "duration": 36,
    "start_time": "2022-07-19T16:07:54.666Z"
   },
   {
    "duration": 10,
    "start_time": "2022-07-19T16:07:54.704Z"
   },
   {
    "duration": 14,
    "start_time": "2022-07-19T16:07:54.716Z"
   },
   {
    "duration": 30,
    "start_time": "2022-07-19T16:07:54.732Z"
   },
   {
    "duration": 18,
    "start_time": "2022-07-19T16:07:54.764Z"
   },
   {
    "duration": 21,
    "start_time": "2022-07-19T16:07:54.785Z"
   },
   {
    "duration": 13,
    "start_time": "2022-07-19T16:07:54.807Z"
   },
   {
    "duration": 17,
    "start_time": "2022-07-19T16:07:54.821Z"
   },
   {
    "duration": 7,
    "start_time": "2022-07-19T16:07:59.138Z"
   },
   {
    "duration": 3,
    "start_time": "2022-07-19T16:09:15.703Z"
   },
   {
    "duration": 78,
    "start_time": "2022-07-19T16:09:15.708Z"
   },
   {
    "duration": 34,
    "start_time": "2022-07-19T16:09:15.788Z"
   },
   {
    "duration": 9,
    "start_time": "2022-07-19T16:09:15.825Z"
   },
   {
    "duration": 11,
    "start_time": "2022-07-19T16:09:15.836Z"
   },
   {
    "duration": 5,
    "start_time": "2022-07-19T16:09:15.849Z"
   },
   {
    "duration": 7,
    "start_time": "2022-07-19T16:09:15.855Z"
   },
   {
    "duration": 18,
    "start_time": "2022-07-19T16:09:15.863Z"
   },
   {
    "duration": 18,
    "start_time": "2022-07-19T16:09:15.883Z"
   },
   {
    "duration": 7,
    "start_time": "2022-07-19T16:09:15.903Z"
   },
   {
    "duration": 32,
    "start_time": "2022-07-19T16:09:18.876Z"
   },
   {
    "duration": 11,
    "start_time": "2022-07-19T16:09:25.788Z"
   },
   {
    "duration": 19,
    "start_time": "2022-07-19T16:09:41.520Z"
   },
   {
    "duration": 15,
    "start_time": "2022-07-19T16:10:04.570Z"
   },
   {
    "duration": 3,
    "start_time": "2022-07-19T16:11:05.807Z"
   },
   {
    "duration": 88,
    "start_time": "2022-07-19T16:11:05.812Z"
   },
   {
    "duration": 36,
    "start_time": "2022-07-19T16:11:05.902Z"
   },
   {
    "duration": 9,
    "start_time": "2022-07-19T16:11:05.940Z"
   },
   {
    "duration": 24,
    "start_time": "2022-07-19T16:11:05.951Z"
   },
   {
    "duration": 6,
    "start_time": "2022-07-19T16:11:05.976Z"
   },
   {
    "duration": 7,
    "start_time": "2022-07-19T16:11:05.984Z"
   },
   {
    "duration": 33,
    "start_time": "2022-07-19T16:11:05.993Z"
   },
   {
    "duration": 26,
    "start_time": "2022-07-19T16:11:06.028Z"
   },
   {
    "duration": 13,
    "start_time": "2022-07-19T16:11:06.055Z"
   },
   {
    "duration": 24,
    "start_time": "2022-07-19T16:11:06.071Z"
   },
   {
    "duration": 94,
    "start_time": "2022-07-19T16:11:06.096Z"
   },
   {
    "duration": 7,
    "start_time": "2022-07-19T16:11:06.192Z"
   },
   {
    "duration": 34,
    "start_time": "2022-07-19T16:11:06.200Z"
   },
   {
    "duration": 7,
    "start_time": "2022-07-19T16:11:09.142Z"
   },
   {
    "duration": 3,
    "start_time": "2022-07-19T16:11:39.969Z"
   },
   {
    "duration": 84,
    "start_time": "2022-07-19T16:11:39.975Z"
   },
   {
    "duration": 41,
    "start_time": "2022-07-19T16:11:40.061Z"
   },
   {
    "duration": 10,
    "start_time": "2022-07-19T16:11:40.104Z"
   },
   {
    "duration": 27,
    "start_time": "2022-07-19T16:11:40.116Z"
   },
   {
    "duration": 5,
    "start_time": "2022-07-19T16:11:40.145Z"
   },
   {
    "duration": 8,
    "start_time": "2022-07-19T16:11:40.151Z"
   },
   {
    "duration": 23,
    "start_time": "2022-07-19T16:11:40.160Z"
   },
   {
    "duration": 18,
    "start_time": "2022-07-19T16:11:40.185Z"
   },
   {
    "duration": 6,
    "start_time": "2022-07-19T16:11:40.204Z"
   },
   {
    "duration": 16,
    "start_time": "2022-07-19T16:11:40.213Z"
   },
   {
    "duration": 99,
    "start_time": "2022-07-19T16:11:40.230Z"
   },
   {
    "duration": 7,
    "start_time": "2022-07-19T16:11:40.330Z"
   },
   {
    "duration": 18,
    "start_time": "2022-07-19T16:11:40.338Z"
   },
   {
    "duration": 9,
    "start_time": "2022-07-19T16:11:40.357Z"
   },
   {
    "duration": 6,
    "start_time": "2022-07-19T16:11:40.368Z"
   },
   {
    "duration": 31,
    "start_time": "2022-07-19T16:11:40.376Z"
   },
   {
    "duration": 5,
    "start_time": "2022-07-19T16:11:40.408Z"
   },
   {
    "duration": 7,
    "start_time": "2022-07-19T16:11:40.414Z"
   },
   {
    "duration": 12,
    "start_time": "2022-07-19T16:11:40.422Z"
   },
   {
    "duration": 4,
    "start_time": "2022-07-19T16:11:40.436Z"
   },
   {
    "duration": 8,
    "start_time": "2022-07-19T16:11:40.441Z"
   },
   {
    "duration": 8,
    "start_time": "2022-07-19T16:11:40.451Z"
   },
   {
    "duration": 6,
    "start_time": "2022-07-19T16:11:44.353Z"
   },
   {
    "duration": 6,
    "start_time": "2022-07-19T16:13:30.462Z"
   },
   {
    "duration": 3,
    "start_time": "2022-07-19T16:13:37.808Z"
   },
   {
    "duration": 93,
    "start_time": "2022-07-19T16:13:37.813Z"
   },
   {
    "duration": 34,
    "start_time": "2022-07-19T16:13:37.907Z"
   },
   {
    "duration": 9,
    "start_time": "2022-07-19T16:13:37.943Z"
   },
   {
    "duration": 16,
    "start_time": "2022-07-19T16:13:37.955Z"
   },
   {
    "duration": 6,
    "start_time": "2022-07-19T16:13:37.972Z"
   },
   {
    "duration": 5,
    "start_time": "2022-07-19T16:13:37.979Z"
   },
   {
    "duration": 18,
    "start_time": "2022-07-19T16:13:37.986Z"
   },
   {
    "duration": 13,
    "start_time": "2022-07-19T16:13:38.006Z"
   },
   {
    "duration": 7,
    "start_time": "2022-07-19T16:13:38.020Z"
   },
   {
    "duration": 16,
    "start_time": "2022-07-19T16:13:38.029Z"
   },
   {
    "duration": 6,
    "start_time": "2022-07-19T16:13:40.176Z"
   },
   {
    "duration": 12,
    "start_time": "2022-07-19T16:14:18.148Z"
   },
   {
    "duration": 6,
    "start_time": "2022-07-19T16:15:03.634Z"
   },
   {
    "duration": 18,
    "start_time": "2022-07-19T16:23:41.172Z"
   },
   {
    "duration": 17,
    "start_time": "2022-07-19T16:25:20.831Z"
   },
   {
    "duration": 394,
    "start_time": "2022-07-19T16:55:55.726Z"
   },
   {
    "duration": 91,
    "start_time": "2022-07-19T16:55:57.603Z"
   },
   {
    "duration": 3,
    "start_time": "2022-07-19T16:59:37.843Z"
   },
   {
    "duration": 95,
    "start_time": "2022-07-19T16:59:37.850Z"
   },
   {
    "duration": 45,
    "start_time": "2022-07-19T16:59:37.947Z"
   },
   {
    "duration": 15,
    "start_time": "2022-07-19T16:59:41.577Z"
   },
   {
    "duration": 16,
    "start_time": "2022-07-19T17:01:33.737Z"
   },
   {
    "duration": 14,
    "start_time": "2022-07-19T17:02:36.269Z"
   },
   {
    "duration": 15,
    "start_time": "2022-07-19T17:02:37.819Z"
   },
   {
    "duration": 3,
    "start_time": "2022-07-19T17:09:30.609Z"
   },
   {
    "duration": 105,
    "start_time": "2022-07-19T17:09:30.614Z"
   },
   {
    "duration": 42,
    "start_time": "2022-07-19T17:09:30.721Z"
   },
   {
    "duration": 13,
    "start_time": "2022-07-19T17:09:30.764Z"
   },
   {
    "duration": 45,
    "start_time": "2022-07-19T17:09:30.779Z"
   },
   {
    "duration": 44,
    "start_time": "2022-07-19T17:09:30.826Z"
   },
   {
    "duration": 29,
    "start_time": "2022-07-19T17:09:34.980Z"
   },
   {
    "duration": 16,
    "start_time": "2022-07-19T17:13:55.447Z"
   },
   {
    "duration": 5,
    "start_time": "2022-07-19T17:17:35.056Z"
   },
   {
    "duration": 95,
    "start_time": "2022-07-19T17:23:05.443Z"
   },
   {
    "duration": 72,
    "start_time": "2022-07-19T17:24:46.433Z"
   },
   {
    "duration": 9,
    "start_time": "2022-07-19T17:24:54.339Z"
   },
   {
    "duration": 15,
    "start_time": "2022-07-19T17:24:57.877Z"
   },
   {
    "duration": 10,
    "start_time": "2022-07-19T17:29:51.421Z"
   },
   {
    "duration": 7,
    "start_time": "2022-07-19T17:35:37.704Z"
   },
   {
    "duration": 10,
    "start_time": "2022-07-19T17:35:56.575Z"
   },
   {
    "duration": 379,
    "start_time": "2022-07-19T17:43:01.064Z"
   },
   {
    "duration": 30,
    "start_time": "2022-07-19T17:43:15.698Z"
   },
   {
    "duration": 28,
    "start_time": "2022-07-19T17:44:58.351Z"
   },
   {
    "duration": 4,
    "start_time": "2022-07-19T17:45:07.233Z"
   },
   {
    "duration": 4,
    "start_time": "2022-07-19T17:45:24.086Z"
   },
   {
    "duration": 4,
    "start_time": "2022-07-19T17:45:35.424Z"
   },
   {
    "duration": 3,
    "start_time": "2022-07-19T17:46:01.636Z"
   },
   {
    "duration": 107,
    "start_time": "2022-07-19T17:46:01.643Z"
   },
   {
    "duration": 41,
    "start_time": "2022-07-19T17:46:01.752Z"
   },
   {
    "duration": 23,
    "start_time": "2022-07-19T17:46:01.795Z"
   },
   {
    "duration": 29,
    "start_time": "2022-07-19T17:46:01.820Z"
   },
   {
    "duration": 41,
    "start_time": "2022-07-19T17:46:01.851Z"
   },
   {
    "duration": 39,
    "start_time": "2022-07-19T17:46:01.894Z"
   },
   {
    "duration": 24,
    "start_time": "2022-07-19T17:46:01.935Z"
   },
   {
    "duration": 18,
    "start_time": "2022-07-19T17:46:01.960Z"
   },
   {
    "duration": 86,
    "start_time": "2022-07-19T17:46:01.979Z"
   },
   {
    "duration": 7,
    "start_time": "2022-07-19T17:46:02.067Z"
   },
   {
    "duration": 27,
    "start_time": "2022-07-19T17:46:02.076Z"
   },
   {
    "duration": 33,
    "start_time": "2022-07-19T17:46:02.105Z"
   },
   {
    "duration": 1180,
    "start_time": "2022-07-19T17:46:02.140Z"
   },
   {
    "duration": 32,
    "start_time": "2022-07-19T17:46:11.705Z"
   },
   {
    "duration": 30,
    "start_time": "2022-07-19T17:46:56.783Z"
   },
   {
    "duration": 4,
    "start_time": "2022-07-19T17:47:02.081Z"
   },
   {
    "duration": 15,
    "start_time": "2022-07-19T17:48:18.901Z"
   },
   {
    "duration": 3,
    "start_time": "2022-07-19T17:48:46.674Z"
   },
   {
    "duration": 97,
    "start_time": "2022-07-19T17:48:46.681Z"
   },
   {
    "duration": 39,
    "start_time": "2022-07-19T17:48:46.779Z"
   },
   {
    "duration": 13,
    "start_time": "2022-07-19T17:48:46.820Z"
   },
   {
    "duration": 33,
    "start_time": "2022-07-19T17:48:46.835Z"
   },
   {
    "duration": 13,
    "start_time": "2022-07-19T17:48:46.869Z"
   },
   {
    "duration": 29,
    "start_time": "2022-07-19T17:48:46.884Z"
   },
   {
    "duration": 13,
    "start_time": "2022-07-19T17:48:46.915Z"
   },
   {
    "duration": 5,
    "start_time": "2022-07-19T17:48:46.929Z"
   },
   {
    "duration": 84,
    "start_time": "2022-07-19T17:48:46.936Z"
   },
   {
    "duration": 6,
    "start_time": "2022-07-19T17:48:47.022Z"
   },
   {
    "duration": 16,
    "start_time": "2022-07-19T17:48:47.030Z"
   },
   {
    "duration": 8,
    "start_time": "2022-07-19T17:48:47.047Z"
   },
   {
    "duration": 32,
    "start_time": "2022-07-19T17:48:47.057Z"
   },
   {
    "duration": 14,
    "start_time": "2022-07-19T17:48:47.100Z"
   },
   {
    "duration": 29,
    "start_time": "2022-07-19T17:49:07.087Z"
   },
   {
    "duration": 775,
    "start_time": "2022-07-19T17:49:10.523Z"
   },
   {
    "duration": 3,
    "start_time": "2022-07-19T17:49:31.980Z"
   },
   {
    "duration": 95,
    "start_time": "2022-07-19T17:49:31.985Z"
   },
   {
    "duration": 40,
    "start_time": "2022-07-19T17:49:32.081Z"
   },
   {
    "duration": 13,
    "start_time": "2022-07-19T17:49:32.123Z"
   },
   {
    "duration": 24,
    "start_time": "2022-07-19T17:49:32.138Z"
   },
   {
    "duration": 11,
    "start_time": "2022-07-19T17:49:32.163Z"
   },
   {
    "duration": 31,
    "start_time": "2022-07-19T17:49:32.175Z"
   },
   {
    "duration": 13,
    "start_time": "2022-07-19T17:49:32.207Z"
   },
   {
    "duration": 4,
    "start_time": "2022-07-19T17:49:32.222Z"
   },
   {
    "duration": 82,
    "start_time": "2022-07-19T17:49:32.228Z"
   },
   {
    "duration": 6,
    "start_time": "2022-07-19T17:49:32.313Z"
   },
   {
    "duration": 18,
    "start_time": "2022-07-19T17:49:32.321Z"
   },
   {
    "duration": 8,
    "start_time": "2022-07-19T17:49:32.341Z"
   },
   {
    "duration": 31,
    "start_time": "2022-07-19T17:49:32.350Z"
   },
   {
    "duration": 32,
    "start_time": "2022-07-19T17:49:32.382Z"
   },
   {
    "duration": 3,
    "start_time": "2022-07-19T17:50:27.388Z"
   },
   {
    "duration": 115,
    "start_time": "2022-07-19T17:50:27.394Z"
   },
   {
    "duration": 39,
    "start_time": "2022-07-19T17:50:27.512Z"
   },
   {
    "duration": 14,
    "start_time": "2022-07-19T17:50:27.553Z"
   },
   {
    "duration": 37,
    "start_time": "2022-07-19T17:50:27.569Z"
   },
   {
    "duration": 18,
    "start_time": "2022-07-19T17:50:27.607Z"
   },
   {
    "duration": 43,
    "start_time": "2022-07-19T17:50:27.627Z"
   },
   {
    "duration": 13,
    "start_time": "2022-07-19T17:50:27.672Z"
   },
   {
    "duration": 5,
    "start_time": "2022-07-19T17:50:31.779Z"
   },
   {
    "duration": 18,
    "start_time": "2022-07-19T17:51:10.658Z"
   },
   {
    "duration": 74,
    "start_time": "2022-07-19T17:53:07.988Z"
   },
   {
    "duration": 12,
    "start_time": "2022-07-19T17:53:22.234Z"
   },
   {
    "duration": 2,
    "start_time": "2022-07-19T17:54:02.655Z"
   },
   {
    "duration": 94,
    "start_time": "2022-07-19T17:54:02.660Z"
   },
   {
    "duration": 41,
    "start_time": "2022-07-19T17:54:02.757Z"
   },
   {
    "duration": 23,
    "start_time": "2022-07-19T17:54:02.800Z"
   },
   {
    "duration": 29,
    "start_time": "2022-07-19T17:54:02.826Z"
   },
   {
    "duration": 38,
    "start_time": "2022-07-19T17:54:02.857Z"
   },
   {
    "duration": 32,
    "start_time": "2022-07-19T17:54:02.897Z"
   },
   {
    "duration": 16,
    "start_time": "2022-07-19T17:54:02.931Z"
   },
   {
    "duration": 11,
    "start_time": "2022-07-19T17:54:02.949Z"
   },
   {
    "duration": 12,
    "start_time": "2022-07-19T17:54:10.247Z"
   },
   {
    "duration": 16,
    "start_time": "2022-07-19T17:54:17.398Z"
   },
   {
    "duration": 14,
    "start_time": "2022-07-19T17:54:33.625Z"
   },
   {
    "duration": 71,
    "start_time": "2022-07-19T17:54:50.800Z"
   },
   {
    "duration": 17,
    "start_time": "2022-07-19T17:54:57.838Z"
   },
   {
    "duration": 11,
    "start_time": "2022-07-19T17:55:09.840Z"
   },
   {
    "duration": 22,
    "start_time": "2022-07-19T17:55:16.600Z"
   },
   {
    "duration": 2,
    "start_time": "2022-07-19T17:56:15.775Z"
   },
   {
    "duration": 91,
    "start_time": "2022-07-19T17:56:15.780Z"
   },
   {
    "duration": 40,
    "start_time": "2022-07-19T17:56:15.874Z"
   },
   {
    "duration": 14,
    "start_time": "2022-07-19T17:56:15.915Z"
   },
   {
    "duration": 18,
    "start_time": "2022-07-19T17:56:15.931Z"
   },
   {
    "duration": 17,
    "start_time": "2022-07-19T17:56:15.951Z"
   },
   {
    "duration": 40,
    "start_time": "2022-07-19T17:56:15.969Z"
   },
   {
    "duration": 21,
    "start_time": "2022-07-19T17:56:16.011Z"
   },
   {
    "duration": 6,
    "start_time": "2022-07-19T17:56:16.034Z"
   },
   {
    "duration": 97,
    "start_time": "2022-07-19T17:56:16.042Z"
   },
   {
    "duration": 6,
    "start_time": "2022-07-19T17:56:16.141Z"
   },
   {
    "duration": 13,
    "start_time": "2022-07-19T17:56:16.149Z"
   },
   {
    "duration": 9,
    "start_time": "2022-07-19T17:56:19.315Z"
   },
   {
    "duration": 3,
    "start_time": "2022-07-19T19:03:46.547Z"
   },
   {
    "duration": 100,
    "start_time": "2022-07-19T19:03:47.899Z"
   },
   {
    "duration": 59,
    "start_time": "2022-07-19T19:03:52.925Z"
   },
   {
    "duration": 15,
    "start_time": "2022-07-19T19:03:54.737Z"
   },
   {
    "duration": 20,
    "start_time": "2022-07-19T19:03:55.362Z"
   },
   {
    "duration": 9,
    "start_time": "2022-07-19T19:03:57.821Z"
   },
   {
    "duration": 32,
    "start_time": "2022-07-19T19:04:00.119Z"
   },
   {
    "duration": 22,
    "start_time": "2022-07-19T19:04:03.601Z"
   },
   {
    "duration": 4,
    "start_time": "2022-07-19T19:04:11.343Z"
   },
   {
    "duration": 77,
    "start_time": "2022-07-19T19:04:14.531Z"
   },
   {
    "duration": 6,
    "start_time": "2022-07-19T19:04:16.843Z"
   },
   {
    "duration": 11,
    "start_time": "2022-07-19T19:04:20.503Z"
   },
   {
    "duration": 9,
    "start_time": "2022-07-19T19:04:22.231Z"
   },
   {
    "duration": 13,
    "start_time": "2022-07-19T19:04:34.463Z"
   },
   {
    "duration": 6,
    "start_time": "2022-07-19T19:04:37.344Z"
   },
   {
    "duration": 5,
    "start_time": "2022-07-19T19:04:38.409Z"
   },
   {
    "duration": 9,
    "start_time": "2022-07-19T19:04:39.855Z"
   },
   {
    "duration": 6,
    "start_time": "2022-07-19T19:04:42.107Z"
   },
   {
    "duration": 1493,
    "start_time": "2022-07-19T19:10:16.692Z"
   },
   {
    "duration": 111,
    "start_time": "2022-07-19T19:10:29.043Z"
   },
   {
    "duration": 5,
    "start_time": "2022-07-19T19:11:42.914Z"
   },
   {
    "duration": 9,
    "start_time": "2022-07-19T19:12:05.925Z"
   },
   {
    "duration": 8,
    "start_time": "2022-07-19T19:12:15.653Z"
   },
   {
    "duration": 6,
    "start_time": "2022-07-19T19:12:32.136Z"
   },
   {
    "duration": 7,
    "start_time": "2022-07-19T19:12:45.154Z"
   },
   {
    "duration": 6,
    "start_time": "2022-07-19T19:13:07.515Z"
   },
   {
    "duration": 6,
    "start_time": "2022-07-19T19:13:24.408Z"
   },
   {
    "duration": 7,
    "start_time": "2022-07-19T19:13:50.843Z"
   },
   {
    "duration": 6,
    "start_time": "2022-07-19T19:20:32.112Z"
   },
   {
    "duration": 56,
    "start_time": "2022-07-19T19:20:39.962Z"
   },
   {
    "duration": 6,
    "start_time": "2022-07-19T19:23:30.058Z"
   },
   {
    "duration": 7,
    "start_time": "2022-07-19T19:23:45.601Z"
   },
   {
    "duration": 12,
    "start_time": "2022-07-19T19:24:00.420Z"
   },
   {
    "duration": 3,
    "start_time": "2022-07-19T19:24:42.443Z"
   },
   {
    "duration": 84,
    "start_time": "2022-07-19T19:24:42.454Z"
   },
   {
    "duration": 39,
    "start_time": "2022-07-19T19:24:42.540Z"
   },
   {
    "duration": 13,
    "start_time": "2022-07-19T19:24:42.580Z"
   },
   {
    "duration": 21,
    "start_time": "2022-07-19T19:24:42.595Z"
   },
   {
    "duration": 9,
    "start_time": "2022-07-19T19:24:42.617Z"
   },
   {
    "duration": 41,
    "start_time": "2022-07-19T19:24:42.628Z"
   },
   {
    "duration": 13,
    "start_time": "2022-07-19T19:24:42.671Z"
   },
   {
    "duration": 17,
    "start_time": "2022-07-19T19:24:42.685Z"
   },
   {
    "duration": 82,
    "start_time": "2022-07-19T19:24:42.703Z"
   },
   {
    "duration": 6,
    "start_time": "2022-07-19T19:24:42.788Z"
   },
   {
    "duration": 44,
    "start_time": "2022-07-19T19:24:42.795Z"
   },
   {
    "duration": 9,
    "start_time": "2022-07-19T19:24:42.841Z"
   },
   {
    "duration": 7,
    "start_time": "2022-07-19T19:24:53.259Z"
   },
   {
    "duration": 12,
    "start_time": "2022-07-19T19:24:54.832Z"
   },
   {
    "duration": 6,
    "start_time": "2022-07-19T19:24:56.500Z"
   },
   {
    "duration": 6,
    "start_time": "2022-07-19T19:24:57.980Z"
   },
   {
    "duration": 10,
    "start_time": "2022-07-19T19:24:59.033Z"
   },
   {
    "duration": 7,
    "start_time": "2022-07-19T19:24:59.777Z"
   },
   {
    "duration": 12,
    "start_time": "2022-07-19T19:25:04.304Z"
   },
   {
    "duration": 9,
    "start_time": "2022-07-19T19:25:27.627Z"
   },
   {
    "duration": 14,
    "start_time": "2022-07-19T19:25:34.101Z"
   },
   {
    "duration": 9,
    "start_time": "2022-07-19T19:30:40.469Z"
   },
   {
    "duration": 10,
    "start_time": "2022-07-19T19:39:31.787Z"
   },
   {
    "duration": 5,
    "start_time": "2022-07-19T19:47:13.558Z"
   },
   {
    "duration": 14,
    "start_time": "2022-07-19T19:47:53.750Z"
   },
   {
    "duration": 16,
    "start_time": "2022-07-19T19:48:03.185Z"
   },
   {
    "duration": 12,
    "start_time": "2022-07-19T19:48:18.296Z"
   },
   {
    "duration": 3,
    "start_time": "2022-07-19T19:51:57.111Z"
   },
   {
    "duration": 113,
    "start_time": "2022-07-19T19:51:57.116Z"
   },
   {
    "duration": 41,
    "start_time": "2022-07-19T19:51:57.231Z"
   },
   {
    "duration": 19,
    "start_time": "2022-07-19T19:51:57.274Z"
   },
   {
    "duration": 29,
    "start_time": "2022-07-19T19:51:57.296Z"
   },
   {
    "duration": 11,
    "start_time": "2022-07-19T19:51:57.327Z"
   },
   {
    "duration": 33,
    "start_time": "2022-07-19T19:51:57.340Z"
   },
   {
    "duration": 14,
    "start_time": "2022-07-19T19:51:57.374Z"
   },
   {
    "duration": 5,
    "start_time": "2022-07-19T19:51:57.400Z"
   },
   {
    "duration": 126,
    "start_time": "2022-07-19T19:51:57.406Z"
   },
   {
    "duration": 7,
    "start_time": "2022-07-19T19:51:57.534Z"
   },
   {
    "duration": 18,
    "start_time": "2022-07-19T19:51:57.542Z"
   },
   {
    "duration": 8,
    "start_time": "2022-07-19T19:51:57.562Z"
   },
   {
    "duration": 10,
    "start_time": "2022-07-19T19:51:57.571Z"
   },
   {
    "duration": 6,
    "start_time": "2022-07-19T19:51:57.601Z"
   },
   {
    "duration": 18,
    "start_time": "2022-07-19T19:51:57.608Z"
   },
   {
    "duration": 11,
    "start_time": "2022-07-19T19:51:57.628Z"
   },
   {
    "duration": 15,
    "start_time": "2022-07-19T19:51:57.641Z"
   },
   {
    "duration": 46,
    "start_time": "2022-07-19T19:51:57.658Z"
   },
   {
    "duration": 5,
    "start_time": "2022-07-19T19:51:57.707Z"
   },
   {
    "duration": 6,
    "start_time": "2022-07-19T19:52:02.671Z"
   },
   {
    "duration": 195,
    "start_time": "2022-07-19T19:55:13.276Z"
   },
   {
    "duration": 7,
    "start_time": "2022-07-19T19:55:36.857Z"
   },
   {
    "duration": 13,
    "start_time": "2022-07-19T19:55:54.970Z"
   },
   {
    "duration": 18,
    "start_time": "2022-07-19T19:56:06.572Z"
   },
   {
    "duration": 10,
    "start_time": "2022-07-19T19:56:15.977Z"
   },
   {
    "duration": 20,
    "start_time": "2022-07-19T19:56:29.086Z"
   },
   {
    "duration": 5,
    "start_time": "2022-07-19T20:04:33.427Z"
   },
   {
    "duration": 3,
    "start_time": "2022-07-19T20:04:36.164Z"
   },
   {
    "duration": 10,
    "start_time": "2022-07-19T20:04:37.574Z"
   },
   {
    "duration": 62,
    "start_time": "2022-07-19T20:07:31.321Z"
   },
   {
    "duration": 291,
    "start_time": "2022-07-19T20:07:44.890Z"
   },
   {
    "duration": 176,
    "start_time": "2022-07-19T20:07:50.913Z"
   },
   {
    "duration": 807,
    "start_time": "2022-07-20T05:52:49.491Z"
   },
   {
    "duration": 207,
    "start_time": "2022-07-20T05:52:50.301Z"
   },
   {
    "duration": 72,
    "start_time": "2022-07-20T05:52:50.510Z"
   },
   {
    "duration": 18,
    "start_time": "2022-07-20T05:52:50.585Z"
   },
   {
    "duration": 21,
    "start_time": "2022-07-20T05:52:50.605Z"
   },
   {
    "duration": 8,
    "start_time": "2022-07-20T05:52:50.628Z"
   },
   {
    "duration": 27,
    "start_time": "2022-07-20T05:52:50.638Z"
   },
   {
    "duration": 14,
    "start_time": "2022-07-20T05:52:50.667Z"
   },
   {
    "duration": 4,
    "start_time": "2022-07-20T05:52:50.683Z"
   },
   {
    "duration": 107,
    "start_time": "2022-07-20T05:52:50.689Z"
   },
   {
    "duration": 7,
    "start_time": "2022-07-20T05:52:50.798Z"
   },
   {
    "duration": 35,
    "start_time": "2022-07-20T05:52:50.807Z"
   },
   {
    "duration": 15,
    "start_time": "2022-07-20T05:52:50.844Z"
   },
   {
    "duration": 18,
    "start_time": "2022-07-20T05:52:50.861Z"
   },
   {
    "duration": 12,
    "start_time": "2022-07-20T05:52:50.881Z"
   },
   {
    "duration": 16,
    "start_time": "2022-07-20T05:52:50.895Z"
   },
   {
    "duration": 15,
    "start_time": "2022-07-20T05:52:50.913Z"
   },
   {
    "duration": 16,
    "start_time": "2022-07-20T05:52:50.929Z"
   },
   {
    "duration": 25,
    "start_time": "2022-07-20T05:52:53.557Z"
   },
   {
    "duration": 15,
    "start_time": "2022-07-20T05:54:27.544Z"
   },
   {
    "duration": 2,
    "start_time": "2022-07-20T05:55:37.885Z"
   },
   {
    "duration": 99,
    "start_time": "2022-07-20T05:55:37.889Z"
   },
   {
    "duration": 41,
    "start_time": "2022-07-20T05:55:37.990Z"
   },
   {
    "duration": 14,
    "start_time": "2022-07-20T05:55:38.032Z"
   },
   {
    "duration": 17,
    "start_time": "2022-07-20T05:55:38.048Z"
   },
   {
    "duration": 7,
    "start_time": "2022-07-20T05:55:38.067Z"
   },
   {
    "duration": 50,
    "start_time": "2022-07-20T05:55:38.076Z"
   },
   {
    "duration": 15,
    "start_time": "2022-07-20T05:55:38.128Z"
   },
   {
    "duration": 5,
    "start_time": "2022-07-20T05:55:38.144Z"
   },
   {
    "duration": 96,
    "start_time": "2022-07-20T05:55:38.151Z"
   },
   {
    "duration": 7,
    "start_time": "2022-07-20T05:55:38.250Z"
   },
   {
    "duration": 17,
    "start_time": "2022-07-20T05:55:38.258Z"
   },
   {
    "duration": 11,
    "start_time": "2022-07-20T05:55:38.277Z"
   },
   {
    "duration": 13,
    "start_time": "2022-07-20T05:55:38.290Z"
   },
   {
    "duration": 22,
    "start_time": "2022-07-20T05:55:38.305Z"
   },
   {
    "duration": 15,
    "start_time": "2022-07-20T05:55:38.329Z"
   },
   {
    "duration": 12,
    "start_time": "2022-07-20T05:55:38.346Z"
   },
   {
    "duration": 22,
    "start_time": "2022-07-20T05:55:38.359Z"
   },
   {
    "duration": 23,
    "start_time": "2022-07-20T05:55:38.382Z"
   },
   {
    "duration": 20,
    "start_time": "2022-07-20T05:55:38.407Z"
   },
   {
    "duration": 10,
    "start_time": "2022-07-20T05:55:38.428Z"
   },
   {
    "duration": 10,
    "start_time": "2022-07-20T05:55:38.439Z"
   },
   {
    "duration": 13,
    "start_time": "2022-07-20T05:55:38.450Z"
   },
   {
    "duration": 161,
    "start_time": "2022-07-20T05:55:38.464Z"
   },
   {
    "duration": 37,
    "start_time": "2022-07-20T05:55:38.627Z"
   },
   {
    "duration": 24,
    "start_time": "2022-07-20T05:55:38.665Z"
   },
   {
    "duration": 58,
    "start_time": "2022-07-20T05:55:38.691Z"
   },
   {
    "duration": 20,
    "start_time": "2022-07-20T05:55:38.750Z"
   },
   {
    "duration": 25,
    "start_time": "2022-07-20T05:55:38.775Z"
   },
   {
    "duration": 33,
    "start_time": "2022-07-20T05:55:38.802Z"
   },
   {
    "duration": 5,
    "start_time": "2022-07-20T05:55:38.837Z"
   },
   {
    "duration": 3,
    "start_time": "2022-07-20T05:58:28.034Z"
   },
   {
    "duration": 103,
    "start_time": "2022-07-20T05:58:28.040Z"
   },
   {
    "duration": 42,
    "start_time": "2022-07-20T05:58:28.144Z"
   },
   {
    "duration": 15,
    "start_time": "2022-07-20T05:58:28.188Z"
   },
   {
    "duration": 21,
    "start_time": "2022-07-20T05:58:28.204Z"
   },
   {
    "duration": 13,
    "start_time": "2022-07-20T05:58:28.226Z"
   },
   {
    "duration": 29,
    "start_time": "2022-07-20T05:58:28.240Z"
   },
   {
    "duration": 16,
    "start_time": "2022-07-20T05:58:28.271Z"
   },
   {
    "duration": 4,
    "start_time": "2022-07-20T05:58:28.291Z"
   },
   {
    "duration": 79,
    "start_time": "2022-07-20T05:58:28.325Z"
   },
   {
    "duration": 23,
    "start_time": "2022-07-20T05:58:28.406Z"
   },
   {
    "duration": 14,
    "start_time": "2022-07-20T05:58:28.430Z"
   },
   {
    "duration": 11,
    "start_time": "2022-07-20T05:58:28.446Z"
   },
   {
    "duration": 10,
    "start_time": "2022-07-20T05:58:28.459Z"
   },
   {
    "duration": 8,
    "start_time": "2022-07-20T05:58:28.471Z"
   },
   {
    "duration": 17,
    "start_time": "2022-07-20T05:58:28.481Z"
   },
   {
    "duration": 28,
    "start_time": "2022-07-20T05:58:28.499Z"
   },
   {
    "duration": 16,
    "start_time": "2022-07-20T05:58:28.529Z"
   },
   {
    "duration": 31,
    "start_time": "2022-07-20T05:58:28.546Z"
   },
   {
    "duration": 8,
    "start_time": "2022-07-20T05:58:28.578Z"
   },
   {
    "duration": 7,
    "start_time": "2022-07-20T05:58:28.588Z"
   },
   {
    "duration": 8,
    "start_time": "2022-07-20T05:58:28.596Z"
   },
   {
    "duration": 22,
    "start_time": "2022-07-20T05:58:28.606Z"
   },
   {
    "duration": 138,
    "start_time": "2022-07-20T05:58:28.630Z"
   },
   {
    "duration": 15,
    "start_time": "2022-07-20T05:58:31.596Z"
   },
   {
    "duration": 9,
    "start_time": "2022-07-20T05:59:12.696Z"
   },
   {
    "duration": 40,
    "start_time": "2022-07-20T06:00:24.929Z"
   },
   {
    "duration": 4,
    "start_time": "2022-07-20T06:00:43.269Z"
   },
   {
    "duration": 5,
    "start_time": "2022-07-20T06:01:37.796Z"
   },
   {
    "duration": 15,
    "start_time": "2022-07-20T06:01:59.765Z"
   },
   {
    "duration": 42,
    "start_time": "2022-07-20T06:02:07.761Z"
   },
   {
    "duration": 37,
    "start_time": "2022-07-20T06:05:17.940Z"
   },
   {
    "duration": 3,
    "start_time": "2022-07-20T06:07:57.703Z"
   },
   {
    "duration": 51,
    "start_time": "2022-07-20T06:09:00.162Z"
   },
   {
    "duration": 24,
    "start_time": "2022-07-20T06:18:13.392Z"
   },
   {
    "duration": 48,
    "start_time": "2022-07-20T06:21:11.244Z"
   },
   {
    "duration": 14,
    "start_time": "2022-07-20T06:21:18.637Z"
   },
   {
    "duration": 153,
    "start_time": "2022-07-20T06:22:11.097Z"
   },
   {
    "duration": 190,
    "start_time": "2022-07-20T06:25:45.137Z"
   },
   {
    "duration": 216,
    "start_time": "2022-07-20T06:25:52.965Z"
   },
   {
    "duration": 147,
    "start_time": "2022-07-20T06:26:22.518Z"
   },
   {
    "duration": 42,
    "start_time": "2022-07-20T06:27:14.577Z"
   },
   {
    "duration": 37,
    "start_time": "2022-07-20T06:29:45.247Z"
   },
   {
    "duration": 27,
    "start_time": "2022-07-20T06:30:14.683Z"
   },
   {
    "duration": 36,
    "start_time": "2022-07-20T06:34:49.151Z"
   },
   {
    "duration": 35,
    "start_time": "2022-07-20T06:39:35.901Z"
   },
   {
    "duration": 19,
    "start_time": "2022-07-20T06:41:18.362Z"
   },
   {
    "duration": 18,
    "start_time": "2022-07-20T06:42:19.900Z"
   },
   {
    "duration": 20,
    "start_time": "2022-07-20T06:46:02.661Z"
   },
   {
    "duration": 142,
    "start_time": "2022-07-20T06:49:49.591Z"
   },
   {
    "duration": 150,
    "start_time": "2022-07-20T06:50:24.032Z"
   },
   {
    "duration": 13,
    "start_time": "2022-07-20T06:52:30.317Z"
   },
   {
    "duration": 168,
    "start_time": "2022-07-20T06:53:26.228Z"
   },
   {
    "duration": 128,
    "start_time": "2022-07-20T06:56:06.889Z"
   },
   {
    "duration": 133,
    "start_time": "2022-07-20T07:22:42.448Z"
   },
   {
    "duration": 9,
    "start_time": "2022-07-20T07:23:43.483Z"
   },
   {
    "duration": 15,
    "start_time": "2022-07-20T07:29:28.582Z"
   },
   {
    "duration": 15,
    "start_time": "2022-07-20T07:29:43.735Z"
   },
   {
    "duration": 7,
    "start_time": "2022-07-20T07:30:15.858Z"
   },
   {
    "duration": 3,
    "start_time": "2022-07-20T07:32:19.566Z"
   },
   {
    "duration": 101,
    "start_time": "2022-07-20T07:32:19.573Z"
   },
   {
    "duration": 43,
    "start_time": "2022-07-20T07:32:19.676Z"
   },
   {
    "duration": 14,
    "start_time": "2022-07-20T07:32:19.721Z"
   },
   {
    "duration": 29,
    "start_time": "2022-07-20T07:32:19.737Z"
   },
   {
    "duration": 15,
    "start_time": "2022-07-20T07:32:19.769Z"
   },
   {
    "duration": 28,
    "start_time": "2022-07-20T07:32:19.785Z"
   },
   {
    "duration": 18,
    "start_time": "2022-07-20T07:32:19.814Z"
   },
   {
    "duration": 6,
    "start_time": "2022-07-20T07:32:19.833Z"
   },
   {
    "duration": 89,
    "start_time": "2022-07-20T07:32:19.840Z"
   },
   {
    "duration": 6,
    "start_time": "2022-07-20T07:32:19.931Z"
   },
   {
    "duration": 16,
    "start_time": "2022-07-20T07:32:19.939Z"
   },
   {
    "duration": 8,
    "start_time": "2022-07-20T07:32:19.956Z"
   },
   {
    "duration": 12,
    "start_time": "2022-07-20T07:32:19.965Z"
   },
   {
    "duration": 6,
    "start_time": "2022-07-20T07:32:19.979Z"
   },
   {
    "duration": 16,
    "start_time": "2022-07-20T07:32:19.986Z"
   },
   {
    "duration": 12,
    "start_time": "2022-07-20T07:32:20.024Z"
   },
   {
    "duration": 17,
    "start_time": "2022-07-20T07:32:20.038Z"
   },
   {
    "duration": 30,
    "start_time": "2022-07-20T07:32:20.057Z"
   },
   {
    "duration": 15,
    "start_time": "2022-07-20T07:32:20.088Z"
   },
   {
    "duration": 5,
    "start_time": "2022-07-20T07:32:20.104Z"
   },
   {
    "duration": 3,
    "start_time": "2022-07-20T07:32:20.123Z"
   },
   {
    "duration": 12,
    "start_time": "2022-07-20T07:32:20.128Z"
   },
   {
    "duration": 138,
    "start_time": "2022-07-20T07:32:20.141Z"
   },
   {
    "duration": 4,
    "start_time": "2022-07-20T07:32:20.280Z"
   },
   {
    "duration": 37,
    "start_time": "2022-07-20T07:32:20.286Z"
   },
   {
    "duration": 35,
    "start_time": "2022-07-20T07:32:20.325Z"
   },
   {
    "duration": 170,
    "start_time": "2022-07-20T07:32:20.361Z"
   },
   {
    "duration": 21,
    "start_time": "2022-07-20T07:32:20.534Z"
   },
   {
    "duration": 21,
    "start_time": "2022-07-20T07:32:20.557Z"
   },
   {
    "duration": 153,
    "start_time": "2022-07-20T07:32:20.580Z"
   },
   {
    "duration": 40,
    "start_time": "2022-07-20T07:32:20.735Z"
   },
   {
    "duration": 3,
    "start_time": "2022-07-20T07:32:20.777Z"
   },
   {
    "duration": 71,
    "start_time": "2022-07-20T07:34:30.590Z"
   },
   {
    "duration": 18,
    "start_time": "2022-07-20T07:34:33.530Z"
   },
   {
    "duration": 14,
    "start_time": "2022-07-20T07:34:44.063Z"
   },
   {
    "duration": 3,
    "start_time": "2022-07-20T07:41:36.508Z"
   },
   {
    "duration": 104,
    "start_time": "2022-07-20T07:41:36.513Z"
   },
   {
    "duration": 41,
    "start_time": "2022-07-20T07:41:36.619Z"
   },
   {
    "duration": 15,
    "start_time": "2022-07-20T07:41:36.662Z"
   },
   {
    "duration": 39,
    "start_time": "2022-07-20T07:41:36.679Z"
   },
   {
    "duration": 17,
    "start_time": "2022-07-20T07:41:36.720Z"
   },
   {
    "duration": 32,
    "start_time": "2022-07-20T07:41:36.738Z"
   },
   {
    "duration": 15,
    "start_time": "2022-07-20T07:41:36.772Z"
   },
   {
    "duration": 6,
    "start_time": "2022-07-20T07:41:36.789Z"
   },
   {
    "duration": 100,
    "start_time": "2022-07-20T07:41:36.796Z"
   },
   {
    "duration": 7,
    "start_time": "2022-07-20T07:41:36.898Z"
   },
   {
    "duration": 28,
    "start_time": "2022-07-20T07:41:36.906Z"
   },
   {
    "duration": 14,
    "start_time": "2022-07-20T07:41:36.936Z"
   },
   {
    "duration": 21,
    "start_time": "2022-07-20T07:41:36.952Z"
   },
   {
    "duration": 6,
    "start_time": "2022-07-20T07:41:36.976Z"
   },
   {
    "duration": 19,
    "start_time": "2022-07-20T07:41:36.984Z"
   },
   {
    "duration": 19,
    "start_time": "2022-07-20T07:41:37.005Z"
   },
   {
    "duration": 35,
    "start_time": "2022-07-20T07:41:37.025Z"
   },
   {
    "duration": 30,
    "start_time": "2022-07-20T07:41:37.062Z"
   },
   {
    "duration": 7,
    "start_time": "2022-07-20T07:41:37.095Z"
   },
   {
    "duration": 7,
    "start_time": "2022-07-20T07:41:37.104Z"
   },
   {
    "duration": 24,
    "start_time": "2022-07-20T07:41:37.112Z"
   },
   {
    "duration": 8,
    "start_time": "2022-07-20T07:41:37.137Z"
   },
   {
    "duration": 13,
    "start_time": "2022-07-20T07:41:37.147Z"
   },
   {
    "duration": 189,
    "start_time": "2022-07-20T07:41:37.162Z"
   },
   {
    "duration": 5,
    "start_time": "2022-07-20T07:41:37.353Z"
   },
   {
    "duration": 50,
    "start_time": "2022-07-20T07:41:37.360Z"
   },
   {
    "duration": 57,
    "start_time": "2022-07-20T07:41:37.412Z"
   },
   {
    "duration": 256,
    "start_time": "2022-07-20T07:41:37.473Z"
   },
   {
    "duration": 20,
    "start_time": "2022-07-20T07:41:37.730Z"
   },
   {
    "duration": 23,
    "start_time": "2022-07-20T07:41:37.751Z"
   },
   {
    "duration": 146,
    "start_time": "2022-07-20T07:41:37.776Z"
   },
   {
    "duration": 40,
    "start_time": "2022-07-20T07:41:37.924Z"
   },
   {
    "duration": 38,
    "start_time": "2022-07-20T07:41:37.966Z"
   },
   {
    "duration": 19,
    "start_time": "2022-07-20T07:41:38.006Z"
   },
   {
    "duration": 39,
    "start_time": "2022-07-20T07:42:48.535Z"
   },
   {
    "duration": 122,
    "start_time": "2022-07-20T07:44:19.574Z"
   },
   {
    "duration": 29,
    "start_time": "2022-07-20T07:44:39.961Z"
   },
   {
    "duration": 8,
    "start_time": "2022-07-20T07:45:01.335Z"
   },
   {
    "duration": 8,
    "start_time": "2022-07-20T07:46:13.843Z"
   },
   {
    "duration": 19,
    "start_time": "2022-07-20T07:48:07.246Z"
   },
   {
    "duration": 14,
    "start_time": "2022-07-20T07:48:16.279Z"
   },
   {
    "duration": 37,
    "start_time": "2022-07-20T07:48:21.254Z"
   },
   {
    "duration": 10,
    "start_time": "2022-07-20T07:49:46.857Z"
   },
   {
    "duration": 89,
    "start_time": "2022-07-20T07:49:57.464Z"
   },
   {
    "duration": 143,
    "start_time": "2022-07-20T07:54:58.539Z"
   },
   {
    "duration": 152,
    "start_time": "2022-07-20T08:07:46.715Z"
   },
   {
    "duration": 42,
    "start_time": "2022-07-20T08:08:26.276Z"
   },
   {
    "duration": 36,
    "start_time": "2022-07-20T08:11:10.149Z"
   },
   {
    "duration": 36,
    "start_time": "2022-07-20T08:11:29.596Z"
   },
   {
    "duration": 3,
    "start_time": "2022-07-20T08:12:04.846Z"
   },
   {
    "duration": 97,
    "start_time": "2022-07-20T08:12:04.851Z"
   },
   {
    "duration": 41,
    "start_time": "2022-07-20T08:12:04.950Z"
   },
   {
    "duration": 14,
    "start_time": "2022-07-20T08:12:04.993Z"
   },
   {
    "duration": 19,
    "start_time": "2022-07-20T08:12:05.010Z"
   },
   {
    "duration": 11,
    "start_time": "2022-07-20T08:12:05.030Z"
   },
   {
    "duration": 33,
    "start_time": "2022-07-20T08:12:05.043Z"
   },
   {
    "duration": 16,
    "start_time": "2022-07-20T08:12:05.077Z"
   },
   {
    "duration": 6,
    "start_time": "2022-07-20T08:12:05.095Z"
   },
   {
    "duration": 98,
    "start_time": "2022-07-20T08:12:05.103Z"
   },
   {
    "duration": 8,
    "start_time": "2022-07-20T08:12:05.203Z"
   },
   {
    "duration": 23,
    "start_time": "2022-07-20T08:12:05.213Z"
   },
   {
    "duration": 12,
    "start_time": "2022-07-20T08:12:05.238Z"
   },
   {
    "duration": 15,
    "start_time": "2022-07-20T08:12:05.253Z"
   },
   {
    "duration": 10,
    "start_time": "2022-07-20T08:12:05.269Z"
   },
   {
    "duration": 23,
    "start_time": "2022-07-20T08:12:05.280Z"
   },
   {
    "duration": 22,
    "start_time": "2022-07-20T08:12:05.305Z"
   },
   {
    "duration": 17,
    "start_time": "2022-07-20T08:12:05.328Z"
   },
   {
    "duration": 26,
    "start_time": "2022-07-20T08:12:05.347Z"
   },
   {
    "duration": 16,
    "start_time": "2022-07-20T08:12:05.375Z"
   },
   {
    "duration": 9,
    "start_time": "2022-07-20T08:12:05.393Z"
   },
   {
    "duration": 5,
    "start_time": "2022-07-20T08:12:05.404Z"
   },
   {
    "duration": 14,
    "start_time": "2022-07-20T08:12:05.411Z"
   },
   {
    "duration": 19,
    "start_time": "2022-07-20T08:12:05.426Z"
   },
   {
    "duration": 142,
    "start_time": "2022-07-20T08:12:05.447Z"
   },
   {
    "duration": 4,
    "start_time": "2022-07-20T08:12:05.591Z"
   },
   {
    "duration": 36,
    "start_time": "2022-07-20T08:12:05.596Z"
   },
   {
    "duration": 33,
    "start_time": "2022-07-20T08:12:05.634Z"
   },
   {
    "duration": 158,
    "start_time": "2022-07-20T08:12:05.669Z"
   },
   {
    "duration": 19,
    "start_time": "2022-07-20T08:12:05.829Z"
   },
   {
    "duration": 22,
    "start_time": "2022-07-20T08:12:05.849Z"
   },
   {
    "duration": 179,
    "start_time": "2022-07-20T08:12:05.872Z"
   },
   {
    "duration": 39,
    "start_time": "2022-07-20T08:12:06.053Z"
   },
   {
    "duration": 56,
    "start_time": "2022-07-20T08:12:06.093Z"
   },
   {
    "duration": 106,
    "start_time": "2022-07-20T08:12:06.150Z"
   },
   {
    "duration": 125,
    "start_time": "2022-07-20T08:12:06.258Z"
   },
   {
    "duration": 44,
    "start_time": "2022-07-20T08:12:06.385Z"
   },
   {
    "duration": 3,
    "start_time": "2022-07-20T08:12:06.430Z"
   },
   {
    "duration": 5,
    "start_time": "2022-07-20T08:13:59.681Z"
   },
   {
    "duration": 204,
    "start_time": "2022-07-20T08:16:07.830Z"
   },
   {
    "duration": 10,
    "start_time": "2022-07-20T08:16:45.068Z"
   },
   {
    "duration": 37,
    "start_time": "2022-07-20T08:17:20.150Z"
   },
   {
    "duration": 4,
    "start_time": "2022-07-20T08:23:50.507Z"
   },
   {
    "duration": 142,
    "start_time": "2022-07-20T08:24:33.049Z"
   },
   {
    "duration": 9,
    "start_time": "2022-07-20T08:25:27.517Z"
   },
   {
    "duration": 172,
    "start_time": "2022-07-20T08:25:45.434Z"
   },
   {
    "duration": 179,
    "start_time": "2022-07-20T08:25:53.660Z"
   },
   {
    "duration": 38,
    "start_time": "2022-07-20T08:33:20.803Z"
   },
   {
    "duration": 71,
    "start_time": "2022-07-20T08:33:29.290Z"
   },
   {
    "duration": 47,
    "start_time": "2022-07-20T08:33:46.186Z"
   },
   {
    "duration": 39,
    "start_time": "2022-07-20T08:33:57.356Z"
   },
   {
    "duration": 729,
    "start_time": "2022-07-20T08:38:46.266Z"
   },
   {
    "duration": 1052,
    "start_time": "2022-07-20T08:39:28.924Z"
   },
   {
    "duration": 3980,
    "start_time": "2022-07-20T08:39:40.192Z"
   },
   {
    "duration": 736,
    "start_time": "2022-07-20T08:40:18.724Z"
   },
   {
    "duration": 9,
    "start_time": "2022-07-20T08:40:48.668Z"
   },
   {
    "duration": 50,
    "start_time": "2022-07-20T08:41:16.627Z"
   },
   {
    "duration": 26,
    "start_time": "2022-07-20T08:41:22.609Z"
   },
   {
    "duration": 799,
    "start_time": "2022-07-20T08:43:46.690Z"
   },
   {
    "duration": 23,
    "start_time": "2022-07-20T08:49:46.241Z"
   },
   {
    "duration": 11,
    "start_time": "2022-07-20T08:50:27.449Z"
   },
   {
    "duration": 1197,
    "start_time": "2022-07-20T08:55:30.974Z"
   },
   {
    "duration": 22,
    "start_time": "2022-07-20T08:57:17.898Z"
   },
   {
    "duration": 21,
    "start_time": "2022-07-20T08:59:47.806Z"
   },
   {
    "duration": 27,
    "start_time": "2022-07-20T08:59:57.550Z"
   },
   {
    "duration": 173,
    "start_time": "2022-07-20T09:00:48.170Z"
   },
   {
    "duration": 12,
    "start_time": "2022-07-20T09:01:16.279Z"
   },
   {
    "duration": 1171,
    "start_time": "2022-07-20T09:02:44.371Z"
   },
   {
    "duration": 143,
    "start_time": "2022-07-20T09:03:19.614Z"
   },
   {
    "duration": 1226,
    "start_time": "2022-07-20T09:05:04.082Z"
   },
   {
    "duration": 25,
    "start_time": "2022-07-20T09:07:55.617Z"
   },
   {
    "duration": 1811,
    "start_time": "2022-07-20T09:10:00.885Z"
   },
   {
    "duration": 775,
    "start_time": "2022-07-20T09:10:24.639Z"
   },
   {
    "duration": 4,
    "start_time": "2022-07-20T09:12:37.014Z"
   },
   {
    "duration": 729,
    "start_time": "2022-07-20T09:13:15.245Z"
   },
   {
    "duration": 17,
    "start_time": "2022-07-20T09:17:26.946Z"
   },
   {
    "duration": 827,
    "start_time": "2022-07-20T09:18:59.083Z"
   },
   {
    "duration": 20,
    "start_time": "2022-07-20T09:20:15.790Z"
   },
   {
    "duration": 24,
    "start_time": "2022-07-20T09:20:29.656Z"
   },
   {
    "duration": 23,
    "start_time": "2022-07-20T09:22:11.105Z"
   },
   {
    "duration": 29,
    "start_time": "2022-07-20T09:22:21.685Z"
   },
   {
    "duration": 57,
    "start_time": "2022-07-20T09:22:29.980Z"
   },
   {
    "duration": 606,
    "start_time": "2022-07-20T09:22:36.156Z"
   },
   {
    "duration": 3,
    "start_time": "2022-07-20T09:23:23.763Z"
   },
   {
    "duration": 104,
    "start_time": "2022-07-20T09:23:23.768Z"
   },
   {
    "duration": 41,
    "start_time": "2022-07-20T09:23:23.874Z"
   },
   {
    "duration": 15,
    "start_time": "2022-07-20T09:23:23.917Z"
   },
   {
    "duration": 20,
    "start_time": "2022-07-20T09:23:23.934Z"
   },
   {
    "duration": 10,
    "start_time": "2022-07-20T09:23:23.957Z"
   },
   {
    "duration": 56,
    "start_time": "2022-07-20T09:23:23.969Z"
   },
   {
    "duration": 16,
    "start_time": "2022-07-20T09:23:24.027Z"
   },
   {
    "duration": 5,
    "start_time": "2022-07-20T09:23:24.045Z"
   },
   {
    "duration": 134,
    "start_time": "2022-07-20T09:23:24.052Z"
   },
   {
    "duration": 8,
    "start_time": "2022-07-20T09:23:24.189Z"
   },
   {
    "duration": 25,
    "start_time": "2022-07-20T09:23:24.199Z"
   },
   {
    "duration": 9,
    "start_time": "2022-07-20T09:23:24.226Z"
   },
   {
    "duration": 10,
    "start_time": "2022-07-20T09:23:24.236Z"
   },
   {
    "duration": 10,
    "start_time": "2022-07-20T09:23:24.247Z"
   },
   {
    "duration": 21,
    "start_time": "2022-07-20T09:23:24.259Z"
   },
   {
    "duration": 10,
    "start_time": "2022-07-20T09:23:24.282Z"
   },
   {
    "duration": 36,
    "start_time": "2022-07-20T09:23:24.294Z"
   },
   {
    "duration": 25,
    "start_time": "2022-07-20T09:23:24.332Z"
   },
   {
    "duration": 7,
    "start_time": "2022-07-20T09:23:24.359Z"
   },
   {
    "duration": 4,
    "start_time": "2022-07-20T09:23:24.368Z"
   },
   {
    "duration": 7,
    "start_time": "2022-07-20T09:23:24.374Z"
   },
   {
    "duration": 5,
    "start_time": "2022-07-20T09:23:24.383Z"
   },
   {
    "duration": 40,
    "start_time": "2022-07-20T09:23:24.390Z"
   },
   {
    "duration": 171,
    "start_time": "2022-07-20T09:23:24.432Z"
   },
   {
    "duration": 5,
    "start_time": "2022-07-20T09:23:24.605Z"
   },
   {
    "duration": 41,
    "start_time": "2022-07-20T09:23:24.612Z"
   },
   {
    "duration": 41,
    "start_time": "2022-07-20T09:23:24.656Z"
   },
   {
    "duration": 169,
    "start_time": "2022-07-20T09:23:24.701Z"
   },
   {
    "duration": 23,
    "start_time": "2022-07-20T09:23:24.871Z"
   },
   {
    "duration": 890,
    "start_time": "2022-07-20T09:23:24.895Z"
   },
   {
    "duration": 16,
    "start_time": "2022-07-20T09:23:29.496Z"
   },
   {
    "duration": 25,
    "start_time": "2022-07-20T09:23:39.881Z"
   },
   {
    "duration": 50,
    "start_time": "2022-07-20T11:54:16.270Z"
   },
   {
    "duration": 706,
    "start_time": "2022-07-20T11:54:21.355Z"
   },
   {
    "duration": 203,
    "start_time": "2022-07-20T11:54:22.063Z"
   },
   {
    "duration": 88,
    "start_time": "2022-07-20T11:54:22.267Z"
   },
   {
    "duration": 17,
    "start_time": "2022-07-20T11:54:22.357Z"
   },
   {
    "duration": 16,
    "start_time": "2022-07-20T11:54:22.376Z"
   },
   {
    "duration": 7,
    "start_time": "2022-07-20T11:54:22.393Z"
   },
   {
    "duration": 27,
    "start_time": "2022-07-20T11:54:22.402Z"
   },
   {
    "duration": 13,
    "start_time": "2022-07-20T11:54:22.431Z"
   },
   {
    "duration": 4,
    "start_time": "2022-07-20T11:54:22.445Z"
   },
   {
    "duration": 98,
    "start_time": "2022-07-20T11:54:22.450Z"
   },
   {
    "duration": 7,
    "start_time": "2022-07-20T11:54:22.549Z"
   },
   {
    "duration": 12,
    "start_time": "2022-07-20T11:54:22.559Z"
   },
   {
    "duration": 9,
    "start_time": "2022-07-20T11:54:22.572Z"
   },
   {
    "duration": 8,
    "start_time": "2022-07-20T11:54:22.601Z"
   },
   {
    "duration": 6,
    "start_time": "2022-07-20T11:54:22.611Z"
   },
   {
    "duration": 15,
    "start_time": "2022-07-20T11:54:22.618Z"
   },
   {
    "duration": 12,
    "start_time": "2022-07-20T11:54:22.634Z"
   },
   {
    "duration": 16,
    "start_time": "2022-07-20T11:54:22.647Z"
   },
   {
    "duration": 54,
    "start_time": "2022-07-20T11:54:22.665Z"
   },
   {
    "duration": 12,
    "start_time": "2022-07-20T11:54:22.721Z"
   },
   {
    "duration": 9,
    "start_time": "2022-07-20T11:54:22.735Z"
   },
   {
    "duration": 13,
    "start_time": "2022-07-20T11:54:22.746Z"
   },
   {
    "duration": 11,
    "start_time": "2022-07-20T11:54:22.761Z"
   },
   {
    "duration": 11,
    "start_time": "2022-07-20T11:54:22.774Z"
   },
   {
    "duration": 165,
    "start_time": "2022-07-20T11:54:22.787Z"
   },
   {
    "duration": 4,
    "start_time": "2022-07-20T11:54:22.954Z"
   },
   {
    "duration": 45,
    "start_time": "2022-07-20T11:54:22.960Z"
   },
   {
    "duration": 38,
    "start_time": "2022-07-20T11:54:23.007Z"
   },
   {
    "duration": 170,
    "start_time": "2022-07-20T11:54:23.047Z"
   },
   {
    "duration": 20,
    "start_time": "2022-07-20T11:54:23.218Z"
   },
   {
    "duration": 748,
    "start_time": "2022-07-20T11:54:23.239Z"
   },
   {
    "duration": 39,
    "start_time": "2022-07-20T11:54:23.989Z"
   },
   {
    "duration": 653,
    "start_time": "2022-07-20T11:54:24.030Z"
   },
   {
    "duration": 40,
    "start_time": "2022-07-20T11:54:24.685Z"
   },
   {
    "duration": 7,
    "start_time": "2022-07-20T11:54:29.989Z"
   },
   {
    "duration": 6,
    "start_time": "2022-07-20T11:54:55.341Z"
   },
   {
    "duration": 8,
    "start_time": "2022-07-20T11:55:23.858Z"
   },
   {
    "duration": 6,
    "start_time": "2022-07-20T11:55:52.137Z"
   },
   {
    "duration": 22,
    "start_time": "2022-07-20T12:00:08.952Z"
   },
   {
    "duration": 622,
    "start_time": "2022-07-20T12:00:09.921Z"
   },
   {
    "duration": 33,
    "start_time": "2022-07-20T12:01:17.481Z"
   },
   {
    "duration": 608,
    "start_time": "2022-07-20T12:01:21.155Z"
   },
   {
    "duration": 17,
    "start_time": "2022-07-20T12:16:50.468Z"
   },
   {
    "duration": 26,
    "start_time": "2022-07-20T12:17:04.769Z"
   },
   {
    "duration": 805,
    "start_time": "2022-07-20T12:17:31.729Z"
   },
   {
    "duration": 766,
    "start_time": "2022-07-20T12:17:57.058Z"
   },
   {
    "duration": 20,
    "start_time": "2022-07-20T12:18:20.043Z"
   },
   {
    "duration": 21,
    "start_time": "2022-07-20T12:18:35.785Z"
   },
   {
    "duration": 22,
    "start_time": "2022-07-20T12:20:56.777Z"
   },
   {
    "duration": 12,
    "start_time": "2022-07-20T12:22:24.765Z"
   },
   {
    "duration": 9,
    "start_time": "2022-07-20T12:22:51.549Z"
   },
   {
    "duration": 11,
    "start_time": "2022-07-20T12:23:04.189Z"
   },
   {
    "duration": 10,
    "start_time": "2022-07-20T12:24:18.241Z"
   },
   {
    "duration": 11,
    "start_time": "2022-07-20T12:25:48.748Z"
   },
   {
    "duration": 127,
    "start_time": "2022-07-20T12:26:03.569Z"
   },
   {
    "duration": 22,
    "start_time": "2022-07-20T12:26:14.209Z"
   },
   {
    "duration": 9,
    "start_time": "2022-07-20T12:26:16.317Z"
   },
   {
    "duration": 58,
    "start_time": "2022-07-20T15:23:19.653Z"
   },
   {
    "duration": 923,
    "start_time": "2022-07-20T15:23:26.955Z"
   },
   {
    "duration": 379,
    "start_time": "2022-07-20T15:23:27.880Z"
   },
   {
    "duration": 89,
    "start_time": "2022-07-20T15:23:28.260Z"
   },
   {
    "duration": 25,
    "start_time": "2022-07-20T15:23:28.351Z"
   },
   {
    "duration": 16,
    "start_time": "2022-07-20T15:23:28.379Z"
   },
   {
    "duration": 8,
    "start_time": "2022-07-20T15:23:28.397Z"
   },
   {
    "duration": 35,
    "start_time": "2022-07-20T15:23:28.407Z"
   },
   {
    "duration": 32,
    "start_time": "2022-07-20T15:23:28.443Z"
   },
   {
    "duration": 8,
    "start_time": "2022-07-20T15:23:28.477Z"
   },
   {
    "duration": 104,
    "start_time": "2022-07-20T15:23:28.487Z"
   },
   {
    "duration": 7,
    "start_time": "2022-07-20T15:23:28.593Z"
   },
   {
    "duration": 17,
    "start_time": "2022-07-20T15:23:28.601Z"
   },
   {
    "duration": 8,
    "start_time": "2022-07-20T15:23:28.619Z"
   },
   {
    "duration": 8,
    "start_time": "2022-07-20T15:23:28.630Z"
   },
   {
    "duration": 6,
    "start_time": "2022-07-20T15:23:28.639Z"
   },
   {
    "duration": 29,
    "start_time": "2022-07-20T15:23:28.647Z"
   },
   {
    "duration": 14,
    "start_time": "2022-07-20T15:23:28.678Z"
   },
   {
    "duration": 26,
    "start_time": "2022-07-20T15:23:28.694Z"
   },
   {
    "duration": 41,
    "start_time": "2022-07-20T15:23:28.722Z"
   },
   {
    "duration": 21,
    "start_time": "2022-07-20T15:23:28.765Z"
   },
   {
    "duration": 8,
    "start_time": "2022-07-20T15:23:28.787Z"
   },
   {
    "duration": 9,
    "start_time": "2022-07-20T15:23:28.796Z"
   },
   {
    "duration": 9,
    "start_time": "2022-07-20T15:23:28.807Z"
   },
   {
    "duration": 12,
    "start_time": "2022-07-20T15:23:28.818Z"
   },
   {
    "duration": 158,
    "start_time": "2022-07-20T15:23:28.832Z"
   },
   {
    "duration": 4,
    "start_time": "2022-07-20T15:23:28.991Z"
   },
   {
    "duration": 27,
    "start_time": "2022-07-20T15:23:28.996Z"
   },
   {
    "duration": 53,
    "start_time": "2022-07-20T15:23:29.024Z"
   },
   {
    "duration": 165,
    "start_time": "2022-07-20T15:23:29.079Z"
   },
   {
    "duration": 31,
    "start_time": "2022-07-20T15:23:29.246Z"
   },
   {
    "duration": 10,
    "start_time": "2022-07-20T15:23:29.278Z"
   },
   {
    "duration": 22,
    "start_time": "2022-07-20T15:23:29.289Z"
   },
   {
    "duration": 8,
    "start_time": "2022-07-20T15:23:29.312Z"
   },
   {
    "duration": 701,
    "start_time": "2022-07-20T15:23:29.321Z"
   },
   {
    "duration": 6,
    "start_time": "2022-07-20T15:23:30.024Z"
   },
   {
    "duration": 15,
    "start_time": "2022-07-20T15:23:30.032Z"
   },
   {
    "duration": 143,
    "start_time": "2022-07-20T15:23:30.048Z"
   },
   {
    "duration": 196,
    "start_time": "2022-07-20T15:23:30.193Z"
   },
   {
    "duration": 7,
    "start_time": "2022-07-20T15:23:30.390Z"
   },
   {
    "duration": 46,
    "start_time": "2022-07-20T15:23:30.399Z"
   },
   {
    "duration": 18,
    "start_time": "2022-07-20T15:23:30.448Z"
   },
   {
    "duration": 50,
    "start_time": "2022-07-20T15:23:30.468Z"
   },
   {
    "duration": 38,
    "start_time": "2022-07-20T15:23:30.520Z"
   },
   {
    "duration": 30,
    "start_time": "2022-07-20T15:24:08.780Z"
   },
   {
    "duration": 7,
    "start_time": "2022-07-20T15:26:09.413Z"
   },
   {
    "duration": 161,
    "start_time": "2022-07-20T15:27:22.276Z"
   },
   {
    "duration": 11,
    "start_time": "2022-07-20T15:27:44.960Z"
   },
   {
    "duration": 7,
    "start_time": "2022-07-20T15:29:24.054Z"
   },
   {
    "duration": 119,
    "start_time": "2022-07-20T15:31:49.982Z"
   },
   {
    "duration": 106,
    "start_time": "2022-07-20T15:33:15.517Z"
   },
   {
    "duration": 148,
    "start_time": "2022-07-20T15:34:27.054Z"
   },
   {
    "duration": 139,
    "start_time": "2022-07-20T15:34:35.774Z"
   },
   {
    "duration": 145,
    "start_time": "2022-07-20T15:34:48.490Z"
   },
   {
    "duration": 838,
    "start_time": "2022-07-20T15:38:32.300Z"
   },
   {
    "duration": 2,
    "start_time": "2022-07-20T15:43:12.381Z"
   },
   {
    "duration": 129,
    "start_time": "2022-07-20T15:43:12.386Z"
   },
   {
    "duration": 44,
    "start_time": "2022-07-20T15:43:12.516Z"
   },
   {
    "duration": 20,
    "start_time": "2022-07-20T15:43:12.564Z"
   },
   {
    "duration": 32,
    "start_time": "2022-07-20T15:43:12.586Z"
   },
   {
    "duration": 11,
    "start_time": "2022-07-20T15:43:12.629Z"
   },
   {
    "duration": 55,
    "start_time": "2022-07-20T15:43:12.641Z"
   },
   {
    "duration": 17,
    "start_time": "2022-07-20T15:43:12.698Z"
   },
   {
    "duration": 5,
    "start_time": "2022-07-20T15:43:12.718Z"
   },
   {
    "duration": 115,
    "start_time": "2022-07-20T15:43:12.725Z"
   },
   {
    "duration": 6,
    "start_time": "2022-07-20T15:43:12.842Z"
   },
   {
    "duration": 22,
    "start_time": "2022-07-20T15:43:12.850Z"
   },
   {
    "duration": 12,
    "start_time": "2022-07-20T15:43:12.873Z"
   },
   {
    "duration": 17,
    "start_time": "2022-07-20T15:43:12.887Z"
   },
   {
    "duration": 17,
    "start_time": "2022-07-20T15:43:12.905Z"
   },
   {
    "duration": 20,
    "start_time": "2022-07-20T15:43:12.924Z"
   },
   {
    "duration": 21,
    "start_time": "2022-07-20T15:43:12.946Z"
   },
   {
    "duration": 17,
    "start_time": "2022-07-20T15:43:12.969Z"
   },
   {
    "duration": 26,
    "start_time": "2022-07-20T15:43:12.988Z"
   },
   {
    "duration": 18,
    "start_time": "2022-07-20T15:43:13.016Z"
   },
   {
    "duration": 25,
    "start_time": "2022-07-20T15:43:13.036Z"
   },
   {
    "duration": 6,
    "start_time": "2022-07-20T15:43:13.064Z"
   },
   {
    "duration": 12,
    "start_time": "2022-07-20T15:43:13.072Z"
   },
   {
    "duration": 16,
    "start_time": "2022-07-20T15:43:13.087Z"
   },
   {
    "duration": 177,
    "start_time": "2022-07-20T15:43:13.105Z"
   },
   {
    "duration": 4,
    "start_time": "2022-07-20T15:43:13.284Z"
   },
   {
    "duration": 27,
    "start_time": "2022-07-20T15:43:13.289Z"
   },
   {
    "duration": 55,
    "start_time": "2022-07-20T15:43:13.317Z"
   },
   {
    "duration": 176,
    "start_time": "2022-07-20T15:43:13.374Z"
   },
   {
    "duration": 26,
    "start_time": "2022-07-20T15:43:13.552Z"
   },
   {
    "duration": 24,
    "start_time": "2022-07-20T15:43:17.812Z"
   },
   {
    "duration": 25,
    "start_time": "2022-07-20T15:44:39.473Z"
   },
   {
    "duration": 28,
    "start_time": "2022-07-20T15:44:46.310Z"
   },
   {
    "duration": 64,
    "start_time": "2022-07-20T15:46:26.492Z"
   },
   {
    "duration": 90,
    "start_time": "2022-07-20T15:48:14.689Z"
   },
   {
    "duration": 869,
    "start_time": "2022-07-20T15:49:30.866Z"
   },
   {
    "duration": 823,
    "start_time": "2022-07-20T15:50:21.907Z"
   },
   {
    "duration": 797,
    "start_time": "2022-07-20T15:50:38.301Z"
   },
   {
    "duration": 113,
    "start_time": "2022-07-20T15:54:32.780Z"
   },
   {
    "duration": 130,
    "start_time": "2022-07-20T15:54:51.563Z"
   },
   {
    "duration": 794,
    "start_time": "2022-07-20T15:56:04.559Z"
   },
   {
    "duration": 18,
    "start_time": "2022-07-20T16:06:04.466Z"
   },
   {
    "duration": 30,
    "start_time": "2022-07-20T16:06:17.664Z"
   },
   {
    "duration": 680,
    "start_time": "2022-07-20T16:07:13.515Z"
   },
   {
    "duration": 41,
    "start_time": "2022-07-20T16:41:04.360Z"
   },
   {
    "duration": 45,
    "start_time": "2022-07-20T16:46:45.665Z"
   },
   {
    "duration": 27,
    "start_time": "2022-07-20T16:49:40.413Z"
   },
   {
    "duration": 28,
    "start_time": "2022-07-20T16:50:34.726Z"
   },
   {
    "duration": 38,
    "start_time": "2022-07-20T16:50:52.947Z"
   },
   {
    "duration": 24,
    "start_time": "2022-07-20T16:52:39.490Z"
   },
   {
    "duration": 37,
    "start_time": "2022-07-20T16:52:44.688Z"
   },
   {
    "duration": 24,
    "start_time": "2022-07-20T16:52:54.584Z"
   },
   {
    "duration": 32,
    "start_time": "2022-07-20T16:53:09.989Z"
   },
   {
    "duration": 44,
    "start_time": "2022-07-20T16:55:16.364Z"
   },
   {
    "duration": 28,
    "start_time": "2022-07-20T16:56:05.221Z"
   },
   {
    "duration": 25,
    "start_time": "2022-07-20T18:01:05.605Z"
   },
   {
    "duration": 973,
    "start_time": "2022-07-20T18:09:50.680Z"
   },
   {
    "duration": 799,
    "start_time": "2022-07-20T18:10:50.511Z"
   },
   {
    "duration": 23,
    "start_time": "2022-07-20T18:12:20.080Z"
   },
   {
    "duration": 24,
    "start_time": "2022-07-20T18:31:34.033Z"
   },
   {
    "duration": 1978,
    "start_time": "2022-07-20T18:39:25.451Z"
   },
   {
    "duration": 1071,
    "start_time": "2022-07-20T18:40:34.450Z"
   },
   {
    "duration": 963,
    "start_time": "2022-07-20T18:41:13.090Z"
   },
   {
    "duration": 13,
    "start_time": "2022-07-20T18:53:45.844Z"
   },
   {
    "duration": 4,
    "start_time": "2022-07-20T19:10:36.050Z"
   },
   {
    "duration": 47,
    "start_time": "2022-07-20T19:10:48.349Z"
   },
   {
    "duration": 5,
    "start_time": "2022-07-20T19:23:14.522Z"
   },
   {
    "duration": 153,
    "start_time": "2022-07-20T19:29:41.494Z"
   },
   {
    "duration": 144,
    "start_time": "2022-07-20T19:29:47.452Z"
   },
   {
    "duration": 8,
    "start_time": "2022-07-20T19:34:15.374Z"
   },
   {
    "duration": 3,
    "start_time": "2022-07-20T19:34:55.319Z"
   },
   {
    "duration": 134,
    "start_time": "2022-07-20T19:34:55.326Z"
   },
   {
    "duration": 53,
    "start_time": "2022-07-20T19:34:55.462Z"
   },
   {
    "duration": 21,
    "start_time": "2022-07-20T19:34:55.516Z"
   },
   {
    "duration": 24,
    "start_time": "2022-07-20T19:34:55.540Z"
   },
   {
    "duration": 39,
    "start_time": "2022-07-20T19:34:55.566Z"
   },
   {
    "duration": 35,
    "start_time": "2022-07-20T19:34:55.607Z"
   },
   {
    "duration": 30,
    "start_time": "2022-07-20T19:34:55.644Z"
   },
   {
    "duration": 27,
    "start_time": "2022-07-20T19:34:55.688Z"
   },
   {
    "duration": 107,
    "start_time": "2022-07-20T19:34:55.716Z"
   },
   {
    "duration": 10,
    "start_time": "2022-07-20T19:34:55.827Z"
   },
   {
    "duration": 181,
    "start_time": "2022-07-20T19:34:55.839Z"
   },
   {
    "duration": 12,
    "start_time": "2022-07-20T19:34:56.021Z"
   },
   {
    "duration": 15,
    "start_time": "2022-07-20T19:34:56.035Z"
   },
   {
    "duration": 15,
    "start_time": "2022-07-20T19:34:56.052Z"
   },
   {
    "duration": 39,
    "start_time": "2022-07-20T19:34:56.069Z"
   },
   {
    "duration": 19,
    "start_time": "2022-07-20T19:34:56.111Z"
   },
   {
    "duration": 20,
    "start_time": "2022-07-20T19:34:56.133Z"
   },
   {
    "duration": 57,
    "start_time": "2022-07-20T19:34:56.155Z"
   },
   {
    "duration": 11,
    "start_time": "2022-07-20T19:34:56.214Z"
   },
   {
    "duration": 17,
    "start_time": "2022-07-20T19:34:56.227Z"
   },
   {
    "duration": 70,
    "start_time": "2022-07-20T19:34:56.246Z"
   },
   {
    "duration": 86,
    "start_time": "2022-07-20T19:34:56.319Z"
   },
   {
    "duration": 16,
    "start_time": "2022-07-20T19:34:56.410Z"
   },
   {
    "duration": 240,
    "start_time": "2022-07-20T19:34:56.428Z"
   },
   {
    "duration": 11,
    "start_time": "2022-07-20T19:34:56.670Z"
   },
   {
    "duration": 118,
    "start_time": "2022-07-20T19:34:56.683Z"
   },
   {
    "duration": 93,
    "start_time": "2022-07-20T19:34:56.803Z"
   },
   {
    "duration": 231,
    "start_time": "2022-07-20T19:34:56.900Z"
   },
   {
    "duration": 36,
    "start_time": "2022-07-20T19:34:57.133Z"
   },
   {
    "duration": 39,
    "start_time": "2022-07-20T19:34:57.172Z"
   },
   {
    "duration": 718,
    "start_time": "2022-07-20T19:34:57.212Z"
   },
   {
    "duration": 35,
    "start_time": "2022-07-20T19:34:57.933Z"
   },
   {
    "duration": 45,
    "start_time": "2022-07-20T19:34:57.970Z"
   },
   {
    "duration": 233,
    "start_time": "2022-07-20T19:35:01.422Z"
   },
   {
    "duration": 209,
    "start_time": "2022-07-20T19:35:09.745Z"
   },
   {
    "duration": 11,
    "start_time": "2022-07-20T19:36:01.112Z"
   },
   {
    "duration": 81,
    "start_time": "2022-07-20T19:36:27.639Z"
   },
   {
    "duration": 15,
    "start_time": "2022-07-20T19:39:46.585Z"
   },
   {
    "duration": 8,
    "start_time": "2022-07-20T19:41:02.402Z"
   },
   {
    "duration": 6,
    "start_time": "2022-07-20T19:43:08.268Z"
   },
   {
    "duration": 30,
    "start_time": "2022-07-20T19:44:28.455Z"
   },
   {
    "duration": 4,
    "start_time": "2022-07-20T19:45:08.003Z"
   },
   {
    "duration": 4,
    "start_time": "2022-07-20T19:45:36.289Z"
   },
   {
    "duration": 156,
    "start_time": "2022-07-20T19:45:36.295Z"
   },
   {
    "duration": 64,
    "start_time": "2022-07-20T19:45:36.454Z"
   },
   {
    "duration": 37,
    "start_time": "2022-07-20T19:45:36.520Z"
   },
   {
    "duration": 63,
    "start_time": "2022-07-20T19:45:36.559Z"
   },
   {
    "duration": 45,
    "start_time": "2022-07-20T19:45:36.624Z"
   },
   {
    "duration": 79,
    "start_time": "2022-07-20T19:45:36.673Z"
   },
   {
    "duration": 29,
    "start_time": "2022-07-20T19:45:36.755Z"
   },
   {
    "duration": 45,
    "start_time": "2022-07-20T19:45:36.786Z"
   },
   {
    "duration": 140,
    "start_time": "2022-07-20T19:45:36.833Z"
   },
   {
    "duration": 12,
    "start_time": "2022-07-20T19:45:36.983Z"
   },
   {
    "duration": 29,
    "start_time": "2022-07-20T19:45:36.997Z"
   },
   {
    "duration": 68,
    "start_time": "2022-07-20T19:45:37.028Z"
   },
   {
    "duration": 50,
    "start_time": "2022-07-20T19:45:37.098Z"
   },
   {
    "duration": 47,
    "start_time": "2022-07-20T19:45:37.150Z"
   },
   {
    "duration": 34,
    "start_time": "2022-07-20T19:45:37.200Z"
   },
   {
    "duration": 58,
    "start_time": "2022-07-20T19:45:37.236Z"
   },
   {
    "duration": 47,
    "start_time": "2022-07-20T19:45:37.296Z"
   },
   {
    "duration": 54,
    "start_time": "2022-07-20T19:45:37.345Z"
   },
   {
    "duration": 19,
    "start_time": "2022-07-20T19:45:37.402Z"
   },
   {
    "duration": 18,
    "start_time": "2022-07-20T19:45:37.423Z"
   },
   {
    "duration": 58,
    "start_time": "2022-07-20T19:45:37.443Z"
   },
   {
    "duration": 29,
    "start_time": "2022-07-20T19:45:37.502Z"
   },
   {
    "duration": 37,
    "start_time": "2022-07-20T19:45:37.533Z"
   },
   {
    "duration": 197,
    "start_time": "2022-07-20T19:45:37.571Z"
   },
   {
    "duration": 5,
    "start_time": "2022-07-20T19:45:37.770Z"
   },
   {
    "duration": 19,
    "start_time": "2022-07-20T19:45:40.746Z"
   },
   {
    "duration": 3,
    "start_time": "2022-07-20T19:45:56.326Z"
   },
   {
    "duration": 146,
    "start_time": "2022-07-20T19:45:56.336Z"
   },
   {
    "duration": 46,
    "start_time": "2022-07-20T19:45:56.495Z"
   },
   {
    "duration": 25,
    "start_time": "2022-07-20T19:45:56.543Z"
   },
   {
    "duration": 49,
    "start_time": "2022-07-20T19:45:56.570Z"
   },
   {
    "duration": 37,
    "start_time": "2022-07-20T19:45:56.622Z"
   },
   {
    "duration": 74,
    "start_time": "2022-07-20T19:45:56.666Z"
   },
   {
    "duration": 18,
    "start_time": "2022-07-20T19:45:56.742Z"
   },
   {
    "duration": 5,
    "start_time": "2022-07-20T19:45:56.765Z"
   },
   {
    "duration": 97,
    "start_time": "2022-07-20T19:45:56.776Z"
   },
   {
    "duration": 13,
    "start_time": "2022-07-20T19:45:56.879Z"
   },
   {
    "duration": 11,
    "start_time": "2022-07-20T19:45:56.894Z"
   },
   {
    "duration": 8,
    "start_time": "2022-07-20T19:45:56.907Z"
   },
   {
    "duration": 11,
    "start_time": "2022-07-20T19:45:56.916Z"
   },
   {
    "duration": 6,
    "start_time": "2022-07-20T19:45:56.928Z"
   },
   {
    "duration": 17,
    "start_time": "2022-07-20T19:45:56.935Z"
   },
   {
    "duration": 14,
    "start_time": "2022-07-20T19:45:56.961Z"
   },
   {
    "duration": 36,
    "start_time": "2022-07-20T19:45:56.978Z"
   },
   {
    "duration": 24,
    "start_time": "2022-07-20T19:45:57.016Z"
   },
   {
    "duration": 7,
    "start_time": "2022-07-20T19:45:57.041Z"
   },
   {
    "duration": 15,
    "start_time": "2022-07-20T19:45:57.049Z"
   },
   {
    "duration": 27,
    "start_time": "2022-07-20T19:45:57.066Z"
   },
   {
    "duration": 4,
    "start_time": "2022-07-20T19:45:57.095Z"
   },
   {
    "duration": 10,
    "start_time": "2022-07-20T19:45:57.101Z"
   },
   {
    "duration": 165,
    "start_time": "2022-07-20T19:45:57.113Z"
   },
   {
    "duration": 12,
    "start_time": "2022-07-20T19:45:57.281Z"
   },
   {
    "duration": 9,
    "start_time": "2022-07-20T19:45:57.294Z"
   },
   {
    "duration": 6,
    "start_time": "2022-07-20T19:45:57.304Z"
   },
   {
    "duration": 23,
    "start_time": "2022-07-20T19:45:57.313Z"
   },
   {
    "duration": 163,
    "start_time": "2022-07-20T19:45:57.338Z"
   },
   {
    "duration": 22,
    "start_time": "2022-07-20T19:45:57.503Z"
   },
   {
    "duration": 53,
    "start_time": "2022-07-20T19:45:57.527Z"
   },
   {
    "duration": 755,
    "start_time": "2022-07-20T19:45:57.582Z"
   },
   {
    "duration": 39,
    "start_time": "2022-07-20T19:45:58.339Z"
   },
   {
    "duration": 45,
    "start_time": "2022-07-20T19:45:58.380Z"
   },
   {
    "duration": 225,
    "start_time": "2022-07-20T19:45:58.428Z"
   },
   {
    "duration": 158,
    "start_time": "2022-07-20T19:45:58.655Z"
   },
   {
    "duration": 29,
    "start_time": "2022-07-20T19:45:58.815Z"
   },
   {
    "duration": 36,
    "start_time": "2022-07-20T19:45:58.845Z"
   },
   {
    "duration": 37,
    "start_time": "2022-07-20T19:45:58.883Z"
   },
   {
    "duration": 4,
    "start_time": "2022-07-20T19:45:58.922Z"
   },
   {
    "duration": 5,
    "start_time": "2022-07-20T19:50:30.328Z"
   },
   {
    "duration": 1084,
    "start_time": "2022-07-20T19:55:55.246Z"
   },
   {
    "duration": 171,
    "start_time": "2022-07-20T19:56:22.856Z"
   },
   {
    "duration": 1044,
    "start_time": "2022-07-20T19:56:44.792Z"
   },
   {
    "duration": 126,
    "start_time": "2022-07-20T19:57:09.518Z"
   },
   {
    "duration": 926,
    "start_time": "2022-07-20T20:01:45.074Z"
   },
   {
    "duration": 1091,
    "start_time": "2022-07-20T20:03:03.903Z"
   },
   {
    "duration": 923,
    "start_time": "2022-07-20T20:03:23.179Z"
   },
   {
    "duration": 1827,
    "start_time": "2022-07-20T20:03:37.521Z"
   },
   {
    "duration": 148,
    "start_time": "2022-07-20T20:03:59.052Z"
   },
   {
    "duration": 21,
    "start_time": "2022-07-20T20:04:58.093Z"
   },
   {
    "duration": 28,
    "start_time": "2022-07-20T20:05:14.713Z"
   },
   {
    "duration": 161,
    "start_time": "2022-07-20T20:05:22.957Z"
   },
   {
    "duration": 147,
    "start_time": "2022-07-20T20:05:49.188Z"
   },
   {
    "duration": 145,
    "start_time": "2022-07-20T20:06:51.990Z"
   },
   {
    "duration": 6,
    "start_time": "2022-07-20T20:07:51.739Z"
   },
   {
    "duration": 7,
    "start_time": "2022-07-20T20:08:04.527Z"
   },
   {
    "duration": 17,
    "start_time": "2022-07-20T20:21:02.951Z"
   },
   {
    "duration": 20,
    "start_time": "2022-07-20T20:21:34.701Z"
   },
   {
    "duration": 14,
    "start_time": "2022-07-20T20:22:35.678Z"
   },
   {
    "duration": 21,
    "start_time": "2022-07-20T20:22:51.157Z"
   },
   {
    "duration": 58,
    "start_time": "2022-07-20T20:23:05.056Z"
   },
   {
    "duration": 12,
    "start_time": "2022-07-20T20:23:24.587Z"
   },
   {
    "duration": 17,
    "start_time": "2022-07-20T20:23:31.633Z"
   },
   {
    "duration": 15,
    "start_time": "2022-07-20T20:24:18.033Z"
   },
   {
    "duration": 68,
    "start_time": "2022-07-20T20:25:42.535Z"
   },
   {
    "duration": 4,
    "start_time": "2022-07-20T20:32:00.126Z"
   },
   {
    "duration": 40,
    "start_time": "2022-07-20T20:32:18.453Z"
   },
   {
    "duration": 834,
    "start_time": "2022-07-21T06:07:56.485Z"
   },
   {
    "duration": 233,
    "start_time": "2022-07-21T06:07:57.321Z"
   },
   {
    "duration": 85,
    "start_time": "2022-07-21T06:07:57.556Z"
   },
   {
    "duration": 28,
    "start_time": "2022-07-21T06:07:57.643Z"
   },
   {
    "duration": 19,
    "start_time": "2022-07-21T06:07:57.673Z"
   },
   {
    "duration": 7,
    "start_time": "2022-07-21T06:07:57.694Z"
   },
   {
    "duration": 28,
    "start_time": "2022-07-21T06:07:57.702Z"
   },
   {
    "duration": 14,
    "start_time": "2022-07-21T06:07:57.731Z"
   },
   {
    "duration": 25,
    "start_time": "2022-07-21T06:07:57.747Z"
   },
   {
    "duration": 80,
    "start_time": "2022-07-21T06:07:57.775Z"
   },
   {
    "duration": 17,
    "start_time": "2022-07-21T06:07:57.857Z"
   },
   {
    "duration": 13,
    "start_time": "2022-07-21T06:07:57.876Z"
   },
   {
    "duration": 7,
    "start_time": "2022-07-21T06:07:57.891Z"
   },
   {
    "duration": 9,
    "start_time": "2022-07-21T06:07:57.900Z"
   },
   {
    "duration": 6,
    "start_time": "2022-07-21T06:07:57.911Z"
   },
   {
    "duration": 17,
    "start_time": "2022-07-21T06:07:57.918Z"
   },
   {
    "duration": 39,
    "start_time": "2022-07-21T06:07:57.936Z"
   },
   {
    "duration": 17,
    "start_time": "2022-07-21T06:07:57.976Z"
   },
   {
    "duration": 29,
    "start_time": "2022-07-21T06:07:57.994Z"
   },
   {
    "duration": 4,
    "start_time": "2022-07-21T06:07:58.024Z"
   },
   {
    "duration": 6,
    "start_time": "2022-07-21T06:07:58.030Z"
   },
   {
    "duration": 9,
    "start_time": "2022-07-21T06:07:58.037Z"
   },
   {
    "duration": 25,
    "start_time": "2022-07-21T06:07:58.048Z"
   },
   {
    "duration": 13,
    "start_time": "2022-07-21T06:07:58.075Z"
   },
   {
    "duration": 153,
    "start_time": "2022-07-21T06:07:58.089Z"
   },
   {
    "duration": 4,
    "start_time": "2022-07-21T06:07:58.244Z"
   },
   {
    "duration": 16,
    "start_time": "2022-07-21T06:07:58.249Z"
   },
   {
    "duration": 10,
    "start_time": "2022-07-21T06:07:58.274Z"
   },
   {
    "duration": 26,
    "start_time": "2022-07-21T06:07:58.285Z"
   },
   {
    "duration": 144,
    "start_time": "2022-07-21T06:07:58.313Z"
   },
   {
    "duration": 23,
    "start_time": "2022-07-21T06:07:58.459Z"
   },
   {
    "duration": 24,
    "start_time": "2022-07-21T06:07:58.483Z"
   },
   {
    "duration": 716,
    "start_time": "2022-07-21T06:07:58.509Z"
   },
   {
    "duration": 45,
    "start_time": "2022-07-21T06:07:59.227Z"
   },
   {
    "duration": 38,
    "start_time": "2022-07-21T06:07:59.274Z"
   },
   {
    "duration": 187,
    "start_time": "2022-07-21T06:07:59.314Z"
   },
   {
    "duration": 133,
    "start_time": "2022-07-21T06:07:59.503Z"
   },
   {
    "duration": 6,
    "start_time": "2022-07-21T06:07:59.637Z"
   },
   {
    "duration": 159,
    "start_time": "2022-07-21T06:07:59.645Z"
   },
   {
    "duration": 15,
    "start_time": "2022-07-21T06:07:59.805Z"
   },
   {
    "duration": 55,
    "start_time": "2022-07-21T06:07:59.822Z"
   },
   {
    "duration": 3,
    "start_time": "2022-07-21T06:07:59.879Z"
   },
   {
    "duration": 18,
    "start_time": "2022-07-21T06:10:06.511Z"
   },
   {
    "duration": 110,
    "start_time": "2022-07-21T06:11:00.571Z"
   },
   {
    "duration": 13,
    "start_time": "2022-07-21T06:11:15.948Z"
   },
   {
    "duration": 941,
    "start_time": "2022-07-21T06:12:43.540Z"
   },
   {
    "duration": 235,
    "start_time": "2022-07-21T06:12:59.623Z"
   },
   {
    "duration": 237,
    "start_time": "2022-07-21T06:13:39.011Z"
   },
   {
    "duration": 232,
    "start_time": "2022-07-21T06:14:08.414Z"
   },
   {
    "duration": 22,
    "start_time": "2022-07-21T06:21:23.099Z"
   },
   {
    "duration": 249,
    "start_time": "2022-07-21T06:21:52.602Z"
   },
   {
    "duration": 283,
    "start_time": "2022-07-21T06:22:10.455Z"
   },
   {
    "duration": 231,
    "start_time": "2022-07-21T06:22:50.223Z"
   },
   {
    "duration": 231,
    "start_time": "2022-07-21T06:23:00.891Z"
   },
   {
    "duration": 38,
    "start_time": "2022-07-21T06:23:47.373Z"
   },
   {
    "duration": 838,
    "start_time": "2022-07-21T07:13:47.475Z"
   },
   {
    "duration": 271,
    "start_time": "2022-07-21T07:13:48.316Z"
   },
   {
    "duration": 88,
    "start_time": "2022-07-21T07:13:48.588Z"
   },
   {
    "duration": 18,
    "start_time": "2022-07-21T07:13:48.678Z"
   },
   {
    "duration": 18,
    "start_time": "2022-07-21T07:13:48.698Z"
   },
   {
    "duration": 8,
    "start_time": "2022-07-21T07:13:48.717Z"
   },
   {
    "duration": 30,
    "start_time": "2022-07-21T07:13:48.726Z"
   },
   {
    "duration": 16,
    "start_time": "2022-07-21T07:13:48.758Z"
   },
   {
    "duration": 31,
    "start_time": "2022-07-21T07:13:48.776Z"
   },
   {
    "duration": 85,
    "start_time": "2022-07-21T07:13:48.809Z"
   },
   {
    "duration": 7,
    "start_time": "2022-07-21T07:13:48.904Z"
   },
   {
    "duration": 13,
    "start_time": "2022-07-21T07:13:48.912Z"
   },
   {
    "duration": 7,
    "start_time": "2022-07-21T07:13:48.927Z"
   },
   {
    "duration": 12,
    "start_time": "2022-07-21T07:13:48.937Z"
   },
   {
    "duration": 9,
    "start_time": "2022-07-21T07:13:48.950Z"
   },
   {
    "duration": 15,
    "start_time": "2022-07-21T07:13:48.961Z"
   },
   {
    "duration": 32,
    "start_time": "2022-07-21T07:13:48.978Z"
   },
   {
    "duration": 15,
    "start_time": "2022-07-21T07:13:49.011Z"
   },
   {
    "duration": 24,
    "start_time": "2022-07-21T07:13:49.028Z"
   },
   {
    "duration": 9,
    "start_time": "2022-07-21T07:13:49.053Z"
   },
   {
    "duration": 6,
    "start_time": "2022-07-21T07:13:49.063Z"
   },
   {
    "duration": 7,
    "start_time": "2022-07-21T07:13:49.070Z"
   },
   {
    "duration": 4,
    "start_time": "2022-07-21T07:13:49.103Z"
   },
   {
    "duration": 14,
    "start_time": "2022-07-21T07:13:49.108Z"
   },
   {
    "duration": 169,
    "start_time": "2022-07-21T07:13:49.124Z"
   },
   {
    "duration": 12,
    "start_time": "2022-07-21T07:13:49.295Z"
   },
   {
    "duration": 9,
    "start_time": "2022-07-21T07:13:49.309Z"
   },
   {
    "duration": 8,
    "start_time": "2022-07-21T07:13:49.319Z"
   },
   {
    "duration": 27,
    "start_time": "2022-07-21T07:13:49.329Z"
   },
   {
    "duration": 173,
    "start_time": "2022-07-21T07:13:49.358Z"
   },
   {
    "duration": 22,
    "start_time": "2022-07-21T07:13:49.533Z"
   },
   {
    "duration": 48,
    "start_time": "2022-07-21T07:13:49.556Z"
   },
   {
    "duration": 715,
    "start_time": "2022-07-21T07:13:49.606Z"
   },
   {
    "duration": 24,
    "start_time": "2022-07-21T07:13:50.322Z"
   },
   {
    "duration": 35,
    "start_time": "2022-07-21T07:13:50.348Z"
   },
   {
    "duration": 204,
    "start_time": "2022-07-21T07:13:50.384Z"
   },
   {
    "duration": 131,
    "start_time": "2022-07-21T07:13:50.589Z"
   },
   {
    "duration": 6,
    "start_time": "2022-07-21T07:13:50.721Z"
   },
   {
    "duration": 155,
    "start_time": "2022-07-21T07:13:50.729Z"
   },
   {
    "duration": 252,
    "start_time": "2022-07-21T07:13:50.886Z"
   },
   {
    "duration": 251,
    "start_time": "2022-07-21T07:13:51.141Z"
   },
   {
    "duration": 704,
    "start_time": "2022-07-21T07:30:00.113Z"
   },
   {
    "duration": 95,
    "start_time": "2022-07-21T07:30:00.819Z"
   },
   {
    "duration": 48,
    "start_time": "2022-07-21T07:30:00.916Z"
   },
   {
    "duration": 18,
    "start_time": "2022-07-21T07:30:00.966Z"
   },
   {
    "duration": 21,
    "start_time": "2022-07-21T07:30:00.987Z"
   },
   {
    "duration": 9,
    "start_time": "2022-07-21T07:30:01.010Z"
   },
   {
    "duration": 52,
    "start_time": "2022-07-21T07:30:01.021Z"
   },
   {
    "duration": 17,
    "start_time": "2022-07-21T07:30:01.075Z"
   },
   {
    "duration": 9,
    "start_time": "2022-07-21T07:30:01.105Z"
   },
   {
    "duration": 100,
    "start_time": "2022-07-21T07:30:01.116Z"
   },
   {
    "duration": 8,
    "start_time": "2022-07-21T07:30:01.218Z"
   },
   {
    "duration": 36,
    "start_time": "2022-07-21T07:30:01.228Z"
   },
   {
    "duration": 12,
    "start_time": "2022-07-21T07:30:01.266Z"
   },
   {
    "duration": 41,
    "start_time": "2022-07-21T07:30:01.281Z"
   },
   {
    "duration": 32,
    "start_time": "2022-07-21T07:30:01.324Z"
   },
   {
    "duration": 66,
    "start_time": "2022-07-21T07:30:01.358Z"
   },
   {
    "duration": 61,
    "start_time": "2022-07-21T07:30:01.426Z"
   },
   {
    "duration": 15,
    "start_time": "2022-07-21T07:30:04.935Z"
   },
   {
    "duration": 682,
    "start_time": "2022-07-21T08:24:11.900Z"
   },
   {
    "duration": 101,
    "start_time": "2022-07-21T08:24:12.584Z"
   },
   {
    "duration": 47,
    "start_time": "2022-07-21T08:24:12.687Z"
   },
   {
    "duration": 19,
    "start_time": "2022-07-21T08:24:12.736Z"
   },
   {
    "duration": 18,
    "start_time": "2022-07-21T08:24:12.757Z"
   },
   {
    "duration": 9,
    "start_time": "2022-07-21T08:24:12.777Z"
   },
   {
    "duration": 43,
    "start_time": "2022-07-21T08:24:12.788Z"
   },
   {
    "duration": 17,
    "start_time": "2022-07-21T08:24:12.833Z"
   },
   {
    "duration": 5,
    "start_time": "2022-07-21T08:24:12.852Z"
   },
   {
    "duration": 101,
    "start_time": "2022-07-21T08:24:12.859Z"
   },
   {
    "duration": 7,
    "start_time": "2022-07-21T08:24:12.961Z"
   },
   {
    "duration": 14,
    "start_time": "2022-07-21T08:24:12.970Z"
   },
   {
    "duration": 24,
    "start_time": "2022-07-21T08:24:12.985Z"
   },
   {
    "duration": 8,
    "start_time": "2022-07-21T08:24:13.011Z"
   },
   {
    "duration": 7,
    "start_time": "2022-07-21T08:24:13.021Z"
   },
   {
    "duration": 21,
    "start_time": "2022-07-21T08:24:13.029Z"
   },
   {
    "duration": 13,
    "start_time": "2022-07-21T08:24:13.051Z"
   },
   {
    "duration": 15,
    "start_time": "2022-07-21T08:24:13.066Z"
   },
   {
    "duration": 28,
    "start_time": "2022-07-21T08:24:13.103Z"
   },
   {
    "duration": 8,
    "start_time": "2022-07-21T08:24:13.133Z"
   },
   {
    "duration": 9,
    "start_time": "2022-07-21T08:24:13.143Z"
   },
   {
    "duration": 15,
    "start_time": "2022-07-21T08:24:13.153Z"
   },
   {
    "duration": 6,
    "start_time": "2022-07-21T08:24:13.169Z"
   },
   {
    "duration": 27,
    "start_time": "2022-07-21T08:24:13.177Z"
   },
   {
    "duration": 171,
    "start_time": "2022-07-21T08:24:13.206Z"
   },
   {
    "duration": 4,
    "start_time": "2022-07-21T08:24:13.378Z"
   },
   {
    "duration": 10,
    "start_time": "2022-07-21T08:24:13.384Z"
   },
   {
    "duration": 5,
    "start_time": "2022-07-21T08:24:13.403Z"
   },
   {
    "duration": 31,
    "start_time": "2022-07-21T08:24:13.409Z"
   },
   {
    "duration": 174,
    "start_time": "2022-07-21T08:24:13.441Z"
   },
   {
    "duration": 20,
    "start_time": "2022-07-21T08:24:13.616Z"
   },
   {
    "duration": 25,
    "start_time": "2022-07-21T08:24:13.638Z"
   },
   {
    "duration": 796,
    "start_time": "2022-07-21T08:24:13.665Z"
   },
   {
    "duration": 45,
    "start_time": "2022-07-21T08:24:14.463Z"
   },
   {
    "duration": 37,
    "start_time": "2022-07-21T08:24:14.510Z"
   },
   {
    "duration": 238,
    "start_time": "2022-07-21T08:24:14.549Z"
   },
   {
    "duration": 154,
    "start_time": "2022-07-21T08:24:14.789Z"
   },
   {
    "duration": 8,
    "start_time": "2022-07-21T08:24:14.945Z"
   },
   {
    "duration": 164,
    "start_time": "2022-07-21T08:24:14.955Z"
   },
   {
    "duration": 279,
    "start_time": "2022-07-21T08:24:15.121Z"
   },
   {
    "duration": 272,
    "start_time": "2022-07-21T08:24:15.404Z"
   },
   {
    "duration": 44,
    "start_time": "2022-07-21T10:13:02.324Z"
   },
   {
    "duration": 766,
    "start_time": "2022-07-21T10:13:08.323Z"
   },
   {
    "duration": 342,
    "start_time": "2022-07-21T10:13:09.091Z"
   },
   {
    "duration": 125,
    "start_time": "2022-07-21T10:13:09.435Z"
   },
   {
    "duration": 15,
    "start_time": "2022-07-21T10:13:09.561Z"
   },
   {
    "duration": 15,
    "start_time": "2022-07-21T10:13:09.577Z"
   },
   {
    "duration": 8,
    "start_time": "2022-07-21T10:13:09.593Z"
   },
   {
    "duration": 47,
    "start_time": "2022-07-21T10:13:09.613Z"
   },
   {
    "duration": 12,
    "start_time": "2022-07-21T10:13:09.662Z"
   },
   {
    "duration": 12,
    "start_time": "2022-07-21T10:13:09.675Z"
   },
   {
    "duration": 4,
    "start_time": "2022-07-21T10:13:09.689Z"
   },
   {
    "duration": 95,
    "start_time": "2022-07-21T10:13:09.695Z"
   },
   {
    "duration": 22,
    "start_time": "2022-07-21T10:13:09.792Z"
   },
   {
    "duration": 26,
    "start_time": "2022-07-21T10:13:09.819Z"
   },
   {
    "duration": 7,
    "start_time": "2022-07-21T10:13:09.847Z"
   },
   {
    "duration": 9,
    "start_time": "2022-07-21T10:13:09.856Z"
   },
   {
    "duration": 5,
    "start_time": "2022-07-21T10:13:09.867Z"
   },
   {
    "duration": 13,
    "start_time": "2022-07-21T10:13:09.874Z"
   },
   {
    "duration": 16,
    "start_time": "2022-07-21T10:13:09.889Z"
   },
   {
    "duration": 26,
    "start_time": "2022-07-21T10:13:09.907Z"
   },
   {
    "duration": 24,
    "start_time": "2022-07-21T10:13:09.935Z"
   },
   {
    "duration": 6,
    "start_time": "2022-07-21T10:13:09.961Z"
   },
   {
    "duration": 11,
    "start_time": "2022-07-21T10:13:09.968Z"
   },
   {
    "duration": 6,
    "start_time": "2022-07-21T10:13:09.981Z"
   },
   {
    "duration": 7,
    "start_time": "2022-07-21T10:13:09.989Z"
   },
   {
    "duration": 39,
    "start_time": "2022-07-21T10:13:10.001Z"
   },
   {
    "duration": 148,
    "start_time": "2022-07-21T10:13:10.041Z"
   },
   {
    "duration": 4,
    "start_time": "2022-07-21T10:13:10.190Z"
   },
   {
    "duration": 8,
    "start_time": "2022-07-21T10:13:10.203Z"
   },
   {
    "duration": 21,
    "start_time": "2022-07-21T10:13:10.218Z"
   },
   {
    "duration": 24,
    "start_time": "2022-07-21T10:13:10.240Z"
   },
   {
    "duration": 152,
    "start_time": "2022-07-21T10:13:10.265Z"
   },
   {
    "duration": 22,
    "start_time": "2022-07-21T10:13:10.424Z"
   },
   {
    "duration": 22,
    "start_time": "2022-07-21T10:13:10.448Z"
   },
   {
    "duration": 661,
    "start_time": "2022-07-21T10:13:10.472Z"
   },
   {
    "duration": 21,
    "start_time": "2022-07-21T10:13:11.134Z"
   },
   {
    "duration": 30,
    "start_time": "2022-07-21T10:13:11.156Z"
   },
   {
    "duration": 180,
    "start_time": "2022-07-21T10:13:11.188Z"
   },
   {
    "duration": 123,
    "start_time": "2022-07-21T10:13:11.370Z"
   },
   {
    "duration": 14,
    "start_time": "2022-07-21T10:13:11.494Z"
   },
   {
    "duration": 153,
    "start_time": "2022-07-21T10:13:11.509Z"
   },
   {
    "duration": 261,
    "start_time": "2022-07-21T10:13:11.663Z"
   },
   {
    "duration": 244,
    "start_time": "2022-07-21T10:13:11.935Z"
   },
   {
    "duration": 16,
    "start_time": "2022-07-21T10:18:43.554Z"
   },
   {
    "duration": 3,
    "start_time": "2022-07-21T10:18:48.294Z"
   },
   {
    "duration": 136,
    "start_time": "2022-07-21T10:18:48.299Z"
   },
   {
    "duration": 49,
    "start_time": "2022-07-21T10:18:48.437Z"
   },
   {
    "duration": 13,
    "start_time": "2022-07-21T10:18:48.488Z"
   },
   {
    "duration": 29,
    "start_time": "2022-07-21T10:18:48.509Z"
   },
   {
    "duration": 18,
    "start_time": "2022-07-21T10:18:48.540Z"
   },
   {
    "duration": 26,
    "start_time": "2022-07-21T10:18:48.559Z"
   },
   {
    "duration": 29,
    "start_time": "2022-07-21T10:18:48.586Z"
   },
   {
    "duration": 117,
    "start_time": "2022-07-21T10:18:48.616Z"
   },
   {
    "duration": 0,
    "start_time": "2022-07-21T10:18:48.736Z"
   },
   {
    "duration": 0,
    "start_time": "2022-07-21T10:18:48.736Z"
   },
   {
    "duration": 0,
    "start_time": "2022-07-21T10:18:48.737Z"
   },
   {
    "duration": 1,
    "start_time": "2022-07-21T10:18:48.738Z"
   },
   {
    "duration": 0,
    "start_time": "2022-07-21T10:18:48.740Z"
   },
   {
    "duration": 0,
    "start_time": "2022-07-21T10:18:48.741Z"
   },
   {
    "duration": 0,
    "start_time": "2022-07-21T10:18:48.743Z"
   },
   {
    "duration": 0,
    "start_time": "2022-07-21T10:18:48.744Z"
   },
   {
    "duration": 0,
    "start_time": "2022-07-21T10:18:48.745Z"
   },
   {
    "duration": 0,
    "start_time": "2022-07-21T10:18:48.746Z"
   },
   {
    "duration": 0,
    "start_time": "2022-07-21T10:18:48.747Z"
   },
   {
    "duration": 0,
    "start_time": "2022-07-21T10:18:48.749Z"
   },
   {
    "duration": 0,
    "start_time": "2022-07-21T10:18:48.750Z"
   },
   {
    "duration": 0,
    "start_time": "2022-07-21T10:18:48.751Z"
   },
   {
    "duration": 0,
    "start_time": "2022-07-21T10:18:48.753Z"
   },
   {
    "duration": 0,
    "start_time": "2022-07-21T10:18:48.754Z"
   },
   {
    "duration": 0,
    "start_time": "2022-07-21T10:18:48.756Z"
   },
   {
    "duration": 0,
    "start_time": "2022-07-21T10:18:48.757Z"
   },
   {
    "duration": 0,
    "start_time": "2022-07-21T10:18:48.759Z"
   },
   {
    "duration": 0,
    "start_time": "2022-07-21T10:18:48.760Z"
   },
   {
    "duration": 0,
    "start_time": "2022-07-21T10:18:48.761Z"
   },
   {
    "duration": 0,
    "start_time": "2022-07-21T10:18:48.762Z"
   },
   {
    "duration": 0,
    "start_time": "2022-07-21T10:18:48.763Z"
   },
   {
    "duration": 0,
    "start_time": "2022-07-21T10:18:48.764Z"
   },
   {
    "duration": 0,
    "start_time": "2022-07-21T10:18:48.765Z"
   },
   {
    "duration": 0,
    "start_time": "2022-07-21T10:18:48.765Z"
   },
   {
    "duration": 0,
    "start_time": "2022-07-21T10:18:48.766Z"
   },
   {
    "duration": 0,
    "start_time": "2022-07-21T10:18:48.767Z"
   },
   {
    "duration": 0,
    "start_time": "2022-07-21T10:18:48.768Z"
   },
   {
    "duration": 0,
    "start_time": "2022-07-21T10:18:48.769Z"
   },
   {
    "duration": 0,
    "start_time": "2022-07-21T10:18:48.770Z"
   },
   {
    "duration": 0,
    "start_time": "2022-07-21T10:18:48.771Z"
   },
   {
    "duration": 0,
    "start_time": "2022-07-21T10:18:48.772Z"
   },
   {
    "duration": 0,
    "start_time": "2022-07-21T10:18:48.773Z"
   },
   {
    "duration": 56,
    "start_time": "2022-07-21T10:21:05.492Z"
   },
   {
    "duration": 15,
    "start_time": "2022-07-21T10:21:11.946Z"
   },
   {
    "duration": 19,
    "start_time": "2022-07-21T10:21:17.294Z"
   },
   {
    "duration": 164,
    "start_time": "2022-07-21T10:21:59.683Z"
   },
   {
    "duration": 18,
    "start_time": "2022-07-21T10:22:06.193Z"
   },
   {
    "duration": 18,
    "start_time": "2022-07-21T10:22:12.621Z"
   },
   {
    "duration": 20,
    "start_time": "2022-07-21T10:24:51.669Z"
   },
   {
    "duration": 18,
    "start_time": "2022-07-21T10:25:01.328Z"
   },
   {
    "duration": 21,
    "start_time": "2022-07-21T10:26:32.184Z"
   },
   {
    "duration": 114,
    "start_time": "2022-07-21T10:29:23.733Z"
   },
   {
    "duration": 108,
    "start_time": "2022-07-21T10:29:33.557Z"
   },
   {
    "duration": 15,
    "start_time": "2022-07-21T10:30:44.828Z"
   },
   {
    "duration": 5,
    "start_time": "2022-07-21T10:30:47.381Z"
   },
   {
    "duration": 523,
    "start_time": "2022-07-21T10:31:30.150Z"
   },
   {
    "duration": 16,
    "start_time": "2022-07-21T10:32:47.462Z"
   },
   {
    "duration": 33,
    "start_time": "2022-07-21T10:33:26.028Z"
   },
   {
    "duration": 10,
    "start_time": "2022-07-21T10:34:01.174Z"
   },
   {
    "duration": 18,
    "start_time": "2022-07-21T10:34:10.825Z"
   },
   {
    "duration": 10,
    "start_time": "2022-07-21T10:34:15.550Z"
   },
   {
    "duration": 45,
    "start_time": "2022-07-21T10:34:20.882Z"
   },
   {
    "duration": 10,
    "start_time": "2022-07-21T10:34:28.868Z"
   },
   {
    "duration": 200,
    "start_time": "2022-07-21T10:35:12.257Z"
   },
   {
    "duration": 80,
    "start_time": "2022-07-21T10:36:52.725Z"
   },
   {
    "duration": 122,
    "start_time": "2022-07-21T10:37:13.029Z"
   },
   {
    "duration": 151,
    "start_time": "2022-07-21T10:37:25.327Z"
   },
   {
    "duration": 107,
    "start_time": "2022-07-21T10:37:36.068Z"
   },
   {
    "duration": 145,
    "start_time": "2022-07-21T10:37:52.852Z"
   },
   {
    "duration": 87,
    "start_time": "2022-07-21T10:38:03.234Z"
   },
   {
    "duration": 49,
    "start_time": "2022-07-21T12:02:10.171Z"
   },
   {
    "duration": 975,
    "start_time": "2022-07-21T12:02:14.316Z"
   },
   {
    "duration": 394,
    "start_time": "2022-07-21T12:02:15.295Z"
   },
   {
    "duration": 226,
    "start_time": "2022-07-21T12:02:15.695Z"
   },
   {
    "duration": 26,
    "start_time": "2022-07-21T12:02:15.923Z"
   },
   {
    "duration": 28,
    "start_time": "2022-07-21T12:02:15.955Z"
   },
   {
    "duration": 21,
    "start_time": "2022-07-21T12:02:15.985Z"
   },
   {
    "duration": 52,
    "start_time": "2022-07-21T12:02:16.007Z"
   },
   {
    "duration": 22,
    "start_time": "2022-07-21T12:02:16.061Z"
   },
   {
    "duration": 16,
    "start_time": "2022-07-21T12:02:16.085Z"
   },
   {
    "duration": 7,
    "start_time": "2022-07-21T12:02:16.106Z"
   },
   {
    "duration": 260,
    "start_time": "2022-07-21T12:02:16.116Z"
   },
   {
    "duration": 40,
    "start_time": "2022-07-21T12:05:22.583Z"
   },
   {
    "duration": 10,
    "start_time": "2022-07-21T12:05:37.117Z"
   },
   {
    "duration": 9,
    "start_time": "2022-07-21T12:06:09.656Z"
   },
   {
    "duration": 9,
    "start_time": "2022-07-21T12:07:18.301Z"
   },
   {
    "duration": 3,
    "start_time": "2022-07-21T12:13:32.776Z"
   },
   {
    "duration": 121,
    "start_time": "2022-07-21T12:13:32.792Z"
   },
   {
    "duration": 78,
    "start_time": "2022-07-21T12:13:32.916Z"
   },
   {
    "duration": 16,
    "start_time": "2022-07-21T12:13:32.995Z"
   },
   {
    "duration": 47,
    "start_time": "2022-07-21T12:13:33.014Z"
   },
   {
    "duration": 20,
    "start_time": "2022-07-21T12:13:33.070Z"
   },
   {
    "duration": 40,
    "start_time": "2022-07-21T12:13:33.092Z"
   },
   {
    "duration": 27,
    "start_time": "2022-07-21T12:13:33.134Z"
   },
   {
    "duration": 30,
    "start_time": "2022-07-21T12:13:33.162Z"
   },
   {
    "duration": 5,
    "start_time": "2022-07-21T12:13:33.193Z"
   },
   {
    "duration": 272,
    "start_time": "2022-07-21T12:13:33.200Z"
   },
   {
    "duration": 100,
    "start_time": "2022-07-21T12:13:33.474Z"
   },
   {
    "duration": 9,
    "start_time": "2022-07-21T12:13:33.577Z"
   },
   {
    "duration": 14,
    "start_time": "2022-07-21T12:13:33.588Z"
   },
   {
    "duration": 8,
    "start_time": "2022-07-21T12:13:33.606Z"
   },
   {
    "duration": 12,
    "start_time": "2022-07-21T12:13:33.616Z"
   },
   {
    "duration": 25,
    "start_time": "2022-07-21T12:13:33.629Z"
   },
   {
    "duration": 35,
    "start_time": "2022-07-21T12:13:33.656Z"
   },
   {
    "duration": 15,
    "start_time": "2022-07-21T12:13:33.693Z"
   },
   {
    "duration": 19,
    "start_time": "2022-07-21T12:13:33.710Z"
   },
   {
    "duration": 64,
    "start_time": "2022-07-21T12:13:33.731Z"
   },
   {
    "duration": 7,
    "start_time": "2022-07-21T12:13:33.797Z"
   },
   {
    "duration": 10,
    "start_time": "2022-07-21T12:13:33.805Z"
   },
   {
    "duration": 67,
    "start_time": "2022-07-21T12:13:33.817Z"
   },
   {
    "duration": 12,
    "start_time": "2022-07-21T12:13:33.886Z"
   },
   {
    "duration": 37,
    "start_time": "2022-07-21T12:13:33.900Z"
   },
   {
    "duration": 245,
    "start_time": "2022-07-21T12:13:33.939Z"
   },
   {
    "duration": 8,
    "start_time": "2022-07-21T12:13:34.186Z"
   },
   {
    "duration": 18,
    "start_time": "2022-07-21T12:13:34.196Z"
   },
   {
    "duration": 8,
    "start_time": "2022-07-21T12:13:34.216Z"
   },
   {
    "duration": 46,
    "start_time": "2022-07-21T12:13:34.226Z"
   },
   {
    "duration": 201,
    "start_time": "2022-07-21T12:13:34.277Z"
   },
   {
    "duration": 23,
    "start_time": "2022-07-21T12:13:34.481Z"
   },
   {
    "duration": 32,
    "start_time": "2022-07-21T12:13:34.506Z"
   },
   {
    "duration": 925,
    "start_time": "2022-07-21T12:13:34.542Z"
   },
   {
    "duration": 27,
    "start_time": "2022-07-21T12:13:35.476Z"
   },
   {
    "duration": 58,
    "start_time": "2022-07-21T12:13:35.504Z"
   },
   {
    "duration": 220,
    "start_time": "2022-07-21T12:13:35.563Z"
   },
   {
    "duration": 180,
    "start_time": "2022-07-21T12:13:35.784Z"
   },
   {
    "duration": 15,
    "start_time": "2022-07-21T12:13:35.966Z"
   },
   {
    "duration": 197,
    "start_time": "2022-07-21T12:13:35.986Z"
   },
   {
    "duration": 305,
    "start_time": "2022-07-21T12:13:36.188Z"
   },
   {
    "duration": 321,
    "start_time": "2022-07-21T12:13:36.495Z"
   },
   {
    "duration": 204,
    "start_time": "2022-07-21T12:25:07.463Z"
   },
   {
    "duration": 200,
    "start_time": "2022-07-21T12:25:21.486Z"
   },
   {
    "duration": 134,
    "start_time": "2022-07-21T12:32:15.384Z"
   },
   {
    "duration": 181,
    "start_time": "2022-07-21T12:33:24.727Z"
   },
   {
    "duration": 632,
    "start_time": "2022-07-21T12:35:13.589Z"
   },
   {
    "duration": 294,
    "start_time": "2022-07-21T12:35:49.441Z"
   },
   {
    "duration": 136,
    "start_time": "2022-07-21T12:36:36.129Z"
   },
   {
    "duration": 45,
    "start_time": "2022-07-22T08:03:00.919Z"
   },
   {
    "duration": 805,
    "start_time": "2022-07-22T08:03:08.264Z"
   },
   {
    "duration": 218,
    "start_time": "2022-07-22T08:03:09.072Z"
   },
   {
    "duration": 82,
    "start_time": "2022-07-22T08:03:09.292Z"
   },
   {
    "duration": 21,
    "start_time": "2022-07-22T08:03:09.376Z"
   },
   {
    "duration": 19,
    "start_time": "2022-07-22T08:03:09.399Z"
   },
   {
    "duration": 10,
    "start_time": "2022-07-22T08:03:09.420Z"
   },
   {
    "duration": 72,
    "start_time": "2022-07-22T08:03:09.432Z"
   },
   {
    "duration": 26,
    "start_time": "2022-07-22T08:03:09.506Z"
   },
   {
    "duration": 25,
    "start_time": "2022-07-22T08:03:09.534Z"
   },
   {
    "duration": 12,
    "start_time": "2022-07-22T08:03:09.561Z"
   },
   {
    "duration": 206,
    "start_time": "2022-07-22T08:03:09.575Z"
   },
   {
    "duration": 99,
    "start_time": "2022-07-22T08:03:09.782Z"
   },
   {
    "duration": 25,
    "start_time": "2022-07-22T08:03:09.883Z"
   },
   {
    "duration": 27,
    "start_time": "2022-07-22T08:03:09.911Z"
   },
   {
    "duration": 34,
    "start_time": "2022-07-22T08:03:09.940Z"
   },
   {
    "duration": 18,
    "start_time": "2022-07-22T08:03:09.975Z"
   },
   {
    "duration": 33,
    "start_time": "2022-07-22T08:03:09.994Z"
   },
   {
    "duration": 33,
    "start_time": "2022-07-22T08:03:10.029Z"
   },
   {
    "duration": 55,
    "start_time": "2022-07-22T08:03:10.063Z"
   },
   {
    "duration": 60,
    "start_time": "2022-07-22T08:03:16.228Z"
   },
   {
    "duration": 58,
    "start_time": "2022-07-22T08:10:32.557Z"
   },
   {
    "duration": 13,
    "start_time": "2022-07-22T08:10:50.319Z"
   },
   {
    "duration": 13,
    "start_time": "2022-07-22T08:11:21.377Z"
   },
   {
    "duration": 18,
    "start_time": "2022-07-22T08:12:13.864Z"
   },
   {
    "duration": 12,
    "start_time": "2022-07-22T08:12:36.236Z"
   },
   {
    "duration": 12,
    "start_time": "2022-07-22T08:25:09.470Z"
   },
   {
    "duration": 2,
    "start_time": "2022-07-22T08:26:34.418Z"
   },
   {
    "duration": 113,
    "start_time": "2022-07-22T08:26:34.422Z"
   },
   {
    "duration": 44,
    "start_time": "2022-07-22T08:26:34.537Z"
   },
   {
    "duration": 15,
    "start_time": "2022-07-22T08:26:34.582Z"
   },
   {
    "duration": 39,
    "start_time": "2022-07-22T08:26:34.599Z"
   },
   {
    "duration": 10,
    "start_time": "2022-07-22T08:26:34.640Z"
   },
   {
    "duration": 30,
    "start_time": "2022-07-22T08:26:34.652Z"
   },
   {
    "duration": 17,
    "start_time": "2022-07-22T08:26:34.683Z"
   },
   {
    "duration": 33,
    "start_time": "2022-07-22T08:26:34.703Z"
   },
   {
    "duration": 4,
    "start_time": "2022-07-22T08:26:34.737Z"
   },
   {
    "duration": 194,
    "start_time": "2022-07-22T08:26:34.743Z"
   },
   {
    "duration": 101,
    "start_time": "2022-07-22T08:26:34.938Z"
   },
   {
    "duration": 7,
    "start_time": "2022-07-22T08:26:35.041Z"
   },
   {
    "duration": 18,
    "start_time": "2022-07-22T08:26:35.050Z"
   },
   {
    "duration": 11,
    "start_time": "2022-07-22T08:26:35.069Z"
   },
   {
    "duration": 25,
    "start_time": "2022-07-22T08:26:35.082Z"
   },
   {
    "duration": 38,
    "start_time": "2022-07-22T08:26:35.109Z"
   },
   {
    "duration": 25,
    "start_time": "2022-07-22T08:26:35.149Z"
   },
   {
    "duration": 14,
    "start_time": "2022-07-22T08:26:35.177Z"
   },
   {
    "duration": 59,
    "start_time": "2022-07-22T08:26:35.194Z"
   },
   {
    "duration": 34,
    "start_time": "2022-07-22T08:26:35.255Z"
   },
   {
    "duration": 79,
    "start_time": "2022-07-22T08:26:35.292Z"
   },
   {
    "duration": 10,
    "start_time": "2022-07-22T08:26:55.526Z"
   },
   {
    "duration": 7,
    "start_time": "2022-07-22T08:27:05.474Z"
   },
   {
    "duration": 9,
    "start_time": "2022-07-22T08:27:09.263Z"
   },
   {
    "duration": 3,
    "start_time": "2022-07-22T08:28:47.624Z"
   },
   {
    "duration": 121,
    "start_time": "2022-07-22T08:28:47.629Z"
   },
   {
    "duration": 45,
    "start_time": "2022-07-22T08:28:47.752Z"
   },
   {
    "duration": 19,
    "start_time": "2022-07-22T08:28:47.800Z"
   },
   {
    "duration": 27,
    "start_time": "2022-07-22T08:28:47.822Z"
   },
   {
    "duration": 12,
    "start_time": "2022-07-22T08:28:47.851Z"
   },
   {
    "duration": 48,
    "start_time": "2022-07-22T08:28:47.865Z"
   },
   {
    "duration": 24,
    "start_time": "2022-07-22T08:28:47.916Z"
   },
   {
    "duration": 22,
    "start_time": "2022-07-22T08:28:47.942Z"
   },
   {
    "duration": 45,
    "start_time": "2022-07-22T08:28:47.966Z"
   },
   {
    "duration": 212,
    "start_time": "2022-07-22T08:28:48.013Z"
   },
   {
    "duration": 157,
    "start_time": "2022-07-22T08:28:48.227Z"
   },
   {
    "duration": 17,
    "start_time": "2022-07-22T08:28:48.386Z"
   },
   {
    "duration": 38,
    "start_time": "2022-07-22T08:28:48.406Z"
   },
   {
    "duration": 13,
    "start_time": "2022-07-22T08:28:48.446Z"
   },
   {
    "duration": 12,
    "start_time": "2022-07-22T08:28:48.461Z"
   },
   {
    "duration": 10,
    "start_time": "2022-07-22T08:28:48.475Z"
   },
   {
    "duration": 28,
    "start_time": "2022-07-22T08:28:48.487Z"
   },
   {
    "duration": 23,
    "start_time": "2022-07-22T08:28:48.517Z"
   },
   {
    "duration": 28,
    "start_time": "2022-07-22T08:28:48.542Z"
   },
   {
    "duration": 38,
    "start_time": "2022-07-22T08:28:48.572Z"
   },
   {
    "duration": 49,
    "start_time": "2022-07-22T08:28:48.612Z"
   },
   {
    "duration": 6,
    "start_time": "2022-07-22T08:28:52.371Z"
   },
   {
    "duration": 9,
    "start_time": "2022-07-22T08:28:55.963Z"
   },
   {
    "duration": 8,
    "start_time": "2022-07-22T08:31:37.543Z"
   },
   {
    "duration": 128,
    "start_time": "2022-07-22T08:31:37.554Z"
   },
   {
    "duration": 64,
    "start_time": "2022-07-22T08:31:37.684Z"
   },
   {
    "duration": 15,
    "start_time": "2022-07-22T08:31:37.750Z"
   },
   {
    "duration": 26,
    "start_time": "2022-07-22T08:31:37.768Z"
   },
   {
    "duration": 45,
    "start_time": "2022-07-22T08:31:37.796Z"
   },
   {
    "duration": 42,
    "start_time": "2022-07-22T08:31:37.843Z"
   },
   {
    "duration": 25,
    "start_time": "2022-07-22T08:31:37.887Z"
   },
   {
    "duration": 30,
    "start_time": "2022-07-22T08:31:37.914Z"
   },
   {
    "duration": 9,
    "start_time": "2022-07-22T08:31:37.946Z"
   },
   {
    "duration": 202,
    "start_time": "2022-07-22T08:31:37.957Z"
   },
   {
    "duration": 111,
    "start_time": "2022-07-22T08:31:38.161Z"
   },
   {
    "duration": 8,
    "start_time": "2022-07-22T08:31:38.274Z"
   },
   {
    "duration": 34,
    "start_time": "2022-07-22T08:31:38.303Z"
   },
   {
    "duration": 16,
    "start_time": "2022-07-22T08:31:38.339Z"
   },
   {
    "duration": 18,
    "start_time": "2022-07-22T08:31:38.357Z"
   },
   {
    "duration": 11,
    "start_time": "2022-07-22T08:31:38.377Z"
   },
   {
    "duration": 28,
    "start_time": "2022-07-22T08:31:38.390Z"
   },
   {
    "duration": 20,
    "start_time": "2022-07-22T08:31:38.424Z"
   },
   {
    "duration": 24,
    "start_time": "2022-07-22T08:31:38.446Z"
   },
   {
    "duration": 36,
    "start_time": "2022-07-22T08:31:38.472Z"
   },
   {
    "duration": 41,
    "start_time": "2022-07-22T08:31:38.510Z"
   },
   {
    "duration": 9,
    "start_time": "2022-07-22T08:31:38.553Z"
   },
   {
    "duration": 7,
    "start_time": "2022-07-22T08:31:38.565Z"
   },
   {
    "duration": 16,
    "start_time": "2022-07-22T08:31:38.574Z"
   },
   {
    "duration": 13,
    "start_time": "2022-07-22T08:31:38.591Z"
   },
   {
    "duration": 11,
    "start_time": "2022-07-22T08:31:38.605Z"
   },
   {
    "duration": 53,
    "start_time": "2022-07-22T08:31:38.618Z"
   },
   {
    "duration": 232,
    "start_time": "2022-07-22T08:31:38.673Z"
   },
   {
    "duration": 5,
    "start_time": "2022-07-22T08:31:38.907Z"
   },
   {
    "duration": 50,
    "start_time": "2022-07-22T08:31:38.914Z"
   },
   {
    "duration": 19,
    "start_time": "2022-07-22T08:31:38.966Z"
   },
   {
    "duration": 262,
    "start_time": "2022-07-22T08:31:38.988Z"
   },
   {
    "duration": 216,
    "start_time": "2022-07-22T08:31:39.252Z"
   },
   {
    "duration": 34,
    "start_time": "2022-07-22T08:31:39.470Z"
   },
   {
    "duration": 129,
    "start_time": "2022-07-22T08:31:39.505Z"
   },
   {
    "duration": 776,
    "start_time": "2022-07-22T08:31:39.637Z"
   },
   {
    "duration": 23,
    "start_time": "2022-07-22T08:31:40.415Z"
   },
   {
    "duration": 32,
    "start_time": "2022-07-22T08:31:40.440Z"
   },
   {
    "duration": 252,
    "start_time": "2022-07-22T08:31:40.474Z"
   },
   {
    "duration": 154,
    "start_time": "2022-07-22T08:31:40.731Z"
   },
   {
    "duration": 15,
    "start_time": "2022-07-22T08:31:40.887Z"
   },
   {
    "duration": 188,
    "start_time": "2022-07-22T08:31:40.904Z"
   },
   {
    "duration": 192,
    "start_time": "2022-07-22T08:31:41.093Z"
   },
   {
    "duration": 339,
    "start_time": "2022-07-22T08:31:41.287Z"
   },
   {
    "duration": 275,
    "start_time": "2022-07-22T08:31:41.628Z"
   },
   {
    "duration": 3,
    "start_time": "2022-07-22T08:35:53.891Z"
   },
   {
    "duration": 108,
    "start_time": "2022-07-22T08:35:53.897Z"
   },
   {
    "duration": 46,
    "start_time": "2022-07-22T08:35:54.008Z"
   },
   {
    "duration": 13,
    "start_time": "2022-07-22T08:35:54.056Z"
   },
   {
    "duration": 20,
    "start_time": "2022-07-22T08:35:54.072Z"
   },
   {
    "duration": 14,
    "start_time": "2022-07-22T08:35:54.093Z"
   },
   {
    "duration": 31,
    "start_time": "2022-07-22T08:35:54.108Z"
   },
   {
    "duration": 17,
    "start_time": "2022-07-22T08:35:54.141Z"
   },
   {
    "duration": 18,
    "start_time": "2022-07-22T08:35:54.160Z"
   },
   {
    "duration": 25,
    "start_time": "2022-07-22T08:35:54.179Z"
   },
   {
    "duration": 195,
    "start_time": "2022-07-22T08:35:54.206Z"
   },
   {
    "duration": 76,
    "start_time": "2022-07-22T08:35:54.403Z"
   },
   {
    "duration": 21,
    "start_time": "2022-07-22T08:35:54.481Z"
   },
   {
    "duration": 14,
    "start_time": "2022-07-22T08:35:54.504Z"
   },
   {
    "duration": 12,
    "start_time": "2022-07-22T08:35:54.520Z"
   },
   {
    "duration": 13,
    "start_time": "2022-07-22T08:35:54.534Z"
   },
   {
    "duration": 11,
    "start_time": "2022-07-22T08:35:54.549Z"
   },
   {
    "duration": 40,
    "start_time": "2022-07-22T08:35:54.562Z"
   },
   {
    "duration": 12,
    "start_time": "2022-07-22T08:35:54.603Z"
   },
   {
    "duration": 26,
    "start_time": "2022-07-22T08:35:54.617Z"
   },
   {
    "duration": 16,
    "start_time": "2022-07-22T08:35:54.645Z"
   },
   {
    "duration": 46,
    "start_time": "2022-07-22T08:35:54.663Z"
   },
   {
    "duration": 6,
    "start_time": "2022-07-22T08:35:58.030Z"
   },
   {
    "duration": 11,
    "start_time": "2022-07-22T08:36:05.424Z"
   },
   {
    "duration": 8,
    "start_time": "2022-07-22T08:36:36.151Z"
   },
   {
    "duration": 38,
    "start_time": "2022-07-22T08:37:23.131Z"
   },
   {
    "duration": 102,
    "start_time": "2022-07-22T08:37:30.575Z"
   },
   {
    "duration": 75,
    "start_time": "2022-07-22T10:55:52.992Z"
   },
   {
    "duration": 884,
    "start_time": "2022-07-22T10:56:00.135Z"
   },
   {
    "duration": 224,
    "start_time": "2022-07-22T10:56:01.021Z"
   },
   {
    "duration": 79,
    "start_time": "2022-07-22T10:56:01.247Z"
   },
   {
    "duration": 17,
    "start_time": "2022-07-22T10:56:01.328Z"
   },
   {
    "duration": 46,
    "start_time": "2022-07-22T10:56:01.347Z"
   },
   {
    "duration": 14,
    "start_time": "2022-07-22T10:56:01.395Z"
   },
   {
    "duration": 71,
    "start_time": "2022-07-22T10:56:01.411Z"
   },
   {
    "duration": 16,
    "start_time": "2022-07-22T10:56:01.484Z"
   },
   {
    "duration": 25,
    "start_time": "2022-07-22T10:56:01.501Z"
   },
   {
    "duration": 25,
    "start_time": "2022-07-22T10:56:01.529Z"
   },
   {
    "duration": 150,
    "start_time": "2022-07-22T10:56:01.556Z"
   },
   {
    "duration": 102,
    "start_time": "2022-07-22T10:56:01.707Z"
   },
   {
    "duration": 8,
    "start_time": "2022-07-22T10:56:01.811Z"
   },
   {
    "duration": 22,
    "start_time": "2022-07-22T10:56:01.820Z"
   },
   {
    "duration": 25,
    "start_time": "2022-07-22T10:56:01.844Z"
   },
   {
    "duration": 22,
    "start_time": "2022-07-22T10:56:01.871Z"
   },
   {
    "duration": 9,
    "start_time": "2022-07-22T10:56:01.894Z"
   },
   {
    "duration": 24,
    "start_time": "2022-07-22T10:56:01.905Z"
   },
   {
    "duration": 12,
    "start_time": "2022-07-22T10:56:01.930Z"
   },
   {
    "duration": 34,
    "start_time": "2022-07-22T10:56:01.944Z"
   },
   {
    "duration": 19,
    "start_time": "2022-07-22T10:56:01.980Z"
   },
   {
    "duration": 23,
    "start_time": "2022-07-22T10:56:02.001Z"
   },
   {
    "duration": 13,
    "start_time": "2022-07-22T10:56:02.027Z"
   },
   {
    "duration": 22,
    "start_time": "2022-07-22T10:56:02.043Z"
   },
   {
    "duration": 14,
    "start_time": "2022-07-22T10:56:02.067Z"
   },
   {
    "duration": 15,
    "start_time": "2022-07-22T10:56:02.083Z"
   },
   {
    "duration": 119,
    "start_time": "2022-07-22T10:56:02.100Z"
   },
   {
    "duration": 15,
    "start_time": "2022-07-22T10:56:02.222Z"
   },
   {
    "duration": 19,
    "start_time": "2022-07-22T10:57:31.773Z"
   },
   {
    "duration": 174,
    "start_time": "2022-07-22T10:58:41.721Z"
   },
   {
    "duration": 42,
    "start_time": "2022-07-22T10:59:56.258Z"
   },
   {
    "duration": 10,
    "start_time": "2022-07-22T11:01:14.009Z"
   },
   {
    "duration": 15,
    "start_time": "2022-07-22T11:08:35.290Z"
   },
   {
    "duration": 3,
    "start_time": "2022-07-22T11:11:22.260Z"
   },
   {
    "duration": 124,
    "start_time": "2022-07-22T11:11:22.267Z"
   },
   {
    "duration": 44,
    "start_time": "2022-07-22T11:11:22.393Z"
   },
   {
    "duration": 13,
    "start_time": "2022-07-22T11:11:22.439Z"
   },
   {
    "duration": 26,
    "start_time": "2022-07-22T11:11:22.455Z"
   },
   {
    "duration": 15,
    "start_time": "2022-07-22T11:11:22.483Z"
   },
   {
    "duration": 33,
    "start_time": "2022-07-22T11:11:22.499Z"
   },
   {
    "duration": 37,
    "start_time": "2022-07-22T11:11:22.534Z"
   },
   {
    "duration": 27,
    "start_time": "2022-07-22T11:11:22.573Z"
   },
   {
    "duration": 5,
    "start_time": "2022-07-22T11:11:22.603Z"
   },
   {
    "duration": 225,
    "start_time": "2022-07-22T11:11:22.611Z"
   },
   {
    "duration": 105,
    "start_time": "2022-07-22T11:11:22.838Z"
   },
   {
    "duration": 20,
    "start_time": "2022-07-22T11:11:22.945Z"
   },
   {
    "duration": 26,
    "start_time": "2022-07-22T11:11:22.968Z"
   },
   {
    "duration": 8,
    "start_time": "2022-07-22T11:11:22.996Z"
   },
   {
    "duration": 23,
    "start_time": "2022-07-22T11:11:23.006Z"
   },
   {
    "duration": 6,
    "start_time": "2022-07-22T11:11:23.031Z"
   },
   {
    "duration": 14,
    "start_time": "2022-07-22T11:11:23.038Z"
   },
   {
    "duration": 12,
    "start_time": "2022-07-22T11:11:23.054Z"
   },
   {
    "duration": 25,
    "start_time": "2022-07-22T11:11:23.069Z"
   },
   {
    "duration": 16,
    "start_time": "2022-07-22T11:11:23.095Z"
   },
   {
    "duration": 23,
    "start_time": "2022-07-22T11:11:23.113Z"
   },
   {
    "duration": 30,
    "start_time": "2022-07-22T11:11:23.137Z"
   },
   {
    "duration": 19,
    "start_time": "2022-07-22T11:11:23.169Z"
   },
   {
    "duration": 14,
    "start_time": "2022-07-22T11:11:23.189Z"
   },
   {
    "duration": 9,
    "start_time": "2022-07-22T11:11:23.204Z"
   },
   {
    "duration": 119,
    "start_time": "2022-07-22T11:11:23.215Z"
   },
   {
    "duration": 13,
    "start_time": "2022-07-22T11:11:23.336Z"
   },
   {
    "duration": 183,
    "start_time": "2022-07-22T11:11:23.366Z"
   },
   {
    "duration": 31,
    "start_time": "2022-07-22T11:11:23.550Z"
   },
   {
    "duration": 13,
    "start_time": "2022-07-22T11:11:23.583Z"
   },
   {
    "duration": 5,
    "start_time": "2022-07-22T11:11:23.597Z"
   },
   {
    "duration": 8,
    "start_time": "2022-07-22T11:11:23.603Z"
   },
   {
    "duration": 11,
    "start_time": "2022-07-22T11:11:23.613Z"
   },
   {
    "duration": 164,
    "start_time": "2022-07-22T11:11:23.625Z"
   },
   {
    "duration": 4,
    "start_time": "2022-07-22T11:11:23.791Z"
   },
   {
    "duration": 7,
    "start_time": "2022-07-22T11:11:23.797Z"
   },
   {
    "duration": 11,
    "start_time": "2022-07-22T11:11:23.805Z"
   },
   {
    "duration": 177,
    "start_time": "2022-07-22T11:11:23.817Z"
   },
   {
    "duration": 161,
    "start_time": "2022-07-22T11:11:23.995Z"
   },
   {
    "duration": 28,
    "start_time": "2022-07-22T11:11:24.157Z"
   },
   {
    "duration": 21,
    "start_time": "2022-07-22T11:11:24.186Z"
   },
   {
    "duration": 692,
    "start_time": "2022-07-22T11:11:24.209Z"
   },
   {
    "duration": 20,
    "start_time": "2022-07-22T11:11:24.902Z"
   },
   {
    "duration": 52,
    "start_time": "2022-07-22T11:11:24.924Z"
   },
   {
    "duration": 206,
    "start_time": "2022-07-22T11:11:24.978Z"
   },
   {
    "duration": 131,
    "start_time": "2022-07-22T11:11:25.186Z"
   },
   {
    "duration": 7,
    "start_time": "2022-07-22T11:11:25.318Z"
   },
   {
    "duration": 179,
    "start_time": "2022-07-22T11:11:25.327Z"
   },
   {
    "duration": 135,
    "start_time": "2022-07-22T11:11:25.507Z"
   },
   {
    "duration": 344,
    "start_time": "2022-07-22T11:11:25.644Z"
   },
   {
    "duration": 250,
    "start_time": "2022-07-22T11:11:25.990Z"
   },
   {
    "duration": 92,
    "start_time": "2022-07-22T11:22:35.253Z"
   },
   {
    "duration": 4,
    "start_time": "2022-07-22T11:24:54.154Z"
   },
   {
    "duration": 149,
    "start_time": "2022-07-22T11:24:54.160Z"
   },
   {
    "duration": 48,
    "start_time": "2022-07-22T11:24:54.311Z"
   },
   {
    "duration": 18,
    "start_time": "2022-07-22T11:24:54.361Z"
   },
   {
    "duration": 30,
    "start_time": "2022-07-22T11:24:54.382Z"
   },
   {
    "duration": 16,
    "start_time": "2022-07-22T11:24:54.414Z"
   },
   {
    "duration": 41,
    "start_time": "2022-07-22T11:24:54.432Z"
   },
   {
    "duration": 35,
    "start_time": "2022-07-22T11:24:54.475Z"
   },
   {
    "duration": 15,
    "start_time": "2022-07-22T11:24:54.512Z"
   },
   {
    "duration": 8,
    "start_time": "2022-07-22T11:24:54.529Z"
   },
   {
    "duration": 205,
    "start_time": "2022-07-22T11:24:54.539Z"
   },
   {
    "duration": 109,
    "start_time": "2022-07-22T11:24:54.745Z"
   },
   {
    "duration": 10,
    "start_time": "2022-07-22T11:24:54.865Z"
   },
   {
    "duration": 21,
    "start_time": "2022-07-22T11:24:54.878Z"
   },
   {
    "duration": 12,
    "start_time": "2022-07-22T11:24:54.901Z"
   },
   {
    "duration": 19,
    "start_time": "2022-07-22T11:24:54.914Z"
   },
   {
    "duration": 7,
    "start_time": "2022-07-22T11:24:54.935Z"
   },
   {
    "duration": 30,
    "start_time": "2022-07-22T11:24:54.944Z"
   },
   {
    "duration": 14,
    "start_time": "2022-07-22T11:24:54.976Z"
   },
   {
    "duration": 20,
    "start_time": "2022-07-22T11:24:54.991Z"
   },
   {
    "duration": 17,
    "start_time": "2022-07-22T11:24:55.012Z"
   },
   {
    "duration": 58,
    "start_time": "2022-07-22T11:24:55.031Z"
   },
   {
    "duration": 6,
    "start_time": "2022-07-22T11:24:57.693Z"
   },
   {
    "duration": 11,
    "start_time": "2022-07-22T11:25:01.082Z"
   },
   {
    "duration": 6,
    "start_time": "2022-07-22T11:29:22.760Z"
   },
   {
    "duration": 10,
    "start_time": "2022-07-22T11:29:41.213Z"
   },
   {
    "duration": 10,
    "start_time": "2022-07-22T11:30:18.380Z"
   },
   {
    "duration": 18,
    "start_time": "2022-07-22T11:30:19.152Z"
   },
   {
    "duration": 106,
    "start_time": "2022-07-22T11:30:53.272Z"
   },
   {
    "duration": 58,
    "start_time": "2022-07-22T11:31:01.013Z"
   },
   {
    "duration": 278,
    "start_time": "2022-07-22T11:31:51.348Z"
   },
   {
    "duration": 4,
    "start_time": "2022-07-22T11:37:05.913Z"
   },
   {
    "duration": 180,
    "start_time": "2022-07-22T11:37:05.925Z"
   },
   {
    "duration": 80,
    "start_time": "2022-07-22T11:37:06.113Z"
   },
   {
    "duration": 30,
    "start_time": "2022-07-22T11:37:06.200Z"
   },
   {
    "duration": 86,
    "start_time": "2022-07-22T11:37:06.233Z"
   },
   {
    "duration": 18,
    "start_time": "2022-07-22T11:37:06.327Z"
   },
   {
    "duration": 55,
    "start_time": "2022-07-22T11:37:06.347Z"
   },
   {
    "duration": 19,
    "start_time": "2022-07-22T11:37:06.405Z"
   },
   {
    "duration": 23,
    "start_time": "2022-07-22T11:37:06.426Z"
   },
   {
    "duration": 20,
    "start_time": "2022-07-22T11:37:06.451Z"
   },
   {
    "duration": 170,
    "start_time": "2022-07-22T11:37:06.473Z"
   },
   {
    "duration": 100,
    "start_time": "2022-07-22T11:37:06.645Z"
   },
   {
    "duration": 17,
    "start_time": "2022-07-22T11:37:06.747Z"
   },
   {
    "duration": 18,
    "start_time": "2022-07-22T11:37:06.766Z"
   },
   {
    "duration": 11,
    "start_time": "2022-07-22T11:37:06.788Z"
   },
   {
    "duration": 11,
    "start_time": "2022-07-22T11:37:06.801Z"
   },
   {
    "duration": 14,
    "start_time": "2022-07-22T11:37:06.815Z"
   },
   {
    "duration": 31,
    "start_time": "2022-07-22T11:37:06.831Z"
   },
   {
    "duration": 17,
    "start_time": "2022-07-22T11:37:06.866Z"
   },
   {
    "duration": 32,
    "start_time": "2022-07-22T11:37:06.886Z"
   },
   {
    "duration": 50,
    "start_time": "2022-07-22T11:37:06.921Z"
   },
   {
    "duration": 59,
    "start_time": "2022-07-22T11:37:06.974Z"
   },
   {
    "duration": 7,
    "start_time": "2022-07-22T11:37:07.036Z"
   },
   {
    "duration": 8,
    "start_time": "2022-07-22T11:37:07.046Z"
   },
   {
    "duration": 29,
    "start_time": "2022-07-22T11:37:07.056Z"
   },
   {
    "duration": 147,
    "start_time": "2022-07-22T11:37:07.087Z"
   },
   {
    "duration": 6,
    "start_time": "2022-07-22T11:37:07.237Z"
   },
   {
    "duration": 193,
    "start_time": "2022-07-22T11:37:07.245Z"
   },
   {
    "duration": 31,
    "start_time": "2022-07-22T11:37:07.441Z"
   },
   {
    "duration": 20,
    "start_time": "2022-07-22T11:37:07.480Z"
   },
   {
    "duration": 7,
    "start_time": "2022-07-22T11:37:07.502Z"
   },
   {
    "duration": 6,
    "start_time": "2022-07-22T11:37:07.520Z"
   },
   {
    "duration": 7,
    "start_time": "2022-07-22T11:37:07.532Z"
   },
   {
    "duration": 181,
    "start_time": "2022-07-22T11:37:07.541Z"
   },
   {
    "duration": 5,
    "start_time": "2022-07-22T11:37:07.724Z"
   },
   {
    "duration": 12,
    "start_time": "2022-07-22T11:37:07.731Z"
   },
   {
    "duration": 12,
    "start_time": "2022-07-22T11:37:07.745Z"
   },
   {
    "duration": 292,
    "start_time": "2022-07-22T11:37:07.759Z"
   },
   {
    "duration": 227,
    "start_time": "2022-07-22T11:37:08.054Z"
   },
   {
    "duration": 30,
    "start_time": "2022-07-22T11:37:08.284Z"
   },
   {
    "duration": 54,
    "start_time": "2022-07-22T11:37:08.317Z"
   },
   {
    "duration": 975,
    "start_time": "2022-07-22T11:37:08.376Z"
   },
   {
    "duration": 55,
    "start_time": "2022-07-22T11:37:09.353Z"
   },
   {
    "duration": 91,
    "start_time": "2022-07-22T11:37:09.411Z"
   },
   {
    "duration": 432,
    "start_time": "2022-07-22T11:37:09.504Z"
   },
   {
    "duration": 210,
    "start_time": "2022-07-22T11:37:09.944Z"
   },
   {
    "duration": 14,
    "start_time": "2022-07-22T11:37:10.158Z"
   },
   {
    "duration": 229,
    "start_time": "2022-07-22T11:37:10.174Z"
   },
   {
    "duration": 188,
    "start_time": "2022-07-22T11:37:10.409Z"
   },
   {
    "duration": 384,
    "start_time": "2022-07-22T11:37:10.600Z"
   },
   {
    "duration": 430,
    "start_time": "2022-07-22T11:37:10.986Z"
   },
   {
    "duration": 3,
    "start_time": "2022-07-22T11:39:38.052Z"
   },
   {
    "duration": 151,
    "start_time": "2022-07-22T11:39:38.057Z"
   },
   {
    "duration": 47,
    "start_time": "2022-07-22T11:39:38.210Z"
   },
   {
    "duration": 18,
    "start_time": "2022-07-22T11:39:38.259Z"
   },
   {
    "duration": 52,
    "start_time": "2022-07-22T11:39:38.280Z"
   },
   {
    "duration": 16,
    "start_time": "2022-07-22T11:39:38.335Z"
   },
   {
    "duration": 58,
    "start_time": "2022-07-22T11:39:38.353Z"
   },
   {
    "duration": 29,
    "start_time": "2022-07-22T11:39:38.414Z"
   },
   {
    "duration": 37,
    "start_time": "2022-07-22T11:39:38.445Z"
   },
   {
    "duration": 40,
    "start_time": "2022-07-22T11:39:38.484Z"
   },
   {
    "duration": 241,
    "start_time": "2022-07-22T11:39:38.529Z"
   },
   {
    "duration": 151,
    "start_time": "2022-07-22T11:39:38.773Z"
   },
   {
    "duration": 12,
    "start_time": "2022-07-22T11:39:38.931Z"
   },
   {
    "duration": 94,
    "start_time": "2022-07-22T11:39:38.949Z"
   },
   {
    "duration": 48,
    "start_time": "2022-07-22T11:39:39.045Z"
   },
   {
    "duration": 82,
    "start_time": "2022-07-22T11:39:39.096Z"
   },
   {
    "duration": 76,
    "start_time": "2022-07-22T11:39:39.183Z"
   },
   {
    "duration": 77,
    "start_time": "2022-07-22T11:39:39.263Z"
   },
   {
    "duration": 29,
    "start_time": "2022-07-22T11:39:39.342Z"
   },
   {
    "duration": 81,
    "start_time": "2022-07-22T11:39:39.374Z"
   },
   {
    "duration": 25,
    "start_time": "2022-07-22T11:39:39.457Z"
   },
   {
    "duration": 41,
    "start_time": "2022-07-22T11:39:39.484Z"
   },
   {
    "duration": 65,
    "start_time": "2022-07-22T11:39:39.527Z"
   },
   {
    "duration": 15,
    "start_time": "2022-07-22T11:39:39.594Z"
   },
   {
    "duration": 12,
    "start_time": "2022-07-22T11:39:39.614Z"
   },
   {
    "duration": 164,
    "start_time": "2022-07-22T11:39:39.628Z"
   },
   {
    "duration": 8,
    "start_time": "2022-07-22T11:39:39.794Z"
   },
   {
    "duration": 168,
    "start_time": "2022-07-22T11:39:39.806Z"
   },
   {
    "duration": 32,
    "start_time": "2022-07-22T11:39:39.979Z"
   },
   {
    "duration": 22,
    "start_time": "2022-07-22T11:39:40.013Z"
   },
   {
    "duration": 22,
    "start_time": "2022-07-22T11:39:40.037Z"
   },
   {
    "duration": 45,
    "start_time": "2022-07-22T11:39:40.062Z"
   },
   {
    "duration": 30,
    "start_time": "2022-07-22T11:39:40.109Z"
   },
   {
    "duration": 195,
    "start_time": "2022-07-22T11:39:40.141Z"
   },
   {
    "duration": 4,
    "start_time": "2022-07-22T11:39:40.338Z"
   },
   {
    "duration": 10,
    "start_time": "2022-07-22T11:39:40.345Z"
   },
   {
    "duration": 53,
    "start_time": "2022-07-22T11:39:40.357Z"
   },
   {
    "duration": 281,
    "start_time": "2022-07-22T11:39:40.412Z"
   },
   {
    "duration": 251,
    "start_time": "2022-07-22T11:39:40.695Z"
   },
   {
    "duration": 37,
    "start_time": "2022-07-22T11:39:40.949Z"
   },
   {
    "duration": 156,
    "start_time": "2022-07-22T11:39:40.988Z"
   },
   {
    "duration": 1166,
    "start_time": "2022-07-22T11:39:41.146Z"
   },
   {
    "duration": 28,
    "start_time": "2022-07-22T11:39:42.315Z"
   },
   {
    "duration": 58,
    "start_time": "2022-07-22T11:39:42.345Z"
   },
   {
    "duration": 299,
    "start_time": "2022-07-22T11:39:42.406Z"
   },
   {
    "duration": 215,
    "start_time": "2022-07-22T11:39:42.707Z"
   },
   {
    "duration": 14,
    "start_time": "2022-07-22T11:39:42.925Z"
   },
   {
    "duration": 402,
    "start_time": "2022-07-22T11:39:42.942Z"
   },
   {
    "duration": 253,
    "start_time": "2022-07-22T11:39:43.346Z"
   },
   {
    "duration": 347,
    "start_time": "2022-07-22T11:39:43.601Z"
   },
   {
    "duration": 336,
    "start_time": "2022-07-22T11:39:43.950Z"
   },
   {
    "duration": 4,
    "start_time": "2022-07-22T11:42:12.694Z"
   },
   {
    "duration": 173,
    "start_time": "2022-07-22T11:42:12.702Z"
   },
   {
    "duration": 76,
    "start_time": "2022-07-22T11:42:12.877Z"
   },
   {
    "duration": 25,
    "start_time": "2022-07-22T11:42:12.955Z"
   },
   {
    "duration": 51,
    "start_time": "2022-07-22T11:42:12.983Z"
   },
   {
    "duration": 22,
    "start_time": "2022-07-22T11:42:13.036Z"
   },
   {
    "duration": 46,
    "start_time": "2022-07-22T11:42:13.060Z"
   },
   {
    "duration": 39,
    "start_time": "2022-07-22T11:42:13.109Z"
   },
   {
    "duration": 76,
    "start_time": "2022-07-22T11:42:13.150Z"
   },
   {
    "duration": 5,
    "start_time": "2022-07-22T11:42:13.228Z"
   },
   {
    "duration": 230,
    "start_time": "2022-07-22T11:42:13.235Z"
   },
   {
    "duration": 121,
    "start_time": "2022-07-22T11:42:13.468Z"
   },
   {
    "duration": 11,
    "start_time": "2022-07-22T11:42:13.593Z"
   },
   {
    "duration": 14,
    "start_time": "2022-07-22T11:42:13.606Z"
   },
   {
    "duration": 13,
    "start_time": "2022-07-22T11:42:13.621Z"
   },
   {
    "duration": 10,
    "start_time": "2022-07-22T11:42:13.636Z"
   },
   {
    "duration": 17,
    "start_time": "2022-07-22T11:42:13.647Z"
   },
   {
    "duration": 47,
    "start_time": "2022-07-22T11:42:13.666Z"
   },
   {
    "duration": 12,
    "start_time": "2022-07-22T11:42:13.716Z"
   },
   {
    "duration": 23,
    "start_time": "2022-07-22T11:42:13.729Z"
   },
   {
    "duration": 40,
    "start_time": "2022-07-22T11:42:13.754Z"
   },
   {
    "duration": 35,
    "start_time": "2022-07-22T11:42:13.796Z"
   },
   {
    "duration": 9,
    "start_time": "2022-07-22T11:42:13.834Z"
   },
   {
    "duration": 11,
    "start_time": "2022-07-22T11:42:13.844Z"
   },
   {
    "duration": 127,
    "start_time": "2022-07-22T11:42:13.857Z"
   },
   {
    "duration": 6,
    "start_time": "2022-07-22T11:42:13.987Z"
   },
   {
    "duration": 148,
    "start_time": "2022-07-22T11:42:13.995Z"
   },
   {
    "duration": 42,
    "start_time": "2022-07-22T11:42:14.146Z"
   },
   {
    "duration": 32,
    "start_time": "2022-07-22T11:42:14.194Z"
   },
   {
    "duration": 7,
    "start_time": "2022-07-22T11:42:14.228Z"
   },
   {
    "duration": 50,
    "start_time": "2022-07-22T11:42:14.240Z"
   },
   {
    "duration": 22,
    "start_time": "2022-07-22T11:42:14.293Z"
   },
   {
    "duration": 9,
    "start_time": "2022-07-22T11:42:14.318Z"
   },
   {
    "duration": 301,
    "start_time": "2022-07-22T11:42:14.329Z"
   },
   {
    "duration": 4,
    "start_time": "2022-07-22T11:42:14.632Z"
   },
   {
    "duration": 8,
    "start_time": "2022-07-22T11:42:14.638Z"
   },
   {
    "duration": 7,
    "start_time": "2022-07-22T11:42:14.647Z"
   },
   {
    "duration": 249,
    "start_time": "2022-07-22T11:42:14.656Z"
   },
   {
    "duration": 190,
    "start_time": "2022-07-22T11:42:14.907Z"
   },
   {
    "duration": 29,
    "start_time": "2022-07-22T11:42:15.099Z"
   },
   {
    "duration": 52,
    "start_time": "2022-07-22T11:42:15.130Z"
   },
   {
    "duration": 758,
    "start_time": "2022-07-22T11:42:15.184Z"
   },
   {
    "duration": 37,
    "start_time": "2022-07-22T11:42:15.944Z"
   },
   {
    "duration": 49,
    "start_time": "2022-07-22T11:42:15.983Z"
   },
   {
    "duration": 228,
    "start_time": "2022-07-22T11:42:16.034Z"
   },
   {
    "duration": 180,
    "start_time": "2022-07-22T11:42:16.265Z"
   },
   {
    "duration": 20,
    "start_time": "2022-07-22T11:42:16.447Z"
   },
   {
    "duration": 192,
    "start_time": "2022-07-22T11:42:16.470Z"
   },
   {
    "duration": 184,
    "start_time": "2022-07-22T11:42:16.664Z"
   },
   {
    "duration": 308,
    "start_time": "2022-07-22T11:42:16.850Z"
   },
   {
    "duration": 447,
    "start_time": "2022-07-22T11:42:17.164Z"
   },
   {
    "duration": 6,
    "start_time": "2022-07-22T11:43:49.798Z"
   },
   {
    "duration": 4,
    "start_time": "2022-07-22T11:43:54.345Z"
   },
   {
    "duration": 150,
    "start_time": "2022-07-22T11:43:54.353Z"
   },
   {
    "duration": 45,
    "start_time": "2022-07-22T11:43:54.505Z"
   },
   {
    "duration": 20,
    "start_time": "2022-07-22T11:43:54.552Z"
   },
   {
    "duration": 46,
    "start_time": "2022-07-22T11:43:54.574Z"
   },
   {
    "duration": 12,
    "start_time": "2022-07-22T11:43:54.622Z"
   },
   {
    "duration": 78,
    "start_time": "2022-07-22T11:43:54.636Z"
   },
   {
    "duration": 19,
    "start_time": "2022-07-22T11:43:54.716Z"
   },
   {
    "duration": 16,
    "start_time": "2022-07-22T11:43:54.737Z"
   },
   {
    "duration": 26,
    "start_time": "2022-07-22T11:43:54.763Z"
   },
   {
    "duration": 210,
    "start_time": "2022-07-22T11:43:54.791Z"
   },
   {
    "duration": 104,
    "start_time": "2022-07-22T11:43:55.003Z"
   },
   {
    "duration": 9,
    "start_time": "2022-07-22T11:43:55.110Z"
   },
   {
    "duration": 19,
    "start_time": "2022-07-22T11:43:55.121Z"
   },
   {
    "duration": 15,
    "start_time": "2022-07-22T11:43:55.142Z"
   },
   {
    "duration": 51,
    "start_time": "2022-07-22T11:43:55.158Z"
   },
   {
    "duration": 11,
    "start_time": "2022-07-22T11:43:55.211Z"
   },
   {
    "duration": 18,
    "start_time": "2022-07-22T11:43:55.224Z"
   },
   {
    "duration": 10,
    "start_time": "2022-07-22T11:43:55.244Z"
   },
   {
    "duration": 59,
    "start_time": "2022-07-22T11:43:55.256Z"
   },
   {
    "duration": 19,
    "start_time": "2022-07-22T11:43:55.318Z"
   },
   {
    "duration": 32,
    "start_time": "2022-07-22T11:43:55.339Z"
   },
   {
    "duration": 38,
    "start_time": "2022-07-22T11:43:55.373Z"
   },
   {
    "duration": 8,
    "start_time": "2022-07-22T11:43:55.415Z"
   },
   {
    "duration": 10,
    "start_time": "2022-07-22T11:43:55.425Z"
   },
   {
    "duration": 117,
    "start_time": "2022-07-22T11:43:55.437Z"
   },
   {
    "duration": 8,
    "start_time": "2022-07-22T11:43:55.556Z"
   },
   {
    "duration": 194,
    "start_time": "2022-07-22T11:43:55.565Z"
   },
   {
    "duration": 24,
    "start_time": "2022-07-22T11:43:55.761Z"
   },
   {
    "duration": 29,
    "start_time": "2022-07-22T11:43:55.787Z"
   },
   {
    "duration": 6,
    "start_time": "2022-07-22T11:43:55.818Z"
   },
   {
    "duration": 5,
    "start_time": "2022-07-22T11:43:55.827Z"
   },
   {
    "duration": 26,
    "start_time": "2022-07-22T11:43:55.835Z"
   },
   {
    "duration": 186,
    "start_time": "2022-07-22T11:43:55.864Z"
   },
   {
    "duration": 4,
    "start_time": "2022-07-22T11:43:56.052Z"
   },
   {
    "duration": 29,
    "start_time": "2022-07-22T11:43:56.058Z"
   },
   {
    "duration": 17,
    "start_time": "2022-07-22T11:43:56.094Z"
   },
   {
    "duration": 201,
    "start_time": "2022-07-22T11:43:56.112Z"
   },
   {
    "duration": 198,
    "start_time": "2022-07-22T11:43:56.315Z"
   },
   {
    "duration": 20,
    "start_time": "2022-07-22T11:43:56.515Z"
   },
   {
    "duration": 30,
    "start_time": "2022-07-22T11:43:56.536Z"
   },
   {
    "duration": 787,
    "start_time": "2022-07-22T11:43:56.568Z"
   },
   {
    "duration": 27,
    "start_time": "2022-07-22T11:43:57.357Z"
   },
   {
    "duration": 60,
    "start_time": "2022-07-22T11:43:57.386Z"
   },
   {
    "duration": 262,
    "start_time": "2022-07-22T11:43:57.448Z"
   },
   {
    "duration": 188,
    "start_time": "2022-07-22T11:43:57.712Z"
   },
   {
    "duration": 9,
    "start_time": "2022-07-22T11:43:57.902Z"
   },
   {
    "duration": 326,
    "start_time": "2022-07-22T11:43:57.913Z"
   },
   {
    "duration": 194,
    "start_time": "2022-07-22T11:43:58.241Z"
   },
   {
    "duration": 320,
    "start_time": "2022-07-22T11:43:58.437Z"
   },
   {
    "duration": 355,
    "start_time": "2022-07-22T11:43:58.759Z"
   },
   {
    "duration": 4,
    "start_time": "2022-07-22T11:46:18.344Z"
   },
   {
    "duration": 138,
    "start_time": "2022-07-22T11:46:18.350Z"
   },
   {
    "duration": 48,
    "start_time": "2022-07-22T11:46:18.491Z"
   },
   {
    "duration": 20,
    "start_time": "2022-07-22T11:46:18.543Z"
   },
   {
    "duration": 40,
    "start_time": "2022-07-22T11:46:18.565Z"
   },
   {
    "duration": 23,
    "start_time": "2022-07-22T11:46:18.608Z"
   },
   {
    "duration": 52,
    "start_time": "2022-07-22T11:46:18.633Z"
   },
   {
    "duration": 24,
    "start_time": "2022-07-22T11:46:18.692Z"
   },
   {
    "duration": 24,
    "start_time": "2022-07-22T11:46:18.721Z"
   },
   {
    "duration": 21,
    "start_time": "2022-07-22T11:46:18.748Z"
   },
   {
    "duration": 242,
    "start_time": "2022-07-22T11:46:18.771Z"
   },
   {
    "duration": 152,
    "start_time": "2022-07-22T11:46:19.015Z"
   },
   {
    "duration": 11,
    "start_time": "2022-07-22T11:46:19.169Z"
   },
   {
    "duration": 36,
    "start_time": "2022-07-22T11:46:19.182Z"
   },
   {
    "duration": 14,
    "start_time": "2022-07-22T11:46:19.220Z"
   },
   {
    "duration": 24,
    "start_time": "2022-07-22T11:46:19.236Z"
   },
   {
    "duration": 13,
    "start_time": "2022-07-22T11:46:19.262Z"
   },
   {
    "duration": 51,
    "start_time": "2022-07-22T11:46:19.277Z"
   },
   {
    "duration": 13,
    "start_time": "2022-07-22T11:46:19.330Z"
   },
   {
    "duration": 18,
    "start_time": "2022-07-22T11:46:19.345Z"
   },
   {
    "duration": 33,
    "start_time": "2022-07-22T11:46:19.366Z"
   },
   {
    "duration": 37,
    "start_time": "2022-07-22T11:46:19.402Z"
   },
   {
    "duration": 8,
    "start_time": "2022-07-22T11:46:19.441Z"
   },
   {
    "duration": 24,
    "start_time": "2022-07-22T11:46:19.452Z"
   },
   {
    "duration": 23,
    "start_time": "2022-07-22T11:46:19.478Z"
   },
   {
    "duration": 134,
    "start_time": "2022-07-22T11:46:19.504Z"
   },
   {
    "duration": 26,
    "start_time": "2022-07-22T11:46:19.641Z"
   },
   {
    "duration": 13,
    "start_time": "2022-07-22T11:46:19.670Z"
   },
   {
    "duration": 20,
    "start_time": "2022-07-22T11:46:26.135Z"
   },
   {
    "duration": 6,
    "start_time": "2022-07-22T11:47:05.349Z"
   },
   {
    "duration": 74,
    "start_time": "2022-07-22T11:47:08.498Z"
   },
   {
    "duration": 4,
    "start_time": "2022-07-22T11:47:13.162Z"
   },
   {
    "duration": 148,
    "start_time": "2022-07-22T11:47:13.191Z"
   },
   {
    "duration": 76,
    "start_time": "2022-07-22T11:47:13.341Z"
   },
   {
    "duration": 23,
    "start_time": "2022-07-22T11:47:13.419Z"
   },
   {
    "duration": 35,
    "start_time": "2022-07-22T11:47:13.445Z"
   },
   {
    "duration": 22,
    "start_time": "2022-07-22T11:47:13.483Z"
   },
   {
    "duration": 34,
    "start_time": "2022-07-22T11:47:13.507Z"
   },
   {
    "duration": 29,
    "start_time": "2022-07-22T11:47:13.543Z"
   },
   {
    "duration": 37,
    "start_time": "2022-07-22T11:47:13.574Z"
   },
   {
    "duration": 7,
    "start_time": "2022-07-22T11:47:13.615Z"
   },
   {
    "duration": 194,
    "start_time": "2022-07-22T11:47:13.625Z"
   },
   {
    "duration": 133,
    "start_time": "2022-07-22T11:47:13.821Z"
   },
   {
    "duration": 9,
    "start_time": "2022-07-22T11:47:13.957Z"
   },
   {
    "duration": 36,
    "start_time": "2022-07-22T11:47:13.967Z"
   },
   {
    "duration": 10,
    "start_time": "2022-07-22T11:47:14.008Z"
   },
   {
    "duration": 12,
    "start_time": "2022-07-22T11:47:14.020Z"
   },
   {
    "duration": 13,
    "start_time": "2022-07-22T11:47:14.034Z"
   },
   {
    "duration": 22,
    "start_time": "2022-07-22T11:47:14.049Z"
   },
   {
    "duration": 38,
    "start_time": "2022-07-22T11:47:14.074Z"
   },
   {
    "duration": 26,
    "start_time": "2022-07-22T11:47:14.115Z"
   },
   {
    "duration": 30,
    "start_time": "2022-07-22T11:47:14.143Z"
   },
   {
    "duration": 62,
    "start_time": "2022-07-22T11:47:14.176Z"
   },
   {
    "duration": 13,
    "start_time": "2022-07-22T11:47:14.240Z"
   },
   {
    "duration": 8,
    "start_time": "2022-07-22T11:47:14.255Z"
   },
   {
    "duration": 39,
    "start_time": "2022-07-22T11:47:14.265Z"
   },
   {
    "duration": 174,
    "start_time": "2022-07-22T11:47:14.307Z"
   },
   {
    "duration": 23,
    "start_time": "2022-07-22T11:47:14.483Z"
   },
   {
    "duration": 8,
    "start_time": "2022-07-22T11:47:14.508Z"
   },
   {
    "duration": 30,
    "start_time": "2022-07-22T11:47:14.518Z"
   },
   {
    "duration": 8,
    "start_time": "2022-07-22T11:47:14.564Z"
   },
   {
    "duration": 30,
    "start_time": "2022-07-22T11:47:14.574Z"
   },
   {
    "duration": 20,
    "start_time": "2022-07-22T11:47:14.607Z"
   },
   {
    "duration": 211,
    "start_time": "2022-07-22T11:47:14.629Z"
   },
   {
    "duration": 8,
    "start_time": "2022-07-22T11:47:14.842Z"
   },
   {
    "duration": 13,
    "start_time": "2022-07-22T11:47:14.852Z"
   },
   {
    "duration": 61,
    "start_time": "2022-07-22T11:47:14.868Z"
   },
   {
    "duration": 268,
    "start_time": "2022-07-22T11:47:14.932Z"
   },
   {
    "duration": 24,
    "start_time": "2022-07-22T11:48:03.209Z"
   },
   {
    "duration": 4,
    "start_time": "2022-07-22T11:48:34.196Z"
   },
   {
    "duration": 142,
    "start_time": "2022-07-22T11:48:34.204Z"
   },
   {
    "duration": 60,
    "start_time": "2022-07-22T11:48:34.348Z"
   },
   {
    "duration": 21,
    "start_time": "2022-07-22T11:48:34.409Z"
   },
   {
    "duration": 34,
    "start_time": "2022-07-22T11:48:34.433Z"
   },
   {
    "duration": 32,
    "start_time": "2022-07-22T11:48:34.469Z"
   },
   {
    "duration": 46,
    "start_time": "2022-07-22T11:48:34.503Z"
   },
   {
    "duration": 22,
    "start_time": "2022-07-22T11:48:34.551Z"
   },
   {
    "duration": 46,
    "start_time": "2022-07-22T11:48:34.576Z"
   },
   {
    "duration": 6,
    "start_time": "2022-07-22T11:48:34.624Z"
   },
   {
    "duration": 214,
    "start_time": "2022-07-22T11:48:34.633Z"
   },
   {
    "duration": 143,
    "start_time": "2022-07-22T11:48:34.865Z"
   },
   {
    "duration": 9,
    "start_time": "2022-07-22T11:48:35.011Z"
   },
   {
    "duration": 22,
    "start_time": "2022-07-22T11:48:35.023Z"
   },
   {
    "duration": 14,
    "start_time": "2022-07-22T11:48:35.063Z"
   },
   {
    "duration": 20,
    "start_time": "2022-07-22T11:48:35.079Z"
   },
   {
    "duration": 17,
    "start_time": "2022-07-22T11:48:35.101Z"
   },
   {
    "duration": 24,
    "start_time": "2022-07-22T11:48:35.120Z"
   },
   {
    "duration": 21,
    "start_time": "2022-07-22T11:48:35.146Z"
   },
   {
    "duration": 54,
    "start_time": "2022-07-22T11:48:35.169Z"
   },
   {
    "duration": 31,
    "start_time": "2022-07-22T11:48:35.226Z"
   },
   {
    "duration": 52,
    "start_time": "2022-07-22T11:48:35.259Z"
   },
   {
    "duration": 14,
    "start_time": "2022-07-22T11:48:35.313Z"
   },
   {
    "duration": 20,
    "start_time": "2022-07-22T11:48:35.330Z"
   },
   {
    "duration": 149,
    "start_time": "2022-07-22T11:48:35.353Z"
   },
   {
    "duration": 18,
    "start_time": "2022-07-22T11:48:35.504Z"
   },
   {
    "duration": 14,
    "start_time": "2022-07-22T11:48:35.523Z"
   },
   {
    "duration": 20,
    "start_time": "2022-07-22T11:48:35.539Z"
   },
   {
    "duration": 42,
    "start_time": "2022-07-22T11:48:35.564Z"
   },
   {
    "duration": 5,
    "start_time": "2022-07-22T11:48:35.608Z"
   },
   {
    "duration": 16,
    "start_time": "2022-07-22T11:48:35.614Z"
   },
   {
    "duration": 20,
    "start_time": "2022-07-22T11:48:35.632Z"
   },
   {
    "duration": 169,
    "start_time": "2022-07-22T11:48:35.654Z"
   },
   {
    "duration": 5,
    "start_time": "2022-07-22T11:48:35.825Z"
   },
   {
    "duration": 8,
    "start_time": "2022-07-22T11:48:35.832Z"
   },
   {
    "duration": 8,
    "start_time": "2022-07-22T11:48:35.842Z"
   },
   {
    "duration": 35,
    "start_time": "2022-07-22T11:48:35.852Z"
   },
   {
    "duration": 200,
    "start_time": "2022-07-22T11:48:35.890Z"
   },
   {
    "duration": 305,
    "start_time": "2022-07-22T11:48:36.092Z"
   },
   {
    "duration": 26,
    "start_time": "2022-07-22T11:48:36.399Z"
   },
   {
    "duration": 49,
    "start_time": "2022-07-22T11:48:36.428Z"
   },
   {
    "duration": 741,
    "start_time": "2022-07-22T11:48:36.479Z"
   },
   {
    "duration": 31,
    "start_time": "2022-07-22T11:48:37.222Z"
   },
   {
    "duration": 41,
    "start_time": "2022-07-22T11:48:37.265Z"
   },
   {
    "duration": 263,
    "start_time": "2022-07-22T11:48:37.308Z"
   },
   {
    "duration": 157,
    "start_time": "2022-07-22T11:48:37.573Z"
   },
   {
    "duration": 7,
    "start_time": "2022-07-22T11:48:37.732Z"
   },
   {
    "duration": 190,
    "start_time": "2022-07-22T11:48:37.741Z"
   },
   {
    "duration": 162,
    "start_time": "2022-07-22T11:48:37.932Z"
   },
   {
    "duration": 305,
    "start_time": "2022-07-22T11:48:38.096Z"
   },
   {
    "duration": 294,
    "start_time": "2022-07-22T11:48:38.403Z"
   },
   {
    "duration": 5,
    "start_time": "2022-07-22T11:49:32.086Z"
   },
   {
    "duration": 142,
    "start_time": "2022-07-22T11:49:32.093Z"
   },
   {
    "duration": 68,
    "start_time": "2022-07-22T11:49:32.237Z"
   },
   {
    "duration": 14,
    "start_time": "2022-07-22T11:49:32.307Z"
   },
   {
    "duration": 17,
    "start_time": "2022-07-22T11:49:32.323Z"
   },
   {
    "duration": 11,
    "start_time": "2022-07-22T11:49:32.342Z"
   },
   {
    "duration": 53,
    "start_time": "2022-07-22T11:49:32.355Z"
   },
   {
    "duration": 19,
    "start_time": "2022-07-22T11:49:32.409Z"
   },
   {
    "duration": 16,
    "start_time": "2022-07-22T11:49:32.430Z"
   },
   {
    "duration": 23,
    "start_time": "2022-07-22T11:49:32.448Z"
   },
   {
    "duration": 236,
    "start_time": "2022-07-22T11:49:32.475Z"
   },
   {
    "duration": 130,
    "start_time": "2022-07-22T11:49:32.713Z"
   },
   {
    "duration": 8,
    "start_time": "2022-07-22T11:49:32.845Z"
   },
   {
    "duration": 27,
    "start_time": "2022-07-22T11:49:32.854Z"
   },
   {
    "duration": 37,
    "start_time": "2022-07-22T11:49:32.884Z"
   },
   {
    "duration": 24,
    "start_time": "2022-07-22T11:49:32.924Z"
   },
   {
    "duration": 67,
    "start_time": "2022-07-22T11:49:32.950Z"
   },
   {
    "duration": 25,
    "start_time": "2022-07-22T11:49:33.019Z"
   },
   {
    "duration": 14,
    "start_time": "2022-07-22T11:49:33.046Z"
   },
   {
    "duration": 40,
    "start_time": "2022-07-22T11:49:33.062Z"
   },
   {
    "duration": 40,
    "start_time": "2022-07-22T11:49:33.104Z"
   },
   {
    "duration": 20,
    "start_time": "2022-07-22T11:49:33.145Z"
   },
   {
    "duration": 77,
    "start_time": "2022-07-22T11:49:33.167Z"
   },
   {
    "duration": 9,
    "start_time": "2022-07-22T11:49:33.246Z"
   },
   {
    "duration": 110,
    "start_time": "2022-07-22T11:49:33.257Z"
   },
   {
    "duration": 23,
    "start_time": "2022-07-22T11:49:33.369Z"
   },
   {
    "duration": 34,
    "start_time": "2022-07-22T11:49:33.394Z"
   },
   {
    "duration": 19,
    "start_time": "2022-07-22T11:49:33.430Z"
   },
   {
    "duration": 5,
    "start_time": "2022-07-22T11:49:33.452Z"
   },
   {
    "duration": 21,
    "start_time": "2022-07-22T11:49:42.416Z"
   },
   {
    "duration": 4,
    "start_time": "2022-07-22T11:51:01.208Z"
   },
   {
    "duration": 140,
    "start_time": "2022-07-22T11:51:01.240Z"
   },
   {
    "duration": 57,
    "start_time": "2022-07-22T11:51:01.382Z"
   },
   {
    "duration": 19,
    "start_time": "2022-07-22T11:51:01.441Z"
   },
   {
    "duration": 172,
    "start_time": "2022-07-22T11:51:01.462Z"
   },
   {
    "duration": 10,
    "start_time": "2022-07-22T11:51:01.637Z"
   },
   {
    "duration": 65,
    "start_time": "2022-07-22T11:51:01.648Z"
   },
   {
    "duration": 24,
    "start_time": "2022-07-22T11:51:01.715Z"
   },
   {
    "duration": 32,
    "start_time": "2022-07-22T11:51:01.741Z"
   },
   {
    "duration": 9,
    "start_time": "2022-07-22T11:51:01.777Z"
   },
   {
    "duration": 228,
    "start_time": "2022-07-22T11:51:01.788Z"
   },
   {
    "duration": 143,
    "start_time": "2022-07-22T11:51:02.018Z"
   },
   {
    "duration": 15,
    "start_time": "2022-07-22T11:51:02.162Z"
   },
   {
    "duration": 46,
    "start_time": "2022-07-22T11:51:02.179Z"
   },
   {
    "duration": 18,
    "start_time": "2022-07-22T11:51:02.229Z"
   },
   {
    "duration": 55,
    "start_time": "2022-07-22T11:51:02.249Z"
   },
   {
    "duration": 11,
    "start_time": "2022-07-22T11:51:02.306Z"
   },
   {
    "duration": 28,
    "start_time": "2022-07-22T11:51:02.319Z"
   },
   {
    "duration": 19,
    "start_time": "2022-07-22T11:51:02.350Z"
   },
   {
    "duration": 57,
    "start_time": "2022-07-22T11:51:02.372Z"
   },
   {
    "duration": 18,
    "start_time": "2022-07-22T11:51:02.431Z"
   },
   {
    "duration": 50,
    "start_time": "2022-07-22T11:51:02.452Z"
   },
   {
    "duration": 23,
    "start_time": "2022-07-22T11:51:02.504Z"
   },
   {
    "duration": 19,
    "start_time": "2022-07-22T11:51:02.529Z"
   },
   {
    "duration": 183,
    "start_time": "2022-07-22T11:51:02.550Z"
   },
   {
    "duration": 23,
    "start_time": "2022-07-22T11:51:02.735Z"
   },
   {
    "duration": 75,
    "start_time": "2022-07-22T11:51:02.764Z"
   },
   {
    "duration": 27,
    "start_time": "2022-07-22T11:51:02.841Z"
   },
   {
    "duration": 70,
    "start_time": "2022-07-22T11:51:02.869Z"
   },
   {
    "duration": 53,
    "start_time": "2022-07-22T11:51:02.942Z"
   },
   {
    "duration": 3,
    "start_time": "2022-07-22T11:54:11.044Z"
   },
   {
    "duration": 147,
    "start_time": "2022-07-22T11:54:11.050Z"
   },
   {
    "duration": 44,
    "start_time": "2022-07-22T11:54:11.199Z"
   },
   {
    "duration": 14,
    "start_time": "2022-07-22T11:54:11.246Z"
   },
   {
    "duration": 73,
    "start_time": "2022-07-22T11:54:11.262Z"
   },
   {
    "duration": 13,
    "start_time": "2022-07-22T11:54:11.337Z"
   },
   {
    "duration": 61,
    "start_time": "2022-07-22T11:54:11.352Z"
   },
   {
    "duration": 33,
    "start_time": "2022-07-22T11:54:11.416Z"
   },
   {
    "duration": 27,
    "start_time": "2022-07-22T11:54:11.455Z"
   },
   {
    "duration": 53,
    "start_time": "2022-07-22T11:54:11.484Z"
   },
   {
    "duration": 203,
    "start_time": "2022-07-22T11:54:11.539Z"
   },
   {
    "duration": 133,
    "start_time": "2022-07-22T11:54:11.745Z"
   },
   {
    "duration": 10,
    "start_time": "2022-07-22T11:54:11.880Z"
   },
   {
    "duration": 34,
    "start_time": "2022-07-22T11:54:11.895Z"
   },
   {
    "duration": 11,
    "start_time": "2022-07-22T11:54:11.931Z"
   },
   {
    "duration": 13,
    "start_time": "2022-07-22T11:54:11.945Z"
   },
   {
    "duration": 12,
    "start_time": "2022-07-22T11:54:11.963Z"
   },
   {
    "duration": 51,
    "start_time": "2022-07-22T11:54:11.981Z"
   },
   {
    "duration": 18,
    "start_time": "2022-07-22T11:54:12.034Z"
   },
   {
    "duration": 32,
    "start_time": "2022-07-22T11:54:12.054Z"
   },
   {
    "duration": 47,
    "start_time": "2022-07-22T11:54:12.088Z"
   },
   {
    "duration": 32,
    "start_time": "2022-07-22T11:54:12.137Z"
   },
   {
    "duration": 43,
    "start_time": "2022-07-22T11:54:12.172Z"
   },
   {
    "duration": 11,
    "start_time": "2022-07-22T11:54:12.219Z"
   },
   {
    "duration": 132,
    "start_time": "2022-07-22T11:54:12.232Z"
   },
   {
    "duration": 22,
    "start_time": "2022-07-22T11:54:12.366Z"
   },
   {
    "duration": 33,
    "start_time": "2022-07-22T11:54:12.390Z"
   },
   {
    "duration": 5,
    "start_time": "2022-07-22T11:54:12.425Z"
   },
   {
    "duration": 14,
    "start_time": "2022-07-22T11:54:12.431Z"
   },
   {
    "duration": 7,
    "start_time": "2022-07-22T11:54:12.446Z"
   },
   {
    "duration": 21,
    "start_time": "2022-07-22T11:54:12.455Z"
   },
   {
    "duration": 29,
    "start_time": "2022-07-22T11:54:12.479Z"
   },
   {
    "duration": 9,
    "start_time": "2022-07-22T11:54:12.509Z"
   },
   {
    "duration": 35,
    "start_time": "2022-07-22T11:54:12.521Z"
   },
   {
    "duration": 266,
    "start_time": "2022-07-22T11:54:12.559Z"
   },
   {
    "duration": 7,
    "start_time": "2022-07-22T11:54:12.827Z"
   },
   {
    "duration": 17,
    "start_time": "2022-07-22T11:54:12.836Z"
   },
   {
    "duration": 9,
    "start_time": "2022-07-22T11:54:12.855Z"
   },
   {
    "duration": 71,
    "start_time": "2022-07-22T11:54:12.866Z"
   },
   {
    "duration": 215,
    "start_time": "2022-07-22T11:54:12.938Z"
   },
   {
    "duration": 189,
    "start_time": "2022-07-22T11:54:13.156Z"
   },
   {
    "duration": 43,
    "start_time": "2022-07-22T11:54:13.346Z"
   },
   {
    "duration": 47,
    "start_time": "2022-07-22T11:54:13.391Z"
   },
   {
    "duration": 789,
    "start_time": "2022-07-22T11:54:13.440Z"
   },
   {
    "duration": 22,
    "start_time": "2022-07-22T11:54:14.231Z"
   },
   {
    "duration": 62,
    "start_time": "2022-07-22T11:54:14.254Z"
   },
   {
    "duration": 241,
    "start_time": "2022-07-22T11:54:14.318Z"
   },
   {
    "duration": 171,
    "start_time": "2022-07-22T11:54:14.561Z"
   },
   {
    "duration": 6,
    "start_time": "2022-07-22T11:54:14.734Z"
   },
   {
    "duration": 189,
    "start_time": "2022-07-22T11:54:14.741Z"
   },
   {
    "duration": 276,
    "start_time": "2022-07-22T11:54:14.932Z"
   },
   {
    "duration": 345,
    "start_time": "2022-07-22T11:54:15.210Z"
   },
   {
    "duration": 307,
    "start_time": "2022-07-22T11:54:15.557Z"
   },
   {
    "duration": 3,
    "start_time": "2022-07-22T11:57:19.008Z"
   },
   {
    "duration": 119,
    "start_time": "2022-07-22T11:57:19.052Z"
   },
   {
    "duration": 52,
    "start_time": "2022-07-22T11:57:19.174Z"
   },
   {
    "duration": 14,
    "start_time": "2022-07-22T11:57:19.228Z"
   },
   {
    "duration": 18,
    "start_time": "2022-07-22T11:57:19.244Z"
   },
   {
    "duration": 27,
    "start_time": "2022-07-22T11:57:19.266Z"
   },
   {
    "duration": 28,
    "start_time": "2022-07-22T11:57:19.295Z"
   },
   {
    "duration": 18,
    "start_time": "2022-07-22T11:57:19.325Z"
   },
   {
    "duration": 41,
    "start_time": "2022-07-22T11:57:19.345Z"
   },
   {
    "duration": 6,
    "start_time": "2022-07-22T11:57:19.389Z"
   },
   {
    "duration": 215,
    "start_time": "2022-07-22T11:57:19.397Z"
   },
   {
    "duration": 108,
    "start_time": "2022-07-22T11:57:19.614Z"
   },
   {
    "duration": 7,
    "start_time": "2022-07-22T11:57:19.724Z"
   },
   {
    "duration": 17,
    "start_time": "2022-07-22T11:57:19.732Z"
   },
   {
    "duration": 12,
    "start_time": "2022-07-22T11:57:19.763Z"
   },
   {
    "duration": 22,
    "start_time": "2022-07-22T11:57:19.780Z"
   },
   {
    "duration": 13,
    "start_time": "2022-07-22T11:57:19.804Z"
   },
   {
    "duration": 21,
    "start_time": "2022-07-22T11:57:19.819Z"
   },
   {
    "duration": 22,
    "start_time": "2022-07-22T11:57:19.842Z"
   },
   {
    "duration": 25,
    "start_time": "2022-07-22T11:57:19.866Z"
   },
   {
    "duration": 18,
    "start_time": "2022-07-22T11:57:19.892Z"
   },
   {
    "duration": 23,
    "start_time": "2022-07-22T11:57:19.912Z"
   },
   {
    "duration": 33,
    "start_time": "2022-07-22T11:57:19.937Z"
   },
   {
    "duration": 18,
    "start_time": "2022-07-22T11:57:19.974Z"
   },
   {
    "duration": 11,
    "start_time": "2022-07-22T11:57:19.994Z"
   },
   {
    "duration": 120,
    "start_time": "2022-07-22T11:57:20.007Z"
   },
   {
    "duration": 6,
    "start_time": "2022-07-22T11:57:20.129Z"
   },
   {
    "duration": 13,
    "start_time": "2022-07-22T11:57:20.136Z"
   },
   {
    "duration": 20,
    "start_time": "2022-07-22T11:57:20.151Z"
   },
   {
    "duration": 23,
    "start_time": "2022-07-22T11:57:20.173Z"
   },
   {
    "duration": 152,
    "start_time": "2022-07-22T11:57:20.197Z"
   },
   {
    "duration": 4,
    "start_time": "2022-07-22T11:57:20.350Z"
   },
   {
    "duration": 37,
    "start_time": "2022-07-22T11:57:20.355Z"
   },
   {
    "duration": 17,
    "start_time": "2022-07-22T11:57:20.394Z"
   },
   {
    "duration": 27,
    "start_time": "2022-07-22T11:57:20.413Z"
   },
   {
    "duration": 165,
    "start_time": "2022-07-22T11:57:20.441Z"
   },
   {
    "duration": 188,
    "start_time": "2022-07-22T11:57:20.608Z"
   },
   {
    "duration": 22,
    "start_time": "2022-07-22T11:57:20.798Z"
   },
   {
    "duration": 49,
    "start_time": "2022-07-22T11:57:20.822Z"
   },
   {
    "duration": 728,
    "start_time": "2022-07-22T11:57:20.873Z"
   },
   {
    "duration": 21,
    "start_time": "2022-07-22T11:57:21.603Z"
   },
   {
    "duration": 60,
    "start_time": "2022-07-22T11:57:21.629Z"
   },
   {
    "duration": 233,
    "start_time": "2022-07-22T11:57:21.690Z"
   },
   {
    "duration": 279,
    "start_time": "2022-07-22T11:57:21.925Z"
   },
   {
    "duration": 9,
    "start_time": "2022-07-22T11:57:22.206Z"
   },
   {
    "duration": 179,
    "start_time": "2022-07-22T11:57:22.218Z"
   },
   {
    "duration": 153,
    "start_time": "2022-07-22T11:57:22.398Z"
   },
   {
    "duration": 358,
    "start_time": "2022-07-22T11:57:22.553Z"
   },
   {
    "duration": 257,
    "start_time": "2022-07-22T11:57:22.913Z"
   },
   {
    "duration": 4,
    "start_time": "2022-07-22T12:01:15.834Z"
   },
   {
    "duration": 130,
    "start_time": "2022-07-22T12:01:15.842Z"
   },
   {
    "duration": 46,
    "start_time": "2022-07-22T12:01:15.974Z"
   },
   {
    "duration": 22,
    "start_time": "2022-07-22T12:01:16.022Z"
   },
   {
    "duration": 18,
    "start_time": "2022-07-22T12:01:16.047Z"
   },
   {
    "duration": 12,
    "start_time": "2022-07-22T12:01:16.067Z"
   },
   {
    "duration": 29,
    "start_time": "2022-07-22T12:01:16.080Z"
   },
   {
    "duration": 17,
    "start_time": "2022-07-22T12:01:16.110Z"
   },
   {
    "duration": 41,
    "start_time": "2022-07-22T12:01:16.129Z"
   },
   {
    "duration": 4,
    "start_time": "2022-07-22T12:01:16.172Z"
   },
   {
    "duration": 193,
    "start_time": "2022-07-22T12:01:16.179Z"
   },
   {
    "duration": 92,
    "start_time": "2022-07-22T12:01:16.374Z"
   },
   {
    "duration": 7,
    "start_time": "2022-07-22T12:01:16.468Z"
   },
   {
    "duration": 23,
    "start_time": "2022-07-22T12:01:16.477Z"
   },
   {
    "duration": 11,
    "start_time": "2022-07-22T12:01:16.503Z"
   },
   {
    "duration": 12,
    "start_time": "2022-07-22T12:01:16.516Z"
   },
   {
    "duration": 34,
    "start_time": "2022-07-22T12:01:16.530Z"
   },
   {
    "duration": 20,
    "start_time": "2022-07-22T12:01:16.566Z"
   },
   {
    "duration": 12,
    "start_time": "2022-07-22T12:01:16.589Z"
   },
   {
    "duration": 23,
    "start_time": "2022-07-22T12:01:16.603Z"
   },
   {
    "duration": 38,
    "start_time": "2022-07-22T12:01:16.628Z"
   },
   {
    "duration": 21,
    "start_time": "2022-07-22T12:01:16.668Z"
   },
   {
    "duration": 10,
    "start_time": "2022-07-22T12:01:16.691Z"
   },
   {
    "duration": 9,
    "start_time": "2022-07-22T12:01:16.703Z"
   },
   {
    "duration": 12,
    "start_time": "2022-07-22T12:01:16.714Z"
   },
   {
    "duration": 138,
    "start_time": "2022-07-22T12:01:16.728Z"
   },
   {
    "duration": 55,
    "start_time": "2022-07-22T12:01:20.658Z"
   },
   {
    "duration": 6,
    "start_time": "2022-07-22T12:01:30.494Z"
   },
   {
    "duration": 107,
    "start_time": "2022-07-22T12:01:33.499Z"
   },
   {
    "duration": 5,
    "start_time": "2022-07-22T12:02:05.855Z"
   },
   {
    "duration": 3,
    "start_time": "2022-07-22T12:02:17.047Z"
   },
   {
    "duration": 106,
    "start_time": "2022-07-22T12:02:17.053Z"
   },
   {
    "duration": 45,
    "start_time": "2022-07-22T12:02:17.161Z"
   },
   {
    "duration": 13,
    "start_time": "2022-07-22T12:02:17.208Z"
   },
   {
    "duration": 16,
    "start_time": "2022-07-22T12:02:17.223Z"
   },
   {
    "duration": 10,
    "start_time": "2022-07-22T12:02:17.241Z"
   },
   {
    "duration": 53,
    "start_time": "2022-07-22T12:02:17.252Z"
   },
   {
    "duration": 16,
    "start_time": "2022-07-22T12:02:17.306Z"
   },
   {
    "duration": 14,
    "start_time": "2022-07-22T12:02:17.324Z"
   },
   {
    "duration": 4,
    "start_time": "2022-07-22T12:02:17.340Z"
   },
   {
    "duration": 184,
    "start_time": "2022-07-22T12:02:17.347Z"
   },
   {
    "duration": 105,
    "start_time": "2022-07-22T12:02:17.533Z"
   },
   {
    "duration": 7,
    "start_time": "2022-07-22T12:02:17.640Z"
   },
   {
    "duration": 30,
    "start_time": "2022-07-22T12:02:17.648Z"
   },
   {
    "duration": 11,
    "start_time": "2022-07-22T12:02:17.680Z"
   },
   {
    "duration": 9,
    "start_time": "2022-07-22T12:02:17.693Z"
   },
   {
    "duration": 5,
    "start_time": "2022-07-22T12:02:17.704Z"
   },
   {
    "duration": 17,
    "start_time": "2022-07-22T12:02:17.711Z"
   },
   {
    "duration": 10,
    "start_time": "2022-07-22T12:02:17.729Z"
   },
   {
    "duration": 37,
    "start_time": "2022-07-22T12:02:17.740Z"
   },
   {
    "duration": 15,
    "start_time": "2022-07-22T12:02:17.779Z"
   },
   {
    "duration": 28,
    "start_time": "2022-07-22T12:02:17.796Z"
   },
   {
    "duration": 7,
    "start_time": "2022-07-22T12:02:17.826Z"
   },
   {
    "duration": 9,
    "start_time": "2022-07-22T12:02:17.835Z"
   },
   {
    "duration": 131,
    "start_time": "2022-07-22T12:02:17.846Z"
   },
   {
    "duration": 7,
    "start_time": "2022-07-22T12:02:17.979Z"
   },
   {
    "duration": 8,
    "start_time": "2022-07-22T12:02:17.987Z"
   },
   {
    "duration": 7,
    "start_time": "2022-07-22T12:02:17.996Z"
   },
   {
    "duration": 4,
    "start_time": "2022-07-22T12:02:18.006Z"
   },
   {
    "duration": 15,
    "start_time": "2022-07-22T12:02:18.011Z"
   },
   {
    "duration": 176,
    "start_time": "2022-07-22T12:02:18.028Z"
   },
   {
    "duration": 5,
    "start_time": "2022-07-22T12:02:18.206Z"
   },
   {
    "duration": 11,
    "start_time": "2022-07-22T12:02:18.213Z"
   },
   {
    "duration": 12,
    "start_time": "2022-07-22T12:02:18.226Z"
   },
   {
    "duration": 37,
    "start_time": "2022-07-22T12:02:18.240Z"
   },
   {
    "duration": 158,
    "start_time": "2022-07-22T12:02:18.279Z"
   },
   {
    "duration": 188,
    "start_time": "2022-07-22T12:02:18.439Z"
   },
   {
    "duration": 19,
    "start_time": "2022-07-22T12:02:18.629Z"
   },
   {
    "duration": 141,
    "start_time": "2022-07-22T12:02:18.650Z"
   },
   {
    "duration": 797,
    "start_time": "2022-07-22T12:02:18.794Z"
   },
   {
    "duration": 23,
    "start_time": "2022-07-22T12:02:19.593Z"
   },
   {
    "duration": 56,
    "start_time": "2022-07-22T12:02:19.618Z"
   },
   {
    "duration": 193,
    "start_time": "2022-07-22T12:02:19.676Z"
   },
   {
    "duration": 169,
    "start_time": "2022-07-22T12:02:19.871Z"
   },
   {
    "duration": 9,
    "start_time": "2022-07-22T12:02:20.043Z"
   },
   {
    "duration": 202,
    "start_time": "2022-07-22T12:02:20.070Z"
   },
   {
    "duration": 147,
    "start_time": "2022-07-22T12:02:20.279Z"
   },
   {
    "duration": 277,
    "start_time": "2022-07-22T12:02:20.428Z"
   },
   {
    "duration": 289,
    "start_time": "2022-07-22T12:02:20.707Z"
   },
   {
    "duration": 3,
    "start_time": "2022-07-22T12:14:23.172Z"
   },
   {
    "duration": 125,
    "start_time": "2022-07-22T12:14:23.179Z"
   },
   {
    "duration": 45,
    "start_time": "2022-07-22T12:14:23.307Z"
   },
   {
    "duration": 23,
    "start_time": "2022-07-22T12:14:23.354Z"
   },
   {
    "duration": 28,
    "start_time": "2022-07-22T12:14:23.380Z"
   },
   {
    "duration": 22,
    "start_time": "2022-07-22T12:14:23.410Z"
   },
   {
    "duration": 34,
    "start_time": "2022-07-22T12:14:23.434Z"
   },
   {
    "duration": 25,
    "start_time": "2022-07-22T12:14:23.470Z"
   },
   {
    "duration": 14,
    "start_time": "2022-07-22T12:14:23.497Z"
   },
   {
    "duration": 13,
    "start_time": "2022-07-22T12:14:23.513Z"
   },
   {
    "duration": 216,
    "start_time": "2022-07-22T12:14:23.529Z"
   },
   {
    "duration": 130,
    "start_time": "2022-07-22T12:14:23.764Z"
   },
   {
    "duration": 9,
    "start_time": "2022-07-22T12:14:23.897Z"
   },
   {
    "duration": 28,
    "start_time": "2022-07-22T12:14:23.908Z"
   },
   {
    "duration": 21,
    "start_time": "2022-07-22T12:14:23.938Z"
   },
   {
    "duration": 43,
    "start_time": "2022-07-22T12:14:23.961Z"
   },
   {
    "duration": 12,
    "start_time": "2022-07-22T12:14:24.006Z"
   },
   {
    "duration": 44,
    "start_time": "2022-07-22T12:14:24.020Z"
   },
   {
    "duration": 42,
    "start_time": "2022-07-22T12:14:24.066Z"
   },
   {
    "duration": 42,
    "start_time": "2022-07-22T12:14:24.111Z"
   },
   {
    "duration": 37,
    "start_time": "2022-07-22T12:14:24.156Z"
   },
   {
    "duration": 24,
    "start_time": "2022-07-22T12:14:24.195Z"
   },
   {
    "duration": 12,
    "start_time": "2022-07-22T12:14:24.221Z"
   },
   {
    "duration": 15,
    "start_time": "2022-07-22T12:14:24.234Z"
   },
   {
    "duration": 104,
    "start_time": "2022-07-22T12:14:24.251Z"
   },
   {
    "duration": 7,
    "start_time": "2022-07-22T12:14:24.357Z"
   },
   {
    "duration": 33,
    "start_time": "2022-07-22T12:15:55.061Z"
   },
   {
    "duration": 22,
    "start_time": "2022-07-22T12:15:55.097Z"
   },
   {
    "duration": 0,
    "start_time": "2022-07-22T12:15:55.121Z"
   },
   {
    "duration": 0,
    "start_time": "2022-07-22T12:15:55.123Z"
   },
   {
    "duration": 0,
    "start_time": "2022-07-22T12:15:55.124Z"
   },
   {
    "duration": 206,
    "start_time": "2022-07-22T12:15:55.127Z"
   },
   {
    "duration": 17,
    "start_time": "2022-07-22T12:15:55.335Z"
   },
   {
    "duration": 0,
    "start_time": "2022-07-22T12:15:55.363Z"
   },
   {
    "duration": 4,
    "start_time": "2022-07-22T12:16:43.210Z"
   },
   {
    "duration": 95,
    "start_time": "2022-07-22T12:16:43.238Z"
   },
   {
    "duration": 45,
    "start_time": "2022-07-22T12:16:43.335Z"
   },
   {
    "duration": 18,
    "start_time": "2022-07-22T12:16:43.382Z"
   },
   {
    "duration": 30,
    "start_time": "2022-07-22T12:16:43.402Z"
   },
   {
    "duration": 18,
    "start_time": "2022-07-22T12:16:43.436Z"
   },
   {
    "duration": 37,
    "start_time": "2022-07-22T12:16:43.465Z"
   },
   {
    "duration": 145,
    "start_time": "2022-07-22T12:16:43.504Z"
   },
   {
    "duration": 20,
    "start_time": "2022-07-22T12:16:43.664Z"
   },
   {
    "duration": 7,
    "start_time": "2022-07-22T12:16:43.687Z"
   },
   {
    "duration": 194,
    "start_time": "2022-07-22T12:16:43.696Z"
   },
   {
    "duration": 144,
    "start_time": "2022-07-22T12:16:43.891Z"
   },
   {
    "duration": 7,
    "start_time": "2022-07-22T12:16:44.037Z"
   },
   {
    "duration": 22,
    "start_time": "2022-07-22T12:16:44.046Z"
   },
   {
    "duration": 9,
    "start_time": "2022-07-22T12:16:44.072Z"
   },
   {
    "duration": 15,
    "start_time": "2022-07-22T12:16:44.083Z"
   },
   {
    "duration": 9,
    "start_time": "2022-07-22T12:16:44.100Z"
   },
   {
    "duration": 23,
    "start_time": "2022-07-22T12:16:44.110Z"
   },
   {
    "duration": 38,
    "start_time": "2022-07-22T12:16:44.136Z"
   },
   {
    "duration": 27,
    "start_time": "2022-07-22T12:16:44.176Z"
   },
   {
    "duration": 25,
    "start_time": "2022-07-22T12:16:44.205Z"
   },
   {
    "duration": 47,
    "start_time": "2022-07-22T12:16:44.232Z"
   },
   {
    "duration": 7,
    "start_time": "2022-07-22T12:16:44.281Z"
   },
   {
    "duration": 11,
    "start_time": "2022-07-22T12:16:44.290Z"
   },
   {
    "duration": 120,
    "start_time": "2022-07-22T12:16:44.303Z"
   },
   {
    "duration": 7,
    "start_time": "2022-07-22T12:16:44.425Z"
   },
   {
    "duration": 7,
    "start_time": "2022-07-22T12:16:44.433Z"
   },
   {
    "duration": 21,
    "start_time": "2022-07-22T12:16:44.442Z"
   },
   {
    "duration": 4,
    "start_time": "2022-07-22T12:16:44.465Z"
   },
   {
    "duration": 20,
    "start_time": "2022-07-22T12:16:44.471Z"
   },
   {
    "duration": 159,
    "start_time": "2022-07-22T12:16:44.493Z"
   },
   {
    "duration": 11,
    "start_time": "2022-07-22T12:16:44.655Z"
   },
   {
    "duration": 10,
    "start_time": "2022-07-22T12:16:44.667Z"
   },
   {
    "duration": 9,
    "start_time": "2022-07-22T12:16:44.679Z"
   },
   {
    "duration": 28,
    "start_time": "2022-07-22T12:16:44.690Z"
   },
   {
    "duration": 159,
    "start_time": "2022-07-22T12:16:44.720Z"
   },
   {
    "duration": 172,
    "start_time": "2022-07-22T12:16:44.880Z"
   },
   {
    "duration": 33,
    "start_time": "2022-07-22T12:16:45.054Z"
   },
   {
    "duration": 32,
    "start_time": "2022-07-22T12:16:45.089Z"
   },
   {
    "duration": 698,
    "start_time": "2022-07-22T12:16:45.123Z"
   },
   {
    "duration": 23,
    "start_time": "2022-07-22T12:16:45.823Z"
   },
   {
    "duration": 42,
    "start_time": "2022-07-22T12:16:45.864Z"
   },
   {
    "duration": 213,
    "start_time": "2022-07-22T12:16:45.908Z"
   },
   {
    "duration": 189,
    "start_time": "2022-07-22T12:16:46.123Z"
   },
   {
    "duration": 8,
    "start_time": "2022-07-22T12:16:46.313Z"
   },
   {
    "duration": 155,
    "start_time": "2022-07-22T12:16:46.322Z"
   },
   {
    "duration": 131,
    "start_time": "2022-07-22T12:16:46.479Z"
   },
   {
    "duration": 353,
    "start_time": "2022-07-22T12:16:46.613Z"
   },
   {
    "duration": 266,
    "start_time": "2022-07-22T12:16:46.968Z"
   },
   {
    "duration": 4,
    "start_time": "2022-07-22T12:19:01.538Z"
   },
   {
    "duration": 145,
    "start_time": "2022-07-22T12:19:01.545Z"
   },
   {
    "duration": 50,
    "start_time": "2022-07-22T12:19:01.693Z"
   },
   {
    "duration": 16,
    "start_time": "2022-07-22T12:19:01.746Z"
   },
   {
    "duration": 28,
    "start_time": "2022-07-22T12:19:01.765Z"
   },
   {
    "duration": 11,
    "start_time": "2022-07-22T12:19:01.795Z"
   },
   {
    "duration": 57,
    "start_time": "2022-07-22T12:19:01.808Z"
   },
   {
    "duration": 24,
    "start_time": "2022-07-22T12:19:01.868Z"
   },
   {
    "duration": 23,
    "start_time": "2022-07-22T12:19:01.894Z"
   },
   {
    "duration": 6,
    "start_time": "2022-07-22T12:19:01.919Z"
   },
   {
    "duration": 212,
    "start_time": "2022-07-22T12:19:01.963Z"
   },
   {
    "duration": 152,
    "start_time": "2022-07-22T12:19:02.177Z"
   },
   {
    "duration": 10,
    "start_time": "2022-07-22T12:19:02.331Z"
   },
   {
    "duration": 28,
    "start_time": "2022-07-22T12:19:02.343Z"
   },
   {
    "duration": 13,
    "start_time": "2022-07-22T12:19:02.373Z"
   },
   {
    "duration": 18,
    "start_time": "2022-07-22T12:19:02.388Z"
   },
   {
    "duration": 9,
    "start_time": "2022-07-22T12:19:02.408Z"
   },
   {
    "duration": 22,
    "start_time": "2022-07-22T12:19:02.419Z"
   },
   {
    "duration": 35,
    "start_time": "2022-07-22T12:19:02.443Z"
   },
   {
    "duration": 29,
    "start_time": "2022-07-22T12:19:02.481Z"
   },
   {
    "duration": 60,
    "start_time": "2022-07-22T12:19:02.512Z"
   },
   {
    "duration": 36,
    "start_time": "2022-07-22T12:19:02.574Z"
   },
   {
    "duration": 17,
    "start_time": "2022-07-22T12:19:02.613Z"
   },
   {
    "duration": 26,
    "start_time": "2022-07-22T12:19:02.632Z"
   },
   {
    "duration": 126,
    "start_time": "2022-07-22T12:19:02.660Z"
   },
   {
    "duration": 4,
    "start_time": "2022-07-22T12:19:02.788Z"
   },
   {
    "duration": 0,
    "start_time": "2022-07-22T12:19:02.795Z"
   },
   {
    "duration": 0,
    "start_time": "2022-07-22T12:19:02.796Z"
   },
   {
    "duration": 0,
    "start_time": "2022-07-22T12:19:02.798Z"
   },
   {
    "duration": 0,
    "start_time": "2022-07-22T12:19:02.799Z"
   },
   {
    "duration": 0,
    "start_time": "2022-07-22T12:19:02.801Z"
   },
   {
    "duration": 0,
    "start_time": "2022-07-22T12:19:02.802Z"
   },
   {
    "duration": 0,
    "start_time": "2022-07-22T12:19:02.803Z"
   },
   {
    "duration": 0,
    "start_time": "2022-07-22T12:19:02.805Z"
   },
   {
    "duration": 0,
    "start_time": "2022-07-22T12:19:02.806Z"
   },
   {
    "duration": 0,
    "start_time": "2022-07-22T12:19:02.807Z"
   },
   {
    "duration": 0,
    "start_time": "2022-07-22T12:19:02.809Z"
   },
   {
    "duration": 0,
    "start_time": "2022-07-22T12:19:02.810Z"
   },
   {
    "duration": 0,
    "start_time": "2022-07-22T12:19:02.811Z"
   },
   {
    "duration": 0,
    "start_time": "2022-07-22T12:19:02.812Z"
   },
   {
    "duration": 0,
    "start_time": "2022-07-22T12:19:02.814Z"
   },
   {
    "duration": 0,
    "start_time": "2022-07-22T12:19:02.815Z"
   },
   {
    "duration": 0,
    "start_time": "2022-07-22T12:19:02.816Z"
   },
   {
    "duration": 0,
    "start_time": "2022-07-22T12:19:02.818Z"
   },
   {
    "duration": 0,
    "start_time": "2022-07-22T12:19:02.863Z"
   },
   {
    "duration": 0,
    "start_time": "2022-07-22T12:19:02.865Z"
   },
   {
    "duration": 0,
    "start_time": "2022-07-22T12:19:02.866Z"
   },
   {
    "duration": 0,
    "start_time": "2022-07-22T12:19:02.867Z"
   },
   {
    "duration": 0,
    "start_time": "2022-07-22T12:19:02.868Z"
   },
   {
    "duration": 7,
    "start_time": "2022-07-22T12:19:24.611Z"
   },
   {
    "duration": 4,
    "start_time": "2022-07-22T12:19:29.446Z"
   },
   {
    "duration": 141,
    "start_time": "2022-07-22T12:19:29.452Z"
   },
   {
    "duration": 44,
    "start_time": "2022-07-22T12:19:29.595Z"
   },
   {
    "duration": 13,
    "start_time": "2022-07-22T12:19:29.641Z"
   },
   {
    "duration": 16,
    "start_time": "2022-07-22T12:19:29.656Z"
   },
   {
    "duration": 15,
    "start_time": "2022-07-22T12:19:29.674Z"
   },
   {
    "duration": 30,
    "start_time": "2022-07-22T12:19:29.692Z"
   },
   {
    "duration": 42,
    "start_time": "2022-07-22T12:19:29.724Z"
   },
   {
    "duration": 23,
    "start_time": "2022-07-22T12:19:29.769Z"
   },
   {
    "duration": 6,
    "start_time": "2022-07-22T12:19:29.794Z"
   },
   {
    "duration": 230,
    "start_time": "2022-07-22T12:19:29.804Z"
   },
   {
    "duration": 106,
    "start_time": "2022-07-22T12:19:30.037Z"
   },
   {
    "duration": 8,
    "start_time": "2022-07-22T12:19:30.145Z"
   },
   {
    "duration": 28,
    "start_time": "2022-07-22T12:19:30.163Z"
   },
   {
    "duration": 15,
    "start_time": "2022-07-22T12:19:30.193Z"
   },
   {
    "duration": 18,
    "start_time": "2022-07-22T12:19:30.211Z"
   },
   {
    "duration": 10,
    "start_time": "2022-07-22T12:19:30.232Z"
   },
   {
    "duration": 36,
    "start_time": "2022-07-22T12:19:30.244Z"
   },
   {
    "duration": 21,
    "start_time": "2022-07-22T12:19:30.282Z"
   },
   {
    "duration": 17,
    "start_time": "2022-07-22T12:19:30.305Z"
   },
   {
    "duration": 40,
    "start_time": "2022-07-22T12:19:30.324Z"
   },
   {
    "duration": 26,
    "start_time": "2022-07-22T12:19:30.367Z"
   },
   {
    "duration": 25,
    "start_time": "2022-07-22T12:19:30.395Z"
   },
   {
    "duration": 30,
    "start_time": "2022-07-22T12:19:30.422Z"
   },
   {
    "duration": 145,
    "start_time": "2022-07-22T12:19:30.455Z"
   },
   {
    "duration": 7,
    "start_time": "2022-07-22T12:19:30.602Z"
   },
   {
    "duration": 39,
    "start_time": "2022-07-22T12:19:30.611Z"
   },
   {
    "duration": 36,
    "start_time": "2022-07-22T12:19:30.653Z"
   },
   {
    "duration": 47,
    "start_time": "2022-07-22T12:19:30.693Z"
   },
   {
    "duration": 49,
    "start_time": "2022-07-22T12:19:30.742Z"
   },
   {
    "duration": 184,
    "start_time": "2022-07-22T12:19:30.793Z"
   },
   {
    "duration": 5,
    "start_time": "2022-07-22T12:19:30.979Z"
   },
   {
    "duration": 20,
    "start_time": "2022-07-22T12:19:30.986Z"
   },
   {
    "duration": 28,
    "start_time": "2022-07-22T12:19:31.008Z"
   },
   {
    "duration": 34,
    "start_time": "2022-07-22T12:19:31.038Z"
   },
   {
    "duration": 232,
    "start_time": "2022-07-22T12:19:31.075Z"
   },
   {
    "duration": 199,
    "start_time": "2022-07-22T12:19:31.309Z"
   },
   {
    "duration": 24,
    "start_time": "2022-07-22T12:19:31.509Z"
   },
   {
    "duration": 46,
    "start_time": "2022-07-22T12:19:31.535Z"
   },
   {
    "duration": 669,
    "start_time": "2022-07-22T12:19:31.584Z"
   },
   {
    "duration": 22,
    "start_time": "2022-07-22T12:19:32.263Z"
   },
   {
    "duration": 43,
    "start_time": "2022-07-22T12:19:32.286Z"
   },
   {
    "duration": 222,
    "start_time": "2022-07-22T12:19:32.330Z"
   },
   {
    "duration": 353,
    "start_time": "2022-07-22T12:19:32.556Z"
   },
   {
    "duration": 9,
    "start_time": "2022-07-22T12:19:32.912Z"
   },
   {
    "duration": 187,
    "start_time": "2022-07-22T12:19:32.924Z"
   },
   {
    "duration": 144,
    "start_time": "2022-07-22T12:19:33.113Z"
   },
   {
    "duration": 266,
    "start_time": "2022-07-22T12:19:33.263Z"
   },
   {
    "duration": 266,
    "start_time": "2022-07-22T12:19:33.531Z"
   },
   {
    "duration": 11,
    "start_time": "2022-07-22T12:20:17.635Z"
   },
   {
    "duration": 97,
    "start_time": "2022-07-22T12:20:22.938Z"
   },
   {
    "duration": 11,
    "start_time": "2022-07-22T12:31:09.763Z"
   },
   {
    "duration": 100,
    "start_time": "2022-07-22T12:31:23.242Z"
   },
   {
    "duration": 3,
    "start_time": "2022-07-22T12:32:29.262Z"
   },
   {
    "duration": 102,
    "start_time": "2022-07-22T12:32:29.269Z"
   },
   {
    "duration": 46,
    "start_time": "2022-07-22T12:32:29.374Z"
   },
   {
    "duration": 14,
    "start_time": "2022-07-22T12:32:29.422Z"
   },
   {
    "duration": 25,
    "start_time": "2022-07-22T12:32:29.438Z"
   },
   {
    "duration": 13,
    "start_time": "2022-07-22T12:32:29.464Z"
   },
   {
    "duration": 33,
    "start_time": "2022-07-22T12:32:29.478Z"
   },
   {
    "duration": 18,
    "start_time": "2022-07-22T12:32:29.513Z"
   },
   {
    "duration": 32,
    "start_time": "2022-07-22T12:32:29.533Z"
   },
   {
    "duration": 11,
    "start_time": "2022-07-22T12:32:29.566Z"
   },
   {
    "duration": 154,
    "start_time": "2022-07-22T12:32:29.579Z"
   },
   {
    "duration": 109,
    "start_time": "2022-07-22T12:32:29.734Z"
   },
   {
    "duration": 18,
    "start_time": "2022-07-22T12:32:29.845Z"
   },
   {
    "duration": 11,
    "start_time": "2022-07-22T12:32:29.865Z"
   },
   {
    "duration": 7,
    "start_time": "2022-07-22T12:32:29.878Z"
   },
   {
    "duration": 13,
    "start_time": "2022-07-22T12:32:29.887Z"
   },
   {
    "duration": 10,
    "start_time": "2022-07-22T12:32:29.901Z"
   },
   {
    "duration": 16,
    "start_time": "2022-07-22T12:32:29.912Z"
   },
   {
    "duration": 38,
    "start_time": "2022-07-22T12:32:29.929Z"
   },
   {
    "duration": 18,
    "start_time": "2022-07-22T12:32:29.969Z"
   },
   {
    "duration": 20,
    "start_time": "2022-07-22T12:32:29.989Z"
   },
   {
    "duration": 53,
    "start_time": "2022-07-22T12:32:30.013Z"
   },
   {
    "duration": 21,
    "start_time": "2022-07-22T12:32:30.069Z"
   },
   {
    "duration": 13,
    "start_time": "2022-07-22T12:32:30.093Z"
   },
   {
    "duration": 109,
    "start_time": "2022-07-22T12:32:30.108Z"
   },
   {
    "duration": 6,
    "start_time": "2022-07-22T12:32:30.219Z"
   },
   {
    "duration": 33,
    "start_time": "2022-07-22T12:32:30.226Z"
   },
   {
    "duration": 121,
    "start_time": "2022-07-22T12:32:30.260Z"
   },
   {
    "duration": 9,
    "start_time": "2022-07-22T12:32:30.383Z"
   },
   {
    "duration": 142,
    "start_time": "2022-07-22T12:32:30.395Z"
   },
   {
    "duration": 3,
    "start_time": "2022-07-22T12:32:30.539Z"
   },
   {
    "duration": 42,
    "start_time": "2022-07-22T12:32:30.544Z"
   },
   {
    "duration": 14,
    "start_time": "2022-07-22T12:32:30.588Z"
   },
   {
    "duration": 22,
    "start_time": "2022-07-22T12:32:30.603Z"
   },
   {
    "duration": 173,
    "start_time": "2022-07-22T12:32:30.627Z"
   },
   {
    "duration": 4,
    "start_time": "2022-07-22T12:32:30.802Z"
   },
   {
    "duration": 20,
    "start_time": "2022-07-22T12:32:30.808Z"
   },
   {
    "duration": 12,
    "start_time": "2022-07-22T12:32:30.830Z"
   },
   {
    "duration": 24,
    "start_time": "2022-07-22T12:32:30.843Z"
   },
   {
    "duration": 260,
    "start_time": "2022-07-22T12:32:30.869Z"
   },
   {
    "duration": 189,
    "start_time": "2022-07-22T12:32:31.132Z"
   },
   {
    "duration": 21,
    "start_time": "2022-07-22T12:32:31.323Z"
   },
   {
    "duration": 38,
    "start_time": "2022-07-22T12:32:31.345Z"
   },
   {
    "duration": 680,
    "start_time": "2022-07-22T12:32:31.386Z"
   },
   {
    "duration": 22,
    "start_time": "2022-07-22T12:32:32.069Z"
   },
   {
    "duration": 32,
    "start_time": "2022-07-22T12:32:32.093Z"
   },
   {
    "duration": 222,
    "start_time": "2022-07-22T12:32:32.126Z"
   },
   {
    "duration": 148,
    "start_time": "2022-07-22T12:32:32.350Z"
   },
   {
    "duration": 7,
    "start_time": "2022-07-22T12:32:32.499Z"
   },
   {
    "duration": 204,
    "start_time": "2022-07-22T12:32:32.508Z"
   },
   {
    "duration": 177,
    "start_time": "2022-07-22T12:32:32.714Z"
   },
   {
    "duration": 255,
    "start_time": "2022-07-22T12:32:32.893Z"
   },
   {
    "duration": 275,
    "start_time": "2022-07-22T12:32:33.150Z"
   },
   {
    "duration": 9,
    "start_time": "2022-07-22T12:34:39.334Z"
   },
   {
    "duration": 231,
    "start_time": "2022-07-22T12:34:41.278Z"
   },
   {
    "duration": 3,
    "start_time": "2022-07-22T12:37:30.439Z"
   },
   {
    "duration": 113,
    "start_time": "2022-07-22T12:37:30.449Z"
   },
   {
    "duration": 43,
    "start_time": "2022-07-22T12:37:30.564Z"
   },
   {
    "duration": 15,
    "start_time": "2022-07-22T12:37:30.609Z"
   },
   {
    "duration": 41,
    "start_time": "2022-07-22T12:37:30.626Z"
   },
   {
    "duration": 31,
    "start_time": "2022-07-22T12:37:30.668Z"
   },
   {
    "duration": 43,
    "start_time": "2022-07-22T12:37:30.701Z"
   },
   {
    "duration": 22,
    "start_time": "2022-07-22T12:37:30.746Z"
   },
   {
    "duration": 26,
    "start_time": "2022-07-22T12:37:30.770Z"
   },
   {
    "duration": 11,
    "start_time": "2022-07-22T12:37:30.798Z"
   },
   {
    "duration": 175,
    "start_time": "2022-07-22T12:37:30.812Z"
   },
   {
    "duration": 21,
    "start_time": "2022-07-22T12:37:30.989Z"
   },
   {
    "duration": 10,
    "start_time": "2022-07-22T12:37:31.012Z"
   },
   {
    "duration": 43,
    "start_time": "2022-07-22T12:37:31.024Z"
   },
   {
    "duration": 18,
    "start_time": "2022-07-22T12:37:31.068Z"
   },
   {
    "duration": 33,
    "start_time": "2022-07-22T12:37:31.088Z"
   },
   {
    "duration": 24,
    "start_time": "2022-07-22T12:37:31.122Z"
   },
   {
    "duration": 25,
    "start_time": "2022-07-22T12:37:31.148Z"
   },
   {
    "duration": 36,
    "start_time": "2022-07-22T12:37:31.175Z"
   },
   {
    "duration": 30,
    "start_time": "2022-07-22T12:37:31.213Z"
   },
   {
    "duration": 28,
    "start_time": "2022-07-22T12:37:31.245Z"
   },
   {
    "duration": 36,
    "start_time": "2022-07-22T12:37:31.275Z"
   },
   {
    "duration": 19,
    "start_time": "2022-07-22T12:37:31.313Z"
   },
   {
    "duration": 35,
    "start_time": "2022-07-22T12:37:31.334Z"
   },
   {
    "duration": 76,
    "start_time": "2022-07-22T12:37:31.371Z"
   },
   {
    "duration": 25,
    "start_time": "2022-07-22T12:37:31.449Z"
   },
   {
    "duration": 103,
    "start_time": "2022-07-22T12:37:31.476Z"
   },
   {
    "duration": 8,
    "start_time": "2022-07-22T12:37:31.581Z"
   },
   {
    "duration": 12,
    "start_time": "2022-07-22T12:37:31.592Z"
   },
   {
    "duration": 118,
    "start_time": "2022-07-22T12:37:31.606Z"
   },
   {
    "duration": 11,
    "start_time": "2022-07-22T12:37:31.727Z"
   },
   {
    "duration": 152,
    "start_time": "2022-07-22T12:37:31.740Z"
   },
   {
    "duration": 10,
    "start_time": "2022-07-22T12:37:31.894Z"
   },
   {
    "duration": 100,
    "start_time": "2022-07-22T12:37:31.905Z"
   },
   {
    "duration": 3,
    "start_time": "2022-07-22T12:37:32.007Z"
   },
   {
    "duration": 18,
    "start_time": "2022-07-22T12:37:32.011Z"
   },
   {
    "duration": 5,
    "start_time": "2022-07-22T12:37:32.031Z"
   },
   {
    "duration": 14,
    "start_time": "2022-07-22T12:37:32.038Z"
   },
   {
    "duration": 149,
    "start_time": "2022-07-22T12:37:32.053Z"
   },
   {
    "duration": 4,
    "start_time": "2022-07-22T12:37:32.204Z"
   },
   {
    "duration": 20,
    "start_time": "2022-07-22T12:37:32.209Z"
   },
   {
    "duration": 17,
    "start_time": "2022-07-22T12:37:32.230Z"
   },
   {
    "duration": 26,
    "start_time": "2022-07-22T12:37:32.248Z"
   },
   {
    "duration": 141,
    "start_time": "2022-07-22T12:37:32.276Z"
   },
   {
    "duration": 188,
    "start_time": "2022-07-22T12:37:32.418Z"
   },
   {
    "duration": 27,
    "start_time": "2022-07-22T12:37:32.608Z"
   },
   {
    "duration": 46,
    "start_time": "2022-07-22T12:37:32.637Z"
   },
   {
    "duration": 706,
    "start_time": "2022-07-22T12:37:32.685Z"
   },
   {
    "duration": 25,
    "start_time": "2022-07-22T12:37:33.393Z"
   },
   {
    "duration": 51,
    "start_time": "2022-07-22T12:37:33.420Z"
   },
   {
    "duration": 280,
    "start_time": "2022-07-22T12:37:33.473Z"
   },
   {
    "duration": 144,
    "start_time": "2022-07-22T12:37:33.756Z"
   },
   {
    "duration": 7,
    "start_time": "2022-07-22T12:37:33.902Z"
   },
   {
    "duration": 201,
    "start_time": "2022-07-22T12:37:33.911Z"
   },
   {
    "duration": 148,
    "start_time": "2022-07-22T12:37:34.115Z"
   },
   {
    "duration": 245,
    "start_time": "2022-07-22T12:37:34.265Z"
   },
   {
    "duration": 252,
    "start_time": "2022-07-22T12:37:34.512Z"
   },
   {
    "duration": 4,
    "start_time": "2022-07-22T12:40:26.996Z"
   },
   {
    "duration": 176,
    "start_time": "2022-07-22T12:40:27.008Z"
   },
   {
    "duration": 49,
    "start_time": "2022-07-22T12:40:27.186Z"
   },
   {
    "duration": 20,
    "start_time": "2022-07-22T12:40:27.237Z"
   },
   {
    "duration": 39,
    "start_time": "2022-07-22T12:40:27.263Z"
   },
   {
    "duration": 25,
    "start_time": "2022-07-22T12:40:27.304Z"
   },
   {
    "duration": 56,
    "start_time": "2022-07-22T12:40:27.331Z"
   },
   {
    "duration": 25,
    "start_time": "2022-07-22T12:40:27.389Z"
   },
   {
    "duration": 48,
    "start_time": "2022-07-22T12:40:27.416Z"
   },
   {
    "duration": 7,
    "start_time": "2022-07-22T12:40:27.466Z"
   },
   {
    "duration": 20,
    "start_time": "2022-07-22T12:40:27.478Z"
   },
   {
    "duration": 21,
    "start_time": "2022-07-22T12:40:27.502Z"
   },
   {
    "duration": 21,
    "start_time": "2022-07-22T12:40:27.525Z"
   },
   {
    "duration": 29,
    "start_time": "2022-07-22T12:40:27.548Z"
   },
   {
    "duration": 14,
    "start_time": "2022-07-22T12:40:27.579Z"
   },
   {
    "duration": 23,
    "start_time": "2022-07-22T12:40:27.596Z"
   },
   {
    "duration": 28,
    "start_time": "2022-07-22T12:40:27.622Z"
   },
   {
    "duration": 41,
    "start_time": "2022-07-22T12:40:27.663Z"
   },
   {
    "duration": 32,
    "start_time": "2022-07-22T12:40:27.706Z"
   },
   {
    "duration": 35,
    "start_time": "2022-07-22T12:40:27.740Z"
   },
   {
    "duration": 25,
    "start_time": "2022-07-22T12:40:27.777Z"
   },
   {
    "duration": 33,
    "start_time": "2022-07-22T12:40:27.805Z"
   },
   {
    "duration": 47,
    "start_time": "2022-07-22T12:40:27.839Z"
   },
   {
    "duration": 20,
    "start_time": "2022-07-22T12:40:27.887Z"
   },
   {
    "duration": 19,
    "start_time": "2022-07-22T12:40:27.909Z"
   },
   {
    "duration": 21,
    "start_time": "2022-07-22T12:40:27.931Z"
   },
   {
    "duration": 141,
    "start_time": "2022-07-22T12:40:27.954Z"
   },
   {
    "duration": 6,
    "start_time": "2022-07-22T12:40:28.097Z"
   },
   {
    "duration": 20,
    "start_time": "2022-07-22T12:40:28.107Z"
   },
   {
    "duration": 140,
    "start_time": "2022-07-22T12:40:28.129Z"
   },
   {
    "duration": 10,
    "start_time": "2022-07-22T12:40:28.270Z"
   },
   {
    "duration": 135,
    "start_time": "2022-07-22T12:40:28.282Z"
   },
   {
    "duration": 9,
    "start_time": "2022-07-22T12:40:28.419Z"
   },
   {
    "duration": 103,
    "start_time": "2022-07-22T12:40:28.430Z"
   },
   {
    "duration": 3,
    "start_time": "2022-07-22T12:40:28.535Z"
   },
   {
    "duration": 40,
    "start_time": "2022-07-22T12:40:28.540Z"
   },
   {
    "duration": 15,
    "start_time": "2022-07-22T12:40:28.582Z"
   },
   {
    "duration": 22,
    "start_time": "2022-07-22T12:40:28.599Z"
   },
   {
    "duration": 164,
    "start_time": "2022-07-22T12:40:28.623Z"
   },
   {
    "duration": 5,
    "start_time": "2022-07-22T12:40:28.788Z"
   },
   {
    "duration": 26,
    "start_time": "2022-07-22T12:40:28.795Z"
   },
   {
    "duration": 43,
    "start_time": "2022-07-22T12:40:28.823Z"
   },
   {
    "duration": 28,
    "start_time": "2022-07-22T12:40:28.868Z"
   },
   {
    "duration": 272,
    "start_time": "2022-07-22T12:40:28.898Z"
   },
   {
    "duration": 175,
    "start_time": "2022-07-22T12:40:29.173Z"
   },
   {
    "duration": 30,
    "start_time": "2022-07-22T12:40:29.350Z"
   },
   {
    "duration": 27,
    "start_time": "2022-07-22T12:40:29.382Z"
   },
   {
    "duration": 714,
    "start_time": "2022-07-22T12:40:29.411Z"
   },
   {
    "duration": 38,
    "start_time": "2022-07-22T12:40:30.127Z"
   },
   {
    "duration": 56,
    "start_time": "2022-07-22T12:40:30.167Z"
   },
   {
    "duration": 219,
    "start_time": "2022-07-22T12:40:30.225Z"
   },
   {
    "duration": 162,
    "start_time": "2022-07-22T12:40:30.446Z"
   },
   {
    "duration": 9,
    "start_time": "2022-07-22T12:40:30.610Z"
   },
   {
    "duration": 219,
    "start_time": "2022-07-22T12:40:30.622Z"
   },
   {
    "duration": 150,
    "start_time": "2022-07-22T12:40:30.843Z"
   },
   {
    "duration": 242,
    "start_time": "2022-07-22T12:40:30.995Z"
   },
   {
    "duration": 274,
    "start_time": "2022-07-22T12:40:31.239Z"
   },
   {
    "duration": 9,
    "start_time": "2022-07-22T12:41:03.782Z"
   },
   {
    "duration": 7,
    "start_time": "2022-07-22T12:44:22.726Z"
   },
   {
    "duration": 5,
    "start_time": "2022-07-22T12:44:29.468Z"
   },
   {
    "duration": 144,
    "start_time": "2022-07-22T12:44:29.476Z"
   },
   {
    "duration": 51,
    "start_time": "2022-07-22T12:44:29.622Z"
   },
   {
    "duration": 15,
    "start_time": "2022-07-22T12:44:29.675Z"
   },
   {
    "duration": 20,
    "start_time": "2022-07-22T12:44:29.692Z"
   },
   {
    "duration": 11,
    "start_time": "2022-07-22T12:44:29.715Z"
   },
   {
    "duration": 55,
    "start_time": "2022-07-22T12:44:29.728Z"
   },
   {
    "duration": 25,
    "start_time": "2022-07-22T12:44:29.785Z"
   },
   {
    "duration": 20,
    "start_time": "2022-07-22T12:44:29.813Z"
   },
   {
    "duration": 171,
    "start_time": "2022-07-22T12:44:29.835Z"
   },
   {
    "duration": 219,
    "start_time": "2022-07-22T12:44:30.008Z"
   },
   {
    "duration": 45,
    "start_time": "2022-07-22T12:44:30.229Z"
   },
   {
    "duration": 9,
    "start_time": "2022-07-22T12:44:30.276Z"
   },
   {
    "duration": 22,
    "start_time": "2022-07-22T12:44:30.287Z"
   },
   {
    "duration": 15,
    "start_time": "2022-07-22T12:44:30.312Z"
   },
   {
    "duration": 36,
    "start_time": "2022-07-22T12:44:30.329Z"
   },
   {
    "duration": 33,
    "start_time": "2022-07-22T12:44:30.368Z"
   },
   {
    "duration": 40,
    "start_time": "2022-07-22T12:44:30.404Z"
   },
   {
    "duration": 37,
    "start_time": "2022-07-22T12:44:30.448Z"
   },
   {
    "duration": 60,
    "start_time": "2022-07-22T12:44:30.488Z"
   },
   {
    "duration": 50,
    "start_time": "2022-07-22T12:44:30.550Z"
   },
   {
    "duration": 41,
    "start_time": "2022-07-22T12:44:30.602Z"
   },
   {
    "duration": 62,
    "start_time": "2022-07-22T12:44:30.646Z"
   },
   {
    "duration": 39,
    "start_time": "2022-07-22T12:44:30.713Z"
   },
   {
    "duration": 21,
    "start_time": "2022-07-22T12:44:30.754Z"
   },
   {
    "duration": 17,
    "start_time": "2022-07-22T12:44:30.777Z"
   },
   {
    "duration": 125,
    "start_time": "2022-07-22T12:44:30.796Z"
   },
   {
    "duration": 11,
    "start_time": "2022-07-22T12:44:30.923Z"
   },
   {
    "duration": 33,
    "start_time": "2022-07-22T12:44:30.937Z"
   },
   {
    "duration": 139,
    "start_time": "2022-07-22T12:44:30.972Z"
   },
   {
    "duration": 13,
    "start_time": "2022-07-22T12:44:31.115Z"
   },
   {
    "duration": 166,
    "start_time": "2022-07-22T12:44:31.130Z"
   },
   {
    "duration": 11,
    "start_time": "2022-07-22T12:44:31.298Z"
   },
   {
    "duration": 146,
    "start_time": "2022-07-22T12:44:31.311Z"
   },
   {
    "duration": 2,
    "start_time": "2022-07-22T12:44:31.459Z"
   },
   {
    "duration": 19,
    "start_time": "2022-07-22T12:44:31.463Z"
   },
   {
    "duration": 17,
    "start_time": "2022-07-22T12:44:31.484Z"
   },
   {
    "duration": 25,
    "start_time": "2022-07-22T12:44:31.503Z"
   },
   {
    "duration": 180,
    "start_time": "2022-07-22T12:44:31.530Z"
   },
   {
    "duration": 5,
    "start_time": "2022-07-22T12:44:31.712Z"
   },
   {
    "duration": 20,
    "start_time": "2022-07-22T12:44:31.719Z"
   },
   {
    "duration": 8,
    "start_time": "2022-07-22T12:44:31.741Z"
   },
   {
    "duration": 27,
    "start_time": "2022-07-22T12:44:31.751Z"
   },
   {
    "duration": 196,
    "start_time": "2022-07-22T12:44:31.780Z"
   },
   {
    "duration": 174,
    "start_time": "2022-07-22T12:44:31.977Z"
   },
   {
    "duration": 37,
    "start_time": "2022-07-22T12:44:32.154Z"
   },
   {
    "duration": 35,
    "start_time": "2022-07-22T12:44:32.193Z"
   },
   {
    "duration": 815,
    "start_time": "2022-07-22T12:44:32.230Z"
   },
   {
    "duration": 31,
    "start_time": "2022-07-22T12:44:33.049Z"
   },
   {
    "duration": 35,
    "start_time": "2022-07-22T12:44:33.082Z"
   },
   {
    "duration": 218,
    "start_time": "2022-07-22T12:44:33.119Z"
   },
   {
    "duration": 280,
    "start_time": "2022-07-22T12:44:33.340Z"
   },
   {
    "duration": 7,
    "start_time": "2022-07-22T12:44:33.622Z"
   },
   {
    "duration": 181,
    "start_time": "2022-07-22T12:44:33.631Z"
   },
   {
    "duration": 160,
    "start_time": "2022-07-22T12:44:33.814Z"
   },
   {
    "duration": 252,
    "start_time": "2022-07-22T12:44:33.976Z"
   },
   {
    "duration": 246,
    "start_time": "2022-07-22T12:44:34.230Z"
   },
   {
    "duration": 55,
    "start_time": "2022-07-22T12:46:01.803Z"
   },
   {
    "duration": 8,
    "start_time": "2022-07-22T12:46:08.847Z"
   },
   {
    "duration": 11,
    "start_time": "2022-07-22T12:46:14.287Z"
   },
   {
    "duration": 116,
    "start_time": "2022-07-22T12:46:14.304Z"
   },
   {
    "duration": 61,
    "start_time": "2022-07-22T12:46:14.422Z"
   },
   {
    "duration": 15,
    "start_time": "2022-07-22T12:46:14.485Z"
   },
   {
    "duration": 20,
    "start_time": "2022-07-22T12:46:14.504Z"
   },
   {
    "duration": 13,
    "start_time": "2022-07-22T12:46:14.526Z"
   },
   {
    "duration": 57,
    "start_time": "2022-07-22T12:46:14.541Z"
   },
   {
    "duration": 26,
    "start_time": "2022-07-22T12:46:14.600Z"
   },
   {
    "duration": 43,
    "start_time": "2022-07-22T12:46:14.629Z"
   },
   {
    "duration": 7,
    "start_time": "2022-07-22T12:46:14.674Z"
   },
   {
    "duration": 80,
    "start_time": "2022-07-22T12:46:14.684Z"
   },
   {
    "duration": 6,
    "start_time": "2022-07-22T12:47:06.354Z"
   },
   {
    "duration": 17,
    "start_time": "2022-07-22T12:47:16.779Z"
   },
   {
    "duration": 17,
    "start_time": "2022-07-22T12:47:31.581Z"
   },
   {
    "duration": 94,
    "start_time": "2022-07-22T12:47:42.697Z"
   },
   {
    "duration": 32,
    "start_time": "2022-07-22T12:48:40.039Z"
   },
   {
    "duration": 16,
    "start_time": "2022-07-22T12:52:32.696Z"
   },
   {
    "duration": 15,
    "start_time": "2022-07-22T12:53:06.385Z"
   },
   {
    "duration": 15,
    "start_time": "2022-07-22T12:53:27.184Z"
   },
   {
    "duration": 8,
    "start_time": "2022-07-22T12:55:38.158Z"
   },
   {
    "duration": 7,
    "start_time": "2022-07-22T12:56:05.939Z"
   },
   {
    "duration": 8,
    "start_time": "2022-07-22T12:57:02.586Z"
   },
   {
    "duration": 10,
    "start_time": "2022-07-22T12:57:50.808Z"
   },
   {
    "duration": 4,
    "start_time": "2022-07-22T13:02:43.906Z"
   },
   {
    "duration": 127,
    "start_time": "2022-07-22T13:02:43.915Z"
   },
   {
    "duration": 56,
    "start_time": "2022-07-22T13:02:44.045Z"
   },
   {
    "duration": 14,
    "start_time": "2022-07-22T13:02:44.103Z"
   },
   {
    "duration": 57,
    "start_time": "2022-07-22T13:02:44.120Z"
   },
   {
    "duration": 29,
    "start_time": "2022-07-22T13:02:44.179Z"
   },
   {
    "duration": 38,
    "start_time": "2022-07-22T13:02:44.210Z"
   },
   {
    "duration": 20,
    "start_time": "2022-07-22T13:02:44.250Z"
   },
   {
    "duration": 16,
    "start_time": "2022-07-22T13:02:44.272Z"
   },
   {
    "duration": 31,
    "start_time": "2022-07-22T13:02:44.290Z"
   },
   {
    "duration": 30,
    "start_time": "2022-07-22T13:02:44.324Z"
   },
   {
    "duration": 42,
    "start_time": "2022-07-22T13:02:44.355Z"
   },
   {
    "duration": 52,
    "start_time": "2022-07-22T13:02:44.399Z"
   },
   {
    "duration": 19,
    "start_time": "2022-07-22T13:02:44.453Z"
   },
   {
    "duration": 37,
    "start_time": "2022-07-22T13:02:44.474Z"
   },
   {
    "duration": 26,
    "start_time": "2022-07-22T13:02:44.513Z"
   },
   {
    "duration": 35,
    "start_time": "2022-07-22T13:02:44.541Z"
   },
   {
    "duration": 12,
    "start_time": "2022-07-22T13:02:44.578Z"
   },
   {
    "duration": 42,
    "start_time": "2022-07-22T13:02:44.591Z"
   },
   {
    "duration": 17,
    "start_time": "2022-07-22T13:02:44.634Z"
   },
   {
    "duration": 19,
    "start_time": "2022-07-22T13:02:44.653Z"
   },
   {
    "duration": 62,
    "start_time": "2022-07-22T13:02:44.673Z"
   },
   {
    "duration": 35,
    "start_time": "2022-07-22T13:02:44.737Z"
   },
   {
    "duration": 29,
    "start_time": "2022-07-22T13:02:44.774Z"
   },
   {
    "duration": 16,
    "start_time": "2022-07-22T13:02:44.805Z"
   },
   {
    "duration": 105,
    "start_time": "2022-07-22T13:02:44.823Z"
   },
   {
    "duration": 7,
    "start_time": "2022-07-22T13:02:44.930Z"
   },
   {
    "duration": 37,
    "start_time": "2022-07-22T13:02:44.939Z"
   },
   {
    "duration": 128,
    "start_time": "2022-07-22T13:02:44.982Z"
   },
   {
    "duration": 12,
    "start_time": "2022-07-22T13:02:45.112Z"
   },
   {
    "duration": 141,
    "start_time": "2022-07-22T13:02:45.126Z"
   },
   {
    "duration": 9,
    "start_time": "2022-07-22T13:02:45.269Z"
   },
   {
    "duration": 100,
    "start_time": "2022-07-22T13:02:45.279Z"
   },
   {
    "duration": 3,
    "start_time": "2022-07-22T13:02:45.381Z"
   },
   {
    "duration": 33,
    "start_time": "2022-07-22T13:02:45.386Z"
   },
   {
    "duration": 22,
    "start_time": "2022-07-22T13:02:45.422Z"
   },
   {
    "duration": 33,
    "start_time": "2022-07-22T13:02:45.446Z"
   },
   {
    "duration": 176,
    "start_time": "2022-07-22T13:02:45.481Z"
   },
   {
    "duration": 4,
    "start_time": "2022-07-22T13:02:45.659Z"
   },
   {
    "duration": 27,
    "start_time": "2022-07-22T13:02:45.665Z"
   },
   {
    "duration": 38,
    "start_time": "2022-07-22T13:02:45.693Z"
   },
   {
    "duration": 25,
    "start_time": "2022-07-22T13:02:45.734Z"
   },
   {
    "duration": 167,
    "start_time": "2022-07-22T13:02:45.761Z"
   },
   {
    "duration": 253,
    "start_time": "2022-07-22T13:02:45.929Z"
   },
   {
    "duration": 20,
    "start_time": "2022-07-22T13:02:46.184Z"
   },
   {
    "duration": 23,
    "start_time": "2022-07-22T13:02:46.206Z"
   },
   {
    "duration": 615,
    "start_time": "2022-07-22T13:02:46.231Z"
   },
   {
    "duration": 32,
    "start_time": "2022-07-22T13:02:46.848Z"
   },
   {
    "duration": 28,
    "start_time": "2022-07-22T13:02:46.882Z"
   },
   {
    "duration": 191,
    "start_time": "2022-07-22T13:02:46.912Z"
   },
   {
    "duration": 159,
    "start_time": "2022-07-22T13:02:47.105Z"
   },
   {
    "duration": 8,
    "start_time": "2022-07-22T13:02:47.265Z"
   },
   {
    "duration": 229,
    "start_time": "2022-07-22T13:02:47.275Z"
   },
   {
    "duration": 162,
    "start_time": "2022-07-22T13:02:47.507Z"
   },
   {
    "duration": 287,
    "start_time": "2022-07-22T13:02:47.671Z"
   },
   {
    "duration": 254,
    "start_time": "2022-07-22T13:02:47.960Z"
   },
   {
    "duration": 44,
    "start_time": "2022-07-22T15:56:14.434Z"
   },
   {
    "duration": 769,
    "start_time": "2022-07-22T15:56:20.404Z"
   },
   {
    "duration": 296,
    "start_time": "2022-07-22T15:56:21.175Z"
   },
   {
    "duration": 81,
    "start_time": "2022-07-22T15:56:21.472Z"
   },
   {
    "duration": 16,
    "start_time": "2022-07-22T15:56:21.555Z"
   },
   {
    "duration": 22,
    "start_time": "2022-07-22T15:56:21.572Z"
   },
   {
    "duration": 7,
    "start_time": "2022-07-22T15:56:21.596Z"
   },
   {
    "duration": 49,
    "start_time": "2022-07-22T15:56:21.604Z"
   },
   {
    "duration": 17,
    "start_time": "2022-07-22T15:56:21.655Z"
   },
   {
    "duration": 17,
    "start_time": "2022-07-22T15:56:21.673Z"
   },
   {
    "duration": 5,
    "start_time": "2022-07-22T15:56:21.693Z"
   },
   {
    "duration": 6,
    "start_time": "2022-07-22T15:56:21.699Z"
   },
   {
    "duration": 4,
    "start_time": "2022-07-22T15:56:21.707Z"
   },
   {
    "duration": 42,
    "start_time": "2022-07-22T15:56:21.713Z"
   },
   {
    "duration": 10,
    "start_time": "2022-07-22T15:56:21.757Z"
   },
   {
    "duration": 11,
    "start_time": "2022-07-22T15:56:21.769Z"
   },
   {
    "duration": 12,
    "start_time": "2022-07-22T15:56:21.782Z"
   },
   {
    "duration": 7,
    "start_time": "2022-07-22T15:56:21.796Z"
   },
   {
    "duration": 51,
    "start_time": "2022-07-22T15:56:21.805Z"
   },
   {
    "duration": 13,
    "start_time": "2022-07-22T15:56:21.858Z"
   },
   {
    "duration": 22,
    "start_time": "2022-07-22T15:56:21.873Z"
   },
   {
    "duration": 55,
    "start_time": "2022-07-22T15:56:21.898Z"
   },
   {
    "duration": 30,
    "start_time": "2022-07-22T15:56:21.955Z"
   },
   {
    "duration": 6,
    "start_time": "2022-07-22T15:56:21.987Z"
   },
   {
    "duration": 9,
    "start_time": "2022-07-22T15:56:21.995Z"
   },
   {
    "duration": 140,
    "start_time": "2022-07-22T15:56:22.005Z"
   },
   {
    "duration": 7,
    "start_time": "2022-07-22T15:56:22.146Z"
   },
   {
    "duration": 11,
    "start_time": "2022-07-22T15:56:22.155Z"
   },
   {
    "duration": 125,
    "start_time": "2022-07-22T15:56:22.170Z"
   },
   {
    "duration": 9,
    "start_time": "2022-07-22T15:56:22.296Z"
   },
   {
    "duration": 134,
    "start_time": "2022-07-22T15:56:22.306Z"
   },
   {
    "duration": 15,
    "start_time": "2022-07-22T15:56:22.442Z"
   },
   {
    "duration": 165,
    "start_time": "2022-07-22T15:56:22.458Z"
   },
   {
    "duration": 3,
    "start_time": "2022-07-22T15:56:22.624Z"
   },
   {
    "duration": 13,
    "start_time": "2022-07-22T15:56:22.628Z"
   },
   {
    "duration": 10,
    "start_time": "2022-07-22T15:56:22.642Z"
   },
   {
    "duration": 17,
    "start_time": "2022-07-22T15:56:22.654Z"
   },
   {
    "duration": 179,
    "start_time": "2022-07-22T15:56:22.674Z"
   },
   {
    "duration": 4,
    "start_time": "2022-07-22T15:56:22.855Z"
   },
   {
    "duration": 13,
    "start_time": "2022-07-22T15:56:22.861Z"
   },
   {
    "duration": 9,
    "start_time": "2022-07-22T15:56:22.877Z"
   },
   {
    "duration": 26,
    "start_time": "2022-07-22T15:56:22.888Z"
   },
   {
    "duration": 174,
    "start_time": "2022-07-22T15:56:22.915Z"
   },
   {
    "duration": 163,
    "start_time": "2022-07-22T15:56:23.091Z"
   },
   {
    "duration": 19,
    "start_time": "2022-07-22T15:56:23.255Z"
   },
   {
    "duration": 21,
    "start_time": "2022-07-22T15:56:23.275Z"
   },
   {
    "duration": 712,
    "start_time": "2022-07-22T15:56:23.297Z"
   },
   {
    "duration": 22,
    "start_time": "2022-07-22T15:56:24.011Z"
   },
   {
    "duration": 46,
    "start_time": "2022-07-22T15:56:24.051Z"
   },
   {
    "duration": 199,
    "start_time": "2022-07-22T15:56:24.099Z"
   },
   {
    "duration": 152,
    "start_time": "2022-07-22T15:56:24.300Z"
   },
   {
    "duration": 7,
    "start_time": "2022-07-22T15:56:24.453Z"
   },
   {
    "duration": 187,
    "start_time": "2022-07-22T15:56:24.462Z"
   },
   {
    "duration": 171,
    "start_time": "2022-07-22T15:56:24.653Z"
   },
   {
    "duration": 346,
    "start_time": "2022-07-22T15:56:24.825Z"
   },
   {
    "duration": 256,
    "start_time": "2022-07-22T15:56:25.172Z"
   },
   {
    "duration": 23,
    "start_time": "2022-07-22T15:56:50.890Z"
   },
   {
    "duration": 15,
    "start_time": "2022-07-22T15:59:19.457Z"
   },
   {
    "duration": 3,
    "start_time": "2022-07-22T15:59:30.248Z"
   },
   {
    "duration": 91,
    "start_time": "2022-07-22T15:59:30.257Z"
   },
   {
    "duration": 42,
    "start_time": "2022-07-22T15:59:30.350Z"
   },
   {
    "duration": 20,
    "start_time": "2022-07-22T15:59:30.395Z"
   },
   {
    "duration": 22,
    "start_time": "2022-07-22T15:59:30.417Z"
   },
   {
    "duration": 16,
    "start_time": "2022-07-22T15:59:30.441Z"
   },
   {
    "duration": 51,
    "start_time": "2022-07-22T15:59:30.459Z"
   },
   {
    "duration": 20,
    "start_time": "2022-07-22T15:59:30.511Z"
   },
   {
    "duration": 15,
    "start_time": "2022-07-22T15:59:30.532Z"
   },
   {
    "duration": 10,
    "start_time": "2022-07-22T15:59:30.552Z"
   },
   {
    "duration": 22,
    "start_time": "2022-07-22T15:59:30.563Z"
   },
   {
    "duration": 18,
    "start_time": "2022-07-22T15:59:30.587Z"
   },
   {
    "duration": 36,
    "start_time": "2022-07-22T15:59:30.607Z"
   },
   {
    "duration": 48,
    "start_time": "2022-07-22T15:59:30.645Z"
   },
   {
    "duration": 19,
    "start_time": "2022-07-22T16:00:39.006Z"
   },
   {
    "duration": 12,
    "start_time": "2022-07-22T16:00:40.364Z"
   },
   {
    "duration": 3,
    "start_time": "2022-07-22T16:29:33.478Z"
   },
   {
    "duration": 92,
    "start_time": "2022-07-22T16:29:33.484Z"
   },
   {
    "duration": 40,
    "start_time": "2022-07-22T16:29:33.579Z"
   },
   {
    "duration": 14,
    "start_time": "2022-07-22T16:29:33.621Z"
   },
   {
    "duration": 16,
    "start_time": "2022-07-22T16:29:33.637Z"
   },
   {
    "duration": 9,
    "start_time": "2022-07-22T16:29:33.655Z"
   },
   {
    "duration": 29,
    "start_time": "2022-07-22T16:29:33.666Z"
   },
   {
    "duration": 16,
    "start_time": "2022-07-22T16:29:33.697Z"
   },
   {
    "duration": 45,
    "start_time": "2022-07-22T16:29:33.715Z"
   },
   {
    "duration": 6,
    "start_time": "2022-07-22T16:29:33.762Z"
   },
   {
    "duration": 6,
    "start_time": "2022-07-22T16:29:33.770Z"
   },
   {
    "duration": 5,
    "start_time": "2022-07-22T16:29:33.777Z"
   },
   {
    "duration": 14,
    "start_time": "2022-07-22T16:29:33.783Z"
   },
   {
    "duration": 15,
    "start_time": "2022-07-22T16:29:33.798Z"
   },
   {
    "duration": 9,
    "start_time": "2022-07-22T16:29:33.815Z"
   },
   {
    "duration": 13,
    "start_time": "2022-07-22T16:29:36.220Z"
   },
   {
    "duration": 799,
    "start_time": "2022-07-23T10:42:30.646Z"
   },
   {
    "duration": 198,
    "start_time": "2022-07-23T10:42:31.447Z"
   },
   {
    "duration": 81,
    "start_time": "2022-07-23T10:42:31.647Z"
   },
   {
    "duration": 16,
    "start_time": "2022-07-23T10:42:31.730Z"
   },
   {
    "duration": 22,
    "start_time": "2022-07-23T10:42:31.747Z"
   },
   {
    "duration": 23,
    "start_time": "2022-07-23T10:42:31.770Z"
   },
   {
    "duration": 28,
    "start_time": "2022-07-23T10:42:31.794Z"
   },
   {
    "duration": 14,
    "start_time": "2022-07-23T10:42:31.823Z"
   },
   {
    "duration": 15,
    "start_time": "2022-07-23T10:42:31.839Z"
   },
   {
    "duration": 17,
    "start_time": "2022-07-23T10:42:31.856Z"
   },
   {
    "duration": 14,
    "start_time": "2022-07-23T10:42:31.874Z"
   },
   {
    "duration": 19,
    "start_time": "2022-07-23T10:42:31.890Z"
   },
   {
    "duration": 18,
    "start_time": "2022-07-23T10:42:31.910Z"
   },
   {
    "duration": 18,
    "start_time": "2022-07-23T10:42:31.930Z"
   },
   {
    "duration": 20,
    "start_time": "2022-07-23T10:42:31.949Z"
   },
   {
    "duration": 28,
    "start_time": "2022-07-23T10:42:37.496Z"
   },
   {
    "duration": 7,
    "start_time": "2022-07-23T10:48:27.219Z"
   },
   {
    "duration": 2,
    "start_time": "2022-07-23T10:48:43.395Z"
   },
   {
    "duration": 105,
    "start_time": "2022-07-23T10:48:43.400Z"
   },
   {
    "duration": 40,
    "start_time": "2022-07-23T10:48:43.507Z"
   },
   {
    "duration": 23,
    "start_time": "2022-07-23T10:48:43.549Z"
   },
   {
    "duration": 23,
    "start_time": "2022-07-23T10:48:43.574Z"
   },
   {
    "duration": 8,
    "start_time": "2022-07-23T10:48:43.599Z"
   },
   {
    "duration": 27,
    "start_time": "2022-07-23T10:48:43.609Z"
   },
   {
    "duration": 14,
    "start_time": "2022-07-23T10:48:43.638Z"
   },
   {
    "duration": 22,
    "start_time": "2022-07-23T10:48:43.654Z"
   },
   {
    "duration": 6,
    "start_time": "2022-07-23T10:48:43.680Z"
   },
   {
    "duration": 7,
    "start_time": "2022-07-23T10:48:43.688Z"
   },
   {
    "duration": 6,
    "start_time": "2022-07-23T10:48:43.696Z"
   },
   {
    "duration": 16,
    "start_time": "2022-07-23T10:48:43.703Z"
   },
   {
    "duration": 10,
    "start_time": "2022-07-23T10:48:43.721Z"
   },
   {
    "duration": 39,
    "start_time": "2022-07-23T10:48:43.732Z"
   },
   {
    "duration": 35,
    "start_time": "2022-07-23T10:48:43.776Z"
   },
   {
    "duration": 7,
    "start_time": "2022-07-23T10:48:48.751Z"
   },
   {
    "duration": 3,
    "start_time": "2022-07-23T10:49:14.035Z"
   },
   {
    "duration": 91,
    "start_time": "2022-07-23T10:49:14.042Z"
   },
   {
    "duration": 41,
    "start_time": "2022-07-23T10:49:14.136Z"
   },
   {
    "duration": 13,
    "start_time": "2022-07-23T10:49:14.179Z"
   },
   {
    "duration": 18,
    "start_time": "2022-07-23T10:49:14.194Z"
   },
   {
    "duration": 8,
    "start_time": "2022-07-23T10:49:14.213Z"
   },
   {
    "duration": 43,
    "start_time": "2022-07-23T10:49:14.223Z"
   },
   {
    "duration": 15,
    "start_time": "2022-07-23T10:49:14.268Z"
   },
   {
    "duration": 24,
    "start_time": "2022-07-23T10:49:14.285Z"
   },
   {
    "duration": 7,
    "start_time": "2022-07-23T10:49:14.310Z"
   },
   {
    "duration": 11,
    "start_time": "2022-07-23T10:49:14.319Z"
   },
   {
    "duration": 6,
    "start_time": "2022-07-23T10:49:14.331Z"
   },
   {
    "duration": 12,
    "start_time": "2022-07-23T10:49:14.338Z"
   },
   {
    "duration": 14,
    "start_time": "2022-07-23T10:49:14.352Z"
   },
   {
    "duration": 13,
    "start_time": "2022-07-23T10:49:14.368Z"
   },
   {
    "duration": 28,
    "start_time": "2022-07-23T10:49:14.382Z"
   },
   {
    "duration": 7,
    "start_time": "2022-07-23T10:49:14.411Z"
   },
   {
    "duration": 5,
    "start_time": "2022-07-23T10:49:14.420Z"
   },
   {
    "duration": 6,
    "start_time": "2022-07-23T10:49:14.427Z"
   },
   {
    "duration": 17,
    "start_time": "2022-07-23T10:49:14.460Z"
   },
   {
    "duration": 10,
    "start_time": "2022-07-23T10:49:14.478Z"
   },
   {
    "duration": 6,
    "start_time": "2022-07-23T10:49:19.020Z"
   },
   {
    "duration": 13,
    "start_time": "2022-07-23T10:55:03.209Z"
   },
   {
    "duration": 2,
    "start_time": "2022-07-23T10:55:27.813Z"
   },
   {
    "duration": 129,
    "start_time": "2022-07-23T10:55:27.817Z"
   },
   {
    "duration": 42,
    "start_time": "2022-07-23T10:55:27.949Z"
   },
   {
    "duration": 13,
    "start_time": "2022-07-23T10:55:27.993Z"
   },
   {
    "duration": 30,
    "start_time": "2022-07-23T10:55:28.009Z"
   },
   {
    "duration": 9,
    "start_time": "2022-07-23T10:55:28.239Z"
   },
   {
    "duration": 32,
    "start_time": "2022-07-23T10:55:28.249Z"
   },
   {
    "duration": 15,
    "start_time": "2022-07-23T10:55:28.282Z"
   },
   {
    "duration": 15,
    "start_time": "2022-07-23T10:55:28.299Z"
   },
   {
    "duration": 5,
    "start_time": "2022-07-23T10:55:28.315Z"
   },
   {
    "duration": 6,
    "start_time": "2022-07-23T10:55:28.321Z"
   },
   {
    "duration": 9,
    "start_time": "2022-07-23T10:55:28.329Z"
   },
   {
    "duration": 23,
    "start_time": "2022-07-23T10:55:28.339Z"
   },
   {
    "duration": 10,
    "start_time": "2022-07-23T10:55:28.541Z"
   },
   {
    "duration": 8,
    "start_time": "2022-07-23T10:55:28.552Z"
   },
   {
    "duration": 20,
    "start_time": "2022-07-23T10:55:28.562Z"
   },
   {
    "duration": 6,
    "start_time": "2022-07-23T10:55:28.584Z"
   },
   {
    "duration": 6,
    "start_time": "2022-07-23T10:55:28.591Z"
   },
   {
    "duration": 20,
    "start_time": "2022-07-23T10:55:28.598Z"
   },
   {
    "duration": 14,
    "start_time": "2022-07-23T10:55:28.619Z"
   },
   {
    "duration": 34,
    "start_time": "2022-07-23T10:55:28.634Z"
   },
   {
    "duration": 12,
    "start_time": "2022-07-23T10:55:28.670Z"
   },
   {
    "duration": 6,
    "start_time": "2022-07-23T10:56:57.570Z"
   },
   {
    "duration": 15,
    "start_time": "2022-07-23T10:57:40.376Z"
   },
   {
    "duration": 51,
    "start_time": "2022-07-23T11:13:14.966Z"
   },
   {
    "duration": 2,
    "start_time": "2022-07-23T11:13:55.416Z"
   },
   {
    "duration": 95,
    "start_time": "2022-07-23T11:13:55.423Z"
   },
   {
    "duration": 41,
    "start_time": "2022-07-23T11:13:55.520Z"
   },
   {
    "duration": 13,
    "start_time": "2022-07-23T11:13:55.563Z"
   },
   {
    "duration": 16,
    "start_time": "2022-07-23T11:13:55.749Z"
   },
   {
    "duration": 14,
    "start_time": "2022-07-23T11:13:55.767Z"
   },
   {
    "duration": 26,
    "start_time": "2022-07-23T11:13:55.782Z"
   },
   {
    "duration": 15,
    "start_time": "2022-07-23T11:13:55.809Z"
   },
   {
    "duration": 35,
    "start_time": "2022-07-23T11:13:55.826Z"
   },
   {
    "duration": 3,
    "start_time": "2022-07-23T11:13:55.863Z"
   },
   {
    "duration": 10,
    "start_time": "2022-07-23T11:13:55.868Z"
   },
   {
    "duration": 5,
    "start_time": "2022-07-23T11:13:55.880Z"
   },
   {
    "duration": 9,
    "start_time": "2022-07-23T11:13:55.887Z"
   },
   {
    "duration": 9,
    "start_time": "2022-07-23T11:13:55.898Z"
   },
   {
    "duration": 9,
    "start_time": "2022-07-23T11:13:55.908Z"
   },
   {
    "duration": 44,
    "start_time": "2022-07-23T11:13:55.918Z"
   },
   {
    "duration": 5,
    "start_time": "2022-07-23T11:13:55.963Z"
   },
   {
    "duration": 6,
    "start_time": "2022-07-23T11:13:55.971Z"
   },
   {
    "duration": 15,
    "start_time": "2022-07-23T11:13:55.978Z"
   },
   {
    "duration": 18,
    "start_time": "2022-07-23T11:13:55.995Z"
   },
   {
    "duration": 2,
    "start_time": "2022-07-23T11:13:56.016Z"
   },
   {
    "duration": 15,
    "start_time": "2022-07-23T11:13:56.020Z"
   },
   {
    "duration": 36,
    "start_time": "2022-07-23T11:13:56.037Z"
   },
   {
    "duration": 15,
    "start_time": "2022-07-23T11:13:56.075Z"
   },
   {
    "duration": 21,
    "start_time": "2022-07-23T11:13:56.091Z"
   },
   {
    "duration": 7,
    "start_time": "2022-07-23T11:13:56.113Z"
   },
   {
    "duration": 8,
    "start_time": "2022-07-23T11:13:56.122Z"
   },
   {
    "duration": 152,
    "start_time": "2022-07-23T11:13:56.132Z"
   },
   {
    "duration": 9,
    "start_time": "2022-07-23T11:13:56.286Z"
   },
   {
    "duration": 19,
    "start_time": "2022-07-23T11:13:56.297Z"
   },
   {
    "duration": 146,
    "start_time": "2022-07-23T11:13:56.318Z"
   },
   {
    "duration": 10,
    "start_time": "2022-07-23T11:13:56.466Z"
   },
   {
    "duration": 126,
    "start_time": "2022-07-23T11:13:56.478Z"
   },
   {
    "duration": 8,
    "start_time": "2022-07-23T11:13:56.605Z"
   },
   {
    "duration": 91,
    "start_time": "2022-07-23T11:13:56.615Z"
   },
   {
    "duration": 2,
    "start_time": "2022-07-23T11:13:56.708Z"
   },
   {
    "duration": 11,
    "start_time": "2022-07-23T11:13:56.711Z"
   },
   {
    "duration": 5,
    "start_time": "2022-07-23T11:13:56.724Z"
   },
   {
    "duration": 12,
    "start_time": "2022-07-23T11:13:56.730Z"
   },
   {
    "duration": 185,
    "start_time": "2022-07-23T11:13:56.743Z"
   },
   {
    "duration": 3,
    "start_time": "2022-07-23T11:13:56.930Z"
   },
   {
    "duration": 12,
    "start_time": "2022-07-23T11:13:56.934Z"
   },
   {
    "duration": 7,
    "start_time": "2022-07-23T11:13:56.947Z"
   },
   {
    "duration": 17,
    "start_time": "2022-07-23T11:13:56.960Z"
   },
   {
    "duration": 170,
    "start_time": "2022-07-23T11:13:56.981Z"
   },
   {
    "duration": 149,
    "start_time": "2022-07-23T11:13:57.153Z"
   },
   {
    "duration": 17,
    "start_time": "2022-07-23T11:13:57.304Z"
   },
   {
    "duration": 19,
    "start_time": "2022-07-23T11:13:57.323Z"
   },
   {
    "duration": 592,
    "start_time": "2022-07-23T11:13:57.343Z"
   },
   {
    "duration": 28,
    "start_time": "2022-07-23T11:13:57.936Z"
   },
   {
    "duration": 28,
    "start_time": "2022-07-23T11:13:57.966Z"
   },
   {
    "duration": 197,
    "start_time": "2022-07-23T11:13:57.996Z"
   },
   {
    "duration": 139,
    "start_time": "2022-07-23T11:13:58.195Z"
   },
   {
    "duration": 7,
    "start_time": "2022-07-23T11:13:58.335Z"
   },
   {
    "duration": 152,
    "start_time": "2022-07-23T11:13:58.344Z"
   },
   {
    "duration": 143,
    "start_time": "2022-07-23T11:13:58.498Z"
   },
   {
    "duration": 233,
    "start_time": "2022-07-23T11:13:58.644Z"
   },
   {
    "duration": 299,
    "start_time": "2022-07-23T11:13:58.879Z"
   },
   {
    "duration": 3,
    "start_time": "2022-07-23T11:29:32.727Z"
   },
   {
    "duration": 94,
    "start_time": "2022-07-23T11:29:32.732Z"
   },
   {
    "duration": 41,
    "start_time": "2022-07-23T11:29:32.828Z"
   },
   {
    "duration": 12,
    "start_time": "2022-07-23T11:29:32.871Z"
   },
   {
    "duration": 17,
    "start_time": "2022-07-23T11:29:32.886Z"
   },
   {
    "duration": 8,
    "start_time": "2022-07-23T11:29:32.905Z"
   },
   {
    "duration": 48,
    "start_time": "2022-07-23T11:29:32.914Z"
   },
   {
    "duration": 18,
    "start_time": "2022-07-23T11:29:32.964Z"
   },
   {
    "duration": 13,
    "start_time": "2022-07-23T11:29:32.984Z"
   },
   {
    "duration": 4,
    "start_time": "2022-07-23T11:29:32.999Z"
   },
   {
    "duration": 11,
    "start_time": "2022-07-23T11:29:33.004Z"
   },
   {
    "duration": 7,
    "start_time": "2022-07-23T11:29:33.017Z"
   },
   {
    "duration": 13,
    "start_time": "2022-07-23T11:29:33.026Z"
   },
   {
    "duration": 23,
    "start_time": "2022-07-23T11:29:33.042Z"
   },
   {
    "duration": 10,
    "start_time": "2022-07-23T11:29:33.067Z"
   },
   {
    "duration": 28,
    "start_time": "2022-07-23T11:29:33.079Z"
   },
   {
    "duration": 6,
    "start_time": "2022-07-23T11:29:33.109Z"
   },
   {
    "duration": 9,
    "start_time": "2022-07-23T11:29:33.116Z"
   },
   {
    "duration": 34,
    "start_time": "2022-07-23T11:29:33.127Z"
   },
   {
    "duration": 11,
    "start_time": "2022-07-23T11:29:33.163Z"
   },
   {
    "duration": 2,
    "start_time": "2022-07-23T11:29:33.176Z"
   },
   {
    "duration": 9,
    "start_time": "2022-07-23T11:29:33.179Z"
   },
   {
    "duration": 15,
    "start_time": "2022-07-23T11:29:33.189Z"
   },
   {
    "duration": 15,
    "start_time": "2022-07-23T11:29:33.206Z"
   },
   {
    "duration": 48,
    "start_time": "2022-07-23T11:29:33.222Z"
   },
   {
    "duration": 6,
    "start_time": "2022-07-23T11:29:33.272Z"
   },
   {
    "duration": 10,
    "start_time": "2022-07-23T11:29:33.280Z"
   },
   {
    "duration": 109,
    "start_time": "2022-07-23T11:29:33.291Z"
   },
   {
    "duration": 5,
    "start_time": "2022-07-23T11:29:33.402Z"
   },
   {
    "duration": 8,
    "start_time": "2022-07-23T11:29:33.409Z"
   },
   {
    "duration": 114,
    "start_time": "2022-07-23T11:29:33.418Z"
   },
   {
    "duration": 8,
    "start_time": "2022-07-23T11:29:33.534Z"
   },
   {
    "duration": 119,
    "start_time": "2022-07-23T11:29:33.544Z"
   },
   {
    "duration": 8,
    "start_time": "2022-07-23T11:29:33.664Z"
   },
   {
    "duration": 92,
    "start_time": "2022-07-23T11:29:33.673Z"
   },
   {
    "duration": 7,
    "start_time": "2022-07-23T11:29:33.766Z"
   },
   {
    "duration": 102,
    "start_time": "2022-07-23T11:29:42.121Z"
   },
   {
    "duration": 123,
    "start_time": "2022-07-23T11:30:27.103Z"
   },
   {
    "duration": 118,
    "start_time": "2022-07-23T11:34:39.370Z"
   },
   {
    "duration": 153,
    "start_time": "2022-07-23T11:35:06.609Z"
   },
   {
    "duration": 244,
    "start_time": "2022-07-23T11:35:12.180Z"
   },
   {
    "duration": 248,
    "start_time": "2022-07-23T11:35:22.044Z"
   },
   {
    "duration": 214,
    "start_time": "2022-07-23T11:44:09.264Z"
   },
   {
    "duration": 175,
    "start_time": "2022-07-23T11:44:20.494Z"
   },
   {
    "duration": 15,
    "start_time": "2022-07-23T11:45:56.610Z"
   },
   {
    "duration": 16,
    "start_time": "2022-07-23T11:46:08.743Z"
   },
   {
    "duration": 15,
    "start_time": "2022-07-23T11:47:49.545Z"
   },
   {
    "duration": 16,
    "start_time": "2022-07-23T11:57:39.614Z"
   },
   {
    "duration": 194,
    "start_time": "2022-07-23T12:06:01.167Z"
   },
   {
    "duration": 175,
    "start_time": "2022-07-23T12:06:27.038Z"
   },
   {
    "duration": 687,
    "start_time": "2022-07-23T12:06:46.435Z"
   },
   {
    "duration": 178,
    "start_time": "2022-07-23T12:06:57.314Z"
   },
   {
    "duration": 129,
    "start_time": "2022-07-23T12:07:03.051Z"
   },
   {
    "duration": 176,
    "start_time": "2022-07-23T12:07:18.354Z"
   },
   {
    "duration": 161,
    "start_time": "2022-07-23T12:07:28.551Z"
   },
   {
    "duration": 158,
    "start_time": "2022-07-23T12:08:02.556Z"
   },
   {
    "duration": 3,
    "start_time": "2022-07-23T12:09:10.756Z"
   },
   {
    "duration": 94,
    "start_time": "2022-07-23T12:09:10.765Z"
   },
   {
    "duration": 42,
    "start_time": "2022-07-23T12:09:10.861Z"
   },
   {
    "duration": 13,
    "start_time": "2022-07-23T12:09:10.904Z"
   },
   {
    "duration": 20,
    "start_time": "2022-07-23T12:09:10.919Z"
   },
   {
    "duration": 21,
    "start_time": "2022-07-23T12:09:10.941Z"
   },
   {
    "duration": 25,
    "start_time": "2022-07-23T12:09:10.964Z"
   },
   {
    "duration": 15,
    "start_time": "2022-07-23T12:09:10.990Z"
   },
   {
    "duration": 12,
    "start_time": "2022-07-23T12:09:11.007Z"
   },
   {
    "duration": 5,
    "start_time": "2022-07-23T12:09:11.020Z"
   },
   {
    "duration": 7,
    "start_time": "2022-07-23T12:09:11.027Z"
   },
   {
    "duration": 2,
    "start_time": "2022-07-23T12:09:11.060Z"
   },
   {
    "duration": 17,
    "start_time": "2022-07-23T12:09:11.064Z"
   },
   {
    "duration": 10,
    "start_time": "2022-07-23T12:09:11.083Z"
   },
   {
    "duration": 8,
    "start_time": "2022-07-23T12:09:11.095Z"
   },
   {
    "duration": 25,
    "start_time": "2022-07-23T12:09:11.105Z"
   },
   {
    "duration": 30,
    "start_time": "2022-07-23T12:09:11.132Z"
   },
   {
    "duration": 6,
    "start_time": "2022-07-23T12:09:11.164Z"
   },
   {
    "duration": 15,
    "start_time": "2022-07-23T12:09:11.171Z"
   },
   {
    "duration": 10,
    "start_time": "2022-07-23T12:09:11.187Z"
   },
   {
    "duration": 2,
    "start_time": "2022-07-23T12:09:11.199Z"
   },
   {
    "duration": 10,
    "start_time": "2022-07-23T12:09:11.202Z"
   },
   {
    "duration": 14,
    "start_time": "2022-07-23T12:09:11.213Z"
   },
   {
    "duration": 48,
    "start_time": "2022-07-23T12:09:11.228Z"
   },
   {
    "duration": 17,
    "start_time": "2022-07-23T12:09:11.278Z"
   },
   {
    "duration": 7,
    "start_time": "2022-07-23T12:09:11.297Z"
   },
   {
    "duration": 7,
    "start_time": "2022-07-23T12:09:11.307Z"
   },
   {
    "duration": 115,
    "start_time": "2022-07-23T12:09:11.316Z"
   },
   {
    "duration": 8,
    "start_time": "2022-07-23T12:09:11.433Z"
   },
   {
    "duration": 109,
    "start_time": "2022-07-23T12:09:11.442Z"
   },
   {
    "duration": 167,
    "start_time": "2022-07-23T12:09:11.552Z"
   },
   {
    "duration": 8,
    "start_time": "2022-07-23T12:09:11.720Z"
   },
   {
    "duration": 121,
    "start_time": "2022-07-23T12:09:11.729Z"
   },
   {
    "duration": 289,
    "start_time": "2022-07-23T12:09:11.851Z"
   },
   {
    "duration": 9,
    "start_time": "2022-07-23T12:09:12.142Z"
   },
   {
    "duration": 92,
    "start_time": "2022-07-23T12:09:12.152Z"
   },
   {
    "duration": 17,
    "start_time": "2022-07-23T12:09:12.245Z"
   },
   {
    "duration": 107,
    "start_time": "2022-07-23T12:09:12.264Z"
   },
   {
    "duration": 148,
    "start_time": "2022-07-23T12:09:12.372Z"
   },
   {
    "duration": 3,
    "start_time": "2022-07-23T12:09:12.522Z"
   },
   {
    "duration": 5,
    "start_time": "2022-07-23T12:09:12.527Z"
   },
   {
    "duration": 16,
    "start_time": "2022-07-23T12:09:12.533Z"
   },
   {
    "duration": 142,
    "start_time": "2022-07-23T12:09:12.550Z"
   },
   {
    "duration": 4,
    "start_time": "2022-07-23T12:09:12.693Z"
   },
   {
    "duration": 8,
    "start_time": "2022-07-23T12:09:12.699Z"
   },
   {
    "duration": 8,
    "start_time": "2022-07-23T12:09:12.708Z"
   },
   {
    "duration": 20,
    "start_time": "2022-07-23T12:09:12.718Z"
   },
   {
    "duration": 152,
    "start_time": "2022-07-23T12:09:12.740Z"
   },
   {
    "duration": 151,
    "start_time": "2022-07-23T12:09:12.893Z"
   },
   {
    "duration": 25,
    "start_time": "2022-07-23T12:09:13.046Z"
   },
   {
    "duration": 19,
    "start_time": "2022-07-23T12:09:13.072Z"
   },
   {
    "duration": 587,
    "start_time": "2022-07-23T12:09:13.094Z"
   },
   {
    "duration": 19,
    "start_time": "2022-07-23T12:09:13.682Z"
   },
   {
    "duration": 28,
    "start_time": "2022-07-23T12:09:13.702Z"
   },
   {
    "duration": 179,
    "start_time": "2022-07-23T12:09:13.732Z"
   },
   {
    "duration": 119,
    "start_time": "2022-07-23T12:09:13.913Z"
   },
   {
    "duration": 5,
    "start_time": "2022-07-23T12:09:14.034Z"
   },
   {
    "duration": 155,
    "start_time": "2022-07-23T12:09:14.041Z"
   },
   {
    "duration": 267,
    "start_time": "2022-07-23T12:09:14.198Z"
   },
   {
    "duration": 249,
    "start_time": "2022-07-23T12:09:14.467Z"
   },
   {
    "duration": 232,
    "start_time": "2022-07-23T12:09:14.718Z"
   },
   {
    "duration": 122,
    "start_time": "2022-07-23T12:10:53.352Z"
   },
   {
    "duration": 120,
    "start_time": "2022-07-23T12:11:47.442Z"
   },
   {
    "duration": 831,
    "start_time": "2022-07-23T18:05:13.818Z"
   },
   {
    "duration": 202,
    "start_time": "2022-07-23T18:05:14.652Z"
   },
   {
    "duration": 78,
    "start_time": "2022-07-23T18:05:14.855Z"
   },
   {
    "duration": 16,
    "start_time": "2022-07-23T18:05:14.935Z"
   },
   {
    "duration": 19,
    "start_time": "2022-07-23T18:05:14.953Z"
   },
   {
    "duration": 7,
    "start_time": "2022-07-23T18:05:14.973Z"
   },
   {
    "duration": 40,
    "start_time": "2022-07-23T18:05:14.982Z"
   },
   {
    "duration": 22,
    "start_time": "2022-07-23T18:05:15.024Z"
   },
   {
    "duration": 20,
    "start_time": "2022-07-23T18:05:15.048Z"
   },
   {
    "duration": 4,
    "start_time": "2022-07-23T18:05:15.070Z"
   },
   {
    "duration": 35,
    "start_time": "2022-07-23T18:05:15.075Z"
   },
   {
    "duration": 9,
    "start_time": "2022-07-23T18:05:15.111Z"
   },
   {
    "duration": 11,
    "start_time": "2022-07-23T18:05:15.122Z"
   },
   {
    "duration": 11,
    "start_time": "2022-07-23T18:05:15.137Z"
   },
   {
    "duration": 9,
    "start_time": "2022-07-23T18:05:15.150Z"
   },
   {
    "duration": 34,
    "start_time": "2022-07-23T18:05:15.160Z"
   },
   {
    "duration": 16,
    "start_time": "2022-07-23T18:05:15.195Z"
   },
   {
    "duration": 6,
    "start_time": "2022-07-23T18:05:15.213Z"
   },
   {
    "duration": 14,
    "start_time": "2022-07-23T18:05:15.221Z"
   },
   {
    "duration": 11,
    "start_time": "2022-07-23T18:05:15.237Z"
   },
   {
    "duration": 2,
    "start_time": "2022-07-23T18:05:15.249Z"
   },
   {
    "duration": 14,
    "start_time": "2022-07-23T18:05:15.252Z"
   },
   {
    "duration": 46,
    "start_time": "2022-07-23T18:05:15.267Z"
   },
   {
    "duration": 18,
    "start_time": "2022-07-23T18:05:15.314Z"
   },
   {
    "duration": 25,
    "start_time": "2022-07-23T18:05:15.333Z"
   },
   {
    "duration": 5,
    "start_time": "2022-07-23T18:05:15.360Z"
   },
   {
    "duration": 13,
    "start_time": "2022-07-23T18:05:15.367Z"
   },
   {
    "duration": 123,
    "start_time": "2022-07-23T18:05:15.382Z"
   },
   {
    "duration": 8,
    "start_time": "2022-07-23T18:05:15.510Z"
   },
   {
    "duration": 119,
    "start_time": "2022-07-23T18:05:15.520Z"
   },
   {
    "duration": 184,
    "start_time": "2022-07-23T18:05:15.640Z"
   },
   {
    "duration": 7,
    "start_time": "2022-07-23T18:05:15.826Z"
   },
   {
    "duration": 119,
    "start_time": "2022-07-23T18:05:15.834Z"
   },
   {
    "duration": 250,
    "start_time": "2022-07-23T18:05:15.955Z"
   },
   {
    "duration": 8,
    "start_time": "2022-07-23T18:05:16.209Z"
   },
   {
    "duration": 132,
    "start_time": "2022-07-23T18:05:22.269Z"
   },
   {
    "duration": 94,
    "start_time": "2022-07-23T18:05:27.588Z"
   },
   {
    "duration": 26,
    "start_time": "2022-07-23T18:09:18.643Z"
   },
   {
    "duration": 8,
    "start_time": "2022-07-23T18:11:50.465Z"
   },
   {
    "duration": 133,
    "start_time": "2022-07-23T18:11:51.409Z"
   },
   {
    "duration": 146,
    "start_time": "2022-07-23T18:11:52.509Z"
   },
   {
    "duration": 186,
    "start_time": "2022-07-23T18:12:01.498Z"
   },
   {
    "duration": 26,
    "start_time": "2022-07-23T18:13:01.044Z"
   },
   {
    "duration": 29,
    "start_time": "2022-07-23T18:13:11.465Z"
   },
   {
    "duration": 239,
    "start_time": "2022-07-23T18:15:00.113Z"
   },
   {
    "duration": 165,
    "start_time": "2022-07-23T18:15:07.965Z"
   },
   {
    "duration": 152,
    "start_time": "2022-07-23T18:15:15.905Z"
   },
   {
    "duration": 147,
    "start_time": "2022-07-23T18:15:52.353Z"
   },
   {
    "duration": 203,
    "start_time": "2022-07-23T18:16:07.413Z"
   },
   {
    "duration": 120,
    "start_time": "2022-07-23T18:16:14.864Z"
   },
   {
    "duration": 115,
    "start_time": "2022-07-23T18:16:26.466Z"
   },
   {
    "duration": 129,
    "start_time": "2022-07-23T18:16:45.892Z"
   },
   {
    "duration": 44,
    "start_time": "2022-07-23T18:17:04.912Z"
   },
   {
    "duration": 168,
    "start_time": "2022-07-23T18:17:09.658Z"
   },
   {
    "duration": 175,
    "start_time": "2022-07-23T18:17:21.866Z"
   },
   {
    "duration": 159,
    "start_time": "2022-07-23T18:17:35.144Z"
   },
   {
    "duration": 22,
    "start_time": "2022-07-23T18:19:24.056Z"
   },
   {
    "duration": 5,
    "start_time": "2022-07-23T18:19:45.752Z"
   },
   {
    "duration": 15,
    "start_time": "2022-07-23T18:21:20.902Z"
   },
   {
    "duration": 129,
    "start_time": "2022-07-23T18:28:06.924Z"
   },
   {
    "duration": 149,
    "start_time": "2022-07-23T18:29:05.364Z"
   },
   {
    "duration": 3,
    "start_time": "2022-07-23T18:32:53.304Z"
   },
   {
    "duration": 104,
    "start_time": "2022-07-23T18:32:53.309Z"
   },
   {
    "duration": 44,
    "start_time": "2022-07-23T18:32:53.415Z"
   },
   {
    "duration": 14,
    "start_time": "2022-07-23T18:32:53.461Z"
   },
   {
    "duration": 17,
    "start_time": "2022-07-23T18:32:53.477Z"
   },
   {
    "duration": 21,
    "start_time": "2022-07-23T18:32:53.495Z"
   },
   {
    "duration": 39,
    "start_time": "2022-07-23T18:32:53.518Z"
   },
   {
    "duration": 21,
    "start_time": "2022-07-23T18:32:53.559Z"
   },
   {
    "duration": 41,
    "start_time": "2022-07-23T18:32:53.583Z"
   },
   {
    "duration": 7,
    "start_time": "2022-07-23T18:32:53.625Z"
   },
   {
    "duration": 13,
    "start_time": "2022-07-23T18:32:53.634Z"
   },
   {
    "duration": 16,
    "start_time": "2022-07-23T18:32:53.649Z"
   },
   {
    "duration": 16,
    "start_time": "2022-07-23T18:32:53.666Z"
   },
   {
    "duration": 14,
    "start_time": "2022-07-23T18:32:53.684Z"
   },
   {
    "duration": 18,
    "start_time": "2022-07-23T18:32:53.700Z"
   },
   {
    "duration": 41,
    "start_time": "2022-07-23T18:32:53.720Z"
   },
   {
    "duration": 6,
    "start_time": "2022-07-23T18:32:53.763Z"
   },
   {
    "duration": 14,
    "start_time": "2022-07-23T18:32:53.771Z"
   },
   {
    "duration": 25,
    "start_time": "2022-07-23T18:32:53.788Z"
   },
   {
    "duration": 13,
    "start_time": "2022-07-23T18:32:53.815Z"
   },
   {
    "duration": 2,
    "start_time": "2022-07-23T18:32:53.830Z"
   },
   {
    "duration": 10,
    "start_time": "2022-07-23T18:32:53.834Z"
   },
   {
    "duration": 16,
    "start_time": "2022-07-23T18:32:53.846Z"
   },
   {
    "duration": 56,
    "start_time": "2022-07-23T18:32:53.866Z"
   },
   {
    "duration": 22,
    "start_time": "2022-07-23T18:32:53.924Z"
   },
   {
    "duration": 9,
    "start_time": "2022-07-23T18:32:53.948Z"
   },
   {
    "duration": 9,
    "start_time": "2022-07-23T18:32:53.959Z"
   },
   {
    "duration": 135,
    "start_time": "2022-07-23T18:32:53.970Z"
   },
   {
    "duration": 21,
    "start_time": "2022-07-23T18:32:54.109Z"
   },
   {
    "duration": 122,
    "start_time": "2022-07-23T18:32:54.132Z"
   },
   {
    "duration": 220,
    "start_time": "2022-07-23T18:32:54.256Z"
   },
   {
    "duration": 7,
    "start_time": "2022-07-23T18:32:54.478Z"
   },
   {
    "duration": 117,
    "start_time": "2022-07-23T18:32:54.487Z"
   },
   {
    "duration": 164,
    "start_time": "2022-07-23T18:32:54.606Z"
   },
   {
    "duration": 9,
    "start_time": "2022-07-23T18:32:54.771Z"
   },
   {
    "duration": 135,
    "start_time": "2022-07-23T18:32:54.782Z"
   },
   {
    "duration": 92,
    "start_time": "2022-07-23T18:32:54.919Z"
   },
   {
    "duration": 9,
    "start_time": "2022-07-23T18:32:55.013Z"
   },
   {
    "duration": 114,
    "start_time": "2022-07-23T18:32:55.024Z"
   },
   {
    "duration": 174,
    "start_time": "2022-07-23T18:32:55.140Z"
   },
   {
    "duration": 4,
    "start_time": "2022-07-23T18:32:55.315Z"
   },
   {
    "duration": 17,
    "start_time": "2022-07-23T18:32:55.320Z"
   },
   {
    "duration": 32,
    "start_time": "2022-07-23T18:32:55.338Z"
   },
   {
    "duration": 160,
    "start_time": "2022-07-23T18:32:55.371Z"
   },
   {
    "duration": 4,
    "start_time": "2022-07-23T18:32:55.532Z"
   },
   {
    "duration": 18,
    "start_time": "2022-07-23T18:32:55.538Z"
   },
   {
    "duration": 17,
    "start_time": "2022-07-23T18:32:55.557Z"
   },
   {
    "duration": 43,
    "start_time": "2022-07-23T18:32:55.575Z"
   },
   {
    "duration": 170,
    "start_time": "2022-07-23T18:32:55.620Z"
   },
   {
    "duration": 167,
    "start_time": "2022-07-23T18:32:55.792Z"
   },
   {
    "duration": 20,
    "start_time": "2022-07-23T18:32:55.960Z"
   },
   {
    "duration": 37,
    "start_time": "2022-07-23T18:32:55.981Z"
   },
   {
    "duration": 724,
    "start_time": "2022-07-23T18:32:56.020Z"
   },
   {
    "duration": 20,
    "start_time": "2022-07-23T18:32:56.746Z"
   },
   {
    "duration": 43,
    "start_time": "2022-07-23T18:32:56.768Z"
   },
   {
    "duration": 179,
    "start_time": "2022-07-23T18:32:56.812Z"
   },
   {
    "duration": 131,
    "start_time": "2022-07-23T18:32:56.993Z"
   },
   {
    "duration": 8,
    "start_time": "2022-07-23T18:32:57.126Z"
   },
   {
    "duration": 169,
    "start_time": "2022-07-23T18:32:57.136Z"
   },
   {
    "duration": 130,
    "start_time": "2022-07-23T18:32:57.309Z"
   },
   {
    "duration": 238,
    "start_time": "2022-07-23T18:32:57.443Z"
   },
   {
    "duration": 235,
    "start_time": "2022-07-23T18:32:57.683Z"
   },
   {
    "duration": 178,
    "start_time": "2022-07-23T18:49:28.197Z"
   },
   {
    "duration": 167,
    "start_time": "2022-07-23T18:49:37.219Z"
   },
   {
    "duration": 182,
    "start_time": "2022-07-23T18:50:05.350Z"
   },
   {
    "duration": 273,
    "start_time": "2022-07-23T18:50:57.958Z"
   },
   {
    "duration": 173,
    "start_time": "2022-07-23T18:51:51.810Z"
   },
   {
    "duration": 139,
    "start_time": "2022-07-23T18:54:41.617Z"
   },
   {
    "duration": 3,
    "start_time": "2022-07-23T18:54:47.859Z"
   },
   {
    "duration": 111,
    "start_time": "2022-07-23T18:54:47.864Z"
   },
   {
    "duration": 64,
    "start_time": "2022-07-23T18:54:47.977Z"
   },
   {
    "duration": 14,
    "start_time": "2022-07-23T18:54:48.042Z"
   },
   {
    "duration": 18,
    "start_time": "2022-07-23T18:54:48.058Z"
   },
   {
    "duration": 16,
    "start_time": "2022-07-23T18:54:48.078Z"
   },
   {
    "duration": 39,
    "start_time": "2022-07-23T18:54:48.096Z"
   },
   {
    "duration": 17,
    "start_time": "2022-07-23T18:54:48.137Z"
   },
   {
    "duration": 16,
    "start_time": "2022-07-23T18:54:48.156Z"
   },
   {
    "duration": 4,
    "start_time": "2022-07-23T18:54:48.173Z"
   },
   {
    "duration": 10,
    "start_time": "2022-07-23T18:54:48.178Z"
   },
   {
    "duration": 23,
    "start_time": "2022-07-23T18:54:48.189Z"
   },
   {
    "duration": 13,
    "start_time": "2022-07-23T18:54:48.215Z"
   },
   {
    "duration": 10,
    "start_time": "2022-07-23T18:54:48.281Z"
   },
   {
    "duration": 14,
    "start_time": "2022-07-23T18:54:48.293Z"
   },
   {
    "duration": 44,
    "start_time": "2022-07-23T18:54:48.308Z"
   },
   {
    "duration": 9,
    "start_time": "2022-07-23T18:54:48.353Z"
   },
   {
    "duration": 19,
    "start_time": "2022-07-23T18:54:48.364Z"
   },
   {
    "duration": 23,
    "start_time": "2022-07-23T18:54:48.384Z"
   },
   {
    "duration": 13,
    "start_time": "2022-07-23T18:54:48.409Z"
   },
   {
    "duration": 13,
    "start_time": "2022-07-23T18:54:48.423Z"
   },
   {
    "duration": 21,
    "start_time": "2022-07-23T18:54:48.438Z"
   },
   {
    "duration": 27,
    "start_time": "2022-07-23T18:54:48.461Z"
   },
   {
    "duration": 30,
    "start_time": "2022-07-23T18:54:48.490Z"
   },
   {
    "duration": 19,
    "start_time": "2022-07-23T18:54:48.521Z"
   },
   {
    "duration": 23,
    "start_time": "2022-07-23T18:54:48.542Z"
   },
   {
    "duration": 16,
    "start_time": "2022-07-23T18:54:48.568Z"
   },
   {
    "duration": 97,
    "start_time": "2022-07-23T18:54:48.585Z"
   },
   {
    "duration": 7,
    "start_time": "2022-07-23T18:54:48.683Z"
   },
   {
    "duration": 118,
    "start_time": "2022-07-23T18:54:48.691Z"
   },
   {
    "duration": 151,
    "start_time": "2022-07-23T18:54:48.812Z"
   },
   {
    "duration": 9,
    "start_time": "2022-07-23T18:54:48.964Z"
   },
   {
    "duration": 147,
    "start_time": "2022-07-23T18:54:48.974Z"
   },
   {
    "duration": 177,
    "start_time": "2022-07-23T18:54:49.123Z"
   },
   {
    "duration": 17,
    "start_time": "2022-07-23T18:54:49.302Z"
   },
   {
    "duration": 164,
    "start_time": "2022-07-23T18:54:49.321Z"
   },
   {
    "duration": 98,
    "start_time": "2022-07-23T18:54:49.487Z"
   },
   {
    "duration": 7,
    "start_time": "2022-07-23T18:54:49.586Z"
   },
   {
    "duration": 121,
    "start_time": "2022-07-23T18:54:49.595Z"
   },
   {
    "duration": 266,
    "start_time": "2022-07-23T18:54:49.717Z"
   },
   {
    "duration": 4,
    "start_time": "2022-07-23T18:54:49.985Z"
   },
   {
    "duration": 6,
    "start_time": "2022-07-23T18:54:49.990Z"
   },
   {
    "duration": 24,
    "start_time": "2022-07-23T18:54:49.997Z"
   },
   {
    "duration": 157,
    "start_time": "2022-07-23T18:54:50.024Z"
   },
   {
    "duration": 3,
    "start_time": "2022-07-23T18:54:50.183Z"
   },
   {
    "duration": 7,
    "start_time": "2022-07-23T18:54:50.188Z"
   },
   {
    "duration": 15,
    "start_time": "2022-07-23T18:54:50.196Z"
   },
   {
    "duration": 166,
    "start_time": "2022-07-23T18:54:50.214Z"
   },
   {
    "duration": 172,
    "start_time": "2022-07-23T18:54:50.382Z"
   },
   {
    "duration": 13,
    "start_time": "2022-07-23T18:55:16.558Z"
   },
   {
    "duration": 38,
    "start_time": "2022-07-23T19:03:57.698Z"
   },
   {
    "duration": 37,
    "start_time": "2022-07-23T19:05:13.508Z"
   },
   {
    "duration": 845,
    "start_time": "2022-07-24T05:57:23.303Z"
   },
   {
    "duration": 200,
    "start_time": "2022-07-24T05:57:24.151Z"
   },
   {
    "duration": 83,
    "start_time": "2022-07-24T05:57:24.352Z"
   },
   {
    "duration": 22,
    "start_time": "2022-07-24T05:57:24.438Z"
   },
   {
    "duration": 22,
    "start_time": "2022-07-24T05:57:24.463Z"
   },
   {
    "duration": 12,
    "start_time": "2022-07-24T05:57:24.487Z"
   },
   {
    "duration": 54,
    "start_time": "2022-07-24T05:57:24.501Z"
   },
   {
    "duration": 20,
    "start_time": "2022-07-24T05:57:24.558Z"
   },
   {
    "duration": 16,
    "start_time": "2022-07-24T05:57:24.580Z"
   },
   {
    "duration": 6,
    "start_time": "2022-07-24T05:57:24.624Z"
   },
   {
    "duration": 31,
    "start_time": "2022-07-24T05:57:24.631Z"
   },
   {
    "duration": 10,
    "start_time": "2022-07-24T05:57:24.664Z"
   },
   {
    "duration": 28,
    "start_time": "2022-07-24T05:57:24.676Z"
   },
   {
    "duration": 10,
    "start_time": "2022-07-24T05:57:24.706Z"
   },
   {
    "duration": 9,
    "start_time": "2022-07-24T05:57:24.718Z"
   },
   {
    "duration": 34,
    "start_time": "2022-07-24T05:57:24.729Z"
   },
   {
    "duration": 6,
    "start_time": "2022-07-24T05:57:24.765Z"
   },
   {
    "duration": 6,
    "start_time": "2022-07-24T05:57:24.773Z"
   },
   {
    "duration": 19,
    "start_time": "2022-07-24T05:57:24.781Z"
   },
   {
    "duration": 27,
    "start_time": "2022-07-24T05:57:24.801Z"
   },
   {
    "duration": 2,
    "start_time": "2022-07-24T05:57:24.830Z"
   },
   {
    "duration": 11,
    "start_time": "2022-07-24T05:57:24.834Z"
   },
   {
    "duration": 15,
    "start_time": "2022-07-24T05:57:24.846Z"
   },
   {
    "duration": 16,
    "start_time": "2022-07-24T05:57:24.863Z"
   },
   {
    "duration": 47,
    "start_time": "2022-07-24T05:57:24.880Z"
   },
   {
    "duration": 6,
    "start_time": "2022-07-24T05:57:24.928Z"
   },
   {
    "duration": 26,
    "start_time": "2022-07-24T05:57:24.936Z"
   },
   {
    "duration": 111,
    "start_time": "2022-07-24T05:57:24.966Z"
   },
   {
    "duration": 9,
    "start_time": "2022-07-24T05:57:25.079Z"
   },
   {
    "duration": 114,
    "start_time": "2022-07-24T05:57:25.089Z"
   },
   {
    "duration": 136,
    "start_time": "2022-07-24T05:57:25.205Z"
   },
   {
    "duration": 9,
    "start_time": "2022-07-24T05:57:25.343Z"
   },
   {
    "duration": 124,
    "start_time": "2022-07-24T05:57:25.354Z"
   },
   {
    "duration": 233,
    "start_time": "2022-07-24T05:57:25.479Z"
   },
   {
    "duration": 9,
    "start_time": "2022-07-24T05:57:25.714Z"
   },
   {
    "duration": 143,
    "start_time": "2022-07-24T05:57:25.724Z"
   },
   {
    "duration": 96,
    "start_time": "2022-07-24T05:57:25.869Z"
   },
   {
    "duration": 11,
    "start_time": "2022-07-24T05:57:25.967Z"
   },
   {
    "duration": 122,
    "start_time": "2022-07-24T05:57:25.979Z"
   },
   {
    "duration": 171,
    "start_time": "2022-07-24T05:57:26.103Z"
   },
   {
    "duration": 5,
    "start_time": "2022-07-24T05:57:26.276Z"
   },
   {
    "duration": 6,
    "start_time": "2022-07-24T05:57:26.282Z"
   },
   {
    "duration": 12,
    "start_time": "2022-07-24T05:57:26.290Z"
   },
   {
    "duration": 150,
    "start_time": "2022-07-24T05:57:26.304Z"
   },
   {
    "duration": 4,
    "start_time": "2022-07-24T05:57:26.455Z"
   },
   {
    "duration": 7,
    "start_time": "2022-07-24T05:57:26.461Z"
   },
   {
    "duration": 9,
    "start_time": "2022-07-24T05:57:26.469Z"
   },
   {
    "duration": 166,
    "start_time": "2022-07-24T05:57:26.482Z"
   },
   {
    "duration": 157,
    "start_time": "2022-07-24T05:57:26.650Z"
   },
   {
    "duration": 25,
    "start_time": "2022-07-24T05:57:26.809Z"
   },
   {
    "duration": 20,
    "start_time": "2022-07-24T05:57:26.836Z"
   },
   {
    "duration": 756,
    "start_time": "2022-07-24T05:57:26.857Z"
   },
   {
    "duration": 27,
    "start_time": "2022-07-24T05:57:27.615Z"
   },
   {
    "duration": 36,
    "start_time": "2022-07-24T05:57:27.644Z"
   },
   {
    "duration": 304,
    "start_time": "2022-07-24T05:57:27.682Z"
   },
   {
    "duration": 143,
    "start_time": "2022-07-24T05:57:27.988Z"
   },
   {
    "duration": 7,
    "start_time": "2022-07-24T05:57:28.133Z"
   },
   {
    "duration": 178,
    "start_time": "2022-07-24T05:57:28.142Z"
   },
   {
    "duration": 145,
    "start_time": "2022-07-24T05:57:28.323Z"
   },
   {
    "duration": 254,
    "start_time": "2022-07-24T05:57:28.470Z"
   },
   {
    "duration": 252,
    "start_time": "2022-07-24T05:57:28.726Z"
   },
   {
    "duration": 3,
    "start_time": "2022-07-24T05:58:25.739Z"
   },
   {
    "duration": 104,
    "start_time": "2022-07-24T05:58:25.744Z"
   },
   {
    "duration": 45,
    "start_time": "2022-07-24T05:58:25.850Z"
   },
   {
    "duration": 15,
    "start_time": "2022-07-24T05:58:25.897Z"
   },
   {
    "duration": 23,
    "start_time": "2022-07-24T05:58:25.915Z"
   },
   {
    "duration": 12,
    "start_time": "2022-07-24T05:58:25.939Z"
   },
   {
    "duration": 30,
    "start_time": "2022-07-24T05:58:25.953Z"
   },
   {
    "duration": 39,
    "start_time": "2022-07-24T05:58:25.985Z"
   },
   {
    "duration": 15,
    "start_time": "2022-07-24T05:58:26.026Z"
   },
   {
    "duration": 4,
    "start_time": "2022-07-24T05:58:26.043Z"
   },
   {
    "duration": 14,
    "start_time": "2022-07-24T05:58:26.049Z"
   },
   {
    "duration": 10,
    "start_time": "2022-07-24T05:58:26.064Z"
   },
   {
    "duration": 12,
    "start_time": "2022-07-24T05:58:26.076Z"
   },
   {
    "duration": 31,
    "start_time": "2022-07-24T05:58:26.092Z"
   },
   {
    "duration": 10,
    "start_time": "2022-07-24T05:58:26.125Z"
   },
   {
    "duration": 31,
    "start_time": "2022-07-24T05:58:26.137Z"
   },
   {
    "duration": 6,
    "start_time": "2022-07-24T05:58:26.171Z"
   },
   {
    "duration": 11,
    "start_time": "2022-07-24T05:58:26.179Z"
   },
   {
    "duration": 35,
    "start_time": "2022-07-24T05:58:26.192Z"
   },
   {
    "duration": 12,
    "start_time": "2022-07-24T05:58:26.229Z"
   },
   {
    "duration": 3,
    "start_time": "2022-07-24T05:58:26.242Z"
   },
   {
    "duration": 10,
    "start_time": "2022-07-24T05:58:26.246Z"
   },
   {
    "duration": 20,
    "start_time": "2022-07-24T05:58:26.257Z"
   },
   {
    "duration": 43,
    "start_time": "2022-07-24T05:58:26.279Z"
   },
   {
    "duration": 20,
    "start_time": "2022-07-24T05:58:26.324Z"
   },
   {
    "duration": 11,
    "start_time": "2022-07-24T05:58:26.346Z"
   },
   {
    "duration": 16,
    "start_time": "2022-07-24T05:58:26.359Z"
   },
   {
    "duration": 109,
    "start_time": "2022-07-24T05:58:26.377Z"
   },
   {
    "duration": 10,
    "start_time": "2022-07-24T05:58:26.487Z"
   },
   {
    "duration": 127,
    "start_time": "2022-07-24T05:58:26.499Z"
   },
   {
    "duration": 132,
    "start_time": "2022-07-24T05:58:26.628Z"
   },
   {
    "duration": 9,
    "start_time": "2022-07-24T05:58:26.762Z"
   },
   {
    "duration": 152,
    "start_time": "2022-07-24T05:58:26.773Z"
   },
   {
    "duration": 185,
    "start_time": "2022-07-24T05:58:26.927Z"
   },
   {
    "duration": 14,
    "start_time": "2022-07-24T05:58:27.114Z"
   },
   {
    "duration": 236,
    "start_time": "2022-07-24T05:58:27.129Z"
   },
   {
    "duration": 107,
    "start_time": "2022-07-24T05:58:27.366Z"
   },
   {
    "duration": 10,
    "start_time": "2022-07-24T05:58:27.474Z"
   },
   {
    "duration": 127,
    "start_time": "2022-07-24T05:58:27.487Z"
   },
   {
    "duration": 189,
    "start_time": "2022-07-24T05:58:27.615Z"
   },
   {
    "duration": 4,
    "start_time": "2022-07-24T05:58:27.806Z"
   },
   {
    "duration": 13,
    "start_time": "2022-07-24T05:58:27.811Z"
   },
   {
    "duration": 14,
    "start_time": "2022-07-24T05:58:27.826Z"
   },
   {
    "duration": 168,
    "start_time": "2022-07-24T05:58:27.842Z"
   },
   {
    "duration": 4,
    "start_time": "2022-07-24T05:58:28.012Z"
   },
   {
    "duration": 4,
    "start_time": "2022-07-24T05:58:28.023Z"
   },
   {
    "duration": 7,
    "start_time": "2022-07-24T05:58:28.029Z"
   },
   {
    "duration": 170,
    "start_time": "2022-07-24T05:58:28.038Z"
   },
   {
    "duration": 163,
    "start_time": "2022-07-24T05:58:28.210Z"
   },
   {
    "duration": 20,
    "start_time": "2022-07-24T05:58:28.374Z"
   },
   {
    "duration": 40,
    "start_time": "2022-07-24T05:58:28.396Z"
   },
   {
    "duration": 738,
    "start_time": "2022-07-24T05:58:38.357Z"
   },
   {
    "duration": 218,
    "start_time": "2022-07-24T05:59:00.738Z"
   },
   {
    "duration": 57,
    "start_time": "2022-07-24T05:59:05.317Z"
   },
   {
    "duration": 52,
    "start_time": "2022-07-24T05:59:41.916Z"
   },
   {
    "duration": 1032,
    "start_time": "2022-07-24T06:00:04.098Z"
   },
   {
    "duration": 55,
    "start_time": "2022-07-24T06:00:21.619Z"
   },
   {
    "duration": 167,
    "start_time": "2022-07-24T06:00:28.518Z"
   },
   {
    "duration": 749,
    "start_time": "2022-07-24T06:01:19.978Z"
   },
   {
    "duration": 835,
    "start_time": "2022-07-24T06:01:54.019Z"
   },
   {
    "duration": 1021,
    "start_time": "2022-07-24T06:02:44.325Z"
   },
   {
    "duration": 924,
    "start_time": "2022-07-24T06:06:43.189Z"
   },
   {
    "duration": 209,
    "start_time": "2022-07-24T06:06:59.566Z"
   },
   {
    "duration": 7,
    "start_time": "2022-07-24T06:07:10.650Z"
   },
   {
    "duration": 5,
    "start_time": "2022-07-24T06:07:12.499Z"
   },
   {
    "duration": 694,
    "start_time": "2022-07-24T06:10:17.406Z"
   },
   {
    "duration": 619,
    "start_time": "2022-07-24T06:12:45.967Z"
   },
   {
    "duration": 3,
    "start_time": "2022-07-24T06:13:43.787Z"
   },
   {
    "duration": 105,
    "start_time": "2022-07-24T06:13:43.793Z"
   },
   {
    "duration": 47,
    "start_time": "2022-07-24T06:13:43.900Z"
   },
   {
    "duration": 17,
    "start_time": "2022-07-24T06:13:43.949Z"
   },
   {
    "duration": 34,
    "start_time": "2022-07-24T06:13:43.968Z"
   },
   {
    "duration": 20,
    "start_time": "2022-07-24T06:13:44.005Z"
   },
   {
    "duration": 36,
    "start_time": "2022-07-24T06:13:44.027Z"
   },
   {
    "duration": 16,
    "start_time": "2022-07-24T06:13:44.065Z"
   },
   {
    "duration": 18,
    "start_time": "2022-07-24T06:13:44.085Z"
   },
   {
    "duration": 5,
    "start_time": "2022-07-24T06:13:44.122Z"
   },
   {
    "duration": 10,
    "start_time": "2022-07-24T06:13:44.128Z"
   },
   {
    "duration": 5,
    "start_time": "2022-07-24T06:13:44.139Z"
   },
   {
    "duration": 11,
    "start_time": "2022-07-24T06:13:44.146Z"
   },
   {
    "duration": 11,
    "start_time": "2022-07-24T06:13:44.158Z"
   },
   {
    "duration": 9,
    "start_time": "2022-07-24T06:13:44.171Z"
   },
   {
    "duration": 60,
    "start_time": "2022-07-24T06:13:44.182Z"
   },
   {
    "duration": 6,
    "start_time": "2022-07-24T06:13:44.244Z"
   },
   {
    "duration": 11,
    "start_time": "2022-07-24T06:13:44.251Z"
   },
   {
    "duration": 16,
    "start_time": "2022-07-24T06:13:44.264Z"
   },
   {
    "duration": 12,
    "start_time": "2022-07-24T06:13:44.281Z"
   },
   {
    "duration": 2,
    "start_time": "2022-07-24T06:13:44.295Z"
   },
   {
    "duration": 8,
    "start_time": "2022-07-24T06:13:44.323Z"
   },
   {
    "duration": 16,
    "start_time": "2022-07-24T06:13:44.332Z"
   },
   {
    "duration": 17,
    "start_time": "2022-07-24T06:13:44.351Z"
   },
   {
    "duration": 57,
    "start_time": "2022-07-24T06:13:44.370Z"
   },
   {
    "duration": 7,
    "start_time": "2022-07-24T06:13:44.429Z"
   },
   {
    "duration": 20,
    "start_time": "2022-07-24T06:13:44.439Z"
   },
   {
    "duration": 132,
    "start_time": "2022-07-24T06:13:44.461Z"
   },
   {
    "duration": 12,
    "start_time": "2022-07-24T06:13:44.595Z"
   },
   {
    "duration": 148,
    "start_time": "2022-07-24T06:13:44.609Z"
   },
   {
    "duration": 128,
    "start_time": "2022-07-24T06:13:44.759Z"
   },
   {
    "duration": 9,
    "start_time": "2022-07-24T06:13:44.888Z"
   },
   {
    "duration": 136,
    "start_time": "2022-07-24T06:13:44.899Z"
   },
   {
    "duration": 189,
    "start_time": "2022-07-24T06:13:45.037Z"
   },
   {
    "duration": 9,
    "start_time": "2022-07-24T06:13:45.227Z"
   },
   {
    "duration": 155,
    "start_time": "2022-07-24T06:13:45.237Z"
   },
   {
    "duration": 103,
    "start_time": "2022-07-24T06:13:45.394Z"
   },
   {
    "duration": 8,
    "start_time": "2022-07-24T06:13:45.498Z"
   },
   {
    "duration": 116,
    "start_time": "2022-07-24T06:13:45.508Z"
   },
   {
    "duration": 187,
    "start_time": "2022-07-24T06:13:45.626Z"
   },
   {
    "duration": 10,
    "start_time": "2022-07-24T06:13:45.814Z"
   },
   {
    "duration": 4,
    "start_time": "2022-07-24T06:13:45.826Z"
   },
   {
    "duration": 14,
    "start_time": "2022-07-24T06:13:45.832Z"
   },
   {
    "duration": 247,
    "start_time": "2022-07-24T06:13:45.848Z"
   },
   {
    "duration": 5,
    "start_time": "2022-07-24T06:13:46.097Z"
   },
   {
    "duration": 21,
    "start_time": "2022-07-24T06:13:46.104Z"
   },
   {
    "duration": 9,
    "start_time": "2022-07-24T06:13:46.127Z"
   },
   {
    "duration": 163,
    "start_time": "2022-07-24T06:13:46.138Z"
   },
   {
    "duration": 165,
    "start_time": "2022-07-24T06:13:46.302Z"
   },
   {
    "duration": 19,
    "start_time": "2022-07-24T06:13:46.469Z"
   },
   {
    "duration": 8,
    "start_time": "2022-07-24T06:13:52.307Z"
   },
   {
    "duration": 26,
    "start_time": "2022-07-24T06:14:00.051Z"
   },
   {
    "duration": 26,
    "start_time": "2022-07-24T06:14:15.004Z"
   },
   {
    "duration": 809,
    "start_time": "2022-07-24T06:14:30.657Z"
   },
   {
    "duration": 772,
    "start_time": "2022-07-24T06:14:49.227Z"
   },
   {
    "duration": 9,
    "start_time": "2022-07-24T06:22:05.719Z"
   },
   {
    "duration": 715,
    "start_time": "2022-07-24T06:34:39.406Z"
   },
   {
    "duration": 5,
    "start_time": "2022-07-24T06:36:17.884Z"
   },
   {
    "duration": 5,
    "start_time": "2022-07-24T06:36:27.835Z"
   },
   {
    "duration": 774,
    "start_time": "2022-07-24T06:36:58.277Z"
   },
   {
    "duration": 3,
    "start_time": "2022-07-24T06:37:52.291Z"
   },
   {
    "duration": 119,
    "start_time": "2022-07-24T06:37:52.308Z"
   },
   {
    "duration": 46,
    "start_time": "2022-07-24T06:37:52.429Z"
   },
   {
    "duration": 14,
    "start_time": "2022-07-24T06:37:52.477Z"
   },
   {
    "duration": 48,
    "start_time": "2022-07-24T06:37:52.494Z"
   },
   {
    "duration": 21,
    "start_time": "2022-07-24T06:37:52.544Z"
   },
   {
    "duration": 46,
    "start_time": "2022-07-24T06:37:52.566Z"
   },
   {
    "duration": 29,
    "start_time": "2022-07-24T06:37:52.614Z"
   },
   {
    "duration": 16,
    "start_time": "2022-07-24T06:37:52.646Z"
   },
   {
    "duration": 20,
    "start_time": "2022-07-24T06:37:52.664Z"
   },
   {
    "duration": 14,
    "start_time": "2022-07-24T06:37:52.686Z"
   },
   {
    "duration": 6,
    "start_time": "2022-07-24T06:37:52.702Z"
   },
   {
    "duration": 19,
    "start_time": "2022-07-24T06:37:52.710Z"
   },
   {
    "duration": 17,
    "start_time": "2022-07-24T06:37:52.732Z"
   },
   {
    "duration": 10,
    "start_time": "2022-07-24T06:37:52.751Z"
   },
   {
    "duration": 36,
    "start_time": "2022-07-24T06:37:52.763Z"
   },
   {
    "duration": 24,
    "start_time": "2022-07-24T06:37:52.801Z"
   },
   {
    "duration": 8,
    "start_time": "2022-07-24T06:37:52.828Z"
   },
   {
    "duration": 22,
    "start_time": "2022-07-24T06:37:52.838Z"
   },
   {
    "duration": 23,
    "start_time": "2022-07-24T06:37:52.865Z"
   },
   {
    "duration": 6,
    "start_time": "2022-07-24T06:37:52.891Z"
   },
   {
    "duration": 29,
    "start_time": "2022-07-24T06:37:52.899Z"
   },
   {
    "duration": 26,
    "start_time": "2022-07-24T06:37:52.930Z"
   },
   {
    "duration": 20,
    "start_time": "2022-07-24T06:37:52.957Z"
   },
   {
    "duration": 40,
    "start_time": "2022-07-24T06:37:52.979Z"
   },
   {
    "duration": 22,
    "start_time": "2022-07-24T06:37:53.023Z"
   },
   {
    "duration": 17,
    "start_time": "2022-07-24T06:37:53.047Z"
   },
   {
    "duration": 100,
    "start_time": "2022-07-24T06:37:53.066Z"
   },
   {
    "duration": 8,
    "start_time": "2022-07-24T06:37:53.168Z"
   },
   {
    "duration": 130,
    "start_time": "2022-07-24T06:37:53.178Z"
   },
   {
    "duration": 153,
    "start_time": "2022-07-24T06:37:53.312Z"
   },
   {
    "duration": 8,
    "start_time": "2022-07-24T06:37:53.467Z"
   },
   {
    "duration": 131,
    "start_time": "2022-07-24T06:37:53.477Z"
   },
   {
    "duration": 196,
    "start_time": "2022-07-24T06:37:53.610Z"
   },
   {
    "duration": 21,
    "start_time": "2022-07-24T06:37:53.808Z"
   },
   {
    "duration": 185,
    "start_time": "2022-07-24T06:37:53.832Z"
   },
   {
    "duration": 116,
    "start_time": "2022-07-24T06:37:54.019Z"
   },
   {
    "duration": 10,
    "start_time": "2022-07-24T06:37:54.138Z"
   },
   {
    "duration": 127,
    "start_time": "2022-07-24T06:37:54.150Z"
   },
   {
    "duration": 317,
    "start_time": "2022-07-24T06:37:54.279Z"
   },
   {
    "duration": 5,
    "start_time": "2022-07-24T06:37:54.598Z"
   },
   {
    "duration": 46,
    "start_time": "2022-07-24T06:37:54.605Z"
   },
   {
    "duration": 28,
    "start_time": "2022-07-24T06:37:54.652Z"
   },
   {
    "duration": 178,
    "start_time": "2022-07-24T06:37:54.682Z"
   },
   {
    "duration": 5,
    "start_time": "2022-07-24T06:37:54.862Z"
   },
   {
    "duration": 11,
    "start_time": "2022-07-24T06:37:54.868Z"
   },
   {
    "duration": 15,
    "start_time": "2022-07-24T06:37:54.880Z"
   },
   {
    "duration": 196,
    "start_time": "2022-07-24T06:37:54.897Z"
   },
   {
    "duration": 186,
    "start_time": "2022-07-24T06:37:55.096Z"
   },
   {
    "duration": 21,
    "start_time": "2022-07-24T06:37:55.284Z"
   },
   {
    "duration": 16,
    "start_time": "2022-07-24T06:37:55.307Z"
   },
   {
    "duration": 12,
    "start_time": "2022-07-24T06:37:55.325Z"
   },
   {
    "duration": 34,
    "start_time": "2022-07-24T06:37:55.339Z"
   },
   {
    "duration": 5,
    "start_time": "2022-07-24T06:38:02.008Z"
   },
   {
    "duration": 660,
    "start_time": "2022-07-24T06:39:25.416Z"
   },
   {
    "duration": 3,
    "start_time": "2022-07-24T06:41:59.427Z"
   },
   {
    "duration": 105,
    "start_time": "2022-07-24T06:41:59.432Z"
   },
   {
    "duration": 45,
    "start_time": "2022-07-24T06:41:59.539Z"
   },
   {
    "duration": 14,
    "start_time": "2022-07-24T06:41:59.587Z"
   },
   {
    "duration": 19,
    "start_time": "2022-07-24T06:41:59.603Z"
   },
   {
    "duration": 12,
    "start_time": "2022-07-24T06:41:59.624Z"
   },
   {
    "duration": 36,
    "start_time": "2022-07-24T06:41:59.638Z"
   },
   {
    "duration": 18,
    "start_time": "2022-07-24T06:41:59.676Z"
   },
   {
    "duration": 38,
    "start_time": "2022-07-24T06:41:59.697Z"
   },
   {
    "duration": 8,
    "start_time": "2022-07-24T06:41:59.737Z"
   },
   {
    "duration": 9,
    "start_time": "2022-07-24T06:41:59.746Z"
   },
   {
    "duration": 7,
    "start_time": "2022-07-24T06:41:59.757Z"
   },
   {
    "duration": 18,
    "start_time": "2022-07-24T06:41:59.765Z"
   },
   {
    "duration": 11,
    "start_time": "2022-07-24T06:41:59.785Z"
   },
   {
    "duration": 24,
    "start_time": "2022-07-24T06:41:59.798Z"
   },
   {
    "duration": 29,
    "start_time": "2022-07-24T06:41:59.824Z"
   },
   {
    "duration": 6,
    "start_time": "2022-07-24T06:41:59.855Z"
   },
   {
    "duration": 8,
    "start_time": "2022-07-24T06:41:59.862Z"
   },
   {
    "duration": 14,
    "start_time": "2022-07-24T06:41:59.871Z"
   },
   {
    "duration": 36,
    "start_time": "2022-07-24T06:41:59.887Z"
   },
   {
    "duration": 2,
    "start_time": "2022-07-24T06:41:59.926Z"
   },
   {
    "duration": 9,
    "start_time": "2022-07-24T06:41:59.930Z"
   },
   {
    "duration": 20,
    "start_time": "2022-07-24T06:41:59.980Z"
   },
   {
    "duration": 21,
    "start_time": "2022-07-24T06:42:00.002Z"
   },
   {
    "duration": 33,
    "start_time": "2022-07-24T06:42:00.025Z"
   },
   {
    "duration": 17,
    "start_time": "2022-07-24T06:42:00.060Z"
   },
   {
    "duration": 18,
    "start_time": "2022-07-24T06:42:00.078Z"
   },
   {
    "duration": 99,
    "start_time": "2022-07-24T06:42:00.098Z"
   },
   {
    "duration": 9,
    "start_time": "2022-07-24T06:42:00.198Z"
   },
   {
    "duration": 124,
    "start_time": "2022-07-24T06:42:00.208Z"
   },
   {
    "duration": 143,
    "start_time": "2022-07-24T06:42:00.333Z"
   },
   {
    "duration": 8,
    "start_time": "2022-07-24T06:42:00.478Z"
   },
   {
    "duration": 134,
    "start_time": "2022-07-24T06:42:00.488Z"
   },
   {
    "duration": 176,
    "start_time": "2022-07-24T06:42:00.624Z"
   },
   {
    "duration": 9,
    "start_time": "2022-07-24T06:42:00.802Z"
   },
   {
    "duration": 147,
    "start_time": "2022-07-24T06:42:00.823Z"
   },
   {
    "duration": 100,
    "start_time": "2022-07-24T06:42:00.972Z"
   },
   {
    "duration": 10,
    "start_time": "2022-07-24T06:42:01.074Z"
   },
   {
    "duration": 215,
    "start_time": "2022-07-24T06:42:01.085Z"
   },
   {
    "duration": 188,
    "start_time": "2022-07-24T06:42:01.302Z"
   },
   {
    "duration": 5,
    "start_time": "2022-07-24T06:42:01.491Z"
   },
   {
    "duration": 23,
    "start_time": "2022-07-24T06:42:01.498Z"
   },
   {
    "duration": 45,
    "start_time": "2022-07-24T06:42:01.522Z"
   },
   {
    "duration": 182,
    "start_time": "2022-07-24T06:42:01.569Z"
   },
   {
    "duration": 4,
    "start_time": "2022-07-24T06:42:01.753Z"
   },
   {
    "duration": 14,
    "start_time": "2022-07-24T06:42:01.759Z"
   },
   {
    "duration": 9,
    "start_time": "2022-07-24T06:42:01.774Z"
   },
   {
    "duration": 157,
    "start_time": "2022-07-24T06:42:01.784Z"
   },
   {
    "duration": 166,
    "start_time": "2022-07-24T06:42:01.942Z"
   },
   {
    "duration": 26,
    "start_time": "2022-07-24T06:42:02.112Z"
   },
   {
    "duration": 6,
    "start_time": "2022-07-24T06:42:02.142Z"
   },
   {
    "duration": 24,
    "start_time": "2022-07-24T06:42:09.639Z"
   },
   {
    "duration": 577,
    "start_time": "2022-07-24T06:42:15.431Z"
   },
   {
    "duration": 22,
    "start_time": "2022-07-24T06:43:39.455Z"
   },
   {
    "duration": 747,
    "start_time": "2022-07-24T06:43:42.156Z"
   },
   {
    "duration": 10,
    "start_time": "2022-07-24T06:44:24.582Z"
   },
   {
    "duration": 26,
    "start_time": "2022-07-24T06:44:26.989Z"
   },
   {
    "duration": 718,
    "start_time": "2022-07-24T06:44:32.028Z"
   },
   {
    "duration": 8,
    "start_time": "2022-07-24T06:46:04.757Z"
   },
   {
    "duration": 23,
    "start_time": "2022-07-24T06:46:05.807Z"
   },
   {
    "duration": 876,
    "start_time": "2022-07-24T06:46:09.702Z"
   },
   {
    "duration": 3,
    "start_time": "2022-07-24T06:49:23.357Z"
   },
   {
    "duration": 98,
    "start_time": "2022-07-24T06:49:23.362Z"
   },
   {
    "duration": 45,
    "start_time": "2022-07-24T06:49:23.462Z"
   },
   {
    "duration": 15,
    "start_time": "2022-07-24T06:49:23.508Z"
   },
   {
    "duration": 18,
    "start_time": "2022-07-24T06:49:23.525Z"
   },
   {
    "duration": 12,
    "start_time": "2022-07-24T06:49:23.544Z"
   },
   {
    "duration": 28,
    "start_time": "2022-07-24T06:49:23.557Z"
   },
   {
    "duration": 42,
    "start_time": "2022-07-24T06:49:23.587Z"
   },
   {
    "duration": 14,
    "start_time": "2022-07-24T06:49:23.631Z"
   },
   {
    "duration": 4,
    "start_time": "2022-07-24T06:49:23.647Z"
   },
   {
    "duration": 6,
    "start_time": "2022-07-24T06:49:23.653Z"
   },
   {
    "duration": 5,
    "start_time": "2022-07-24T06:49:23.661Z"
   },
   {
    "duration": 13,
    "start_time": "2022-07-24T06:49:23.667Z"
   },
   {
    "duration": 10,
    "start_time": "2022-07-24T06:49:23.681Z"
   },
   {
    "duration": 34,
    "start_time": "2022-07-24T06:49:23.693Z"
   },
   {
    "duration": 30,
    "start_time": "2022-07-24T06:49:23.729Z"
   },
   {
    "duration": 6,
    "start_time": "2022-07-24T06:49:23.761Z"
   },
   {
    "duration": 13,
    "start_time": "2022-07-24T06:49:23.768Z"
   },
   {
    "duration": 21,
    "start_time": "2022-07-24T06:49:23.783Z"
   },
   {
    "duration": 24,
    "start_time": "2022-07-24T06:49:23.806Z"
   },
   {
    "duration": 2,
    "start_time": "2022-07-24T06:49:23.833Z"
   },
   {
    "duration": 10,
    "start_time": "2022-07-24T06:49:23.837Z"
   },
   {
    "duration": 14,
    "start_time": "2022-07-24T06:49:23.849Z"
   },
   {
    "duration": 16,
    "start_time": "2022-07-24T06:49:23.865Z"
   },
   {
    "duration": 43,
    "start_time": "2022-07-24T06:49:23.883Z"
   },
   {
    "duration": 19,
    "start_time": "2022-07-24T06:49:23.927Z"
   },
   {
    "duration": 10,
    "start_time": "2022-07-24T06:49:23.949Z"
   },
   {
    "duration": 118,
    "start_time": "2022-07-24T06:49:23.960Z"
   },
   {
    "duration": 9,
    "start_time": "2022-07-24T06:49:24.081Z"
   },
   {
    "duration": 122,
    "start_time": "2022-07-24T06:49:24.092Z"
   },
   {
    "duration": 147,
    "start_time": "2022-07-24T06:49:24.216Z"
   },
   {
    "duration": 9,
    "start_time": "2022-07-24T06:49:24.366Z"
   },
   {
    "duration": 165,
    "start_time": "2022-07-24T06:49:24.376Z"
   },
   {
    "duration": 197,
    "start_time": "2022-07-24T06:49:24.544Z"
   },
   {
    "duration": 8,
    "start_time": "2022-07-24T06:49:24.743Z"
   },
   {
    "duration": 146,
    "start_time": "2022-07-24T06:49:24.753Z"
   },
   {
    "duration": 95,
    "start_time": "2022-07-24T06:49:24.901Z"
   },
   {
    "duration": 8,
    "start_time": "2022-07-24T06:49:24.998Z"
   },
   {
    "duration": 118,
    "start_time": "2022-07-24T06:49:25.008Z"
   },
   {
    "duration": 258,
    "start_time": "2022-07-24T06:49:25.128Z"
   },
   {
    "duration": 4,
    "start_time": "2022-07-24T06:49:25.388Z"
   },
   {
    "duration": 9,
    "start_time": "2022-07-24T06:49:25.393Z"
   },
   {
    "duration": 20,
    "start_time": "2022-07-24T06:49:25.404Z"
   },
   {
    "duration": 143,
    "start_time": "2022-07-24T06:49:25.426Z"
   },
   {
    "duration": 4,
    "start_time": "2022-07-24T06:49:25.571Z"
   },
   {
    "duration": 11,
    "start_time": "2022-07-24T06:49:25.577Z"
   },
   {
    "duration": 10,
    "start_time": "2022-07-24T06:49:25.590Z"
   },
   {
    "duration": 155,
    "start_time": "2022-07-24T06:49:25.601Z"
   },
   {
    "duration": 153,
    "start_time": "2022-07-24T06:49:25.759Z"
   },
   {
    "duration": 25,
    "start_time": "2022-07-24T06:49:25.913Z"
   },
   {
    "duration": 6,
    "start_time": "2022-07-24T06:49:25.940Z"
   },
   {
    "duration": 17,
    "start_time": "2022-07-24T06:49:25.947Z"
   },
   {
    "duration": 6,
    "start_time": "2022-07-24T06:49:25.965Z"
   },
   {
    "duration": 24,
    "start_time": "2022-07-24T06:49:33.908Z"
   },
   {
    "duration": 56,
    "start_time": "2022-07-24T06:50:20.178Z"
   },
   {
    "duration": 22,
    "start_time": "2022-07-24T06:50:30.822Z"
   },
   {
    "duration": 724,
    "start_time": "2022-07-24T06:54:05.036Z"
   },
   {
    "duration": 47,
    "start_time": "2022-07-24T06:54:31.629Z"
   },
   {
    "duration": 805,
    "start_time": "2022-07-24T06:54:39.831Z"
   },
   {
    "duration": 4,
    "start_time": "2022-07-24T07:02:56.037Z"
   },
   {
    "duration": 114,
    "start_time": "2022-07-24T07:02:56.043Z"
   },
   {
    "duration": 44,
    "start_time": "2022-07-24T07:02:56.160Z"
   },
   {
    "duration": 15,
    "start_time": "2022-07-24T07:02:56.206Z"
   },
   {
    "duration": 37,
    "start_time": "2022-07-24T07:02:56.224Z"
   },
   {
    "duration": 37,
    "start_time": "2022-07-24T07:02:56.264Z"
   },
   {
    "duration": 62,
    "start_time": "2022-07-24T07:02:56.304Z"
   },
   {
    "duration": 19,
    "start_time": "2022-07-24T07:02:56.368Z"
   },
   {
    "duration": 40,
    "start_time": "2022-07-24T07:02:56.389Z"
   },
   {
    "duration": 5,
    "start_time": "2022-07-24T07:02:56.431Z"
   },
   {
    "duration": 12,
    "start_time": "2022-07-24T07:02:56.438Z"
   },
   {
    "duration": 11,
    "start_time": "2022-07-24T07:02:56.452Z"
   },
   {
    "duration": 13,
    "start_time": "2022-07-24T07:02:56.465Z"
   },
   {
    "duration": 12,
    "start_time": "2022-07-24T07:02:56.481Z"
   },
   {
    "duration": 36,
    "start_time": "2022-07-24T07:02:56.495Z"
   },
   {
    "duration": 37,
    "start_time": "2022-07-24T07:02:56.533Z"
   },
   {
    "duration": 6,
    "start_time": "2022-07-24T07:02:56.572Z"
   },
   {
    "duration": 8,
    "start_time": "2022-07-24T07:02:56.580Z"
   },
   {
    "duration": 46,
    "start_time": "2022-07-24T07:02:56.590Z"
   },
   {
    "duration": 12,
    "start_time": "2022-07-24T07:02:56.638Z"
   },
   {
    "duration": 7,
    "start_time": "2022-07-24T07:02:56.651Z"
   },
   {
    "duration": 15,
    "start_time": "2022-07-24T07:02:56.660Z"
   },
   {
    "duration": 21,
    "start_time": "2022-07-24T07:02:56.677Z"
   },
   {
    "duration": 34,
    "start_time": "2022-07-24T07:02:56.700Z"
   },
   {
    "duration": 31,
    "start_time": "2022-07-24T07:02:56.737Z"
   },
   {
    "duration": 10,
    "start_time": "2022-07-24T07:02:56.770Z"
   },
   {
    "duration": 12,
    "start_time": "2022-07-24T07:02:56.782Z"
   },
   {
    "duration": 128,
    "start_time": "2022-07-24T07:02:56.796Z"
   },
   {
    "duration": 9,
    "start_time": "2022-07-24T07:02:56.929Z"
   },
   {
    "duration": 229,
    "start_time": "2022-07-24T07:02:56.940Z"
   },
   {
    "duration": 144,
    "start_time": "2022-07-24T07:02:57.171Z"
   },
   {
    "duration": 13,
    "start_time": "2022-07-24T07:02:57.317Z"
   },
   {
    "duration": 135,
    "start_time": "2022-07-24T07:02:57.332Z"
   },
   {
    "duration": 184,
    "start_time": "2022-07-24T07:02:57.469Z"
   },
   {
    "duration": 9,
    "start_time": "2022-07-24T07:02:57.654Z"
   },
   {
    "duration": 179,
    "start_time": "2022-07-24T07:02:57.665Z"
   },
   {
    "duration": 94,
    "start_time": "2022-07-24T07:02:57.845Z"
   },
   {
    "duration": 9,
    "start_time": "2022-07-24T07:02:57.941Z"
   },
   {
    "duration": 132,
    "start_time": "2022-07-24T07:02:57.952Z"
   },
   {
    "duration": 182,
    "start_time": "2022-07-24T07:02:58.086Z"
   },
   {
    "duration": 5,
    "start_time": "2022-07-24T07:02:58.269Z"
   },
   {
    "duration": 14,
    "start_time": "2022-07-24T07:02:58.276Z"
   },
   {
    "duration": 13,
    "start_time": "2022-07-24T07:02:58.292Z"
   },
   {
    "duration": 161,
    "start_time": "2022-07-24T07:02:58.307Z"
   },
   {
    "duration": 4,
    "start_time": "2022-07-24T07:02:58.470Z"
   },
   {
    "duration": 11,
    "start_time": "2022-07-24T07:02:58.475Z"
   },
   {
    "duration": 7,
    "start_time": "2022-07-24T07:02:58.488Z"
   },
   {
    "duration": 182,
    "start_time": "2022-07-24T07:02:58.497Z"
   },
   {
    "duration": 158,
    "start_time": "2022-07-24T07:02:58.681Z"
   },
   {
    "duration": 20,
    "start_time": "2022-07-24T07:02:58.841Z"
   },
   {
    "duration": 3,
    "start_time": "2022-07-24T07:02:58.862Z"
   },
   {
    "duration": 18,
    "start_time": "2022-07-24T07:02:58.867Z"
   },
   {
    "duration": 56,
    "start_time": "2022-07-24T07:02:58.887Z"
   },
   {
    "duration": 880,
    "start_time": "2022-07-24T07:02:58.946Z"
   },
   {
    "duration": 22,
    "start_time": "2022-07-24T07:02:59.828Z"
   },
   {
    "duration": 34,
    "start_time": "2022-07-24T07:02:59.852Z"
   },
   {
    "duration": 250,
    "start_time": "2022-07-24T07:02:59.890Z"
   },
   {
    "duration": 183,
    "start_time": "2022-07-24T07:03:00.142Z"
   },
   {
    "duration": 9,
    "start_time": "2022-07-24T07:03:00.327Z"
   },
   {
    "duration": 214,
    "start_time": "2022-07-24T07:03:00.339Z"
   },
   {
    "duration": 148,
    "start_time": "2022-07-24T07:03:00.556Z"
   },
   {
    "duration": 99,
    "start_time": "2022-07-24T07:03:00.707Z"
   },
   {
    "duration": 0,
    "start_time": "2022-07-24T07:03:00.809Z"
   },
   {
    "duration": 259,
    "start_time": "2022-07-24T07:03:19.183Z"
   },
   {
    "duration": 233,
    "start_time": "2022-07-24T07:03:39.347Z"
   },
   {
    "duration": 268,
    "start_time": "2022-07-24T07:03:43.416Z"
   },
   {
    "duration": 260,
    "start_time": "2022-07-24T07:04:22.196Z"
   },
   {
    "duration": 7,
    "start_time": "2022-07-24T07:07:11.761Z"
   },
   {
    "duration": 7,
    "start_time": "2022-07-24T07:07:57.537Z"
   },
   {
    "duration": 22,
    "start_time": "2022-07-24T07:13:51.441Z"
   },
   {
    "duration": 128,
    "start_time": "2022-07-24T07:14:01.850Z"
   },
   {
    "duration": 7,
    "start_time": "2022-07-24T07:14:14.415Z"
   },
   {
    "duration": 34,
    "start_time": "2022-07-24T07:18:10.978Z"
   },
   {
    "duration": 5,
    "start_time": "2022-07-24T07:18:42.387Z"
   },
   {
    "duration": 43,
    "start_time": "2022-07-24T07:18:52.938Z"
   },
   {
    "duration": 7,
    "start_time": "2022-07-24T07:20:08.914Z"
   },
   {
    "duration": 143,
    "start_time": "2022-07-24T07:20:46.682Z"
   },
   {
    "duration": 245,
    "start_time": "2022-07-24T07:31:35.843Z"
   },
   {
    "duration": 139,
    "start_time": "2022-07-24T07:31:52.326Z"
   },
   {
    "duration": 5,
    "start_time": "2022-07-24T07:40:13.671Z"
   },
   {
    "duration": 28,
    "start_time": "2022-07-24T07:40:37.077Z"
   },
   {
    "duration": 5,
    "start_time": "2022-07-24T07:41:17.118Z"
   },
   {
    "duration": 62,
    "start_time": "2022-07-24T07:42:23.214Z"
   },
   {
    "duration": 272,
    "start_time": "2022-07-24T07:43:43.998Z"
   },
   {
    "duration": 334,
    "start_time": "2022-07-24T07:43:55.977Z"
   },
   {
    "duration": 16,
    "start_time": "2022-07-24T07:46:29.841Z"
   },
   {
    "duration": 14,
    "start_time": "2022-07-24T07:47:06.197Z"
   },
   {
    "duration": 21,
    "start_time": "2022-07-24T07:50:13.158Z"
   },
   {
    "duration": 20,
    "start_time": "2022-07-24T07:50:39.899Z"
   },
   {
    "duration": 14,
    "start_time": "2022-07-24T07:52:33.961Z"
   },
   {
    "duration": 20,
    "start_time": "2022-07-24T07:52:43.717Z"
   },
   {
    "duration": 21,
    "start_time": "2022-07-24T08:08:57.540Z"
   },
   {
    "duration": 79,
    "start_time": "2022-07-24T08:09:59.972Z"
   },
   {
    "duration": 252,
    "start_time": "2022-07-24T08:10:11.072Z"
   },
   {
    "duration": 250,
    "start_time": "2022-07-24T08:11:29.361Z"
   },
   {
    "duration": 26,
    "start_time": "2022-07-24T08:11:58.940Z"
   },
   {
    "duration": 15,
    "start_time": "2022-07-24T08:13:09.873Z"
   },
   {
    "duration": 23,
    "start_time": "2022-07-24T08:14:26.020Z"
   },
   {
    "duration": 18,
    "start_time": "2022-07-24T08:18:58.262Z"
   },
   {
    "duration": 36,
    "start_time": "2022-07-24T08:19:06.519Z"
   },
   {
    "duration": 28,
    "start_time": "2022-07-24T08:20:08.449Z"
   },
   {
    "duration": 10,
    "start_time": "2022-07-24T08:20:40.796Z"
   },
   {
    "duration": 417,
    "start_time": "2022-07-24T08:20:48.336Z"
   },
   {
    "duration": 28,
    "start_time": "2022-07-24T08:20:57.539Z"
   },
   {
    "duration": 5,
    "start_time": "2022-07-24T08:24:45.439Z"
   },
   {
    "duration": 31,
    "start_time": "2022-07-24T08:34:09.999Z"
   },
   {
    "duration": 129,
    "start_time": "2022-07-24T08:38:03.759Z"
   },
   {
    "duration": 26,
    "start_time": "2022-07-24T08:38:22.167Z"
   },
   {
    "duration": 17,
    "start_time": "2022-07-24T08:42:33.671Z"
   },
   {
    "duration": 24,
    "start_time": "2022-07-24T08:42:44.494Z"
   },
   {
    "duration": 19,
    "start_time": "2022-07-24T08:43:03.884Z"
   },
   {
    "duration": 167,
    "start_time": "2022-07-24T08:52:30.469Z"
   },
   {
    "duration": 94,
    "start_time": "2022-07-24T08:52:43.988Z"
   },
   {
    "duration": 44,
    "start_time": "2022-07-24T08:54:32.740Z"
   },
   {
    "duration": 51,
    "start_time": "2022-07-24T08:54:38.656Z"
   },
   {
    "duration": 36,
    "start_time": "2022-07-24T08:54:51.773Z"
   },
   {
    "duration": 32,
    "start_time": "2022-07-24T08:54:58.565Z"
   },
   {
    "duration": 17,
    "start_time": "2022-07-24T08:57:51.923Z"
   },
   {
    "duration": 46,
    "start_time": "2022-07-24T08:58:03.083Z"
   },
   {
    "duration": 10,
    "start_time": "2022-07-24T08:59:00.253Z"
   },
   {
    "duration": 92,
    "start_time": "2022-07-24T08:59:16.422Z"
   },
   {
    "duration": 46,
    "start_time": "2022-07-24T09:03:17.502Z"
   },
   {
    "duration": 14,
    "start_time": "2022-07-24T09:05:50.563Z"
   },
   {
    "duration": 911,
    "start_time": "2022-07-24T09:06:45.366Z"
   },
   {
    "duration": 176,
    "start_time": "2022-07-24T09:07:03.232Z"
   },
   {
    "duration": 161,
    "start_time": "2022-07-24T09:07:35.021Z"
   },
   {
    "duration": 162,
    "start_time": "2022-07-24T09:08:57.491Z"
   },
   {
    "duration": 268,
    "start_time": "2022-07-24T09:09:12.281Z"
   },
   {
    "duration": 14,
    "start_time": "2022-07-24T09:09:56.343Z"
   },
   {
    "duration": 15,
    "start_time": "2022-07-24T10:28:47.035Z"
   },
   {
    "duration": 79,
    "start_time": "2022-07-24T10:29:37.238Z"
   },
   {
    "duration": 17,
    "start_time": "2022-07-24T10:29:44.932Z"
   },
   {
    "duration": 17,
    "start_time": "2022-07-24T10:31:31.278Z"
   },
   {
    "duration": 52,
    "start_time": "2022-07-24T10:31:50.544Z"
   },
   {
    "duration": 23,
    "start_time": "2022-07-24T10:32:07.445Z"
   },
   {
    "duration": 31,
    "start_time": "2022-07-24T10:34:09.018Z"
   },
   {
    "duration": 23,
    "start_time": "2022-07-24T10:34:25.756Z"
   },
   {
    "duration": 21,
    "start_time": "2022-07-24T10:34:50.390Z"
   },
   {
    "duration": 13,
    "start_time": "2022-07-24T10:39:09.816Z"
   },
   {
    "duration": 29,
    "start_time": "2022-07-24T10:40:59.541Z"
   },
   {
    "duration": 24,
    "start_time": "2022-07-24T10:49:36.976Z"
   },
   {
    "duration": 3,
    "start_time": "2022-07-24T10:49:52.107Z"
   },
   {
    "duration": 178,
    "start_time": "2022-07-24T10:49:52.134Z"
   },
   {
    "duration": 47,
    "start_time": "2022-07-24T10:49:52.314Z"
   },
   {
    "duration": 16,
    "start_time": "2022-07-24T10:49:52.363Z"
   },
   {
    "duration": 20,
    "start_time": "2022-07-24T10:49:52.381Z"
   },
   {
    "duration": 40,
    "start_time": "2022-07-24T10:49:52.403Z"
   },
   {
    "duration": 29,
    "start_time": "2022-07-24T10:49:52.445Z"
   },
   {
    "duration": 16,
    "start_time": "2022-07-24T10:49:52.476Z"
   },
   {
    "duration": 32,
    "start_time": "2022-07-24T10:49:52.494Z"
   },
   {
    "duration": 11,
    "start_time": "2022-07-24T10:49:52.529Z"
   },
   {
    "duration": 18,
    "start_time": "2022-07-24T10:49:52.542Z"
   },
   {
    "duration": 15,
    "start_time": "2022-07-24T10:49:52.561Z"
   },
   {
    "duration": 24,
    "start_time": "2022-07-24T10:49:52.578Z"
   },
   {
    "duration": 28,
    "start_time": "2022-07-24T10:49:52.604Z"
   },
   {
    "duration": 33,
    "start_time": "2022-07-24T10:49:52.634Z"
   },
   {
    "duration": 35,
    "start_time": "2022-07-24T10:49:52.670Z"
   },
   {
    "duration": 6,
    "start_time": "2022-07-24T10:49:52.707Z"
   },
   {
    "duration": 23,
    "start_time": "2022-07-24T10:49:52.715Z"
   },
   {
    "duration": 26,
    "start_time": "2022-07-24T10:49:52.739Z"
   },
   {
    "duration": 49,
    "start_time": "2022-07-24T10:49:52.767Z"
   },
   {
    "duration": 2,
    "start_time": "2022-07-24T10:49:52.818Z"
   },
   {
    "duration": 30,
    "start_time": "2022-07-24T10:49:52.822Z"
   },
   {
    "duration": 30,
    "start_time": "2022-07-24T10:49:52.854Z"
   },
   {
    "duration": 82,
    "start_time": "2022-07-24T10:49:52.886Z"
   },
   {
    "duration": 33,
    "start_time": "2022-07-24T10:49:52.972Z"
   },
   {
    "duration": 9,
    "start_time": "2022-07-24T10:49:53.007Z"
   },
   {
    "duration": 24,
    "start_time": "2022-07-24T10:49:53.018Z"
   },
   {
    "duration": 102,
    "start_time": "2022-07-24T10:49:53.044Z"
   },
   {
    "duration": 8,
    "start_time": "2022-07-24T10:49:53.148Z"
   },
   {
    "duration": 135,
    "start_time": "2022-07-24T10:49:53.158Z"
   },
   {
    "duration": 161,
    "start_time": "2022-07-24T10:49:53.295Z"
   },
   {
    "duration": 8,
    "start_time": "2022-07-24T10:49:53.457Z"
   },
   {
    "duration": 133,
    "start_time": "2022-07-24T10:49:53.467Z"
   },
   {
    "duration": 191,
    "start_time": "2022-07-24T10:49:53.602Z"
   },
   {
    "duration": 9,
    "start_time": "2022-07-24T10:49:53.796Z"
   },
   {
    "duration": 193,
    "start_time": "2022-07-24T10:49:53.807Z"
   },
   {
    "duration": 111,
    "start_time": "2022-07-24T10:49:54.002Z"
   },
   {
    "duration": 16,
    "start_time": "2022-07-24T10:49:54.115Z"
   },
   {
    "duration": 151,
    "start_time": "2022-07-24T10:49:54.133Z"
   },
   {
    "duration": 207,
    "start_time": "2022-07-24T10:49:54.286Z"
   },
   {
    "duration": 4,
    "start_time": "2022-07-24T10:49:54.496Z"
   },
   {
    "duration": 47,
    "start_time": "2022-07-24T10:49:54.502Z"
   },
   {
    "duration": 69,
    "start_time": "2022-07-24T10:49:54.551Z"
   },
   {
    "duration": 208,
    "start_time": "2022-07-24T10:49:54.625Z"
   },
   {
    "duration": 6,
    "start_time": "2022-07-24T10:49:54.836Z"
   },
   {
    "duration": 17,
    "start_time": "2022-07-24T10:49:54.844Z"
   },
   {
    "duration": 16,
    "start_time": "2022-07-24T10:49:54.863Z"
   },
   {
    "duration": 285,
    "start_time": "2022-07-24T10:49:54.881Z"
   },
   {
    "duration": 192,
    "start_time": "2022-07-24T10:49:55.168Z"
   },
   {
    "duration": 21,
    "start_time": "2022-07-24T10:49:55.361Z"
   },
   {
    "duration": 9,
    "start_time": "2022-07-24T10:49:55.384Z"
   },
   {
    "duration": 49,
    "start_time": "2022-07-24T10:49:55.394Z"
   },
   {
    "duration": 803,
    "start_time": "2022-07-24T10:49:55.445Z"
   },
   {
    "duration": 20,
    "start_time": "2022-07-24T10:49:56.250Z"
   },
   {
    "duration": 33,
    "start_time": "2022-07-24T10:49:56.271Z"
   },
   {
    "duration": 199,
    "start_time": "2022-07-24T10:49:56.323Z"
   },
   {
    "duration": 135,
    "start_time": "2022-07-24T10:49:56.524Z"
   },
   {
    "duration": 7,
    "start_time": "2022-07-24T10:49:56.661Z"
   },
   {
    "duration": 180,
    "start_time": "2022-07-24T10:49:56.670Z"
   },
   {
    "duration": 149,
    "start_time": "2022-07-24T10:49:56.852Z"
   },
   {
    "duration": 265,
    "start_time": "2022-07-24T10:49:57.002Z"
   },
   {
    "duration": 255,
    "start_time": "2022-07-24T10:49:57.268Z"
   },
   {
    "duration": 9,
    "start_time": "2022-07-24T10:49:57.525Z"
   },
   {
    "duration": 167,
    "start_time": "2022-07-24T10:49:57.536Z"
   },
   {
    "duration": 159,
    "start_time": "2022-07-24T10:49:57.705Z"
   },
   {
    "duration": 22,
    "start_time": "2022-07-24T10:49:57.866Z"
   },
   {
    "duration": 604,
    "start_time": "2022-07-24T10:50:47.356Z"
   },
   {
    "duration": 23,
    "start_time": "2022-07-24T10:50:52.768Z"
   },
   {
    "duration": 43,
    "start_time": "2022-07-24T10:51:00.741Z"
   },
   {
    "duration": 26,
    "start_time": "2022-07-24T10:51:12.357Z"
   },
   {
    "duration": 121,
    "start_time": "2022-07-24T10:53:22.117Z"
   },
   {
    "duration": 66,
    "start_time": "2022-07-24T10:53:59.617Z"
   },
   {
    "duration": 12,
    "start_time": "2022-07-24T10:54:08.317Z"
   },
   {
    "duration": 37,
    "start_time": "2022-07-24T10:54:42.996Z"
   },
   {
    "duration": 25,
    "start_time": "2022-07-24T10:54:58.941Z"
   },
   {
    "duration": 10,
    "start_time": "2022-07-24T10:56:48.585Z"
   },
   {
    "duration": 3,
    "start_time": "2022-07-24T11:05:50.636Z"
   },
   {
    "duration": 106,
    "start_time": "2022-07-24T11:05:50.747Z"
   },
   {
    "duration": 44,
    "start_time": "2022-07-24T11:05:50.855Z"
   },
   {
    "duration": 13,
    "start_time": "2022-07-24T11:05:50.901Z"
   },
   {
    "duration": 25,
    "start_time": "2022-07-24T11:05:50.916Z"
   },
   {
    "duration": 12,
    "start_time": "2022-07-24T11:05:50.943Z"
   },
   {
    "duration": 33,
    "start_time": "2022-07-24T11:05:50.957Z"
   },
   {
    "duration": 33,
    "start_time": "2022-07-24T11:05:50.992Z"
   },
   {
    "duration": 28,
    "start_time": "2022-07-24T11:05:51.027Z"
   },
   {
    "duration": 4,
    "start_time": "2022-07-24T11:05:51.057Z"
   },
   {
    "duration": 10,
    "start_time": "2022-07-24T11:05:51.063Z"
   },
   {
    "duration": 9,
    "start_time": "2022-07-24T11:05:51.075Z"
   },
   {
    "duration": 14,
    "start_time": "2022-07-24T11:05:51.085Z"
   },
   {
    "duration": 28,
    "start_time": "2022-07-24T11:05:51.101Z"
   },
   {
    "duration": 11,
    "start_time": "2022-07-24T11:05:51.134Z"
   },
   {
    "duration": 44,
    "start_time": "2022-07-24T11:05:51.147Z"
   },
   {
    "duration": 6,
    "start_time": "2022-07-24T11:05:51.193Z"
   },
   {
    "duration": 8,
    "start_time": "2022-07-24T11:05:51.200Z"
   },
   {
    "duration": 30,
    "start_time": "2022-07-24T11:05:51.210Z"
   },
   {
    "duration": 16,
    "start_time": "2022-07-24T11:05:51.242Z"
   },
   {
    "duration": 2,
    "start_time": "2022-07-24T11:05:51.260Z"
   },
   {
    "duration": 10,
    "start_time": "2022-07-24T11:05:51.264Z"
   },
   {
    "duration": 16,
    "start_time": "2022-07-24T11:05:51.276Z"
   },
   {
    "duration": 53,
    "start_time": "2022-07-24T11:05:51.294Z"
   },
   {
    "duration": 20,
    "start_time": "2022-07-24T11:05:51.349Z"
   },
   {
    "duration": 10,
    "start_time": "2022-07-24T11:05:51.370Z"
   },
   {
    "duration": 11,
    "start_time": "2022-07-24T11:05:51.382Z"
   },
   {
    "duration": 131,
    "start_time": "2022-07-24T11:05:51.395Z"
   },
   {
    "duration": 11,
    "start_time": "2022-07-24T11:05:51.529Z"
   },
   {
    "duration": 139,
    "start_time": "2022-07-24T11:05:51.543Z"
   },
   {
    "duration": 162,
    "start_time": "2022-07-24T11:05:51.684Z"
   },
   {
    "duration": 10,
    "start_time": "2022-07-24T11:05:51.847Z"
   },
   {
    "duration": 140,
    "start_time": "2022-07-24T11:05:51.859Z"
   },
   {
    "duration": 195,
    "start_time": "2022-07-24T11:05:52.001Z"
   },
   {
    "duration": 8,
    "start_time": "2022-07-24T11:05:52.198Z"
   },
   {
    "duration": 167,
    "start_time": "2022-07-24T11:05:52.207Z"
   },
   {
    "duration": 92,
    "start_time": "2022-07-24T11:05:52.376Z"
   },
   {
    "duration": 8,
    "start_time": "2022-07-24T11:05:52.470Z"
   },
   {
    "duration": 125,
    "start_time": "2022-07-24T11:05:52.479Z"
   },
   {
    "duration": 208,
    "start_time": "2022-07-24T11:05:52.606Z"
   },
   {
    "duration": 7,
    "start_time": "2022-07-24T11:05:52.816Z"
   },
   {
    "duration": 16,
    "start_time": "2022-07-24T11:05:52.825Z"
   },
   {
    "duration": 18,
    "start_time": "2022-07-24T11:05:52.843Z"
   },
   {
    "duration": 283,
    "start_time": "2022-07-24T11:05:52.863Z"
   },
   {
    "duration": 5,
    "start_time": "2022-07-24T11:05:53.148Z"
   },
   {
    "duration": 13,
    "start_time": "2022-07-24T11:05:53.154Z"
   },
   {
    "duration": 7,
    "start_time": "2022-07-24T11:05:53.168Z"
   },
   {
    "duration": 201,
    "start_time": "2022-07-24T11:05:53.176Z"
   },
   {
    "duration": 170,
    "start_time": "2022-07-24T11:05:53.381Z"
   },
   {
    "duration": 20,
    "start_time": "2022-07-24T11:05:53.553Z"
   },
   {
    "duration": 7,
    "start_time": "2022-07-24T11:05:53.575Z"
   },
   {
    "duration": 54,
    "start_time": "2022-07-24T11:05:53.583Z"
   },
   {
    "duration": 837,
    "start_time": "2022-07-24T11:05:53.639Z"
   },
   {
    "duration": 25,
    "start_time": "2022-07-24T11:05:54.478Z"
   },
   {
    "duration": 63,
    "start_time": "2022-07-24T11:05:54.505Z"
   },
   {
    "duration": 255,
    "start_time": "2022-07-24T11:05:54.571Z"
   },
   {
    "duration": 145,
    "start_time": "2022-07-24T11:05:54.829Z"
   },
   {
    "duration": 7,
    "start_time": "2022-07-24T11:05:54.976Z"
   },
   {
    "duration": 176,
    "start_time": "2022-07-24T11:05:54.984Z"
   },
   {
    "duration": 149,
    "start_time": "2022-07-24T11:05:55.162Z"
   },
   {
    "duration": 262,
    "start_time": "2022-07-24T11:05:55.322Z"
   },
   {
    "duration": 376,
    "start_time": "2022-07-24T11:05:55.586Z"
   },
   {
    "duration": 8,
    "start_time": "2022-07-24T11:05:55.964Z"
   },
   {
    "duration": 12,
    "start_time": "2022-07-24T11:06:05.922Z"
   },
   {
    "duration": 193,
    "start_time": "2022-07-24T11:06:08.606Z"
   },
   {
    "duration": 152,
    "start_time": "2022-07-24T11:07:00.693Z"
   },
   {
    "duration": 79,
    "start_time": "2022-07-24T11:07:11.313Z"
   },
   {
    "duration": 157,
    "start_time": "2022-07-24T11:07:15.174Z"
   },
   {
    "duration": 183,
    "start_time": "2022-07-24T11:10:55.873Z"
   },
   {
    "duration": 179,
    "start_time": "2022-07-24T11:11:19.754Z"
   },
   {
    "duration": 166,
    "start_time": "2022-07-24T11:11:41.935Z"
   },
   {
    "duration": 154,
    "start_time": "2022-07-24T11:12:02.939Z"
   },
   {
    "duration": 212,
    "start_time": "2022-07-24T11:12:14.540Z"
   },
   {
    "duration": 160,
    "start_time": "2022-07-24T11:12:24.052Z"
   },
   {
    "duration": 175,
    "start_time": "2022-07-24T11:12:32.202Z"
   },
   {
    "duration": 45,
    "start_time": "2022-07-24T11:18:48.767Z"
   },
   {
    "duration": 9,
    "start_time": "2022-07-24T11:19:02.398Z"
   },
   {
    "duration": 7,
    "start_time": "2022-07-24T11:19:06.970Z"
   },
   {
    "duration": 32,
    "start_time": "2022-07-24T11:21:03.499Z"
   },
   {
    "duration": 16,
    "start_time": "2022-07-24T11:23:33.869Z"
   },
   {
    "duration": 4,
    "start_time": "2022-07-24T11:23:43.417Z"
   },
   {
    "duration": 10,
    "start_time": "2022-07-24T11:23:45.270Z"
   },
   {
    "duration": 14,
    "start_time": "2022-07-24T11:23:52.358Z"
   },
   {
    "duration": 4,
    "start_time": "2022-07-24T11:26:15.552Z"
   },
   {
    "duration": 145,
    "start_time": "2022-07-24T11:26:15.558Z"
   },
   {
    "duration": 141,
    "start_time": "2022-07-24T11:26:15.705Z"
   },
   {
    "duration": 21,
    "start_time": "2022-07-24T11:26:15.915Z"
   },
   {
    "duration": 45,
    "start_time": "2022-07-24T11:26:15.939Z"
   },
   {
    "duration": 12,
    "start_time": "2022-07-24T11:26:15.987Z"
   },
   {
    "duration": 90,
    "start_time": "2022-07-24T11:26:16.002Z"
   },
   {
    "duration": 27,
    "start_time": "2022-07-24T11:26:16.095Z"
   },
   {
    "duration": 25,
    "start_time": "2022-07-24T11:26:16.125Z"
   },
   {
    "duration": 7,
    "start_time": "2022-07-24T11:26:16.152Z"
   },
   {
    "duration": 44,
    "start_time": "2022-07-24T11:26:16.162Z"
   },
   {
    "duration": 27,
    "start_time": "2022-07-24T11:26:16.209Z"
   },
   {
    "duration": 70,
    "start_time": "2022-07-24T11:26:16.239Z"
   },
   {
    "duration": 42,
    "start_time": "2022-07-24T11:26:16.311Z"
   },
   {
    "duration": 29,
    "start_time": "2022-07-24T11:26:16.356Z"
   },
   {
    "duration": 44,
    "start_time": "2022-07-24T11:26:16.387Z"
   },
   {
    "duration": 8,
    "start_time": "2022-07-24T11:26:16.435Z"
   },
   {
    "duration": 28,
    "start_time": "2022-07-24T11:26:16.445Z"
   },
   {
    "duration": 45,
    "start_time": "2022-07-24T11:26:16.475Z"
   },
   {
    "duration": 26,
    "start_time": "2022-07-24T11:26:16.522Z"
   },
   {
    "duration": 4,
    "start_time": "2022-07-24T11:26:16.551Z"
   },
   {
    "duration": 48,
    "start_time": "2022-07-24T11:26:16.557Z"
   },
   {
    "duration": 26,
    "start_time": "2022-07-24T11:26:16.608Z"
   },
   {
    "duration": 34,
    "start_time": "2022-07-24T11:26:16.638Z"
   },
   {
    "duration": 54,
    "start_time": "2022-07-24T11:26:16.674Z"
   },
   {
    "duration": 34,
    "start_time": "2022-07-24T11:26:16.730Z"
   },
   {
    "duration": 24,
    "start_time": "2022-07-24T11:26:16.766Z"
   },
   {
    "duration": 163,
    "start_time": "2022-07-24T11:26:16.792Z"
   },
   {
    "duration": 13,
    "start_time": "2022-07-24T11:26:16.957Z"
   },
   {
    "duration": 183,
    "start_time": "2022-07-24T11:26:16.973Z"
   },
   {
    "duration": 162,
    "start_time": "2022-07-24T11:26:17.158Z"
   },
   {
    "duration": 12,
    "start_time": "2022-07-24T11:26:17.322Z"
   },
   {
    "duration": 137,
    "start_time": "2022-07-24T11:26:17.336Z"
   },
   {
    "duration": 219,
    "start_time": "2022-07-24T11:26:17.476Z"
   },
   {
    "duration": 11,
    "start_time": "2022-07-24T11:26:17.697Z"
   },
   {
    "duration": 231,
    "start_time": "2022-07-24T11:26:17.710Z"
   },
   {
    "duration": 117,
    "start_time": "2022-07-24T11:26:17.943Z"
   },
   {
    "duration": 11,
    "start_time": "2022-07-24T11:26:18.062Z"
   },
   {
    "duration": 179,
    "start_time": "2022-07-24T11:26:18.075Z"
   },
   {
    "duration": 208,
    "start_time": "2022-07-24T11:26:18.256Z"
   },
   {
    "duration": 5,
    "start_time": "2022-07-24T11:26:18.467Z"
   },
   {
    "duration": 8,
    "start_time": "2022-07-24T11:26:18.474Z"
   },
   {
    "duration": 19,
    "start_time": "2022-07-24T11:26:18.485Z"
   },
   {
    "duration": 165,
    "start_time": "2022-07-24T11:26:18.525Z"
   },
   {
    "duration": 4,
    "start_time": "2022-07-24T11:26:18.692Z"
   },
   {
    "duration": 12,
    "start_time": "2022-07-24T11:26:18.698Z"
   },
   {
    "duration": 17,
    "start_time": "2022-07-24T11:26:18.712Z"
   },
   {
    "duration": 184,
    "start_time": "2022-07-24T11:26:18.731Z"
   },
   {
    "duration": 292,
    "start_time": "2022-07-24T11:26:18.917Z"
   },
   {
    "duration": 34,
    "start_time": "2022-07-24T11:26:19.211Z"
   },
   {
    "duration": 14,
    "start_time": "2022-07-24T11:26:19.247Z"
   },
   {
    "duration": 39,
    "start_time": "2022-07-24T11:26:19.263Z"
   },
   {
    "duration": 937,
    "start_time": "2022-07-24T11:26:19.322Z"
   },
   {
    "duration": 32,
    "start_time": "2022-07-24T11:26:20.261Z"
   },
   {
    "duration": 72,
    "start_time": "2022-07-24T11:26:20.295Z"
   },
   {
    "duration": 221,
    "start_time": "2022-07-24T11:26:20.370Z"
   },
   {
    "duration": 139,
    "start_time": "2022-07-24T11:26:20.594Z"
   },
   {
    "duration": 8,
    "start_time": "2022-07-24T11:26:20.735Z"
   },
   {
    "duration": 192,
    "start_time": "2022-07-24T11:26:20.745Z"
   },
   {
    "duration": 150,
    "start_time": "2022-07-24T11:26:20.938Z"
   },
   {
    "duration": 283,
    "start_time": "2022-07-24T11:26:21.090Z"
   },
   {
    "duration": 7,
    "start_time": "2022-07-24T11:26:21.375Z"
   },
   {
    "duration": 12,
    "start_time": "2022-07-24T11:26:21.384Z"
   },
   {
    "duration": 229,
    "start_time": "2022-07-24T11:26:21.397Z"
   },
   {
    "duration": 5,
    "start_time": "2022-07-24T11:26:21.628Z"
   },
   {
    "duration": 21,
    "start_time": "2022-07-24T11:26:21.635Z"
   },
   {
    "duration": 23,
    "start_time": "2022-07-24T11:26:21.659Z"
   },
   {
    "duration": 45,
    "start_time": "2022-07-24T11:26:21.684Z"
   },
   {
    "duration": 181,
    "start_time": "2022-07-24T11:26:21.732Z"
   },
   {
    "duration": 32,
    "start_time": "2022-07-24T11:26:21.915Z"
   },
   {
    "duration": 11,
    "start_time": "2022-07-24T11:26:21.949Z"
   },
   {
    "duration": 354,
    "start_time": "2022-07-24T11:33:23.344Z"
   },
   {
    "duration": 287,
    "start_time": "2022-07-24T11:37:29.833Z"
   },
   {
    "duration": 187,
    "start_time": "2022-07-24T11:58:27.652Z"
   },
   {
    "duration": 15,
    "start_time": "2022-07-24T11:58:51.764Z"
   },
   {
    "duration": 15,
    "start_time": "2022-07-24T11:59:11.748Z"
   },
   {
    "duration": 17,
    "start_time": "2022-07-24T11:59:32.989Z"
   },
   {
    "duration": 16,
    "start_time": "2022-07-24T12:00:10.828Z"
   },
   {
    "duration": 19,
    "start_time": "2022-07-24T12:00:16.648Z"
   },
   {
    "duration": 33,
    "start_time": "2022-07-24T12:01:12.047Z"
   },
   {
    "duration": 22,
    "start_time": "2022-07-24T12:01:26.607Z"
   },
   {
    "duration": 15,
    "start_time": "2022-07-24T12:01:35.715Z"
   },
   {
    "duration": 25,
    "start_time": "2022-07-24T12:01:57.948Z"
   },
   {
    "duration": 15,
    "start_time": "2022-07-24T12:02:23.231Z"
   },
   {
    "duration": 18,
    "start_time": "2022-07-24T12:02:33.789Z"
   },
   {
    "duration": 20,
    "start_time": "2022-07-24T12:02:42.067Z"
   },
   {
    "duration": 14,
    "start_time": "2022-07-24T12:03:08.155Z"
   },
   {
    "duration": 15,
    "start_time": "2022-07-24T12:03:32.955Z"
   },
   {
    "duration": 13,
    "start_time": "2022-07-24T12:03:44.235Z"
   },
   {
    "duration": 14,
    "start_time": "2022-07-24T12:04:02.547Z"
   },
   {
    "duration": 112,
    "start_time": "2022-07-24T12:05:00.655Z"
   },
   {
    "duration": 51,
    "start_time": "2022-07-24T12:10:53.224Z"
   },
   {
    "duration": 19,
    "start_time": "2022-07-24T12:11:01.656Z"
   },
   {
    "duration": 50,
    "start_time": "2022-07-24T12:19:05.862Z"
   },
   {
    "duration": 4,
    "start_time": "2022-07-24T12:21:09.464Z"
   },
   {
    "duration": 137,
    "start_time": "2022-07-24T12:21:09.487Z"
   },
   {
    "duration": 51,
    "start_time": "2022-07-24T12:21:09.628Z"
   },
   {
    "duration": 21,
    "start_time": "2022-07-24T12:21:09.681Z"
   },
   {
    "duration": 26,
    "start_time": "2022-07-24T12:21:09.705Z"
   },
   {
    "duration": 14,
    "start_time": "2022-07-24T12:21:09.734Z"
   },
   {
    "duration": 49,
    "start_time": "2022-07-24T12:21:09.751Z"
   },
   {
    "duration": 44,
    "start_time": "2022-07-24T12:21:09.802Z"
   },
   {
    "duration": 23,
    "start_time": "2022-07-24T12:21:09.848Z"
   },
   {
    "duration": 7,
    "start_time": "2022-07-24T12:21:09.873Z"
   },
   {
    "duration": 45,
    "start_time": "2022-07-24T12:21:09.882Z"
   },
   {
    "duration": 11,
    "start_time": "2022-07-24T12:21:09.929Z"
   },
   {
    "duration": 18,
    "start_time": "2022-07-24T12:21:09.942Z"
   },
   {
    "duration": 19,
    "start_time": "2022-07-24T12:21:09.963Z"
   },
   {
    "duration": 42,
    "start_time": "2022-07-24T12:21:09.986Z"
   },
   {
    "duration": 40,
    "start_time": "2022-07-24T12:21:10.031Z"
   },
   {
    "duration": 8,
    "start_time": "2022-07-24T12:21:10.074Z"
   },
   {
    "duration": 14,
    "start_time": "2022-07-24T12:21:10.084Z"
   },
   {
    "duration": 47,
    "start_time": "2022-07-24T12:21:10.100Z"
   },
   {
    "duration": 19,
    "start_time": "2022-07-24T12:21:10.150Z"
   },
   {
    "duration": 2,
    "start_time": "2022-07-24T12:21:10.172Z"
   },
   {
    "duration": 25,
    "start_time": "2022-07-24T12:21:10.177Z"
   },
   {
    "duration": 24,
    "start_time": "2022-07-24T12:21:10.224Z"
   },
   {
    "duration": 20,
    "start_time": "2022-07-24T12:21:10.251Z"
   },
   {
    "duration": 53,
    "start_time": "2022-07-24T12:21:10.274Z"
   },
   {
    "duration": 18,
    "start_time": "2022-07-24T12:21:10.329Z"
   },
   {
    "duration": 18,
    "start_time": "2022-07-24T12:21:10.349Z"
   },
   {
    "duration": 180,
    "start_time": "2022-07-24T12:21:10.369Z"
   },
   {
    "duration": 11,
    "start_time": "2022-07-24T12:21:10.551Z"
   },
   {
    "duration": 193,
    "start_time": "2022-07-24T12:21:10.565Z"
   },
   {
    "duration": 180,
    "start_time": "2022-07-24T12:21:10.761Z"
   },
   {
    "duration": 11,
    "start_time": "2022-07-24T12:21:10.943Z"
   },
   {
    "duration": 191,
    "start_time": "2022-07-24T12:21:10.957Z"
   },
   {
    "duration": 250,
    "start_time": "2022-07-24T12:21:11.151Z"
   },
   {
    "duration": 27,
    "start_time": "2022-07-24T12:21:11.403Z"
   },
   {
    "duration": 224,
    "start_time": "2022-07-24T12:21:11.432Z"
   },
   {
    "duration": 158,
    "start_time": "2022-07-24T12:21:11.661Z"
   },
   {
    "duration": 12,
    "start_time": "2022-07-24T12:21:11.823Z"
   },
   {
    "duration": 313,
    "start_time": "2022-07-24T12:21:11.838Z"
   },
   {
    "duration": 248,
    "start_time": "2022-07-24T12:21:12.153Z"
   },
   {
    "duration": 4,
    "start_time": "2022-07-24T12:21:12.404Z"
   },
   {
    "duration": 16,
    "start_time": "2022-07-24T12:21:12.411Z"
   },
   {
    "duration": 30,
    "start_time": "2022-07-24T12:21:12.429Z"
   },
   {
    "duration": 187,
    "start_time": "2022-07-24T12:21:12.461Z"
   },
   {
    "duration": 7,
    "start_time": "2022-07-24T12:21:12.650Z"
   },
   {
    "duration": 19,
    "start_time": "2022-07-24T12:21:12.659Z"
   },
   {
    "duration": 12,
    "start_time": "2022-07-24T12:21:12.681Z"
   },
   {
    "duration": 228,
    "start_time": "2022-07-24T12:21:12.696Z"
   },
   {
    "duration": 257,
    "start_time": "2022-07-24T12:21:12.926Z"
   },
   {
    "duration": 26,
    "start_time": "2022-07-24T12:21:13.186Z"
   },
   {
    "duration": 12,
    "start_time": "2022-07-24T12:21:13.223Z"
   },
   {
    "duration": 38,
    "start_time": "2022-07-24T12:21:13.238Z"
   },
   {
    "duration": 866,
    "start_time": "2022-07-24T12:21:13.279Z"
   },
   {
    "duration": 23,
    "start_time": "2022-07-24T12:21:14.147Z"
   },
   {
    "duration": 59,
    "start_time": "2022-07-24T12:21:14.172Z"
   },
   {
    "duration": 242,
    "start_time": "2022-07-24T12:21:14.233Z"
   },
   {
    "duration": 209,
    "start_time": "2022-07-24T12:21:14.478Z"
   },
   {
    "duration": 10,
    "start_time": "2022-07-24T12:21:14.689Z"
   },
   {
    "duration": 207,
    "start_time": "2022-07-24T12:21:14.702Z"
   },
   {
    "duration": 361,
    "start_time": "2022-07-24T12:21:14.912Z"
   },
   {
    "duration": 395,
    "start_time": "2022-07-24T12:21:15.276Z"
   },
   {
    "duration": 9,
    "start_time": "2022-07-24T12:21:15.673Z"
   },
   {
    "duration": 20,
    "start_time": "2022-07-24T12:21:15.685Z"
   },
   {
    "duration": 257,
    "start_time": "2022-07-24T12:21:15.707Z"
   },
   {
    "duration": 25,
    "start_time": "2022-07-24T12:21:15.966Z"
   },
   {
    "duration": 4,
    "start_time": "2022-07-24T12:21:15.993Z"
   },
   {
    "duration": 41,
    "start_time": "2022-07-24T12:21:15.999Z"
   },
   {
    "duration": 29,
    "start_time": "2022-07-24T12:21:16.042Z"
   },
   {
    "duration": 26,
    "start_time": "2022-07-24T12:21:16.073Z"
   },
   {
    "duration": 172,
    "start_time": "2022-07-24T12:21:16.101Z"
   },
   {
    "duration": 25,
    "start_time": "2022-07-24T12:21:16.274Z"
   },
   {
    "duration": 27,
    "start_time": "2022-07-24T12:21:16.301Z"
   },
   {
    "duration": 846,
    "start_time": "2022-07-24T16:08:34.586Z"
   },
   {
    "duration": 225,
    "start_time": "2022-07-24T16:08:35.434Z"
   },
   {
    "duration": 79,
    "start_time": "2022-07-24T16:08:35.661Z"
   },
   {
    "duration": 18,
    "start_time": "2022-07-24T16:08:35.742Z"
   },
   {
    "duration": 19,
    "start_time": "2022-07-24T16:08:35.761Z"
   },
   {
    "duration": 8,
    "start_time": "2022-07-24T16:08:35.782Z"
   },
   {
    "duration": 40,
    "start_time": "2022-07-24T16:08:35.791Z"
   },
   {
    "duration": 17,
    "start_time": "2022-07-24T16:08:35.833Z"
   },
   {
    "duration": 15,
    "start_time": "2022-07-24T16:08:35.852Z"
   },
   {
    "duration": 12,
    "start_time": "2022-07-24T16:08:35.870Z"
   },
   {
    "duration": 20,
    "start_time": "2022-07-24T16:08:35.883Z"
   },
   {
    "duration": 18,
    "start_time": "2022-07-24T16:08:35.905Z"
   },
   {
    "duration": 14,
    "start_time": "2022-07-24T16:08:35.925Z"
   },
   {
    "duration": 12,
    "start_time": "2022-07-24T16:08:35.941Z"
   },
   {
    "duration": 14,
    "start_time": "2022-07-24T16:08:35.955Z"
   },
   {
    "duration": 35,
    "start_time": "2022-07-24T16:08:35.971Z"
   },
   {
    "duration": 15,
    "start_time": "2022-07-24T16:08:36.008Z"
   },
   {
    "duration": 6,
    "start_time": "2022-07-24T16:08:36.025Z"
   },
   {
    "duration": 16,
    "start_time": "2022-07-24T16:08:36.032Z"
   },
   {
    "duration": 12,
    "start_time": "2022-07-24T16:08:36.049Z"
   },
   {
    "duration": 9,
    "start_time": "2022-07-24T16:08:36.063Z"
   },
   {
    "duration": 9,
    "start_time": "2022-07-24T16:08:36.073Z"
   },
   {
    "duration": 42,
    "start_time": "2022-07-24T16:08:36.083Z"
   },
   {
    "duration": 22,
    "start_time": "2022-07-24T16:08:36.127Z"
   },
   {
    "duration": 40,
    "start_time": "2022-07-24T16:08:36.150Z"
   },
   {
    "duration": 6,
    "start_time": "2022-07-24T16:08:36.192Z"
   },
   {
    "duration": 24,
    "start_time": "2022-07-24T16:08:36.201Z"
   },
   {
    "duration": 126,
    "start_time": "2022-07-24T16:08:36.231Z"
   },
   {
    "duration": 8,
    "start_time": "2022-07-24T16:08:36.359Z"
   },
   {
    "duration": 136,
    "start_time": "2022-07-24T16:08:36.370Z"
   },
   {
    "duration": 141,
    "start_time": "2022-07-24T16:08:36.509Z"
   },
   {
    "duration": 9,
    "start_time": "2022-07-24T16:08:36.652Z"
   },
   {
    "duration": 134,
    "start_time": "2022-07-24T16:08:36.663Z"
   },
   {
    "duration": 251,
    "start_time": "2022-07-24T16:08:36.799Z"
   },
   {
    "duration": 9,
    "start_time": "2022-07-24T16:08:37.052Z"
   },
   {
    "duration": 146,
    "start_time": "2022-07-24T16:08:37.062Z"
   },
   {
    "duration": 97,
    "start_time": "2022-07-24T16:08:37.210Z"
   },
   {
    "duration": 20,
    "start_time": "2022-07-24T16:08:37.309Z"
   },
   {
    "duration": 120,
    "start_time": "2022-07-24T16:08:37.331Z"
   },
   {
    "duration": 186,
    "start_time": "2022-07-24T16:08:37.453Z"
   },
   {
    "duration": 4,
    "start_time": "2022-07-24T16:08:37.640Z"
   },
   {
    "duration": 5,
    "start_time": "2022-07-24T16:08:37.646Z"
   },
   {
    "duration": 21,
    "start_time": "2022-07-24T16:08:37.653Z"
   },
   {
    "duration": 153,
    "start_time": "2022-07-24T16:08:37.675Z"
   },
   {
    "duration": 5,
    "start_time": "2022-07-24T16:08:37.830Z"
   },
   {
    "duration": 7,
    "start_time": "2022-07-24T16:08:37.837Z"
   },
   {
    "duration": 6,
    "start_time": "2022-07-24T16:08:37.845Z"
   },
   {
    "duration": 180,
    "start_time": "2022-07-24T16:08:37.853Z"
   },
   {
    "duration": 177,
    "start_time": "2022-07-24T16:08:38.035Z"
   },
   {
    "duration": 31,
    "start_time": "2022-07-24T16:08:38.214Z"
   },
   {
    "duration": 11,
    "start_time": "2022-07-24T16:08:38.248Z"
   },
   {
    "duration": 41,
    "start_time": "2022-07-24T16:08:38.261Z"
   },
   {
    "duration": 802,
    "start_time": "2022-07-24T16:08:38.304Z"
   },
   {
    "duration": 83,
    "start_time": "2022-07-24T16:08:39.108Z"
   },
   {
    "duration": 0,
    "start_time": "2022-07-24T16:08:39.193Z"
   },
   {
    "duration": 0,
    "start_time": "2022-07-24T16:08:39.194Z"
   },
   {
    "duration": 0,
    "start_time": "2022-07-24T16:08:39.195Z"
   },
   {
    "duration": 0,
    "start_time": "2022-07-24T16:08:39.196Z"
   },
   {
    "duration": 0,
    "start_time": "2022-07-24T16:08:39.197Z"
   },
   {
    "duration": 0,
    "start_time": "2022-07-24T16:08:39.199Z"
   },
   {
    "duration": 0,
    "start_time": "2022-07-24T16:08:39.199Z"
   },
   {
    "duration": 0,
    "start_time": "2022-07-24T16:08:39.201Z"
   },
   {
    "duration": 0,
    "start_time": "2022-07-24T16:08:39.201Z"
   },
   {
    "duration": 0,
    "start_time": "2022-07-24T16:08:39.203Z"
   },
   {
    "duration": 0,
    "start_time": "2022-07-24T16:08:39.204Z"
   },
   {
    "duration": 0,
    "start_time": "2022-07-24T16:08:39.223Z"
   },
   {
    "duration": 0,
    "start_time": "2022-07-24T16:08:39.224Z"
   },
   {
    "duration": 0,
    "start_time": "2022-07-24T16:08:39.225Z"
   },
   {
    "duration": 0,
    "start_time": "2022-07-24T16:08:39.227Z"
   },
   {
    "duration": 0,
    "start_time": "2022-07-24T16:08:39.229Z"
   },
   {
    "duration": 0,
    "start_time": "2022-07-24T16:08:39.230Z"
   },
   {
    "duration": 0,
    "start_time": "2022-07-24T16:08:39.232Z"
   },
   {
    "duration": 26,
    "start_time": "2022-07-24T16:14:39.449Z"
   },
   {
    "duration": 103,
    "start_time": "2022-07-24T16:15:56.994Z"
   },
   {
    "duration": 3,
    "start_time": "2022-07-24T16:17:58.562Z"
   },
   {
    "duration": 102,
    "start_time": "2022-07-24T16:17:58.566Z"
   },
   {
    "duration": 44,
    "start_time": "2022-07-24T16:17:58.670Z"
   },
   {
    "duration": 14,
    "start_time": "2022-07-24T16:17:58.716Z"
   },
   {
    "duration": 45,
    "start_time": "2022-07-24T16:17:58.731Z"
   },
   {
    "duration": 27,
    "start_time": "2022-07-24T16:17:58.777Z"
   },
   {
    "duration": 53,
    "start_time": "2022-07-24T16:17:58.805Z"
   },
   {
    "duration": 17,
    "start_time": "2022-07-24T16:17:58.860Z"
   },
   {
    "duration": 21,
    "start_time": "2022-07-24T16:17:58.879Z"
   },
   {
    "duration": 12,
    "start_time": "2022-07-24T16:17:58.901Z"
   },
   {
    "duration": 23,
    "start_time": "2022-07-24T16:17:58.914Z"
   },
   {
    "duration": 24,
    "start_time": "2022-07-24T16:17:58.938Z"
   },
   {
    "duration": 35,
    "start_time": "2022-07-24T16:17:58.963Z"
   },
   {
    "duration": 33,
    "start_time": "2022-07-24T16:17:59.000Z"
   },
   {
    "duration": 31,
    "start_time": "2022-07-24T16:17:59.035Z"
   },
   {
    "duration": 40,
    "start_time": "2022-07-24T16:17:59.068Z"
   },
   {
    "duration": 6,
    "start_time": "2022-07-24T16:17:59.110Z"
   },
   {
    "duration": 19,
    "start_time": "2022-07-24T16:17:59.117Z"
   },
   {
    "duration": 33,
    "start_time": "2022-07-24T16:17:59.137Z"
   },
   {
    "duration": 30,
    "start_time": "2022-07-24T16:17:59.172Z"
   },
   {
    "duration": 8,
    "start_time": "2022-07-24T16:17:59.204Z"
   },
   {
    "duration": 32,
    "start_time": "2022-07-24T16:17:59.214Z"
   },
   {
    "duration": 35,
    "start_time": "2022-07-24T16:17:59.247Z"
   },
   {
    "duration": 29,
    "start_time": "2022-07-24T16:17:59.286Z"
   },
   {
    "duration": 33,
    "start_time": "2022-07-24T16:17:59.316Z"
   },
   {
    "duration": 6,
    "start_time": "2022-07-24T16:17:59.351Z"
   },
   {
    "duration": 32,
    "start_time": "2022-07-24T16:17:59.359Z"
   },
   {
    "duration": 95,
    "start_time": "2022-07-24T16:17:59.393Z"
   },
   {
    "duration": 9,
    "start_time": "2022-07-24T16:17:59.490Z"
   },
   {
    "duration": 121,
    "start_time": "2022-07-24T16:17:59.501Z"
   },
   {
    "duration": 130,
    "start_time": "2022-07-24T16:17:59.623Z"
   },
   {
    "duration": 8,
    "start_time": "2022-07-24T16:17:59.755Z"
   },
   {
    "duration": 126,
    "start_time": "2022-07-24T16:17:59.765Z"
   },
   {
    "duration": 191,
    "start_time": "2022-07-24T16:17:59.893Z"
   },
   {
    "duration": 9,
    "start_time": "2022-07-24T16:18:00.086Z"
   },
   {
    "duration": 156,
    "start_time": "2022-07-24T16:18:00.097Z"
   },
   {
    "duration": 100,
    "start_time": "2022-07-24T16:18:00.255Z"
   },
   {
    "duration": 9,
    "start_time": "2022-07-24T16:18:00.357Z"
   },
   {
    "duration": 123,
    "start_time": "2022-07-24T16:18:00.368Z"
   },
   {
    "duration": 190,
    "start_time": "2022-07-24T16:18:00.493Z"
   },
   {
    "duration": 6,
    "start_time": "2022-07-24T16:18:00.684Z"
   },
   {
    "duration": 48,
    "start_time": "2022-07-24T16:18:00.691Z"
   },
   {
    "duration": 54,
    "start_time": "2022-07-24T16:18:00.742Z"
   },
   {
    "duration": 168,
    "start_time": "2022-07-24T16:18:00.798Z"
   },
   {
    "duration": 5,
    "start_time": "2022-07-24T16:18:00.968Z"
   },
   {
    "duration": 15,
    "start_time": "2022-07-24T16:18:00.974Z"
   },
   {
    "duration": 33,
    "start_time": "2022-07-24T16:18:00.991Z"
   },
   {
    "duration": 223,
    "start_time": "2022-07-24T16:18:01.026Z"
   },
   {
    "duration": 260,
    "start_time": "2022-07-24T16:18:01.250Z"
   },
   {
    "duration": 27,
    "start_time": "2022-07-24T16:18:01.512Z"
   },
   {
    "duration": 19,
    "start_time": "2022-07-24T16:18:01.542Z"
   },
   {
    "duration": 61,
    "start_time": "2022-07-24T16:18:01.563Z"
   },
   {
    "duration": 740,
    "start_time": "2022-07-24T16:18:01.626Z"
   },
   {
    "duration": 28,
    "start_time": "2022-07-24T16:18:02.368Z"
   },
   {
    "duration": 52,
    "start_time": "2022-07-24T16:18:02.398Z"
   },
   {
    "duration": 193,
    "start_time": "2022-07-24T16:18:02.452Z"
   },
   {
    "duration": 131,
    "start_time": "2022-07-24T16:18:02.647Z"
   },
   {
    "duration": 7,
    "start_time": "2022-07-24T16:18:02.779Z"
   },
   {
    "duration": 982,
    "start_time": "2022-07-25T07:00:25.678Z"
   },
   {
    "duration": 253,
    "start_time": "2022-07-25T07:00:26.665Z"
   },
   {
    "duration": 90,
    "start_time": "2022-07-25T07:00:26.920Z"
   },
   {
    "duration": 33,
    "start_time": "2022-07-25T07:00:27.012Z"
   },
   {
    "duration": 28,
    "start_time": "2022-07-25T07:00:27.050Z"
   },
   {
    "duration": 10,
    "start_time": "2022-07-25T07:00:27.081Z"
   },
   {
    "duration": 55,
    "start_time": "2022-07-25T07:00:27.093Z"
   },
   {
    "duration": 28,
    "start_time": "2022-07-25T07:00:27.150Z"
   },
   {
    "duration": 28,
    "start_time": "2022-07-25T07:00:27.180Z"
   },
   {
    "duration": 40,
    "start_time": "2022-07-25T07:00:27.210Z"
   },
   {
    "duration": 15,
    "start_time": "2022-07-25T07:00:27.252Z"
   },
   {
    "duration": 7,
    "start_time": "2022-07-25T07:00:27.270Z"
   },
   {
    "duration": 20,
    "start_time": "2022-07-25T07:00:27.280Z"
   },
   {
    "duration": 21,
    "start_time": "2022-07-25T07:00:27.305Z"
   },
   {
    "duration": 14,
    "start_time": "2022-07-25T07:00:27.334Z"
   },
   {
    "duration": 50,
    "start_time": "2022-07-25T07:00:27.351Z"
   },
   {
    "duration": 6,
    "start_time": "2022-07-25T07:00:27.403Z"
   },
   {
    "duration": 45,
    "start_time": "2022-07-25T07:00:27.411Z"
   },
   {
    "duration": 25,
    "start_time": "2022-07-25T07:00:27.457Z"
   },
   {
    "duration": 14,
    "start_time": "2022-07-25T07:00:27.484Z"
   },
   {
    "duration": 4,
    "start_time": "2022-07-25T07:00:27.499Z"
   },
   {
    "duration": 18,
    "start_time": "2022-07-25T07:00:27.505Z"
   },
   {
    "duration": 39,
    "start_time": "2022-07-25T07:00:27.525Z"
   },
   {
    "duration": 25,
    "start_time": "2022-07-25T07:00:27.566Z"
   },
   {
    "duration": 37,
    "start_time": "2022-07-25T07:00:27.593Z"
   },
   {
    "duration": 17,
    "start_time": "2022-07-25T07:00:27.632Z"
   },
   {
    "duration": 43,
    "start_time": "2022-07-25T07:00:27.651Z"
   },
   {
    "duration": 209,
    "start_time": "2022-07-25T07:00:27.697Z"
   },
   {
    "duration": 22,
    "start_time": "2022-07-25T07:00:27.909Z"
   },
   {
    "duration": 150,
    "start_time": "2022-07-25T07:00:27.935Z"
   },
   {
    "duration": 171,
    "start_time": "2022-07-25T07:00:28.087Z"
   },
   {
    "duration": 10,
    "start_time": "2022-07-25T07:00:28.260Z"
   },
   {
    "duration": 157,
    "start_time": "2022-07-25T07:00:28.272Z"
   },
   {
    "duration": 274,
    "start_time": "2022-07-25T07:00:28.432Z"
   },
   {
    "duration": 30,
    "start_time": "2022-07-25T07:00:28.709Z"
   },
   {
    "duration": 211,
    "start_time": "2022-07-25T07:00:28.746Z"
   },
   {
    "duration": 120,
    "start_time": "2022-07-25T07:00:28.959Z"
   },
   {
    "duration": 11,
    "start_time": "2022-07-25T07:00:29.081Z"
   },
   {
    "duration": 150,
    "start_time": "2022-07-25T07:00:29.094Z"
   },
   {
    "duration": 243,
    "start_time": "2022-07-25T07:00:29.246Z"
   },
   {
    "duration": 6,
    "start_time": "2022-07-25T07:00:29.493Z"
   },
   {
    "duration": 28,
    "start_time": "2022-07-25T07:00:29.501Z"
   },
   {
    "duration": 43,
    "start_time": "2022-07-25T07:00:29.530Z"
   },
   {
    "duration": 213,
    "start_time": "2022-07-25T07:00:29.576Z"
   },
   {
    "duration": 6,
    "start_time": "2022-07-25T07:00:29.792Z"
   },
   {
    "duration": 9,
    "start_time": "2022-07-25T07:00:29.800Z"
   },
   {
    "duration": 55,
    "start_time": "2022-07-25T07:00:29.811Z"
   },
   {
    "duration": 277,
    "start_time": "2022-07-25T07:00:29.869Z"
   },
   {
    "duration": 222,
    "start_time": "2022-07-25T07:00:30.149Z"
   },
   {
    "duration": 26,
    "start_time": "2022-07-25T07:00:30.376Z"
   },
   {
    "duration": 63,
    "start_time": "2022-07-25T07:00:30.404Z"
   },
   {
    "duration": 194,
    "start_time": "2022-07-25T07:00:30.469Z"
   },
   {
    "duration": 918,
    "start_time": "2022-07-25T07:00:30.665Z"
   },
   {
    "duration": 160,
    "start_time": "2022-07-25T07:00:31.585Z"
   },
   {
    "duration": 40,
    "start_time": "2022-07-25T07:00:31.748Z"
   },
   {
    "duration": 272,
    "start_time": "2022-07-25T07:00:31.791Z"
   },
   {
    "duration": 146,
    "start_time": "2022-07-25T07:00:32.066Z"
   },
   {
    "duration": 23,
    "start_time": "2022-07-25T07:00:32.214Z"
   },
   {
    "duration": 208,
    "start_time": "2022-07-25T07:00:32.238Z"
   },
   {
    "duration": 165,
    "start_time": "2022-07-25T07:00:32.448Z"
   },
   {
    "duration": 307,
    "start_time": "2022-07-25T07:00:32.615Z"
   },
   {
    "duration": 20,
    "start_time": "2022-07-25T07:00:32.924Z"
   },
   {
    "duration": 29,
    "start_time": "2022-07-25T07:00:32.950Z"
   },
   {
    "duration": 280,
    "start_time": "2022-07-25T07:00:32.982Z"
   },
   {
    "duration": 29,
    "start_time": "2022-07-25T07:00:33.264Z"
   },
   {
    "duration": 12,
    "start_time": "2022-07-25T07:00:33.296Z"
   },
   {
    "duration": 37,
    "start_time": "2022-07-25T07:00:33.311Z"
   },
   {
    "duration": 25,
    "start_time": "2022-07-25T07:00:33.351Z"
   },
   {
    "duration": 49,
    "start_time": "2022-07-25T07:00:33.378Z"
   },
   {
    "duration": 173,
    "start_time": "2022-07-25T07:00:33.429Z"
   },
   {
    "duration": 41,
    "start_time": "2022-07-25T07:00:33.604Z"
   },
   {
    "duration": 51,
    "start_time": "2022-07-25T07:00:33.647Z"
   },
   {
    "duration": 9,
    "start_time": "2022-07-25T07:39:08.063Z"
   },
   {
    "duration": 753,
    "start_time": "2022-07-25T07:48:16.346Z"
   },
   {
    "duration": 275,
    "start_time": "2022-07-25T07:51:41.016Z"
   },
   {
    "duration": 367,
    "start_time": "2022-07-25T07:51:54.886Z"
   },
   {
    "duration": 10,
    "start_time": "2022-07-25T07:57:27.453Z"
   },
   {
    "duration": 7,
    "start_time": "2022-07-25T07:58:11.464Z"
   },
   {
    "duration": 6,
    "start_time": "2022-07-25T07:58:16.564Z"
   },
   {
    "duration": 29,
    "start_time": "2022-07-25T07:59:53.754Z"
   },
   {
    "duration": 5,
    "start_time": "2022-07-25T08:02:26.584Z"
   },
   {
    "duration": 8,
    "start_time": "2022-07-25T08:02:43.694Z"
   },
   {
    "duration": 719,
    "start_time": "2022-07-25T08:09:35.700Z"
   },
   {
    "duration": 105,
    "start_time": "2022-07-25T08:09:36.421Z"
   },
   {
    "duration": 47,
    "start_time": "2022-07-25T08:09:36.529Z"
   },
   {
    "duration": 17,
    "start_time": "2022-07-25T08:09:36.578Z"
   },
   {
    "duration": 18,
    "start_time": "2022-07-25T08:09:36.597Z"
   },
   {
    "duration": 10,
    "start_time": "2022-07-25T08:09:36.617Z"
   },
   {
    "duration": 41,
    "start_time": "2022-07-25T08:09:36.629Z"
   },
   {
    "duration": 16,
    "start_time": "2022-07-25T08:09:36.672Z"
   },
   {
    "duration": 18,
    "start_time": "2022-07-25T08:09:36.689Z"
   },
   {
    "duration": 17,
    "start_time": "2022-07-25T08:09:36.710Z"
   },
   {
    "duration": 18,
    "start_time": "2022-07-25T08:09:36.729Z"
   },
   {
    "duration": 11,
    "start_time": "2022-07-25T08:09:36.749Z"
   },
   {
    "duration": 16,
    "start_time": "2022-07-25T08:09:36.762Z"
   },
   {
    "duration": 11,
    "start_time": "2022-07-25T08:09:36.780Z"
   },
   {
    "duration": 10,
    "start_time": "2022-07-25T08:09:36.792Z"
   },
   {
    "duration": 32,
    "start_time": "2022-07-25T08:09:36.829Z"
   },
   {
    "duration": 5,
    "start_time": "2022-07-25T08:09:36.863Z"
   },
   {
    "duration": 9,
    "start_time": "2022-07-25T08:09:36.869Z"
   },
   {
    "duration": 17,
    "start_time": "2022-07-25T08:09:36.880Z"
   },
   {
    "duration": 40,
    "start_time": "2022-07-25T08:09:36.898Z"
   },
   {
    "duration": 3,
    "start_time": "2022-07-25T08:09:36.940Z"
   },
   {
    "duration": 15,
    "start_time": "2022-07-25T08:09:36.945Z"
   },
   {
    "duration": 17,
    "start_time": "2022-07-25T08:09:36.961Z"
   },
   {
    "duration": 19,
    "start_time": "2022-07-25T08:09:36.979Z"
   },
   {
    "duration": 31,
    "start_time": "2022-07-25T08:09:37.025Z"
   },
   {
    "duration": 15,
    "start_time": "2022-07-25T08:09:37.058Z"
   },
   {
    "duration": 10,
    "start_time": "2022-07-25T08:09:37.074Z"
   },
   {
    "duration": 138,
    "start_time": "2022-07-25T08:09:37.087Z"
   },
   {
    "duration": 16,
    "start_time": "2022-07-25T08:09:37.227Z"
   },
   {
    "duration": 141,
    "start_time": "2022-07-25T08:09:37.245Z"
   },
   {
    "duration": 160,
    "start_time": "2022-07-25T08:09:37.387Z"
   },
   {
    "duration": 8,
    "start_time": "2022-07-25T08:09:37.549Z"
   },
   {
    "duration": 167,
    "start_time": "2022-07-25T08:09:37.559Z"
   },
   {
    "duration": 255,
    "start_time": "2022-07-25T08:09:37.728Z"
   },
   {
    "duration": 9,
    "start_time": "2022-07-25T08:09:37.985Z"
   },
   {
    "duration": 176,
    "start_time": "2022-07-25T08:09:37.996Z"
   },
   {
    "duration": 107,
    "start_time": "2022-07-25T08:09:38.175Z"
   },
   {
    "duration": 9,
    "start_time": "2022-07-25T08:09:38.284Z"
   },
   {
    "duration": 121,
    "start_time": "2022-07-25T08:09:38.294Z"
   },
   {
    "duration": 200,
    "start_time": "2022-07-25T08:09:38.422Z"
   },
   {
    "duration": 10,
    "start_time": "2022-07-25T08:09:38.625Z"
   },
   {
    "duration": 15,
    "start_time": "2022-07-25T08:09:38.637Z"
   },
   {
    "duration": 15,
    "start_time": "2022-07-25T08:09:38.653Z"
   },
   {
    "duration": 183,
    "start_time": "2022-07-25T08:09:38.670Z"
   },
   {
    "duration": 5,
    "start_time": "2022-07-25T08:09:38.855Z"
   },
   {
    "duration": 24,
    "start_time": "2022-07-25T08:09:38.862Z"
   },
   {
    "duration": 7,
    "start_time": "2022-07-25T08:09:38.888Z"
   },
   {
    "duration": 206,
    "start_time": "2022-07-25T08:09:38.897Z"
   },
   {
    "duration": 186,
    "start_time": "2022-07-25T08:09:39.105Z"
   },
   {
    "duration": 31,
    "start_time": "2022-07-25T08:09:39.293Z"
   },
   {
    "duration": 9,
    "start_time": "2022-07-25T08:09:39.327Z"
   },
   {
    "duration": 30,
    "start_time": "2022-07-25T08:09:39.338Z"
   },
   {
    "duration": 849,
    "start_time": "2022-07-25T08:09:39.370Z"
   },
   {
    "duration": 143,
    "start_time": "2022-07-25T08:09:40.221Z"
   },
   {
    "duration": 36,
    "start_time": "2022-07-25T08:09:40.365Z"
   },
   {
    "duration": 200,
    "start_time": "2022-07-25T08:09:40.422Z"
   },
   {
    "duration": 144,
    "start_time": "2022-07-25T08:09:40.624Z"
   },
   {
    "duration": 7,
    "start_time": "2022-07-25T08:09:40.770Z"
   },
   {
    "duration": 198,
    "start_time": "2022-07-25T08:09:40.778Z"
   },
   {
    "duration": 165,
    "start_time": "2022-07-25T08:09:40.978Z"
   },
   {
    "duration": 273,
    "start_time": "2022-07-25T08:09:41.147Z"
   },
   {
    "duration": 14,
    "start_time": "2022-07-25T08:09:41.421Z"
   },
   {
    "duration": 17,
    "start_time": "2022-07-25T08:09:41.437Z"
   },
   {
    "duration": 168,
    "start_time": "2022-07-25T08:09:41.456Z"
   },
   {
    "duration": 24,
    "start_time": "2022-07-25T08:09:41.627Z"
   },
   {
    "duration": 5,
    "start_time": "2022-07-25T08:09:41.654Z"
   },
   {
    "duration": 16,
    "start_time": "2022-07-25T08:09:41.661Z"
   },
   {
    "duration": 45,
    "start_time": "2022-07-25T08:09:41.679Z"
   },
   {
    "duration": 27,
    "start_time": "2022-07-25T08:09:41.727Z"
   },
   {
    "duration": 199,
    "start_time": "2022-07-25T08:09:41.756Z"
   },
   {
    "duration": 25,
    "start_time": "2022-07-25T08:09:41.957Z"
   },
   {
    "duration": 13,
    "start_time": "2022-07-25T08:09:41.984Z"
   },
   {
    "duration": 597,
    "start_time": "2023-04-13T07:46:45.413Z"
   },
   {
    "duration": 260,
    "start_time": "2023-04-13T07:46:46.012Z"
   },
   {
    "duration": 57,
    "start_time": "2023-04-13T07:46:46.273Z"
   },
   {
    "duration": 16,
    "start_time": "2023-04-13T07:46:46.332Z"
   },
   {
    "duration": 18,
    "start_time": "2023-04-13T07:46:46.349Z"
   },
   {
    "duration": 8,
    "start_time": "2023-04-13T07:46:46.369Z"
   },
   {
    "duration": 30,
    "start_time": "2023-04-13T07:46:46.379Z"
   },
   {
    "duration": 20,
    "start_time": "2023-04-13T07:46:46.410Z"
   },
   {
    "duration": 27,
    "start_time": "2023-04-13T07:46:46.431Z"
   },
   {
    "duration": 5,
    "start_time": "2023-04-13T07:46:46.462Z"
   },
   {
    "duration": 14,
    "start_time": "2023-04-13T07:46:46.469Z"
   },
   {
    "duration": 9,
    "start_time": "2023-04-13T07:46:46.485Z"
   },
   {
    "duration": 14,
    "start_time": "2023-04-13T07:46:46.495Z"
   },
   {
    "duration": 28,
    "start_time": "2023-04-13T07:46:46.510Z"
   },
   {
    "duration": 10,
    "start_time": "2023-04-13T07:46:46.540Z"
   },
   {
    "duration": 29,
    "start_time": "2023-04-13T07:46:46.552Z"
   },
   {
    "duration": 12,
    "start_time": "2023-04-13T07:46:46.583Z"
   },
   {
    "duration": 7,
    "start_time": "2023-04-13T07:46:46.597Z"
   },
   {
    "duration": 13,
    "start_time": "2023-04-13T07:46:46.605Z"
   },
   {
    "duration": 12,
    "start_time": "2023-04-13T07:46:46.620Z"
   },
   {
    "duration": 2,
    "start_time": "2023-04-13T07:46:46.634Z"
   },
   {
    "duration": 13,
    "start_time": "2023-04-13T07:46:46.637Z"
   },
   {
    "duration": 45,
    "start_time": "2023-04-13T07:46:46.652Z"
   },
   {
    "duration": 16,
    "start_time": "2023-04-13T07:46:46.698Z"
   },
   {
    "duration": 19,
    "start_time": "2023-04-13T07:46:46.715Z"
   },
   {
    "duration": 5,
    "start_time": "2023-04-13T07:46:46.736Z"
   },
   {
    "duration": 7,
    "start_time": "2023-04-13T07:46:46.742Z"
   },
   {
    "duration": 135,
    "start_time": "2023-04-13T07:46:46.753Z"
   },
   {
    "duration": 12,
    "start_time": "2023-04-13T07:46:46.889Z"
   },
   {
    "duration": 115,
    "start_time": "2023-04-13T07:46:46.902Z"
   },
   {
    "duration": 132,
    "start_time": "2023-04-13T07:46:47.019Z"
   },
   {
    "duration": 9,
    "start_time": "2023-04-13T07:46:47.153Z"
   },
   {
    "duration": 121,
    "start_time": "2023-04-13T07:46:47.164Z"
   },
   {
    "duration": 212,
    "start_time": "2023-04-13T07:46:47.293Z"
   },
   {
    "duration": 7,
    "start_time": "2023-04-13T07:46:47.506Z"
   },
   {
    "duration": 143,
    "start_time": "2023-04-13T07:46:47.514Z"
   },
   {
    "duration": 85,
    "start_time": "2023-04-13T07:46:47.658Z"
   },
   {
    "duration": 6,
    "start_time": "2023-04-13T07:46:47.745Z"
   },
   {
    "duration": 109,
    "start_time": "2023-04-13T07:46:47.753Z"
   },
   {
    "duration": 163,
    "start_time": "2023-04-13T07:46:47.863Z"
   },
   {
    "duration": 5,
    "start_time": "2023-04-13T07:46:48.028Z"
   },
   {
    "duration": 5,
    "start_time": "2023-04-13T07:46:48.035Z"
   },
   {
    "duration": 24,
    "start_time": "2023-04-13T07:46:48.042Z"
   },
   {
    "duration": 184,
    "start_time": "2023-04-13T07:46:48.069Z"
   },
   {
    "duration": 4,
    "start_time": "2023-04-13T07:46:48.255Z"
   },
   {
    "duration": 12,
    "start_time": "2023-04-13T07:46:48.260Z"
   },
   {
    "duration": 27,
    "start_time": "2023-04-13T07:46:48.274Z"
   },
   {
    "duration": 159,
    "start_time": "2023-04-13T07:46:48.303Z"
   },
   {
    "duration": 173,
    "start_time": "2023-04-13T07:46:48.464Z"
   },
   {
    "duration": 20,
    "start_time": "2023-04-13T07:46:48.639Z"
   },
   {
    "duration": 9,
    "start_time": "2023-04-13T07:46:48.661Z"
   },
   {
    "duration": 44,
    "start_time": "2023-04-13T07:46:48.672Z"
   },
   {
    "duration": 727,
    "start_time": "2023-04-13T07:46:48.718Z"
   },
   {
    "duration": 110,
    "start_time": "2023-04-13T07:46:49.447Z"
   },
   {
    "duration": 40,
    "start_time": "2023-04-13T07:46:49.559Z"
   },
   {
    "duration": 221,
    "start_time": "2023-04-13T07:46:49.601Z"
   },
   {
    "duration": 147,
    "start_time": "2023-04-13T07:46:49.824Z"
   },
   {
    "duration": 7,
    "start_time": "2023-04-13T07:46:49.974Z"
   },
   {
    "duration": 152,
    "start_time": "2023-04-13T07:46:49.994Z"
   },
   {
    "duration": 134,
    "start_time": "2023-04-13T07:46:50.148Z"
   },
   {
    "duration": 237,
    "start_time": "2023-04-13T07:46:50.284Z"
   },
   {
    "duration": 8,
    "start_time": "2023-04-13T07:46:50.523Z"
   },
   {
    "duration": 9,
    "start_time": "2023-04-13T07:46:50.533Z"
   },
   {
    "duration": 150,
    "start_time": "2023-04-13T07:46:50.544Z"
   },
   {
    "duration": 15,
    "start_time": "2023-04-13T07:46:50.696Z"
   },
   {
    "duration": 28,
    "start_time": "2023-04-13T07:46:50.712Z"
   },
   {
    "duration": 21,
    "start_time": "2023-04-13T07:46:50.742Z"
   },
   {
    "duration": 18,
    "start_time": "2023-04-13T07:46:50.764Z"
   },
   {
    "duration": 23,
    "start_time": "2023-04-13T07:46:50.783Z"
   },
   {
    "duration": 197,
    "start_time": "2023-04-13T07:46:50.808Z"
   },
   {
    "duration": 20,
    "start_time": "2023-04-13T07:46:51.007Z"
   },
   {
    "duration": 7,
    "start_time": "2023-04-13T07:46:51.030Z"
   },
   {
    "duration": 3,
    "start_time": "2023-04-13T09:21:58.951Z"
   },
   {
    "duration": 97,
    "start_time": "2023-04-13T09:21:58.958Z"
   },
   {
    "duration": 50,
    "start_time": "2023-04-13T09:21:59.057Z"
   },
   {
    "duration": 12,
    "start_time": "2023-04-13T09:21:59.109Z"
   },
   {
    "duration": 31,
    "start_time": "2023-04-13T09:21:59.122Z"
   },
   {
    "duration": 20,
    "start_time": "2023-04-13T09:21:59.155Z"
   },
   {
    "duration": 37,
    "start_time": "2023-04-13T09:21:59.176Z"
   },
   {
    "duration": 15,
    "start_time": "2023-04-13T09:21:59.215Z"
   },
   {
    "duration": 23,
    "start_time": "2023-04-13T09:21:59.231Z"
   },
   {
    "duration": 5,
    "start_time": "2023-04-13T09:21:59.256Z"
   },
   {
    "duration": 12,
    "start_time": "2023-04-13T09:21:59.263Z"
   },
   {
    "duration": 27,
    "start_time": "2023-04-13T09:21:59.277Z"
   },
   {
    "duration": 16,
    "start_time": "2023-04-13T09:21:59.306Z"
   },
   {
    "duration": 12,
    "start_time": "2023-04-13T09:21:59.323Z"
   },
   {
    "duration": 11,
    "start_time": "2023-04-13T09:21:59.337Z"
   },
   {
    "duration": 42,
    "start_time": "2023-04-13T09:21:59.349Z"
   },
   {
    "duration": 18,
    "start_time": "2023-04-13T09:21:59.393Z"
   },
   {
    "duration": 6,
    "start_time": "2023-04-13T09:21:59.413Z"
   },
   {
    "duration": 14,
    "start_time": "2023-04-13T09:21:59.420Z"
   },
   {
    "duration": 12,
    "start_time": "2023-04-13T09:21:59.435Z"
   },
   {
    "duration": 2,
    "start_time": "2023-04-13T09:21:59.448Z"
   },
   {
    "duration": 8,
    "start_time": "2023-04-13T09:21:59.451Z"
   },
   {
    "duration": 37,
    "start_time": "2023-04-13T09:21:59.460Z"
   },
   {
    "duration": 21,
    "start_time": "2023-04-13T09:21:59.500Z"
   },
   {
    "duration": 20,
    "start_time": "2023-04-13T09:21:59.522Z"
   },
   {
    "duration": 6,
    "start_time": "2023-04-13T09:21:59.543Z"
   },
   {
    "duration": 6,
    "start_time": "2023-04-13T09:21:59.551Z"
   },
   {
    "duration": 118,
    "start_time": "2023-04-13T09:21:59.559Z"
   },
   {
    "duration": 24,
    "start_time": "2023-04-13T09:21:59.680Z"
   },
   {
    "duration": 108,
    "start_time": "2023-04-13T09:21:59.711Z"
   },
   {
    "duration": 145,
    "start_time": "2023-04-13T09:21:59.821Z"
   },
   {
    "duration": 7,
    "start_time": "2023-04-13T09:21:59.968Z"
   },
   {
    "duration": 132,
    "start_time": "2023-04-13T09:21:59.977Z"
   },
   {
    "duration": 226,
    "start_time": "2023-04-13T09:22:00.111Z"
   },
   {
    "duration": 7,
    "start_time": "2023-04-13T09:22:00.339Z"
   },
   {
    "duration": 141,
    "start_time": "2023-04-13T09:22:00.347Z"
   },
   {
    "duration": 88,
    "start_time": "2023-04-13T09:22:00.490Z"
   },
   {
    "duration": 23,
    "start_time": "2023-04-13T09:22:00.579Z"
   },
   {
    "duration": 114,
    "start_time": "2023-04-13T09:22:00.604Z"
   },
   {
    "duration": 182,
    "start_time": "2023-04-13T09:22:00.720Z"
   },
   {
    "duration": 8,
    "start_time": "2023-04-13T09:22:00.903Z"
   },
   {
    "duration": 19,
    "start_time": "2023-04-13T09:22:00.913Z"
   },
   {
    "duration": 43,
    "start_time": "2023-04-13T09:22:00.933Z"
   },
   {
    "duration": 155,
    "start_time": "2023-04-13T09:22:00.978Z"
   },
   {
    "duration": 4,
    "start_time": "2023-04-13T09:22:01.135Z"
   },
   {
    "duration": 15,
    "start_time": "2023-04-13T09:22:01.140Z"
   },
   {
    "duration": 21,
    "start_time": "2023-04-13T09:22:01.156Z"
   },
   {
    "duration": 181,
    "start_time": "2023-04-13T09:22:01.179Z"
   },
   {
    "duration": 182,
    "start_time": "2023-04-13T09:22:01.362Z"
   },
   {
    "duration": 20,
    "start_time": "2023-04-13T09:22:01.546Z"
   },
   {
    "duration": 45,
    "start_time": "2023-04-13T09:22:01.568Z"
   },
   {
    "duration": 58,
    "start_time": "2023-04-13T09:22:01.615Z"
   },
   {
    "duration": 732,
    "start_time": "2023-04-13T09:22:01.675Z"
   },
   {
    "duration": 98,
    "start_time": "2023-04-13T09:22:02.408Z"
   },
   {
    "duration": 33,
    "start_time": "2023-04-13T09:22:02.507Z"
   },
   {
    "duration": 174,
    "start_time": "2023-04-13T09:22:02.542Z"
   },
   {
    "duration": 126,
    "start_time": "2023-04-13T09:22:02.718Z"
   },
   {
    "duration": 6,
    "start_time": "2023-04-13T09:22:02.846Z"
   },
   {
    "duration": 156,
    "start_time": "2023-04-13T09:22:02.853Z"
   },
   {
    "duration": 142,
    "start_time": "2023-04-13T09:22:03.011Z"
   },
   {
    "duration": 219,
    "start_time": "2023-04-13T09:22:03.154Z"
   },
   {
    "duration": 7,
    "start_time": "2023-04-13T09:22:03.374Z"
   },
   {
    "duration": 11,
    "start_time": "2023-04-13T09:22:03.394Z"
   },
   {
    "duration": 141,
    "start_time": "2023-04-13T09:22:03.412Z"
   },
   {
    "duration": 16,
    "start_time": "2023-04-13T09:22:03.555Z"
   },
   {
    "duration": 5,
    "start_time": "2023-04-13T09:22:03.572Z"
   },
   {
    "duration": 20,
    "start_time": "2023-04-13T09:22:03.579Z"
   },
   {
    "duration": 22,
    "start_time": "2023-04-13T09:22:03.600Z"
   },
   {
    "duration": 15,
    "start_time": "2023-04-13T09:22:03.624Z"
   },
   {
    "duration": 168,
    "start_time": "2023-04-13T09:22:03.641Z"
   },
   {
    "duration": 18,
    "start_time": "2023-04-13T09:22:03.811Z"
   },
   {
    "duration": 27,
    "start_time": "2023-04-13T09:22:03.830Z"
   }
  ],
  "colab": {
   "name": "DA+. Сборный проект 1. Шаблон (1).ipynb",
   "provenance": []
  },
  "kernelspec": {
   "display_name": "Python 3 (ipykernel)",
   "language": "python",
   "name": "python3"
  },
  "language_info": {
   "codemirror_mode": {
    "name": "ipython",
    "version": 3
   },
   "file_extension": ".py",
   "mimetype": "text/x-python",
   "name": "python",
   "nbconvert_exporter": "python",
   "pygments_lexer": "ipython3",
   "version": "3.9.12"
  },
  "toc": {
   "base_numbering": 1,
   "nav_menu": {
    "height": "144.983px",
    "width": "287.983px"
   },
   "number_sections": true,
   "sideBar": true,
   "skip_h1_title": true,
   "title_cell": "Table of Contents",
   "title_sidebar": "Contents",
   "toc_cell": false,
   "toc_position": {
    "height": "calc(100% - 180px)",
    "left": "10px",
    "top": "150px",
    "width": "183.933px"
   },
   "toc_section_display": true,
   "toc_window_display": false
  }
 },
 "nbformat": 4,
 "nbformat_minor": 1
}
