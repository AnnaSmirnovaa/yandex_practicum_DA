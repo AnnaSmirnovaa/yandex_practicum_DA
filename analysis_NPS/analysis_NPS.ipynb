{
 "cells": [
  {
   "cell_type": "markdown",
   "id": "78905b4d",
   "metadata": {
    "tags": [
     "aa81075c-062f-4de0-b5fe-14c73dc7468e"
    ]
   },
   "source": [
    "# Анализ уровня потребительской лояльности"
   ]
  },
  {
   "cell_type": "markdown",
   "id": "88e0b3da",
   "metadata": {},
   "source": [
    "Описание проекта\n",
    "\n",
    "Заказчик исследования — большая телекоммуникационная компания, которая оказывает услуги на территории всего СНГ. \n",
    "Компании требуется  определить текущий уровень потребительской лояльности, или NPS (от англ. Net Promoter Score), среди клиентов из России.\n",
    "Компания провела опрос, клиентам задавали классический вопрос: «Оцените по шкале от 1 до 10 вероятность того, что вы порекомендуете компанию друзьям и знакомым».\n",
    "\n",
    "\n",
    "Наша задача подготовить дашборд с итогами опроса. Данные выгружены  в SQLite.\n",
    "\n",
    "\n",
    "Резултаты опроса разделены на категории:\n",
    "- 9-10 баллов — «cторонники» (англ. promoters);\n",
    "- 7-8 баллов — «нейтралы» (англ. passives);\n",
    "- 0-6 баллов — «критики» (англ. detractors).\n",
    "\n"
   ]
  },
  {
   "cell_type": "markdown",
   "id": "2308d6d7",
   "metadata": {},
   "source": [
    "### Загрузим данные."
   ]
  },
  {
   "cell_type": "markdown",
   "id": "9b17f860",
   "metadata": {},
   "source": [
    "#### Импортируем библиотеки."
   ]
  },
  {
   "cell_type": "code",
   "execution_count": 15,
   "id": "df9baad7",
   "metadata": {},
   "outputs": [],
   "source": [
    "import pandas as pd\n",
    "import numpy as np\n",
    "import os\n",
    "from sqlalchemy import create_engine"
   ]
  },
  {
   "cell_type": "markdown",
   "id": "c81c908b",
   "metadata": {},
   "source": [
    "#### Подключимся к базе данных и выгрузим необходимые данные."
   ]
  },
  {
   "cell_type": "code",
   "execution_count": 6,
   "id": "b2fb4ed5",
   "metadata": {},
   "outputs": [],
   "source": [
    "# путь к БД \n",
    "path_to_db_local = 'telecomm_csi.db'\n",
    "\n",
    "# итоговый путь к БД\n",
    "path_to_db = None\n",
    "\n",
    "# если путь на  компьютере ведёт к БД, то он становится итоговым\n",
    "if os.path.exists(path_to_db_local):\n",
    "    path_to_db = path_to_db_local\n",
    "\n",
    "elif os.path.exists(path_to_db_platform):\n",
    "    path_to_db = path_to_db_platform\n",
    "# иначе выводится сообщение о том, что файл не найден\n",
    "else:\n",
    "    raise Exception('Файл с базой данных SQLite не найден!')\n",
    "\n",
    "# если итоговый путь не пустой\n",
    "if path_to_db:\n",
    "    # то создаём подключение к базе\n",
    "    engine = create_engine(f'sqlite:///{path_to_db}', echo=False)  "
   ]
  },
  {
   "cell_type": "code",
   "execution_count": 17,
   "id": "12caca56",
   "metadata": {},
   "outputs": [],
   "source": [
    "query = \"\"\"\n",
    "WITH\n",
    "u AS (SELECT *,\n",
    "          CASE \n",
    "            WHEN lt_day<=365 THEN 'new'\n",
    "            WHEN lt_day>365 THEN 'old'\n",
    "            END as is_new,\n",
    "            \n",
    "          CASE\n",
    "            WHEN nps_score <= 6 THEN 'detractors'\n",
    "            WHEN nps_score >= 7 AND nps_score <= 8 THEN 'passives'\n",
    "            WHEN nps_score >=9 THEN 'promoters'\n",
    "            END as nps_group,\n",
    "          CASE\n",
    "            WHEN gender_segment=1 THEN 'female'\n",
    "            WHEN gender_segment=0 THEN 'male'\n",
    "            END as gender_segment_gender\n",
    "      FROM user)\n",
    "    \n",
    "SELECT user_id,\n",
    "       lt_day,\n",
    "       is_new,\n",
    "       age,\n",
    "       gender_segment_gender AS gender_segment,\n",
    "       os_name,\n",
    "       cpe_type_name,\n",
    "       country,\n",
    "       city,\n",
    "       SUBSTRING(a_g.title, 4) AS age_segment,\n",
    "       SUBSTRING( t_g.title, 4) AS traffic_segment,\n",
    "       SUBSTRING( l_g.title, 4) AS lifetime_segment,\n",
    "       nps_score,\n",
    "       nps_group\n",
    "       \n",
    "FROM u JOIN location AS l ON u.location_id = l.location_id\n",
    "       JOIN age_segment AS a_g ON u.age_gr_id = a_g.age_gr_id\n",
    "       JOIN traffic_segment AS t_g ON u.tr_gr_id = t_g.tr_gr_id\n",
    "       JOIN lifetime_segment AS l_g ON u.lt_gr_id = l_g.lt_gr_id;\n",
    "\"\"\""
   ]
  },
  {
   "cell_type": "code",
   "execution_count": 18,
   "id": "06f903ee",
   "metadata": {},
   "outputs": [],
   "source": [
    "df = pd.read_sql(query, engine) "
   ]
  },
  {
   "cell_type": "markdown",
   "id": "dce2cd61",
   "metadata": {},
   "source": [
    "#### Сохраним данные в формате csv для дальнейшей работы в Tableau Public."
   ]
  },
  {
   "cell_type": "code",
   "execution_count": 19,
   "id": "dcfcb616",
   "metadata": {},
   "outputs": [],
   "source": [
    "df.to_csv('telecomm_csi_tableau.csv', index=False)"
   ]
  },
  {
   "cell_type": "markdown",
   "id": "2eb7717c",
   "metadata": {},
   "source": [
    "###  Ссылка на дашборд на сайте Tableau Public:"
   ]
  },
  {
   "cell_type": "markdown",
   "id": "4fee2252",
   "metadata": {},
   "source": [
    "Дашборд: <https://public.tableau.com/app/profile/anna6845/viz/NPSproject/NPS_1?publish=yes>"
   ]
  },
  {
   "cell_type": "markdown",
   "id": "ad52f2e9",
   "metadata": {},
   "source": [
    "### Ссылку на pdf-файл с презентацией:"
   ]
  },
  {
   "cell_type": "markdown",
   "id": "2b8f0241",
   "metadata": {},
   "source": [
    "Презентация: <https://disk.yandex.ru/i/ayPkXKNt1Lvwww>"
   ]
  }
 ],
 "metadata": {
  "ExecuteTimeLog": [
   {
    "duration": 752,
    "start_time": "2021-10-03T17:40:52.731Z"
   },
   {
    "duration": 20,
    "start_time": "2021-10-03T17:40:53.486Z"
   },
   {
    "duration": 4,
    "start_time": "2021-10-03T17:41:04.638Z"
   },
   {
    "duration": 461,
    "start_time": "2021-10-03T17:41:04.912Z"
   },
   {
    "duration": 284,
    "start_time": "2021-10-03T17:41:05.376Z"
   },
   {
    "duration": 574,
    "start_time": "2021-10-06T07:55:05.029Z"
   },
   {
    "duration": 6,
    "start_time": "2021-10-06T07:55:05.605Z"
   },
   {
    "duration": 3,
    "start_time": "2021-10-06T07:55:14.685Z"
   },
   {
    "duration": 406,
    "start_time": "2021-10-06T07:55:15.522Z"
   },
   {
    "duration": 67,
    "start_time": "2021-10-06T07:55:15.929Z"
   },
   {
    "duration": 840,
    "start_time": "2021-10-07T07:54:04.647Z"
   },
   {
    "duration": 10,
    "start_time": "2021-10-07T07:54:05.490Z"
   },
   {
    "duration": 4,
    "start_time": "2021-10-07T07:54:05.544Z"
   },
   {
    "duration": 391,
    "start_time": "2021-10-07T07:54:06.237Z"
   },
   {
    "duration": 293,
    "start_time": "2021-10-07T07:54:06.654Z"
   },
   {
    "duration": 535,
    "start_time": "2022-10-11T06:17:06.086Z"
   },
   {
    "duration": 19,
    "start_time": "2022-10-11T06:17:06.623Z"
   },
   {
    "duration": 2,
    "start_time": "2022-10-11T06:17:06.644Z"
   },
   {
    "duration": 588,
    "start_time": "2022-10-11T06:17:06.648Z"
   },
   {
    "duration": 91,
    "start_time": "2022-10-11T06:17:07.237Z"
   },
   {
    "duration": 520,
    "start_time": "2022-10-11T06:17:23.390Z"
   },
   {
    "duration": 3,
    "start_time": "2022-10-11T06:41:28.495Z"
   },
   {
    "duration": 4381,
    "start_time": "2022-10-11T06:41:31.884Z"
   },
   {
    "duration": 3,
    "start_time": "2022-10-11T06:42:32.879Z"
   },
   {
    "duration": 556,
    "start_time": "2022-10-11T06:42:33.329Z"
   },
   {
    "duration": 3,
    "start_time": "2022-10-11T06:43:31.832Z"
   },
   {
    "duration": 555,
    "start_time": "2022-10-11T06:43:32.328Z"
   },
   {
    "duration": 3,
    "start_time": "2022-10-11T06:54:10.423Z"
   },
   {
    "duration": 3729,
    "start_time": "2022-10-11T06:54:11.574Z"
   },
   {
    "duration": 3,
    "start_time": "2022-10-11T06:59:39.257Z"
   },
   {
    "duration": 483,
    "start_time": "2022-10-11T06:59:43.018Z"
   },
   {
    "duration": 3,
    "start_time": "2022-10-11T07:00:08.221Z"
   },
   {
    "duration": 494,
    "start_time": "2022-10-11T07:00:12.001Z"
   },
   {
    "duration": 3,
    "start_time": "2022-10-11T07:01:01.315Z"
   },
   {
    "duration": 3,
    "start_time": "2022-10-11T07:01:02.455Z"
   },
   {
    "duration": 3,
    "start_time": "2022-10-11T07:01:04.789Z"
   },
   {
    "duration": 573,
    "start_time": "2022-10-11T07:01:06.736Z"
   },
   {
    "duration": 3,
    "start_time": "2022-10-11T07:01:29.284Z"
   },
   {
    "duration": 2051,
    "start_time": "2022-10-11T07:01:31.509Z"
   },
   {
    "duration": 2,
    "start_time": "2022-10-11T07:02:07.302Z"
   },
   {
    "duration": 3741,
    "start_time": "2022-10-11T07:02:10.219Z"
   },
   {
    "duration": 2,
    "start_time": "2022-10-11T07:08:21.479Z"
   },
   {
    "duration": 2110,
    "start_time": "2022-10-11T07:08:24.583Z"
   },
   {
    "duration": 2,
    "start_time": "2022-10-11T07:08:51.425Z"
   },
   {
    "duration": 2243,
    "start_time": "2022-10-11T07:08:53.215Z"
   },
   {
    "duration": 5,
    "start_time": "2022-10-11T07:10:11.151Z"
   },
   {
    "duration": 3443,
    "start_time": "2022-10-11T07:10:12.589Z"
   },
   {
    "duration": 2,
    "start_time": "2022-10-11T07:30:10.169Z"
   },
   {
    "duration": 3709,
    "start_time": "2022-10-11T07:30:13.827Z"
   },
   {
    "duration": 139,
    "start_time": "2022-10-11T07:30:29.705Z"
   },
   {
    "duration": 2,
    "start_time": "2022-10-11T07:30:51.901Z"
   },
   {
    "duration": 609,
    "start_time": "2022-10-11T07:30:54.684Z"
   },
   {
    "duration": 11,
    "start_time": "2022-10-11T07:30:58.496Z"
   },
   {
    "duration": 2,
    "start_time": "2022-10-11T07:31:37.284Z"
   },
   {
    "duration": 617,
    "start_time": "2022-10-11T07:31:39.500Z"
   },
   {
    "duration": 9,
    "start_time": "2022-10-11T07:31:43.059Z"
   },
   {
    "duration": 153,
    "start_time": "2022-10-11T07:35:24.463Z"
   },
   {
    "duration": 46,
    "start_time": "2022-10-11T07:36:45.778Z"
   },
   {
    "duration": 51,
    "start_time": "2022-10-11T07:37:39.482Z"
   },
   {
    "duration": 2,
    "start_time": "2022-10-11T07:38:52.350Z"
   },
   {
    "duration": 547,
    "start_time": "2022-10-11T07:38:58.008Z"
   },
   {
    "duration": 2,
    "start_time": "2022-10-11T07:39:42.546Z"
   },
   {
    "duration": 3957,
    "start_time": "2022-10-11T07:39:45.526Z"
   },
   {
    "duration": 2,
    "start_time": "2022-10-11T07:40:12.027Z"
   },
   {
    "duration": 331,
    "start_time": "2022-10-11T07:40:16.062Z"
   },
   {
    "duration": 2,
    "start_time": "2022-10-11T07:40:20.949Z"
   },
   {
    "duration": 4478,
    "start_time": "2022-10-11T07:40:24.101Z"
   },
   {
    "duration": 252,
    "start_time": "2022-10-11T07:40:40.684Z"
   },
   {
    "duration": 3,
    "start_time": "2022-10-11T07:54:13.130Z"
   },
   {
    "duration": 8074,
    "start_time": "2022-10-11T07:54:16.735Z"
   },
   {
    "duration": 3,
    "start_time": "2022-10-11T08:05:43.534Z"
   },
   {
    "duration": 325,
    "start_time": "2022-10-11T08:05:46.856Z"
   },
   {
    "duration": 3,
    "start_time": "2022-10-11T08:06:51.743Z"
   },
   {
    "duration": 363,
    "start_time": "2022-10-11T08:06:55.282Z"
   },
   {
    "duration": 3,
    "start_time": "2022-10-11T08:07:02.316Z"
   },
   {
    "duration": 339,
    "start_time": "2022-10-11T08:07:05.237Z"
   },
   {
    "duration": 4,
    "start_time": "2022-10-11T08:07:46.233Z"
   },
   {
    "duration": 417,
    "start_time": "2022-10-11T08:07:49.576Z"
   },
   {
    "duration": 4,
    "start_time": "2022-10-11T08:07:59.736Z"
   },
   {
    "duration": 368,
    "start_time": "2022-10-11T08:08:02.943Z"
   },
   {
    "duration": 3,
    "start_time": "2022-10-11T08:08:09.535Z"
   },
   {
    "duration": 375,
    "start_time": "2022-10-11T08:08:11.868Z"
   },
   {
    "duration": 3,
    "start_time": "2022-10-11T08:09:03.440Z"
   },
   {
    "duration": 391,
    "start_time": "2022-10-11T08:09:06.763Z"
   },
   {
    "duration": 3,
    "start_time": "2022-10-11T08:09:41.667Z"
   },
   {
    "duration": 346,
    "start_time": "2022-10-11T08:09:44.127Z"
   },
   {
    "duration": 3,
    "start_time": "2022-10-11T08:09:52.759Z"
   },
   {
    "duration": 4569,
    "start_time": "2022-10-11T08:09:54.680Z"
   },
   {
    "duration": 3,
    "start_time": "2022-10-11T08:11:00.516Z"
   },
   {
    "duration": 4532,
    "start_time": "2022-10-11T08:11:03.528Z"
   },
   {
    "duration": 3,
    "start_time": "2022-10-11T08:11:39.991Z"
   },
   {
    "duration": 4896,
    "start_time": "2022-10-11T08:11:42.580Z"
   },
   {
    "duration": 423,
    "start_time": "2022-10-11T08:12:32.662Z"
   },
   {
    "duration": 2,
    "start_time": "2022-10-11T08:12:59.385Z"
   },
   {
    "duration": 3232,
    "start_time": "2022-10-11T08:13:02.278Z"
   },
   {
    "duration": 123,
    "start_time": "2022-10-11T08:13:07.873Z"
   },
   {
    "duration": 3,
    "start_time": "2022-10-11T08:14:13.364Z"
   },
   {
    "duration": 7,
    "start_time": "2022-10-11T08:14:26.874Z"
   },
   {
    "duration": 41,
    "start_time": "2022-10-11T08:14:28.481Z"
   },
   {
    "duration": 538,
    "start_time": "2022-10-11T08:14:33.628Z"
   },
   {
    "duration": 21,
    "start_time": "2022-10-11T08:14:34.622Z"
   },
   {
    "duration": 3,
    "start_time": "2022-10-11T08:14:37.251Z"
   },
   {
    "duration": 5431,
    "start_time": "2022-10-11T08:14:38.828Z"
   },
   {
    "duration": 452,
    "start_time": "2022-10-11T08:14:47.828Z"
   },
   {
    "duration": 3,
    "start_time": "2022-10-11T08:26:49.141Z"
   },
   {
    "duration": 4890,
    "start_time": "2022-10-11T08:26:50.837Z"
   },
   {
    "duration": 97,
    "start_time": "2022-10-11T08:27:31.185Z"
   },
   {
    "duration": 3,
    "start_time": "2022-10-11T08:28:58.313Z"
   },
   {
    "duration": 4874,
    "start_time": "2022-10-11T08:29:00.073Z"
   },
   {
    "duration": 91,
    "start_time": "2022-10-11T08:29:26.492Z"
   },
   {
    "duration": 428,
    "start_time": "2022-10-11T08:29:40.822Z"
   },
   {
    "duration": 90,
    "start_time": "2022-10-11T08:29:59.562Z"
   },
   {
    "duration": 3,
    "start_time": "2022-10-11T09:36:17.981Z"
   },
   {
    "duration": 553,
    "start_time": "2022-10-11T09:36:19.413Z"
   },
   {
    "duration": 4,
    "start_time": "2022-10-11T09:36:33.949Z"
   },
   {
    "duration": 5046,
    "start_time": "2022-10-11T09:36:35.428Z"
   },
   {
    "duration": 3,
    "start_time": "2022-10-11T09:39:32.004Z"
   },
   {
    "duration": 4866,
    "start_time": "2022-10-11T09:39:33.432Z"
   },
   {
    "duration": 2,
    "start_time": "2022-10-11T09:40:47.421Z"
   },
   {
    "duration": 4842,
    "start_time": "2022-10-11T09:40:51.773Z"
   },
   {
    "duration": 3,
    "start_time": "2022-10-11T09:41:41.449Z"
   },
   {
    "duration": 4907,
    "start_time": "2022-10-11T09:41:42.275Z"
   },
   {
    "duration": 3,
    "start_time": "2022-10-11T09:49:18.849Z"
   },
   {
    "duration": 14,
    "start_time": "2022-10-11T09:49:18.854Z"
   },
   {
    "duration": 24,
    "start_time": "2022-10-11T09:49:18.870Z"
   },
   {
    "duration": 4841,
    "start_time": "2022-10-11T09:49:18.896Z"
   },
   {
    "duration": 3769,
    "start_time": "2022-10-11T09:49:23.739Z"
   },
   {
    "duration": 494,
    "start_time": "2022-10-11T10:27:23.946Z"
   },
   {
    "duration": 3,
    "start_time": "2022-10-11T10:39:41.612Z"
   },
   {
    "duration": 4,
    "start_time": "2022-10-11T10:39:41.664Z"
   },
   {
    "duration": 7,
    "start_time": "2022-10-11T10:39:41.670Z"
   },
   {
    "duration": 482,
    "start_time": "2022-10-11T10:52:38.774Z"
   },
   {
    "duration": 23,
    "start_time": "2022-10-11T10:52:39.257Z"
   },
   {
    "duration": 3,
    "start_time": "2022-10-11T10:52:39.282Z"
   },
   {
    "duration": 5531,
    "start_time": "2022-10-11T10:52:39.287Z"
   },
   {
    "duration": 534,
    "start_time": "2022-10-11T10:52:44.820Z"
   },
   {
    "duration": 3864,
    "start_time": "2022-10-11T10:52:45.356Z"
   },
   {
    "duration": 3,
    "start_time": "2022-10-11T10:53:16.818Z"
   },
   {
    "duration": 8,
    "start_time": "2022-10-11T10:53:16.822Z"
   },
   {
    "duration": 6,
    "start_time": "2022-10-11T10:53:16.831Z"
   },
   {
    "duration": 5060,
    "start_time": "2022-10-11T10:53:16.839Z"
   },
   {
    "duration": 557,
    "start_time": "2022-10-11T10:53:21.901Z"
   },
   {
    "duration": 3806,
    "start_time": "2022-10-11T10:53:22.459Z"
   },
   {
    "duration": 104,
    "start_time": "2022-10-11T11:16:05.105Z"
   },
   {
    "duration": 59,
    "start_time": "2022-10-11T11:16:34.359Z"
   },
   {
    "duration": 75,
    "start_time": "2022-10-11T11:16:46.487Z"
   },
   {
    "duration": 3,
    "start_time": "2022-10-11T11:54:31.906Z"
   },
   {
    "duration": 3,
    "start_time": "2022-10-11T11:54:32.946Z"
   },
   {
    "duration": 3,
    "start_time": "2022-10-11T11:54:33.821Z"
   },
   {
    "duration": 5719,
    "start_time": "2022-10-11T11:54:34.751Z"
   },
   {
    "duration": 70,
    "start_time": "2022-10-11T11:54:51.803Z"
   },
   {
    "duration": 3,
    "start_time": "2022-10-11T11:55:14.190Z"
   },
   {
    "duration": 5245,
    "start_time": "2022-10-11T11:55:14.908Z"
   },
   {
    "duration": 43,
    "start_time": "2022-10-13T12:54:28.665Z"
   },
   {
    "duration": 6,
    "start_time": "2022-10-13T12:54:37.779Z"
   },
   {
    "duration": 500,
    "start_time": "2022-10-13T12:54:50.983Z"
   },
   {
    "duration": 25,
    "start_time": "2022-10-13T12:54:51.485Z"
   },
   {
    "duration": 2,
    "start_time": "2022-10-13T12:54:51.512Z"
   },
   {
    "duration": 4768,
    "start_time": "2022-10-13T12:54:51.516Z"
   },
   {
    "duration": 86,
    "start_time": "2022-10-13T12:54:56.285Z"
   },
   {
    "duration": 3276,
    "start_time": "2022-10-13T12:54:56.373Z"
   },
   {
    "duration": 95,
    "start_time": "2022-10-13T12:56:01.487Z"
   },
   {
    "duration": 70,
    "start_time": "2022-10-13T12:56:10.918Z"
   },
   {
    "duration": 93,
    "start_time": "2022-10-13T12:58:59.472Z"
   },
   {
    "duration": 77,
    "start_time": "2022-10-13T12:59:16.677Z"
   },
   {
    "duration": 79,
    "start_time": "2022-10-13T12:59:24.811Z"
   },
   {
    "duration": 93,
    "start_time": "2022-10-13T12:59:34.478Z"
   },
   {
    "duration": 496,
    "start_time": "2022-10-14T10:14:45.928Z"
   },
   {
    "duration": 19,
    "start_time": "2022-10-14T10:14:46.426Z"
   },
   {
    "duration": 2,
    "start_time": "2022-10-14T10:14:46.447Z"
   },
   {
    "duration": 4587,
    "start_time": "2022-10-14T10:14:46.451Z"
   },
   {
    "duration": 3551,
    "start_time": "2022-10-14T10:14:51.039Z"
   },
   {
    "duration": 3,
    "start_time": "2022-10-14T10:25:17.166Z"
   },
   {
    "duration": 647,
    "start_time": "2022-10-14T12:36:36.356Z"
   },
   {
    "duration": 19,
    "start_time": "2022-10-14T12:36:37.005Z"
   },
   {
    "duration": 3,
    "start_time": "2022-10-14T12:36:37.028Z"
   },
   {
    "duration": 6412,
    "start_time": "2022-10-14T12:36:37.034Z"
   },
   {
    "duration": 5852,
    "start_time": "2022-10-14T12:36:43.451Z"
   },
   {
    "duration": 1056,
    "start_time": "2022-10-14T13:07:56.665Z"
   },
   {
    "duration": 2163,
    "start_time": "2022-10-14T13:08:06.495Z"
   },
   {
    "duration": 524,
    "start_time": "2022-10-15T11:16:06.662Z"
   },
   {
    "duration": 10,
    "start_time": "2022-10-15T11:16:07.188Z"
   },
   {
    "duration": 3,
    "start_time": "2022-10-15T11:16:07.199Z"
   },
   {
    "duration": 5670,
    "start_time": "2022-10-15T11:16:16.869Z"
   },
   {
    "duration": 5656,
    "start_time": "2022-10-15T11:16:53.154Z"
   },
   {
    "duration": 5726,
    "start_time": "2022-10-15T11:18:36.873Z"
   },
   {
    "duration": 6048,
    "start_time": "2022-10-15T11:21:26.960Z"
   },
   {
    "duration": 64,
    "start_time": "2022-10-15T11:22:23.192Z"
   },
   {
    "duration": 6117,
    "start_time": "2022-10-15T11:22:27.955Z"
   },
   {
    "duration": 525,
    "start_time": "2022-10-15T17:36:40.792Z"
   },
   {
    "duration": 9,
    "start_time": "2022-10-15T17:36:41.318Z"
   },
   {
    "duration": 3,
    "start_time": "2022-10-15T17:36:41.328Z"
   },
   {
    "duration": 5976,
    "start_time": "2022-10-15T17:36:41.332Z"
   },
   {
    "duration": 4057,
    "start_time": "2022-10-15T17:36:47.309Z"
   },
   {
    "duration": 3608,
    "start_time": "2022-10-15T17:36:51.368Z"
   }
  ],
  "kernelspec": {
   "display_name": "Python 3 (ipykernel)",
   "language": "python",
   "name": "python3"
  },
  "language_info": {
   "codemirror_mode": {
    "name": "ipython",
    "version": 3
   },
   "file_extension": ".py",
   "mimetype": "text/x-python",
   "name": "python",
   "nbconvert_exporter": "python",
   "pygments_lexer": "ipython3",
   "version": "3.9.12"
  },
  "toc": {
   "base_numbering": 1,
   "nav_menu": {},
   "number_sections": true,
   "sideBar": true,
   "skip_h1_title": true,
   "title_cell": "Table of Contents",
   "title_sidebar": "Contents",
   "toc_cell": false,
   "toc_position": {},
   "toc_section_display": true,
   "toc_window_display": false
  }
 },
 "nbformat": 4,
 "nbformat_minor": 5
}
