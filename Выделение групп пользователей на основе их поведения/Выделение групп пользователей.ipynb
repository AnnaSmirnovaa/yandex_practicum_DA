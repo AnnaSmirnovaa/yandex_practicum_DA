{
 "cells": [
  {
   "cell_type": "markdown",
   "metadata": {},
   "source": [
    "# Исследовательский анализ данных и выделение групп пользователей на основе поведения клиентов мобильного приложения.\n",
    "\n",
    "# Материалы:\n",
    "Презентация : <https://disk.yandex.ru/i/yc3Pqp2kgZfVcA>\n",
    "\n",
    "\n",
    "Дашборд: <https://public.tableau.com/app/profile/anna6845/viz/Mobileapp_16844805973700/Dashboard1?publish=yes>"
   ]
  },
  {
   "cell_type": "markdown",
   "metadata": {},
   "source": [
    "Заказчик исследования — отдел маркетинга мобильного приложения \"Ненужные вещи\". В нем пользователи продают свои ненужные вещи, размещая их на доске объявлений\n",
    "Цель заказчика- с помощью сегментации пользователей улучшить приложение, а именно: \n",
    "1. Адаптировать приложение под целевую и смежные аудитории.\n",
    "2. Получить на основании сегментации гипотезы как можно улучшить приложения, основываясь на пользовательском опыте.\n",
    "\n",
    " В ходе исследования мы:\n",
    " \n",
    "- Изучим общую информацию.\n",
    "- Проведем предобработку данных.\n",
    "- Проведем исследовательский анализ данных. (Рассчитаем коэффициент удержания пользователей, конверсию в целевое действие contacts_show, время проведённое в приложении, частоту совершения событий).\n",
    "- Проведем сегментацию пользователей.\n",
    "- Проверим гипотезы.\n",
    "\n",
    "Описание данных:\n",
    "\n",
    "\n",
    "В нашем распоряжении данные, о событиях, совершенных в мобильном приложении \"Ненужные вещи\". В датасете содержатся данные пользователей, впервые совершивших действия в приложении после 7 октября 2019 года.\n",
    "\n",
    "\n",
    "Датасет **mobile_dataset.csv** содержит колонки:\n",
    "- `event.time` — время совершения\n",
    "- `event.name` — название события\n",
    "- `user.id` — идентификатор пользователя\n",
    "\n",
    "Датасет **mobile_sources.csv** содержит колонки:\n",
    "- `userId` — идентификатор пользователя\n",
    "- `source` — источник, с которого пользователь установил приложение\n",
    "\n",
    "Расшифровки событий:\n",
    "- `advert_open` — открытие карточки объявления\n",
    "- `photos_show` — просмотр фотографий в объявлении\n",
    "- `tips_show` — пользователь увидел рекомендованные объявления\n",
    "- `tips_click` — пользователь кликнул по рекомендованному объявлению\n",
    "- `contacts_show` и `show_contacts` — пользователь нажал на кнопку \"посмотреть номер телефона\" на карточке объявления\n",
    "- `contacts_call` — пользователь позвонил по номеру телефона на карточке объявления\n",
    "- `map` — пользователь открыл карту размещенных объявлений\n",
    "- `search_1` — `search_7` — разные события, связанные с поиском по сайту\n",
    "- `favorites_add` — добавление объявления в избранное"
   ]
  },
  {
   "cell_type": "markdown",
   "metadata": {},
   "source": [
    "### Загрузим данные и изучим общую информацию."
   ]
  },
  {
   "cell_type": "markdown",
   "metadata": {},
   "source": [
    "#### Импортируем библиотеки. Считаем данные из csv-файлов и сохраним в переменные  `mobile_sourсes` и `mobile_dataset` . Выведем общую информацию о файлах.\n",
    "\n"
   ]
  },
  {
   "cell_type": "code",
   "execution_count": 43,
   "metadata": {},
   "outputs": [],
   "source": [
    "import pandas as pd\n",
    "import seaborn as sns\n",
    "from matplotlib import pyplot as plt\n",
    "from plotly import graph_objects as go\n",
    "from scipy import stats as st\n",
    "import numpy as np\n",
    "import math as mth"
   ]
  },
  {
   "cell_type": "code",
   "execution_count": 44,
   "metadata": {},
   "outputs": [
    {
     "data": {
      "text/html": [
       "<div>\n",
       "<style scoped>\n",
       "    .dataframe tbody tr th:only-of-type {\n",
       "        vertical-align: middle;\n",
       "    }\n",
       "\n",
       "    .dataframe tbody tr th {\n",
       "        vertical-align: top;\n",
       "    }\n",
       "\n",
       "    .dataframe thead th {\n",
       "        text-align: right;\n",
       "    }\n",
       "</style>\n",
       "<table border=\"1\" class=\"dataframe\">\n",
       "  <thead>\n",
       "    <tr style=\"text-align: right;\">\n",
       "      <th></th>\n",
       "      <th>userId</th>\n",
       "      <th>source</th>\n",
       "    </tr>\n",
       "  </thead>\n",
       "  <tbody>\n",
       "    <tr>\n",
       "      <th>0</th>\n",
       "      <td>020292ab-89bc-4156-9acf-68bc2783f894</td>\n",
       "      <td>other</td>\n",
       "    </tr>\n",
       "    <tr>\n",
       "      <th>1</th>\n",
       "      <td>cf7eda61-9349-469f-ac27-e5b6f5ec475c</td>\n",
       "      <td>yandex</td>\n",
       "    </tr>\n",
       "    <tr>\n",
       "      <th>2</th>\n",
       "      <td>8c356c42-3ba9-4cb6-80b8-3f868d0192c3</td>\n",
       "      <td>yandex</td>\n",
       "    </tr>\n",
       "    <tr>\n",
       "      <th>3</th>\n",
       "      <td>d9b06b47-0f36-419b-bbb0-3533e582a6cb</td>\n",
       "      <td>other</td>\n",
       "    </tr>\n",
       "    <tr>\n",
       "      <th>4</th>\n",
       "      <td>f32e1e2a-3027-4693-b793-b7b3ff274439</td>\n",
       "      <td>google</td>\n",
       "    </tr>\n",
       "    <tr>\n",
       "      <th>...</th>\n",
       "      <td>...</td>\n",
       "      <td>...</td>\n",
       "    </tr>\n",
       "    <tr>\n",
       "      <th>4288</th>\n",
       "      <td>b86fe56e-f2de-4f8a-b192-cd89a37ecd41</td>\n",
       "      <td>yandex</td>\n",
       "    </tr>\n",
       "    <tr>\n",
       "      <th>4289</th>\n",
       "      <td>424c0ae1-3ea3-4f1e-a814-6bac73e48ab1</td>\n",
       "      <td>yandex</td>\n",
       "    </tr>\n",
       "    <tr>\n",
       "      <th>4290</th>\n",
       "      <td>437a4cd4-9ba9-457f-8614-d142bc48fbeb</td>\n",
       "      <td>yandex</td>\n",
       "    </tr>\n",
       "    <tr>\n",
       "      <th>4291</th>\n",
       "      <td>c10055f0-0b47-477a-869e-d391b31fdf8f</td>\n",
       "      <td>yandex</td>\n",
       "    </tr>\n",
       "    <tr>\n",
       "      <th>4292</th>\n",
       "      <td>d157bffc-264d-4464-8220-1cc0c42f43a9</td>\n",
       "      <td>google</td>\n",
       "    </tr>\n",
       "  </tbody>\n",
       "</table>\n",
       "<p>4293 rows × 2 columns</p>\n",
       "</div>"
      ],
      "text/plain": [
       "                                    userId  source\n",
       "0     020292ab-89bc-4156-9acf-68bc2783f894   other\n",
       "1     cf7eda61-9349-469f-ac27-e5b6f5ec475c  yandex\n",
       "2     8c356c42-3ba9-4cb6-80b8-3f868d0192c3  yandex\n",
       "3     d9b06b47-0f36-419b-bbb0-3533e582a6cb   other\n",
       "4     f32e1e2a-3027-4693-b793-b7b3ff274439  google\n",
       "...                                    ...     ...\n",
       "4288  b86fe56e-f2de-4f8a-b192-cd89a37ecd41  yandex\n",
       "4289  424c0ae1-3ea3-4f1e-a814-6bac73e48ab1  yandex\n",
       "4290  437a4cd4-9ba9-457f-8614-d142bc48fbeb  yandex\n",
       "4291  c10055f0-0b47-477a-869e-d391b31fdf8f  yandex\n",
       "4292  d157bffc-264d-4464-8220-1cc0c42f43a9  google\n",
       "\n",
       "[4293 rows x 2 columns]"
      ]
     },
     "execution_count": 44,
     "metadata": {},
     "output_type": "execute_result"
    }
   ],
   "source": [
    "mobile_sourсes = pd.read_csv('mobile_soures.csv')\n",
    "mobile_sourсes"
   ]
  },
  {
   "cell_type": "code",
   "execution_count": 45,
   "metadata": {},
   "outputs": [
    {
     "name": "stdout",
     "output_type": "stream",
     "text": [
      "<class 'pandas.core.frame.DataFrame'>\n",
      "RangeIndex: 4293 entries, 0 to 4292\n",
      "Data columns (total 2 columns):\n",
      " #   Column  Non-Null Count  Dtype \n",
      "---  ------  --------------  ----- \n",
      " 0   userId  4293 non-null   object\n",
      " 1   source  4293 non-null   object\n",
      "dtypes: object(2)\n",
      "memory usage: 67.2+ KB\n"
     ]
    }
   ],
   "source": [
    "mobile_sourсes.info()"
   ]
  },
  {
   "cell_type": "code",
   "execution_count": 46,
   "metadata": {},
   "outputs": [
    {
     "data": {
      "text/html": [
       "<div>\n",
       "<style scoped>\n",
       "    .dataframe tbody tr th:only-of-type {\n",
       "        vertical-align: middle;\n",
       "    }\n",
       "\n",
       "    .dataframe tbody tr th {\n",
       "        vertical-align: top;\n",
       "    }\n",
       "\n",
       "    .dataframe thead th {\n",
       "        text-align: right;\n",
       "    }\n",
       "</style>\n",
       "<table border=\"1\" class=\"dataframe\">\n",
       "  <thead>\n",
       "    <tr style=\"text-align: right;\">\n",
       "      <th></th>\n",
       "      <th>event.time</th>\n",
       "      <th>event.name</th>\n",
       "      <th>user.id</th>\n",
       "    </tr>\n",
       "  </thead>\n",
       "  <tbody>\n",
       "    <tr>\n",
       "      <th>0</th>\n",
       "      <td>2019-10-07 00:00:00.431357</td>\n",
       "      <td>advert_open</td>\n",
       "      <td>020292ab-89bc-4156-9acf-68bc2783f894</td>\n",
       "    </tr>\n",
       "    <tr>\n",
       "      <th>1</th>\n",
       "      <td>2019-10-07 00:00:01.236320</td>\n",
       "      <td>tips_show</td>\n",
       "      <td>020292ab-89bc-4156-9acf-68bc2783f894</td>\n",
       "    </tr>\n",
       "    <tr>\n",
       "      <th>2</th>\n",
       "      <td>2019-10-07 00:00:02.245341</td>\n",
       "      <td>tips_show</td>\n",
       "      <td>cf7eda61-9349-469f-ac27-e5b6f5ec475c</td>\n",
       "    </tr>\n",
       "    <tr>\n",
       "      <th>3</th>\n",
       "      <td>2019-10-07 00:00:07.039334</td>\n",
       "      <td>tips_show</td>\n",
       "      <td>020292ab-89bc-4156-9acf-68bc2783f894</td>\n",
       "    </tr>\n",
       "    <tr>\n",
       "      <th>4</th>\n",
       "      <td>2019-10-07 00:00:56.319813</td>\n",
       "      <td>advert_open</td>\n",
       "      <td>cf7eda61-9349-469f-ac27-e5b6f5ec475c</td>\n",
       "    </tr>\n",
       "    <tr>\n",
       "      <th>...</th>\n",
       "      <td>...</td>\n",
       "      <td>...</td>\n",
       "      <td>...</td>\n",
       "    </tr>\n",
       "    <tr>\n",
       "      <th>74192</th>\n",
       "      <td>2019-11-03 23:53:29.534986</td>\n",
       "      <td>tips_show</td>\n",
       "      <td>28fccdf4-7b9e-42f5-bc73-439a265f20e9</td>\n",
       "    </tr>\n",
       "    <tr>\n",
       "      <th>74193</th>\n",
       "      <td>2019-11-03 23:54:00.407086</td>\n",
       "      <td>tips_show</td>\n",
       "      <td>28fccdf4-7b9e-42f5-bc73-439a265f20e9</td>\n",
       "    </tr>\n",
       "    <tr>\n",
       "      <th>74194</th>\n",
       "      <td>2019-11-03 23:56:57.041825</td>\n",
       "      <td>search_1</td>\n",
       "      <td>20850c8f-4135-4059-b13b-198d3ac59902</td>\n",
       "    </tr>\n",
       "    <tr>\n",
       "      <th>74195</th>\n",
       "      <td>2019-11-03 23:57:06.232189</td>\n",
       "      <td>tips_show</td>\n",
       "      <td>28fccdf4-7b9e-42f5-bc73-439a265f20e9</td>\n",
       "    </tr>\n",
       "    <tr>\n",
       "      <th>74196</th>\n",
       "      <td>2019-11-03 23:58:12.532487</td>\n",
       "      <td>tips_show</td>\n",
       "      <td>28fccdf4-7b9e-42f5-bc73-439a265f20e9</td>\n",
       "    </tr>\n",
       "  </tbody>\n",
       "</table>\n",
       "<p>74197 rows × 3 columns</p>\n",
       "</div>"
      ],
      "text/plain": [
       "                       event.time   event.name  \\\n",
       "0      2019-10-07 00:00:00.431357  advert_open   \n",
       "1      2019-10-07 00:00:01.236320    tips_show   \n",
       "2      2019-10-07 00:00:02.245341    tips_show   \n",
       "3      2019-10-07 00:00:07.039334    tips_show   \n",
       "4      2019-10-07 00:00:56.319813  advert_open   \n",
       "...                           ...          ...   \n",
       "74192  2019-11-03 23:53:29.534986    tips_show   \n",
       "74193  2019-11-03 23:54:00.407086    tips_show   \n",
       "74194  2019-11-03 23:56:57.041825     search_1   \n",
       "74195  2019-11-03 23:57:06.232189    tips_show   \n",
       "74196  2019-11-03 23:58:12.532487    tips_show   \n",
       "\n",
       "                                    user.id  \n",
       "0      020292ab-89bc-4156-9acf-68bc2783f894  \n",
       "1      020292ab-89bc-4156-9acf-68bc2783f894  \n",
       "2      cf7eda61-9349-469f-ac27-e5b6f5ec475c  \n",
       "3      020292ab-89bc-4156-9acf-68bc2783f894  \n",
       "4      cf7eda61-9349-469f-ac27-e5b6f5ec475c  \n",
       "...                                     ...  \n",
       "74192  28fccdf4-7b9e-42f5-bc73-439a265f20e9  \n",
       "74193  28fccdf4-7b9e-42f5-bc73-439a265f20e9  \n",
       "74194  20850c8f-4135-4059-b13b-198d3ac59902  \n",
       "74195  28fccdf4-7b9e-42f5-bc73-439a265f20e9  \n",
       "74196  28fccdf4-7b9e-42f5-bc73-439a265f20e9  \n",
       "\n",
       "[74197 rows x 3 columns]"
      ]
     },
     "execution_count": 46,
     "metadata": {},
     "output_type": "execute_result"
    }
   ],
   "source": [
    "mobile_dataset = pd.read_csv('mobile_dataset.csv')\n",
    "mobile_dataset"
   ]
  },
  {
   "cell_type": "code",
   "execution_count": 47,
   "metadata": {},
   "outputs": [
    {
     "name": "stdout",
     "output_type": "stream",
     "text": [
      "<class 'pandas.core.frame.DataFrame'>\n",
      "RangeIndex: 74197 entries, 0 to 74196\n",
      "Data columns (total 3 columns):\n",
      " #   Column      Non-Null Count  Dtype \n",
      "---  ------      --------------  ----- \n",
      " 0   event.time  74197 non-null  object\n",
      " 1   event.name  74197 non-null  object\n",
      " 2   user.id     74197 non-null  object\n",
      "dtypes: object(3)\n",
      "memory usage: 1.7+ MB\n"
     ]
    }
   ],
   "source": [
    "mobile_dataset.info()"
   ]
  },
  {
   "cell_type": "markdown",
   "metadata": {},
   "source": [
    "В исследуемых данных представлена информация о 4293 пользователях. В таблицах встречаются столбцы с значениями типа object."
   ]
  },
  {
   "cell_type": "markdown",
   "metadata": {},
   "source": [
    "###  Предобработка данных."
   ]
  },
  {
   "cell_type": "markdown",
   "metadata": {},
   "source": [
    "#### Преобразуем данные в нужные типы.\n",
    "\n",
    "В таблице `mobile_dataset` в столбце *event.time* содержится информация о дате и времени события. Необходимо привести данные столбец к типу *datetime*."
   ]
  },
  {
   "cell_type": "code",
   "execution_count": 48,
   "metadata": {},
   "outputs": [],
   "source": [
    "mobile_dataset['event.time'] = pd.to_datetime(mobile_dataset['event.time'], format='%Y-%m-%d %H:%M:%S')"
   ]
  },
  {
   "cell_type": "markdown",
   "metadata": {},
   "source": [
    "#### Проверим данные  типы на наличие  пропусков."
   ]
  },
  {
   "cell_type": "code",
   "execution_count": 49,
   "metadata": {},
   "outputs": [
    {
     "data": {
      "text/plain": [
       "event.time    0\n",
       "event.name    0\n",
       "user.id       0\n",
       "dtype: int64"
      ]
     },
     "execution_count": 49,
     "metadata": {},
     "output_type": "execute_result"
    }
   ],
   "source": [
    "mobile_dataset.isna().sum()"
   ]
  },
  {
   "cell_type": "code",
   "execution_count": 50,
   "metadata": {},
   "outputs": [
    {
     "data": {
      "text/plain": [
       "userId    0\n",
       "source    0\n",
       "dtype: int64"
      ]
     },
     "execution_count": 50,
     "metadata": {},
     "output_type": "execute_result"
    }
   ],
   "source": [
    "mobile_sourсes.isna().sum()"
   ]
  },
  {
   "cell_type": "markdown",
   "metadata": {},
   "source": [
    "В исследуемых данный пропуски отсутствуют."
   ]
  },
  {
   "cell_type": "markdown",
   "metadata": {},
   "source": [
    "#### Проверим данные на дубликаты."
   ]
  },
  {
   "cell_type": "code",
   "execution_count": 51,
   "metadata": {},
   "outputs": [
    {
     "name": "stdout",
     "output_type": "stream",
     "text": [
      "Количество явных дубликатов в таблицу mobile_dataset: 0\n",
      "Количество явных дубликатов в таблицу mobile_sourсes: 0\n"
     ]
    }
   ],
   "source": [
    "print('Количество явных дубликатов в таблицу mobile_dataset:', mobile_dataset.duplicated().sum())\n",
    "print('Количество явных дубликатов в таблицу mobile_sourсes:', mobile_sourсes.duplicated().sum())"
   ]
  },
  {
   "cell_type": "markdown",
   "metadata": {},
   "source": [
    "В представленний данных отсутствуют явные дубликаты.\n",
    "\n",
    "В таблице **mobile_dataset** в столбце *event.name* содержится информация о наименовании события. Названия **contacts_show и show_contacts** имеют одинаковую расшифровку - пользователь нажал на кнопку \"посмотреть номер телефона\" на карточке объявления. Изменим все значения с именем **show_contacts** для удобства в дальнейшем анализе."
   ]
  },
  {
   "cell_type": "code",
   "execution_count": 52,
   "metadata": {},
   "outputs": [],
   "source": [
    "mobile_dataset = mobile_dataset.replace('show_contacts', 'contacts_show')"
   ]
  },
  {
   "cell_type": "markdown",
   "metadata": {},
   "source": [
    "#### Добавим необходимые столбцы для дальнейшего анализа"
   ]
  },
  {
   "cell_type": "code",
   "execution_count": 53,
   "metadata": {},
   "outputs": [],
   "source": [
    "#столбец с датой события\n",
    "mobile_dataset['event.date'] = mobile_dataset['event.time'].dt.date\n",
    "#столбец с информацией о часе события\n",
    "mobile_dataset['hour'] = mobile_dataset['event.time'].dt.hour\n",
    "#столбец с порядковым номером дня недели\n",
    "mobile_dataset['weekday'] = mobile_dataset['event.time'].dt.weekday"
   ]
  },
  {
   "cell_type": "markdown",
   "metadata": {},
   "source": [
    "#### Переименование столбцов.\n",
    "\n",
    "В таблице **mobile_sourсes** переименуем столбец userId, это необходимо для последующего объединения таблиц"
   ]
  },
  {
   "cell_type": "code",
   "execution_count": 54,
   "metadata": {},
   "outputs": [],
   "source": [
    "mobile_sourсes = mobile_sourсes.rename(columns = {'userId':'user.id'})"
   ]
  },
  {
   "cell_type": "markdown",
   "metadata": {},
   "source": [
    "В нашем распоряжении два датасета. Первый хранит информацию  об источнике, с которого пользователь установили приложение 4932 уникальных пользователя. Второй о 74197 событиях, которые эти пользователи совершили. В данном разделе мы проверили и выяснили, что явные дубликаты и пропуски отсутствуют. Обнаружили скрытые дубликаты в столбце с наименованием события и привели их в одинаковым расшифровкам. Привели в соответствие тип данных в столбце даты. Добавили новые столбцы с информацией о дне недели и часе совершения события, которые потребуются нам в дальнейшем анализе. Изменили название столбца, для удобства последующего объединения таблиц."
   ]
  },
  {
   "cell_type": "markdown",
   "metadata": {},
   "source": [
    "### Исследовательский анализ данных по общему поведению пользователей.\n",
    "#### Проанализируем показатель Retention Rate."
   ]
  },
  {
   "cell_type": "code",
   "execution_count": 55,
   "metadata": {},
   "outputs": [
    {
     "data": {
      "text/html": [
       "<div>\n",
       "<style scoped>\n",
       "    .dataframe tbody tr th:only-of-type {\n",
       "        vertical-align: middle;\n",
       "    }\n",
       "\n",
       "    .dataframe tbody tr th {\n",
       "        vertical-align: top;\n",
       "    }\n",
       "\n",
       "    .dataframe thead th {\n",
       "        text-align: right;\n",
       "    }\n",
       "</style>\n",
       "<table border=\"1\" class=\"dataframe\">\n",
       "  <thead>\n",
       "    <tr style=\"text-align: right;\">\n",
       "      <th></th>\n",
       "      <th>user.id</th>\n",
       "      <th>first.time</th>\n",
       "      <th>first.date</th>\n",
       "    </tr>\n",
       "  </thead>\n",
       "  <tbody>\n",
       "    <tr>\n",
       "      <th>0</th>\n",
       "      <td>0001b1d5-b74a-4cbf-aeb0-7df5947bf349</td>\n",
       "      <td>2019-10-07 13:39:45.989359</td>\n",
       "      <td>2019-10-07</td>\n",
       "    </tr>\n",
       "    <tr>\n",
       "      <th>1</th>\n",
       "      <td>00157779-810c-4498-9e05-a1e9e3cedf93</td>\n",
       "      <td>2019-10-19 21:34:33.849769</td>\n",
       "      <td>2019-10-19</td>\n",
       "    </tr>\n",
       "    <tr>\n",
       "      <th>2</th>\n",
       "      <td>00463033-5717-4bf1-91b4-09183923b9df</td>\n",
       "      <td>2019-11-01 13:54:35.385028</td>\n",
       "      <td>2019-11-01</td>\n",
       "    </tr>\n",
       "    <tr>\n",
       "      <th>3</th>\n",
       "      <td>004690c3-5a84-4bb7-a8af-e0c8f8fca64e</td>\n",
       "      <td>2019-10-18 22:14:05.555052</td>\n",
       "      <td>2019-10-18</td>\n",
       "    </tr>\n",
       "    <tr>\n",
       "      <th>4</th>\n",
       "      <td>00551e79-152e-4441-9cf7-565d7eb04090</td>\n",
       "      <td>2019-10-25 16:44:41.263364</td>\n",
       "      <td>2019-10-25</td>\n",
       "    </tr>\n",
       "    <tr>\n",
       "      <th>...</th>\n",
       "      <td>...</td>\n",
       "      <td>...</td>\n",
       "      <td>...</td>\n",
       "    </tr>\n",
       "    <tr>\n",
       "      <th>4288</th>\n",
       "      <td>ffab8d8a-30bb-424a-a3ab-0b63ebbf7b07</td>\n",
       "      <td>2019-10-13 16:11:27.414960</td>\n",
       "      <td>2019-10-13</td>\n",
       "    </tr>\n",
       "    <tr>\n",
       "      <th>4289</th>\n",
       "      <td>ffc01466-fdb1-4460-ae94-e800f52eb136</td>\n",
       "      <td>2019-10-07 20:32:49.997044</td>\n",
       "      <td>2019-10-07</td>\n",
       "    </tr>\n",
       "    <tr>\n",
       "      <th>4290</th>\n",
       "      <td>ffcf50d9-293c-4254-8243-4890b030b238</td>\n",
       "      <td>2019-10-23 11:51:35.199237</td>\n",
       "      <td>2019-10-23</td>\n",
       "    </tr>\n",
       "    <tr>\n",
       "      <th>4291</th>\n",
       "      <td>ffe68f10-e48e-470e-be9b-eeb93128ff1a</td>\n",
       "      <td>2019-10-21 16:39:33.867145</td>\n",
       "      <td>2019-10-21</td>\n",
       "    </tr>\n",
       "    <tr>\n",
       "      <th>4292</th>\n",
       "      <td>fffb9e79-b927-4dbb-9b48-7fd09b23a62b</td>\n",
       "      <td>2019-10-12 00:57:21.241896</td>\n",
       "      <td>2019-10-12</td>\n",
       "    </tr>\n",
       "  </tbody>\n",
       "</table>\n",
       "<p>4293 rows × 3 columns</p>\n",
       "</div>"
      ],
      "text/plain": [
       "                                   user.id                 first.time  \\\n",
       "0     0001b1d5-b74a-4cbf-aeb0-7df5947bf349 2019-10-07 13:39:45.989359   \n",
       "1     00157779-810c-4498-9e05-a1e9e3cedf93 2019-10-19 21:34:33.849769   \n",
       "2     00463033-5717-4bf1-91b4-09183923b9df 2019-11-01 13:54:35.385028   \n",
       "3     004690c3-5a84-4bb7-a8af-e0c8f8fca64e 2019-10-18 22:14:05.555052   \n",
       "4     00551e79-152e-4441-9cf7-565d7eb04090 2019-10-25 16:44:41.263364   \n",
       "...                                    ...                        ...   \n",
       "4288  ffab8d8a-30bb-424a-a3ab-0b63ebbf7b07 2019-10-13 16:11:27.414960   \n",
       "4289  ffc01466-fdb1-4460-ae94-e800f52eb136 2019-10-07 20:32:49.997044   \n",
       "4290  ffcf50d9-293c-4254-8243-4890b030b238 2019-10-23 11:51:35.199237   \n",
       "4291  ffe68f10-e48e-470e-be9b-eeb93128ff1a 2019-10-21 16:39:33.867145   \n",
       "4292  fffb9e79-b927-4dbb-9b48-7fd09b23a62b 2019-10-12 00:57:21.241896   \n",
       "\n",
       "      first.date  \n",
       "0     2019-10-07  \n",
       "1     2019-10-19  \n",
       "2     2019-11-01  \n",
       "3     2019-10-18  \n",
       "4     2019-10-25  \n",
       "...          ...  \n",
       "4288  2019-10-13  \n",
       "4289  2019-10-07  \n",
       "4290  2019-10-23  \n",
       "4291  2019-10-21  \n",
       "4292  2019-10-12  \n",
       "\n",
       "[4293 rows x 3 columns]"
      ]
     },
     "execution_count": 55,
     "metadata": {},
     "output_type": "execute_result"
    }
   ],
   "source": [
    "#создадим профиль пользователя id- первое посещение\n",
    "profiles = (\n",
    "             mobile_dataset\n",
    "                          .groupby('user.id')['event.time'].min()\n",
    "                          .reset_index()  \n",
    "                          .rename(columns={'event.time': 'first.time'})\n",
    "             )\n",
    "\n",
    "profiles['first.date'] = profiles['first.time'].dt.date\n",
    "\n",
    "profiles"
   ]
  },
  {
   "cell_type": "code",
   "execution_count": 56,
   "metadata": {},
   "outputs": [],
   "source": [
    "#создадим функцию для расчета удержания\n",
    "def get_retention(\n",
    "    profiles, sessions, dimensions=[]\n",
    "):\n",
    "    # собираем «сырые» данные для расчёта удержания\n",
    "    result_raw = profiles.merge(\n",
    "        sessions[['user.id', 'event.time']], on='user.id', how='left'\n",
    "    )\n",
    "    \n",
    "    # вычисляем лайфтайм каждой сессии в днях\n",
    "    result_raw['lifetime'] = (result_raw['event.time'] - result_raw['first.time']).dt.days\n",
    "    \n",
    "    # рассчитываем удержание\n",
    "    result_grouped = result_raw.pivot_table(\n",
    "        index=dimensions, columns='lifetime', values='user.id', aggfunc='nunique'\n",
    "    )\n",
    "    # вычисляем размеры когорт\n",
    "    cohort_sizes = (\n",
    "        result_raw.groupby(dimensions)\n",
    "        .agg({'user.id': 'nunique'})\n",
    "        .rename(columns={'user.id': 'cohort_size'})\n",
    "    )\n",
    "    # объединяем размеры когорт и таблицу удержания\n",
    "    result_grouped = cohort_sizes.merge(\n",
    "        result_grouped, on=dimensions, how='left'\n",
    "    )\n",
    "    # делим данные таблицы удержания на размеры когорт\n",
    "    result_grouped = result_grouped.div(result_grouped['cohort_size'], axis=0)\n",
    "    return result_raw, result_grouped\n"
   ]
  },
  {
   "cell_type": "code",
   "execution_count": 57,
   "metadata": {},
   "outputs": [],
   "source": [
    "#используем функцию  get_retention\n",
    "retention_raw, retention = get_retention(\n",
    "    profiles, mobile_dataset, dimensions=['first.date']\n",
    ")"
   ]
  },
  {
   "cell_type": "code",
   "execution_count": 58,
   "metadata": {},
   "outputs": [
    {
     "data": {
      "image/png": "[encoded data removed]",
      "text/plain": [
       "<Figure size 1440x1440 with 2 Axes>"
      ]
     },
     "metadata": {
      "needs_background": "light"
     },
     "output_type": "display_data"
    }
   ],
   "source": [
    "#построим тепловую карту\n",
    "plt.figure(figsize=(20, 20))# задаём размер графика\n",
    "sns.heatmap(\n",
    "    retention.drop(columns=['cohort_size', 0]),  # удаляем лишние столбцы\n",
    "    annot=True,  # включаем подписи\n",
    "    fmt='.1%',  # переводим значения в проценты\n",
    ")\n",
    "plt.title('Тепловая карта удержания')  # название графика\n",
    "plt.figsize=(30,30)\n",
    "plt.ylabel('Дата')\n",
    "plt.show()"
   ]
  },
  {
   "cell_type": "markdown",
   "metadata": {},
   "source": [
    "На основании графика можно наблюдать случаи, когда в один из дней приложением пользовалось мало клиентов, но на следующий день показатель удержания  снова возрастал. Однозначно можно сказать, что такая тенденция не связана с днем недели (будни/выходной). Возможно клиент терял заинтересованность в поиске, либо просто забывал о своих намерениях. Стоит рассмотреть вопрос о возможности рассылки пуш-уведомлений с напоминанием о недавнем поиске определенного товара клиентам, которые не заходили какой-то период времени в приложение или добавили товары в избранное, но не перешли на карточку просмотра номера телефона.\n",
    "Так же можно сделать вывод, что после 7-10 дней пользователи меньше заходят в приложение, возможно недели достаточно для поиска и покупки необходимых вещей, стоит стимулировать клиентов на новые поиски за счет таргет объявлений."
   ]
  },
  {
   "cell_type": "markdown",
   "metadata": {},
   "source": [
    "#### Проанализируем время, проведенное пользователем  в приложении."
   ]
  },
  {
   "cell_type": "markdown",
   "metadata": {},
   "source": [
    "##### Определим границы сессий.\n",
    "\n",
    "Одной сессией будем считать период времени, когда человек пользовался приложением без перерыва более чем на 30 минут. Обычно,если пользователь не проявляет активность в приложении более долгое время, то скорее всего он переключился на другое действия и забыл о первоначальной намерение поиска. Интервал менее 30 минут брать так же не стоит, так как пользователь мог отвлечься на мелкие задачи и снова вернуться к поиску. Так же по дефолту в гугл аналитика или Яндекс метрика тайм аут сессии 30 мин.\n"
   ]
  },
  {
   "cell_type": "markdown",
   "metadata": {},
   "source": []
  },
  {
   "cell_type": "code",
   "execution_count": 59,
   "metadata": {},
   "outputs": [
    {
     "data": {
      "text/html": [
       "<div>\n",
       "<style scoped>\n",
       "    .dataframe tbody tr th:only-of-type {\n",
       "        vertical-align: middle;\n",
       "    }\n",
       "\n",
       "    .dataframe tbody tr th {\n",
       "        vertical-align: top;\n",
       "    }\n",
       "\n",
       "    .dataframe thead th {\n",
       "        text-align: right;\n",
       "    }\n",
       "</style>\n",
       "<table border=\"1\" class=\"dataframe\">\n",
       "  <thead>\n",
       "    <tr style=\"text-align: right;\">\n",
       "      <th></th>\n",
       "      <th>event.time</th>\n",
       "      <th>event.name</th>\n",
       "      <th>user.id</th>\n",
       "      <th>event.date</th>\n",
       "      <th>hour</th>\n",
       "      <th>weekday</th>\n",
       "      <th>session</th>\n",
       "    </tr>\n",
       "  </thead>\n",
       "  <tbody>\n",
       "    <tr>\n",
       "      <th>805</th>\n",
       "      <td>2019-10-07 13:39:45.989359</td>\n",
       "      <td>tips_show</td>\n",
       "      <td>0001b1d5-b74a-4cbf-aeb0-7df5947bf349</td>\n",
       "      <td>2019-10-07</td>\n",
       "      <td>13</td>\n",
       "      <td>0</td>\n",
       "      <td>1</td>\n",
       "    </tr>\n",
       "    <tr>\n",
       "      <th>806</th>\n",
       "      <td>2019-10-07 13:40:31.052909</td>\n",
       "      <td>tips_show</td>\n",
       "      <td>0001b1d5-b74a-4cbf-aeb0-7df5947bf349</td>\n",
       "      <td>2019-10-07</td>\n",
       "      <td>13</td>\n",
       "      <td>0</td>\n",
       "      <td>1</td>\n",
       "    </tr>\n",
       "    <tr>\n",
       "      <th>809</th>\n",
       "      <td>2019-10-07 13:41:05.722489</td>\n",
       "      <td>tips_show</td>\n",
       "      <td>0001b1d5-b74a-4cbf-aeb0-7df5947bf349</td>\n",
       "      <td>2019-10-07</td>\n",
       "      <td>13</td>\n",
       "      <td>0</td>\n",
       "      <td>1</td>\n",
       "    </tr>\n",
       "    <tr>\n",
       "      <th>820</th>\n",
       "      <td>2019-10-07 13:43:20.735461</td>\n",
       "      <td>tips_show</td>\n",
       "      <td>0001b1d5-b74a-4cbf-aeb0-7df5947bf349</td>\n",
       "      <td>2019-10-07</td>\n",
       "      <td>13</td>\n",
       "      <td>0</td>\n",
       "      <td>1</td>\n",
       "    </tr>\n",
       "    <tr>\n",
       "      <th>830</th>\n",
       "      <td>2019-10-07 13:45:30.917502</td>\n",
       "      <td>tips_show</td>\n",
       "      <td>0001b1d5-b74a-4cbf-aeb0-7df5947bf349</td>\n",
       "      <td>2019-10-07</td>\n",
       "      <td>13</td>\n",
       "      <td>0</td>\n",
       "      <td>1</td>\n",
       "    </tr>\n",
       "    <tr>\n",
       "      <th>...</th>\n",
       "      <td>...</td>\n",
       "      <td>...</td>\n",
       "      <td>...</td>\n",
       "      <td>...</td>\n",
       "      <td>...</td>\n",
       "      <td>...</td>\n",
       "      <td>...</td>\n",
       "    </tr>\n",
       "    <tr>\n",
       "      <th>72584</th>\n",
       "      <td>2019-11-03 15:51:23.959572</td>\n",
       "      <td>tips_show</td>\n",
       "      <td>fffb9e79-b927-4dbb-9b48-7fd09b23a62b</td>\n",
       "      <td>2019-11-03</td>\n",
       "      <td>15</td>\n",
       "      <td>6</td>\n",
       "      <td>10368</td>\n",
       "    </tr>\n",
       "    <tr>\n",
       "      <th>72589</th>\n",
       "      <td>2019-11-03 15:51:57.899997</td>\n",
       "      <td>contacts_show</td>\n",
       "      <td>fffb9e79-b927-4dbb-9b48-7fd09b23a62b</td>\n",
       "      <td>2019-11-03</td>\n",
       "      <td>15</td>\n",
       "      <td>6</td>\n",
       "      <td>10368</td>\n",
       "    </tr>\n",
       "    <tr>\n",
       "      <th>72684</th>\n",
       "      <td>2019-11-03 16:07:40.932077</td>\n",
       "      <td>tips_show</td>\n",
       "      <td>fffb9e79-b927-4dbb-9b48-7fd09b23a62b</td>\n",
       "      <td>2019-11-03</td>\n",
       "      <td>16</td>\n",
       "      <td>6</td>\n",
       "      <td>10368</td>\n",
       "    </tr>\n",
       "    <tr>\n",
       "      <th>72688</th>\n",
       "      <td>2019-11-03 16:08:18.202734</td>\n",
       "      <td>tips_show</td>\n",
       "      <td>fffb9e79-b927-4dbb-9b48-7fd09b23a62b</td>\n",
       "      <td>2019-11-03</td>\n",
       "      <td>16</td>\n",
       "      <td>6</td>\n",
       "      <td>10368</td>\n",
       "    </tr>\n",
       "    <tr>\n",
       "      <th>72689</th>\n",
       "      <td>2019-11-03 16:08:25.388712</td>\n",
       "      <td>tips_show</td>\n",
       "      <td>fffb9e79-b927-4dbb-9b48-7fd09b23a62b</td>\n",
       "      <td>2019-11-03</td>\n",
       "      <td>16</td>\n",
       "      <td>6</td>\n",
       "      <td>10368</td>\n",
       "    </tr>\n",
       "  </tbody>\n",
       "</table>\n",
       "<p>74197 rows × 7 columns</p>\n",
       "</div>"
      ],
      "text/plain": [
       "                      event.time     event.name  \\\n",
       "805   2019-10-07 13:39:45.989359      tips_show   \n",
       "806   2019-10-07 13:40:31.052909      tips_show   \n",
       "809   2019-10-07 13:41:05.722489      tips_show   \n",
       "820   2019-10-07 13:43:20.735461      tips_show   \n",
       "830   2019-10-07 13:45:30.917502      tips_show   \n",
       "...                          ...            ...   \n",
       "72584 2019-11-03 15:51:23.959572      tips_show   \n",
       "72589 2019-11-03 15:51:57.899997  contacts_show   \n",
       "72684 2019-11-03 16:07:40.932077      tips_show   \n",
       "72688 2019-11-03 16:08:18.202734      tips_show   \n",
       "72689 2019-11-03 16:08:25.388712      tips_show   \n",
       "\n",
       "                                    user.id  event.date  hour  weekday  \\\n",
       "805    0001b1d5-b74a-4cbf-aeb0-7df5947bf349  2019-10-07    13        0   \n",
       "806    0001b1d5-b74a-4cbf-aeb0-7df5947bf349  2019-10-07    13        0   \n",
       "809    0001b1d5-b74a-4cbf-aeb0-7df5947bf349  2019-10-07    13        0   \n",
       "820    0001b1d5-b74a-4cbf-aeb0-7df5947bf349  2019-10-07    13        0   \n",
       "830    0001b1d5-b74a-4cbf-aeb0-7df5947bf349  2019-10-07    13        0   \n",
       "...                                     ...         ...   ...      ...   \n",
       "72584  fffb9e79-b927-4dbb-9b48-7fd09b23a62b  2019-11-03    15        6   \n",
       "72589  fffb9e79-b927-4dbb-9b48-7fd09b23a62b  2019-11-03    15        6   \n",
       "72684  fffb9e79-b927-4dbb-9b48-7fd09b23a62b  2019-11-03    16        6   \n",
       "72688  fffb9e79-b927-4dbb-9b48-7fd09b23a62b  2019-11-03    16        6   \n",
       "72689  fffb9e79-b927-4dbb-9b48-7fd09b23a62b  2019-11-03    16        6   \n",
       "\n",
       "       session  \n",
       "805          1  \n",
       "806          1  \n",
       "809          1  \n",
       "820          1  \n",
       "830          1  \n",
       "...        ...  \n",
       "72584    10368  \n",
       "72589    10368  \n",
       "72684    10368  \n",
       "72688    10368  \n",
       "72689    10368  \n",
       "\n",
       "[74197 rows x 7 columns]"
      ]
     },
     "execution_count": 59,
     "metadata": {},
     "output_type": "execute_result"
    }
   ],
   "source": [
    "#отсортируем данные по пользователем и времени\n",
    "df = mobile_dataset.sort_values(['user.id', 'event.time']) \n",
    "#определим разницу 30 минут для каждой группы с кумулятивной суммой\n",
    "g = (df.groupby('user.id')['event.time'].diff() > pd.Timedelta('30Min')).cumsum()\n",
    "#создадим счетчик групп\n",
    "df['session'] = df.groupby(['user.id', g], sort=False).ngroup() + 1\n",
    "df"
   ]
  },
  {
   "cell_type": "markdown",
   "metadata": {},
   "source": [
    "##### Проанализируем количество сессий."
   ]
  },
  {
   "cell_type": "code",
   "execution_count": 60,
   "metadata": {},
   "outputs": [
    {
     "name": "stdout",
     "output_type": "stream",
     "text": [
      "Количество сессий: 10368\n"
     ]
    }
   ],
   "source": [
    "print('Количество сессий:', df['session'].nunique())"
   ]
  },
  {
   "cell_type": "code",
   "execution_count": 61,
   "metadata": {},
   "outputs": [
    {
     "data": {
      "text/plain": [
       "count    4293.000000\n",
       "mean        2.415094\n",
       "std         3.536466\n",
       "min         1.000000\n",
       "25%         1.000000\n",
       "50%         1.000000\n",
       "75%         3.000000\n",
       "max        99.000000\n",
       "Name: session, dtype: float64"
      ]
     },
     "execution_count": 61,
     "metadata": {},
     "output_type": "execute_result"
    }
   ],
   "source": [
    "#сгруппируем данные по пользователям и посчитаем количество сессий у каждого\n",
    "count_sessions = df.groupby('user.id')['session'].nunique().reset_index()\n",
    "count_sessions['session'].describe()"
   ]
  },
  {
   "cell_type": "code",
   "execution_count": 62,
   "metadata": {},
   "outputs": [
    {
     "data": {
      "image/png": "[encoded data removed]",
      "text/plain": [
       "<Figure size 720x360 with 1 Axes>"
      ]
     },
     "metadata": {
      "needs_background": "light"
     },
     "output_type": "display_data"
    }
   ],
   "source": [
    "#построим гистрограмму распределения количества сессий на пользователя не учитывая выбросы\n",
    "cs = count_sessions[count_sessions['session'] < 20]\n",
    "cs.hist( bins=20,  grid=True, figsize=(10, 5));\n",
    "plt.xlim(0, 10)\n",
    "plt.title('Количество сессий на каждого пользователя');\n",
    "plt.xlabel('Количество сессий');\n",
    "plt.ylabel('Количество пользователей');"
   ]
  },
  {
   "cell_type": "markdown",
   "metadata": {},
   "source": [
    "В данных представлена информация о 10368 сессий пользователей. У больше чем 50% клиентов была всего 1 сессия за рассматриваемый период. Лишь 25% пользователей заходили в приложение 3 и более раз. Так же стоит обратить внимание на наличие аномально большого количества сессий у одного клиента, рассмотрим подробнее какие события совершали такие пользователи."
   ]
  },
  {
   "cell_type": "code",
   "execution_count": 63,
   "metadata": {},
   "outputs": [],
   "source": [
    "#соеденим таблицу mobile_dataset с данными о количестве сессий у каждого клиента\n",
    "count_sessions = mobile_dataset.merge(count_sessions, on='user.id', how='left')"
   ]
  },
  {
   "cell_type": "code",
   "execution_count": 64,
   "metadata": {
    "scrolled": false
   },
   "outputs": [
    {
     "data": {
      "image/png": "[encoded data removed]",
      "text/plain": [
       "<Figure size 648x360 with 1 Axes>"
      ]
     },
     "metadata": {
      "needs_background": "light"
     },
     "output_type": "display_data"
    }
   ],
   "source": [
    "# посмотрим события лишь у тех клиентов, у который было более 20 сессий\n",
    "(count_sessions\n",
    "     .query('session > 20')\n",
    "     .pivot_table(index='event.name', values='session', aggfunc='count')\n",
    "     .sort_values('session', ascending=False)\n",
    "     .plot(y='session', kind='barh', figsize=(9,5))\n",
    ");\n",
    "\n",
    "plt.title('Распределение событий у клиентов с аномальным количеством сессий');\n",
    "plt.ylabel('Тип события');"
   ]
  },
  {
   "cell_type": "markdown",
   "metadata": {},
   "source": [
    "Количество событий tips_show в три раза превышает другие события. Значит данные клиенты интересовались рекламными объявлениями."
   ]
  },
  {
   "cell_type": "markdown",
   "metadata": {},
   "source": [
    "##### Проанализируем длительность сессий.\n",
    "\n",
    "Найдем продолжительность каждой сессии."
   ]
  },
  {
   "cell_type": "code",
   "execution_count": 65,
   "metadata": {},
   "outputs": [
    {
     "data": {
      "text/html": [
       "<div>\n",
       "<style scoped>\n",
       "    .dataframe tbody tr th:only-of-type {\n",
       "        vertical-align: middle;\n",
       "    }\n",
       "\n",
       "    .dataframe tbody tr th {\n",
       "        vertical-align: top;\n",
       "    }\n",
       "\n",
       "    .dataframe thead th {\n",
       "        text-align: right;\n",
       "    }\n",
       "</style>\n",
       "<table border=\"1\" class=\"dataframe\">\n",
       "  <thead>\n",
       "    <tr style=\"text-align: right;\">\n",
       "      <th></th>\n",
       "      <th>session</th>\n",
       "      <th>start.time</th>\n",
       "      <th>finish.time</th>\n",
       "      <th>time_session</th>\n",
       "    </tr>\n",
       "  </thead>\n",
       "  <tbody>\n",
       "    <tr>\n",
       "      <th>0</th>\n",
       "      <td>1</td>\n",
       "      <td>2019-10-07 13:39:45.989359</td>\n",
       "      <td>2019-10-07 13:49:41.716617</td>\n",
       "      <td>595.73</td>\n",
       "    </tr>\n",
       "    <tr>\n",
       "      <th>1</th>\n",
       "      <td>2</td>\n",
       "      <td>2019-10-09 18:33:55.577963</td>\n",
       "      <td>2019-10-09 18:42:22.963948</td>\n",
       "      <td>507.39</td>\n",
       "    </tr>\n",
       "    <tr>\n",
       "      <th>2</th>\n",
       "      <td>3</td>\n",
       "      <td>2019-10-21 19:52:30.778932</td>\n",
       "      <td>2019-10-21 20:07:30.051028</td>\n",
       "      <td>899.27</td>\n",
       "    </tr>\n",
       "    <tr>\n",
       "      <th>3</th>\n",
       "      <td>4</td>\n",
       "      <td>2019-10-22 11:18:14.635436</td>\n",
       "      <td>2019-10-22 11:30:52.807203</td>\n",
       "      <td>758.17</td>\n",
       "    </tr>\n",
       "    <tr>\n",
       "      <th>4</th>\n",
       "      <td>5</td>\n",
       "      <td>2019-10-19 21:34:33.849769</td>\n",
       "      <td>2019-10-19 21:59:54.637098</td>\n",
       "      <td>1520.79</td>\n",
       "    </tr>\n",
       "    <tr>\n",
       "      <th>...</th>\n",
       "      <td>...</td>\n",
       "      <td>...</td>\n",
       "      <td>...</td>\n",
       "      <td>...</td>\n",
       "    </tr>\n",
       "    <tr>\n",
       "      <th>10363</th>\n",
       "      <td>10364</td>\n",
       "      <td>2019-11-02 01:16:48.947231</td>\n",
       "      <td>2019-11-02 01:16:48.947231</td>\n",
       "      <td>0.00</td>\n",
       "    </tr>\n",
       "    <tr>\n",
       "      <th>10364</th>\n",
       "      <td>10365</td>\n",
       "      <td>2019-11-02 18:01:27.094834</td>\n",
       "      <td>2019-11-02 18:17:41.386651</td>\n",
       "      <td>974.29</td>\n",
       "    </tr>\n",
       "    <tr>\n",
       "      <th>10365</th>\n",
       "      <td>10366</td>\n",
       "      <td>2019-11-02 19:25:53.794029</td>\n",
       "      <td>2019-11-02 19:30:50.471310</td>\n",
       "      <td>296.68</td>\n",
       "    </tr>\n",
       "    <tr>\n",
       "      <th>10366</th>\n",
       "      <td>10367</td>\n",
       "      <td>2019-11-03 14:32:55.956301</td>\n",
       "      <td>2019-11-03 14:48:44.263356</td>\n",
       "      <td>948.31</td>\n",
       "    </tr>\n",
       "    <tr>\n",
       "      <th>10367</th>\n",
       "      <td>10368</td>\n",
       "      <td>2019-11-03 15:36:01.007440</td>\n",
       "      <td>2019-11-03 16:08:25.388712</td>\n",
       "      <td>1944.38</td>\n",
       "    </tr>\n",
       "  </tbody>\n",
       "</table>\n",
       "<p>10368 rows × 4 columns</p>\n",
       "</div>"
      ],
      "text/plain": [
       "       session                 start.time                finish.time  \\\n",
       "0            1 2019-10-07 13:39:45.989359 2019-10-07 13:49:41.716617   \n",
       "1            2 2019-10-09 18:33:55.577963 2019-10-09 18:42:22.963948   \n",
       "2            3 2019-10-21 19:52:30.778932 2019-10-21 20:07:30.051028   \n",
       "3            4 2019-10-22 11:18:14.635436 2019-10-22 11:30:52.807203   \n",
       "4            5 2019-10-19 21:34:33.849769 2019-10-19 21:59:54.637098   \n",
       "...        ...                        ...                        ...   \n",
       "10363    10364 2019-11-02 01:16:48.947231 2019-11-02 01:16:48.947231   \n",
       "10364    10365 2019-11-02 18:01:27.094834 2019-11-02 18:17:41.386651   \n",
       "10365    10366 2019-11-02 19:25:53.794029 2019-11-02 19:30:50.471310   \n",
       "10366    10367 2019-11-03 14:32:55.956301 2019-11-03 14:48:44.263356   \n",
       "10367    10368 2019-11-03 15:36:01.007440 2019-11-03 16:08:25.388712   \n",
       "\n",
       "       time_session  \n",
       "0            595.73  \n",
       "1            507.39  \n",
       "2            899.27  \n",
       "3            758.17  \n",
       "4           1520.79  \n",
       "...             ...  \n",
       "10363          0.00  \n",
       "10364        974.29  \n",
       "10365        296.68  \n",
       "10366        948.31  \n",
       "10367       1944.38  \n",
       "\n",
       "[10368 rows x 4 columns]"
      ]
     },
     "execution_count": 65,
     "metadata": {},
     "output_type": "execute_result"
    }
   ],
   "source": [
    "#сгруппируем данные по сессиям и найдем время начала и конца\n",
    "duration = df.groupby('session').agg({'event.time': ['min', 'max']}).reset_index()\n",
    "duration.columns = duration.columns.map(''.join)\n",
    "duration.columns = ['session', 'start.time', 'finish.time']\n",
    "#вычислим продолжительность сессии\n",
    "duration['time_session'] = (duration['finish.time'] - duration['start.time']).dt.total_seconds().round(2)\n",
    "duration"
   ]
  },
  {
   "cell_type": "code",
   "execution_count": 66,
   "metadata": {},
   "outputs": [
    {
     "data": {
      "text/plain": [
       "count    10368.000000\n",
       "mean       772.672672\n",
       "std       1191.611306\n",
       "min          0.000000\n",
       "25%         21.137500\n",
       "50%        335.170000\n",
       "75%       1045.392500\n",
       "max      19318.300000\n",
       "Name: time_session, dtype: float64"
      ]
     },
     "execution_count": 66,
     "metadata": {},
     "output_type": "execute_result"
    }
   ],
   "source": [
    "duration['time_session'].describe()"
   ]
  },
  {
   "cell_type": "markdown",
   "metadata": {},
   "source": [
    "В среднем пользователи проводят 5-6 минут за одну сессию в приложении. Лишь 25% проводят за поиском более 17 минут. В данных есть выбросы как аномально маленькие(равные 0) так и аномально большие, равные нескольким часам. Посмотрим какие действия совершают пользователи в такие сессии."
   ]
  },
  {
   "cell_type": "code",
   "execution_count": 67,
   "metadata": {},
   "outputs": [],
   "source": [
    "#соеденим таблицу df с данными о продолжительности сессий у каждого клиента\n",
    "duration = df.merge(duration, on='session', how='left')"
   ]
  },
  {
   "cell_type": "code",
   "execution_count": 68,
   "metadata": {},
   "outputs": [
    {
     "data": {
      "image/png": "[encoded data removed]",
      "text/plain": [
       "<Figure size 648x360 with 1 Axes>"
      ]
     },
     "metadata": {
      "needs_background": "light"
     },
     "output_type": "display_data"
    }
   ],
   "source": [
    "# посмотрим события лишь у тех клиентов, у которых длительность сессии более 10 тысяч секунд\n",
    "(duration\n",
    "     .query('time_session > 10000')\n",
    "     .pivot_table(index='event.name', values='session', aggfunc='count')\n",
    "     .sort_values('session', ascending=False)\n",
    "     .plot(y='session', kind='barh', figsize=(9,5))\n",
    ");\n",
    "\n",
    "plt.title('Распределение событий у клиентов с аномально длинными сессиями');\n",
    "plt.ylabel('Тип события');"
   ]
  },
  {
   "cell_type": "markdown",
   "metadata": {},
   "source": [
    "Распределение аналогично ситуации с аномальным количеством сессий, почти в 7 раз количество событиий о выдаче рекламного объявления превышает остальные события. Посмотрим на другую аномалию, сессии с нулевой продолжительностью."
   ]
  },
  {
   "cell_type": "code",
   "execution_count": 69,
   "metadata": {},
   "outputs": [
    {
     "data": {
      "image/png": "[encoded data removed]",
      "text/plain": [
       "<Figure size 648x360 with 1 Axes>"
      ]
     },
     "metadata": {
      "needs_background": "light"
     },
     "output_type": "display_data"
    }
   ],
   "source": [
    "(duration\n",
    "     .query('time_session < 1')\n",
    "     .pivot_table(index='event.name', values='session', aggfunc='count')\n",
    "     .sort_values('session', ascending=False)\n",
    "     .plot(y='session', kind='barh', figsize=(9,5))\n",
    ");\n",
    "\n",
    "plt.title('Распределение событий у клиентов с сессиями равными нулю.');\n",
    "plt.ylabel('Тип события');"
   ]
  },
  {
   "cell_type": "markdown",
   "metadata": {},
   "source": [
    "Более 800 событий tips_show. Так же более 600 событий \"просмотр фотографии\". Возможно это технические проблемы, либо пользователь перешел в приложение через контекстную рекламу в поисковой системе, но объявление и приложение его не заинтересовало."
   ]
  },
  {
   "cell_type": "markdown",
   "metadata": {},
   "source": [
    "#### Частота совершения событий."
   ]
  },
  {
   "cell_type": "markdown",
   "metadata": {},
   "source": [
    "##### Общее количество событий по дням."
   ]
  },
  {
   "cell_type": "code",
   "execution_count": 70,
   "metadata": {},
   "outputs": [
    {
     "data": {
      "image/png": "[encoded data removed]",
      "text/plain": [
       "<Figure size 1080x504 with 1 Axes>"
      ]
     },
     "metadata": {
      "needs_background": "light"
     },
     "output_type": "display_data"
    }
   ],
   "source": [
    "events = mobile_dataset.groupby('event.date')['event.name'].count().reset_index()\n",
    "\n",
    "plt.figure(figsize = (15,7))\n",
    "sns.barplot(x='event.date', y='event.name', data=events, color='steelblue')\n",
    "plt.xticks(rotation=90)\n",
    "plt.xlabel('Дата')\n",
    "plt.ylabel('Общее количество событий')\n",
    "plt.title('Распределение событий по дням за весь период')\n",
    "plt.show()"
   ]
  },
  {
   "cell_type": "markdown",
   "metadata": {},
   "source": [
    "На протяжении всего периода события распределены равномерно. Максимальное количество событий было 23 октября 2019 года, более 3300 событий, минимально 2 ноября, количество событий не превышает двух тысяч."
   ]
  },
  {
   "cell_type": "markdown",
   "metadata": {},
   "source": [
    "##### Общее количество событий по дням недели."
   ]
  },
  {
   "cell_type": "code",
   "execution_count": 71,
   "metadata": {},
   "outputs": [
    {
     "data": {
      "image/png": "[encoded data removed]",
      "text/plain": [
       "<Figure size 1080x504 with 1 Axes>"
      ]
     },
     "metadata": {
      "needs_background": "light"
     },
     "output_type": "display_data"
    }
   ],
   "source": [
    "#сгруппируем данные по дню недели и посчитаем количество событий в каждый\n",
    "w= mobile_dataset.groupby('weekday')['event.name'].count().reset_index()\n",
    "#переименуем столбцы\n",
    "w = w.replace([0, 1, 2, 3, 4, 5, 6], ['понедельник', 'вторник', 'среда', 'четверг', 'пятница', 'суббота', 'воскресенье'])\n",
    "\n",
    "plt.figure(figsize = (15,7))\n",
    "sns.barplot(x='weekday', y='event.name', data=w, color='steelblue')\n",
    "plt.xticks(rotation='horizontal')\n",
    "plt.ylabel('Общее количество событий')\n",
    "plt.title('Распределение событий по дням недели')\n",
    "plt.show()\n",
    "\n"
   ]
  },
  {
   "cell_type": "markdown",
   "metadata": {},
   "source": []
  },
  {
   "cell_type": "markdown",
   "metadata": {},
   "source": [
    "Понедельник можно считать самым активным днем пользования приложением, общее количество событий за рассматриваемый период почти 12 000. Далее активность пользователей снижается и становится минимальной в субботу, количество событий в этот день недели не превышает 10 000."
   ]
  },
  {
   "cell_type": "markdown",
   "metadata": {},
   "source": [
    "##### Распределение событий по типам за весь период."
   ]
  },
  {
   "cell_type": "code",
   "execution_count": 72,
   "metadata": {},
   "outputs": [
    {
     "data": {
      "image/png": "[encoded data removed]",
      "text/plain": [
       "<Figure size 648x360 with 1 Axes>"
      ]
     },
     "metadata": {
      "needs_background": "light"
     },
     "output_type": "display_data"
    }
   ],
   "source": [
    "(mobile_dataset\n",
    "            .groupby('event.name')[['event.time']].count()\n",
    "            .sort_values('event.time', ascending=False)\n",
    "            .plot(y='event.time', kind='barh', figsize=(9,5))\n",
    ");\n",
    "\n",
    "plt.title('Распределение событий по типам за весь период.');\n",
    "plt.ylabel('Тип события');"
   ]
  },
  {
   "cell_type": "markdown",
   "metadata": {},
   "source": [
    "Лидирующий тип событий за рассматриваемый период является tips_show - показ рекомендованный объявлений пользователю, более 50% событий. В топ-5  так же входят просмотр фотографий- 10 000, открытие карточки объявления- около 6 тысяч, просмотр контактов- почти 5 тысяч и просмотр карты около 4000. Пользователи неохотно добавляют объявление в избранное(всего 1,1%). Из 40 тысяч показов рекомендованных объявлений всего 814 кликов по ним. Либо технически есть возможность пропустить \"клик по рекомендованному объявлению\" и сразу перейти на просмотр контакта, либо алгоритм приложения подбирает не интересные пользователю объявления."
   ]
  },
  {
   "cell_type": "markdown",
   "metadata": {},
   "source": [
    "#### Конверсия в целевое действие- просмотр контактов (contacts_show)."
   ]
  },
  {
   "cell_type": "code",
   "execution_count": 73,
   "metadata": {},
   "outputs": [],
   "source": [
    "#функция для расчета конверсии\n",
    "def conversion(date, title):\n",
    "    all_user = date['user.id'].nunique()\n",
    "    target_date = date[date['event.name'] == 'contacts_show']\n",
    "    target_user = target_date['user.id'].nunique()\n",
    "    return  print(f'Конверсия в целевое действие просмотр контактов {title} равна: {target_user / all_user:.2%}')"
   ]
  },
  {
   "cell_type": "code",
   "execution_count": 74,
   "metadata": {},
   "outputs": [
    {
     "name": "stdout",
     "output_type": "stream",
     "text": [
      "Конверсия в целевое действие просмотр контактов  равна: 22.85%\n"
     ]
    }
   ],
   "source": [
    "conversion(mobile_dataset, '')"
   ]
  },
  {
   "cell_type": "markdown",
   "metadata": {},
   "source": [
    "Выводы по общему поведению пользователей:\n",
    "\n",
    "- Пользователи не пользуются приложением на постоянной основе, показатель удержания демонстрирует не стабильное уменьшение.  Клиенты теряют заинтересованность в поиске, либо просто забывают о своих намерениях. Стоит рассмотреть вопрос о возможности рассылки пуш-уведомлений с напоминанием о недавнем поиске определенного товара клиентам, которые не заходили какой-то период времени в приложение или добавили товары в избранное, но не перешли на карточку просмотра номера телефона.\n",
    "- В среднем клиент использует приложение в течение  7-10 дней. Возможно недели достаточно для поиска и покупки необходимых вещей, стоит стимулировать клиентов на новые поиски за счет таргет объявлений.\n",
    "- У более 50% клиентов была всего 1 сессия за рассматриваемый период. Лишь 25% пользователей заходили в приложение 3 и более раз. \n",
    "- Среднее время использования приложения 5-6 минут. Лишь 25% проводят за поиском более 17 минут.\n",
    "- В данных есть сессии с нулевой продолжительностью.Более 800 событий tips_show. Так же более 600 событий \"просмотр фотографии\". Возможно пользователь перешел в приложение через контекстную рекламу в поисковой системе, но объявление и приложение его не заинтересовало. Либо это технические проблемы работы приложения, стоит проверить данную факт.\n",
    "- Понедельник можно считать самым активным днем пользования приложением, общее количество событий за рассматриваемый период почти 12 000. Далее активность пользователей снижается и становится минимальной в субботу, количество событий в этот день недели не превышает 10 000.\n",
    "- Лидирующий тип  tips_show - показ рекомендованный объявлений пользователю, более 50% событий. Так же в топ-5 входят: просмотр фотографий, открытие карточки объявления, просмотр контактов и просмотр карты. Пользователи не активно пользуются возможностью добавлять объявление в избранное. \n",
    "- Из 40 тысяч показов рекомендованных объявлений всего 814 кликов по ним. Либо технически есть возможность пропустить \"клик по рекомендованному объявлению\" и сразу перейти на просмотр контакта, либо алгоритм приложения подбирает не интересные пользователю объявления.\n",
    "- Более 22 % пользователей переходят во вкладку просмотра контактов."
   ]
  },
  {
   "cell_type": "markdown",
   "metadata": {},
   "source": []
  },
  {
   "cell_type": "markdown",
   "metadata": {},
   "source": [
    "### Сегментация пользователей\n",
    "\n",
    "Разделим наших пользователей на группы в зависимости от времени посещения мобильного приложения.\n",
    "\n",
    "Такая сегментация поможет понять, как пользователи ведут себя в разное время суток и на основе этого можно будет выделить целевую аудиторию и планировать дальнешие рекламные кампании и направления развития бизнеса.\n",
    "#### Разделим пользователей по сегментам.\n",
    "Выделим 4 группы пользователей в зависимости от времени суток:\n",
    "\n",
    "1. 07:00-13:00 Утро\n",
    "2. 13:00-19:00 День\n",
    "3. 19:00-01:00 Вечер\n",
    "4. 01:00-07:00 Ночь"
   ]
  },
  {
   "cell_type": "code",
   "execution_count": 75,
   "metadata": {},
   "outputs": [],
   "source": [
    "#функция для определения сегмента по часам сессии\n",
    "def time_of_day(hour):\n",
    "    if hour >= 7 and hour <= 12:\n",
    "        return 'утро'\n",
    "    elif hour > 12 and hour <= 18:\n",
    "        return 'день' \n",
    "    elif hour > 18 and hour <= 24:\n",
    "        return 'вечер'\n",
    "    else:\n",
    "        return 'ночь'"
   ]
  },
  {
   "cell_type": "code",
   "execution_count": 76,
   "metadata": {},
   "outputs": [],
   "source": [
    "#применим функцию time_of_day для таблицы mobile_dataset\n",
    "mobile_dataset['period'] = mobile_dataset['hour'].apply(time_of_day)"
   ]
  },
  {
   "cell_type": "markdown",
   "metadata": {},
   "source": [
    "Некоторые пользователи пользовались приложением в разное время суток, найдем для каждого сегмент, в котором у него было наибольшее количество событий."
   ]
  },
  {
   "cell_type": "code",
   "execution_count": 77,
   "metadata": {},
   "outputs": [],
   "source": [
    "#по каждому user.id найдем количество событий в каждом сегменте(period)\n",
    "segment = (\n",
    "           mobile_dataset\n",
    "               .groupby(['user.id', 'period'])['event.time'].count()\n",
    "               .reset_index()\n",
    "               .sort_values(['user.id', 'event.time'], ascending = False)\n",
    "            )"
   ]
  },
  {
   "cell_type": "code",
   "execution_count": 78,
   "metadata": {},
   "outputs": [
    {
     "data": {
      "text/html": [
       "<div>\n",
       "<style scoped>\n",
       "    .dataframe tbody tr th:only-of-type {\n",
       "        vertical-align: middle;\n",
       "    }\n",
       "\n",
       "    .dataframe tbody tr th {\n",
       "        vertical-align: top;\n",
       "    }\n",
       "\n",
       "    .dataframe thead th {\n",
       "        text-align: right;\n",
       "    }\n",
       "</style>\n",
       "<table border=\"1\" class=\"dataframe\">\n",
       "  <thead>\n",
       "    <tr style=\"text-align: right;\">\n",
       "      <th></th>\n",
       "      <th>user.id</th>\n",
       "      <th>period.day</th>\n",
       "      <th>event.time</th>\n",
       "    </tr>\n",
       "  </thead>\n",
       "  <tbody>\n",
       "    <tr>\n",
       "      <th>4292</th>\n",
       "      <td>fffb9e79-b927-4dbb-9b48-7fd09b23a62b</td>\n",
       "      <td>день</td>\n",
       "      <td>226</td>\n",
       "    </tr>\n",
       "    <tr>\n",
       "      <th>4291</th>\n",
       "      <td>ffe68f10-e48e-470e-be9b-eeb93128ff1a</td>\n",
       "      <td>утро</td>\n",
       "      <td>7</td>\n",
       "    </tr>\n",
       "    <tr>\n",
       "      <th>4290</th>\n",
       "      <td>ffcf50d9-293c-4254-8243-4890b030b238</td>\n",
       "      <td>утро</td>\n",
       "      <td>2</td>\n",
       "    </tr>\n",
       "    <tr>\n",
       "      <th>4289</th>\n",
       "      <td>ffc01466-fdb1-4460-ae94-e800f52eb136</td>\n",
       "      <td>вечер</td>\n",
       "      <td>7</td>\n",
       "    </tr>\n",
       "    <tr>\n",
       "      <th>4288</th>\n",
       "      <td>ffab8d8a-30bb-424a-a3ab-0b63ebbf7b07</td>\n",
       "      <td>день</td>\n",
       "      <td>10</td>\n",
       "    </tr>\n",
       "    <tr>\n",
       "      <th>...</th>\n",
       "      <td>...</td>\n",
       "      <td>...</td>\n",
       "      <td>...</td>\n",
       "    </tr>\n",
       "    <tr>\n",
       "      <th>4</th>\n",
       "      <td>00551e79-152e-4441-9cf7-565d7eb04090</td>\n",
       "      <td>день</td>\n",
       "      <td>7</td>\n",
       "    </tr>\n",
       "    <tr>\n",
       "      <th>3</th>\n",
       "      <td>004690c3-5a84-4bb7-a8af-e0c8f8fca64e</td>\n",
       "      <td>вечер</td>\n",
       "      <td>21</td>\n",
       "    </tr>\n",
       "    <tr>\n",
       "      <th>2</th>\n",
       "      <td>00463033-5717-4bf1-91b4-09183923b9df</td>\n",
       "      <td>день</td>\n",
       "      <td>10</td>\n",
       "    </tr>\n",
       "    <tr>\n",
       "      <th>1</th>\n",
       "      <td>00157779-810c-4498-9e05-a1e9e3cedf93</td>\n",
       "      <td>вечер</td>\n",
       "      <td>45</td>\n",
       "    </tr>\n",
       "    <tr>\n",
       "      <th>0</th>\n",
       "      <td>0001b1d5-b74a-4cbf-aeb0-7df5947bf349</td>\n",
       "      <td>вечер</td>\n",
       "      <td>14</td>\n",
       "    </tr>\n",
       "  </tbody>\n",
       "</table>\n",
       "<p>4293 rows × 3 columns</p>\n",
       "</div>"
      ],
      "text/plain": [
       "                                   user.id period.day  event.time\n",
       "4292  fffb9e79-b927-4dbb-9b48-7fd09b23a62b       день         226\n",
       "4291  ffe68f10-e48e-470e-be9b-eeb93128ff1a       утро           7\n",
       "4290  ffcf50d9-293c-4254-8243-4890b030b238       утро           2\n",
       "4289  ffc01466-fdb1-4460-ae94-e800f52eb136      вечер           7\n",
       "4288  ffab8d8a-30bb-424a-a3ab-0b63ebbf7b07       день          10\n",
       "...                                    ...        ...         ...\n",
       "4     00551e79-152e-4441-9cf7-565d7eb04090       день           7\n",
       "3     004690c3-5a84-4bb7-a8af-e0c8f8fca64e      вечер          21\n",
       "2     00463033-5717-4bf1-91b4-09183923b9df       день          10\n",
       "1     00157779-810c-4498-9e05-a1e9e3cedf93      вечер          45\n",
       "0     0001b1d5-b74a-4cbf-aeb0-7df5947bf349      вечер          14\n",
       "\n",
       "[4293 rows x 3 columns]"
      ]
     },
     "execution_count": 78,
     "metadata": {},
     "output_type": "execute_result"
    }
   ],
   "source": [
    "#для каждого пользователя найдем сегмент с максимальным количеством событий в нем\n",
    "segment = (\n",
    "           segment\n",
    "                 .groupby('user.id')\n",
    "                 .agg({'period': 'first', 'event.time': 'first'})\n",
    "                 .reset_index().sort_values('user.id', ascending = False)\n",
    "           )\n",
    "segment = segment.rename(columns={'period':'period.day'})\n",
    "segment"
   ]
  },
  {
   "cell_type": "code",
   "execution_count": 79,
   "metadata": {},
   "outputs": [
    {
     "data": {
      "text/html": [
       "<div>\n",
       "<style scoped>\n",
       "    .dataframe tbody tr th:only-of-type {\n",
       "        vertical-align: middle;\n",
       "    }\n",
       "\n",
       "    .dataframe tbody tr th {\n",
       "        vertical-align: top;\n",
       "    }\n",
       "\n",
       "    .dataframe thead th {\n",
       "        text-align: right;\n",
       "    }\n",
       "</style>\n",
       "<table border=\"1\" class=\"dataframe\">\n",
       "  <thead>\n",
       "    <tr style=\"text-align: right;\">\n",
       "      <th></th>\n",
       "      <th>period.day</th>\n",
       "      <th>user.id</th>\n",
       "    </tr>\n",
       "  </thead>\n",
       "  <tbody>\n",
       "    <tr>\n",
       "      <th>0</th>\n",
       "      <td>вечер</td>\n",
       "      <td>1339</td>\n",
       "    </tr>\n",
       "    <tr>\n",
       "      <th>1</th>\n",
       "      <td>день</td>\n",
       "      <td>1695</td>\n",
       "    </tr>\n",
       "    <tr>\n",
       "      <th>2</th>\n",
       "      <td>ночь</td>\n",
       "      <td>212</td>\n",
       "    </tr>\n",
       "    <tr>\n",
       "      <th>3</th>\n",
       "      <td>утро</td>\n",
       "      <td>1047</td>\n",
       "    </tr>\n",
       "  </tbody>\n",
       "</table>\n",
       "</div>"
      ],
      "text/plain": [
       "  period.day  user.id\n",
       "0      вечер     1339\n",
       "1       день     1695\n",
       "2       ночь      212\n",
       "3       утро     1047"
      ]
     },
     "execution_count": 79,
     "metadata": {},
     "output_type": "execute_result"
    }
   ],
   "source": [
    "#посмотрим сколько в каждом периоде получилось уникальных пользователей\n",
    "segment.groupby('period.day')['user.id'].nunique().reset_index()"
   ]
  },
  {
   "cell_type": "markdown",
   "metadata": {},
   "source": [
    "В результате у нас получилось 4 сегмента. Максимальное количество пользователей попали в Дневной период - 1695 человек. Минимальная группа - Ночные пользователи, их 212 человек."
   ]
  },
  {
   "cell_type": "markdown",
   "metadata": {},
   "source": [
    "#### Расчет Retention rate по сегментам"
   ]
  },
  {
   "cell_type": "code",
   "execution_count": 80,
   "metadata": {},
   "outputs": [],
   "source": [
    "#Добавим столбец с сегментами в профили пользователей\n",
    "profiles = profiles.merge(segment[['user.id', 'period.day']], on='user.id', how='left')"
   ]
  },
  {
   "cell_type": "code",
   "execution_count": 81,
   "metadata": {},
   "outputs": [],
   "source": [
    "#Вызовем функцию get_retention по сегментам\n",
    "retention_raw, retention = get_retention(\n",
    "    profiles, mobile_dataset, dimensions=['period.day']\n",
    ")"
   ]
  },
  {
   "cell_type": "code",
   "execution_count": 82,
   "metadata": {},
   "outputs": [
    {
     "data": {
      "image/png": "[encoded data removed]",
      "text/plain": [
       "<Figure size 1440x504 with 2 Axes>"
      ]
     },
     "metadata": {
      "needs_background": "light"
     },
     "output_type": "display_data"
    }
   ],
   "source": [
    "#Посмотрим тепловую карту\n",
    "plt.figure(figsize=(20, 7))# задаём размер графика\n",
    "sns.heatmap(\n",
    "    retention.drop(columns=['cohort_size', 0]),  # удаляем лишние столбцы\n",
    "    annot=True,  # включаем подписи\n",
    "    fmt='.1%',  # переводим значения в проценты\n",
    ")\n",
    "plt.title('Тепловая карта удержания')  # название графика\n",
    "\n",
    "plt.show()"
   ]
  },
  {
   "cell_type": "markdown",
   "metadata": {},
   "source": [
    "Самый высокий процент удержания у вечерних пользователей, на второй день он равен 12.3%, а на 14 день использования  равен 2,5%. Удержание ночных пользователей самое низкое, уже к концу второй недели он  менее 1%. Пользователи сегмента Утро и День демонстрируют практически одинаковую динамику удержания, на второй день показатель равен 9,9% и 10.4% соответственно."
   ]
  },
  {
   "cell_type": "markdown",
   "metadata": {},
   "source": []
  },
  {
   "cell_type": "markdown",
   "metadata": {},
   "source": [
    "#### Рассчет конверсии в целевое действия для каждого сегмента."
   ]
  },
  {
   "cell_type": "code",
   "execution_count": 83,
   "metadata": {},
   "outputs": [],
   "source": [
    "#добавим столбец сегментации в таблицу mobile_dataset\n",
    "mobile_dataset = mobile_dataset.merge(segment[['user.id', 'period.day']], on='user.id', how='left')"
   ]
  },
  {
   "cell_type": "code",
   "execution_count": 84,
   "metadata": {},
   "outputs": [
    {
     "name": "stdout",
     "output_type": "stream",
     "text": [
      "Конверсия в целевое действие просмотр контактов у сегмента \"Утро\" равна: 23.59%\n",
      "Конверсия в целевое действие просмотр контактов у сегмента \"День\" равна: 26.08%\n",
      "Конверсия в целевое действие просмотр контактов у сегмента \"Вечер\" равна: 19.49%\n",
      "Конверсия в целевое действие просмотр контактов у сегмента \"Ночь\" равна: 14.62%\n"
     ]
    }
   ],
   "source": [
    "#воспользуемся функцией и рассчитаем конверсию для каждого сегмента\n",
    "conversion(mobile_dataset[mobile_dataset['period.day'] == 'утро'], 'у сегмента \"Утро\"')\n",
    "conversion(mobile_dataset[mobile_dataset['period.day'] == 'день'], 'у сегмента \"День\"')\n",
    "conversion(mobile_dataset[mobile_dataset['period.day'] == 'вечер'], 'у сегмента \"Вечер\"')\n",
    "conversion(mobile_dataset[mobile_dataset['period.day'] == 'ночь'], 'у сегмента \"Ночь\"')"
   ]
  },
  {
   "cell_type": "markdown",
   "metadata": {},
   "source": [
    "Чаще всего переходят во вкладку просмотр номера телефона дневные клиенты, их конверсия равна 26%. Ночные клиенты реже просматривают контакты, всего 14,62%, что логично, ведь на ночные звонки реже возможно получить ответ. Для таких клиентов была бы удобна функция с вохможностью отправки сообщения продавцу. На основании коэффициента удержания и корреляции можно считать Дневных клиентов - целевым сегментом."
   ]
  },
  {
   "cell_type": "markdown",
   "metadata": {},
   "source": [
    "### Проверка гипотез.\n",
    "\n",
    "Объединим таблицы mobile_dataset и mobile_sourсes."
   ]
  },
  {
   "cell_type": "code",
   "execution_count": 85,
   "metadata": {},
   "outputs": [],
   "source": [
    "information = mobile_dataset.merge(mobile_sourсes, on='user.id', how='left')"
   ]
  },
  {
   "cell_type": "markdown",
   "metadata": {},
   "source": [
    "#### Гипотеза о равенстве конверсии в просмотры контактов у пользователей пришедших из разных источников.\n",
    "\n",
    "Некоторые пользователи установили приложение по ссылке из yandex, другие — из google. \n",
    "Проверим, демонстрируют ли эти две группы  разную конверсию в просмотры контактов.\n",
    "\n",
    "Сформулируем гипотезы.\n",
    "\n",
    "**Нулевая**: Конверсиии групп Google и Yandex в просмотр контактов равны.\n",
    "\n",
    "**Альтернативная**: Конверсии групп Google и Yandex в просмотр контактов различаются.\n",
    "\n",
    "Уровень статистической значимости установим в размере 0.05."
   ]
  },
  {
   "cell_type": "code",
   "execution_count": 86,
   "metadata": {},
   "outputs": [],
   "source": [
    "#напишем функцию для посчета уникальных пользователей в каждом источнике\n",
    "def trials_successes(date, sourсe):\n",
    "    sourсes = date[date['source'] == sourсe]\n",
    "    trials = sourсes['user.id'].nunique()\n",
    "    show = sourсes[sourсes['event.name'] == 'contacts_show']\n",
    "    successes = show['user.id'].nunique()\n",
    "    return trials, successes"
   ]
  },
  {
   "cell_type": "code",
   "execution_count": 87,
   "metadata": {},
   "outputs": [],
   "source": [
    "#общее количество уникальрных пользователей и кол-во пользователей перешедших в просмотр контакта из google\n",
    "trials_google, successes_google = trials_successes(information, 'google')\n",
    "#общее количество уникальрных пользователей и кол-во пользователей перешедших в просмотр контакта из yandex\n",
    "trials_yandex, successes_yandex = trials_successes(information, 'yandex')"
   ]
  },
  {
   "cell_type": "code",
   "execution_count": 88,
   "metadata": {},
   "outputs": [
    {
     "name": "stdout",
     "output_type": "stream",
     "text": [
      "p-значение:  0.8244316027993777\n",
      "Не получилось отвергнуть нулевую гипотезу, нет оснований считать доли разными\n",
      "Средняя конверсия в просмотры контактов у пользователей, пришедших из yandex: 24.72%\n",
      "Средняя конверсия в просмотры контактов у пользователей, пришедших из google: 24.36%\n"
     ]
    }
   ],
   "source": [
    "alpha = .05 # критический уровень статистической значимости\n",
    "\n",
    "successes = np.array([successes_google, successes_yandex])\n",
    "trials = np.array([trials_google, trials_yandex])\n",
    "\n",
    "# пропорция успехов в первой группе:\n",
    "p1 = successes[0]/trials[0]\n",
    "\n",
    "# пропорция успехов во второй группе:\n",
    "p2 = successes[1]/trials[1]\n",
    "\n",
    "# пропорция успехов в комбинированном датасете:\n",
    "p_combined = (successes[0] + successes[1]) / (trials[0] + trials[1])\n",
    "\n",
    "# разница пропорций в датасетах\n",
    "difference = p1 - p2 \n",
    "\n",
    "# считаем статистику в ст.отклонениях стандартного нормального распределения\n",
    "z_value = difference / mth.sqrt(p_combined * (1 - p_combined) * (1/trials[0] + 1/trials[1]))\n",
    "\n",
    "# задаем стандартное нормальное распределение (среднее 0, ст.отклонение 1)\n",
    "distr = st.norm(0, 1) \n",
    "\n",
    "p_value = (1 - distr.cdf(abs(z_value))) * 2\n",
    "\n",
    "print('p-значение: ', p_value)\n",
    "\n",
    "if p_value < alpha:\n",
    "    print('Отвергаем нулевую гипотезу: между долями есть значимая разница')\n",
    "else:\n",
    "    print(\n",
    "        'Не получилось отвергнуть нулевую гипотезу, нет оснований считать доли разными'\n",
    "    ) \n",
    "print(f'Средняя конверсия в просмотры контактов у пользователей, пришедших из yandex: {p2:.2%}')\n",
    "print(f'Средняя конверсия в просмотры контактов у пользователей, пришедших из google: {p1:.2%}')     "
   ]
  },
  {
   "cell_type": "markdown",
   "metadata": {},
   "source": [
    "Нулевую гипотезу отвергнуть не удалось. Можно сделать вывод, что конверсии групп Google и Yandex в просмотр контактов не различаются."
   ]
  },
  {
   "cell_type": "markdown",
   "metadata": {},
   "source": [
    "#### Гипотеза о равенстве конверсии в просмотры контактов у пользователей, которые добавили объявление в избранное и нет.\n",
    "Одни пользователи сначала добавляют объявления в избранные, другие сразу переходят  на просмотр номера телефона. Проверка гипотезы: две эти группы показывают разную конверсию в просмотры контактов.\n",
    "\n",
    "\n",
    "Сформулируем гипотезы.\n",
    "\n",
    "**Нулевая**: Конверсиии групп добавляющий объявление в избранное и не добавляющих в просмотр контактов равны.\n",
    "\n",
    "**Альтернативная**: Конверсиии групп добавляющий объявление в избранное и не добавляющих в просмотр контактов различаются.\n",
    "\n",
    "Уровень статистической значимости установим в размере 0.05."
   ]
  },
  {
   "cell_type": "code",
   "execution_count": 89,
   "metadata": {},
   "outputs": [],
   "source": [
    "#сгруппируем данные по сессиям и посчитаем количество действий по каждому событию, заменим пропуски на 0\n",
    "favorites = df.pivot_table(index='session', columns='event.name', values='event.time',  aggfunc='count').fillna(0)"
   ]
  },
  {
   "cell_type": "markdown",
   "metadata": {},
   "source": [
    "Подсчитаем размеры выборок, которые нужно сравнить."
   ]
  },
  {
   "cell_type": "code",
   "execution_count": 90,
   "metadata": {},
   "outputs": [],
   "source": [
    "#общее количество сессий поиска без добавление в избранное\n",
    "trails_without_add = favorites.query('favorites_add == 0').shape[0]\n",
    "#количество сессий поиска без добавления в избранное с переходом в просмотр контакта\n",
    "successes_without_add = favorites.query('favorites_add == 0 and contacts_show > 0').shape[0]\n",
    "#общее количество сессий поиска с добавление в избранное\n",
    "trails_with_add = favorites.query('favorites_add > 0').shape[0]\n",
    "#количество сессий поиска с добавления в избранное с переходом в просмотр контакта\n",
    "successes_with_add = favorites.query('favorites_add > 0 and contacts_show > 0').shape[0]"
   ]
  },
  {
   "cell_type": "code",
   "execution_count": 91,
   "metadata": {},
   "outputs": [
    {
     "name": "stdout",
     "output_type": "stream",
     "text": [
      "p-значение:  0.00024057341373295849\n",
      "Отвергаем нулевую гипотезу: между долями есть значимая разница\n",
      "Средняя конверсия в просмотры контактов c добавлением объявления в избранное: 22.36%\n",
      "Средняя конверсия в просмотры контактов без добавлением объявления в избранное: 16.12%\n"
     ]
    }
   ],
   "source": [
    "alpha = .05 # критический уровень статистической значимости\n",
    "\n",
    "successes = np.array([successes_without_add, successes_with_add])\n",
    "trials = np.array([trails_without_add, trails_with_add])\n",
    "\n",
    "# пропорция успехов в первой группе:\n",
    "p1 = successes[0]/trials[0]\n",
    "\n",
    "# пропорция успехов во второй группе:\n",
    "p2 = successes[1]/trials[1]\n",
    "\n",
    "# пропорция успехов в комбинированном датасете:\n",
    "p_combined = (successes[0] + successes[1]) / (trials[0] + trials[1])\n",
    "\n",
    "# разница пропорций в датасетах\n",
    "difference = p1 - p2 \n",
    "\n",
    "# считаем статистику в ст.отклонениях стандартного нормального распределения\n",
    "z_value = difference / mth.sqrt(p_combined * (1 - p_combined) * (1/trials[0] + 1/trials[1]))\n",
    "\n",
    "# задаем стандартное нормальное распределение (среднее 0, ст.отклонение 1)\n",
    "distr = st.norm(0, 1) \n",
    "\n",
    "p_value = (1 - distr.cdf(abs(z_value))) * 2\n",
    "\n",
    "print('p-значение: ', p_value)\n",
    "\n",
    "if p_value < alpha:\n",
    "    print('Отвергаем нулевую гипотезу: между долями есть значимая разница')\n",
    "else:\n",
    "    print(\n",
    "        'Не получилось отвергнуть нулевую гипотезу, нет оснований считать доли разными'\n",
    "    ) \n",
    "print(f'Средняя конверсия в просмотры контактов c добавлением объявления в избранное: {p2:.2%}')\n",
    "print(f'Средняя конверсия в просмотры контактов без добавлением объявления в избранное: {p1:.2%}') "
   ]
  },
  {
   "cell_type": "markdown",
   "metadata": {},
   "source": [
    "Гипотезу о равенстве конверсиий групп добавляющий объявление в избранное и не добавляющих в просмотр контактов отвергаем.\n",
    "Средняя конверсия в просмотры контактов c добавлением объявления в избранное равна 22.36%, а без добавления 16.12%."
   ]
  },
  {
   "cell_type": "markdown",
   "metadata": {},
   "source": [
    "### Вывод.\n",
    "\n",
    "В результате исследования можно сделать вывод:\n",
    "\n",
    "1. В данных представлена информация о 4293 пользователях и о 74197 совершенных ими действиях в мобильном приложении.\n",
    "2. Пользователи пользуются приложением неравномерно. Когда в один из дней приложением пользовалось мало клиентов, но на следующий день показатель удержания снова возрастал. Однозначно можно сказать, что такая тенденция не связана с днем недели (будни/выходной). Возможно клиент терял заинтересованность в поиске, либо просто забывают о своих намерениях. Стоит рассмотреть вопрос о возможности рассылки пуш-уведомлений с напоминанием о недавнем поиске определенного товара клиентам, которые не заходили какой-то период времени в приложение или добавили товары в избранное, но не перешли на карточку просмотра номера телефона. Так же можно сделать вывод, что после 7-10 дней пользователи меньше заходят в приложение, возможно недели достаточно для поиска и покупки необходимых вещей, стоит стимулировать клиентов на новые поиски за счет таргет объявлений.\n",
    "3. В данных представлена информация о 10368 сессий пользователей. У больше чем 50% клиентов была всего 1 сессия за рассматриваемый период. Лишь 25% пользователей заходили в приложение 3 и более раз. Так же в данных есть аномально большое количества сессий у одного клиента. У таких пользователей в сессиях количество событий tips_show в три раза превышает другие события. Значит данные клиенты интересовались рекламными объявлениями.\n",
    "5. В среднем пользователи проводят 5-6 минут за одну сессию в приложении. Лишь 25% проводят за поиском более 17 минут. В данных есть выбросы как аномально маленькие(равные 0) так и аномально большие, равные нескольким часам. В таких сессиях распределение аналогично ситуации с аномальным количеством сессий, почти в 7 раз количество событий о выдаче рекламного объявления превышает остальные события. В ситуациях, где сессии с нулевой продолжительностью более 800 событий tips_show. Так же более 600 событий \"просмотр фотографии\". Возможно это технические проблемы, либо пользователь перешел в приложение через контекстную рекламу в поисковой системе, но объявление и приложение его не заинтересовало.\n",
    "8. На протяжении всего периода события распределены равномерно. Максимальное количество событий было 23 октября 2019 года, более 3300 событий, минимально 2 ноября, количество событий не превышает двух тысяч. Понедельник можно считать самым активным днем пользования приложением, общее количество событий за рассматриваемый период почти 12 000. Далее активность пользователей снижается и становится минимальной в субботу, количество событий в этот день недели не превышает 10 000.\n",
    "9. Лидирующий тип событий за рассматриваемый период является tips_show - показ рекомендованный объявлений пользователю, более 50% событий. В топ-5  так же входят просмотр фотографий- 10 000, открытие карточки объявления- около 6 тысяч, просмотр контактов- почти 5 тысяч и просмотр карты около 4000. Пользователи неохотно добавляют объявление в избранное(всего 1,1%). Из 40 тысяч показов рекомендованных объявлений всего 814 кликов по ним. Либо технически есть возможность пропустить \"клик по рекомендованному объявлению\" и сразу перейти на просмотр контакта, либо алгоритм приложения подбирает не интересные пользователю объявления.\n",
    "10. Более 22 % от общего числа пользователей переходят во вкладку просмотра контактов.\n",
    "11. В ходе исследования ма разделили наших пользователей на группы в зависимости от времени суток посещения мобильного приложения:\n",
    "- 07:00-13:00 **Утро**\n",
    "- 13:00-19:00 **День**\n",
    "- 19:00-01:00 **Вечер**\n",
    "- 01:00-07:00 **Ночь**\n",
    "\n",
    "12. В результате у нас получилось 4 сегмента. Максимальное количество пользователей попали в Дневной период - 1695 человек. Минимальная группа - Ночные пользователи, их 212 человек.\n",
    "13. Самый высокий процент удержания у вечерних пользователей, на второй день он равен 12.3%, а на 14 день использования равен 2,5%. Удержание ночных пользователей самое низкое, уже к концу второй недели он менее 1%. Пользователи сегмента Утро и День демонстрируют практически одинаковую динамику удержания, на второй день показатель равен 9,9% и 10.4% соответственно.\n",
    "14. Чаще всего переходят во вкладку просмотр номера телефона дневные клиенты, их конверсия равна 26%. Ночные клиенты реже просматривают контакты, всего 14,62%, что логично, ведь на ночные звонки реже возможно получить ответ. Для таких клиентов была бы удобна функция с возможностью отправки сообщения продавцу. На основании коэффициента удержания и корреляции можно считать Дневных клиентов - целевым сегментом.\n",
    "15. На основе пользовательского опыта по сегментам рекомендуем:\n",
    "- добавить возможность отправки продавцу сообщений, так как \"ночные\" пользователи редко просматривают контакты.\n",
    "- отправку рекламных уведомлений  усилить на \"дневных\" пользователей, так как данный сегмент является целевым.\n",
    "- в связи с низким показателем удержания  на 14 день по всем сегментам,  добавить рассылку напоминаний о последнем поиске объявления клиентам, которые так и не совершили целевое действие, через 7-10 дней после последнего действия в приложении.\n",
    "16. Мы рассмотрели гипотезы:\n",
    "- Нулевая гипотеза: Конверсии групп Google и Yandex в просмотр контактов равны.\n",
    "\n",
    "Нулевую гипотезу отвергнуть не удалось. Конверсии групп Google и Yandex в просмотр контактов не различаются.\n",
    "- Нулевая гипотеза: Конверсии групп, добавляющий объявление в избранное и не добавляющих в просмотр контактов равны.\n",
    "\n",
    "Нулевую гипотезу отвергаем.Средняя конверсия в просмотры контактов c добавлением объявления в избранное равна 22.36%, а без добавления 16.12%.\n"
   ]
  }
 ],
 "metadata": {
  "ExecuteTimeLog": [
   {
    "duration": 444,
    "start_time": "2023-05-14T18:12:07.514Z"
   },
   {
    "duration": 119,
    "start_time": "2023-05-14T18:13:28.173Z"
   },
   {
    "duration": 402,
    "start_time": "2023-05-14T18:14:23.568Z"
   },
   {
    "duration": 174,
    "start_time": "2023-05-14T18:14:51.286Z"
   },
   {
    "duration": 3,
    "start_time": "2023-05-14T18:18:40.102Z"
   },
   {
    "duration": 10,
    "start_time": "2023-05-14T18:21:46.484Z"
   },
   {
    "duration": 25,
    "start_time": "2023-05-14T18:22:06.135Z"
   },
   {
    "duration": 47,
    "start_time": "2023-05-14T18:32:29.288Z"
   },
   {
    "duration": 17,
    "start_time": "2023-05-14T18:32:36.036Z"
   },
   {
    "duration": 44,
    "start_time": "2023-05-14T18:33:00.651Z"
   },
   {
    "duration": 11,
    "start_time": "2023-05-14T18:33:03.054Z"
   },
   {
    "duration": 14,
    "start_time": "2023-05-14T18:33:09.984Z"
   },
   {
    "duration": 19,
    "start_time": "2023-05-14T18:43:04.537Z"
   },
   {
    "duration": 8,
    "start_time": "2023-05-14T18:43:30.042Z"
   },
   {
    "duration": 2,
    "start_time": "2023-05-14T18:44:58.612Z"
   },
   {
    "duration": 36,
    "start_time": "2023-05-14T18:45:55.159Z"
   },
   {
    "duration": 6,
    "start_time": "2023-05-14T18:47:10.251Z"
   },
   {
    "duration": 12,
    "start_time": "2023-05-14T19:00:45.299Z"
   },
   {
    "duration": 6,
    "start_time": "2023-05-14T19:01:42.610Z"
   },
   {
    "duration": 11,
    "start_time": "2023-05-14T19:01:50.057Z"
   },
   {
    "duration": 48,
    "start_time": "2023-05-14T19:02:40.717Z"
   },
   {
    "duration": 376,
    "start_time": "2023-05-15T05:51:39.051Z"
   },
   {
    "duration": 124,
    "start_time": "2023-05-15T05:51:39.429Z"
   },
   {
    "duration": 11,
    "start_time": "2023-05-15T05:51:39.554Z"
   },
   {
    "duration": 436,
    "start_time": "2023-05-15T05:51:39.567Z"
   },
   {
    "duration": 22,
    "start_time": "2023-05-15T05:51:40.005Z"
   },
   {
    "duration": 26,
    "start_time": "2023-05-15T05:51:40.037Z"
   },
   {
    "duration": 9,
    "start_time": "2023-05-15T05:51:40.065Z"
   },
   {
    "duration": 8,
    "start_time": "2023-05-15T05:51:40.075Z"
   },
   {
    "duration": 35,
    "start_time": "2023-05-15T05:51:40.084Z"
   },
   {
    "duration": 8,
    "start_time": "2023-05-15T05:51:40.131Z"
   },
   {
    "duration": 12,
    "start_time": "2023-05-15T05:51:50.294Z"
   },
   {
    "duration": 2360,
    "start_time": "2023-05-15T05:55:19.715Z"
   },
   {
    "duration": 3,
    "start_time": "2023-05-15T05:55:49.594Z"
   },
   {
    "duration": 153,
    "start_time": "2023-05-15T05:55:49.598Z"
   },
   {
    "duration": 10,
    "start_time": "2023-05-15T05:55:49.754Z"
   },
   {
    "duration": 748,
    "start_time": "2023-05-15T05:55:49.766Z"
   },
   {
    "duration": 24,
    "start_time": "2023-05-15T05:55:50.516Z"
   },
   {
    "duration": 27,
    "start_time": "2023-05-15T05:55:50.542Z"
   },
   {
    "duration": 10,
    "start_time": "2023-05-15T05:55:50.572Z"
   },
   {
    "duration": 11,
    "start_time": "2023-05-15T05:55:50.583Z"
   },
   {
    "duration": 48,
    "start_time": "2023-05-15T05:55:50.595Z"
   },
   {
    "duration": 5,
    "start_time": "2023-05-15T05:55:50.645Z"
   },
   {
    "duration": 15,
    "start_time": "2023-05-15T05:55:50.652Z"
   },
   {
    "duration": 10,
    "start_time": "2023-05-15T06:41:02.277Z"
   },
   {
    "duration": 17,
    "start_time": "2023-05-15T06:41:24.958Z"
   },
   {
    "duration": 18,
    "start_time": "2023-05-15T06:41:56.028Z"
   },
   {
    "duration": 7,
    "start_time": "2023-05-15T06:45:23.658Z"
   },
   {
    "duration": 31,
    "start_time": "2023-05-15T06:45:29.772Z"
   },
   {
    "duration": 408,
    "start_time": "2023-05-15T06:46:18.230Z"
   },
   {
    "duration": 381,
    "start_time": "2023-05-15T06:46:59.303Z"
   },
   {
    "duration": 6,
    "start_time": "2023-05-15T06:48:25.662Z"
   },
   {
    "duration": 33,
    "start_time": "2023-05-15T06:48:33.104Z"
   },
   {
    "duration": 19,
    "start_time": "2023-05-15T06:48:59.340Z"
   },
   {
    "duration": 4,
    "start_time": "2023-05-15T06:50:26.788Z"
   },
   {
    "duration": 97,
    "start_time": "2023-05-15T06:50:26.793Z"
   },
   {
    "duration": 10,
    "start_time": "2023-05-15T06:50:26.892Z"
   },
   {
    "duration": 270,
    "start_time": "2023-05-15T06:50:26.904Z"
   },
   {
    "duration": 20,
    "start_time": "2023-05-15T06:50:27.176Z"
   },
   {
    "duration": 65,
    "start_time": "2023-05-15T06:50:27.197Z"
   },
   {
    "duration": 21,
    "start_time": "2023-05-15T06:50:27.263Z"
   },
   {
    "duration": 17,
    "start_time": "2023-05-15T06:50:27.285Z"
   },
   {
    "duration": 71,
    "start_time": "2023-05-15T06:50:27.303Z"
   },
   {
    "duration": 71,
    "start_time": "2023-05-15T06:50:27.376Z"
   },
   {
    "duration": 29,
    "start_time": "2023-05-15T06:50:27.449Z"
   },
   {
    "duration": 70,
    "start_time": "2023-05-15T06:50:27.479Z"
   },
   {
    "duration": 17,
    "start_time": "2023-05-15T06:50:27.551Z"
   },
   {
    "duration": 24,
    "start_time": "2023-05-15T06:50:27.569Z"
   },
   {
    "duration": 28,
    "start_time": "2023-05-15T06:50:27.594Z"
   },
   {
    "duration": 24,
    "start_time": "2023-05-15T06:51:55.351Z"
   },
   {
    "duration": 3,
    "start_time": "2023-05-15T07:12:06.784Z"
   },
   {
    "duration": 221,
    "start_time": "2023-05-15T07:12:06.792Z"
   },
   {
    "duration": 20,
    "start_time": "2023-05-15T07:12:07.015Z"
   },
   {
    "duration": 452,
    "start_time": "2023-05-15T07:12:07.037Z"
   },
   {
    "duration": 45,
    "start_time": "2023-05-15T07:12:07.491Z"
   },
   {
    "duration": 48,
    "start_time": "2023-05-15T07:12:07.539Z"
   },
   {
    "duration": 31,
    "start_time": "2023-05-15T07:12:07.589Z"
   },
   {
    "duration": 49,
    "start_time": "2023-05-15T07:12:07.622Z"
   },
   {
    "duration": 50,
    "start_time": "2023-05-15T07:12:07.673Z"
   },
   {
    "duration": 22,
    "start_time": "2023-05-15T07:12:07.726Z"
   },
   {
    "duration": 51,
    "start_time": "2023-05-15T07:12:07.750Z"
   },
   {
    "duration": 109,
    "start_time": "2023-05-15T07:13:08.840Z"
   },
   {
    "duration": 25,
    "start_time": "2023-05-15T07:13:48.841Z"
   },
   {
    "duration": 24,
    "start_time": "2023-05-15T07:13:53.475Z"
   },
   {
    "duration": 25,
    "start_time": "2023-05-15T07:13:54.380Z"
   },
   {
    "duration": 36,
    "start_time": "2023-05-15T07:14:09.255Z"
   },
   {
    "duration": 69,
    "start_time": "2023-05-15T07:14:18.338Z"
   },
   {
    "duration": 102,
    "start_time": "2023-05-15T07:14:24.414Z"
   },
   {
    "duration": 33,
    "start_time": "2023-05-15T07:14:30.434Z"
   },
   {
    "duration": 47,
    "start_time": "2023-05-15T07:14:36.979Z"
   },
   {
    "duration": 3,
    "start_time": "2023-05-15T07:14:46.642Z"
   },
   {
    "duration": 132,
    "start_time": "2023-05-15T07:14:46.647Z"
   },
   {
    "duration": 9,
    "start_time": "2023-05-15T07:14:46.780Z"
   },
   {
    "duration": 325,
    "start_time": "2023-05-15T07:14:46.791Z"
   },
   {
    "duration": 26,
    "start_time": "2023-05-15T07:14:47.127Z"
   },
   {
    "duration": 60,
    "start_time": "2023-05-15T07:14:47.155Z"
   },
   {
    "duration": 62,
    "start_time": "2023-05-15T07:14:47.220Z"
   },
   {
    "duration": 9,
    "start_time": "2023-05-15T07:14:47.284Z"
   },
   {
    "duration": 42,
    "start_time": "2023-05-15T07:14:47.295Z"
   },
   {
    "duration": 8,
    "start_time": "2023-05-15T07:14:47.339Z"
   },
   {
    "duration": 39,
    "start_time": "2023-05-15T07:14:47.350Z"
   },
   {
    "duration": 127,
    "start_time": "2023-05-15T07:14:47.391Z"
   },
   {
    "duration": 24,
    "start_time": "2023-05-15T07:14:47.520Z"
   },
   {
    "duration": 55,
    "start_time": "2023-05-15T07:14:47.546Z"
   },
   {
    "duration": 14,
    "start_time": "2023-05-15T07:14:47.603Z"
   },
   {
    "duration": 72,
    "start_time": "2023-05-15T07:14:47.619Z"
   },
   {
    "duration": 6,
    "start_time": "2023-05-15T07:21:37.715Z"
   },
   {
    "duration": 84,
    "start_time": "2023-05-15T07:21:37.722Z"
   },
   {
    "duration": 35,
    "start_time": "2023-05-15T07:21:37.808Z"
   },
   {
    "duration": 442,
    "start_time": "2023-05-15T07:21:37.849Z"
   },
   {
    "duration": 45,
    "start_time": "2023-05-15T07:21:38.293Z"
   },
   {
    "duration": 34,
    "start_time": "2023-05-15T07:21:38.344Z"
   },
   {
    "duration": 25,
    "start_time": "2023-05-15T07:21:38.379Z"
   },
   {
    "duration": 33,
    "start_time": "2023-05-15T07:21:38.406Z"
   },
   {
    "duration": 39,
    "start_time": "2023-05-15T07:21:38.445Z"
   },
   {
    "duration": 6,
    "start_time": "2023-05-15T07:21:38.486Z"
   },
   {
    "duration": 21,
    "start_time": "2023-05-15T07:21:38.494Z"
   },
   {
    "duration": 116,
    "start_time": "2023-05-15T07:21:38.519Z"
   },
   {
    "duration": 3,
    "start_time": "2023-05-15T07:21:38.640Z"
   },
   {
    "duration": 34,
    "start_time": "2023-05-15T07:21:38.645Z"
   },
   {
    "duration": 9,
    "start_time": "2023-05-15T07:21:38.681Z"
   },
   {
    "duration": 5,
    "start_time": "2023-05-15T07:21:38.691Z"
   },
   {
    "duration": 411,
    "start_time": "2023-05-15T07:21:38.698Z"
   },
   {
    "duration": 118,
    "start_time": "2023-05-15T07:22:20.929Z"
   },
   {
    "duration": 14,
    "start_time": "2023-05-15T07:22:27.534Z"
   },
   {
    "duration": 20,
    "start_time": "2023-05-15T07:23:52.926Z"
   },
   {
    "duration": 53,
    "start_time": "2023-05-15T07:24:59.162Z"
   },
   {
    "duration": 18,
    "start_time": "2023-05-15T07:25:01.821Z"
   },
   {
    "duration": 15,
    "start_time": "2023-05-15T07:25:34.287Z"
   },
   {
    "duration": 113,
    "start_time": "2023-05-15T07:25:36.081Z"
   },
   {
    "duration": 21,
    "start_time": "2023-05-15T07:25:36.686Z"
   },
   {
    "duration": 21,
    "start_time": "2023-05-15T07:25:50.114Z"
   },
   {
    "duration": 3,
    "start_time": "2023-05-15T07:26:27.778Z"
   },
   {
    "duration": 90,
    "start_time": "2023-05-15T07:26:27.783Z"
   },
   {
    "duration": 11,
    "start_time": "2023-05-15T07:26:27.875Z"
   },
   {
    "duration": 445,
    "start_time": "2023-05-15T07:26:27.888Z"
   },
   {
    "duration": 27,
    "start_time": "2023-05-15T07:26:28.335Z"
   },
   {
    "duration": 35,
    "start_time": "2023-05-15T07:26:28.364Z"
   },
   {
    "duration": 37,
    "start_time": "2023-05-15T07:26:28.401Z"
   },
   {
    "duration": 18,
    "start_time": "2023-05-15T07:26:28.440Z"
   },
   {
    "duration": 37,
    "start_time": "2023-05-15T07:26:28.460Z"
   },
   {
    "duration": 9,
    "start_time": "2023-05-15T07:26:28.498Z"
   },
   {
    "duration": 45,
    "start_time": "2023-05-15T07:26:28.521Z"
   },
   {
    "duration": 79,
    "start_time": "2023-05-15T07:26:28.568Z"
   },
   {
    "duration": 9,
    "start_time": "2023-05-15T07:26:28.649Z"
   },
   {
    "duration": 12,
    "start_time": "2023-05-15T07:26:28.660Z"
   },
   {
    "duration": 13,
    "start_time": "2023-05-15T07:26:28.673Z"
   },
   {
    "duration": 20,
    "start_time": "2023-05-15T07:26:28.689Z"
   },
   {
    "duration": 104,
    "start_time": "2023-05-15T07:26:28.711Z"
   },
   {
    "duration": 32,
    "start_time": "2023-05-15T07:26:28.817Z"
   },
   {
    "duration": 107,
    "start_time": "2023-05-15T07:27:09.858Z"
   },
   {
    "duration": 64,
    "start_time": "2023-05-15T07:31:03.792Z"
   },
   {
    "duration": 14,
    "start_time": "2023-05-15T07:31:53.382Z"
   },
   {
    "duration": 123,
    "start_time": "2023-05-15T07:37:26.241Z"
   },
   {
    "duration": 22,
    "start_time": "2023-05-15T07:39:24.358Z"
   },
   {
    "duration": 21,
    "start_time": "2023-05-15T07:40:25.304Z"
   },
   {
    "duration": 77,
    "start_time": "2023-05-15T07:40:31.475Z"
   },
   {
    "duration": 105,
    "start_time": "2023-05-15T07:41:47.092Z"
   },
   {
    "duration": 105,
    "start_time": "2023-05-15T07:42:26.760Z"
   },
   {
    "duration": 2,
    "start_time": "2023-05-15T07:47:48.676Z"
   },
   {
    "duration": 79,
    "start_time": "2023-05-15T07:47:48.680Z"
   },
   {
    "duration": 13,
    "start_time": "2023-05-15T07:47:48.761Z"
   },
   {
    "duration": 493,
    "start_time": "2023-05-15T07:47:48.776Z"
   },
   {
    "duration": 18,
    "start_time": "2023-05-15T07:47:49.272Z"
   },
   {
    "duration": 202,
    "start_time": "2023-05-15T07:47:49.293Z"
   },
   {
    "duration": 43,
    "start_time": "2023-05-15T07:47:49.497Z"
   },
   {
    "duration": 20,
    "start_time": "2023-05-15T07:47:49.542Z"
   },
   {
    "duration": 37,
    "start_time": "2023-05-15T07:47:49.564Z"
   },
   {
    "duration": 7,
    "start_time": "2023-05-15T07:47:49.603Z"
   },
   {
    "duration": 46,
    "start_time": "2023-05-15T07:47:49.612Z"
   },
   {
    "duration": 56,
    "start_time": "2023-05-15T07:47:49.660Z"
   },
   {
    "duration": 15,
    "start_time": "2023-05-15T07:47:49.727Z"
   },
   {
    "duration": 10,
    "start_time": "2023-05-15T07:47:49.745Z"
   },
   {
    "duration": 7,
    "start_time": "2023-05-15T07:47:49.757Z"
   },
   {
    "duration": 12,
    "start_time": "2023-05-15T07:47:49.765Z"
   },
   {
    "duration": 77,
    "start_time": "2023-05-15T07:47:49.778Z"
   },
   {
    "duration": 17,
    "start_time": "2023-05-15T07:47:49.857Z"
   },
   {
    "duration": 66,
    "start_time": "2023-05-15T07:47:49.876Z"
   },
   {
    "duration": 14,
    "start_time": "2023-05-15T07:47:49.944Z"
   },
   {
    "duration": 85,
    "start_time": "2023-05-15T07:47:49.960Z"
   },
   {
    "duration": 24,
    "start_time": "2023-05-15T07:47:50.047Z"
   },
   {
    "duration": 101,
    "start_time": "2023-05-15T07:47:50.073Z"
   },
   {
    "duration": 40,
    "start_time": "2023-05-15T07:49:21.701Z"
   },
   {
    "duration": 3,
    "start_time": "2023-05-15T08:18:33.738Z"
   },
   {
    "duration": 54,
    "start_time": "2023-05-15T08:18:33.743Z"
   },
   {
    "duration": 12,
    "start_time": "2023-05-15T08:18:33.798Z"
   },
   {
    "duration": 432,
    "start_time": "2023-05-15T08:18:33.812Z"
   },
   {
    "duration": 17,
    "start_time": "2023-05-15T08:18:34.247Z"
   },
   {
    "duration": 46,
    "start_time": "2023-05-15T08:18:34.265Z"
   },
   {
    "duration": 43,
    "start_time": "2023-05-15T08:18:34.313Z"
   },
   {
    "duration": 16,
    "start_time": "2023-05-15T08:18:34.358Z"
   },
   {
    "duration": 60,
    "start_time": "2023-05-15T08:18:34.376Z"
   },
   {
    "duration": 10,
    "start_time": "2023-05-15T08:18:34.438Z"
   },
   {
    "duration": 33,
    "start_time": "2023-05-15T08:18:34.449Z"
   },
   {
    "duration": 78,
    "start_time": "2023-05-15T08:18:39.145Z"
   },
   {
    "duration": 27,
    "start_time": "2023-05-15T08:18:48.639Z"
   },
   {
    "duration": 0,
    "start_time": "2023-05-15T08:19:15.946Z"
   },
   {
    "duration": 7454,
    "start_time": "2023-05-15T08:19:21.342Z"
   },
   {
    "duration": 33,
    "start_time": "2023-05-15T08:19:40.076Z"
   },
   {
    "duration": 30,
    "start_time": "2023-05-15T08:20:48.256Z"
   },
   {
    "duration": 22,
    "start_time": "2023-05-15T08:21:36.869Z"
   },
   {
    "duration": 34,
    "start_time": "2023-05-15T08:22:02.114Z"
   },
   {
    "duration": 30,
    "start_time": "2023-05-15T08:23:10.124Z"
   },
   {
    "duration": 21,
    "start_time": "2023-05-15T08:25:05.229Z"
   },
   {
    "duration": 33,
    "start_time": "2023-05-15T08:39:21.748Z"
   },
   {
    "duration": 38,
    "start_time": "2023-05-15T08:42:04.556Z"
   },
   {
    "duration": 35,
    "start_time": "2023-05-15T08:43:00.073Z"
   },
   {
    "duration": 6484,
    "start_time": "2023-05-15T08:43:27.164Z"
   },
   {
    "duration": 39,
    "start_time": "2023-05-15T08:43:45.455Z"
   },
   {
    "duration": 42,
    "start_time": "2023-05-15T08:44:12.980Z"
   },
   {
    "duration": 37,
    "start_time": "2023-05-15T08:44:37.110Z"
   },
   {
    "duration": 38,
    "start_time": "2023-05-15T08:44:43.957Z"
   },
   {
    "duration": 55,
    "start_time": "2023-05-15T08:45:07.040Z"
   },
   {
    "duration": 44,
    "start_time": "2023-05-15T08:45:14.014Z"
   },
   {
    "duration": 44,
    "start_time": "2023-05-15T08:45:42.557Z"
   },
   {
    "duration": 53,
    "start_time": "2023-05-15T08:46:08.185Z"
   },
   {
    "duration": 42,
    "start_time": "2023-05-15T08:46:45.999Z"
   },
   {
    "duration": 38,
    "start_time": "2023-05-15T08:47:18.286Z"
   },
   {
    "duration": 43,
    "start_time": "2023-05-15T08:47:22.656Z"
   },
   {
    "duration": 39,
    "start_time": "2023-05-15T08:47:30.278Z"
   },
   {
    "duration": 23,
    "start_time": "2023-05-15T08:50:09.733Z"
   },
   {
    "duration": 24,
    "start_time": "2023-05-15T08:50:11.882Z"
   },
   {
    "duration": 117,
    "start_time": "2023-05-15T08:53:15.505Z"
   },
   {
    "duration": 487,
    "start_time": "2023-05-15T12:04:24.937Z"
   },
   {
    "duration": 130,
    "start_time": "2023-05-15T12:04:25.992Z"
   },
   {
    "duration": 11,
    "start_time": "2023-05-15T12:04:27.739Z"
   },
   {
    "duration": 598,
    "start_time": "2023-05-15T12:04:28.740Z"
   },
   {
    "duration": 24,
    "start_time": "2023-05-15T12:04:29.574Z"
   },
   {
    "duration": 4,
    "start_time": "2023-05-15T12:04:51.782Z"
   },
   {
    "duration": 116,
    "start_time": "2023-05-15T12:04:51.789Z"
   },
   {
    "duration": 12,
    "start_time": "2023-05-15T12:04:51.907Z"
   },
   {
    "duration": 307,
    "start_time": "2023-05-15T12:04:51.922Z"
   },
   {
    "duration": 33,
    "start_time": "2023-05-15T12:04:52.232Z"
   },
   {
    "duration": 38,
    "start_time": "2023-05-15T12:04:52.273Z"
   },
   {
    "duration": 14,
    "start_time": "2023-05-15T12:04:52.314Z"
   },
   {
    "duration": 11,
    "start_time": "2023-05-15T12:04:52.330Z"
   },
   {
    "duration": 60,
    "start_time": "2023-05-15T12:04:52.343Z"
   },
   {
    "duration": 9,
    "start_time": "2023-05-15T12:04:52.406Z"
   },
   {
    "duration": 15,
    "start_time": "2023-05-15T12:04:52.418Z"
   },
   {
    "duration": 70,
    "start_time": "2023-05-15T12:04:57.653Z"
   },
   {
    "duration": 48,
    "start_time": "2023-05-15T12:05:30.647Z"
   },
   {
    "duration": 62,
    "start_time": "2023-05-15T12:06:04.380Z"
   },
   {
    "duration": 114,
    "start_time": "2023-05-15T12:06:10.085Z"
   },
   {
    "duration": 15,
    "start_time": "2023-05-15T12:06:50.791Z"
   },
   {
    "duration": 60,
    "start_time": "2023-05-15T12:08:48.418Z"
   },
   {
    "duration": 55,
    "start_time": "2023-05-15T12:08:57.503Z"
   },
   {
    "duration": 13,
    "start_time": "2023-05-15T12:11:09.382Z"
   },
   {
    "duration": 64,
    "start_time": "2023-05-15T12:14:08.332Z"
   },
   {
    "duration": 1059,
    "start_time": "2023-05-15T12:24:36.955Z"
   },
   {
    "duration": 57,
    "start_time": "2023-05-15T12:24:38.017Z"
   },
   {
    "duration": 11,
    "start_time": "2023-05-15T12:24:38.076Z"
   },
   {
    "duration": 412,
    "start_time": "2023-05-15T12:24:38.089Z"
   },
   {
    "duration": 16,
    "start_time": "2023-05-15T12:24:38.503Z"
   },
   {
    "duration": 47,
    "start_time": "2023-05-15T12:24:38.521Z"
   },
   {
    "duration": 12,
    "start_time": "2023-05-15T12:24:38.570Z"
   },
   {
    "duration": 10,
    "start_time": "2023-05-15T12:24:38.583Z"
   },
   {
    "duration": 26,
    "start_time": "2023-05-15T12:24:38.595Z"
   },
   {
    "duration": 7,
    "start_time": "2023-05-15T12:24:38.624Z"
   },
   {
    "duration": 35,
    "start_time": "2023-05-15T12:24:38.632Z"
   },
   {
    "duration": 55,
    "start_time": "2023-05-15T12:24:38.669Z"
   },
   {
    "duration": 44,
    "start_time": "2023-05-15T12:24:38.726Z"
   },
   {
    "duration": 128,
    "start_time": "2023-05-15T12:24:38.772Z"
   },
   {
    "duration": 81,
    "start_time": "2023-05-15T12:24:38.902Z"
   },
   {
    "duration": 4801,
    "start_time": "2023-05-15T12:24:58.244Z"
   },
   {
    "duration": 110,
    "start_time": "2023-05-15T12:28:01.656Z"
   },
   {
    "duration": 4366,
    "start_time": "2023-05-15T12:28:16.095Z"
   },
   {
    "duration": 4541,
    "start_time": "2023-05-15T12:28:46.277Z"
   },
   {
    "duration": 5082,
    "start_time": "2023-05-15T12:30:35.819Z"
   },
   {
    "duration": 5488,
    "start_time": "2023-05-15T12:43:33.849Z"
   },
   {
    "duration": 284,
    "start_time": "2023-05-15T12:43:59.365Z"
   },
   {
    "duration": 3472,
    "start_time": "2023-05-15T12:44:05.485Z"
   },
   {
    "duration": 3026,
    "start_time": "2023-05-15T12:45:05.705Z"
   },
   {
    "duration": 30,
    "start_time": "2023-05-15T12:47:53.810Z"
   },
   {
    "duration": 108,
    "start_time": "2023-05-15T12:47:55.254Z"
   },
   {
    "duration": 2910,
    "start_time": "2023-05-15T12:47:56.611Z"
   },
   {
    "duration": 2669,
    "start_time": "2023-05-15T12:49:08.040Z"
   },
   {
    "duration": 58,
    "start_time": "2023-05-15T13:40:38.042Z"
   },
   {
    "duration": 55,
    "start_time": "2023-05-15T13:41:12.000Z"
   },
   {
    "duration": 52,
    "start_time": "2023-05-15T13:41:17.044Z"
   },
   {
    "duration": 945,
    "start_time": "2023-05-15T13:42:23.685Z"
   },
   {
    "duration": 18,
    "start_time": "2023-05-15T13:42:29.776Z"
   },
   {
    "duration": 19,
    "start_time": "2023-05-15T13:43:12.212Z"
   },
   {
    "duration": 22,
    "start_time": "2023-05-15T13:45:34.353Z"
   },
   {
    "duration": 26,
    "start_time": "2023-05-15T13:45:38.606Z"
   },
   {
    "duration": 23,
    "start_time": "2023-05-15T13:45:54.389Z"
   },
   {
    "duration": 2806,
    "start_time": "2023-05-15T13:47:07.188Z"
   },
   {
    "duration": 30,
    "start_time": "2023-05-15T13:47:23.943Z"
   },
   {
    "duration": 10,
    "start_time": "2023-05-15T13:48:10.514Z"
   },
   {
    "duration": 6,
    "start_time": "2023-05-15T13:48:40.877Z"
   },
   {
    "duration": 5,
    "start_time": "2023-05-15T13:48:52.286Z"
   },
   {
    "duration": 1387,
    "start_time": "2023-05-15T15:30:59.158Z"
   },
   {
    "duration": 99,
    "start_time": "2023-05-15T15:31:00.547Z"
   },
   {
    "duration": 12,
    "start_time": "2023-05-15T15:31:00.648Z"
   },
   {
    "duration": 407,
    "start_time": "2023-05-15T15:31:00.662Z"
   },
   {
    "duration": 18,
    "start_time": "2023-05-15T15:31:01.071Z"
   },
   {
    "duration": 66,
    "start_time": "2023-05-15T15:31:01.090Z"
   },
   {
    "duration": 31,
    "start_time": "2023-05-15T15:31:01.159Z"
   },
   {
    "duration": 32,
    "start_time": "2023-05-15T15:31:01.192Z"
   },
   {
    "duration": 83,
    "start_time": "2023-05-15T15:31:01.226Z"
   },
   {
    "duration": 53,
    "start_time": "2023-05-15T15:31:01.311Z"
   },
   {
    "duration": 49,
    "start_time": "2023-05-15T15:31:01.366Z"
   },
   {
    "duration": 64,
    "start_time": "2023-05-15T15:31:01.417Z"
   },
   {
    "duration": 108,
    "start_time": "2023-05-15T15:31:01.482Z"
   },
   {
    "duration": 2736,
    "start_time": "2023-05-15T15:31:01.592Z"
   },
   {
    "duration": 47,
    "start_time": "2023-05-15T15:31:04.330Z"
   },
   {
    "duration": 760,
    "start_time": "2023-05-15T15:31:04.379Z"
   },
   {
    "duration": 15,
    "start_time": "2023-05-15T15:31:05.141Z"
   },
   {
    "duration": 32,
    "start_time": "2023-05-15T15:31:05.158Z"
   },
   {
    "duration": 16,
    "start_time": "2023-05-15T15:31:05.192Z"
   },
   {
    "duration": 23,
    "start_time": "2023-05-15T15:31:05.209Z"
   },
   {
    "duration": 772,
    "start_time": "2023-05-15T15:32:11.452Z"
   },
   {
    "duration": 5,
    "start_time": "2023-05-15T15:34:20.692Z"
   },
   {
    "duration": 101,
    "start_time": "2023-05-15T15:35:29.983Z"
   },
   {
    "duration": 9,
    "start_time": "2023-05-15T15:36:22.359Z"
   },
   {
    "duration": 11,
    "start_time": "2023-05-15T15:38:24.471Z"
   },
   {
    "duration": 13,
    "start_time": "2023-05-15T15:38:55.120Z"
   },
   {
    "duration": 13,
    "start_time": "2023-05-15T15:39:14.816Z"
   },
   {
    "duration": 13,
    "start_time": "2023-05-15T15:39:28.221Z"
   },
   {
    "duration": 17,
    "start_time": "2023-05-15T15:40:48.160Z"
   },
   {
    "duration": 18,
    "start_time": "2023-05-15T15:41:58.936Z"
   },
   {
    "duration": 17,
    "start_time": "2023-05-15T15:43:41.255Z"
   },
   {
    "duration": 31,
    "start_time": "2023-05-15T15:44:01.654Z"
   },
   {
    "duration": 29,
    "start_time": "2023-05-15T15:44:09.081Z"
   },
   {
    "duration": 30,
    "start_time": "2023-05-15T15:44:46.359Z"
   },
   {
    "duration": 29,
    "start_time": "2023-05-15T15:44:55.453Z"
   },
   {
    "duration": 766,
    "start_time": "2023-05-15T15:45:28.909Z"
   },
   {
    "duration": 735,
    "start_time": "2023-05-15T15:45:29.932Z"
   },
   {
    "duration": 10,
    "start_time": "2023-05-15T15:48:13.816Z"
   },
   {
    "duration": 17,
    "start_time": "2023-05-15T15:48:17.359Z"
   },
   {
    "duration": 3604,
    "start_time": "2023-05-15T15:48:53.834Z"
   },
   {
    "duration": 204,
    "start_time": "2023-05-15T15:49:57.591Z"
   },
   {
    "duration": 14,
    "start_time": "2023-05-15T15:50:04.181Z"
   },
   {
    "duration": 49,
    "start_time": "2023-05-15T17:37:08.452Z"
   },
   {
    "duration": 1357,
    "start_time": "2023-05-15T17:37:14.096Z"
   },
   {
    "duration": 62,
    "start_time": "2023-05-15T17:37:15.456Z"
   },
   {
    "duration": 9,
    "start_time": "2023-05-15T17:37:15.520Z"
   },
   {
    "duration": 393,
    "start_time": "2023-05-15T17:37:15.531Z"
   },
   {
    "duration": 15,
    "start_time": "2023-05-15T17:37:15.925Z"
   },
   {
    "duration": 24,
    "start_time": "2023-05-15T17:37:15.942Z"
   },
   {
    "duration": 14,
    "start_time": "2023-05-15T17:37:15.967Z"
   },
   {
    "duration": 4,
    "start_time": "2023-05-15T17:37:15.982Z"
   },
   {
    "duration": 36,
    "start_time": "2023-05-15T17:37:15.988Z"
   },
   {
    "duration": 5,
    "start_time": "2023-05-15T17:37:16.026Z"
   },
   {
    "duration": 16,
    "start_time": "2023-05-15T17:37:16.032Z"
   },
   {
    "duration": 34,
    "start_time": "2023-05-15T17:37:16.050Z"
   },
   {
    "duration": 71,
    "start_time": "2023-05-15T17:37:16.087Z"
   },
   {
    "duration": 2310,
    "start_time": "2023-05-15T17:37:16.159Z"
   },
   {
    "duration": 733,
    "start_time": "2023-05-15T17:37:18.471Z"
   },
   {
    "duration": 753,
    "start_time": "2023-05-15T17:37:19.206Z"
   },
   {
    "duration": 5,
    "start_time": "2023-05-15T17:37:19.961Z"
   },
   {
    "duration": 34,
    "start_time": "2023-05-15T17:37:19.967Z"
   },
   {
    "duration": 9,
    "start_time": "2023-05-15T17:37:24.219Z"
   },
   {
    "duration": 14,
    "start_time": "2023-05-15T17:37:29.355Z"
   },
   {
    "duration": 15,
    "start_time": "2023-05-15T17:37:44.053Z"
   },
   {
    "duration": 9,
    "start_time": "2023-05-15T17:38:20.924Z"
   },
   {
    "duration": 16,
    "start_time": "2023-05-15T17:38:24.508Z"
   },
   {
    "duration": 17,
    "start_time": "2023-05-15T17:39:42.752Z"
   },
   {
    "duration": 18,
    "start_time": "2023-05-15T17:41:08.149Z"
   },
   {
    "duration": 118,
    "start_time": "2023-05-15T17:42:42.589Z"
   },
   {
    "duration": 848,
    "start_time": "2023-05-15T17:42:55.311Z"
   },
   {
    "duration": 16,
    "start_time": "2023-05-15T17:43:17.901Z"
   },
   {
    "duration": 14,
    "start_time": "2023-05-15T17:50:38.760Z"
   },
   {
    "duration": 16,
    "start_time": "2023-05-15T17:53:00.166Z"
   },
   {
    "duration": 11,
    "start_time": "2023-05-15T17:53:05.957Z"
   },
   {
    "duration": 19,
    "start_time": "2023-05-15T17:53:08.886Z"
   },
   {
    "duration": 16,
    "start_time": "2023-05-15T18:06:17.300Z"
   },
   {
    "duration": 16,
    "start_time": "2023-05-15T18:09:59.569Z"
   },
   {
    "duration": 17,
    "start_time": "2023-05-15T18:12:10.320Z"
   },
   {
    "duration": 17,
    "start_time": "2023-05-15T18:12:28.944Z"
   },
   {
    "duration": 19,
    "start_time": "2023-05-15T18:12:37.001Z"
   },
   {
    "duration": 8,
    "start_time": "2023-05-15T18:28:26.332Z"
   },
   {
    "duration": 9,
    "start_time": "2023-05-15T18:35:18.818Z"
   },
   {
    "duration": 10,
    "start_time": "2023-05-15T18:35:29.863Z"
   },
   {
    "duration": 8,
    "start_time": "2023-05-15T18:35:51.132Z"
   },
   {
    "duration": 2161,
    "start_time": "2023-05-15T18:36:37.683Z"
   },
   {
    "duration": 14,
    "start_time": "2023-05-15T18:37:19.777Z"
   },
   {
    "duration": 5,
    "start_time": "2023-05-15T18:37:30.815Z"
   },
   {
    "duration": 135,
    "start_time": "2023-05-15T18:37:30.822Z"
   },
   {
    "duration": 9,
    "start_time": "2023-05-15T18:37:30.959Z"
   },
   {
    "duration": 510,
    "start_time": "2023-05-15T18:37:30.970Z"
   },
   {
    "duration": 15,
    "start_time": "2023-05-15T18:37:31.483Z"
   },
   {
    "duration": 38,
    "start_time": "2023-05-15T18:37:31.500Z"
   },
   {
    "duration": 31,
    "start_time": "2023-05-15T18:37:31.540Z"
   },
   {
    "duration": 24,
    "start_time": "2023-05-15T18:37:31.573Z"
   },
   {
    "duration": 40,
    "start_time": "2023-05-15T18:37:31.599Z"
   },
   {
    "duration": 28,
    "start_time": "2023-05-15T18:37:31.641Z"
   },
   {
    "duration": 47,
    "start_time": "2023-05-15T18:37:31.671Z"
   },
   {
    "duration": 53,
    "start_time": "2023-05-15T18:37:31.720Z"
   },
   {
    "duration": 79,
    "start_time": "2023-05-15T18:37:31.774Z"
   },
   {
    "duration": 2273,
    "start_time": "2023-05-15T18:37:31.855Z"
   },
   {
    "duration": 844,
    "start_time": "2023-05-15T18:37:34.130Z"
   },
   {
    "duration": 737,
    "start_time": "2023-05-15T18:37:34.976Z"
   },
   {
    "duration": 6,
    "start_time": "2023-05-15T18:37:35.714Z"
   },
   {
    "duration": 38,
    "start_time": "2023-05-15T18:37:35.721Z"
   },
   {
    "duration": 50,
    "start_time": "2023-05-15T18:37:35.760Z"
   },
   {
    "duration": 32,
    "start_time": "2023-05-15T18:37:35.812Z"
   },
   {
    "duration": 21,
    "start_time": "2023-05-15T18:37:35.845Z"
   },
   {
    "duration": 1499,
    "start_time": "2023-05-15T18:37:35.868Z"
   },
   {
    "duration": 0,
    "start_time": "2023-05-15T18:37:37.368Z"
   },
   {
    "duration": 13,
    "start_time": "2023-05-15T18:37:41.819Z"
   },
   {
    "duration": 7,
    "start_time": "2023-05-15T18:38:17.142Z"
   },
   {
    "duration": 15,
    "start_time": "2023-05-15T18:38:25.380Z"
   },
   {
    "duration": 12,
    "start_time": "2023-05-15T18:38:36.242Z"
   },
   {
    "duration": 11,
    "start_time": "2023-05-15T18:39:24.211Z"
   },
   {
    "duration": 19,
    "start_time": "2023-05-15T18:40:04.238Z"
   },
   {
    "duration": 7,
    "start_time": "2023-05-15T18:40:09.669Z"
   },
   {
    "duration": 4,
    "start_time": "2023-05-15T18:40:29.655Z"
   },
   {
    "duration": 16,
    "start_time": "2023-05-15T18:40:35.977Z"
   },
   {
    "duration": 12,
    "start_time": "2023-05-15T18:42:48.842Z"
   },
   {
    "duration": 14,
    "start_time": "2023-05-15T18:42:54.516Z"
   },
   {
    "duration": 8,
    "start_time": "2023-05-15T18:43:10.273Z"
   },
   {
    "duration": 9,
    "start_time": "2023-05-15T18:43:23.363Z"
   },
   {
    "duration": 9,
    "start_time": "2023-05-15T18:43:50.549Z"
   },
   {
    "duration": 26,
    "start_time": "2023-05-15T18:47:13.355Z"
   },
   {
    "duration": 9,
    "start_time": "2023-05-15T18:47:31.278Z"
   },
   {
    "duration": 11,
    "start_time": "2023-05-15T18:49:19.877Z"
   },
   {
    "duration": 32,
    "start_time": "2023-05-15T18:50:10.924Z"
   },
   {
    "duration": 12,
    "start_time": "2023-05-15T18:51:49.010Z"
   },
   {
    "duration": 10,
    "start_time": "2023-05-15T18:51:54.850Z"
   },
   {
    "duration": 17,
    "start_time": "2023-05-15T18:52:05.016Z"
   },
   {
    "duration": 20,
    "start_time": "2023-05-15T18:52:47.119Z"
   },
   {
    "duration": 18,
    "start_time": "2023-05-15T18:53:45.315Z"
   },
   {
    "duration": 92,
    "start_time": "2023-05-15T18:59:20.549Z"
   },
   {
    "duration": 48,
    "start_time": "2023-05-16T06:10:05.854Z"
   },
   {
    "duration": 1308,
    "start_time": "2023-05-16T06:10:10.483Z"
   },
   {
    "duration": 183,
    "start_time": "2023-05-16T06:10:11.794Z"
   },
   {
    "duration": 10,
    "start_time": "2023-05-16T06:10:11.979Z"
   },
   {
    "duration": 328,
    "start_time": "2023-05-16T06:10:11.991Z"
   },
   {
    "duration": 16,
    "start_time": "2023-05-16T06:10:12.322Z"
   },
   {
    "duration": 32,
    "start_time": "2023-05-16T06:10:12.340Z"
   },
   {
    "duration": 11,
    "start_time": "2023-05-16T06:10:12.374Z"
   },
   {
    "duration": 14,
    "start_time": "2023-05-16T06:10:12.387Z"
   },
   {
    "duration": 49,
    "start_time": "2023-05-16T06:10:12.402Z"
   },
   {
    "duration": 6,
    "start_time": "2023-05-16T06:10:12.453Z"
   },
   {
    "duration": 33,
    "start_time": "2023-05-16T06:10:12.461Z"
   },
   {
    "duration": 25,
    "start_time": "2023-05-16T06:10:12.496Z"
   },
   {
    "duration": 99,
    "start_time": "2023-05-16T06:10:12.523Z"
   },
   {
    "duration": 2600,
    "start_time": "2023-05-16T06:10:12.625Z"
   },
   {
    "duration": 751,
    "start_time": "2023-05-16T06:10:15.228Z"
   },
   {
    "duration": 737,
    "start_time": "2023-05-16T06:10:15.981Z"
   },
   {
    "duration": 5,
    "start_time": "2023-05-16T06:10:16.719Z"
   },
   {
    "duration": 31,
    "start_time": "2023-05-16T06:10:16.726Z"
   },
   {
    "duration": 6,
    "start_time": "2023-05-16T06:10:16.759Z"
   },
   {
    "duration": 31,
    "start_time": "2023-05-16T06:10:16.767Z"
   },
   {
    "duration": 9,
    "start_time": "2023-05-16T06:10:16.800Z"
   },
   {
    "duration": 51,
    "start_time": "2023-05-16T06:10:16.811Z"
   },
   {
    "duration": 15,
    "start_time": "2023-05-16T06:10:16.863Z"
   },
   {
    "duration": 16,
    "start_time": "2023-05-16T06:10:16.879Z"
   },
   {
    "duration": 25,
    "start_time": "2023-05-16T06:10:16.897Z"
   },
   {
    "duration": 354,
    "start_time": "2023-05-16T06:10:16.956Z"
   },
   {
    "duration": 322,
    "start_time": "2023-05-16T06:10:40.601Z"
   },
   {
    "duration": 345,
    "start_time": "2023-05-16T06:10:52.372Z"
   },
   {
    "duration": 432,
    "start_time": "2023-05-16T06:11:00.812Z"
   },
   {
    "duration": 327,
    "start_time": "2023-05-16T06:11:45.302Z"
   },
   {
    "duration": 79,
    "start_time": "2023-05-16T06:12:32.551Z"
   },
   {
    "duration": 331,
    "start_time": "2023-05-16T06:12:42.016Z"
   },
   {
    "duration": 16,
    "start_time": "2023-05-16T06:22:39.274Z"
   },
   {
    "duration": 5,
    "start_time": "2023-05-16T06:22:49.168Z"
   },
   {
    "duration": 60,
    "start_time": "2023-05-16T06:22:49.176Z"
   },
   {
    "duration": 11,
    "start_time": "2023-05-16T06:22:49.238Z"
   },
   {
    "duration": 306,
    "start_time": "2023-05-16T06:22:49.250Z"
   },
   {
    "duration": 17,
    "start_time": "2023-05-16T06:22:49.559Z"
   },
   {
    "duration": 23,
    "start_time": "2023-05-16T06:22:49.578Z"
   },
   {
    "duration": 12,
    "start_time": "2023-05-16T06:22:49.603Z"
   },
   {
    "duration": 6,
    "start_time": "2023-05-16T06:22:49.617Z"
   },
   {
    "duration": 66,
    "start_time": "2023-05-16T06:22:49.626Z"
   },
   {
    "duration": 8,
    "start_time": "2023-05-16T06:22:49.694Z"
   },
   {
    "duration": 68,
    "start_time": "2023-05-16T06:22:49.705Z"
   },
   {
    "duration": 26,
    "start_time": "2023-05-16T06:22:49.775Z"
   },
   {
    "duration": 116,
    "start_time": "2023-05-16T06:22:49.803Z"
   },
   {
    "duration": 2802,
    "start_time": "2023-05-16T06:22:49.922Z"
   },
   {
    "duration": 883,
    "start_time": "2023-05-16T06:22:52.725Z"
   },
   {
    "duration": 791,
    "start_time": "2023-05-16T06:22:53.610Z"
   },
   {
    "duration": 6,
    "start_time": "2023-05-16T06:22:54.402Z"
   },
   {
    "duration": 26,
    "start_time": "2023-05-16T06:22:54.410Z"
   },
   {
    "duration": 22,
    "start_time": "2023-05-16T06:22:54.438Z"
   },
   {
    "duration": 35,
    "start_time": "2023-05-16T06:22:54.462Z"
   },
   {
    "duration": 8,
    "start_time": "2023-05-16T06:22:54.499Z"
   },
   {
    "duration": 52,
    "start_time": "2023-05-16T06:22:54.509Z"
   },
   {
    "duration": 13,
    "start_time": "2023-05-16T06:22:54.563Z"
   },
   {
    "duration": 14,
    "start_time": "2023-05-16T06:22:54.578Z"
   },
   {
    "duration": 23,
    "start_time": "2023-05-16T06:22:54.594Z"
   },
   {
    "duration": 392,
    "start_time": "2023-05-16T06:22:54.619Z"
   },
   {
    "duration": 91,
    "start_time": "2023-05-16T06:22:55.013Z"
   },
   {
    "duration": 255,
    "start_time": "2023-05-16T06:23:33.206Z"
   },
   {
    "duration": 22,
    "start_time": "2023-05-16T06:27:13.874Z"
   },
   {
    "duration": 18,
    "start_time": "2023-05-16T06:27:42.995Z"
   },
   {
    "duration": 18,
    "start_time": "2023-05-16T06:27:54.517Z"
   },
   {
    "duration": 19,
    "start_time": "2023-05-16T06:28:13.926Z"
   },
   {
    "duration": 19,
    "start_time": "2023-05-16T06:45:00.580Z"
   },
   {
    "duration": 10,
    "start_time": "2023-05-16T06:48:57.954Z"
   },
   {
    "duration": 26,
    "start_time": "2023-05-16T06:50:08.414Z"
   },
   {
    "duration": 11,
    "start_time": "2023-05-16T06:50:14.288Z"
   },
   {
    "duration": 8,
    "start_time": "2023-05-16T06:50:22.481Z"
   },
   {
    "duration": 25,
    "start_time": "2023-05-16T06:50:40.468Z"
   },
   {
    "duration": 55,
    "start_time": "2023-05-16T06:50:51.991Z"
   },
   {
    "duration": 17,
    "start_time": "2023-05-16T06:51:01.480Z"
   },
   {
    "duration": 14,
    "start_time": "2023-05-16T06:51:12.962Z"
   },
   {
    "duration": 18,
    "start_time": "2023-05-16T06:51:31.767Z"
   },
   {
    "duration": 15,
    "start_time": "2023-05-16T06:51:51.676Z"
   },
   {
    "duration": 64,
    "start_time": "2023-05-16T06:52:00.816Z"
   },
   {
    "duration": 14,
    "start_time": "2023-05-16T06:52:04.875Z"
   },
   {
    "duration": 15,
    "start_time": "2023-05-16T06:52:24.611Z"
   },
   {
    "duration": 11,
    "start_time": "2023-05-16T06:58:24.203Z"
   },
   {
    "duration": 14,
    "start_time": "2023-05-16T06:58:36.897Z"
   },
   {
    "duration": 18,
    "start_time": "2023-05-16T06:59:32.280Z"
   },
   {
    "duration": 25,
    "start_time": "2023-05-16T07:00:20.212Z"
   },
   {
    "duration": 29,
    "start_time": "2023-05-16T07:00:32.988Z"
   },
   {
    "duration": 15,
    "start_time": "2023-05-16T07:01:07.283Z"
   },
   {
    "duration": 4,
    "start_time": "2023-05-16T07:01:14.693Z"
   },
   {
    "duration": 5,
    "start_time": "2023-05-16T07:12:30.900Z"
   },
   {
    "duration": 28,
    "start_time": "2023-05-16T07:12:31.953Z"
   },
   {
    "duration": 4,
    "start_time": "2023-05-16T07:12:57.183Z"
   },
   {
    "duration": 24,
    "start_time": "2023-05-16T07:12:58.335Z"
   },
   {
    "duration": 6,
    "start_time": "2023-05-16T07:15:23.859Z"
   },
   {
    "duration": 26,
    "start_time": "2023-05-16T07:15:36.461Z"
   },
   {
    "duration": 4,
    "start_time": "2023-05-16T07:15:56.444Z"
   },
   {
    "duration": 25,
    "start_time": "2023-05-16T07:15:57.543Z"
   },
   {
    "duration": 17,
    "start_time": "2023-05-16T07:16:37.162Z"
   },
   {
    "duration": 16,
    "start_time": "2023-05-16T07:16:38.008Z"
   },
   {
    "duration": 5,
    "start_time": "2023-05-16T07:16:48.454Z"
   },
   {
    "duration": 17,
    "start_time": "2023-05-16T07:16:49.582Z"
   },
   {
    "duration": 5,
    "start_time": "2023-05-16T07:21:48.690Z"
   },
   {
    "duration": 25,
    "start_time": "2023-05-16T07:21:49.682Z"
   },
   {
    "duration": 39,
    "start_time": "2023-05-16T07:23:19.732Z"
   },
   {
    "duration": 27,
    "start_time": "2023-05-16T07:23:24.890Z"
   },
   {
    "duration": 20,
    "start_time": "2023-05-16T07:23:30.890Z"
   },
   {
    "duration": 22,
    "start_time": "2023-05-16T07:23:36.196Z"
   },
   {
    "duration": 27,
    "start_time": "2023-05-16T07:23:40.340Z"
   },
   {
    "duration": 25,
    "start_time": "2023-05-16T07:23:44.701Z"
   },
   {
    "duration": 15,
    "start_time": "2023-05-16T07:48:57.917Z"
   },
   {
    "duration": 43,
    "start_time": "2023-05-16T07:51:22.777Z"
   },
   {
    "duration": 53,
    "start_time": "2023-05-16T07:52:29.777Z"
   },
   {
    "duration": 4,
    "start_time": "2023-05-16T07:54:00.510Z"
   },
   {
    "duration": 364,
    "start_time": "2023-05-16T07:54:59.677Z"
   },
   {
    "duration": 3,
    "start_time": "2023-05-16T07:55:28.612Z"
   },
   {
    "duration": 17,
    "start_time": "2023-05-16T07:55:29.630Z"
   },
   {
    "duration": 28,
    "start_time": "2023-05-16T07:55:36.618Z"
   },
   {
    "duration": 21,
    "start_time": "2023-05-16T07:57:23.048Z"
   },
   {
    "duration": 57,
    "start_time": "2023-05-16T08:02:29.336Z"
   },
   {
    "duration": 22,
    "start_time": "2023-05-16T08:04:18.169Z"
   },
   {
    "duration": 21,
    "start_time": "2023-05-16T08:05:33.897Z"
   },
   {
    "duration": 25,
    "start_time": "2023-05-16T08:05:39.328Z"
   },
   {
    "duration": 17,
    "start_time": "2023-05-16T08:06:50.785Z"
   },
   {
    "duration": 15,
    "start_time": "2023-05-16T08:07:30.682Z"
   },
   {
    "duration": 7,
    "start_time": "2023-05-16T08:08:34.200Z"
   },
   {
    "duration": 12,
    "start_time": "2023-05-16T08:09:12.952Z"
   },
   {
    "duration": 11,
    "start_time": "2023-05-16T08:09:25.780Z"
   },
   {
    "duration": 5,
    "start_time": "2023-05-16T08:09:30.705Z"
   },
   {
    "duration": 18,
    "start_time": "2023-05-16T08:09:35.977Z"
   },
   {
    "duration": 9,
    "start_time": "2023-05-16T08:09:43.600Z"
   },
   {
    "duration": 17,
    "start_time": "2023-05-16T08:10:23.356Z"
   },
   {
    "duration": 13,
    "start_time": "2023-05-16T08:10:32.096Z"
   },
   {
    "duration": 27,
    "start_time": "2023-05-16T08:15:31.108Z"
   },
   {
    "duration": 32,
    "start_time": "2023-05-16T08:15:41.677Z"
   },
   {
    "duration": 29,
    "start_time": "2023-05-16T08:16:07.861Z"
   },
   {
    "duration": 39,
    "start_time": "2023-05-16T08:16:29.952Z"
   },
   {
    "duration": 22,
    "start_time": "2023-05-16T08:16:57.476Z"
   },
   {
    "duration": 36,
    "start_time": "2023-05-16T08:17:03.617Z"
   },
   {
    "duration": 3,
    "start_time": "2023-05-16T08:17:15.232Z"
   },
   {
    "duration": 11,
    "start_time": "2023-05-16T08:18:53.109Z"
   },
   {
    "duration": 21,
    "start_time": "2023-05-16T08:19:34.107Z"
   },
   {
    "duration": 41,
    "start_time": "2023-05-16T08:20:31.700Z"
   },
   {
    "duration": 36,
    "start_time": "2023-05-16T08:20:39.137Z"
   },
   {
    "duration": 55,
    "start_time": "2023-05-16T08:21:42.594Z"
   },
   {
    "duration": 23,
    "start_time": "2023-05-16T08:21:51.944Z"
   },
   {
    "duration": 53,
    "start_time": "2023-05-16T08:22:47.326Z"
   },
   {
    "duration": 21,
    "start_time": "2023-05-16T08:22:53.745Z"
   },
   {
    "duration": 9,
    "start_time": "2023-05-16T08:25:12.674Z"
   },
   {
    "duration": 7,
    "start_time": "2023-05-16T08:25:26.335Z"
   },
   {
    "duration": 11,
    "start_time": "2023-05-16T08:26:07.243Z"
   },
   {
    "duration": 246,
    "start_time": "2023-05-16T08:29:36.783Z"
   },
   {
    "duration": 49,
    "start_time": "2023-05-16T08:31:50.949Z"
   },
   {
    "duration": 4,
    "start_time": "2023-05-16T08:32:03.379Z"
   },
   {
    "duration": 226,
    "start_time": "2023-05-16T08:32:03.384Z"
   },
   {
    "duration": 11,
    "start_time": "2023-05-16T08:32:03.612Z"
   },
   {
    "duration": 409,
    "start_time": "2023-05-16T08:32:03.624Z"
   },
   {
    "duration": 27,
    "start_time": "2023-05-16T08:32:04.036Z"
   },
   {
    "duration": 21,
    "start_time": "2023-05-16T08:32:04.065Z"
   },
   {
    "duration": 19,
    "start_time": "2023-05-16T08:32:04.088Z"
   },
   {
    "duration": 7,
    "start_time": "2023-05-16T08:32:04.109Z"
   },
   {
    "duration": 48,
    "start_time": "2023-05-16T08:32:04.117Z"
   },
   {
    "duration": 6,
    "start_time": "2023-05-16T08:32:04.167Z"
   },
   {
    "duration": 45,
    "start_time": "2023-05-16T08:32:04.176Z"
   },
   {
    "duration": 46,
    "start_time": "2023-05-16T08:32:04.222Z"
   },
   {
    "duration": 90,
    "start_time": "2023-05-16T08:32:04.269Z"
   },
   {
    "duration": 2749,
    "start_time": "2023-05-16T08:32:04.361Z"
   },
   {
    "duration": 925,
    "start_time": "2023-05-16T08:32:07.111Z"
   },
   {
    "duration": 880,
    "start_time": "2023-05-16T08:32:08.038Z"
   },
   {
    "duration": 8,
    "start_time": "2023-05-16T08:32:08.920Z"
   },
   {
    "duration": 48,
    "start_time": "2023-05-16T08:32:08.930Z"
   },
   {
    "duration": 9,
    "start_time": "2023-05-16T08:32:08.981Z"
   },
   {
    "duration": 40,
    "start_time": "2023-05-16T08:32:08.992Z"
   },
   {
    "duration": 23,
    "start_time": "2023-05-16T08:32:09.035Z"
   },
   {
    "duration": 40,
    "start_time": "2023-05-16T08:32:09.060Z"
   },
   {
    "duration": 22,
    "start_time": "2023-05-16T08:32:09.102Z"
   },
   {
    "duration": 315,
    "start_time": "2023-05-16T08:32:09.126Z"
   },
   {
    "duration": 26,
    "start_time": "2023-05-16T08:32:09.443Z"
   },
   {
    "duration": 405,
    "start_time": "2023-05-16T08:32:09.471Z"
   },
   {
    "duration": 20,
    "start_time": "2023-05-16T08:32:09.878Z"
   },
   {
    "duration": 4,
    "start_time": "2023-05-16T08:32:09.900Z"
   },
   {
    "duration": 36,
    "start_time": "2023-05-16T08:32:09.909Z"
   },
   {
    "duration": 23,
    "start_time": "2023-05-16T08:32:09.947Z"
   },
   {
    "duration": 63,
    "start_time": "2023-05-16T08:32:09.972Z"
   },
   {
    "duration": 4,
    "start_time": "2023-05-16T08:32:10.037Z"
   },
   {
    "duration": 32,
    "start_time": "2023-05-16T08:32:10.055Z"
   },
   {
    "duration": 24,
    "start_time": "2023-05-16T08:32:10.089Z"
   },
   {
    "duration": 64,
    "start_time": "2023-05-16T08:32:10.115Z"
   },
   {
    "duration": 21,
    "start_time": "2023-05-16T08:32:10.182Z"
   },
   {
    "duration": 9,
    "start_time": "2023-05-16T08:32:10.205Z"
   },
   {
    "duration": 71,
    "start_time": "2023-05-16T08:32:10.216Z"
   },
   {
    "duration": 55,
    "start_time": "2023-05-16T08:32:43.079Z"
   },
   {
    "duration": 8,
    "start_time": "2023-05-16T08:33:31.738Z"
   },
   {
    "duration": 843,
    "start_time": "2023-05-16T08:33:46.275Z"
   },
   {
    "duration": 13,
    "start_time": "2023-05-16T08:34:04.345Z"
   },
   {
    "duration": 13,
    "start_time": "2023-05-16T08:34:07.948Z"
   },
   {
    "duration": 4,
    "start_time": "2023-05-16T08:43:54.012Z"
   },
   {
    "duration": 50,
    "start_time": "2023-05-16T08:44:02.547Z"
   },
   {
    "duration": 23,
    "start_time": "2023-05-16T08:44:04.280Z"
   },
   {
    "duration": 40,
    "start_time": "2023-05-16T08:44:09.230Z"
   },
   {
    "duration": 32,
    "start_time": "2023-05-16T08:44:12.438Z"
   },
   {
    "duration": 19,
    "start_time": "2023-05-16T08:44:14.448Z"
   },
   {
    "duration": 10,
    "start_time": "2023-05-16T08:44:19.527Z"
   },
   {
    "duration": 6,
    "start_time": "2023-05-16T08:45:28.715Z"
   },
   {
    "duration": 6,
    "start_time": "2023-05-16T08:45:35.355Z"
   },
   {
    "duration": 30,
    "start_time": "2023-05-16T08:45:38.004Z"
   },
   {
    "duration": 23,
    "start_time": "2023-05-16T08:45:42.902Z"
   },
   {
    "duration": 36,
    "start_time": "2023-05-16T08:45:43.412Z"
   },
   {
    "duration": 27,
    "start_time": "2023-05-16T08:45:44.346Z"
   },
   {
    "duration": 20,
    "start_time": "2023-05-16T08:45:45.057Z"
   },
   {
    "duration": 14,
    "start_time": "2023-05-16T08:45:47.147Z"
   },
   {
    "duration": 4,
    "start_time": "2023-05-16T08:46:37.186Z"
   },
   {
    "duration": 36,
    "start_time": "2023-05-16T08:46:40.860Z"
   },
   {
    "duration": 38,
    "start_time": "2023-05-16T08:46:47.634Z"
   },
   {
    "duration": 25,
    "start_time": "2023-05-16T08:47:47.713Z"
   },
   {
    "duration": 24,
    "start_time": "2023-05-16T08:47:51.847Z"
   },
   {
    "duration": 17,
    "start_time": "2023-05-16T08:47:58.535Z"
   },
   {
    "duration": 32,
    "start_time": "2023-05-16T08:48:10.465Z"
   },
   {
    "duration": 17,
    "start_time": "2023-05-16T08:49:09.913Z"
   },
   {
    "duration": 19,
    "start_time": "2023-05-16T08:49:17.326Z"
   },
   {
    "duration": 37,
    "start_time": "2023-05-16T08:50:33.339Z"
   },
   {
    "duration": 23,
    "start_time": "2023-05-16T08:50:40.210Z"
   },
   {
    "duration": 4,
    "start_time": "2023-05-16T08:50:56.578Z"
   },
   {
    "duration": 4,
    "start_time": "2023-05-16T08:51:09.946Z"
   },
   {
    "duration": 55,
    "start_time": "2023-05-16T08:51:13.255Z"
   },
   {
    "duration": 36,
    "start_time": "2023-05-16T08:51:24.541Z"
   },
   {
    "duration": 4,
    "start_time": "2023-05-16T08:54:47.849Z"
   },
   {
    "duration": 32,
    "start_time": "2023-05-16T08:54:50.292Z"
   },
   {
    "duration": 25,
    "start_time": "2023-05-16T08:54:53.496Z"
   },
   {
    "duration": 35,
    "start_time": "2023-05-16T08:54:57.354Z"
   },
   {
    "duration": 21,
    "start_time": "2023-05-16T08:54:58.754Z"
   },
   {
    "duration": 10,
    "start_time": "2023-05-16T08:54:59.859Z"
   },
   {
    "duration": 9,
    "start_time": "2023-05-16T08:55:00.988Z"
   },
   {
    "duration": 4,
    "start_time": "2023-05-16T08:57:21.562Z"
   },
   {
    "duration": 30,
    "start_time": "2023-05-16T08:57:22.461Z"
   },
   {
    "duration": 19,
    "start_time": "2023-05-16T08:57:23.354Z"
   },
   {
    "duration": 25,
    "start_time": "2023-05-16T08:57:24.180Z"
   },
   {
    "duration": 41,
    "start_time": "2023-05-16T08:57:25.294Z"
   },
   {
    "duration": 22,
    "start_time": "2023-05-16T08:57:27.968Z"
   },
   {
    "duration": 18,
    "start_time": "2023-05-16T08:57:28.859Z"
   },
   {
    "duration": 14,
    "start_time": "2023-05-16T08:57:29.954Z"
   },
   {
    "duration": 16,
    "start_time": "2023-05-16T08:58:55.050Z"
   },
   {
    "duration": 13,
    "start_time": "2023-05-16T08:59:01.652Z"
   },
   {
    "duration": 45,
    "start_time": "2023-05-16T08:59:04.444Z"
   },
   {
    "duration": 26,
    "start_time": "2023-05-16T08:59:14.649Z"
   },
   {
    "duration": 42,
    "start_time": "2023-05-16T08:59:17.312Z"
   },
   {
    "duration": 23,
    "start_time": "2023-05-16T08:59:18.670Z"
   },
   {
    "duration": 13,
    "start_time": "2023-05-16T08:59:19.798Z"
   },
   {
    "duration": 12,
    "start_time": "2023-05-16T08:59:21.155Z"
   },
   {
    "duration": 4,
    "start_time": "2023-05-16T09:05:32.110Z"
   },
   {
    "duration": 52,
    "start_time": "2023-05-16T09:05:32.715Z"
   },
   {
    "duration": 32,
    "start_time": "2023-05-16T09:05:33.353Z"
   },
   {
    "duration": 35,
    "start_time": "2023-05-16T09:05:33.883Z"
   },
   {
    "duration": 21,
    "start_time": "2023-05-16T09:05:34.370Z"
   },
   {
    "duration": 15,
    "start_time": "2023-05-16T09:05:34.952Z"
   },
   {
    "duration": 11,
    "start_time": "2023-05-16T09:05:35.524Z"
   },
   {
    "duration": 5,
    "start_time": "2023-05-16T09:11:23.424Z"
   },
   {
    "duration": 31,
    "start_time": "2023-05-16T09:11:24.300Z"
   },
   {
    "duration": 32,
    "start_time": "2023-05-16T09:11:24.816Z"
   },
   {
    "duration": 51,
    "start_time": "2023-05-16T09:11:25.435Z"
   },
   {
    "duration": 28,
    "start_time": "2023-05-16T09:11:25.941Z"
   },
   {
    "duration": 11,
    "start_time": "2023-05-16T09:11:26.994Z"
   },
   {
    "duration": 9,
    "start_time": "2023-05-16T09:11:27.589Z"
   },
   {
    "duration": 10,
    "start_time": "2023-05-16T09:12:05.592Z"
   },
   {
    "duration": 4,
    "start_time": "2023-05-16T09:12:09.914Z"
   },
   {
    "duration": 32,
    "start_time": "2023-05-16T09:12:11.985Z"
   },
   {
    "duration": 23,
    "start_time": "2023-05-16T09:12:12.410Z"
   },
   {
    "duration": 36,
    "start_time": "2023-05-16T09:12:12.814Z"
   },
   {
    "duration": 26,
    "start_time": "2023-05-16T09:12:13.216Z"
   },
   {
    "duration": 11,
    "start_time": "2023-05-16T09:12:13.608Z"
   },
   {
    "duration": 9,
    "start_time": "2023-05-16T09:12:14.286Z"
   },
   {
    "duration": 5,
    "start_time": "2023-05-16T09:15:47.376Z"
   },
   {
    "duration": 4,
    "start_time": "2023-05-16T09:15:49.876Z"
   },
   {
    "duration": 52,
    "start_time": "2023-05-16T09:15:50.447Z"
   },
   {
    "duration": 21,
    "start_time": "2023-05-16T09:15:51.077Z"
   },
   {
    "duration": 37,
    "start_time": "2023-05-16T09:15:51.577Z"
   },
   {
    "duration": 22,
    "start_time": "2023-05-16T09:15:51.973Z"
   },
   {
    "duration": 11,
    "start_time": "2023-05-16T09:15:52.380Z"
   },
   {
    "duration": 9,
    "start_time": "2023-05-16T09:15:52.789Z"
   },
   {
    "duration": 3,
    "start_time": "2023-05-16T09:17:17.476Z"
   },
   {
    "duration": 28,
    "start_time": "2023-05-16T09:17:18.171Z"
   },
   {
    "duration": 34,
    "start_time": "2023-05-16T09:17:18.865Z"
   },
   {
    "duration": 40,
    "start_time": "2023-05-16T09:17:19.360Z"
   },
   {
    "duration": 21,
    "start_time": "2023-05-16T09:17:19.779Z"
   },
   {
    "duration": 12,
    "start_time": "2023-05-16T09:17:20.187Z"
   },
   {
    "duration": 9,
    "start_time": "2023-05-16T09:17:20.671Z"
   },
   {
    "duration": 32,
    "start_time": "2023-05-16T09:34:02.059Z"
   },
   {
    "duration": 11,
    "start_time": "2023-05-16T09:38:42.056Z"
   },
   {
    "duration": 11,
    "start_time": "2023-05-16T09:40:25.888Z"
   },
   {
    "duration": 125,
    "start_time": "2023-05-16T10:06:46.951Z"
   },
   {
    "duration": 5,
    "start_time": "2023-05-16T10:07:03.205Z"
   },
   {
    "duration": 100,
    "start_time": "2023-05-16T10:07:05.008Z"
   },
   {
    "duration": 7,
    "start_time": "2023-05-16T10:15:08.819Z"
   },
   {
    "duration": 104,
    "start_time": "2023-05-16T10:15:12.470Z"
   },
   {
    "duration": 23,
    "start_time": "2023-05-16T10:59:53.221Z"
   },
   {
    "duration": 15,
    "start_time": "2023-05-16T11:02:08.000Z"
   },
   {
    "duration": 12,
    "start_time": "2023-05-16T11:02:57.863Z"
   },
   {
    "duration": 22,
    "start_time": "2023-05-16T11:07:23.357Z"
   },
   {
    "duration": 28,
    "start_time": "2023-05-16T11:08:07.718Z"
   },
   {
    "duration": 16,
    "start_time": "2023-05-16T11:08:12.714Z"
   },
   {
    "duration": 24,
    "start_time": "2023-05-16T11:08:59.191Z"
   },
   {
    "duration": 16,
    "start_time": "2023-05-16T11:10:16.422Z"
   },
   {
    "duration": 53,
    "start_time": "2023-05-16T11:10:29.166Z"
   },
   {
    "duration": 52,
    "start_time": "2023-05-16T11:12:15.762Z"
   },
   {
    "duration": 2,
    "start_time": "2023-05-16T11:12:58.627Z"
   },
   {
    "duration": 5,
    "start_time": "2023-05-16T11:13:05.922Z"
   },
   {
    "duration": 42,
    "start_time": "2023-05-16T11:13:20.558Z"
   },
   {
    "duration": 10,
    "start_time": "2023-05-16T11:16:23.691Z"
   },
   {
    "duration": 22,
    "start_time": "2023-05-16T11:16:28.662Z"
   },
   {
    "duration": 15,
    "start_time": "2023-05-16T11:16:49.566Z"
   },
   {
    "duration": 4,
    "start_time": "2023-05-16T11:17:06.124Z"
   },
   {
    "duration": 59,
    "start_time": "2023-05-16T11:17:06.802Z"
   },
   {
    "duration": 11,
    "start_time": "2023-05-16T11:17:07.800Z"
   },
   {
    "duration": 245,
    "start_time": "2023-05-16T11:17:08.516Z"
   },
   {
    "duration": 18,
    "start_time": "2023-05-16T11:17:09.384Z"
   },
   {
    "duration": 26,
    "start_time": "2023-05-16T11:17:14.707Z"
   },
   {
    "duration": 11,
    "start_time": "2023-05-16T11:17:20.591Z"
   },
   {
    "duration": 7,
    "start_time": "2023-05-16T11:17:21.093Z"
   },
   {
    "duration": 27,
    "start_time": "2023-05-16T11:17:22.819Z"
   },
   {
    "duration": 7,
    "start_time": "2023-05-16T11:17:24.825Z"
   },
   {
    "duration": 41,
    "start_time": "2023-05-16T11:17:28.603Z"
   },
   {
    "duration": 30,
    "start_time": "2023-05-16T11:17:36.407Z"
   },
   {
    "duration": 6,
    "start_time": "2023-05-16T11:17:48.504Z"
   },
   {
    "duration": 109,
    "start_time": "2023-05-16T11:17:50.115Z"
   },
   {
    "duration": 2730,
    "start_time": "2023-05-16T11:19:19.516Z"
   },
   {
    "duration": 698,
    "start_time": "2023-05-16T11:19:35.127Z"
   },
   {
    "duration": 811,
    "start_time": "2023-05-16T11:19:36.007Z"
   },
   {
    "duration": 6,
    "start_time": "2023-05-16T11:19:36.992Z"
   },
   {
    "duration": 23,
    "start_time": "2023-05-16T11:19:38.218Z"
   },
   {
    "duration": 7,
    "start_time": "2023-05-16T11:19:39.427Z"
   },
   {
    "duration": 25,
    "start_time": "2023-05-16T11:19:40.599Z"
   },
   {
    "duration": 32,
    "start_time": "2023-05-16T11:19:46.458Z"
   },
   {
    "duration": 15,
    "start_time": "2023-05-16T11:19:48.263Z"
   },
   {
    "duration": 418,
    "start_time": "2023-05-16T11:20:00.854Z"
   },
   {
    "duration": 101,
    "start_time": "2023-05-16T11:20:04.395Z"
   },
   {
    "duration": 4,
    "start_time": "2023-05-16T11:20:11.671Z"
   },
   {
    "duration": 15,
    "start_time": "2023-05-16T11:20:14.615Z"
   },
   {
    "duration": 4,
    "start_time": "2023-05-16T11:20:18.670Z"
   },
   {
    "duration": 31,
    "start_time": "2023-05-16T11:20:19.654Z"
   },
   {
    "duration": 28,
    "start_time": "2023-05-16T11:20:22.611Z"
   },
   {
    "duration": 23,
    "start_time": "2023-05-16T11:20:23.463Z"
   },
   {
    "duration": 11,
    "start_time": "2023-05-16T11:20:28.280Z"
   },
   {
    "duration": 16,
    "start_time": "2023-05-16T11:20:30.323Z"
   },
   {
    "duration": 13,
    "start_time": "2023-05-16T11:20:35.288Z"
   },
   {
    "duration": 20,
    "start_time": "2023-05-16T11:21:14.062Z"
   },
   {
    "duration": 125,
    "start_time": "2023-05-16T11:21:57.558Z"
   },
   {
    "duration": 88,
    "start_time": "2023-05-16T11:22:27.707Z"
   },
   {
    "duration": 1036,
    "start_time": "2023-05-16T11:24:00.255Z"
   },
   {
    "duration": 947,
    "start_time": "2023-05-16T11:25:27.963Z"
   },
   {
    "duration": 907,
    "start_time": "2023-05-16T11:25:35.487Z"
   },
   {
    "duration": 950,
    "start_time": "2023-05-16T11:25:46.219Z"
   },
   {
    "duration": 940,
    "start_time": "2023-05-16T11:26:11.994Z"
   },
   {
    "duration": 1042,
    "start_time": "2023-05-16T11:26:16.607Z"
   },
   {
    "duration": 25,
    "start_time": "2023-05-16T11:35:00.817Z"
   },
   {
    "duration": 17,
    "start_time": "2023-05-16T11:35:03.017Z"
   },
   {
    "duration": 28,
    "start_time": "2023-05-16T11:35:52.058Z"
   },
   {
    "duration": 48,
    "start_time": "2023-05-16T11:39:14.595Z"
   },
   {
    "duration": 5,
    "start_time": "2023-05-16T11:39:56.146Z"
   },
   {
    "duration": 4,
    "start_time": "2023-05-16T11:40:10.071Z"
   },
   {
    "duration": 4,
    "start_time": "2023-05-16T11:40:17.966Z"
   },
   {
    "duration": 4,
    "start_time": "2023-05-16T11:40:22.300Z"
   },
   {
    "duration": 4,
    "start_time": "2023-05-16T11:40:36.408Z"
   },
   {
    "duration": 4,
    "start_time": "2023-05-16T11:40:42.516Z"
   },
   {
    "duration": 7,
    "start_time": "2023-05-16T11:42:32.468Z"
   },
   {
    "duration": 3,
    "start_time": "2023-05-16T11:45:02.701Z"
   },
   {
    "duration": 7,
    "start_time": "2023-05-16T11:45:07.609Z"
   },
   {
    "duration": 3,
    "start_time": "2023-05-16T11:45:48.170Z"
   },
   {
    "duration": 16,
    "start_time": "2023-05-16T11:45:48.805Z"
   },
   {
    "duration": 7,
    "start_time": "2023-05-16T11:46:33.156Z"
   },
   {
    "duration": 21,
    "start_time": "2023-05-16T11:47:21.521Z"
   },
   {
    "duration": 20,
    "start_time": "2023-05-16T11:47:32.570Z"
   },
   {
    "duration": 4,
    "start_time": "2023-05-16T11:48:43.334Z"
   },
   {
    "duration": 26,
    "start_time": "2023-05-16T11:48:47.133Z"
   },
   {
    "duration": 3,
    "start_time": "2023-05-16T11:49:09.777Z"
   },
   {
    "duration": 38,
    "start_time": "2023-05-16T11:49:12.322Z"
   },
   {
    "duration": 54,
    "start_time": "2023-05-16T11:50:08.381Z"
   },
   {
    "duration": 4,
    "start_time": "2023-05-16T11:50:36.200Z"
   },
   {
    "duration": 27,
    "start_time": "2023-05-16T11:50:38.571Z"
   },
   {
    "duration": 30,
    "start_time": "2023-05-16T11:52:33.756Z"
   },
   {
    "duration": 51,
    "start_time": "2023-05-16T11:53:00.423Z"
   },
   {
    "duration": 374,
    "start_time": "2023-05-16T12:09:01.452Z"
   },
   {
    "duration": 492,
    "start_time": "2023-05-16T12:10:03.551Z"
   },
   {
    "duration": 6,
    "start_time": "2023-05-16T12:10:20.605Z"
   },
   {
    "duration": 84,
    "start_time": "2023-05-16T12:10:26.353Z"
   },
   {
    "duration": 2711,
    "start_time": "2023-05-16T12:10:35.177Z"
   },
   {
    "duration": 878,
    "start_time": "2023-05-16T12:10:45.808Z"
   },
   {
    "duration": 613,
    "start_time": "2023-05-16T12:10:54.952Z"
   },
   {
    "duration": 985,
    "start_time": "2023-05-16T12:21:53.049Z"
   },
   {
    "duration": 1127,
    "start_time": "2023-05-16T12:24:09.021Z"
   },
   {
    "duration": 6,
    "start_time": "2023-05-16T12:24:36.391Z"
   },
   {
    "duration": 1024,
    "start_time": "2023-05-16T12:24:38.411Z"
   },
   {
    "duration": 24,
    "start_time": "2023-05-16T12:24:39.439Z"
   },
   {
    "duration": 9,
    "start_time": "2023-05-16T12:26:52.350Z"
   },
   {
    "duration": 25,
    "start_time": "2023-05-16T12:27:30.876Z"
   },
   {
    "duration": 18,
    "start_time": "2023-05-16T12:27:38.056Z"
   },
   {
    "duration": 16,
    "start_time": "2023-05-16T12:28:18.754Z"
   },
   {
    "duration": 22,
    "start_time": "2023-05-16T12:35:15.302Z"
   },
   {
    "duration": 8,
    "start_time": "2023-05-16T12:35:46.909Z"
   },
   {
    "duration": 16,
    "start_time": "2023-05-16T12:36:17.851Z"
   },
   {
    "duration": 11,
    "start_time": "2023-05-16T12:36:44.479Z"
   },
   {
    "duration": 10,
    "start_time": "2023-05-16T12:36:56.617Z"
   },
   {
    "duration": 14,
    "start_time": "2023-05-16T12:37:04.671Z"
   },
   {
    "duration": 10,
    "start_time": "2023-05-16T12:37:31.880Z"
   },
   {
    "duration": 8,
    "start_time": "2023-05-16T12:39:30.652Z"
   },
   {
    "duration": 4,
    "start_time": "2023-05-16T12:40:06.150Z"
   },
   {
    "duration": 13,
    "start_time": "2023-05-16T12:40:12.847Z"
   },
   {
    "duration": 61,
    "start_time": "2023-05-16T12:43:08.913Z"
   },
   {
    "duration": 3,
    "start_time": "2023-05-16T12:43:26.922Z"
   },
   {
    "duration": 186,
    "start_time": "2023-05-16T12:43:26.927Z"
   },
   {
    "duration": 10,
    "start_time": "2023-05-16T12:43:27.115Z"
   },
   {
    "duration": 319,
    "start_time": "2023-05-16T12:43:27.127Z"
   },
   {
    "duration": 39,
    "start_time": "2023-05-16T12:43:27.448Z"
   },
   {
    "duration": 21,
    "start_time": "2023-05-16T12:43:27.494Z"
   },
   {
    "duration": 11,
    "start_time": "2023-05-16T12:43:27.517Z"
   },
   {
    "duration": 20,
    "start_time": "2023-05-16T12:43:27.530Z"
   },
   {
    "duration": 42,
    "start_time": "2023-05-16T12:43:27.552Z"
   },
   {
    "duration": 6,
    "start_time": "2023-05-16T12:43:27.596Z"
   },
   {
    "duration": 31,
    "start_time": "2023-05-16T12:43:27.605Z"
   },
   {
    "duration": 60,
    "start_time": "2023-05-16T12:43:27.638Z"
   },
   {
    "duration": 5,
    "start_time": "2023-05-16T12:43:27.700Z"
   },
   {
    "duration": 97,
    "start_time": "2023-05-16T12:43:27.707Z"
   },
   {
    "duration": 2986,
    "start_time": "2023-05-16T12:43:27.806Z"
   },
   {
    "duration": 949,
    "start_time": "2023-05-16T12:43:30.794Z"
   },
   {
    "duration": 15,
    "start_time": "2023-05-16T12:43:31.745Z"
   },
   {
    "duration": 36,
    "start_time": "2023-05-16T12:43:31.762Z"
   },
   {
    "duration": 30,
    "start_time": "2023-05-16T12:44:15.992Z"
   },
   {
    "duration": 35,
    "start_time": "2023-05-16T12:44:42.868Z"
   },
   {
    "duration": 32,
    "start_time": "2023-05-16T12:47:04.482Z"
   },
   {
    "duration": 1675,
    "start_time": "2023-05-16T12:48:00.978Z"
   },
   {
    "duration": 47,
    "start_time": "2023-05-16T12:48:18.506Z"
   },
   {
    "duration": 1188,
    "start_time": "2023-05-16T12:48:24.178Z"
   },
   {
    "duration": 61,
    "start_time": "2023-05-16T12:48:25.375Z"
   },
   {
    "duration": 11,
    "start_time": "2023-05-16T12:48:25.438Z"
   },
   {
    "duration": 333,
    "start_time": "2023-05-16T12:48:25.451Z"
   },
   {
    "duration": 18,
    "start_time": "2023-05-16T12:48:25.785Z"
   },
   {
    "duration": 19,
    "start_time": "2023-05-16T12:48:25.805Z"
   },
   {
    "duration": 11,
    "start_time": "2023-05-16T12:48:25.825Z"
   },
   {
    "duration": 35,
    "start_time": "2023-05-16T12:48:25.838Z"
   },
   {
    "duration": 28,
    "start_time": "2023-05-16T12:48:25.879Z"
   },
   {
    "duration": 6,
    "start_time": "2023-05-16T12:48:25.909Z"
   },
   {
    "duration": 43,
    "start_time": "2023-05-16T12:48:25.917Z"
   },
   {
    "duration": 52,
    "start_time": "2023-05-16T12:48:25.962Z"
   },
   {
    "duration": 6,
    "start_time": "2023-05-16T12:48:26.016Z"
   },
   {
    "duration": 91,
    "start_time": "2023-05-16T12:48:26.023Z"
   },
   {
    "duration": 2804,
    "start_time": "2023-05-16T12:48:26.116Z"
   },
   {
    "duration": 975,
    "start_time": "2023-05-16T12:48:28.923Z"
   },
   {
    "duration": 6,
    "start_time": "2023-05-16T12:48:29.900Z"
   },
   {
    "duration": 33,
    "start_time": "2023-05-16T12:48:29.907Z"
   },
   {
    "duration": 31,
    "start_time": "2023-05-16T12:48:43.983Z"
   },
   {
    "duration": 206,
    "start_time": "2023-05-16T12:49:11.619Z"
   },
   {
    "duration": 35,
    "start_time": "2023-05-16T12:54:51.454Z"
   },
   {
    "duration": 52,
    "start_time": "2023-05-16T12:55:25.695Z"
   },
   {
    "duration": 39,
    "start_time": "2023-05-16T12:56:24.173Z"
   },
   {
    "duration": 34,
    "start_time": "2023-05-16T12:56:53.281Z"
   },
   {
    "duration": 862,
    "start_time": "2023-05-16T12:58:09.824Z"
   },
   {
    "duration": 6,
    "start_time": "2023-05-16T12:58:12.482Z"
   },
   {
    "duration": 49,
    "start_time": "2023-05-16T12:58:14.545Z"
   },
   {
    "duration": 16,
    "start_time": "2023-05-16T12:58:24.511Z"
   },
   {
    "duration": 190,
    "start_time": "2023-05-16T12:58:37.980Z"
   },
   {
    "duration": 886,
    "start_time": "2023-05-16T12:59:32.795Z"
   },
   {
    "duration": 8,
    "start_time": "2023-05-16T12:59:35.268Z"
   },
   {
    "duration": 56,
    "start_time": "2023-05-16T12:59:37.178Z"
   },
   {
    "duration": 199,
    "start_time": "2023-05-16T12:59:38.476Z"
   },
   {
    "duration": 52,
    "start_time": "2023-05-16T13:00:16.648Z"
   },
   {
    "duration": 1054,
    "start_time": "2023-05-16T13:00:49.164Z"
   },
   {
    "duration": 17,
    "start_time": "2023-05-16T13:00:56.655Z"
   },
   {
    "duration": 33,
    "start_time": "2023-05-16T13:01:01.437Z"
   },
   {
    "duration": 931,
    "start_time": "2023-05-16T13:07:35.983Z"
   },
   {
    "duration": 10,
    "start_time": "2023-05-16T13:07:38.050Z"
   },
   {
    "duration": 23,
    "start_time": "2023-05-16T13:07:39.198Z"
   },
   {
    "duration": 20,
    "start_time": "2023-05-16T13:07:45.023Z"
   },
   {
    "duration": 278,
    "start_time": "2023-05-16T13:08:08.870Z"
   },
   {
    "duration": 278,
    "start_time": "2023-05-16T13:12:04.248Z"
   },
   {
    "duration": 258,
    "start_time": "2023-05-16T13:12:09.552Z"
   },
   {
    "duration": 291,
    "start_time": "2023-05-16T13:12:46.119Z"
   },
   {
    "duration": 327,
    "start_time": "2023-05-16T13:12:54.384Z"
   },
   {
    "duration": 260,
    "start_time": "2023-05-16T13:13:05.707Z"
   },
   {
    "duration": 256,
    "start_time": "2023-05-16T13:13:10.483Z"
   },
   {
    "duration": 25,
    "start_time": "2023-05-16T13:26:36.181Z"
   },
   {
    "duration": 41,
    "start_time": "2023-05-16T13:32:53.054Z"
   },
   {
    "duration": 1101,
    "start_time": "2023-05-16T13:33:47.689Z"
   },
   {
    "duration": 840,
    "start_time": "2023-05-16T13:34:55.205Z"
   },
   {
    "duration": 40,
    "start_time": "2023-05-16T13:40:53.250Z"
   },
   {
    "duration": 11,
    "start_time": "2023-05-16T13:40:58.150Z"
   },
   {
    "duration": 17,
    "start_time": "2023-05-16T13:42:33.554Z"
   },
   {
    "duration": 15,
    "start_time": "2023-05-16T13:43:02.022Z"
   },
   {
    "duration": 12,
    "start_time": "2023-05-16T13:43:20.819Z"
   },
   {
    "duration": 32,
    "start_time": "2023-05-16T13:43:45.989Z"
   },
   {
    "duration": 688,
    "start_time": "2023-05-16T13:45:33.142Z"
   },
   {
    "duration": 1869,
    "start_time": "2023-05-16T15:42:42.978Z"
   },
   {
    "duration": 205,
    "start_time": "2023-05-16T15:42:44.850Z"
   },
   {
    "duration": 21,
    "start_time": "2023-05-16T15:42:45.057Z"
   },
   {
    "duration": 751,
    "start_time": "2023-05-16T15:42:45.082Z"
   },
   {
    "duration": 25,
    "start_time": "2023-05-16T15:42:45.835Z"
   },
   {
    "duration": 35,
    "start_time": "2023-05-16T15:42:45.866Z"
   },
   {
    "duration": 24,
    "start_time": "2023-05-16T15:42:45.908Z"
   },
   {
    "duration": 7,
    "start_time": "2023-05-16T15:42:45.938Z"
   },
   {
    "duration": 70,
    "start_time": "2023-05-16T15:42:45.947Z"
   },
   {
    "duration": 8,
    "start_time": "2023-05-16T15:42:46.021Z"
   },
   {
    "duration": 61,
    "start_time": "2023-05-16T15:42:46.031Z"
   },
   {
    "duration": 40,
    "start_time": "2023-05-16T15:42:46.097Z"
   },
   {
    "duration": 8,
    "start_time": "2023-05-16T15:42:46.139Z"
   },
   {
    "duration": 116,
    "start_time": "2023-05-16T15:42:46.149Z"
   },
   {
    "duration": 3315,
    "start_time": "2023-05-16T15:42:46.267Z"
   },
   {
    "duration": 1091,
    "start_time": "2023-05-16T15:42:49.589Z"
   },
   {
    "duration": 8,
    "start_time": "2023-05-16T15:42:50.682Z"
   },
   {
    "duration": 31,
    "start_time": "2023-05-16T15:42:50.691Z"
   },
   {
    "duration": 32,
    "start_time": "2023-05-16T15:42:50.728Z"
   },
   {
    "duration": 351,
    "start_time": "2023-05-16T15:42:50.761Z"
   },
   {
    "duration": 15,
    "start_time": "2023-05-16T15:43:11.222Z"
   },
   {
    "duration": 42,
    "start_time": "2023-05-16T15:43:44.894Z"
   },
   {
    "duration": 19,
    "start_time": "2023-05-16T15:44:01.961Z"
   },
   {
    "duration": 49,
    "start_time": "2023-05-16T15:45:05.558Z"
   },
   {
    "duration": 886,
    "start_time": "2023-05-16T15:45:57.227Z"
   },
   {
    "duration": 105,
    "start_time": "2023-05-16T15:46:31.304Z"
   },
   {
    "duration": 1812,
    "start_time": "2023-05-16T15:46:38.962Z"
   },
   {
    "duration": 218,
    "start_time": "2023-05-16T15:46:40.776Z"
   },
   {
    "duration": 27,
    "start_time": "2023-05-16T15:46:41.004Z"
   },
   {
    "duration": 990,
    "start_time": "2023-05-16T15:46:41.036Z"
   },
   {
    "duration": 50,
    "start_time": "2023-05-16T15:46:42.041Z"
   },
   {
    "duration": 48,
    "start_time": "2023-05-16T15:46:42.097Z"
   },
   {
    "duration": 29,
    "start_time": "2023-05-16T15:46:42.147Z"
   },
   {
    "duration": 16,
    "start_time": "2023-05-16T15:46:42.190Z"
   },
   {
    "duration": 78,
    "start_time": "2023-05-16T15:46:42.212Z"
   },
   {
    "duration": 21,
    "start_time": "2023-05-16T15:46:42.297Z"
   },
   {
    "duration": 84,
    "start_time": "2023-05-16T15:46:42.326Z"
   },
   {
    "duration": 45,
    "start_time": "2023-05-16T15:46:42.421Z"
   },
   {
    "duration": 9,
    "start_time": "2023-05-16T15:46:42.479Z"
   },
   {
    "duration": 132,
    "start_time": "2023-05-16T15:46:42.496Z"
   },
   {
    "duration": 3889,
    "start_time": "2023-05-16T15:46:42.635Z"
   },
   {
    "duration": 1517,
    "start_time": "2023-05-16T15:46:46.539Z"
   },
   {
    "duration": 24,
    "start_time": "2023-05-16T15:46:48.058Z"
   },
   {
    "duration": 74,
    "start_time": "2023-05-16T15:46:48.084Z"
   },
   {
    "duration": 56,
    "start_time": "2023-05-16T15:46:48.164Z"
   },
   {
    "duration": 425,
    "start_time": "2023-05-16T15:46:48.227Z"
   },
   {
    "duration": 42,
    "start_time": "2023-05-16T15:46:48.658Z"
   },
   {
    "duration": 60,
    "start_time": "2023-05-16T15:46:48.707Z"
   },
   {
    "duration": 33,
    "start_time": "2023-05-16T15:46:48.790Z"
   },
   {
    "duration": 50,
    "start_time": "2023-05-16T15:46:48.830Z"
   },
   {
    "duration": 3,
    "start_time": "2023-05-16T15:49:58.541Z"
   },
   {
    "duration": 111,
    "start_time": "2023-05-16T15:49:58.546Z"
   },
   {
    "duration": 15,
    "start_time": "2023-05-16T15:49:58.659Z"
   },
   {
    "duration": 367,
    "start_time": "2023-05-16T15:49:58.676Z"
   },
   {
    "duration": 26,
    "start_time": "2023-05-16T15:49:59.044Z"
   },
   {
    "duration": 34,
    "start_time": "2023-05-16T15:49:59.074Z"
   },
   {
    "duration": 14,
    "start_time": "2023-05-16T15:49:59.118Z"
   },
   {
    "duration": 8,
    "start_time": "2023-05-16T15:49:59.134Z"
   },
   {
    "duration": 51,
    "start_time": "2023-05-16T15:49:59.143Z"
   },
   {
    "duration": 19,
    "start_time": "2023-05-16T15:49:59.205Z"
   },
   {
    "duration": 43,
    "start_time": "2023-05-16T15:49:59.226Z"
   },
   {
    "duration": 54,
    "start_time": "2023-05-16T15:49:59.271Z"
   },
   {
    "duration": 6,
    "start_time": "2023-05-16T15:49:59.327Z"
   },
   {
    "duration": 98,
    "start_time": "2023-05-16T15:49:59.334Z"
   },
   {
    "duration": 3066,
    "start_time": "2023-05-16T15:49:59.434Z"
   },
   {
    "duration": 882,
    "start_time": "2023-05-16T15:50:02.501Z"
   },
   {
    "duration": 8,
    "start_time": "2023-05-16T15:50:03.391Z"
   },
   {
    "duration": 43,
    "start_time": "2023-05-16T15:50:03.401Z"
   },
   {
    "duration": 33,
    "start_time": "2023-05-16T15:50:12.840Z"
   },
   {
    "duration": 720,
    "start_time": "2023-05-16T15:52:42.484Z"
   },
   {
    "duration": 674,
    "start_time": "2023-05-16T15:52:59.754Z"
   },
   {
    "duration": 1168,
    "start_time": "2023-05-16T15:53:01.164Z"
   },
   {
    "duration": 3,
    "start_time": "2023-05-16T15:53:12.613Z"
   },
   {
    "duration": 75,
    "start_time": "2023-05-16T15:53:12.618Z"
   },
   {
    "duration": 13,
    "start_time": "2023-05-16T15:53:12.694Z"
   },
   {
    "duration": 326,
    "start_time": "2023-05-16T15:53:12.709Z"
   },
   {
    "duration": 26,
    "start_time": "2023-05-16T15:53:13.037Z"
   },
   {
    "duration": 35,
    "start_time": "2023-05-16T15:53:13.070Z"
   },
   {
    "duration": 13,
    "start_time": "2023-05-16T15:53:13.113Z"
   },
   {
    "duration": 6,
    "start_time": "2023-05-16T15:53:13.128Z"
   },
   {
    "duration": 40,
    "start_time": "2023-05-16T15:53:13.136Z"
   },
   {
    "duration": 9,
    "start_time": "2023-05-16T15:53:13.177Z"
   },
   {
    "duration": 48,
    "start_time": "2023-05-16T15:53:13.188Z"
   },
   {
    "duration": 38,
    "start_time": "2023-05-16T15:53:13.238Z"
   },
   {
    "duration": 6,
    "start_time": "2023-05-16T15:53:13.278Z"
   },
   {
    "duration": 96,
    "start_time": "2023-05-16T15:53:13.286Z"
   },
   {
    "duration": 3149,
    "start_time": "2023-05-16T15:53:13.384Z"
   },
   {
    "duration": 916,
    "start_time": "2023-05-16T15:53:16.535Z"
   },
   {
    "duration": 21,
    "start_time": "2023-05-16T15:53:17.453Z"
   },
   {
    "duration": 77,
    "start_time": "2023-05-16T15:53:17.478Z"
   },
   {
    "duration": 33,
    "start_time": "2023-05-16T15:53:17.557Z"
   },
   {
    "duration": 262,
    "start_time": "2023-05-16T15:53:17.592Z"
   },
   {
    "duration": 15,
    "start_time": "2023-05-16T15:53:26.416Z"
   },
   {
    "duration": 68,
    "start_time": "2023-05-16T15:53:30.903Z"
   },
   {
    "duration": 17,
    "start_time": "2023-05-16T15:53:36.798Z"
   },
   {
    "duration": 61,
    "start_time": "2023-05-16T15:53:39.715Z"
   },
   {
    "duration": 597,
    "start_time": "2023-05-16T15:53:58.298Z"
   },
   {
    "duration": 3,
    "start_time": "2023-05-16T15:54:23.514Z"
   },
   {
    "duration": 188,
    "start_time": "2023-05-16T15:54:23.523Z"
   },
   {
    "duration": 16,
    "start_time": "2023-05-16T15:54:23.715Z"
   },
   {
    "duration": 412,
    "start_time": "2023-05-16T15:54:23.736Z"
   },
   {
    "duration": 29,
    "start_time": "2023-05-16T15:54:24.150Z"
   },
   {
    "duration": 33,
    "start_time": "2023-05-16T15:54:24.183Z"
   },
   {
    "duration": 25,
    "start_time": "2023-05-16T15:54:24.221Z"
   },
   {
    "duration": 8,
    "start_time": "2023-05-16T15:54:24.251Z"
   },
   {
    "duration": 41,
    "start_time": "2023-05-16T15:54:24.261Z"
   },
   {
    "duration": 10,
    "start_time": "2023-05-16T15:54:24.303Z"
   },
   {
    "duration": 58,
    "start_time": "2023-05-16T15:54:24.316Z"
   },
   {
    "duration": 54,
    "start_time": "2023-05-16T15:54:24.376Z"
   },
   {
    "duration": 7,
    "start_time": "2023-05-16T15:54:24.433Z"
   },
   {
    "duration": 95,
    "start_time": "2023-05-16T15:54:24.445Z"
   },
   {
    "duration": 2926,
    "start_time": "2023-05-16T15:54:24.542Z"
   },
   {
    "duration": 924,
    "start_time": "2023-05-16T15:54:27.473Z"
   },
   {
    "duration": 10,
    "start_time": "2023-05-16T15:54:28.398Z"
   },
   {
    "duration": 27,
    "start_time": "2023-05-16T15:54:28.410Z"
   },
   {
    "duration": 17,
    "start_time": "2023-05-16T15:54:28.439Z"
   },
   {
    "duration": 269,
    "start_time": "2023-05-16T15:54:28.460Z"
   },
   {
    "duration": 34,
    "start_time": "2023-05-16T15:54:28.732Z"
   },
   {
    "duration": 57,
    "start_time": "2023-05-16T15:54:28.768Z"
   },
   {
    "duration": 11,
    "start_time": "2023-05-16T15:54:28.827Z"
   },
   {
    "duration": 38,
    "start_time": "2023-05-16T15:54:50.300Z"
   },
   {
    "duration": 4,
    "start_time": "2023-05-16T15:57:25.147Z"
   },
   {
    "duration": 96,
    "start_time": "2023-05-16T15:57:25.153Z"
   },
   {
    "duration": 20,
    "start_time": "2023-05-16T15:57:25.251Z"
   },
   {
    "duration": 312,
    "start_time": "2023-05-16T15:57:25.275Z"
   },
   {
    "duration": 32,
    "start_time": "2023-05-16T15:57:25.593Z"
   },
   {
    "duration": 19,
    "start_time": "2023-05-16T15:57:25.633Z"
   },
   {
    "duration": 16,
    "start_time": "2023-05-16T15:57:25.655Z"
   },
   {
    "duration": 13,
    "start_time": "2023-05-16T15:57:25.673Z"
   },
   {
    "duration": 51,
    "start_time": "2023-05-16T15:57:25.689Z"
   },
   {
    "duration": 8,
    "start_time": "2023-05-16T15:57:25.741Z"
   },
   {
    "duration": 75,
    "start_time": "2023-05-16T15:57:25.751Z"
   },
   {
    "duration": 42,
    "start_time": "2023-05-16T15:57:25.829Z"
   },
   {
    "duration": 8,
    "start_time": "2023-05-16T15:57:25.873Z"
   },
   {
    "duration": 103,
    "start_time": "2023-05-16T15:57:25.887Z"
   },
   {
    "duration": 3279,
    "start_time": "2023-05-16T15:57:25.992Z"
   },
   {
    "duration": 996,
    "start_time": "2023-05-16T15:57:29.273Z"
   },
   {
    "duration": 10,
    "start_time": "2023-05-16T15:57:30.275Z"
   },
   {
    "duration": 53,
    "start_time": "2023-05-16T15:57:30.289Z"
   },
   {
    "duration": 36,
    "start_time": "2023-05-16T15:57:30.349Z"
   },
   {
    "duration": 335,
    "start_time": "2023-05-16T15:57:30.392Z"
   },
   {
    "duration": 20,
    "start_time": "2023-05-16T15:57:30.729Z"
   },
   {
    "duration": 44,
    "start_time": "2023-05-16T15:57:30.751Z"
   },
   {
    "duration": 16,
    "start_time": "2023-05-16T15:57:30.797Z"
   },
   {
    "duration": 42,
    "start_time": "2023-05-16T15:57:30.815Z"
   },
   {
    "duration": 65,
    "start_time": "2023-05-16T15:57:37.917Z"
   },
   {
    "duration": 336,
    "start_time": "2023-05-16T15:58:09.642Z"
   },
   {
    "duration": 3,
    "start_time": "2023-05-16T15:58:16.595Z"
   },
   {
    "duration": 69,
    "start_time": "2023-05-16T15:58:16.600Z"
   },
   {
    "duration": 13,
    "start_time": "2023-05-16T15:58:16.678Z"
   },
   {
    "duration": 924,
    "start_time": "2023-05-16T15:58:16.696Z"
   },
   {
    "duration": 16,
    "start_time": "2023-05-16T15:58:17.622Z"
   },
   {
    "duration": 37,
    "start_time": "2023-05-16T15:58:17.640Z"
   },
   {
    "duration": 27,
    "start_time": "2023-05-16T15:58:17.679Z"
   },
   {
    "duration": 10,
    "start_time": "2023-05-16T15:58:17.708Z"
   },
   {
    "duration": 31,
    "start_time": "2023-05-16T15:58:17.719Z"
   },
   {
    "duration": 13,
    "start_time": "2023-05-16T15:58:17.752Z"
   },
   {
    "duration": 55,
    "start_time": "2023-05-16T15:58:17.771Z"
   },
   {
    "duration": 26,
    "start_time": "2023-05-16T15:58:17.828Z"
   },
   {
    "duration": 13,
    "start_time": "2023-05-16T15:58:17.859Z"
   },
   {
    "duration": 114,
    "start_time": "2023-05-16T15:58:17.882Z"
   },
   {
    "duration": 2941,
    "start_time": "2023-05-16T15:58:17.997Z"
   },
   {
    "duration": 1129,
    "start_time": "2023-05-16T15:58:20.940Z"
   },
   {
    "duration": 10,
    "start_time": "2023-05-16T15:58:22.071Z"
   },
   {
    "duration": 39,
    "start_time": "2023-05-16T15:58:22.087Z"
   },
   {
    "duration": 18,
    "start_time": "2023-05-16T15:58:22.128Z"
   },
   {
    "duration": 274,
    "start_time": "2023-05-16T15:58:22.148Z"
   },
   {
    "duration": 15,
    "start_time": "2023-05-16T15:58:22.424Z"
   },
   {
    "duration": 47,
    "start_time": "2023-05-16T15:58:22.441Z"
   },
   {
    "duration": 19,
    "start_time": "2023-05-16T15:58:22.489Z"
   },
   {
    "duration": 32,
    "start_time": "2023-05-16T15:58:28.405Z"
   },
   {
    "duration": 13,
    "start_time": "2023-05-16T15:59:28.755Z"
   },
   {
    "duration": 83,
    "start_time": "2023-05-16T15:59:28.771Z"
   },
   {
    "duration": 34,
    "start_time": "2023-05-16T15:59:28.856Z"
   },
   {
    "duration": 336,
    "start_time": "2023-05-16T15:59:28.891Z"
   },
   {
    "duration": 41,
    "start_time": "2023-05-16T15:59:29.229Z"
   },
   {
    "duration": 37,
    "start_time": "2023-05-16T15:59:29.272Z"
   },
   {
    "duration": 15,
    "start_time": "2023-05-16T15:59:29.311Z"
   },
   {
    "duration": 7,
    "start_time": "2023-05-16T15:59:29.328Z"
   },
   {
    "duration": 42,
    "start_time": "2023-05-16T15:59:29.338Z"
   },
   {
    "duration": 7,
    "start_time": "2023-05-16T15:59:29.382Z"
   },
   {
    "duration": 45,
    "start_time": "2023-05-16T15:59:29.392Z"
   },
   {
    "duration": 47,
    "start_time": "2023-05-16T15:59:29.439Z"
   },
   {
    "duration": 12,
    "start_time": "2023-05-16T15:59:29.497Z"
   },
   {
    "duration": 82,
    "start_time": "2023-05-16T15:59:29.512Z"
   },
   {
    "duration": 3049,
    "start_time": "2023-05-16T15:59:29.596Z"
   },
   {
    "duration": 1032,
    "start_time": "2023-05-16T15:59:32.647Z"
   },
   {
    "duration": 10,
    "start_time": "2023-05-16T15:59:33.684Z"
   },
   {
    "duration": 34,
    "start_time": "2023-05-16T15:59:33.698Z"
   },
   {
    "duration": 20,
    "start_time": "2023-05-16T15:59:33.733Z"
   },
   {
    "duration": 293,
    "start_time": "2023-05-16T15:59:33.756Z"
   },
   {
    "duration": 37,
    "start_time": "2023-05-16T15:59:34.053Z"
   },
   {
    "duration": 36,
    "start_time": "2023-05-16T15:59:34.095Z"
   },
   {
    "duration": 10,
    "start_time": "2023-05-16T15:59:34.133Z"
   },
   {
    "duration": 75,
    "start_time": "2023-05-16T15:59:34.146Z"
   },
   {
    "duration": 318,
    "start_time": "2023-05-16T15:59:38.355Z"
   },
   {
    "duration": 48,
    "start_time": "2023-05-16T16:03:53.153Z"
   },
   {
    "duration": 28,
    "start_time": "2023-05-16T16:04:00.703Z"
   },
   {
    "duration": 265,
    "start_time": "2023-05-16T16:04:27.827Z"
   },
   {
    "duration": 6,
    "start_time": "2023-05-16T18:27:51.904Z"
   },
   {
    "duration": 183,
    "start_time": "2023-05-16T18:27:51.913Z"
   },
   {
    "duration": 37,
    "start_time": "2023-05-16T18:27:52.099Z"
   },
   {
    "duration": 751,
    "start_time": "2023-05-16T18:27:52.144Z"
   },
   {
    "duration": 37,
    "start_time": "2023-05-16T18:27:52.910Z"
   },
   {
    "duration": 68,
    "start_time": "2023-05-16T18:27:52.955Z"
   },
   {
    "duration": 26,
    "start_time": "2023-05-16T18:27:53.029Z"
   },
   {
    "duration": 16,
    "start_time": "2023-05-16T18:27:53.058Z"
   },
   {
    "duration": 86,
    "start_time": "2023-05-16T18:27:53.076Z"
   },
   {
    "duration": 17,
    "start_time": "2023-05-16T18:27:53.163Z"
   },
   {
    "duration": 73,
    "start_time": "2023-05-16T18:27:53.195Z"
   },
   {
    "duration": 72,
    "start_time": "2023-05-16T18:27:53.274Z"
   },
   {
    "duration": 14,
    "start_time": "2023-05-16T18:27:53.351Z"
   },
   {
    "duration": 136,
    "start_time": "2023-05-16T18:27:53.374Z"
   },
   {
    "duration": 3393,
    "start_time": "2023-05-16T18:27:53.517Z"
   },
   {
    "duration": 1167,
    "start_time": "2023-05-16T18:27:56.919Z"
   },
   {
    "duration": 12,
    "start_time": "2023-05-16T18:27:58.090Z"
   },
   {
    "duration": 28,
    "start_time": "2023-05-16T18:27:58.104Z"
   },
   {
    "duration": 18,
    "start_time": "2023-05-16T18:27:58.134Z"
   },
   {
    "duration": 296,
    "start_time": "2023-05-16T18:27:58.154Z"
   },
   {
    "duration": 48,
    "start_time": "2023-05-16T18:27:58.452Z"
   },
   {
    "duration": 19,
    "start_time": "2023-05-16T18:27:58.503Z"
   },
   {
    "duration": 21,
    "start_time": "2023-05-16T18:27:58.526Z"
   },
   {
    "duration": 283,
    "start_time": "2023-05-16T18:27:58.551Z"
   },
   {
    "duration": 369,
    "start_time": "2023-05-16T18:27:58.836Z"
   },
   {
    "duration": 448,
    "start_time": "2023-05-16T18:27:59.207Z"
   },
   {
    "duration": 241,
    "start_time": "2023-05-16T18:28:06.549Z"
   },
   {
    "duration": 1263,
    "start_time": "2023-05-17T05:49:10.822Z"
   },
   {
    "duration": 98,
    "start_time": "2023-05-17T05:49:12.087Z"
   },
   {
    "duration": 10,
    "start_time": "2023-05-17T05:49:12.186Z"
   },
   {
    "duration": 256,
    "start_time": "2023-05-17T05:49:12.198Z"
   },
   {
    "duration": 22,
    "start_time": "2023-05-17T05:49:12.455Z"
   },
   {
    "duration": 20,
    "start_time": "2023-05-17T05:49:12.479Z"
   },
   {
    "duration": 11,
    "start_time": "2023-05-17T05:49:12.500Z"
   },
   {
    "duration": 14,
    "start_time": "2023-05-17T05:49:12.513Z"
   },
   {
    "duration": 28,
    "start_time": "2023-05-17T05:49:12.528Z"
   },
   {
    "duration": 6,
    "start_time": "2023-05-17T05:49:12.574Z"
   },
   {
    "duration": 29,
    "start_time": "2023-05-17T05:49:12.582Z"
   },
   {
    "duration": 27,
    "start_time": "2023-05-17T05:49:12.612Z"
   },
   {
    "duration": 4,
    "start_time": "2023-05-17T05:49:12.641Z"
   },
   {
    "duration": 94,
    "start_time": "2023-05-17T05:49:12.646Z"
   },
   {
    "duration": 2725,
    "start_time": "2023-05-17T05:49:12.741Z"
   },
   {
    "duration": 747,
    "start_time": "2023-05-17T05:49:15.468Z"
   },
   {
    "duration": 4,
    "start_time": "2023-05-17T05:49:16.217Z"
   },
   {
    "duration": 18,
    "start_time": "2023-05-17T05:49:16.222Z"
   },
   {
    "duration": 34,
    "start_time": "2023-05-17T05:49:16.241Z"
   },
   {
    "duration": 210,
    "start_time": "2023-05-17T05:49:16.277Z"
   },
   {
    "duration": 21,
    "start_time": "2023-05-17T05:49:16.489Z"
   },
   {
    "duration": 7,
    "start_time": "2023-05-17T05:49:16.512Z"
   },
   {
    "duration": 16,
    "start_time": "2023-05-17T05:49:16.521Z"
   },
   {
    "duration": 189,
    "start_time": "2023-05-17T05:49:16.539Z"
   },
   {
    "duration": 187,
    "start_time": "2023-05-17T05:49:16.731Z"
   },
   {
    "duration": 382,
    "start_time": "2023-05-17T05:49:16.920Z"
   },
   {
    "duration": 128,
    "start_time": "2023-05-17T05:49:17.303Z"
   },
   {
    "duration": 3,
    "start_time": "2023-05-17T05:49:17.432Z"
   },
   {
    "duration": 38,
    "start_time": "2023-05-17T05:49:17.437Z"
   },
   {
    "duration": 4,
    "start_time": "2023-05-17T05:49:17.476Z"
   },
   {
    "duration": 20,
    "start_time": "2023-05-17T05:49:17.481Z"
   },
   {
    "duration": 79,
    "start_time": "2023-05-17T05:49:17.503Z"
   },
   {
    "duration": 19,
    "start_time": "2023-05-17T05:49:17.583Z"
   },
   {
    "duration": 8,
    "start_time": "2023-05-17T05:49:17.604Z"
   },
   {
    "duration": 9,
    "start_time": "2023-05-17T05:49:17.614Z"
   },
   {
    "duration": 103,
    "start_time": "2023-05-17T05:49:17.625Z"
   },
   {
    "duration": 878,
    "start_time": "2023-05-17T05:49:17.730Z"
   },
   {
    "duration": 20,
    "start_time": "2023-05-17T05:49:18.610Z"
   },
   {
    "duration": 59,
    "start_time": "2023-05-17T05:49:18.632Z"
   },
   {
    "duration": 50,
    "start_time": "2023-05-17T05:51:46.186Z"
   },
   {
    "duration": 46,
    "start_time": "2023-05-17T05:51:56.031Z"
   },
   {
    "duration": 121,
    "start_time": "2023-05-17T05:52:03.555Z"
   },
   {
    "duration": 3,
    "start_time": "2023-05-17T05:57:08.822Z"
   },
   {
    "duration": 3,
    "start_time": "2023-05-17T05:57:13.367Z"
   },
   {
    "duration": 83,
    "start_time": "2023-05-17T05:57:13.373Z"
   },
   {
    "duration": 8,
    "start_time": "2023-05-17T05:57:13.457Z"
   },
   {
    "duration": 324,
    "start_time": "2023-05-17T05:57:13.467Z"
   },
   {
    "duration": 17,
    "start_time": "2023-05-17T05:57:13.793Z"
   },
   {
    "duration": 21,
    "start_time": "2023-05-17T05:57:13.811Z"
   },
   {
    "duration": 12,
    "start_time": "2023-05-17T05:57:13.833Z"
   },
   {
    "duration": 8,
    "start_time": "2023-05-17T05:57:13.846Z"
   },
   {
    "duration": 38,
    "start_time": "2023-05-17T05:57:13.856Z"
   },
   {
    "duration": 5,
    "start_time": "2023-05-17T05:57:13.896Z"
   },
   {
    "duration": 31,
    "start_time": "2023-05-17T05:57:13.903Z"
   },
   {
    "duration": 4,
    "start_time": "2023-05-17T05:57:13.936Z"
   },
   {
    "duration": 51,
    "start_time": "2023-05-17T05:57:13.942Z"
   },
   {
    "duration": 5,
    "start_time": "2023-05-17T05:57:13.995Z"
   },
   {
    "duration": 86,
    "start_time": "2023-05-17T05:57:14.002Z"
   },
   {
    "duration": 2386,
    "start_time": "2023-05-17T05:57:14.090Z"
   },
   {
    "duration": 720,
    "start_time": "2023-05-17T05:57:16.478Z"
   },
   {
    "duration": 4,
    "start_time": "2023-05-17T05:57:17.200Z"
   },
   {
    "duration": 18,
    "start_time": "2023-05-17T05:57:17.205Z"
   },
   {
    "duration": 14,
    "start_time": "2023-05-17T05:57:17.225Z"
   },
   {
    "duration": 229,
    "start_time": "2023-05-17T05:57:17.240Z"
   },
   {
    "duration": 22,
    "start_time": "2023-05-17T05:57:17.471Z"
   },
   {
    "duration": 8,
    "start_time": "2023-05-17T05:57:17.494Z"
   },
   {
    "duration": 21,
    "start_time": "2023-05-17T05:57:17.503Z"
   },
   {
    "duration": 241,
    "start_time": "2023-05-17T05:57:17.526Z"
   },
   {
    "duration": 186,
    "start_time": "2023-05-17T05:57:17.769Z"
   },
   {
    "duration": 308,
    "start_time": "2023-05-17T05:57:17.956Z"
   },
   {
    "duration": 19,
    "start_time": "2023-05-17T05:57:18.266Z"
   },
   {
    "duration": 3,
    "start_time": "2023-05-17T05:57:18.288Z"
   },
   {
    "duration": 19,
    "start_time": "2023-05-17T05:57:18.293Z"
   },
   {
    "duration": 4,
    "start_time": "2023-05-17T05:57:18.313Z"
   },
   {
    "duration": 17,
    "start_time": "2023-05-17T05:57:18.318Z"
   },
   {
    "duration": 54,
    "start_time": "2023-05-17T05:57:18.336Z"
   },
   {
    "duration": 21,
    "start_time": "2023-05-17T05:57:18.392Z"
   },
   {
    "duration": 8,
    "start_time": "2023-05-17T05:57:18.414Z"
   },
   {
    "duration": 7,
    "start_time": "2023-05-17T05:57:18.424Z"
   },
   {
    "duration": 87,
    "start_time": "2023-05-17T05:57:18.432Z"
   },
   {
    "duration": 833,
    "start_time": "2023-05-17T05:57:18.521Z"
   },
   {
    "duration": 28,
    "start_time": "2023-05-17T05:57:19.356Z"
   },
   {
    "duration": 58,
    "start_time": "2023-05-17T05:57:19.386Z"
   },
   {
    "duration": 29,
    "start_time": "2023-05-17T05:57:19.446Z"
   },
   {
    "duration": 12,
    "start_time": "2023-05-17T05:58:24.831Z"
   },
   {
    "duration": 9,
    "start_time": "2023-05-17T05:58:49.579Z"
   },
   {
    "duration": 23,
    "start_time": "2023-05-17T05:59:12.140Z"
   },
   {
    "duration": 8,
    "start_time": "2023-05-17T05:59:19.653Z"
   },
   {
    "duration": 12,
    "start_time": "2023-05-17T05:59:47.913Z"
   },
   {
    "duration": 3,
    "start_time": "2023-05-17T05:59:58.747Z"
   },
   {
    "duration": 105,
    "start_time": "2023-05-17T05:59:58.754Z"
   },
   {
    "duration": 9,
    "start_time": "2023-05-17T05:59:58.861Z"
   },
   {
    "duration": 257,
    "start_time": "2023-05-17T05:59:58.872Z"
   },
   {
    "duration": 18,
    "start_time": "2023-05-17T05:59:59.131Z"
   },
   {
    "duration": 30,
    "start_time": "2023-05-17T05:59:59.150Z"
   },
   {
    "duration": 18,
    "start_time": "2023-05-17T05:59:59.182Z"
   },
   {
    "duration": 6,
    "start_time": "2023-05-17T05:59:59.202Z"
   },
   {
    "duration": 24,
    "start_time": "2023-05-17T05:59:59.209Z"
   },
   {
    "duration": 9,
    "start_time": "2023-05-17T05:59:59.235Z"
   },
   {
    "duration": 60,
    "start_time": "2023-05-17T05:59:59.247Z"
   },
   {
    "duration": 4,
    "start_time": "2023-05-17T06:00:02.717Z"
   },
   {
    "duration": 11,
    "start_time": "2023-05-17T06:00:13.536Z"
   },
   {
    "duration": 3,
    "start_time": "2023-05-17T06:00:30.739Z"
   },
   {
    "duration": 138,
    "start_time": "2023-05-17T06:00:30.745Z"
   },
   {
    "duration": 20,
    "start_time": "2023-05-17T06:00:30.887Z"
   },
   {
    "duration": 349,
    "start_time": "2023-05-17T06:00:30.909Z"
   },
   {
    "duration": 22,
    "start_time": "2023-05-17T06:00:31.261Z"
   },
   {
    "duration": 43,
    "start_time": "2023-05-17T06:00:31.285Z"
   },
   {
    "duration": 78,
    "start_time": "2023-05-17T06:00:31.330Z"
   },
   {
    "duration": 36,
    "start_time": "2023-05-17T06:00:31.413Z"
   },
   {
    "duration": 62,
    "start_time": "2023-05-17T06:00:31.451Z"
   },
   {
    "duration": 9,
    "start_time": "2023-05-17T06:00:31.515Z"
   },
   {
    "duration": 94,
    "start_time": "2023-05-17T06:00:31.529Z"
   },
   {
    "duration": 3,
    "start_time": "2023-05-17T06:00:33.772Z"
   },
   {
    "duration": 10,
    "start_time": "2023-05-17T06:00:34.616Z"
   },
   {
    "duration": 3,
    "start_time": "2023-05-17T06:00:57.002Z"
   },
   {
    "duration": 63,
    "start_time": "2023-05-17T06:00:57.009Z"
   },
   {
    "duration": 13,
    "start_time": "2023-05-17T06:00:57.073Z"
   },
   {
    "duration": 279,
    "start_time": "2023-05-17T06:00:57.088Z"
   },
   {
    "duration": 20,
    "start_time": "2023-05-17T06:00:57.370Z"
   },
   {
    "duration": 34,
    "start_time": "2023-05-17T06:00:57.393Z"
   },
   {
    "duration": 13,
    "start_time": "2023-05-17T06:00:57.429Z"
   },
   {
    "duration": 42,
    "start_time": "2023-05-17T06:00:57.443Z"
   },
   {
    "duration": 41,
    "start_time": "2023-05-17T06:00:57.488Z"
   },
   {
    "duration": 6,
    "start_time": "2023-05-17T06:00:57.532Z"
   },
   {
    "duration": 41,
    "start_time": "2023-05-17T06:00:57.541Z"
   },
   {
    "duration": 4,
    "start_time": "2023-05-17T06:01:00.012Z"
   },
   {
    "duration": 11,
    "start_time": "2023-05-17T06:01:00.765Z"
   },
   {
    "duration": 4,
    "start_time": "2023-05-17T06:01:11.976Z"
   },
   {
    "duration": 73,
    "start_time": "2023-05-17T06:01:11.982Z"
   },
   {
    "duration": 10,
    "start_time": "2023-05-17T06:01:12.057Z"
   },
   {
    "duration": 521,
    "start_time": "2023-05-17T06:01:12.068Z"
   },
   {
    "duration": 27,
    "start_time": "2023-05-17T06:01:12.591Z"
   },
   {
    "duration": 17,
    "start_time": "2023-05-17T06:01:12.621Z"
   },
   {
    "duration": 26,
    "start_time": "2023-05-17T06:01:12.639Z"
   },
   {
    "duration": 10,
    "start_time": "2023-05-17T06:01:12.666Z"
   },
   {
    "duration": 26,
    "start_time": "2023-05-17T06:01:12.678Z"
   },
   {
    "duration": 9,
    "start_time": "2023-05-17T06:01:12.706Z"
   },
   {
    "duration": 60,
    "start_time": "2023-05-17T06:01:12.718Z"
   },
   {
    "duration": 4,
    "start_time": "2023-05-17T06:01:12.781Z"
   },
   {
    "duration": 34,
    "start_time": "2023-05-17T06:01:12.787Z"
   },
   {
    "duration": 5,
    "start_time": "2023-05-17T06:01:12.824Z"
   },
   {
    "duration": 93,
    "start_time": "2023-05-17T06:01:12.830Z"
   },
   {
    "duration": 2756,
    "start_time": "2023-05-17T06:01:12.925Z"
   },
   {
    "duration": 779,
    "start_time": "2023-05-17T06:01:15.683Z"
   },
   {
    "duration": 12,
    "start_time": "2023-05-17T06:01:16.464Z"
   },
   {
    "duration": 26,
    "start_time": "2023-05-17T06:01:16.478Z"
   },
   {
    "duration": 21,
    "start_time": "2023-05-17T06:01:16.506Z"
   },
   {
    "duration": 260,
    "start_time": "2023-05-17T06:01:16.529Z"
   },
   {
    "duration": 24,
    "start_time": "2023-05-17T06:01:16.791Z"
   },
   {
    "duration": 10,
    "start_time": "2023-05-17T06:01:16.817Z"
   },
   {
    "duration": 19,
    "start_time": "2023-05-17T06:01:16.829Z"
   },
   {
    "duration": 301,
    "start_time": "2023-05-17T06:01:16.850Z"
   },
   {
    "duration": 211,
    "start_time": "2023-05-17T06:01:17.153Z"
   },
   {
    "duration": 353,
    "start_time": "2023-05-17T06:01:17.366Z"
   },
   {
    "duration": 18,
    "start_time": "2023-05-17T06:01:17.720Z"
   },
   {
    "duration": 3,
    "start_time": "2023-05-17T06:01:17.741Z"
   },
   {
    "duration": 35,
    "start_time": "2023-05-17T06:01:17.745Z"
   },
   {
    "duration": 3,
    "start_time": "2023-05-17T06:01:17.781Z"
   },
   {
    "duration": 21,
    "start_time": "2023-05-17T06:01:17.786Z"
   },
   {
    "duration": 24,
    "start_time": "2023-05-17T06:01:17.808Z"
   },
   {
    "duration": 18,
    "start_time": "2023-05-17T06:01:17.833Z"
   },
   {
    "duration": 29,
    "start_time": "2023-05-17T06:01:17.853Z"
   },
   {
    "duration": 16,
    "start_time": "2023-05-17T06:01:17.884Z"
   },
   {
    "duration": 63,
    "start_time": "2023-05-17T06:01:17.902Z"
   },
   {
    "duration": 889,
    "start_time": "2023-05-17T06:01:17.967Z"
   },
   {
    "duration": 31,
    "start_time": "2023-05-17T06:01:18.858Z"
   },
   {
    "duration": 55,
    "start_time": "2023-05-17T06:01:18.891Z"
   },
   {
    "duration": 53,
    "start_time": "2023-05-17T06:02:18.169Z"
   },
   {
    "duration": 43,
    "start_time": "2023-05-17T06:02:38.253Z"
   },
   {
    "duration": 12,
    "start_time": "2023-05-17T06:02:45.425Z"
   },
   {
    "duration": 22,
    "start_time": "2023-05-17T06:03:01.446Z"
   },
   {
    "duration": 35,
    "start_time": "2023-05-17T06:03:09.712Z"
   },
   {
    "duration": 11,
    "start_time": "2023-05-17T06:04:05.559Z"
   },
   {
    "duration": 21,
    "start_time": "2023-05-17T06:10:35.705Z"
   },
   {
    "duration": 37,
    "start_time": "2023-05-17T06:10:43.031Z"
   },
   {
    "duration": 12,
    "start_time": "2023-05-17T06:13:09.411Z"
   },
   {
    "duration": 64,
    "start_time": "2023-05-17T06:13:28.031Z"
   },
   {
    "duration": 23,
    "start_time": "2023-05-17T06:13:39.712Z"
   },
   {
    "duration": 9,
    "start_time": "2023-05-17T06:13:40.936Z"
   },
   {
    "duration": 9,
    "start_time": "2023-05-17T06:13:55.107Z"
   },
   {
    "duration": 12,
    "start_time": "2023-05-17T06:14:37.286Z"
   },
   {
    "duration": 23,
    "start_time": "2023-05-17T06:15:45.748Z"
   },
   {
    "duration": 13,
    "start_time": "2023-05-17T06:15:46.467Z"
   },
   {
    "duration": 3,
    "start_time": "2023-05-17T06:15:56.717Z"
   },
   {
    "duration": 28,
    "start_time": "2023-05-17T06:18:10.233Z"
   },
   {
    "duration": 28,
    "start_time": "2023-05-17T06:18:44.595Z"
   },
   {
    "duration": 8,
    "start_time": "2023-05-17T06:21:18.487Z"
   },
   {
    "duration": 9,
    "start_time": "2023-05-17T06:23:57.080Z"
   },
   {
    "duration": 9,
    "start_time": "2023-05-17T06:24:00.301Z"
   },
   {
    "duration": 5,
    "start_time": "2023-05-17T06:24:00.738Z"
   },
   {
    "duration": 3,
    "start_time": "2023-05-17T06:24:38.785Z"
   },
   {
    "duration": 34,
    "start_time": "2023-05-17T06:36:26.785Z"
   },
   {
    "duration": 25,
    "start_time": "2023-05-17T06:36:35.338Z"
   },
   {
    "duration": 3,
    "start_time": "2023-05-17T06:36:52.596Z"
   },
   {
    "duration": 5,
    "start_time": "2023-05-17T06:37:36.891Z"
   },
   {
    "duration": 2,
    "start_time": "2023-05-17T06:38:57.165Z"
   },
   {
    "duration": 3,
    "start_time": "2023-05-17T06:39:39.101Z"
   },
   {
    "duration": 134,
    "start_time": "2023-05-17T06:39:39.108Z"
   },
   {
    "duration": 8,
    "start_time": "2023-05-17T06:39:39.244Z"
   },
   {
    "duration": 278,
    "start_time": "2023-05-17T06:39:39.254Z"
   },
   {
    "duration": 19,
    "start_time": "2023-05-17T06:39:39.534Z"
   },
   {
    "duration": 24,
    "start_time": "2023-05-17T06:39:39.555Z"
   },
   {
    "duration": 13,
    "start_time": "2023-05-17T06:39:39.580Z"
   },
   {
    "duration": 21,
    "start_time": "2023-05-17T06:39:39.595Z"
   },
   {
    "duration": 30,
    "start_time": "2023-05-17T06:39:39.617Z"
   },
   {
    "duration": 6,
    "start_time": "2023-05-17T06:39:39.648Z"
   },
   {
    "duration": 40,
    "start_time": "2023-05-17T06:39:39.657Z"
   },
   {
    "duration": 3,
    "start_time": "2023-05-17T06:39:39.698Z"
   },
   {
    "duration": 30,
    "start_time": "2023-05-17T06:39:39.702Z"
   },
   {
    "duration": 4,
    "start_time": "2023-05-17T06:39:39.734Z"
   },
   {
    "duration": 75,
    "start_time": "2023-05-17T06:39:39.739Z"
   },
   {
    "duration": 2433,
    "start_time": "2023-05-17T06:39:39.816Z"
   },
   {
    "duration": 720,
    "start_time": "2023-05-17T06:39:42.250Z"
   },
   {
    "duration": 7,
    "start_time": "2023-05-17T06:39:42.971Z"
   },
   {
    "duration": 18,
    "start_time": "2023-05-17T06:39:42.979Z"
   },
   {
    "duration": 14,
    "start_time": "2023-05-17T06:39:42.998Z"
   },
   {
    "duration": 217,
    "start_time": "2023-05-17T06:39:43.013Z"
   },
   {
    "duration": 20,
    "start_time": "2023-05-17T06:39:43.232Z"
   },
   {
    "duration": 24,
    "start_time": "2023-05-17T06:39:43.254Z"
   },
   {
    "duration": 14,
    "start_time": "2023-05-17T06:39:43.279Z"
   },
   {
    "duration": 238,
    "start_time": "2023-05-17T06:39:43.294Z"
   },
   {
    "duration": 206,
    "start_time": "2023-05-17T06:39:43.534Z"
   },
   {
    "duration": 357,
    "start_time": "2023-05-17T06:39:43.741Z"
   },
   {
    "duration": 21,
    "start_time": "2023-05-17T06:39:44.099Z"
   },
   {
    "duration": 3,
    "start_time": "2023-05-17T06:39:44.124Z"
   },
   {
    "duration": 25,
    "start_time": "2023-05-17T06:39:44.129Z"
   },
   {
    "duration": 4,
    "start_time": "2023-05-17T06:39:44.175Z"
   },
   {
    "duration": 27,
    "start_time": "2023-05-17T06:39:44.181Z"
   },
   {
    "duration": 24,
    "start_time": "2023-05-17T06:39:44.210Z"
   },
   {
    "duration": 19,
    "start_time": "2023-05-17T06:39:44.235Z"
   },
   {
    "duration": 9,
    "start_time": "2023-05-17T06:39:44.276Z"
   },
   {
    "duration": 8,
    "start_time": "2023-05-17T06:39:44.287Z"
   },
   {
    "duration": 84,
    "start_time": "2023-05-17T06:39:44.296Z"
   },
   {
    "duration": 874,
    "start_time": "2023-05-17T06:39:44.381Z"
   },
   {
    "duration": 27,
    "start_time": "2023-05-17T06:39:45.257Z"
   },
   {
    "duration": 47,
    "start_time": "2023-05-17T06:39:45.286Z"
   },
   {
    "duration": 55,
    "start_time": "2023-05-17T06:39:45.335Z"
   },
   {
    "duration": 33,
    "start_time": "2023-05-17T06:39:45.392Z"
   },
   {
    "duration": 3,
    "start_time": "2023-05-17T06:39:45.427Z"
   },
   {
    "duration": 28,
    "start_time": "2023-05-17T06:39:45.431Z"
   },
   {
    "duration": 4,
    "start_time": "2023-05-17T06:44:13.483Z"
   },
   {
    "duration": 3,
    "start_time": "2023-05-17T06:44:14.822Z"
   },
   {
    "duration": 5,
    "start_time": "2023-05-17T06:44:16.524Z"
   },
   {
    "duration": 7,
    "start_time": "2023-05-17T06:46:55.093Z"
   },
   {
    "duration": 11,
    "start_time": "2023-05-17T06:48:54.285Z"
   },
   {
    "duration": 14,
    "start_time": "2023-05-17T07:15:30.819Z"
   },
   {
    "duration": 54,
    "start_time": "2023-05-17T07:16:29.115Z"
   },
   {
    "duration": 65,
    "start_time": "2023-05-17T07:17:14.100Z"
   },
   {
    "duration": 26,
    "start_time": "2023-05-17T07:18:20.263Z"
   },
   {
    "duration": 73,
    "start_time": "2023-05-17T07:18:37.282Z"
   },
   {
    "duration": 42,
    "start_time": "2023-05-17T07:19:21.478Z"
   },
   {
    "duration": 4,
    "start_time": "2023-05-17T07:19:27.627Z"
   },
   {
    "duration": 6,
    "start_time": "2023-05-17T07:19:59.000Z"
   },
   {
    "duration": 68,
    "start_time": "2023-05-17T07:21:05.755Z"
   },
   {
    "duration": 60,
    "start_time": "2023-05-17T07:21:43.730Z"
   },
   {
    "duration": 45,
    "start_time": "2023-05-17T07:21:49.378Z"
   },
   {
    "duration": 42,
    "start_time": "2023-05-17T07:21:54.330Z"
   },
   {
    "duration": 28,
    "start_time": "2023-05-17T07:22:34.958Z"
   },
   {
    "duration": 43,
    "start_time": "2023-05-17T07:22:42.187Z"
   },
   {
    "duration": 738,
    "start_time": "2023-05-17T07:23:39.310Z"
   },
   {
    "duration": 11,
    "start_time": "2023-05-17T07:25:03.363Z"
   },
   {
    "duration": 41,
    "start_time": "2023-05-17T07:25:15.755Z"
   },
   {
    "duration": 10,
    "start_time": "2023-05-17T07:25:22.819Z"
   },
   {
    "duration": 11,
    "start_time": "2023-05-17T07:26:12.679Z"
   },
   {
    "duration": 12,
    "start_time": "2023-05-17T07:28:50.927Z"
   },
   {
    "duration": 5,
    "start_time": "2023-05-17T07:29:05.906Z"
   },
   {
    "duration": 13,
    "start_time": "2023-05-17T07:29:31.397Z"
   },
   {
    "duration": 13,
    "start_time": "2023-05-17T07:30:52.379Z"
   },
   {
    "duration": 14,
    "start_time": "2023-05-17T07:31:29.715Z"
   },
   {
    "duration": 16,
    "start_time": "2023-05-17T07:35:48.921Z"
   },
   {
    "duration": 10,
    "start_time": "2023-05-17T07:35:59.974Z"
   },
   {
    "duration": 7,
    "start_time": "2023-05-17T07:36:38.158Z"
   },
   {
    "duration": 14,
    "start_time": "2023-05-17T07:36:43.398Z"
   },
   {
    "duration": 13,
    "start_time": "2023-05-17T07:36:55.254Z"
   },
   {
    "duration": 8,
    "start_time": "2023-05-17T07:38:54.210Z"
   },
   {
    "duration": 42,
    "start_time": "2023-05-17T07:39:07.126Z"
   },
   {
    "duration": 18,
    "start_time": "2023-05-17T07:39:08.539Z"
   },
   {
    "duration": 57,
    "start_time": "2023-05-17T07:39:34.139Z"
   },
   {
    "duration": 6,
    "start_time": "2023-05-17T07:39:36.959Z"
   },
   {
    "duration": 12,
    "start_time": "2023-05-17T07:39:44.795Z"
   },
   {
    "duration": 9,
    "start_time": "2023-05-17T07:49:01.759Z"
   },
   {
    "duration": 40,
    "start_time": "2023-05-17T07:49:06.220Z"
   },
   {
    "duration": 15,
    "start_time": "2023-05-17T07:49:07.625Z"
   },
   {
    "duration": 10,
    "start_time": "2023-05-17T07:49:17.282Z"
   },
   {
    "duration": 10,
    "start_time": "2023-05-17T07:49:35.918Z"
   },
   {
    "duration": 14,
    "start_time": "2023-05-17T07:51:58.352Z"
   },
   {
    "duration": 43,
    "start_time": "2023-05-17T07:52:37.387Z"
   },
   {
    "duration": 12,
    "start_time": "2023-05-17T07:52:40.332Z"
   },
   {
    "duration": 53,
    "start_time": "2023-05-17T07:53:23.898Z"
   },
   {
    "duration": 14,
    "start_time": "2023-05-17T07:53:25.810Z"
   },
   {
    "duration": 12,
    "start_time": "2023-05-17T07:55:05.726Z"
   },
   {
    "duration": 12,
    "start_time": "2023-05-17T07:56:00.888Z"
   },
   {
    "duration": 40,
    "start_time": "2023-05-17T08:09:41.932Z"
   },
   {
    "duration": 27,
    "start_time": "2023-05-17T08:13:17.402Z"
   },
   {
    "duration": 47,
    "start_time": "2023-05-17T08:13:24.990Z"
   },
   {
    "duration": 59,
    "start_time": "2023-05-17T08:23:46.311Z"
   },
   {
    "duration": 55,
    "start_time": "2023-05-17T08:23:51.298Z"
   },
   {
    "duration": 174,
    "start_time": "2023-05-17T08:23:57.532Z"
   },
   {
    "duration": 27,
    "start_time": "2023-05-17T08:24:08.208Z"
   },
   {
    "duration": 40,
    "start_time": "2023-05-17T08:27:45.668Z"
   },
   {
    "duration": 16,
    "start_time": "2023-05-17T08:27:55.012Z"
   },
   {
    "duration": 31,
    "start_time": "2023-05-17T08:28:01.319Z"
   },
   {
    "duration": 5,
    "start_time": "2023-05-17T08:28:28.206Z"
   },
   {
    "duration": 44,
    "start_time": "2023-05-17T08:33:50.959Z"
   },
   {
    "duration": 86,
    "start_time": "2023-05-17T08:34:44.210Z"
   },
   {
    "duration": 73,
    "start_time": "2023-05-17T08:45:09.264Z"
   },
   {
    "duration": 43,
    "start_time": "2023-05-17T08:47:35.672Z"
   },
   {
    "duration": 38,
    "start_time": "2023-05-17T08:49:43.405Z"
   },
   {
    "duration": 32,
    "start_time": "2023-05-17T08:51:06.708Z"
   },
   {
    "duration": 1609,
    "start_time": "2023-05-17T08:53:45.756Z"
   },
   {
    "duration": 15,
    "start_time": "2023-05-17T08:54:25.498Z"
   },
   {
    "duration": 9,
    "start_time": "2023-05-17T08:55:03.926Z"
   },
   {
    "duration": 41,
    "start_time": "2023-05-17T08:57:06.162Z"
   },
   {
    "duration": 17,
    "start_time": "2023-05-17T08:57:23.110Z"
   },
   {
    "duration": 12,
    "start_time": "2023-05-17T08:58:50.294Z"
   },
   {
    "duration": 47,
    "start_time": "2023-05-17T08:59:18.019Z"
   },
   {
    "duration": 16,
    "start_time": "2023-05-17T08:59:35.580Z"
   },
   {
    "duration": 9,
    "start_time": "2023-05-17T09:02:01.640Z"
   },
   {
    "duration": 69,
    "start_time": "2023-05-17T09:19:57.846Z"
   },
   {
    "duration": 13,
    "start_time": "2023-05-17T09:20:03.635Z"
   },
   {
    "duration": 9,
    "start_time": "2023-05-17T09:20:05.660Z"
   },
   {
    "duration": 3,
    "start_time": "2023-05-17T10:00:35.119Z"
   },
   {
    "duration": 234,
    "start_time": "2023-05-17T10:00:35.124Z"
   },
   {
    "duration": 9,
    "start_time": "2023-05-17T10:00:35.359Z"
   },
   {
    "duration": 351,
    "start_time": "2023-05-17T10:00:35.370Z"
   },
   {
    "duration": 16,
    "start_time": "2023-05-17T10:00:35.724Z"
   },
   {
    "duration": 18,
    "start_time": "2023-05-17T10:00:35.742Z"
   },
   {
    "duration": 38,
    "start_time": "2023-05-17T10:00:35.762Z"
   },
   {
    "duration": 17,
    "start_time": "2023-05-17T10:00:35.801Z"
   },
   {
    "duration": 27,
    "start_time": "2023-05-17T10:00:35.819Z"
   },
   {
    "duration": 6,
    "start_time": "2023-05-17T10:00:35.847Z"
   },
   {
    "duration": 36,
    "start_time": "2023-05-17T10:00:35.854Z"
   },
   {
    "duration": 14,
    "start_time": "2023-05-17T10:00:35.891Z"
   },
   {
    "duration": 25,
    "start_time": "2023-05-17T10:00:35.912Z"
   },
   {
    "duration": 4,
    "start_time": "2023-05-17T10:00:35.939Z"
   },
   {
    "duration": 99,
    "start_time": "2023-05-17T10:00:35.945Z"
   },
   {
    "duration": 2838,
    "start_time": "2023-05-17T10:00:36.045Z"
   },
   {
    "duration": 971,
    "start_time": "2023-05-17T10:00:38.893Z"
   },
   {
    "duration": 23,
    "start_time": "2023-05-17T10:00:39.866Z"
   },
   {
    "duration": 32,
    "start_time": "2023-05-17T10:00:39.890Z"
   },
   {
    "duration": 13,
    "start_time": "2023-05-17T10:00:39.923Z"
   },
   {
    "duration": 226,
    "start_time": "2023-05-17T10:00:39.937Z"
   },
   {
    "duration": 37,
    "start_time": "2023-05-17T10:00:40.164Z"
   },
   {
    "duration": 24,
    "start_time": "2023-05-17T10:00:40.205Z"
   },
   {
    "duration": 16,
    "start_time": "2023-05-17T10:00:40.230Z"
   },
   {
    "duration": 281,
    "start_time": "2023-05-17T10:00:40.247Z"
   },
   {
    "duration": 225,
    "start_time": "2023-05-17T10:00:40.530Z"
   },
   {
    "duration": 379,
    "start_time": "2023-05-17T10:00:40.757Z"
   },
   {
    "duration": 16,
    "start_time": "2023-05-17T10:00:41.138Z"
   },
   {
    "duration": 3,
    "start_time": "2023-05-17T10:00:41.155Z"
   },
   {
    "duration": 52,
    "start_time": "2023-05-17T10:00:41.159Z"
   },
   {
    "duration": 3,
    "start_time": "2023-05-17T10:00:41.218Z"
   },
   {
    "duration": 19,
    "start_time": "2023-05-17T10:00:41.222Z"
   },
   {
    "duration": 23,
    "start_time": "2023-05-17T10:00:41.243Z"
   },
   {
    "duration": 36,
    "start_time": "2023-05-17T10:00:41.268Z"
   },
   {
    "duration": 16,
    "start_time": "2023-05-17T10:00:41.305Z"
   },
   {
    "duration": 9,
    "start_time": "2023-05-17T10:00:41.322Z"
   },
   {
    "duration": 92,
    "start_time": "2023-05-17T10:00:41.334Z"
   },
   {
    "duration": 983,
    "start_time": "2023-05-17T10:00:41.427Z"
   },
   {
    "duration": 23,
    "start_time": "2023-05-17T10:00:42.412Z"
   },
   {
    "duration": 75,
    "start_time": "2023-05-17T10:00:42.437Z"
   },
   {
    "duration": 22,
    "start_time": "2023-05-17T10:00:42.514Z"
   },
   {
    "duration": 4,
    "start_time": "2023-05-17T10:00:42.537Z"
   },
   {
    "duration": 64,
    "start_time": "2023-05-17T10:00:42.542Z"
   },
   {
    "duration": 11,
    "start_time": "2023-05-17T10:00:42.610Z"
   },
   {
    "duration": 29,
    "start_time": "2023-05-17T10:00:42.623Z"
   },
   {
    "duration": 25,
    "start_time": "2023-05-17T10:00:42.653Z"
   },
   {
    "duration": 15,
    "start_time": "2023-05-17T10:00:42.682Z"
   },
   {
    "duration": 428,
    "start_time": "2023-05-17T10:02:05.402Z"
   },
   {
    "duration": 17,
    "start_time": "2023-05-17T10:02:22.931Z"
   },
   {
    "duration": 1983,
    "start_time": "2023-05-17T10:03:30.014Z"
   },
   {
    "duration": 45,
    "start_time": "2023-05-17T10:03:32.615Z"
   },
   {
    "duration": 3,
    "start_time": "2023-05-17T10:04:14.908Z"
   },
   {
    "duration": 51,
    "start_time": "2023-05-17T10:04:14.914Z"
   },
   {
    "duration": 17,
    "start_time": "2023-05-17T10:04:14.966Z"
   },
   {
    "duration": 268,
    "start_time": "2023-05-17T10:04:14.986Z"
   },
   {
    "duration": 33,
    "start_time": "2023-05-17T10:04:15.256Z"
   },
   {
    "duration": 29,
    "start_time": "2023-05-17T10:04:15.293Z"
   },
   {
    "duration": 10,
    "start_time": "2023-05-17T10:04:15.324Z"
   },
   {
    "duration": 5,
    "start_time": "2023-05-17T10:04:15.336Z"
   },
   {
    "duration": 28,
    "start_time": "2023-05-17T10:04:15.342Z"
   },
   {
    "duration": 12,
    "start_time": "2023-05-17T10:04:15.371Z"
   },
   {
    "duration": 42,
    "start_time": "2023-05-17T10:04:15.390Z"
   },
   {
    "duration": 3,
    "start_time": "2023-05-17T10:04:15.434Z"
   },
   {
    "duration": 27,
    "start_time": "2023-05-17T10:04:15.438Z"
   },
   {
    "duration": 11,
    "start_time": "2023-05-17T10:04:15.467Z"
   },
   {
    "duration": 88,
    "start_time": "2023-05-17T10:04:15.483Z"
   },
   {
    "duration": 2848,
    "start_time": "2023-05-17T10:04:15.572Z"
   },
   {
    "duration": 891,
    "start_time": "2023-05-17T10:04:18.422Z"
   },
   {
    "duration": 7,
    "start_time": "2023-05-17T10:04:19.316Z"
   },
   {
    "duration": 40,
    "start_time": "2023-05-17T10:04:19.325Z"
   },
   {
    "duration": 37,
    "start_time": "2023-05-17T10:04:19.367Z"
   },
   {
    "duration": 269,
    "start_time": "2023-05-17T10:04:19.409Z"
   },
   {
    "duration": 31,
    "start_time": "2023-05-17T10:04:19.693Z"
   },
   {
    "duration": 7,
    "start_time": "2023-05-17T10:04:19.726Z"
   },
   {
    "duration": 15,
    "start_time": "2023-05-17T10:04:19.734Z"
   },
   {
    "duration": 234,
    "start_time": "2023-05-17T10:04:19.750Z"
   },
   {
    "duration": 244,
    "start_time": "2023-05-17T10:04:19.989Z"
   },
   {
    "duration": 406,
    "start_time": "2023-05-17T10:04:20.234Z"
   },
   {
    "duration": 16,
    "start_time": "2023-05-17T10:04:20.642Z"
   },
   {
    "duration": 4,
    "start_time": "2023-05-17T10:04:20.659Z"
   },
   {
    "duration": 66,
    "start_time": "2023-05-17T10:04:20.664Z"
   },
   {
    "duration": 3,
    "start_time": "2023-05-17T10:04:20.732Z"
   },
   {
    "duration": 22,
    "start_time": "2023-05-17T10:04:20.736Z"
   },
   {
    "duration": 53,
    "start_time": "2023-05-17T10:04:20.759Z"
   },
   {
    "duration": 31,
    "start_time": "2023-05-17T10:04:20.815Z"
   },
   {
    "duration": 10,
    "start_time": "2023-05-17T10:04:20.850Z"
   },
   {
    "duration": 9,
    "start_time": "2023-05-17T10:04:20.862Z"
   },
   {
    "duration": 92,
    "start_time": "2023-05-17T10:04:20.873Z"
   },
   {
    "duration": 1074,
    "start_time": "2023-05-17T10:04:20.967Z"
   },
   {
    "duration": 21,
    "start_time": "2023-05-17T10:04:22.043Z"
   },
   {
    "duration": 78,
    "start_time": "2023-05-17T10:04:22.065Z"
   },
   {
    "duration": 35,
    "start_time": "2023-05-17T10:04:22.146Z"
   },
   {
    "duration": 4,
    "start_time": "2023-05-17T10:04:22.183Z"
   },
   {
    "duration": 46,
    "start_time": "2023-05-17T10:04:22.190Z"
   },
   {
    "duration": 8,
    "start_time": "2023-05-17T10:04:22.237Z"
   },
   {
    "duration": 60,
    "start_time": "2023-05-17T10:04:22.246Z"
   },
   {
    "duration": 16,
    "start_time": "2023-05-17T10:04:22.309Z"
   },
   {
    "duration": 8,
    "start_time": "2023-05-17T10:04:22.326Z"
   },
   {
    "duration": 3,
    "start_time": "2023-05-17T10:37:08.051Z"
   },
   {
    "duration": 97,
    "start_time": "2023-05-17T10:37:08.058Z"
   },
   {
    "duration": 10,
    "start_time": "2023-05-17T10:37:08.157Z"
   },
   {
    "duration": 478,
    "start_time": "2023-05-17T10:37:08.169Z"
   },
   {
    "duration": 19,
    "start_time": "2023-05-17T10:37:08.650Z"
   },
   {
    "duration": 35,
    "start_time": "2023-05-17T10:37:08.671Z"
   },
   {
    "duration": 19,
    "start_time": "2023-05-17T10:37:08.708Z"
   },
   {
    "duration": 16,
    "start_time": "2023-05-17T10:37:08.729Z"
   },
   {
    "duration": 37,
    "start_time": "2023-05-17T10:37:08.747Z"
   },
   {
    "duration": 19,
    "start_time": "2023-05-17T10:37:08.785Z"
   },
   {
    "duration": 44,
    "start_time": "2023-05-17T10:37:08.808Z"
   },
   {
    "duration": 5,
    "start_time": "2023-05-17T10:37:08.854Z"
   },
   {
    "duration": 42,
    "start_time": "2023-05-17T10:37:08.861Z"
   },
   {
    "duration": 14,
    "start_time": "2023-05-17T10:37:08.911Z"
   },
   {
    "duration": 80,
    "start_time": "2023-05-17T10:37:08.927Z"
   },
   {
    "duration": 3167,
    "start_time": "2023-05-17T10:37:09.009Z"
   },
   {
    "duration": 931,
    "start_time": "2023-05-17T10:37:12.188Z"
   },
   {
    "duration": 5,
    "start_time": "2023-05-17T10:37:13.121Z"
   },
   {
    "duration": 24,
    "start_time": "2023-05-17T10:37:13.129Z"
   },
   {
    "duration": 28,
    "start_time": "2023-05-17T10:37:13.154Z"
   },
   {
    "duration": 252,
    "start_time": "2023-05-17T10:37:13.192Z"
   },
   {
    "duration": 21,
    "start_time": "2023-05-17T10:37:13.445Z"
   },
   {
    "duration": 16,
    "start_time": "2023-05-17T10:37:13.468Z"
   },
   {
    "duration": 32,
    "start_time": "2023-05-17T10:37:13.502Z"
   },
   {
    "duration": 210,
    "start_time": "2023-05-17T10:37:13.536Z"
   },
   {
    "duration": 225,
    "start_time": "2023-05-17T10:37:13.747Z"
   },
   {
    "duration": 467,
    "start_time": "2023-05-17T10:37:13.978Z"
   },
   {
    "duration": 19,
    "start_time": "2023-05-17T10:37:14.447Z"
   },
   {
    "duration": 18,
    "start_time": "2023-05-17T10:37:14.479Z"
   },
   {
    "duration": 39,
    "start_time": "2023-05-17T10:37:14.499Z"
   },
   {
    "duration": 5,
    "start_time": "2023-05-17T10:37:14.539Z"
   },
   {
    "duration": 21,
    "start_time": "2023-05-17T10:37:14.545Z"
   },
   {
    "duration": 46,
    "start_time": "2023-05-17T10:37:14.568Z"
   },
   {
    "duration": 33,
    "start_time": "2023-05-17T10:37:14.617Z"
   },
   {
    "duration": 11,
    "start_time": "2023-05-17T10:37:14.652Z"
   },
   {
    "duration": 42,
    "start_time": "2023-05-17T10:37:14.664Z"
   },
   {
    "duration": 92,
    "start_time": "2023-05-17T10:37:14.722Z"
   },
   {
    "duration": 1007,
    "start_time": "2023-05-17T10:37:14.824Z"
   },
   {
    "duration": 24,
    "start_time": "2023-05-17T10:37:15.832Z"
   },
   {
    "duration": 80,
    "start_time": "2023-05-17T10:37:15.858Z"
   },
   {
    "duration": 24,
    "start_time": "2023-05-17T10:37:15.940Z"
   },
   {
    "duration": 21,
    "start_time": "2023-05-17T10:37:15.966Z"
   },
   {
    "duration": 52,
    "start_time": "2023-05-17T10:37:15.989Z"
   },
   {
    "duration": 8,
    "start_time": "2023-05-17T10:37:16.043Z"
   },
   {
    "duration": 46,
    "start_time": "2023-05-17T10:37:16.053Z"
   },
   {
    "duration": 25,
    "start_time": "2023-05-17T10:37:16.112Z"
   },
   {
    "duration": 7,
    "start_time": "2023-05-17T10:37:16.139Z"
   },
   {
    "duration": 1468,
    "start_time": "2023-05-17T14:24:34.499Z"
   },
   {
    "duration": 85,
    "start_time": "2023-05-17T14:24:35.971Z"
   },
   {
    "duration": 12,
    "start_time": "2023-05-17T14:24:36.058Z"
   },
   {
    "duration": 331,
    "start_time": "2023-05-17T14:24:36.072Z"
   },
   {
    "duration": 26,
    "start_time": "2023-05-17T14:24:36.406Z"
   },
   {
    "duration": 55,
    "start_time": "2023-05-17T14:24:36.437Z"
   },
   {
    "duration": 18,
    "start_time": "2023-05-17T14:24:36.494Z"
   },
   {
    "duration": 20,
    "start_time": "2023-05-17T14:24:36.513Z"
   },
   {
    "duration": 42,
    "start_time": "2023-05-17T14:24:36.535Z"
   },
   {
    "duration": 7,
    "start_time": "2023-05-17T14:24:36.579Z"
   },
   {
    "duration": 44,
    "start_time": "2023-05-17T14:24:36.588Z"
   },
   {
    "duration": 6,
    "start_time": "2023-05-17T14:24:36.634Z"
   },
   {
    "duration": 47,
    "start_time": "2023-05-17T14:24:36.642Z"
   },
   {
    "duration": 5,
    "start_time": "2023-05-17T14:24:36.694Z"
   },
   {
    "duration": 112,
    "start_time": "2023-05-17T14:24:36.701Z"
   },
   {
    "duration": 2786,
    "start_time": "2023-05-17T14:24:36.815Z"
   },
   {
    "duration": 889,
    "start_time": "2023-05-17T14:24:39.602Z"
   },
   {
    "duration": 7,
    "start_time": "2023-05-17T14:24:40.493Z"
   },
   {
    "duration": 37,
    "start_time": "2023-05-17T14:24:40.501Z"
   },
   {
    "duration": 19,
    "start_time": "2023-05-17T14:24:40.539Z"
   },
   {
    "duration": 246,
    "start_time": "2023-05-17T14:24:40.572Z"
   },
   {
    "duration": 25,
    "start_time": "2023-05-17T14:24:40.820Z"
   },
   {
    "duration": 28,
    "start_time": "2023-05-17T14:24:40.847Z"
   },
   {
    "duration": 21,
    "start_time": "2023-05-17T14:24:40.877Z"
   },
   {
    "duration": 227,
    "start_time": "2023-05-17T14:24:40.899Z"
   },
   {
    "duration": 222,
    "start_time": "2023-05-17T14:24:41.127Z"
   },
   {
    "duration": 378,
    "start_time": "2023-05-17T14:24:41.351Z"
   },
   {
    "duration": 811,
    "start_time": "2023-05-17T14:24:41.731Z"
   },
   {
    "duration": 4,
    "start_time": "2023-05-17T14:24:42.572Z"
   },
   {
    "duration": 35,
    "start_time": "2023-05-17T14:24:42.578Z"
   },
   {
    "duration": 4,
    "start_time": "2023-05-17T14:24:42.615Z"
   },
   {
    "duration": 19,
    "start_time": "2023-05-17T14:24:42.672Z"
   },
   {
    "duration": 78,
    "start_time": "2023-05-17T14:24:42.693Z"
   },
   {
    "duration": 27,
    "start_time": "2023-05-17T14:24:42.773Z"
   },
   {
    "duration": 12,
    "start_time": "2023-05-17T14:24:42.802Z"
   },
   {
    "duration": 11,
    "start_time": "2023-05-17T14:24:42.816Z"
   },
   {
    "duration": 111,
    "start_time": "2023-05-17T14:24:42.829Z"
   },
   {
    "duration": 1036,
    "start_time": "2023-05-17T14:24:42.942Z"
   },
   {
    "duration": 37,
    "start_time": "2023-05-17T14:24:43.980Z"
   },
   {
    "duration": 82,
    "start_time": "2023-05-17T14:24:44.019Z"
   },
   {
    "duration": 28,
    "start_time": "2023-05-17T14:24:44.106Z"
   },
   {
    "duration": 4,
    "start_time": "2023-05-17T14:24:44.136Z"
   },
   {
    "duration": 72,
    "start_time": "2023-05-17T14:24:44.143Z"
   },
   {
    "duration": 9,
    "start_time": "2023-05-17T14:24:44.217Z"
   },
   {
    "duration": 58,
    "start_time": "2023-05-17T14:24:44.228Z"
   },
   {
    "duration": 16,
    "start_time": "2023-05-17T14:24:44.289Z"
   },
   {
    "duration": 14,
    "start_time": "2023-05-17T14:24:44.308Z"
   },
   {
    "duration": 1576,
    "start_time": "2023-05-18T05:36:13.258Z"
   },
   {
    "duration": 81,
    "start_time": "2023-05-18T05:36:14.836Z"
   },
   {
    "duration": 15,
    "start_time": "2023-05-18T05:36:14.919Z"
   },
   {
    "duration": 329,
    "start_time": "2023-05-18T05:36:14.936Z"
   },
   {
    "duration": 30,
    "start_time": "2023-05-18T05:36:15.267Z"
   },
   {
    "duration": 34,
    "start_time": "2023-05-18T05:36:15.300Z"
   },
   {
    "duration": 35,
    "start_time": "2023-05-18T05:36:15.336Z"
   },
   {
    "duration": 11,
    "start_time": "2023-05-18T05:36:15.373Z"
   },
   {
    "duration": 68,
    "start_time": "2023-05-18T05:36:15.386Z"
   },
   {
    "duration": 10,
    "start_time": "2023-05-18T05:36:15.458Z"
   },
   {
    "duration": 186,
    "start_time": "2023-05-18T05:36:15.471Z"
   },
   {
    "duration": 0,
    "start_time": "2023-05-18T05:36:15.660Z"
   },
   {
    "duration": 0,
    "start_time": "2023-05-18T05:36:15.661Z"
   },
   {
    "duration": 0,
    "start_time": "2023-05-18T05:36:15.663Z"
   },
   {
    "duration": 0,
    "start_time": "2023-05-18T05:36:15.665Z"
   },
   {
    "duration": 0,
    "start_time": "2023-05-18T05:36:15.666Z"
   },
   {
    "duration": 0,
    "start_time": "2023-05-18T05:36:15.668Z"
   },
   {
    "duration": 0,
    "start_time": "2023-05-18T05:36:15.669Z"
   },
   {
    "duration": 0,
    "start_time": "2023-05-18T05:36:15.670Z"
   },
   {
    "duration": 0,
    "start_time": "2023-05-18T05:36:15.672Z"
   },
   {
    "duration": 0,
    "start_time": "2023-05-18T05:36:15.673Z"
   },
   {
    "duration": 0,
    "start_time": "2023-05-18T05:36:15.674Z"
   },
   {
    "duration": 0,
    "start_time": "2023-05-18T05:36:15.699Z"
   },
   {
    "duration": 0,
    "start_time": "2023-05-18T05:36:15.701Z"
   },
   {
    "duration": 0,
    "start_time": "2023-05-18T05:36:15.703Z"
   },
   {
    "duration": 0,
    "start_time": "2023-05-18T05:36:15.705Z"
   },
   {
    "duration": 0,
    "start_time": "2023-05-18T05:36:15.706Z"
   },
   {
    "duration": 0,
    "start_time": "2023-05-18T05:36:15.707Z"
   },
   {
    "duration": 0,
    "start_time": "2023-05-18T05:36:15.709Z"
   },
   {
    "duration": 0,
    "start_time": "2023-05-18T05:36:15.710Z"
   },
   {
    "duration": 0,
    "start_time": "2023-05-18T05:36:15.712Z"
   },
   {
    "duration": 0,
    "start_time": "2023-05-18T05:36:15.714Z"
   },
   {
    "duration": 0,
    "start_time": "2023-05-18T05:36:15.715Z"
   },
   {
    "duration": 0,
    "start_time": "2023-05-18T05:36:15.717Z"
   },
   {
    "duration": 0,
    "start_time": "2023-05-18T05:36:15.719Z"
   },
   {
    "duration": 0,
    "start_time": "2023-05-18T05:36:15.720Z"
   },
   {
    "duration": 0,
    "start_time": "2023-05-18T05:36:15.721Z"
   },
   {
    "duration": 0,
    "start_time": "2023-05-18T05:36:15.722Z"
   },
   {
    "duration": 0,
    "start_time": "2023-05-18T05:36:15.724Z"
   },
   {
    "duration": 0,
    "start_time": "2023-05-18T05:36:15.725Z"
   },
   {
    "duration": 0,
    "start_time": "2023-05-18T05:36:15.726Z"
   },
   {
    "duration": 0,
    "start_time": "2023-05-18T05:36:15.727Z"
   },
   {
    "duration": 0,
    "start_time": "2023-05-18T05:36:15.728Z"
   },
   {
    "duration": 0,
    "start_time": "2023-05-18T05:36:15.730Z"
   },
   {
    "duration": 0,
    "start_time": "2023-05-18T05:36:15.731Z"
   },
   {
    "duration": 0,
    "start_time": "2023-05-18T05:36:15.732Z"
   },
   {
    "duration": 0,
    "start_time": "2023-05-18T05:36:15.733Z"
   },
   {
    "duration": 48,
    "start_time": "2023-05-18T05:36:39.462Z"
   },
   {
    "duration": 54,
    "start_time": "2023-05-18T05:37:53.380Z"
   },
   {
    "duration": 3,
    "start_time": "2023-05-18T05:37:58.560Z"
   },
   {
    "duration": 84,
    "start_time": "2023-05-18T05:37:58.565Z"
   },
   {
    "duration": 9,
    "start_time": "2023-05-18T05:37:58.651Z"
   },
   {
    "duration": 262,
    "start_time": "2023-05-18T05:37:58.662Z"
   },
   {
    "duration": 18,
    "start_time": "2023-05-18T05:37:58.927Z"
   },
   {
    "duration": 21,
    "start_time": "2023-05-18T05:37:58.947Z"
   },
   {
    "duration": 32,
    "start_time": "2023-05-18T05:37:58.970Z"
   },
   {
    "duration": 11,
    "start_time": "2023-05-18T05:37:59.004Z"
   },
   {
    "duration": 29,
    "start_time": "2023-05-18T05:37:59.017Z"
   },
   {
    "duration": 6,
    "start_time": "2023-05-18T05:37:59.048Z"
   },
   {
    "duration": 72,
    "start_time": "2023-05-18T05:37:59.056Z"
   },
   {
    "duration": 4,
    "start_time": "2023-05-18T05:37:59.129Z"
   },
   {
    "duration": 32,
    "start_time": "2023-05-18T05:37:59.134Z"
   },
   {
    "duration": 5,
    "start_time": "2023-05-18T05:37:59.169Z"
   },
   {
    "duration": 95,
    "start_time": "2023-05-18T05:37:59.176Z"
   },
   {
    "duration": 2984,
    "start_time": "2023-05-18T05:37:59.273Z"
   },
   {
    "duration": 905,
    "start_time": "2023-05-18T05:38:02.259Z"
   },
   {
    "duration": 5,
    "start_time": "2023-05-18T05:38:03.166Z"
   },
   {
    "duration": 46,
    "start_time": "2023-05-18T05:38:03.172Z"
   },
   {
    "duration": 15,
    "start_time": "2023-05-18T05:38:03.220Z"
   },
   {
    "duration": 286,
    "start_time": "2023-05-18T05:38:03.237Z"
   },
   {
    "duration": 34,
    "start_time": "2023-05-18T05:38:03.526Z"
   },
   {
    "duration": 10,
    "start_time": "2023-05-18T05:38:03.562Z"
   },
   {
    "duration": 49,
    "start_time": "2023-05-18T05:38:03.574Z"
   },
   {
    "duration": 217,
    "start_time": "2023-05-18T05:38:03.625Z"
   },
   {
    "duration": 234,
    "start_time": "2023-05-18T05:38:03.844Z"
   },
   {
    "duration": 403,
    "start_time": "2023-05-18T05:38:04.080Z"
   },
   {
    "duration": 263,
    "start_time": "2023-05-18T05:38:04.485Z"
   },
   {
    "duration": 3,
    "start_time": "2023-05-18T05:38:04.750Z"
   },
   {
    "duration": 69,
    "start_time": "2023-05-18T05:38:04.755Z"
   },
   {
    "duration": 12,
    "start_time": "2023-05-18T05:38:04.826Z"
   },
   {
    "duration": 75,
    "start_time": "2023-05-18T05:38:04.839Z"
   },
   {
    "duration": 28,
    "start_time": "2023-05-18T05:38:04.916Z"
   },
   {
    "duration": 20,
    "start_time": "2023-05-18T05:38:04.946Z"
   },
   {
    "duration": 42,
    "start_time": "2023-05-18T05:38:04.968Z"
   },
   {
    "duration": 19,
    "start_time": "2023-05-18T05:38:05.012Z"
   },
   {
    "duration": 94,
    "start_time": "2023-05-18T05:38:05.033Z"
   },
   {
    "duration": 1032,
    "start_time": "2023-05-18T05:38:05.130Z"
   },
   {
    "duration": 33,
    "start_time": "2023-05-18T05:38:06.164Z"
   },
   {
    "duration": 61,
    "start_time": "2023-05-18T05:38:06.204Z"
   },
   {
    "duration": 37,
    "start_time": "2023-05-18T05:38:06.269Z"
   },
   {
    "duration": 5,
    "start_time": "2023-05-18T05:38:06.309Z"
   },
   {
    "duration": 48,
    "start_time": "2023-05-18T05:38:06.316Z"
   },
   {
    "duration": 8,
    "start_time": "2023-05-18T05:38:06.366Z"
   },
   {
    "duration": 57,
    "start_time": "2023-05-18T05:38:06.375Z"
   },
   {
    "duration": 12,
    "start_time": "2023-05-18T05:38:06.434Z"
   },
   {
    "duration": 9,
    "start_time": "2023-05-18T05:38:06.447Z"
   },
   {
    "duration": 13,
    "start_time": "2023-05-18T05:38:32.481Z"
   },
   {
    "duration": 12,
    "start_time": "2023-05-18T05:39:28.081Z"
   },
   {
    "duration": 36,
    "start_time": "2023-05-18T05:41:19.173Z"
   },
   {
    "duration": 23,
    "start_time": "2023-05-18T05:41:51.211Z"
   },
   {
    "duration": 138,
    "start_time": "2023-05-18T05:56:51.280Z"
   },
   {
    "duration": 14,
    "start_time": "2023-05-18T05:57:18.031Z"
   },
   {
    "duration": 11,
    "start_time": "2023-05-18T05:57:56.929Z"
   },
   {
    "duration": 14,
    "start_time": "2023-05-18T05:59:36.026Z"
   },
   {
    "duration": 26,
    "start_time": "2023-05-18T05:59:53.261Z"
   },
   {
    "duration": 20,
    "start_time": "2023-05-18T06:00:02.605Z"
   },
   {
    "duration": 17,
    "start_time": "2023-05-18T06:01:05.459Z"
   },
   {
    "duration": 15,
    "start_time": "2023-05-18T06:01:55.517Z"
   },
   {
    "duration": 17,
    "start_time": "2023-05-18T06:02:01.124Z"
   },
   {
    "duration": 235,
    "start_time": "2023-05-18T06:03:56.807Z"
   },
   {
    "duration": 161,
    "start_time": "2023-05-18T06:05:21.721Z"
   },
   {
    "duration": 171,
    "start_time": "2023-05-18T06:05:27.261Z"
   },
   {
    "duration": 234,
    "start_time": "2023-05-18T06:06:00.388Z"
   },
   {
    "duration": 312,
    "start_time": "2023-05-18T06:17:24.511Z"
   },
   {
    "duration": 313,
    "start_time": "2023-05-18T06:17:57.392Z"
   },
   {
    "duration": 240,
    "start_time": "2023-05-18T06:19:32.353Z"
   },
   {
    "duration": 387,
    "start_time": "2023-05-18T06:19:56.786Z"
   },
   {
    "duration": 157,
    "start_time": "2023-05-18T06:20:25.067Z"
   },
   {
    "duration": 14,
    "start_time": "2023-05-18T06:20:53.162Z"
   },
   {
    "duration": 19,
    "start_time": "2023-05-18T06:21:19.818Z"
   },
   {
    "duration": 276,
    "start_time": "2023-05-18T06:21:57.887Z"
   },
   {
    "duration": 250,
    "start_time": "2023-05-18T06:23:10.422Z"
   },
   {
    "duration": 240,
    "start_time": "2023-05-18T06:29:06.604Z"
   },
   {
    "duration": 176,
    "start_time": "2023-05-18T06:29:18.510Z"
   },
   {
    "duration": 15,
    "start_time": "2023-05-18T06:29:34.968Z"
   },
   {
    "duration": 21,
    "start_time": "2023-05-18T06:29:46.561Z"
   },
   {
    "duration": 14,
    "start_time": "2023-05-18T06:31:11.856Z"
   },
   {
    "duration": 27,
    "start_time": "2023-05-18T06:31:48.202Z"
   },
   {
    "duration": 14,
    "start_time": "2023-05-18T06:32:08.123Z"
   },
   {
    "duration": 11,
    "start_time": "2023-05-18T06:32:11.560Z"
   },
   {
    "duration": 42,
    "start_time": "2023-05-18T06:32:45.519Z"
   },
   {
    "duration": 23,
    "start_time": "2023-05-18T06:33:00.651Z"
   },
   {
    "duration": 6,
    "start_time": "2023-05-18T06:33:06.838Z"
   },
   {
    "duration": 203,
    "start_time": "2023-05-18T06:33:06.846Z"
   },
   {
    "duration": 11,
    "start_time": "2023-05-18T06:33:07.052Z"
   },
   {
    "duration": 1012,
    "start_time": "2023-05-18T06:33:07.065Z"
   },
   {
    "duration": 36,
    "start_time": "2023-05-18T06:33:08.080Z"
   },
   {
    "duration": 48,
    "start_time": "2023-05-18T06:33:08.125Z"
   },
   {
    "duration": 59,
    "start_time": "2023-05-18T06:33:08.175Z"
   },
   {
    "duration": 20,
    "start_time": "2023-05-18T06:33:08.237Z"
   },
   {
    "duration": 57,
    "start_time": "2023-05-18T06:33:08.260Z"
   },
   {
    "duration": 12,
    "start_time": "2023-05-18T06:33:08.321Z"
   },
   {
    "duration": 55,
    "start_time": "2023-05-18T06:33:08.335Z"
   },
   {
    "duration": 39,
    "start_time": "2023-05-18T06:33:08.393Z"
   },
   {
    "duration": 43,
    "start_time": "2023-05-18T06:33:08.434Z"
   },
   {
    "duration": 6,
    "start_time": "2023-05-18T06:33:08.480Z"
   },
   {
    "duration": 139,
    "start_time": "2023-05-18T06:33:08.487Z"
   },
   {
    "duration": 3117,
    "start_time": "2023-05-18T06:33:08.629Z"
   },
   {
    "duration": 997,
    "start_time": "2023-05-18T06:33:11.748Z"
   },
   {
    "duration": 6,
    "start_time": "2023-05-18T06:33:12.746Z"
   },
   {
    "duration": 49,
    "start_time": "2023-05-18T06:33:12.753Z"
   },
   {
    "duration": 26,
    "start_time": "2023-05-18T06:33:12.804Z"
   },
   {
    "duration": 278,
    "start_time": "2023-05-18T06:33:12.832Z"
   },
   {
    "duration": 28,
    "start_time": "2023-05-18T06:33:13.114Z"
   },
   {
    "duration": 10,
    "start_time": "2023-05-18T06:33:13.144Z"
   },
   {
    "duration": 27,
    "start_time": "2023-05-18T06:33:13.156Z"
   },
   {
    "duration": 259,
    "start_time": "2023-05-18T06:33:13.185Z"
   },
   {
    "duration": 243,
    "start_time": "2023-05-18T06:33:13.447Z"
   },
   {
    "duration": 439,
    "start_time": "2023-05-18T06:33:13.692Z"
   },
   {
    "duration": 24,
    "start_time": "2023-05-18T06:33:14.133Z"
   },
   {
    "duration": 37,
    "start_time": "2023-05-18T06:33:47.693Z"
   },
   {
    "duration": 21,
    "start_time": "2023-05-18T06:34:26.659Z"
   },
   {
    "duration": 20,
    "start_time": "2023-05-18T06:34:42.360Z"
   },
   {
    "duration": 249,
    "start_time": "2023-05-18T06:34:56.877Z"
   },
   {
    "duration": 190,
    "start_time": "2023-05-18T06:36:14.260Z"
   },
   {
    "duration": 183,
    "start_time": "2023-05-18T06:36:29.864Z"
   },
   {
    "duration": 15,
    "start_time": "2023-05-18T06:36:53.022Z"
   },
   {
    "duration": 18,
    "start_time": "2023-05-18T06:37:13.026Z"
   },
   {
    "duration": 231,
    "start_time": "2023-05-18T06:39:38.684Z"
   },
   {
    "duration": 527,
    "start_time": "2023-05-18T06:40:39.625Z"
   },
   {
    "duration": 59,
    "start_time": "2023-05-18T07:08:45.008Z"
   },
   {
    "duration": 64,
    "start_time": "2023-05-18T07:15:11.956Z"
   },
   {
    "duration": 104,
    "start_time": "2023-05-18T07:15:35.526Z"
   },
   {
    "duration": 82,
    "start_time": "2023-05-18T07:16:21.989Z"
   },
   {
    "duration": 55,
    "start_time": "2023-05-18T07:16:52.921Z"
   },
   {
    "duration": 64,
    "start_time": "2023-05-18T07:18:07.167Z"
   },
   {
    "duration": 48,
    "start_time": "2023-05-18T07:19:49.124Z"
   },
   {
    "duration": 57,
    "start_time": "2023-05-18T07:19:59.311Z"
   },
   {
    "duration": 67,
    "start_time": "2023-05-18T07:20:17.410Z"
   },
   {
    "duration": 80,
    "start_time": "2023-05-18T07:21:40.485Z"
   },
   {
    "duration": 52,
    "start_time": "2023-05-18T07:21:58.762Z"
   },
   {
    "duration": 55,
    "start_time": "2023-05-18T07:22:06.650Z"
   },
   {
    "duration": 39,
    "start_time": "2023-05-18T07:22:25.929Z"
   },
   {
    "duration": 53,
    "start_time": "2023-05-18T07:22:29.225Z"
   },
   {
    "duration": 69,
    "start_time": "2023-05-18T07:22:53.357Z"
   },
   {
    "duration": 71,
    "start_time": "2023-05-18T07:23:03.180Z"
   },
   {
    "duration": 68,
    "start_time": "2023-05-18T07:24:02.712Z"
   },
   {
    "duration": 52,
    "start_time": "2023-05-18T07:24:13.724Z"
   },
   {
    "duration": 63,
    "start_time": "2023-05-18T07:24:24.792Z"
   },
   {
    "duration": 76,
    "start_time": "2023-05-18T07:24:35.470Z"
   },
   {
    "duration": 72,
    "start_time": "2023-05-18T07:24:42.404Z"
   },
   {
    "duration": 62,
    "start_time": "2023-05-18T07:25:41.708Z"
   },
   {
    "duration": 65,
    "start_time": "2023-05-18T07:25:59.074Z"
   },
   {
    "duration": 18,
    "start_time": "2023-05-18T07:28:21.569Z"
   },
   {
    "duration": 234,
    "start_time": "2023-05-18T08:31:22.113Z"
   },
   {
    "duration": 3,
    "start_time": "2023-05-18T08:32:08.286Z"
   },
   {
    "duration": 73,
    "start_time": "2023-05-18T08:32:08.291Z"
   },
   {
    "duration": 10,
    "start_time": "2023-05-18T08:32:08.366Z"
   },
   {
    "duration": 305,
    "start_time": "2023-05-18T08:32:08.377Z"
   },
   {
    "duration": 31,
    "start_time": "2023-05-18T08:32:08.685Z"
   },
   {
    "duration": 25,
    "start_time": "2023-05-18T08:32:08.717Z"
   },
   {
    "duration": 14,
    "start_time": "2023-05-18T08:32:08.743Z"
   },
   {
    "duration": 9,
    "start_time": "2023-05-18T08:32:08.759Z"
   },
   {
    "duration": 55,
    "start_time": "2023-05-18T08:32:08.770Z"
   },
   {
    "duration": 7,
    "start_time": "2023-05-18T08:32:08.826Z"
   },
   {
    "duration": 45,
    "start_time": "2023-05-18T08:32:08.835Z"
   },
   {
    "duration": 31,
    "start_time": "2023-05-18T08:32:08.881Z"
   },
   {
    "duration": 31,
    "start_time": "2023-05-18T08:32:08.915Z"
   },
   {
    "duration": 6,
    "start_time": "2023-05-18T08:32:08.950Z"
   },
   {
    "duration": 97,
    "start_time": "2023-05-18T08:32:08.958Z"
   },
   {
    "duration": 3029,
    "start_time": "2023-05-18T08:32:09.057Z"
   },
   {
    "duration": 982,
    "start_time": "2023-05-18T08:32:12.089Z"
   },
   {
    "duration": 4,
    "start_time": "2023-05-18T08:32:13.073Z"
   },
   {
    "duration": 42,
    "start_time": "2023-05-18T08:32:13.079Z"
   },
   {
    "duration": 18,
    "start_time": "2023-05-18T08:32:13.123Z"
   },
   {
    "duration": 281,
    "start_time": "2023-05-18T08:32:13.142Z"
   },
   {
    "duration": 25,
    "start_time": "2023-05-18T08:32:13.424Z"
   },
   {
    "duration": 9,
    "start_time": "2023-05-18T08:32:13.451Z"
   },
   {
    "duration": 50,
    "start_time": "2023-05-18T08:32:13.462Z"
   },
   {
    "duration": 217,
    "start_time": "2023-05-18T08:32:13.515Z"
   },
   {
    "duration": 233,
    "start_time": "2023-05-18T08:32:13.735Z"
   },
   {
    "duration": 426,
    "start_time": "2023-05-18T08:32:13.971Z"
   },
   {
    "duration": 228,
    "start_time": "2023-05-18T08:32:14.399Z"
   },
   {
    "duration": 262,
    "start_time": "2023-05-18T08:32:14.630Z"
   },
   {
    "duration": 19,
    "start_time": "2023-05-18T08:32:14.894Z"
   },
   {
    "duration": 25,
    "start_time": "2023-05-18T08:32:14.915Z"
   },
   {
    "duration": 4,
    "start_time": "2023-05-18T08:32:14.942Z"
   },
   {
    "duration": 28,
    "start_time": "2023-05-18T08:32:14.948Z"
   },
   {
    "duration": 48,
    "start_time": "2023-05-18T08:32:14.978Z"
   },
   {
    "duration": 23,
    "start_time": "2023-05-18T08:32:15.028Z"
   },
   {
    "duration": 19,
    "start_time": "2023-05-18T08:32:15.053Z"
   },
   {
    "duration": 23,
    "start_time": "2023-05-18T08:32:15.074Z"
   },
   {
    "duration": 83,
    "start_time": "2023-05-18T08:32:15.104Z"
   },
   {
    "duration": 1056,
    "start_time": "2023-05-18T08:32:15.189Z"
   },
   {
    "duration": 26,
    "start_time": "2023-05-18T08:32:16.247Z"
   },
   {
    "duration": 75,
    "start_time": "2023-05-18T08:32:16.278Z"
   },
   {
    "duration": 27,
    "start_time": "2023-05-18T08:32:16.355Z"
   },
   {
    "duration": 7,
    "start_time": "2023-05-18T08:32:16.397Z"
   },
   {
    "duration": 52,
    "start_time": "2023-05-18T08:32:16.406Z"
   },
   {
    "duration": 9,
    "start_time": "2023-05-18T08:32:16.459Z"
   },
   {
    "duration": 52,
    "start_time": "2023-05-18T08:32:16.470Z"
   },
   {
    "duration": 14,
    "start_time": "2023-05-18T08:32:16.523Z"
   },
   {
    "duration": 9,
    "start_time": "2023-05-18T08:32:16.540Z"
   },
   {
    "duration": 266,
    "start_time": "2023-05-18T08:35:18.159Z"
   },
   {
    "duration": 3,
    "start_time": "2023-05-18T08:53:42.071Z"
   },
   {
    "duration": 177,
    "start_time": "2023-05-18T08:53:42.076Z"
   },
   {
    "duration": 10,
    "start_time": "2023-05-18T08:53:42.254Z"
   },
   {
    "duration": 274,
    "start_time": "2023-05-18T08:53:42.266Z"
   },
   {
    "duration": 18,
    "start_time": "2023-05-18T08:53:42.542Z"
   },
   {
    "duration": 27,
    "start_time": "2023-05-18T08:53:42.562Z"
   },
   {
    "duration": 25,
    "start_time": "2023-05-18T08:53:42.591Z"
   },
   {
    "duration": 26,
    "start_time": "2023-05-18T08:53:42.622Z"
   },
   {
    "duration": 30,
    "start_time": "2023-05-18T08:53:42.649Z"
   },
   {
    "duration": 5,
    "start_time": "2023-05-18T08:53:42.681Z"
   },
   {
    "duration": 53,
    "start_time": "2023-05-18T08:53:42.688Z"
   },
   {
    "duration": 3,
    "start_time": "2023-05-18T08:53:42.743Z"
   },
   {
    "duration": 131,
    "start_time": "2023-05-18T08:53:42.748Z"
   },
   {
    "duration": 5,
    "start_time": "2023-05-18T08:53:42.883Z"
   },
   {
    "duration": 106,
    "start_time": "2023-05-18T08:53:42.897Z"
   },
   {
    "duration": 3035,
    "start_time": "2023-05-18T08:53:43.011Z"
   },
   {
    "duration": 1019,
    "start_time": "2023-05-18T08:53:46.048Z"
   },
   {
    "duration": 7,
    "start_time": "2023-05-18T08:53:47.069Z"
   },
   {
    "duration": 61,
    "start_time": "2023-05-18T08:53:47.078Z"
   },
   {
    "duration": 47,
    "start_time": "2023-05-18T08:53:47.145Z"
   },
   {
    "duration": 291,
    "start_time": "2023-05-18T08:53:47.195Z"
   },
   {
    "duration": 38,
    "start_time": "2023-05-18T08:53:47.488Z"
   },
   {
    "duration": 23,
    "start_time": "2023-05-18T08:53:47.527Z"
   },
   {
    "duration": 58,
    "start_time": "2023-05-18T08:53:47.551Z"
   },
   {
    "duration": 255,
    "start_time": "2023-05-18T08:53:47.611Z"
   },
   {
    "duration": 268,
    "start_time": "2023-05-18T08:53:47.868Z"
   },
   {
    "duration": 407,
    "start_time": "2023-05-18T08:53:48.138Z"
   },
   {
    "duration": 218,
    "start_time": "2023-05-18T08:53:48.546Z"
   },
   {
    "duration": 266,
    "start_time": "2023-05-18T08:53:48.766Z"
   },
   {
    "duration": 3,
    "start_time": "2023-05-18T08:53:49.036Z"
   },
   {
    "duration": 54,
    "start_time": "2023-05-18T08:53:49.041Z"
   },
   {
    "duration": 62,
    "start_time": "2023-05-18T08:53:49.100Z"
   },
   {
    "duration": 23,
    "start_time": "2023-05-18T08:53:49.165Z"
   },
   {
    "duration": 44,
    "start_time": "2023-05-18T08:53:49.190Z"
   },
   {
    "duration": 35,
    "start_time": "2023-05-18T08:53:49.237Z"
   },
   {
    "duration": 12,
    "start_time": "2023-05-18T08:53:49.274Z"
   },
   {
    "duration": 18,
    "start_time": "2023-05-18T08:53:49.288Z"
   },
   {
    "duration": 214,
    "start_time": "2023-05-18T08:53:49.312Z"
   },
   {
    "duration": 1110,
    "start_time": "2023-05-18T08:53:49.536Z"
   },
   {
    "duration": 32,
    "start_time": "2023-05-18T08:53:50.648Z"
   },
   {
    "duration": 94,
    "start_time": "2023-05-18T08:53:50.685Z"
   },
   {
    "duration": 49,
    "start_time": "2023-05-18T08:53:50.781Z"
   },
   {
    "duration": 15,
    "start_time": "2023-05-18T08:53:50.836Z"
   },
   {
    "duration": 81,
    "start_time": "2023-05-18T08:53:50.853Z"
   },
   {
    "duration": 10,
    "start_time": "2023-05-18T08:53:50.943Z"
   },
   {
    "duration": 96,
    "start_time": "2023-05-18T08:53:50.955Z"
   },
   {
    "duration": 34,
    "start_time": "2023-05-18T08:53:51.054Z"
   },
   {
    "duration": 66,
    "start_time": "2023-05-18T08:53:51.090Z"
   },
   {
    "duration": 223,
    "start_time": "2023-05-18T08:55:17.462Z"
   },
   {
    "duration": 236,
    "start_time": "2023-05-18T08:55:29.919Z"
   },
   {
    "duration": 225,
    "start_time": "2023-05-18T08:55:48.716Z"
   },
   {
    "duration": 1475,
    "start_time": "2023-05-18T12:31:04.598Z"
   },
   {
    "duration": 120,
    "start_time": "2023-05-18T12:31:06.075Z"
   },
   {
    "duration": 11,
    "start_time": "2023-05-18T12:31:06.196Z"
   },
   {
    "duration": 437,
    "start_time": "2023-05-18T12:31:06.209Z"
   },
   {
    "duration": 17,
    "start_time": "2023-05-18T12:31:06.649Z"
   },
   {
    "duration": 19,
    "start_time": "2023-05-18T12:31:06.667Z"
   },
   {
    "duration": 11,
    "start_time": "2023-05-18T12:31:06.688Z"
   },
   {
    "duration": 6,
    "start_time": "2023-05-18T12:31:06.701Z"
   },
   {
    "duration": 28,
    "start_time": "2023-05-18T12:31:06.724Z"
   },
   {
    "duration": 5,
    "start_time": "2023-05-18T12:31:06.754Z"
   },
   {
    "duration": 33,
    "start_time": "2023-05-18T12:31:06.761Z"
   },
   {
    "duration": 3,
    "start_time": "2023-05-18T12:31:06.796Z"
   },
   {
    "duration": 46,
    "start_time": "2023-05-18T12:31:06.801Z"
   },
   {
    "duration": 5,
    "start_time": "2023-05-18T12:31:06.848Z"
   },
   {
    "duration": 96,
    "start_time": "2023-05-18T12:31:06.854Z"
   },
   {
    "duration": 2485,
    "start_time": "2023-05-18T12:31:06.952Z"
   },
   {
    "duration": 806,
    "start_time": "2023-05-18T12:31:09.439Z"
   },
   {
    "duration": 4,
    "start_time": "2023-05-18T12:31:10.247Z"
   },
   {
    "duration": 55,
    "start_time": "2023-05-18T12:31:10.252Z"
   },
   {
    "duration": 38,
    "start_time": "2023-05-18T12:31:20.990Z"
   },
   {
    "duration": 122,
    "start_time": "2023-05-18T12:31:47.556Z"
   },
   {
    "duration": 166,
    "start_time": "2023-05-18T12:31:57.077Z"
   },
   {
    "duration": 136,
    "start_time": "2023-05-18T12:32:10.404Z"
   },
   {
    "duration": 128,
    "start_time": "2023-05-18T12:32:19.549Z"
   },
   {
    "duration": 235,
    "start_time": "2023-05-18T12:32:26.105Z"
   },
   {
    "duration": 228,
    "start_time": "2023-05-18T12:32:34.301Z"
   },
   {
    "duration": 31,
    "start_time": "2023-05-18T12:38:38.607Z"
   },
   {
    "duration": 22,
    "start_time": "2023-05-18T12:39:01.132Z"
   },
   {
    "duration": 26,
    "start_time": "2023-05-18T12:39:15.112Z"
   },
   {
    "duration": 22,
    "start_time": "2023-05-18T12:39:23.464Z"
   },
   {
    "duration": 172,
    "start_time": "2023-05-18T12:40:13.564Z"
   },
   {
    "duration": 192,
    "start_time": "2023-05-18T12:40:41.209Z"
   },
   {
    "duration": 190,
    "start_time": "2023-05-18T12:40:53.599Z"
   },
   {
    "duration": 222,
    "start_time": "2023-05-18T12:41:04.613Z"
   },
   {
    "duration": 110,
    "start_time": "2023-05-18T12:41:33.770Z"
   },
   {
    "duration": 222,
    "start_time": "2023-05-18T12:41:38.713Z"
   },
   {
    "duration": 202,
    "start_time": "2023-05-18T12:42:28.648Z"
   },
   {
    "duration": 201,
    "start_time": "2023-05-18T12:42:42.748Z"
   },
   {
    "duration": 197,
    "start_time": "2023-05-18T12:42:51.469Z"
   },
   {
    "duration": 227,
    "start_time": "2023-05-18T12:42:55.530Z"
   },
   {
    "duration": 304,
    "start_time": "2023-05-18T12:43:01.634Z"
   },
   {
    "duration": 303,
    "start_time": "2023-05-18T12:43:12.277Z"
   },
   {
    "duration": 210,
    "start_time": "2023-05-18T12:43:19.768Z"
   },
   {
    "duration": 200,
    "start_time": "2023-05-18T12:43:31.578Z"
   },
   {
    "duration": 229,
    "start_time": "2023-05-18T12:43:44.628Z"
   },
   {
    "duration": 213,
    "start_time": "2023-05-18T12:43:50.683Z"
   },
   {
    "duration": 207,
    "start_time": "2023-05-18T12:43:58.048Z"
   },
   {
    "duration": 180,
    "start_time": "2023-05-18T12:44:13.696Z"
   },
   {
    "duration": 206,
    "start_time": "2023-05-18T12:44:18.008Z"
   },
   {
    "duration": 191,
    "start_time": "2023-05-18T12:44:27.553Z"
   },
   {
    "duration": 179,
    "start_time": "2023-05-18T12:44:41.612Z"
   },
   {
    "duration": 172,
    "start_time": "2023-05-18T12:44:50.556Z"
   },
   {
    "duration": 190,
    "start_time": "2023-05-18T12:44:55.712Z"
   },
   {
    "duration": 293,
    "start_time": "2023-05-18T12:45:00.799Z"
   },
   {
    "duration": 210,
    "start_time": "2023-05-18T12:45:07.589Z"
   },
   {
    "duration": 175,
    "start_time": "2023-05-18T12:45:21.402Z"
   },
   {
    "duration": 195,
    "start_time": "2023-05-18T12:45:29.160Z"
   },
   {
    "duration": 202,
    "start_time": "2023-05-18T12:48:20.378Z"
   },
   {
    "duration": 213,
    "start_time": "2023-05-18T12:48:26.389Z"
   },
   {
    "duration": 194,
    "start_time": "2023-05-18T12:49:07.181Z"
   },
   {
    "duration": 200,
    "start_time": "2023-05-18T12:49:21.353Z"
   },
   {
    "duration": 205,
    "start_time": "2023-05-18T12:49:26.130Z"
   },
   {
    "duration": 34,
    "start_time": "2023-05-18T12:54:15.693Z"
   },
   {
    "duration": 183,
    "start_time": "2023-05-18T12:54:16.581Z"
   },
   {
    "duration": 17,
    "start_time": "2023-05-18T12:55:30.856Z"
   },
   {
    "duration": 22,
    "start_time": "2023-05-18T12:55:41.792Z"
   },
   {
    "duration": 8,
    "start_time": "2023-05-18T12:55:43.365Z"
   },
   {
    "duration": 325,
    "start_time": "2023-05-18T12:55:45.190Z"
   },
   {
    "duration": 21,
    "start_time": "2023-05-18T12:56:46.357Z"
   },
   {
    "duration": 9,
    "start_time": "2023-05-18T12:56:48.189Z"
   },
   {
    "duration": 226,
    "start_time": "2023-05-18T12:56:49.054Z"
   },
   {
    "duration": 3,
    "start_time": "2023-05-18T13:02:15.566Z"
   },
   {
    "duration": 79,
    "start_time": "2023-05-18T13:02:15.570Z"
   },
   {
    "duration": 10,
    "start_time": "2023-05-18T13:02:15.650Z"
   },
   {
    "duration": 1047,
    "start_time": "2023-05-18T13:02:15.662Z"
   },
   {
    "duration": 37,
    "start_time": "2023-05-18T13:02:16.711Z"
   },
   {
    "duration": 46,
    "start_time": "2023-05-18T13:02:16.750Z"
   },
   {
    "duration": 3642,
    "start_time": "2023-05-18T13:02:16.798Z"
   },
   {
    "duration": 12,
    "start_time": "2023-05-18T13:02:20.441Z"
   },
   {
    "duration": 81,
    "start_time": "2023-05-18T13:02:20.454Z"
   },
   {
    "duration": 13,
    "start_time": "2023-05-18T13:02:20.537Z"
   },
   {
    "duration": 51,
    "start_time": "2023-05-18T13:02:20.552Z"
   },
   {
    "duration": 11,
    "start_time": "2023-05-18T13:02:20.605Z"
   },
   {
    "duration": 64,
    "start_time": "2023-05-18T13:02:20.617Z"
   },
   {
    "duration": 5,
    "start_time": "2023-05-18T13:02:20.682Z"
   },
   {
    "duration": 107,
    "start_time": "2023-05-18T13:02:20.688Z"
   },
   {
    "duration": 2484,
    "start_time": "2023-05-18T13:02:20.797Z"
   },
   {
    "duration": 886,
    "start_time": "2023-05-18T13:02:23.282Z"
   },
   {
    "duration": 5,
    "start_time": "2023-05-18T13:02:24.170Z"
   },
   {
    "duration": 66,
    "start_time": "2023-05-18T13:02:24.177Z"
   },
   {
    "duration": 217,
    "start_time": "2023-05-18T13:02:24.245Z"
   },
   {
    "duration": 17,
    "start_time": "2023-05-18T13:02:24.464Z"
   },
   {
    "duration": 301,
    "start_time": "2023-05-18T13:02:24.483Z"
   },
   {
    "duration": 30,
    "start_time": "2023-05-18T13:02:38.177Z"
   },
   {
    "duration": 7,
    "start_time": "2023-05-18T13:02:43.157Z"
   },
   {
    "duration": 263,
    "start_time": "2023-05-18T13:05:23.148Z"
   },
   {
    "duration": 15,
    "start_time": "2023-05-18T13:06:27.899Z"
   },
   {
    "duration": 1803,
    "start_time": "2023-05-18T13:06:51.980Z"
   },
   {
    "duration": 186,
    "start_time": "2023-05-18T13:07:06.404Z"
   },
   {
    "duration": 168,
    "start_time": "2023-05-18T13:07:23.314Z"
   },
   {
    "duration": 236,
    "start_time": "2023-05-18T13:07:52.261Z"
   },
   {
    "duration": 217,
    "start_time": "2023-05-18T13:08:35.793Z"
   },
   {
    "duration": 218,
    "start_time": "2023-05-18T13:08:46.781Z"
   },
   {
    "duration": 214,
    "start_time": "2023-05-18T13:08:57.369Z"
   },
   {
    "duration": 289,
    "start_time": "2023-05-18T13:09:02.990Z"
   },
   {
    "duration": 344,
    "start_time": "2023-05-18T13:09:11.115Z"
   },
   {
    "duration": 306,
    "start_time": "2023-05-18T13:09:22.177Z"
   },
   {
    "duration": 295,
    "start_time": "2023-05-18T13:09:28.540Z"
   },
   {
    "duration": 203,
    "start_time": "2023-05-18T13:09:34.377Z"
   },
   {
    "duration": 577,
    "start_time": "2023-05-18T13:09:38.913Z"
   },
   {
    "duration": 859,
    "start_time": "2023-05-18T13:09:47.688Z"
   },
   {
    "duration": 856,
    "start_time": "2023-05-18T13:09:58.228Z"
   },
   {
    "duration": 801,
    "start_time": "2023-05-18T13:10:12.460Z"
   },
   {
    "duration": 366,
    "start_time": "2023-05-18T13:20:13.385Z"
   },
   {
    "duration": 352,
    "start_time": "2023-05-18T13:20:46.262Z"
   },
   {
    "duration": 340,
    "start_time": "2023-05-18T13:20:51.948Z"
   },
   {
    "duration": 1250,
    "start_time": "2023-05-19T04:34:04.560Z"
   },
   {
    "duration": 98,
    "start_time": "2023-05-19T04:34:05.811Z"
   },
   {
    "duration": 9,
    "start_time": "2023-05-19T04:34:05.911Z"
   },
   {
    "duration": 253,
    "start_time": "2023-05-19T04:34:05.921Z"
   },
   {
    "duration": 12,
    "start_time": "2023-05-19T04:34:06.175Z"
   },
   {
    "duration": 25,
    "start_time": "2023-05-19T04:34:06.189Z"
   },
   {
    "duration": 12,
    "start_time": "2023-05-19T04:34:06.215Z"
   },
   {
    "duration": 5,
    "start_time": "2023-05-19T04:34:06.228Z"
   },
   {
    "duration": 28,
    "start_time": "2023-05-19T04:34:06.234Z"
   },
   {
    "duration": 4,
    "start_time": "2023-05-19T04:34:06.264Z"
   },
   {
    "duration": 35,
    "start_time": "2023-05-19T04:34:06.269Z"
   },
   {
    "duration": 3,
    "start_time": "2023-05-19T04:34:06.305Z"
   },
   {
    "duration": 24,
    "start_time": "2023-05-19T04:34:06.309Z"
   },
   {
    "duration": 4,
    "start_time": "2023-05-19T04:34:06.334Z"
   },
   {
    "duration": 78,
    "start_time": "2023-05-19T04:34:06.339Z"
   },
   {
    "duration": 2008,
    "start_time": "2023-05-19T04:34:06.419Z"
   },
   {
    "duration": 657,
    "start_time": "2023-05-19T04:34:08.428Z"
   },
   {
    "duration": 4,
    "start_time": "2023-05-19T04:34:09.087Z"
   },
   {
    "duration": 18,
    "start_time": "2023-05-19T04:34:09.093Z"
   },
   {
    "duration": 162,
    "start_time": "2023-05-19T04:34:09.112Z"
   },
   {
    "duration": 17,
    "start_time": "2023-05-19T04:34:09.276Z"
   },
   {
    "duration": 182,
    "start_time": "2023-05-19T04:34:09.294Z"
   },
   {
    "duration": 21,
    "start_time": "2023-05-19T04:34:09.478Z"
   },
   {
    "duration": 7,
    "start_time": "2023-05-19T04:34:09.500Z"
   },
   {
    "duration": 20,
    "start_time": "2023-05-19T04:34:09.509Z"
   },
   {
    "duration": 166,
    "start_time": "2023-05-19T04:34:09.530Z"
   },
   {
    "duration": 166,
    "start_time": "2023-05-19T04:34:09.698Z"
   },
   {
    "duration": 324,
    "start_time": "2023-05-19T04:34:09.868Z"
   },
   {
    "duration": 150,
    "start_time": "2023-05-19T04:34:10.194Z"
   },
   {
    "duration": 188,
    "start_time": "2023-05-19T04:34:10.346Z"
   },
   {
    "duration": 3,
    "start_time": "2023-05-19T04:34:10.536Z"
   },
   {
    "duration": 41,
    "start_time": "2023-05-19T04:34:10.541Z"
   },
   {
    "duration": 3,
    "start_time": "2023-05-19T04:34:10.584Z"
   },
   {
    "duration": 18,
    "start_time": "2023-05-19T04:34:10.589Z"
   },
   {
    "duration": 25,
    "start_time": "2023-05-19T04:34:10.609Z"
   },
   {
    "duration": 18,
    "start_time": "2023-05-19T04:34:10.635Z"
   },
   {
    "duration": 31,
    "start_time": "2023-05-19T04:34:10.655Z"
   },
   {
    "duration": 8,
    "start_time": "2023-05-19T04:34:10.688Z"
   },
   {
    "duration": 70,
    "start_time": "2023-05-19T04:34:10.697Z"
   },
   {
    "duration": 744,
    "start_time": "2023-05-19T04:34:10.769Z"
   },
   {
    "duration": 18,
    "start_time": "2023-05-19T04:34:11.515Z"
   },
   {
    "duration": 55,
    "start_time": "2023-05-19T04:34:11.535Z"
   },
   {
    "duration": 19,
    "start_time": "2023-05-19T04:34:11.591Z"
   },
   {
    "duration": 3,
    "start_time": "2023-05-19T04:34:11.611Z"
   },
   {
    "duration": 42,
    "start_time": "2023-05-19T04:34:11.615Z"
   },
   {
    "duration": 7,
    "start_time": "2023-05-19T04:34:11.659Z"
   },
   {
    "duration": 25,
    "start_time": "2023-05-19T04:34:11.684Z"
   },
   {
    "duration": 10,
    "start_time": "2023-05-19T04:34:11.710Z"
   },
   {
    "duration": 6,
    "start_time": "2023-05-19T04:34:11.722Z"
   },
   {
    "duration": 149,
    "start_time": "2023-05-19T04:36:04.930Z"
   },
   {
    "duration": 1400,
    "start_time": "2023-05-19T15:30:24.520Z"
   },
   {
    "duration": 264,
    "start_time": "2023-05-19T15:30:25.923Z"
   },
   {
    "duration": 19,
    "start_time": "2023-05-19T15:30:26.199Z"
   },
   {
    "duration": 632,
    "start_time": "2023-05-19T15:30:26.220Z"
   },
   {
    "duration": 35,
    "start_time": "2023-05-19T15:30:26.855Z"
   },
   {
    "duration": 43,
    "start_time": "2023-05-19T15:30:26.897Z"
   },
   {
    "duration": 27,
    "start_time": "2023-05-19T15:30:26.942Z"
   },
   {
    "duration": 60,
    "start_time": "2023-05-19T15:30:26.971Z"
   },
   {
    "duration": 99,
    "start_time": "2023-05-19T15:30:27.033Z"
   },
   {
    "duration": 8,
    "start_time": "2023-05-19T15:30:27.135Z"
   },
   {
    "duration": 71,
    "start_time": "2023-05-19T15:30:27.145Z"
   },
   {
    "duration": 5,
    "start_time": "2023-05-19T15:30:27.219Z"
   },
   {
    "duration": 62,
    "start_time": "2023-05-19T15:30:27.227Z"
   },
   {
    "duration": 36,
    "start_time": "2023-05-19T15:30:27.296Z"
   },
   {
    "duration": 142,
    "start_time": "2023-05-19T15:30:27.335Z"
   },
   {
    "duration": 3032,
    "start_time": "2023-05-19T15:30:27.479Z"
   },
   {
    "duration": 1039,
    "start_time": "2023-05-19T15:30:30.514Z"
   },
   {
    "duration": 23,
    "start_time": "2023-05-19T15:30:31.556Z"
   },
   {
    "duration": 82,
    "start_time": "2023-05-19T15:30:31.587Z"
   },
   {
    "duration": 299,
    "start_time": "2023-05-19T15:30:31.672Z"
   },
   {
    "duration": 38,
    "start_time": "2023-05-19T15:30:31.976Z"
   },
   {
    "duration": 323,
    "start_time": "2023-05-19T15:30:32.017Z"
   },
   {
    "duration": 55,
    "start_time": "2023-05-19T15:30:32.342Z"
   },
   {
    "duration": 13,
    "start_time": "2023-05-19T15:30:32.399Z"
   },
   {
    "duration": 43,
    "start_time": "2023-05-19T15:30:32.414Z"
   },
   {
    "duration": 257,
    "start_time": "2023-05-19T15:30:32.460Z"
   },
   {
    "duration": 241,
    "start_time": "2023-05-19T15:30:32.719Z"
   },
   {
    "duration": 540,
    "start_time": "2023-05-19T15:30:32.962Z"
   },
   {
    "duration": 138,
    "start_time": "2023-05-19T15:30:33.507Z"
   },
   {
    "duration": 0,
    "start_time": "2023-05-19T15:30:33.648Z"
   },
   {
    "duration": 0,
    "start_time": "2023-05-19T15:30:33.649Z"
   },
   {
    "duration": 0,
    "start_time": "2023-05-19T15:30:33.651Z"
   },
   {
    "duration": 0,
    "start_time": "2023-05-19T15:30:33.653Z"
   },
   {
    "duration": 0,
    "start_time": "2023-05-19T15:30:33.654Z"
   },
   {
    "duration": 0,
    "start_time": "2023-05-19T15:30:33.656Z"
   },
   {
    "duration": 0,
    "start_time": "2023-05-19T15:30:33.672Z"
   },
   {
    "duration": 0,
    "start_time": "2023-05-19T15:30:33.673Z"
   },
   {
    "duration": 0,
    "start_time": "2023-05-19T15:30:33.676Z"
   },
   {
    "duration": 0,
    "start_time": "2023-05-19T15:30:33.677Z"
   },
   {
    "duration": 0,
    "start_time": "2023-05-19T15:30:33.678Z"
   },
   {
    "duration": 0,
    "start_time": "2023-05-19T15:30:33.682Z"
   },
   {
    "duration": 0,
    "start_time": "2023-05-19T15:30:33.683Z"
   },
   {
    "duration": 0,
    "start_time": "2023-05-19T15:30:33.684Z"
   },
   {
    "duration": 0,
    "start_time": "2023-05-19T15:30:33.685Z"
   },
   {
    "duration": 0,
    "start_time": "2023-05-19T15:30:33.687Z"
   },
   {
    "duration": 0,
    "start_time": "2023-05-19T15:30:33.688Z"
   },
   {
    "duration": 0,
    "start_time": "2023-05-19T15:30:33.689Z"
   },
   {
    "duration": 0,
    "start_time": "2023-05-19T15:30:33.690Z"
   },
   {
    "duration": 0,
    "start_time": "2023-05-19T15:30:33.691Z"
   },
   {
    "duration": 247,
    "start_time": "2023-05-19T15:31:46.256Z"
   },
   {
    "duration": 1516,
    "start_time": "2023-05-19T15:31:57.045Z"
   },
   {
    "duration": 93,
    "start_time": "2023-05-19T15:31:58.563Z"
   },
   {
    "duration": 36,
    "start_time": "2023-05-19T15:31:58.658Z"
   },
   {
    "duration": 559,
    "start_time": "2023-05-19T15:31:58.698Z"
   },
   {
    "duration": 35,
    "start_time": "2023-05-19T15:31:59.261Z"
   },
   {
    "duration": 41,
    "start_time": "2023-05-19T15:31:59.300Z"
   },
   {
    "duration": 31,
    "start_time": "2023-05-19T15:31:59.343Z"
   },
   {
    "duration": 16,
    "start_time": "2023-05-19T15:31:59.387Z"
   },
   {
    "duration": 30,
    "start_time": "2023-05-19T15:31:59.411Z"
   },
   {
    "duration": 7,
    "start_time": "2023-05-19T15:31:59.443Z"
   },
   {
    "duration": 79,
    "start_time": "2023-05-19T15:31:59.452Z"
   },
   {
    "duration": 6,
    "start_time": "2023-05-19T15:31:59.533Z"
   },
   {
    "duration": 59,
    "start_time": "2023-05-19T15:31:59.545Z"
   },
   {
    "duration": 13,
    "start_time": "2023-05-19T15:31:59.610Z"
   },
   {
    "duration": 128,
    "start_time": "2023-05-19T15:31:59.626Z"
   },
   {
    "duration": 3274,
    "start_time": "2023-05-19T15:31:59.756Z"
   },
   {
    "duration": 1023,
    "start_time": "2023-05-19T15:32:03.032Z"
   },
   {
    "duration": 14,
    "start_time": "2023-05-19T15:32:04.057Z"
   },
   {
    "duration": 46,
    "start_time": "2023-05-19T15:32:04.076Z"
   },
   {
    "duration": 236,
    "start_time": "2023-05-19T15:32:04.124Z"
   },
   {
    "duration": 38,
    "start_time": "2023-05-19T15:32:04.361Z"
   },
   {
    "duration": 301,
    "start_time": "2023-05-19T15:32:04.403Z"
   },
   {
    "duration": 32,
    "start_time": "2023-05-19T15:32:04.710Z"
   },
   {
    "duration": 10,
    "start_time": "2023-05-19T15:32:04.744Z"
   },
   {
    "duration": 59,
    "start_time": "2023-05-19T15:32:04.775Z"
   },
   {
    "duration": 235,
    "start_time": "2023-05-19T15:32:04.836Z"
   },
   {
    "duration": 267,
    "start_time": "2023-05-19T15:32:05.073Z"
   },
   {
    "duration": 559,
    "start_time": "2023-05-19T15:32:05.343Z"
   },
   {
    "duration": 260,
    "start_time": "2023-05-19T15:32:05.906Z"
   },
   {
    "duration": 420,
    "start_time": "2023-05-19T15:32:06.169Z"
   },
   {
    "duration": 5,
    "start_time": "2023-05-19T15:32:06.593Z"
   },
   {
    "duration": 74,
    "start_time": "2023-05-19T15:32:06.601Z"
   },
   {
    "duration": 17,
    "start_time": "2023-05-19T15:32:06.683Z"
   },
   {
    "duration": 37,
    "start_time": "2023-05-19T15:32:06.706Z"
   },
   {
    "duration": 38,
    "start_time": "2023-05-19T15:32:06.745Z"
   },
   {
    "duration": 34,
    "start_time": "2023-05-19T15:32:06.785Z"
   },
   {
    "duration": 17,
    "start_time": "2023-05-19T15:32:06.821Z"
   },
   {
    "duration": 34,
    "start_time": "2023-05-19T15:32:06.841Z"
   },
   {
    "duration": 118,
    "start_time": "2023-05-19T15:32:06.877Z"
   },
   {
    "duration": 1160,
    "start_time": "2023-05-19T15:32:06.997Z"
   },
   {
    "duration": 54,
    "start_time": "2023-05-19T15:32:08.164Z"
   },
   {
    "duration": 102,
    "start_time": "2023-05-19T15:32:08.221Z"
   },
   {
    "duration": 29,
    "start_time": "2023-05-19T15:32:08.326Z"
   },
   {
    "duration": 19,
    "start_time": "2023-05-19T15:32:08.358Z"
   },
   {
    "duration": 83,
    "start_time": "2023-05-19T15:32:08.390Z"
   },
   {
    "duration": 13,
    "start_time": "2023-05-19T15:32:08.476Z"
   },
   {
    "duration": 47,
    "start_time": "2023-05-19T15:32:08.491Z"
   },
   {
    "duration": 40,
    "start_time": "2023-05-19T15:32:08.540Z"
   },
   {
    "duration": 12,
    "start_time": "2023-05-19T15:32:08.585Z"
   }
  ],
  "kernelspec": {
   "display_name": "Python 3 (ipykernel)",
   "language": "python",
   "name": "python3"
  },
  "language_info": {
   "codemirror_mode": {
    "name": "ipython",
    "version": 3
   },
   "file_extension": ".py",
   "mimetype": "text/x-python",
   "name": "python",
   "nbconvert_exporter": "python",
   "pygments_lexer": "ipython3",
   "version": "3.9.12"
  },
  "toc": {
   "base_numbering": 1,
   "nav_menu": {},
   "number_sections": true,
   "sideBar": true,
   "skip_h1_title": true,
   "title_cell": "Table of Contents",
   "title_sidebar": "Contents",
   "toc_cell": false,
   "toc_position": {
    "height": "calc(100% - 180px)",
    "left": "10px",
    "top": "150px",
    "width": "395.067px"
   },
   "toc_section_display": true,
   "toc_window_display": false
  }
 },
 "nbformat": 4,
 "nbformat_minor": 2
}
