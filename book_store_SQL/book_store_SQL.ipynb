{
 "cells": [
  {
   "cell_type": "markdown",
   "metadata": {},
   "source": [
    "# Анализ базы данных книжного онлайн-сервиса.\n",
    "\n",
    "\n",
    "Наша компания купила крупный сервис для чтения книг по подписке. Наша  задача — проанализировать базу данных.\n",
    "В ней — информация о книгах, издательствах, авторах, а также пользовательские обзоры книг. Эти данные помогут сформулировать ценностное предложение для нового продукта.\n",
    "В ходе работы мы:\n",
    "- Посчитаем, сколько книг вышло после 1 января 2000 года;\n",
    "- Для каждой книги посчитаем количество обзоров и среднюю оценку;\n",
    "- Определим издательство, которое выпустило наибольшее число книг толще 50 страниц;\n",
    "- Определим автора с самой высокой средней оценкой книг;\n",
    "- Посчитаем среднее количество обзоров от пользователей, которые поставили больше 48 оценок.\n",
    "\n",
    "Описание данных:\n",
    "\n",
    "**Таблица `books`**\n",
    "\n",
    "Содержит данные о книгах:\n",
    "\n",
    "- `book_id` — идентификатор книги;\n",
    "- `author_id` — идентификатор автора;\n",
    "- `title` — название книги;\n",
    "- `num_pages` — количество страниц;\n",
    "- `publication_date` — дата публикации книги;\n",
    "- `publisher_id` — идентификатор издателя.\n",
    "\n",
    "**Таблица `authors`**\n",
    "\n",
    "Содержит данные об авторах:\n",
    "\n",
    "- `author_id` — идентификатор автора;\n",
    "- `author` — имя автора.\n",
    "\n",
    "**Таблица `publishers`**\n",
    "\n",
    "Содержит данные об издательствах:\n",
    "\n",
    "- `publisher_id` — идентификатор издательства;\n",
    "- `publisher` — название издательства;\n",
    "\n",
    "**Таблица `ratings`**\n",
    "\n",
    "Содержит данные о пользовательских оценках книг:\n",
    "\n",
    "- `rating_id` — идентификатор оценки;\n",
    "- `book_id` — идентификатор книги;\n",
    "- `username` — имя пользователя, оставившего оценку;\n",
    "- `rating` — оценка книги.\n",
    "\n",
    "**Таблица `reviews`**\n",
    "\n",
    "Содержит данные о пользовательских обзорах на книги:\n",
    "\n",
    "- `review_id` — идентификатор обзора;\n",
    "- `book_id` — идентификатор книги;\n",
    "- `username` — имя пользователя, написавшего обзор;\n",
    "- `text` — текст обзора.\n"
   ]
  },
  {
   "cell_type": "markdown",
   "metadata": {},
   "source": [
    "###  Загрузим данные и посмотри на данные.\n",
    "####  Импортируем библиотеки. "
   ]
  },
  {
   "cell_type": "code",
   "execution_count": 1,
   "metadata": {},
   "outputs": [],
   "source": [
    "import pandas as pd\n",
    "from sqlalchemy import text, create_engine"
   ]
  },
  {
   "cell_type": "markdown",
   "metadata": {},
   "source": [
    "#### Подключимся к базе данных."
   ]
  },
  {
   "cell_type": "code",
   "execution_count": 2,
   "metadata": {},
   "outputs": [],
   "source": [
    "# устанавливаем параметры\n",
    "db_config = {'user': '-censored-', # имя пользователя\n",
    "'pwd': '-censored-', # пароль\n",
    "'host': '-censored-',\n",
    "'port': '-censored-', # порт подключения\n",
    "'db': '-censored-'} # название базы данных\n",
    "connection_string = ''-censored-''.format(**db_config)\n",
    "\n",
    "# сохраняем коннектор\n",
    "engine = create_engine(connection_string, connect_args={'sslmode':'require'})\n"
   ]
  },
  {
   "cell_type": "markdown",
   "metadata": {},
   "source": [
    "#### Выгрузим первые строки таблицы `books`"
   ]
  },
  {
   "cell_type": "code",
   "execution_count": 3,
   "metadata": {},
   "outputs": [
    {
     "data": {
      "text/html": [
       "<div>\n",
       "<style scoped>\n",
       "    .dataframe tbody tr th:only-of-type {\n",
       "        vertical-align: middle;\n",
       "    }\n",
       "\n",
       "    .dataframe tbody tr th {\n",
       "        vertical-align: top;\n",
       "    }\n",
       "\n",
       "    .dataframe thead th {\n",
       "        text-align: right;\n",
       "    }\n",
       "</style>\n",
       "<table border=\"1\" class=\"dataframe\">\n",
       "  <thead>\n",
       "    <tr style=\"text-align: right;\">\n",
       "      <th></th>\n",
       "      <th>book_id</th>\n",
       "      <th>author_id</th>\n",
       "      <th>title</th>\n",
       "      <th>num_pages</th>\n",
       "      <th>publication_date</th>\n",
       "      <th>publisher_id</th>\n",
       "    </tr>\n",
       "  </thead>\n",
       "  <tbody>\n",
       "    <tr>\n",
       "      <th>0</th>\n",
       "      <td>1</td>\n",
       "      <td>546</td>\n",
       "      <td>'Salem's Lot</td>\n",
       "      <td>594</td>\n",
       "      <td>2005-11-01</td>\n",
       "      <td>93</td>\n",
       "    </tr>\n",
       "    <tr>\n",
       "      <th>1</th>\n",
       "      <td>2</td>\n",
       "      <td>465</td>\n",
       "      <td>1 000 Places to See Before You Die</td>\n",
       "      <td>992</td>\n",
       "      <td>2003-05-22</td>\n",
       "      <td>336</td>\n",
       "    </tr>\n",
       "    <tr>\n",
       "      <th>2</th>\n",
       "      <td>3</td>\n",
       "      <td>407</td>\n",
       "      <td>13 Little Blue Envelopes (Little Blue Envelope...</td>\n",
       "      <td>322</td>\n",
       "      <td>2010-12-21</td>\n",
       "      <td>135</td>\n",
       "    </tr>\n",
       "    <tr>\n",
       "      <th>3</th>\n",
       "      <td>4</td>\n",
       "      <td>82</td>\n",
       "      <td>1491: New Revelations of the Americas Before C...</td>\n",
       "      <td>541</td>\n",
       "      <td>2006-10-10</td>\n",
       "      <td>309</td>\n",
       "    </tr>\n",
       "    <tr>\n",
       "      <th>4</th>\n",
       "      <td>5</td>\n",
       "      <td>125</td>\n",
       "      <td>1776</td>\n",
       "      <td>386</td>\n",
       "      <td>2006-07-04</td>\n",
       "      <td>268</td>\n",
       "    </tr>\n",
       "  </tbody>\n",
       "</table>\n",
       "</div>"
      ],
      "text/plain": [
       "   book_id  author_id                                              title  \\\n",
       "0        1        546                                       'Salem's Lot   \n",
       "1        2        465                 1 000 Places to See Before You Die   \n",
       "2        3        407  13 Little Blue Envelopes (Little Blue Envelope...   \n",
       "3        4         82  1491: New Revelations of the Americas Before C...   \n",
       "4        5        125                                               1776   \n",
       "\n",
       "   num_pages publication_date  publisher_id  \n",
       "0        594       2005-11-01            93  \n",
       "1        992       2003-05-22           336  \n",
       "2        322       2010-12-21           135  \n",
       "3        541       2006-10-10           309  \n",
       "4        386       2006-07-04           268  "
      ]
     },
     "execution_count": 3,
     "metadata": {},
     "output_type": "execute_result"
    }
   ],
   "source": [
    "# чтобы выполнить SQL-запрос, используем Pandas\n",
    "query = '''SELECT * FROM books LIMIT 5'''\n",
    "\n",
    "con=engine.connect()\n",
    "\n",
    "pd.io.sql.read_sql(sql=text(query), con = con)"
   ]
  },
  {
   "cell_type": "markdown",
   "metadata": {},
   "source": [
    "#### Выгрузим первые строки таблицы `authors`"
   ]
  },
  {
   "cell_type": "code",
   "execution_count": 4,
   "metadata": {},
   "outputs": [
    {
     "data": {
      "text/html": [
       "<div>\n",
       "<style scoped>\n",
       "    .dataframe tbody tr th:only-of-type {\n",
       "        vertical-align: middle;\n",
       "    }\n",
       "\n",
       "    .dataframe tbody tr th {\n",
       "        vertical-align: top;\n",
       "    }\n",
       "\n",
       "    .dataframe thead th {\n",
       "        text-align: right;\n",
       "    }\n",
       "</style>\n",
       "<table border=\"1\" class=\"dataframe\">\n",
       "  <thead>\n",
       "    <tr style=\"text-align: right;\">\n",
       "      <th></th>\n",
       "      <th>author_id</th>\n",
       "      <th>author</th>\n",
       "    </tr>\n",
       "  </thead>\n",
       "  <tbody>\n",
       "    <tr>\n",
       "      <th>0</th>\n",
       "      <td>1</td>\n",
       "      <td>A.S. Byatt</td>\n",
       "    </tr>\n",
       "    <tr>\n",
       "      <th>1</th>\n",
       "      <td>2</td>\n",
       "      <td>Aesop/Laura Harris/Laura Gibbs</td>\n",
       "    </tr>\n",
       "    <tr>\n",
       "      <th>2</th>\n",
       "      <td>3</td>\n",
       "      <td>Agatha Christie</td>\n",
       "    </tr>\n",
       "    <tr>\n",
       "      <th>3</th>\n",
       "      <td>4</td>\n",
       "      <td>Alan Brennert</td>\n",
       "    </tr>\n",
       "    <tr>\n",
       "      <th>4</th>\n",
       "      <td>5</td>\n",
       "      <td>Alan Moore/David   Lloyd</td>\n",
       "    </tr>\n",
       "  </tbody>\n",
       "</table>\n",
       "</div>"
      ],
      "text/plain": [
       "   author_id                          author\n",
       "0          1                      A.S. Byatt\n",
       "1          2  Aesop/Laura Harris/Laura Gibbs\n",
       "2          3                 Agatha Christie\n",
       "3          4                   Alan Brennert\n",
       "4          5        Alan Moore/David   Lloyd"
      ]
     },
     "execution_count": 4,
     "metadata": {},
     "output_type": "execute_result"
    }
   ],
   "source": [
    "# чтобы выполнить SQL-запрос, используем Pandas\n",
    "query = '''SELECT * FROM authors LIMIT 5'''\n",
    "\n",
    "con=engine.connect()\n",
    "\n",
    "pd.io.sql.read_sql(sql=text(query), con = con)"
   ]
  },
  {
   "cell_type": "markdown",
   "metadata": {},
   "source": [
    "#### Выгрузим первые строки таблицы `publishers`"
   ]
  },
  {
   "cell_type": "code",
   "execution_count": 5,
   "metadata": {},
   "outputs": [
    {
     "data": {
      "text/html": [
       "<div>\n",
       "<style scoped>\n",
       "    .dataframe tbody tr th:only-of-type {\n",
       "        vertical-align: middle;\n",
       "    }\n",
       "\n",
       "    .dataframe tbody tr th {\n",
       "        vertical-align: top;\n",
       "    }\n",
       "\n",
       "    .dataframe thead th {\n",
       "        text-align: right;\n",
       "    }\n",
       "</style>\n",
       "<table border=\"1\" class=\"dataframe\">\n",
       "  <thead>\n",
       "    <tr style=\"text-align: right;\">\n",
       "      <th></th>\n",
       "      <th>publisher_id</th>\n",
       "      <th>publisher</th>\n",
       "    </tr>\n",
       "  </thead>\n",
       "  <tbody>\n",
       "    <tr>\n",
       "      <th>0</th>\n",
       "      <td>1</td>\n",
       "      <td>Ace</td>\n",
       "    </tr>\n",
       "    <tr>\n",
       "      <th>1</th>\n",
       "      <td>2</td>\n",
       "      <td>Ace Book</td>\n",
       "    </tr>\n",
       "    <tr>\n",
       "      <th>2</th>\n",
       "      <td>3</td>\n",
       "      <td>Ace Books</td>\n",
       "    </tr>\n",
       "    <tr>\n",
       "      <th>3</th>\n",
       "      <td>4</td>\n",
       "      <td>Ace Hardcover</td>\n",
       "    </tr>\n",
       "    <tr>\n",
       "      <th>4</th>\n",
       "      <td>5</td>\n",
       "      <td>Addison Wesley Publishing Company</td>\n",
       "    </tr>\n",
       "  </tbody>\n",
       "</table>\n",
       "</div>"
      ],
      "text/plain": [
       "   publisher_id                          publisher\n",
       "0             1                                Ace\n",
       "1             2                           Ace Book\n",
       "2             3                          Ace Books\n",
       "3             4                      Ace Hardcover\n",
       "4             5  Addison Wesley Publishing Company"
      ]
     },
     "execution_count": 5,
     "metadata": {},
     "output_type": "execute_result"
    }
   ],
   "source": [
    "# чтобы выполнить SQL-запрос, используем Pandas\n",
    "query = '''SELECT * FROM publishers LIMIT 5'''\n",
    "\n",
    "con=engine.connect()\n",
    "\n",
    "pd.io.sql.read_sql(sql=text(query), con = con)"
   ]
  },
  {
   "cell_type": "markdown",
   "metadata": {},
   "source": [
    "#### Выгрузим первые строки таблицы `ratings`"
   ]
  },
  {
   "cell_type": "code",
   "execution_count": 6,
   "metadata": {},
   "outputs": [
    {
     "data": {
      "text/html": [
       "<div>\n",
       "<style scoped>\n",
       "    .dataframe tbody tr th:only-of-type {\n",
       "        vertical-align: middle;\n",
       "    }\n",
       "\n",
       "    .dataframe tbody tr th {\n",
       "        vertical-align: top;\n",
       "    }\n",
       "\n",
       "    .dataframe thead th {\n",
       "        text-align: right;\n",
       "    }\n",
       "</style>\n",
       "<table border=\"1\" class=\"dataframe\">\n",
       "  <thead>\n",
       "    <tr style=\"text-align: right;\">\n",
       "      <th></th>\n",
       "      <th>rating_id</th>\n",
       "      <th>book_id</th>\n",
       "      <th>username</th>\n",
       "      <th>rating</th>\n",
       "    </tr>\n",
       "  </thead>\n",
       "  <tbody>\n",
       "    <tr>\n",
       "      <th>0</th>\n",
       "      <td>1</td>\n",
       "      <td>1</td>\n",
       "      <td>ryanfranco</td>\n",
       "      <td>4</td>\n",
       "    </tr>\n",
       "    <tr>\n",
       "      <th>1</th>\n",
       "      <td>2</td>\n",
       "      <td>1</td>\n",
       "      <td>grantpatricia</td>\n",
       "      <td>2</td>\n",
       "    </tr>\n",
       "    <tr>\n",
       "      <th>2</th>\n",
       "      <td>3</td>\n",
       "      <td>1</td>\n",
       "      <td>brandtandrea</td>\n",
       "      <td>5</td>\n",
       "    </tr>\n",
       "    <tr>\n",
       "      <th>3</th>\n",
       "      <td>4</td>\n",
       "      <td>2</td>\n",
       "      <td>lorichen</td>\n",
       "      <td>3</td>\n",
       "    </tr>\n",
       "    <tr>\n",
       "      <th>4</th>\n",
       "      <td>5</td>\n",
       "      <td>2</td>\n",
       "      <td>mariokeller</td>\n",
       "      <td>2</td>\n",
       "    </tr>\n",
       "  </tbody>\n",
       "</table>\n",
       "</div>"
      ],
      "text/plain": [
       "   rating_id  book_id       username  rating\n",
       "0          1        1     ryanfranco       4\n",
       "1          2        1  grantpatricia       2\n",
       "2          3        1   brandtandrea       5\n",
       "3          4        2       lorichen       3\n",
       "4          5        2    mariokeller       2"
      ]
     },
     "execution_count": 6,
     "metadata": {},
     "output_type": "execute_result"
    }
   ],
   "source": [
    "# чтобы выполнить SQL-запрос, используем Pandas\n",
    "query = '''SELECT * FROM ratings LIMIT 5'''\n",
    "\n",
    "con=engine.connect()\n",
    "\n",
    "pd.io.sql.read_sql(sql=text(query), con = con)"
   ]
  },
  {
   "cell_type": "markdown",
   "metadata": {},
   "source": [
    "#### Выгрузим первые строки таблицы `reviews`"
   ]
  },
  {
   "cell_type": "code",
   "execution_count": 7,
   "metadata": {},
   "outputs": [
    {
     "data": {
      "text/html": [
       "<div>\n",
       "<style scoped>\n",
       "    .dataframe tbody tr th:only-of-type {\n",
       "        vertical-align: middle;\n",
       "    }\n",
       "\n",
       "    .dataframe tbody tr th {\n",
       "        vertical-align: top;\n",
       "    }\n",
       "\n",
       "    .dataframe thead th {\n",
       "        text-align: right;\n",
       "    }\n",
       "</style>\n",
       "<table border=\"1\" class=\"dataframe\">\n",
       "  <thead>\n",
       "    <tr style=\"text-align: right;\">\n",
       "      <th></th>\n",
       "      <th>review_id</th>\n",
       "      <th>book_id</th>\n",
       "      <th>username</th>\n",
       "      <th>text</th>\n",
       "    </tr>\n",
       "  </thead>\n",
       "  <tbody>\n",
       "    <tr>\n",
       "      <th>0</th>\n",
       "      <td>1</td>\n",
       "      <td>1</td>\n",
       "      <td>brandtandrea</td>\n",
       "      <td>Mention society tell send professor analysis. ...</td>\n",
       "    </tr>\n",
       "    <tr>\n",
       "      <th>1</th>\n",
       "      <td>2</td>\n",
       "      <td>1</td>\n",
       "      <td>ryanfranco</td>\n",
       "      <td>Foot glass pretty audience hit themselves. Amo...</td>\n",
       "    </tr>\n",
       "    <tr>\n",
       "      <th>2</th>\n",
       "      <td>3</td>\n",
       "      <td>2</td>\n",
       "      <td>lorichen</td>\n",
       "      <td>Listen treat keep worry. Miss husband tax but ...</td>\n",
       "    </tr>\n",
       "    <tr>\n",
       "      <th>3</th>\n",
       "      <td>4</td>\n",
       "      <td>3</td>\n",
       "      <td>johnsonamanda</td>\n",
       "      <td>Finally month interesting blue could nature cu...</td>\n",
       "    </tr>\n",
       "    <tr>\n",
       "      <th>4</th>\n",
       "      <td>5</td>\n",
       "      <td>3</td>\n",
       "      <td>scotttamara</td>\n",
       "      <td>Nation purpose heavy give wait song will. List...</td>\n",
       "    </tr>\n",
       "  </tbody>\n",
       "</table>\n",
       "</div>"
      ],
      "text/plain": [
       "   review_id  book_id       username  \\\n",
       "0          1        1   brandtandrea   \n",
       "1          2        1     ryanfranco   \n",
       "2          3        2       lorichen   \n",
       "3          4        3  johnsonamanda   \n",
       "4          5        3    scotttamara   \n",
       "\n",
       "                                                text  \n",
       "0  Mention society tell send professor analysis. ...  \n",
       "1  Foot glass pretty audience hit themselves. Amo...  \n",
       "2  Listen treat keep worry. Miss husband tax but ...  \n",
       "3  Finally month interesting blue could nature cu...  \n",
       "4  Nation purpose heavy give wait song will. List...  "
      ]
     },
     "execution_count": 7,
     "metadata": {},
     "output_type": "execute_result"
    }
   ],
   "source": [
    "# чтобы выполнить SQL-запрос, используем Pandas\n",
    "query = '''SELECT * FROM reviews LIMIT 5'''\n",
    "\n",
    "con=engine.connect()\n",
    "\n",
    "pd.io.sql.read_sql(sql=text(query), con = con)"
   ]
  },
  {
   "cell_type": "markdown",
   "metadata": {},
   "source": [
    "В данных представлена информация о 1000 книгах, 6 авторах, которые их написали. В таблице publishers информация о 340 изданиях, где были выпущены книги. В таблийе rating содержится информация о 6456 рейтингах и пользователях, которые оставили оценки. Так же в таблице reviews информация о 2793 обзорах на книги."
   ]
  },
  {
   "cell_type": "markdown",
   "metadata": {},
   "source": [
    "### Анализ данных."
   ]
  },
  {
   "cell_type": "markdown",
   "metadata": {},
   "source": [
    "#### Посчитаем, сколько книг вышло после 1 января 2000 года."
   ]
  },
  {
   "cell_type": "code",
   "execution_count": 8,
   "metadata": {},
   "outputs": [
    {
     "data": {
      "text/html": [
       "<div>\n",
       "<style scoped>\n",
       "    .dataframe tbody tr th:only-of-type {\n",
       "        vertical-align: middle;\n",
       "    }\n",
       "\n",
       "    .dataframe tbody tr th {\n",
       "        vertical-align: top;\n",
       "    }\n",
       "\n",
       "    .dataframe thead th {\n",
       "        text-align: right;\n",
       "    }\n",
       "</style>\n",
       "<table border=\"1\" class=\"dataframe\">\n",
       "  <thead>\n",
       "    <tr style=\"text-align: right;\">\n",
       "      <th></th>\n",
       "      <th>count</th>\n",
       "    </tr>\n",
       "  </thead>\n",
       "  <tbody>\n",
       "    <tr>\n",
       "      <th>0</th>\n",
       "      <td>819</td>\n",
       "    </tr>\n",
       "  </tbody>\n",
       "</table>\n",
       "</div>"
      ],
      "text/plain": [
       "   count\n",
       "0    819"
      ]
     },
     "execution_count": 8,
     "metadata": {},
     "output_type": "execute_result"
    }
   ],
   "source": [
    "query = '''\n",
    "           SELECT COUNT(book_id) \n",
    "           FROM books \n",
    "           WHERE publication_date > '2000-01-01'\n",
    "        '''\n",
    "\n",
    "con=engine.connect()\n",
    "pd.io.sql.read_sql(sql=text(query), con = con)"
   ]
  },
  {
   "cell_type": "markdown",
   "metadata": {},
   "source": [
    "После 1 января 2000 года вышло 819 книг"
   ]
  },
  {
   "cell_type": "markdown",
   "metadata": {},
   "source": [
    "#### Для каждой книги посчитаем количество обзоров и среднюю оценку;"
   ]
  },
  {
   "cell_type": "code",
   "execution_count": 9,
   "metadata": {},
   "outputs": [
    {
     "data": {
      "text/html": [
       "<div>\n",
       "<style scoped>\n",
       "    .dataframe tbody tr th:only-of-type {\n",
       "        vertical-align: middle;\n",
       "    }\n",
       "\n",
       "    .dataframe tbody tr th {\n",
       "        vertical-align: top;\n",
       "    }\n",
       "\n",
       "    .dataframe thead th {\n",
       "        text-align: right;\n",
       "    }\n",
       "</style>\n",
       "<table border=\"1\" class=\"dataframe\">\n",
       "  <thead>\n",
       "    <tr style=\"text-align: right;\">\n",
       "      <th></th>\n",
       "      <th>book_id</th>\n",
       "      <th>title</th>\n",
       "      <th>count_review</th>\n",
       "      <th>avg_rating</th>\n",
       "    </tr>\n",
       "  </thead>\n",
       "  <tbody>\n",
       "    <tr>\n",
       "      <th>0</th>\n",
       "      <td>1</td>\n",
       "      <td>'Salem's Lot</td>\n",
       "      <td>2</td>\n",
       "      <td>3.666667</td>\n",
       "    </tr>\n",
       "    <tr>\n",
       "      <th>1</th>\n",
       "      <td>2</td>\n",
       "      <td>1 000 Places to See Before You Die</td>\n",
       "      <td>1</td>\n",
       "      <td>2.500000</td>\n",
       "    </tr>\n",
       "    <tr>\n",
       "      <th>2</th>\n",
       "      <td>3</td>\n",
       "      <td>13 Little Blue Envelopes (Little Blue Envelope...</td>\n",
       "      <td>3</td>\n",
       "      <td>4.666667</td>\n",
       "    </tr>\n",
       "    <tr>\n",
       "      <th>3</th>\n",
       "      <td>4</td>\n",
       "      <td>1491: New Revelations of the Americas Before C...</td>\n",
       "      <td>2</td>\n",
       "      <td>4.500000</td>\n",
       "    </tr>\n",
       "    <tr>\n",
       "      <th>4</th>\n",
       "      <td>5</td>\n",
       "      <td>1776</td>\n",
       "      <td>4</td>\n",
       "      <td>4.000000</td>\n",
       "    </tr>\n",
       "    <tr>\n",
       "      <th>...</th>\n",
       "      <td>...</td>\n",
       "      <td>...</td>\n",
       "      <td>...</td>\n",
       "      <td>...</td>\n",
       "    </tr>\n",
       "    <tr>\n",
       "      <th>995</th>\n",
       "      <td>996</td>\n",
       "      <td>Wyrd Sisters (Discworld  #6; Witches #2)</td>\n",
       "      <td>3</td>\n",
       "      <td>3.666667</td>\n",
       "    </tr>\n",
       "    <tr>\n",
       "      <th>996</th>\n",
       "      <td>997</td>\n",
       "      <td>Xenocide (Ender's Saga  #3)</td>\n",
       "      <td>3</td>\n",
       "      <td>3.400000</td>\n",
       "    </tr>\n",
       "    <tr>\n",
       "      <th>997</th>\n",
       "      <td>998</td>\n",
       "      <td>Year of Wonders</td>\n",
       "      <td>4</td>\n",
       "      <td>3.200000</td>\n",
       "    </tr>\n",
       "    <tr>\n",
       "      <th>998</th>\n",
       "      <td>999</td>\n",
       "      <td>You Suck (A Love Story  #2)</td>\n",
       "      <td>2</td>\n",
       "      <td>4.500000</td>\n",
       "    </tr>\n",
       "    <tr>\n",
       "      <th>999</th>\n",
       "      <td>1000</td>\n",
       "      <td>Zen and the Art of Motorcycle Maintenance: An ...</td>\n",
       "      <td>4</td>\n",
       "      <td>3.833333</td>\n",
       "    </tr>\n",
       "  </tbody>\n",
       "</table>\n",
       "<p>1000 rows × 4 columns</p>\n",
       "</div>"
      ],
      "text/plain": [
       "     book_id                                              title  count_review  \\\n",
       "0          1                                       'Salem's Lot             2   \n",
       "1          2                 1 000 Places to See Before You Die             1   \n",
       "2          3  13 Little Blue Envelopes (Little Blue Envelope...             3   \n",
       "3          4  1491: New Revelations of the Americas Before C...             2   \n",
       "4          5                                               1776             4   \n",
       "..       ...                                                ...           ...   \n",
       "995      996           Wyrd Sisters (Discworld  #6; Witches #2)             3   \n",
       "996      997                        Xenocide (Ender's Saga  #3)             3   \n",
       "997      998                                    Year of Wonders             4   \n",
       "998      999                        You Suck (A Love Story  #2)             2   \n",
       "999     1000  Zen and the Art of Motorcycle Maintenance: An ...             4   \n",
       "\n",
       "     avg_rating  \n",
       "0      3.666667  \n",
       "1      2.500000  \n",
       "2      4.666667  \n",
       "3      4.500000  \n",
       "4      4.000000  \n",
       "..          ...  \n",
       "995    3.666667  \n",
       "996    3.400000  \n",
       "997    3.200000  \n",
       "998    4.500000  \n",
       "999    3.833333  \n",
       "\n",
       "[1000 rows x 4 columns]"
      ]
     },
     "execution_count": 9,
     "metadata": {},
     "output_type": "execute_result"
    }
   ],
   "source": [
    "query = '''\n",
    "           SELECT b.book_id AS book_id,\n",
    "                  title,\n",
    "                  COUNT(DISTINCT review_id) AS count_review,\n",
    "                  AVG(rating) AS avg_rating\n",
    "           FROM books AS b\n",
    "           LEFT JOIN reviews AS re ON b.book_id=re.book_id\n",
    "           LEFT JOIN ratings AS ra ON b.book_id=ra.book_id\n",
    "           GROUP BY b.book_id\n",
    "           \n",
    "        '''\n",
    "\n",
    "con=engine.connect()\n",
    "pd.io.sql.read_sql(sql=text(query), con = con)"
   ]
  },
  {
   "cell_type": "markdown",
   "metadata": {},
   "source": [
    "По количеству обзоров лидирует книга Twilight (Twilight 1)."
   ]
  },
  {
   "cell_type": "markdown",
   "metadata": {},
   "source": [
    "#### Определим издательство, которое выпустило наибольшее число книг толще 50 страниц( так мы исключим из анализа брошюры)."
   ]
  },
  {
   "cell_type": "code",
   "execution_count": 10,
   "metadata": {},
   "outputs": [
    {
     "data": {
      "text/html": [
       "<div>\n",
       "<style scoped>\n",
       "    .dataframe tbody tr th:only-of-type {\n",
       "        vertical-align: middle;\n",
       "    }\n",
       "\n",
       "    .dataframe tbody tr th {\n",
       "        vertical-align: top;\n",
       "    }\n",
       "\n",
       "    .dataframe thead th {\n",
       "        text-align: right;\n",
       "    }\n",
       "</style>\n",
       "<table border=\"1\" class=\"dataframe\">\n",
       "  <thead>\n",
       "    <tr style=\"text-align: right;\">\n",
       "      <th></th>\n",
       "      <th>publisher</th>\n",
       "      <th>count_books</th>\n",
       "    </tr>\n",
       "  </thead>\n",
       "  <tbody>\n",
       "    <tr>\n",
       "      <th>0</th>\n",
       "      <td>Penguin Books</td>\n",
       "      <td>42</td>\n",
       "    </tr>\n",
       "  </tbody>\n",
       "</table>\n",
       "</div>"
      ],
      "text/plain": [
       "       publisher  count_books\n",
       "0  Penguin Books           42"
      ]
     },
     "execution_count": 10,
     "metadata": {},
     "output_type": "execute_result"
    }
   ],
   "source": [
    "query = '''\n",
    "           SELECT publisher,\n",
    "                  COUNT(book_id) as count_books\n",
    "           FROM books AS b \n",
    "           LEFT JOIN publishers AS pub ON b.publisher_id=pub.publisher_id\n",
    "           WHERE num_pages > 50\n",
    "           GROUP BY pub.publisher_id\n",
    "           ORDER BY count_books DESC\n",
    "           LIMIT 1\n",
    "        '''\n",
    "\n",
    "con=engine.connect()\n",
    "pd.io.sql.read_sql(sql=text(query), con = con)"
   ]
  },
  {
   "cell_type": "markdown",
   "metadata": {},
   "source": [
    "Наибольшее количество книг выпустило издательство Penguin Books, их количество равно 42 шт."
   ]
  },
  {
   "cell_type": "markdown",
   "metadata": {},
   "source": [
    "#### Определим автора с самой высокой средней оценкой книг\n",
    "Будем учитывать только книги с 50 и более оценками."
   ]
  },
  {
   "cell_type": "code",
   "execution_count": 11,
   "metadata": {},
   "outputs": [
    {
     "data": {
      "text/html": [
       "<div>\n",
       "<style scoped>\n",
       "    .dataframe tbody tr th:only-of-type {\n",
       "        vertical-align: middle;\n",
       "    }\n",
       "\n",
       "    .dataframe tbody tr th {\n",
       "        vertical-align: top;\n",
       "    }\n",
       "\n",
       "    .dataframe thead th {\n",
       "        text-align: right;\n",
       "    }\n",
       "</style>\n",
       "<table border=\"1\" class=\"dataframe\">\n",
       "  <thead>\n",
       "    <tr style=\"text-align: right;\">\n",
       "      <th></th>\n",
       "      <th>author</th>\n",
       "      <th>rating_avg</th>\n",
       "    </tr>\n",
       "  </thead>\n",
       "  <tbody>\n",
       "    <tr>\n",
       "      <th>0</th>\n",
       "      <td>J.K. Rowling/Mary GrandPré</td>\n",
       "      <td>4.287097</td>\n",
       "    </tr>\n",
       "  </tbody>\n",
       "</table>\n",
       "</div>"
      ],
      "text/plain": [
       "                       author  rating_avg\n",
       "0  J.K. Rowling/Mary GrandPré    4.287097"
      ]
     },
     "execution_count": 11,
     "metadata": {},
     "output_type": "execute_result"
    }
   ],
   "source": [
    "query = '''\n",
    "           WITH\n",
    "           a AS (SELECT a.author as author,\n",
    "                 b.book_id,\n",
    "                        AVG(rating) OVER (PARTITION BY b.book_id) as avg_rating,\n",
    "                        COUNT(rating_id) OVER (PARTITION BY b.book_id) as count_rating\n",
    "                 FROM books AS b \n",
    "                 LEFT JOIN ratings AS ra ON b.book_id=ra.book_id\n",
    "                 LEFT JOIN authors AS a ON b.author_id=a.author_id)\n",
    "            \n",
    "      \n",
    "          SELECT author,\n",
    "                 AVG(avg_rating) AS rating_avg\n",
    "          FROM a\n",
    "          WHERE count_rating > 50 \n",
    "          GROUP BY author\n",
    "          ORDER BY rating_avg DESC\n",
    "          LIMIT 1 \n",
    "       '''\n",
    "\n",
    "con=engine.connect()\n",
    "pd.io.sql.read_sql(sql=text(query), con = con)"
   ]
  },
  {
   "cell_type": "markdown",
   "metadata": {},
   "source": [
    "Автором набравшим самый высоких средний рейтинг является J.K. Rowling/Mary GrandPré, его рейтинг равен 4,28."
   ]
  },
  {
   "cell_type": "markdown",
   "metadata": {},
   "source": [
    "#### Посчитаем среднее количество обзоров от пользователей, которые поставили больше 48 оценок."
   ]
  },
  {
   "cell_type": "code",
   "execution_count": 12,
   "metadata": {},
   "outputs": [
    {
     "data": {
      "text/html": [
       "<div>\n",
       "<style scoped>\n",
       "    .dataframe tbody tr th:only-of-type {\n",
       "        vertical-align: middle;\n",
       "    }\n",
       "\n",
       "    .dataframe tbody tr th {\n",
       "        vertical-align: top;\n",
       "    }\n",
       "\n",
       "    .dataframe thead th {\n",
       "        text-align: right;\n",
       "    }\n",
       "</style>\n",
       "<table border=\"1\" class=\"dataframe\">\n",
       "  <thead>\n",
       "    <tr style=\"text-align: right;\">\n",
       "      <th></th>\n",
       "      <th>avg</th>\n",
       "    </tr>\n",
       "  </thead>\n",
       "  <tbody>\n",
       "    <tr>\n",
       "      <th>0</th>\n",
       "      <td>24.0</td>\n",
       "    </tr>\n",
       "  </tbody>\n",
       "</table>\n",
       "</div>"
      ],
      "text/plain": [
       "    avg\n",
       "0  24.0"
      ]
     },
     "execution_count": 12,
     "metadata": {},
     "output_type": "execute_result"
    }
   ],
   "source": [
    "query = '''        \n",
    "           WITH\n",
    "           a AS (SELECT username,\n",
    "                        COUNT(rating_id) AS count_rating\n",
    "                 FROM ratings\n",
    "                 GROUP BY username\n",
    "                 HAVING COUNT(rating_id) > 48),\n",
    "           b as (SELECT username,\n",
    "                        COUNT(review_id) AS count_review\n",
    "                 FROM reviews\n",
    "                 GROUP BY username)\n",
    "           SELECT AVG(count_review)\n",
    "           FROM a\n",
    "           LEFT JOIN b ON a.username=b.username\n",
    "        '''\n",
    "con=engine.connect()\n",
    "pd.io.sql.read_sql(sql=text(query), con = con)"
   ]
  },
  {
   "cell_type": "markdown",
   "metadata": {},
   "source": [
    "В среднем активные пользователи пишут по 24 обзора на книги."
   ]
  },
  {
   "cell_type": "markdown",
   "metadata": {},
   "source": [
    "### Вывод.\n",
    "\n",
    "1. В данных представлена информация о 1000 книгах, 6 авторах, которые их написали. В таблице publishers информация о 340 изданиях, где были выпущены книги. В таблийе rating содержится информация о 6456 рейтингах и пользователях, которые оставили оценки. Так же в таблице reviews информация о 2793 обзорах на книги.\n",
    "2. После 1 января 2000 года вышло 819 книг\n",
    "3. По количеству обзоров лидирует книга Twilight (Twilight 1).\n",
    "4. Наибольшее количество книг выпустило издательство Penguin Books, их количество равно 42 шт.\n",
    "5. Автором набравшим самый высоких средний рейтинг является J.K. Rowling/Mary GrandPré, его рейтинг равен 4,28.\n",
    "6. В среднем активные пользователи пишут по 24 обзора на книги.\n"
   ]
  }
 ],
 "metadata": {
  "ExecuteTimeLog": [
   {
    "duration": 6118,
    "start_time": "2023-05-25T17:13:02.514Z"
   },
   {
    "duration": 3,
    "start_time": "2023-05-25T17:13:23.710Z"
   },
   {
    "duration": 4,
    "start_time": "2023-05-25T17:18:23.988Z"
   },
   {
    "duration": 61,
    "start_time": "2023-05-25T17:18:25.396Z"
   },
   {
    "duration": 62,
    "start_time": "2023-05-25T17:19:24.088Z"
   },
   {
    "duration": 11,
    "start_time": "2023-05-25T17:19:55.045Z"
   },
   {
    "duration": 11,
    "start_time": "2023-05-25T17:20:58.352Z"
   },
   {
    "duration": 13,
    "start_time": "2023-05-25T17:20:58.827Z"
   },
   {
    "duration": 14,
    "start_time": "2023-05-25T17:23:19.033Z"
   },
   {
    "duration": 109,
    "start_time": "2023-05-25T17:24:09.967Z"
   },
   {
    "duration": 30,
    "start_time": "2023-05-25T17:24:37.965Z"
   },
   {
    "duration": 34,
    "start_time": "2023-05-25T17:24:59.642Z"
   },
   {
    "duration": 12,
    "start_time": "2023-05-25T17:27:43.101Z"
   },
   {
    "duration": 10,
    "start_time": "2023-05-25T17:27:50.957Z"
   },
   {
    "duration": 11,
    "start_time": "2023-05-25T17:27:58.796Z"
   },
   {
    "duration": 34,
    "start_time": "2023-05-25T17:29:21.432Z"
   },
   {
    "duration": 246,
    "start_time": "2023-05-25T17:31:31.474Z"
   },
   {
    "duration": 20,
    "start_time": "2023-05-25T17:33:29.200Z"
   },
   {
    "duration": 21,
    "start_time": "2023-05-25T17:33:37.863Z"
   },
   {
    "duration": 42,
    "start_time": "2023-05-25T17:33:41.958Z"
   },
   {
    "duration": 83,
    "start_time": "2023-05-25T17:37:06.298Z"
   },
   {
    "duration": 28,
    "start_time": "2023-05-25T17:39:18.463Z"
   },
   {
    "duration": 30,
    "start_time": "2023-05-25T17:39:23.374Z"
   },
   {
    "duration": 18,
    "start_time": "2023-05-25T17:39:27.431Z"
   },
   {
    "duration": 79,
    "start_time": "2023-05-25T17:39:39.491Z"
   },
   {
    "duration": 49,
    "start_time": "2023-05-25T17:39:54.862Z"
   },
   {
    "duration": 40,
    "start_time": "2023-05-25T17:40:01.740Z"
   },
   {
    "duration": 27,
    "start_time": "2023-05-25T17:44:10.950Z"
   },
   {
    "duration": 31,
    "start_time": "2023-05-25T17:44:38.632Z"
   },
   {
    "duration": 35,
    "start_time": "2023-05-25T17:44:47.823Z"
   },
   {
    "duration": 33,
    "start_time": "2023-05-25T17:45:04.702Z"
   },
   {
    "duration": 30,
    "start_time": "2023-05-25T17:45:14.171Z"
   },
   {
    "duration": 27,
    "start_time": "2023-05-25T17:45:18.921Z"
   },
   {
    "duration": 24,
    "start_time": "2023-05-25T17:47:16.554Z"
   },
   {
    "duration": 27,
    "start_time": "2023-05-25T17:48:31.370Z"
   },
   {
    "duration": 14,
    "start_time": "2023-05-25T17:49:28.432Z"
   },
   {
    "duration": 27,
    "start_time": "2023-05-25T17:49:46.371Z"
   },
   {
    "duration": 226,
    "start_time": "2023-05-25T17:50:25.554Z"
   },
   {
    "duration": 20,
    "start_time": "2023-05-25T17:50:49.322Z"
   },
   {
    "duration": 18,
    "start_time": "2023-05-25T17:50:57.154Z"
   },
   {
    "duration": 15,
    "start_time": "2023-05-25T17:52:12.411Z"
   },
   {
    "duration": 26,
    "start_time": "2023-05-25T17:52:18.489Z"
   },
   {
    "duration": 29,
    "start_time": "2023-05-25T17:53:14.644Z"
   },
   {
    "duration": 22,
    "start_time": "2023-05-25T18:24:22.506Z"
   },
   {
    "duration": 19,
    "start_time": "2023-05-25T18:26:14.114Z"
   },
   {
    "duration": 25,
    "start_time": "2023-05-25T18:26:28.871Z"
   },
   {
    "duration": 15,
    "start_time": "2023-05-25T18:27:09.538Z"
   },
   {
    "duration": 13,
    "start_time": "2023-05-25T18:27:14.763Z"
   },
   {
    "duration": 12,
    "start_time": "2023-05-25T18:27:35.807Z"
   },
   {
    "duration": 51,
    "start_time": "2023-05-25T18:37:21.886Z"
   },
   {
    "duration": 5540,
    "start_time": "2023-05-25T18:37:35.715Z"
   },
   {
    "duration": 79,
    "start_time": "2023-05-25T18:37:41.262Z"
   },
   {
    "duration": 55,
    "start_time": "2023-05-25T18:37:41.343Z"
   },
   {
    "duration": 12,
    "start_time": "2023-05-25T18:37:41.400Z"
   },
   {
    "duration": 13,
    "start_time": "2023-05-25T18:37:41.414Z"
   },
   {
    "duration": 13,
    "start_time": "2023-05-25T18:37:41.429Z"
   },
   {
    "duration": 10,
    "start_time": "2023-05-25T18:37:41.443Z"
   },
   {
    "duration": 38,
    "start_time": "2023-05-25T18:37:41.455Z"
   },
   {
    "duration": 12,
    "start_time": "2023-05-25T18:37:41.495Z"
   },
   {
    "duration": 23,
    "start_time": "2023-05-25T18:37:41.510Z"
   },
   {
    "duration": 66,
    "start_time": "2023-05-25T18:38:59.219Z"
   },
   {
    "duration": 45,
    "start_time": "2023-05-25T18:42:16.914Z"
   },
   {
    "duration": 20,
    "start_time": "2023-05-25T18:42:30.572Z"
   },
   {
    "duration": 63,
    "start_time": "2023-05-25T18:42:41.624Z"
   },
   {
    "duration": 45,
    "start_time": "2023-05-25T18:43:29.116Z"
   },
   {
    "duration": 17,
    "start_time": "2023-05-25T18:44:08.776Z"
   },
   {
    "duration": 16,
    "start_time": "2023-05-25T18:46:00.038Z"
   },
   {
    "duration": 21,
    "start_time": "2023-05-25T18:46:09.400Z"
   },
   {
    "duration": 19,
    "start_time": "2023-05-25T18:46:23.490Z"
   },
   {
    "duration": 16,
    "start_time": "2023-05-25T18:46:49.180Z"
   },
   {
    "duration": 62,
    "start_time": "2023-05-25T18:47:41.010Z"
   },
   {
    "duration": 15,
    "start_time": "2023-05-25T18:48:52.800Z"
   },
   {
    "duration": 22,
    "start_time": "2023-05-25T18:51:13.377Z"
   },
   {
    "duration": 16,
    "start_time": "2023-05-25T18:51:56.068Z"
   },
   {
    "duration": 52,
    "start_time": "2023-05-25T18:56:49.094Z"
   },
   {
    "duration": 24,
    "start_time": "2023-05-25T18:57:42.125Z"
   },
   {
    "duration": 31,
    "start_time": "2023-05-25T18:57:59.946Z"
   },
   {
    "duration": 31,
    "start_time": "2023-05-25T18:58:16.044Z"
   },
   {
    "duration": 199,
    "start_time": "2023-05-25T18:58:30.891Z"
   },
   {
    "duration": 22,
    "start_time": "2023-05-25T19:03:55.599Z"
   },
   {
    "duration": 20,
    "start_time": "2023-05-25T19:04:04.988Z"
   },
   {
    "duration": 23,
    "start_time": "2023-05-25T19:04:54.422Z"
   },
   {
    "duration": 22,
    "start_time": "2023-05-25T19:05:04.572Z"
   },
   {
    "duration": 22,
    "start_time": "2023-05-25T19:05:40.673Z"
   },
   {
    "duration": 22,
    "start_time": "2023-05-25T19:06:02.927Z"
   },
   {
    "duration": 24,
    "start_time": "2023-05-25T19:06:16.971Z"
   },
   {
    "duration": 55,
    "start_time": "2023-05-25T19:06:48.817Z"
   },
   {
    "duration": 25,
    "start_time": "2023-05-25T19:07:00.838Z"
   },
   {
    "duration": 27,
    "start_time": "2023-05-25T19:07:10.102Z"
   },
   {
    "duration": 37,
    "start_time": "2023-05-25T19:07:28.852Z"
   },
   {
    "duration": 22,
    "start_time": "2023-05-25T19:07:39.232Z"
   },
   {
    "duration": 19,
    "start_time": "2023-05-25T19:08:11.176Z"
   },
   {
    "duration": 21,
    "start_time": "2023-05-25T19:08:33.220Z"
   },
   {
    "duration": 21,
    "start_time": "2023-05-25T19:08:48.599Z"
   },
   {
    "duration": 22,
    "start_time": "2023-05-25T19:10:04.618Z"
   },
   {
    "duration": 27,
    "start_time": "2023-05-25T19:16:44.006Z"
   },
   {
    "duration": 30,
    "start_time": "2023-05-25T19:19:55.196Z"
   },
   {
    "duration": 21,
    "start_time": "2023-05-25T19:21:46.624Z"
   },
   {
    "duration": 28,
    "start_time": "2023-05-25T19:22:27.853Z"
   },
   {
    "duration": 15,
    "start_time": "2023-05-25T19:22:41.024Z"
   },
   {
    "duration": 22,
    "start_time": "2023-05-25T19:24:35.597Z"
   },
   {
    "duration": 14,
    "start_time": "2023-05-25T19:24:55.476Z"
   },
   {
    "duration": 18,
    "start_time": "2023-05-25T19:25:13.140Z"
   },
   {
    "duration": 604,
    "start_time": "2023-05-25T19:27:39.978Z"
   },
   {
    "duration": 20,
    "start_time": "2023-05-25T19:30:01.528Z"
   },
   {
    "duration": 678,
    "start_time": "2023-05-25T19:30:13.947Z"
   },
   {
    "duration": 756,
    "start_time": "2023-05-25T19:31:04.210Z"
   },
   {
    "duration": 21,
    "start_time": "2023-05-25T19:31:31.873Z"
   },
   {
    "duration": 20,
    "start_time": "2023-05-25T19:32:20.151Z"
   },
   {
    "duration": 758,
    "start_time": "2023-05-25T19:32:24.158Z"
   },
   {
    "duration": 21,
    "start_time": "2023-05-25T19:32:32.893Z"
   },
   {
    "duration": 20,
    "start_time": "2023-05-25T19:33:42.865Z"
   },
   {
    "duration": 117,
    "start_time": "2023-05-25T19:33:58.524Z"
   },
   {
    "duration": 22,
    "start_time": "2023-05-25T19:35:10.739Z"
   },
   {
    "duration": 19,
    "start_time": "2023-05-25T19:35:22.048Z"
   },
   {
    "duration": 26,
    "start_time": "2023-05-25T19:36:14.103Z"
   },
   {
    "duration": 743,
    "start_time": "2023-05-25T19:36:17.862Z"
   },
   {
    "duration": 670,
    "start_time": "2023-05-25T19:37:22.460Z"
   },
   {
    "duration": 772,
    "start_time": "2023-05-25T19:38:11.009Z"
   },
   {
    "duration": 811,
    "start_time": "2023-05-25T19:38:39.062Z"
   },
   {
    "duration": 5715,
    "start_time": "2023-05-26T04:09:55.022Z"
   },
   {
    "duration": 52,
    "start_time": "2023-05-26T04:10:00.739Z"
   },
   {
    "duration": 41,
    "start_time": "2023-05-26T04:10:00.792Z"
   },
   {
    "duration": 11,
    "start_time": "2023-05-26T04:10:00.835Z"
   },
   {
    "duration": 54,
    "start_time": "2023-05-26T04:10:00.847Z"
   },
   {
    "duration": 31,
    "start_time": "2023-05-26T04:10:00.902Z"
   },
   {
    "duration": 24,
    "start_time": "2023-05-26T04:10:00.935Z"
   },
   {
    "duration": 60,
    "start_time": "2023-05-26T04:10:00.961Z"
   },
   {
    "duration": 51,
    "start_time": "2023-05-26T04:10:01.023Z"
   },
   {
    "duration": 128,
    "start_time": "2023-05-26T04:10:01.077Z"
   },
   {
    "duration": 0,
    "start_time": "2023-05-26T04:10:01.207Z"
   },
   {
    "duration": 0,
    "start_time": "2023-05-26T04:10:01.208Z"
   },
   {
    "duration": 21,
    "start_time": "2023-05-26T04:11:14.689Z"
   },
   {
    "duration": 597,
    "start_time": "2023-05-26T04:12:25.560Z"
   },
   {
    "duration": 30,
    "start_time": "2023-05-26T04:13:40.309Z"
   },
   {
    "duration": 21,
    "start_time": "2023-05-26T04:14:09.879Z"
   },
   {
    "duration": 763,
    "start_time": "2023-05-26T04:14:21.076Z"
   },
   {
    "duration": 694,
    "start_time": "2023-05-26T04:16:22.107Z"
   },
   {
    "duration": 710,
    "start_time": "2023-05-26T04:17:04.363Z"
   },
   {
    "duration": 715,
    "start_time": "2023-05-26T04:21:16.078Z"
   },
   {
    "duration": 774,
    "start_time": "2023-05-26T04:21:37.080Z"
   },
   {
    "duration": 896,
    "start_time": "2023-05-26T04:22:19.858Z"
   },
   {
    "duration": 19,
    "start_time": "2023-05-26T04:23:55.494Z"
   },
   {
    "duration": 21,
    "start_time": "2023-05-26T04:25:35.293Z"
   },
   {
    "duration": 541,
    "start_time": "2023-05-26T04:25:54.131Z"
   },
   {
    "duration": 22,
    "start_time": "2023-05-26T04:27:10.922Z"
   },
   {
    "duration": 19,
    "start_time": "2023-05-26T04:27:20.882Z"
   },
   {
    "duration": 50,
    "start_time": "2023-05-26T04:27:32.394Z"
   },
   {
    "duration": 45,
    "start_time": "2023-05-26T04:28:26.894Z"
   },
   {
    "duration": 46,
    "start_time": "2023-05-26T04:29:51.685Z"
   },
   {
    "duration": 46,
    "start_time": "2023-05-26T04:30:06.160Z"
   },
   {
    "duration": 13,
    "start_time": "2023-05-26T04:30:32.975Z"
   },
   {
    "duration": 13,
    "start_time": "2023-05-26T04:30:58.408Z"
   },
   {
    "duration": 67,
    "start_time": "2023-05-26T05:34:11.600Z"
   },
   {
    "duration": 15,
    "start_time": "2023-05-26T05:35:09.005Z"
   },
   {
    "duration": 13,
    "start_time": "2023-05-26T05:35:26.276Z"
   },
   {
    "duration": 26,
    "start_time": "2023-05-26T05:35:33.304Z"
   },
   {
    "duration": 13,
    "start_time": "2023-05-26T05:35:41.458Z"
   },
   {
    "duration": 34,
    "start_time": "2023-05-26T05:36:33.101Z"
   },
   {
    "duration": 22,
    "start_time": "2023-05-26T05:36:52.377Z"
   },
   {
    "duration": 13,
    "start_time": "2023-05-26T05:37:13.755Z"
   },
   {
    "duration": 107,
    "start_time": "2023-05-26T05:39:44.247Z"
   },
   {
    "duration": 14,
    "start_time": "2023-05-26T05:40:15.563Z"
   },
   {
    "duration": 15,
    "start_time": "2023-05-26T05:40:24.383Z"
   },
   {
    "duration": 21,
    "start_time": "2023-05-26T05:41:42.566Z"
   },
   {
    "duration": 2,
    "start_time": "2023-05-26T05:51:48.129Z"
   },
   {
    "duration": 22,
    "start_time": "2023-05-26T05:59:00.195Z"
   },
   {
    "duration": 12,
    "start_time": "2023-05-26T05:59:07.110Z"
   },
   {
    "duration": 14,
    "start_time": "2023-05-26T06:00:02.076Z"
   },
   {
    "duration": 15,
    "start_time": "2023-05-26T06:00:16.385Z"
   },
   {
    "duration": 26,
    "start_time": "2023-05-26T06:01:38.607Z"
   },
   {
    "duration": 21,
    "start_time": "2023-05-26T06:03:06.632Z"
   },
   {
    "duration": 12,
    "start_time": "2023-05-26T06:07:03.969Z"
   },
   {
    "duration": 42,
    "start_time": "2023-05-26T09:53:06.863Z"
   },
   {
    "duration": 418,
    "start_time": "2023-05-26T09:53:10.663Z"
   },
   {
    "duration": 4898,
    "start_time": "2023-05-26T09:53:11.083Z"
   },
   {
    "duration": 56,
    "start_time": "2023-05-26T09:53:15.983Z"
   },
   {
    "duration": 38,
    "start_time": "2023-05-26T09:53:16.041Z"
   },
   {
    "duration": 9,
    "start_time": "2023-05-26T09:53:16.081Z"
   },
   {
    "duration": 10,
    "start_time": "2023-05-26T09:53:16.092Z"
   },
   {
    "duration": 15,
    "start_time": "2023-05-26T09:53:16.104Z"
   },
   {
    "duration": 9,
    "start_time": "2023-05-26T09:53:16.120Z"
   },
   {
    "duration": 30,
    "start_time": "2023-05-26T09:53:16.130Z"
   },
   {
    "duration": 11,
    "start_time": "2023-05-26T09:53:16.161Z"
   },
   {
    "duration": 20,
    "start_time": "2023-05-26T09:53:16.173Z"
   },
   {
    "duration": 13,
    "start_time": "2023-05-26T09:53:16.194Z"
   },
   {
    "duration": 32,
    "start_time": "2023-05-26T09:53:16.209Z"
   },
   {
    "duration": 27,
    "start_time": "2023-05-26T09:54:28.401Z"
   },
   {
    "duration": 27,
    "start_time": "2023-05-26T09:55:34.467Z"
   },
   {
    "duration": 2,
    "start_time": "2023-05-26T10:02:17.428Z"
   },
   {
    "duration": 8,
    "start_time": "2023-05-26T10:02:17.432Z"
   },
   {
    "duration": 54,
    "start_time": "2023-05-26T10:02:17.441Z"
   },
   {
    "duration": 38,
    "start_time": "2023-05-26T10:02:17.497Z"
   },
   {
    "duration": 9,
    "start_time": "2023-05-26T10:02:17.537Z"
   },
   {
    "duration": 10,
    "start_time": "2023-05-26T10:02:17.547Z"
   },
   {
    "duration": 11,
    "start_time": "2023-05-26T10:02:17.558Z"
   },
   {
    "duration": 11,
    "start_time": "2023-05-26T10:02:17.570Z"
   },
   {
    "duration": 27,
    "start_time": "2023-05-26T10:02:17.582Z"
   },
   {
    "duration": 12,
    "start_time": "2023-05-26T10:02:17.611Z"
   },
   {
    "duration": 19,
    "start_time": "2023-05-26T10:02:17.626Z"
   },
   {
    "duration": 13,
    "start_time": "2023-05-26T10:02:17.647Z"
   },
   {
    "duration": 560,
    "start_time": "2023-05-26T22:00:13.400Z"
   },
   {
    "duration": 11640,
    "start_time": "2023-05-26T22:00:13.961Z"
   },
   {
    "duration": 64,
    "start_time": "2023-05-26T22:00:25.603Z"
   },
   {
    "duration": 34,
    "start_time": "2023-05-26T22:00:25.669Z"
   },
   {
    "duration": 12,
    "start_time": "2023-05-26T22:00:25.706Z"
   },
   {
    "duration": 17,
    "start_time": "2023-05-26T22:00:25.720Z"
   },
   {
    "duration": 15,
    "start_time": "2023-05-26T22:00:25.739Z"
   },
   {
    "duration": 28,
    "start_time": "2023-05-26T22:00:25.755Z"
   },
   {
    "duration": 57,
    "start_time": "2023-05-26T22:00:25.785Z"
   },
   {
    "duration": 16,
    "start_time": "2023-05-26T22:00:25.844Z"
   },
   {
    "duration": 36,
    "start_time": "2023-05-26T22:00:25.862Z"
   },
   {
    "duration": 21,
    "start_time": "2023-05-26T22:00:25.900Z"
   },
   {
    "duration": 532,
    "start_time": "2023-05-27T04:02:30.381Z"
   },
   {
    "duration": 8240,
    "start_time": "2023-05-27T04:02:30.915Z"
   },
   {
    "duration": 237,
    "start_time": "2023-05-27T04:02:39.157Z"
   },
   {
    "duration": 133,
    "start_time": "2023-05-27T04:02:39.396Z"
   },
   {
    "duration": 56,
    "start_time": "2023-05-27T04:02:39.530Z"
   },
   {
    "duration": 54,
    "start_time": "2023-05-27T04:02:39.588Z"
   },
   {
    "duration": 57,
    "start_time": "2023-05-27T04:02:39.643Z"
   },
   {
    "duration": 55,
    "start_time": "2023-05-27T04:02:39.702Z"
   },
   {
    "duration": 96,
    "start_time": "2023-05-27T04:02:39.759Z"
   },
   {
    "duration": 57,
    "start_time": "2023-05-27T04:02:39.860Z"
   },
   {
    "duration": 121,
    "start_time": "2023-05-27T04:02:42.625Z"
   },
   {
    "duration": 119,
    "start_time": "2023-05-27T04:11:40.601Z"
   },
   {
    "duration": 123,
    "start_time": "2023-05-27T04:12:14.474Z"
   },
   {
    "duration": 201,
    "start_time": "2023-05-27T04:13:53.510Z"
   },
   {
    "duration": 238,
    "start_time": "2023-05-27T04:15:18.579Z"
   },
   {
    "duration": 134,
    "start_time": "2023-05-27T04:15:29.814Z"
   },
   {
    "duration": 250,
    "start_time": "2023-05-27T04:16:59.706Z"
   },
   {
    "duration": 109,
    "start_time": "2023-05-27T04:17:14.145Z"
   },
   {
    "duration": 87,
    "start_time": "2023-05-27T04:18:03.435Z"
   },
   {
    "duration": 67,
    "start_time": "2023-05-27T04:18:38.441Z"
   },
   {
    "duration": 140,
    "start_time": "2023-05-27T04:18:48.482Z"
   },
   {
    "duration": 202,
    "start_time": "2023-05-27T04:19:02.409Z"
   },
   {
    "duration": 73,
    "start_time": "2023-05-27T04:19:19.952Z"
   },
   {
    "duration": 97,
    "start_time": "2023-05-27T04:21:19.274Z"
   },
   {
    "duration": 69,
    "start_time": "2023-05-27T04:21:41.433Z"
   },
   {
    "duration": 64,
    "start_time": "2023-05-27T04:23:39.354Z"
   },
   {
    "duration": 76,
    "start_time": "2023-05-27T04:26:00.991Z"
   },
   {
    "duration": 67,
    "start_time": "2023-05-27T04:26:26.761Z"
   },
   {
    "duration": 67,
    "start_time": "2023-05-27T04:26:34.311Z"
   },
   {
    "duration": 75,
    "start_time": "2023-05-27T04:27:02.938Z"
   },
   {
    "duration": 65,
    "start_time": "2023-05-27T04:27:09.473Z"
   },
   {
    "duration": 84,
    "start_time": "2023-05-27T04:28:04.328Z"
   },
   {
    "duration": 3,
    "start_time": "2023-05-27T04:30:40.903Z"
   },
   {
    "duration": 7,
    "start_time": "2023-05-27T04:30:40.908Z"
   },
   {
    "duration": 308,
    "start_time": "2023-05-27T04:30:40.917Z"
   },
   {
    "duration": 158,
    "start_time": "2023-05-27T04:30:41.228Z"
   },
   {
    "duration": 52,
    "start_time": "2023-05-27T04:30:41.388Z"
   },
   {
    "duration": 71,
    "start_time": "2023-05-27T04:30:41.442Z"
   },
   {
    "duration": 59,
    "start_time": "2023-05-27T04:30:41.514Z"
   },
   {
    "duration": 52,
    "start_time": "2023-05-27T04:30:41.574Z"
   },
   {
    "duration": 96,
    "start_time": "2023-05-27T04:30:41.628Z"
   },
   {
    "duration": 76,
    "start_time": "2023-05-27T04:30:41.727Z"
   },
   {
    "duration": 66,
    "start_time": "2023-05-27T04:30:41.805Z"
   },
   {
    "duration": 58,
    "start_time": "2023-05-27T04:30:41.873Z"
   }
  ],
  "kernelspec": {
   "display_name": "Python 3 (ipykernel)",
   "language": "python",
   "name": "python3"
  },
  "language_info": {
   "codemirror_mode": {
    "name": "ipython",
    "version": 3
   },
   "file_extension": ".py",
   "mimetype": "text/x-python",
   "name": "python",
   "nbconvert_exporter": "python",
   "pygments_lexer": "ipython3",
   "version": "3.9.12"
  },
  "toc": {
   "base_numbering": 1,
   "nav_menu": {},
   "number_sections": true,
   "sideBar": true,
   "skip_h1_title": true,
   "title_cell": "Table of Contents",
   "title_sidebar": "Contents",
   "toc_cell": false,
   "toc_position": {
    "height": "calc(100% - 180px)",
    "left": "10px",
    "top": "150px",
    "width": "395.083px"
   },
   "toc_section_display": true,
   "toc_window_display": false
  }
 },
 "nbformat": 4,
 "nbformat_minor": 2
}
