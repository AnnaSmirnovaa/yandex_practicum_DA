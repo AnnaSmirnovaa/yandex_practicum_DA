{
 "cells": [
  {
   "cell_type": "markdown",
   "metadata": {
    "toc": true
   },
   "source": [
    "<h1>Содержание<span class=\"tocSkip\"></span></h1>\n",
    "<div class=\"toc\"><ul class=\"toc-item\"><li><span><a href=\"#Откройте-файл-с-данными-и-изучите-общую-информацию.\" data-toc-modified-id=\"Откройте-файл-с-данными-и-изучите-общую-информацию.-1\"><span class=\"toc-item-num\">1&nbsp;&nbsp;</span>Откройте файл с данными и изучите общую информацию.</a></span><ul class=\"toc-item\"><li><span><a href=\"#Импортируем-библиотеку-pandas.-Считаем-данные-из-csv-файла-в-датафрейм-и-сохраним-в-переменную-data.\" data-toc-modified-id=\"Импортируем-библиотеку-pandas.-Считаем-данные-из-csv-файла-в-датафрейм-и-сохраним-в-переменную-data.-1.1\"><span class=\"toc-item-num\">1.1&nbsp;&nbsp;</span>Импортируем библиотеку pandas. Считаем данные из csv-файла в датафрейм и сохраним в переменную <code>data</code>.</a></span></li><li><span><a href=\"#Выведем-основную-информацию-о-датафрейме\" data-toc-modified-id=\"Выведем-основную-информацию-о-датафрейме-1.2\"><span class=\"toc-item-num\">1.2&nbsp;&nbsp;</span>Выведем основную информацию о датафрейме</a></span></li><li><span><a href=\"#Построим-общую-гистограмму-для-всех-столбцов-таблицы\" data-toc-modified-id=\"Построим-общую-гистограмму-для-всех-столбцов-таблицы-1.3\"><span class=\"toc-item-num\">1.3&nbsp;&nbsp;</span>Построим общую гистограмму для всех столбцов таблицы</a></span></li></ul></li><li><span><a href=\"#Предобработка-данных\" data-toc-modified-id=\"Предобработка-данных-2\"><span class=\"toc-item-num\">2&nbsp;&nbsp;</span>Предобработка данных</a></span><ul class=\"toc-item\"><li><span><a href=\"#Переименуем-столбцы\" data-toc-modified-id=\"Переименуем-столбцы-2.1\"><span class=\"toc-item-num\">2.1&nbsp;&nbsp;</span>Переименуем столбцы</a></span></li><li><span><a href=\"#Работа-с-пропущенными-значениями\" data-toc-modified-id=\"Работа-с-пропущенными-значениями-2.2\"><span class=\"toc-item-num\">2.2&nbsp;&nbsp;</span>Работа с пропущенными значениями</a></span></li><li><span><a href=\"#Преобразование-типов-данных\" data-toc-modified-id=\"Преобразование-типов-данных-2.3\"><span class=\"toc-item-num\">2.3&nbsp;&nbsp;</span>Преобразование типов данных</a></span></li><li><span><a href=\"#Работа-с-дубликатами\" data-toc-modified-id=\"Работа-с-дубликатами-2.4\"><span class=\"toc-item-num\">2.4&nbsp;&nbsp;</span>Работа с дубликатами</a></span></li><li><span><a href=\"#Устранение-редких-и-выбивающихся-значений\" data-toc-modified-id=\"Устранение-редких-и-выбивающихся-значений-2.5\"><span class=\"toc-item-num\">2.5&nbsp;&nbsp;</span>Устранение редких и выбивающихся значений</a></span></li></ul></li><li><span><a href=\"#Посчитаем-и-добавим-в-таблицу-новые-столбцы.\" data-toc-modified-id=\"Посчитаем-и-добавим-в-таблицу-новые-столбцы.-3\"><span class=\"toc-item-num\">3&nbsp;&nbsp;</span>Посчитаем и добавим в таблицу новые столбцы.</a></span></li><li><span><a href=\"#Исследовательский-анализ-данных\" data-toc-modified-id=\"Исследовательский-анализ-данных-4\"><span class=\"toc-item-num\">4&nbsp;&nbsp;</span>Исследовательский анализ данных</a></span><ul class=\"toc-item\"><li><span><a href=\"#Проанализируем-следующие-параметры-объектов:\" data-toc-modified-id=\"Проанализируем-следующие-параметры-объектов:-4.1\"><span class=\"toc-item-num\">4.1&nbsp;&nbsp;</span>Проанализируем следующие параметры объектов:</a></span></li><li><span><a href=\"#Узнаем-как-быстро-продавались-квартиры.\" data-toc-modified-id=\"Узнаем-как-быстро-продавались-квартиры.-4.2\"><span class=\"toc-item-num\">4.2&nbsp;&nbsp;</span>Узнаем как быстро продавались квартиры.</a></span></li><li><span><a href=\"#Проанализируем-какие-факторы-больше-всего-влияют-на-стоимость-объекта.\" data-toc-modified-id=\"Проанализируем-какие-факторы-больше-всего-влияют-на-стоимость-объекта.-4.3\"><span class=\"toc-item-num\">4.3&nbsp;&nbsp;</span>Проанализируем какие факторы больше всего влияют на стоимость объекта.</a></span></li><li><span><a href=\"#Проанализируем-цену-одного-квадратного-метра\" data-toc-modified-id=\"Проанализируем-цену-одного-квадратного-метра-4.4\"><span class=\"toc-item-num\">4.4&nbsp;&nbsp;</span>Проанализируем цену одного квадратного метра</a></span></li><li><span><a href=\"#Вычислим-среднюю-цену-каждого-киллометра-от-центра-в-Санкт-Петербурге\" data-toc-modified-id=\"Вычислим-среднюю-цену-каждого-киллометра-от-центра-в-Санкт-Петербурге-4.5\"><span class=\"toc-item-num\">4.5&nbsp;&nbsp;</span>Вычислим среднюю цену каждого киллометра от центра в Санкт-Петербурге</a></span></li></ul></li><li><span><a href=\"#Общий-вывод\" data-toc-modified-id=\"Общий-вывод-5\"><span class=\"toc-item-num\">5&nbsp;&nbsp;</span>Общий вывод</a></span></li></ul></div>"
   ]
  },
  {
   "cell_type": "markdown",
   "metadata": {},
   "source": [
    "# Исследование объявлений о продаже квартир\n",
    "\n",
    "В нашем распоряжении данные сервиса Яндекс.Недвижимость — архив объявлений о продаже квартир в Санкт-Петербурге и соседних населённых пунктов за несколько лет. Определим рыночную стоимость объектов недвижимости. Наша задача — установить параметры. Это позволит построить автоматизированную систему: она отследит аномалии и мошенническую деятельность. \n",
    "\n",
    "По каждой квартире на продажу доступны два вида данных. Первые вписаны пользователем, вторые — получены автоматически на основе картографических данных. Например, расстояние до центра, аэропорта, ближайшего парка и водоёма. \n",
    "В ходе исследования мы:\n",
    "1.  Изучим общую информацию\n",
    "2. Проведем предобработку данных ( устраним пропущенные значения. приведем в соответсвия типы данных, удалим дубликаты. обработаем редкие и выбивающиеся значения)\n",
    "3. Добавим в таблицу новые столбцы, необходимые для исследования\n",
    "4. Проведем исследовательский анализ данных. (изучим детально информацию об оъекте, рассмотрим факторы влияющие на цену)\n",
    "\n",
    "Описание данных:\n",
    "\n",
    "- *airports_nearest* — расстояние до ближайшего аэропорта в метрах (м)\n",
    "- *balcony* — число балконов\n",
    "- *ceiling_height* — высота потолков (м)\n",
    "- *cityCenters_nearest* — расстояние до центра города (м)\n",
    "- *days_exposition* — сколько дней было размещено объявление (от публикации до снятия)\n",
    "- *first_day_exposition* — дата публикации\n",
    "- *floor* — этаж\n",
    "- *floors_total* — всего этажей в доме\n",
    "- *is_apartment* — апартаменты (булев тип)\n",
    "- *kitchen_area* — площадь кухни в квадратных метрах (м²)\n",
    "- *last_price* — цена на момент снятия с публикации\n",
    "- *living_area* — жилая площадь в квадратных метрах (м²)\n",
    "- *locality_name* — название населённого пункта\n",
    "- *open_plan* — свободная планировка (булев тип)\n",
    "- *parks_around3000* — число парков в радиусе 3 км\n",
    "- *parks_nearest* — расстояние до ближайшего парка (м)\n",
    "- *ponds_around3000* — число водоёмов в радиусе 3 км\n",
    "- *ponds_nearest* — расстояние до ближайшего водоёма (м)\n",
    "- *rooms* — число комнат\n",
    "- *studio* — квартира-студия (булев тип)\n",
    "- *total_area* — общая площадь квартиры в квадратных метрах (м²)\n",
    "- *total_images* — число фотографий квартиры в объявлении"
   ]
  },
  {
   "cell_type": "markdown",
   "metadata": {},
   "source": [
    "### Откройте файл с данными и изучите общую информацию. "
   ]
  },
  {
   "cell_type": "markdown",
   "metadata": {},
   "source": [
    "#### Импортируем библиотеку pandas. Считаем данные из csv-файла в датафрейм и сохраним в переменную `data`."
   ]
  },
  {
   "cell_type": "code",
   "execution_count": 1,
   "metadata": {},
   "outputs": [],
   "source": [
    "import pandas as pd\n",
    "import matplotlib.pyplot as plt "
   ]
  },
  {
   "cell_type": "code",
   "execution_count": 15,
   "metadata": {},
   "outputs": [
    {
     "data": {
      "text/html": [
       "<div>\n",
       "<style scoped>\n",
       "    .dataframe tbody tr th:only-of-type {\n",
       "        vertical-align: middle;\n",
       "    }\n",
       "\n",
       "    .dataframe tbody tr th {\n",
       "        vertical-align: top;\n",
       "    }\n",
       "\n",
       "    .dataframe thead th {\n",
       "        text-align: right;\n",
       "    }\n",
       "</style>\n",
       "<table border=\"1\" class=\"dataframe\">\n",
       "  <thead>\n",
       "    <tr style=\"text-align: right;\">\n",
       "      <th></th>\n",
       "      <th>total_images</th>\n",
       "      <th>last_price</th>\n",
       "      <th>total_area</th>\n",
       "      <th>first_day_exposition</th>\n",
       "      <th>rooms</th>\n",
       "      <th>ceiling_height</th>\n",
       "      <th>floors_total</th>\n",
       "      <th>living_area</th>\n",
       "      <th>floor</th>\n",
       "      <th>is_apartment</th>\n",
       "      <th>...</th>\n",
       "      <th>kitchen_area</th>\n",
       "      <th>balcony</th>\n",
       "      <th>locality_name</th>\n",
       "      <th>airports_nearest</th>\n",
       "      <th>cityCenters_nearest</th>\n",
       "      <th>parks_around3000</th>\n",
       "      <th>parks_nearest</th>\n",
       "      <th>ponds_around3000</th>\n",
       "      <th>ponds_nearest</th>\n",
       "      <th>days_exposition</th>\n",
       "    </tr>\n",
       "  </thead>\n",
       "  <tbody>\n",
       "    <tr>\n",
       "      <th>0</th>\n",
       "      <td>20</td>\n",
       "      <td>13000000.0</td>\n",
       "      <td>108.00</td>\n",
       "      <td>2019-03-07T00:00:00</td>\n",
       "      <td>3</td>\n",
       "      <td>2.70</td>\n",
       "      <td>16.0</td>\n",
       "      <td>51.00</td>\n",
       "      <td>8</td>\n",
       "      <td>NaN</td>\n",
       "      <td>...</td>\n",
       "      <td>25.00</td>\n",
       "      <td>NaN</td>\n",
       "      <td>Санкт-Петербург</td>\n",
       "      <td>18863.0</td>\n",
       "      <td>16028.0</td>\n",
       "      <td>1.0</td>\n",
       "      <td>482.0</td>\n",
       "      <td>2.0</td>\n",
       "      <td>755.0</td>\n",
       "      <td>NaN</td>\n",
       "    </tr>\n",
       "    <tr>\n",
       "      <th>1</th>\n",
       "      <td>7</td>\n",
       "      <td>3350000.0</td>\n",
       "      <td>40.40</td>\n",
       "      <td>2018-12-04T00:00:00</td>\n",
       "      <td>1</td>\n",
       "      <td>NaN</td>\n",
       "      <td>11.0</td>\n",
       "      <td>18.60</td>\n",
       "      <td>1</td>\n",
       "      <td>NaN</td>\n",
       "      <td>...</td>\n",
       "      <td>11.00</td>\n",
       "      <td>2.0</td>\n",
       "      <td>посёлок Шушары</td>\n",
       "      <td>12817.0</td>\n",
       "      <td>18603.0</td>\n",
       "      <td>0.0</td>\n",
       "      <td>NaN</td>\n",
       "      <td>0.0</td>\n",
       "      <td>NaN</td>\n",
       "      <td>81.0</td>\n",
       "    </tr>\n",
       "    <tr>\n",
       "      <th>2</th>\n",
       "      <td>10</td>\n",
       "      <td>5196000.0</td>\n",
       "      <td>56.00</td>\n",
       "      <td>2015-08-20T00:00:00</td>\n",
       "      <td>2</td>\n",
       "      <td>NaN</td>\n",
       "      <td>5.0</td>\n",
       "      <td>34.30</td>\n",
       "      <td>4</td>\n",
       "      <td>NaN</td>\n",
       "      <td>...</td>\n",
       "      <td>8.30</td>\n",
       "      <td>0.0</td>\n",
       "      <td>Санкт-Петербург</td>\n",
       "      <td>21741.0</td>\n",
       "      <td>13933.0</td>\n",
       "      <td>1.0</td>\n",
       "      <td>90.0</td>\n",
       "      <td>2.0</td>\n",
       "      <td>574.0</td>\n",
       "      <td>558.0</td>\n",
       "    </tr>\n",
       "    <tr>\n",
       "      <th>3</th>\n",
       "      <td>0</td>\n",
       "      <td>64900000.0</td>\n",
       "      <td>159.00</td>\n",
       "      <td>2015-07-24T00:00:00</td>\n",
       "      <td>3</td>\n",
       "      <td>NaN</td>\n",
       "      <td>14.0</td>\n",
       "      <td>NaN</td>\n",
       "      <td>9</td>\n",
       "      <td>NaN</td>\n",
       "      <td>...</td>\n",
       "      <td>NaN</td>\n",
       "      <td>0.0</td>\n",
       "      <td>Санкт-Петербург</td>\n",
       "      <td>28098.0</td>\n",
       "      <td>6800.0</td>\n",
       "      <td>2.0</td>\n",
       "      <td>84.0</td>\n",
       "      <td>3.0</td>\n",
       "      <td>234.0</td>\n",
       "      <td>424.0</td>\n",
       "    </tr>\n",
       "    <tr>\n",
       "      <th>4</th>\n",
       "      <td>2</td>\n",
       "      <td>10000000.0</td>\n",
       "      <td>100.00</td>\n",
       "      <td>2018-06-19T00:00:00</td>\n",
       "      <td>2</td>\n",
       "      <td>3.03</td>\n",
       "      <td>14.0</td>\n",
       "      <td>32.00</td>\n",
       "      <td>13</td>\n",
       "      <td>NaN</td>\n",
       "      <td>...</td>\n",
       "      <td>41.00</td>\n",
       "      <td>NaN</td>\n",
       "      <td>Санкт-Петербург</td>\n",
       "      <td>31856.0</td>\n",
       "      <td>8098.0</td>\n",
       "      <td>2.0</td>\n",
       "      <td>112.0</td>\n",
       "      <td>1.0</td>\n",
       "      <td>48.0</td>\n",
       "      <td>121.0</td>\n",
       "    </tr>\n",
       "    <tr>\n",
       "      <th>5</th>\n",
       "      <td>10</td>\n",
       "      <td>2890000.0</td>\n",
       "      <td>30.40</td>\n",
       "      <td>2018-09-10T00:00:00</td>\n",
       "      <td>1</td>\n",
       "      <td>NaN</td>\n",
       "      <td>12.0</td>\n",
       "      <td>14.40</td>\n",
       "      <td>5</td>\n",
       "      <td>NaN</td>\n",
       "      <td>...</td>\n",
       "      <td>9.10</td>\n",
       "      <td>NaN</td>\n",
       "      <td>городской посёлок Янино-1</td>\n",
       "      <td>NaN</td>\n",
       "      <td>NaN</td>\n",
       "      <td>NaN</td>\n",
       "      <td>NaN</td>\n",
       "      <td>NaN</td>\n",
       "      <td>NaN</td>\n",
       "      <td>55.0</td>\n",
       "    </tr>\n",
       "    <tr>\n",
       "      <th>6</th>\n",
       "      <td>6</td>\n",
       "      <td>3700000.0</td>\n",
       "      <td>37.30</td>\n",
       "      <td>2017-11-02T00:00:00</td>\n",
       "      <td>1</td>\n",
       "      <td>NaN</td>\n",
       "      <td>26.0</td>\n",
       "      <td>10.60</td>\n",
       "      <td>6</td>\n",
       "      <td>NaN</td>\n",
       "      <td>...</td>\n",
       "      <td>14.40</td>\n",
       "      <td>1.0</td>\n",
       "      <td>посёлок Парголово</td>\n",
       "      <td>52996.0</td>\n",
       "      <td>19143.0</td>\n",
       "      <td>0.0</td>\n",
       "      <td>NaN</td>\n",
       "      <td>0.0</td>\n",
       "      <td>NaN</td>\n",
       "      <td>155.0</td>\n",
       "    </tr>\n",
       "    <tr>\n",
       "      <th>7</th>\n",
       "      <td>5</td>\n",
       "      <td>7915000.0</td>\n",
       "      <td>71.60</td>\n",
       "      <td>2019-04-18T00:00:00</td>\n",
       "      <td>2</td>\n",
       "      <td>NaN</td>\n",
       "      <td>24.0</td>\n",
       "      <td>NaN</td>\n",
       "      <td>22</td>\n",
       "      <td>NaN</td>\n",
       "      <td>...</td>\n",
       "      <td>18.90</td>\n",
       "      <td>2.0</td>\n",
       "      <td>Санкт-Петербург</td>\n",
       "      <td>23982.0</td>\n",
       "      <td>11634.0</td>\n",
       "      <td>0.0</td>\n",
       "      <td>NaN</td>\n",
       "      <td>0.0</td>\n",
       "      <td>NaN</td>\n",
       "      <td>NaN</td>\n",
       "    </tr>\n",
       "    <tr>\n",
       "      <th>8</th>\n",
       "      <td>20</td>\n",
       "      <td>2900000.0</td>\n",
       "      <td>33.16</td>\n",
       "      <td>2018-05-23T00:00:00</td>\n",
       "      <td>1</td>\n",
       "      <td>NaN</td>\n",
       "      <td>27.0</td>\n",
       "      <td>15.43</td>\n",
       "      <td>26</td>\n",
       "      <td>NaN</td>\n",
       "      <td>...</td>\n",
       "      <td>8.81</td>\n",
       "      <td>NaN</td>\n",
       "      <td>посёлок Мурино</td>\n",
       "      <td>NaN</td>\n",
       "      <td>NaN</td>\n",
       "      <td>NaN</td>\n",
       "      <td>NaN</td>\n",
       "      <td>NaN</td>\n",
       "      <td>NaN</td>\n",
       "      <td>189.0</td>\n",
       "    </tr>\n",
       "    <tr>\n",
       "      <th>9</th>\n",
       "      <td>18</td>\n",
       "      <td>5400000.0</td>\n",
       "      <td>61.00</td>\n",
       "      <td>2017-02-26T00:00:00</td>\n",
       "      <td>3</td>\n",
       "      <td>2.50</td>\n",
       "      <td>9.0</td>\n",
       "      <td>43.60</td>\n",
       "      <td>7</td>\n",
       "      <td>NaN</td>\n",
       "      <td>...</td>\n",
       "      <td>6.50</td>\n",
       "      <td>2.0</td>\n",
       "      <td>Санкт-Петербург</td>\n",
       "      <td>50898.0</td>\n",
       "      <td>15008.0</td>\n",
       "      <td>0.0</td>\n",
       "      <td>NaN</td>\n",
       "      <td>0.0</td>\n",
       "      <td>NaN</td>\n",
       "      <td>289.0</td>\n",
       "    </tr>\n",
       "  </tbody>\n",
       "</table>\n",
       "<p>10 rows × 22 columns</p>\n",
       "</div>"
      ],
      "text/plain": [
       "   total_images  last_price  total_area first_day_exposition  rooms  \\\n",
       "0            20  13000000.0      108.00  2019-03-07T00:00:00      3   \n",
       "1             7   3350000.0       40.40  2018-12-04T00:00:00      1   \n",
       "2            10   5196000.0       56.00  2015-08-20T00:00:00      2   \n",
       "3             0  64900000.0      159.00  2015-07-24T00:00:00      3   \n",
       "4             2  10000000.0      100.00  2018-06-19T00:00:00      2   \n",
       "5            10   2890000.0       30.40  2018-09-10T00:00:00      1   \n",
       "6             6   3700000.0       37.30  2017-11-02T00:00:00      1   \n",
       "7             5   7915000.0       71.60  2019-04-18T00:00:00      2   \n",
       "8            20   2900000.0       33.16  2018-05-23T00:00:00      1   \n",
       "9            18   5400000.0       61.00  2017-02-26T00:00:00      3   \n",
       "\n",
       "   ceiling_height  floors_total  living_area  floor is_apartment  ...  \\\n",
       "0            2.70          16.0        51.00      8          NaN  ...   \n",
       "1             NaN          11.0        18.60      1          NaN  ...   \n",
       "2             NaN           5.0        34.30      4          NaN  ...   \n",
       "3             NaN          14.0          NaN      9          NaN  ...   \n",
       "4            3.03          14.0        32.00     13          NaN  ...   \n",
       "5             NaN          12.0        14.40      5          NaN  ...   \n",
       "6             NaN          26.0        10.60      6          NaN  ...   \n",
       "7             NaN          24.0          NaN     22          NaN  ...   \n",
       "8             NaN          27.0        15.43     26          NaN  ...   \n",
       "9            2.50           9.0        43.60      7          NaN  ...   \n",
       "\n",
       "   kitchen_area  balcony              locality_name  airports_nearest  \\\n",
       "0         25.00      NaN            Санкт-Петербург           18863.0   \n",
       "1         11.00      2.0             посёлок Шушары           12817.0   \n",
       "2          8.30      0.0            Санкт-Петербург           21741.0   \n",
       "3           NaN      0.0            Санкт-Петербург           28098.0   \n",
       "4         41.00      NaN            Санкт-Петербург           31856.0   \n",
       "5          9.10      NaN  городской посёлок Янино-1               NaN   \n",
       "6         14.40      1.0          посёлок Парголово           52996.0   \n",
       "7         18.90      2.0            Санкт-Петербург           23982.0   \n",
       "8          8.81      NaN             посёлок Мурино               NaN   \n",
       "9          6.50      2.0            Санкт-Петербург           50898.0   \n",
       "\n",
       "  cityCenters_nearest  parks_around3000  parks_nearest  ponds_around3000  \\\n",
       "0             16028.0               1.0          482.0               2.0   \n",
       "1             18603.0               0.0            NaN               0.0   \n",
       "2             13933.0               1.0           90.0               2.0   \n",
       "3              6800.0               2.0           84.0               3.0   \n",
       "4              8098.0               2.0          112.0               1.0   \n",
       "5                 NaN               NaN            NaN               NaN   \n",
       "6             19143.0               0.0            NaN               0.0   \n",
       "7             11634.0               0.0            NaN               0.0   \n",
       "8                 NaN               NaN            NaN               NaN   \n",
       "9             15008.0               0.0            NaN               0.0   \n",
       "\n",
       "   ponds_nearest  days_exposition  \n",
       "0          755.0              NaN  \n",
       "1            NaN             81.0  \n",
       "2          574.0            558.0  \n",
       "3          234.0            424.0  \n",
       "4           48.0            121.0  \n",
       "5            NaN             55.0  \n",
       "6            NaN            155.0  \n",
       "7            NaN              NaN  \n",
       "8            NaN            189.0  \n",
       "9            NaN            289.0  \n",
       "\n",
       "[10 rows x 22 columns]"
      ]
     },
     "execution_count": 15,
     "metadata": {},
     "output_type": "execute_result"
    }
   ],
   "source": [
    "data = pd.read_csv('real_estate_data.csv', sep='\\t')\n",
    "data.head(10)\n"
   ]
  },
  {
   "cell_type": "markdown",
   "metadata": {},
   "source": [
    "#### Выведем основную информацию о датафрейме"
   ]
  },
  {
   "cell_type": "code",
   "execution_count": 16,
   "metadata": {},
   "outputs": [
    {
     "name": "stdout",
     "output_type": "stream",
     "text": [
      "<class 'pandas.core.frame.DataFrame'>\n",
      "RangeIndex: 23699 entries, 0 to 23698\n",
      "Data columns (total 22 columns):\n",
      " #   Column                Non-Null Count  Dtype  \n",
      "---  ------                --------------  -----  \n",
      " 0   total_images          23699 non-null  int64  \n",
      " 1   last_price            23699 non-null  float64\n",
      " 2   total_area            23699 non-null  float64\n",
      " 3   first_day_exposition  23699 non-null  object \n",
      " 4   rooms                 23699 non-null  int64  \n",
      " 5   ceiling_height        14504 non-null  float64\n",
      " 6   floors_total          23613 non-null  float64\n",
      " 7   living_area           21796 non-null  float64\n",
      " 8   floor                 23699 non-null  int64  \n",
      " 9   is_apartment          2775 non-null   object \n",
      " 10  studio                23699 non-null  bool   \n",
      " 11  open_plan             23699 non-null  bool   \n",
      " 12  kitchen_area          21421 non-null  float64\n",
      " 13  balcony               12180 non-null  float64\n",
      " 14  locality_name         23650 non-null  object \n",
      " 15  airports_nearest      18157 non-null  float64\n",
      " 16  cityCenters_nearest   18180 non-null  float64\n",
      " 17  parks_around3000      18181 non-null  float64\n",
      " 18  parks_nearest         8079 non-null   float64\n",
      " 19  ponds_around3000      18181 non-null  float64\n",
      " 20  ponds_nearest         9110 non-null   float64\n",
      " 21  days_exposition       20518 non-null  float64\n",
      "dtypes: bool(2), float64(14), int64(3), object(3)\n",
      "memory usage: 3.7+ MB\n"
     ]
    }
   ],
   "source": [
    "data.info()"
   ]
  },
  {
   "cell_type": "markdown",
   "metadata": {},
   "source": [
    "#### Построим общую гистограмму для всех столбцов таблицы"
   ]
  },
  {
   "cell_type": "code",
   "execution_count": 4,
   "metadata": {
    "scrolled": false
   },
   "outputs": [
    {
     "data": {
      "image/png": "[encoded data removed]",
      "text/plain": [
       "<Figure size 1080x1440 with 20 Axes>"
      ]
     },
     "metadata": {
      "needs_background": "light"
     },
     "output_type": "display_data"
    }
   ],
   "source": [
    "data.hist(bins=20, figsize=(15, 20));"
   ]
  },
  {
   "cell_type": "markdown",
   "metadata": {},
   "source": [
    "### Предобработка данных"
   ]
  },
  {
   "cell_type": "code",
   "execution_count": 5,
   "metadata": {
    "scrolled": false
   },
   "outputs": [
    {
     "data": {
      "text/plain": [
       "total_images                0\n",
       "last_price                  0\n",
       "total_area                  0\n",
       "first_day_exposition        0\n",
       "rooms                       0\n",
       "ceiling_height           9195\n",
       "floors_total               86\n",
       "living_area              1903\n",
       "floor                       0\n",
       "is_apartment            20924\n",
       "studio                      0\n",
       "open_plan                   0\n",
       "kitchen_area             2278\n",
       "balcony                 11519\n",
       "locality_name              49\n",
       "airports_nearest         5542\n",
       "cityCenters_nearest      5519\n",
       "parks_around3000         5518\n",
       "parks_nearest           15620\n",
       "ponds_around3000         5518\n",
       "ponds_nearest           14589\n",
       "days_exposition          3181\n",
       "dtype: int64"
      ]
     },
     "execution_count": 5,
     "metadata": {},
     "output_type": "execute_result"
    }
   ],
   "source": [
    "data.isna().sum() # количество пропусков в каждом столбце таблицы"
   ]
  },
  {
   "cell_type": "markdown",
   "metadata": {},
   "source": [
    "#### Переименуем столбцы"
   ]
  },
  {
   "cell_type": "code",
   "execution_count": 6,
   "metadata": {},
   "outputs": [],
   "source": [
    "data = data.rename(columns={'cityCenters_nearest':'city_centers_nearest'})# приведем столбец к змеинному регистру"
   ]
  },
  {
   "cell_type": "markdown",
   "metadata": {},
   "source": [
    "#### Работа с пропущенными значениями"
   ]
  },
  {
   "cell_type": "markdown",
   "metadata": {},
   "source": [
    "1. В столбце с количеством балконов есть пропущенные значения, скорее всего продавец оставил данное поле при заполнении данных о квартире пустым, так как квартира не имеет балконов. Заменим пропущенные значения на 0.\n",
    "\n",
    "  Данные для столбцов о наличии вблизи обьекта недвижимости парка и водоема были получены автоматически, на основании картографических данных. В данных столбцах имеются пропуски. Скорее всего программа не обнаружила в радиусе трех тысяч метров нужную инфраструктуру. Заменим пропуски в столбцах parks_around3000, ponds_around3000 на 0.\n",
    "  \n",
    "  Так как мы заменяем пропуски в столбцах о количестве парков и водоемов на 0, заполним соответствующие пропуски в столбцах об удаленности парков и водоемов так же на 0."
   ]
  },
  {
   "cell_type": "code",
   "execution_count": 7,
   "metadata": {},
   "outputs": [],
   "source": [
    "#создаем список с названиями столбцов, в которых необходимо заменить пустые значения \n",
    "change_pass = ['parks_around3000','ponds_around3000','parks_nearest', 'ponds_nearest', 'balcony']\n",
    "\n",
    "for index in change_pass:\n",
    "    data[index] = data[index].fillna(0)"
   ]
  },
  {
   "cell_type": "markdown",
   "metadata": {},
   "source": [
    "2. В названии населенного пункта есть пропущенные значения. Сложно назвать природу их возникновения, поэтому заменим на данном этапе их на unknow."
   ]
  },
  {
   "cell_type": "code",
   "execution_count": 8,
   "metadata": {},
   "outputs": [],
   "source": [
    "data['locality_name'] = data['locality_name'].fillna('unknow')"
   ]
  },
  {
   "cell_type": "markdown",
   "metadata": {},
   "source": [
    "3. Заполним пропуски в столбце **is_apartment** на False. Большинство объектов \"по определению\" не является апартаментами, поэтому часть продавцов не видят смысла заполнения данного поля, в следствии образуются пропуски в данных. Так же, возможно, данное поле появилось не так давно в анкете и заполнить его не было возможности."
   ]
  },
  {
   "cell_type": "code",
   "execution_count": 9,
   "metadata": {},
   "outputs": [],
   "source": [
    "data['is_apartment'] = data['is_apartment'].fillna(False)"
   ]
  },
  {
   "cell_type": "markdown",
   "metadata": {},
   "source": [
    "4. Проверим еще раз оставшиеся пропущенные значения."
   ]
  },
  {
   "cell_type": "code",
   "execution_count": 10,
   "metadata": {},
   "outputs": [
    {
     "data": {
      "text/plain": [
       "total_images               0\n",
       "last_price                 0\n",
       "total_area                 0\n",
       "first_day_exposition       0\n",
       "rooms                      0\n",
       "ceiling_height          9195\n",
       "floors_total              86\n",
       "living_area             1903\n",
       "floor                      0\n",
       "is_apartment               0\n",
       "studio                     0\n",
       "open_plan                  0\n",
       "kitchen_area            2278\n",
       "balcony                    0\n",
       "locality_name              0\n",
       "airports_nearest        5542\n",
       "city_centers_nearest    5519\n",
       "parks_around3000           0\n",
       "parks_nearest              0\n",
       "ponds_around3000           0\n",
       "ponds_nearest              0\n",
       "days_exposition         3181\n",
       "dtype: int64"
      ]
     },
     "execution_count": 10,
     "metadata": {},
     "output_type": "execute_result"
    }
   ],
   "source": [
    "data.isna().sum()"
   ]
  },
  {
   "cell_type": "markdown",
   "metadata": {},
   "source": [
    "Пропуски остались в столбцах kitchen_area и living_area. Видимо продавец не указал их при заполнении обьявления. Пропуски составляют более 5%, поэтому удалять их не будем. Для анализа нам будет достаточно знать общую площадь недвижимости.\n",
    "\n",
    "Пропуски в столбце days_exposition, появились скорее всего из-за того, что на момент формирования файла с данными объявления еще были активными или недвижимость забыли снять с продажи.\n"
   ]
  },
  {
   "cell_type": "markdown",
   "metadata": {},
   "source": [
    "#### Преобразование типов данных"
   ]
  },
  {
   "cell_type": "markdown",
   "metadata": {},
   "source": [
    "Переведем строковый тип данных в дату в столбце first_day_exposition. Это поможет нам при дальнейшем анализе и преобразовании даты для новый столбцов."
   ]
  },
  {
   "cell_type": "code",
   "execution_count": 12,
   "metadata": {
    "scrolled": false
   },
   "outputs": [],
   "source": [
    "data['first_day_exposition'] = pd.to_datetime(data['first_day_exposition'], format='%Y-%m-%dT%H:%M')\n"
   ]
  },
  {
   "cell_type": "markdown",
   "metadata": {},
   "source": [
    "#### Работа с дубликатами"
   ]
  },
  {
   "cell_type": "markdown",
   "metadata": {},
   "source": [
    "1. Просмотрим все уникальные значения в стобце с названиями населенных пунктов. Можно сразу заменить, что часто встречаются неявные дубликаты в следствии написания слова **поселок** через букву **Е** либо **Ё**."
   ]
  },
  {
   "cell_type": "code",
   "execution_count": 13,
   "metadata": {
    "scrolled": true
   },
   "outputs": [
    {
     "data": {
      "text/plain": [
       "array(['Санкт-Петербург', 'посёлок Шушары', 'городской посёлок Янино-1',\n",
       "       'посёлок Парголово', 'посёлок Мурино', 'Ломоносов', 'Сертолово',\n",
       "       'Петергоф', 'Пушкин', 'деревня Кудрово', 'Коммунар', 'Колпино',\n",
       "       'поселок городского типа Красный Бор', 'Гатчина', 'поселок Мурино',\n",
       "       'деревня Фёдоровское', 'Выборг', 'Кронштадт', 'Кировск',\n",
       "       'деревня Новое Девяткино', 'посёлок Металлострой',\n",
       "       'посёлок городского типа Лебяжье',\n",
       "       'посёлок городского типа Сиверский', 'поселок Молодцово',\n",
       "       'поселок городского типа Кузьмоловский',\n",
       "       'садовое товарищество Новая Ропша', 'Павловск',\n",
       "       'деревня Пикколово', 'Всеволожск', 'Волхов', 'Кингисепп',\n",
       "       'Приозерск', 'Сестрорецк', 'деревня Куттузи', 'посёлок Аннино',\n",
       "       'поселок городского типа Ефимовский', 'посёлок Плодовое',\n",
       "       'деревня Заклинье', 'поселок Торковичи', 'поселок Первомайское',\n",
       "       'Красное Село', 'посёлок Понтонный', 'Сясьстрой', 'деревня Старая',\n",
       "       'деревня Лесколово', 'посёлок Новый Свет', 'Сланцы',\n",
       "       'село Путилово', 'Ивангород', 'Мурино', 'Шлиссельбург',\n",
       "       'Никольское', 'Зеленогорск', 'Сосновый Бор', 'поселок Новый Свет',\n",
       "       'деревня Оржицы', 'деревня Кальтино', 'Кудрово',\n",
       "       'поселок Романовка', 'посёлок Бугры', 'поселок Бугры',\n",
       "       'поселок городского типа Рощино', 'Кириши', 'Луга', 'Волосово',\n",
       "       'Отрадное', 'село Павлово', 'поселок Оредеж', 'село Копорье',\n",
       "       'посёлок городского типа Красный Бор', 'посёлок Молодёжное',\n",
       "       'Тихвин', 'посёлок Победа', 'деревня Нурма',\n",
       "       'поселок городского типа Синявино', 'Тосно',\n",
       "       'посёлок городского типа Кузьмоловский', 'посёлок Стрельна',\n",
       "       'Бокситогорск', 'посёлок Александровская', 'деревня Лопухинка',\n",
       "       'Пикалёво', 'поселок Терволово',\n",
       "       'поселок городского типа Советский', 'Подпорожье',\n",
       "       'посёлок Петровское', 'посёлок городского типа Токсово',\n",
       "       'поселок Сельцо', 'посёлок городского типа Вырица',\n",
       "       'деревня Кипень', 'деревня Келози', 'деревня Вартемяги',\n",
       "       'посёлок Тельмана', 'поселок Севастьяново',\n",
       "       'городской поселок Большая Ижора', 'unknow',\n",
       "       'городской посёлок Павлово', 'деревня Агалатово',\n",
       "       'посёлок Новогорелово', 'городской посёлок Лесогорский',\n",
       "       'деревня Лаголово', 'поселок Цвелодубово',\n",
       "       'поселок городского типа Рахья', 'поселок городского типа Вырица',\n",
       "       'деревня Белогорка', 'поселок Заводской',\n",
       "       'городской посёлок Новоселье', 'деревня Большие Колпаны',\n",
       "       'деревня Горбунки', 'деревня Батово', 'деревня Заневка',\n",
       "       'деревня Иссад', 'Приморск', 'городской посёлок Фёдоровское',\n",
       "       'деревня Мистолово', 'Новая Ладога', 'поселок Зимитицы',\n",
       "       'поселок Барышево', 'деревня Разметелево',\n",
       "       'поселок городского типа имени Свердлова', 'деревня Пеники',\n",
       "       'поселок Рябово', 'деревня Пудомяги', 'поселок станции Корнево',\n",
       "       'деревня Низино', 'деревня Бегуницы', 'посёлок Поляны',\n",
       "       'городской посёлок Мга', 'поселок Елизаветино',\n",
       "       'посёлок городского типа Кузнечное', 'деревня Колтуши',\n",
       "       'поселок Запорожское', 'посёлок городского типа Рощино',\n",
       "       'деревня Гостилицы', 'деревня Малое Карлино',\n",
       "       'посёлок Мичуринское', 'посёлок городского типа имени Морозова',\n",
       "       'посёлок Песочный', 'посёлок Сосново', 'деревня Аро',\n",
       "       'поселок Ильичёво', 'посёлок городского типа Тайцы',\n",
       "       'деревня Малое Верево', 'деревня Извара', 'поселок станции Вещево',\n",
       "       'село Паша', 'деревня Калитино',\n",
       "       'посёлок городского типа Ульяновка', 'деревня Чудской Бор',\n",
       "       'поселок городского типа Дубровка', 'деревня Мины',\n",
       "       'поселок Войсковицы', 'посёлок городского типа имени Свердлова',\n",
       "       'деревня Коркино', 'посёлок Ропша',\n",
       "       'поселок городского типа Приладожский', 'посёлок Щеглово',\n",
       "       'посёлок Гаврилово', 'Лодейное Поле', 'деревня Рабитицы',\n",
       "       'поселок городского типа Никольский', 'деревня Кузьмолово',\n",
       "       'деревня Малые Колпаны', 'поселок Тельмана',\n",
       "       'посёлок Петро-Славянка', 'городской посёлок Назия',\n",
       "       'посёлок Репино', 'посёлок Ильичёво', 'поселок Углово',\n",
       "       'поселок Старая Малукса', 'садовое товарищество Рахья',\n",
       "       'поселок Аннино', 'поселок Победа', 'деревня Меньково',\n",
       "       'деревня Старые Бегуницы', 'посёлок Сапёрный', 'поселок Семрино',\n",
       "       'поселок Гаврилово', 'поселок Глажево', 'поселок Кобринское',\n",
       "       'деревня Гарболово', 'деревня Юкки',\n",
       "       'поселок станции Приветнинское', 'деревня Мануйлово',\n",
       "       'деревня Пчева', 'поселок Поляны', 'поселок Цвылёво',\n",
       "       'поселок Мельниково', 'посёлок Пудость', 'посёлок Усть-Луга',\n",
       "       'Светогорск', 'Любань', 'поселок Селезнёво',\n",
       "       'поселок городского типа Рябово', 'Каменногорск', 'деревня Кривко',\n",
       "       'поселок Глебычево', 'деревня Парицы', 'поселок Жилпосёлок',\n",
       "       'посёлок городского типа Мга', 'городской поселок Янино-1',\n",
       "       'посёлок Войскорово', 'село Никольское', 'посёлок Терволово',\n",
       "       'поселок Стеклянный', 'посёлок городского типа Важины',\n",
       "       'посёлок Мыза-Ивановка', 'село Русско-Высоцкое',\n",
       "       'поселок городского типа Лебяжье',\n",
       "       'поселок городского типа Форносово', 'село Старая Ладога',\n",
       "       'поселок Житково', 'городской посёлок Виллози', 'деревня Лампово',\n",
       "       'деревня Шпаньково', 'деревня Лаврики', 'посёлок Сумино',\n",
       "       'посёлок Возрождение', 'деревня Старосиверская',\n",
       "       'посёлок Кикерино', 'поселок Возрождение',\n",
       "       'деревня Старое Хинколово', 'посёлок Пригородный',\n",
       "       'посёлок Торфяное', 'городской посёлок Будогощь',\n",
       "       'поселок Суходолье', 'поселок Красная Долина', 'деревня Хапо-Ое',\n",
       "       'поселок городского типа Дружная Горка', 'поселок Лисий Нос',\n",
       "       'деревня Яльгелево', 'посёлок Стеклянный', 'село Рождествено',\n",
       "       'деревня Старополье', 'посёлок Левашово', 'деревня Сяськелево',\n",
       "       'деревня Камышовка',\n",
       "       'садоводческое некоммерческое товарищество Лесная Поляна',\n",
       "       'деревня Хязельки', 'поселок Жилгородок',\n",
       "       'посёлок городского типа Павлово', 'деревня Ялгино',\n",
       "       'поселок Новый Учхоз', 'городской посёлок Рощино',\n",
       "       'поселок Гончарово', 'поселок Почап', 'посёлок Сапёрное',\n",
       "       'посёлок Платформа 69-й километр', 'поселок Каложицы',\n",
       "       'деревня Фалилеево', 'деревня Пельгора',\n",
       "       'поселок городского типа Лесогорский', 'деревня Торошковичи',\n",
       "       'посёлок Белоостров', 'посёлок Алексеевка', 'поселок Серебрянский',\n",
       "       'поселок Лукаши', 'поселок Петровское', 'деревня Щеглово',\n",
       "       'поселок Мичуринское', 'деревня Тарасово', 'поселок Кингисеппский',\n",
       "       'посёлок при железнодорожной станции Вещево', 'поселок Ушаки',\n",
       "       'деревня Котлы', 'деревня Сижно', 'деревня Торосово',\n",
       "       'посёлок Форт Красная Горка', 'поселок городского типа Токсово',\n",
       "       'деревня Новолисино', 'посёлок станции Громово', 'деревня Глинка',\n",
       "       'посёлок Мельниково', 'поселок городского типа Назия',\n",
       "       'деревня Старая Пустошь', 'поселок Коммунары', 'поселок Починок',\n",
       "       'посёлок городского типа Вознесенье', 'деревня Разбегаево',\n",
       "       'посёлок городского типа Рябово', 'поселок Гладкое',\n",
       "       'посёлок при железнодорожной станции Приветнинское',\n",
       "       'поселок Тёсово-4', 'посёлок Жилгородок', 'деревня Бор',\n",
       "       'посёлок Коробицыно', 'деревня Большая Вруда', 'деревня Курковицы',\n",
       "       'посёлок Лисий Нос', 'городской посёлок Советский',\n",
       "       'посёлок Кобралово', 'деревня Суоранда', 'поселок Кобралово',\n",
       "       'поселок городского типа Кондратьево',\n",
       "       'коттеджный поселок Счастье', 'поселок Любань', 'деревня Реброво',\n",
       "       'деревня Зимитицы', 'деревня Тойворово', 'поселок Семиозерье',\n",
       "       'поселок Лесное', 'поселок Совхозный', 'поселок Усть-Луга',\n",
       "       'посёлок Ленинское', 'посёлок Суйда',\n",
       "       'посёлок городского типа Форносово', 'деревня Нижние Осельки',\n",
       "       'посёлок станции Свирь', 'поселок Перово', 'Высоцк',\n",
       "       'поселок Гарболово', 'село Шум', 'поселок Котельский',\n",
       "       'поселок станции Лужайка', 'деревня Большая Пустомержа',\n",
       "       'поселок Красносельское', 'деревня Вахнова Кара', 'деревня Пижма',\n",
       "       'коттеджный поселок Кивеннапа Север', 'поселок Коробицыно',\n",
       "       'поселок Ромашки', 'посёлок Перово', 'деревня Каськово',\n",
       "       'деревня Куровицы', 'посёлок Плоское', 'поселок Сумино',\n",
       "       'поселок городского типа Большая Ижора', 'поселок Кирпичное',\n",
       "       'деревня Ям-Тесово', 'деревня Раздолье', 'деревня Терпилицы',\n",
       "       'посёлок Шугозеро', 'деревня Ваганово', 'поселок Пушное',\n",
       "       'садовое товарищество Садко', 'посёлок Усть-Ижора',\n",
       "       'деревня Выскатка', 'городской посёлок Свирьстрой',\n",
       "       'поселок Громово', 'деревня Кисельня', 'посёлок Старая Малукса',\n",
       "       'деревня Трубников Бор', 'поселок Калитино',\n",
       "       'посёлок Высокоключевой', 'садовое товарищество Приладожский',\n",
       "       'посёлок Пансионат Зелёный Бор', 'деревня Ненимяки',\n",
       "       'поселок Пансионат Зелёный Бор', 'деревня Снегирёвка',\n",
       "       'деревня Рапполово', 'деревня Пустынка', 'поселок Рабитицы',\n",
       "       'деревня Большой Сабск', 'деревня Русско', 'деревня Лупполово',\n",
       "       'деревня Большое Рейзино', 'деревня Малая Романовка',\n",
       "       'поселок Дружноселье', 'поселок Пчевжа', 'поселок Володарское',\n",
       "       'деревня Нижняя', 'коттеджный посёлок Лесное', 'деревня Тихковицы',\n",
       "       'деревня Борисова Грива', 'посёлок Дзержинского'], dtype=object)"
      ]
     },
     "execution_count": 13,
     "metadata": {},
     "output_type": "execute_result"
    }
   ],
   "source": [
    "data['locality_name'].unique()"
   ]
  },
  {
   "cell_type": "code",
   "execution_count": 14,
   "metadata": {},
   "outputs": [],
   "source": [
    "data = data.replace('ё','е',regex=True) # заменим все буквы Ё на Е, для устранения дубликатов"
   ]
  },
  {
   "cell_type": "markdown",
   "metadata": {},
   "source": [
    "2. Так же в столбце с названиями населенных пунктов встречаются дубликаты из-за разного написания вспомогательных слов в названий локаций. Используя цикл найдем все возможные вариации вспомогательных слов к населенному пункту: **поселок**, **село** , **деревня** и **товарищество**, создадим список их них."
   ]
  },
  {
   "cell_type": "code",
   "execution_count": 15,
   "metadata": {},
   "outputs": [
    {
     "name": "stdout",
     "output_type": "stream",
     "text": [
      "поселок Шушары\n",
      "городской поселок Янино-1\n",
      "поселок Парголово\n",
      "поселок Мурино\n",
      "деревня Кудрово\n",
      "поселок городского типа Красный Бор\n",
      "деревня Федоровское\n",
      "деревня Новое Девяткино\n",
      "поселок Металлострой\n",
      "поселок городского типа Лебяжье\n",
      "поселок городского типа Сиверский\n",
      "поселок Молодцово\n",
      "поселок городского типа Кузьмоловский\n",
      "садовое товарищество Новая Ропша\n",
      "деревня Пикколово\n",
      "деревня Куттузи\n",
      "поселок Аннино\n",
      "поселок городского типа Ефимовский\n",
      "поселок Плодовое\n",
      "деревня Заклинье\n",
      "поселок Торковичи\n",
      "поселок Первомайское\n",
      "поселок Понтонный\n",
      "деревня Старая\n",
      "деревня Лесколово\n",
      "поселок Новый Свет\n",
      "село Путилово\n",
      "деревня Оржицы\n",
      "деревня Кальтино\n",
      "поселок Романовка\n",
      "поселок Бугры\n",
      "поселок городского типа Рощино\n",
      "село Павлово\n",
      "поселок Оредеж\n",
      "село Копорье\n",
      "поселок Молодежное\n",
      "поселок Победа\n",
      "деревня Нурма\n",
      "поселок городского типа Синявино\n",
      "поселок Стрельна\n",
      "поселок Александровская\n",
      "деревня Лопухинка\n",
      "поселок Терволово\n",
      "поселок городского типа Советский\n",
      "поселок Петровское\n",
      "поселок городского типа Токсово\n",
      "поселок Сельцо\n",
      "поселок городского типа Вырица\n",
      "деревня Кипень\n",
      "деревня Келози\n",
      "деревня Вартемяги\n",
      "поселок Тельмана\n",
      "поселок Севастьяново\n",
      "городской поселок Большая Ижора\n",
      "городской поселок Павлово\n",
      "деревня Агалатово\n",
      "поселок Новогорелово\n",
      "городской поселок Лесогорский\n",
      "деревня Лаголово\n",
      "поселок Цвелодубово\n",
      "поселок городского типа Рахья\n",
      "деревня Белогорка\n",
      "поселок Заводской\n",
      "городской поселок Новоселье\n",
      "деревня Большие Колпаны\n",
      "деревня Горбунки\n",
      "деревня Батово\n",
      "деревня Заневка\n",
      "деревня Иссад\n",
      "городской поселок Федоровское\n",
      "деревня Мистолово\n",
      "поселок Зимитицы\n",
      "поселок Барышево\n",
      "деревня Разметелево\n",
      "поселок городского типа имени Свердлова\n",
      "деревня Пеники\n",
      "поселок Рябово\n",
      "деревня Пудомяги\n",
      "поселок станции Корнево\n",
      "деревня Низино\n",
      "деревня Бегуницы\n",
      "поселок Поляны\n",
      "городской поселок Мга\n",
      "поселок Елизаветино\n",
      "поселок городского типа Кузнечное\n",
      "деревня Колтуши\n",
      "поселок Запорожское\n",
      "деревня Гостилицы\n",
      "деревня Малое Карлино\n",
      "поселок Мичуринское\n",
      "поселок городского типа имени Морозова\n",
      "поселок Песочный\n",
      "поселок Сосново\n",
      "деревня Аро\n",
      "поселок Ильичево\n",
      "поселок городского типа Тайцы\n",
      "деревня Малое Верево\n",
      "деревня Извара\n",
      "поселок станции Вещево\n",
      "село Паша\n",
      "деревня Калитино\n",
      "поселок городского типа Ульяновка\n",
      "деревня Чудской Бор\n",
      "поселок городского типа Дубровка\n",
      "деревня Мины\n",
      "поселок Войсковицы\n",
      "деревня Коркино\n",
      "поселок Ропша\n",
      "поселок городского типа Приладожский\n",
      "поселок Щеглово\n",
      "поселок Гаврилово\n",
      "деревня Рабитицы\n",
      "поселок городского типа Никольский\n",
      "деревня Кузьмолово\n",
      "деревня Малые Колпаны\n",
      "поселок Петро-Славянка\n",
      "городской поселок Назия\n",
      "поселок Репино\n",
      "поселок Углово\n",
      "поселок Старая Малукса\n",
      "садовое товарищество Рахья\n",
      "деревня Меньково\n",
      "деревня Старые Бегуницы\n",
      "поселок Саперный\n",
      "поселок Семрино\n",
      "поселок Глажево\n",
      "поселок Кобринское\n",
      "деревня Гарболово\n",
      "деревня Юкки\n",
      "поселок станции Приветнинское\n",
      "деревня Мануйлово\n",
      "деревня Пчева\n",
      "поселок Цвылево\n",
      "поселок Мельниково\n",
      "поселок Пудость\n",
      "поселок Усть-Луга\n",
      "поселок Селезнево\n",
      "поселок городского типа Рябово\n",
      "деревня Кривко\n",
      "поселок Глебычево\n",
      "деревня Парицы\n",
      "поселок Жилпоселок\n",
      "поселок городского типа Мга\n",
      "поселок Войскорово\n",
      "село Никольское\n",
      "поселок Стеклянный\n",
      "поселок городского типа Важины\n",
      "поселок Мыза-Ивановка\n",
      "село Русско-Высоцкое\n",
      "поселок городского типа Форносово\n",
      "село Старая Ладога\n",
      "поселок Житково\n",
      "городской поселок Виллози\n",
      "деревня Лампово\n",
      "деревня Шпаньково\n",
      "деревня Лаврики\n",
      "поселок Сумино\n",
      "поселок Возрождение\n",
      "деревня Старосиверская\n",
      "поселок Кикерино\n",
      "деревня Старое Хинколово\n",
      "поселок Пригородный\n",
      "поселок Торфяное\n",
      "городской поселок Будогощь\n",
      "поселок Суходолье\n",
      "поселок Красная Долина\n",
      "деревня Хапо-Ое\n",
      "поселок городского типа Дружная Горка\n",
      "поселок Лисий Нос\n",
      "деревня Яльгелево\n",
      "село Рождествено\n",
      "деревня Старополье\n",
      "поселок Левашово\n",
      "деревня Сяськелево\n",
      "деревня Камышовка\n",
      "садоводческое некоммерческое товарищество Лесная Поляна\n",
      "деревня Хязельки\n",
      "поселок Жилгородок\n",
      "поселок городского типа Павлово\n",
      "деревня Ялгино\n",
      "поселок Новый Учхоз\n",
      "городской поселок Рощино\n",
      "поселок Гончарово\n",
      "поселок Почап\n",
      "поселок Саперное\n",
      "поселок Платформа 69-й километр\n",
      "поселок Каложицы\n",
      "деревня Фалилеево\n",
      "деревня Пельгора\n",
      "поселок городского типа Лесогорский\n",
      "деревня Торошковичи\n",
      "поселок Белоостров\n",
      "поселок Алексеевка\n",
      "поселок Серебрянский\n",
      "поселок Лукаши\n",
      "деревня Щеглово\n",
      "деревня Тарасово\n",
      "поселок Кингисеппский\n",
      "поселок при железнодорожной станции Вещево\n",
      "поселок Ушаки\n",
      "деревня Котлы\n",
      "деревня Сижно\n",
      "деревня Торосово\n",
      "поселок Форт Красная Горка\n",
      "деревня Новолисино\n",
      "поселок станции Громово\n",
      "деревня Глинка\n",
      "поселок городского типа Назия\n",
      "деревня Старая Пустошь\n",
      "поселок Коммунары\n",
      "поселок Починок\n",
      "поселок городского типа Вознесенье\n",
      "деревня Разбегаево\n",
      "поселок Гладкое\n",
      "поселок при железнодорожной станции Приветнинское\n",
      "поселок Тесово-4\n",
      "деревня Бор\n",
      "поселок Коробицыно\n",
      "деревня Большая Вруда\n",
      "деревня Курковицы\n",
      "городской поселок Советский\n",
      "поселок Кобралово\n",
      "деревня Суоранда\n",
      "поселок городского типа Кондратьево\n",
      "коттеджный поселок Счастье\n",
      "поселок Любань\n",
      "деревня Реброво\n",
      "деревня Зимитицы\n",
      "деревня Тойворово\n",
      "поселок Семиозерье\n",
      "поселок Лесное\n",
      "поселок Совхозный\n",
      "поселок Ленинское\n",
      "поселок Суйда\n",
      "деревня Нижние Осельки\n",
      "поселок станции Свирь\n",
      "поселок Перово\n",
      "поселок Гарболово\n",
      "село Шум\n",
      "поселок Котельский\n",
      "поселок станции Лужайка\n",
      "деревня Большая Пустомержа\n",
      "поселок Красносельское\n",
      "деревня Вахнова Кара\n",
      "деревня Пижма\n",
      "коттеджный поселок Кивеннапа Север\n",
      "поселок Ромашки\n",
      "деревня Каськово\n",
      "деревня Куровицы\n",
      "поселок Плоское\n",
      "поселок городского типа Большая Ижора\n",
      "поселок Кирпичное\n",
      "деревня Ям-Тесово\n",
      "деревня Раздолье\n",
      "деревня Терпилицы\n",
      "поселок Шугозеро\n",
      "деревня Ваганово\n",
      "поселок Пушное\n",
      "садовое товарищество Садко\n",
      "поселок Усть-Ижора\n",
      "деревня Выскатка\n",
      "городской поселок Свирьстрой\n",
      "поселок Громово\n",
      "деревня Кисельня\n",
      "деревня Трубников Бор\n",
      "поселок Калитино\n",
      "поселок Высокоключевой\n",
      "садовое товарищество Приладожский\n",
      "поселок Пансионат Зеленый Бор\n",
      "деревня Ненимяки\n",
      "деревня Снегиревка\n",
      "деревня Рапполово\n",
      "деревня Пустынка\n",
      "поселок Рабитицы\n",
      "деревня Большой Сабск\n",
      "деревня Русско\n",
      "деревня Лупполово\n",
      "деревня Большое Рейзино\n",
      "деревня Малая Романовка\n",
      "поселок Дружноселье\n",
      "поселок Пчевжа\n",
      "поселок Володарское\n",
      "деревня Нижняя\n",
      "коттеджный поселок Лесное\n",
      "деревня Тихковицы\n",
      "деревня Борисова Грива\n",
      "поселок Дзержинского\n"
     ]
    }
   ],
   "source": [
    "for index in data['locality_name'].unique():\n",
    "    if 'село' in index: \n",
    "        print(index)\n",
    "    if 'деревня' in index:\n",
    "        print(index)\n",
    "    if 'товарищество' in index:\n",
    "        print(index)\n",
    "        "
   ]
  },
  {
   "cell_type": "code",
   "execution_count": 16,
   "metadata": {},
   "outputs": [],
   "source": [
    "#создадим список, с всеми вспомогательными словами к названию населенного пункта\n",
    "change_location = [\n",
    "                  'городской поселок ', 'поселок городского типа ', 'коттеджный поселок ', 'поселок станции ', \n",
    "                  'поселок при железнодорожной станции ','поселок ', 'деревня ', 'садовое товарищество ', 'село ',\n",
    "                  'садоводческое некоммерческое товарищество '\n",
    "                   ]"
   ]
  },
  {
   "cell_type": "markdown",
   "metadata": {},
   "source": [
    "3. Удалим все вариации вспомогательных слов из названий населенных пунктов."
   ]
  },
  {
   "cell_type": "code",
   "execution_count": 17,
   "metadata": {},
   "outputs": [],
   "source": [
    "data = data.replace(change_location, '', regex=True)"
   ]
  },
  {
   "cell_type": "markdown",
   "metadata": {},
   "source": [
    "В следствии обработки нам удалось избавиться от 60 неявных дубликатов в названиях населенных пунктов, что существенно поможет далее проводить более точный анализ данных. "
   ]
  },
  {
   "cell_type": "markdown",
   "metadata": {},
   "source": [
    "#### Устранение редких и выбивающихся значений"
   ]
  },
  {
   "cell_type": "markdown",
   "metadata": {},
   "source": [
    "1. В столбце **ceiling_height** в некоторых строках указана высота потолков более 20м. Логично предположить, что это ошибка заполнения. Заменим значения с столбцах с аномально высоким показателем."
   ]
  },
  {
   "cell_type": "code",
   "execution_count": 18,
   "metadata": {},
   "outputs": [],
   "source": [
    "data['ceiling_height'] = data['ceiling_height'].where(data['ceiling_height'] < 20, data['ceiling_height'] / 10)"
   ]
  },
  {
   "cell_type": "markdown",
   "metadata": {},
   "source": [
    "2. К высотным домам в Петербурге отношение особое. Во-первых, неустойчивые грунты, насыщенные подземными водами, делают строительство высоких сооружений непростым и затратным. Во-вторых, существует регламент, который запрещает возводить здания выше определенного уровня. Самым высоким жилым домом по состоянию на 2022 год является ЖК \"Александр Невский\", его этажность составляет 37 этажей. Поэтому удалим из таблицы строки, где значение столбца **floors_total** превышает 37 этажей. Пропущеные значения в данном столбце составляют менее 1% от общего количества строк. Удалим строки с пропущенными значениями."
   ]
  },
  {
   "cell_type": "code",
   "execution_count": 20,
   "metadata": {},
   "outputs": [],
   "source": [
    "data = data.query('floors_total < 38')"
   ]
  },
  {
   "cell_type": "markdown",
   "metadata": {},
   "source": [
    "### Посчитаем и добавим в таблицу новые столбцы."
   ]
  },
  {
   "cell_type": "markdown",
   "metadata": {},
   "source": [
    "Добавим в таблицу столбцы со следующими параметрами:\n",
    "1. Стоимость 1 кв.метра недвижимости, округлим значение до сотых."
   ]
  },
  {
   "cell_type": "code",
   "execution_count": 21,
   "metadata": {},
   "outputs": [],
   "source": [
    "data['one_m_price'] = round(data['last_price'] / data['total_area'], 2) \n",
    "# Поделим стоимость на общую площадь в каждой строке"
   ]
  },
  {
   "cell_type": "markdown",
   "metadata": {},
   "source": [
    "2. День недели публикации объявления (0 — понедельник, 1 — вторник и так далее)"
   ]
  },
  {
   "cell_type": "code",
   "execution_count": 22,
   "metadata": {},
   "outputs": [],
   "source": [
    "data['day_week'] = data['first_day_exposition'].dt.weekday"
   ]
  },
  {
   "cell_type": "markdown",
   "metadata": {},
   "source": [
    "3. Месяц публикации объявления."
   ]
  },
  {
   "cell_type": "code",
   "execution_count": 23,
   "metadata": {},
   "outputs": [],
   "source": [
    "data['month_exposition'] = data['first_day_exposition'].dt.month"
   ]
  },
  {
   "cell_type": "markdown",
   "metadata": {},
   "source": [
    "4. Год публикации объявления."
   ]
  },
  {
   "cell_type": "code",
   "execution_count": 24,
   "metadata": {},
   "outputs": [],
   "source": [
    "data['year_exposition'] = data['first_day_exposition'].dt.year"
   ]
  },
  {
   "cell_type": "markdown",
   "metadata": {},
   "source": [
    "4. Тип этажа квартиры. \n",
    "Разделим значения в столбце **floor** на три группы:"
   ]
  },
  {
   "cell_type": "markdown",
   "metadata": {},
   "source": [
    "1. 'первый', если квартира находится на первом этаже\n",
    "2. 'последний', если квартира находится на последнем этаже в доме\n",
    "3. 'другие', если квартира не попадает под первые две категории"
   ]
  },
  {
   "cell_type": "code",
   "execution_count": 25,
   "metadata": {},
   "outputs": [],
   "source": [
    "#создадим функцию, которая сравнит значение в столбце floor с 1 и с значением с столбце floors_total\n",
    "def categorize_floor(row):\n",
    "    floor = row['floor']\n",
    "    total_floors = row['floors_total']\n",
    "    if floor == 1:\n",
    "        return 'первый'\n",
    "    elif floor == total_floors:\n",
    "        return 'последний'\n",
    "    else:\n",
    "        return 'другие'"
   ]
  },
  {
   "cell_type": "code",
   "execution_count": 26,
   "metadata": {},
   "outputs": [],
   "source": [
    "data['floor_class'] = data.apply(categorize_floor, axis=1) # создадим новый столбец floor_class  с результатом работы функции"
   ]
  },
  {
   "cell_type": "markdown",
   "metadata": {},
   "source": [
    "5. Расстояние до центра города и до ближайшего аэропорта в километрах."
   ]
  },
  {
   "cell_type": "code",
   "execution_count": 27,
   "metadata": {},
   "outputs": [],
   "source": [
    "data['city_center_km'] = round(data['city_centers_nearest'] / 1000)\n",
    "# переведем значение столбца city_centers_nearest из м в км поделив на 1000(1 км=1000м)"
   ]
  },
  {
   "cell_type": "code",
   "execution_count": 28,
   "metadata": {},
   "outputs": [],
   "source": [
    "data['airports_km'] = round(data['airports_nearest'] / 1000)\n",
    "# переведем значение столбца airports_nearest из м в км поделив на 1000(1 км=1000м)"
   ]
  },
  {
   "cell_type": "markdown",
   "metadata": {},
   "source": [
    "### Исследовательский анализ данных"
   ]
  },
  {
   "cell_type": "markdown",
   "metadata": {},
   "source": [
    "#### Проанализируем следующие параметры объектов:"
   ]
  },
  {
   "cell_type": "markdown",
   "metadata": {},
   "source": [
    "**Общая площадь объекта.**"
   ]
  },
  {
   "cell_type": "code",
   "execution_count": 29,
   "metadata": {},
   "outputs": [
    {
     "data": {
      "text/plain": [
       "count    23611.000000\n",
       "mean        60.342168\n",
       "std         35.650121\n",
       "min         12.000000\n",
       "25%         40.000000\n",
       "50%         52.000000\n",
       "75%         69.800000\n",
       "max        900.000000\n",
       "Name: total_area, dtype: float64"
      ]
     },
     "execution_count": 29,
     "metadata": {},
     "output_type": "execute_result"
    }
   ],
   "source": [
    "data['total_area'].describe()"
   ]
  },
  {
   "cell_type": "code",
   "execution_count": 30,
   "metadata": {},
   "outputs": [
    {
     "data": {
      "image/png": "[encoded data removed]",
      "text/plain": [
       "<Figure size 432x288 with 1 Axes>"
      ]
     },
     "metadata": {
      "needs_background": "light"
     },
     "output_type": "display_data"
    }
   ],
   "source": [
    "data.hist('total_area', bins=30, range=(12,300));"
   ]
  },
  {
   "cell_type": "markdown",
   "metadata": {},
   "source": [
    "Из построенной гистограммы можно сделать вывод, что больше 5000 объявлений это квартиры с площадью от 35 до 50 кв.м. Меньше всего объявлений с площадью квартир более 160 кв. м. Квартиры площадью более 300 кв. метров редкость в аналиризуемой таблице."
   ]
  },
  {
   "cell_type": "markdown",
   "metadata": {},
   "source": [
    "**Жилая площадь объекта.**"
   ]
  },
  {
   "cell_type": "code",
   "execution_count": 31,
   "metadata": {},
   "outputs": [
    {
     "data": {
      "text/plain": [
       "count    21741.000000\n",
       "mean        34.464208\n",
       "std         22.037795\n",
       "min          2.000000\n",
       "25%         18.600000\n",
       "50%         30.000000\n",
       "75%         42.300000\n",
       "max        409.700000\n",
       "Name: living_area, dtype: float64"
      ]
     },
     "execution_count": 31,
     "metadata": {},
     "output_type": "execute_result"
    }
   ],
   "source": [
    "data['living_area'].describe()\n"
   ]
  },
  {
   "cell_type": "code",
   "execution_count": 32,
   "metadata": {},
   "outputs": [
    {
     "data": {
      "image/png": "[encoded data removed]",
      "text/plain": [
       "<Figure size 432x288 with 1 Axes>"
      ]
     },
     "metadata": {
      "needs_background": "light"
     },
     "output_type": "display_data"
    }
   ],
   "source": [
    "data.hist('living_area', bins=30, range=(10,250));"
   ]
  },
  {
   "cell_type": "markdown",
   "metadata": {},
   "source": [
    "Самое большое количество объявлений с жилой площадью 30 кв.м. Основная масса объектов с жилой площадью от 10 до 50 кв.м. Квартиры с жилой площаью более 100 кв. метров практически отсутстуют."
   ]
  },
  {
   "cell_type": "markdown",
   "metadata": {},
   "source": [
    "**Площадь кухни.**"
   ]
  },
  {
   "cell_type": "code",
   "execution_count": 33,
   "metadata": {},
   "outputs": [
    {
     "data": {
      "text/plain": [
       "count    21380.000000\n",
       "mean        10.564115\n",
       "std          5.904506\n",
       "min          1.300000\n",
       "25%          7.000000\n",
       "50%          9.100000\n",
       "75%         12.000000\n",
       "max        112.000000\n",
       "Name: kitchen_area, dtype: float64"
      ]
     },
     "execution_count": 33,
     "metadata": {},
     "output_type": "execute_result"
    }
   ],
   "source": [
    "data['kitchen_area'].describe()"
   ]
  },
  {
   "cell_type": "code",
   "execution_count": 34,
   "metadata": {},
   "outputs": [
    {
     "data": {
      "image/png": "[encoded data removed]",
      "text/plain": [
       "<Figure size 432x288 with 1 Axes>"
      ]
     },
     "metadata": {
      "needs_background": "light"
     },
     "output_type": "display_data"
    }
   ],
   "source": [
    "data.hist('kitchen_area', bins=30, range=(1,60));"
   ]
  },
  {
   "cell_type": "markdown",
   "metadata": {},
   "source": [
    "У четверти объявлений площадь кухни от 7 до 9 кв.м. Кухни с площадью более 30 кв. м встречаются очень редко."
   ]
  },
  {
   "cell_type": "markdown",
   "metadata": {},
   "source": [
    "**Цена объекта.**"
   ]
  },
  {
   "cell_type": "code",
   "execution_count": 35,
   "metadata": {},
   "outputs": [
    {
     "data": {
      "text/plain": [
       "count    2.361100e+04\n",
       "mean     6.540780e+06\n",
       "std      1.090216e+07\n",
       "min      1.219000e+04\n",
       "25%      3.400000e+06\n",
       "50%      4.650000e+06\n",
       "75%      6.799000e+06\n",
       "max      7.630000e+08\n",
       "Name: last_price, dtype: float64"
      ]
     },
     "execution_count": 35,
     "metadata": {},
     "output_type": "execute_result"
    }
   ],
   "source": [
    "data['last_price'].describe()"
   ]
  },
  {
   "cell_type": "code",
   "execution_count": 36,
   "metadata": {},
   "outputs": [
    {
     "data": {
      "image/png": "[encoded data removed]",
      "text/plain": [
       "<Figure size 432x288 with 1 Axes>"
      ]
     },
     "metadata": {
      "needs_background": "light"
     },
     "output_type": "display_data"
    }
   ],
   "source": [
    "data.hist('last_price', bins=100, range=(500000, 30000000));"
   ]
  },
  {
   "cell_type": "markdown",
   "metadata": {},
   "source": [
    "25% объявлений с стоимостью за квартиру меньше 3,5 млн руб,больше 9000 объявлений квартир стоимостью около 5 млн. руб."
   ]
  },
  {
   "cell_type": "markdown",
   "metadata": {},
   "source": [
    "**Количество комнат.**"
   ]
  },
  {
   "cell_type": "code",
   "execution_count": 37,
   "metadata": {},
   "outputs": [
    {
     "data": {
      "text/plain": [
       "count    23611.000000\n",
       "mean         2.071196\n",
       "std          1.078403\n",
       "min          0.000000\n",
       "25%          1.000000\n",
       "50%          2.000000\n",
       "75%          3.000000\n",
       "max         19.000000\n",
       "Name: rooms, dtype: float64"
      ]
     },
     "execution_count": 37,
     "metadata": {},
     "output_type": "execute_result"
    }
   ],
   "source": [
    "data['rooms'].describe()"
   ]
  },
  {
   "cell_type": "code",
   "execution_count": 38,
   "metadata": {},
   "outputs": [
    {
     "data": {
      "image/png": "[encoded data removed]",
      "text/plain": [
       "<Figure size 432x288 with 1 Axes>"
      ]
     },
     "metadata": {
      "needs_background": "light"
     },
     "output_type": "display_data"
    }
   ],
   "source": [
    "data.hist('rooms', bins=10, range=(1,9));"
   ]
  },
  {
   "cell_type": "markdown",
   "metadata": {},
   "source": [
    "Однокомнатные и двухкомнатные квартиры продают чаще всего, на две тысячи меньше объявлений трехкомнатных квартир. Квартиры с более чем 4 комнатами редкость за рассматриваемый период времени."
   ]
  },
  {
   "cell_type": "markdown",
   "metadata": {},
   "source": [
    "**Высота потолков**"
   ]
  },
  {
   "cell_type": "code",
   "execution_count": 39,
   "metadata": {},
   "outputs": [
    {
     "data": {
      "image/png": "[encoded data removed]",
      "text/plain": [
       "<Figure size 432x288 with 1 Axes>"
      ]
     },
     "metadata": {
      "needs_background": "light"
     },
     "output_type": "display_data"
    }
   ],
   "source": [
    "data.hist('ceiling_height', bins=10, range=(1,5));"
   ]
  },
  {
   "cell_type": "markdown",
   "metadata": {},
   "source": [
    "У большинства квартир высота потолка стандартна, до 3 метром. Есть выдающиеся значения более 5 метров, но встречаются они крайне редко."
   ]
  },
  {
   "cell_type": "markdown",
   "metadata": {},
   "source": [
    "**Этажность**"
   ]
  },
  {
   "cell_type": "code",
   "execution_count": 40,
   "metadata": {},
   "outputs": [
    {
     "data": {
      "image/png": "[encoded data removed]",
      "text/plain": [
       "<Figure size 432x288 with 1 Axes>"
      ]
     },
     "metadata": {
      "needs_background": "light"
     },
     "output_type": "display_data"
    },
    {
     "data": {
      "image/png": "[encoded data removed]",
      "text/plain": [
       "<Figure size 432x288 with 1 Axes>"
      ]
     },
     "metadata": {
      "needs_background": "light"
     },
     "output_type": "display_data"
    },
    {
     "data": {
      "image/png": "[encoded data removed]",
      "text/plain": [
       "<Figure size 432x288 with 1 Axes>"
      ]
     },
     "metadata": {
      "needs_background": "light"
     },
     "output_type": "display_data"
    }
   ],
   "source": [
    "data.hist('floor', bins=10, range=(1,30))\n",
    "plt.show()\n",
    "\n",
    "data.hist('floors_total', bins=10, range=(1,30))\n",
    "plt.show()\n",
    "\n",
    "data['floor_class'].hist(bins=10)\n",
    "plt.show()"
   ]
  },
  {
   "cell_type": "markdown",
   "metadata": {},
   "source": [
    "Больше всего квартир продается на нижних этажах, до пятого. Больше всего объявлений в домах невысокой постройки. На первом и последнем этажах квартир продается практически одинаковое количество."
   ]
  },
  {
   "cell_type": "markdown",
   "metadata": {},
   "source": [
    "**Расстояние до центра города**"
   ]
  },
  {
   "cell_type": "code",
   "execution_count": 41,
   "metadata": {},
   "outputs": [
    {
     "data": {
      "text/plain": [
       "count    18102.000000\n",
       "mean        14.176887\n",
       "std          8.618473\n",
       "min          0.000000\n",
       "25%          9.000000\n",
       "50%         13.000000\n",
       "75%         16.000000\n",
       "max         66.000000\n",
       "Name: city_center_km, dtype: float64"
      ]
     },
     "execution_count": 41,
     "metadata": {},
     "output_type": "execute_result"
    }
   ],
   "source": [
    "data['city_center_km'].describe()"
   ]
  },
  {
   "cell_type": "code",
   "execution_count": 42,
   "metadata": {},
   "outputs": [
    {
     "data": {
      "image/png": "[encoded data removed]",
      "text/plain": [
       "<Figure size 432x288 with 1 Axes>"
      ]
     },
     "metadata": {
      "needs_background": "light"
     },
     "output_type": "display_data"
    }
   ],
   "source": [
    "data.hist('city_center_km');"
   ]
  },
  {
   "cell_type": "markdown",
   "metadata": {},
   "source": [
    "Квартир в центре продается не так много, что логично, ведь в историческом центре практически нет жилой застройки. Большая часть обьявлений с расположением около 10 км от центра.Как раз на таком расстоянии начинаются спальные районы города."
   ]
  },
  {
   "cell_type": "markdown",
   "metadata": {},
   "source": [
    "**Расстояние до ближайшего аэропорта.**"
   ]
  },
  {
   "cell_type": "code",
   "execution_count": 43,
   "metadata": {},
   "outputs": [
    {
     "data": {
      "image/png": "[encoded data removed]",
      "text/plain": [
       "<Figure size 432x288 with 1 Axes>"
      ]
     },
     "metadata": {
      "needs_background": "light"
     },
     "output_type": "display_data"
    }
   ],
   "source": [
    "data.hist('airports_km');"
   ]
  },
  {
   "cell_type": "markdown",
   "metadata": {},
   "source": [
    "Почти 5000 объявлений квартир,удаленных от аэропорта на 20 км, так же много квартир удалены от 10 до 20 км и такая же часть от 25 до 40км. Квартиры удаленные более чем на 60км встречаются редко."
   ]
  },
  {
   "cell_type": "markdown",
   "metadata": {},
   "source": [
    "**Расстояние до ближайшего парка**"
   ]
  },
  {
   "cell_type": "code",
   "execution_count": 44,
   "metadata": {},
   "outputs": [
    {
     "data": {
      "text/plain": [
       "count    23611.000000\n",
       "mean       167.099106\n",
       "std        306.168224\n",
       "min          0.000000\n",
       "25%          0.000000\n",
       "50%          0.000000\n",
       "75%        301.000000\n",
       "max       3190.000000\n",
       "Name: parks_nearest, dtype: float64"
      ]
     },
     "execution_count": 44,
     "metadata": {},
     "output_type": "execute_result"
    }
   ],
   "source": [
    "data['parks_nearest'].describe()"
   ]
  },
  {
   "cell_type": "code",
   "execution_count": 45,
   "metadata": {},
   "outputs": [
    {
     "data": {
      "image/png": "[encoded data removed]",
      "text/plain": [
       "<Figure size 432x288 with 1 Axes>"
      ]
     },
     "metadata": {
      "needs_background": "light"
     },
     "output_type": "display_data"
    }
   ],
   "source": [
    "data.hist('parks_nearest', range=(100,3190));"
   ]
  },
  {
   "cell_type": "markdown",
   "metadata": {},
   "source": [
    "Три с половиной тысячи квартир находятся в 400-700 м удаленности от парка. Больше 3000 объявлений с объектами от 100 до 400 м до парка."
   ]
  },
  {
   "cell_type": "markdown",
   "metadata": {},
   "source": [
    "**День и месяц публикации.**"
   ]
  },
  {
   "cell_type": "code",
   "execution_count": 46,
   "metadata": {},
   "outputs": [
    {
     "data": {
      "image/png": "[encoded data removed]",
      "text/plain": [
       "<Figure size 432x288 with 1 Axes>"
      ]
     },
     "metadata": {
      "needs_background": "light"
     },
     "output_type": "display_data"
    },
    {
     "data": {
      "image/png": "[encoded data removed]",
      "text/plain": [
       "<Figure size 432x288 with 1 Axes>"
      ]
     },
     "metadata": {
      "needs_background": "light"
     },
     "output_type": "display_data"
    }
   ],
   "source": [
    "data.hist('day_week', bins=7)\n",
    "plt.show()\n",
    "data.hist('month_exposition', bins=12, range=(1,12))\n",
    "plt.show()"
   ]
  },
  {
   "cell_type": "markdown",
   "metadata": {},
   "source": [
    "Количество публикаций объявлений по выходным существенно ниже, чем в будние дни. Отслеживать появление новых публикаций можно рекомендовать по четвергам, наибольшее количество объявлений размещают именно в этот день недели.\n",
    "В январе, декабре и мае наименьшее количество публикаций, скорее всего это связанно с большим количеством праздников и выходных в эти месяца. Самые активные продажи выпадают на февраль и первую половину весны."
   ]
  },
  {
   "cell_type": "markdown",
   "metadata": {},
   "source": [
    "#### Узнаем как быстро продавались квартиры."
   ]
  },
  {
   "cell_type": "code",
   "execution_count": 47,
   "metadata": {},
   "outputs": [
    {
     "data": {
      "text/plain": [
       "count    20439.000000\n",
       "mean       180.892216\n",
       "std        219.694211\n",
       "min          1.000000\n",
       "25%         45.000000\n",
       "50%         95.000000\n",
       "75%        232.000000\n",
       "max       1580.000000\n",
       "Name: days_exposition, dtype: float64"
      ]
     },
     "execution_count": 47,
     "metadata": {},
     "output_type": "execute_result"
    }
   ],
   "source": [
    "data['days_exposition'].describe()"
   ]
  },
  {
   "cell_type": "code",
   "execution_count": 48,
   "metadata": {},
   "outputs": [
    {
     "data": {
      "image/png": "[encoded data removed]",
      "text/plain": [
       "<Figure size 432x288 with 1 Axes>"
      ]
     },
     "metadata": {
      "needs_background": "light"
     },
     "output_type": "display_data"
    }
   ],
   "source": [
    "data['days_exposition'].hist(bins=100);"
   ]
  },
  {
   "cell_type": "markdown",
   "metadata": {},
   "source": [
    "Обычная продажа квартиры занимает от 80 до 200 дней. Медиана от среднего отличается в несколько раз, в данных есть значения сильно отличающиеся от среднего.Аномально долгая продажа от 230 дней встречается редко. Возможно обьявление забыли снять вовремя с продажи. Быстрой продажей можно считать объявления закрытые в течение 45 дней. Всего 25% квартир продаются в течение полутора месяца."
   ]
  },
  {
   "cell_type": "markdown",
   "metadata": {},
   "source": [
    " #### Проанализируем какие факторы больше всего влияют на стоимость объекта."
   ]
  },
  {
   "cell_type": "markdown",
   "metadata": {},
   "source": [
    "1. Зависимость цены от  общей площади квартиры."
   ]
  },
  {
   "cell_type": "code",
   "execution_count": 49,
   "metadata": {},
   "outputs": [
    {
     "data": {
      "image/png": "[encoded data removed]",
      "text/plain": [
       "<Figure size 432x288 with 1 Axes>"
      ]
     },
     "metadata": {
      "needs_background": "light"
     },
     "output_type": "display_data"
    }
   ],
   "source": [
    "data.plot(x='last_price', y='total_area', kind='scatter', alpha=0.3); "
   ]
  },
  {
   "cell_type": "markdown",
   "metadata": {},
   "source": [
    "2. Зависимость цены от площади кухни квартиры."
   ]
  },
  {
   "cell_type": "code",
   "execution_count": 50,
   "metadata": {},
   "outputs": [
    {
     "data": {
      "image/png": "[encoded data removed]",
      "text/plain": [
       "<Figure size 432x288 with 1 Axes>"
      ]
     },
     "metadata": {
      "needs_background": "light"
     },
     "output_type": "display_data"
    }
   ],
   "source": [
    "data.plot(x='last_price', y='kitchen_area', kind='scatter', alpha=0.3);"
   ]
  },
  {
   "cell_type": "markdown",
   "metadata": {},
   "source": [
    "3. Зависимость цены от  жилой площади квартиры."
   ]
  },
  {
   "cell_type": "code",
   "execution_count": 51,
   "metadata": {},
   "outputs": [
    {
     "data": {
      "image/png": "[encoded data removed]",
      "text/plain": [
       "<Figure size 432x288 with 1 Axes>"
      ]
     },
     "metadata": {
      "needs_background": "light"
     },
     "output_type": "display_data"
    }
   ],
   "source": [
    "data.plot(x='last_price', y='living_area', kind='scatter', alpha=0.3);"
   ]
  },
  {
   "cell_type": "markdown",
   "metadata": {},
   "source": [
    "4. Зависимость цены от  количества комнат в квартире."
   ]
  },
  {
   "cell_type": "code",
   "execution_count": 52,
   "metadata": {
    "scrolled": true
   },
   "outputs": [
    {
     "data": {
      "image/png": "[encoded data removed]",
      "text/plain": [
       "<Figure size 432x288 with 1 Axes>"
      ]
     },
     "metadata": {
      "needs_background": "light"
     },
     "output_type": "display_data"
    }
   ],
   "source": [
    "data.plot(x='last_price', y='rooms', kind='scatter', alpha=0.3);"
   ]
  },
  {
   "cell_type": "markdown",
   "metadata": {},
   "source": [
    "5. Зависимость цены от  года публикации обьявления."
   ]
  },
  {
   "cell_type": "code",
   "execution_count": 53,
   "metadata": {},
   "outputs": [
    {
     "data": {
      "image/png": "[encoded data removed]",
      "text/plain": [
       "<Figure size 432x288 with 1 Axes>"
      ]
     },
     "metadata": {
      "needs_background": "light"
     },
     "output_type": "display_data"
    }
   ],
   "source": [
    "(data\n",
    "     .pivot_table(index='year_exposition',values='last_price')\n",
    "     .plot(y='last_price', kind='bar')\n",
    ");"
   ]
  },
  {
   "cell_type": "markdown",
   "metadata": {},
   "source": [
    "В 2014 году средняя стоимость квартиры превышала 12 млн. руб, что существенно выше средней стоимости в другие года. С 2015 по 2018 год прослеживается спад средней стоимости квартиры. В 2019 году стоимость квартир вернулась к показателям 2017 года."
   ]
  },
  {
   "cell_type": "markdown",
   "metadata": {},
   "source": [
    "6. Зависимость цены от дня недели публикации объявления."
   ]
  },
  {
   "cell_type": "code",
   "execution_count": 54,
   "metadata": {},
   "outputs": [
    {
     "data": {
      "image/png": "[encoded data removed]",
      "text/plain": [
       "<Figure size 432x288 with 1 Axes>"
      ]
     },
     "metadata": {
      "needs_background": "light"
     },
     "output_type": "display_data"
    }
   ],
   "source": [
    "(data\n",
    "     .pivot_table(index='day_week',values='last_price')\n",
    "     .plot(y='last_price', kind='bar', legend=False)\n",
    ");"
   ]
  },
  {
   "cell_type": "markdown",
   "metadata": {},
   "source": [
    "7. Зависимость цены от месяца публикации объявления."
   ]
  },
  {
   "cell_type": "code",
   "execution_count": 55,
   "metadata": {},
   "outputs": [
    {
     "data": {
      "image/png": "[encoded data removed]",
      "text/plain": [
       "<Figure size 432x288 with 1 Axes>"
      ]
     },
     "metadata": {
      "needs_background": "light"
     },
     "output_type": "display_data"
    }
   ],
   "source": [
    "(data\n",
    "     .pivot_table(index='month_exposition',values='last_price')\n",
    "     .plot(y='last_price', kind='bar', legend=False)\n",
    ");"
   ]
  },
  {
   "cell_type": "markdown",
   "metadata": {},
   "source": [
    "Можно сделать вывод что на цену объектов практически не влияет месяц и день недели побликации"
   ]
  },
  {
   "cell_type": "markdown",
   "metadata": {},
   "source": [
    "8. Зависимость цены от классификации этажа квартиры."
   ]
  },
  {
   "cell_type": "code",
   "execution_count": 56,
   "metadata": {},
   "outputs": [
    {
     "data": {
      "image/png": "[encoded data removed]",
      "text/plain": [
       "<Figure size 432x288 with 1 Axes>"
      ]
     },
     "metadata": {
      "needs_background": "light"
     },
     "output_type": "display_data"
    }
   ],
   "source": [
    "(data\n",
    "     .pivot_table(index='floor_class',values='last_price')\n",
    "     .plot(y='last_price', kind='bar')\n",
    ");"
   ]
  },
  {
   "cell_type": "markdown",
   "metadata": {},
   "source": [
    "Средняя цена объектов на первом этаже существенно ниже.  Самые дорогостоящие квартиры находятся на последних этажай."
   ]
  },
  {
   "cell_type": "markdown",
   "metadata": {},
   "source": [
    "Вычислим коэффициент корреляции для наших показателей."
   ]
  },
  {
   "cell_type": "code",
   "execution_count": 57,
   "metadata": {},
   "outputs": [
    {
     "data": {
      "text/html": [
       "<div>\n",
       "<style scoped>\n",
       "    .dataframe tbody tr th:only-of-type {\n",
       "        vertical-align: middle;\n",
       "    }\n",
       "\n",
       "    .dataframe tbody tr th {\n",
       "        vertical-align: top;\n",
       "    }\n",
       "\n",
       "    .dataframe thead th {\n",
       "        text-align: right;\n",
       "    }\n",
       "</style>\n",
       "<table border=\"1\" class=\"dataframe\">\n",
       "  <thead>\n",
       "    <tr style=\"text-align: right;\">\n",
       "      <th></th>\n",
       "      <th>Корреляция</th>\n",
       "    </tr>\n",
       "  </thead>\n",
       "  <tbody>\n",
       "    <tr>\n",
       "      <th>total_area</th>\n",
       "      <td>0.653579</td>\n",
       "    </tr>\n",
       "    <tr>\n",
       "      <th>kitchen_area</th>\n",
       "      <td>0.520028</td>\n",
       "    </tr>\n",
       "    <tr>\n",
       "      <th>living_area</th>\n",
       "      <td>0.566399</td>\n",
       "    </tr>\n",
       "    <tr>\n",
       "      <th>rooms</th>\n",
       "      <td>0.363122</td>\n",
       "    </tr>\n",
       "    <tr>\n",
       "      <th>year_exposition</th>\n",
       "      <td>-0.043011</td>\n",
       "    </tr>\n",
       "    <tr>\n",
       "      <th>day_week</th>\n",
       "      <td>0.001283</td>\n",
       "    </tr>\n",
       "    <tr>\n",
       "      <th>month_exposition</th>\n",
       "      <td>0.002771</td>\n",
       "    </tr>\n",
       "  </tbody>\n",
       "</table>\n",
       "</div>"
      ],
      "text/plain": [
       "                  Корреляция\n",
       "total_area          0.653579\n",
       "kitchen_area        0.520028\n",
       "living_area         0.566399\n",
       "rooms               0.363122\n",
       "year_exposition    -0.043011\n",
       "day_week            0.001283\n",
       "month_exposition    0.002771"
      ]
     },
     "execution_count": 57,
     "metadata": {},
     "output_type": "execute_result"
    }
   ],
   "source": [
    "#создадим список коэффициент корреляции к last_price которых нужно просчитать\n",
    "columns_name = ['total_area', 'kitchen_area', 'living_area', 'rooms', 'year_exposition', 'day_week', 'month_exposition']\n",
    "corr_name = [] #список для значений коэффициентов корреляции\n",
    "for index in columns_name:\n",
    "    corr = data['last_price'].corr(data[index])\n",
    "    corr_name.append(corr)\n",
    "\n",
    "cor_data = pd.DataFrame(corr_name, columns_name)#создадим Датафрейм с показателями\n",
    "cor_data.columns = ['Корреляция']\n",
    "cor_data"
   ]
  },
  {
   "cell_type": "markdown",
   "metadata": {},
   "source": [
    "Из диаграммам разброса и графикам можно сделать вывод, что зависимости между датой размещения и ценой квартиры практически нет. Эту же связь подтверждает и коэффициент корреляции этих показателей. Коэффициент корреляции в отношении цены и площади квартиры положительный, что показывает нам прямую зависимость увеличения цены при увеличении площади квартиры. Так же есть зависимость от количества комнат. Цена растет при большем количестве комнат."
   ]
  },
  {
   "cell_type": "markdown",
   "metadata": {},
   "source": [
    "#### Проанализируем цену одного квадратного метра"
   ]
  },
  {
   "cell_type": "code",
   "execution_count": 58,
   "metadata": {},
   "outputs": [
    {
     "data": {
      "text/html": [
       "<div>\n",
       "<style scoped>\n",
       "    .dataframe tbody tr th:only-of-type {\n",
       "        vertical-align: middle;\n",
       "    }\n",
       "\n",
       "    .dataframe tbody tr th {\n",
       "        vertical-align: top;\n",
       "    }\n",
       "\n",
       "    .dataframe thead th {\n",
       "        text-align: right;\n",
       "    }\n",
       "</style>\n",
       "<table border=\"1\" class=\"dataframe\">\n",
       "  <thead>\n",
       "    <tr style=\"text-align: right;\">\n",
       "      <th></th>\n",
       "      <th>Всего объявлений</th>\n",
       "      <th>Цена за метр</th>\n",
       "    </tr>\n",
       "    <tr>\n",
       "      <th>locality_name</th>\n",
       "      <th></th>\n",
       "      <th></th>\n",
       "    </tr>\n",
       "  </thead>\n",
       "  <tbody>\n",
       "    <tr>\n",
       "      <th>Санкт-Петербург</th>\n",
       "      <td>15650</td>\n",
       "      <td>114869.862571</td>\n",
       "    </tr>\n",
       "    <tr>\n",
       "      <th>Мурино</th>\n",
       "      <td>586</td>\n",
       "      <td>86041.116024</td>\n",
       "    </tr>\n",
       "    <tr>\n",
       "      <th>Кудрово</th>\n",
       "      <td>470</td>\n",
       "      <td>95260.846128</td>\n",
       "    </tr>\n",
       "    <tr>\n",
       "      <th>Шушары</th>\n",
       "      <td>439</td>\n",
       "      <td>78551.344647</td>\n",
       "    </tr>\n",
       "    <tr>\n",
       "      <th>Всеволожск</th>\n",
       "      <td>398</td>\n",
       "      <td>68654.473970</td>\n",
       "    </tr>\n",
       "    <tr>\n",
       "      <th>Пушкин</th>\n",
       "      <td>369</td>\n",
       "      <td>103125.819377</td>\n",
       "    </tr>\n",
       "    <tr>\n",
       "      <th>Колпино</th>\n",
       "      <td>338</td>\n",
       "      <td>75424.579112</td>\n",
       "    </tr>\n",
       "    <tr>\n",
       "      <th>Парголово</th>\n",
       "      <td>327</td>\n",
       "      <td>90175.913089</td>\n",
       "    </tr>\n",
       "    <tr>\n",
       "      <th>Гатчина</th>\n",
       "      <td>307</td>\n",
       "      <td>68746.146515</td>\n",
       "    </tr>\n",
       "    <tr>\n",
       "      <th>Выборг</th>\n",
       "      <td>237</td>\n",
       "      <td>58141.909325</td>\n",
       "    </tr>\n",
       "  </tbody>\n",
       "</table>\n",
       "</div>"
      ],
      "text/plain": [
       "                 Всего объявлений   Цена за метр\n",
       "locality_name                                   \n",
       "Санкт-Петербург             15650  114869.862571\n",
       "Мурино                        586   86041.116024\n",
       "Кудрово                       470   95260.846128\n",
       "Шушары                        439   78551.344647\n",
       "Всеволожск                    398   68654.473970\n",
       "Пушкин                        369  103125.819377\n",
       "Колпино                       338   75424.579112\n",
       "Парголово                     327   90175.913089\n",
       "Гатчина                       307   68746.146515\n",
       "Выборг                        237   58141.909325"
      ]
     },
     "execution_count": 58,
     "metadata": {},
     "output_type": "execute_result"
    }
   ],
   "source": [
    "# сгруппируем данные по локации и высчитаем среднюю стоимость квадратного метра \n",
    "price_m = data.pivot_table(index='locality_name', values='one_m_price', aggfunc=['count', 'mean'])\n",
    "price_m.columns = ['Всего объявлений', 'Цена за метр']\n",
    "\n",
    "price_m.sort_values('Всего объявлений', ascending=False).head(10)\n",
    "# отсортируем таблицу по кол-ву объявлений  по возрастаю  и выведем первые 10 \n"
   ]
  },
  {
   "cell_type": "markdown",
   "metadata": {},
   "source": [
    "Самый дорогой квадратный метр в базе объявлений в Санкт-Петербурге. В десятку самой дорогой недвижимости входят ближайщие окрестности Санкт-Петербурга."
   ]
  },
  {
   "cell_type": "code",
   "execution_count": 59,
   "metadata": {},
   "outputs": [
    {
     "data": {
      "text/html": [
       "<div>\n",
       "<style scoped>\n",
       "    .dataframe tbody tr th:only-of-type {\n",
       "        vertical-align: middle;\n",
       "    }\n",
       "\n",
       "    .dataframe tbody tr th {\n",
       "        vertical-align: top;\n",
       "    }\n",
       "\n",
       "    .dataframe thead th {\n",
       "        text-align: right;\n",
       "    }\n",
       "</style>\n",
       "<table border=\"1\" class=\"dataframe\">\n",
       "  <thead>\n",
       "    <tr style=\"text-align: right;\">\n",
       "      <th></th>\n",
       "      <th>Всего объявлений</th>\n",
       "      <th>Цена за метр</th>\n",
       "    </tr>\n",
       "    <tr>\n",
       "      <th>locality_name</th>\n",
       "      <th></th>\n",
       "      <th></th>\n",
       "    </tr>\n",
       "  </thead>\n",
       "  <tbody>\n",
       "    <tr>\n",
       "      <th>Реброво</th>\n",
       "      <td>1</td>\n",
       "      <td>39237.67</td>\n",
       "    </tr>\n",
       "    <tr>\n",
       "      <th>Левашово</th>\n",
       "      <td>1</td>\n",
       "      <td>96997.69</td>\n",
       "    </tr>\n",
       "    <tr>\n",
       "      <th>Рапполово</th>\n",
       "      <td>1</td>\n",
       "      <td>70000.00</td>\n",
       "    </tr>\n",
       "    <tr>\n",
       "      <th>Раздолье</th>\n",
       "      <td>1</td>\n",
       "      <td>32812.50</td>\n",
       "    </tr>\n",
       "    <tr>\n",
       "      <th>Пчевжа</th>\n",
       "      <td>1</td>\n",
       "      <td>18148.15</td>\n",
       "    </tr>\n",
       "    <tr>\n",
       "      <th>Пчева</th>\n",
       "      <td>1</td>\n",
       "      <td>26829.27</td>\n",
       "    </tr>\n",
       "    <tr>\n",
       "      <th>Большой Сабск</th>\n",
       "      <td>1</td>\n",
       "      <td>16453.38</td>\n",
       "    </tr>\n",
       "    <tr>\n",
       "      <th>Пустынка</th>\n",
       "      <td>1</td>\n",
       "      <td>27331.19</td>\n",
       "    </tr>\n",
       "    <tr>\n",
       "      <th>Почап</th>\n",
       "      <td>1</td>\n",
       "      <td>16037.74</td>\n",
       "    </tr>\n",
       "    <tr>\n",
       "      <th>Кивеннапа Север</th>\n",
       "      <td>1</td>\n",
       "      <td>36363.64</td>\n",
       "    </tr>\n",
       "  </tbody>\n",
       "</table>\n",
       "</div>"
      ],
      "text/plain": [
       "                 Всего объявлений  Цена за метр\n",
       "locality_name                                  \n",
       "Реброво                         1      39237.67\n",
       "Левашово                        1      96997.69\n",
       "Рапполово                       1      70000.00\n",
       "Раздолье                        1      32812.50\n",
       "Пчевжа                          1      18148.15\n",
       "Пчева                           1      26829.27\n",
       "Большой Сабск                   1      16453.38\n",
       "Пустынка                        1      27331.19\n",
       "Почап                           1      16037.74\n",
       "Кивеннапа Север                 1      36363.64"
      ]
     },
     "execution_count": 59,
     "metadata": {},
     "output_type": "execute_result"
    }
   ],
   "source": [
    "price_m.sort_values('Всего объявлений', ascending=False).tail(10)#выведем последние 10 значений таблицы"
   ]
  },
  {
   "cell_type": "markdown",
   "metadata": {},
   "source": [
    "В десятку наиболее доступной недвижимости входят деревни, отдаленные от областных центров."
   ]
  },
  {
   "cell_type": "markdown",
   "metadata": {},
   "source": [
    "#### Вычислим среднюю цену каждого киллометра от центра в Санкт-Петербурге"
   ]
  },
  {
   "cell_type": "code",
   "execution_count": 60,
   "metadata": {
    "scrolled": false
   },
   "outputs": [
    {
     "data": {
      "image/png": "[encoded data removed]",
      "text/plain": [
       "<Figure size 432x288 with 1 Axes>"
      ]
     },
     "metadata": {
      "needs_background": "light"
     },
     "output_type": "display_data"
    }
   ],
   "source": [
    "(data\n",
    "     .query('\"Санкт-Петербург\" in locality_name')\n",
    "     .pivot_table(index='city_center_km', values='one_m_price')\n",
    "     .sort_values('one_m_price', ascending=False)\n",
    "     .plot(y='one_m_price', kind='bar')\n",
    ");\n"
   ]
  },
  {
   "cell_type": "markdown",
   "metadata": {},
   "source": [
    "Самый дорогой квадратный метр в Санкт-Петербурге находится в радиусе 2 км от центра, на третьем месте по стоимости за квадрат квартиры в 7км от центра,на таком расстоянии находится самый дорогостоящий район Санкт-Петербурга, Крестовкий остров. Неожидано в десятку входит недвижимость на расстоянии 27км от центра, скорее всего это объявления об элитной загородной недвижимости."
   ]
  },
  {
   "cell_type": "markdown",
   "metadata": {},
   "source": [
    "### Общий вывод"
   ]
  },
  {
   "cell_type": "markdown",
   "metadata": {},
   "source": [
    "На основании исследовательского анализа данных можно сделать вывод:\n",
    "1. Почти 50% объектов недвижимости за исследуемый период имели площадь до 50 кв.м, так же преобладают однокомнатные и двухкомнатные квартиры.\n",
    "2. 25% объявлений с стоимостью за квартиру меньше 3,5 млн руб,больше 9000 объявлений квартир стоимостью около 5 млн. руб.\n",
    "3. Чаще всего объявления публикуются на буднях. Если с понедельника по пятницу за анализируемый период было размещено 3500-4000 объявлений на каждый день недели, то в выходные эта цифра меньше вдвое. Отслеживать появление новых публикаций можно рекомендовать по четвергам, почти 4500 объявлений было опубликовано в этот день недели.\n",
    "4. В январе, декабре и мае наименьшее количество публикаций, скорее всего это связанно с большим количеством праздников и выходных в эти месяца. Самые активные продажи выпадают на февраль и первую половину весны. Если в мае за весь анализируемый период было опубликовано 1250 обьявлений, то за февраль это количество вдвое больше.\n",
    "5. Больше всего квартир продается на нижних этажах, до пятого,в домах невысокой постройки. На первом и последнем этажах квартир продается практически одинаковое количество.\n",
    "6. Квартир в центре продается не так много, что логично, ведь в историческом центре практически нет жилой застройки. Большая часть обьявлений с расположением около 10 км от центра.Как раз на таком расстоянии начинаются спальные районы города.\n",
    "7. Почти 5000 объявлений квартир,удаленных от аэропорта на 20 км, так же много квартир удалены от 10 до 20 км и такая же часть от 25 до 40км. Квартиры удаленные более чем на 60км встречаются редко.\n",
    "8. Три с половиной тысячи квартир находятся в 400-700 м удаленности от парка. Больше 3000 объявлений с объектами от 100 до 400 м до парка.\n",
    "9. В среднем недвижимость продается в течение трех, четырех месяцев. Быстрой продажей можно считать покупку, совершенную в срок до 45 дней. Всего 25% квартир за анализируемый период были проданы в течение полутора месяца.\n",
    "10. Стоимость недвижимости зависит от площади объекта и этажа. Существует прямая зависимость увеличения цены при увеличении площади квартиры. Так же есть зависимость от количества комнат. Цена растет при большем количестве комнат. \n",
    "Средняя цена объектов на первом этаже на 25-35% ниже, чем на других этажай. Самые дорогостоящие квартиры находятся на последних этажай.\n",
    "11. Дата размещения объявления никак не влияет на стоимость квартиры. В 2014 году средняя стоимость квартиры превышала 12 млн. руб, что существенно выше средней стоимости в другие года. С 2015 по 2018 год прослеживается спад средней стоимости квартиры. В 2019 году стоимость квартир вернулась к показателям 2017 года.\n",
    "5. Самая высокая стоимость квадратного метра в Санкт-Петербурге и его ближайших окрестностях. В Петербурге средняя цена равно 115 000 рублей, в пригородах цена за метр достигает 103 000 руб.(г. Пушкин). \n",
    "6. Стоимость квадратного метра в Санкт-Петербурге зависит от его удаленности от центра. Самый дорогой квадратный метр в Санкт-Петербурге находится в радиусе 2 км от центра, стоимость достигоает 250 000 руб за метр, на третьем месте по стоимости за квадрат квартиры в 7км от центра,на таком расстоянии находится самый дорогостоящий район Санкт-Петербурга, Крестовкий остров. Неожидано в десятку входит недвижимость на расстоянии 27 км от центра, скорее всего это объявления об элитной загородной недвижимости. Минимальная цена состовила 80 000 рублей, удаленностью от центра в 29км."
   ]
  }
 ],
 "metadata": {
  "ExecuteTimeLog": [
   {
    "duration": 519,
    "start_time": "2022-07-02T18:14:21.574Z"
   },
   {
    "duration": 43,
    "start_time": "2022-07-02T18:14:54.877Z"
   },
   {
    "duration": 112,
    "start_time": "2022-07-02T18:15:50.574Z"
   },
   {
    "duration": 123,
    "start_time": "2022-07-02T18:16:37.898Z"
   },
   {
    "duration": 111,
    "start_time": "2022-07-02T18:17:54.858Z"
   },
   {
    "duration": 22,
    "start_time": "2022-07-02T18:18:25.920Z"
   },
   {
    "duration": 2502,
    "start_time": "2022-07-02T18:19:11.299Z"
   },
   {
    "duration": 10,
    "start_time": "2022-07-02T18:27:55.997Z"
   },
   {
    "duration": 7,
    "start_time": "2022-07-02T18:31:34.075Z"
   },
   {
    "duration": 5,
    "start_time": "2022-07-02T18:35:45.346Z"
   },
   {
    "duration": 36,
    "start_time": "2022-07-02T18:37:06.214Z"
   },
   {
    "duration": 70,
    "start_time": "2022-07-02T18:38:11.593Z"
   },
   {
    "duration": 49,
    "start_time": "2022-07-02T18:38:22.034Z"
   },
   {
    "duration": 8,
    "start_time": "2022-07-02T18:39:03.561Z"
   },
   {
    "duration": 6,
    "start_time": "2022-07-02T18:39:11.394Z"
   },
   {
    "duration": 54,
    "start_time": "2022-07-02T18:40:06.933Z"
   },
   {
    "duration": 41,
    "start_time": "2022-07-02T18:40:20.705Z"
   },
   {
    "duration": 66,
    "start_time": "2022-07-02T18:43:16.284Z"
   },
   {
    "duration": 50,
    "start_time": "2022-07-03T05:50:36.089Z"
   },
   {
    "duration": 569,
    "start_time": "2022-07-03T05:50:50.028Z"
   },
   {
    "duration": 14,
    "start_time": "2022-07-03T05:50:50.598Z"
   },
   {
    "duration": 2244,
    "start_time": "2022-07-03T05:50:50.613Z"
   },
   {
    "duration": 10,
    "start_time": "2022-07-03T05:50:52.859Z"
   },
   {
    "duration": 38,
    "start_time": "2022-07-03T05:50:52.870Z"
   },
   {
    "duration": 44,
    "start_time": "2022-07-03T05:52:21.918Z"
   },
   {
    "duration": 5,
    "start_time": "2022-07-03T05:56:01.777Z"
   },
   {
    "duration": 14,
    "start_time": "2022-07-03T05:56:27.615Z"
   },
   {
    "duration": 39,
    "start_time": "2022-07-03T06:06:14.885Z"
   },
   {
    "duration": 6,
    "start_time": "2022-07-03T06:11:25.433Z"
   },
   {
    "duration": 5,
    "start_time": "2022-07-03T06:13:12.181Z"
   },
   {
    "duration": 1297,
    "start_time": "2022-07-03T06:15:19.320Z"
   },
   {
    "duration": 4,
    "start_time": "2022-07-03T06:16:06.246Z"
   },
   {
    "duration": 10,
    "start_time": "2022-07-03T06:16:14.647Z"
   },
   {
    "duration": 19,
    "start_time": "2022-07-03T06:16:58.030Z"
   },
   {
    "duration": 55,
    "start_time": "2022-07-03T06:17:08.634Z"
   },
   {
    "duration": 14,
    "start_time": "2022-07-03T06:18:22.081Z"
   },
   {
    "duration": 8,
    "start_time": "2022-07-03T06:38:13.975Z"
   },
   {
    "duration": 12,
    "start_time": "2022-07-03T06:38:22.590Z"
   },
   {
    "duration": 20,
    "start_time": "2022-07-03T06:38:39.918Z"
   },
   {
    "duration": 5,
    "start_time": "2022-07-03T06:38:51.854Z"
   },
   {
    "duration": 6,
    "start_time": "2022-07-03T06:39:19.793Z"
   },
   {
    "duration": 11,
    "start_time": "2022-07-03T06:39:29.277Z"
   },
   {
    "duration": 15,
    "start_time": "2022-07-03T06:39:37.174Z"
   },
   {
    "duration": 108,
    "start_time": "2022-07-03T06:39:50.630Z"
   },
   {
    "duration": 109,
    "start_time": "2022-07-03T06:39:59.939Z"
   },
   {
    "duration": 17,
    "start_time": "2022-07-03T06:40:00.050Z"
   },
   {
    "duration": 2134,
    "start_time": "2022-07-03T06:40:00.070Z"
   },
   {
    "duration": 10,
    "start_time": "2022-07-03T06:40:02.206Z"
   },
   {
    "duration": 46,
    "start_time": "2022-07-03T06:40:02.227Z"
   },
   {
    "duration": 5,
    "start_time": "2022-07-03T06:40:02.275Z"
   },
   {
    "duration": 15,
    "start_time": "2022-07-03T06:40:02.282Z"
   },
   {
    "duration": 10,
    "start_time": "2022-07-03T06:40:02.299Z"
   },
   {
    "duration": 16,
    "start_time": "2022-07-03T06:40:32.689Z"
   },
   {
    "duration": 9,
    "start_time": "2022-07-03T06:40:44.086Z"
   },
   {
    "duration": 6,
    "start_time": "2022-07-03T06:43:26.111Z"
   },
   {
    "duration": 8,
    "start_time": "2022-07-03T06:45:14.777Z"
   },
   {
    "duration": 6,
    "start_time": "2022-07-03T06:46:22.389Z"
   },
   {
    "duration": 7,
    "start_time": "2022-07-03T06:46:37.985Z"
   },
   {
    "duration": 7,
    "start_time": "2022-07-03T06:46:47.922Z"
   },
   {
    "duration": 24,
    "start_time": "2022-07-03T06:47:41.878Z"
   },
   {
    "duration": 21,
    "start_time": "2022-07-03T06:48:37.170Z"
   },
   {
    "duration": 27,
    "start_time": "2022-07-03T06:48:48.295Z"
   },
   {
    "duration": 40,
    "start_time": "2022-07-03T06:49:02.177Z"
   },
   {
    "duration": 4,
    "start_time": "2022-07-03T06:59:00.451Z"
   },
   {
    "duration": 14,
    "start_time": "2022-07-03T06:59:14.129Z"
   },
   {
    "duration": 9,
    "start_time": "2022-07-03T06:59:25.873Z"
   },
   {
    "duration": 15,
    "start_time": "2022-07-03T06:59:39.215Z"
   },
   {
    "duration": 13,
    "start_time": "2022-07-03T07:00:08.474Z"
   },
   {
    "duration": 8,
    "start_time": "2022-07-03T07:10:17.573Z"
   },
   {
    "duration": 8,
    "start_time": "2022-07-03T07:10:30.407Z"
   },
   {
    "duration": 36,
    "start_time": "2022-07-03T07:10:37.806Z"
   },
   {
    "duration": 13,
    "start_time": "2022-07-03T07:11:11.138Z"
   },
   {
    "duration": 67,
    "start_time": "2022-07-03T07:15:50.300Z"
   },
   {
    "duration": 6,
    "start_time": "2022-07-03T07:20:07.899Z"
   },
   {
    "duration": 10,
    "start_time": "2022-07-03T07:32:08.699Z"
   },
   {
    "duration": 111,
    "start_time": "2022-07-03T07:36:03.223Z"
   },
   {
    "duration": 14,
    "start_time": "2022-07-03T07:36:15.171Z"
   },
   {
    "duration": 23,
    "start_time": "2022-07-03T07:36:54.023Z"
   },
   {
    "duration": 23,
    "start_time": "2022-07-03T07:37:17.919Z"
   },
   {
    "duration": 9,
    "start_time": "2022-07-03T07:37:27.119Z"
   },
   {
    "duration": 10,
    "start_time": "2022-07-03T07:41:39.336Z"
   },
   {
    "duration": 11,
    "start_time": "2022-07-03T07:41:49.120Z"
   },
   {
    "duration": 320,
    "start_time": "2022-07-03T07:49:19.489Z"
   },
   {
    "duration": 5,
    "start_time": "2022-07-03T07:50:44.153Z"
   },
   {
    "duration": 6,
    "start_time": "2022-07-03T07:50:51.302Z"
   },
   {
    "duration": 238,
    "start_time": "2022-07-03T07:51:05.374Z"
   },
   {
    "duration": 7,
    "start_time": "2022-07-03T07:51:21.416Z"
   },
   {
    "duration": 12,
    "start_time": "2022-07-03T08:00:02.873Z"
   },
   {
    "duration": 7,
    "start_time": "2022-07-03T08:04:55.107Z"
   },
   {
    "duration": 10,
    "start_time": "2022-07-03T08:07:12.830Z"
   },
   {
    "duration": 10,
    "start_time": "2022-07-03T08:07:32.440Z"
   },
   {
    "duration": 9,
    "start_time": "2022-07-03T08:09:26.089Z"
   },
   {
    "duration": 47,
    "start_time": "2022-07-03T08:09:32.209Z"
   },
   {
    "duration": 71,
    "start_time": "2022-07-03T08:11:57.089Z"
   },
   {
    "duration": 4,
    "start_time": "2022-07-03T08:13:54.493Z"
   },
   {
    "duration": 22,
    "start_time": "2022-07-03T08:14:07.277Z"
   },
   {
    "duration": 47,
    "start_time": "2022-07-03T08:14:33.031Z"
   },
   {
    "duration": 15,
    "start_time": "2022-07-03T08:18:06.981Z"
   },
   {
    "duration": 32,
    "start_time": "2022-07-03T08:20:30.473Z"
   },
   {
    "duration": 31,
    "start_time": "2022-07-03T08:21:05.935Z"
   },
   {
    "duration": 20,
    "start_time": "2022-07-03T08:21:11.124Z"
   },
   {
    "duration": 19,
    "start_time": "2022-07-03T08:21:53.313Z"
   },
   {
    "duration": 133,
    "start_time": "2022-07-03T08:24:58.813Z"
   },
   {
    "duration": 30,
    "start_time": "2022-07-03T08:25:15.780Z"
   },
   {
    "duration": 27,
    "start_time": "2022-07-03T08:25:34.081Z"
   },
   {
    "duration": 57,
    "start_time": "2022-07-03T08:25:41.807Z"
   },
   {
    "duration": 35,
    "start_time": "2022-07-03T08:25:57.330Z"
   },
   {
    "duration": 15,
    "start_time": "2022-07-03T08:26:17.485Z"
   },
   {
    "duration": 17,
    "start_time": "2022-07-03T08:28:16.405Z"
   },
   {
    "duration": 15,
    "start_time": "2022-07-03T08:28:38.615Z"
   },
   {
    "duration": 19,
    "start_time": "2022-07-03T08:29:18.831Z"
   },
   {
    "duration": 18,
    "start_time": "2022-07-03T08:29:27.289Z"
   },
   {
    "duration": 29,
    "start_time": "2022-07-03T08:30:18.217Z"
   },
   {
    "duration": 122,
    "start_time": "2022-07-03T08:30:27.297Z"
   },
   {
    "duration": 16,
    "start_time": "2022-07-03T08:44:13.702Z"
   },
   {
    "duration": 18,
    "start_time": "2022-07-03T08:51:05.201Z"
   },
   {
    "duration": 102,
    "start_time": "2022-07-03T08:51:29.586Z"
   },
   {
    "duration": 14,
    "start_time": "2022-07-03T08:51:29.690Z"
   },
   {
    "duration": 2070,
    "start_time": "2022-07-03T08:51:29.705Z"
   },
   {
    "duration": 10,
    "start_time": "2022-07-03T08:51:31.777Z"
   },
   {
    "duration": 77,
    "start_time": "2022-07-03T08:51:31.789Z"
   },
   {
    "duration": 41,
    "start_time": "2022-07-03T08:51:31.867Z"
   },
   {
    "duration": 5,
    "start_time": "2022-07-03T08:51:31.910Z"
   },
   {
    "duration": 5,
    "start_time": "2022-07-03T08:51:31.926Z"
   },
   {
    "duration": 12,
    "start_time": "2022-07-03T08:51:31.932Z"
   },
   {
    "duration": 62,
    "start_time": "2022-07-03T08:51:31.945Z"
   },
   {
    "duration": 0,
    "start_time": "2022-07-03T08:51:32.009Z"
   },
   {
    "duration": 0,
    "start_time": "2022-07-03T08:51:32.010Z"
   },
   {
    "duration": 5,
    "start_time": "2022-07-03T08:53:45.822Z"
   },
   {
    "duration": 10,
    "start_time": "2022-07-03T08:53:55.769Z"
   },
   {
    "duration": 19,
    "start_time": "2022-07-03T08:54:32.301Z"
   },
   {
    "duration": 18,
    "start_time": "2022-07-03T08:55:12.571Z"
   },
   {
    "duration": 8,
    "start_time": "2022-07-03T10:02:42.959Z"
   },
   {
    "duration": 12,
    "start_time": "2022-07-03T10:02:56.711Z"
   },
   {
    "duration": 15,
    "start_time": "2022-07-03T10:03:05.234Z"
   },
   {
    "duration": 34,
    "start_time": "2022-07-03T10:03:11.808Z"
   },
   {
    "duration": 11,
    "start_time": "2022-07-03T10:04:19.491Z"
   },
   {
    "duration": 14,
    "start_time": "2022-07-03T10:04:40.846Z"
   },
   {
    "duration": 3,
    "start_time": "2022-07-03T10:11:26.891Z"
   },
   {
    "duration": 16,
    "start_time": "2022-07-03T10:11:40.606Z"
   },
   {
    "duration": 13,
    "start_time": "2022-07-03T10:12:56.833Z"
   },
   {
    "duration": 14,
    "start_time": "2022-07-03T10:13:10.707Z"
   },
   {
    "duration": 104,
    "start_time": "2022-07-03T10:13:15.283Z"
   },
   {
    "duration": 14,
    "start_time": "2022-07-03T10:13:15.389Z"
   },
   {
    "duration": 1965,
    "start_time": "2022-07-03T10:13:15.405Z"
   },
   {
    "duration": 10,
    "start_time": "2022-07-03T10:13:17.371Z"
   },
   {
    "duration": 75,
    "start_time": "2022-07-03T10:13:17.383Z"
   },
   {
    "duration": 39,
    "start_time": "2022-07-03T10:13:17.460Z"
   },
   {
    "duration": 25,
    "start_time": "2022-07-03T10:13:17.501Z"
   },
   {
    "duration": 4,
    "start_time": "2022-07-03T10:13:17.528Z"
   },
   {
    "duration": 15,
    "start_time": "2022-07-03T10:13:17.534Z"
   },
   {
    "duration": 7,
    "start_time": "2022-07-03T10:13:17.551Z"
   },
   {
    "duration": 16,
    "start_time": "2022-07-03T10:13:17.560Z"
   },
   {
    "duration": 11,
    "start_time": "2022-07-03T10:13:17.577Z"
   },
   {
    "duration": 0,
    "start_time": "2022-07-03T10:13:17.589Z"
   },
   {
    "duration": 14,
    "start_time": "2022-07-03T10:13:30.528Z"
   },
   {
    "duration": 103,
    "start_time": "2022-07-03T10:13:35.971Z"
   },
   {
    "duration": 14,
    "start_time": "2022-07-03T10:13:36.076Z"
   },
   {
    "duration": 2005,
    "start_time": "2022-07-03T10:13:36.091Z"
   },
   {
    "duration": 9,
    "start_time": "2022-07-03T10:13:38.098Z"
   },
   {
    "duration": 86,
    "start_time": "2022-07-03T10:13:38.109Z"
   },
   {
    "duration": 48,
    "start_time": "2022-07-03T10:13:38.197Z"
   },
   {
    "duration": 5,
    "start_time": "2022-07-03T10:13:38.246Z"
   },
   {
    "duration": 8,
    "start_time": "2022-07-03T10:13:38.252Z"
   },
   {
    "duration": 16,
    "start_time": "2022-07-03T10:13:38.262Z"
   },
   {
    "duration": 9,
    "start_time": "2022-07-03T10:13:38.280Z"
   },
   {
    "duration": 20,
    "start_time": "2022-07-03T10:13:38.290Z"
   },
   {
    "duration": 24,
    "start_time": "2022-07-03T10:13:38.311Z"
   },
   {
    "duration": 4,
    "start_time": "2022-07-03T10:14:06.807Z"
   },
   {
    "duration": 13,
    "start_time": "2022-07-03T10:14:15.247Z"
   },
   {
    "duration": 3,
    "start_time": "2022-07-03T10:14:41.429Z"
   },
   {
    "duration": 14,
    "start_time": "2022-07-03T10:15:01.962Z"
   },
   {
    "duration": 99,
    "start_time": "2022-07-03T10:15:29.378Z"
   },
   {
    "duration": 14,
    "start_time": "2022-07-03T10:15:29.479Z"
   },
   {
    "duration": 1898,
    "start_time": "2022-07-03T10:15:29.494Z"
   },
   {
    "duration": 11,
    "start_time": "2022-07-03T10:15:31.394Z"
   },
   {
    "duration": 76,
    "start_time": "2022-07-03T10:15:31.407Z"
   },
   {
    "duration": 54,
    "start_time": "2022-07-03T10:15:31.486Z"
   },
   {
    "duration": 5,
    "start_time": "2022-07-03T10:15:31.541Z"
   },
   {
    "duration": 10,
    "start_time": "2022-07-03T10:15:31.547Z"
   },
   {
    "duration": 10,
    "start_time": "2022-07-03T10:15:31.559Z"
   },
   {
    "duration": 35,
    "start_time": "2022-07-03T10:15:31.572Z"
   },
   {
    "duration": 29,
    "start_time": "2022-07-03T10:15:31.609Z"
   },
   {
    "duration": 14,
    "start_time": "2022-07-03T10:16:10.590Z"
   },
   {
    "duration": 3,
    "start_time": "2022-07-03T10:17:50.974Z"
   },
   {
    "duration": 13,
    "start_time": "2022-07-03T10:17:56.794Z"
   },
   {
    "duration": 18,
    "start_time": "2022-07-03T10:18:01.307Z"
   },
   {
    "duration": 14,
    "start_time": "2022-07-03T10:19:12.678Z"
   },
   {
    "duration": 16,
    "start_time": "2022-07-03T10:19:17.135Z"
   },
   {
    "duration": 6,
    "start_time": "2022-07-03T10:19:47.027Z"
   },
   {
    "duration": 216,
    "start_time": "2022-07-03T10:19:50.562Z"
   },
   {
    "duration": 12,
    "start_time": "2022-07-03T10:35:10.572Z"
   },
   {
    "duration": 9,
    "start_time": "2022-07-03T10:36:29.926Z"
   },
   {
    "duration": 8,
    "start_time": "2022-07-03T10:37:15.828Z"
   },
   {
    "duration": 9,
    "start_time": "2022-07-03T10:39:50.100Z"
   },
   {
    "duration": 9,
    "start_time": "2022-07-03T11:12:45.138Z"
   },
   {
    "duration": 9,
    "start_time": "2022-07-03T11:13:26.878Z"
   },
   {
    "duration": 12,
    "start_time": "2022-07-03T11:14:54.890Z"
   },
   {
    "duration": 8,
    "start_time": "2022-07-03T11:20:17.596Z"
   },
   {
    "duration": 499,
    "start_time": "2022-07-03T11:23:54.693Z"
   },
   {
    "duration": 50,
    "start_time": "2022-07-03T11:25:23.791Z"
   },
   {
    "duration": 12,
    "start_time": "2022-07-03T11:26:00.538Z"
   },
   {
    "duration": 47,
    "start_time": "2022-07-03T19:03:56.036Z"
   },
   {
    "duration": 658,
    "start_time": "2022-07-03T19:04:13.306Z"
   },
   {
    "duration": 16,
    "start_time": "2022-07-03T19:04:13.967Z"
   },
   {
    "duration": 2783,
    "start_time": "2022-07-03T19:04:13.984Z"
   },
   {
    "duration": 14,
    "start_time": "2022-07-03T19:04:16.770Z"
   },
   {
    "duration": 77,
    "start_time": "2022-07-03T19:04:16.787Z"
   },
   {
    "duration": 69,
    "start_time": "2022-07-03T19:04:16.866Z"
   },
   {
    "duration": 6,
    "start_time": "2022-07-03T19:04:16.936Z"
   },
   {
    "duration": 9,
    "start_time": "2022-07-03T19:04:16.944Z"
   },
   {
    "duration": 7,
    "start_time": "2022-07-03T19:04:16.955Z"
   },
   {
    "duration": 6,
    "start_time": "2022-07-03T19:04:16.966Z"
   },
   {
    "duration": 53,
    "start_time": "2022-07-03T19:04:16.974Z"
   },
   {
    "duration": 6,
    "start_time": "2022-07-03T19:04:17.030Z"
   },
   {
    "duration": 74,
    "start_time": "2022-07-03T19:04:17.039Z"
   },
   {
    "duration": 0,
    "start_time": "2022-07-03T19:04:17.128Z"
   },
   {
    "duration": 0,
    "start_time": "2022-07-03T19:04:17.130Z"
   },
   {
    "duration": 17,
    "start_time": "2022-07-03T19:05:08.613Z"
   },
   {
    "duration": 6,
    "start_time": "2022-07-03T19:05:24.983Z"
   },
   {
    "duration": 17,
    "start_time": "2022-07-03T19:05:34.319Z"
   },
   {
    "duration": 9,
    "start_time": "2022-07-03T19:06:14.039Z"
   },
   {
    "duration": 8,
    "start_time": "2022-07-03T19:08:30.522Z"
   },
   {
    "duration": 11,
    "start_time": "2022-07-03T19:16:13.062Z"
   },
   {
    "duration": 7,
    "start_time": "2022-07-03T19:16:18.682Z"
   },
   {
    "duration": 6,
    "start_time": "2022-07-03T19:19:25.758Z"
   },
   {
    "duration": 8,
    "start_time": "2022-07-03T19:19:38.940Z"
   },
   {
    "duration": 20,
    "start_time": "2022-07-03T19:19:55.556Z"
   },
   {
    "duration": 9,
    "start_time": "2022-07-03T19:20:04.459Z"
   },
   {
    "duration": 10,
    "start_time": "2022-07-03T19:21:03.797Z"
   },
   {
    "duration": 50,
    "start_time": "2022-07-03T19:23:25.497Z"
   },
   {
    "duration": 20,
    "start_time": "2022-07-03T19:23:53.439Z"
   },
   {
    "duration": 7,
    "start_time": "2022-07-03T19:23:57.898Z"
   },
   {
    "duration": 8,
    "start_time": "2022-07-03T19:25:20.463Z"
   },
   {
    "duration": 8,
    "start_time": "2022-07-03T19:25:25.217Z"
   },
   {
    "duration": 49,
    "start_time": "2022-07-03T19:25:54.343Z"
   },
   {
    "duration": 13,
    "start_time": "2022-07-03T19:26:24.715Z"
   },
   {
    "duration": 10,
    "start_time": "2022-07-03T19:26:29.751Z"
   },
   {
    "duration": 127,
    "start_time": "2022-07-03T19:47:46.266Z"
   },
   {
    "duration": 18,
    "start_time": "2022-07-03T19:47:46.396Z"
   },
   {
    "duration": 2139,
    "start_time": "2022-07-03T19:47:46.416Z"
   },
   {
    "duration": 11,
    "start_time": "2022-07-03T19:47:48.556Z"
   },
   {
    "duration": 110,
    "start_time": "2022-07-03T19:47:48.570Z"
   },
   {
    "duration": 75,
    "start_time": "2022-07-03T19:47:48.682Z"
   },
   {
    "duration": 5,
    "start_time": "2022-07-03T19:47:48.759Z"
   },
   {
    "duration": 6,
    "start_time": "2022-07-03T19:47:48.767Z"
   },
   {
    "duration": 7,
    "start_time": "2022-07-03T19:47:48.775Z"
   },
   {
    "duration": 7,
    "start_time": "2022-07-03T19:47:48.784Z"
   },
   {
    "duration": 37,
    "start_time": "2022-07-03T19:47:48.793Z"
   },
   {
    "duration": 3,
    "start_time": "2022-07-03T19:47:48.833Z"
   },
   {
    "duration": 18,
    "start_time": "2022-07-03T19:48:29.384Z"
   },
   {
    "duration": 9,
    "start_time": "2022-07-03T19:49:52.967Z"
   },
   {
    "duration": 10,
    "start_time": "2022-07-03T19:50:05.191Z"
   },
   {
    "duration": 33,
    "start_time": "2022-07-03T19:51:51.891Z"
   },
   {
    "duration": 16,
    "start_time": "2022-07-03T19:55:24.303Z"
   },
   {
    "duration": 28,
    "start_time": "2022-07-03T19:55:58.783Z"
   },
   {
    "duration": 44,
    "start_time": "2022-07-03T19:56:16.611Z"
   },
   {
    "duration": 35,
    "start_time": "2022-07-03T19:56:25.871Z"
   },
   {
    "duration": 16,
    "start_time": "2022-07-03T19:56:42.553Z"
   },
   {
    "duration": 108,
    "start_time": "2022-07-03T19:56:49.239Z"
   },
   {
    "duration": 106,
    "start_time": "2022-07-03T19:56:57.910Z"
   },
   {
    "duration": 21,
    "start_time": "2022-07-03T19:56:58.018Z"
   },
   {
    "duration": 1970,
    "start_time": "2022-07-03T19:56:58.040Z"
   },
   {
    "duration": 23,
    "start_time": "2022-07-03T19:57:00.012Z"
   },
   {
    "duration": 101,
    "start_time": "2022-07-03T19:57:00.038Z"
   },
   {
    "duration": 83,
    "start_time": "2022-07-03T19:57:00.142Z"
   },
   {
    "duration": 5,
    "start_time": "2022-07-03T19:57:00.227Z"
   },
   {
    "duration": 33,
    "start_time": "2022-07-03T19:57:00.234Z"
   },
   {
    "duration": 27,
    "start_time": "2022-07-03T19:57:00.269Z"
   },
   {
    "duration": 33,
    "start_time": "2022-07-03T19:57:00.298Z"
   },
   {
    "duration": 39,
    "start_time": "2022-07-03T19:57:00.333Z"
   },
   {
    "duration": 52,
    "start_time": "2022-07-03T19:57:00.373Z"
   },
   {
    "duration": 10,
    "start_time": "2022-07-03T19:57:00.428Z"
   },
   {
    "duration": 108,
    "start_time": "2022-07-03T19:57:46.452Z"
   },
   {
    "duration": 14,
    "start_time": "2022-07-03T19:57:46.562Z"
   },
   {
    "duration": 1968,
    "start_time": "2022-07-03T19:57:46.577Z"
   },
   {
    "duration": 9,
    "start_time": "2022-07-03T19:57:48.546Z"
   },
   {
    "duration": 76,
    "start_time": "2022-07-03T19:57:48.558Z"
   },
   {
    "duration": 37,
    "start_time": "2022-07-03T19:57:48.636Z"
   },
   {
    "duration": 4,
    "start_time": "2022-07-03T19:57:48.675Z"
   },
   {
    "duration": 8,
    "start_time": "2022-07-03T19:57:48.681Z"
   },
   {
    "duration": 7,
    "start_time": "2022-07-03T19:57:48.691Z"
   },
   {
    "duration": 6,
    "start_time": "2022-07-03T19:57:48.727Z"
   },
   {
    "duration": 19,
    "start_time": "2022-07-03T19:57:48.736Z"
   },
   {
    "duration": 33,
    "start_time": "2022-07-03T19:57:48.758Z"
   },
   {
    "duration": 3,
    "start_time": "2022-07-03T19:57:48.793Z"
   },
   {
    "duration": 118,
    "start_time": "2022-07-03T19:58:23.812Z"
   },
   {
    "duration": 15,
    "start_time": "2022-07-03T19:58:23.932Z"
   },
   {
    "duration": 1989,
    "start_time": "2022-07-03T19:58:23.949Z"
   },
   {
    "duration": 9,
    "start_time": "2022-07-03T19:58:25.940Z"
   },
   {
    "duration": 75,
    "start_time": "2022-07-03T19:58:25.952Z"
   },
   {
    "duration": 41,
    "start_time": "2022-07-03T19:58:26.028Z"
   },
   {
    "duration": 4,
    "start_time": "2022-07-03T19:58:26.071Z"
   },
   {
    "duration": 11,
    "start_time": "2022-07-03T19:58:26.076Z"
   },
   {
    "duration": 11,
    "start_time": "2022-07-03T19:58:26.088Z"
   },
   {
    "duration": 27,
    "start_time": "2022-07-03T19:58:26.100Z"
   },
   {
    "duration": 12,
    "start_time": "2022-07-03T19:58:26.129Z"
   },
   {
    "duration": 28,
    "start_time": "2022-07-03T19:58:26.143Z"
   },
   {
    "duration": 3,
    "start_time": "2022-07-03T19:58:26.172Z"
   },
   {
    "duration": 34,
    "start_time": "2022-07-03T20:00:24.749Z"
   },
   {
    "duration": 29,
    "start_time": "2022-07-03T20:03:24.924Z"
   },
   {
    "duration": 28,
    "start_time": "2022-07-03T20:03:42.981Z"
   },
   {
    "duration": 28,
    "start_time": "2022-07-03T20:03:58.398Z"
   },
   {
    "duration": 82,
    "start_time": "2022-07-03T20:11:17.448Z"
   },
   {
    "duration": 4,
    "start_time": "2022-07-03T20:11:50.950Z"
   },
   {
    "duration": 4,
    "start_time": "2022-07-03T20:13:44.251Z"
   },
   {
    "duration": 5,
    "start_time": "2022-07-03T20:13:58.310Z"
   },
   {
    "duration": 4,
    "start_time": "2022-07-03T20:14:21.607Z"
   },
   {
    "duration": 4,
    "start_time": "2022-07-03T20:14:26.780Z"
   },
   {
    "duration": 29,
    "start_time": "2022-07-03T20:17:19.308Z"
   },
   {
    "duration": 9,
    "start_time": "2022-07-03T20:18:04.594Z"
   },
   {
    "duration": 93,
    "start_time": "2022-07-03T20:19:49.151Z"
   },
   {
    "duration": 98,
    "start_time": "2022-07-03T20:20:19.009Z"
   },
   {
    "duration": 117,
    "start_time": "2022-07-03T20:20:30.289Z"
   },
   {
    "duration": 18,
    "start_time": "2022-07-03T20:20:54.609Z"
   },
   {
    "duration": 4,
    "start_time": "2022-07-03T20:21:44.062Z"
   },
   {
    "duration": 50,
    "start_time": "2022-07-04T05:25:52.055Z"
   },
   {
    "duration": 551,
    "start_time": "2022-07-04T05:25:56.929Z"
   },
   {
    "duration": 14,
    "start_time": "2022-07-04T05:25:57.482Z"
   },
   {
    "duration": 2371,
    "start_time": "2022-07-04T05:25:57.498Z"
   },
   {
    "duration": 11,
    "start_time": "2022-07-04T05:25:59.871Z"
   },
   {
    "duration": 62,
    "start_time": "2022-07-04T05:25:59.884Z"
   },
   {
    "duration": 6,
    "start_time": "2022-07-04T05:25:59.948Z"
   },
   {
    "duration": 8,
    "start_time": "2022-07-04T05:25:59.955Z"
   },
   {
    "duration": 7,
    "start_time": "2022-07-04T05:25:59.964Z"
   },
   {
    "duration": 7,
    "start_time": "2022-07-04T05:25:59.972Z"
   },
   {
    "duration": 7,
    "start_time": "2022-07-04T05:25:59.980Z"
   },
   {
    "duration": 12,
    "start_time": "2022-07-04T05:25:59.988Z"
   },
   {
    "duration": 104,
    "start_time": "2022-07-04T05:26:00.002Z"
   },
   {
    "duration": 6,
    "start_time": "2022-07-04T05:26:00.108Z"
   },
   {
    "duration": 3,
    "start_time": "2022-07-04T05:26:00.127Z"
   },
   {
    "duration": 5,
    "start_time": "2022-07-04T05:43:21.810Z"
   },
   {
    "duration": 52,
    "start_time": "2022-07-04T05:43:33.348Z"
   },
   {
    "duration": 4,
    "start_time": "2022-07-04T05:43:52.910Z"
   },
   {
    "duration": 6,
    "start_time": "2022-07-04T05:44:35.610Z"
   },
   {
    "duration": 5,
    "start_time": "2022-07-04T05:45:17.710Z"
   },
   {
    "duration": 5,
    "start_time": "2022-07-04T05:45:45.853Z"
   },
   {
    "duration": 12,
    "start_time": "2022-07-04T05:53:22.776Z"
   },
   {
    "duration": 19,
    "start_time": "2022-07-04T05:53:49.143Z"
   },
   {
    "duration": 6,
    "start_time": "2022-07-04T05:54:16.745Z"
   },
   {
    "duration": 5,
    "start_time": "2022-07-04T05:54:48.903Z"
   },
   {
    "duration": 20,
    "start_time": "2022-07-04T05:55:54.747Z"
   },
   {
    "duration": 8,
    "start_time": "2022-07-04T05:56:11.353Z"
   },
   {
    "duration": 287,
    "start_time": "2022-07-04T05:58:01.286Z"
   },
   {
    "duration": 151,
    "start_time": "2022-07-04T05:58:22.546Z"
   },
   {
    "duration": 97,
    "start_time": "2022-07-04T05:59:01.291Z"
   },
   {
    "duration": 201,
    "start_time": "2022-07-04T05:59:08.357Z"
   },
   {
    "duration": 155,
    "start_time": "2022-07-04T05:59:16.317Z"
   },
   {
    "duration": 119,
    "start_time": "2022-07-04T05:59:24.885Z"
   },
   {
    "duration": 15,
    "start_time": "2022-07-04T05:59:25.006Z"
   },
   {
    "duration": 2111,
    "start_time": "2022-07-04T05:59:25.032Z"
   },
   {
    "duration": 10,
    "start_time": "2022-07-04T05:59:27.145Z"
   },
   {
    "duration": 79,
    "start_time": "2022-07-04T05:59:27.158Z"
   },
   {
    "duration": 5,
    "start_time": "2022-07-04T05:59:27.240Z"
   },
   {
    "duration": 11,
    "start_time": "2022-07-04T05:59:27.247Z"
   },
   {
    "duration": 9,
    "start_time": "2022-07-04T05:59:27.260Z"
   },
   {
    "duration": 9,
    "start_time": "2022-07-04T05:59:27.272Z"
   },
   {
    "duration": 13,
    "start_time": "2022-07-04T05:59:27.283Z"
   },
   {
    "duration": 21,
    "start_time": "2022-07-04T05:59:27.299Z"
   },
   {
    "duration": 111,
    "start_time": "2022-07-04T05:59:27.321Z"
   },
   {
    "duration": 156,
    "start_time": "2022-07-04T05:59:27.434Z"
   },
   {
    "duration": 33,
    "start_time": "2022-07-04T05:59:27.593Z"
   },
   {
    "duration": 3,
    "start_time": "2022-07-04T05:59:27.632Z"
   },
   {
    "duration": 169,
    "start_time": "2022-07-04T05:59:51.709Z"
   },
   {
    "duration": 127,
    "start_time": "2022-07-04T05:59:57.217Z"
   },
   {
    "duration": 16,
    "start_time": "2022-07-04T05:59:57.346Z"
   },
   {
    "duration": 2168,
    "start_time": "2022-07-04T05:59:57.364Z"
   },
   {
    "duration": 13,
    "start_time": "2022-07-04T05:59:59.535Z"
   },
   {
    "duration": 90,
    "start_time": "2022-07-04T05:59:59.550Z"
   },
   {
    "duration": 10,
    "start_time": "2022-07-04T05:59:59.643Z"
   },
   {
    "duration": 6,
    "start_time": "2022-07-04T05:59:59.655Z"
   },
   {
    "duration": 6,
    "start_time": "2022-07-04T05:59:59.663Z"
   },
   {
    "duration": 18,
    "start_time": "2022-07-04T05:59:59.671Z"
   },
   {
    "duration": 30,
    "start_time": "2022-07-04T05:59:59.691Z"
   },
   {
    "duration": 33,
    "start_time": "2022-07-04T05:59:59.722Z"
   },
   {
    "duration": 111,
    "start_time": "2022-07-04T05:59:59.757Z"
   },
   {
    "duration": 191,
    "start_time": "2022-07-04T05:59:59.870Z"
   },
   {
    "duration": 24,
    "start_time": "2022-07-04T06:00:00.064Z"
   },
   {
    "duration": 4,
    "start_time": "2022-07-04T06:00:00.090Z"
   },
   {
    "duration": 144,
    "start_time": "2022-07-04T06:00:24.119Z"
   },
   {
    "duration": 24,
    "start_time": "2022-07-04T06:00:24.268Z"
   },
   {
    "duration": 2229,
    "start_time": "2022-07-04T06:00:24.294Z"
   },
   {
    "duration": 17,
    "start_time": "2022-07-04T06:00:26.528Z"
   },
   {
    "duration": 73,
    "start_time": "2022-07-04T06:00:26.550Z"
   },
   {
    "duration": 23,
    "start_time": "2022-07-04T06:00:26.626Z"
   },
   {
    "duration": 10,
    "start_time": "2022-07-04T06:00:26.651Z"
   },
   {
    "duration": 7,
    "start_time": "2022-07-04T06:00:26.663Z"
   },
   {
    "duration": 17,
    "start_time": "2022-07-04T06:00:26.672Z"
   },
   {
    "duration": 9,
    "start_time": "2022-07-04T06:00:26.691Z"
   },
   {
    "duration": 15,
    "start_time": "2022-07-04T06:00:26.701Z"
   },
   {
    "duration": 103,
    "start_time": "2022-07-04T06:00:26.718Z"
   },
   {
    "duration": 309,
    "start_time": "2022-07-04T06:00:26.826Z"
   },
   {
    "duration": 18,
    "start_time": "2022-07-04T06:00:27.145Z"
   },
   {
    "duration": 6,
    "start_time": "2022-07-04T06:00:27.165Z"
   },
   {
    "duration": 15,
    "start_time": "2022-07-04T06:01:57.390Z"
   },
   {
    "duration": 12,
    "start_time": "2022-07-04T06:02:30.985Z"
   },
   {
    "duration": 8,
    "start_time": "2022-07-04T06:03:49.773Z"
   },
   {
    "duration": 5,
    "start_time": "2022-07-04T06:04:23.436Z"
   },
   {
    "duration": 4,
    "start_time": "2022-07-04T06:04:36.914Z"
   },
   {
    "duration": 5,
    "start_time": "2022-07-04T06:04:43.016Z"
   },
   {
    "duration": 75,
    "start_time": "2022-07-04T11:21:59.077Z"
   },
   {
    "duration": 960,
    "start_time": "2022-07-04T11:22:05.961Z"
   },
   {
    "duration": 24,
    "start_time": "2022-07-04T11:22:06.924Z"
   },
   {
    "duration": 2743,
    "start_time": "2022-07-04T11:22:06.951Z"
   },
   {
    "duration": 10,
    "start_time": "2022-07-04T11:22:09.696Z"
   },
   {
    "duration": 68,
    "start_time": "2022-07-04T11:22:09.708Z"
   },
   {
    "duration": 4,
    "start_time": "2022-07-04T11:22:09.778Z"
   },
   {
    "duration": 9,
    "start_time": "2022-07-04T11:22:09.784Z"
   },
   {
    "duration": 11,
    "start_time": "2022-07-04T11:22:09.795Z"
   },
   {
    "duration": 5,
    "start_time": "2022-07-04T11:22:09.808Z"
   },
   {
    "duration": 7,
    "start_time": "2022-07-04T11:22:09.815Z"
   },
   {
    "duration": 10,
    "start_time": "2022-07-04T11:22:09.843Z"
   },
   {
    "duration": 21,
    "start_time": "2022-07-04T11:22:09.854Z"
   },
   {
    "duration": 109,
    "start_time": "2022-07-04T11:22:09.877Z"
   },
   {
    "duration": 2,
    "start_time": "2022-07-04T11:22:09.989Z"
   },
   {
    "duration": 20,
    "start_time": "2022-07-04T11:22:09.993Z"
   },
   {
    "duration": 10,
    "start_time": "2022-07-04T11:22:10.015Z"
   },
   {
    "duration": 4,
    "start_time": "2022-07-04T11:22:10.043Z"
   },
   {
    "duration": 71,
    "start_time": "2022-07-04T11:22:59.456Z"
   },
   {
    "duration": 29,
    "start_time": "2022-07-04T11:24:10.877Z"
   },
   {
    "duration": 43,
    "start_time": "2022-07-04T11:27:04.081Z"
   },
   {
    "duration": 7,
    "start_time": "2022-07-04T11:32:35.561Z"
   },
   {
    "duration": 39,
    "start_time": "2022-07-04T11:32:57.348Z"
   },
   {
    "duration": 19,
    "start_time": "2022-07-04T11:35:35.678Z"
   },
   {
    "duration": 17,
    "start_time": "2022-07-04T11:35:56.070Z"
   },
   {
    "duration": 3,
    "start_time": "2022-07-04T11:36:16.962Z"
   },
   {
    "duration": 149,
    "start_time": "2022-07-04T11:36:22.862Z"
   },
   {
    "duration": 28,
    "start_time": "2022-07-04T11:36:23.014Z"
   },
   {
    "duration": 2247,
    "start_time": "2022-07-04T11:36:23.044Z"
   },
   {
    "duration": 10,
    "start_time": "2022-07-04T11:36:25.294Z"
   },
   {
    "duration": 86,
    "start_time": "2022-07-04T11:36:25.306Z"
   },
   {
    "duration": 5,
    "start_time": "2022-07-04T11:36:25.394Z"
   },
   {
    "duration": 8,
    "start_time": "2022-07-04T11:36:25.401Z"
   },
   {
    "duration": 6,
    "start_time": "2022-07-04T11:36:25.411Z"
   },
   {
    "duration": 24,
    "start_time": "2022-07-04T11:36:25.419Z"
   },
   {
    "duration": 12,
    "start_time": "2022-07-04T11:36:25.446Z"
   },
   {
    "duration": 16,
    "start_time": "2022-07-04T11:36:25.460Z"
   },
   {
    "duration": 20,
    "start_time": "2022-07-04T11:36:25.478Z"
   },
   {
    "duration": 150,
    "start_time": "2022-07-04T11:36:25.500Z"
   },
   {
    "duration": 3,
    "start_time": "2022-07-04T11:36:25.653Z"
   },
   {
    "duration": 23,
    "start_time": "2022-07-04T11:36:25.658Z"
   },
   {
    "duration": 2,
    "start_time": "2022-07-04T11:36:25.683Z"
   },
   {
    "duration": 11,
    "start_time": "2022-07-04T11:36:25.687Z"
   },
   {
    "duration": 28,
    "start_time": "2022-07-04T11:36:37.059Z"
   },
   {
    "duration": 39,
    "start_time": "2022-07-04T11:37:24.079Z"
   },
   {
    "duration": 32,
    "start_time": "2022-07-04T11:37:36.971Z"
   },
   {
    "duration": 6,
    "start_time": "2022-07-04T11:38:46.275Z"
   },
   {
    "duration": 6,
    "start_time": "2022-07-04T11:38:51.780Z"
   },
   {
    "duration": 9,
    "start_time": "2022-07-04T11:39:23.399Z"
   },
   {
    "duration": 77,
    "start_time": "2022-07-04T11:40:19.575Z"
   },
   {
    "duration": 17,
    "start_time": "2022-07-04T11:40:45.481Z"
   },
   {
    "duration": 5,
    "start_time": "2022-07-04T11:41:39.400Z"
   },
   {
    "duration": 6,
    "start_time": "2022-07-04T11:43:23.679Z"
   },
   {
    "duration": 45,
    "start_time": "2022-07-04T11:44:13.520Z"
   },
   {
    "duration": 5,
    "start_time": "2022-07-04T11:48:02.953Z"
   },
   {
    "duration": 33,
    "start_time": "2022-07-04T11:48:13.076Z"
   },
   {
    "duration": 20,
    "start_time": "2022-07-04T11:49:04.564Z"
   },
   {
    "duration": 42,
    "start_time": "2022-07-04T12:00:44.686Z"
   },
   {
    "duration": 9,
    "start_time": "2022-07-04T12:00:51.370Z"
   },
   {
    "duration": 14,
    "start_time": "2022-07-04T12:01:06.871Z"
   },
   {
    "duration": 12,
    "start_time": "2022-07-04T12:01:39.000Z"
   },
   {
    "duration": 10,
    "start_time": "2022-07-04T12:07:56.567Z"
   },
   {
    "duration": 44,
    "start_time": "2022-07-04T12:08:15.676Z"
   },
   {
    "duration": 50,
    "start_time": "2022-07-04T12:08:53.756Z"
   },
   {
    "duration": 46,
    "start_time": "2022-07-04T12:12:37.975Z"
   },
   {
    "duration": 30,
    "start_time": "2022-07-04T12:13:07.156Z"
   },
   {
    "duration": 121,
    "start_time": "2022-07-04T12:13:34.861Z"
   },
   {
    "duration": 18,
    "start_time": "2022-07-04T12:13:34.984Z"
   },
   {
    "duration": 2544,
    "start_time": "2022-07-04T12:13:35.004Z"
   },
   {
    "duration": 16,
    "start_time": "2022-07-04T12:13:37.550Z"
   },
   {
    "duration": 55,
    "start_time": "2022-07-04T12:13:37.569Z"
   },
   {
    "duration": 6,
    "start_time": "2022-07-04T12:13:37.642Z"
   },
   {
    "duration": 10,
    "start_time": "2022-07-04T12:13:37.650Z"
   },
   {
    "duration": 5,
    "start_time": "2022-07-04T12:13:37.663Z"
   },
   {
    "duration": 11,
    "start_time": "2022-07-04T12:13:37.670Z"
   },
   {
    "duration": 9,
    "start_time": "2022-07-04T12:13:37.683Z"
   },
   {
    "duration": 15,
    "start_time": "2022-07-04T12:13:37.695Z"
   },
   {
    "duration": 34,
    "start_time": "2022-07-04T12:13:37.712Z"
   },
   {
    "duration": 127,
    "start_time": "2022-07-04T12:13:37.748Z"
   },
   {
    "duration": 3,
    "start_time": "2022-07-04T12:13:37.879Z"
   },
   {
    "duration": 21,
    "start_time": "2022-07-04T12:13:37.883Z"
   },
   {
    "duration": 7,
    "start_time": "2022-07-04T12:13:37.906Z"
   },
   {
    "duration": 30,
    "start_time": "2022-07-04T12:13:37.915Z"
   },
   {
    "duration": 6,
    "start_time": "2022-07-04T12:13:37.947Z"
   },
   {
    "duration": 22,
    "start_time": "2022-07-04T12:13:37.954Z"
   },
   {
    "duration": 61,
    "start_time": "2022-07-04T12:13:37.979Z"
   },
   {
    "duration": 28,
    "start_time": "2022-07-04T12:15:14.204Z"
   },
   {
    "duration": 234,
    "start_time": "2022-07-04T12:20:21.681Z"
   },
   {
    "duration": 5,
    "start_time": "2022-07-04T12:20:29.871Z"
   },
   {
    "duration": 12,
    "start_time": "2022-07-04T12:20:33.093Z"
   },
   {
    "duration": 51,
    "start_time": "2022-07-04T12:22:00.477Z"
   },
   {
    "duration": 42,
    "start_time": "2022-07-04T12:22:19.304Z"
   },
   {
    "duration": 7,
    "start_time": "2022-07-04T12:25:01.272Z"
   },
   {
    "duration": 6,
    "start_time": "2022-07-04T12:25:13.660Z"
   },
   {
    "duration": 5,
    "start_time": "2022-07-04T12:26:34.970Z"
   },
   {
    "duration": 126,
    "start_time": "2022-07-04T12:57:25.475Z"
   },
   {
    "duration": 17,
    "start_time": "2022-07-04T12:57:25.604Z"
   },
   {
    "duration": 2192,
    "start_time": "2022-07-04T12:57:25.623Z"
   },
   {
    "duration": 33,
    "start_time": "2022-07-04T12:57:27.819Z"
   },
   {
    "duration": 6,
    "start_time": "2022-07-04T12:57:27.858Z"
   },
   {
    "duration": 65,
    "start_time": "2022-07-04T12:57:27.866Z"
   },
   {
    "duration": 17,
    "start_time": "2022-07-04T12:57:27.933Z"
   },
   {
    "duration": 17,
    "start_time": "2022-07-04T12:57:27.952Z"
   },
   {
    "duration": 5,
    "start_time": "2022-07-04T12:57:27.971Z"
   },
   {
    "duration": 6,
    "start_time": "2022-07-04T12:57:27.978Z"
   },
   {
    "duration": 10,
    "start_time": "2022-07-04T12:57:27.985Z"
   },
   {
    "duration": 9,
    "start_time": "2022-07-04T12:57:27.997Z"
   },
   {
    "duration": 7,
    "start_time": "2022-07-04T12:57:28.008Z"
   },
   {
    "duration": 154,
    "start_time": "2022-07-04T12:57:28.017Z"
   },
   {
    "duration": 5,
    "start_time": "2022-07-04T12:57:28.173Z"
   },
   {
    "duration": 21,
    "start_time": "2022-07-04T12:57:28.180Z"
   },
   {
    "duration": 7,
    "start_time": "2022-07-04T12:57:28.203Z"
   },
   {
    "duration": 22,
    "start_time": "2022-07-04T12:57:28.212Z"
   },
   {
    "duration": 9,
    "start_time": "2022-07-04T12:57:28.242Z"
   },
   {
    "duration": 25,
    "start_time": "2022-07-04T12:57:28.253Z"
   },
   {
    "duration": 147,
    "start_time": "2022-07-04T12:57:28.280Z"
   },
   {
    "duration": 44,
    "start_time": "2022-07-04T12:57:28.429Z"
   },
   {
    "duration": 101,
    "start_time": "2022-07-04T12:57:28.475Z"
   },
   {
    "duration": 5,
    "start_time": "2022-07-04T12:59:21.872Z"
   },
   {
    "duration": 42,
    "start_time": "2022-07-04T12:59:30.322Z"
   },
   {
    "duration": 26,
    "start_time": "2022-07-04T13:00:08.729Z"
   },
   {
    "duration": 38,
    "start_time": "2022-07-04T13:00:15.189Z"
   },
   {
    "duration": 42,
    "start_time": "2022-07-04T13:00:25.429Z"
   },
   {
    "duration": 29,
    "start_time": "2022-07-04T13:02:30.088Z"
   },
   {
    "duration": 42,
    "start_time": "2022-07-04T13:02:40.473Z"
   },
   {
    "duration": 67,
    "start_time": "2022-07-04T13:08:24.134Z"
   },
   {
    "duration": 88,
    "start_time": "2022-07-04T13:12:05.206Z"
   },
   {
    "duration": 451,
    "start_time": "2022-07-04T13:12:22.289Z"
   },
   {
    "duration": 336,
    "start_time": "2022-07-04T13:12:41.389Z"
   },
   {
    "duration": 13,
    "start_time": "2022-07-04T13:13:07.154Z"
   },
   {
    "duration": 51,
    "start_time": "2022-07-04T13:13:17.588Z"
   },
   {
    "duration": 2853,
    "start_time": "2022-07-04T13:15:34.607Z"
   },
   {
    "duration": 45,
    "start_time": "2022-07-04T13:15:45.461Z"
   },
   {
    "duration": 1512,
    "start_time": "2022-07-04T13:18:23.966Z"
   },
   {
    "duration": 1020,
    "start_time": "2022-07-04T13:19:21.466Z"
   },
   {
    "duration": 89,
    "start_time": "2022-07-04T13:23:43.225Z"
   },
   {
    "duration": 418,
    "start_time": "2022-07-04T13:23:52.246Z"
   },
   {
    "duration": 412,
    "start_time": "2022-07-04T13:24:07.206Z"
   },
   {
    "duration": 321,
    "start_time": "2022-07-04T13:24:21.065Z"
   },
   {
    "duration": 337,
    "start_time": "2022-07-04T13:24:45.358Z"
   },
   {
    "duration": 376,
    "start_time": "2022-07-04T13:24:59.348Z"
   },
   {
    "duration": 364,
    "start_time": "2022-07-04T13:25:14.005Z"
   },
   {
    "duration": 64,
    "start_time": "2022-07-04T13:26:24.777Z"
   },
   {
    "duration": 3372,
    "start_time": "2022-07-04T13:31:40.064Z"
   },
   {
    "duration": 43,
    "start_time": "2022-07-04T13:32:05.463Z"
   },
   {
    "duration": 109,
    "start_time": "2022-07-04T13:33:24.663Z"
   },
   {
    "duration": 3902,
    "start_time": "2022-07-04T13:35:46.475Z"
   },
   {
    "duration": 61,
    "start_time": "2022-07-04T13:36:04.106Z"
   },
   {
    "duration": 150,
    "start_time": "2022-07-04T13:36:12.864Z"
   },
   {
    "duration": 26,
    "start_time": "2022-07-04T13:36:13.017Z"
   },
   {
    "duration": 2518,
    "start_time": "2022-07-04T13:36:13.046Z"
   },
   {
    "duration": 12,
    "start_time": "2022-07-04T13:36:15.566Z"
   },
   {
    "duration": 8,
    "start_time": "2022-07-04T13:36:15.581Z"
   },
   {
    "duration": 74,
    "start_time": "2022-07-04T13:36:15.591Z"
   },
   {
    "duration": 5,
    "start_time": "2022-07-04T13:36:15.667Z"
   },
   {
    "duration": 12,
    "start_time": "2022-07-04T13:36:15.674Z"
   },
   {
    "duration": 6,
    "start_time": "2022-07-04T13:36:15.687Z"
   },
   {
    "duration": 12,
    "start_time": "2022-07-04T13:36:15.695Z"
   },
   {
    "duration": 8,
    "start_time": "2022-07-04T13:36:15.709Z"
   },
   {
    "duration": 35,
    "start_time": "2022-07-04T13:36:15.718Z"
   },
   {
    "duration": 16,
    "start_time": "2022-07-04T13:36:15.755Z"
   },
   {
    "duration": 107,
    "start_time": "2022-07-04T13:36:15.774Z"
   },
   {
    "duration": 3,
    "start_time": "2022-07-04T13:36:15.883Z"
   },
   {
    "duration": 23,
    "start_time": "2022-07-04T13:36:15.888Z"
   },
   {
    "duration": 8,
    "start_time": "2022-07-04T13:36:15.913Z"
   },
   {
    "duration": 33,
    "start_time": "2022-07-04T13:36:15.923Z"
   },
   {
    "duration": 13,
    "start_time": "2022-07-04T13:36:15.957Z"
   },
   {
    "duration": 12,
    "start_time": "2022-07-04T13:36:15.972Z"
   },
   {
    "duration": 11,
    "start_time": "2022-07-04T13:36:15.986Z"
   },
   {
    "duration": 70,
    "start_time": "2022-07-04T13:36:15.999Z"
   },
   {
    "duration": 3764,
    "start_time": "2022-07-04T13:36:16.071Z"
   },
   {
    "duration": 33,
    "start_time": "2022-07-04T13:36:19.841Z"
   },
   {
    "duration": 57,
    "start_time": "2022-07-04T13:36:22.023Z"
   },
   {
    "duration": 44,
    "start_time": "2022-07-04T13:36:55.846Z"
   },
   {
    "duration": 57,
    "start_time": "2022-07-04T13:37:05.043Z"
   },
   {
    "duration": 3387,
    "start_time": "2022-07-04T13:37:23.683Z"
   },
   {
    "duration": 132,
    "start_time": "2022-07-04T13:37:47.504Z"
   },
   {
    "duration": 3558,
    "start_time": "2022-07-04T13:37:57.964Z"
   },
   {
    "duration": 3573,
    "start_time": "2022-07-04T13:42:51.822Z"
   },
   {
    "duration": 40,
    "start_time": "2022-07-04T13:43:08.182Z"
   },
   {
    "duration": 4,
    "start_time": "2022-07-04T13:52:47.833Z"
   },
   {
    "duration": 423,
    "start_time": "2022-07-04T13:54:15.687Z"
   },
   {
    "duration": 69,
    "start_time": "2022-07-04T13:54:33.789Z"
   },
   {
    "duration": 21,
    "start_time": "2022-07-04T13:57:45.030Z"
   },
   {
    "duration": 9,
    "start_time": "2022-07-04T13:58:00.014Z"
   },
   {
    "duration": 127,
    "start_time": "2022-07-04T13:58:19.152Z"
   },
   {
    "duration": 18,
    "start_time": "2022-07-04T13:58:26.708Z"
   },
   {
    "duration": 16,
    "start_time": "2022-07-04T13:58:36.232Z"
   },
   {
    "duration": 53,
    "start_time": "2022-07-04T13:59:00.908Z"
   },
   {
    "duration": 6,
    "start_time": "2022-07-04T13:59:56.674Z"
   },
   {
    "duration": 20,
    "start_time": "2022-07-04T14:00:03.373Z"
   },
   {
    "duration": 139,
    "start_time": "2022-07-04T14:00:52.239Z"
   },
   {
    "duration": 15,
    "start_time": "2022-07-04T14:00:52.381Z"
   },
   {
    "duration": 2304,
    "start_time": "2022-07-04T14:00:52.397Z"
   },
   {
    "duration": 11,
    "start_time": "2022-07-04T14:00:54.702Z"
   },
   {
    "duration": 7,
    "start_time": "2022-07-04T14:00:54.715Z"
   },
   {
    "duration": 64,
    "start_time": "2022-07-04T14:00:54.724Z"
   },
   {
    "duration": 4,
    "start_time": "2022-07-04T14:00:54.790Z"
   },
   {
    "duration": 8,
    "start_time": "2022-07-04T14:00:54.796Z"
   },
   {
    "duration": 5,
    "start_time": "2022-07-04T14:00:54.806Z"
   },
   {
    "duration": 6,
    "start_time": "2022-07-04T14:00:54.813Z"
   },
   {
    "duration": 24,
    "start_time": "2022-07-04T14:00:54.821Z"
   },
   {
    "duration": 34,
    "start_time": "2022-07-04T14:00:54.848Z"
   },
   {
    "duration": 10,
    "start_time": "2022-07-04T14:00:54.884Z"
   },
   {
    "duration": 111,
    "start_time": "2022-07-04T14:00:54.898Z"
   },
   {
    "duration": 3,
    "start_time": "2022-07-04T14:00:55.011Z"
   },
   {
    "duration": 14,
    "start_time": "2022-07-04T14:00:55.016Z"
   },
   {
    "duration": 2,
    "start_time": "2022-07-04T14:00:55.032Z"
   },
   {
    "duration": 33,
    "start_time": "2022-07-04T14:00:55.043Z"
   },
   {
    "duration": 5,
    "start_time": "2022-07-04T14:00:55.078Z"
   },
   {
    "duration": 11,
    "start_time": "2022-07-04T14:00:55.084Z"
   },
   {
    "duration": 43,
    "start_time": "2022-07-04T14:00:55.097Z"
   },
   {
    "duration": 572,
    "start_time": "2022-07-04T14:00:55.153Z"
   },
   {
    "duration": 48,
    "start_time": "2022-07-04T14:00:55.726Z"
   },
   {
    "duration": 6,
    "start_time": "2022-07-04T14:00:55.776Z"
   },
   {
    "duration": 406,
    "start_time": "2022-07-04T14:01:47.571Z"
   },
   {
    "duration": 124,
    "start_time": "2022-07-04T14:02:24.162Z"
   },
   {
    "duration": 349,
    "start_time": "2022-07-04T14:02:28.288Z"
   },
   {
    "duration": 383,
    "start_time": "2022-07-04T14:02:39.153Z"
   },
   {
    "duration": 710,
    "start_time": "2022-07-04T17:56:53.481Z"
   },
   {
    "duration": 11,
    "start_time": "2022-07-04T17:56:54.193Z"
   },
   {
    "duration": 2028,
    "start_time": "2022-07-04T17:56:54.205Z"
   },
   {
    "duration": 8,
    "start_time": "2022-07-04T17:56:56.235Z"
   },
   {
    "duration": 7,
    "start_time": "2022-07-04T17:56:56.244Z"
   },
   {
    "duration": 32,
    "start_time": "2022-07-04T17:56:56.252Z"
   },
   {
    "duration": 3,
    "start_time": "2022-07-04T17:56:56.285Z"
   },
   {
    "duration": 6,
    "start_time": "2022-07-04T17:56:56.289Z"
   },
   {
    "duration": 5,
    "start_time": "2022-07-04T17:56:56.296Z"
   },
   {
    "duration": 4,
    "start_time": "2022-07-04T17:56:56.303Z"
   },
   {
    "duration": 5,
    "start_time": "2022-07-04T17:56:56.308Z"
   },
   {
    "duration": 13,
    "start_time": "2022-07-04T17:56:56.314Z"
   },
   {
    "duration": 5,
    "start_time": "2022-07-04T17:56:56.329Z"
   },
   {
    "duration": 81,
    "start_time": "2022-07-04T17:56:56.336Z"
   },
   {
    "duration": 2,
    "start_time": "2022-07-04T17:56:56.418Z"
   },
   {
    "duration": 12,
    "start_time": "2022-07-04T17:56:56.421Z"
   },
   {
    "duration": 2,
    "start_time": "2022-07-04T17:56:56.434Z"
   },
   {
    "duration": 5,
    "start_time": "2022-07-04T17:56:56.437Z"
   },
   {
    "duration": 5,
    "start_time": "2022-07-04T17:56:56.443Z"
   },
   {
    "duration": 5,
    "start_time": "2022-07-04T17:56:56.449Z"
   },
   {
    "duration": 53,
    "start_time": "2022-07-04T17:56:56.456Z"
   },
   {
    "duration": 272,
    "start_time": "2022-07-04T17:56:56.510Z"
   },
   {
    "duration": 29,
    "start_time": "2022-07-04T17:56:56.783Z"
   },
   {
    "duration": 4,
    "start_time": "2022-07-04T17:56:56.813Z"
   },
   {
    "duration": 43,
    "start_time": "2022-07-04T18:03:09.375Z"
   },
   {
    "duration": 7,
    "start_time": "2022-07-04T18:03:40.022Z"
   },
   {
    "duration": 5,
    "start_time": "2022-07-04T18:04:03.422Z"
   },
   {
    "duration": 22,
    "start_time": "2022-07-04T18:04:35.290Z"
   },
   {
    "duration": 63,
    "start_time": "2022-07-04T18:42:03.415Z"
   },
   {
    "duration": 129,
    "start_time": "2022-07-04T18:42:10.735Z"
   },
   {
    "duration": 31,
    "start_time": "2022-07-04T18:42:14.967Z"
   },
   {
    "duration": 3,
    "start_time": "2022-07-04T18:43:19.695Z"
   },
   {
    "duration": 20,
    "start_time": "2022-07-04T18:44:42.415Z"
   },
   {
    "duration": 8,
    "start_time": "2022-07-04T18:46:44.445Z"
   },
   {
    "duration": 19,
    "start_time": "2022-07-04T18:46:49.136Z"
   },
   {
    "duration": 4,
    "start_time": "2022-07-04T18:46:58.115Z"
   },
   {
    "duration": 2,
    "start_time": "2022-07-04T18:47:34.735Z"
   },
   {
    "duration": 114,
    "start_time": "2022-07-04T18:47:34.739Z"
   },
   {
    "duration": 13,
    "start_time": "2022-07-04T18:47:34.855Z"
   },
   {
    "duration": 1638,
    "start_time": "2022-07-04T18:47:34.869Z"
   },
   {
    "duration": 11,
    "start_time": "2022-07-04T18:47:36.509Z"
   },
   {
    "duration": 7,
    "start_time": "2022-07-04T18:47:36.521Z"
   },
   {
    "duration": 9,
    "start_time": "2022-07-04T18:47:36.529Z"
   },
   {
    "duration": 28,
    "start_time": "2022-07-04T18:47:36.540Z"
   },
   {
    "duration": 21,
    "start_time": "2022-07-04T18:47:36.570Z"
   },
   {
    "duration": 9,
    "start_time": "2022-07-04T18:47:36.593Z"
   },
   {
    "duration": 7,
    "start_time": "2022-07-04T18:47:36.605Z"
   },
   {
    "duration": 6,
    "start_time": "2022-07-04T18:47:36.613Z"
   },
   {
    "duration": 9,
    "start_time": "2022-07-04T18:47:36.621Z"
   },
   {
    "duration": 10,
    "start_time": "2022-07-04T18:47:36.632Z"
   },
   {
    "duration": 19,
    "start_time": "2022-07-04T18:47:36.643Z"
   },
   {
    "duration": 6,
    "start_time": "2022-07-04T18:47:36.664Z"
   },
   {
    "duration": 104,
    "start_time": "2022-07-04T18:47:36.671Z"
   },
   {
    "duration": 2,
    "start_time": "2022-07-04T18:47:36.777Z"
   },
   {
    "duration": 14,
    "start_time": "2022-07-04T18:47:36.780Z"
   },
   {
    "duration": 2,
    "start_time": "2022-07-04T18:47:36.795Z"
   },
   {
    "duration": 6,
    "start_time": "2022-07-04T18:47:36.799Z"
   },
   {
    "duration": 8,
    "start_time": "2022-07-04T18:47:36.807Z"
   },
   {
    "duration": 7,
    "start_time": "2022-07-04T18:47:36.816Z"
   },
   {
    "duration": 7,
    "start_time": "2022-07-04T18:47:36.824Z"
   },
   {
    "duration": 15,
    "start_time": "2022-07-04T18:47:36.833Z"
   },
   {
    "duration": 326,
    "start_time": "2022-07-04T18:47:36.850Z"
   },
   {
    "duration": 31,
    "start_time": "2022-07-04T18:47:37.178Z"
   },
   {
    "duration": 14,
    "start_time": "2022-07-04T18:47:37.211Z"
   },
   {
    "duration": 8,
    "start_time": "2022-07-04T18:48:51.800Z"
   },
   {
    "duration": 4,
    "start_time": "2022-07-04T19:01:33.213Z"
   },
   {
    "duration": 30,
    "start_time": "2022-07-04T19:01:58.113Z"
   },
   {
    "duration": 32,
    "start_time": "2022-07-04T19:02:13.372Z"
   },
   {
    "duration": 3,
    "start_time": "2022-07-04T19:03:05.572Z"
   },
   {
    "duration": 115,
    "start_time": "2022-07-04T19:03:05.576Z"
   },
   {
    "duration": 14,
    "start_time": "2022-07-04T19:03:05.693Z"
   },
   {
    "duration": 1742,
    "start_time": "2022-07-04T19:03:05.709Z"
   },
   {
    "duration": 9,
    "start_time": "2022-07-04T19:03:07.454Z"
   },
   {
    "duration": 4,
    "start_time": "2022-07-04T19:03:07.464Z"
   },
   {
    "duration": 22,
    "start_time": "2022-07-04T19:03:07.469Z"
   },
   {
    "duration": 7,
    "start_time": "2022-07-04T19:03:07.493Z"
   },
   {
    "duration": 3,
    "start_time": "2022-07-04T19:03:07.501Z"
   },
   {
    "duration": 6,
    "start_time": "2022-07-04T19:03:07.505Z"
   },
   {
    "duration": 4,
    "start_time": "2022-07-04T19:03:07.513Z"
   },
   {
    "duration": 5,
    "start_time": "2022-07-04T19:03:07.518Z"
   },
   {
    "duration": 4,
    "start_time": "2022-07-04T19:03:07.525Z"
   },
   {
    "duration": 9,
    "start_time": "2022-07-04T19:03:07.530Z"
   },
   {
    "duration": 54,
    "start_time": "2022-07-04T19:03:07.540Z"
   },
   {
    "duration": 75,
    "start_time": "2022-07-04T19:03:07.596Z"
   },
   {
    "duration": 2,
    "start_time": "2022-07-04T19:03:07.673Z"
   },
   {
    "duration": 22,
    "start_time": "2022-07-04T19:03:07.676Z"
   },
   {
    "duration": 2,
    "start_time": "2022-07-04T19:03:07.699Z"
   },
   {
    "duration": 6,
    "start_time": "2022-07-04T19:03:07.703Z"
   },
   {
    "duration": 4,
    "start_time": "2022-07-04T19:03:07.710Z"
   },
   {
    "duration": 7,
    "start_time": "2022-07-04T19:03:07.715Z"
   },
   {
    "duration": 6,
    "start_time": "2022-07-04T19:03:07.723Z"
   },
   {
    "duration": 14,
    "start_time": "2022-07-04T19:03:07.730Z"
   },
   {
    "duration": 272,
    "start_time": "2022-07-04T19:03:07.746Z"
   },
   {
    "duration": 20,
    "start_time": "2022-07-04T19:03:08.020Z"
   },
   {
    "duration": 5,
    "start_time": "2022-07-04T19:03:08.041Z"
   },
   {
    "duration": 103,
    "start_time": "2022-07-04T19:03:41.177Z"
   },
   {
    "duration": 30,
    "start_time": "2022-07-04T19:03:44.683Z"
   },
   {
    "duration": 106,
    "start_time": "2022-07-04T19:06:35.838Z"
   },
   {
    "duration": 154,
    "start_time": "2022-07-04T19:06:43.812Z"
   },
   {
    "duration": 6,
    "start_time": "2022-07-04T19:07:05.531Z"
   },
   {
    "duration": 5,
    "start_time": "2022-07-04T19:14:28.871Z"
   },
   {
    "duration": 8,
    "start_time": "2022-07-04T19:14:36.474Z"
   },
   {
    "duration": 2,
    "start_time": "2022-07-04T19:17:23.412Z"
   },
   {
    "duration": 100,
    "start_time": "2022-07-04T19:17:23.416Z"
   },
   {
    "duration": 11,
    "start_time": "2022-07-04T19:17:23.517Z"
   },
   {
    "duration": 1650,
    "start_time": "2022-07-04T19:17:23.530Z"
   },
   {
    "duration": 15,
    "start_time": "2022-07-04T19:17:25.182Z"
   },
   {
    "duration": 3,
    "start_time": "2022-07-04T19:17:25.198Z"
   },
   {
    "duration": 9,
    "start_time": "2022-07-04T19:17:25.203Z"
   },
   {
    "duration": 12,
    "start_time": "2022-07-04T19:17:25.213Z"
   },
   {
    "duration": 9,
    "start_time": "2022-07-04T19:17:25.226Z"
   },
   {
    "duration": 5,
    "start_time": "2022-07-04T19:17:25.236Z"
   },
   {
    "duration": 5,
    "start_time": "2022-07-04T19:17:25.243Z"
   },
   {
    "duration": 8,
    "start_time": "2022-07-04T19:17:25.250Z"
   },
   {
    "duration": 79,
    "start_time": "2022-07-04T19:17:25.259Z"
   },
   {
    "duration": 9,
    "start_time": "2022-07-04T19:17:25.340Z"
   },
   {
    "duration": 3,
    "start_time": "2022-07-04T19:17:25.350Z"
   },
   {
    "duration": 7,
    "start_time": "2022-07-04T19:17:25.354Z"
   },
   {
    "duration": 4,
    "start_time": "2022-07-04T19:17:25.362Z"
   },
   {
    "duration": 29,
    "start_time": "2022-07-04T19:17:25.368Z"
   },
   {
    "duration": 379,
    "start_time": "2022-07-04T19:17:25.398Z"
   },
   {
    "duration": 25,
    "start_time": "2022-07-04T19:17:25.780Z"
   },
   {
    "duration": 4,
    "start_time": "2022-07-04T19:17:25.807Z"
   },
   {
    "duration": 9,
    "start_time": "2022-07-04T19:17:43.280Z"
   },
   {
    "duration": 139,
    "start_time": "2022-07-04T19:23:23.323Z"
   },
   {
    "duration": 9,
    "start_time": "2022-07-04T19:26:27.000Z"
   },
   {
    "duration": 3,
    "start_time": "2022-07-04T19:40:08.063Z"
   },
   {
    "duration": 106,
    "start_time": "2022-07-04T19:40:08.067Z"
   },
   {
    "duration": 19,
    "start_time": "2022-07-04T19:40:08.175Z"
   },
   {
    "duration": 1535,
    "start_time": "2022-07-04T19:40:08.195Z"
   },
   {
    "duration": 7,
    "start_time": "2022-07-04T19:40:09.732Z"
   },
   {
    "duration": 11,
    "start_time": "2022-07-04T19:40:09.741Z"
   },
   {
    "duration": 8,
    "start_time": "2022-07-04T19:40:09.754Z"
   },
   {
    "duration": 5,
    "start_time": "2022-07-04T19:40:09.763Z"
   },
   {
    "duration": 4,
    "start_time": "2022-07-04T19:40:09.769Z"
   },
   {
    "duration": 20,
    "start_time": "2022-07-04T19:40:09.774Z"
   },
   {
    "duration": 9,
    "start_time": "2022-07-04T19:40:09.795Z"
   },
   {
    "duration": 77,
    "start_time": "2022-07-04T19:40:09.805Z"
   },
   {
    "duration": 14,
    "start_time": "2022-07-04T19:40:09.884Z"
   },
   {
    "duration": 4,
    "start_time": "2022-07-04T19:40:09.899Z"
   },
   {
    "duration": 7,
    "start_time": "2022-07-04T19:40:09.904Z"
   },
   {
    "duration": 5,
    "start_time": "2022-07-04T19:40:09.912Z"
   },
   {
    "duration": 15,
    "start_time": "2022-07-04T19:40:09.918Z"
   },
   {
    "duration": 283,
    "start_time": "2022-07-04T19:40:09.934Z"
   },
   {
    "duration": 22,
    "start_time": "2022-07-04T19:40:10.219Z"
   },
   {
    "duration": 6,
    "start_time": "2022-07-04T19:40:10.243Z"
   },
   {
    "duration": 3,
    "start_time": "2022-07-04T19:40:24.243Z"
   },
   {
    "duration": 110,
    "start_time": "2022-07-04T19:40:24.247Z"
   },
   {
    "duration": 12,
    "start_time": "2022-07-04T19:40:24.359Z"
   },
   {
    "duration": 1688,
    "start_time": "2022-07-04T19:40:24.372Z"
   },
   {
    "duration": 9,
    "start_time": "2022-07-04T19:40:26.062Z"
   },
   {
    "duration": 19,
    "start_time": "2022-07-04T19:40:26.072Z"
   },
   {
    "duration": 23,
    "start_time": "2022-07-04T19:40:26.092Z"
   },
   {
    "duration": 13,
    "start_time": "2022-07-04T19:40:26.117Z"
   },
   {
    "duration": 15,
    "start_time": "2022-07-04T19:40:26.131Z"
   },
   {
    "duration": 10,
    "start_time": "2022-07-04T19:40:26.147Z"
   },
   {
    "duration": 16,
    "start_time": "2022-07-04T19:40:26.158Z"
   },
   {
    "duration": 79,
    "start_time": "2022-07-04T19:40:26.175Z"
   },
   {
    "duration": 8,
    "start_time": "2022-07-04T19:40:26.257Z"
   },
   {
    "duration": 4,
    "start_time": "2022-07-04T19:40:26.266Z"
   },
   {
    "duration": 7,
    "start_time": "2022-07-04T19:40:26.271Z"
   },
   {
    "duration": 16,
    "start_time": "2022-07-04T19:40:26.279Z"
   },
   {
    "duration": 15,
    "start_time": "2022-07-04T19:40:26.296Z"
   },
   {
    "duration": 262,
    "start_time": "2022-07-04T19:40:26.313Z"
   },
   {
    "duration": 27,
    "start_time": "2022-07-04T19:40:26.576Z"
   },
   {
    "duration": 4,
    "start_time": "2022-07-04T19:40:26.604Z"
   },
   {
    "duration": 2,
    "start_time": "2022-07-04T20:07:53.674Z"
   },
   {
    "duration": 102,
    "start_time": "2022-07-04T20:07:53.678Z"
   },
   {
    "duration": 12,
    "start_time": "2022-07-04T20:07:53.781Z"
   },
   {
    "duration": 1681,
    "start_time": "2022-07-04T20:07:53.795Z"
   },
   {
    "duration": 15,
    "start_time": "2022-07-04T20:07:55.478Z"
   },
   {
    "duration": 4,
    "start_time": "2022-07-04T20:07:55.494Z"
   },
   {
    "duration": 5,
    "start_time": "2022-07-04T20:07:55.500Z"
   },
   {
    "duration": 11,
    "start_time": "2022-07-04T20:07:55.506Z"
   },
   {
    "duration": 5,
    "start_time": "2022-07-04T20:07:55.519Z"
   },
   {
    "duration": 5,
    "start_time": "2022-07-04T20:07:55.526Z"
   },
   {
    "duration": 8,
    "start_time": "2022-07-04T20:07:55.532Z"
   },
   {
    "duration": 97,
    "start_time": "2022-07-04T20:07:55.541Z"
   },
   {
    "duration": 10,
    "start_time": "2022-07-04T20:07:55.639Z"
   },
   {
    "duration": 4,
    "start_time": "2022-07-04T20:07:55.650Z"
   },
   {
    "duration": 7,
    "start_time": "2022-07-04T20:07:55.655Z"
   },
   {
    "duration": 5,
    "start_time": "2022-07-04T20:07:55.663Z"
   },
   {
    "duration": 34,
    "start_time": "2022-07-04T20:07:55.669Z"
   },
   {
    "duration": 254,
    "start_time": "2022-07-04T20:07:55.704Z"
   },
   {
    "duration": 20,
    "start_time": "2022-07-04T20:07:55.960Z"
   },
   {
    "duration": 11,
    "start_time": "2022-07-04T20:07:55.981Z"
   },
   {
    "duration": 789,
    "start_time": "2022-07-05T07:28:17.015Z"
   },
   {
    "duration": 153,
    "start_time": "2022-07-05T07:28:17.806Z"
   },
   {
    "duration": 15,
    "start_time": "2022-07-05T07:28:17.961Z"
   },
   {
    "duration": 1982,
    "start_time": "2022-07-05T07:28:17.978Z"
   },
   {
    "duration": 10,
    "start_time": "2022-07-05T07:28:19.963Z"
   },
   {
    "duration": 7,
    "start_time": "2022-07-05T07:28:19.974Z"
   },
   {
    "duration": 12,
    "start_time": "2022-07-05T07:28:19.983Z"
   },
   {
    "duration": 11,
    "start_time": "2022-07-05T07:28:19.997Z"
   },
   {
    "duration": 17,
    "start_time": "2022-07-05T07:28:20.009Z"
   },
   {
    "duration": 12,
    "start_time": "2022-07-05T07:28:20.027Z"
   },
   {
    "duration": 14,
    "start_time": "2022-07-05T07:28:20.040Z"
   },
   {
    "duration": 86,
    "start_time": "2022-07-05T07:28:20.056Z"
   },
   {
    "duration": 10,
    "start_time": "2022-07-05T07:28:20.144Z"
   },
   {
    "duration": 4,
    "start_time": "2022-07-05T07:28:20.157Z"
   },
   {
    "duration": 9,
    "start_time": "2022-07-05T07:28:20.162Z"
   },
   {
    "duration": 5,
    "start_time": "2022-07-05T07:28:20.172Z"
   },
   {
    "duration": 17,
    "start_time": "2022-07-05T07:28:20.179Z"
   },
   {
    "duration": 304,
    "start_time": "2022-07-05T07:28:20.198Z"
   },
   {
    "duration": 22,
    "start_time": "2022-07-05T07:28:20.504Z"
   },
   {
    "duration": 4,
    "start_time": "2022-07-05T07:28:20.528Z"
   },
   {
    "duration": 16,
    "start_time": "2022-07-05T07:36:55.837Z"
   },
   {
    "duration": 11,
    "start_time": "2022-07-05T07:37:12.274Z"
   },
   {
    "duration": 3,
    "start_time": "2022-07-05T07:37:41.496Z"
   },
   {
    "duration": 113,
    "start_time": "2022-07-05T07:37:41.501Z"
   },
   {
    "duration": 13,
    "start_time": "2022-07-05T07:37:41.616Z"
   },
   {
    "duration": 2002,
    "start_time": "2022-07-05T07:37:41.630Z"
   },
   {
    "duration": 16,
    "start_time": "2022-07-05T07:37:43.635Z"
   },
   {
    "duration": 5,
    "start_time": "2022-07-05T07:37:43.653Z"
   },
   {
    "duration": 8,
    "start_time": "2022-07-05T07:37:43.659Z"
   },
   {
    "duration": 13,
    "start_time": "2022-07-05T07:37:43.668Z"
   },
   {
    "duration": 5,
    "start_time": "2022-07-05T07:37:43.683Z"
   },
   {
    "duration": 16,
    "start_time": "2022-07-05T07:37:43.689Z"
   },
   {
    "duration": 4,
    "start_time": "2022-07-05T07:37:43.707Z"
   },
   {
    "duration": 35,
    "start_time": "2022-07-05T07:37:43.713Z"
   },
   {
    "duration": 85,
    "start_time": "2022-07-05T07:37:43.750Z"
   },
   {
    "duration": 10,
    "start_time": "2022-07-05T07:37:43.845Z"
   },
   {
    "duration": 4,
    "start_time": "2022-07-05T07:37:43.857Z"
   },
   {
    "duration": 9,
    "start_time": "2022-07-05T07:37:43.862Z"
   },
   {
    "duration": 6,
    "start_time": "2022-07-05T07:37:43.873Z"
   },
   {
    "duration": 20,
    "start_time": "2022-07-05T07:37:43.881Z"
   },
   {
    "duration": 325,
    "start_time": "2022-07-05T07:37:43.903Z"
   },
   {
    "duration": 32,
    "start_time": "2022-07-05T07:37:44.229Z"
   },
   {
    "duration": 5,
    "start_time": "2022-07-05T07:37:44.262Z"
   },
   {
    "duration": 8,
    "start_time": "2022-07-05T07:49:24.035Z"
   },
   {
    "duration": 3,
    "start_time": "2022-07-05T07:50:15.656Z"
   },
   {
    "duration": 118,
    "start_time": "2022-07-05T07:50:15.661Z"
   },
   {
    "duration": 14,
    "start_time": "2022-07-05T07:50:15.780Z"
   },
   {
    "duration": 2005,
    "start_time": "2022-07-05T07:50:15.796Z"
   },
   {
    "duration": 10,
    "start_time": "2022-07-05T07:50:17.803Z"
   },
   {
    "duration": 18,
    "start_time": "2022-07-05T07:50:17.815Z"
   },
   {
    "duration": 18,
    "start_time": "2022-07-05T07:50:17.835Z"
   },
   {
    "duration": 11,
    "start_time": "2022-07-05T07:50:17.854Z"
   },
   {
    "duration": 17,
    "start_time": "2022-07-05T07:50:17.867Z"
   },
   {
    "duration": 21,
    "start_time": "2022-07-05T07:50:17.886Z"
   },
   {
    "duration": 15,
    "start_time": "2022-07-05T07:50:17.909Z"
   },
   {
    "duration": 10,
    "start_time": "2022-07-05T07:50:17.926Z"
   },
   {
    "duration": 10,
    "start_time": "2022-07-05T07:50:17.938Z"
   },
   {
    "duration": 12,
    "start_time": "2022-07-05T07:50:17.951Z"
   },
   {
    "duration": 23,
    "start_time": "2022-07-05T07:50:17.964Z"
   },
   {
    "duration": 16,
    "start_time": "2022-07-05T07:50:17.989Z"
   },
   {
    "duration": 20,
    "start_time": "2022-07-05T07:50:18.007Z"
   },
   {
    "duration": 5,
    "start_time": "2022-07-05T07:50:18.029Z"
   },
   {
    "duration": 27,
    "start_time": "2022-07-05T07:50:18.036Z"
   },
   {
    "duration": 299,
    "start_time": "2022-07-05T07:50:18.065Z"
   },
   {
    "duration": 27,
    "start_time": "2022-07-05T07:50:18.366Z"
   },
   {
    "duration": 6,
    "start_time": "2022-07-05T07:50:18.395Z"
   },
   {
    "duration": 181,
    "start_time": "2022-07-05T07:50:59.497Z"
   },
   {
    "duration": 7,
    "start_time": "2022-07-05T07:51:03.569Z"
   },
   {
    "duration": 162,
    "start_time": "2022-07-05T07:51:34.177Z"
   },
   {
    "duration": 7,
    "start_time": "2022-07-05T07:51:37.557Z"
   },
   {
    "duration": 176,
    "start_time": "2022-07-05T07:53:03.437Z"
   },
   {
    "duration": 7,
    "start_time": "2022-07-05T07:53:09.797Z"
   },
   {
    "duration": 157,
    "start_time": "2022-07-05T07:53:26.817Z"
   },
   {
    "duration": 9,
    "start_time": "2022-07-05T07:53:33.229Z"
   },
   {
    "duration": 118,
    "start_time": "2022-07-05T07:53:48.257Z"
   },
   {
    "duration": 8,
    "start_time": "2022-07-05T07:53:52.829Z"
   },
   {
    "duration": 3,
    "start_time": "2022-07-05T07:54:13.278Z"
   },
   {
    "duration": 112,
    "start_time": "2022-07-05T07:54:13.284Z"
   },
   {
    "duration": 18,
    "start_time": "2022-07-05T07:54:13.397Z"
   },
   {
    "duration": 2067,
    "start_time": "2022-07-05T07:54:13.417Z"
   },
   {
    "duration": 11,
    "start_time": "2022-07-05T07:54:15.486Z"
   },
   {
    "duration": 5,
    "start_time": "2022-07-05T07:54:15.499Z"
   },
   {
    "duration": 12,
    "start_time": "2022-07-05T07:54:15.506Z"
   },
   {
    "duration": 33,
    "start_time": "2022-07-05T07:54:15.520Z"
   },
   {
    "duration": 5,
    "start_time": "2022-07-05T07:54:15.555Z"
   },
   {
    "duration": 17,
    "start_time": "2022-07-05T07:54:15.562Z"
   },
   {
    "duration": 5,
    "start_time": "2022-07-05T07:54:15.581Z"
   },
   {
    "duration": 21,
    "start_time": "2022-07-05T07:54:15.588Z"
   },
   {
    "duration": 18,
    "start_time": "2022-07-05T07:54:15.611Z"
   },
   {
    "duration": 74,
    "start_time": "2022-07-05T07:54:15.632Z"
   },
   {
    "duration": 10,
    "start_time": "2022-07-05T07:54:15.708Z"
   },
   {
    "duration": 4,
    "start_time": "2022-07-05T07:54:15.720Z"
   },
   {
    "duration": 19,
    "start_time": "2022-07-05T07:54:15.726Z"
   },
   {
    "duration": 10,
    "start_time": "2022-07-05T07:54:15.747Z"
   },
   {
    "duration": 18,
    "start_time": "2022-07-05T07:54:15.759Z"
   },
   {
    "duration": 304,
    "start_time": "2022-07-05T07:54:15.778Z"
   },
   {
    "duration": 25,
    "start_time": "2022-07-05T07:54:16.083Z"
   },
   {
    "duration": 4,
    "start_time": "2022-07-05T07:54:16.110Z"
   },
   {
    "duration": 7,
    "start_time": "2022-07-05T07:54:41.978Z"
   },
   {
    "duration": 116,
    "start_time": "2022-07-05T07:54:49.237Z"
   },
   {
    "duration": 9,
    "start_time": "2022-07-05T07:54:52.070Z"
   },
   {
    "duration": 161,
    "start_time": "2022-07-05T07:55:12.578Z"
   },
   {
    "duration": 8,
    "start_time": "2022-07-05T07:55:15.310Z"
   },
   {
    "duration": 174,
    "start_time": "2022-07-05T07:55:35.078Z"
   },
   {
    "duration": 7,
    "start_time": "2022-07-05T07:55:38.018Z"
   },
   {
    "duration": 2,
    "start_time": "2022-07-05T07:55:56.599Z"
   },
   {
    "duration": 115,
    "start_time": "2022-07-05T07:55:56.604Z"
   },
   {
    "duration": 16,
    "start_time": "2022-07-05T07:55:56.721Z"
   },
   {
    "duration": 2041,
    "start_time": "2022-07-05T07:55:56.745Z"
   },
   {
    "duration": 11,
    "start_time": "2022-07-05T07:55:58.789Z"
   },
   {
    "duration": 6,
    "start_time": "2022-07-05T07:55:58.801Z"
   },
   {
    "duration": 6,
    "start_time": "2022-07-05T07:55:58.809Z"
   },
   {
    "duration": 34,
    "start_time": "2022-07-05T07:55:58.817Z"
   },
   {
    "duration": 11,
    "start_time": "2022-07-05T07:55:58.853Z"
   },
   {
    "duration": 25,
    "start_time": "2022-07-05T07:55:58.865Z"
   },
   {
    "duration": 7,
    "start_time": "2022-07-05T07:55:58.893Z"
   },
   {
    "duration": 30,
    "start_time": "2022-07-05T07:55:58.903Z"
   },
   {
    "duration": 16,
    "start_time": "2022-07-05T07:55:58.936Z"
   },
   {
    "duration": 95,
    "start_time": "2022-07-05T07:55:58.956Z"
   },
   {
    "duration": 13,
    "start_time": "2022-07-05T07:55:59.053Z"
   },
   {
    "duration": 18,
    "start_time": "2022-07-05T07:55:59.068Z"
   },
   {
    "duration": 37,
    "start_time": "2022-07-05T07:55:59.088Z"
   },
   {
    "duration": 15,
    "start_time": "2022-07-05T07:55:59.127Z"
   },
   {
    "duration": 31,
    "start_time": "2022-07-05T07:55:59.145Z"
   },
   {
    "duration": 25,
    "start_time": "2022-07-05T07:55:59.177Z"
   },
   {
    "duration": 303,
    "start_time": "2022-07-05T07:55:59.204Z"
   },
   {
    "duration": 39,
    "start_time": "2022-07-05T07:55:59.509Z"
   },
   {
    "duration": 4,
    "start_time": "2022-07-05T07:55:59.550Z"
   },
   {
    "duration": 2,
    "start_time": "2022-07-05T07:56:37.771Z"
   },
   {
    "duration": 111,
    "start_time": "2022-07-05T07:56:37.778Z"
   },
   {
    "duration": 14,
    "start_time": "2022-07-05T07:56:37.891Z"
   },
   {
    "duration": 2197,
    "start_time": "2022-07-05T07:56:37.906Z"
   },
   {
    "duration": 15,
    "start_time": "2022-07-05T07:56:40.105Z"
   },
   {
    "duration": 22,
    "start_time": "2022-07-05T07:56:40.123Z"
   },
   {
    "duration": 7,
    "start_time": "2022-07-05T07:56:40.148Z"
   },
   {
    "duration": 12,
    "start_time": "2022-07-05T07:56:40.157Z"
   },
   {
    "duration": 6,
    "start_time": "2022-07-05T07:56:40.171Z"
   },
   {
    "duration": 11,
    "start_time": "2022-07-05T07:56:40.179Z"
   },
   {
    "duration": 5,
    "start_time": "2022-07-05T07:56:40.192Z"
   },
   {
    "duration": 21,
    "start_time": "2022-07-05T07:56:40.199Z"
   },
   {
    "duration": 28,
    "start_time": "2022-07-05T07:56:40.221Z"
   },
   {
    "duration": 100,
    "start_time": "2022-07-05T07:56:40.251Z"
   },
   {
    "duration": 9,
    "start_time": "2022-07-05T07:56:40.355Z"
   },
   {
    "duration": 12,
    "start_time": "2022-07-05T07:56:40.365Z"
   },
   {
    "duration": 4,
    "start_time": "2022-07-05T07:56:40.379Z"
   },
   {
    "duration": 8,
    "start_time": "2022-07-05T07:56:40.385Z"
   },
   {
    "duration": 8,
    "start_time": "2022-07-05T07:56:40.395Z"
   },
   {
    "duration": 42,
    "start_time": "2022-07-05T07:56:40.405Z"
   },
   {
    "duration": 298,
    "start_time": "2022-07-05T07:56:40.449Z"
   },
   {
    "duration": 26,
    "start_time": "2022-07-05T07:56:40.748Z"
   },
   {
    "duration": 5,
    "start_time": "2022-07-05T07:56:40.777Z"
   },
   {
    "duration": 3,
    "start_time": "2022-07-05T07:57:34.300Z"
   },
   {
    "duration": 118,
    "start_time": "2022-07-05T07:57:34.305Z"
   },
   {
    "duration": 20,
    "start_time": "2022-07-05T07:57:34.425Z"
   },
   {
    "duration": 2258,
    "start_time": "2022-07-05T07:57:34.447Z"
   },
   {
    "duration": 15,
    "start_time": "2022-07-05T07:57:36.708Z"
   },
   {
    "duration": 24,
    "start_time": "2022-07-05T07:57:36.725Z"
   },
   {
    "duration": 15,
    "start_time": "2022-07-05T07:57:36.751Z"
   },
   {
    "duration": 15,
    "start_time": "2022-07-05T07:57:36.768Z"
   },
   {
    "duration": 18,
    "start_time": "2022-07-05T07:57:36.786Z"
   },
   {
    "duration": 17,
    "start_time": "2022-07-05T07:57:36.806Z"
   },
   {
    "duration": 7,
    "start_time": "2022-07-05T07:57:36.825Z"
   },
   {
    "duration": 15,
    "start_time": "2022-07-05T07:57:36.834Z"
   },
   {
    "duration": 11,
    "start_time": "2022-07-05T07:57:36.851Z"
   },
   {
    "duration": 156,
    "start_time": "2022-07-05T07:57:36.865Z"
   },
   {
    "duration": 9,
    "start_time": "2022-07-05T07:57:37.022Z"
   },
   {
    "duration": 13,
    "start_time": "2022-07-05T07:57:37.046Z"
   },
   {
    "duration": 5,
    "start_time": "2022-07-05T07:57:37.062Z"
   },
   {
    "duration": 11,
    "start_time": "2022-07-05T07:57:37.068Z"
   },
   {
    "duration": 7,
    "start_time": "2022-07-05T07:57:37.081Z"
   },
   {
    "duration": 21,
    "start_time": "2022-07-05T07:57:37.089Z"
   },
   {
    "duration": 339,
    "start_time": "2022-07-05T07:57:37.113Z"
   },
   {
    "duration": 30,
    "start_time": "2022-07-05T07:57:37.454Z"
   },
   {
    "duration": 7,
    "start_time": "2022-07-05T07:57:37.487Z"
   },
   {
    "duration": 3,
    "start_time": "2022-07-05T07:58:18.100Z"
   },
   {
    "duration": 115,
    "start_time": "2022-07-05T07:58:18.105Z"
   },
   {
    "duration": 28,
    "start_time": "2022-07-05T07:58:18.221Z"
   },
   {
    "duration": 2033,
    "start_time": "2022-07-05T07:58:18.251Z"
   },
   {
    "duration": 11,
    "start_time": "2022-07-05T07:58:20.287Z"
   },
   {
    "duration": 5,
    "start_time": "2022-07-05T07:58:20.300Z"
   },
   {
    "duration": 10,
    "start_time": "2022-07-05T07:58:20.306Z"
   },
   {
    "duration": 32,
    "start_time": "2022-07-05T07:58:20.317Z"
   },
   {
    "duration": 7,
    "start_time": "2022-07-05T07:58:20.352Z"
   },
   {
    "duration": 14,
    "start_time": "2022-07-05T07:58:20.360Z"
   },
   {
    "duration": 4,
    "start_time": "2022-07-05T07:58:20.376Z"
   },
   {
    "duration": 13,
    "start_time": "2022-07-05T07:58:20.382Z"
   },
   {
    "duration": 11,
    "start_time": "2022-07-05T07:58:20.397Z"
   },
   {
    "duration": 106,
    "start_time": "2022-07-05T07:58:20.412Z"
   },
   {
    "duration": 9,
    "start_time": "2022-07-05T07:58:20.520Z"
   },
   {
    "duration": 24,
    "start_time": "2022-07-05T07:58:20.531Z"
   },
   {
    "duration": 5,
    "start_time": "2022-07-05T07:58:20.557Z"
   },
   {
    "duration": 9,
    "start_time": "2022-07-05T07:58:20.563Z"
   },
   {
    "duration": 13,
    "start_time": "2022-07-05T07:58:20.573Z"
   },
   {
    "duration": 26,
    "start_time": "2022-07-05T07:58:20.587Z"
   },
   {
    "duration": 541,
    "start_time": "2022-07-05T07:58:20.615Z"
   },
   {
    "duration": 26,
    "start_time": "2022-07-05T07:58:21.158Z"
   },
   {
    "duration": 5,
    "start_time": "2022-07-05T07:58:21.186Z"
   },
   {
    "duration": 21,
    "start_time": "2022-07-05T07:59:52.079Z"
   },
   {
    "duration": 47,
    "start_time": "2022-07-05T08:00:03.579Z"
   },
   {
    "duration": 77,
    "start_time": "2022-07-05T08:00:37.704Z"
   },
   {
    "duration": 587,
    "start_time": "2022-07-05T08:01:05.257Z"
   },
   {
    "duration": 8,
    "start_time": "2022-07-05T08:01:46.208Z"
   },
   {
    "duration": 8,
    "start_time": "2022-07-05T08:02:08.128Z"
   },
   {
    "duration": 8,
    "start_time": "2022-07-05T08:04:02.403Z"
   },
   {
    "duration": 14,
    "start_time": "2022-07-05T08:04:12.244Z"
   },
   {
    "duration": 4,
    "start_time": "2022-07-05T08:04:17.024Z"
   },
   {
    "duration": 6,
    "start_time": "2022-07-05T08:04:22.975Z"
   },
   {
    "duration": 4,
    "start_time": "2022-07-05T08:04:30.823Z"
   },
   {
    "duration": 4,
    "start_time": "2022-07-05T08:04:41.383Z"
   },
   {
    "duration": 3,
    "start_time": "2022-07-05T08:05:01.164Z"
   },
   {
    "duration": 14,
    "start_time": "2022-07-05T08:05:10.643Z"
   },
   {
    "duration": 3,
    "start_time": "2022-07-05T08:05:41.702Z"
   },
   {
    "duration": 15,
    "start_time": "2022-07-05T08:05:48.044Z"
   },
   {
    "duration": 3,
    "start_time": "2022-07-05T08:06:30.694Z"
   },
   {
    "duration": 122,
    "start_time": "2022-07-05T08:06:30.699Z"
   },
   {
    "duration": 14,
    "start_time": "2022-07-05T08:06:30.823Z"
   },
   {
    "duration": 1927,
    "start_time": "2022-07-05T08:06:30.851Z"
   },
   {
    "duration": 9,
    "start_time": "2022-07-05T08:06:32.781Z"
   },
   {
    "duration": 6,
    "start_time": "2022-07-05T08:06:32.792Z"
   },
   {
    "duration": 6,
    "start_time": "2022-07-05T08:06:32.799Z"
   },
   {
    "duration": 7,
    "start_time": "2022-07-05T08:06:32.806Z"
   },
   {
    "duration": 5,
    "start_time": "2022-07-05T08:06:32.815Z"
   },
   {
    "duration": 16,
    "start_time": "2022-07-05T08:06:32.846Z"
   },
   {
    "duration": 8,
    "start_time": "2022-07-05T08:06:32.864Z"
   },
   {
    "duration": 15,
    "start_time": "2022-07-05T08:06:32.874Z"
   },
   {
    "duration": 12,
    "start_time": "2022-07-05T08:06:32.891Z"
   },
   {
    "duration": 122,
    "start_time": "2022-07-05T08:06:32.906Z"
   },
   {
    "duration": 8,
    "start_time": "2022-07-05T08:06:33.030Z"
   },
   {
    "duration": 8,
    "start_time": "2022-07-05T08:06:33.045Z"
   },
   {
    "duration": 19,
    "start_time": "2022-07-05T08:06:33.055Z"
   },
   {
    "duration": 4,
    "start_time": "2022-07-05T08:06:33.076Z"
   },
   {
    "duration": 9,
    "start_time": "2022-07-05T08:06:33.082Z"
   },
   {
    "duration": 5,
    "start_time": "2022-07-05T08:06:33.092Z"
   },
   {
    "duration": 18,
    "start_time": "2022-07-05T08:06:33.099Z"
   },
   {
    "duration": 324,
    "start_time": "2022-07-05T08:06:33.119Z"
   },
   {
    "duration": 36,
    "start_time": "2022-07-05T08:06:33.446Z"
   },
   {
    "duration": 5,
    "start_time": "2022-07-05T08:06:33.484Z"
   },
   {
    "duration": 13,
    "start_time": "2022-07-05T08:07:11.203Z"
   },
   {
    "duration": 4,
    "start_time": "2022-07-05T08:07:49.883Z"
   },
   {
    "duration": 845,
    "start_time": "2022-07-05T08:10:13.358Z"
   },
   {
    "duration": 27,
    "start_time": "2022-07-05T08:10:54.785Z"
   },
   {
    "duration": 10,
    "start_time": "2022-07-05T08:11:09.105Z"
   },
   {
    "duration": 26,
    "start_time": "2022-07-05T08:11:23.604Z"
   },
   {
    "duration": 3,
    "start_time": "2022-07-05T08:13:30.726Z"
   },
   {
    "duration": 132,
    "start_time": "2022-07-05T08:13:30.731Z"
   },
   {
    "duration": 15,
    "start_time": "2022-07-05T08:13:30.864Z"
   },
   {
    "duration": 2282,
    "start_time": "2022-07-05T08:13:30.881Z"
   },
   {
    "duration": 10,
    "start_time": "2022-07-05T08:13:33.165Z"
   },
   {
    "duration": 9,
    "start_time": "2022-07-05T08:13:33.176Z"
   },
   {
    "duration": 11,
    "start_time": "2022-07-05T08:13:33.186Z"
   },
   {
    "duration": 8,
    "start_time": "2022-07-05T08:13:33.198Z"
   },
   {
    "duration": 5,
    "start_time": "2022-07-05T08:13:33.208Z"
   },
   {
    "duration": 44,
    "start_time": "2022-07-05T08:13:33.215Z"
   },
   {
    "duration": 5,
    "start_time": "2022-07-05T08:13:33.260Z"
   },
   {
    "duration": 10,
    "start_time": "2022-07-05T08:13:33.267Z"
   },
   {
    "duration": 12,
    "start_time": "2022-07-05T08:13:33.279Z"
   },
   {
    "duration": 158,
    "start_time": "2022-07-05T08:13:33.293Z"
   },
   {
    "duration": 9,
    "start_time": "2022-07-05T08:13:33.459Z"
   },
   {
    "duration": 15,
    "start_time": "2022-07-05T08:13:33.470Z"
   },
   {
    "duration": 12,
    "start_time": "2022-07-05T08:13:33.488Z"
   },
   {
    "duration": 4,
    "start_time": "2022-07-05T08:13:33.501Z"
   },
   {
    "duration": 9,
    "start_time": "2022-07-05T08:13:33.507Z"
   },
   {
    "duration": 33,
    "start_time": "2022-07-05T08:13:33.518Z"
   },
   {
    "duration": 18,
    "start_time": "2022-07-05T08:13:33.557Z"
   },
   {
    "duration": 300,
    "start_time": "2022-07-05T08:13:33.577Z"
   },
   {
    "duration": 27,
    "start_time": "2022-07-05T08:13:33.879Z"
   },
   {
    "duration": 7,
    "start_time": "2022-07-05T08:13:33.908Z"
   },
   {
    "duration": 9,
    "start_time": "2022-07-05T08:16:03.446Z"
   },
   {
    "duration": 119,
    "start_time": "2022-07-05T08:16:03.457Z"
   },
   {
    "duration": 14,
    "start_time": "2022-07-05T08:16:03.578Z"
   },
   {
    "duration": 1938,
    "start_time": "2022-07-05T08:16:03.594Z"
   },
   {
    "duration": 23,
    "start_time": "2022-07-05T08:16:05.534Z"
   },
   {
    "duration": 11,
    "start_time": "2022-07-05T08:16:05.558Z"
   },
   {
    "duration": 8,
    "start_time": "2022-07-05T08:16:05.571Z"
   },
   {
    "duration": 9,
    "start_time": "2022-07-05T08:16:05.580Z"
   },
   {
    "duration": 7,
    "start_time": "2022-07-05T08:16:05.591Z"
   },
   {
    "duration": 13,
    "start_time": "2022-07-05T08:16:05.600Z"
   },
   {
    "duration": 5,
    "start_time": "2022-07-05T08:16:05.614Z"
   },
   {
    "duration": 10,
    "start_time": "2022-07-05T08:16:05.620Z"
   },
   {
    "duration": 14,
    "start_time": "2022-07-05T08:16:05.645Z"
   },
   {
    "duration": 46,
    "start_time": "2022-07-05T08:16:05.662Z"
   },
   {
    "duration": 0,
    "start_time": "2022-07-05T08:16:05.710Z"
   },
   {
    "duration": 0,
    "start_time": "2022-07-05T08:16:05.711Z"
   },
   {
    "duration": 0,
    "start_time": "2022-07-05T08:16:05.712Z"
   },
   {
    "duration": 0,
    "start_time": "2022-07-05T08:16:05.713Z"
   },
   {
    "duration": 0,
    "start_time": "2022-07-05T08:16:05.714Z"
   },
   {
    "duration": 0,
    "start_time": "2022-07-05T08:16:05.715Z"
   },
   {
    "duration": 0,
    "start_time": "2022-07-05T08:16:05.716Z"
   },
   {
    "duration": 0,
    "start_time": "2022-07-05T08:16:05.718Z"
   },
   {
    "duration": 0,
    "start_time": "2022-07-05T08:16:05.719Z"
   },
   {
    "duration": 0,
    "start_time": "2022-07-05T08:16:05.720Z"
   },
   {
    "duration": 40,
    "start_time": "2022-07-05T08:16:54.905Z"
   },
   {
    "duration": 3,
    "start_time": "2022-07-05T08:17:50.785Z"
   },
   {
    "duration": 120,
    "start_time": "2022-07-05T08:17:50.789Z"
   },
   {
    "duration": 14,
    "start_time": "2022-07-05T08:17:50.911Z"
   },
   {
    "duration": 1988,
    "start_time": "2022-07-05T08:17:50.927Z"
   },
   {
    "duration": 10,
    "start_time": "2022-07-05T08:17:52.917Z"
   },
   {
    "duration": 17,
    "start_time": "2022-07-05T08:17:52.928Z"
   },
   {
    "duration": 12,
    "start_time": "2022-07-05T08:17:52.947Z"
   },
   {
    "duration": 12,
    "start_time": "2022-07-05T08:17:52.961Z"
   },
   {
    "duration": 7,
    "start_time": "2022-07-05T08:17:52.974Z"
   },
   {
    "duration": 14,
    "start_time": "2022-07-05T08:17:52.982Z"
   },
   {
    "duration": 4,
    "start_time": "2022-07-05T08:17:52.997Z"
   },
   {
    "duration": 10,
    "start_time": "2022-07-05T08:17:53.003Z"
   },
   {
    "duration": 8,
    "start_time": "2022-07-05T08:17:53.015Z"
   },
   {
    "duration": 165,
    "start_time": "2022-07-05T08:17:53.026Z"
   },
   {
    "duration": 7,
    "start_time": "2022-07-05T08:17:53.193Z"
   },
   {
    "duration": 17,
    "start_time": "2022-07-05T08:17:53.201Z"
   },
   {
    "duration": 38,
    "start_time": "2022-07-05T08:17:53.219Z"
   },
   {
    "duration": 5,
    "start_time": "2022-07-05T08:17:53.264Z"
   },
   {
    "duration": 8,
    "start_time": "2022-07-05T08:17:53.271Z"
   },
   {
    "duration": 6,
    "start_time": "2022-07-05T08:17:53.281Z"
   },
   {
    "duration": 19,
    "start_time": "2022-07-05T08:17:53.289Z"
   },
   {
    "duration": 705,
    "start_time": "2022-07-05T08:17:53.310Z"
   },
   {
    "duration": 41,
    "start_time": "2022-07-05T08:17:54.017Z"
   },
   {
    "duration": 5,
    "start_time": "2022-07-05T08:17:54.064Z"
   },
   {
    "duration": 4,
    "start_time": "2022-07-05T08:18:31.566Z"
   },
   {
    "duration": 53,
    "start_time": "2022-07-05T08:19:58.646Z"
   },
   {
    "duration": 131,
    "start_time": "2022-07-05T08:20:02.539Z"
   },
   {
    "duration": 51,
    "start_time": "2022-07-05T08:21:05.147Z"
   },
   {
    "duration": 176,
    "start_time": "2022-07-05T08:21:10.494Z"
   },
   {
    "duration": 19,
    "start_time": "2022-07-05T08:21:43.536Z"
   },
   {
    "duration": 26,
    "start_time": "2022-07-05T08:22:18.529Z"
   },
   {
    "duration": 28,
    "start_time": "2022-07-05T08:22:31.888Z"
   },
   {
    "duration": 98,
    "start_time": "2022-07-05T08:22:46.141Z"
   },
   {
    "duration": 187,
    "start_time": "2022-07-05T08:22:50.069Z"
   },
   {
    "duration": 49,
    "start_time": "2022-07-05T08:23:04.756Z"
   },
   {
    "duration": 175,
    "start_time": "2022-07-05T08:23:44.828Z"
   },
   {
    "duration": 753,
    "start_time": "2022-07-05T08:23:49.569Z"
   },
   {
    "duration": 236,
    "start_time": "2022-07-05T08:24:09.068Z"
   },
   {
    "duration": 40,
    "start_time": "2022-07-05T08:24:34.156Z"
   },
   {
    "duration": 234,
    "start_time": "2022-07-05T08:24:48.769Z"
   },
   {
    "duration": 194,
    "start_time": "2022-07-05T08:24:58.615Z"
   },
   {
    "duration": 40,
    "start_time": "2022-07-05T08:25:09.326Z"
   },
   {
    "duration": 42,
    "start_time": "2022-07-05T08:25:15.318Z"
   },
   {
    "duration": 3,
    "start_time": "2022-07-05T08:36:08.286Z"
   },
   {
    "duration": 121,
    "start_time": "2022-07-05T08:36:08.291Z"
   },
   {
    "duration": 15,
    "start_time": "2022-07-05T08:36:08.414Z"
   },
   {
    "duration": 2118,
    "start_time": "2022-07-05T08:36:08.431Z"
   },
   {
    "duration": 19,
    "start_time": "2022-07-05T08:36:10.561Z"
   },
   {
    "duration": 8,
    "start_time": "2022-07-05T08:36:10.581Z"
   },
   {
    "duration": 8,
    "start_time": "2022-07-05T08:36:10.591Z"
   },
   {
    "duration": 7,
    "start_time": "2022-07-05T08:36:10.601Z"
   },
   {
    "duration": 6,
    "start_time": "2022-07-05T08:36:10.610Z"
   },
   {
    "duration": 12,
    "start_time": "2022-07-05T08:36:10.617Z"
   },
   {
    "duration": 10,
    "start_time": "2022-07-05T08:36:10.649Z"
   },
   {
    "duration": 24,
    "start_time": "2022-07-05T08:36:10.663Z"
   },
   {
    "duration": 13,
    "start_time": "2022-07-05T08:36:10.688Z"
   },
   {
    "duration": 175,
    "start_time": "2022-07-05T08:36:10.703Z"
   },
   {
    "duration": 8,
    "start_time": "2022-07-05T08:36:10.882Z"
   },
   {
    "duration": 5,
    "start_time": "2022-07-05T08:36:10.891Z"
   },
   {
    "duration": 19,
    "start_time": "2022-07-05T08:36:10.897Z"
   },
   {
    "duration": 4,
    "start_time": "2022-07-05T08:36:10.918Z"
   },
   {
    "duration": 10,
    "start_time": "2022-07-05T08:36:10.924Z"
   },
   {
    "duration": 38,
    "start_time": "2022-07-05T08:36:10.947Z"
   },
   {
    "duration": 29,
    "start_time": "2022-07-05T08:36:10.988Z"
   },
   {
    "duration": 354,
    "start_time": "2022-07-05T08:36:11.019Z"
   },
   {
    "duration": 26,
    "start_time": "2022-07-05T08:36:11.375Z"
   },
   {
    "duration": 42,
    "start_time": "2022-07-05T08:36:11.403Z"
   },
   {
    "duration": 230,
    "start_time": "2022-07-05T08:36:11.453Z"
   },
   {
    "duration": 5,
    "start_time": "2022-07-05T08:36:11.684Z"
   },
   {
    "duration": 3,
    "start_time": "2022-07-05T08:39:23.915Z"
   },
   {
    "duration": 121,
    "start_time": "2022-07-05T08:39:23.928Z"
   },
   {
    "duration": 20,
    "start_time": "2022-07-05T08:39:24.051Z"
   },
   {
    "duration": 2426,
    "start_time": "2022-07-05T08:39:24.072Z"
   },
   {
    "duration": 9,
    "start_time": "2022-07-05T08:39:26.500Z"
   },
   {
    "duration": 4,
    "start_time": "2022-07-05T08:39:26.511Z"
   },
   {
    "duration": 8,
    "start_time": "2022-07-05T08:39:26.517Z"
   },
   {
    "duration": 28,
    "start_time": "2022-07-05T08:39:26.527Z"
   },
   {
    "duration": 17,
    "start_time": "2022-07-05T08:39:26.556Z"
   },
   {
    "duration": 15,
    "start_time": "2022-07-05T08:39:26.575Z"
   },
   {
    "duration": 5,
    "start_time": "2022-07-05T08:39:26.591Z"
   },
   {
    "duration": 9,
    "start_time": "2022-07-05T08:39:26.597Z"
   },
   {
    "duration": 12,
    "start_time": "2022-07-05T08:39:26.608Z"
   },
   {
    "duration": 158,
    "start_time": "2022-07-05T08:39:26.622Z"
   },
   {
    "duration": 8,
    "start_time": "2022-07-05T08:39:26.783Z"
   },
   {
    "duration": 17,
    "start_time": "2022-07-05T08:39:26.792Z"
   },
   {
    "duration": 16,
    "start_time": "2022-07-05T08:39:26.811Z"
   },
   {
    "duration": 5,
    "start_time": "2022-07-05T08:39:26.828Z"
   },
   {
    "duration": 9,
    "start_time": "2022-07-05T08:39:26.845Z"
   },
   {
    "duration": 13,
    "start_time": "2022-07-05T08:39:26.857Z"
   },
   {
    "duration": 18,
    "start_time": "2022-07-05T08:39:26.872Z"
   },
   {
    "duration": 309,
    "start_time": "2022-07-05T08:39:26.892Z"
   },
   {
    "duration": 24,
    "start_time": "2022-07-05T08:39:27.203Z"
   },
   {
    "duration": 50,
    "start_time": "2022-07-05T08:39:27.229Z"
   },
   {
    "duration": 206,
    "start_time": "2022-07-05T08:39:27.281Z"
   },
   {
    "duration": 6,
    "start_time": "2022-07-05T08:39:27.489Z"
   },
   {
    "duration": 12,
    "start_time": "2022-07-05T08:44:16.452Z"
   },
   {
    "duration": 4,
    "start_time": "2022-07-05T08:47:15.991Z"
   },
   {
    "duration": 132,
    "start_time": "2022-07-05T08:47:15.997Z"
   },
   {
    "duration": 22,
    "start_time": "2022-07-05T08:47:16.131Z"
   },
   {
    "duration": 1941,
    "start_time": "2022-07-05T08:47:16.155Z"
   },
   {
    "duration": 14,
    "start_time": "2022-07-05T08:47:18.098Z"
   },
   {
    "duration": 10,
    "start_time": "2022-07-05T08:47:18.114Z"
   },
   {
    "duration": 23,
    "start_time": "2022-07-05T08:47:18.127Z"
   },
   {
    "duration": 10,
    "start_time": "2022-07-05T08:47:18.153Z"
   },
   {
    "duration": 8,
    "start_time": "2022-07-05T08:47:18.165Z"
   },
   {
    "duration": 13,
    "start_time": "2022-07-05T08:47:18.174Z"
   },
   {
    "duration": 9,
    "start_time": "2022-07-05T08:47:18.189Z"
   },
   {
    "duration": 9,
    "start_time": "2022-07-05T08:47:18.200Z"
   },
   {
    "duration": 9,
    "start_time": "2022-07-05T08:47:18.211Z"
   },
   {
    "duration": 3,
    "start_time": "2022-07-05T08:47:18.245Z"
   },
   {
    "duration": 21,
    "start_time": "2022-07-05T08:47:18.251Z"
   },
   {
    "duration": 10,
    "start_time": "2022-07-05T08:47:18.274Z"
   },
   {
    "duration": 4,
    "start_time": "2022-07-05T08:47:18.286Z"
   },
   {
    "duration": 16,
    "start_time": "2022-07-05T08:47:18.292Z"
   },
   {
    "duration": 5,
    "start_time": "2022-07-05T08:47:18.309Z"
   },
   {
    "duration": 36,
    "start_time": "2022-07-05T08:47:18.315Z"
   },
   {
    "duration": 8,
    "start_time": "2022-07-05T08:47:18.352Z"
   },
   {
    "duration": 22,
    "start_time": "2022-07-05T08:47:18.362Z"
   },
   {
    "duration": 341,
    "start_time": "2022-07-05T08:47:18.386Z"
   },
   {
    "duration": 37,
    "start_time": "2022-07-05T08:47:18.729Z"
   },
   {
    "duration": 42,
    "start_time": "2022-07-05T08:47:18.768Z"
   },
   {
    "duration": 285,
    "start_time": "2022-07-05T08:47:18.813Z"
   },
   {
    "duration": 6,
    "start_time": "2022-07-05T08:47:19.100Z"
   },
   {
    "duration": 12,
    "start_time": "2022-07-05T08:47:43.979Z"
   },
   {
    "duration": 3,
    "start_time": "2022-07-05T08:52:06.059Z"
   },
   {
    "duration": 118,
    "start_time": "2022-07-05T08:52:06.064Z"
   },
   {
    "duration": 15,
    "start_time": "2022-07-05T08:52:06.184Z"
   },
   {
    "duration": 1868,
    "start_time": "2022-07-05T08:52:06.200Z"
   },
   {
    "duration": 10,
    "start_time": "2022-07-05T08:52:08.070Z"
   },
   {
    "duration": 7,
    "start_time": "2022-07-05T08:52:08.082Z"
   },
   {
    "duration": 7,
    "start_time": "2022-07-05T08:52:08.090Z"
   },
   {
    "duration": 9,
    "start_time": "2022-07-05T08:52:08.098Z"
   },
   {
    "duration": 5,
    "start_time": "2022-07-05T08:52:08.108Z"
   },
   {
    "duration": 42,
    "start_time": "2022-07-05T08:52:08.114Z"
   },
   {
    "duration": 4,
    "start_time": "2022-07-05T08:52:08.158Z"
   },
   {
    "duration": 15,
    "start_time": "2022-07-05T08:52:08.164Z"
   },
   {
    "duration": 10,
    "start_time": "2022-07-05T08:52:08.181Z"
   },
   {
    "duration": 165,
    "start_time": "2022-07-05T08:52:08.194Z"
   },
   {
    "duration": 2,
    "start_time": "2022-07-05T08:52:08.361Z"
   },
   {
    "duration": 10,
    "start_time": "2022-07-05T08:52:08.364Z"
   },
   {
    "duration": 3,
    "start_time": "2022-07-05T08:52:08.376Z"
   },
   {
    "duration": 14,
    "start_time": "2022-07-05T08:52:08.381Z"
   },
   {
    "duration": 4,
    "start_time": "2022-07-05T08:52:08.397Z"
   },
   {
    "duration": 8,
    "start_time": "2022-07-05T08:52:08.403Z"
   },
   {
    "duration": 37,
    "start_time": "2022-07-05T08:52:08.412Z"
   },
   {
    "duration": 504,
    "start_time": "2022-07-05T08:52:08.451Z"
   },
   {
    "duration": 379,
    "start_time": "2022-07-05T08:52:08.957Z"
   },
   {
    "duration": 26,
    "start_time": "2022-07-05T08:52:09.338Z"
   },
   {
    "duration": 35,
    "start_time": "2022-07-05T08:52:09.366Z"
   },
   {
    "duration": 221,
    "start_time": "2022-07-05T08:52:09.404Z"
   },
   {
    "duration": 4,
    "start_time": "2022-07-05T08:52:09.627Z"
   },
   {
    "duration": 49,
    "start_time": "2022-07-05T08:53:10.007Z"
   },
   {
    "duration": 10,
    "start_time": "2022-07-05T08:53:14.500Z"
   },
   {
    "duration": 181,
    "start_time": "2022-07-05T08:54:16.638Z"
   },
   {
    "duration": 167,
    "start_time": "2022-07-05T08:54:32.731Z"
   },
   {
    "duration": 151,
    "start_time": "2022-07-05T08:54:49.727Z"
   },
   {
    "duration": 165,
    "start_time": "2022-07-05T08:54:57.960Z"
   },
   {
    "duration": 144,
    "start_time": "2022-07-05T08:59:59.231Z"
   },
   {
    "duration": 147,
    "start_time": "2022-07-05T09:01:19.331Z"
   },
   {
    "duration": 181,
    "start_time": "2022-07-05T09:01:58.347Z"
   },
   {
    "duration": 143,
    "start_time": "2022-07-05T09:02:27.987Z"
   },
   {
    "duration": 128,
    "start_time": "2022-07-05T09:04:41.067Z"
   },
   {
    "duration": 10,
    "start_time": "2022-07-05T09:05:11.808Z"
   },
   {
    "duration": 150,
    "start_time": "2022-07-05T09:05:46.187Z"
   },
   {
    "duration": 149,
    "start_time": "2022-07-05T09:05:50.868Z"
   },
   {
    "duration": 45,
    "start_time": "2022-07-05T09:06:23.268Z"
   },
   {
    "duration": 156,
    "start_time": "2022-07-05T09:06:41.628Z"
   },
   {
    "duration": 10,
    "start_time": "2022-07-05T09:09:41.789Z"
   },
   {
    "duration": 9,
    "start_time": "2022-07-05T09:13:57.716Z"
   },
   {
    "duration": 168,
    "start_time": "2022-07-05T09:14:15.277Z"
   },
   {
    "duration": 139,
    "start_time": "2022-07-05T09:14:25.316Z"
   },
   {
    "duration": 126,
    "start_time": "2022-07-05T09:14:56.996Z"
   },
   {
    "duration": 153,
    "start_time": "2022-07-05T09:16:36.377Z"
   },
   {
    "duration": 136,
    "start_time": "2022-07-05T09:17:00.036Z"
   },
   {
    "duration": 10,
    "start_time": "2022-07-05T09:18:55.756Z"
   },
   {
    "duration": 134,
    "start_time": "2022-07-05T09:19:27.336Z"
   },
   {
    "duration": 120,
    "start_time": "2022-07-05T09:20:04.887Z"
   },
   {
    "duration": 120,
    "start_time": "2022-07-05T09:20:23.411Z"
   },
   {
    "duration": 139,
    "start_time": "2022-07-05T09:20:31.530Z"
   },
   {
    "duration": 112,
    "start_time": "2022-07-05T09:22:04.481Z"
   },
   {
    "duration": 146,
    "start_time": "2022-07-05T09:22:27.484Z"
   },
   {
    "duration": 125,
    "start_time": "2022-07-05T09:22:42.430Z"
   },
   {
    "duration": 182,
    "start_time": "2022-07-05T09:22:55.950Z"
   },
   {
    "duration": 151,
    "start_time": "2022-07-05T09:23:51.747Z"
   },
   {
    "duration": 180,
    "start_time": "2022-07-05T09:24:00.207Z"
   },
   {
    "duration": 169,
    "start_time": "2022-07-05T09:24:19.906Z"
   },
   {
    "duration": 177,
    "start_time": "2022-07-05T09:24:26.407Z"
   },
   {
    "duration": 162,
    "start_time": "2022-07-05T09:24:31.659Z"
   },
   {
    "duration": 153,
    "start_time": "2022-07-05T09:24:37.588Z"
   },
   {
    "duration": 166,
    "start_time": "2022-07-05T09:24:46.948Z"
   },
   {
    "duration": 8,
    "start_time": "2022-07-05T09:26:02.107Z"
   },
   {
    "duration": 9,
    "start_time": "2022-07-05T09:26:46.167Z"
   },
   {
    "duration": 42,
    "start_time": "2022-07-05T09:26:54.947Z"
   },
   {
    "duration": 19,
    "start_time": "2022-07-05T09:27:47.167Z"
   },
   {
    "duration": 41,
    "start_time": "2022-07-05T09:28:01.946Z"
   },
   {
    "duration": 166,
    "start_time": "2022-07-05T09:29:37.719Z"
   },
   {
    "duration": 42,
    "start_time": "2022-07-05T09:29:57.548Z"
   },
   {
    "duration": 17,
    "start_time": "2022-07-05T09:30:13.640Z"
   },
   {
    "duration": 160,
    "start_time": "2022-07-05T09:30:48.488Z"
   },
   {
    "duration": 166,
    "start_time": "2022-07-05T09:30:57.788Z"
   },
   {
    "duration": 165,
    "start_time": "2022-07-05T09:31:07.707Z"
   },
   {
    "duration": 250,
    "start_time": "2022-07-05T09:31:16.847Z"
   },
   {
    "duration": 149,
    "start_time": "2022-07-05T09:31:22.847Z"
   },
   {
    "duration": 180,
    "start_time": "2022-07-05T09:31:31.247Z"
   },
   {
    "duration": 196,
    "start_time": "2022-07-05T09:31:35.168Z"
   },
   {
    "duration": 147,
    "start_time": "2022-07-05T09:33:32.187Z"
   },
   {
    "duration": 150,
    "start_time": "2022-07-05T09:34:13.110Z"
   },
   {
    "duration": 138,
    "start_time": "2022-07-05T09:34:23.168Z"
   },
   {
    "duration": 12,
    "start_time": "2022-07-05T09:48:15.293Z"
   },
   {
    "duration": 150,
    "start_time": "2022-07-05T09:48:34.971Z"
   },
   {
    "duration": 155,
    "start_time": "2022-07-05T09:49:03.649Z"
   },
   {
    "duration": 128,
    "start_time": "2022-07-05T09:49:22.211Z"
   },
   {
    "duration": 5,
    "start_time": "2022-07-05T09:49:33.249Z"
   },
   {
    "duration": 159,
    "start_time": "2022-07-05T09:50:49.490Z"
   },
   {
    "duration": 189,
    "start_time": "2022-07-05T09:50:57.630Z"
   },
   {
    "duration": 124,
    "start_time": "2022-07-05T09:51:07.770Z"
   },
   {
    "duration": 155,
    "start_time": "2022-07-05T09:51:17.809Z"
   },
   {
    "duration": 30,
    "start_time": "2022-07-05T09:51:41.190Z"
   },
   {
    "duration": 44,
    "start_time": "2022-07-05T09:51:49.970Z"
   },
   {
    "duration": 52,
    "start_time": "2022-07-05T09:51:54.602Z"
   },
   {
    "duration": 161,
    "start_time": "2022-07-05T09:52:04.330Z"
   },
   {
    "duration": 144,
    "start_time": "2022-07-05T09:52:14.330Z"
   },
   {
    "duration": 161,
    "start_time": "2022-07-05T09:52:31.769Z"
   },
   {
    "duration": 34,
    "start_time": "2022-07-05T09:54:18.170Z"
   },
   {
    "duration": 35,
    "start_time": "2022-07-05T09:54:22.521Z"
   },
   {
    "duration": 36,
    "start_time": "2022-07-05T09:54:36.009Z"
   },
   {
    "duration": 35,
    "start_time": "2022-07-05T09:54:39.549Z"
   },
   {
    "duration": 35,
    "start_time": "2022-07-05T09:54:44.090Z"
   },
   {
    "duration": 127,
    "start_time": "2022-07-05T09:56:40.203Z"
   },
   {
    "duration": 10,
    "start_time": "2022-07-05T09:57:03.461Z"
   },
   {
    "duration": 138,
    "start_time": "2022-07-05T09:58:05.462Z"
   },
   {
    "duration": 34,
    "start_time": "2022-07-05T09:58:42.193Z"
   },
   {
    "duration": 152,
    "start_time": "2022-07-05T09:58:55.261Z"
   },
   {
    "duration": 965,
    "start_time": "2022-07-05T10:10:11.114Z"
   },
   {
    "duration": 387,
    "start_time": "2022-07-05T10:10:27.532Z"
   },
   {
    "duration": 387,
    "start_time": "2022-07-05T10:10:43.533Z"
   },
   {
    "duration": 384,
    "start_time": "2022-07-05T10:10:58.476Z"
   },
   {
    "duration": 379,
    "start_time": "2022-07-05T10:11:31.451Z"
   },
   {
    "duration": 371,
    "start_time": "2022-07-05T10:13:06.751Z"
   },
   {
    "duration": 296,
    "start_time": "2022-07-05T10:14:01.051Z"
   },
   {
    "duration": 2,
    "start_time": "2022-07-05T10:14:52.050Z"
   },
   {
    "duration": 132,
    "start_time": "2022-07-05T10:14:52.054Z"
   },
   {
    "duration": 14,
    "start_time": "2022-07-05T10:14:52.188Z"
   },
   {
    "duration": 1907,
    "start_time": "2022-07-05T10:14:52.204Z"
   },
   {
    "duration": 12,
    "start_time": "2022-07-05T10:14:54.113Z"
   },
   {
    "duration": 20,
    "start_time": "2022-07-05T10:14:54.126Z"
   },
   {
    "duration": 6,
    "start_time": "2022-07-05T10:14:54.147Z"
   },
   {
    "duration": 19,
    "start_time": "2022-07-05T10:14:54.155Z"
   },
   {
    "duration": 16,
    "start_time": "2022-07-05T10:14:54.175Z"
   },
   {
    "duration": 20,
    "start_time": "2022-07-05T10:14:54.193Z"
   },
   {
    "duration": 9,
    "start_time": "2022-07-05T10:14:54.215Z"
   },
   {
    "duration": 12,
    "start_time": "2022-07-05T10:14:54.226Z"
   },
   {
    "duration": 15,
    "start_time": "2022-07-05T10:14:54.241Z"
   },
   {
    "duration": 146,
    "start_time": "2022-07-05T10:14:54.258Z"
   },
   {
    "duration": 2,
    "start_time": "2022-07-05T10:14:54.406Z"
   },
   {
    "duration": 14,
    "start_time": "2022-07-05T10:14:54.410Z"
   },
   {
    "duration": 3,
    "start_time": "2022-07-05T10:14:54.426Z"
   },
   {
    "duration": 22,
    "start_time": "2022-07-05T10:14:54.431Z"
   },
   {
    "duration": 6,
    "start_time": "2022-07-05T10:14:54.455Z"
   },
   {
    "duration": 11,
    "start_time": "2022-07-05T10:14:54.462Z"
   },
   {
    "duration": 7,
    "start_time": "2022-07-05T10:14:54.474Z"
   },
   {
    "duration": 20,
    "start_time": "2022-07-05T10:14:54.483Z"
   },
   {
    "duration": 297,
    "start_time": "2022-07-05T10:14:54.505Z"
   },
   {
    "duration": 24,
    "start_time": "2022-07-05T10:14:54.804Z"
   },
   {
    "duration": 24,
    "start_time": "2022-07-05T10:14:54.829Z"
   },
   {
    "duration": 144,
    "start_time": "2022-07-05T10:14:54.854Z"
   },
   {
    "duration": 9,
    "start_time": "2022-07-05T10:14:55.000Z"
   },
   {
    "duration": 178,
    "start_time": "2022-07-05T10:14:55.011Z"
   },
   {
    "duration": 10,
    "start_time": "2022-07-05T10:14:55.192Z"
   },
   {
    "duration": 145,
    "start_time": "2022-07-05T10:14:55.204Z"
   },
   {
    "duration": 50,
    "start_time": "2022-07-05T10:14:55.350Z"
   },
   {
    "duration": 0,
    "start_time": "2022-07-05T10:14:55.402Z"
   },
   {
    "duration": 0,
    "start_time": "2022-07-05T10:14:55.404Z"
   },
   {
    "duration": 0,
    "start_time": "2022-07-05T10:14:55.405Z"
   },
   {
    "duration": 0,
    "start_time": "2022-07-05T10:14:55.407Z"
   },
   {
    "duration": 0,
    "start_time": "2022-07-05T10:14:55.409Z"
   },
   {
    "duration": 0,
    "start_time": "2022-07-05T10:14:55.410Z"
   },
   {
    "duration": 1,
    "start_time": "2022-07-05T10:14:55.411Z"
   },
   {
    "duration": 0,
    "start_time": "2022-07-05T10:14:55.413Z"
   },
   {
    "duration": 3,
    "start_time": "2022-07-05T10:15:16.709Z"
   },
   {
    "duration": 110,
    "start_time": "2022-07-05T10:15:16.714Z"
   },
   {
    "duration": 25,
    "start_time": "2022-07-05T10:15:16.826Z"
   },
   {
    "duration": 1906,
    "start_time": "2022-07-05T10:15:16.853Z"
   },
   {
    "duration": 11,
    "start_time": "2022-07-05T10:15:18.761Z"
   },
   {
    "duration": 5,
    "start_time": "2022-07-05T10:15:18.774Z"
   },
   {
    "duration": 7,
    "start_time": "2022-07-05T10:15:18.781Z"
   },
   {
    "duration": 11,
    "start_time": "2022-07-05T10:15:18.790Z"
   },
   {
    "duration": 5,
    "start_time": "2022-07-05T10:15:18.803Z"
   },
   {
    "duration": 43,
    "start_time": "2022-07-05T10:15:18.810Z"
   },
   {
    "duration": 10,
    "start_time": "2022-07-05T10:15:18.855Z"
   },
   {
    "duration": 24,
    "start_time": "2022-07-05T10:15:18.868Z"
   },
   {
    "duration": 10,
    "start_time": "2022-07-05T10:15:18.896Z"
   },
   {
    "duration": 177,
    "start_time": "2022-07-05T10:15:18.909Z"
   },
   {
    "duration": 3,
    "start_time": "2022-07-05T10:15:19.088Z"
   },
   {
    "duration": 12,
    "start_time": "2022-07-05T10:15:19.093Z"
   },
   {
    "duration": 12,
    "start_time": "2022-07-05T10:15:19.107Z"
   },
   {
    "duration": 24,
    "start_time": "2022-07-05T10:15:19.121Z"
   },
   {
    "duration": 5,
    "start_time": "2022-07-05T10:15:19.147Z"
   },
   {
    "duration": 10,
    "start_time": "2022-07-05T10:15:19.154Z"
   },
   {
    "duration": 6,
    "start_time": "2022-07-05T10:15:19.165Z"
   },
   {
    "duration": 22,
    "start_time": "2022-07-05T10:15:19.172Z"
   },
   {
    "duration": 301,
    "start_time": "2022-07-05T10:15:19.195Z"
   },
   {
    "duration": 39,
    "start_time": "2022-07-05T10:15:19.498Z"
   },
   {
    "duration": 12,
    "start_time": "2022-07-05T10:15:19.539Z"
   },
   {
    "duration": 150,
    "start_time": "2022-07-05T10:15:19.552Z"
   },
   {
    "duration": 9,
    "start_time": "2022-07-05T10:15:19.703Z"
   },
   {
    "duration": 173,
    "start_time": "2022-07-05T10:15:19.713Z"
   },
   {
    "duration": 11,
    "start_time": "2022-07-05T10:15:19.888Z"
   },
   {
    "duration": 150,
    "start_time": "2022-07-05T10:15:19.900Z"
   },
   {
    "duration": 16,
    "start_time": "2022-07-05T10:15:20.052Z"
   },
   {
    "duration": 142,
    "start_time": "2022-07-05T10:15:20.070Z"
   },
   {
    "duration": 47,
    "start_time": "2022-07-05T10:15:20.213Z"
   },
   {
    "duration": 160,
    "start_time": "2022-07-05T10:15:20.261Z"
   },
   {
    "duration": 37,
    "start_time": "2022-07-05T10:15:20.423Z"
   },
   {
    "duration": 162,
    "start_time": "2022-07-05T10:15:20.462Z"
   },
   {
    "duration": 287,
    "start_time": "2022-07-05T10:15:20.628Z"
   },
   {
    "duration": 0,
    "start_time": "2022-07-05T10:15:20.917Z"
   },
   {
    "duration": 381,
    "start_time": "2022-07-05T10:15:49.729Z"
   },
   {
    "duration": 132,
    "start_time": "2022-07-05T10:20:09.178Z"
   },
   {
    "duration": 132,
    "start_time": "2022-07-05T10:20:39.569Z"
   },
   {
    "duration": 65,
    "start_time": "2022-07-05T10:25:01.101Z"
   },
   {
    "duration": 49,
    "start_time": "2022-07-05T10:25:12.979Z"
   },
   {
    "duration": 10,
    "start_time": "2022-07-05T10:25:18.119Z"
   },
   {
    "duration": 26,
    "start_time": "2022-07-05T10:29:52.720Z"
   },
   {
    "duration": 26,
    "start_time": "2022-07-05T10:30:48.080Z"
   },
   {
    "duration": 130,
    "start_time": "2022-07-05T10:31:05.421Z"
   },
   {
    "duration": 135,
    "start_time": "2022-07-05T10:36:11.142Z"
   },
   {
    "duration": 9,
    "start_time": "2022-07-05T10:36:50.823Z"
   },
   {
    "duration": 145,
    "start_time": "2022-07-05T10:37:24.287Z"
   },
   {
    "duration": 9,
    "start_time": "2022-07-05T10:38:16.441Z"
   },
   {
    "duration": 21,
    "start_time": "2022-07-05T10:39:05.660Z"
   },
   {
    "duration": 34,
    "start_time": "2022-07-05T10:39:11.141Z"
   },
   {
    "duration": 27,
    "start_time": "2022-07-05T10:39:15.633Z"
   },
   {
    "duration": 14,
    "start_time": "2022-07-05T10:40:20.900Z"
   },
   {
    "duration": 13,
    "start_time": "2022-07-05T10:40:45.421Z"
   },
   {
    "duration": 18,
    "start_time": "2022-07-05T10:41:16.960Z"
   },
   {
    "duration": 27,
    "start_time": "2022-07-05T10:41:36.620Z"
   },
   {
    "duration": 132,
    "start_time": "2022-07-05T10:41:46.686Z"
   },
   {
    "duration": 135,
    "start_time": "2022-07-05T10:46:02.688Z"
   },
   {
    "duration": 134,
    "start_time": "2022-07-05T10:46:38.099Z"
   },
   {
    "duration": 139,
    "start_time": "2022-07-05T10:46:52.511Z"
   },
   {
    "duration": 140,
    "start_time": "2022-07-05T10:47:24.600Z"
   },
   {
    "duration": 279,
    "start_time": "2022-07-05T10:48:18.641Z"
   },
   {
    "duration": 5,
    "start_time": "2022-07-05T10:48:39.581Z"
   },
   {
    "duration": 259,
    "start_time": "2022-07-05T10:49:11.059Z"
   },
   {
    "duration": 10,
    "start_time": "2022-07-05T10:54:21.183Z"
   },
   {
    "duration": 879,
    "start_time": "2022-07-05T10:54:31.519Z"
   },
   {
    "duration": 39,
    "start_time": "2022-07-05T11:01:01.259Z"
   },
   {
    "duration": 250,
    "start_time": "2022-07-05T11:13:40.040Z"
   },
   {
    "duration": 244,
    "start_time": "2022-07-05T11:14:01.561Z"
   },
   {
    "duration": 158,
    "start_time": "2022-07-05T11:14:16.419Z"
   },
   {
    "duration": 178,
    "start_time": "2022-07-05T11:14:29.379Z"
   },
   {
    "duration": 214,
    "start_time": "2022-07-05T11:14:44.659Z"
   },
   {
    "duration": 179,
    "start_time": "2022-07-05T11:18:03.580Z"
   },
   {
    "duration": 228,
    "start_time": "2022-07-05T11:18:18.982Z"
   },
   {
    "duration": 5,
    "start_time": "2022-07-05T11:19:18.699Z"
   },
   {
    "duration": 8,
    "start_time": "2022-07-05T11:19:50.856Z"
   },
   {
    "duration": 243,
    "start_time": "2022-07-05T11:20:20.879Z"
   },
   {
    "duration": 36,
    "start_time": "2022-07-05T11:20:42.179Z"
   },
   {
    "duration": 41,
    "start_time": "2022-07-05T11:20:52.134Z"
   },
   {
    "duration": 37,
    "start_time": "2022-07-05T11:20:57.239Z"
   },
   {
    "duration": 40,
    "start_time": "2022-07-05T11:21:04.673Z"
   },
   {
    "duration": 37,
    "start_time": "2022-07-05T11:21:26.699Z"
   },
   {
    "duration": 41,
    "start_time": "2022-07-05T11:21:39.359Z"
   },
   {
    "duration": 37,
    "start_time": "2022-07-05T11:22:00.879Z"
   },
   {
    "duration": 36,
    "start_time": "2022-07-05T11:22:05.912Z"
   },
   {
    "duration": 25,
    "start_time": "2022-07-05T11:22:13.511Z"
   },
   {
    "duration": 25,
    "start_time": "2022-07-05T11:22:17.619Z"
   },
   {
    "duration": 36,
    "start_time": "2022-07-05T11:22:26.899Z"
   },
   {
    "duration": 238,
    "start_time": "2022-07-05T11:22:43.392Z"
   },
   {
    "duration": 10,
    "start_time": "2022-07-05T11:23:37.308Z"
   },
   {
    "duration": 199,
    "start_time": "2022-07-05T11:29:54.841Z"
   },
   {
    "duration": 1474,
    "start_time": "2022-07-05T11:30:08.039Z"
   },
   {
    "duration": 741,
    "start_time": "2022-07-05T11:30:16.620Z"
   },
   {
    "duration": 2,
    "start_time": "2022-07-05T11:40:34.327Z"
   },
   {
    "duration": 110,
    "start_time": "2022-07-05T11:40:34.331Z"
   },
   {
    "duration": 16,
    "start_time": "2022-07-05T11:40:34.443Z"
   },
   {
    "duration": 1949,
    "start_time": "2022-07-05T11:40:34.460Z"
   },
   {
    "duration": 12,
    "start_time": "2022-07-05T11:40:36.412Z"
   },
   {
    "duration": 21,
    "start_time": "2022-07-05T11:40:36.426Z"
   },
   {
    "duration": 8,
    "start_time": "2022-07-05T11:40:36.449Z"
   },
   {
    "duration": 11,
    "start_time": "2022-07-05T11:40:36.458Z"
   },
   {
    "duration": 8,
    "start_time": "2022-07-05T11:40:36.472Z"
   },
   {
    "duration": 15,
    "start_time": "2022-07-05T11:40:36.482Z"
   },
   {
    "duration": 5,
    "start_time": "2022-07-05T11:40:36.499Z"
   },
   {
    "duration": 12,
    "start_time": "2022-07-05T11:40:36.506Z"
   },
   {
    "duration": 27,
    "start_time": "2022-07-05T11:40:36.520Z"
   },
   {
    "duration": 152,
    "start_time": "2022-07-05T11:40:36.550Z"
   },
   {
    "duration": 3,
    "start_time": "2022-07-05T11:40:36.704Z"
   },
   {
    "duration": 11,
    "start_time": "2022-07-05T11:40:36.708Z"
   },
   {
    "duration": 3,
    "start_time": "2022-07-05T11:40:36.720Z"
   },
   {
    "duration": 28,
    "start_time": "2022-07-05T11:40:36.725Z"
   },
   {
    "duration": 4,
    "start_time": "2022-07-05T11:40:36.754Z"
   },
   {
    "duration": 11,
    "start_time": "2022-07-05T11:40:36.760Z"
   },
   {
    "duration": 5,
    "start_time": "2022-07-05T11:40:36.773Z"
   },
   {
    "duration": 17,
    "start_time": "2022-07-05T11:40:36.779Z"
   },
   {
    "duration": 310,
    "start_time": "2022-07-05T11:40:36.798Z"
   },
   {
    "duration": 24,
    "start_time": "2022-07-05T11:40:37.110Z"
   },
   {
    "duration": 15,
    "start_time": "2022-07-05T11:40:37.136Z"
   },
   {
    "duration": 157,
    "start_time": "2022-07-05T11:40:37.153Z"
   },
   {
    "duration": 9,
    "start_time": "2022-07-05T11:40:37.312Z"
   },
   {
    "duration": 186,
    "start_time": "2022-07-05T11:40:37.323Z"
   },
   {
    "duration": 9,
    "start_time": "2022-07-05T11:40:37.511Z"
   },
   {
    "duration": 151,
    "start_time": "2022-07-05T11:40:37.522Z"
   },
   {
    "duration": 18,
    "start_time": "2022-07-05T11:40:37.675Z"
   },
   {
    "duration": 135,
    "start_time": "2022-07-05T11:40:37.694Z"
   },
   {
    "duration": 46,
    "start_time": "2022-07-05T11:40:37.830Z"
   },
   {
    "duration": 171,
    "start_time": "2022-07-05T11:40:37.877Z"
   },
   {
    "duration": 38,
    "start_time": "2022-07-05T11:40:38.050Z"
   },
   {
    "duration": 170,
    "start_time": "2022-07-05T11:40:38.090Z"
   },
   {
    "duration": 398,
    "start_time": "2022-07-05T11:40:38.262Z"
   },
   {
    "duration": 10,
    "start_time": "2022-07-05T11:40:38.662Z"
   },
   {
    "duration": 165,
    "start_time": "2022-07-05T11:40:38.673Z"
   },
   {
    "duration": 186,
    "start_time": "2022-07-05T11:40:38.846Z"
   },
   {
    "duration": 202,
    "start_time": "2022-07-05T11:40:39.038Z"
   },
   {
    "duration": 1080,
    "start_time": "2022-07-05T11:40:39.245Z"
   },
   {
    "duration": 25,
    "start_time": "2022-07-05T11:40:40.327Z"
   },
   {
    "duration": 731,
    "start_time": "2022-07-05T11:40:40.354Z"
   },
   {
    "duration": 5,
    "start_time": "2022-07-05T11:40:41.087Z"
   },
   {
    "duration": 10,
    "start_time": "2022-07-05T11:44:41.263Z"
   },
   {
    "duration": 61,
    "start_time": "2022-07-05T11:45:06.632Z"
   },
   {
    "duration": 8,
    "start_time": "2022-07-05T11:46:11.175Z"
   },
   {
    "duration": 6,
    "start_time": "2022-07-05T11:46:20.056Z"
   },
   {
    "duration": 54,
    "start_time": "2022-07-05T11:55:55.589Z"
   },
   {
    "duration": 2234,
    "start_time": "2022-07-05T11:57:41.460Z"
   },
   {
    "duration": 2352,
    "start_time": "2022-07-05T11:58:20.081Z"
   },
   {
    "duration": 2419,
    "start_time": "2022-07-05T11:58:34.196Z"
   },
   {
    "duration": 3883,
    "start_time": "2022-07-05T12:00:47.580Z"
   },
   {
    "duration": 2683,
    "start_time": "2022-07-05T12:02:50.526Z"
   },
   {
    "duration": 2998,
    "start_time": "2022-07-05T12:06:36.262Z"
   },
   {
    "duration": 2693,
    "start_time": "2022-07-05T12:07:10.453Z"
   },
   {
    "duration": 2881,
    "start_time": "2022-07-05T12:07:40.821Z"
   },
   {
    "duration": 15,
    "start_time": "2022-07-05T12:12:16.184Z"
   },
   {
    "duration": 19,
    "start_time": "2022-07-05T12:13:38.389Z"
   },
   {
    "duration": 22,
    "start_time": "2022-07-05T12:13:46.153Z"
   },
   {
    "duration": 26,
    "start_time": "2022-07-05T12:13:52.879Z"
   },
   {
    "duration": 5,
    "start_time": "2022-07-05T12:15:20.799Z"
   },
   {
    "duration": 22,
    "start_time": "2022-07-05T12:15:31.315Z"
   },
   {
    "duration": 28,
    "start_time": "2022-07-05T12:15:37.152Z"
   },
   {
    "duration": 31,
    "start_time": "2022-07-05T12:16:46.012Z"
   },
   {
    "duration": 10,
    "start_time": "2022-07-05T12:19:10.352Z"
   },
   {
    "duration": 3,
    "start_time": "2022-07-05T12:20:11.253Z"
   },
   {
    "duration": 118,
    "start_time": "2022-07-05T12:20:11.258Z"
   },
   {
    "duration": 15,
    "start_time": "2022-07-05T12:20:11.377Z"
   },
   {
    "duration": 1893,
    "start_time": "2022-07-05T12:20:11.393Z"
   },
   {
    "duration": 9,
    "start_time": "2022-07-05T12:20:13.289Z"
   },
   {
    "duration": 4,
    "start_time": "2022-07-05T12:20:13.300Z"
   },
   {
    "duration": 8,
    "start_time": "2022-07-05T12:20:13.305Z"
   },
   {
    "duration": 9,
    "start_time": "2022-07-05T12:20:13.314Z"
   },
   {
    "duration": 6,
    "start_time": "2022-07-05T12:20:13.346Z"
   },
   {
    "duration": 14,
    "start_time": "2022-07-05T12:20:13.354Z"
   },
   {
    "duration": 5,
    "start_time": "2022-07-05T12:20:13.370Z"
   },
   {
    "duration": 8,
    "start_time": "2022-07-05T12:20:13.377Z"
   },
   {
    "duration": 8,
    "start_time": "2022-07-05T12:20:13.388Z"
   },
   {
    "duration": 164,
    "start_time": "2022-07-05T12:20:13.397Z"
   },
   {
    "duration": 2,
    "start_time": "2022-07-05T12:20:13.563Z"
   },
   {
    "duration": 11,
    "start_time": "2022-07-05T12:20:13.567Z"
   },
   {
    "duration": 6,
    "start_time": "2022-07-05T12:20:13.580Z"
   },
   {
    "duration": 12,
    "start_time": "2022-07-05T12:20:13.588Z"
   },
   {
    "duration": 5,
    "start_time": "2022-07-05T12:20:13.602Z"
   },
   {
    "duration": 8,
    "start_time": "2022-07-05T12:20:13.609Z"
   },
   {
    "duration": 29,
    "start_time": "2022-07-05T12:20:13.619Z"
   },
   {
    "duration": 18,
    "start_time": "2022-07-05T12:20:13.650Z"
   },
   {
    "duration": 310,
    "start_time": "2022-07-05T12:20:13.670Z"
   },
   {
    "duration": 28,
    "start_time": "2022-07-05T12:20:13.982Z"
   },
   {
    "duration": 8,
    "start_time": "2022-07-05T12:20:14.011Z"
   },
   {
    "duration": 165,
    "start_time": "2022-07-05T12:20:14.021Z"
   },
   {
    "duration": 11,
    "start_time": "2022-07-05T12:20:14.188Z"
   },
   {
    "duration": 191,
    "start_time": "2022-07-05T12:20:14.201Z"
   },
   {
    "duration": 11,
    "start_time": "2022-07-05T12:20:14.394Z"
   },
   {
    "duration": 154,
    "start_time": "2022-07-05T12:20:14.407Z"
   },
   {
    "duration": 16,
    "start_time": "2022-07-05T12:20:14.563Z"
   },
   {
    "duration": 152,
    "start_time": "2022-07-05T12:20:14.581Z"
   },
   {
    "duration": 43,
    "start_time": "2022-07-05T12:20:14.734Z"
   },
   {
    "duration": 172,
    "start_time": "2022-07-05T12:20:14.779Z"
   },
   {
    "duration": 33,
    "start_time": "2022-07-05T12:20:14.954Z"
   },
   {
    "duration": 1317,
    "start_time": "2022-07-05T12:20:14.988Z"
   },
   {
    "duration": 401,
    "start_time": "2022-07-05T12:20:16.310Z"
   },
   {
    "duration": 11,
    "start_time": "2022-07-05T12:20:16.713Z"
   },
   {
    "duration": 155,
    "start_time": "2022-07-05T12:20:16.726Z"
   },
   {
    "duration": 138,
    "start_time": "2022-07-05T12:20:16.883Z"
   },
   {
    "duration": 158,
    "start_time": "2022-07-05T12:20:17.023Z"
   },
   {
    "duration": 289,
    "start_time": "2022-07-05T12:20:17.184Z"
   },
   {
    "duration": 11,
    "start_time": "2022-07-05T12:20:17.475Z"
   },
   {
    "duration": 737,
    "start_time": "2022-07-05T12:20:17.488Z"
   },
   {
    "duration": 59,
    "start_time": "2022-07-05T12:20:18.227Z"
   },
   {
    "duration": 0,
    "start_time": "2022-07-05T12:20:18.288Z"
   },
   {
    "duration": 0,
    "start_time": "2022-07-05T12:20:18.290Z"
   },
   {
    "duration": 0,
    "start_time": "2022-07-05T12:20:18.292Z"
   },
   {
    "duration": 3,
    "start_time": "2022-07-05T12:20:59.142Z"
   },
   {
    "duration": 155,
    "start_time": "2022-07-05T12:20:59.147Z"
   },
   {
    "duration": 15,
    "start_time": "2022-07-05T12:20:59.303Z"
   },
   {
    "duration": 2072,
    "start_time": "2022-07-05T12:20:59.320Z"
   },
   {
    "duration": 10,
    "start_time": "2022-07-05T12:21:01.394Z"
   },
   {
    "duration": 26,
    "start_time": "2022-07-05T12:21:01.405Z"
   },
   {
    "duration": 56,
    "start_time": "2022-07-05T12:21:01.432Z"
   },
   {
    "duration": 38,
    "start_time": "2022-07-05T12:21:01.490Z"
   },
   {
    "duration": 66,
    "start_time": "2022-07-05T12:21:01.529Z"
   },
   {
    "duration": 39,
    "start_time": "2022-07-05T12:21:01.597Z"
   },
   {
    "duration": 32,
    "start_time": "2022-07-05T12:21:01.638Z"
   },
   {
    "duration": 34,
    "start_time": "2022-07-05T12:21:01.674Z"
   },
   {
    "duration": 26,
    "start_time": "2022-07-05T12:21:01.710Z"
   },
   {
    "duration": 141,
    "start_time": "2022-07-05T12:21:01.737Z"
   },
   {
    "duration": 2,
    "start_time": "2022-07-05T12:21:01.880Z"
   },
   {
    "duration": 23,
    "start_time": "2022-07-05T12:21:01.884Z"
   },
   {
    "duration": 8,
    "start_time": "2022-07-05T12:21:01.909Z"
   },
   {
    "duration": 26,
    "start_time": "2022-07-05T12:21:01.919Z"
   },
   {
    "duration": 14,
    "start_time": "2022-07-05T12:21:01.949Z"
   },
   {
    "duration": 26,
    "start_time": "2022-07-05T12:21:01.965Z"
   },
   {
    "duration": 22,
    "start_time": "2022-07-05T12:21:01.992Z"
   },
   {
    "duration": 28,
    "start_time": "2022-07-05T12:21:02.016Z"
   },
   {
    "duration": 315,
    "start_time": "2022-07-05T12:21:02.046Z"
   },
   {
    "duration": 26,
    "start_time": "2022-07-05T12:21:02.363Z"
   },
   {
    "duration": 8,
    "start_time": "2022-07-05T12:21:02.390Z"
   },
   {
    "duration": 157,
    "start_time": "2022-07-05T12:21:02.400Z"
   },
   {
    "duration": 10,
    "start_time": "2022-07-05T12:21:02.559Z"
   },
   {
    "duration": 184,
    "start_time": "2022-07-05T12:21:02.571Z"
   },
   {
    "duration": 9,
    "start_time": "2022-07-05T12:21:02.757Z"
   },
   {
    "duration": 169,
    "start_time": "2022-07-05T12:21:02.768Z"
   },
   {
    "duration": 22,
    "start_time": "2022-07-05T12:21:02.939Z"
   },
   {
    "duration": 155,
    "start_time": "2022-07-05T12:21:02.963Z"
   },
   {
    "duration": 56,
    "start_time": "2022-07-05T12:21:03.121Z"
   },
   {
    "duration": 170,
    "start_time": "2022-07-05T12:21:03.179Z"
   },
   {
    "duration": 35,
    "start_time": "2022-07-05T12:21:03.351Z"
   },
   {
    "duration": 187,
    "start_time": "2022-07-05T12:21:03.388Z"
   },
   {
    "duration": 451,
    "start_time": "2022-07-05T12:21:03.579Z"
   },
   {
    "duration": 18,
    "start_time": "2022-07-05T12:21:04.033Z"
   },
   {
    "duration": 153,
    "start_time": "2022-07-05T12:21:04.053Z"
   },
   {
    "duration": 141,
    "start_time": "2022-07-05T12:21:04.208Z"
   },
   {
    "duration": 161,
    "start_time": "2022-07-05T12:21:04.351Z"
   },
   {
    "duration": 276,
    "start_time": "2022-07-05T12:21:04.514Z"
   },
   {
    "duration": 9,
    "start_time": "2022-07-05T12:21:04.791Z"
   },
   {
    "duration": 783,
    "start_time": "2022-07-05T12:21:04.802Z"
   },
   {
    "duration": 51,
    "start_time": "2022-07-05T12:21:05.587Z"
   },
   {
    "duration": 0,
    "start_time": "2022-07-05T12:21:05.640Z"
   },
   {
    "duration": 0,
    "start_time": "2022-07-05T12:21:05.641Z"
   },
   {
    "duration": 0,
    "start_time": "2022-07-05T12:21:05.643Z"
   },
   {
    "duration": 2716,
    "start_time": "2022-07-05T12:21:25.213Z"
   },
   {
    "duration": 3,
    "start_time": "2022-07-05T12:21:35.274Z"
   },
   {
    "duration": 109,
    "start_time": "2022-07-05T12:21:35.279Z"
   },
   {
    "duration": 15,
    "start_time": "2022-07-05T12:21:35.389Z"
   },
   {
    "duration": 1873,
    "start_time": "2022-07-05T12:21:35.405Z"
   },
   {
    "duration": 9,
    "start_time": "2022-07-05T12:21:37.281Z"
   },
   {
    "duration": 4,
    "start_time": "2022-07-05T12:21:37.292Z"
   },
   {
    "duration": 8,
    "start_time": "2022-07-05T12:21:37.297Z"
   },
   {
    "duration": 9,
    "start_time": "2022-07-05T12:21:37.306Z"
   },
   {
    "duration": 31,
    "start_time": "2022-07-05T12:21:37.316Z"
   },
   {
    "duration": 9,
    "start_time": "2022-07-05T12:21:37.349Z"
   },
   {
    "duration": 4,
    "start_time": "2022-07-05T12:21:37.360Z"
   },
   {
    "duration": 10,
    "start_time": "2022-07-05T12:21:37.366Z"
   },
   {
    "duration": 10,
    "start_time": "2022-07-05T12:21:37.378Z"
   },
   {
    "duration": 167,
    "start_time": "2022-07-05T12:21:37.390Z"
   },
   {
    "duration": 2,
    "start_time": "2022-07-05T12:21:37.559Z"
   },
   {
    "duration": 10,
    "start_time": "2022-07-05T12:21:37.562Z"
   },
   {
    "duration": 4,
    "start_time": "2022-07-05T12:21:37.573Z"
   },
   {
    "duration": 12,
    "start_time": "2022-07-05T12:21:37.578Z"
   },
   {
    "duration": 4,
    "start_time": "2022-07-05T12:21:37.591Z"
   },
   {
    "duration": 8,
    "start_time": "2022-07-05T12:21:37.597Z"
   },
   {
    "duration": 5,
    "start_time": "2022-07-05T12:21:37.607Z"
   },
   {
    "duration": 44,
    "start_time": "2022-07-05T12:21:37.614Z"
   },
   {
    "duration": 288,
    "start_time": "2022-07-05T12:21:37.659Z"
   },
   {
    "duration": 26,
    "start_time": "2022-07-05T12:21:37.949Z"
   },
   {
    "duration": 9,
    "start_time": "2022-07-05T12:21:37.977Z"
   },
   {
    "duration": 145,
    "start_time": "2022-07-05T12:21:37.987Z"
   },
   {
    "duration": 15,
    "start_time": "2022-07-05T12:21:38.134Z"
   },
   {
    "duration": 170,
    "start_time": "2022-07-05T12:21:38.150Z"
   },
   {
    "duration": 9,
    "start_time": "2022-07-05T12:21:38.322Z"
   },
   {
    "duration": 147,
    "start_time": "2022-07-05T12:21:38.346Z"
   },
   {
    "duration": 15,
    "start_time": "2022-07-05T12:21:38.495Z"
   },
   {
    "duration": 150,
    "start_time": "2022-07-05T12:21:38.512Z"
   },
   {
    "duration": 32,
    "start_time": "2022-07-05T12:21:38.664Z"
   },
   {
    "duration": 180,
    "start_time": "2022-07-05T12:21:38.699Z"
   },
   {
    "duration": 42,
    "start_time": "2022-07-05T12:21:38.881Z"
   },
   {
    "duration": 242,
    "start_time": "2022-07-05T12:21:38.925Z"
   },
   {
    "duration": 450,
    "start_time": "2022-07-05T12:21:39.172Z"
   },
   {
    "duration": 9,
    "start_time": "2022-07-05T12:21:39.624Z"
   },
   {
    "duration": 156,
    "start_time": "2022-07-05T12:21:39.635Z"
   },
   {
    "duration": 130,
    "start_time": "2022-07-05T12:21:39.793Z"
   },
   {
    "duration": 159,
    "start_time": "2022-07-05T12:21:39.925Z"
   },
   {
    "duration": 282,
    "start_time": "2022-07-05T12:21:40.086Z"
   },
   {
    "duration": 9,
    "start_time": "2022-07-05T12:21:40.370Z"
   },
   {
    "duration": 702,
    "start_time": "2022-07-05T12:21:40.381Z"
   },
   {
    "duration": 2717,
    "start_time": "2022-07-05T12:21:41.084Z"
   },
   {
    "duration": 11,
    "start_time": "2022-07-05T12:21:43.803Z"
   },
   {
    "duration": 0,
    "start_time": "2022-07-05T12:21:43.816Z"
   },
   {
    "duration": 0,
    "start_time": "2022-07-05T12:21:43.818Z"
   },
   {
    "duration": 27,
    "start_time": "2022-07-05T12:22:04.485Z"
   },
   {
    "duration": 3,
    "start_time": "2022-07-05T12:22:45.144Z"
   },
   {
    "duration": 114,
    "start_time": "2022-07-05T12:22:45.153Z"
   },
   {
    "duration": 15,
    "start_time": "2022-07-05T12:22:45.270Z"
   },
   {
    "duration": 3288,
    "start_time": "2022-07-05T12:22:45.286Z"
   },
   {
    "duration": 11,
    "start_time": "2022-07-05T12:22:48.576Z"
   },
   {
    "duration": 4,
    "start_time": "2022-07-05T12:22:48.589Z"
   },
   {
    "duration": 12,
    "start_time": "2022-07-05T12:22:48.595Z"
   },
   {
    "duration": 23,
    "start_time": "2022-07-05T12:22:48.608Z"
   },
   {
    "duration": 14,
    "start_time": "2022-07-05T12:22:48.633Z"
   },
   {
    "duration": 17,
    "start_time": "2022-07-05T12:22:48.649Z"
   },
   {
    "duration": 13,
    "start_time": "2022-07-05T12:22:48.668Z"
   },
   {
    "duration": 13,
    "start_time": "2022-07-05T12:22:48.683Z"
   },
   {
    "duration": 11,
    "start_time": "2022-07-05T12:22:48.697Z"
   },
   {
    "duration": 146,
    "start_time": "2022-07-05T12:22:48.710Z"
   },
   {
    "duration": 3,
    "start_time": "2022-07-05T12:22:48.859Z"
   },
   {
    "duration": 13,
    "start_time": "2022-07-05T12:22:48.863Z"
   },
   {
    "duration": 6,
    "start_time": "2022-07-05T12:22:48.877Z"
   },
   {
    "duration": 14,
    "start_time": "2022-07-05T12:22:48.884Z"
   },
   {
    "duration": 5,
    "start_time": "2022-07-05T12:22:48.899Z"
   },
   {
    "duration": 9,
    "start_time": "2022-07-05T12:22:48.905Z"
   },
   {
    "duration": 29,
    "start_time": "2022-07-05T12:22:48.917Z"
   },
   {
    "duration": 27,
    "start_time": "2022-07-05T12:22:48.948Z"
   },
   {
    "duration": 378,
    "start_time": "2022-07-05T12:22:48.977Z"
   },
   {
    "duration": 26,
    "start_time": "2022-07-05T12:22:49.357Z"
   },
   {
    "duration": 8,
    "start_time": "2022-07-05T12:22:49.386Z"
   },
   {
    "duration": 162,
    "start_time": "2022-07-05T12:22:49.395Z"
   },
   {
    "duration": 9,
    "start_time": "2022-07-05T12:22:49.559Z"
   },
   {
    "duration": 182,
    "start_time": "2022-07-05T12:22:49.570Z"
   },
   {
    "duration": 10,
    "start_time": "2022-07-05T12:22:49.753Z"
   },
   {
    "duration": 152,
    "start_time": "2022-07-05T12:22:49.764Z"
   },
   {
    "duration": 28,
    "start_time": "2022-07-05T12:22:49.918Z"
   },
   {
    "duration": 135,
    "start_time": "2022-07-05T12:22:49.948Z"
   },
   {
    "duration": 35,
    "start_time": "2022-07-05T12:22:50.085Z"
   },
   {
    "duration": 167,
    "start_time": "2022-07-05T12:22:50.122Z"
   },
   {
    "duration": 32,
    "start_time": "2022-07-05T12:22:50.290Z"
   },
   {
    "duration": 166,
    "start_time": "2022-07-05T12:22:50.324Z"
   },
   {
    "duration": 383,
    "start_time": "2022-07-05T12:22:50.492Z"
   },
   {
    "duration": 10,
    "start_time": "2022-07-05T12:22:50.876Z"
   },
   {
    "duration": 157,
    "start_time": "2022-07-05T12:22:50.888Z"
   },
   {
    "duration": 139,
    "start_time": "2022-07-05T12:22:51.047Z"
   },
   {
    "duration": 162,
    "start_time": "2022-07-05T12:22:51.188Z"
   },
   {
    "duration": 308,
    "start_time": "2022-07-05T12:22:51.354Z"
   },
   {
    "duration": 10,
    "start_time": "2022-07-05T12:22:51.664Z"
   },
   {
    "duration": 767,
    "start_time": "2022-07-05T12:22:51.675Z"
   },
   {
    "duration": 2786,
    "start_time": "2022-07-05T12:22:52.445Z"
   },
   {
    "duration": 28,
    "start_time": "2022-07-05T12:22:55.233Z"
   },
   {
    "duration": 13,
    "start_time": "2022-07-05T12:22:55.263Z"
   },
   {
    "duration": 5,
    "start_time": "2022-07-05T12:22:55.278Z"
   },
   {
    "duration": 29,
    "start_time": "2022-07-05T12:23:21.153Z"
   },
   {
    "duration": 24,
    "start_time": "2022-07-05T12:35:19.800Z"
   },
   {
    "duration": 25,
    "start_time": "2022-07-05T12:36:02.007Z"
   },
   {
    "duration": 18,
    "start_time": "2022-07-05T12:36:26.112Z"
   },
   {
    "duration": 25,
    "start_time": "2022-07-05T12:37:12.588Z"
   },
   {
    "duration": 25,
    "start_time": "2022-07-05T12:37:30.801Z"
   },
   {
    "duration": 35,
    "start_time": "2022-07-05T12:37:42.642Z"
   },
   {
    "duration": 27,
    "start_time": "2022-07-05T12:46:43.131Z"
   },
   {
    "duration": 26,
    "start_time": "2022-07-05T12:47:08.783Z"
   },
   {
    "duration": 9,
    "start_time": "2022-07-05T12:48:43.323Z"
   },
   {
    "duration": 25,
    "start_time": "2022-07-05T12:52:11.363Z"
   },
   {
    "duration": 24,
    "start_time": "2022-07-05T12:52:17.080Z"
   },
   {
    "duration": 75,
    "start_time": "2022-07-05T12:54:45.609Z"
   },
   {
    "duration": 8,
    "start_time": "2022-07-05T12:57:01.089Z"
   },
   {
    "duration": 5,
    "start_time": "2022-07-05T12:58:08.249Z"
   },
   {
    "duration": 7,
    "start_time": "2022-07-05T12:58:14.568Z"
   },
   {
    "duration": 8,
    "start_time": "2022-07-05T12:59:55.505Z"
   },
   {
    "duration": 55,
    "start_time": "2022-07-05T13:00:09.011Z"
   },
   {
    "duration": 14,
    "start_time": "2022-07-05T13:07:11.804Z"
   },
   {
    "duration": 4,
    "start_time": "2022-07-05T13:07:39.085Z"
   },
   {
    "duration": 156,
    "start_time": "2022-07-05T13:07:39.091Z"
   },
   {
    "duration": 15,
    "start_time": "2022-07-05T13:07:39.249Z"
   },
   {
    "duration": 1891,
    "start_time": "2022-07-05T13:07:39.265Z"
   },
   {
    "duration": 9,
    "start_time": "2022-07-05T13:07:41.158Z"
   },
   {
    "duration": 8,
    "start_time": "2022-07-05T13:07:41.168Z"
   },
   {
    "duration": 6,
    "start_time": "2022-07-05T13:07:41.177Z"
   },
   {
    "duration": 10,
    "start_time": "2022-07-05T13:07:41.185Z"
   },
   {
    "duration": 11,
    "start_time": "2022-07-05T13:07:41.196Z"
   },
   {
    "duration": 11,
    "start_time": "2022-07-05T13:07:41.209Z"
   },
   {
    "duration": 3,
    "start_time": "2022-07-05T13:07:41.222Z"
   },
   {
    "duration": 24,
    "start_time": "2022-07-05T13:07:41.227Z"
   },
   {
    "duration": 10,
    "start_time": "2022-07-05T13:07:41.253Z"
   },
   {
    "duration": 148,
    "start_time": "2022-07-05T13:07:41.266Z"
   },
   {
    "duration": 2,
    "start_time": "2022-07-05T13:07:41.416Z"
   },
   {
    "duration": 10,
    "start_time": "2022-07-05T13:07:41.420Z"
   },
   {
    "duration": 15,
    "start_time": "2022-07-05T13:07:41.431Z"
   },
   {
    "duration": 15,
    "start_time": "2022-07-05T13:07:41.448Z"
   },
   {
    "duration": 5,
    "start_time": "2022-07-05T13:07:41.465Z"
   },
   {
    "duration": 12,
    "start_time": "2022-07-05T13:07:41.472Z"
   },
   {
    "duration": 6,
    "start_time": "2022-07-05T13:07:41.486Z"
   },
   {
    "duration": 21,
    "start_time": "2022-07-05T13:07:41.494Z"
   },
   {
    "duration": 303,
    "start_time": "2022-07-05T13:07:41.546Z"
   },
   {
    "duration": 24,
    "start_time": "2022-07-05T13:07:41.851Z"
   },
   {
    "duration": 8,
    "start_time": "2022-07-05T13:07:41.876Z"
   },
   {
    "duration": 154,
    "start_time": "2022-07-05T13:07:41.886Z"
   },
   {
    "duration": 13,
    "start_time": "2022-07-05T13:07:42.041Z"
   },
   {
    "duration": 214,
    "start_time": "2022-07-05T13:07:42.056Z"
   },
   {
    "duration": 10,
    "start_time": "2022-07-05T13:07:42.272Z"
   },
   {
    "duration": 154,
    "start_time": "2022-07-05T13:07:42.284Z"
   },
   {
    "duration": 17,
    "start_time": "2022-07-05T13:07:42.446Z"
   },
   {
    "duration": 158,
    "start_time": "2022-07-05T13:07:42.465Z"
   },
   {
    "duration": 44,
    "start_time": "2022-07-05T13:07:42.625Z"
   },
   {
    "duration": 170,
    "start_time": "2022-07-05T13:07:42.671Z"
   },
   {
    "duration": 35,
    "start_time": "2022-07-05T13:07:42.845Z"
   },
   {
    "duration": 169,
    "start_time": "2022-07-05T13:07:42.882Z"
   },
   {
    "duration": 413,
    "start_time": "2022-07-05T13:07:43.052Z"
   },
   {
    "duration": 11,
    "start_time": "2022-07-05T13:07:43.467Z"
   },
   {
    "duration": 167,
    "start_time": "2022-07-05T13:07:43.480Z"
   },
   {
    "duration": 134,
    "start_time": "2022-07-05T13:07:43.649Z"
   },
   {
    "duration": 177,
    "start_time": "2022-07-05T13:07:43.787Z"
   },
   {
    "duration": 284,
    "start_time": "2022-07-05T13:07:43.966Z"
   },
   {
    "duration": 9,
    "start_time": "2022-07-05T13:07:44.252Z"
   },
   {
    "duration": 751,
    "start_time": "2022-07-05T13:07:44.263Z"
   },
   {
    "duration": 2820,
    "start_time": "2022-07-05T13:07:45.015Z"
   },
   {
    "duration": 30,
    "start_time": "2022-07-05T13:07:47.837Z"
   },
   {
    "duration": 8,
    "start_time": "2022-07-05T13:07:47.869Z"
   },
   {
    "duration": 15,
    "start_time": "2022-07-05T13:07:47.879Z"
   },
   {
    "duration": 0,
    "start_time": "2022-07-05T13:07:47.896Z"
   },
   {
    "duration": 1,
    "start_time": "2022-07-05T13:07:47.897Z"
   },
   {
    "duration": 2,
    "start_time": "2022-07-05T13:09:34.865Z"
   },
   {
    "duration": 124,
    "start_time": "2022-07-05T13:09:34.869Z"
   },
   {
    "duration": 17,
    "start_time": "2022-07-05T13:09:34.994Z"
   },
   {
    "duration": 1974,
    "start_time": "2022-07-05T13:09:35.013Z"
   },
   {
    "duration": 10,
    "start_time": "2022-07-05T13:09:36.989Z"
   },
   {
    "duration": 5,
    "start_time": "2022-07-05T13:09:37.000Z"
   },
   {
    "duration": 12,
    "start_time": "2022-07-05T13:09:37.007Z"
   },
   {
    "duration": 28,
    "start_time": "2022-07-05T13:09:37.020Z"
   },
   {
    "duration": 10,
    "start_time": "2022-07-05T13:09:37.049Z"
   },
   {
    "duration": 17,
    "start_time": "2022-07-05T13:09:37.061Z"
   },
   {
    "duration": 13,
    "start_time": "2022-07-05T13:09:37.079Z"
   },
   {
    "duration": 18,
    "start_time": "2022-07-05T13:09:37.094Z"
   },
   {
    "duration": 16,
    "start_time": "2022-07-05T13:09:37.114Z"
   },
   {
    "duration": 141,
    "start_time": "2022-07-05T13:09:37.133Z"
   },
   {
    "duration": 3,
    "start_time": "2022-07-05T13:09:37.276Z"
   },
   {
    "duration": 15,
    "start_time": "2022-07-05T13:09:37.280Z"
   },
   {
    "duration": 4,
    "start_time": "2022-07-05T13:09:37.296Z"
   },
   {
    "duration": 28,
    "start_time": "2022-07-05T13:09:37.301Z"
   },
   {
    "duration": 8,
    "start_time": "2022-07-05T13:09:37.331Z"
   },
   {
    "duration": 18,
    "start_time": "2022-07-05T13:09:37.341Z"
   },
   {
    "duration": 11,
    "start_time": "2022-07-05T13:09:37.361Z"
   },
   {
    "duration": 27,
    "start_time": "2022-07-05T13:09:37.374Z"
   },
   {
    "duration": 288,
    "start_time": "2022-07-05T13:09:37.402Z"
   },
   {
    "duration": 26,
    "start_time": "2022-07-05T13:09:37.693Z"
   },
   {
    "duration": 26,
    "start_time": "2022-07-05T13:09:37.721Z"
   },
   {
    "duration": 146,
    "start_time": "2022-07-05T13:09:37.748Z"
   },
   {
    "duration": 10,
    "start_time": "2022-07-05T13:09:37.896Z"
   },
   {
    "duration": 186,
    "start_time": "2022-07-05T13:09:37.908Z"
   },
   {
    "duration": 10,
    "start_time": "2022-07-05T13:09:38.096Z"
   },
   {
    "duration": 155,
    "start_time": "2022-07-05T13:09:38.108Z"
   },
   {
    "duration": 17,
    "start_time": "2022-07-05T13:09:38.264Z"
   },
   {
    "duration": 144,
    "start_time": "2022-07-05T13:09:38.282Z"
   },
   {
    "duration": 46,
    "start_time": "2022-07-05T13:09:38.428Z"
   },
   {
    "duration": 160,
    "start_time": "2022-07-05T13:09:38.475Z"
   },
   {
    "duration": 35,
    "start_time": "2022-07-05T13:09:38.636Z"
   },
   {
    "duration": 175,
    "start_time": "2022-07-05T13:09:38.673Z"
   },
   {
    "duration": 482,
    "start_time": "2022-07-05T13:09:38.851Z"
   },
   {
    "duration": 14,
    "start_time": "2022-07-05T13:09:39.335Z"
   },
   {
    "duration": 156,
    "start_time": "2022-07-05T13:09:39.351Z"
   },
   {
    "duration": 138,
    "start_time": "2022-07-05T13:09:39.509Z"
   },
   {
    "duration": 157,
    "start_time": "2022-07-05T13:09:39.651Z"
   },
   {
    "duration": 279,
    "start_time": "2022-07-05T13:09:39.810Z"
   },
   {
    "duration": 9,
    "start_time": "2022-07-05T13:09:40.090Z"
   },
   {
    "duration": 734,
    "start_time": "2022-07-05T13:09:40.100Z"
   },
   {
    "duration": 4338,
    "start_time": "2022-07-05T13:09:40.836Z"
   },
   {
    "duration": 25,
    "start_time": "2022-07-05T13:09:45.175Z"
   },
   {
    "duration": 10,
    "start_time": "2022-07-05T13:09:45.201Z"
   },
   {
    "duration": 36,
    "start_time": "2022-07-05T13:09:45.212Z"
   },
   {
    "duration": 13,
    "start_time": "2022-07-05T13:09:45.250Z"
   },
   {
    "duration": 10,
    "start_time": "2022-07-05T13:09:45.265Z"
   },
   {
    "duration": 24,
    "start_time": "2022-07-05T13:10:24.684Z"
   },
   {
    "duration": 22,
    "start_time": "2022-07-05T13:10:53.025Z"
   },
   {
    "duration": 45,
    "start_time": "2022-07-05T13:12:43.213Z"
   },
   {
    "duration": 15,
    "start_time": "2022-07-05T13:13:05.484Z"
   },
   {
    "duration": 23,
    "start_time": "2022-07-05T13:13:32.904Z"
   },
   {
    "duration": 20,
    "start_time": "2022-07-05T13:13:55.643Z"
   },
   {
    "duration": 22,
    "start_time": "2022-07-05T13:14:00.976Z"
   },
   {
    "duration": 20,
    "start_time": "2022-07-05T13:16:27.824Z"
   },
   {
    "duration": 30,
    "start_time": "2022-07-05T13:16:43.128Z"
   },
   {
    "duration": 4,
    "start_time": "2022-07-05T13:17:04.164Z"
   },
   {
    "duration": 135,
    "start_time": "2022-07-05T13:17:04.170Z"
   },
   {
    "duration": 18,
    "start_time": "2022-07-05T13:17:04.307Z"
   },
   {
    "duration": 2120,
    "start_time": "2022-07-05T13:17:04.327Z"
   },
   {
    "duration": 15,
    "start_time": "2022-07-05T13:17:06.450Z"
   },
   {
    "duration": 4,
    "start_time": "2022-07-05T13:17:06.468Z"
   },
   {
    "duration": 24,
    "start_time": "2022-07-05T13:17:06.474Z"
   },
   {
    "duration": 9,
    "start_time": "2022-07-05T13:17:06.499Z"
   },
   {
    "duration": 5,
    "start_time": "2022-07-05T13:17:06.509Z"
   },
   {
    "duration": 33,
    "start_time": "2022-07-05T13:17:06.515Z"
   },
   {
    "duration": 10,
    "start_time": "2022-07-05T13:17:06.549Z"
   },
   {
    "duration": 13,
    "start_time": "2022-07-05T13:17:06.561Z"
   },
   {
    "duration": 8,
    "start_time": "2022-07-05T13:17:06.577Z"
   },
   {
    "duration": 178,
    "start_time": "2022-07-05T13:17:06.587Z"
   },
   {
    "duration": 2,
    "start_time": "2022-07-05T13:17:06.767Z"
   },
   {
    "duration": 14,
    "start_time": "2022-07-05T13:17:06.771Z"
   },
   {
    "duration": 8,
    "start_time": "2022-07-05T13:17:06.787Z"
   },
   {
    "duration": 16,
    "start_time": "2022-07-05T13:17:06.796Z"
   },
   {
    "duration": 8,
    "start_time": "2022-07-05T13:17:06.813Z"
   },
   {
    "duration": 11,
    "start_time": "2022-07-05T13:17:06.822Z"
   },
   {
    "duration": 11,
    "start_time": "2022-07-05T13:17:06.845Z"
   },
   {
    "duration": 31,
    "start_time": "2022-07-05T13:17:06.858Z"
   },
   {
    "duration": 320,
    "start_time": "2022-07-05T13:17:06.890Z"
   },
   {
    "duration": 25,
    "start_time": "2022-07-05T13:17:07.211Z"
   },
   {
    "duration": 19,
    "start_time": "2022-07-05T13:17:07.238Z"
   },
   {
    "duration": 161,
    "start_time": "2022-07-05T13:17:07.260Z"
   },
   {
    "duration": 11,
    "start_time": "2022-07-05T13:17:07.423Z"
   },
   {
    "duration": 180,
    "start_time": "2022-07-05T13:17:07.446Z"
   },
   {
    "duration": 19,
    "start_time": "2022-07-05T13:17:07.628Z"
   },
   {
    "duration": 157,
    "start_time": "2022-07-05T13:17:07.649Z"
   },
   {
    "duration": 18,
    "start_time": "2022-07-05T13:17:07.808Z"
   },
   {
    "duration": 161,
    "start_time": "2022-07-05T13:17:07.828Z"
   },
   {
    "duration": 36,
    "start_time": "2022-07-05T13:17:07.990Z"
   },
   {
    "duration": 185,
    "start_time": "2022-07-05T13:17:08.028Z"
   },
   {
    "duration": 42,
    "start_time": "2022-07-05T13:17:08.215Z"
   },
   {
    "duration": 170,
    "start_time": "2022-07-05T13:17:08.260Z"
   },
   {
    "duration": 442,
    "start_time": "2022-07-05T13:17:08.434Z"
   },
   {
    "duration": 11,
    "start_time": "2022-07-05T13:17:08.877Z"
   },
   {
    "duration": 184,
    "start_time": "2022-07-05T13:17:08.890Z"
   },
   {
    "duration": 177,
    "start_time": "2022-07-05T13:17:09.076Z"
   },
   {
    "duration": 187,
    "start_time": "2022-07-05T13:17:09.255Z"
   },
   {
    "duration": 293,
    "start_time": "2022-07-05T13:17:09.446Z"
   },
   {
    "duration": 15,
    "start_time": "2022-07-05T13:17:09.741Z"
   },
   {
    "duration": 747,
    "start_time": "2022-07-05T13:17:09.758Z"
   },
   {
    "duration": 2845,
    "start_time": "2022-07-05T13:17:10.507Z"
   },
   {
    "duration": 25,
    "start_time": "2022-07-05T13:17:13.354Z"
   },
   {
    "duration": 9,
    "start_time": "2022-07-05T13:17:13.381Z"
   },
   {
    "duration": 66,
    "start_time": "2022-07-05T13:17:13.392Z"
   },
   {
    "duration": 0,
    "start_time": "2022-07-05T13:17:13.460Z"
   },
   {
    "duration": 0,
    "start_time": "2022-07-05T13:17:13.461Z"
   },
   {
    "duration": 0,
    "start_time": "2022-07-05T13:17:13.462Z"
   },
   {
    "duration": 37,
    "start_time": "2022-07-05T13:17:39.244Z"
   },
   {
    "duration": 30,
    "start_time": "2022-07-05T13:18:23.887Z"
   },
   {
    "duration": 22,
    "start_time": "2022-07-05T13:18:32.915Z"
   },
   {
    "duration": 35,
    "start_time": "2022-07-05T13:18:40.698Z"
   },
   {
    "duration": 33,
    "start_time": "2022-07-05T13:18:54.384Z"
   },
   {
    "duration": 22,
    "start_time": "2022-07-05T13:19:02.196Z"
   },
   {
    "duration": 746,
    "start_time": "2022-07-05T17:53:52.747Z"
   },
   {
    "duration": 159,
    "start_time": "2022-07-05T17:53:53.495Z"
   },
   {
    "duration": 18,
    "start_time": "2022-07-05T17:53:53.656Z"
   },
   {
    "duration": 2024,
    "start_time": "2022-07-05T17:53:53.676Z"
   },
   {
    "duration": 9,
    "start_time": "2022-07-05T17:53:55.702Z"
   },
   {
    "duration": 6,
    "start_time": "2022-07-05T17:53:55.712Z"
   },
   {
    "duration": 7,
    "start_time": "2022-07-05T17:53:55.719Z"
   },
   {
    "duration": 11,
    "start_time": "2022-07-05T17:53:55.728Z"
   },
   {
    "duration": 5,
    "start_time": "2022-07-05T17:53:55.740Z"
   },
   {
    "duration": 10,
    "start_time": "2022-07-05T17:53:55.748Z"
   },
   {
    "duration": 43,
    "start_time": "2022-07-05T17:53:55.759Z"
   },
   {
    "duration": 11,
    "start_time": "2022-07-05T17:53:55.804Z"
   },
   {
    "duration": 11,
    "start_time": "2022-07-05T17:53:55.816Z"
   },
   {
    "duration": 148,
    "start_time": "2022-07-05T17:53:55.830Z"
   },
   {
    "duration": 3,
    "start_time": "2022-07-05T17:53:55.980Z"
   },
   {
    "duration": 18,
    "start_time": "2022-07-05T17:53:55.984Z"
   },
   {
    "duration": 3,
    "start_time": "2022-07-05T17:53:56.004Z"
   },
   {
    "duration": 15,
    "start_time": "2022-07-05T17:53:56.009Z"
   },
   {
    "duration": 7,
    "start_time": "2022-07-05T17:53:56.026Z"
   },
   {
    "duration": 12,
    "start_time": "2022-07-05T17:53:56.034Z"
   },
   {
    "duration": 7,
    "start_time": "2022-07-05T17:53:56.047Z"
   },
   {
    "duration": 21,
    "start_time": "2022-07-05T17:53:56.055Z"
   },
   {
    "duration": 322,
    "start_time": "2022-07-05T17:53:56.078Z"
   },
   {
    "duration": 26,
    "start_time": "2022-07-05T17:53:56.401Z"
   },
   {
    "duration": 9,
    "start_time": "2022-07-05T17:53:56.429Z"
   },
   {
    "duration": 157,
    "start_time": "2022-07-05T17:53:56.439Z"
   },
   {
    "duration": 11,
    "start_time": "2022-07-05T17:53:56.598Z"
   },
   {
    "duration": 174,
    "start_time": "2022-07-05T17:53:56.611Z"
   },
   {
    "duration": 15,
    "start_time": "2022-07-05T17:53:56.787Z"
   },
   {
    "duration": 215,
    "start_time": "2022-07-05T17:53:56.804Z"
   },
   {
    "duration": 17,
    "start_time": "2022-07-05T17:53:57.021Z"
   },
   {
    "duration": 139,
    "start_time": "2022-07-05T17:53:57.039Z"
   },
   {
    "duration": 46,
    "start_time": "2022-07-05T17:53:57.180Z"
   },
   {
    "duration": 161,
    "start_time": "2022-07-05T17:53:57.228Z"
   },
   {
    "duration": 36,
    "start_time": "2022-07-05T17:53:57.391Z"
   },
   {
    "duration": 165,
    "start_time": "2022-07-05T17:53:57.429Z"
   },
   {
    "duration": 392,
    "start_time": "2022-07-05T17:53:57.601Z"
   },
   {
    "duration": 13,
    "start_time": "2022-07-05T17:53:57.995Z"
   },
   {
    "duration": 139,
    "start_time": "2022-07-05T17:53:58.009Z"
   },
   {
    "duration": 126,
    "start_time": "2022-07-05T17:53:58.149Z"
   },
   {
    "duration": 158,
    "start_time": "2022-07-05T17:53:58.279Z"
   },
   {
    "duration": 265,
    "start_time": "2022-07-05T17:53:58.438Z"
   },
   {
    "duration": 8,
    "start_time": "2022-07-05T17:53:58.705Z"
   },
   {
    "duration": 806,
    "start_time": "2022-07-05T17:53:58.715Z"
   },
   {
    "duration": 2856,
    "start_time": "2022-07-05T17:53:59.523Z"
   },
   {
    "duration": 106,
    "start_time": "2022-07-05T17:54:02.381Z"
   },
   {
    "duration": 0,
    "start_time": "2022-07-05T17:54:02.488Z"
   },
   {
    "duration": 0,
    "start_time": "2022-07-05T17:54:02.489Z"
   },
   {
    "duration": 0,
    "start_time": "2022-07-05T17:54:02.490Z"
   },
   {
    "duration": 0,
    "start_time": "2022-07-05T17:54:02.492Z"
   },
   {
    "duration": 3,
    "start_time": "2022-07-05T17:54:33.177Z"
   },
   {
    "duration": 111,
    "start_time": "2022-07-05T17:54:33.190Z"
   },
   {
    "duration": 15,
    "start_time": "2022-07-05T17:54:33.303Z"
   },
   {
    "duration": 2119,
    "start_time": "2022-07-05T17:54:33.320Z"
   },
   {
    "duration": 8,
    "start_time": "2022-07-05T17:54:35.441Z"
   },
   {
    "duration": 4,
    "start_time": "2022-07-05T17:54:35.451Z"
   },
   {
    "duration": 7,
    "start_time": "2022-07-05T17:54:35.457Z"
   },
   {
    "duration": 9,
    "start_time": "2022-07-05T17:54:35.465Z"
   },
   {
    "duration": 28,
    "start_time": "2022-07-05T17:54:35.475Z"
   },
   {
    "duration": 18,
    "start_time": "2022-07-05T17:54:35.505Z"
   },
   {
    "duration": 5,
    "start_time": "2022-07-05T17:54:35.524Z"
   },
   {
    "duration": 12,
    "start_time": "2022-07-05T17:54:35.530Z"
   },
   {
    "duration": 9,
    "start_time": "2022-07-05T17:54:35.543Z"
   },
   {
    "duration": 158,
    "start_time": "2022-07-05T17:54:35.553Z"
   },
   {
    "duration": 3,
    "start_time": "2022-07-05T17:54:35.714Z"
   },
   {
    "duration": 13,
    "start_time": "2022-07-05T17:54:35.718Z"
   },
   {
    "duration": 3,
    "start_time": "2022-07-05T17:54:35.733Z"
   },
   {
    "duration": 13,
    "start_time": "2022-07-05T17:54:35.737Z"
   },
   {
    "duration": 4,
    "start_time": "2022-07-05T17:54:35.752Z"
   },
   {
    "duration": 8,
    "start_time": "2022-07-05T17:54:35.757Z"
   },
   {
    "duration": 6,
    "start_time": "2022-07-05T17:54:35.766Z"
   },
   {
    "duration": 43,
    "start_time": "2022-07-05T17:54:35.773Z"
   },
   {
    "duration": 319,
    "start_time": "2022-07-05T17:54:35.818Z"
   },
   {
    "duration": 25,
    "start_time": "2022-07-05T17:54:36.138Z"
   },
   {
    "duration": 8,
    "start_time": "2022-07-05T17:54:36.165Z"
   },
   {
    "duration": 155,
    "start_time": "2022-07-05T17:54:36.174Z"
   },
   {
    "duration": 9,
    "start_time": "2022-07-05T17:54:36.330Z"
   },
   {
    "duration": 196,
    "start_time": "2022-07-05T17:54:36.341Z"
   },
   {
    "duration": 10,
    "start_time": "2022-07-05T17:54:36.538Z"
   },
   {
    "duration": 317,
    "start_time": "2022-07-05T17:54:36.549Z"
   },
   {
    "duration": 17,
    "start_time": "2022-07-05T17:54:36.868Z"
   },
   {
    "duration": 148,
    "start_time": "2022-07-05T17:54:36.887Z"
   },
   {
    "duration": 38,
    "start_time": "2022-07-05T17:54:37.036Z"
   },
   {
    "duration": 174,
    "start_time": "2022-07-05T17:54:37.076Z"
   },
   {
    "duration": 31,
    "start_time": "2022-07-05T17:54:37.251Z"
   },
   {
    "duration": 170,
    "start_time": "2022-07-05T17:54:37.284Z"
   },
   {
    "duration": 407,
    "start_time": "2022-07-05T17:54:37.455Z"
   },
   {
    "duration": 9,
    "start_time": "2022-07-05T17:54:37.864Z"
   },
   {
    "duration": 147,
    "start_time": "2022-07-05T17:54:37.874Z"
   },
   {
    "duration": 136,
    "start_time": "2022-07-05T17:54:38.022Z"
   },
   {
    "duration": 149,
    "start_time": "2022-07-05T17:54:38.160Z"
   },
   {
    "duration": 273,
    "start_time": "2022-07-05T17:54:38.313Z"
   },
   {
    "duration": 15,
    "start_time": "2022-07-05T17:54:38.588Z"
   },
   {
    "duration": 730,
    "start_time": "2022-07-05T17:54:38.605Z"
   },
   {
    "duration": 2886,
    "start_time": "2022-07-05T17:54:39.337Z"
   },
   {
    "duration": 99,
    "start_time": "2022-07-05T17:54:42.226Z"
   },
   {
    "duration": 0,
    "start_time": "2022-07-05T17:54:42.327Z"
   },
   {
    "duration": 0,
    "start_time": "2022-07-05T17:54:42.328Z"
   },
   {
    "duration": 0,
    "start_time": "2022-07-05T17:54:42.329Z"
   },
   {
    "duration": 0,
    "start_time": "2022-07-05T17:54:42.331Z"
   },
   {
    "duration": 4,
    "start_time": "2022-07-05T17:55:33.120Z"
   },
   {
    "duration": 103,
    "start_time": "2022-07-05T17:55:33.137Z"
   },
   {
    "duration": 14,
    "start_time": "2022-07-05T17:55:33.242Z"
   },
   {
    "duration": 2275,
    "start_time": "2022-07-05T17:55:33.257Z"
   },
   {
    "duration": 9,
    "start_time": "2022-07-05T17:55:35.534Z"
   },
   {
    "duration": 8,
    "start_time": "2022-07-05T17:55:35.545Z"
   },
   {
    "duration": 9,
    "start_time": "2022-07-05T17:55:35.555Z"
   },
   {
    "duration": 26,
    "start_time": "2022-07-05T17:55:35.566Z"
   },
   {
    "duration": 9,
    "start_time": "2022-07-05T17:55:35.594Z"
   },
   {
    "duration": 33,
    "start_time": "2022-07-05T17:55:35.605Z"
   },
   {
    "duration": 6,
    "start_time": "2022-07-05T17:55:35.640Z"
   },
   {
    "duration": 16,
    "start_time": "2022-07-05T17:55:35.648Z"
   },
   {
    "duration": 25,
    "start_time": "2022-07-05T17:55:35.666Z"
   },
   {
    "duration": 179,
    "start_time": "2022-07-05T17:55:35.693Z"
   },
   {
    "duration": 3,
    "start_time": "2022-07-05T17:55:35.875Z"
   },
   {
    "duration": 15,
    "start_time": "2022-07-05T17:55:35.879Z"
   },
   {
    "duration": 4,
    "start_time": "2022-07-05T17:55:35.901Z"
   },
   {
    "duration": 29,
    "start_time": "2022-07-05T17:55:35.906Z"
   },
   {
    "duration": 14,
    "start_time": "2022-07-05T17:55:35.937Z"
   },
   {
    "duration": 11,
    "start_time": "2022-07-05T17:55:35.953Z"
   },
   {
    "duration": 5,
    "start_time": "2022-07-05T17:55:35.965Z"
   },
   {
    "duration": 33,
    "start_time": "2022-07-05T17:55:35.972Z"
   },
   {
    "duration": 309,
    "start_time": "2022-07-05T17:55:36.007Z"
   },
   {
    "duration": 25,
    "start_time": "2022-07-05T17:55:36.318Z"
   },
   {
    "duration": 9,
    "start_time": "2022-07-05T17:55:36.345Z"
   },
   {
    "duration": 162,
    "start_time": "2022-07-05T17:55:36.356Z"
   },
   {
    "duration": 10,
    "start_time": "2022-07-05T17:55:36.519Z"
   },
   {
    "duration": 186,
    "start_time": "2022-07-05T17:55:36.531Z"
   },
   {
    "duration": 10,
    "start_time": "2022-07-05T17:55:36.719Z"
   },
   {
    "duration": 146,
    "start_time": "2022-07-05T17:55:36.730Z"
   },
   {
    "duration": 26,
    "start_time": "2022-07-05T17:55:36.878Z"
   },
   {
    "duration": 134,
    "start_time": "2022-07-05T17:55:36.906Z"
   },
   {
    "duration": 40,
    "start_time": "2022-07-05T17:55:37.041Z"
   },
   {
    "duration": 176,
    "start_time": "2022-07-05T17:55:37.083Z"
   },
   {
    "duration": 41,
    "start_time": "2022-07-05T17:55:37.261Z"
   },
   {
    "duration": 158,
    "start_time": "2022-07-05T17:55:37.304Z"
   },
   {
    "duration": 398,
    "start_time": "2022-07-05T17:55:37.465Z"
   },
   {
    "duration": 9,
    "start_time": "2022-07-05T17:55:37.865Z"
   },
   {
    "duration": 154,
    "start_time": "2022-07-05T17:55:37.875Z"
   },
   {
    "duration": 137,
    "start_time": "2022-07-05T17:55:38.031Z"
   },
   {
    "duration": 157,
    "start_time": "2022-07-05T17:55:38.170Z"
   },
   {
    "duration": 289,
    "start_time": "2022-07-05T17:55:38.331Z"
   },
   {
    "duration": 9,
    "start_time": "2022-07-05T17:55:38.622Z"
   },
   {
    "duration": 1043,
    "start_time": "2022-07-05T17:55:38.632Z"
   },
   {
    "duration": 2745,
    "start_time": "2022-07-05T17:55:39.676Z"
   },
   {
    "duration": 21,
    "start_time": "2022-07-05T17:55:42.423Z"
   },
   {
    "duration": 0,
    "start_time": "2022-07-05T17:55:42.446Z"
   },
   {
    "duration": 0,
    "start_time": "2022-07-05T17:55:42.447Z"
   },
   {
    "duration": 0,
    "start_time": "2022-07-05T17:55:42.449Z"
   },
   {
    "duration": 0,
    "start_time": "2022-07-05T17:55:42.450Z"
   },
   {
    "duration": 23,
    "start_time": "2022-07-05T17:56:12.748Z"
   },
   {
    "duration": 3,
    "start_time": "2022-07-05T17:59:06.761Z"
   },
   {
    "duration": 109,
    "start_time": "2022-07-05T17:59:06.766Z"
   },
   {
    "duration": 25,
    "start_time": "2022-07-05T17:59:06.877Z"
   },
   {
    "duration": 2190,
    "start_time": "2022-07-05T17:59:06.903Z"
   },
   {
    "duration": 9,
    "start_time": "2022-07-05T17:59:09.100Z"
   },
   {
    "duration": 4,
    "start_time": "2022-07-05T17:59:09.110Z"
   },
   {
    "duration": 8,
    "start_time": "2022-07-05T17:59:09.115Z"
   },
   {
    "duration": 9,
    "start_time": "2022-07-05T17:59:09.125Z"
   },
   {
    "duration": 4,
    "start_time": "2022-07-05T17:59:09.135Z"
   },
   {
    "duration": 21,
    "start_time": "2022-07-05T17:59:09.141Z"
   },
   {
    "duration": 6,
    "start_time": "2022-07-05T17:59:09.163Z"
   },
   {
    "duration": 12,
    "start_time": "2022-07-05T17:59:09.170Z"
   },
   {
    "duration": 7,
    "start_time": "2022-07-05T17:59:09.200Z"
   },
   {
    "duration": 144,
    "start_time": "2022-07-05T17:59:09.208Z"
   },
   {
    "duration": 2,
    "start_time": "2022-07-05T17:59:09.354Z"
   },
   {
    "duration": 12,
    "start_time": "2022-07-05T17:59:09.357Z"
   },
   {
    "duration": 4,
    "start_time": "2022-07-05T17:59:09.371Z"
   },
   {
    "duration": 24,
    "start_time": "2022-07-05T17:59:09.377Z"
   },
   {
    "duration": 4,
    "start_time": "2022-07-05T17:59:09.403Z"
   },
   {
    "duration": 13,
    "start_time": "2022-07-05T17:59:09.408Z"
   },
   {
    "duration": 5,
    "start_time": "2022-07-05T17:59:09.422Z"
   },
   {
    "duration": 17,
    "start_time": "2022-07-05T17:59:09.429Z"
   },
   {
    "duration": 309,
    "start_time": "2022-07-05T17:59:09.447Z"
   },
   {
    "duration": 27,
    "start_time": "2022-07-05T17:59:09.758Z"
   },
   {
    "duration": 20,
    "start_time": "2022-07-05T17:59:09.787Z"
   },
   {
    "duration": 148,
    "start_time": "2022-07-05T17:59:09.809Z"
   },
   {
    "duration": 9,
    "start_time": "2022-07-05T17:59:09.959Z"
   },
   {
    "duration": 174,
    "start_time": "2022-07-05T17:59:09.970Z"
   },
   {
    "duration": 9,
    "start_time": "2022-07-05T17:59:10.145Z"
   },
   {
    "duration": 149,
    "start_time": "2022-07-05T17:59:10.156Z"
   },
   {
    "duration": 16,
    "start_time": "2022-07-05T17:59:10.306Z"
   },
   {
    "duration": 146,
    "start_time": "2022-07-05T17:59:10.324Z"
   },
   {
    "duration": 43,
    "start_time": "2022-07-05T17:59:10.472Z"
   },
   {
    "duration": 150,
    "start_time": "2022-07-05T17:59:10.517Z"
   },
   {
    "duration": 37,
    "start_time": "2022-07-05T17:59:10.669Z"
   },
   {
    "duration": 160,
    "start_time": "2022-07-05T17:59:10.708Z"
   },
   {
    "duration": 418,
    "start_time": "2022-07-05T17:59:10.872Z"
   },
   {
    "duration": 9,
    "start_time": "2022-07-05T17:59:11.300Z"
   },
   {
    "duration": 139,
    "start_time": "2022-07-05T17:59:11.311Z"
   },
   {
    "duration": 138,
    "start_time": "2022-07-05T17:59:11.452Z"
   },
   {
    "duration": 145,
    "start_time": "2022-07-05T17:59:11.592Z"
   },
   {
    "duration": 263,
    "start_time": "2022-07-05T17:59:11.739Z"
   },
   {
    "duration": 9,
    "start_time": "2022-07-05T17:59:12.004Z"
   },
   {
    "duration": 716,
    "start_time": "2022-07-05T17:59:12.014Z"
   },
   {
    "duration": 3098,
    "start_time": "2022-07-05T17:59:12.732Z"
   },
   {
    "duration": 24,
    "start_time": "2022-07-05T17:59:15.831Z"
   },
   {
    "duration": 8,
    "start_time": "2022-07-05T17:59:15.856Z"
   },
   {
    "duration": 48,
    "start_time": "2022-07-05T17:59:15.865Z"
   },
   {
    "duration": 13,
    "start_time": "2022-07-05T17:59:15.915Z"
   },
   {
    "duration": 5,
    "start_time": "2022-07-05T17:59:15.929Z"
   },
   {
    "duration": 3,
    "start_time": "2022-07-05T18:14:41.298Z"
   },
   {
    "duration": 105,
    "start_time": "2022-07-05T18:14:41.303Z"
   },
   {
    "duration": 14,
    "start_time": "2022-07-05T18:14:41.409Z"
   },
   {
    "duration": 1861,
    "start_time": "2022-07-05T18:14:41.425Z"
   },
   {
    "duration": 14,
    "start_time": "2022-07-05T18:14:43.287Z"
   },
   {
    "duration": 4,
    "start_time": "2022-07-05T18:14:43.303Z"
   },
   {
    "duration": 10,
    "start_time": "2022-07-05T18:14:43.308Z"
   },
   {
    "duration": 8,
    "start_time": "2022-07-05T18:14:43.319Z"
   },
   {
    "duration": 4,
    "start_time": "2022-07-05T18:14:43.330Z"
   },
   {
    "duration": 10,
    "start_time": "2022-07-05T18:14:43.336Z"
   },
   {
    "duration": 4,
    "start_time": "2022-07-05T18:14:43.347Z"
   },
   {
    "duration": 12,
    "start_time": "2022-07-05T18:14:43.353Z"
   },
   {
    "duration": 11,
    "start_time": "2022-07-05T18:14:43.366Z"
   },
   {
    "duration": 24,
    "start_time": "2022-07-05T18:14:43.378Z"
   },
   {
    "duration": 8,
    "start_time": "2022-07-05T18:14:43.404Z"
   },
   {
    "duration": 128,
    "start_time": "2022-07-05T18:14:43.413Z"
   },
   {
    "duration": 8,
    "start_time": "2022-07-05T18:14:43.543Z"
   },
   {
    "duration": 8,
    "start_time": "2022-07-05T18:14:43.553Z"
   },
   {
    "duration": 12,
    "start_time": "2022-07-05T18:14:43.563Z"
   },
   {
    "duration": 4,
    "start_time": "2022-07-05T18:14:43.576Z"
   },
   {
    "duration": 23,
    "start_time": "2022-07-05T18:14:43.581Z"
   },
   {
    "duration": 5,
    "start_time": "2022-07-05T18:14:43.606Z"
   },
   {
    "duration": 20,
    "start_time": "2022-07-05T18:14:43.614Z"
   },
   {
    "duration": 318,
    "start_time": "2022-07-05T18:14:43.636Z"
   },
   {
    "duration": 28,
    "start_time": "2022-07-05T18:14:43.956Z"
   },
   {
    "duration": 21,
    "start_time": "2022-07-05T18:14:43.987Z"
   },
   {
    "duration": 146,
    "start_time": "2022-07-05T18:14:44.010Z"
   },
   {
    "duration": 10,
    "start_time": "2022-07-05T18:14:44.157Z"
   },
   {
    "duration": 176,
    "start_time": "2022-07-05T18:14:44.168Z"
   },
   {
    "duration": 8,
    "start_time": "2022-07-05T18:14:44.346Z"
   },
   {
    "duration": 154,
    "start_time": "2022-07-05T18:14:44.356Z"
   },
   {
    "duration": 18,
    "start_time": "2022-07-05T18:14:44.512Z"
   },
   {
    "duration": 144,
    "start_time": "2022-07-05T18:14:44.532Z"
   },
   {
    "duration": 47,
    "start_time": "2022-07-05T18:14:44.677Z"
   },
   {
    "duration": 171,
    "start_time": "2022-07-05T18:14:44.726Z"
   },
   {
    "duration": 33,
    "start_time": "2022-07-05T18:14:44.900Z"
   },
   {
    "duration": 179,
    "start_time": "2022-07-05T18:14:44.935Z"
   },
   {
    "duration": 461,
    "start_time": "2022-07-05T18:14:45.116Z"
   },
   {
    "duration": 10,
    "start_time": "2022-07-05T18:14:45.579Z"
   },
   {
    "duration": 155,
    "start_time": "2022-07-05T18:14:45.601Z"
   },
   {
    "duration": 128,
    "start_time": "2022-07-05T18:14:45.758Z"
   },
   {
    "duration": 159,
    "start_time": "2022-07-05T18:14:45.888Z"
   },
   {
    "duration": 272,
    "start_time": "2022-07-05T18:14:46.049Z"
   },
   {
    "duration": 9,
    "start_time": "2022-07-05T18:14:46.323Z"
   },
   {
    "duration": 749,
    "start_time": "2022-07-05T18:14:46.334Z"
   },
   {
    "duration": 3221,
    "start_time": "2022-07-05T18:14:47.085Z"
   },
   {
    "duration": 24,
    "start_time": "2022-07-05T18:14:50.308Z"
   },
   {
    "duration": 8,
    "start_time": "2022-07-05T18:14:50.334Z"
   },
   {
    "duration": 24,
    "start_time": "2022-07-05T18:14:50.344Z"
   },
   {
    "duration": 41,
    "start_time": "2022-07-05T18:14:50.369Z"
   },
   {
    "duration": 5,
    "start_time": "2022-07-05T18:14:50.412Z"
   },
   {
    "duration": 2,
    "start_time": "2022-07-05T18:16:19.132Z"
   },
   {
    "duration": 111,
    "start_time": "2022-07-05T18:16:19.136Z"
   },
   {
    "duration": 16,
    "start_time": "2022-07-05T18:16:19.249Z"
   },
   {
    "duration": 1890,
    "start_time": "2022-07-05T18:16:19.267Z"
   },
   {
    "duration": 9,
    "start_time": "2022-07-05T18:16:21.159Z"
   },
   {
    "duration": 6,
    "start_time": "2022-07-05T18:16:21.170Z"
   },
   {
    "duration": 26,
    "start_time": "2022-07-05T18:16:21.177Z"
   },
   {
    "duration": 8,
    "start_time": "2022-07-05T18:16:21.204Z"
   },
   {
    "duration": 7,
    "start_time": "2022-07-05T18:16:21.214Z"
   },
   {
    "duration": 9,
    "start_time": "2022-07-05T18:16:21.222Z"
   },
   {
    "duration": 3,
    "start_time": "2022-07-05T18:16:21.234Z"
   },
   {
    "duration": 11,
    "start_time": "2022-07-05T18:16:21.239Z"
   },
   {
    "duration": 10,
    "start_time": "2022-07-05T18:16:21.251Z"
   },
   {
    "duration": 173,
    "start_time": "2022-07-05T18:16:21.263Z"
   },
   {
    "duration": 2,
    "start_time": "2022-07-05T18:16:21.438Z"
   },
   {
    "duration": 9,
    "start_time": "2022-07-05T18:16:21.441Z"
   },
   {
    "duration": 751,
    "start_time": "2022-07-05T18:16:21.451Z"
   },
   {
    "duration": 0,
    "start_time": "2022-07-05T18:16:22.205Z"
   },
   {
    "duration": 0,
    "start_time": "2022-07-05T18:16:22.206Z"
   },
   {
    "duration": 0,
    "start_time": "2022-07-05T18:16:22.207Z"
   },
   {
    "duration": 0,
    "start_time": "2022-07-05T18:16:22.208Z"
   },
   {
    "duration": 0,
    "start_time": "2022-07-05T18:16:22.210Z"
   },
   {
    "duration": 0,
    "start_time": "2022-07-05T18:16:22.211Z"
   },
   {
    "duration": 0,
    "start_time": "2022-07-05T18:16:22.212Z"
   },
   {
    "duration": 0,
    "start_time": "2022-07-05T18:16:22.213Z"
   },
   {
    "duration": 0,
    "start_time": "2022-07-05T18:16:22.214Z"
   },
   {
    "duration": 0,
    "start_time": "2022-07-05T18:16:22.215Z"
   },
   {
    "duration": 0,
    "start_time": "2022-07-05T18:16:22.216Z"
   },
   {
    "duration": 0,
    "start_time": "2022-07-05T18:16:22.217Z"
   },
   {
    "duration": 0,
    "start_time": "2022-07-05T18:16:22.218Z"
   },
   {
    "duration": 0,
    "start_time": "2022-07-05T18:16:22.219Z"
   },
   {
    "duration": 0,
    "start_time": "2022-07-05T18:16:22.220Z"
   },
   {
    "duration": 0,
    "start_time": "2022-07-05T18:16:22.221Z"
   },
   {
    "duration": 0,
    "start_time": "2022-07-05T18:16:22.222Z"
   },
   {
    "duration": 0,
    "start_time": "2022-07-05T18:16:22.223Z"
   },
   {
    "duration": 0,
    "start_time": "2022-07-05T18:16:22.225Z"
   },
   {
    "duration": 0,
    "start_time": "2022-07-05T18:16:22.226Z"
   },
   {
    "duration": 0,
    "start_time": "2022-07-05T18:16:22.227Z"
   },
   {
    "duration": 0,
    "start_time": "2022-07-05T18:16:22.228Z"
   },
   {
    "duration": 0,
    "start_time": "2022-07-05T18:16:22.229Z"
   },
   {
    "duration": 0,
    "start_time": "2022-07-05T18:16:22.230Z"
   },
   {
    "duration": 0,
    "start_time": "2022-07-05T18:16:22.231Z"
   },
   {
    "duration": 0,
    "start_time": "2022-07-05T18:16:22.232Z"
   },
   {
    "duration": 0,
    "start_time": "2022-07-05T18:16:22.233Z"
   },
   {
    "duration": 0,
    "start_time": "2022-07-05T18:16:22.234Z"
   },
   {
    "duration": 0,
    "start_time": "2022-07-05T18:16:22.235Z"
   },
   {
    "duration": 0,
    "start_time": "2022-07-05T18:16:22.236Z"
   },
   {
    "duration": 0,
    "start_time": "2022-07-05T18:16:22.237Z"
   },
   {
    "duration": 0,
    "start_time": "2022-07-05T18:16:22.238Z"
   },
   {
    "duration": 0,
    "start_time": "2022-07-05T18:16:22.239Z"
   },
   {
    "duration": 0,
    "start_time": "2022-07-05T18:16:22.240Z"
   },
   {
    "duration": 2,
    "start_time": "2022-07-05T18:16:51.279Z"
   },
   {
    "duration": 104,
    "start_time": "2022-07-05T18:16:51.283Z"
   },
   {
    "duration": 22,
    "start_time": "2022-07-05T18:16:51.389Z"
   },
   {
    "duration": 1790,
    "start_time": "2022-07-05T18:16:51.412Z"
   },
   {
    "duration": 10,
    "start_time": "2022-07-05T18:16:53.204Z"
   },
   {
    "duration": 6,
    "start_time": "2022-07-05T18:16:53.215Z"
   },
   {
    "duration": 8,
    "start_time": "2022-07-05T18:16:53.223Z"
   },
   {
    "duration": 10,
    "start_time": "2022-07-05T18:16:53.233Z"
   },
   {
    "duration": 9,
    "start_time": "2022-07-05T18:16:53.245Z"
   },
   {
    "duration": 13,
    "start_time": "2022-07-05T18:16:53.256Z"
   },
   {
    "duration": 6,
    "start_time": "2022-07-05T18:16:53.271Z"
   },
   {
    "duration": 22,
    "start_time": "2022-07-05T18:16:53.279Z"
   },
   {
    "duration": 8,
    "start_time": "2022-07-05T18:16:53.304Z"
   },
   {
    "duration": 162,
    "start_time": "2022-07-05T18:16:53.314Z"
   },
   {
    "duration": 3,
    "start_time": "2022-07-05T18:16:53.477Z"
   },
   {
    "duration": 5,
    "start_time": "2022-07-05T18:16:53.482Z"
   },
   {
    "duration": 17,
    "start_time": "2022-07-05T18:16:53.489Z"
   },
   {
    "duration": 23,
    "start_time": "2022-07-05T18:16:53.512Z"
   },
   {
    "duration": 13,
    "start_time": "2022-07-05T18:16:53.537Z"
   },
   {
    "duration": 4,
    "start_time": "2022-07-05T18:16:53.551Z"
   },
   {
    "duration": 8,
    "start_time": "2022-07-05T18:16:53.557Z"
   },
   {
    "duration": 6,
    "start_time": "2022-07-05T18:16:53.567Z"
   },
   {
    "duration": 17,
    "start_time": "2022-07-05T18:16:53.575Z"
   },
   {
    "duration": 277,
    "start_time": "2022-07-05T18:16:53.600Z"
   },
   {
    "duration": 35,
    "start_time": "2022-07-05T18:16:53.879Z"
   },
   {
    "duration": 11,
    "start_time": "2022-07-05T18:16:53.915Z"
   },
   {
    "duration": 156,
    "start_time": "2022-07-05T18:16:53.928Z"
   },
   {
    "duration": 9,
    "start_time": "2022-07-05T18:16:54.085Z"
   },
   {
    "duration": 162,
    "start_time": "2022-07-05T18:16:54.101Z"
   },
   {
    "duration": 9,
    "start_time": "2022-07-05T18:16:54.265Z"
   },
   {
    "duration": 143,
    "start_time": "2022-07-05T18:16:54.276Z"
   },
   {
    "duration": 17,
    "start_time": "2022-07-05T18:16:54.421Z"
   },
   {
    "duration": 142,
    "start_time": "2022-07-05T18:16:54.439Z"
   },
   {
    "duration": 42,
    "start_time": "2022-07-05T18:16:54.583Z"
   },
   {
    "duration": 145,
    "start_time": "2022-07-05T18:16:54.626Z"
   },
   {
    "duration": 39,
    "start_time": "2022-07-05T18:16:54.773Z"
   },
   {
    "duration": 149,
    "start_time": "2022-07-05T18:16:54.813Z"
   },
   {
    "duration": 416,
    "start_time": "2022-07-05T18:16:54.964Z"
   },
   {
    "duration": 9,
    "start_time": "2022-07-05T18:16:55.381Z"
   },
   {
    "duration": 156,
    "start_time": "2022-07-05T18:16:55.392Z"
   },
   {
    "duration": 122,
    "start_time": "2022-07-05T18:16:55.552Z"
   },
   {
    "duration": 149,
    "start_time": "2022-07-05T18:16:55.675Z"
   },
   {
    "duration": 267,
    "start_time": "2022-07-05T18:16:55.825Z"
   },
   {
    "duration": 14,
    "start_time": "2022-07-05T18:16:56.093Z"
   },
   {
    "duration": 694,
    "start_time": "2022-07-05T18:16:56.108Z"
   },
   {
    "duration": 3229,
    "start_time": "2022-07-05T18:16:56.804Z"
   },
   {
    "duration": 24,
    "start_time": "2022-07-05T18:17:00.035Z"
   },
   {
    "duration": 8,
    "start_time": "2022-07-05T18:17:00.060Z"
   },
   {
    "duration": 48,
    "start_time": "2022-07-05T18:17:00.069Z"
   },
   {
    "duration": 12,
    "start_time": "2022-07-05T18:17:00.119Z"
   },
   {
    "duration": 6,
    "start_time": "2022-07-05T18:17:00.133Z"
   },
   {
    "duration": 14,
    "start_time": "2022-07-05T18:17:58.677Z"
   },
   {
    "duration": 3,
    "start_time": "2022-07-05T18:28:00.420Z"
   },
   {
    "duration": 124,
    "start_time": "2022-07-05T18:28:00.425Z"
   },
   {
    "duration": 14,
    "start_time": "2022-07-05T18:28:00.551Z"
   },
   {
    "duration": 1938,
    "start_time": "2022-07-05T18:28:00.567Z"
   },
   {
    "duration": 8,
    "start_time": "2022-07-05T18:28:02.508Z"
   },
   {
    "duration": 5,
    "start_time": "2022-07-05T18:28:02.518Z"
   },
   {
    "duration": 14,
    "start_time": "2022-07-05T18:28:02.524Z"
   },
   {
    "duration": 9,
    "start_time": "2022-07-05T18:28:02.540Z"
   },
   {
    "duration": 8,
    "start_time": "2022-07-05T18:28:02.550Z"
   },
   {
    "duration": 16,
    "start_time": "2022-07-05T18:28:02.560Z"
   },
   {
    "duration": 21,
    "start_time": "2022-07-05T18:28:02.580Z"
   },
   {
    "duration": 8,
    "start_time": "2022-07-05T18:28:02.603Z"
   },
   {
    "duration": 14,
    "start_time": "2022-07-05T18:28:02.612Z"
   },
   {
    "duration": 27,
    "start_time": "2022-07-05T18:28:02.627Z"
   },
   {
    "duration": 8,
    "start_time": "2022-07-05T18:28:02.656Z"
   },
   {
    "duration": 3,
    "start_time": "2022-07-05T18:28:02.665Z"
   },
   {
    "duration": 13,
    "start_time": "2022-07-05T18:28:02.669Z"
   },
   {
    "duration": 20,
    "start_time": "2022-07-05T18:28:02.684Z"
   },
   {
    "duration": 12,
    "start_time": "2022-07-05T18:28:02.706Z"
   },
   {
    "duration": 10,
    "start_time": "2022-07-05T18:28:02.720Z"
   },
   {
    "duration": 4,
    "start_time": "2022-07-05T18:28:02.731Z"
   },
   {
    "duration": 9,
    "start_time": "2022-07-05T18:28:02.737Z"
   },
   {
    "duration": 9,
    "start_time": "2022-07-05T18:28:02.748Z"
   },
   {
    "duration": 46,
    "start_time": "2022-07-05T18:28:02.759Z"
   },
   {
    "duration": 288,
    "start_time": "2022-07-05T18:28:02.807Z"
   },
   {
    "duration": 25,
    "start_time": "2022-07-05T18:28:03.097Z"
   },
   {
    "duration": 7,
    "start_time": "2022-07-05T18:28:03.124Z"
   },
   {
    "duration": 150,
    "start_time": "2022-07-05T18:28:03.133Z"
   },
   {
    "duration": 18,
    "start_time": "2022-07-05T18:28:03.287Z"
   },
   {
    "duration": 168,
    "start_time": "2022-07-05T18:28:03.306Z"
   },
   {
    "duration": 9,
    "start_time": "2022-07-05T18:28:03.476Z"
   },
   {
    "duration": 134,
    "start_time": "2022-07-05T18:28:03.500Z"
   },
   {
    "duration": 15,
    "start_time": "2022-07-05T18:28:03.636Z"
   },
   {
    "duration": 134,
    "start_time": "2022-07-05T18:28:03.653Z"
   },
   {
    "duration": 42,
    "start_time": "2022-07-05T18:28:03.788Z"
   },
   {
    "duration": 171,
    "start_time": "2022-07-05T18:28:03.832Z"
   },
   {
    "duration": 32,
    "start_time": "2022-07-05T18:28:04.005Z"
   },
   {
    "duration": 152,
    "start_time": "2022-07-05T18:28:04.039Z"
   },
   {
    "duration": 389,
    "start_time": "2022-07-05T18:28:04.192Z"
   },
   {
    "duration": 18,
    "start_time": "2022-07-05T18:28:04.583Z"
   },
   {
    "duration": 143,
    "start_time": "2022-07-05T18:28:04.603Z"
   },
   {
    "duration": 130,
    "start_time": "2022-07-05T18:28:04.748Z"
   },
   {
    "duration": 151,
    "start_time": "2022-07-05T18:28:04.879Z"
   },
   {
    "duration": 335,
    "start_time": "2022-07-05T18:28:05.032Z"
   },
   {
    "duration": 10,
    "start_time": "2022-07-05T18:28:05.368Z"
   },
   {
    "duration": 767,
    "start_time": "2022-07-05T18:28:05.380Z"
   },
   {
    "duration": 3351,
    "start_time": "2022-07-05T18:28:06.149Z"
   },
   {
    "duration": 24,
    "start_time": "2022-07-05T18:28:09.502Z"
   },
   {
    "duration": 8,
    "start_time": "2022-07-05T18:28:09.527Z"
   },
   {
    "duration": 20,
    "start_time": "2022-07-05T18:28:09.537Z"
   },
   {
    "duration": 42,
    "start_time": "2022-07-05T18:28:09.559Z"
   },
   {
    "duration": 5,
    "start_time": "2022-07-05T18:28:09.602Z"
   },
   {
    "duration": 2,
    "start_time": "2022-07-05T18:30:13.776Z"
   },
   {
    "duration": 105,
    "start_time": "2022-07-05T18:30:13.788Z"
   },
   {
    "duration": 19,
    "start_time": "2022-07-05T18:30:13.901Z"
   },
   {
    "duration": 1895,
    "start_time": "2022-07-05T18:30:13.922Z"
   },
   {
    "duration": 8,
    "start_time": "2022-07-05T18:30:15.819Z"
   },
   {
    "duration": 5,
    "start_time": "2022-07-05T18:30:15.830Z"
   },
   {
    "duration": 5,
    "start_time": "2022-07-05T18:30:15.837Z"
   },
   {
    "duration": 9,
    "start_time": "2022-07-05T18:30:15.844Z"
   },
   {
    "duration": 4,
    "start_time": "2022-07-05T18:30:15.855Z"
   },
   {
    "duration": 11,
    "start_time": "2022-07-05T18:30:15.860Z"
   },
   {
    "duration": 4,
    "start_time": "2022-07-05T18:30:15.872Z"
   },
   {
    "duration": 7,
    "start_time": "2022-07-05T18:30:15.901Z"
   },
   {
    "duration": 11,
    "start_time": "2022-07-05T18:30:15.910Z"
   },
   {
    "duration": 162,
    "start_time": "2022-07-05T18:30:15.923Z"
   },
   {
    "duration": 2,
    "start_time": "2022-07-05T18:30:16.088Z"
   },
   {
    "duration": 8,
    "start_time": "2022-07-05T18:30:16.100Z"
   },
   {
    "duration": 18,
    "start_time": "2022-07-05T18:30:16.109Z"
   },
   {
    "duration": 16,
    "start_time": "2022-07-05T18:30:16.128Z"
   },
   {
    "duration": 6,
    "start_time": "2022-07-05T18:30:16.146Z"
   },
   {
    "duration": 8,
    "start_time": "2022-07-05T18:30:16.153Z"
   },
   {
    "duration": 6,
    "start_time": "2022-07-05T18:30:16.163Z"
   },
   {
    "duration": 30,
    "start_time": "2022-07-05T18:30:16.171Z"
   },
   {
    "duration": 284,
    "start_time": "2022-07-05T18:30:16.203Z"
   },
   {
    "duration": 33,
    "start_time": "2022-07-05T18:30:16.489Z"
   },
   {
    "duration": 8,
    "start_time": "2022-07-05T18:30:16.524Z"
   },
   {
    "duration": 147,
    "start_time": "2022-07-05T18:30:16.534Z"
   },
   {
    "duration": 9,
    "start_time": "2022-07-05T18:30:16.682Z"
   },
   {
    "duration": 174,
    "start_time": "2022-07-05T18:30:16.692Z"
   },
   {
    "duration": 10,
    "start_time": "2022-07-05T18:30:16.867Z"
   },
   {
    "duration": 145,
    "start_time": "2022-07-05T18:30:16.878Z"
   },
   {
    "duration": 16,
    "start_time": "2022-07-05T18:30:17.025Z"
   },
   {
    "duration": 133,
    "start_time": "2022-07-05T18:30:17.043Z"
   },
   {
    "duration": 42,
    "start_time": "2022-07-05T18:30:17.177Z"
   },
   {
    "duration": 160,
    "start_time": "2022-07-05T18:30:17.221Z"
   },
   {
    "duration": 36,
    "start_time": "2022-07-05T18:30:17.382Z"
   },
   {
    "duration": 155,
    "start_time": "2022-07-05T18:30:17.420Z"
   },
   {
    "duration": 380,
    "start_time": "2022-07-05T18:30:17.577Z"
   },
   {
    "duration": 10,
    "start_time": "2022-07-05T18:30:17.959Z"
   },
   {
    "duration": 139,
    "start_time": "2022-07-05T18:30:17.970Z"
   },
   {
    "duration": 126,
    "start_time": "2022-07-05T18:30:18.111Z"
   },
   {
    "duration": 144,
    "start_time": "2022-07-05T18:30:18.239Z"
   },
   {
    "duration": 266,
    "start_time": "2022-07-05T18:30:18.388Z"
   },
   {
    "duration": 10,
    "start_time": "2022-07-05T18:30:18.656Z"
   },
   {
    "duration": 747,
    "start_time": "2022-07-05T18:30:18.668Z"
   },
   {
    "duration": 2589,
    "start_time": "2022-07-05T18:30:19.417Z"
   },
   {
    "duration": 24,
    "start_time": "2022-07-05T18:30:22.008Z"
   },
   {
    "duration": 8,
    "start_time": "2022-07-05T18:30:22.033Z"
   },
   {
    "duration": 36,
    "start_time": "2022-07-05T18:30:22.043Z"
   },
   {
    "duration": 31,
    "start_time": "2022-07-05T18:30:22.080Z"
   },
   {
    "duration": 9,
    "start_time": "2022-07-05T18:30:22.113Z"
   },
   {
    "duration": 4,
    "start_time": "2022-07-05T18:54:31.900Z"
   },
   {
    "duration": 118,
    "start_time": "2022-07-05T18:54:31.906Z"
   },
   {
    "duration": 18,
    "start_time": "2022-07-05T18:54:32.026Z"
   },
   {
    "duration": 2067,
    "start_time": "2022-07-05T18:54:32.047Z"
   },
   {
    "duration": 9,
    "start_time": "2022-07-05T18:54:34.116Z"
   },
   {
    "duration": 7,
    "start_time": "2022-07-05T18:54:34.127Z"
   },
   {
    "duration": 19,
    "start_time": "2022-07-05T18:54:34.136Z"
   },
   {
    "duration": 9,
    "start_time": "2022-07-05T18:54:34.157Z"
   },
   {
    "duration": 8,
    "start_time": "2022-07-05T18:54:34.168Z"
   },
   {
    "duration": 28,
    "start_time": "2022-07-05T18:54:34.177Z"
   },
   {
    "duration": 12,
    "start_time": "2022-07-05T18:54:34.207Z"
   },
   {
    "duration": 22,
    "start_time": "2022-07-05T18:54:34.221Z"
   },
   {
    "duration": 12,
    "start_time": "2022-07-05T18:54:34.245Z"
   },
   {
    "duration": 30,
    "start_time": "2022-07-05T18:54:34.260Z"
   },
   {
    "duration": 21,
    "start_time": "2022-07-05T18:54:34.292Z"
   },
   {
    "duration": 185,
    "start_time": "2022-07-05T18:54:34.316Z"
   },
   {
    "duration": 14,
    "start_time": "2022-07-05T18:54:34.503Z"
   },
   {
    "duration": 5,
    "start_time": "2022-07-05T18:54:34.519Z"
   },
   {
    "duration": 11,
    "start_time": "2022-07-05T18:54:34.525Z"
   },
   {
    "duration": 7,
    "start_time": "2022-07-05T18:54:34.538Z"
   },
   {
    "duration": 29,
    "start_time": "2022-07-05T18:54:34.547Z"
   },
   {
    "duration": 310,
    "start_time": "2022-07-05T18:54:34.578Z"
   },
   {
    "duration": 36,
    "start_time": "2022-07-05T18:54:34.890Z"
   },
   {
    "duration": 13,
    "start_time": "2022-07-05T18:54:34.928Z"
   },
   {
    "duration": 181,
    "start_time": "2022-07-05T18:54:34.942Z"
   },
   {
    "duration": 10,
    "start_time": "2022-07-05T18:54:35.125Z"
   },
   {
    "duration": 257,
    "start_time": "2022-07-05T18:54:35.137Z"
   },
   {
    "duration": 13,
    "start_time": "2022-07-05T18:54:35.400Z"
   },
   {
    "duration": 154,
    "start_time": "2022-07-05T18:54:35.418Z"
   },
   {
    "duration": 28,
    "start_time": "2022-07-05T18:54:35.574Z"
   },
   {
    "duration": 151,
    "start_time": "2022-07-05T18:54:35.604Z"
   },
   {
    "duration": 47,
    "start_time": "2022-07-05T18:54:35.757Z"
   },
   {
    "duration": 185,
    "start_time": "2022-07-05T18:54:35.805Z"
   },
   {
    "duration": 39,
    "start_time": "2022-07-05T18:54:35.992Z"
   },
   {
    "duration": 164,
    "start_time": "2022-07-05T18:54:36.033Z"
   },
   {
    "duration": 1364,
    "start_time": "2022-07-05T18:54:36.200Z"
   },
   {
    "duration": 11,
    "start_time": "2022-07-05T18:54:37.566Z"
   },
   {
    "duration": 148,
    "start_time": "2022-07-05T18:54:37.579Z"
   },
   {
    "duration": 132,
    "start_time": "2022-07-05T18:54:37.729Z"
   },
   {
    "duration": 150,
    "start_time": "2022-07-05T18:54:37.862Z"
   },
   {
    "duration": 279,
    "start_time": "2022-07-05T18:54:38.014Z"
   },
   {
    "duration": 14,
    "start_time": "2022-07-05T18:54:38.295Z"
   },
   {
    "duration": 840,
    "start_time": "2022-07-05T18:54:38.311Z"
   },
   {
    "duration": 2899,
    "start_time": "2022-07-05T18:54:39.153Z"
   },
   {
    "duration": 48,
    "start_time": "2022-07-05T18:54:42.053Z"
   },
   {
    "duration": 10,
    "start_time": "2022-07-05T18:54:42.103Z"
   },
   {
    "duration": 27,
    "start_time": "2022-07-05T18:54:42.115Z"
   },
   {
    "duration": 16,
    "start_time": "2022-07-05T18:54:42.144Z"
   },
   {
    "duration": 5,
    "start_time": "2022-07-05T18:54:42.162Z"
   },
   {
    "duration": 2,
    "start_time": "2022-07-05T18:59:12.818Z"
   },
   {
    "duration": 95,
    "start_time": "2022-07-05T18:59:12.836Z"
   },
   {
    "duration": 13,
    "start_time": "2022-07-05T18:59:12.933Z"
   },
   {
    "duration": 1838,
    "start_time": "2022-07-05T18:59:12.948Z"
   },
   {
    "duration": 16,
    "start_time": "2022-07-05T18:59:14.788Z"
   },
   {
    "duration": 4,
    "start_time": "2022-07-05T18:59:14.806Z"
   },
   {
    "duration": 6,
    "start_time": "2022-07-05T18:59:14.812Z"
   },
   {
    "duration": 8,
    "start_time": "2022-07-05T18:59:14.820Z"
   },
   {
    "duration": 4,
    "start_time": "2022-07-05T18:59:14.830Z"
   },
   {
    "duration": 12,
    "start_time": "2022-07-05T18:59:14.835Z"
   },
   {
    "duration": 4,
    "start_time": "2022-07-05T18:59:14.849Z"
   },
   {
    "duration": 10,
    "start_time": "2022-07-05T18:59:14.854Z"
   },
   {
    "duration": 38,
    "start_time": "2022-07-05T18:59:14.866Z"
   },
   {
    "duration": 25,
    "start_time": "2022-07-05T18:59:14.906Z"
   },
   {
    "duration": 20,
    "start_time": "2022-07-05T18:59:14.934Z"
   },
   {
    "duration": 168,
    "start_time": "2022-07-05T18:59:14.956Z"
   },
   {
    "duration": 47,
    "start_time": "2022-07-05T18:59:15.126Z"
   },
   {
    "duration": 0,
    "start_time": "2022-07-05T18:59:15.175Z"
   },
   {
    "duration": 0,
    "start_time": "2022-07-05T18:59:15.176Z"
   },
   {
    "duration": 0,
    "start_time": "2022-07-05T18:59:15.177Z"
   },
   {
    "duration": 0,
    "start_time": "2022-07-05T18:59:15.178Z"
   },
   {
    "duration": 0,
    "start_time": "2022-07-05T18:59:15.179Z"
   },
   {
    "duration": 0,
    "start_time": "2022-07-05T18:59:15.180Z"
   },
   {
    "duration": 0,
    "start_time": "2022-07-05T18:59:15.182Z"
   },
   {
    "duration": 1,
    "start_time": "2022-07-05T18:59:15.182Z"
   },
   {
    "duration": 0,
    "start_time": "2022-07-05T18:59:15.184Z"
   },
   {
    "duration": 0,
    "start_time": "2022-07-05T18:59:15.184Z"
   },
   {
    "duration": 0,
    "start_time": "2022-07-05T18:59:15.185Z"
   },
   {
    "duration": 0,
    "start_time": "2022-07-05T18:59:15.186Z"
   },
   {
    "duration": 0,
    "start_time": "2022-07-05T18:59:15.187Z"
   },
   {
    "duration": 0,
    "start_time": "2022-07-05T18:59:15.188Z"
   },
   {
    "duration": 0,
    "start_time": "2022-07-05T18:59:15.189Z"
   },
   {
    "duration": 0,
    "start_time": "2022-07-05T18:59:15.190Z"
   },
   {
    "duration": 0,
    "start_time": "2022-07-05T18:59:15.191Z"
   },
   {
    "duration": 0,
    "start_time": "2022-07-05T18:59:15.192Z"
   },
   {
    "duration": 0,
    "start_time": "2022-07-05T18:59:15.193Z"
   },
   {
    "duration": 0,
    "start_time": "2022-07-05T18:59:15.194Z"
   },
   {
    "duration": 0,
    "start_time": "2022-07-05T18:59:15.195Z"
   },
   {
    "duration": 0,
    "start_time": "2022-07-05T18:59:15.196Z"
   },
   {
    "duration": 0,
    "start_time": "2022-07-05T18:59:15.197Z"
   },
   {
    "duration": 0,
    "start_time": "2022-07-05T18:59:15.197Z"
   },
   {
    "duration": 0,
    "start_time": "2022-07-05T18:59:15.198Z"
   },
   {
    "duration": 0,
    "start_time": "2022-07-05T18:59:15.199Z"
   },
   {
    "duration": 0,
    "start_time": "2022-07-05T18:59:15.200Z"
   },
   {
    "duration": 0,
    "start_time": "2022-07-05T18:59:15.201Z"
   },
   {
    "duration": 0,
    "start_time": "2022-07-05T18:59:15.202Z"
   },
   {
    "duration": 0,
    "start_time": "2022-07-05T18:59:15.203Z"
   },
   {
    "duration": 0,
    "start_time": "2022-07-05T18:59:15.204Z"
   },
   {
    "duration": 0,
    "start_time": "2022-07-05T18:59:15.205Z"
   },
   {
    "duration": 0,
    "start_time": "2022-07-05T18:59:15.206Z"
   },
   {
    "duration": 10,
    "start_time": "2022-07-05T18:59:52.072Z"
   },
   {
    "duration": 6,
    "start_time": "2022-07-05T19:01:08.962Z"
   },
   {
    "duration": 25,
    "start_time": "2022-07-05T19:02:49.078Z"
   },
   {
    "duration": 50,
    "start_time": "2022-07-05T19:04:29.794Z"
   },
   {
    "duration": 34,
    "start_time": "2022-07-05T19:05:23.491Z"
   },
   {
    "duration": 48,
    "start_time": "2022-07-05T19:08:15.499Z"
   },
   {
    "duration": 41,
    "start_time": "2022-07-05T19:09:18.259Z"
   },
   {
    "duration": 51,
    "start_time": "2022-07-05T19:19:57.612Z"
   },
   {
    "duration": 815,
    "start_time": "2022-07-07T16:35:21.256Z"
   },
   {
    "duration": 147,
    "start_time": "2022-07-07T16:35:22.073Z"
   },
   {
    "duration": 13,
    "start_time": "2022-07-07T16:35:22.222Z"
   },
   {
    "duration": 1786,
    "start_time": "2022-07-07T16:35:22.237Z"
   },
   {
    "duration": 9,
    "start_time": "2022-07-07T16:35:24.025Z"
   },
   {
    "duration": 8,
    "start_time": "2022-07-07T16:35:24.035Z"
   },
   {
    "duration": 7,
    "start_time": "2022-07-07T16:35:24.044Z"
   },
   {
    "duration": 21,
    "start_time": "2022-07-07T16:35:24.052Z"
   },
   {
    "duration": 12,
    "start_time": "2022-07-07T16:35:24.074Z"
   },
   {
    "duration": 4,
    "start_time": "2022-07-07T16:35:24.088Z"
   },
   {
    "duration": 12,
    "start_time": "2022-07-07T16:35:24.093Z"
   },
   {
    "duration": 10,
    "start_time": "2022-07-07T16:35:24.107Z"
   },
   {
    "duration": 24,
    "start_time": "2022-07-07T16:35:24.124Z"
   },
   {
    "duration": 20,
    "start_time": "2022-07-07T16:35:24.150Z"
   },
   {
    "duration": 128,
    "start_time": "2022-07-07T16:35:24.171Z"
   },
   {
    "duration": 9,
    "start_time": "2022-07-07T16:35:24.301Z"
   },
   {
    "duration": 17,
    "start_time": "2022-07-07T16:35:24.311Z"
   },
   {
    "duration": 6,
    "start_time": "2022-07-07T16:35:24.329Z"
   },
   {
    "duration": 11,
    "start_time": "2022-07-07T16:35:24.337Z"
   },
   {
    "duration": 5,
    "start_time": "2022-07-07T16:35:24.350Z"
   },
   {
    "duration": 18,
    "start_time": "2022-07-07T16:35:24.357Z"
   },
   {
    "duration": 315,
    "start_time": "2022-07-07T16:35:24.376Z"
   },
   {
    "duration": 33,
    "start_time": "2022-07-07T16:35:24.693Z"
   },
   {
    "duration": 8,
    "start_time": "2022-07-07T16:35:24.727Z"
   },
   {
    "duration": 147,
    "start_time": "2022-07-07T16:35:24.737Z"
   },
   {
    "duration": 9,
    "start_time": "2022-07-07T16:35:24.885Z"
   },
   {
    "duration": 163,
    "start_time": "2022-07-07T16:35:24.896Z"
   },
   {
    "duration": 8,
    "start_time": "2022-07-07T16:35:25.061Z"
   },
   {
    "duration": 203,
    "start_time": "2022-07-07T16:35:25.071Z"
   },
   {
    "duration": 14,
    "start_time": "2022-07-07T16:35:25.276Z"
   },
   {
    "duration": 125,
    "start_time": "2022-07-07T16:35:25.292Z"
   },
   {
    "duration": 37,
    "start_time": "2022-07-07T16:35:25.418Z"
   },
   {
    "duration": 152,
    "start_time": "2022-07-07T16:35:25.457Z"
   },
   {
    "duration": 36,
    "start_time": "2022-07-07T16:35:25.610Z"
   },
   {
    "duration": 147,
    "start_time": "2022-07-07T16:35:25.648Z"
   },
   {
    "duration": 370,
    "start_time": "2022-07-07T16:35:25.796Z"
   },
   {
    "duration": 8,
    "start_time": "2022-07-07T16:35:26.168Z"
   },
   {
    "duration": 139,
    "start_time": "2022-07-07T16:35:26.178Z"
   },
   {
    "duration": 125,
    "start_time": "2022-07-07T16:35:26.318Z"
   },
   {
    "duration": 140,
    "start_time": "2022-07-07T16:35:26.445Z"
   },
   {
    "duration": 264,
    "start_time": "2022-07-07T16:35:26.588Z"
   },
   {
    "duration": 10,
    "start_time": "2022-07-07T16:35:26.853Z"
   },
   {
    "duration": 854,
    "start_time": "2022-07-07T16:35:26.864Z"
   },
   {
    "duration": 2574,
    "start_time": "2022-07-07T16:35:27.719Z"
   },
   {
    "duration": 36,
    "start_time": "2022-07-07T16:35:30.295Z"
   },
   {
    "duration": 9,
    "start_time": "2022-07-07T16:35:30.332Z"
   },
   {
    "duration": 161,
    "start_time": "2022-07-07T16:35:30.342Z"
   },
   {
    "duration": 21,
    "start_time": "2022-07-07T16:35:30.505Z"
   },
   {
    "duration": 5,
    "start_time": "2022-07-07T16:35:30.528Z"
   },
   {
    "duration": 4,
    "start_time": "2022-07-07T16:35:51.318Z"
   },
   {
    "duration": 33,
    "start_time": "2022-07-07T16:36:15.397Z"
   },
   {
    "duration": 6,
    "start_time": "2022-07-07T16:36:48.578Z"
   },
   {
    "duration": 3,
    "start_time": "2022-07-07T16:42:52.309Z"
   },
   {
    "duration": 116,
    "start_time": "2022-07-07T16:42:52.314Z"
   },
   {
    "duration": 13,
    "start_time": "2022-07-07T16:42:52.432Z"
   },
   {
    "duration": 1804,
    "start_time": "2022-07-07T16:42:52.446Z"
   },
   {
    "duration": 9,
    "start_time": "2022-07-07T16:42:54.253Z"
   },
   {
    "duration": 16,
    "start_time": "2022-07-07T16:42:54.263Z"
   },
   {
    "duration": 21,
    "start_time": "2022-07-07T16:42:54.280Z"
   },
   {
    "duration": 27,
    "start_time": "2022-07-07T16:42:54.303Z"
   },
   {
    "duration": 14,
    "start_time": "2022-07-07T16:42:54.332Z"
   },
   {
    "duration": 14,
    "start_time": "2022-07-07T16:42:54.347Z"
   },
   {
    "duration": 10,
    "start_time": "2022-07-07T16:42:54.364Z"
   },
   {
    "duration": 9,
    "start_time": "2022-07-07T16:42:54.375Z"
   },
   {
    "duration": 25,
    "start_time": "2022-07-07T16:42:54.385Z"
   },
   {
    "duration": 21,
    "start_time": "2022-07-07T16:42:54.412Z"
   },
   {
    "duration": 122,
    "start_time": "2022-07-07T16:42:54.434Z"
   },
   {
    "duration": 21,
    "start_time": "2022-07-07T16:42:54.558Z"
   },
   {
    "duration": 9,
    "start_time": "2022-07-07T16:42:54.581Z"
   },
   {
    "duration": 38,
    "start_time": "2022-07-07T16:42:54.592Z"
   },
   {
    "duration": 7,
    "start_time": "2022-07-07T16:42:54.632Z"
   },
   {
    "duration": 9,
    "start_time": "2022-07-07T16:42:54.641Z"
   },
   {
    "duration": 8,
    "start_time": "2022-07-07T16:42:54.652Z"
   },
   {
    "duration": 6,
    "start_time": "2022-07-07T16:42:54.661Z"
   },
   {
    "duration": 19,
    "start_time": "2022-07-07T16:42:54.668Z"
   },
   {
    "duration": 503,
    "start_time": "2022-07-07T16:42:54.688Z"
   },
   {
    "duration": 34,
    "start_time": "2022-07-07T16:42:55.193Z"
   },
   {
    "duration": 9,
    "start_time": "2022-07-07T16:42:55.229Z"
   },
   {
    "duration": 138,
    "start_time": "2022-07-07T16:42:55.240Z"
   },
   {
    "duration": 8,
    "start_time": "2022-07-07T16:42:55.380Z"
   },
   {
    "duration": 190,
    "start_time": "2022-07-07T16:42:55.392Z"
   },
   {
    "duration": 9,
    "start_time": "2022-07-07T16:42:55.584Z"
   },
   {
    "duration": 175,
    "start_time": "2022-07-07T16:42:55.595Z"
   },
   {
    "duration": 16,
    "start_time": "2022-07-07T16:42:55.772Z"
   },
   {
    "duration": 154,
    "start_time": "2022-07-07T16:42:55.790Z"
   },
   {
    "duration": 43,
    "start_time": "2022-07-07T16:42:55.946Z"
   },
   {
    "duration": 212,
    "start_time": "2022-07-07T16:42:55.990Z"
   },
   {
    "duration": 43,
    "start_time": "2022-07-07T16:42:56.204Z"
   },
   {
    "duration": 198,
    "start_time": "2022-07-07T16:42:56.248Z"
   },
   {
    "duration": 402,
    "start_time": "2022-07-07T16:42:56.448Z"
   },
   {
    "duration": 9,
    "start_time": "2022-07-07T16:42:56.852Z"
   },
   {
    "duration": 150,
    "start_time": "2022-07-07T16:42:56.863Z"
   },
   {
    "duration": 157,
    "start_time": "2022-07-07T16:42:57.015Z"
   },
   {
    "duration": 158,
    "start_time": "2022-07-07T16:42:57.174Z"
   },
   {
    "duration": 421,
    "start_time": "2022-07-07T16:42:57.334Z"
   },
   {
    "duration": 14,
    "start_time": "2022-07-07T16:42:57.758Z"
   },
   {
    "duration": 722,
    "start_time": "2022-07-07T16:42:57.774Z"
   },
   {
    "duration": 2791,
    "start_time": "2022-07-07T16:42:58.497Z"
   },
   {
    "duration": 45,
    "start_time": "2022-07-07T16:43:01.289Z"
   },
   {
    "duration": 45,
    "start_time": "2022-07-07T16:43:01.336Z"
   },
   {
    "duration": 84,
    "start_time": "2022-07-07T16:43:01.383Z"
   },
   {
    "duration": 33,
    "start_time": "2022-07-07T16:43:01.468Z"
   },
   {
    "duration": 47,
    "start_time": "2022-07-07T16:43:01.503Z"
   },
   {
    "duration": 15,
    "start_time": "2022-07-07T16:44:34.983Z"
   },
   {
    "duration": 2,
    "start_time": "2022-07-07T16:44:39.043Z"
   },
   {
    "duration": 109,
    "start_time": "2022-07-07T16:44:39.047Z"
   },
   {
    "duration": 13,
    "start_time": "2022-07-07T16:44:39.157Z"
   },
   {
    "duration": 1959,
    "start_time": "2022-07-07T16:44:39.172Z"
   },
   {
    "duration": 11,
    "start_time": "2022-07-07T16:44:41.133Z"
   },
   {
    "duration": 4,
    "start_time": "2022-07-07T16:44:41.146Z"
   },
   {
    "duration": 7,
    "start_time": "2022-07-07T16:44:41.151Z"
   },
   {
    "duration": 5,
    "start_time": "2022-07-07T16:44:41.159Z"
   },
   {
    "duration": 11,
    "start_time": "2022-07-07T16:44:41.166Z"
   },
   {
    "duration": 4,
    "start_time": "2022-07-07T16:44:41.178Z"
   },
   {
    "duration": 9,
    "start_time": "2022-07-07T16:44:41.184Z"
   },
   {
    "duration": 6,
    "start_time": "2022-07-07T16:44:41.223Z"
   },
   {
    "duration": 23,
    "start_time": "2022-07-07T16:44:41.231Z"
   },
   {
    "duration": 14,
    "start_time": "2022-07-07T16:44:41.255Z"
   },
   {
    "duration": 20,
    "start_time": "2022-07-07T16:44:41.271Z"
   },
   {
    "duration": 139,
    "start_time": "2022-07-07T16:44:41.292Z"
   },
   {
    "duration": 17,
    "start_time": "2022-07-07T16:44:41.433Z"
   },
   {
    "duration": 6,
    "start_time": "2022-07-07T16:44:41.451Z"
   },
   {
    "duration": 9,
    "start_time": "2022-07-07T16:44:41.459Z"
   },
   {
    "duration": 6,
    "start_time": "2022-07-07T16:44:41.470Z"
   },
   {
    "duration": 5,
    "start_time": "2022-07-07T16:44:41.477Z"
   },
   {
    "duration": 7,
    "start_time": "2022-07-07T16:44:41.483Z"
   },
   {
    "duration": 6,
    "start_time": "2022-07-07T16:44:41.524Z"
   },
   {
    "duration": 16,
    "start_time": "2022-07-07T16:44:41.533Z"
   },
   {
    "duration": 277,
    "start_time": "2022-07-07T16:44:41.550Z"
   },
   {
    "duration": 23,
    "start_time": "2022-07-07T16:44:41.829Z"
   },
   {
    "duration": 9,
    "start_time": "2022-07-07T16:44:41.854Z"
   },
   {
    "duration": 145,
    "start_time": "2022-07-07T16:44:41.865Z"
   },
   {
    "duration": 17,
    "start_time": "2022-07-07T16:44:42.012Z"
   },
   {
    "duration": 175,
    "start_time": "2022-07-07T16:44:42.031Z"
   },
   {
    "duration": 18,
    "start_time": "2022-07-07T16:44:42.208Z"
   },
   {
    "duration": 140,
    "start_time": "2022-07-07T16:44:42.227Z"
   },
   {
    "duration": 16,
    "start_time": "2022-07-07T16:44:42.368Z"
   },
   {
    "duration": 143,
    "start_time": "2022-07-07T16:44:42.386Z"
   },
   {
    "duration": 32,
    "start_time": "2022-07-07T16:44:42.531Z"
   },
   {
    "duration": 158,
    "start_time": "2022-07-07T16:44:42.565Z"
   },
   {
    "duration": 30,
    "start_time": "2022-07-07T16:44:42.725Z"
   },
   {
    "duration": 149,
    "start_time": "2022-07-07T16:44:42.756Z"
   },
   {
    "duration": 358,
    "start_time": "2022-07-07T16:44:42.907Z"
   },
   {
    "duration": 9,
    "start_time": "2022-07-07T16:44:43.267Z"
   },
   {
    "duration": 130,
    "start_time": "2022-07-07T16:44:43.278Z"
   },
   {
    "duration": 122,
    "start_time": "2022-07-07T16:44:43.410Z"
   },
   {
    "duration": 144,
    "start_time": "2022-07-07T16:44:43.533Z"
   },
   {
    "duration": 253,
    "start_time": "2022-07-07T16:44:43.679Z"
   },
   {
    "duration": 8,
    "start_time": "2022-07-07T16:44:43.933Z"
   },
   {
    "duration": 963,
    "start_time": "2022-07-07T16:44:43.943Z"
   },
   {
    "duration": 2480,
    "start_time": "2022-07-07T16:44:44.907Z"
   },
   {
    "duration": 46,
    "start_time": "2022-07-07T16:44:47.388Z"
   },
   {
    "duration": 8,
    "start_time": "2022-07-07T16:44:47.436Z"
   },
   {
    "duration": 41,
    "start_time": "2022-07-07T16:44:47.446Z"
   },
   {
    "duration": 16,
    "start_time": "2022-07-07T16:44:47.489Z"
   },
   {
    "duration": 15,
    "start_time": "2022-07-07T16:44:47.507Z"
   },
   {
    "duration": 2,
    "start_time": "2022-07-07T16:45:44.400Z"
   },
   {
    "duration": 105,
    "start_time": "2022-07-07T16:45:44.404Z"
   },
   {
    "duration": 27,
    "start_time": "2022-07-07T16:45:44.510Z"
   },
   {
    "duration": 2149,
    "start_time": "2022-07-07T16:45:44.539Z"
   },
   {
    "duration": 9,
    "start_time": "2022-07-07T16:45:46.690Z"
   },
   {
    "duration": 23,
    "start_time": "2022-07-07T16:45:46.701Z"
   },
   {
    "duration": 6,
    "start_time": "2022-07-07T16:45:46.725Z"
   },
   {
    "duration": 5,
    "start_time": "2022-07-07T16:45:46.732Z"
   },
   {
    "duration": 12,
    "start_time": "2022-07-07T16:45:46.738Z"
   },
   {
    "duration": 4,
    "start_time": "2022-07-07T16:45:46.752Z"
   },
   {
    "duration": 16,
    "start_time": "2022-07-07T16:45:46.758Z"
   },
   {
    "duration": 8,
    "start_time": "2022-07-07T16:45:46.776Z"
   },
   {
    "duration": 45,
    "start_time": "2022-07-07T16:45:46.786Z"
   },
   {
    "duration": 14,
    "start_time": "2022-07-07T16:45:46.835Z"
   },
   {
    "duration": 21,
    "start_time": "2022-07-07T16:45:46.851Z"
   },
   {
    "duration": 2,
    "start_time": "2022-07-07T16:45:46.874Z"
   },
   {
    "duration": 14,
    "start_time": "2022-07-07T16:45:46.878Z"
   },
   {
    "duration": 8,
    "start_time": "2022-07-07T16:45:46.927Z"
   },
   {
    "duration": 9,
    "start_time": "2022-07-07T16:45:46.937Z"
   },
   {
    "duration": 7,
    "start_time": "2022-07-07T16:45:46.949Z"
   },
   {
    "duration": 10,
    "start_time": "2022-07-07T16:45:46.957Z"
   },
   {
    "duration": 16,
    "start_time": "2022-07-07T16:45:46.969Z"
   },
   {
    "duration": 11,
    "start_time": "2022-07-07T16:45:46.987Z"
   },
   {
    "duration": 36,
    "start_time": "2022-07-07T16:45:47.000Z"
   },
   {
    "duration": 276,
    "start_time": "2022-07-07T16:45:47.037Z"
   },
   {
    "duration": 30,
    "start_time": "2022-07-07T16:45:47.315Z"
   },
   {
    "duration": 9,
    "start_time": "2022-07-07T16:45:47.346Z"
   },
   {
    "duration": 163,
    "start_time": "2022-07-07T16:45:47.357Z"
   },
   {
    "duration": 11,
    "start_time": "2022-07-07T16:45:47.524Z"
   },
   {
    "duration": 211,
    "start_time": "2022-07-07T16:45:47.537Z"
   },
   {
    "duration": 9,
    "start_time": "2022-07-07T16:45:47.750Z"
   },
   {
    "duration": 130,
    "start_time": "2022-07-07T16:45:47.760Z"
   },
   {
    "duration": 16,
    "start_time": "2022-07-07T16:45:47.892Z"
   },
   {
    "duration": 136,
    "start_time": "2022-07-07T16:45:47.910Z"
   },
   {
    "duration": 35,
    "start_time": "2022-07-07T16:45:48.048Z"
   },
   {
    "duration": 163,
    "start_time": "2022-07-07T16:45:48.084Z"
   },
   {
    "duration": 30,
    "start_time": "2022-07-07T16:45:48.248Z"
   },
   {
    "duration": 152,
    "start_time": "2022-07-07T16:45:48.280Z"
   },
   {
    "duration": 348,
    "start_time": "2022-07-07T16:45:48.434Z"
   },
   {
    "duration": 10,
    "start_time": "2022-07-07T16:45:48.784Z"
   },
   {
    "duration": 143,
    "start_time": "2022-07-07T16:45:48.798Z"
   },
   {
    "duration": 113,
    "start_time": "2022-07-07T16:45:48.942Z"
   },
   {
    "duration": 150,
    "start_time": "2022-07-07T16:45:49.057Z"
   },
   {
    "duration": 253,
    "start_time": "2022-07-07T16:45:49.208Z"
   },
   {
    "duration": 9,
    "start_time": "2022-07-07T16:45:49.463Z"
   },
   {
    "duration": 675,
    "start_time": "2022-07-07T16:45:49.473Z"
   },
   {
    "duration": 3053,
    "start_time": "2022-07-07T16:45:50.149Z"
   },
   {
    "duration": 34,
    "start_time": "2022-07-07T16:45:53.204Z"
   },
   {
    "duration": 7,
    "start_time": "2022-07-07T16:45:53.239Z"
   },
   {
    "duration": 20,
    "start_time": "2022-07-07T16:45:53.248Z"
   },
   {
    "duration": 12,
    "start_time": "2022-07-07T16:45:53.270Z"
   },
   {
    "duration": 4,
    "start_time": "2022-07-07T16:45:53.284Z"
   },
   {
    "duration": 3,
    "start_time": "2022-07-07T16:46:45.819Z"
   },
   {
    "duration": 112,
    "start_time": "2022-07-07T16:46:45.824Z"
   },
   {
    "duration": 14,
    "start_time": "2022-07-07T16:46:45.938Z"
   },
   {
    "duration": 1852,
    "start_time": "2022-07-07T16:46:45.954Z"
   },
   {
    "duration": 19,
    "start_time": "2022-07-07T16:46:47.809Z"
   },
   {
    "duration": 5,
    "start_time": "2022-07-07T16:46:47.830Z"
   },
   {
    "duration": 13,
    "start_time": "2022-07-07T16:46:47.837Z"
   },
   {
    "duration": 8,
    "start_time": "2022-07-07T16:46:47.851Z"
   },
   {
    "duration": 12,
    "start_time": "2022-07-07T16:46:47.860Z"
   },
   {
    "duration": 4,
    "start_time": "2022-07-07T16:46:47.874Z"
   },
   {
    "duration": 12,
    "start_time": "2022-07-07T16:46:47.881Z"
   },
   {
    "duration": 31,
    "start_time": "2022-07-07T16:46:47.894Z"
   },
   {
    "duration": 24,
    "start_time": "2022-07-07T16:46:47.926Z"
   },
   {
    "duration": 817,
    "start_time": "2022-07-07T16:46:47.951Z"
   },
   {
    "duration": 0,
    "start_time": "2022-07-07T16:46:48.772Z"
   },
   {
    "duration": 0,
    "start_time": "2022-07-07T16:46:48.773Z"
   },
   {
    "duration": 0,
    "start_time": "2022-07-07T16:46:48.775Z"
   },
   {
    "duration": 0,
    "start_time": "2022-07-07T16:46:48.776Z"
   },
   {
    "duration": 0,
    "start_time": "2022-07-07T16:46:48.777Z"
   },
   {
    "duration": 0,
    "start_time": "2022-07-07T16:46:48.779Z"
   },
   {
    "duration": 0,
    "start_time": "2022-07-07T16:46:48.780Z"
   },
   {
    "duration": 0,
    "start_time": "2022-07-07T16:46:48.781Z"
   },
   {
    "duration": 0,
    "start_time": "2022-07-07T16:46:48.782Z"
   },
   {
    "duration": 0,
    "start_time": "2022-07-07T16:46:48.783Z"
   },
   {
    "duration": 0,
    "start_time": "2022-07-07T16:46:48.785Z"
   },
   {
    "duration": 0,
    "start_time": "2022-07-07T16:46:48.786Z"
   },
   {
    "duration": 0,
    "start_time": "2022-07-07T16:46:48.787Z"
   },
   {
    "duration": 0,
    "start_time": "2022-07-07T16:46:48.789Z"
   },
   {
    "duration": 0,
    "start_time": "2022-07-07T16:46:48.790Z"
   },
   {
    "duration": 0,
    "start_time": "2022-07-07T16:46:48.791Z"
   },
   {
    "duration": 0,
    "start_time": "2022-07-07T16:46:48.793Z"
   },
   {
    "duration": 0,
    "start_time": "2022-07-07T16:46:48.794Z"
   },
   {
    "duration": 0,
    "start_time": "2022-07-07T16:46:48.796Z"
   },
   {
    "duration": 0,
    "start_time": "2022-07-07T16:46:48.797Z"
   },
   {
    "duration": 0,
    "start_time": "2022-07-07T16:46:48.799Z"
   },
   {
    "duration": 0,
    "start_time": "2022-07-07T16:46:48.800Z"
   },
   {
    "duration": 0,
    "start_time": "2022-07-07T16:46:48.802Z"
   },
   {
    "duration": 0,
    "start_time": "2022-07-07T16:46:48.806Z"
   },
   {
    "duration": 0,
    "start_time": "2022-07-07T16:46:48.807Z"
   },
   {
    "duration": 0,
    "start_time": "2022-07-07T16:46:48.809Z"
   },
   {
    "duration": 0,
    "start_time": "2022-07-07T16:46:48.810Z"
   },
   {
    "duration": 0,
    "start_time": "2022-07-07T16:46:48.824Z"
   },
   {
    "duration": 0,
    "start_time": "2022-07-07T16:46:48.826Z"
   },
   {
    "duration": 0,
    "start_time": "2022-07-07T16:46:48.827Z"
   },
   {
    "duration": 0,
    "start_time": "2022-07-07T16:46:48.828Z"
   },
   {
    "duration": 0,
    "start_time": "2022-07-07T16:46:48.830Z"
   },
   {
    "duration": 0,
    "start_time": "2022-07-07T16:46:48.831Z"
   },
   {
    "duration": 0,
    "start_time": "2022-07-07T16:46:48.833Z"
   },
   {
    "duration": 0,
    "start_time": "2022-07-07T16:46:48.834Z"
   },
   {
    "duration": 0,
    "start_time": "2022-07-07T16:46:48.836Z"
   },
   {
    "duration": 0,
    "start_time": "2022-07-07T16:46:48.838Z"
   },
   {
    "duration": 0,
    "start_time": "2022-07-07T16:46:48.840Z"
   },
   {
    "duration": 3,
    "start_time": "2022-07-07T16:47:27.253Z"
   },
   {
    "duration": 118,
    "start_time": "2022-07-07T16:47:27.284Z"
   },
   {
    "duration": 36,
    "start_time": "2022-07-07T16:47:27.405Z"
   },
   {
    "duration": 1802,
    "start_time": "2022-07-07T16:47:27.444Z"
   },
   {
    "duration": 10,
    "start_time": "2022-07-07T16:47:29.248Z"
   },
   {
    "duration": 8,
    "start_time": "2022-07-07T16:47:29.261Z"
   },
   {
    "duration": 6,
    "start_time": "2022-07-07T16:47:29.271Z"
   },
   {
    "duration": 6,
    "start_time": "2022-07-07T16:47:29.279Z"
   },
   {
    "duration": 12,
    "start_time": "2022-07-07T16:47:29.286Z"
   },
   {
    "duration": 5,
    "start_time": "2022-07-07T16:47:29.324Z"
   },
   {
    "duration": 13,
    "start_time": "2022-07-07T16:47:29.330Z"
   },
   {
    "duration": 10,
    "start_time": "2022-07-07T16:47:29.345Z"
   },
   {
    "duration": 24,
    "start_time": "2022-07-07T16:47:29.357Z"
   },
   {
    "duration": 8,
    "start_time": "2022-07-07T16:47:29.382Z"
   },
   {
    "duration": 3,
    "start_time": "2022-07-07T16:47:29.393Z"
   },
   {
    "duration": 44,
    "start_time": "2022-07-07T16:47:29.397Z"
   },
   {
    "duration": 9,
    "start_time": "2022-07-07T16:47:29.443Z"
   },
   {
    "duration": 8,
    "start_time": "2022-07-07T16:47:29.454Z"
   },
   {
    "duration": 8,
    "start_time": "2022-07-07T16:47:29.464Z"
   },
   {
    "duration": 5,
    "start_time": "2022-07-07T16:47:29.474Z"
   },
   {
    "duration": 44,
    "start_time": "2022-07-07T16:47:29.480Z"
   },
   {
    "duration": 6,
    "start_time": "2022-07-07T16:47:29.526Z"
   },
   {
    "duration": 19,
    "start_time": "2022-07-07T16:47:29.534Z"
   },
   {
    "duration": 281,
    "start_time": "2022-07-07T16:47:29.555Z"
   },
   {
    "duration": 24,
    "start_time": "2022-07-07T16:47:29.838Z"
   },
   {
    "duration": 8,
    "start_time": "2022-07-07T16:47:29.864Z"
   },
   {
    "duration": 145,
    "start_time": "2022-07-07T16:47:29.873Z"
   },
   {
    "duration": 10,
    "start_time": "2022-07-07T16:47:30.024Z"
   },
   {
    "duration": 174,
    "start_time": "2022-07-07T16:47:30.035Z"
   },
   {
    "duration": 20,
    "start_time": "2022-07-07T16:47:30.211Z"
   },
   {
    "duration": 139,
    "start_time": "2022-07-07T16:47:30.233Z"
   },
   {
    "duration": 16,
    "start_time": "2022-07-07T16:47:30.374Z"
   },
   {
    "duration": 143,
    "start_time": "2022-07-07T16:47:30.391Z"
   },
   {
    "duration": 34,
    "start_time": "2022-07-07T16:47:30.536Z"
   },
   {
    "duration": 165,
    "start_time": "2022-07-07T16:47:30.572Z"
   },
   {
    "duration": 31,
    "start_time": "2022-07-07T16:47:30.739Z"
   },
   {
    "duration": 161,
    "start_time": "2022-07-07T16:47:30.772Z"
   },
   {
    "duration": 377,
    "start_time": "2022-07-07T16:47:30.935Z"
   },
   {
    "duration": 17,
    "start_time": "2022-07-07T16:47:31.314Z"
   },
   {
    "duration": 139,
    "start_time": "2022-07-07T16:47:31.332Z"
   },
   {
    "duration": 118,
    "start_time": "2022-07-07T16:47:31.473Z"
   },
   {
    "duration": 150,
    "start_time": "2022-07-07T16:47:31.595Z"
   },
   {
    "duration": 260,
    "start_time": "2022-07-07T16:47:31.746Z"
   },
   {
    "duration": 17,
    "start_time": "2022-07-07T16:47:32.007Z"
   },
   {
    "duration": 1140,
    "start_time": "2022-07-07T16:47:32.026Z"
   },
   {
    "duration": 2693,
    "start_time": "2022-07-07T16:47:33.168Z"
   },
   {
    "duration": 23,
    "start_time": "2022-07-07T16:47:35.863Z"
   },
   {
    "duration": 8,
    "start_time": "2022-07-07T16:47:35.887Z"
   },
   {
    "duration": 44,
    "start_time": "2022-07-07T16:47:35.896Z"
   },
   {
    "duration": 13,
    "start_time": "2022-07-07T16:47:35.942Z"
   },
   {
    "duration": 5,
    "start_time": "2022-07-07T16:47:35.956Z"
   },
   {
    "duration": 3,
    "start_time": "2022-07-07T16:49:57.005Z"
   },
   {
    "duration": 106,
    "start_time": "2022-07-07T16:49:57.010Z"
   },
   {
    "duration": 14,
    "start_time": "2022-07-07T16:49:57.117Z"
   },
   {
    "duration": 1753,
    "start_time": "2022-07-07T16:49:57.364Z"
   },
   {
    "duration": 9,
    "start_time": "2022-07-07T16:49:59.123Z"
   },
   {
    "duration": 4,
    "start_time": "2022-07-07T16:49:59.133Z"
   },
   {
    "duration": 7,
    "start_time": "2022-07-07T16:49:59.138Z"
   },
   {
    "duration": 5,
    "start_time": "2022-07-07T16:49:59.147Z"
   },
   {
    "duration": 10,
    "start_time": "2022-07-07T16:49:59.153Z"
   },
   {
    "duration": 5,
    "start_time": "2022-07-07T16:49:59.164Z"
   },
   {
    "duration": 9,
    "start_time": "2022-07-07T16:49:59.170Z"
   },
   {
    "duration": 9,
    "start_time": "2022-07-07T16:49:59.181Z"
   },
   {
    "duration": 52,
    "start_time": "2022-07-07T16:49:59.192Z"
   },
   {
    "duration": 8,
    "start_time": "2022-07-07T16:49:59.246Z"
   },
   {
    "duration": 3,
    "start_time": "2022-07-07T16:49:59.256Z"
   },
   {
    "duration": 22,
    "start_time": "2022-07-07T16:49:59.261Z"
   },
   {
    "duration": 5,
    "start_time": "2022-07-07T16:49:59.286Z"
   },
   {
    "duration": 39,
    "start_time": "2022-07-07T16:49:59.293Z"
   },
   {
    "duration": 8,
    "start_time": "2022-07-07T16:49:59.333Z"
   },
   {
    "duration": 6,
    "start_time": "2022-07-07T16:49:59.342Z"
   },
   {
    "duration": 7,
    "start_time": "2022-07-07T16:49:59.349Z"
   },
   {
    "duration": 5,
    "start_time": "2022-07-07T16:49:59.357Z"
   },
   {
    "duration": 16,
    "start_time": "2022-07-07T16:49:59.364Z"
   },
   {
    "duration": 302,
    "start_time": "2022-07-07T16:49:59.382Z"
   },
   {
    "duration": 25,
    "start_time": "2022-07-07T16:49:59.686Z"
   },
   {
    "duration": 10,
    "start_time": "2022-07-07T16:49:59.724Z"
   },
   {
    "duration": 141,
    "start_time": "2022-07-07T16:49:59.736Z"
   },
   {
    "duration": 9,
    "start_time": "2022-07-07T16:49:59.879Z"
   },
   {
    "duration": 188,
    "start_time": "2022-07-07T16:49:59.890Z"
   },
   {
    "duration": 9,
    "start_time": "2022-07-07T16:50:00.080Z"
   },
   {
    "duration": 149,
    "start_time": "2022-07-07T16:50:00.091Z"
   },
   {
    "duration": 15,
    "start_time": "2022-07-07T16:50:00.242Z"
   },
   {
    "duration": 138,
    "start_time": "2022-07-07T16:50:00.259Z"
   },
   {
    "duration": 43,
    "start_time": "2022-07-07T16:50:00.399Z"
   },
   {
    "duration": 145,
    "start_time": "2022-07-07T16:50:00.444Z"
   },
   {
    "duration": 38,
    "start_time": "2022-07-07T16:50:00.591Z"
   },
   {
    "duration": 163,
    "start_time": "2022-07-07T16:50:00.631Z"
   },
   {
    "duration": 394,
    "start_time": "2022-07-07T16:50:00.796Z"
   },
   {
    "duration": 9,
    "start_time": "2022-07-07T16:50:01.192Z"
   },
   {
    "duration": 138,
    "start_time": "2022-07-07T16:50:01.203Z"
   },
   {
    "duration": 133,
    "start_time": "2022-07-07T16:50:01.342Z"
   },
   {
    "duration": 149,
    "start_time": "2022-07-07T16:50:01.476Z"
   },
   {
    "duration": 270,
    "start_time": "2022-07-07T16:50:01.627Z"
   },
   {
    "duration": 9,
    "start_time": "2022-07-07T16:50:01.901Z"
   },
   {
    "duration": 716,
    "start_time": "2022-07-07T16:50:01.912Z"
   },
   {
    "duration": 3153,
    "start_time": "2022-07-07T16:50:02.630Z"
   },
   {
    "duration": 41,
    "start_time": "2022-07-07T16:50:05.785Z"
   },
   {
    "duration": 9,
    "start_time": "2022-07-07T16:50:05.828Z"
   },
   {
    "duration": 21,
    "start_time": "2022-07-07T16:50:05.838Z"
   },
   {
    "duration": 26,
    "start_time": "2022-07-07T16:50:05.861Z"
   },
   {
    "duration": 5,
    "start_time": "2022-07-07T16:50:05.889Z"
   },
   {
    "duration": 3,
    "start_time": "2022-07-07T16:51:56.152Z"
   },
   {
    "duration": 114,
    "start_time": "2022-07-07T16:51:56.157Z"
   },
   {
    "duration": 16,
    "start_time": "2022-07-07T16:51:56.273Z"
   },
   {
    "duration": 1897,
    "start_time": "2022-07-07T16:51:56.290Z"
   },
   {
    "duration": 9,
    "start_time": "2022-07-07T16:51:58.189Z"
   },
   {
    "duration": 6,
    "start_time": "2022-07-07T16:51:58.199Z"
   },
   {
    "duration": 20,
    "start_time": "2022-07-07T16:51:58.206Z"
   },
   {
    "duration": 4,
    "start_time": "2022-07-07T16:51:58.227Z"
   },
   {
    "duration": 10,
    "start_time": "2022-07-07T16:51:58.232Z"
   },
   {
    "duration": 4,
    "start_time": "2022-07-07T16:51:58.243Z"
   },
   {
    "duration": 13,
    "start_time": "2022-07-07T16:51:58.248Z"
   },
   {
    "duration": 8,
    "start_time": "2022-07-07T16:51:58.263Z"
   },
   {
    "duration": 50,
    "start_time": "2022-07-07T16:51:58.274Z"
   },
   {
    "duration": 6,
    "start_time": "2022-07-07T16:51:58.327Z"
   },
   {
    "duration": 7,
    "start_time": "2022-07-07T16:51:58.334Z"
   },
   {
    "duration": 24,
    "start_time": "2022-07-07T16:51:58.343Z"
   },
   {
    "duration": 6,
    "start_time": "2022-07-07T16:51:58.369Z"
   },
   {
    "duration": 9,
    "start_time": "2022-07-07T16:51:58.376Z"
   },
   {
    "duration": 6,
    "start_time": "2022-07-07T16:51:58.387Z"
   },
   {
    "duration": 5,
    "start_time": "2022-07-07T16:51:58.424Z"
   },
   {
    "duration": 11,
    "start_time": "2022-07-07T16:51:58.431Z"
   },
   {
    "duration": 6,
    "start_time": "2022-07-07T16:51:58.444Z"
   },
   {
    "duration": 18,
    "start_time": "2022-07-07T16:51:58.452Z"
   },
   {
    "duration": 291,
    "start_time": "2022-07-07T16:51:58.472Z"
   },
   {
    "duration": 24,
    "start_time": "2022-07-07T16:51:58.765Z"
   },
   {
    "duration": 9,
    "start_time": "2022-07-07T16:51:58.791Z"
   },
   {
    "duration": 153,
    "start_time": "2022-07-07T16:51:58.802Z"
   },
   {
    "duration": 9,
    "start_time": "2022-07-07T16:51:58.958Z"
   },
   {
    "duration": 163,
    "start_time": "2022-07-07T16:51:58.969Z"
   },
   {
    "duration": 8,
    "start_time": "2022-07-07T16:51:59.134Z"
   },
   {
    "duration": 136,
    "start_time": "2022-07-07T16:51:59.144Z"
   },
   {
    "duration": 16,
    "start_time": "2022-07-07T16:51:59.282Z"
   },
   {
    "duration": 131,
    "start_time": "2022-07-07T16:51:59.299Z"
   },
   {
    "duration": 32,
    "start_time": "2022-07-07T16:51:59.431Z"
   },
   {
    "duration": 163,
    "start_time": "2022-07-07T16:51:59.464Z"
   },
   {
    "duration": 33,
    "start_time": "2022-07-07T16:51:59.629Z"
   },
   {
    "duration": 160,
    "start_time": "2022-07-07T16:51:59.666Z"
   },
   {
    "duration": 359,
    "start_time": "2022-07-07T16:51:59.828Z"
   },
   {
    "duration": 9,
    "start_time": "2022-07-07T16:52:00.188Z"
   },
   {
    "duration": 139,
    "start_time": "2022-07-07T16:52:00.198Z"
   },
   {
    "duration": 132,
    "start_time": "2022-07-07T16:52:00.339Z"
   },
   {
    "duration": 137,
    "start_time": "2022-07-07T16:52:00.473Z"
   },
   {
    "duration": 271,
    "start_time": "2022-07-07T16:52:00.612Z"
   },
   {
    "duration": 9,
    "start_time": "2022-07-07T16:52:00.885Z"
   },
   {
    "duration": 719,
    "start_time": "2022-07-07T16:52:00.895Z"
   },
   {
    "duration": 3308,
    "start_time": "2022-07-07T16:52:01.616Z"
   },
   {
    "duration": 23,
    "start_time": "2022-07-07T16:52:04.925Z"
   },
   {
    "duration": 7,
    "start_time": "2022-07-07T16:52:04.950Z"
   },
   {
    "duration": 21,
    "start_time": "2022-07-07T16:52:04.959Z"
   },
   {
    "duration": 41,
    "start_time": "2022-07-07T16:52:04.982Z"
   },
   {
    "duration": 5,
    "start_time": "2022-07-07T16:52:05.025Z"
   },
   {
    "duration": 2,
    "start_time": "2022-07-07T16:53:39.510Z"
   },
   {
    "duration": 104,
    "start_time": "2022-07-07T16:53:39.514Z"
   },
   {
    "duration": 14,
    "start_time": "2022-07-07T16:53:39.620Z"
   },
   {
    "duration": 1734,
    "start_time": "2022-07-07T16:53:39.635Z"
   },
   {
    "duration": 10,
    "start_time": "2022-07-07T16:53:41.371Z"
   },
   {
    "duration": 5,
    "start_time": "2022-07-07T16:53:41.382Z"
   },
   {
    "duration": 12,
    "start_time": "2022-07-07T16:53:41.388Z"
   },
   {
    "duration": 23,
    "start_time": "2022-07-07T16:53:41.402Z"
   },
   {
    "duration": 8,
    "start_time": "2022-07-07T16:53:41.427Z"
   },
   {
    "duration": 4,
    "start_time": "2022-07-07T16:53:41.437Z"
   },
   {
    "duration": 10,
    "start_time": "2022-07-07T16:53:41.442Z"
   },
   {
    "duration": 7,
    "start_time": "2022-07-07T16:53:41.454Z"
   },
   {
    "duration": 26,
    "start_time": "2022-07-07T16:53:41.464Z"
   },
   {
    "duration": 5,
    "start_time": "2022-07-07T16:53:41.491Z"
   },
   {
    "duration": 129,
    "start_time": "2022-07-07T16:53:41.523Z"
   },
   {
    "duration": 17,
    "start_time": "2022-07-07T16:53:41.653Z"
   },
   {
    "duration": 5,
    "start_time": "2022-07-07T16:53:41.671Z"
   },
   {
    "duration": 8,
    "start_time": "2022-07-07T16:53:41.678Z"
   },
   {
    "duration": 36,
    "start_time": "2022-07-07T16:53:41.688Z"
   },
   {
    "duration": 7,
    "start_time": "2022-07-07T16:53:41.726Z"
   },
   {
    "duration": 8,
    "start_time": "2022-07-07T16:53:41.735Z"
   },
   {
    "duration": 8,
    "start_time": "2022-07-07T16:53:41.744Z"
   },
   {
    "duration": 5,
    "start_time": "2022-07-07T16:53:41.753Z"
   },
   {
    "duration": 16,
    "start_time": "2022-07-07T16:53:41.760Z"
   },
   {
    "duration": 295,
    "start_time": "2022-07-07T16:53:41.778Z"
   },
   {
    "duration": 23,
    "start_time": "2022-07-07T16:53:42.075Z"
   },
   {
    "duration": 28,
    "start_time": "2022-07-07T16:53:42.099Z"
   },
   {
    "duration": 129,
    "start_time": "2022-07-07T16:53:42.128Z"
   },
   {
    "duration": 9,
    "start_time": "2022-07-07T16:53:42.258Z"
   },
   {
    "duration": 169,
    "start_time": "2022-07-07T16:53:42.268Z"
   },
   {
    "duration": 9,
    "start_time": "2022-07-07T16:53:42.438Z"
   },
   {
    "duration": 144,
    "start_time": "2022-07-07T16:53:42.449Z"
   },
   {
    "duration": 16,
    "start_time": "2022-07-07T16:53:42.595Z"
   },
   {
    "duration": 126,
    "start_time": "2022-07-07T16:53:42.624Z"
   },
   {
    "duration": 36,
    "start_time": "2022-07-07T16:53:42.752Z"
   },
   {
    "duration": 153,
    "start_time": "2022-07-07T16:53:42.789Z"
   },
   {
    "duration": 30,
    "start_time": "2022-07-07T16:53:42.945Z"
   },
   {
    "duration": 157,
    "start_time": "2022-07-07T16:53:42.977Z"
   },
   {
    "duration": 376,
    "start_time": "2022-07-07T16:53:43.136Z"
   },
   {
    "duration": 13,
    "start_time": "2022-07-07T16:53:43.513Z"
   },
   {
    "duration": 130,
    "start_time": "2022-07-07T16:53:43.527Z"
   },
   {
    "duration": 121,
    "start_time": "2022-07-07T16:53:43.658Z"
   },
   {
    "duration": 145,
    "start_time": "2022-07-07T16:53:43.781Z"
   },
   {
    "duration": 253,
    "start_time": "2022-07-07T16:53:43.927Z"
   },
   {
    "duration": 9,
    "start_time": "2022-07-07T16:53:44.182Z"
   },
   {
    "duration": 714,
    "start_time": "2022-07-07T16:53:44.192Z"
   },
   {
    "duration": 2564,
    "start_time": "2022-07-07T16:53:44.907Z"
   },
   {
    "duration": 30,
    "start_time": "2022-07-07T16:53:47.473Z"
   },
   {
    "duration": 17,
    "start_time": "2022-07-07T16:53:47.523Z"
   },
   {
    "duration": 31,
    "start_time": "2022-07-07T16:53:47.542Z"
   },
   {
    "duration": 16,
    "start_time": "2022-07-07T16:53:47.575Z"
   },
   {
    "duration": 5,
    "start_time": "2022-07-07T16:53:47.594Z"
   },
   {
    "duration": 3,
    "start_time": "2022-07-07T16:54:02.020Z"
   },
   {
    "duration": 111,
    "start_time": "2022-07-07T16:54:02.025Z"
   },
   {
    "duration": 13,
    "start_time": "2022-07-07T16:54:02.138Z"
   },
   {
    "duration": 1755,
    "start_time": "2022-07-07T16:54:02.153Z"
   },
   {
    "duration": 17,
    "start_time": "2022-07-07T16:54:03.910Z"
   },
   {
    "duration": 8,
    "start_time": "2022-07-07T16:54:03.929Z"
   },
   {
    "duration": 8,
    "start_time": "2022-07-07T16:54:03.939Z"
   },
   {
    "duration": 8,
    "start_time": "2022-07-07T16:54:03.948Z"
   },
   {
    "duration": 13,
    "start_time": "2022-07-07T16:54:03.958Z"
   },
   {
    "duration": 4,
    "start_time": "2022-07-07T16:54:03.973Z"
   },
   {
    "duration": 17,
    "start_time": "2022-07-07T16:54:03.978Z"
   },
   {
    "duration": 20,
    "start_time": "2022-07-07T16:54:03.997Z"
   },
   {
    "duration": 32,
    "start_time": "2022-07-07T16:54:04.019Z"
   },
   {
    "duration": 7,
    "start_time": "2022-07-07T16:54:04.052Z"
   },
   {
    "duration": 152,
    "start_time": "2022-07-07T16:54:04.060Z"
   },
   {
    "duration": 11,
    "start_time": "2022-07-07T16:54:04.213Z"
   },
   {
    "duration": 5,
    "start_time": "2022-07-07T16:54:04.225Z"
   },
   {
    "duration": 9,
    "start_time": "2022-07-07T16:54:04.231Z"
   },
   {
    "duration": 9,
    "start_time": "2022-07-07T16:54:04.241Z"
   },
   {
    "duration": 8,
    "start_time": "2022-07-07T16:54:04.251Z"
   },
   {
    "duration": 5,
    "start_time": "2022-07-07T16:54:04.261Z"
   },
   {
    "duration": 7,
    "start_time": "2022-07-07T16:54:04.268Z"
   },
   {
    "duration": 5,
    "start_time": "2022-07-07T16:54:04.277Z"
   },
   {
    "duration": 26,
    "start_time": "2022-07-07T16:54:04.325Z"
   },
   {
    "duration": 311,
    "start_time": "2022-07-07T16:54:04.353Z"
   },
   {
    "duration": 28,
    "start_time": "2022-07-07T16:54:04.665Z"
   },
   {
    "duration": 9,
    "start_time": "2022-07-07T16:54:04.694Z"
   },
   {
    "duration": 139,
    "start_time": "2022-07-07T16:54:04.724Z"
   },
   {
    "duration": 9,
    "start_time": "2022-07-07T16:54:04.865Z"
   },
   {
    "duration": 162,
    "start_time": "2022-07-07T16:54:04.876Z"
   },
   {
    "duration": 10,
    "start_time": "2022-07-07T16:54:05.040Z"
   },
   {
    "duration": 143,
    "start_time": "2022-07-07T16:54:05.052Z"
   },
   {
    "duration": 15,
    "start_time": "2022-07-07T16:54:05.196Z"
   },
   {
    "duration": 134,
    "start_time": "2022-07-07T16:54:05.213Z"
   },
   {
    "duration": 32,
    "start_time": "2022-07-07T16:54:05.349Z"
   },
   {
    "duration": 154,
    "start_time": "2022-07-07T16:54:05.383Z"
   },
   {
    "duration": 30,
    "start_time": "2022-07-07T16:54:05.538Z"
   },
   {
    "duration": 147,
    "start_time": "2022-07-07T16:54:05.570Z"
   },
   {
    "duration": 1109,
    "start_time": "2022-07-07T16:54:05.724Z"
   },
   {
    "duration": 9,
    "start_time": "2022-07-07T16:54:06.834Z"
   },
   {
    "duration": 136,
    "start_time": "2022-07-07T16:54:06.844Z"
   },
   {
    "duration": 117,
    "start_time": "2022-07-07T16:54:06.982Z"
   },
   {
    "duration": 143,
    "start_time": "2022-07-07T16:54:07.100Z"
   },
   {
    "duration": 305,
    "start_time": "2022-07-07T16:54:07.245Z"
   },
   {
    "duration": 12,
    "start_time": "2022-07-07T16:54:07.552Z"
   },
   {
    "duration": 723,
    "start_time": "2022-07-07T16:54:07.566Z"
   },
   {
    "duration": 2538,
    "start_time": "2022-07-07T16:54:08.290Z"
   },
   {
    "duration": 23,
    "start_time": "2022-07-07T16:54:10.830Z"
   },
   {
    "duration": 11,
    "start_time": "2022-07-07T16:54:10.854Z"
   },
   {
    "duration": 33,
    "start_time": "2022-07-07T16:54:10.866Z"
   },
   {
    "duration": 34,
    "start_time": "2022-07-07T16:54:10.901Z"
   },
   {
    "duration": 5,
    "start_time": "2022-07-07T16:54:10.936Z"
   },
   {
    "duration": 2,
    "start_time": "2022-07-07T16:55:21.761Z"
   },
   {
    "duration": 101,
    "start_time": "2022-07-07T16:55:21.765Z"
   },
   {
    "duration": 13,
    "start_time": "2022-07-07T16:55:21.868Z"
   },
   {
    "duration": 1783,
    "start_time": "2022-07-07T16:55:21.883Z"
   },
   {
    "duration": 10,
    "start_time": "2022-07-07T16:55:23.668Z"
   },
   {
    "duration": 11,
    "start_time": "2022-07-07T16:55:23.680Z"
   },
   {
    "duration": 8,
    "start_time": "2022-07-07T16:55:23.693Z"
   },
   {
    "duration": 21,
    "start_time": "2022-07-07T16:55:23.702Z"
   },
   {
    "duration": 12,
    "start_time": "2022-07-07T16:55:23.726Z"
   },
   {
    "duration": 4,
    "start_time": "2022-07-07T16:55:23.740Z"
   },
   {
    "duration": 10,
    "start_time": "2022-07-07T16:55:23.746Z"
   },
   {
    "duration": 9,
    "start_time": "2022-07-07T16:55:23.758Z"
   },
   {
    "duration": 25,
    "start_time": "2022-07-07T16:55:23.769Z"
   },
   {
    "duration": 5,
    "start_time": "2022-07-07T16:55:23.796Z"
   },
   {
    "duration": 114,
    "start_time": "2022-07-07T16:55:23.823Z"
   },
   {
    "duration": 5,
    "start_time": "2022-07-07T16:55:23.939Z"
   },
   {
    "duration": 7,
    "start_time": "2022-07-07T16:55:23.946Z"
   },
   {
    "duration": 8,
    "start_time": "2022-07-07T16:55:23.954Z"
   },
   {
    "duration": 9,
    "start_time": "2022-07-07T16:55:23.963Z"
   },
   {
    "duration": 8,
    "start_time": "2022-07-07T16:55:23.973Z"
   },
   {
    "duration": 7,
    "start_time": "2022-07-07T16:55:23.982Z"
   },
   {
    "duration": 34,
    "start_time": "2022-07-07T16:55:23.990Z"
   },
   {
    "duration": 8,
    "start_time": "2022-07-07T16:55:24.026Z"
   },
   {
    "duration": 16,
    "start_time": "2022-07-07T16:55:24.037Z"
   },
   {
    "duration": 302,
    "start_time": "2022-07-07T16:55:24.055Z"
   },
   {
    "duration": 24,
    "start_time": "2022-07-07T16:55:24.359Z"
   },
   {
    "duration": 8,
    "start_time": "2022-07-07T16:55:24.385Z"
   },
   {
    "duration": 149,
    "start_time": "2022-07-07T16:55:24.394Z"
   },
   {
    "duration": 10,
    "start_time": "2022-07-07T16:55:24.545Z"
   },
   {
    "duration": 181,
    "start_time": "2022-07-07T16:55:24.557Z"
   },
   {
    "duration": 9,
    "start_time": "2022-07-07T16:55:24.740Z"
   },
   {
    "duration": 142,
    "start_time": "2022-07-07T16:55:24.750Z"
   },
   {
    "duration": 15,
    "start_time": "2022-07-07T16:55:24.893Z"
   },
   {
    "duration": 128,
    "start_time": "2022-07-07T16:55:24.910Z"
   },
   {
    "duration": 34,
    "start_time": "2022-07-07T16:55:25.039Z"
   },
   {
    "duration": 155,
    "start_time": "2022-07-07T16:55:25.074Z"
   },
   {
    "duration": 29,
    "start_time": "2022-07-07T16:55:25.230Z"
   },
   {
    "duration": 148,
    "start_time": "2022-07-07T16:55:25.261Z"
   },
   {
    "duration": 367,
    "start_time": "2022-07-07T16:55:25.410Z"
   },
   {
    "duration": 8,
    "start_time": "2022-07-07T16:55:25.779Z"
   },
   {
    "duration": 136,
    "start_time": "2022-07-07T16:55:25.789Z"
   },
   {
    "duration": 121,
    "start_time": "2022-07-07T16:55:25.927Z"
   },
   {
    "duration": 139,
    "start_time": "2022-07-07T16:55:26.050Z"
   },
   {
    "duration": 257,
    "start_time": "2022-07-07T16:55:26.190Z"
   },
   {
    "duration": 9,
    "start_time": "2022-07-07T16:55:26.449Z"
   },
   {
    "duration": 712,
    "start_time": "2022-07-07T16:55:26.459Z"
   },
   {
    "duration": 2681,
    "start_time": "2022-07-07T16:55:27.173Z"
   },
   {
    "duration": 23,
    "start_time": "2022-07-07T16:55:29.855Z"
   },
   {
    "duration": 9,
    "start_time": "2022-07-07T16:55:29.879Z"
   },
   {
    "duration": 54,
    "start_time": "2022-07-07T16:55:29.889Z"
   },
   {
    "duration": 12,
    "start_time": "2022-07-07T16:55:29.945Z"
   },
   {
    "duration": 5,
    "start_time": "2022-07-07T16:55:29.959Z"
   },
   {
    "duration": 206,
    "start_time": "2022-07-07T16:58:16.617Z"
   },
   {
    "duration": 4,
    "start_time": "2022-07-07T16:58:47.402Z"
   },
   {
    "duration": 138,
    "start_time": "2022-07-07T16:58:47.409Z"
   },
   {
    "duration": 15,
    "start_time": "2022-07-07T16:58:47.550Z"
   },
   {
    "duration": 2693,
    "start_time": "2022-07-07T16:58:47.567Z"
   },
   {
    "duration": 9,
    "start_time": "2022-07-07T16:58:50.263Z"
   },
   {
    "duration": 15,
    "start_time": "2022-07-07T16:58:50.273Z"
   },
   {
    "duration": 15,
    "start_time": "2022-07-07T16:58:50.290Z"
   },
   {
    "duration": 5,
    "start_time": "2022-07-07T16:58:50.306Z"
   },
   {
    "duration": 21,
    "start_time": "2022-07-07T16:58:50.313Z"
   },
   {
    "duration": 5,
    "start_time": "2022-07-07T16:58:50.336Z"
   },
   {
    "duration": 35,
    "start_time": "2022-07-07T16:58:50.343Z"
   },
   {
    "duration": 29,
    "start_time": "2022-07-07T16:58:50.379Z"
   },
   {
    "duration": 7,
    "start_time": "2022-07-07T16:58:50.410Z"
   },
   {
    "duration": 27,
    "start_time": "2022-07-07T16:58:50.420Z"
   },
   {
    "duration": 10,
    "start_time": "2022-07-07T16:58:50.449Z"
   },
   {
    "duration": 106,
    "start_time": "2022-07-07T16:58:50.461Z"
   },
   {
    "duration": 5,
    "start_time": "2022-07-07T16:58:50.569Z"
   },
   {
    "duration": 11,
    "start_time": "2022-07-07T16:58:50.575Z"
   },
   {
    "duration": 16,
    "start_time": "2022-07-07T16:58:50.587Z"
   },
   {
    "duration": 17,
    "start_time": "2022-07-07T16:58:50.605Z"
   },
   {
    "duration": 11,
    "start_time": "2022-07-07T16:58:50.623Z"
   },
   {
    "duration": 21,
    "start_time": "2022-07-07T16:58:50.635Z"
   },
   {
    "duration": 19,
    "start_time": "2022-07-07T16:58:50.657Z"
   },
   {
    "duration": 20,
    "start_time": "2022-07-07T16:58:50.677Z"
   },
   {
    "duration": 27,
    "start_time": "2022-07-07T16:58:50.699Z"
   },
   {
    "duration": 271,
    "start_time": "2022-07-07T16:58:50.728Z"
   },
   {
    "duration": 33,
    "start_time": "2022-07-07T16:58:51.001Z"
   },
   {
    "duration": 7,
    "start_time": "2022-07-07T16:58:51.036Z"
   },
   {
    "duration": 142,
    "start_time": "2022-07-07T16:58:51.045Z"
   },
   {
    "duration": 8,
    "start_time": "2022-07-07T16:58:51.189Z"
   },
   {
    "duration": 180,
    "start_time": "2022-07-07T16:58:51.198Z"
   },
   {
    "duration": 9,
    "start_time": "2022-07-07T16:58:51.380Z"
   },
   {
    "duration": 144,
    "start_time": "2022-07-07T16:58:51.390Z"
   },
   {
    "duration": 15,
    "start_time": "2022-07-07T16:58:51.536Z"
   },
   {
    "duration": 131,
    "start_time": "2022-07-07T16:58:51.553Z"
   },
   {
    "duration": 41,
    "start_time": "2022-07-07T16:58:51.686Z"
   },
   {
    "duration": 145,
    "start_time": "2022-07-07T16:58:51.728Z"
   },
   {
    "duration": 29,
    "start_time": "2022-07-07T16:58:51.874Z"
   },
   {
    "duration": 152,
    "start_time": "2022-07-07T16:58:51.905Z"
   },
   {
    "duration": 379,
    "start_time": "2022-07-07T16:58:52.059Z"
   },
   {
    "duration": 9,
    "start_time": "2022-07-07T16:58:52.442Z"
   },
   {
    "duration": 142,
    "start_time": "2022-07-07T16:58:52.453Z"
   },
   {
    "duration": 118,
    "start_time": "2022-07-07T16:58:52.596Z"
   },
   {
    "duration": 151,
    "start_time": "2022-07-07T16:58:52.724Z"
   },
   {
    "duration": 265,
    "start_time": "2022-07-07T16:58:52.877Z"
   },
   {
    "duration": 9,
    "start_time": "2022-07-07T16:58:53.144Z"
   },
   {
    "duration": 667,
    "start_time": "2022-07-07T16:58:53.154Z"
   },
   {
    "duration": 2578,
    "start_time": "2022-07-07T16:58:53.823Z"
   },
   {
    "duration": 37,
    "start_time": "2022-07-07T16:58:56.402Z"
   },
   {
    "duration": 8,
    "start_time": "2022-07-07T16:58:56.441Z"
   },
   {
    "duration": 24,
    "start_time": "2022-07-07T16:58:56.451Z"
   },
   {
    "duration": 14,
    "start_time": "2022-07-07T16:58:56.477Z"
   },
   {
    "duration": 212,
    "start_time": "2022-07-07T16:58:56.525Z"
   },
   {
    "duration": 3,
    "start_time": "2022-07-07T16:59:19.762Z"
   },
   {
    "duration": 127,
    "start_time": "2022-07-07T16:59:19.766Z"
   },
   {
    "duration": 34,
    "start_time": "2022-07-07T16:59:19.895Z"
   },
   {
    "duration": 1849,
    "start_time": "2022-07-07T16:59:19.934Z"
   },
   {
    "duration": 9,
    "start_time": "2022-07-07T16:59:21.785Z"
   },
   {
    "duration": 13,
    "start_time": "2022-07-07T16:59:21.796Z"
   },
   {
    "duration": 16,
    "start_time": "2022-07-07T16:59:21.810Z"
   },
   {
    "duration": 8,
    "start_time": "2022-07-07T16:59:21.828Z"
   },
   {
    "duration": 13,
    "start_time": "2022-07-07T16:59:21.838Z"
   },
   {
    "duration": 3,
    "start_time": "2022-07-07T16:59:21.853Z"
   },
   {
    "duration": 17,
    "start_time": "2022-07-07T16:59:21.859Z"
   },
   {
    "duration": 9,
    "start_time": "2022-07-07T16:59:21.878Z"
   },
   {
    "duration": 10,
    "start_time": "2022-07-07T16:59:21.888Z"
   },
   {
    "duration": 17,
    "start_time": "2022-07-07T16:59:21.900Z"
   },
   {
    "duration": 32,
    "start_time": "2022-07-07T16:59:21.919Z"
   },
   {
    "duration": 125,
    "start_time": "2022-07-07T16:59:21.953Z"
   },
   {
    "duration": 5,
    "start_time": "2022-07-07T16:59:22.080Z"
   },
   {
    "duration": 18,
    "start_time": "2022-07-07T16:59:22.086Z"
   },
   {
    "duration": 33,
    "start_time": "2022-07-07T16:59:22.106Z"
   },
   {
    "duration": 23,
    "start_time": "2022-07-07T16:59:22.141Z"
   },
   {
    "duration": 21,
    "start_time": "2022-07-07T16:59:22.166Z"
   },
   {
    "duration": 22,
    "start_time": "2022-07-07T16:59:22.189Z"
   },
   {
    "duration": 27,
    "start_time": "2022-07-07T16:59:22.212Z"
   },
   {
    "duration": 19,
    "start_time": "2022-07-07T16:59:22.241Z"
   },
   {
    "duration": 22,
    "start_time": "2022-07-07T16:59:22.261Z"
   },
   {
    "duration": 286,
    "start_time": "2022-07-07T16:59:22.284Z"
   },
   {
    "duration": 24,
    "start_time": "2022-07-07T16:59:22.572Z"
   },
   {
    "duration": 18,
    "start_time": "2022-07-07T16:59:22.597Z"
   },
   {
    "duration": 140,
    "start_time": "2022-07-07T16:59:22.627Z"
   },
   {
    "duration": 9,
    "start_time": "2022-07-07T16:59:22.769Z"
   },
   {
    "duration": 172,
    "start_time": "2022-07-07T16:59:22.779Z"
   },
   {
    "duration": 8,
    "start_time": "2022-07-07T16:59:22.952Z"
   },
   {
    "duration": 152,
    "start_time": "2022-07-07T16:59:22.962Z"
   },
   {
    "duration": 26,
    "start_time": "2022-07-07T16:59:23.115Z"
   },
   {
    "duration": 129,
    "start_time": "2022-07-07T16:59:23.143Z"
   },
   {
    "duration": 33,
    "start_time": "2022-07-07T16:59:23.273Z"
   },
   {
    "duration": 169,
    "start_time": "2022-07-07T16:59:23.308Z"
   },
   {
    "duration": 30,
    "start_time": "2022-07-07T16:59:23.479Z"
   },
   {
    "duration": 167,
    "start_time": "2022-07-07T16:59:23.510Z"
   },
   {
    "duration": 379,
    "start_time": "2022-07-07T16:59:23.679Z"
   },
   {
    "duration": 9,
    "start_time": "2022-07-07T16:59:24.059Z"
   },
   {
    "duration": 146,
    "start_time": "2022-07-07T16:59:24.070Z"
   },
   {
    "duration": 133,
    "start_time": "2022-07-07T16:59:24.227Z"
   },
   {
    "duration": 156,
    "start_time": "2022-07-07T16:59:24.362Z"
   },
   {
    "duration": 306,
    "start_time": "2022-07-07T16:59:24.523Z"
   },
   {
    "duration": 16,
    "start_time": "2022-07-07T16:59:24.832Z"
   },
   {
    "duration": 709,
    "start_time": "2022-07-07T16:59:24.849Z"
   },
   {
    "duration": 2741,
    "start_time": "2022-07-07T16:59:25.560Z"
   },
   {
    "duration": 45,
    "start_time": "2022-07-07T16:59:28.303Z"
   },
   {
    "duration": 9,
    "start_time": "2022-07-07T16:59:28.350Z"
   },
   {
    "duration": 28,
    "start_time": "2022-07-07T16:59:28.361Z"
   },
   {
    "duration": 45,
    "start_time": "2022-07-07T16:59:28.391Z"
   },
   {
    "duration": 235,
    "start_time": "2022-07-07T16:59:28.438Z"
   },
   {
    "duration": 3,
    "start_time": "2022-07-07T17:02:39.103Z"
   },
   {
    "duration": 105,
    "start_time": "2022-07-07T17:02:39.108Z"
   },
   {
    "duration": 21,
    "start_time": "2022-07-07T17:02:39.215Z"
   },
   {
    "duration": 1761,
    "start_time": "2022-07-07T17:02:39.237Z"
   },
   {
    "duration": 24,
    "start_time": "2022-07-07T17:02:41.002Z"
   },
   {
    "duration": 5,
    "start_time": "2022-07-07T17:02:41.028Z"
   },
   {
    "duration": 11,
    "start_time": "2022-07-07T17:02:41.035Z"
   },
   {
    "duration": 10,
    "start_time": "2022-07-07T17:02:41.048Z"
   },
   {
    "duration": 15,
    "start_time": "2022-07-07T17:02:41.061Z"
   },
   {
    "duration": 6,
    "start_time": "2022-07-07T17:02:41.078Z"
   },
   {
    "duration": 11,
    "start_time": "2022-07-07T17:02:41.085Z"
   },
   {
    "duration": 27,
    "start_time": "2022-07-07T17:02:41.098Z"
   },
   {
    "duration": 24,
    "start_time": "2022-07-07T17:02:41.128Z"
   },
   {
    "duration": 6,
    "start_time": "2022-07-07T17:02:41.154Z"
   },
   {
    "duration": 13,
    "start_time": "2022-07-07T17:02:41.162Z"
   },
   {
    "duration": 135,
    "start_time": "2022-07-07T17:02:41.177Z"
   },
   {
    "duration": 10,
    "start_time": "2022-07-07T17:02:41.314Z"
   },
   {
    "duration": 5,
    "start_time": "2022-07-07T17:02:41.326Z"
   },
   {
    "duration": 12,
    "start_time": "2022-07-07T17:02:41.333Z"
   },
   {
    "duration": 15,
    "start_time": "2022-07-07T17:02:41.346Z"
   },
   {
    "duration": 8,
    "start_time": "2022-07-07T17:02:41.363Z"
   },
   {
    "duration": 9,
    "start_time": "2022-07-07T17:02:41.372Z"
   },
   {
    "duration": 6,
    "start_time": "2022-07-07T17:02:41.382Z"
   },
   {
    "duration": 36,
    "start_time": "2022-07-07T17:02:41.389Z"
   },
   {
    "duration": 287,
    "start_time": "2022-07-07T17:02:41.427Z"
   },
   {
    "duration": 33,
    "start_time": "2022-07-07T17:02:41.716Z"
   },
   {
    "duration": 9,
    "start_time": "2022-07-07T17:02:41.751Z"
   },
   {
    "duration": 155,
    "start_time": "2022-07-07T17:02:41.762Z"
   },
   {
    "duration": 11,
    "start_time": "2022-07-07T17:02:41.923Z"
   },
   {
    "duration": 177,
    "start_time": "2022-07-07T17:02:41.936Z"
   },
   {
    "duration": 16,
    "start_time": "2022-07-07T17:02:42.115Z"
   },
   {
    "duration": 144,
    "start_time": "2022-07-07T17:02:42.133Z"
   },
   {
    "duration": 16,
    "start_time": "2022-07-07T17:02:42.279Z"
   },
   {
    "duration": 145,
    "start_time": "2022-07-07T17:02:42.297Z"
   },
   {
    "duration": 33,
    "start_time": "2022-07-07T17:02:42.444Z"
   },
   {
    "duration": 166,
    "start_time": "2022-07-07T17:02:42.479Z"
   },
   {
    "duration": 32,
    "start_time": "2022-07-07T17:02:42.649Z"
   },
   {
    "duration": 162,
    "start_time": "2022-07-07T17:02:42.682Z"
   },
   {
    "duration": 1578,
    "start_time": "2022-07-07T17:02:42.846Z"
   },
   {
    "duration": 11,
    "start_time": "2022-07-07T17:02:44.426Z"
   },
   {
    "duration": 228,
    "start_time": "2022-07-07T17:02:44.438Z"
   },
   {
    "duration": 129,
    "start_time": "2022-07-07T17:02:44.668Z"
   },
   {
    "duration": 154,
    "start_time": "2022-07-07T17:02:44.799Z"
   },
   {
    "duration": 280,
    "start_time": "2022-07-07T17:02:44.955Z"
   },
   {
    "duration": 10,
    "start_time": "2022-07-07T17:02:45.237Z"
   },
   {
    "duration": 762,
    "start_time": "2022-07-07T17:02:45.249Z"
   },
   {
    "duration": 2817,
    "start_time": "2022-07-07T17:02:46.012Z"
   },
   {
    "duration": 26,
    "start_time": "2022-07-07T17:02:48.830Z"
   },
   {
    "duration": 8,
    "start_time": "2022-07-07T17:02:48.857Z"
   },
   {
    "duration": 58,
    "start_time": "2022-07-07T17:02:48.867Z"
   },
   {
    "duration": 14,
    "start_time": "2022-07-07T17:02:48.926Z"
   },
   {
    "duration": 219,
    "start_time": "2022-07-07T17:02:48.941Z"
   },
   {
    "duration": 3,
    "start_time": "2022-07-07T17:07:46.309Z"
   },
   {
    "duration": 144,
    "start_time": "2022-07-07T17:07:46.314Z"
   },
   {
    "duration": 15,
    "start_time": "2022-07-07T17:07:46.460Z"
   },
   {
    "duration": 1975,
    "start_time": "2022-07-07T17:07:46.477Z"
   },
   {
    "duration": 9,
    "start_time": "2022-07-07T17:07:48.455Z"
   },
   {
    "duration": 5,
    "start_time": "2022-07-07T17:07:48.466Z"
   },
   {
    "duration": 8,
    "start_time": "2022-07-07T17:07:48.472Z"
   },
   {
    "duration": 5,
    "start_time": "2022-07-07T17:07:48.481Z"
   },
   {
    "duration": 11,
    "start_time": "2022-07-07T17:07:48.488Z"
   },
   {
    "duration": 8,
    "start_time": "2022-07-07T17:07:48.530Z"
   },
   {
    "duration": 11,
    "start_time": "2022-07-07T17:07:48.541Z"
   },
   {
    "duration": 10,
    "start_time": "2022-07-07T17:07:48.553Z"
   },
   {
    "duration": 25,
    "start_time": "2022-07-07T17:07:48.565Z"
   },
   {
    "duration": 6,
    "start_time": "2022-07-07T17:07:48.592Z"
   },
   {
    "duration": 209,
    "start_time": "2022-07-07T17:07:48.599Z"
   },
   {
    "duration": 17,
    "start_time": "2022-07-07T17:07:48.810Z"
   },
   {
    "duration": 8,
    "start_time": "2022-07-07T17:07:48.829Z"
   },
   {
    "duration": 19,
    "start_time": "2022-07-07T17:07:48.842Z"
   },
   {
    "duration": 9,
    "start_time": "2022-07-07T17:07:48.862Z"
   },
   {
    "duration": 10,
    "start_time": "2022-07-07T17:07:48.873Z"
   },
   {
    "duration": 9,
    "start_time": "2022-07-07T17:07:48.885Z"
   },
   {
    "duration": 6,
    "start_time": "2022-07-07T17:07:48.896Z"
   },
   {
    "duration": 35,
    "start_time": "2022-07-07T17:07:48.903Z"
   },
   {
    "duration": 302,
    "start_time": "2022-07-07T17:07:48.940Z"
   },
   {
    "duration": 26,
    "start_time": "2022-07-07T17:07:49.244Z"
   },
   {
    "duration": 9,
    "start_time": "2022-07-07T17:07:49.272Z"
   },
   {
    "duration": 160,
    "start_time": "2022-07-07T17:07:49.282Z"
   },
   {
    "duration": 8,
    "start_time": "2022-07-07T17:07:49.444Z"
   },
   {
    "duration": 186,
    "start_time": "2022-07-07T17:07:49.456Z"
   },
   {
    "duration": 9,
    "start_time": "2022-07-07T17:07:49.644Z"
   },
   {
    "duration": 142,
    "start_time": "2022-07-07T17:07:49.654Z"
   },
   {
    "duration": 36,
    "start_time": "2022-07-07T17:07:49.798Z"
   },
   {
    "duration": 124,
    "start_time": "2022-07-07T17:07:49.836Z"
   },
   {
    "duration": 35,
    "start_time": "2022-07-07T17:07:49.962Z"
   },
   {
    "duration": 180,
    "start_time": "2022-07-07T17:07:49.998Z"
   },
   {
    "duration": 31,
    "start_time": "2022-07-07T17:07:50.179Z"
   },
   {
    "duration": 159,
    "start_time": "2022-07-07T17:07:50.223Z"
   },
   {
    "duration": 386,
    "start_time": "2022-07-07T17:07:50.383Z"
   },
   {
    "duration": 10,
    "start_time": "2022-07-07T17:07:50.770Z"
   },
   {
    "duration": 148,
    "start_time": "2022-07-07T17:07:50.782Z"
   },
   {
    "duration": 127,
    "start_time": "2022-07-07T17:07:50.932Z"
   },
   {
    "duration": 149,
    "start_time": "2022-07-07T17:07:51.061Z"
   },
   {
    "duration": 268,
    "start_time": "2022-07-07T17:07:51.212Z"
   },
   {
    "duration": 9,
    "start_time": "2022-07-07T17:07:51.482Z"
   },
   {
    "duration": 895,
    "start_time": "2022-07-07T17:07:51.493Z"
   },
   {
    "duration": 2757,
    "start_time": "2022-07-07T17:07:52.390Z"
   },
   {
    "duration": 23,
    "start_time": "2022-07-07T17:07:55.149Z"
   },
   {
    "duration": 8,
    "start_time": "2022-07-07T17:07:55.173Z"
   },
   {
    "duration": 25,
    "start_time": "2022-07-07T17:07:55.183Z"
   },
   {
    "duration": 14,
    "start_time": "2022-07-07T17:07:55.225Z"
   },
   {
    "duration": 362,
    "start_time": "2022-07-07T17:07:55.241Z"
   },
   {
    "duration": 3,
    "start_time": "2022-07-07T17:09:05.467Z"
   },
   {
    "duration": 112,
    "start_time": "2022-07-07T17:09:05.472Z"
   },
   {
    "duration": 14,
    "start_time": "2022-07-07T17:09:05.586Z"
   },
   {
    "duration": 1883,
    "start_time": "2022-07-07T17:09:05.601Z"
   },
   {
    "duration": 13,
    "start_time": "2022-07-07T17:09:07.486Z"
   },
   {
    "duration": 24,
    "start_time": "2022-07-07T17:09:07.501Z"
   },
   {
    "duration": 10,
    "start_time": "2022-07-07T17:09:07.527Z"
   },
   {
    "duration": 11,
    "start_time": "2022-07-07T17:09:07.540Z"
   },
   {
    "duration": 26,
    "start_time": "2022-07-07T17:09:07.553Z"
   },
   {
    "duration": 23,
    "start_time": "2022-07-07T17:09:07.581Z"
   },
   {
    "duration": 16,
    "start_time": "2022-07-07T17:09:07.606Z"
   },
   {
    "duration": 18,
    "start_time": "2022-07-07T17:09:07.624Z"
   },
   {
    "duration": 46,
    "start_time": "2022-07-07T17:09:07.644Z"
   },
   {
    "duration": 5,
    "start_time": "2022-07-07T17:09:07.694Z"
   },
   {
    "duration": 192,
    "start_time": "2022-07-07T17:09:07.701Z"
   },
   {
    "duration": 5,
    "start_time": "2022-07-07T17:09:07.894Z"
   },
   {
    "duration": 16,
    "start_time": "2022-07-07T17:09:07.901Z"
   },
   {
    "duration": 25,
    "start_time": "2022-07-07T17:09:07.924Z"
   },
   {
    "duration": 27,
    "start_time": "2022-07-07T17:09:07.951Z"
   },
   {
    "duration": 25,
    "start_time": "2022-07-07T17:09:07.980Z"
   },
   {
    "duration": 24,
    "start_time": "2022-07-07T17:09:08.007Z"
   },
   {
    "duration": 15,
    "start_time": "2022-07-07T17:09:08.033Z"
   },
   {
    "duration": 37,
    "start_time": "2022-07-07T17:09:08.050Z"
   },
   {
    "duration": 283,
    "start_time": "2022-07-07T17:09:08.089Z"
   },
   {
    "duration": 26,
    "start_time": "2022-07-07T17:09:08.374Z"
   },
   {
    "duration": 23,
    "start_time": "2022-07-07T17:09:08.402Z"
   },
   {
    "duration": 140,
    "start_time": "2022-07-07T17:09:08.427Z"
   },
   {
    "duration": 10,
    "start_time": "2022-07-07T17:09:08.569Z"
   },
   {
    "duration": 175,
    "start_time": "2022-07-07T17:09:08.580Z"
   },
   {
    "duration": 10,
    "start_time": "2022-07-07T17:09:08.757Z"
   },
   {
    "duration": 169,
    "start_time": "2022-07-07T17:09:08.768Z"
   },
   {
    "duration": 16,
    "start_time": "2022-07-07T17:09:08.939Z"
   },
   {
    "duration": 145,
    "start_time": "2022-07-07T17:09:08.957Z"
   },
   {
    "duration": 42,
    "start_time": "2022-07-07T17:09:09.104Z"
   },
   {
    "duration": 168,
    "start_time": "2022-07-07T17:09:09.148Z"
   },
   {
    "duration": 43,
    "start_time": "2022-07-07T17:09:09.323Z"
   },
   {
    "duration": 158,
    "start_time": "2022-07-07T17:09:09.368Z"
   },
   {
    "duration": 378,
    "start_time": "2022-07-07T17:09:09.527Z"
   },
   {
    "duration": 17,
    "start_time": "2022-07-07T17:09:09.907Z"
   },
   {
    "duration": 135,
    "start_time": "2022-07-07T17:09:09.926Z"
   },
   {
    "duration": 122,
    "start_time": "2022-07-07T17:09:10.065Z"
   },
   {
    "duration": 144,
    "start_time": "2022-07-07T17:09:10.189Z"
   },
   {
    "duration": 261,
    "start_time": "2022-07-07T17:09:10.335Z"
   },
   {
    "duration": 10,
    "start_time": "2022-07-07T17:09:10.598Z"
   },
   {
    "duration": 666,
    "start_time": "2022-07-07T17:09:10.609Z"
   },
   {
    "duration": 3900,
    "start_time": "2022-07-07T17:09:11.277Z"
   },
   {
    "duration": 47,
    "start_time": "2022-07-07T17:09:15.178Z"
   },
   {
    "duration": 9,
    "start_time": "2022-07-07T17:09:15.227Z"
   },
   {
    "duration": 26,
    "start_time": "2022-07-07T17:09:15.237Z"
   },
   {
    "duration": 13,
    "start_time": "2022-07-07T17:09:15.265Z"
   },
   {
    "duration": 358,
    "start_time": "2022-07-07T17:09:15.280Z"
   },
   {
    "duration": 3,
    "start_time": "2022-07-07T17:11:22.695Z"
   },
   {
    "duration": 98,
    "start_time": "2022-07-07T17:11:22.703Z"
   },
   {
    "duration": 25,
    "start_time": "2022-07-07T17:11:22.802Z"
   },
   {
    "duration": 1717,
    "start_time": "2022-07-07T17:11:22.829Z"
   },
   {
    "duration": 12,
    "start_time": "2022-07-07T17:11:24.548Z"
   },
   {
    "duration": 16,
    "start_time": "2022-07-07T17:11:24.562Z"
   },
   {
    "duration": 12,
    "start_time": "2022-07-07T17:11:24.580Z"
   },
   {
    "duration": 6,
    "start_time": "2022-07-07T17:11:24.593Z"
   },
   {
    "duration": 25,
    "start_time": "2022-07-07T17:11:24.601Z"
   },
   {
    "duration": 5,
    "start_time": "2022-07-07T17:11:24.628Z"
   },
   {
    "duration": 17,
    "start_time": "2022-07-07T17:11:24.635Z"
   },
   {
    "duration": 19,
    "start_time": "2022-07-07T17:11:24.654Z"
   },
   {
    "duration": 0,
    "start_time": "2022-07-07T17:11:24.676Z"
   },
   {
    "duration": 0,
    "start_time": "2022-07-07T17:11:24.677Z"
   },
   {
    "duration": 0,
    "start_time": "2022-07-07T17:11:24.678Z"
   },
   {
    "duration": 0,
    "start_time": "2022-07-07T17:11:24.679Z"
   },
   {
    "duration": 0,
    "start_time": "2022-07-07T17:11:24.680Z"
   },
   {
    "duration": 0,
    "start_time": "2022-07-07T17:11:24.681Z"
   },
   {
    "duration": 0,
    "start_time": "2022-07-07T17:11:24.682Z"
   },
   {
    "duration": 0,
    "start_time": "2022-07-07T17:11:24.683Z"
   },
   {
    "duration": 0,
    "start_time": "2022-07-07T17:11:24.684Z"
   },
   {
    "duration": 0,
    "start_time": "2022-07-07T17:11:24.685Z"
   },
   {
    "duration": 0,
    "start_time": "2022-07-07T17:11:24.686Z"
   },
   {
    "duration": 0,
    "start_time": "2022-07-07T17:11:24.687Z"
   },
   {
    "duration": 0,
    "start_time": "2022-07-07T17:11:24.688Z"
   },
   {
    "duration": 0,
    "start_time": "2022-07-07T17:11:24.689Z"
   },
   {
    "duration": 0,
    "start_time": "2022-07-07T17:11:24.690Z"
   },
   {
    "duration": 0,
    "start_time": "2022-07-07T17:11:24.691Z"
   },
   {
    "duration": 0,
    "start_time": "2022-07-07T17:11:24.692Z"
   },
   {
    "duration": 0,
    "start_time": "2022-07-07T17:11:24.724Z"
   },
   {
    "duration": 0,
    "start_time": "2022-07-07T17:11:24.725Z"
   },
   {
    "duration": 0,
    "start_time": "2022-07-07T17:11:24.726Z"
   },
   {
    "duration": 0,
    "start_time": "2022-07-07T17:11:24.727Z"
   },
   {
    "duration": 0,
    "start_time": "2022-07-07T17:11:24.728Z"
   },
   {
    "duration": 0,
    "start_time": "2022-07-07T17:11:24.729Z"
   },
   {
    "duration": 0,
    "start_time": "2022-07-07T17:11:24.730Z"
   },
   {
    "duration": 0,
    "start_time": "2022-07-07T17:11:24.732Z"
   },
   {
    "duration": 0,
    "start_time": "2022-07-07T17:11:24.733Z"
   },
   {
    "duration": 0,
    "start_time": "2022-07-07T17:11:24.734Z"
   },
   {
    "duration": 0,
    "start_time": "2022-07-07T17:11:24.735Z"
   },
   {
    "duration": 0,
    "start_time": "2022-07-07T17:11:24.736Z"
   },
   {
    "duration": 0,
    "start_time": "2022-07-07T17:11:24.737Z"
   },
   {
    "duration": 0,
    "start_time": "2022-07-07T17:11:24.738Z"
   },
   {
    "duration": 0,
    "start_time": "2022-07-07T17:11:24.739Z"
   },
   {
    "duration": 0,
    "start_time": "2022-07-07T17:11:24.740Z"
   },
   {
    "duration": 0,
    "start_time": "2022-07-07T17:11:24.741Z"
   },
   {
    "duration": 0,
    "start_time": "2022-07-07T17:11:24.742Z"
   },
   {
    "duration": 0,
    "start_time": "2022-07-07T17:11:24.743Z"
   },
   {
    "duration": 0,
    "start_time": "2022-07-07T17:11:24.744Z"
   },
   {
    "duration": 2,
    "start_time": "2022-07-07T17:11:52.963Z"
   },
   {
    "duration": 114,
    "start_time": "2022-07-07T17:11:52.967Z"
   },
   {
    "duration": 14,
    "start_time": "2022-07-07T17:11:53.083Z"
   },
   {
    "duration": 1845,
    "start_time": "2022-07-07T17:11:53.099Z"
   },
   {
    "duration": 10,
    "start_time": "2022-07-07T17:11:54.946Z"
   },
   {
    "duration": 10,
    "start_time": "2022-07-07T17:11:54.958Z"
   },
   {
    "duration": 6,
    "start_time": "2022-07-07T17:11:54.970Z"
   },
   {
    "duration": 6,
    "start_time": "2022-07-07T17:11:54.978Z"
   },
   {
    "duration": 11,
    "start_time": "2022-07-07T17:11:54.986Z"
   },
   {
    "duration": 27,
    "start_time": "2022-07-07T17:11:54.999Z"
   },
   {
    "duration": 9,
    "start_time": "2022-07-07T17:11:55.028Z"
   },
   {
    "duration": 8,
    "start_time": "2022-07-07T17:11:55.039Z"
   },
   {
    "duration": 30,
    "start_time": "2022-07-07T17:11:55.048Z"
   },
   {
    "duration": 193,
    "start_time": "2022-07-07T17:11:55.079Z"
   },
   {
    "duration": 6,
    "start_time": "2022-07-07T17:11:55.273Z"
   },
   {
    "duration": 25,
    "start_time": "2022-07-07T17:11:55.281Z"
   },
   {
    "duration": 8,
    "start_time": "2022-07-07T17:11:55.307Z"
   },
   {
    "duration": 6,
    "start_time": "2022-07-07T17:11:55.316Z"
   },
   {
    "duration": 7,
    "start_time": "2022-07-07T17:11:55.324Z"
   },
   {
    "duration": 10,
    "start_time": "2022-07-07T17:11:55.333Z"
   },
   {
    "duration": 18,
    "start_time": "2022-07-07T17:11:55.344Z"
   },
   {
    "duration": 281,
    "start_time": "2022-07-07T17:11:55.364Z"
   },
   {
    "duration": 25,
    "start_time": "2022-07-07T17:11:55.646Z"
   },
   {
    "duration": 9,
    "start_time": "2022-07-07T17:11:55.674Z"
   },
   {
    "duration": 149,
    "start_time": "2022-07-07T17:11:55.684Z"
   },
   {
    "duration": 9,
    "start_time": "2022-07-07T17:11:55.835Z"
   },
   {
    "duration": 165,
    "start_time": "2022-07-07T17:11:55.845Z"
   },
   {
    "duration": 18,
    "start_time": "2022-07-07T17:11:56.011Z"
   },
   {
    "duration": 136,
    "start_time": "2022-07-07T17:11:56.030Z"
   },
   {
    "duration": 16,
    "start_time": "2022-07-07T17:11:56.168Z"
   },
   {
    "duration": 141,
    "start_time": "2022-07-07T17:11:56.185Z"
   },
   {
    "duration": 35,
    "start_time": "2022-07-07T17:11:56.328Z"
   },
   {
    "duration": 164,
    "start_time": "2022-07-07T17:11:56.364Z"
   },
   {
    "duration": 31,
    "start_time": "2022-07-07T17:11:56.530Z"
   },
   {
    "duration": 163,
    "start_time": "2022-07-07T17:11:56.563Z"
   },
   {
    "duration": 394,
    "start_time": "2022-07-07T17:11:56.728Z"
   },
   {
    "duration": 10,
    "start_time": "2022-07-07T17:11:57.124Z"
   },
   {
    "duration": 145,
    "start_time": "2022-07-07T17:11:57.136Z"
   },
   {
    "duration": 115,
    "start_time": "2022-07-07T17:11:57.283Z"
   },
   {
    "duration": 178,
    "start_time": "2022-07-07T17:11:57.400Z"
   },
   {
    "duration": 298,
    "start_time": "2022-07-07T17:11:57.580Z"
   },
   {
    "duration": 8,
    "start_time": "2022-07-07T17:11:57.880Z"
   },
   {
    "duration": 671,
    "start_time": "2022-07-07T17:11:57.889Z"
   },
   {
    "duration": 2518,
    "start_time": "2022-07-07T17:11:58.562Z"
   },
   {
    "duration": 43,
    "start_time": "2022-07-07T17:12:01.082Z"
   },
   {
    "duration": 9,
    "start_time": "2022-07-07T17:12:01.126Z"
   },
   {
    "duration": 39,
    "start_time": "2022-07-07T17:12:01.136Z"
   },
   {
    "duration": 13,
    "start_time": "2022-07-07T17:12:01.177Z"
   },
   {
    "duration": 336,
    "start_time": "2022-07-07T17:12:01.192Z"
   },
   {
    "duration": 3,
    "start_time": "2022-07-07T17:22:17.200Z"
   },
   {
    "duration": 108,
    "start_time": "2022-07-07T17:22:17.205Z"
   },
   {
    "duration": 30,
    "start_time": "2022-07-07T17:22:17.314Z"
   },
   {
    "duration": 1831,
    "start_time": "2022-07-07T17:22:17.347Z"
   },
   {
    "duration": 9,
    "start_time": "2022-07-07T17:22:19.179Z"
   },
   {
    "duration": 7,
    "start_time": "2022-07-07T17:22:19.189Z"
   },
   {
    "duration": 8,
    "start_time": "2022-07-07T17:22:19.198Z"
   },
   {
    "duration": 17,
    "start_time": "2022-07-07T17:22:19.207Z"
   },
   {
    "duration": 11,
    "start_time": "2022-07-07T17:22:19.226Z"
   },
   {
    "duration": 4,
    "start_time": "2022-07-07T17:22:19.239Z"
   },
   {
    "duration": 10,
    "start_time": "2022-07-07T17:22:19.245Z"
   },
   {
    "duration": 9,
    "start_time": "2022-07-07T17:22:19.256Z"
   },
   {
    "duration": 24,
    "start_time": "2022-07-07T17:22:19.266Z"
   },
   {
    "duration": 43,
    "start_time": "2022-07-07T17:22:19.292Z"
   },
   {
    "duration": 188,
    "start_time": "2022-07-07T17:22:19.344Z"
   },
   {
    "duration": 6,
    "start_time": "2022-07-07T17:22:19.534Z"
   },
   {
    "duration": 10,
    "start_time": "2022-07-07T17:22:19.541Z"
   },
   {
    "duration": 8,
    "start_time": "2022-07-07T17:22:19.552Z"
   },
   {
    "duration": 6,
    "start_time": "2022-07-07T17:22:19.561Z"
   },
   {
    "duration": 14,
    "start_time": "2022-07-07T17:22:19.568Z"
   },
   {
    "duration": 14,
    "start_time": "2022-07-07T17:22:19.584Z"
   },
   {
    "duration": 5,
    "start_time": "2022-07-07T17:22:19.600Z"
   },
   {
    "duration": 271,
    "start_time": "2022-07-07T17:22:19.623Z"
   },
   {
    "duration": 32,
    "start_time": "2022-07-07T17:22:19.898Z"
   },
   {
    "duration": 8,
    "start_time": "2022-07-07T17:22:19.931Z"
   },
   {
    "duration": 150,
    "start_time": "2022-07-07T17:22:19.941Z"
   },
   {
    "duration": 10,
    "start_time": "2022-07-07T17:22:20.092Z"
   },
   {
    "duration": 159,
    "start_time": "2022-07-07T17:22:20.103Z"
   },
   {
    "duration": 9,
    "start_time": "2022-07-07T17:22:20.264Z"
   },
   {
    "duration": 135,
    "start_time": "2022-07-07T17:22:20.274Z"
   },
   {
    "duration": 24,
    "start_time": "2022-07-07T17:22:20.411Z"
   },
   {
    "duration": 129,
    "start_time": "2022-07-07T17:22:20.437Z"
   },
   {
    "duration": 33,
    "start_time": "2022-07-07T17:22:20.567Z"
   },
   {
    "duration": 154,
    "start_time": "2022-07-07T17:22:20.602Z"
   },
   {
    "duration": 30,
    "start_time": "2022-07-07T17:22:20.758Z"
   },
   {
    "duration": 152,
    "start_time": "2022-07-07T17:22:20.790Z"
   },
   {
    "duration": 369,
    "start_time": "2022-07-07T17:22:20.943Z"
   },
   {
    "duration": 13,
    "start_time": "2022-07-07T17:22:21.314Z"
   },
   {
    "duration": 138,
    "start_time": "2022-07-07T17:22:21.328Z"
   },
   {
    "duration": 121,
    "start_time": "2022-07-07T17:22:21.468Z"
   },
   {
    "duration": 147,
    "start_time": "2022-07-07T17:22:21.591Z"
   },
   {
    "duration": 259,
    "start_time": "2022-07-07T17:22:21.739Z"
   },
   {
    "duration": 9,
    "start_time": "2022-07-07T17:22:22.000Z"
   },
   {
    "duration": 731,
    "start_time": "2022-07-07T17:22:22.011Z"
   },
   {
    "duration": 2526,
    "start_time": "2022-07-07T17:22:22.744Z"
   },
   {
    "duration": 23,
    "start_time": "2022-07-07T17:22:25.272Z"
   },
   {
    "duration": 28,
    "start_time": "2022-07-07T17:22:25.296Z"
   },
   {
    "duration": 23,
    "start_time": "2022-07-07T17:22:25.326Z"
   },
   {
    "duration": 12,
    "start_time": "2022-07-07T17:22:25.351Z"
   },
   {
    "duration": 341,
    "start_time": "2022-07-07T17:22:25.365Z"
   },
   {
    "duration": 3,
    "start_time": "2022-07-07T17:23:25.852Z"
   },
   {
    "duration": 110,
    "start_time": "2022-07-07T17:23:27.030Z"
   },
   {
    "duration": 15,
    "start_time": "2022-07-07T17:23:29.792Z"
   },
   {
    "duration": 1769,
    "start_time": "2022-07-07T17:23:32.089Z"
   },
   {
    "duration": 10,
    "start_time": "2022-07-07T17:23:33.981Z"
   },
   {
    "duration": 4,
    "start_time": "2022-07-07T17:23:35.864Z"
   },
   {
    "duration": 7,
    "start_time": "2022-07-07T17:23:38.922Z"
   },
   {
    "duration": 5,
    "start_time": "2022-07-07T17:23:42.709Z"
   },
   {
    "duration": 9,
    "start_time": "2022-07-07T17:23:44.880Z"
   },
   {
    "duration": 6,
    "start_time": "2022-07-07T17:23:47.429Z"
   },
   {
    "duration": 8,
    "start_time": "2022-07-07T17:23:48.629Z"
   },
   {
    "duration": 7,
    "start_time": "2022-07-07T17:23:51.829Z"
   },
   {
    "duration": 25,
    "start_time": "2022-07-07T17:23:54.981Z"
   },
   {
    "duration": 21,
    "start_time": "2022-07-07T17:23:57.919Z"
   },
   {
    "duration": 3,
    "start_time": "2022-07-07T17:25:47.828Z"
   },
   {
    "duration": 99,
    "start_time": "2022-07-07T17:25:47.856Z"
   },
   {
    "duration": 13,
    "start_time": "2022-07-07T17:25:47.957Z"
   },
   {
    "duration": 1757,
    "start_time": "2022-07-07T17:25:47.972Z"
   },
   {
    "duration": 9,
    "start_time": "2022-07-07T17:25:49.731Z"
   },
   {
    "duration": 3,
    "start_time": "2022-07-07T17:25:49.743Z"
   },
   {
    "duration": 22,
    "start_time": "2022-07-07T17:25:49.748Z"
   },
   {
    "duration": 6,
    "start_time": "2022-07-07T17:25:49.772Z"
   },
   {
    "duration": 15,
    "start_time": "2022-07-07T17:25:49.780Z"
   },
   {
    "duration": 4,
    "start_time": "2022-07-07T17:25:49.796Z"
   },
   {
    "duration": 22,
    "start_time": "2022-07-07T17:25:49.802Z"
   },
   {
    "duration": 6,
    "start_time": "2022-07-07T17:25:49.825Z"
   },
   {
    "duration": 23,
    "start_time": "2022-07-07T17:25:49.832Z"
   },
   {
    "duration": 28,
    "start_time": "2022-07-07T17:26:00.578Z"
   },
   {
    "duration": 2,
    "start_time": "2022-07-07T17:34:14.381Z"
   },
   {
    "duration": 100,
    "start_time": "2022-07-07T17:34:14.385Z"
   },
   {
    "duration": 16,
    "start_time": "2022-07-07T17:34:14.487Z"
   },
   {
    "duration": 1813,
    "start_time": "2022-07-07T17:34:14.504Z"
   },
   {
    "duration": 9,
    "start_time": "2022-07-07T17:34:16.323Z"
   },
   {
    "duration": 5,
    "start_time": "2022-07-07T17:34:16.334Z"
   },
   {
    "duration": 7,
    "start_time": "2022-07-07T17:34:16.340Z"
   },
   {
    "duration": 5,
    "start_time": "2022-07-07T17:34:16.348Z"
   },
   {
    "duration": 11,
    "start_time": "2022-07-07T17:34:16.354Z"
   },
   {
    "duration": 4,
    "start_time": "2022-07-07T17:34:16.367Z"
   },
   {
    "duration": 9,
    "start_time": "2022-07-07T17:34:16.372Z"
   },
   {
    "duration": 8,
    "start_time": "2022-07-07T17:34:18.863Z"
   },
   {
    "duration": 17,
    "start_time": "2022-07-07T18:21:08.718Z"
   },
   {
    "duration": 258,
    "start_time": "2022-07-07T18:23:13.636Z"
   },
   {
    "duration": 262,
    "start_time": "2022-07-07T18:23:42.549Z"
   },
   {
    "duration": 3,
    "start_time": "2022-07-07T18:56:06.406Z"
   },
   {
    "duration": 102,
    "start_time": "2022-07-07T18:56:06.411Z"
   },
   {
    "duration": 22,
    "start_time": "2022-07-07T18:56:06.515Z"
   },
   {
    "duration": 3485,
    "start_time": "2022-07-07T18:56:06.539Z"
   },
   {
    "duration": 9,
    "start_time": "2022-07-07T18:56:10.026Z"
   },
   {
    "duration": 7,
    "start_time": "2022-07-07T18:56:10.037Z"
   },
   {
    "duration": 7,
    "start_time": "2022-07-07T18:56:10.045Z"
   },
   {
    "duration": 4,
    "start_time": "2022-07-07T18:56:10.053Z"
   },
   {
    "duration": 11,
    "start_time": "2022-07-07T18:56:10.060Z"
   },
   {
    "duration": 4,
    "start_time": "2022-07-07T18:56:10.072Z"
   },
   {
    "duration": 10,
    "start_time": "2022-07-07T18:56:10.078Z"
   },
   {
    "duration": 36,
    "start_time": "2022-07-07T18:56:10.090Z"
   },
   {
    "duration": 24,
    "start_time": "2022-07-07T18:56:10.127Z"
   },
   {
    "duration": 29,
    "start_time": "2022-07-07T18:56:10.153Z"
   },
   {
    "duration": 3,
    "start_time": "2022-07-07T18:56:10.184Z"
   },
   {
    "duration": 179,
    "start_time": "2022-07-07T18:56:10.224Z"
   },
   {
    "duration": 9,
    "start_time": "2022-07-07T18:56:10.404Z"
   },
   {
    "duration": 16,
    "start_time": "2022-07-07T18:56:10.415Z"
   },
   {
    "duration": 11,
    "start_time": "2022-07-07T18:56:10.432Z"
   },
   {
    "duration": 12,
    "start_time": "2022-07-07T18:56:10.444Z"
   },
   {
    "duration": 6,
    "start_time": "2022-07-07T18:56:10.458Z"
   },
   {
    "duration": 6,
    "start_time": "2022-07-07T18:56:10.466Z"
   },
   {
    "duration": 273,
    "start_time": "2022-07-07T18:56:10.473Z"
   },
   {
    "duration": 25,
    "start_time": "2022-07-07T18:56:10.749Z"
   },
   {
    "duration": 8,
    "start_time": "2022-07-07T18:56:10.777Z"
   },
   {
    "duration": 129,
    "start_time": "2022-07-07T18:56:10.786Z"
   },
   {
    "duration": 14,
    "start_time": "2022-07-07T18:56:10.917Z"
   },
   {
    "duration": 167,
    "start_time": "2022-07-07T18:56:10.933Z"
   },
   {
    "duration": 10,
    "start_time": "2022-07-07T18:56:11.102Z"
   },
   {
    "duration": 144,
    "start_time": "2022-07-07T18:56:11.114Z"
   },
   {
    "duration": 17,
    "start_time": "2022-07-07T18:56:11.260Z"
   },
   {
    "duration": 127,
    "start_time": "2022-07-07T18:56:11.278Z"
   },
   {
    "duration": 47,
    "start_time": "2022-07-07T18:56:11.406Z"
   },
   {
    "duration": 159,
    "start_time": "2022-07-07T18:56:11.455Z"
   },
   {
    "duration": 36,
    "start_time": "2022-07-07T18:56:11.616Z"
   },
   {
    "duration": 149,
    "start_time": "2022-07-07T18:56:11.654Z"
   },
   {
    "duration": 376,
    "start_time": "2022-07-07T18:56:11.805Z"
   },
   {
    "duration": 9,
    "start_time": "2022-07-07T18:56:12.183Z"
   },
   {
    "duration": 152,
    "start_time": "2022-07-07T18:56:12.193Z"
   },
   {
    "duration": 122,
    "start_time": "2022-07-07T18:56:12.347Z"
   },
   {
    "duration": 181,
    "start_time": "2022-07-07T18:56:12.472Z"
   },
   {
    "duration": 272,
    "start_time": "2022-07-07T18:56:12.655Z"
   },
   {
    "duration": 12,
    "start_time": "2022-07-07T18:56:12.929Z"
   },
   {
    "duration": 710,
    "start_time": "2022-07-07T18:56:12.943Z"
   },
   {
    "duration": 2566,
    "start_time": "2022-07-07T18:56:13.655Z"
   },
   {
    "duration": 24,
    "start_time": "2022-07-07T18:56:16.223Z"
   },
   {
    "duration": 8,
    "start_time": "2022-07-07T18:56:16.248Z"
   },
   {
    "duration": 23,
    "start_time": "2022-07-07T18:56:16.258Z"
   },
   {
    "duration": 12,
    "start_time": "2022-07-07T18:56:16.282Z"
   },
   {
    "duration": 333,
    "start_time": "2022-07-07T18:56:16.325Z"
   },
   {
    "duration": 132,
    "start_time": "2022-07-07T18:57:12.806Z"
   },
   {
    "duration": 161,
    "start_time": "2022-07-07T18:58:37.417Z"
   },
   {
    "duration": 13,
    "start_time": "2022-07-07T19:00:11.117Z"
   },
   {
    "duration": 739,
    "start_time": "2022-07-07T19:00:22.985Z"
   },
   {
    "duration": 97,
    "start_time": "2022-07-07T19:00:36.780Z"
   },
   {
    "duration": 132,
    "start_time": "2022-07-07T19:01:16.656Z"
   },
   {
    "duration": 33,
    "start_time": "2022-07-07T19:01:50.066Z"
   },
   {
    "duration": 125,
    "start_time": "2022-07-07T19:02:21.869Z"
   },
   {
    "duration": 119,
    "start_time": "2022-07-07T19:02:29.741Z"
   },
   {
    "duration": 127,
    "start_time": "2022-07-07T19:02:36.781Z"
   },
   {
    "duration": 124,
    "start_time": "2022-07-07T19:02:41.461Z"
   },
   {
    "duration": 124,
    "start_time": "2022-07-07T19:02:46.562Z"
   },
   {
    "duration": 137,
    "start_time": "2022-07-07T19:02:53.701Z"
   },
   {
    "duration": 17,
    "start_time": "2022-07-07T19:03:09.549Z"
   },
   {
    "duration": 38,
    "start_time": "2022-07-07T19:03:17.121Z"
   },
   {
    "duration": 33,
    "start_time": "2022-07-07T19:03:34.238Z"
   },
   {
    "duration": 116,
    "start_time": "2022-07-07T19:03:44.909Z"
   },
   {
    "duration": 120,
    "start_time": "2022-07-07T19:03:59.361Z"
   },
   {
    "duration": 114,
    "start_time": "2022-07-07T19:05:09.549Z"
   },
   {
    "duration": 194,
    "start_time": "2022-07-07T19:06:37.608Z"
   },
   {
    "duration": 168,
    "start_time": "2022-07-07T19:07:32.149Z"
   },
   {
    "duration": 189,
    "start_time": "2022-07-07T19:07:57.608Z"
   },
   {
    "duration": 181,
    "start_time": "2022-07-07T19:08:50.061Z"
   },
   {
    "duration": 222,
    "start_time": "2022-07-07T19:09:32.958Z"
   },
   {
    "duration": 26,
    "start_time": "2022-07-07T19:16:44.168Z"
   },
   {
    "duration": 42,
    "start_time": "2022-07-07T19:17:53.206Z"
   },
   {
    "duration": 4,
    "start_time": "2022-07-07T19:18:36.436Z"
   },
   {
    "duration": 61,
    "start_time": "2022-07-08T10:50:37.049Z"
   },
   {
    "duration": 96,
    "start_time": "2022-07-08T10:54:58.518Z"
   },
   {
    "duration": 823,
    "start_time": "2022-07-08T10:55:39.279Z"
   },
   {
    "duration": 182,
    "start_time": "2022-07-08T10:55:40.104Z"
   },
   {
    "duration": 16,
    "start_time": "2022-07-08T10:55:40.288Z"
   },
   {
    "duration": 2103,
    "start_time": "2022-07-08T10:55:40.306Z"
   },
   {
    "duration": 10,
    "start_time": "2022-07-08T10:55:42.411Z"
   },
   {
    "duration": 43,
    "start_time": "2022-07-08T10:55:42.426Z"
   },
   {
    "duration": 8,
    "start_time": "2022-07-08T10:55:42.471Z"
   },
   {
    "duration": 7,
    "start_time": "2022-07-08T10:55:42.481Z"
   },
   {
    "duration": 24,
    "start_time": "2022-07-08T10:55:42.489Z"
   },
   {
    "duration": 6,
    "start_time": "2022-07-08T10:55:42.515Z"
   },
   {
    "duration": 45,
    "start_time": "2022-07-08T10:55:42.522Z"
   },
   {
    "duration": 13,
    "start_time": "2022-07-08T10:55:42.568Z"
   },
   {
    "duration": 32,
    "start_time": "2022-07-08T10:55:42.582Z"
   },
   {
    "duration": 32,
    "start_time": "2022-07-08T10:55:42.618Z"
   },
   {
    "duration": 8,
    "start_time": "2022-07-08T10:55:42.654Z"
   },
   {
    "duration": 221,
    "start_time": "2022-07-08T10:55:42.663Z"
   },
   {
    "duration": 9,
    "start_time": "2022-07-08T10:55:42.885Z"
   },
   {
    "duration": 7,
    "start_time": "2022-07-08T10:55:42.896Z"
   },
   {
    "duration": 22,
    "start_time": "2022-07-08T10:55:42.905Z"
   },
   {
    "duration": 34,
    "start_time": "2022-07-08T10:55:42.929Z"
   },
   {
    "duration": 6,
    "start_time": "2022-07-08T10:55:42.965Z"
   },
   {
    "duration": 12,
    "start_time": "2022-07-08T10:55:42.972Z"
   },
   {
    "duration": 314,
    "start_time": "2022-07-08T10:55:42.985Z"
   },
   {
    "duration": 5,
    "start_time": "2022-07-08T10:55:43.300Z"
   },
   {
    "duration": 40,
    "start_time": "2022-07-08T10:55:43.306Z"
   },
   {
    "duration": 9,
    "start_time": "2022-07-08T10:55:43.348Z"
   },
   {
    "duration": 125,
    "start_time": "2022-07-08T10:55:43.358Z"
   },
   {
    "duration": 176,
    "start_time": "2022-07-08T10:55:43.485Z"
   },
   {
    "duration": 35,
    "start_time": "2022-07-08T10:55:43.663Z"
   },
   {
    "duration": 34,
    "start_time": "2022-07-08T10:55:43.700Z"
   },
   {
    "duration": 126,
    "start_time": "2022-07-08T10:55:43.736Z"
   },
   {
    "duration": 317,
    "start_time": "2022-07-08T10:55:43.864Z"
   },
   {
    "duration": 11,
    "start_time": "2022-07-08T10:55:44.183Z"
   },
   {
    "duration": 208,
    "start_time": "2022-07-08T10:55:44.196Z"
   },
   {
    "duration": 37,
    "start_time": "2022-07-08T10:55:44.407Z"
   },
   {
    "duration": 153,
    "start_time": "2022-07-08T10:55:44.446Z"
   },
   {
    "duration": 59,
    "start_time": "2022-07-08T10:55:44.601Z"
   },
   {
    "duration": 197,
    "start_time": "2022-07-08T10:55:44.665Z"
   },
   {
    "duration": 31,
    "start_time": "2022-07-08T10:55:44.864Z"
   },
   {
    "duration": 173,
    "start_time": "2022-07-08T10:55:44.897Z"
   },
   {
    "duration": 396,
    "start_time": "2022-07-08T10:55:45.074Z"
   },
   {
    "duration": 9,
    "start_time": "2022-07-08T10:55:45.472Z"
   },
   {
    "duration": 168,
    "start_time": "2022-07-08T10:55:45.482Z"
   },
   {
    "duration": 130,
    "start_time": "2022-07-08T10:55:45.653Z"
   },
   {
    "duration": 250,
    "start_time": "2022-07-08T10:55:45.784Z"
   },
   {
    "duration": 285,
    "start_time": "2022-07-08T10:55:46.038Z"
   },
   {
    "duration": 17,
    "start_time": "2022-07-08T10:55:46.329Z"
   },
   {
    "duration": 748,
    "start_time": "2022-07-08T10:55:46.352Z"
   },
   {
    "duration": 3297,
    "start_time": "2022-07-08T10:55:47.102Z"
   },
   {
    "duration": 55,
    "start_time": "2022-07-08T10:55:50.401Z"
   },
   {
    "duration": 10,
    "start_time": "2022-07-08T10:55:50.459Z"
   },
   {
    "duration": 23,
    "start_time": "2022-07-08T10:55:50.471Z"
   },
   {
    "duration": 42,
    "start_time": "2022-07-08T10:55:50.496Z"
   },
   {
    "duration": 411,
    "start_time": "2022-07-08T10:55:50.544Z"
   },
   {
    "duration": 5,
    "start_time": "2022-07-08T10:56:11.289Z"
   },
   {
    "duration": 5,
    "start_time": "2022-07-08T10:56:30.357Z"
   },
   {
    "duration": 92,
    "start_time": "2022-07-08T11:01:16.542Z"
   },
   {
    "duration": 24,
    "start_time": "2022-07-08T11:01:22.173Z"
   },
   {
    "duration": 4,
    "start_time": "2022-07-08T11:02:58.073Z"
   },
   {
    "duration": 4,
    "start_time": "2022-07-08T11:03:41.312Z"
   },
   {
    "duration": 23,
    "start_time": "2022-07-08T12:49:23.334Z"
   },
   {
    "duration": 2772,
    "start_time": "2022-07-08T12:51:19.043Z"
   },
   {
    "duration": 364,
    "start_time": "2022-07-08T12:53:32.198Z"
   },
   {
    "duration": 11,
    "start_time": "2022-07-08T12:54:32.879Z"
   },
   {
    "duration": 30,
    "start_time": "2022-07-08T12:57:00.818Z"
   },
   {
    "duration": 27,
    "start_time": "2022-07-08T12:59:22.149Z"
   },
   {
    "duration": 1111,
    "start_time": "2022-07-08T12:59:57.092Z"
   },
   {
    "duration": 1270,
    "start_time": "2022-07-08T13:01:35.961Z"
   },
   {
    "duration": 26,
    "start_time": "2022-07-08T13:06:58.504Z"
   },
   {
    "duration": 82,
    "start_time": "2022-07-08T13:09:11.778Z"
   },
   {
    "duration": 23,
    "start_time": "2022-07-08T13:09:30.678Z"
   },
   {
    "duration": 20,
    "start_time": "2022-07-08T13:09:49.652Z"
   },
   {
    "duration": 18,
    "start_time": "2022-07-08T13:09:59.658Z"
   },
   {
    "duration": 8,
    "start_time": "2022-07-08T13:15:14.961Z"
   },
   {
    "duration": 13,
    "start_time": "2022-07-08T13:15:31.770Z"
   },
   {
    "duration": 3,
    "start_time": "2022-07-08T13:15:34.550Z"
   },
   {
    "duration": 14,
    "start_time": "2022-07-08T13:16:54.098Z"
   },
   {
    "duration": 25,
    "start_time": "2022-07-08T13:17:30.973Z"
   },
   {
    "duration": 196,
    "start_time": "2022-07-08T13:18:33.977Z"
   },
   {
    "duration": 130,
    "start_time": "2022-07-08T13:18:51.769Z"
   },
   {
    "duration": 284,
    "start_time": "2022-07-08T13:20:54.898Z"
   },
   {
    "duration": 15,
    "start_time": "2022-07-08T13:24:43.590Z"
   },
   {
    "duration": 20,
    "start_time": "2022-07-08T13:24:50.241Z"
   },
   {
    "duration": 24,
    "start_time": "2022-07-08T13:25:16.077Z"
   },
   {
    "duration": 5,
    "start_time": "2022-07-08T13:27:22.759Z"
   },
   {
    "duration": 18,
    "start_time": "2022-07-08T13:28:18.449Z"
   },
   {
    "duration": 27,
    "start_time": "2022-07-08T13:28:24.844Z"
   },
   {
    "duration": 17,
    "start_time": "2022-07-08T13:30:30.878Z"
   },
   {
    "duration": 2649,
    "start_time": "2022-07-08T13:30:36.249Z"
   },
   {
    "duration": 11,
    "start_time": "2022-07-08T13:38:16.511Z"
   },
   {
    "duration": 2,
    "start_time": "2022-07-08T13:38:22.129Z"
   },
   {
    "duration": 15,
    "start_time": "2022-07-08T13:43:49.049Z"
   },
   {
    "duration": 16,
    "start_time": "2022-07-08T13:44:09.851Z"
   },
   {
    "duration": 16,
    "start_time": "2022-07-08T13:44:36.140Z"
   },
   {
    "duration": 19,
    "start_time": "2022-07-08T13:45:42.117Z"
   },
   {
    "duration": 16,
    "start_time": "2022-07-08T13:46:17.559Z"
   },
   {
    "duration": 17,
    "start_time": "2022-07-08T13:51:06.719Z"
   },
   {
    "duration": 21,
    "start_time": "2022-07-08T13:51:12.400Z"
   },
   {
    "duration": 12,
    "start_time": "2022-07-08T13:51:46.453Z"
   },
   {
    "duration": 17,
    "start_time": "2022-07-08T13:52:43.232Z"
   },
   {
    "duration": 26,
    "start_time": "2022-07-08T13:54:54.564Z"
   },
   {
    "duration": 18,
    "start_time": "2022-07-08T13:55:00.472Z"
   },
   {
    "duration": 9,
    "start_time": "2022-07-08T13:57:30.580Z"
   },
   {
    "duration": 17,
    "start_time": "2022-07-08T13:58:15.287Z"
   },
   {
    "duration": 8,
    "start_time": "2022-07-08T13:58:29.001Z"
   },
   {
    "duration": 13,
    "start_time": "2022-07-08T13:58:39.381Z"
   },
   {
    "duration": 132,
    "start_time": "2022-07-08T13:59:44.801Z"
   },
   {
    "duration": 8,
    "start_time": "2022-07-08T13:59:55.101Z"
   },
   {
    "duration": 8,
    "start_time": "2022-07-08T13:59:58.992Z"
   },
   {
    "duration": 17,
    "start_time": "2022-07-08T14:00:04.773Z"
   },
   {
    "duration": 64,
    "start_time": "2022-07-08T14:07:59.438Z"
   },
   {
    "duration": 65,
    "start_time": "2022-07-08T14:10:22.423Z"
   },
   {
    "duration": 854,
    "start_time": "2022-07-08T14:10:32.782Z"
   },
   {
    "duration": 929,
    "start_time": "2022-07-08T14:11:01.240Z"
   },
   {
    "duration": 437,
    "start_time": "2022-07-08T14:11:40.514Z"
   },
   {
    "duration": 8,
    "start_time": "2022-07-08T14:11:51.022Z"
   },
   {
    "duration": 69,
    "start_time": "2022-07-08T14:11:58.243Z"
   },
   {
    "duration": 7,
    "start_time": "2022-07-08T14:14:51.363Z"
   },
   {
    "duration": 8,
    "start_time": "2022-07-08T14:15:06.243Z"
   },
   {
    "duration": 170,
    "start_time": "2022-07-08T14:15:12.503Z"
   },
   {
    "duration": 433,
    "start_time": "2022-07-08T14:16:00.127Z"
   },
   {
    "duration": 234,
    "start_time": "2022-07-08T14:17:52.104Z"
   },
   {
    "duration": 0,
    "start_time": "2022-07-08T14:20:18.284Z"
   },
   {
    "duration": 0,
    "start_time": "2022-07-08T14:20:18.286Z"
   },
   {
    "duration": 0,
    "start_time": "2022-07-08T14:20:18.286Z"
   },
   {
    "duration": 0,
    "start_time": "2022-07-08T14:20:18.288Z"
   },
   {
    "duration": 0,
    "start_time": "2022-07-08T14:20:18.289Z"
   },
   {
    "duration": 0,
    "start_time": "2022-07-08T14:20:18.290Z"
   },
   {
    "duration": 0,
    "start_time": "2022-07-08T14:20:18.291Z"
   },
   {
    "duration": 0,
    "start_time": "2022-07-08T14:20:18.292Z"
   },
   {
    "duration": 0,
    "start_time": "2022-07-08T14:20:18.293Z"
   },
   {
    "duration": 0,
    "start_time": "2022-07-08T14:20:18.294Z"
   },
   {
    "duration": 0,
    "start_time": "2022-07-08T14:20:18.295Z"
   },
   {
    "duration": 0,
    "start_time": "2022-07-08T14:20:18.296Z"
   },
   {
    "duration": 0,
    "start_time": "2022-07-08T14:20:18.297Z"
   },
   {
    "duration": 0,
    "start_time": "2022-07-08T14:20:18.324Z"
   },
   {
    "duration": 0,
    "start_time": "2022-07-08T14:20:18.325Z"
   },
   {
    "duration": 0,
    "start_time": "2022-07-08T14:20:18.326Z"
   },
   {
    "duration": 0,
    "start_time": "2022-07-08T14:20:18.327Z"
   },
   {
    "duration": 0,
    "start_time": "2022-07-08T14:20:18.328Z"
   },
   {
    "duration": 0,
    "start_time": "2022-07-08T14:20:18.330Z"
   },
   {
    "duration": 0,
    "start_time": "2022-07-08T14:20:18.331Z"
   },
   {
    "duration": 0,
    "start_time": "2022-07-08T14:20:18.332Z"
   },
   {
    "duration": 0,
    "start_time": "2022-07-08T14:20:18.333Z"
   },
   {
    "duration": 0,
    "start_time": "2022-07-08T14:20:18.334Z"
   },
   {
    "duration": 0,
    "start_time": "2022-07-08T14:20:18.335Z"
   },
   {
    "duration": 0,
    "start_time": "2022-07-08T14:20:18.337Z"
   },
   {
    "duration": 0,
    "start_time": "2022-07-08T14:20:18.337Z"
   },
   {
    "duration": 0,
    "start_time": "2022-07-08T14:20:18.339Z"
   },
   {
    "duration": 0,
    "start_time": "2022-07-08T14:20:18.340Z"
   },
   {
    "duration": 0,
    "start_time": "2022-07-08T14:20:18.340Z"
   },
   {
    "duration": 0,
    "start_time": "2022-07-08T14:20:18.342Z"
   },
   {
    "duration": 0,
    "start_time": "2022-07-08T14:20:18.342Z"
   },
   {
    "duration": 0,
    "start_time": "2022-07-08T14:20:18.343Z"
   },
   {
    "duration": 0,
    "start_time": "2022-07-08T14:20:18.344Z"
   },
   {
    "duration": 0,
    "start_time": "2022-07-08T14:20:18.346Z"
   },
   {
    "duration": 0,
    "start_time": "2022-07-08T14:20:18.346Z"
   },
   {
    "duration": 0,
    "start_time": "2022-07-08T14:20:18.347Z"
   },
   {
    "duration": 0,
    "start_time": "2022-07-08T14:20:18.349Z"
   },
   {
    "duration": 0,
    "start_time": "2022-07-08T14:20:18.349Z"
   },
   {
    "duration": 0,
    "start_time": "2022-07-08T14:20:18.350Z"
   },
   {
    "duration": 1,
    "start_time": "2022-07-08T14:20:18.351Z"
   },
   {
    "duration": 0,
    "start_time": "2022-07-08T14:20:18.352Z"
   },
   {
    "duration": 0,
    "start_time": "2022-07-08T14:20:18.354Z"
   },
   {
    "duration": 0,
    "start_time": "2022-07-08T14:20:18.354Z"
   },
   {
    "duration": 0,
    "start_time": "2022-07-08T14:20:18.355Z"
   },
   {
    "duration": 0,
    "start_time": "2022-07-08T14:20:18.356Z"
   },
   {
    "duration": 0,
    "start_time": "2022-07-08T14:20:18.357Z"
   },
   {
    "duration": 0,
    "start_time": "2022-07-08T14:20:18.358Z"
   },
   {
    "duration": 0,
    "start_time": "2022-07-08T14:20:18.424Z"
   },
   {
    "duration": 0,
    "start_time": "2022-07-08T14:20:18.425Z"
   },
   {
    "duration": 0,
    "start_time": "2022-07-08T14:20:18.426Z"
   },
   {
    "duration": 0,
    "start_time": "2022-07-08T14:20:18.427Z"
   },
   {
    "duration": 0,
    "start_time": "2022-07-08T14:20:18.428Z"
   },
   {
    "duration": 0,
    "start_time": "2022-07-08T14:20:18.429Z"
   },
   {
    "duration": 0,
    "start_time": "2022-07-08T14:20:18.430Z"
   },
   {
    "duration": 0,
    "start_time": "2022-07-08T14:20:18.431Z"
   },
   {
    "duration": 0,
    "start_time": "2022-07-08T14:20:18.432Z"
   },
   {
    "duration": 0,
    "start_time": "2022-07-08T14:20:18.433Z"
   },
   {
    "duration": 0,
    "start_time": "2022-07-08T14:20:18.434Z"
   },
   {
    "duration": 3,
    "start_time": "2022-07-08T14:20:42.023Z"
   },
   {
    "duration": 117,
    "start_time": "2022-07-08T14:20:42.028Z"
   },
   {
    "duration": 13,
    "start_time": "2022-07-08T14:20:42.147Z"
   },
   {
    "duration": 1783,
    "start_time": "2022-07-08T14:20:42.162Z"
   },
   {
    "duration": 11,
    "start_time": "2022-07-08T14:20:43.947Z"
   },
   {
    "duration": 11,
    "start_time": "2022-07-08T14:20:43.959Z"
   },
   {
    "duration": 12,
    "start_time": "2022-07-08T14:20:43.972Z"
   },
   {
    "duration": 15,
    "start_time": "2022-07-08T14:20:43.986Z"
   },
   {
    "duration": 24,
    "start_time": "2022-07-08T14:20:44.003Z"
   },
   {
    "duration": 24,
    "start_time": "2022-07-08T14:20:44.029Z"
   },
   {
    "duration": 12,
    "start_time": "2022-07-08T14:20:44.054Z"
   },
   {
    "duration": 19,
    "start_time": "2022-07-08T14:20:44.068Z"
   },
   {
    "duration": 34,
    "start_time": "2022-07-08T14:20:44.090Z"
   },
   {
    "duration": 29,
    "start_time": "2022-07-08T14:20:44.126Z"
   },
   {
    "duration": 3,
    "start_time": "2022-07-08T14:20:44.156Z"
   },
   {
    "duration": 211,
    "start_time": "2022-07-08T14:20:44.161Z"
   },
   {
    "duration": 9,
    "start_time": "2022-07-08T14:20:44.374Z"
   },
   {
    "duration": 30,
    "start_time": "2022-07-08T14:20:44.384Z"
   },
   {
    "duration": 9,
    "start_time": "2022-07-08T14:20:44.416Z"
   },
   {
    "duration": 25,
    "start_time": "2022-07-08T14:20:44.427Z"
   },
   {
    "duration": 13,
    "start_time": "2022-07-08T14:20:44.454Z"
   },
   {
    "duration": 23,
    "start_time": "2022-07-08T14:20:44.468Z"
   },
   {
    "duration": 23,
    "start_time": "2022-07-08T14:20:44.493Z"
   },
   {
    "duration": 287,
    "start_time": "2022-07-08T14:20:44.518Z"
   },
   {
    "duration": 3,
    "start_time": "2022-07-08T14:20:44.807Z"
   },
   {
    "duration": 16,
    "start_time": "2022-07-08T14:20:44.812Z"
   },
   {
    "duration": 12,
    "start_time": "2022-07-08T14:20:44.830Z"
   },
   {
    "duration": 20,
    "start_time": "2022-07-08T14:20:44.843Z"
   },
   {
    "duration": 106,
    "start_time": "2022-07-08T14:20:44.864Z"
   },
   {
    "duration": 130,
    "start_time": "2022-07-08T14:20:44.972Z"
   },
   {
    "duration": 42,
    "start_time": "2022-07-08T14:20:45.104Z"
   },
   {
    "duration": 8,
    "start_time": "2022-07-08T14:20:45.147Z"
   },
   {
    "duration": 128,
    "start_time": "2022-07-08T14:20:45.157Z"
   },
   {
    "duration": 215,
    "start_time": "2022-07-08T14:20:45.286Z"
   },
   {
    "duration": 8,
    "start_time": "2022-07-08T14:20:45.503Z"
   },
   {
    "duration": 133,
    "start_time": "2022-07-08T14:20:45.512Z"
   },
   {
    "duration": 14,
    "start_time": "2022-07-08T14:20:45.650Z"
   },
   {
    "duration": 133,
    "start_time": "2022-07-08T14:20:45.666Z"
   },
   {
    "duration": 41,
    "start_time": "2022-07-08T14:20:45.800Z"
   },
   {
    "duration": 150,
    "start_time": "2022-07-08T14:20:45.843Z"
   },
   {
    "duration": 41,
    "start_time": "2022-07-08T14:20:45.994Z"
   },
   {
    "duration": 145,
    "start_time": "2022-07-08T14:20:46.037Z"
   },
   {
    "duration": 374,
    "start_time": "2022-07-08T14:20:46.184Z"
   },
   {
    "duration": 8,
    "start_time": "2022-07-08T14:20:46.560Z"
   },
   {
    "duration": 141,
    "start_time": "2022-07-08T14:20:46.570Z"
   },
   {
    "duration": 123,
    "start_time": "2022-07-08T14:20:46.713Z"
   },
   {
    "duration": 135,
    "start_time": "2022-07-08T14:20:46.838Z"
   },
   {
    "duration": 257,
    "start_time": "2022-07-08T14:20:46.975Z"
   },
   {
    "duration": 12,
    "start_time": "2022-07-08T14:20:47.235Z"
   },
   {
    "duration": 1348,
    "start_time": "2022-07-08T14:20:47.249Z"
   },
   {
    "duration": 190,
    "start_time": "2022-07-08T14:20:48.598Z"
   },
   {
    "duration": 28243,
    "start_time": "2022-07-08T14:20:48.789Z"
   },
   {
    "duration": 0,
    "start_time": "2022-07-08T14:21:17.034Z"
   },
   {
    "duration": 0,
    "start_time": "2022-07-08T14:21:17.035Z"
   },
   {
    "duration": 0,
    "start_time": "2022-07-08T14:21:17.036Z"
   },
   {
    "duration": 0,
    "start_time": "2022-07-08T14:21:17.037Z"
   },
   {
    "duration": 0,
    "start_time": "2022-07-08T14:21:17.038Z"
   },
   {
    "duration": 0,
    "start_time": "2022-07-08T14:21:17.039Z"
   },
   {
    "duration": 3,
    "start_time": "2022-07-08T14:21:48.843Z"
   },
   {
    "duration": 132,
    "start_time": "2022-07-08T14:21:48.848Z"
   },
   {
    "duration": 14,
    "start_time": "2022-07-08T14:21:48.982Z"
   },
   {
    "duration": 1923,
    "start_time": "2022-07-08T14:21:48.997Z"
   },
   {
    "duration": 12,
    "start_time": "2022-07-08T14:21:50.923Z"
   },
   {
    "duration": 17,
    "start_time": "2022-07-08T14:21:50.938Z"
   },
   {
    "duration": 25,
    "start_time": "2022-07-08T14:21:50.957Z"
   },
   {
    "duration": 44,
    "start_time": "2022-07-08T14:21:50.983Z"
   },
   {
    "duration": 26,
    "start_time": "2022-07-08T14:21:51.029Z"
   },
   {
    "duration": 33,
    "start_time": "2022-07-08T14:21:51.057Z"
   },
   {
    "duration": 69,
    "start_time": "2022-07-08T14:21:51.092Z"
   },
   {
    "duration": 21,
    "start_time": "2022-07-08T14:21:51.163Z"
   },
   {
    "duration": 47,
    "start_time": "2022-07-08T14:21:51.187Z"
   },
   {
    "duration": 28,
    "start_time": "2022-07-08T14:21:51.236Z"
   },
   {
    "duration": 3,
    "start_time": "2022-07-08T14:21:51.265Z"
   },
   {
    "duration": 199,
    "start_time": "2022-07-08T14:21:51.270Z"
   },
   {
    "duration": 9,
    "start_time": "2022-07-08T14:21:51.470Z"
   },
   {
    "duration": 7,
    "start_time": "2022-07-08T14:21:51.480Z"
   },
   {
    "duration": 4,
    "start_time": "2022-07-08T14:21:51.489Z"
   },
   {
    "duration": 11,
    "start_time": "2022-07-08T14:21:51.494Z"
   },
   {
    "duration": 18,
    "start_time": "2022-07-08T14:21:51.506Z"
   },
   {
    "duration": 8,
    "start_time": "2022-07-08T14:21:51.526Z"
   },
   {
    "duration": 4,
    "start_time": "2022-07-08T14:21:51.535Z"
   },
   {
    "duration": 279,
    "start_time": "2022-07-08T14:21:51.540Z"
   },
   {
    "duration": 3,
    "start_time": "2022-07-08T14:21:51.823Z"
   },
   {
    "duration": 9,
    "start_time": "2022-07-08T14:21:51.828Z"
   },
   {
    "duration": 16,
    "start_time": "2022-07-08T14:21:51.838Z"
   },
   {
    "duration": 9,
    "start_time": "2022-07-08T14:21:51.855Z"
   },
   {
    "duration": 108,
    "start_time": "2022-07-08T14:21:51.865Z"
   },
   {
    "duration": 150,
    "start_time": "2022-07-08T14:21:51.974Z"
   },
   {
    "duration": 37,
    "start_time": "2022-07-08T14:21:52.125Z"
   },
   {
    "duration": 9,
    "start_time": "2022-07-08T14:21:52.163Z"
   },
   {
    "duration": 144,
    "start_time": "2022-07-08T14:21:52.174Z"
   },
   {
    "duration": 233,
    "start_time": "2022-07-08T14:21:52.324Z"
   },
   {
    "duration": 9,
    "start_time": "2022-07-08T14:21:52.558Z"
   },
   {
    "duration": 131,
    "start_time": "2022-07-08T14:21:52.568Z"
   },
   {
    "duration": 22,
    "start_time": "2022-07-08T14:21:52.703Z"
   },
   {
    "duration": 131,
    "start_time": "2022-07-08T14:21:52.726Z"
   },
   {
    "duration": 36,
    "start_time": "2022-07-08T14:21:52.859Z"
   },
   {
    "duration": 167,
    "start_time": "2022-07-08T14:21:52.897Z"
   },
   {
    "duration": 29,
    "start_time": "2022-07-08T14:21:53.065Z"
   },
   {
    "duration": 153,
    "start_time": "2022-07-08T14:21:53.096Z"
   },
   {
    "duration": 352,
    "start_time": "2022-07-08T14:21:53.251Z"
   },
   {
    "duration": 9,
    "start_time": "2022-07-08T14:21:53.604Z"
   },
   {
    "duration": 137,
    "start_time": "2022-07-08T14:21:53.614Z"
   },
   {
    "duration": 117,
    "start_time": "2022-07-08T14:21:53.752Z"
   },
   {
    "duration": 143,
    "start_time": "2022-07-08T14:21:53.870Z"
   },
   {
    "duration": 264,
    "start_time": "2022-07-08T14:21:54.015Z"
   },
   {
    "duration": 8,
    "start_time": "2022-07-08T14:21:54.281Z"
   },
   {
    "duration": 747,
    "start_time": "2022-07-08T14:21:54.291Z"
   },
   {
    "duration": 27444,
    "start_time": "2022-07-08T14:22:07.594Z"
   },
   {
    "duration": 4900,
    "start_time": "2022-07-08T14:27:30.839Z"
   },
   {
    "duration": 173,
    "start_time": "2022-07-08T14:38:49.757Z"
   },
   {
    "duration": 171,
    "start_time": "2022-07-08T14:39:44.676Z"
   },
   {
    "duration": 55,
    "start_time": "2022-07-08T14:40:37.788Z"
   },
   {
    "duration": 33,
    "start_time": "2022-07-08T14:40:42.396Z"
   },
   {
    "duration": 48,
    "start_time": "2022-07-08T14:40:54.996Z"
   },
   {
    "duration": 168,
    "start_time": "2022-07-08T14:41:43.876Z"
   },
   {
    "duration": 41,
    "start_time": "2022-07-08T14:43:21.656Z"
   },
   {
    "duration": 65,
    "start_time": "2022-07-08T14:43:25.919Z"
   },
   {
    "duration": 52,
    "start_time": "2022-07-08T14:46:02.228Z"
   },
   {
    "duration": 10,
    "start_time": "2022-07-08T14:46:17.635Z"
   },
   {
    "duration": 9,
    "start_time": "2022-07-08T14:46:39.796Z"
   },
   {
    "duration": 9,
    "start_time": "2022-07-08T14:47:12.036Z"
   },
   {
    "duration": 19,
    "start_time": "2022-07-08T14:47:22.237Z"
   },
   {
    "duration": 2,
    "start_time": "2022-07-08T15:14:03.018Z"
   },
   {
    "duration": 103,
    "start_time": "2022-07-08T15:14:03.022Z"
   },
   {
    "duration": 14,
    "start_time": "2022-07-08T15:14:03.127Z"
   },
   {
    "duration": 1992,
    "start_time": "2022-07-08T15:14:03.143Z"
   },
   {
    "duration": 9,
    "start_time": "2022-07-08T15:14:05.137Z"
   },
   {
    "duration": 11,
    "start_time": "2022-07-08T15:14:05.147Z"
   },
   {
    "duration": 11,
    "start_time": "2022-07-08T15:14:05.160Z"
   },
   {
    "duration": 7,
    "start_time": "2022-07-08T15:14:05.172Z"
   },
   {
    "duration": 18,
    "start_time": "2022-07-08T15:14:05.181Z"
   },
   {
    "duration": 4,
    "start_time": "2022-07-08T15:14:05.200Z"
   },
   {
    "duration": 19,
    "start_time": "2022-07-08T15:14:05.206Z"
   },
   {
    "duration": 15,
    "start_time": "2022-07-08T15:14:05.226Z"
   },
   {
    "duration": 24,
    "start_time": "2022-07-08T15:14:05.242Z"
   },
   {
    "duration": 30,
    "start_time": "2022-07-08T15:14:05.269Z"
   },
   {
    "duration": 25,
    "start_time": "2022-07-08T15:14:05.301Z"
   },
   {
    "duration": 208,
    "start_time": "2022-07-08T15:14:05.327Z"
   },
   {
    "duration": 8,
    "start_time": "2022-07-08T15:14:05.537Z"
   },
   {
    "duration": 8,
    "start_time": "2022-07-08T15:14:05.547Z"
   },
   {
    "duration": 36,
    "start_time": "2022-07-08T15:14:05.557Z"
   },
   {
    "duration": 36,
    "start_time": "2022-07-08T15:14:05.595Z"
   },
   {
    "duration": 8,
    "start_time": "2022-07-08T15:14:05.633Z"
   },
   {
    "duration": 10,
    "start_time": "2022-07-08T15:14:05.642Z"
   },
   {
    "duration": 3,
    "start_time": "2022-07-08T15:14:05.653Z"
   },
   {
    "duration": 257,
    "start_time": "2022-07-08T15:14:05.658Z"
   },
   {
    "duration": 7,
    "start_time": "2022-07-08T15:14:05.917Z"
   },
   {
    "duration": 7,
    "start_time": "2022-07-08T15:14:05.926Z"
   },
   {
    "duration": 7,
    "start_time": "2022-07-08T15:14:05.935Z"
   },
   {
    "duration": 12,
    "start_time": "2022-07-08T15:14:05.944Z"
   },
   {
    "duration": 113,
    "start_time": "2022-07-08T15:14:05.957Z"
   },
   {
    "duration": 134,
    "start_time": "2022-07-08T15:14:06.072Z"
   },
   {
    "duration": 42,
    "start_time": "2022-07-08T15:14:06.208Z"
   },
   {
    "duration": 7,
    "start_time": "2022-07-08T15:14:06.252Z"
   },
   {
    "duration": 128,
    "start_time": "2022-07-08T15:14:06.261Z"
   },
   {
    "duration": 223,
    "start_time": "2022-07-08T15:14:06.390Z"
   },
   {
    "duration": 10,
    "start_time": "2022-07-08T15:14:06.614Z"
   },
   {
    "duration": 133,
    "start_time": "2022-07-08T15:14:06.626Z"
   },
   {
    "duration": 13,
    "start_time": "2022-07-08T15:14:06.761Z"
   },
   {
    "duration": 163,
    "start_time": "2022-07-08T15:14:06.775Z"
   },
   {
    "duration": 34,
    "start_time": "2022-07-08T15:14:06.939Z"
   },
   {
    "duration": 167,
    "start_time": "2022-07-08T15:14:06.974Z"
   },
   {
    "duration": 31,
    "start_time": "2022-07-08T15:14:07.145Z"
   },
   {
    "duration": 164,
    "start_time": "2022-07-08T15:14:07.177Z"
   },
   {
    "duration": 389,
    "start_time": "2022-07-08T15:14:07.343Z"
   },
   {
    "duration": 10,
    "start_time": "2022-07-08T15:14:07.733Z"
   },
   {
    "duration": 170,
    "start_time": "2022-07-08T15:14:07.745Z"
   },
   {
    "duration": 114,
    "start_time": "2022-07-08T15:14:07.923Z"
   },
   {
    "duration": 140,
    "start_time": "2022-07-08T15:14:08.040Z"
   },
   {
    "duration": 263,
    "start_time": "2022-07-08T15:14:08.182Z"
   },
   {
    "duration": 41,
    "start_time": "2022-07-08T15:14:08.447Z"
   },
   {
    "duration": 8,
    "start_time": "2022-07-08T15:14:08.490Z"
   },
   {
    "duration": 730,
    "start_time": "2022-07-08T15:14:08.500Z"
   },
   {
    "duration": 185,
    "start_time": "2022-07-08T15:14:09.232Z"
   },
   {
    "duration": 169,
    "start_time": "2022-07-08T15:14:09.419Z"
   },
   {
    "duration": 153,
    "start_time": "2022-07-08T15:14:09.590Z"
   },
   {
    "duration": 180,
    "start_time": "2022-07-08T15:14:09.745Z"
   },
   {
    "duration": 168,
    "start_time": "2022-07-08T15:14:09.927Z"
   },
   {
    "duration": 177,
    "start_time": "2022-07-08T15:14:10.097Z"
   },
   {
    "duration": 168,
    "start_time": "2022-07-08T15:14:10.275Z"
   },
   {
    "duration": 161,
    "start_time": "2022-07-08T15:14:10.444Z"
   },
   {
    "duration": 17,
    "start_time": "2022-07-08T15:14:10.607Z"
   },
   {
    "duration": 18,
    "start_time": "2022-07-08T15:14:10.626Z"
   },
   {
    "duration": 24,
    "start_time": "2022-07-08T15:14:10.646Z"
   },
   {
    "duration": 8,
    "start_time": "2022-07-08T15:14:10.672Z"
   },
   {
    "duration": 46,
    "start_time": "2022-07-08T15:14:10.682Z"
   },
   {
    "duration": 14,
    "start_time": "2022-07-08T15:14:10.730Z"
   },
   {
    "duration": 5,
    "start_time": "2022-07-08T15:14:10.746Z"
   },
   {
    "duration": 238,
    "start_time": "2022-07-08T15:14:59.142Z"
   },
   {
    "duration": 14,
    "start_time": "2022-07-08T15:15:24.349Z"
   },
   {
    "duration": 15,
    "start_time": "2022-07-08T15:15:31.401Z"
   },
   {
    "duration": 173,
    "start_time": "2022-07-08T15:17:14.748Z"
   },
   {
    "duration": 157,
    "start_time": "2022-07-08T15:17:30.350Z"
   },
   {
    "duration": 177,
    "start_time": "2022-07-08T15:19:31.789Z"
   },
   {
    "duration": 44,
    "start_time": "2022-07-08T15:20:25.709Z"
   },
   {
    "duration": 46,
    "start_time": "2022-07-08T15:21:25.989Z"
   },
   {
    "duration": 48,
    "start_time": "2022-07-08T15:23:38.500Z"
   },
   {
    "duration": 22,
    "start_time": "2022-07-08T15:39:49.994Z"
   },
   {
    "duration": 49,
    "start_time": "2022-07-08T15:57:35.468Z"
   },
   {
    "duration": 44,
    "start_time": "2022-07-08T15:57:58.887Z"
   },
   {
    "duration": 161,
    "start_time": "2022-07-08T15:58:03.580Z"
   },
   {
    "duration": 133,
    "start_time": "2022-07-08T16:01:34.970Z"
   },
   {
    "duration": 152,
    "start_time": "2022-07-08T16:07:11.921Z"
   },
   {
    "duration": 140,
    "start_time": "2022-07-08T16:10:18.038Z"
   },
   {
    "duration": 21,
    "start_time": "2022-07-08T16:12:30.557Z"
   },
   {
    "duration": 168,
    "start_time": "2022-07-08T16:13:54.502Z"
   },
   {
    "duration": 30,
    "start_time": "2022-07-08T16:14:28.480Z"
   },
   {
    "duration": 33,
    "start_time": "2022-07-08T16:14:37.061Z"
   },
   {
    "duration": 244,
    "start_time": "2022-07-08T16:14:54.931Z"
   },
   {
    "duration": 279,
    "start_time": "2022-07-08T16:15:07.463Z"
   },
   {
    "duration": 37,
    "start_time": "2022-07-08T16:15:30.305Z"
   },
   {
    "duration": 231,
    "start_time": "2022-07-08T16:15:44.571Z"
   },
   {
    "duration": 224,
    "start_time": "2022-07-08T16:15:59.511Z"
   },
   {
    "duration": 9,
    "start_time": "2022-07-08T17:49:32.054Z"
   },
   {
    "duration": 176,
    "start_time": "2022-07-08T17:53:11.485Z"
   },
   {
    "duration": 168,
    "start_time": "2022-07-08T17:57:45.987Z"
   },
   {
    "duration": 179,
    "start_time": "2022-07-08T17:57:58.478Z"
   },
   {
    "duration": 128,
    "start_time": "2022-07-08T17:58:18.398Z"
   },
   {
    "duration": 9,
    "start_time": "2022-07-08T17:59:43.578Z"
   },
   {
    "duration": 41,
    "start_time": "2022-07-08T18:00:11.746Z"
   },
   {
    "duration": 9,
    "start_time": "2022-07-08T18:00:29.597Z"
   },
   {
    "duration": 243,
    "start_time": "2022-07-08T18:01:10.177Z"
   },
   {
    "duration": 34,
    "start_time": "2022-07-08T18:01:25.625Z"
   },
   {
    "duration": 45,
    "start_time": "2022-07-08T18:01:33.707Z"
   },
   {
    "duration": 67,
    "start_time": "2022-07-08T18:01:46.986Z"
   },
   {
    "duration": 36,
    "start_time": "2022-07-08T18:01:56.989Z"
   },
   {
    "duration": 153,
    "start_time": "2022-07-08T18:02:05.112Z"
   },
   {
    "duration": 9,
    "start_time": "2022-07-08T18:02:47.061Z"
   },
   {
    "duration": 250,
    "start_time": "2022-07-08T18:07:18.393Z"
   },
   {
    "duration": 252,
    "start_time": "2022-07-08T18:07:26.653Z"
   },
   {
    "duration": 268,
    "start_time": "2022-07-08T18:07:46.213Z"
   },
   {
    "duration": 264,
    "start_time": "2022-07-08T18:09:36.310Z"
   },
   {
    "duration": 49,
    "start_time": "2022-07-08T18:10:14.541Z"
   },
   {
    "duration": 263,
    "start_time": "2022-07-08T18:10:28.713Z"
   },
   {
    "duration": 328,
    "start_time": "2022-07-08T18:11:08.641Z"
   },
   {
    "duration": 207,
    "start_time": "2022-07-08T18:16:57.314Z"
   },
   {
    "duration": 155,
    "start_time": "2022-07-08T18:17:03.022Z"
   },
   {
    "duration": 143,
    "start_time": "2022-07-08T18:17:31.857Z"
   },
   {
    "duration": 223,
    "start_time": "2022-07-08T18:57:01.852Z"
   },
   {
    "duration": 220,
    "start_time": "2022-07-08T18:58:03.553Z"
   },
   {
    "duration": 203,
    "start_time": "2022-07-08T18:58:13.914Z"
   },
   {
    "duration": 274,
    "start_time": "2022-07-08T18:59:04.422Z"
   },
   {
    "duration": 189,
    "start_time": "2022-07-08T19:03:06.448Z"
   },
   {
    "duration": 212,
    "start_time": "2022-07-08T19:04:01.073Z"
   },
   {
    "duration": 228,
    "start_time": "2022-07-08T19:04:08.323Z"
   },
   {
    "duration": 364,
    "start_time": "2022-07-08T19:04:17.152Z"
   },
   {
    "duration": 1341,
    "start_time": "2022-07-08T19:04:36.216Z"
   },
   {
    "duration": 681,
    "start_time": "2022-07-08T19:04:42.885Z"
   },
   {
    "duration": 236,
    "start_time": "2022-07-08T19:04:50.872Z"
   },
   {
    "duration": 3,
    "start_time": "2022-07-08T22:04:19.145Z"
   },
   {
    "duration": 106,
    "start_time": "2022-07-08T22:04:19.152Z"
   },
   {
    "duration": 15,
    "start_time": "2022-07-08T22:04:19.261Z"
   },
   {
    "duration": 1757,
    "start_time": "2022-07-08T22:04:19.278Z"
   },
   {
    "duration": 9,
    "start_time": "2022-07-08T22:04:21.037Z"
   },
   {
    "duration": 6,
    "start_time": "2022-07-08T22:04:21.047Z"
   },
   {
    "duration": 10,
    "start_time": "2022-07-08T22:04:21.054Z"
   },
   {
    "duration": 7,
    "start_time": "2022-07-08T22:04:21.065Z"
   },
   {
    "duration": 13,
    "start_time": "2022-07-08T22:04:21.074Z"
   },
   {
    "duration": 4,
    "start_time": "2022-07-08T22:04:21.089Z"
   },
   {
    "duration": 30,
    "start_time": "2022-07-08T22:04:21.095Z"
   },
   {
    "duration": 10,
    "start_time": "2022-07-08T22:04:21.127Z"
   },
   {
    "duration": 26,
    "start_time": "2022-07-08T22:04:21.138Z"
   },
   {
    "duration": 59,
    "start_time": "2022-07-08T22:04:21.165Z"
   },
   {
    "duration": 3,
    "start_time": "2022-07-08T22:04:21.226Z"
   },
   {
    "duration": 185,
    "start_time": "2022-07-08T22:04:21.231Z"
   },
   {
    "duration": 13,
    "start_time": "2022-07-08T22:04:21.418Z"
   },
   {
    "duration": 8,
    "start_time": "2022-07-08T22:04:21.432Z"
   },
   {
    "duration": 5,
    "start_time": "2022-07-08T22:04:21.441Z"
   },
   {
    "duration": 7,
    "start_time": "2022-07-08T22:04:21.448Z"
   },
   {
    "duration": 7,
    "start_time": "2022-07-08T22:04:21.456Z"
   },
   {
    "duration": 7,
    "start_time": "2022-07-08T22:04:21.464Z"
   },
   {
    "duration": 3,
    "start_time": "2022-07-08T22:04:21.473Z"
   },
   {
    "duration": 290,
    "start_time": "2022-07-08T22:04:21.478Z"
   },
   {
    "duration": 3,
    "start_time": "2022-07-08T22:04:21.770Z"
   },
   {
    "duration": 13,
    "start_time": "2022-07-08T22:04:21.774Z"
   },
   {
    "duration": 5,
    "start_time": "2022-07-08T22:04:21.788Z"
   },
   {
    "duration": 9,
    "start_time": "2022-07-08T22:04:21.795Z"
   },
   {
    "duration": 164,
    "start_time": "2022-07-08T22:04:21.807Z"
   },
   {
    "duration": 8,
    "start_time": "2022-07-08T22:04:21.973Z"
   },
   {
    "duration": 160,
    "start_time": "2022-07-08T22:04:21.983Z"
   },
   {
    "duration": 9,
    "start_time": "2022-07-08T22:04:22.145Z"
   },
   {
    "duration": 167,
    "start_time": "2022-07-08T22:04:22.156Z"
   },
   {
    "duration": 9,
    "start_time": "2022-07-08T22:04:22.325Z"
   },
   {
    "duration": 246,
    "start_time": "2022-07-08T22:04:22.336Z"
   },
   {
    "duration": 7,
    "start_time": "2022-07-08T22:04:22.584Z"
   },
   {
    "duration": 160,
    "start_time": "2022-07-08T22:04:22.593Z"
   },
   {
    "duration": 146,
    "start_time": "2022-07-08T22:04:22.755Z"
   },
   {
    "duration": 352,
    "start_time": "2022-07-08T22:04:22.903Z"
   },
   {
    "duration": 9,
    "start_time": "2022-07-08T22:04:23.256Z"
   },
   {
    "duration": 138,
    "start_time": "2022-07-08T22:04:23.266Z"
   },
   {
    "duration": 123,
    "start_time": "2022-07-08T22:04:23.405Z"
   },
   {
    "duration": 8,
    "start_time": "2022-07-08T22:04:23.529Z"
   },
   {
    "duration": 145,
    "start_time": "2022-07-08T22:04:23.539Z"
   },
   {
    "duration": 248,
    "start_time": "2022-07-08T22:04:23.686Z"
   },
   {
    "duration": 8,
    "start_time": "2022-07-08T22:04:23.936Z"
   },
   {
    "duration": 236,
    "start_time": "2022-07-08T22:04:23.945Z"
   },
   {
    "duration": 193,
    "start_time": "2022-07-08T22:04:24.183Z"
   },
   {
    "duration": 197,
    "start_time": "2022-07-08T22:04:24.378Z"
   },
   {
    "duration": 199,
    "start_time": "2022-07-08T22:04:24.577Z"
   },
   {
    "duration": 191,
    "start_time": "2022-07-08T22:04:24.778Z"
   },
   {
    "duration": 187,
    "start_time": "2022-07-08T22:04:24.971Z"
   },
   {
    "duration": 185,
    "start_time": "2022-07-08T22:04:25.160Z"
   },
   {
    "duration": 186,
    "start_time": "2022-07-08T22:04:25.346Z"
   },
   {
    "duration": 172,
    "start_time": "2022-07-08T22:04:25.534Z"
   },
   {
    "duration": 21,
    "start_time": "2022-07-08T22:04:25.708Z"
   },
   {
    "duration": 23,
    "start_time": "2022-07-08T22:04:25.730Z"
   },
   {
    "duration": 8,
    "start_time": "2022-07-08T22:04:25.754Z"
   },
   {
    "duration": 22,
    "start_time": "2022-07-08T22:04:25.763Z"
   },
   {
    "duration": 688,
    "start_time": "2022-07-09T15:16:55.225Z"
   },
   {
    "duration": 128,
    "start_time": "2022-07-09T15:16:55.914Z"
   },
   {
    "duration": 14,
    "start_time": "2022-07-09T15:16:56.044Z"
   },
   {
    "duration": 1961,
    "start_time": "2022-07-09T15:16:56.060Z"
   },
   {
    "duration": 11,
    "start_time": "2022-07-09T15:16:58.023Z"
   },
   {
    "duration": 6,
    "start_time": "2022-07-09T15:16:58.036Z"
   },
   {
    "duration": 7,
    "start_time": "2022-07-09T15:16:58.044Z"
   },
   {
    "duration": 5,
    "start_time": "2022-07-09T15:16:58.053Z"
   },
   {
    "duration": 10,
    "start_time": "2022-07-09T15:16:58.059Z"
   },
   {
    "duration": 4,
    "start_time": "2022-07-09T15:16:58.073Z"
   },
   {
    "duration": 27,
    "start_time": "2022-07-09T15:16:58.078Z"
   },
   {
    "duration": 7,
    "start_time": "2022-07-09T15:16:58.106Z"
   },
   {
    "duration": 34,
    "start_time": "2022-07-09T15:16:58.115Z"
   },
   {
    "duration": 62,
    "start_time": "2022-07-09T15:16:58.151Z"
   },
   {
    "duration": 3,
    "start_time": "2022-07-09T15:16:58.215Z"
   },
   {
    "duration": 196,
    "start_time": "2022-07-09T15:16:58.219Z"
   },
   {
    "duration": 10,
    "start_time": "2022-07-09T15:16:58.416Z"
   },
   {
    "duration": 8,
    "start_time": "2022-07-09T15:16:58.427Z"
   },
   {
    "duration": 4,
    "start_time": "2022-07-09T15:16:58.437Z"
   },
   {
    "duration": 8,
    "start_time": "2022-07-09T15:16:58.443Z"
   },
   {
    "duration": 7,
    "start_time": "2022-07-09T15:16:58.452Z"
   },
   {
    "duration": 5,
    "start_time": "2022-07-09T15:16:58.460Z"
   },
   {
    "duration": 3,
    "start_time": "2022-07-09T15:16:58.467Z"
   },
   {
    "duration": 308,
    "start_time": "2022-07-09T15:16:58.471Z"
   },
   {
    "duration": 3,
    "start_time": "2022-07-09T15:16:58.781Z"
   },
   {
    "duration": 7,
    "start_time": "2022-07-09T15:16:58.785Z"
   },
   {
    "duration": 12,
    "start_time": "2022-07-09T15:16:58.794Z"
   },
   {
    "duration": 9,
    "start_time": "2022-07-09T15:16:58.810Z"
   },
   {
    "duration": 172,
    "start_time": "2022-07-09T15:16:58.820Z"
   },
   {
    "duration": 16,
    "start_time": "2022-07-09T15:16:58.994Z"
   },
   {
    "duration": 168,
    "start_time": "2022-07-09T15:16:59.011Z"
   },
   {
    "duration": 12,
    "start_time": "2022-07-09T15:16:59.180Z"
   },
   {
    "duration": 193,
    "start_time": "2022-07-09T15:16:59.205Z"
   },
   {
    "duration": 12,
    "start_time": "2022-07-09T15:16:59.401Z"
   },
   {
    "duration": 392,
    "start_time": "2022-07-09T15:16:59.415Z"
   },
   {
    "duration": 10,
    "start_time": "2022-07-09T15:16:59.808Z"
   },
   {
    "duration": 192,
    "start_time": "2022-07-09T15:16:59.820Z"
   },
   {
    "duration": 191,
    "start_time": "2022-07-09T15:17:00.013Z"
   },
   {
    "duration": 413,
    "start_time": "2022-07-09T15:17:00.205Z"
   },
   {
    "duration": 10,
    "start_time": "2022-07-09T15:17:00.619Z"
   },
   {
    "duration": 162,
    "start_time": "2022-07-09T15:17:00.631Z"
   },
   {
    "duration": 144,
    "start_time": "2022-07-09T15:17:00.795Z"
   },
   {
    "duration": 10,
    "start_time": "2022-07-09T15:17:00.941Z"
   },
   {
    "duration": 179,
    "start_time": "2022-07-09T15:17:00.952Z"
   },
   {
    "duration": 375,
    "start_time": "2022-07-09T15:17:01.133Z"
   },
   {
    "duration": 10,
    "start_time": "2022-07-09T15:17:01.509Z"
   },
   {
    "duration": 244,
    "start_time": "2022-07-09T15:17:01.520Z"
   },
   {
    "duration": 189,
    "start_time": "2022-07-09T15:17:01.765Z"
   },
   {
    "duration": 170,
    "start_time": "2022-07-09T15:17:01.955Z"
   },
   {
    "duration": 204,
    "start_time": "2022-07-09T15:17:02.127Z"
   },
   {
    "duration": 196,
    "start_time": "2022-07-09T15:17:02.333Z"
   },
   {
    "duration": 198,
    "start_time": "2022-07-09T15:17:02.531Z"
   },
   {
    "duration": 186,
    "start_time": "2022-07-09T15:17:02.731Z"
   },
   {
    "duration": 186,
    "start_time": "2022-07-09T15:17:02.919Z"
   },
   {
    "duration": 173,
    "start_time": "2022-07-09T15:17:03.107Z"
   },
   {
    "duration": 23,
    "start_time": "2022-07-09T15:17:03.282Z"
   },
   {
    "duration": 25,
    "start_time": "2022-07-09T15:17:03.306Z"
   },
   {
    "duration": 8,
    "start_time": "2022-07-09T15:17:03.332Z"
   },
   {
    "duration": 23,
    "start_time": "2022-07-09T15:17:03.342Z"
   },
   {
    "duration": 6,
    "start_time": "2022-07-09T15:24:35.849Z"
   },
   {
    "duration": 66,
    "start_time": "2022-07-09T15:26:54.856Z"
   },
   {
    "duration": 10,
    "start_time": "2022-07-09T15:27:12.533Z"
   },
   {
    "duration": 21,
    "start_time": "2022-07-09T15:27:26.773Z"
   },
   {
    "duration": 18,
    "start_time": "2022-07-09T15:27:34.273Z"
   },
   {
    "duration": 22,
    "start_time": "2022-07-09T15:27:44.605Z"
   },
   {
    "duration": 7,
    "start_time": "2022-07-09T15:28:43.991Z"
   },
   {
    "duration": 6,
    "start_time": "2022-07-09T15:28:49.351Z"
   },
   {
    "duration": 6,
    "start_time": "2022-07-09T15:29:41.071Z"
   },
   {
    "duration": 4,
    "start_time": "2022-07-09T15:29:46.639Z"
   },
   {
    "duration": 7,
    "start_time": "2022-07-09T15:29:49.613Z"
   },
   {
    "duration": 9,
    "start_time": "2022-07-09T15:30:08.703Z"
   },
   {
    "duration": 9,
    "start_time": "2022-07-09T15:30:29.275Z"
   },
   {
    "duration": 16,
    "start_time": "2022-07-09T15:30:39.175Z"
   },
   {
    "duration": 48,
    "start_time": "2022-07-09T15:30:51.201Z"
   },
   {
    "duration": 170,
    "start_time": "2022-07-09T15:31:29.252Z"
   },
   {
    "duration": 46,
    "start_time": "2022-07-09T15:31:35.562Z"
   },
   {
    "duration": 25,
    "start_time": "2022-07-09T15:31:59.993Z"
   },
   {
    "duration": 109,
    "start_time": "2022-07-09T15:32:17.983Z"
   },
   {
    "duration": 27,
    "start_time": "2022-07-09T15:32:24.493Z"
   },
   {
    "duration": 9,
    "start_time": "2022-07-09T15:33:03.402Z"
   },
   {
    "duration": 639,
    "start_time": "2022-07-09T15:46:34.653Z"
   },
   {
    "duration": 130,
    "start_time": "2022-07-09T15:46:35.294Z"
   },
   {
    "duration": 15,
    "start_time": "2022-07-09T15:46:35.426Z"
   },
   {
    "duration": 2006,
    "start_time": "2022-07-09T15:46:35.443Z"
   },
   {
    "duration": 10,
    "start_time": "2022-07-09T15:46:37.452Z"
   },
   {
    "duration": 22,
    "start_time": "2022-07-09T15:46:37.463Z"
   },
   {
    "duration": 30,
    "start_time": "2022-07-09T15:46:37.487Z"
   },
   {
    "duration": 26,
    "start_time": "2022-07-09T15:46:37.519Z"
   },
   {
    "duration": 24,
    "start_time": "2022-07-09T15:46:37.547Z"
   },
   {
    "duration": 20,
    "start_time": "2022-07-09T15:46:37.574Z"
   },
   {
    "duration": 13,
    "start_time": "2022-07-09T15:46:37.596Z"
   },
   {
    "duration": 18,
    "start_time": "2022-07-09T15:46:37.611Z"
   },
   {
    "duration": 38,
    "start_time": "2022-07-09T15:46:37.632Z"
   },
   {
    "duration": 39,
    "start_time": "2022-07-09T15:46:37.672Z"
   },
   {
    "duration": 3,
    "start_time": "2022-07-09T15:46:37.713Z"
   },
   {
    "duration": 205,
    "start_time": "2022-07-09T15:46:37.717Z"
   },
   {
    "duration": 9,
    "start_time": "2022-07-09T15:46:37.923Z"
   },
   {
    "duration": 18,
    "start_time": "2022-07-09T15:46:37.933Z"
   },
   {
    "duration": 22,
    "start_time": "2022-07-09T15:46:37.953Z"
   },
   {
    "duration": 9,
    "start_time": "2022-07-09T15:46:37.977Z"
   },
   {
    "duration": 17,
    "start_time": "2022-07-09T15:46:37.988Z"
   },
   {
    "duration": 16,
    "start_time": "2022-07-09T15:46:38.006Z"
   },
   {
    "duration": 5,
    "start_time": "2022-07-09T15:46:38.023Z"
   },
   {
    "duration": 295,
    "start_time": "2022-07-09T15:46:38.030Z"
   },
   {
    "duration": 3,
    "start_time": "2022-07-09T15:46:38.327Z"
   },
   {
    "duration": 19,
    "start_time": "2022-07-09T15:46:38.332Z"
   },
   {
    "duration": 11,
    "start_time": "2022-07-09T15:46:38.353Z"
   },
   {
    "duration": 11,
    "start_time": "2022-07-09T15:46:38.368Z"
   },
   {
    "duration": 179,
    "start_time": "2022-07-09T15:46:38.381Z"
   },
   {
    "duration": 11,
    "start_time": "2022-07-09T15:46:38.562Z"
   },
   {
    "duration": 177,
    "start_time": "2022-07-09T15:46:38.575Z"
   },
   {
    "duration": 9,
    "start_time": "2022-07-09T15:46:38.754Z"
   },
   {
    "duration": 191,
    "start_time": "2022-07-09T15:46:38.764Z"
   },
   {
    "duration": 9,
    "start_time": "2022-07-09T15:46:38.956Z"
   },
   {
    "duration": 344,
    "start_time": "2022-07-09T15:46:38.967Z"
   },
   {
    "duration": 8,
    "start_time": "2022-07-09T15:46:39.313Z"
   },
   {
    "duration": 184,
    "start_time": "2022-07-09T15:46:39.322Z"
   },
   {
    "duration": 176,
    "start_time": "2022-07-09T15:46:39.507Z"
   },
   {
    "duration": 396,
    "start_time": "2022-07-09T15:46:39.685Z"
   },
   {
    "duration": 23,
    "start_time": "2022-07-09T15:46:40.083Z"
   },
   {
    "duration": 164,
    "start_time": "2022-07-09T15:46:40.108Z"
   },
   {
    "duration": 133,
    "start_time": "2022-07-09T15:46:40.273Z"
   },
   {
    "duration": 8,
    "start_time": "2022-07-09T15:46:40.408Z"
   },
   {
    "duration": 158,
    "start_time": "2022-07-09T15:46:40.418Z"
   },
   {
    "duration": 363,
    "start_time": "2022-07-09T15:46:40.577Z"
   },
   {
    "duration": 10,
    "start_time": "2022-07-09T15:46:40.942Z"
   },
   {
    "duration": 253,
    "start_time": "2022-07-09T15:46:40.953Z"
   },
   {
    "duration": 200,
    "start_time": "2022-07-09T15:46:41.207Z"
   },
   {
    "duration": 179,
    "start_time": "2022-07-09T15:46:41.409Z"
   },
   {
    "duration": 198,
    "start_time": "2022-07-09T15:46:41.589Z"
   },
   {
    "duration": 205,
    "start_time": "2022-07-09T15:46:41.788Z"
   },
   {
    "duration": 197,
    "start_time": "2022-07-09T15:46:41.995Z"
   },
   {
    "duration": 204,
    "start_time": "2022-07-09T15:46:42.194Z"
   },
   {
    "duration": 186,
    "start_time": "2022-07-09T15:46:42.399Z"
   },
   {
    "duration": 188,
    "start_time": "2022-07-09T15:46:42.587Z"
   },
   {
    "duration": 28,
    "start_time": "2022-07-09T15:46:42.777Z"
   },
   {
    "duration": 27,
    "start_time": "2022-07-09T15:46:42.807Z"
   },
   {
    "duration": 19,
    "start_time": "2022-07-09T15:46:42.836Z"
   },
   {
    "duration": 41,
    "start_time": "2022-07-09T15:46:42.857Z"
   },
   {
    "duration": 49,
    "start_time": "2022-07-09T17:39:45.341Z"
   },
   {
    "duration": 884,
    "start_time": "2022-07-09T17:39:51.419Z"
   },
   {
    "duration": 158,
    "start_time": "2022-07-09T17:39:52.306Z"
   },
   {
    "duration": 16,
    "start_time": "2022-07-09T17:39:52.466Z"
   },
   {
    "duration": 2156,
    "start_time": "2022-07-09T17:39:52.484Z"
   },
   {
    "duration": 10,
    "start_time": "2022-07-09T17:39:54.643Z"
   },
   {
    "duration": 17,
    "start_time": "2022-07-09T17:39:54.654Z"
   },
   {
    "duration": 20,
    "start_time": "2022-07-09T17:39:54.673Z"
   },
   {
    "duration": 22,
    "start_time": "2022-07-09T17:39:54.694Z"
   },
   {
    "duration": 29,
    "start_time": "2022-07-09T17:39:54.717Z"
   },
   {
    "duration": 19,
    "start_time": "2022-07-09T17:39:54.748Z"
   },
   {
    "duration": 22,
    "start_time": "2022-07-09T17:39:54.768Z"
   },
   {
    "duration": 17,
    "start_time": "2022-07-09T17:39:54.792Z"
   },
   {
    "duration": 27,
    "start_time": "2022-07-09T17:39:54.811Z"
   },
   {
    "duration": 33,
    "start_time": "2022-07-09T17:39:54.841Z"
   },
   {
    "duration": 3,
    "start_time": "2022-07-09T17:39:54.875Z"
   },
   {
    "duration": 208,
    "start_time": "2022-07-09T17:39:54.880Z"
   },
   {
    "duration": 11,
    "start_time": "2022-07-09T17:39:55.090Z"
   },
   {
    "duration": 7,
    "start_time": "2022-07-09T17:39:55.103Z"
   },
   {
    "duration": 7,
    "start_time": "2022-07-09T17:39:55.112Z"
   },
   {
    "duration": 26,
    "start_time": "2022-07-09T17:39:55.121Z"
   },
   {
    "duration": 6,
    "start_time": "2022-07-09T17:39:55.148Z"
   },
   {
    "duration": 6,
    "start_time": "2022-07-09T17:39:55.155Z"
   },
   {
    "duration": 3,
    "start_time": "2022-07-09T17:39:55.163Z"
   },
   {
    "duration": 314,
    "start_time": "2022-07-09T17:39:55.168Z"
   },
   {
    "duration": 4,
    "start_time": "2022-07-09T17:39:55.484Z"
   },
   {
    "duration": 9,
    "start_time": "2022-07-09T17:39:55.489Z"
   },
   {
    "duration": 11,
    "start_time": "2022-07-09T17:39:55.500Z"
   },
   {
    "duration": 13,
    "start_time": "2022-07-09T17:39:55.513Z"
   },
   {
    "duration": 181,
    "start_time": "2022-07-09T17:39:55.528Z"
   },
   {
    "duration": 12,
    "start_time": "2022-07-09T17:39:55.711Z"
   },
   {
    "duration": 252,
    "start_time": "2022-07-09T17:39:55.725Z"
   },
   {
    "duration": 10,
    "start_time": "2022-07-09T17:39:55.979Z"
   },
   {
    "duration": 169,
    "start_time": "2022-07-09T17:39:55.990Z"
   },
   {
    "duration": 9,
    "start_time": "2022-07-09T17:39:56.160Z"
   },
   {
    "duration": 263,
    "start_time": "2022-07-09T17:39:56.171Z"
   },
   {
    "duration": 11,
    "start_time": "2022-07-09T17:39:56.435Z"
   },
   {
    "duration": 168,
    "start_time": "2022-07-09T17:39:56.448Z"
   },
   {
    "duration": 161,
    "start_time": "2022-07-09T17:39:56.618Z"
   },
   {
    "duration": 382,
    "start_time": "2022-07-09T17:39:56.781Z"
   },
   {
    "duration": 10,
    "start_time": "2022-07-09T17:39:57.164Z"
   },
   {
    "duration": 148,
    "start_time": "2022-07-09T17:39:57.177Z"
   },
   {
    "duration": 137,
    "start_time": "2022-07-09T17:39:57.327Z"
   },
   {
    "duration": 9,
    "start_time": "2022-07-09T17:39:57.466Z"
   },
   {
    "duration": 261,
    "start_time": "2022-07-09T17:39:57.476Z"
   },
   {
    "duration": 257,
    "start_time": "2022-07-09T17:39:57.739Z"
   },
   {
    "duration": 10,
    "start_time": "2022-07-09T17:39:57.997Z"
   },
   {
    "duration": 247,
    "start_time": "2022-07-09T17:39:58.008Z"
   },
   {
    "duration": 192,
    "start_time": "2022-07-09T17:39:58.257Z"
   },
   {
    "duration": 186,
    "start_time": "2022-07-09T17:39:58.451Z"
   },
   {
    "duration": 202,
    "start_time": "2022-07-09T17:39:58.638Z"
   },
   {
    "duration": 264,
    "start_time": "2022-07-09T17:39:58.845Z"
   },
   {
    "duration": 194,
    "start_time": "2022-07-09T17:39:59.111Z"
   },
   {
    "duration": 198,
    "start_time": "2022-07-09T17:39:59.307Z"
   },
   {
    "duration": 214,
    "start_time": "2022-07-09T17:39:59.507Z"
   },
   {
    "duration": 190,
    "start_time": "2022-07-09T17:39:59.723Z"
   },
   {
    "duration": 13,
    "start_time": "2022-07-09T17:39:59.915Z"
   },
   {
    "duration": 36,
    "start_time": "2022-07-09T17:39:59.930Z"
   },
   {
    "duration": 8,
    "start_time": "2022-07-09T17:39:59.967Z"
   },
   {
    "duration": 32,
    "start_time": "2022-07-09T17:39:59.977Z"
   },
   {
    "duration": 3111,
    "start_time": "2022-07-09T17:40:49.278Z"
   },
   {
    "duration": 4,
    "start_time": "2022-07-09T17:41:47.638Z"
   },
   {
    "duration": 3,
    "start_time": "2022-07-09T17:44:28.940Z"
   },
   {
    "duration": 140,
    "start_time": "2022-07-09T17:44:28.946Z"
   },
   {
    "duration": 18,
    "start_time": "2022-07-09T17:44:29.088Z"
   },
   {
    "duration": 2287,
    "start_time": "2022-07-09T17:44:29.108Z"
   },
   {
    "duration": 10,
    "start_time": "2022-07-09T17:44:31.396Z"
   },
   {
    "duration": 4,
    "start_time": "2022-07-09T17:44:31.407Z"
   },
   {
    "duration": 9,
    "start_time": "2022-07-09T17:44:31.413Z"
   },
   {
    "duration": 23,
    "start_time": "2022-07-09T17:44:31.423Z"
   },
   {
    "duration": 6,
    "start_time": "2022-07-09T17:44:34.337Z"
   },
   {
    "duration": 8,
    "start_time": "2022-07-09T17:44:37.729Z"
   },
   {
    "duration": 6,
    "start_time": "2022-07-09T17:45:19.649Z"
   },
   {
    "duration": 4,
    "start_time": "2022-07-09T17:51:12.984Z"
   },
   {
    "duration": 8,
    "start_time": "2022-07-09T17:51:15.841Z"
   },
   {
    "duration": 15,
    "start_time": "2022-07-09T17:52:20.839Z"
   },
   {
    "duration": 3,
    "start_time": "2022-07-09T17:52:48.978Z"
   },
   {
    "duration": 133,
    "start_time": "2022-07-09T17:52:48.984Z"
   },
   {
    "duration": 27,
    "start_time": "2022-07-09T17:52:49.119Z"
   },
   {
    "duration": 2215,
    "start_time": "2022-07-09T17:52:49.148Z"
   },
   {
    "duration": 10,
    "start_time": "2022-07-09T17:52:51.365Z"
   },
   {
    "duration": 4,
    "start_time": "2022-07-09T17:52:51.377Z"
   },
   {
    "duration": 6,
    "start_time": "2022-07-09T17:52:51.383Z"
   },
   {
    "duration": 6,
    "start_time": "2022-07-09T17:52:51.390Z"
   },
   {
    "duration": 9,
    "start_time": "2022-07-09T17:52:51.398Z"
   },
   {
    "duration": 10,
    "start_time": "2022-07-09T17:52:51.409Z"
   },
   {
    "duration": 25,
    "start_time": "2022-07-09T17:52:51.421Z"
   },
   {
    "duration": 8,
    "start_time": "2022-07-09T17:52:51.448Z"
   },
   {
    "duration": 13,
    "start_time": "2022-07-09T17:52:51.457Z"
   },
   {
    "duration": 27,
    "start_time": "2022-07-09T17:52:51.471Z"
   },
   {
    "duration": 63,
    "start_time": "2022-07-09T17:52:51.500Z"
   },
   {
    "duration": 3,
    "start_time": "2022-07-09T17:52:51.564Z"
   },
   {
    "duration": 196,
    "start_time": "2022-07-09T17:52:51.568Z"
   },
   {
    "duration": 11,
    "start_time": "2022-07-09T17:52:51.765Z"
   },
   {
    "duration": 9,
    "start_time": "2022-07-09T17:52:51.778Z"
   },
   {
    "duration": 5,
    "start_time": "2022-07-09T17:52:51.789Z"
   },
   {
    "duration": 10,
    "start_time": "2022-07-09T17:52:51.795Z"
   },
   {
    "duration": 5,
    "start_time": "2022-07-09T17:52:51.807Z"
   },
   {
    "duration": 8,
    "start_time": "2022-07-09T17:52:51.814Z"
   },
   {
    "duration": 4,
    "start_time": "2022-07-09T17:52:51.846Z"
   },
   {
    "duration": 285,
    "start_time": "2022-07-09T17:52:51.851Z"
   },
   {
    "duration": 4,
    "start_time": "2022-07-09T17:52:52.137Z"
   },
   {
    "duration": 8,
    "start_time": "2022-07-09T17:52:52.144Z"
   },
   {
    "duration": 12,
    "start_time": "2022-07-09T17:52:52.154Z"
   },
   {
    "duration": 12,
    "start_time": "2022-07-09T17:52:52.171Z"
   },
   {
    "duration": 170,
    "start_time": "2022-07-09T17:52:52.185Z"
   },
   {
    "duration": 10,
    "start_time": "2022-07-09T17:52:52.356Z"
   },
   {
    "duration": 169,
    "start_time": "2022-07-09T17:52:52.367Z"
   },
   {
    "duration": 17,
    "start_time": "2022-07-09T17:52:52.537Z"
   },
   {
    "duration": 169,
    "start_time": "2022-07-09T17:52:52.555Z"
   },
   {
    "duration": 11,
    "start_time": "2022-07-09T17:52:52.725Z"
   },
   {
    "duration": 263,
    "start_time": "2022-07-09T17:52:52.746Z"
   },
   {
    "duration": 8,
    "start_time": "2022-07-09T17:52:53.011Z"
   },
   {
    "duration": 350,
    "start_time": "2022-07-09T17:52:53.021Z"
   },
   {
    "duration": 167,
    "start_time": "2022-07-09T17:52:53.373Z"
   },
   {
    "duration": 407,
    "start_time": "2022-07-09T17:52:53.545Z"
   },
   {
    "duration": 11,
    "start_time": "2022-07-09T17:52:53.954Z"
   },
   {
    "duration": 158,
    "start_time": "2022-07-09T17:52:53.967Z"
   },
   {
    "duration": 129,
    "start_time": "2022-07-09T17:52:54.127Z"
   },
   {
    "duration": 9,
    "start_time": "2022-07-09T17:52:54.258Z"
   },
   {
    "duration": 167,
    "start_time": "2022-07-09T17:52:54.269Z"
   },
   {
    "duration": 266,
    "start_time": "2022-07-09T17:52:54.438Z"
   },
   {
    "duration": 11,
    "start_time": "2022-07-09T17:52:54.706Z"
   },
   {
    "duration": 251,
    "start_time": "2022-07-09T17:52:54.719Z"
   },
   {
    "duration": 190,
    "start_time": "2022-07-09T17:52:54.972Z"
   },
   {
    "duration": 176,
    "start_time": "2022-07-09T17:52:55.164Z"
   },
   {
    "duration": 223,
    "start_time": "2022-07-09T17:52:55.342Z"
   },
   {
    "duration": 209,
    "start_time": "2022-07-09T17:52:55.566Z"
   },
   {
    "duration": 195,
    "start_time": "2022-07-09T17:52:55.777Z"
   },
   {
    "duration": 195,
    "start_time": "2022-07-09T17:52:55.973Z"
   },
   {
    "duration": 210,
    "start_time": "2022-07-09T17:52:56.170Z"
   },
   {
    "duration": 195,
    "start_time": "2022-07-09T17:52:56.382Z"
   },
   {
    "duration": 14,
    "start_time": "2022-07-09T17:52:56.579Z"
   },
   {
    "duration": 22,
    "start_time": "2022-07-09T17:52:56.594Z"
   },
   {
    "duration": 7,
    "start_time": "2022-07-09T17:52:56.617Z"
   },
   {
    "duration": 184,
    "start_time": "2022-07-09T17:52:56.645Z"
   },
   {
    "duration": 16,
    "start_time": "2022-07-09T17:53:24.497Z"
   },
   {
    "duration": 5,
    "start_time": "2022-07-09T17:59:35.700Z"
   },
   {
    "duration": 4,
    "start_time": "2022-07-09T17:59:47.057Z"
   },
   {
    "duration": 109,
    "start_time": "2022-07-09T17:59:47.068Z"
   },
   {
    "duration": 14,
    "start_time": "2022-07-09T17:59:47.179Z"
   },
   {
    "duration": 2756,
    "start_time": "2022-07-09T17:59:47.195Z"
   },
   {
    "duration": 13,
    "start_time": "2022-07-09T17:59:49.963Z"
   },
   {
    "duration": 6,
    "start_time": "2022-07-09T17:59:49.978Z"
   },
   {
    "duration": 9,
    "start_time": "2022-07-09T17:59:49.986Z"
   },
   {
    "duration": 8,
    "start_time": "2022-07-09T17:59:49.997Z"
   },
   {
    "duration": 8,
    "start_time": "2022-07-09T17:59:50.008Z"
   },
   {
    "duration": 43,
    "start_time": "2022-07-09T17:59:50.018Z"
   },
   {
    "duration": 3,
    "start_time": "2022-07-09T17:59:50.064Z"
   },
   {
    "duration": 15,
    "start_time": "2022-07-09T17:59:50.069Z"
   },
   {
    "duration": 17,
    "start_time": "2022-07-09T17:59:50.085Z"
   },
   {
    "duration": 25,
    "start_time": "2022-07-09T17:59:50.104Z"
   },
   {
    "duration": 232,
    "start_time": "2022-07-09T17:59:50.131Z"
   },
   {
    "duration": 3,
    "start_time": "2022-07-09T17:59:50.365Z"
   },
   {
    "duration": 217,
    "start_time": "2022-07-09T17:59:50.370Z"
   },
   {
    "duration": 3,
    "start_time": "2022-07-09T17:59:50.589Z"
   },
   {
    "duration": 6,
    "start_time": "2022-07-09T17:59:53.491Z"
   },
   {
    "duration": 828,
    "start_time": "2022-07-09T18:00:13.364Z"
   },
   {
    "duration": 610,
    "start_time": "2022-07-09T18:01:10.661Z"
   },
   {
    "duration": 63,
    "start_time": "2022-07-09T18:01:38.297Z"
   },
   {
    "duration": 737,
    "start_time": "2022-07-09T18:03:18.819Z"
   },
   {
    "duration": 113,
    "start_time": "2022-07-09T18:03:31.500Z"
   },
   {
    "duration": 740,
    "start_time": "2022-07-09T18:04:02.717Z"
   },
   {
    "duration": 3,
    "start_time": "2022-07-09T18:04:19.157Z"
   },
   {
    "duration": 110,
    "start_time": "2022-07-09T18:04:19.162Z"
   },
   {
    "duration": 14,
    "start_time": "2022-07-09T18:04:19.274Z"
   },
   {
    "duration": 2092,
    "start_time": "2022-07-09T18:04:19.290Z"
   },
   {
    "duration": 10,
    "start_time": "2022-07-09T18:04:21.384Z"
   },
   {
    "duration": 7,
    "start_time": "2022-07-09T18:04:21.395Z"
   },
   {
    "duration": 7,
    "start_time": "2022-07-09T18:04:21.404Z"
   },
   {
    "duration": 6,
    "start_time": "2022-07-09T18:04:21.412Z"
   },
   {
    "duration": 31,
    "start_time": "2022-07-09T18:04:21.420Z"
   },
   {
    "duration": 14,
    "start_time": "2022-07-09T18:04:21.452Z"
   },
   {
    "duration": 2,
    "start_time": "2022-07-09T18:04:21.468Z"
   },
   {
    "duration": 11,
    "start_time": "2022-07-09T18:04:21.472Z"
   },
   {
    "duration": 19,
    "start_time": "2022-07-09T18:04:21.485Z"
   },
   {
    "duration": 54,
    "start_time": "2022-07-09T18:04:21.507Z"
   },
   {
    "duration": 255,
    "start_time": "2022-07-09T18:04:21.562Z"
   },
   {
    "duration": 3,
    "start_time": "2022-07-09T18:04:21.819Z"
   },
   {
    "duration": 223,
    "start_time": "2022-07-09T18:04:21.824Z"
   },
   {
    "duration": 9,
    "start_time": "2022-07-09T18:04:22.048Z"
   },
   {
    "duration": 8,
    "start_time": "2022-07-09T18:04:22.059Z"
   },
   {
    "duration": 8,
    "start_time": "2022-07-09T18:04:22.069Z"
   },
   {
    "duration": 15,
    "start_time": "2022-07-09T18:04:22.079Z"
   },
   {
    "duration": 8,
    "start_time": "2022-07-09T18:04:22.096Z"
   },
   {
    "duration": 11,
    "start_time": "2022-07-09T18:04:22.105Z"
   },
   {
    "duration": 3,
    "start_time": "2022-07-09T18:04:22.121Z"
   },
   {
    "duration": 329,
    "start_time": "2022-07-09T18:04:22.126Z"
   },
   {
    "duration": 4,
    "start_time": "2022-07-09T18:04:22.456Z"
   },
   {
    "duration": 10,
    "start_time": "2022-07-09T18:04:22.461Z"
   },
   {
    "duration": 6,
    "start_time": "2022-07-09T18:04:22.473Z"
   },
   {
    "duration": 9,
    "start_time": "2022-07-09T18:04:22.480Z"
   },
   {
    "duration": 181,
    "start_time": "2022-07-09T18:04:22.491Z"
   },
   {
    "duration": 9,
    "start_time": "2022-07-09T18:04:22.673Z"
   },
   {
    "duration": 172,
    "start_time": "2022-07-09T18:04:22.684Z"
   },
   {
    "duration": 9,
    "start_time": "2022-07-09T18:04:22.858Z"
   },
   {
    "duration": 177,
    "start_time": "2022-07-09T18:04:22.869Z"
   },
   {
    "duration": 10,
    "start_time": "2022-07-09T18:04:23.048Z"
   },
   {
    "duration": 260,
    "start_time": "2022-07-09T18:04:23.060Z"
   },
   {
    "duration": 9,
    "start_time": "2022-07-09T18:04:23.322Z"
   },
   {
    "duration": 170,
    "start_time": "2022-07-09T18:04:23.333Z"
   },
   {
    "duration": 161,
    "start_time": "2022-07-09T18:04:23.505Z"
   },
   {
    "duration": 405,
    "start_time": "2022-07-09T18:04:23.668Z"
   },
   {
    "duration": 11,
    "start_time": "2022-07-09T18:04:24.074Z"
   },
   {
    "duration": 162,
    "start_time": "2022-07-09T18:04:24.087Z"
   },
   {
    "duration": 134,
    "start_time": "2022-07-09T18:04:24.251Z"
   },
   {
    "duration": 9,
    "start_time": "2022-07-09T18:04:24.387Z"
   },
   {
    "duration": 175,
    "start_time": "2022-07-09T18:04:24.398Z"
   },
   {
    "duration": 275,
    "start_time": "2022-07-09T18:04:24.575Z"
   },
   {
    "duration": 10,
    "start_time": "2022-07-09T18:04:24.852Z"
   },
   {
    "duration": 425,
    "start_time": "2022-07-09T18:04:24.864Z"
   },
   {
    "duration": 192,
    "start_time": "2022-07-09T18:04:25.291Z"
   },
   {
    "duration": 176,
    "start_time": "2022-07-09T18:04:25.485Z"
   },
   {
    "duration": 204,
    "start_time": "2022-07-09T18:04:25.663Z"
   },
   {
    "duration": 201,
    "start_time": "2022-07-09T18:04:25.869Z"
   },
   {
    "duration": 193,
    "start_time": "2022-07-09T18:04:26.072Z"
   },
   {
    "duration": 187,
    "start_time": "2022-07-09T18:04:26.267Z"
   },
   {
    "duration": 198,
    "start_time": "2022-07-09T18:04:26.456Z"
   },
   {
    "duration": 177,
    "start_time": "2022-07-09T18:04:26.656Z"
   },
   {
    "duration": 16,
    "start_time": "2022-07-09T18:04:26.835Z"
   },
   {
    "duration": 25,
    "start_time": "2022-07-09T18:04:26.853Z"
   },
   {
    "duration": 8,
    "start_time": "2022-07-09T18:04:26.880Z"
   },
   {
    "duration": 22,
    "start_time": "2022-07-09T18:04:26.890Z"
   },
   {
    "duration": 7,
    "start_time": "2022-07-09T18:05:19.698Z"
   },
   {
    "duration": 3,
    "start_time": "2022-07-09T18:18:46.098Z"
   },
   {
    "duration": 104,
    "start_time": "2022-07-09T18:18:46.117Z"
   },
   {
    "duration": 23,
    "start_time": "2022-07-09T18:18:46.222Z"
   },
   {
    "duration": 2204,
    "start_time": "2022-07-09T18:18:46.247Z"
   },
   {
    "duration": 10,
    "start_time": "2022-07-09T18:18:48.453Z"
   },
   {
    "duration": 5,
    "start_time": "2022-07-09T18:18:48.464Z"
   },
   {
    "duration": 7,
    "start_time": "2022-07-09T18:18:48.470Z"
   },
   {
    "duration": 8,
    "start_time": "2022-07-09T18:18:48.478Z"
   },
   {
    "duration": 10,
    "start_time": "2022-07-09T18:18:48.488Z"
   },
   {
    "duration": 11,
    "start_time": "2022-07-09T18:18:48.499Z"
   },
   {
    "duration": 2,
    "start_time": "2022-07-09T18:18:48.512Z"
   },
   {
    "duration": 32,
    "start_time": "2022-07-09T18:18:48.516Z"
   },
   {
    "duration": 9,
    "start_time": "2022-07-09T18:18:48.550Z"
   },
   {
    "duration": 25,
    "start_time": "2022-07-09T18:18:48.561Z"
   },
   {
    "duration": 31,
    "start_time": "2022-07-09T18:18:48.587Z"
   },
   {
    "duration": 3,
    "start_time": "2022-07-09T18:18:48.646Z"
   },
   {
    "duration": 195,
    "start_time": "2022-07-09T18:18:48.651Z"
   },
   {
    "duration": 3,
    "start_time": "2022-07-09T18:18:48.848Z"
   },
   {
    "duration": 9,
    "start_time": "2022-07-09T18:18:48.854Z"
   },
   {
    "duration": 594,
    "start_time": "2022-07-09T18:18:48.865Z"
   },
   {
    "duration": 0,
    "start_time": "2022-07-09T18:18:49.462Z"
   },
   {
    "duration": 0,
    "start_time": "2022-07-09T18:18:49.463Z"
   },
   {
    "duration": 0,
    "start_time": "2022-07-09T18:18:49.464Z"
   },
   {
    "duration": 0,
    "start_time": "2022-07-09T18:18:49.465Z"
   },
   {
    "duration": 0,
    "start_time": "2022-07-09T18:18:49.467Z"
   },
   {
    "duration": 0,
    "start_time": "2022-07-09T18:18:49.467Z"
   },
   {
    "duration": 0,
    "start_time": "2022-07-09T18:18:49.469Z"
   },
   {
    "duration": 0,
    "start_time": "2022-07-09T18:18:49.470Z"
   },
   {
    "duration": 0,
    "start_time": "2022-07-09T18:18:49.471Z"
   },
   {
    "duration": 0,
    "start_time": "2022-07-09T18:18:49.472Z"
   },
   {
    "duration": 0,
    "start_time": "2022-07-09T18:18:49.473Z"
   },
   {
    "duration": 0,
    "start_time": "2022-07-09T18:18:49.474Z"
   },
   {
    "duration": 0,
    "start_time": "2022-07-09T18:18:49.475Z"
   },
   {
    "duration": 0,
    "start_time": "2022-07-09T18:18:49.476Z"
   },
   {
    "duration": 0,
    "start_time": "2022-07-09T18:18:49.477Z"
   },
   {
    "duration": 0,
    "start_time": "2022-07-09T18:18:49.478Z"
   },
   {
    "duration": 0,
    "start_time": "2022-07-09T18:18:49.480Z"
   },
   {
    "duration": 0,
    "start_time": "2022-07-09T18:18:49.481Z"
   },
   {
    "duration": 0,
    "start_time": "2022-07-09T18:18:49.482Z"
   },
   {
    "duration": 0,
    "start_time": "2022-07-09T18:18:49.484Z"
   },
   {
    "duration": 0,
    "start_time": "2022-07-09T18:18:49.485Z"
   },
   {
    "duration": 0,
    "start_time": "2022-07-09T18:18:49.487Z"
   },
   {
    "duration": 0,
    "start_time": "2022-07-09T18:18:49.488Z"
   },
   {
    "duration": 0,
    "start_time": "2022-07-09T18:18:49.490Z"
   },
   {
    "duration": 0,
    "start_time": "2022-07-09T18:18:49.491Z"
   },
   {
    "duration": 0,
    "start_time": "2022-07-09T18:18:49.492Z"
   },
   {
    "duration": 0,
    "start_time": "2022-07-09T18:18:49.493Z"
   },
   {
    "duration": 0,
    "start_time": "2022-07-09T18:18:49.494Z"
   },
   {
    "duration": 0,
    "start_time": "2022-07-09T18:18:49.495Z"
   },
   {
    "duration": 0,
    "start_time": "2022-07-09T18:18:49.497Z"
   },
   {
    "duration": 0,
    "start_time": "2022-07-09T18:18:49.498Z"
   },
   {
    "duration": 0,
    "start_time": "2022-07-09T18:18:49.499Z"
   },
   {
    "duration": 0,
    "start_time": "2022-07-09T18:18:49.500Z"
   },
   {
    "duration": 0,
    "start_time": "2022-07-09T18:18:49.546Z"
   },
   {
    "duration": 0,
    "start_time": "2022-07-09T18:18:49.548Z"
   },
   {
    "duration": 0,
    "start_time": "2022-07-09T18:18:49.549Z"
   },
   {
    "duration": 0,
    "start_time": "2022-07-09T18:18:49.551Z"
   },
   {
    "duration": 0,
    "start_time": "2022-07-09T18:18:49.552Z"
   },
   {
    "duration": 0,
    "start_time": "2022-07-09T18:18:49.553Z"
   },
   {
    "duration": 0,
    "start_time": "2022-07-09T18:18:49.554Z"
   },
   {
    "duration": 0,
    "start_time": "2022-07-09T18:18:49.555Z"
   },
   {
    "duration": 0,
    "start_time": "2022-07-09T18:18:49.556Z"
   },
   {
    "duration": 549,
    "start_time": "2022-07-09T18:19:09.333Z"
   },
   {
    "duration": 2,
    "start_time": "2022-07-09T18:19:32.648Z"
   },
   {
    "duration": 109,
    "start_time": "2022-07-09T18:19:32.652Z"
   },
   {
    "duration": 13,
    "start_time": "2022-07-09T18:19:32.763Z"
   },
   {
    "duration": 2115,
    "start_time": "2022-07-09T18:19:32.777Z"
   },
   {
    "duration": 10,
    "start_time": "2022-07-09T18:19:34.894Z"
   },
   {
    "duration": 4,
    "start_time": "2022-07-09T18:19:34.905Z"
   },
   {
    "duration": 7,
    "start_time": "2022-07-09T18:19:34.911Z"
   },
   {
    "duration": 4,
    "start_time": "2022-07-09T18:19:34.920Z"
   },
   {
    "duration": 6,
    "start_time": "2022-07-09T18:19:34.946Z"
   },
   {
    "duration": 16,
    "start_time": "2022-07-09T18:19:34.954Z"
   },
   {
    "duration": 2,
    "start_time": "2022-07-09T18:19:34.974Z"
   },
   {
    "duration": 16,
    "start_time": "2022-07-09T18:19:34.978Z"
   },
   {
    "duration": 10,
    "start_time": "2022-07-09T18:19:34.996Z"
   },
   {
    "duration": 46,
    "start_time": "2022-07-09T18:19:35.008Z"
   },
   {
    "duration": 30,
    "start_time": "2022-07-09T18:19:35.057Z"
   },
   {
    "duration": 3,
    "start_time": "2022-07-09T18:19:35.089Z"
   },
   {
    "duration": 206,
    "start_time": "2022-07-09T18:19:35.093Z"
   },
   {
    "duration": 3,
    "start_time": "2022-07-09T18:19:35.301Z"
   },
   {
    "duration": 9,
    "start_time": "2022-07-09T18:19:35.306Z"
   },
   {
    "duration": 353,
    "start_time": "2022-07-09T18:19:35.317Z"
   },
   {
    "duration": 0,
    "start_time": "2022-07-09T18:19:35.672Z"
   },
   {
    "duration": 0,
    "start_time": "2022-07-09T18:19:35.673Z"
   },
   {
    "duration": 0,
    "start_time": "2022-07-09T18:19:35.674Z"
   },
   {
    "duration": 0,
    "start_time": "2022-07-09T18:19:35.675Z"
   },
   {
    "duration": 0,
    "start_time": "2022-07-09T18:19:35.676Z"
   },
   {
    "duration": 0,
    "start_time": "2022-07-09T18:19:35.677Z"
   },
   {
    "duration": 0,
    "start_time": "2022-07-09T18:19:35.678Z"
   },
   {
    "duration": 0,
    "start_time": "2022-07-09T18:19:35.679Z"
   },
   {
    "duration": 0,
    "start_time": "2022-07-09T18:19:35.680Z"
   },
   {
    "duration": 0,
    "start_time": "2022-07-09T18:19:35.682Z"
   },
   {
    "duration": 0,
    "start_time": "2022-07-09T18:19:35.683Z"
   },
   {
    "duration": 0,
    "start_time": "2022-07-09T18:19:35.684Z"
   },
   {
    "duration": 0,
    "start_time": "2022-07-09T18:19:35.685Z"
   },
   {
    "duration": 0,
    "start_time": "2022-07-09T18:19:35.686Z"
   },
   {
    "duration": 0,
    "start_time": "2022-07-09T18:19:35.687Z"
   },
   {
    "duration": 0,
    "start_time": "2022-07-09T18:19:35.688Z"
   },
   {
    "duration": 0,
    "start_time": "2022-07-09T18:19:35.690Z"
   },
   {
    "duration": 0,
    "start_time": "2022-07-09T18:19:35.691Z"
   },
   {
    "duration": 0,
    "start_time": "2022-07-09T18:19:35.693Z"
   },
   {
    "duration": 0,
    "start_time": "2022-07-09T18:19:35.694Z"
   },
   {
    "duration": 0,
    "start_time": "2022-07-09T18:19:35.696Z"
   },
   {
    "duration": 0,
    "start_time": "2022-07-09T18:19:35.697Z"
   },
   {
    "duration": 0,
    "start_time": "2022-07-09T18:19:35.699Z"
   },
   {
    "duration": 0,
    "start_time": "2022-07-09T18:19:35.700Z"
   },
   {
    "duration": 0,
    "start_time": "2022-07-09T18:19:35.701Z"
   },
   {
    "duration": 0,
    "start_time": "2022-07-09T18:19:35.702Z"
   },
   {
    "duration": 0,
    "start_time": "2022-07-09T18:19:35.703Z"
   },
   {
    "duration": 0,
    "start_time": "2022-07-09T18:19:35.703Z"
   },
   {
    "duration": 0,
    "start_time": "2022-07-09T18:19:35.704Z"
   },
   {
    "duration": 0,
    "start_time": "2022-07-09T18:19:35.705Z"
   },
   {
    "duration": 0,
    "start_time": "2022-07-09T18:19:35.706Z"
   },
   {
    "duration": 0,
    "start_time": "2022-07-09T18:19:35.707Z"
   },
   {
    "duration": 0,
    "start_time": "2022-07-09T18:19:35.708Z"
   },
   {
    "duration": 0,
    "start_time": "2022-07-09T18:19:35.709Z"
   },
   {
    "duration": 0,
    "start_time": "2022-07-09T18:19:35.710Z"
   },
   {
    "duration": 0,
    "start_time": "2022-07-09T18:19:35.746Z"
   },
   {
    "duration": 0,
    "start_time": "2022-07-09T18:19:35.748Z"
   },
   {
    "duration": 0,
    "start_time": "2022-07-09T18:19:35.749Z"
   },
   {
    "duration": 0,
    "start_time": "2022-07-09T18:19:35.750Z"
   },
   {
    "duration": 0,
    "start_time": "2022-07-09T18:19:35.751Z"
   },
   {
    "duration": 0,
    "start_time": "2022-07-09T18:19:35.752Z"
   },
   {
    "duration": 0,
    "start_time": "2022-07-09T18:19:35.754Z"
   },
   {
    "duration": 8,
    "start_time": "2022-07-09T18:22:40.707Z"
   },
   {
    "duration": 687,
    "start_time": "2022-07-09T18:22:53.766Z"
   },
   {
    "duration": 712,
    "start_time": "2022-07-09T18:27:05.718Z"
   },
   {
    "duration": 647,
    "start_time": "2022-07-09T18:28:09.486Z"
   },
   {
    "duration": 749,
    "start_time": "2022-07-09T18:29:16.432Z"
   },
   {
    "duration": 557,
    "start_time": "2022-07-09T18:29:57.805Z"
   },
   {
    "duration": 3,
    "start_time": "2022-07-09T18:30:12.205Z"
   },
   {
    "duration": 110,
    "start_time": "2022-07-09T18:30:12.210Z"
   },
   {
    "duration": 35,
    "start_time": "2022-07-09T18:30:12.322Z"
   },
   {
    "duration": 2470,
    "start_time": "2022-07-09T18:30:12.359Z"
   },
   {
    "duration": 16,
    "start_time": "2022-07-09T18:30:14.831Z"
   },
   {
    "duration": 5,
    "start_time": "2022-07-09T18:30:14.849Z"
   },
   {
    "duration": 6,
    "start_time": "2022-07-09T18:30:14.856Z"
   },
   {
    "duration": 5,
    "start_time": "2022-07-09T18:30:14.863Z"
   },
   {
    "duration": 9,
    "start_time": "2022-07-09T18:30:14.870Z"
   },
   {
    "duration": 11,
    "start_time": "2022-07-09T18:30:14.881Z"
   },
   {
    "duration": 2,
    "start_time": "2022-07-09T18:30:14.894Z"
   },
   {
    "duration": 9,
    "start_time": "2022-07-09T18:30:14.898Z"
   },
   {
    "duration": 10,
    "start_time": "2022-07-09T18:30:14.909Z"
   },
   {
    "duration": 43,
    "start_time": "2022-07-09T18:30:14.920Z"
   },
   {
    "duration": 27,
    "start_time": "2022-07-09T18:30:14.965Z"
   },
   {
    "duration": 3,
    "start_time": "2022-07-09T18:30:14.993Z"
   },
   {
    "duration": 216,
    "start_time": "2022-07-09T18:30:14.998Z"
   },
   {
    "duration": 9,
    "start_time": "2022-07-09T18:30:15.215Z"
   },
   {
    "duration": 9,
    "start_time": "2022-07-09T18:30:15.226Z"
   },
   {
    "duration": 7,
    "start_time": "2022-07-09T18:30:15.243Z"
   },
   {
    "duration": 8,
    "start_time": "2022-07-09T18:30:15.252Z"
   },
   {
    "duration": 10,
    "start_time": "2022-07-09T18:30:15.261Z"
   },
   {
    "duration": 11,
    "start_time": "2022-07-09T18:30:15.272Z"
   },
   {
    "duration": 7,
    "start_time": "2022-07-09T18:30:15.287Z"
   },
   {
    "duration": 286,
    "start_time": "2022-07-09T18:30:15.296Z"
   },
   {
    "duration": 4,
    "start_time": "2022-07-09T18:30:15.584Z"
   },
   {
    "duration": 10,
    "start_time": "2022-07-09T18:30:15.589Z"
   },
   {
    "duration": 6,
    "start_time": "2022-07-09T18:30:15.600Z"
   },
   {
    "duration": 10,
    "start_time": "2022-07-09T18:30:15.608Z"
   },
   {
    "duration": 170,
    "start_time": "2022-07-09T18:30:15.620Z"
   },
   {
    "duration": 9,
    "start_time": "2022-07-09T18:30:15.792Z"
   },
   {
    "duration": 160,
    "start_time": "2022-07-09T18:30:15.802Z"
   },
   {
    "duration": 9,
    "start_time": "2022-07-09T18:30:15.963Z"
   },
   {
    "duration": 174,
    "start_time": "2022-07-09T18:30:15.973Z"
   },
   {
    "duration": 9,
    "start_time": "2022-07-09T18:30:16.149Z"
   },
   {
    "duration": 496,
    "start_time": "2022-07-09T18:30:16.160Z"
   },
   {
    "duration": 9,
    "start_time": "2022-07-09T18:30:16.657Z"
   },
   {
    "duration": 173,
    "start_time": "2022-07-09T18:30:16.668Z"
   },
   {
    "duration": 171,
    "start_time": "2022-07-09T18:30:16.845Z"
   },
   {
    "duration": 406,
    "start_time": "2022-07-09T18:30:17.018Z"
   },
   {
    "duration": 10,
    "start_time": "2022-07-09T18:30:17.426Z"
   },
   {
    "duration": 157,
    "start_time": "2022-07-09T18:30:17.446Z"
   },
   {
    "duration": 135,
    "start_time": "2022-07-09T18:30:17.605Z"
   },
   {
    "duration": 11,
    "start_time": "2022-07-09T18:30:17.742Z"
   },
   {
    "duration": 163,
    "start_time": "2022-07-09T18:30:17.755Z"
   },
   {
    "duration": 272,
    "start_time": "2022-07-09T18:30:17.920Z"
   },
   {
    "duration": 10,
    "start_time": "2022-07-09T18:30:18.193Z"
   },
   {
    "duration": 256,
    "start_time": "2022-07-09T18:30:18.204Z"
   },
   {
    "duration": 187,
    "start_time": "2022-07-09T18:30:18.461Z"
   },
   {
    "duration": 172,
    "start_time": "2022-07-09T18:30:18.649Z"
   },
   {
    "duration": 262,
    "start_time": "2022-07-09T18:30:18.823Z"
   },
   {
    "duration": 207,
    "start_time": "2022-07-09T18:30:19.087Z"
   },
   {
    "duration": 195,
    "start_time": "2022-07-09T18:30:19.296Z"
   },
   {
    "duration": 200,
    "start_time": "2022-07-09T18:30:19.494Z"
   },
   {
    "duration": 195,
    "start_time": "2022-07-09T18:30:19.696Z"
   },
   {
    "duration": 188,
    "start_time": "2022-07-09T18:30:19.892Z"
   },
   {
    "duration": 15,
    "start_time": "2022-07-09T18:30:20.082Z"
   },
   {
    "duration": 26,
    "start_time": "2022-07-09T18:30:20.099Z"
   },
   {
    "duration": 8,
    "start_time": "2022-07-09T18:30:20.145Z"
   },
   {
    "duration": 26,
    "start_time": "2022-07-09T18:30:20.155Z"
   },
   {
    "duration": 71,
    "start_time": "2022-07-09T18:32:13.980Z"
   },
   {
    "duration": 47,
    "start_time": "2022-07-09T18:32:18.765Z"
   },
   {
    "duration": 49,
    "start_time": "2022-07-09T18:32:26.129Z"
   },
   {
    "duration": 52,
    "start_time": "2022-07-09T18:32:32.705Z"
   },
   {
    "duration": 3,
    "start_time": "2022-07-09T18:34:11.805Z"
   },
   {
    "duration": 126,
    "start_time": "2022-07-09T18:34:11.831Z"
   },
   {
    "duration": 16,
    "start_time": "2022-07-09T18:34:11.959Z"
   },
   {
    "duration": 2319,
    "start_time": "2022-07-09T18:34:11.976Z"
   },
   {
    "duration": 10,
    "start_time": "2022-07-09T18:34:14.297Z"
   },
   {
    "duration": 4,
    "start_time": "2022-07-09T18:34:14.310Z"
   },
   {
    "duration": 6,
    "start_time": "2022-07-09T18:34:14.315Z"
   },
   {
    "duration": 23,
    "start_time": "2022-07-09T18:34:14.323Z"
   },
   {
    "duration": 8,
    "start_time": "2022-07-09T18:34:14.348Z"
   },
   {
    "duration": 11,
    "start_time": "2022-07-09T18:34:14.357Z"
   },
   {
    "duration": 2,
    "start_time": "2022-07-09T18:34:14.370Z"
   },
   {
    "duration": 10,
    "start_time": "2022-07-09T18:34:14.374Z"
   },
   {
    "duration": 9,
    "start_time": "2022-07-09T18:34:14.386Z"
   },
   {
    "duration": 50,
    "start_time": "2022-07-09T18:34:14.396Z"
   },
   {
    "duration": 31,
    "start_time": "2022-07-09T18:34:14.449Z"
   },
   {
    "duration": 3,
    "start_time": "2022-07-09T18:34:14.481Z"
   },
   {
    "duration": 215,
    "start_time": "2022-07-09T18:34:14.485Z"
   },
   {
    "duration": 8,
    "start_time": "2022-07-09T18:34:14.702Z"
   },
   {
    "duration": 7,
    "start_time": "2022-07-09T18:34:14.712Z"
   },
   {
    "duration": 5,
    "start_time": "2022-07-09T18:34:14.721Z"
   },
   {
    "duration": 23,
    "start_time": "2022-07-09T18:34:14.727Z"
   },
   {
    "duration": 6,
    "start_time": "2022-07-09T18:34:14.752Z"
   },
   {
    "duration": 6,
    "start_time": "2022-07-09T18:34:14.759Z"
   },
   {
    "duration": 3,
    "start_time": "2022-07-09T18:34:14.767Z"
   },
   {
    "duration": 312,
    "start_time": "2022-07-09T18:34:14.771Z"
   },
   {
    "duration": 4,
    "start_time": "2022-07-09T18:34:15.085Z"
   },
   {
    "duration": 11,
    "start_time": "2022-07-09T18:34:15.091Z"
   },
   {
    "duration": 16,
    "start_time": "2022-07-09T18:34:15.104Z"
   },
   {
    "duration": 166,
    "start_time": "2022-07-09T18:34:15.121Z"
   },
   {
    "duration": 9,
    "start_time": "2022-07-09T18:34:15.289Z"
   },
   {
    "duration": 172,
    "start_time": "2022-07-09T18:34:15.300Z"
   },
   {
    "duration": 10,
    "start_time": "2022-07-09T18:34:15.473Z"
   },
   {
    "duration": 184,
    "start_time": "2022-07-09T18:34:15.485Z"
   },
   {
    "duration": 9,
    "start_time": "2022-07-09T18:34:15.671Z"
   },
   {
    "duration": 287,
    "start_time": "2022-07-09T18:34:15.682Z"
   },
   {
    "duration": 9,
    "start_time": "2022-07-09T18:34:15.971Z"
   },
   {
    "duration": 171,
    "start_time": "2022-07-09T18:34:15.981Z"
   },
   {
    "duration": 163,
    "start_time": "2022-07-09T18:34:16.154Z"
   },
   {
    "duration": 394,
    "start_time": "2022-07-09T18:34:16.318Z"
   },
   {
    "duration": 9,
    "start_time": "2022-07-09T18:34:16.714Z"
   },
   {
    "duration": 152,
    "start_time": "2022-07-09T18:34:16.725Z"
   },
   {
    "duration": 419,
    "start_time": "2022-07-09T18:34:16.881Z"
   },
   {
    "duration": 9,
    "start_time": "2022-07-09T18:34:17.301Z"
   },
   {
    "duration": 155,
    "start_time": "2022-07-09T18:34:17.311Z"
   },
   {
    "duration": 263,
    "start_time": "2022-07-09T18:34:17.468Z"
   },
   {
    "duration": 15,
    "start_time": "2022-07-09T18:34:17.733Z"
   },
   {
    "duration": 240,
    "start_time": "2022-07-09T18:34:17.750Z"
   },
   {
    "duration": 179,
    "start_time": "2022-07-09T18:34:17.992Z"
   },
   {
    "duration": 178,
    "start_time": "2022-07-09T18:34:18.172Z"
   },
   {
    "duration": 203,
    "start_time": "2022-07-09T18:34:18.352Z"
   },
   {
    "duration": 202,
    "start_time": "2022-07-09T18:34:18.556Z"
   },
   {
    "duration": 215,
    "start_time": "2022-07-09T18:34:18.760Z"
   },
   {
    "duration": 227,
    "start_time": "2022-07-09T18:34:18.977Z"
   },
   {
    "duration": 190,
    "start_time": "2022-07-09T18:34:19.205Z"
   },
   {
    "duration": 189,
    "start_time": "2022-07-09T18:34:19.396Z"
   },
   {
    "duration": 14,
    "start_time": "2022-07-09T18:34:19.587Z"
   },
   {
    "duration": 24,
    "start_time": "2022-07-09T18:34:19.603Z"
   },
   {
    "duration": 23,
    "start_time": "2022-07-09T18:34:19.628Z"
   },
   {
    "duration": 22,
    "start_time": "2022-07-09T18:34:19.653Z"
   },
   {
    "duration": 37,
    "start_time": "2022-07-09T18:35:32.565Z"
   },
   {
    "duration": 37,
    "start_time": "2022-07-09T18:35:46.339Z"
   },
   {
    "duration": 175,
    "start_time": "2022-07-09T18:37:35.933Z"
   },
   {
    "duration": 150,
    "start_time": "2022-07-09T18:37:45.933Z"
   },
   {
    "duration": 153,
    "start_time": "2022-07-09T18:37:55.683Z"
   },
   {
    "duration": 247,
    "start_time": "2022-07-09T18:38:05.084Z"
   },
   {
    "duration": 143,
    "start_time": "2022-07-09T18:38:11.256Z"
   },
   {
    "duration": 157,
    "start_time": "2022-07-09T18:38:20.384Z"
   },
   {
    "duration": 143,
    "start_time": "2022-07-09T18:38:41.504Z"
   },
   {
    "duration": 123,
    "start_time": "2022-07-09T18:38:45.850Z"
   },
   {
    "duration": 144,
    "start_time": "2022-07-09T18:38:53.083Z"
   },
   {
    "duration": 239,
    "start_time": "2022-07-09T18:39:18.163Z"
   },
   {
    "duration": 9,
    "start_time": "2022-07-09T18:44:13.864Z"
   },
   {
    "duration": 0,
    "start_time": "2022-07-09T18:50:08.029Z"
   },
   {
    "duration": 0,
    "start_time": "2022-07-09T18:50:08.031Z"
   },
   {
    "duration": 0,
    "start_time": "2022-07-09T18:50:08.032Z"
   },
   {
    "duration": 0,
    "start_time": "2022-07-09T18:50:08.033Z"
   },
   {
    "duration": 0,
    "start_time": "2022-07-09T18:50:08.045Z"
   },
   {
    "duration": 0,
    "start_time": "2022-07-09T18:50:08.047Z"
   },
   {
    "duration": 0,
    "start_time": "2022-07-09T18:50:08.048Z"
   },
   {
    "duration": 0,
    "start_time": "2022-07-09T18:50:08.049Z"
   },
   {
    "duration": 0,
    "start_time": "2022-07-09T18:50:08.050Z"
   },
   {
    "duration": 0,
    "start_time": "2022-07-09T18:50:08.051Z"
   },
   {
    "duration": 0,
    "start_time": "2022-07-09T18:50:08.052Z"
   },
   {
    "duration": 0,
    "start_time": "2022-07-09T18:50:08.053Z"
   },
   {
    "duration": 0,
    "start_time": "2022-07-09T18:50:08.055Z"
   },
   {
    "duration": 0,
    "start_time": "2022-07-09T18:50:08.056Z"
   },
   {
    "duration": 0,
    "start_time": "2022-07-09T18:50:08.057Z"
   },
   {
    "duration": 0,
    "start_time": "2022-07-09T18:50:08.058Z"
   },
   {
    "duration": 0,
    "start_time": "2022-07-09T18:50:08.060Z"
   },
   {
    "duration": 0,
    "start_time": "2022-07-09T18:50:08.060Z"
   },
   {
    "duration": 0,
    "start_time": "2022-07-09T18:50:08.062Z"
   },
   {
    "duration": 0,
    "start_time": "2022-07-09T18:50:08.063Z"
   },
   {
    "duration": 0,
    "start_time": "2022-07-09T18:50:08.064Z"
   },
   {
    "duration": 0,
    "start_time": "2022-07-09T18:50:08.065Z"
   },
   {
    "duration": 0,
    "start_time": "2022-07-09T18:50:08.066Z"
   },
   {
    "duration": 0,
    "start_time": "2022-07-09T18:50:08.067Z"
   },
   {
    "duration": 0,
    "start_time": "2022-07-09T18:50:08.068Z"
   },
   {
    "duration": 0,
    "start_time": "2022-07-09T18:50:08.069Z"
   },
   {
    "duration": 1,
    "start_time": "2022-07-09T18:50:08.070Z"
   },
   {
    "duration": 0,
    "start_time": "2022-07-09T18:50:08.072Z"
   },
   {
    "duration": 0,
    "start_time": "2022-07-09T18:50:08.073Z"
   },
   {
    "duration": 0,
    "start_time": "2022-07-09T18:50:08.074Z"
   },
   {
    "duration": 1,
    "start_time": "2022-07-09T18:50:08.075Z"
   },
   {
    "duration": 0,
    "start_time": "2022-07-09T18:50:08.077Z"
   },
   {
    "duration": 0,
    "start_time": "2022-07-09T18:50:08.078Z"
   },
   {
    "duration": 0,
    "start_time": "2022-07-09T18:50:08.079Z"
   },
   {
    "duration": 0,
    "start_time": "2022-07-09T18:50:08.081Z"
   },
   {
    "duration": 0,
    "start_time": "2022-07-09T18:50:08.082Z"
   },
   {
    "duration": 0,
    "start_time": "2022-07-09T18:50:08.146Z"
   },
   {
    "duration": 0,
    "start_time": "2022-07-09T18:50:08.147Z"
   },
   {
    "duration": 1,
    "start_time": "2022-07-09T18:50:08.148Z"
   },
   {
    "duration": 0,
    "start_time": "2022-07-09T18:50:08.150Z"
   },
   {
    "duration": 0,
    "start_time": "2022-07-09T18:50:08.151Z"
   },
   {
    "duration": 0,
    "start_time": "2022-07-09T18:50:08.152Z"
   },
   {
    "duration": 0,
    "start_time": "2022-07-09T18:50:08.153Z"
   },
   {
    "duration": 0,
    "start_time": "2022-07-09T18:50:08.154Z"
   },
   {
    "duration": 1,
    "start_time": "2022-07-09T18:50:08.155Z"
   },
   {
    "duration": 0,
    "start_time": "2022-07-09T18:50:08.157Z"
   },
   {
    "duration": 0,
    "start_time": "2022-07-09T18:50:08.158Z"
   },
   {
    "duration": 0,
    "start_time": "2022-07-09T18:50:08.159Z"
   },
   {
    "duration": 0,
    "start_time": "2022-07-09T18:50:08.160Z"
   },
   {
    "duration": 0,
    "start_time": "2022-07-09T18:50:08.162Z"
   },
   {
    "duration": 0,
    "start_time": "2022-07-09T18:50:08.163Z"
   },
   {
    "duration": 0,
    "start_time": "2022-07-09T18:50:08.164Z"
   },
   {
    "duration": 0,
    "start_time": "2022-07-09T18:50:08.166Z"
   },
   {
    "duration": 0,
    "start_time": "2022-07-09T18:50:08.166Z"
   },
   {
    "duration": 0,
    "start_time": "2022-07-09T18:50:08.168Z"
   },
   {
    "duration": 0,
    "start_time": "2022-07-09T18:50:08.169Z"
   },
   {
    "duration": 0,
    "start_time": "2022-07-09T18:50:08.170Z"
   },
   {
    "duration": 0,
    "start_time": "2022-07-09T18:50:08.171Z"
   },
   {
    "duration": 0,
    "start_time": "2022-07-09T18:50:08.172Z"
   },
   {
    "duration": 0,
    "start_time": "2022-07-09T18:50:08.174Z"
   },
   {
    "duration": 2,
    "start_time": "2022-07-09T18:50:37.603Z"
   },
   {
    "duration": 3,
    "start_time": "2022-07-09T18:50:44.729Z"
   },
   {
    "duration": 119,
    "start_time": "2022-07-09T18:50:44.737Z"
   },
   {
    "duration": 17,
    "start_time": "2022-07-09T18:50:44.859Z"
   },
   {
    "duration": 2228,
    "start_time": "2022-07-09T18:50:44.878Z"
   },
   {
    "duration": 9,
    "start_time": "2022-07-09T18:50:47.108Z"
   },
   {
    "duration": 8,
    "start_time": "2022-07-09T18:50:47.120Z"
   },
   {
    "duration": 20,
    "start_time": "2022-07-09T18:50:47.130Z"
   },
   {
    "duration": 11,
    "start_time": "2022-07-09T18:50:47.152Z"
   },
   {
    "duration": 10,
    "start_time": "2022-07-09T18:50:47.165Z"
   },
   {
    "duration": 14,
    "start_time": "2022-07-09T18:50:47.177Z"
   },
   {
    "duration": 3,
    "start_time": "2022-07-09T18:50:47.193Z"
   },
   {
    "duration": 19,
    "start_time": "2022-07-09T18:50:47.198Z"
   },
   {
    "duration": 10,
    "start_time": "2022-07-09T18:50:47.219Z"
   },
   {
    "duration": 38,
    "start_time": "2022-07-09T18:50:47.232Z"
   },
   {
    "duration": 34,
    "start_time": "2022-07-09T18:50:47.274Z"
   },
   {
    "duration": 37,
    "start_time": "2022-07-09T18:50:47.309Z"
   },
   {
    "duration": 224,
    "start_time": "2022-07-09T18:50:47.348Z"
   },
   {
    "duration": 9,
    "start_time": "2022-07-09T18:50:47.573Z"
   },
   {
    "duration": 8,
    "start_time": "2022-07-09T18:50:47.584Z"
   },
   {
    "duration": 8,
    "start_time": "2022-07-09T18:50:47.593Z"
   },
   {
    "duration": 9,
    "start_time": "2022-07-09T18:50:47.603Z"
   },
   {
    "duration": 6,
    "start_time": "2022-07-09T18:50:47.613Z"
   },
   {
    "duration": 27,
    "start_time": "2022-07-09T18:50:47.621Z"
   },
   {
    "duration": 4,
    "start_time": "2022-07-09T18:50:47.650Z"
   },
   {
    "duration": 290,
    "start_time": "2022-07-09T18:50:47.656Z"
   },
   {
    "duration": 4,
    "start_time": "2022-07-09T18:50:47.948Z"
   },
   {
    "duration": 6,
    "start_time": "2022-07-09T18:50:47.954Z"
   },
   {
    "duration": 12,
    "start_time": "2022-07-09T18:50:47.961Z"
   },
   {
    "duration": 171,
    "start_time": "2022-07-09T18:50:47.974Z"
   },
   {
    "duration": 11,
    "start_time": "2022-07-09T18:50:48.147Z"
   },
   {
    "duration": 171,
    "start_time": "2022-07-09T18:50:48.159Z"
   },
   {
    "duration": 17,
    "start_time": "2022-07-09T18:50:48.332Z"
   },
   {
    "duration": 174,
    "start_time": "2022-07-09T18:50:48.351Z"
   },
   {
    "duration": 20,
    "start_time": "2022-07-09T18:50:48.527Z"
   },
   {
    "duration": 287,
    "start_time": "2022-07-09T18:50:48.549Z"
   },
   {
    "duration": 25,
    "start_time": "2022-07-09T18:50:48.838Z"
   },
   {
    "duration": 260,
    "start_time": "2022-07-09T18:50:48.865Z"
   },
   {
    "duration": 199,
    "start_time": "2022-07-09T18:50:49.129Z"
   },
   {
    "duration": 410,
    "start_time": "2022-07-09T18:50:49.330Z"
   },
   {
    "duration": 11,
    "start_time": "2022-07-09T18:50:49.742Z"
   },
   {
    "duration": 147,
    "start_time": "2022-07-09T18:50:49.755Z"
   },
   {
    "duration": 132,
    "start_time": "2022-07-09T18:50:49.906Z"
   },
   {
    "duration": 13,
    "start_time": "2022-07-09T18:50:50.040Z"
   },
   {
    "duration": 154,
    "start_time": "2022-07-09T18:50:50.055Z"
   },
   {
    "duration": 286,
    "start_time": "2022-07-09T18:50:50.211Z"
   },
   {
    "duration": 10,
    "start_time": "2022-07-09T18:50:50.499Z"
   },
   {
    "duration": 259,
    "start_time": "2022-07-09T18:50:50.511Z"
   },
   {
    "duration": 184,
    "start_time": "2022-07-09T18:50:50.772Z"
   },
   {
    "duration": 9,
    "start_time": "2022-07-09T18:50:50.958Z"
   },
   {
    "duration": 0,
    "start_time": "2022-07-09T18:50:50.969Z"
   },
   {
    "duration": 0,
    "start_time": "2022-07-09T18:50:50.970Z"
   },
   {
    "duration": 0,
    "start_time": "2022-07-09T18:50:50.971Z"
   },
   {
    "duration": 0,
    "start_time": "2022-07-09T18:50:50.973Z"
   },
   {
    "duration": 0,
    "start_time": "2022-07-09T18:50:50.974Z"
   },
   {
    "duration": 0,
    "start_time": "2022-07-09T18:50:50.976Z"
   },
   {
    "duration": 0,
    "start_time": "2022-07-09T18:50:50.977Z"
   },
   {
    "duration": 0,
    "start_time": "2022-07-09T18:50:50.979Z"
   },
   {
    "duration": 0,
    "start_time": "2022-07-09T18:50:50.980Z"
   },
   {
    "duration": 0,
    "start_time": "2022-07-09T18:50:50.982Z"
   },
   {
    "duration": 0,
    "start_time": "2022-07-09T18:50:50.984Z"
   },
   {
    "duration": 56,
    "start_time": "2022-07-09T18:55:38.590Z"
   },
   {
    "duration": 31,
    "start_time": "2022-07-09T18:55:51.603Z"
   },
   {
    "duration": 43712,
    "start_time": "2022-07-09T18:56:57.132Z"
   },
   {
    "duration": 44311,
    "start_time": "2022-07-09T19:00:44.261Z"
   },
   {
    "duration": 42109,
    "start_time": "2022-07-09T19:06:36.327Z"
   },
   {
    "duration": 25,
    "start_time": "2022-07-09T19:09:47.129Z"
   },
   {
    "duration": 44903,
    "start_time": "2022-07-09T19:10:21.930Z"
   },
   {
    "duration": 10,
    "start_time": "2022-07-09T19:12:34.301Z"
   },
   {
    "duration": 14,
    "start_time": "2022-07-09T19:12:42.732Z"
   },
   {
    "duration": 793,
    "start_time": "2022-07-09T19:13:13.341Z"
   },
   {
    "duration": 207,
    "start_time": "2022-07-09T19:13:29.501Z"
   },
   {
    "duration": 765,
    "start_time": "2022-07-09T19:13:55.162Z"
   },
   {
    "duration": 197,
    "start_time": "2022-07-09T19:13:59.845Z"
   },
   {
    "duration": 23,
    "start_time": "2022-07-09T19:15:59.062Z"
   },
   {
    "duration": 14,
    "start_time": "2022-07-09T19:19:57.160Z"
   },
   {
    "duration": 129,
    "start_time": "2022-07-09T19:19:59.881Z"
   },
   {
    "duration": 186,
    "start_time": "2022-07-09T19:20:01.833Z"
   },
   {
    "duration": 15,
    "start_time": "2022-07-09T19:21:24.701Z"
   },
   {
    "duration": 144,
    "start_time": "2022-07-09T19:21:29.843Z"
   },
   {
    "duration": 3,
    "start_time": "2022-07-09T19:22:20.838Z"
   },
   {
    "duration": 15,
    "start_time": "2022-07-09T19:24:52.122Z"
   },
   {
    "duration": 131,
    "start_time": "2022-07-09T19:25:00.583Z"
   },
   {
    "duration": 14,
    "start_time": "2022-07-09T19:25:13.582Z"
   },
   {
    "duration": 153,
    "start_time": "2022-07-09T19:25:15.388Z"
   },
   {
    "duration": 43518,
    "start_time": "2022-07-09T19:27:42.364Z"
   },
   {
    "duration": 195,
    "start_time": "2022-07-09T19:30:36.208Z"
   },
   {
    "duration": 16,
    "start_time": "2022-07-09T19:32:14.568Z"
   },
   {
    "duration": 179,
    "start_time": "2022-07-09T19:32:17.209Z"
   },
   {
    "duration": 16,
    "start_time": "2022-07-09T19:33:35.463Z"
   },
   {
    "duration": 156,
    "start_time": "2022-07-09T19:33:38.985Z"
   },
   {
    "duration": 3,
    "start_time": "2022-07-09T19:37:45.705Z"
   },
   {
    "duration": 101,
    "start_time": "2022-07-09T19:37:45.716Z"
   },
   {
    "duration": 27,
    "start_time": "2022-07-09T19:37:45.819Z"
   },
   {
    "duration": 2235,
    "start_time": "2022-07-09T19:37:45.848Z"
   },
   {
    "duration": 9,
    "start_time": "2022-07-09T19:37:48.085Z"
   },
   {
    "duration": 4,
    "start_time": "2022-07-09T19:37:48.097Z"
   },
   {
    "duration": 7,
    "start_time": "2022-07-09T19:37:48.103Z"
   },
   {
    "duration": 8,
    "start_time": "2022-07-09T19:37:48.112Z"
   },
   {
    "duration": 29,
    "start_time": "2022-07-09T19:37:48.121Z"
   },
   {
    "duration": 13,
    "start_time": "2022-07-09T19:37:48.152Z"
   },
   {
    "duration": 2,
    "start_time": "2022-07-09T19:37:48.167Z"
   },
   {
    "duration": 10,
    "start_time": "2022-07-09T19:37:48.171Z"
   },
   {
    "duration": 10,
    "start_time": "2022-07-09T19:37:48.182Z"
   },
   {
    "duration": 24,
    "start_time": "2022-07-09T19:37:48.194Z"
   },
   {
    "duration": 31,
    "start_time": "2022-07-09T19:37:48.248Z"
   },
   {
    "duration": 3,
    "start_time": "2022-07-09T19:37:48.281Z"
   },
   {
    "duration": 207,
    "start_time": "2022-07-09T19:37:48.286Z"
   },
   {
    "duration": 3,
    "start_time": "2022-07-09T19:37:48.494Z"
   },
   {
    "duration": 10,
    "start_time": "2022-07-09T19:37:48.498Z"
   },
   {
    "duration": 8,
    "start_time": "2022-07-09T19:37:48.510Z"
   },
   {
    "duration": 5,
    "start_time": "2022-07-09T19:37:48.519Z"
   },
   {
    "duration": 26,
    "start_time": "2022-07-09T19:37:48.525Z"
   },
   {
    "duration": 7,
    "start_time": "2022-07-09T19:37:48.553Z"
   },
   {
    "duration": 6,
    "start_time": "2022-07-09T19:37:48.561Z"
   },
   {
    "duration": 4,
    "start_time": "2022-07-09T19:37:48.569Z"
   },
   {
    "duration": 308,
    "start_time": "2022-07-09T19:37:48.575Z"
   },
   {
    "duration": 5,
    "start_time": "2022-07-09T19:37:48.887Z"
   },
   {
    "duration": 16,
    "start_time": "2022-07-09T19:37:48.894Z"
   },
   {
    "duration": 18,
    "start_time": "2022-07-09T19:37:48.912Z"
   },
   {
    "duration": 229,
    "start_time": "2022-07-09T19:37:48.932Z"
   },
   {
    "duration": 10,
    "start_time": "2022-07-09T19:37:49.162Z"
   },
   {
    "duration": 168,
    "start_time": "2022-07-09T19:37:49.174Z"
   },
   {
    "duration": 10,
    "start_time": "2022-07-09T19:37:49.346Z"
   },
   {
    "duration": 171,
    "start_time": "2022-07-09T19:37:49.358Z"
   },
   {
    "duration": 20,
    "start_time": "2022-07-09T19:37:49.530Z"
   },
   {
    "duration": 260,
    "start_time": "2022-07-09T19:37:49.552Z"
   },
   {
    "duration": 11,
    "start_time": "2022-07-09T19:37:49.814Z"
   },
   {
    "duration": 167,
    "start_time": "2022-07-09T19:37:49.826Z"
   },
   {
    "duration": 165,
    "start_time": "2022-07-09T19:37:49.995Z"
   },
   {
    "duration": 388,
    "start_time": "2022-07-09T19:37:50.162Z"
   },
   {
    "duration": 9,
    "start_time": "2022-07-09T19:37:50.551Z"
   },
   {
    "duration": 154,
    "start_time": "2022-07-09T19:37:50.564Z"
   },
   {
    "duration": 138,
    "start_time": "2022-07-09T19:37:50.719Z"
   },
   {
    "duration": 9,
    "start_time": "2022-07-09T19:37:50.859Z"
   },
   {
    "duration": 165,
    "start_time": "2022-07-09T19:37:50.869Z"
   },
   {
    "duration": 278,
    "start_time": "2022-07-09T19:37:51.036Z"
   },
   {
    "duration": 11,
    "start_time": "2022-07-09T19:37:51.315Z"
   },
   {
    "duration": 2954,
    "start_time": "2022-07-09T19:37:51.327Z"
   },
   {
    "duration": 186,
    "start_time": "2022-07-09T19:37:54.282Z"
   },
   {
    "duration": 176,
    "start_time": "2022-07-09T19:37:54.470Z"
   },
   {
    "duration": 202,
    "start_time": "2022-07-09T19:37:54.648Z"
   },
   {
    "duration": 2,
    "start_time": "2022-07-09T19:37:54.853Z"
   },
   {
    "duration": 27,
    "start_time": "2022-07-09T19:37:54.857Z"
   },
   {
    "duration": 212,
    "start_time": "2022-07-09T19:37:54.886Z"
   },
   {
    "duration": 14,
    "start_time": "2022-07-09T19:37:55.099Z"
   },
   {
    "duration": 156,
    "start_time": "2022-07-09T19:37:55.114Z"
   },
   {
    "duration": 2,
    "start_time": "2022-07-09T19:37:55.272Z"
   },
   {
    "duration": 17,
    "start_time": "2022-07-09T19:37:55.276Z"
   },
   {
    "duration": 185,
    "start_time": "2022-07-09T19:37:55.294Z"
   },
   {
    "duration": 3,
    "start_time": "2022-07-09T19:37:55.480Z"
   },
   {
    "duration": 23,
    "start_time": "2022-07-09T19:37:55.485Z"
   },
   {
    "duration": 181,
    "start_time": "2022-07-09T19:37:55.510Z"
   },
   {
    "duration": 3,
    "start_time": "2022-07-09T19:37:55.692Z"
   },
   {
    "duration": 17,
    "start_time": "2022-07-09T19:37:55.696Z"
   },
   {
    "duration": 150,
    "start_time": "2022-07-09T19:37:55.715Z"
   },
   {
    "duration": 2,
    "start_time": "2022-07-09T19:37:55.867Z"
   },
   {
    "duration": 17,
    "start_time": "2022-07-09T19:37:55.871Z"
   },
   {
    "duration": 24,
    "start_time": "2022-07-09T19:37:55.890Z"
   },
   {
    "duration": 32,
    "start_time": "2022-07-09T19:37:55.916Z"
   },
   {
    "duration": 27,
    "start_time": "2022-07-09T19:37:55.949Z"
   },
   {
    "duration": 132,
    "start_time": "2022-07-09T19:38:44.484Z"
   },
   {
    "duration": 3,
    "start_time": "2022-07-09T19:39:05.344Z"
   },
   {
    "duration": 101,
    "start_time": "2022-07-09T19:39:05.349Z"
   },
   {
    "duration": 14,
    "start_time": "2022-07-09T19:39:05.452Z"
   },
   {
    "duration": 2078,
    "start_time": "2022-07-09T19:39:05.468Z"
   },
   {
    "duration": 10,
    "start_time": "2022-07-09T19:39:07.548Z"
   },
   {
    "duration": 8,
    "start_time": "2022-07-09T19:39:07.560Z"
   },
   {
    "duration": 7,
    "start_time": "2022-07-09T19:39:07.569Z"
   },
   {
    "duration": 8,
    "start_time": "2022-07-09T19:39:07.577Z"
   },
   {
    "duration": 8,
    "start_time": "2022-07-09T19:39:07.587Z"
   },
   {
    "duration": 16,
    "start_time": "2022-07-09T19:39:07.597Z"
   },
   {
    "duration": 4,
    "start_time": "2022-07-09T19:39:07.615Z"
   },
   {
    "duration": 33,
    "start_time": "2022-07-09T19:39:07.621Z"
   },
   {
    "duration": 10,
    "start_time": "2022-07-09T19:39:07.655Z"
   },
   {
    "duration": 27,
    "start_time": "2022-07-09T19:39:07.667Z"
   },
   {
    "duration": 59,
    "start_time": "2022-07-09T19:39:07.696Z"
   },
   {
    "duration": 5,
    "start_time": "2022-07-09T19:39:07.757Z"
   },
   {
    "duration": 195,
    "start_time": "2022-07-09T19:39:07.763Z"
   },
   {
    "duration": 3,
    "start_time": "2022-07-09T19:39:07.960Z"
   },
   {
    "duration": 11,
    "start_time": "2022-07-09T19:39:07.964Z"
   },
   {
    "duration": 14,
    "start_time": "2022-07-09T19:39:07.976Z"
   },
   {
    "duration": 6,
    "start_time": "2022-07-09T19:39:07.992Z"
   },
   {
    "duration": 10,
    "start_time": "2022-07-09T19:39:08.000Z"
   },
   {
    "duration": 5,
    "start_time": "2022-07-09T19:39:08.011Z"
   },
   {
    "duration": 27,
    "start_time": "2022-07-09T19:39:08.018Z"
   },
   {
    "duration": 4,
    "start_time": "2022-07-09T19:39:08.047Z"
   },
   {
    "duration": 272,
    "start_time": "2022-07-09T19:39:08.053Z"
   },
   {
    "duration": 4,
    "start_time": "2022-07-09T19:39:08.327Z"
   },
   {
    "duration": 14,
    "start_time": "2022-07-09T19:39:08.332Z"
   },
   {
    "duration": 10,
    "start_time": "2022-07-09T19:39:08.350Z"
   },
   {
    "duration": 167,
    "start_time": "2022-07-09T19:39:08.361Z"
   },
   {
    "duration": 22,
    "start_time": "2022-07-09T19:39:08.530Z"
   },
   {
    "duration": 159,
    "start_time": "2022-07-09T19:39:08.554Z"
   },
   {
    "duration": 11,
    "start_time": "2022-07-09T19:39:08.714Z"
   },
   {
    "duration": 218,
    "start_time": "2022-07-09T19:39:08.727Z"
   },
   {
    "duration": 12,
    "start_time": "2022-07-09T19:39:08.948Z"
   },
   {
    "duration": 306,
    "start_time": "2022-07-09T19:39:08.964Z"
   },
   {
    "duration": 10,
    "start_time": "2022-07-09T19:39:09.272Z"
   },
   {
    "duration": 172,
    "start_time": "2022-07-09T19:39:09.283Z"
   },
   {
    "duration": 167,
    "start_time": "2022-07-09T19:39:09.457Z"
   },
   {
    "duration": 393,
    "start_time": "2022-07-09T19:39:09.626Z"
   },
   {
    "duration": 13,
    "start_time": "2022-07-09T19:39:10.021Z"
   },
   {
    "duration": 163,
    "start_time": "2022-07-09T19:39:10.046Z"
   },
   {
    "duration": 149,
    "start_time": "2022-07-09T19:39:10.210Z"
   },
   {
    "duration": 10,
    "start_time": "2022-07-09T19:39:10.360Z"
   },
   {
    "duration": 157,
    "start_time": "2022-07-09T19:39:10.371Z"
   },
   {
    "duration": 271,
    "start_time": "2022-07-09T19:39:10.530Z"
   },
   {
    "duration": 9,
    "start_time": "2022-07-09T19:39:10.803Z"
   },
   {
    "duration": 243,
    "start_time": "2022-07-09T19:39:10.814Z"
   },
   {
    "duration": 189,
    "start_time": "2022-07-09T19:39:11.059Z"
   },
   {
    "duration": 166,
    "start_time": "2022-07-09T19:39:11.249Z"
   },
   {
    "duration": 204,
    "start_time": "2022-07-09T19:39:11.417Z"
   },
   {
    "duration": 2,
    "start_time": "2022-07-09T19:39:11.623Z"
   },
   {
    "duration": 20,
    "start_time": "2022-07-09T19:39:11.627Z"
   },
   {
    "duration": 202,
    "start_time": "2022-07-09T19:39:11.649Z"
   },
   {
    "duration": 15,
    "start_time": "2022-07-09T19:39:11.853Z"
   },
   {
    "duration": 154,
    "start_time": "2022-07-09T19:39:11.870Z"
   },
   {
    "duration": 3,
    "start_time": "2022-07-09T19:39:12.025Z"
   },
   {
    "duration": 28,
    "start_time": "2022-07-09T19:39:12.030Z"
   },
   {
    "duration": 192,
    "start_time": "2022-07-09T19:39:12.060Z"
   },
   {
    "duration": 3,
    "start_time": "2022-07-09T19:39:12.253Z"
   },
   {
    "duration": 22,
    "start_time": "2022-07-09T19:39:12.258Z"
   },
   {
    "duration": 183,
    "start_time": "2022-07-09T19:39:12.282Z"
   },
   {
    "duration": 3,
    "start_time": "2022-07-09T19:39:12.467Z"
   },
   {
    "duration": 39,
    "start_time": "2022-07-09T19:39:12.471Z"
   },
   {
    "duration": 125,
    "start_time": "2022-07-09T19:39:12.512Z"
   },
   {
    "duration": 7,
    "start_time": "2022-07-09T19:39:12.639Z"
   },
   {
    "duration": 15,
    "start_time": "2022-07-09T19:39:12.647Z"
   },
   {
    "duration": 24,
    "start_time": "2022-07-09T19:39:12.663Z"
   },
   {
    "duration": 9,
    "start_time": "2022-07-09T19:39:12.689Z"
   },
   {
    "duration": 58,
    "start_time": "2022-07-09T19:39:12.700Z"
   },
   {
    "duration": 42,
    "start_time": "2022-07-09T19:39:50.604Z"
   },
   {
    "duration": 38,
    "start_time": "2022-07-09T19:40:17.303Z"
   },
   {
    "duration": 4,
    "start_time": "2022-07-09T19:42:00.925Z"
   },
   {
    "duration": 127,
    "start_time": "2022-07-09T19:42:00.931Z"
   },
   {
    "duration": 15,
    "start_time": "2022-07-09T19:42:01.060Z"
   },
   {
    "duration": 2182,
    "start_time": "2022-07-09T19:42:01.077Z"
   },
   {
    "duration": 10,
    "start_time": "2022-07-09T19:42:03.261Z"
   },
   {
    "duration": 6,
    "start_time": "2022-07-09T19:42:03.273Z"
   },
   {
    "duration": 8,
    "start_time": "2022-07-09T19:42:03.281Z"
   },
   {
    "duration": 4,
    "start_time": "2022-07-09T19:42:03.290Z"
   },
   {
    "duration": 8,
    "start_time": "2022-07-09T19:42:03.296Z"
   },
   {
    "duration": 9,
    "start_time": "2022-07-09T19:42:03.306Z"
   },
   {
    "duration": 29,
    "start_time": "2022-07-09T19:42:03.318Z"
   },
   {
    "duration": 10,
    "start_time": "2022-07-09T19:42:03.349Z"
   },
   {
    "duration": 12,
    "start_time": "2022-07-09T19:42:03.360Z"
   },
   {
    "duration": 27,
    "start_time": "2022-07-09T19:42:03.373Z"
   },
   {
    "duration": 58,
    "start_time": "2022-07-09T19:42:03.402Z"
   },
   {
    "duration": 3,
    "start_time": "2022-07-09T19:42:03.461Z"
   },
   {
    "duration": 226,
    "start_time": "2022-07-09T19:42:03.466Z"
   },
   {
    "duration": 3,
    "start_time": "2022-07-09T19:42:03.693Z"
   },
   {
    "duration": 9,
    "start_time": "2022-07-09T19:42:03.698Z"
   },
   {
    "duration": 13,
    "start_time": "2022-07-09T19:42:03.708Z"
   },
   {
    "duration": 0,
    "start_time": "2022-07-09T19:42:03.724Z"
   },
   {
    "duration": 0,
    "start_time": "2022-07-09T19:42:03.725Z"
   },
   {
    "duration": 0,
    "start_time": "2022-07-09T19:42:03.726Z"
   },
   {
    "duration": 0,
    "start_time": "2022-07-09T19:42:03.727Z"
   },
   {
    "duration": 0,
    "start_time": "2022-07-09T19:42:03.728Z"
   },
   {
    "duration": 0,
    "start_time": "2022-07-09T19:42:03.729Z"
   },
   {
    "duration": 0,
    "start_time": "2022-07-09T19:42:03.730Z"
   },
   {
    "duration": 0,
    "start_time": "2022-07-09T19:42:03.730Z"
   },
   {
    "duration": 0,
    "start_time": "2022-07-09T19:42:03.746Z"
   },
   {
    "duration": 0,
    "start_time": "2022-07-09T19:42:03.747Z"
   },
   {
    "duration": 0,
    "start_time": "2022-07-09T19:42:03.749Z"
   },
   {
    "duration": 0,
    "start_time": "2022-07-09T19:42:03.750Z"
   },
   {
    "duration": 0,
    "start_time": "2022-07-09T19:42:03.751Z"
   },
   {
    "duration": 0,
    "start_time": "2022-07-09T19:42:03.753Z"
   },
   {
    "duration": 0,
    "start_time": "2022-07-09T19:42:03.754Z"
   },
   {
    "duration": 0,
    "start_time": "2022-07-09T19:42:03.756Z"
   },
   {
    "duration": 0,
    "start_time": "2022-07-09T19:42:03.757Z"
   },
   {
    "duration": 0,
    "start_time": "2022-07-09T19:42:03.758Z"
   },
   {
    "duration": 0,
    "start_time": "2022-07-09T19:42:03.759Z"
   },
   {
    "duration": 0,
    "start_time": "2022-07-09T19:42:03.760Z"
   },
   {
    "duration": 0,
    "start_time": "2022-07-09T19:42:03.761Z"
   },
   {
    "duration": 0,
    "start_time": "2022-07-09T19:42:03.762Z"
   },
   {
    "duration": 0,
    "start_time": "2022-07-09T19:42:03.763Z"
   },
   {
    "duration": 0,
    "start_time": "2022-07-09T19:42:03.763Z"
   },
   {
    "duration": 0,
    "start_time": "2022-07-09T19:42:03.764Z"
   },
   {
    "duration": 0,
    "start_time": "2022-07-09T19:42:03.766Z"
   },
   {
    "duration": 0,
    "start_time": "2022-07-09T19:42:03.767Z"
   },
   {
    "duration": 0,
    "start_time": "2022-07-09T19:42:03.769Z"
   },
   {
    "duration": 0,
    "start_time": "2022-07-09T19:42:03.770Z"
   },
   {
    "duration": 0,
    "start_time": "2022-07-09T19:42:03.770Z"
   },
   {
    "duration": 0,
    "start_time": "2022-07-09T19:42:03.771Z"
   },
   {
    "duration": 0,
    "start_time": "2022-07-09T19:42:03.772Z"
   },
   {
    "duration": 0,
    "start_time": "2022-07-09T19:42:03.773Z"
   },
   {
    "duration": 0,
    "start_time": "2022-07-09T19:42:03.776Z"
   },
   {
    "duration": 0,
    "start_time": "2022-07-09T19:42:03.777Z"
   },
   {
    "duration": 0,
    "start_time": "2022-07-09T19:42:03.778Z"
   },
   {
    "duration": 0,
    "start_time": "2022-07-09T19:42:03.779Z"
   },
   {
    "duration": 0,
    "start_time": "2022-07-09T19:42:03.780Z"
   },
   {
    "duration": 0,
    "start_time": "2022-07-09T19:42:03.781Z"
   },
   {
    "duration": 0,
    "start_time": "2022-07-09T19:42:03.782Z"
   },
   {
    "duration": 0,
    "start_time": "2022-07-09T19:42:03.783Z"
   },
   {
    "duration": 0,
    "start_time": "2022-07-09T19:42:03.784Z"
   },
   {
    "duration": 0,
    "start_time": "2022-07-09T19:42:03.846Z"
   },
   {
    "duration": 0,
    "start_time": "2022-07-09T19:42:03.847Z"
   },
   {
    "duration": 0,
    "start_time": "2022-07-09T19:42:03.848Z"
   },
   {
    "duration": 0,
    "start_time": "2022-07-09T19:42:03.849Z"
   },
   {
    "duration": 0,
    "start_time": "2022-07-09T19:42:03.849Z"
   },
   {
    "duration": 0,
    "start_time": "2022-07-09T19:42:03.851Z"
   },
   {
    "duration": 0,
    "start_time": "2022-07-09T19:42:03.852Z"
   },
   {
    "duration": 0,
    "start_time": "2022-07-09T19:42:03.852Z"
   },
   {
    "duration": 4,
    "start_time": "2022-07-09T19:42:39.048Z"
   },
   {
    "duration": 129,
    "start_time": "2022-07-09T19:42:39.056Z"
   },
   {
    "duration": 15,
    "start_time": "2022-07-09T19:42:39.186Z"
   },
   {
    "duration": 1996,
    "start_time": "2022-07-09T19:42:39.203Z"
   },
   {
    "duration": 10,
    "start_time": "2022-07-09T19:42:41.201Z"
   },
   {
    "duration": 10,
    "start_time": "2022-07-09T19:42:41.213Z"
   },
   {
    "duration": 27,
    "start_time": "2022-07-09T19:42:41.224Z"
   },
   {
    "duration": 8,
    "start_time": "2022-07-09T19:42:41.253Z"
   },
   {
    "duration": 16,
    "start_time": "2022-07-09T19:42:41.263Z"
   },
   {
    "duration": 17,
    "start_time": "2022-07-09T19:42:41.280Z"
   },
   {
    "duration": 2,
    "start_time": "2022-07-09T19:42:41.299Z"
   },
   {
    "duration": 15,
    "start_time": "2022-07-09T19:42:41.303Z"
   },
   {
    "duration": 17,
    "start_time": "2022-07-09T19:42:41.321Z"
   },
   {
    "duration": 27,
    "start_time": "2022-07-09T19:42:41.340Z"
   },
   {
    "duration": 32,
    "start_time": "2022-07-09T19:42:41.369Z"
   },
   {
    "duration": 3,
    "start_time": "2022-07-09T19:42:41.403Z"
   },
   {
    "duration": 223,
    "start_time": "2022-07-09T19:42:41.408Z"
   },
   {
    "duration": 3,
    "start_time": "2022-07-09T19:42:41.633Z"
   },
   {
    "duration": 23,
    "start_time": "2022-07-09T19:42:41.638Z"
   },
   {
    "duration": 19,
    "start_time": "2022-07-09T19:42:41.663Z"
   },
   {
    "duration": 9,
    "start_time": "2022-07-09T19:42:41.684Z"
   },
   {
    "duration": 17,
    "start_time": "2022-07-09T19:42:41.695Z"
   },
   {
    "duration": 18,
    "start_time": "2022-07-09T19:42:41.714Z"
   },
   {
    "duration": 11,
    "start_time": "2022-07-09T19:42:41.733Z"
   },
   {
    "duration": 6,
    "start_time": "2022-07-09T19:42:41.746Z"
   },
   {
    "duration": 258,
    "start_time": "2022-07-09T19:42:41.753Z"
   },
   {
    "duration": 4,
    "start_time": "2022-07-09T19:42:42.014Z"
   },
   {
    "duration": 15,
    "start_time": "2022-07-09T19:42:42.020Z"
   },
   {
    "duration": 16,
    "start_time": "2022-07-09T19:42:42.036Z"
   },
   {
    "duration": 182,
    "start_time": "2022-07-09T19:42:42.054Z"
   },
   {
    "duration": 16,
    "start_time": "2022-07-09T19:42:42.237Z"
   },
   {
    "duration": 153,
    "start_time": "2022-07-09T19:42:42.255Z"
   },
   {
    "duration": 10,
    "start_time": "2022-07-09T19:42:42.410Z"
   },
   {
    "duration": 173,
    "start_time": "2022-07-09T19:42:42.421Z"
   },
   {
    "duration": 9,
    "start_time": "2022-07-09T19:42:42.596Z"
   },
   {
    "duration": 264,
    "start_time": "2022-07-09T19:42:42.606Z"
   },
   {
    "duration": 8,
    "start_time": "2022-07-09T19:42:42.875Z"
   },
   {
    "duration": 169,
    "start_time": "2022-07-09T19:42:42.885Z"
   },
   {
    "duration": 169,
    "start_time": "2022-07-09T19:42:43.056Z"
   },
   {
    "duration": 409,
    "start_time": "2022-07-09T19:42:43.227Z"
   },
   {
    "duration": 17,
    "start_time": "2022-07-09T19:42:43.637Z"
   },
   {
    "duration": 153,
    "start_time": "2022-07-09T19:42:43.656Z"
   },
   {
    "duration": 139,
    "start_time": "2022-07-09T19:42:43.810Z"
   },
   {
    "duration": 11,
    "start_time": "2022-07-09T19:42:43.951Z"
   },
   {
    "duration": 155,
    "start_time": "2022-07-09T19:42:43.964Z"
   },
   {
    "duration": 273,
    "start_time": "2022-07-09T19:42:44.121Z"
   },
   {
    "duration": 9,
    "start_time": "2022-07-09T19:42:44.397Z"
   },
   {
    "duration": 241,
    "start_time": "2022-07-09T19:42:44.408Z"
   },
   {
    "duration": 196,
    "start_time": "2022-07-09T19:42:44.651Z"
   },
   {
    "duration": 188,
    "start_time": "2022-07-09T19:42:44.850Z"
   },
   {
    "duration": 214,
    "start_time": "2022-07-09T19:42:45.039Z"
   },
   {
    "duration": 2,
    "start_time": "2022-07-09T19:42:45.255Z"
   },
   {
    "duration": 10,
    "start_time": "2022-07-09T19:42:45.258Z"
   },
   {
    "duration": 217,
    "start_time": "2022-07-09T19:42:45.269Z"
   },
   {
    "duration": 16,
    "start_time": "2022-07-09T19:42:45.487Z"
   },
   {
    "duration": 164,
    "start_time": "2022-07-09T19:42:45.505Z"
   },
   {
    "duration": 2,
    "start_time": "2022-07-09T19:42:45.671Z"
   },
   {
    "duration": 23,
    "start_time": "2022-07-09T19:42:45.675Z"
   },
   {
    "duration": 157,
    "start_time": "2022-07-09T19:42:45.699Z"
   },
   {
    "duration": 2,
    "start_time": "2022-07-09T19:42:45.858Z"
   },
   {
    "duration": 23,
    "start_time": "2022-07-09T19:42:45.861Z"
   },
   {
    "duration": 196,
    "start_time": "2022-07-09T19:42:45.885Z"
   },
   {
    "duration": 2,
    "start_time": "2022-07-09T19:42:46.083Z"
   },
   {
    "duration": 22,
    "start_time": "2022-07-09T19:42:46.087Z"
   },
   {
    "duration": 153,
    "start_time": "2022-07-09T19:42:46.111Z"
   },
   {
    "duration": 2,
    "start_time": "2022-07-09T19:42:46.266Z"
   },
   {
    "duration": 26,
    "start_time": "2022-07-09T19:42:46.269Z"
   },
   {
    "duration": 29,
    "start_time": "2022-07-09T19:42:46.297Z"
   },
   {
    "duration": 25,
    "start_time": "2022-07-09T19:42:46.328Z"
   },
   {
    "duration": 35,
    "start_time": "2022-07-09T19:42:46.354Z"
   },
   {
    "duration": 42,
    "start_time": "2022-07-09T19:43:16.124Z"
   },
   {
    "duration": 42,
    "start_time": "2022-07-09T19:43:36.009Z"
   },
   {
    "duration": 42,
    "start_time": "2022-07-09T19:44:30.484Z"
   },
   {
    "duration": 3,
    "start_time": "2022-07-09T19:44:49.645Z"
   },
   {
    "duration": 112,
    "start_time": "2022-07-09T19:44:49.660Z"
   },
   {
    "duration": 16,
    "start_time": "2022-07-09T19:44:49.774Z"
   },
   {
    "duration": 2048,
    "start_time": "2022-07-09T19:44:49.792Z"
   },
   {
    "duration": 12,
    "start_time": "2022-07-09T19:44:51.842Z"
   },
   {
    "duration": 20,
    "start_time": "2022-07-09T19:44:51.856Z"
   },
   {
    "duration": 10,
    "start_time": "2022-07-09T19:44:51.877Z"
   },
   {
    "duration": 14,
    "start_time": "2022-07-09T19:44:51.888Z"
   },
   {
    "duration": 13,
    "start_time": "2022-07-09T19:44:51.903Z"
   },
   {
    "duration": 16,
    "start_time": "2022-07-09T19:44:51.917Z"
   },
   {
    "duration": 6,
    "start_time": "2022-07-09T19:44:51.934Z"
   },
   {
    "duration": 39,
    "start_time": "2022-07-09T19:44:51.941Z"
   },
   {
    "duration": 19,
    "start_time": "2022-07-09T19:44:51.982Z"
   },
   {
    "duration": 26,
    "start_time": "2022-07-09T19:44:52.003Z"
   },
   {
    "duration": 38,
    "start_time": "2022-07-09T19:44:52.032Z"
   },
   {
    "duration": 4,
    "start_time": "2022-07-09T19:44:52.072Z"
   },
   {
    "duration": 234,
    "start_time": "2022-07-09T19:44:52.078Z"
   },
   {
    "duration": 3,
    "start_time": "2022-07-09T19:44:52.314Z"
   },
   {
    "duration": 32,
    "start_time": "2022-07-09T19:44:52.319Z"
   },
   {
    "duration": 15,
    "start_time": "2022-07-09T19:44:52.353Z"
   },
   {
    "duration": 21,
    "start_time": "2022-07-09T19:44:52.370Z"
   },
   {
    "duration": 21,
    "start_time": "2022-07-09T19:44:52.392Z"
   },
   {
    "duration": 12,
    "start_time": "2022-07-09T19:44:52.414Z"
   },
   {
    "duration": 34,
    "start_time": "2022-07-09T19:44:52.428Z"
   },
   {
    "duration": 22,
    "start_time": "2022-07-09T19:44:52.464Z"
   },
   {
    "duration": 305,
    "start_time": "2022-07-09T19:44:52.488Z"
   },
   {
    "duration": 4,
    "start_time": "2022-07-09T19:44:52.795Z"
   },
   {
    "duration": 15,
    "start_time": "2022-07-09T19:44:52.800Z"
   },
   {
    "duration": 32,
    "start_time": "2022-07-09T19:44:52.816Z"
   },
   {
    "duration": 167,
    "start_time": "2022-07-09T19:44:52.849Z"
   },
   {
    "duration": 10,
    "start_time": "2022-07-09T19:44:53.018Z"
   },
   {
    "duration": 163,
    "start_time": "2022-07-09T19:44:53.030Z"
   },
   {
    "duration": 10,
    "start_time": "2022-07-09T19:44:53.194Z"
   },
   {
    "duration": 168,
    "start_time": "2022-07-09T19:44:53.205Z"
   },
   {
    "duration": 10,
    "start_time": "2022-07-09T19:44:53.375Z"
   },
   {
    "duration": 272,
    "start_time": "2022-07-09T19:44:53.386Z"
   },
   {
    "duration": 9,
    "start_time": "2022-07-09T19:44:53.659Z"
   },
   {
    "duration": 163,
    "start_time": "2022-07-09T19:44:53.669Z"
   },
   {
    "duration": 170,
    "start_time": "2022-07-09T19:44:53.833Z"
   },
   {
    "duration": 397,
    "start_time": "2022-07-09T19:44:54.005Z"
   },
   {
    "duration": 9,
    "start_time": "2022-07-09T19:44:54.404Z"
   },
   {
    "duration": 150,
    "start_time": "2022-07-09T19:44:54.418Z"
   },
   {
    "duration": 123,
    "start_time": "2022-07-09T19:44:54.569Z"
   },
   {
    "duration": 8,
    "start_time": "2022-07-09T19:44:54.694Z"
   },
   {
    "duration": 153,
    "start_time": "2022-07-09T19:44:54.704Z"
   },
   {
    "duration": 267,
    "start_time": "2022-07-09T19:44:54.859Z"
   },
   {
    "duration": 17,
    "start_time": "2022-07-09T19:44:55.128Z"
   },
   {
    "duration": 229,
    "start_time": "2022-07-09T19:44:55.147Z"
   },
   {
    "duration": 202,
    "start_time": "2022-07-09T19:44:55.378Z"
   },
   {
    "duration": 177,
    "start_time": "2022-07-09T19:44:55.582Z"
   },
   {
    "duration": 207,
    "start_time": "2022-07-09T19:44:55.760Z"
   },
   {
    "duration": 3,
    "start_time": "2022-07-09T19:44:55.968Z"
   },
   {
    "duration": 6,
    "start_time": "2022-07-09T19:44:55.972Z"
   },
   {
    "duration": 203,
    "start_time": "2022-07-09T19:44:55.979Z"
   },
   {
    "duration": 14,
    "start_time": "2022-07-09T19:44:56.184Z"
   },
   {
    "duration": 145,
    "start_time": "2022-07-09T19:44:56.200Z"
   },
   {
    "duration": 2,
    "start_time": "2022-07-09T19:44:56.347Z"
   },
   {
    "duration": 14,
    "start_time": "2022-07-09T19:44:56.351Z"
   },
   {
    "duration": 159,
    "start_time": "2022-07-09T19:44:56.367Z"
   },
   {
    "duration": 3,
    "start_time": "2022-07-09T19:44:56.527Z"
   },
   {
    "duration": 25,
    "start_time": "2022-07-09T19:44:56.531Z"
   },
   {
    "duration": 187,
    "start_time": "2022-07-09T19:44:56.557Z"
   },
   {
    "duration": 2,
    "start_time": "2022-07-09T19:44:56.746Z"
   },
   {
    "duration": 17,
    "start_time": "2022-07-09T19:44:56.749Z"
   },
   {
    "duration": 136,
    "start_time": "2022-07-09T19:44:56.767Z"
   },
   {
    "duration": 2,
    "start_time": "2022-07-09T19:44:56.905Z"
   },
   {
    "duration": 16,
    "start_time": "2022-07-09T19:44:56.909Z"
   },
   {
    "duration": 41,
    "start_time": "2022-07-09T19:44:56.927Z"
   },
   {
    "duration": 8,
    "start_time": "2022-07-09T19:44:56.970Z"
   },
   {
    "duration": 27,
    "start_time": "2022-07-09T19:44:56.979Z"
   },
   {
    "duration": 2,
    "start_time": "2022-07-09T19:45:43.684Z"
   },
   {
    "duration": 116,
    "start_time": "2022-07-09T19:45:43.695Z"
   },
   {
    "duration": 14,
    "start_time": "2022-07-09T19:45:43.813Z"
   },
   {
    "duration": 2060,
    "start_time": "2022-07-09T19:45:43.829Z"
   },
   {
    "duration": 9,
    "start_time": "2022-07-09T19:45:45.892Z"
   },
   {
    "duration": 8,
    "start_time": "2022-07-09T19:45:45.903Z"
   },
   {
    "duration": 13,
    "start_time": "2022-07-09T19:45:45.913Z"
   },
   {
    "duration": 7,
    "start_time": "2022-07-09T19:45:45.927Z"
   },
   {
    "duration": 6,
    "start_time": "2022-07-09T19:45:45.945Z"
   },
   {
    "duration": 11,
    "start_time": "2022-07-09T19:45:45.952Z"
   },
   {
    "duration": 2,
    "start_time": "2022-07-09T19:45:45.966Z"
   },
   {
    "duration": 10,
    "start_time": "2022-07-09T19:45:45.970Z"
   },
   {
    "duration": 13,
    "start_time": "2022-07-09T19:45:45.981Z"
   },
   {
    "duration": 27,
    "start_time": "2022-07-09T19:45:45.995Z"
   },
   {
    "duration": 50,
    "start_time": "2022-07-09T19:45:46.023Z"
   },
   {
    "duration": 3,
    "start_time": "2022-07-09T19:45:46.075Z"
   },
   {
    "duration": 238,
    "start_time": "2022-07-09T19:45:46.079Z"
   },
   {
    "duration": 2,
    "start_time": "2022-07-09T19:45:46.319Z"
   },
   {
    "duration": 10,
    "start_time": "2022-07-09T19:45:46.323Z"
   },
   {
    "duration": 11,
    "start_time": "2022-07-09T19:45:46.335Z"
   },
   {
    "duration": 1,
    "start_time": "2022-07-09T19:45:46.348Z"
   },
   {
    "duration": 0,
    "start_time": "2022-07-09T19:45:46.349Z"
   },
   {
    "duration": 0,
    "start_time": "2022-07-09T19:45:46.350Z"
   },
   {
    "duration": 0,
    "start_time": "2022-07-09T19:45:46.351Z"
   },
   {
    "duration": 0,
    "start_time": "2022-07-09T19:45:46.352Z"
   },
   {
    "duration": 0,
    "start_time": "2022-07-09T19:45:46.353Z"
   },
   {
    "duration": 0,
    "start_time": "2022-07-09T19:45:46.354Z"
   },
   {
    "duration": 0,
    "start_time": "2022-07-09T19:45:46.354Z"
   },
   {
    "duration": 0,
    "start_time": "2022-07-09T19:45:46.355Z"
   },
   {
    "duration": 0,
    "start_time": "2022-07-09T19:45:46.356Z"
   },
   {
    "duration": 0,
    "start_time": "2022-07-09T19:45:46.357Z"
   },
   {
    "duration": 0,
    "start_time": "2022-07-09T19:45:46.358Z"
   },
   {
    "duration": 0,
    "start_time": "2022-07-09T19:45:46.359Z"
   },
   {
    "duration": 0,
    "start_time": "2022-07-09T19:45:46.359Z"
   },
   {
    "duration": 0,
    "start_time": "2022-07-09T19:45:46.360Z"
   },
   {
    "duration": 0,
    "start_time": "2022-07-09T19:45:46.361Z"
   },
   {
    "duration": 0,
    "start_time": "2022-07-09T19:45:46.362Z"
   },
   {
    "duration": 0,
    "start_time": "2022-07-09T19:45:46.363Z"
   },
   {
    "duration": 0,
    "start_time": "2022-07-09T19:45:46.364Z"
   },
   {
    "duration": 0,
    "start_time": "2022-07-09T19:45:46.365Z"
   },
   {
    "duration": 0,
    "start_time": "2022-07-09T19:45:46.365Z"
   },
   {
    "duration": 0,
    "start_time": "2022-07-09T19:45:46.366Z"
   },
   {
    "duration": 0,
    "start_time": "2022-07-09T19:45:46.367Z"
   },
   {
    "duration": 0,
    "start_time": "2022-07-09T19:45:46.368Z"
   },
   {
    "duration": 0,
    "start_time": "2022-07-09T19:45:46.369Z"
   },
   {
    "duration": 0,
    "start_time": "2022-07-09T19:45:46.369Z"
   },
   {
    "duration": 0,
    "start_time": "2022-07-09T19:45:46.370Z"
   },
   {
    "duration": 0,
    "start_time": "2022-07-09T19:45:46.371Z"
   },
   {
    "duration": 0,
    "start_time": "2022-07-09T19:45:46.373Z"
   },
   {
    "duration": 0,
    "start_time": "2022-07-09T19:45:46.373Z"
   },
   {
    "duration": 0,
    "start_time": "2022-07-09T19:45:46.375Z"
   },
   {
    "duration": 0,
    "start_time": "2022-07-09T19:45:46.376Z"
   },
   {
    "duration": 0,
    "start_time": "2022-07-09T19:45:46.378Z"
   },
   {
    "duration": 0,
    "start_time": "2022-07-09T19:45:46.379Z"
   },
   {
    "duration": 0,
    "start_time": "2022-07-09T19:45:46.380Z"
   },
   {
    "duration": 0,
    "start_time": "2022-07-09T19:45:46.381Z"
   },
   {
    "duration": 0,
    "start_time": "2022-07-09T19:45:46.382Z"
   },
   {
    "duration": 0,
    "start_time": "2022-07-09T19:45:46.383Z"
   },
   {
    "duration": 0,
    "start_time": "2022-07-09T19:45:46.384Z"
   },
   {
    "duration": 0,
    "start_time": "2022-07-09T19:45:46.386Z"
   },
   {
    "duration": 0,
    "start_time": "2022-07-09T19:45:46.387Z"
   },
   {
    "duration": 0,
    "start_time": "2022-07-09T19:45:46.388Z"
   },
   {
    "duration": 0,
    "start_time": "2022-07-09T19:45:46.389Z"
   },
   {
    "duration": 0,
    "start_time": "2022-07-09T19:45:46.390Z"
   },
   {
    "duration": 0,
    "start_time": "2022-07-09T19:45:46.391Z"
   },
   {
    "duration": 0,
    "start_time": "2022-07-09T19:45:46.392Z"
   },
   {
    "duration": 0,
    "start_time": "2022-07-09T19:45:46.393Z"
   },
   {
    "duration": 0,
    "start_time": "2022-07-09T19:45:46.393Z"
   },
   {
    "duration": 0,
    "start_time": "2022-07-09T19:45:46.395Z"
   },
   {
    "duration": 0,
    "start_time": "2022-07-09T19:45:46.395Z"
   },
   {
    "duration": 4,
    "start_time": "2022-07-09T19:47:44.665Z"
   },
   {
    "duration": 122,
    "start_time": "2022-07-09T19:47:44.672Z"
   },
   {
    "duration": 14,
    "start_time": "2022-07-09T19:47:44.795Z"
   },
   {
    "duration": 2026,
    "start_time": "2022-07-09T19:47:44.811Z"
   },
   {
    "duration": 11,
    "start_time": "2022-07-09T19:47:46.840Z"
   },
   {
    "duration": 4,
    "start_time": "2022-07-09T19:47:46.853Z"
   },
   {
    "duration": 6,
    "start_time": "2022-07-09T19:47:46.859Z"
   },
   {
    "duration": 6,
    "start_time": "2022-07-09T19:47:46.867Z"
   },
   {
    "duration": 7,
    "start_time": "2022-07-09T19:47:46.874Z"
   },
   {
    "duration": 11,
    "start_time": "2022-07-09T19:47:46.883Z"
   },
   {
    "duration": 2,
    "start_time": "2022-07-09T19:47:46.896Z"
   },
   {
    "duration": 47,
    "start_time": "2022-07-09T19:47:46.900Z"
   },
   {
    "duration": 7,
    "start_time": "2022-07-09T19:47:46.951Z"
   },
   {
    "duration": 28,
    "start_time": "2022-07-09T19:47:46.959Z"
   },
   {
    "duration": 64,
    "start_time": "2022-07-09T19:47:46.989Z"
   },
   {
    "duration": 3,
    "start_time": "2022-07-09T19:47:47.061Z"
   },
   {
    "duration": 215,
    "start_time": "2022-07-09T19:47:47.065Z"
   },
   {
    "duration": 2,
    "start_time": "2022-07-09T19:47:47.282Z"
   },
   {
    "duration": 72,
    "start_time": "2022-07-09T19:47:47.285Z"
   },
   {
    "duration": 0,
    "start_time": "2022-07-09T19:47:47.359Z"
   },
   {
    "duration": 0,
    "start_time": "2022-07-09T19:47:47.360Z"
   },
   {
    "duration": 0,
    "start_time": "2022-07-09T19:47:47.361Z"
   },
   {
    "duration": 0,
    "start_time": "2022-07-09T19:47:47.362Z"
   },
   {
    "duration": 0,
    "start_time": "2022-07-09T19:47:47.363Z"
   },
   {
    "duration": 0,
    "start_time": "2022-07-09T19:47:47.364Z"
   },
   {
    "duration": 0,
    "start_time": "2022-07-09T19:47:47.365Z"
   },
   {
    "duration": 0,
    "start_time": "2022-07-09T19:47:47.366Z"
   },
   {
    "duration": 0,
    "start_time": "2022-07-09T19:47:47.367Z"
   },
   {
    "duration": 0,
    "start_time": "2022-07-09T19:47:47.368Z"
   },
   {
    "duration": 0,
    "start_time": "2022-07-09T19:47:47.368Z"
   },
   {
    "duration": 0,
    "start_time": "2022-07-09T19:47:47.369Z"
   },
   {
    "duration": 0,
    "start_time": "2022-07-09T19:47:47.370Z"
   },
   {
    "duration": 0,
    "start_time": "2022-07-09T19:47:47.371Z"
   },
   {
    "duration": 0,
    "start_time": "2022-07-09T19:47:47.372Z"
   },
   {
    "duration": 0,
    "start_time": "2022-07-09T19:47:47.373Z"
   },
   {
    "duration": 0,
    "start_time": "2022-07-09T19:47:47.373Z"
   },
   {
    "duration": 0,
    "start_time": "2022-07-09T19:47:47.374Z"
   },
   {
    "duration": 0,
    "start_time": "2022-07-09T19:47:47.375Z"
   },
   {
    "duration": 0,
    "start_time": "2022-07-09T19:47:47.376Z"
   },
   {
    "duration": 0,
    "start_time": "2022-07-09T19:47:47.377Z"
   },
   {
    "duration": 0,
    "start_time": "2022-07-09T19:47:47.378Z"
   },
   {
    "duration": 0,
    "start_time": "2022-07-09T19:47:47.379Z"
   },
   {
    "duration": 0,
    "start_time": "2022-07-09T19:47:47.379Z"
   },
   {
    "duration": 0,
    "start_time": "2022-07-09T19:47:47.380Z"
   },
   {
    "duration": 0,
    "start_time": "2022-07-09T19:47:47.381Z"
   },
   {
    "duration": 0,
    "start_time": "2022-07-09T19:47:47.382Z"
   },
   {
    "duration": 0,
    "start_time": "2022-07-09T19:47:47.383Z"
   },
   {
    "duration": 0,
    "start_time": "2022-07-09T19:47:47.383Z"
   },
   {
    "duration": 0,
    "start_time": "2022-07-09T19:47:47.384Z"
   },
   {
    "duration": 0,
    "start_time": "2022-07-09T19:47:47.385Z"
   },
   {
    "duration": 0,
    "start_time": "2022-07-09T19:47:47.386Z"
   },
   {
    "duration": 0,
    "start_time": "2022-07-09T19:47:47.445Z"
   },
   {
    "duration": 0,
    "start_time": "2022-07-09T19:47:47.447Z"
   },
   {
    "duration": 0,
    "start_time": "2022-07-09T19:47:47.448Z"
   },
   {
    "duration": 0,
    "start_time": "2022-07-09T19:47:47.449Z"
   },
   {
    "duration": 0,
    "start_time": "2022-07-09T19:47:47.450Z"
   },
   {
    "duration": 0,
    "start_time": "2022-07-09T19:47:47.451Z"
   },
   {
    "duration": 0,
    "start_time": "2022-07-09T19:47:47.452Z"
   },
   {
    "duration": 0,
    "start_time": "2022-07-09T19:47:47.453Z"
   },
   {
    "duration": 0,
    "start_time": "2022-07-09T19:47:47.454Z"
   },
   {
    "duration": 0,
    "start_time": "2022-07-09T19:47:47.454Z"
   },
   {
    "duration": 0,
    "start_time": "2022-07-09T19:47:47.455Z"
   },
   {
    "duration": 0,
    "start_time": "2022-07-09T19:47:47.456Z"
   },
   {
    "duration": 0,
    "start_time": "2022-07-09T19:47:47.457Z"
   },
   {
    "duration": 0,
    "start_time": "2022-07-09T19:47:47.458Z"
   },
   {
    "duration": 0,
    "start_time": "2022-07-09T19:47:47.459Z"
   },
   {
    "duration": 0,
    "start_time": "2022-07-09T19:47:47.460Z"
   },
   {
    "duration": 0,
    "start_time": "2022-07-09T19:47:47.461Z"
   },
   {
    "duration": 0,
    "start_time": "2022-07-09T19:47:47.462Z"
   },
   {
    "duration": 0,
    "start_time": "2022-07-09T19:47:47.463Z"
   },
   {
    "duration": 12,
    "start_time": "2022-07-09T19:52:00.724Z"
   },
   {
    "duration": 11,
    "start_time": "2022-07-09T19:52:11.665Z"
   },
   {
    "duration": 12,
    "start_time": "2022-07-09T19:52:22.024Z"
   },
   {
    "duration": 2,
    "start_time": "2022-07-09T19:58:06.265Z"
   },
   {
    "duration": 111,
    "start_time": "2022-07-09T19:58:06.270Z"
   },
   {
    "duration": 16,
    "start_time": "2022-07-09T19:58:06.383Z"
   },
   {
    "duration": 2085,
    "start_time": "2022-07-09T19:58:06.401Z"
   },
   {
    "duration": 10,
    "start_time": "2022-07-09T19:58:08.488Z"
   },
   {
    "duration": 4,
    "start_time": "2022-07-09T19:58:08.500Z"
   },
   {
    "duration": 7,
    "start_time": "2022-07-09T19:58:08.506Z"
   },
   {
    "duration": 31,
    "start_time": "2022-07-09T19:58:08.514Z"
   },
   {
    "duration": 8,
    "start_time": "2022-07-09T19:58:08.547Z"
   },
   {
    "duration": 14,
    "start_time": "2022-07-09T19:58:08.556Z"
   },
   {
    "duration": 2,
    "start_time": "2022-07-09T19:58:08.573Z"
   },
   {
    "duration": 10,
    "start_time": "2022-07-09T19:58:08.576Z"
   },
   {
    "duration": 8,
    "start_time": "2022-07-09T19:58:08.587Z"
   },
   {
    "duration": 52,
    "start_time": "2022-07-09T19:58:08.597Z"
   },
   {
    "duration": 31,
    "start_time": "2022-07-09T19:58:08.651Z"
   },
   {
    "duration": 4,
    "start_time": "2022-07-09T19:58:08.684Z"
   },
   {
    "duration": 275,
    "start_time": "2022-07-09T19:58:08.690Z"
   },
   {
    "duration": 11,
    "start_time": "2022-07-09T19:58:08.971Z"
   },
   {
    "duration": 15,
    "start_time": "2022-07-09T19:58:08.984Z"
   },
   {
    "duration": 11,
    "start_time": "2022-07-09T19:58:09.004Z"
   },
   {
    "duration": 16,
    "start_time": "2022-07-09T19:58:09.017Z"
   },
   {
    "duration": 13,
    "start_time": "2022-07-09T19:58:09.036Z"
   },
   {
    "duration": 10,
    "start_time": "2022-07-09T19:58:09.052Z"
   },
   {
    "duration": 10,
    "start_time": "2022-07-09T19:58:09.065Z"
   },
   {
    "duration": 302,
    "start_time": "2022-07-09T19:58:09.077Z"
   },
   {
    "duration": 5,
    "start_time": "2022-07-09T19:58:09.381Z"
   },
   {
    "duration": 10,
    "start_time": "2022-07-09T19:58:09.387Z"
   },
   {
    "duration": 11,
    "start_time": "2022-07-09T19:58:09.398Z"
   },
   {
    "duration": 179,
    "start_time": "2022-07-09T19:58:09.413Z"
   },
   {
    "duration": 10,
    "start_time": "2022-07-09T19:58:09.594Z"
   },
   {
    "duration": 165,
    "start_time": "2022-07-09T19:58:09.606Z"
   },
   {
    "duration": 9,
    "start_time": "2022-07-09T19:58:09.773Z"
   },
   {
    "duration": 169,
    "start_time": "2022-07-09T19:58:09.784Z"
   },
   {
    "duration": 12,
    "start_time": "2022-07-09T19:58:09.955Z"
   },
   {
    "duration": 265,
    "start_time": "2022-07-09T19:58:09.969Z"
   },
   {
    "duration": 15,
    "start_time": "2022-07-09T19:58:10.237Z"
   },
   {
    "duration": 177,
    "start_time": "2022-07-09T19:58:10.253Z"
   },
   {
    "duration": 171,
    "start_time": "2022-07-09T19:58:10.432Z"
   },
   {
    "duration": 382,
    "start_time": "2022-07-09T19:58:10.605Z"
   },
   {
    "duration": 10,
    "start_time": "2022-07-09T19:58:10.988Z"
   },
   {
    "duration": 147,
    "start_time": "2022-07-09T19:58:11.000Z"
   },
   {
    "duration": 133,
    "start_time": "2022-07-09T19:58:11.148Z"
   },
   {
    "duration": 10,
    "start_time": "2022-07-09T19:58:11.283Z"
   },
   {
    "duration": 149,
    "start_time": "2022-07-09T19:58:11.294Z"
   },
   {
    "duration": 283,
    "start_time": "2022-07-09T19:58:11.446Z"
   },
   {
    "duration": 17,
    "start_time": "2022-07-09T19:58:11.731Z"
   },
   {
    "duration": 233,
    "start_time": "2022-07-09T19:58:11.750Z"
   },
   {
    "duration": 216,
    "start_time": "2022-07-09T19:58:11.985Z"
   },
   {
    "duration": 183,
    "start_time": "2022-07-09T19:58:12.203Z"
   },
   {
    "duration": 200,
    "start_time": "2022-07-09T19:58:12.388Z"
   },
   {
    "duration": 2,
    "start_time": "2022-07-09T19:58:12.589Z"
   },
   {
    "duration": 5,
    "start_time": "2022-07-09T19:58:12.593Z"
   },
   {
    "duration": 207,
    "start_time": "2022-07-09T19:58:12.599Z"
   },
   {
    "duration": 13,
    "start_time": "2022-07-09T19:58:12.808Z"
   },
   {
    "duration": 3145,
    "start_time": "2022-07-09T19:58:12.822Z"
   },
   {
    "duration": 2,
    "start_time": "2022-07-09T19:58:15.969Z"
   },
   {
    "duration": 16,
    "start_time": "2022-07-09T19:58:15.973Z"
   },
   {
    "duration": 159,
    "start_time": "2022-07-09T19:58:15.990Z"
   },
   {
    "duration": 2,
    "start_time": "2022-07-09T19:58:16.151Z"
   },
   {
    "duration": 19,
    "start_time": "2022-07-09T19:58:16.154Z"
   },
   {
    "duration": 192,
    "start_time": "2022-07-09T19:58:16.174Z"
   },
   {
    "duration": 3,
    "start_time": "2022-07-09T19:58:16.367Z"
   },
   {
    "duration": 18,
    "start_time": "2022-07-09T19:58:16.371Z"
   },
   {
    "duration": 135,
    "start_time": "2022-07-09T19:58:16.391Z"
   },
   {
    "duration": 3,
    "start_time": "2022-07-09T19:58:16.527Z"
   },
   {
    "duration": 25,
    "start_time": "2022-07-09T19:58:16.532Z"
   },
   {
    "duration": 29,
    "start_time": "2022-07-09T19:58:16.559Z"
   },
   {
    "duration": 8,
    "start_time": "2022-07-09T19:58:16.590Z"
   },
   {
    "duration": 46,
    "start_time": "2022-07-09T19:58:16.600Z"
   },
   {
    "duration": 55,
    "start_time": "2022-07-09T20:00:15.576Z"
   },
   {
    "duration": 290,
    "start_time": "2022-07-09T20:00:21.889Z"
   },
   {
    "duration": 294,
    "start_time": "2022-07-09T20:00:28.469Z"
   },
   {
    "duration": 47,
    "start_time": "2022-07-09T20:02:16.749Z"
   },
   {
    "duration": 73,
    "start_time": "2022-07-09T20:02:24.154Z"
   },
   {
    "duration": 48,
    "start_time": "2022-07-09T20:02:52.554Z"
   },
   {
    "duration": 810,
    "start_time": "2022-07-10T08:03:02.140Z"
   },
   {
    "duration": 160,
    "start_time": "2022-07-10T08:03:02.953Z"
   },
   {
    "duration": 15,
    "start_time": "2022-07-10T08:03:03.115Z"
   },
   {
    "duration": 2190,
    "start_time": "2022-07-10T08:03:03.132Z"
   },
   {
    "duration": 9,
    "start_time": "2022-07-10T08:03:05.324Z"
   },
   {
    "duration": 10,
    "start_time": "2022-07-10T08:03:05.335Z"
   },
   {
    "duration": 7,
    "start_time": "2022-07-10T08:03:05.346Z"
   },
   {
    "duration": 7,
    "start_time": "2022-07-10T08:03:05.354Z"
   },
   {
    "duration": 9,
    "start_time": "2022-07-10T08:03:05.362Z"
   },
   {
    "duration": 13,
    "start_time": "2022-07-10T08:03:05.373Z"
   },
   {
    "duration": 2,
    "start_time": "2022-07-10T08:03:05.388Z"
   },
   {
    "duration": 39,
    "start_time": "2022-07-10T08:03:05.391Z"
   },
   {
    "duration": 10,
    "start_time": "2022-07-10T08:03:05.432Z"
   },
   {
    "duration": 28,
    "start_time": "2022-07-10T08:03:05.444Z"
   },
   {
    "duration": 52,
    "start_time": "2022-07-10T08:03:05.474Z"
   },
   {
    "duration": 4,
    "start_time": "2022-07-10T08:03:05.528Z"
   },
   {
    "duration": 185,
    "start_time": "2022-07-10T08:03:05.533Z"
   },
   {
    "duration": 9,
    "start_time": "2022-07-10T08:03:05.719Z"
   },
   {
    "duration": 15,
    "start_time": "2022-07-10T08:03:05.730Z"
   },
   {
    "duration": 8,
    "start_time": "2022-07-10T08:03:05.747Z"
   },
   {
    "duration": 4,
    "start_time": "2022-07-10T08:03:05.756Z"
   },
   {
    "duration": 7,
    "start_time": "2022-07-10T08:03:05.762Z"
   },
   {
    "duration": 7,
    "start_time": "2022-07-10T08:03:05.771Z"
   },
   {
    "duration": 9,
    "start_time": "2022-07-10T08:03:05.780Z"
   },
   {
    "duration": 6,
    "start_time": "2022-07-10T08:03:05.791Z"
   },
   {
    "duration": 284,
    "start_time": "2022-07-10T08:03:05.823Z"
   },
   {
    "duration": 5,
    "start_time": "2022-07-10T08:03:06.108Z"
   },
   {
    "duration": 10,
    "start_time": "2022-07-10T08:03:06.114Z"
   },
   {
    "duration": 14,
    "start_time": "2022-07-10T08:03:06.126Z"
   },
   {
    "duration": 156,
    "start_time": "2022-07-10T08:03:06.141Z"
   },
   {
    "duration": 11,
    "start_time": "2022-07-10T08:03:06.299Z"
   },
   {
    "duration": 262,
    "start_time": "2022-07-10T08:03:06.323Z"
   },
   {
    "duration": 11,
    "start_time": "2022-07-10T08:03:06.587Z"
   },
   {
    "duration": 164,
    "start_time": "2022-07-10T08:03:06.600Z"
   },
   {
    "duration": 10,
    "start_time": "2022-07-10T08:03:06.765Z"
   },
   {
    "duration": 279,
    "start_time": "2022-07-10T08:03:06.776Z"
   },
   {
    "duration": 9,
    "start_time": "2022-07-10T08:03:07.057Z"
   },
   {
    "duration": 160,
    "start_time": "2022-07-10T08:03:07.067Z"
   },
   {
    "duration": 147,
    "start_time": "2022-07-10T08:03:07.228Z"
   },
   {
    "duration": 390,
    "start_time": "2022-07-10T08:03:07.377Z"
   },
   {
    "duration": 10,
    "start_time": "2022-07-10T08:03:07.773Z"
   },
   {
    "duration": 155,
    "start_time": "2022-07-10T08:03:07.785Z"
   },
   {
    "duration": 132,
    "start_time": "2022-07-10T08:03:07.942Z"
   },
   {
    "duration": 9,
    "start_time": "2022-07-10T08:03:08.076Z"
   },
   {
    "duration": 232,
    "start_time": "2022-07-10T08:03:08.086Z"
   },
   {
    "duration": 270,
    "start_time": "2022-07-10T08:03:08.320Z"
   },
   {
    "duration": 11,
    "start_time": "2022-07-10T08:03:08.592Z"
   },
   {
    "duration": 257,
    "start_time": "2022-07-10T08:03:08.604Z"
   },
   {
    "duration": 206,
    "start_time": "2022-07-10T08:03:08.863Z"
   },
   {
    "duration": 191,
    "start_time": "2022-07-10T08:03:09.071Z"
   },
   {
    "duration": 232,
    "start_time": "2022-07-10T08:03:09.264Z"
   },
   {
    "duration": 3,
    "start_time": "2022-07-10T08:03:09.497Z"
   },
   {
    "duration": 10,
    "start_time": "2022-07-10T08:03:09.501Z"
   },
   {
    "duration": 201,
    "start_time": "2022-07-10T08:03:09.513Z"
   },
   {
    "duration": 13,
    "start_time": "2022-07-10T08:03:09.721Z"
   },
   {
    "duration": 144,
    "start_time": "2022-07-10T08:03:09.736Z"
   },
   {
    "duration": 2,
    "start_time": "2022-07-10T08:03:09.882Z"
   },
   {
    "duration": 23,
    "start_time": "2022-07-10T08:03:09.886Z"
   },
   {
    "duration": 184,
    "start_time": "2022-07-10T08:03:09.910Z"
   },
   {
    "duration": 2,
    "start_time": "2022-07-10T08:03:10.096Z"
   },
   {
    "duration": 53,
    "start_time": "2022-07-10T08:03:10.100Z"
   },
   {
    "duration": 253,
    "start_time": "2022-07-10T08:03:10.155Z"
   },
   {
    "duration": 3,
    "start_time": "2022-07-10T08:03:10.410Z"
   },
   {
    "duration": 16,
    "start_time": "2022-07-10T08:03:10.423Z"
   },
   {
    "duration": 144,
    "start_time": "2022-07-10T08:03:10.441Z"
   },
   {
    "duration": 2,
    "start_time": "2022-07-10T08:03:10.587Z"
   },
   {
    "duration": 57,
    "start_time": "2022-07-10T08:03:10.591Z"
   },
   {
    "duration": 22,
    "start_time": "2022-07-10T08:03:10.650Z"
   },
   {
    "duration": 8,
    "start_time": "2022-07-10T08:03:10.674Z"
   },
   {
    "duration": 271,
    "start_time": "2022-07-10T08:03:10.684Z"
   },
   {
    "duration": 92,
    "start_time": "2022-07-10T08:03:46.099Z"
   },
   {
    "duration": 11,
    "start_time": "2022-07-10T08:04:03.743Z"
   },
   {
    "duration": 3,
    "start_time": "2022-07-10T08:04:39.283Z"
   },
   {
    "duration": 8,
    "start_time": "2022-07-10T08:05:00.159Z"
   },
   {
    "duration": 6,
    "start_time": "2022-07-10T08:06:49.183Z"
   },
   {
    "duration": 2,
    "start_time": "2022-07-10T08:07:02.679Z"
   },
   {
    "duration": 117,
    "start_time": "2022-07-10T08:07:02.683Z"
   },
   {
    "duration": 30,
    "start_time": "2022-07-10T08:07:02.801Z"
   },
   {
    "duration": 2282,
    "start_time": "2022-07-10T08:07:02.833Z"
   },
   {
    "duration": 10,
    "start_time": "2022-07-10T08:07:05.121Z"
   },
   {
    "duration": 5,
    "start_time": "2022-07-10T08:07:05.132Z"
   },
   {
    "duration": 10,
    "start_time": "2022-07-10T08:07:05.138Z"
   },
   {
    "duration": 7,
    "start_time": "2022-07-10T08:07:05.149Z"
   },
   {
    "duration": 10,
    "start_time": "2022-07-10T08:07:05.158Z"
   },
   {
    "duration": 12,
    "start_time": "2022-07-10T08:07:05.170Z"
   },
   {
    "duration": 2,
    "start_time": "2022-07-10T08:07:05.184Z"
   },
   {
    "duration": 11,
    "start_time": "2022-07-10T08:07:05.188Z"
   },
   {
    "duration": 6,
    "start_time": "2022-07-10T08:07:05.222Z"
   },
   {
    "duration": 26,
    "start_time": "2022-07-10T08:07:05.230Z"
   },
   {
    "duration": 32,
    "start_time": "2022-07-10T08:07:05.257Z"
   },
   {
    "duration": 34,
    "start_time": "2022-07-10T08:07:05.290Z"
   },
   {
    "duration": 199,
    "start_time": "2022-07-10T08:07:05.326Z"
   },
   {
    "duration": 8,
    "start_time": "2022-07-10T08:07:05.527Z"
   },
   {
    "duration": 3,
    "start_time": "2022-07-10T08:12:02.818Z"
   },
   {
    "duration": 118,
    "start_time": "2022-07-10T08:12:02.824Z"
   },
   {
    "duration": 18,
    "start_time": "2022-07-10T08:12:02.944Z"
   },
   {
    "duration": 2267,
    "start_time": "2022-07-10T08:12:02.964Z"
   },
   {
    "duration": 9,
    "start_time": "2022-07-10T08:12:05.233Z"
   },
   {
    "duration": 10,
    "start_time": "2022-07-10T08:12:05.243Z"
   },
   {
    "duration": 9,
    "start_time": "2022-07-10T08:12:05.255Z"
   },
   {
    "duration": 5,
    "start_time": "2022-07-10T08:12:05.265Z"
   },
   {
    "duration": 16,
    "start_time": "2022-07-10T08:12:05.271Z"
   },
   {
    "duration": 18,
    "start_time": "2022-07-10T08:12:05.288Z"
   },
   {
    "duration": 5,
    "start_time": "2022-07-10T08:12:05.308Z"
   },
   {
    "duration": 11,
    "start_time": "2022-07-10T08:12:05.314Z"
   },
   {
    "duration": 24,
    "start_time": "2022-07-10T08:12:05.327Z"
   },
   {
    "duration": 26,
    "start_time": "2022-07-10T08:12:05.352Z"
   },
   {
    "duration": 27,
    "start_time": "2022-07-10T08:12:05.379Z"
   },
   {
    "duration": 3,
    "start_time": "2022-07-10T08:12:05.408Z"
   },
   {
    "duration": 247,
    "start_time": "2022-07-10T08:12:05.412Z"
   },
   {
    "duration": 8,
    "start_time": "2022-07-10T08:12:05.662Z"
   },
   {
    "duration": 0,
    "start_time": "2022-07-10T08:12:05.723Z"
   },
   {
    "duration": 0,
    "start_time": "2022-07-10T08:12:05.724Z"
   },
   {
    "duration": 0,
    "start_time": "2022-07-10T08:12:05.725Z"
   },
   {
    "duration": 0,
    "start_time": "2022-07-10T08:12:05.726Z"
   },
   {
    "duration": 0,
    "start_time": "2022-07-10T08:12:05.727Z"
   },
   {
    "duration": 0,
    "start_time": "2022-07-10T08:12:05.728Z"
   },
   {
    "duration": 0,
    "start_time": "2022-07-10T08:12:05.729Z"
   },
   {
    "duration": 0,
    "start_time": "2022-07-10T08:12:05.730Z"
   },
   {
    "duration": 0,
    "start_time": "2022-07-10T08:12:05.731Z"
   },
   {
    "duration": 0,
    "start_time": "2022-07-10T08:12:05.732Z"
   },
   {
    "duration": 0,
    "start_time": "2022-07-10T08:12:05.733Z"
   },
   {
    "duration": 0,
    "start_time": "2022-07-10T08:12:05.734Z"
   },
   {
    "duration": 0,
    "start_time": "2022-07-10T08:12:05.735Z"
   },
   {
    "duration": 0,
    "start_time": "2022-07-10T08:12:05.736Z"
   },
   {
    "duration": 0,
    "start_time": "2022-07-10T08:12:05.737Z"
   },
   {
    "duration": 0,
    "start_time": "2022-07-10T08:12:05.738Z"
   },
   {
    "duration": 0,
    "start_time": "2022-07-10T08:12:05.739Z"
   },
   {
    "duration": 0,
    "start_time": "2022-07-10T08:12:05.740Z"
   },
   {
    "duration": 0,
    "start_time": "2022-07-10T08:12:05.741Z"
   },
   {
    "duration": 0,
    "start_time": "2022-07-10T08:12:05.742Z"
   },
   {
    "duration": 0,
    "start_time": "2022-07-10T08:12:05.743Z"
   },
   {
    "duration": 0,
    "start_time": "2022-07-10T08:12:05.744Z"
   },
   {
    "duration": 0,
    "start_time": "2022-07-10T08:12:05.745Z"
   },
   {
    "duration": 0,
    "start_time": "2022-07-10T08:12:05.746Z"
   },
   {
    "duration": 0,
    "start_time": "2022-07-10T08:12:05.747Z"
   },
   {
    "duration": 0,
    "start_time": "2022-07-10T08:12:05.748Z"
   },
   {
    "duration": 0,
    "start_time": "2022-07-10T08:12:05.749Z"
   },
   {
    "duration": 0,
    "start_time": "2022-07-10T08:12:05.750Z"
   },
   {
    "duration": 0,
    "start_time": "2022-07-10T08:12:05.752Z"
   },
   {
    "duration": 0,
    "start_time": "2022-07-10T08:12:05.753Z"
   },
   {
    "duration": 0,
    "start_time": "2022-07-10T08:12:05.754Z"
   },
   {
    "duration": 0,
    "start_time": "2022-07-10T08:12:05.755Z"
   },
   {
    "duration": 0,
    "start_time": "2022-07-10T08:12:05.756Z"
   },
   {
    "duration": 0,
    "start_time": "2022-07-10T08:12:05.757Z"
   },
   {
    "duration": 0,
    "start_time": "2022-07-10T08:12:05.822Z"
   },
   {
    "duration": 0,
    "start_time": "2022-07-10T08:12:05.824Z"
   },
   {
    "duration": 0,
    "start_time": "2022-07-10T08:12:05.825Z"
   },
   {
    "duration": 0,
    "start_time": "2022-07-10T08:12:05.826Z"
   },
   {
    "duration": 0,
    "start_time": "2022-07-10T08:12:05.827Z"
   },
   {
    "duration": 0,
    "start_time": "2022-07-10T08:12:05.828Z"
   },
   {
    "duration": 0,
    "start_time": "2022-07-10T08:12:05.829Z"
   },
   {
    "duration": 0,
    "start_time": "2022-07-10T08:12:05.830Z"
   },
   {
    "duration": 0,
    "start_time": "2022-07-10T08:12:05.831Z"
   },
   {
    "duration": 0,
    "start_time": "2022-07-10T08:12:05.833Z"
   },
   {
    "duration": 0,
    "start_time": "2022-07-10T08:12:05.833Z"
   },
   {
    "duration": 0,
    "start_time": "2022-07-10T08:12:05.834Z"
   },
   {
    "duration": 0,
    "start_time": "2022-07-10T08:12:05.835Z"
   },
   {
    "duration": 0,
    "start_time": "2022-07-10T08:12:05.836Z"
   },
   {
    "duration": 0,
    "start_time": "2022-07-10T08:12:05.837Z"
   },
   {
    "duration": 0,
    "start_time": "2022-07-10T08:12:05.838Z"
   },
   {
    "duration": 0,
    "start_time": "2022-07-10T08:12:05.839Z"
   },
   {
    "duration": 0,
    "start_time": "2022-07-10T08:12:05.840Z"
   },
   {
    "duration": 9,
    "start_time": "2022-07-10T08:13:17.221Z"
   },
   {
    "duration": 30,
    "start_time": "2022-07-10T08:13:39.319Z"
   },
   {
    "duration": 116,
    "start_time": "2022-07-10T08:14:13.357Z"
   },
   {
    "duration": 40,
    "start_time": "2022-07-10T08:15:16.790Z"
   },
   {
    "duration": 6,
    "start_time": "2022-07-10T08:17:07.630Z"
   },
   {
    "duration": 42,
    "start_time": "2022-07-10T08:17:15.382Z"
   },
   {
    "duration": 741,
    "start_time": "2022-07-10T10:00:26.759Z"
   },
   {
    "duration": 153,
    "start_time": "2022-07-10T10:00:27.502Z"
   },
   {
    "duration": 16,
    "start_time": "2022-07-10T10:00:27.657Z"
   },
   {
    "duration": 2128,
    "start_time": "2022-07-10T10:00:27.674Z"
   },
   {
    "duration": 15,
    "start_time": "2022-07-10T10:00:29.806Z"
   },
   {
    "duration": 8,
    "start_time": "2022-07-10T10:00:29.822Z"
   },
   {
    "duration": 12,
    "start_time": "2022-07-10T10:00:29.831Z"
   },
   {
    "duration": 6,
    "start_time": "2022-07-10T10:00:29.844Z"
   },
   {
    "duration": 11,
    "start_time": "2022-07-10T10:00:29.851Z"
   },
   {
    "duration": 13,
    "start_time": "2022-07-10T10:00:29.863Z"
   },
   {
    "duration": 7,
    "start_time": "2022-07-10T10:00:29.877Z"
   },
   {
    "duration": 14,
    "start_time": "2022-07-10T10:00:29.885Z"
   },
   {
    "duration": 12,
    "start_time": "2022-07-10T10:00:29.900Z"
   },
   {
    "duration": 28,
    "start_time": "2022-07-10T10:00:29.924Z"
   },
   {
    "duration": 24,
    "start_time": "2022-07-10T10:00:29.953Z"
   },
   {
    "duration": 7,
    "start_time": "2022-07-10T10:00:29.980Z"
   },
   {
    "duration": 246,
    "start_time": "2022-07-10T10:00:29.989Z"
   },
   {
    "duration": 53,
    "start_time": "2022-07-10T10:00:30.237Z"
   },
   {
    "duration": 3,
    "start_time": "2022-07-10T10:00:30.291Z"
   },
   {
    "duration": 31,
    "start_time": "2022-07-10T10:00:30.295Z"
   },
   {
    "duration": 27,
    "start_time": "2022-07-10T10:00:30.327Z"
   },
   {
    "duration": 24,
    "start_time": "2022-07-10T10:00:30.355Z"
   },
   {
    "duration": 22,
    "start_time": "2022-07-10T10:00:30.381Z"
   },
   {
    "duration": 17,
    "start_time": "2022-07-10T10:00:30.404Z"
   },
   {
    "duration": 21,
    "start_time": "2022-07-10T10:00:30.423Z"
   },
   {
    "duration": 317,
    "start_time": "2022-07-10T10:00:30.446Z"
   },
   {
    "duration": 6,
    "start_time": "2022-07-10T10:00:30.764Z"
   },
   {
    "duration": 11,
    "start_time": "2022-07-10T10:00:30.772Z"
   },
   {
    "duration": 41,
    "start_time": "2022-07-10T10:00:30.785Z"
   },
   {
    "duration": 214,
    "start_time": "2022-07-10T10:00:30.829Z"
   },
   {
    "duration": 11,
    "start_time": "2022-07-10T10:00:31.046Z"
   },
   {
    "duration": 284,
    "start_time": "2022-07-10T10:00:31.059Z"
   },
   {
    "duration": 11,
    "start_time": "2022-07-10T10:00:31.346Z"
   },
   {
    "duration": 212,
    "start_time": "2022-07-10T10:00:31.359Z"
   },
   {
    "duration": 12,
    "start_time": "2022-07-10T10:00:31.574Z"
   },
   {
    "duration": 310,
    "start_time": "2022-07-10T10:00:31.588Z"
   },
   {
    "duration": 10,
    "start_time": "2022-07-10T10:00:31.899Z"
   },
   {
    "duration": 187,
    "start_time": "2022-07-10T10:00:31.910Z"
   },
   {
    "duration": 156,
    "start_time": "2022-07-10T10:00:32.099Z"
   },
   {
    "duration": 380,
    "start_time": "2022-07-10T10:00:32.257Z"
   },
   {
    "duration": 10,
    "start_time": "2022-07-10T10:00:32.643Z"
   },
   {
    "duration": 145,
    "start_time": "2022-07-10T10:00:32.655Z"
   },
   {
    "duration": 131,
    "start_time": "2022-07-10T10:00:32.801Z"
   },
   {
    "duration": 10,
    "start_time": "2022-07-10T10:00:32.933Z"
   },
   {
    "duration": 241,
    "start_time": "2022-07-10T10:00:32.945Z"
   },
   {
    "duration": 275,
    "start_time": "2022-07-10T10:00:33.188Z"
   },
   {
    "duration": 8,
    "start_time": "2022-07-10T10:00:33.465Z"
   },
   {
    "duration": 225,
    "start_time": "2022-07-10T10:00:33.474Z"
   },
   {
    "duration": 180,
    "start_time": "2022-07-10T10:00:33.700Z"
   },
   {
    "duration": 177,
    "start_time": "2022-07-10T10:00:33.882Z"
   },
   {
    "duration": 191,
    "start_time": "2022-07-10T10:00:34.061Z"
   },
   {
    "duration": 3,
    "start_time": "2022-07-10T10:00:34.254Z"
   },
   {
    "duration": 5,
    "start_time": "2022-07-10T10:00:34.259Z"
   },
   {
    "duration": 217,
    "start_time": "2022-07-10T10:00:34.266Z"
   },
   {
    "duration": 17,
    "start_time": "2022-07-10T10:00:34.485Z"
   },
   {
    "duration": 186,
    "start_time": "2022-07-10T10:00:34.504Z"
   },
   {
    "duration": 3,
    "start_time": "2022-07-10T10:00:34.692Z"
   },
   {
    "duration": 27,
    "start_time": "2022-07-10T10:00:34.696Z"
   },
   {
    "duration": 145,
    "start_time": "2022-07-10T10:00:34.724Z"
   },
   {
    "duration": 3,
    "start_time": "2022-07-10T10:00:34.870Z"
   },
   {
    "duration": 16,
    "start_time": "2022-07-10T10:00:34.874Z"
   },
   {
    "duration": 247,
    "start_time": "2022-07-10T10:00:34.891Z"
   },
   {
    "duration": 2,
    "start_time": "2022-07-10T10:00:35.140Z"
   },
   {
    "duration": 18,
    "start_time": "2022-07-10T10:00:35.144Z"
   },
   {
    "duration": 142,
    "start_time": "2022-07-10T10:00:35.164Z"
   },
   {
    "duration": 3,
    "start_time": "2022-07-10T10:00:35.307Z"
   },
   {
    "duration": 24,
    "start_time": "2022-07-10T10:00:35.311Z"
   },
   {
    "duration": 23,
    "start_time": "2022-07-10T10:00:35.336Z"
   },
   {
    "duration": 8,
    "start_time": "2022-07-10T10:00:35.360Z"
   },
   {
    "duration": 281,
    "start_time": "2022-07-10T10:00:35.369Z"
   },
   {
    "duration": 2,
    "start_time": "2022-07-10T10:02:03.479Z"
   },
   {
    "duration": 119,
    "start_time": "2022-07-10T10:02:03.483Z"
   },
   {
    "duration": 30,
    "start_time": "2022-07-10T10:02:03.605Z"
   },
   {
    "duration": 2168,
    "start_time": "2022-07-10T10:02:03.637Z"
   },
   {
    "duration": 20,
    "start_time": "2022-07-10T10:02:05.807Z"
   },
   {
    "duration": 5,
    "start_time": "2022-07-10T10:02:05.829Z"
   },
   {
    "duration": 9,
    "start_time": "2022-07-10T10:02:05.836Z"
   },
   {
    "duration": 7,
    "start_time": "2022-07-10T10:02:05.846Z"
   },
   {
    "duration": 11,
    "start_time": "2022-07-10T10:02:05.854Z"
   },
   {
    "duration": 12,
    "start_time": "2022-07-10T10:02:05.866Z"
   },
   {
    "duration": 2,
    "start_time": "2022-07-10T10:02:05.881Z"
   },
   {
    "duration": 22,
    "start_time": "2022-07-10T10:02:05.884Z"
   },
   {
    "duration": 15,
    "start_time": "2022-07-10T10:02:05.908Z"
   },
   {
    "duration": 36,
    "start_time": "2022-07-10T10:02:05.925Z"
   },
   {
    "duration": 30,
    "start_time": "2022-07-10T10:02:05.963Z"
   },
   {
    "duration": 30,
    "start_time": "2022-07-10T10:02:05.995Z"
   },
   {
    "duration": 199,
    "start_time": "2022-07-10T10:02:06.027Z"
   },
   {
    "duration": 47,
    "start_time": "2022-07-10T10:02:06.228Z"
   },
   {
    "duration": 3,
    "start_time": "2022-07-10T10:02:06.277Z"
   },
   {
    "duration": 15,
    "start_time": "2022-07-10T10:02:06.282Z"
   },
   {
    "duration": 25,
    "start_time": "2022-07-10T10:02:06.299Z"
   },
   {
    "duration": 7,
    "start_time": "2022-07-10T10:02:06.326Z"
   },
   {
    "duration": 10,
    "start_time": "2022-07-10T10:02:06.335Z"
   },
   {
    "duration": 6,
    "start_time": "2022-07-10T10:02:06.348Z"
   },
   {
    "duration": 6,
    "start_time": "2022-07-10T10:02:06.356Z"
   },
   {
    "duration": 302,
    "start_time": "2022-07-10T10:02:06.364Z"
   },
   {
    "duration": 4,
    "start_time": "2022-07-10T10:02:06.668Z"
   },
   {
    "duration": 9,
    "start_time": "2022-07-10T10:02:06.673Z"
   },
   {
    "duration": 12,
    "start_time": "2022-07-10T10:02:06.685Z"
   },
   {
    "duration": 164,
    "start_time": "2022-07-10T10:02:06.699Z"
   },
   {
    "duration": 8,
    "start_time": "2022-07-10T10:02:06.865Z"
   },
   {
    "duration": 177,
    "start_time": "2022-07-10T10:02:06.875Z"
   },
   {
    "duration": 11,
    "start_time": "2022-07-10T10:02:07.054Z"
   },
   {
    "duration": 180,
    "start_time": "2022-07-10T10:02:07.066Z"
   },
   {
    "duration": 8,
    "start_time": "2022-07-10T10:02:07.248Z"
   },
   {
    "duration": 375,
    "start_time": "2022-07-10T10:02:07.258Z"
   },
   {
    "duration": 12,
    "start_time": "2022-07-10T10:02:07.635Z"
   },
   {
    "duration": 164,
    "start_time": "2022-07-10T10:02:07.648Z"
   },
   {
    "duration": 157,
    "start_time": "2022-07-10T10:02:07.814Z"
   },
   {
    "duration": 383,
    "start_time": "2022-07-10T10:02:07.973Z"
   },
   {
    "duration": 8,
    "start_time": "2022-07-10T10:02:08.358Z"
   },
   {
    "duration": 141,
    "start_time": "2022-07-10T10:02:08.368Z"
   },
   {
    "duration": 126,
    "start_time": "2022-07-10T10:02:08.511Z"
   },
   {
    "duration": 9,
    "start_time": "2022-07-10T10:02:08.639Z"
   },
   {
    "duration": 152,
    "start_time": "2022-07-10T10:02:08.650Z"
   },
   {
    "duration": 295,
    "start_time": "2022-07-10T10:02:08.804Z"
   },
   {
    "duration": 9,
    "start_time": "2022-07-10T10:02:09.101Z"
   },
   {
    "duration": 346,
    "start_time": "2022-07-10T10:02:09.112Z"
   },
   {
    "duration": 183,
    "start_time": "2022-07-10T10:02:09.459Z"
   },
   {
    "duration": 166,
    "start_time": "2022-07-10T10:02:09.644Z"
   },
   {
    "duration": 198,
    "start_time": "2022-07-10T10:02:09.812Z"
   },
   {
    "duration": 3,
    "start_time": "2022-07-10T10:02:10.012Z"
   },
   {
    "duration": 15,
    "start_time": "2022-07-10T10:02:10.022Z"
   },
   {
    "duration": 204,
    "start_time": "2022-07-10T10:02:10.038Z"
   },
   {
    "duration": 16,
    "start_time": "2022-07-10T10:02:10.243Z"
   },
   {
    "duration": 174,
    "start_time": "2022-07-10T10:02:10.261Z"
   },
   {
    "duration": 2,
    "start_time": "2022-07-10T10:02:10.437Z"
   },
   {
    "duration": 19,
    "start_time": "2022-07-10T10:02:10.441Z"
   },
   {
    "duration": 172,
    "start_time": "2022-07-10T10:02:10.462Z"
   },
   {
    "duration": 3,
    "start_time": "2022-07-10T10:02:10.635Z"
   },
   {
    "duration": 28,
    "start_time": "2022-07-10T10:02:10.640Z"
   },
   {
    "duration": 191,
    "start_time": "2022-07-10T10:02:10.670Z"
   },
   {
    "duration": 3,
    "start_time": "2022-07-10T10:02:10.863Z"
   },
   {
    "duration": 20,
    "start_time": "2022-07-10T10:02:10.867Z"
   },
   {
    "duration": 154,
    "start_time": "2022-07-10T10:02:10.889Z"
   },
   {
    "duration": 3,
    "start_time": "2022-07-10T10:02:11.045Z"
   },
   {
    "duration": 25,
    "start_time": "2022-07-10T10:02:11.049Z"
   },
   {
    "duration": 26,
    "start_time": "2022-07-10T10:02:11.075Z"
   },
   {
    "duration": 27,
    "start_time": "2022-07-10T10:02:11.103Z"
   },
   {
    "duration": 311,
    "start_time": "2022-07-10T10:02:11.132Z"
   },
   {
    "duration": 9,
    "start_time": "2022-07-10T10:02:39.198Z"
   },
   {
    "duration": 76,
    "start_time": "2022-07-10T10:03:09.298Z"
   },
   {
    "duration": 3,
    "start_time": "2022-07-10T10:04:44.925Z"
   },
   {
    "duration": 155,
    "start_time": "2022-07-10T10:04:44.930Z"
   },
   {
    "duration": 15,
    "start_time": "2022-07-10T10:04:45.087Z"
   },
   {
    "duration": 2031,
    "start_time": "2022-07-10T10:04:45.104Z"
   },
   {
    "duration": 10,
    "start_time": "2022-07-10T10:04:47.137Z"
   },
   {
    "duration": 5,
    "start_time": "2022-07-10T10:04:47.148Z"
   },
   {
    "duration": 7,
    "start_time": "2022-07-10T10:04:47.154Z"
   },
   {
    "duration": 13,
    "start_time": "2022-07-10T10:04:47.162Z"
   },
   {
    "duration": 9,
    "start_time": "2022-07-10T10:04:47.178Z"
   },
   {
    "duration": 12,
    "start_time": "2022-07-10T10:04:47.189Z"
   },
   {
    "duration": 2,
    "start_time": "2022-07-10T10:04:47.203Z"
   },
   {
    "duration": 27,
    "start_time": "2022-07-10T10:04:47.206Z"
   },
   {
    "duration": 21,
    "start_time": "2022-07-10T10:04:47.234Z"
   },
   {
    "duration": 25,
    "start_time": "2022-07-10T10:04:47.257Z"
   },
   {
    "duration": 161,
    "start_time": "2022-07-10T10:04:47.284Z"
   },
   {
    "duration": 3,
    "start_time": "2022-07-10T10:04:47.448Z"
   },
   {
    "duration": 205,
    "start_time": "2022-07-10T10:04:47.452Z"
   },
   {
    "duration": 10,
    "start_time": "2022-07-10T10:04:47.659Z"
   },
   {
    "duration": 11,
    "start_time": "2022-07-10T10:04:47.670Z"
   },
   {
    "duration": 15,
    "start_time": "2022-07-10T10:04:47.683Z"
   },
   {
    "duration": 8,
    "start_time": "2022-07-10T10:04:47.699Z"
   },
   {
    "duration": 6,
    "start_time": "2022-07-10T10:04:47.709Z"
   },
   {
    "duration": 5,
    "start_time": "2022-07-10T10:04:47.722Z"
   },
   {
    "duration": 3,
    "start_time": "2022-07-10T10:04:47.731Z"
   },
   {
    "duration": 272,
    "start_time": "2022-07-10T10:04:47.735Z"
   },
   {
    "duration": 4,
    "start_time": "2022-07-10T10:04:48.010Z"
   },
   {
    "duration": 4,
    "start_time": "2022-07-10T10:04:48.022Z"
   },
   {
    "duration": 11,
    "start_time": "2022-07-10T10:04:48.027Z"
   },
   {
    "duration": 162,
    "start_time": "2022-07-10T10:04:48.040Z"
   },
   {
    "duration": 9,
    "start_time": "2022-07-10T10:04:48.203Z"
   },
   {
    "duration": 151,
    "start_time": "2022-07-10T10:04:48.214Z"
   },
   {
    "duration": 9,
    "start_time": "2022-07-10T10:04:48.367Z"
   },
   {
    "duration": 169,
    "start_time": "2022-07-10T10:04:48.377Z"
   },
   {
    "duration": 10,
    "start_time": "2022-07-10T10:04:48.547Z"
   },
   {
    "duration": 266,
    "start_time": "2022-07-10T10:04:48.559Z"
   },
   {
    "duration": 8,
    "start_time": "2022-07-10T10:04:48.827Z"
   },
   {
    "duration": 154,
    "start_time": "2022-07-10T10:04:48.836Z"
   },
   {
    "duration": 153,
    "start_time": "2022-07-10T10:04:48.991Z"
   },
   {
    "duration": 479,
    "start_time": "2022-07-10T10:04:49.146Z"
   },
   {
    "duration": 10,
    "start_time": "2022-07-10T10:04:49.626Z"
   },
   {
    "duration": 149,
    "start_time": "2022-07-10T10:04:49.637Z"
   },
   {
    "duration": 124,
    "start_time": "2022-07-10T10:04:49.787Z"
   },
   {
    "duration": 16,
    "start_time": "2022-07-10T10:04:49.913Z"
   },
   {
    "duration": 157,
    "start_time": "2022-07-10T10:04:49.931Z"
   },
   {
    "duration": 299,
    "start_time": "2022-07-10T10:04:50.090Z"
   },
   {
    "duration": 9,
    "start_time": "2022-07-10T10:04:50.391Z"
   },
   {
    "duration": 266,
    "start_time": "2022-07-10T10:04:50.402Z"
   },
   {
    "duration": 202,
    "start_time": "2022-07-10T10:04:50.669Z"
   },
   {
    "duration": 181,
    "start_time": "2022-07-10T10:04:50.873Z"
   },
   {
    "duration": 305,
    "start_time": "2022-07-10T10:04:51.056Z"
   },
   {
    "duration": 2,
    "start_time": "2022-07-10T10:04:51.363Z"
   },
   {
    "duration": 10,
    "start_time": "2022-07-10T10:04:51.367Z"
   },
   {
    "duration": 195,
    "start_time": "2022-07-10T10:04:51.378Z"
   },
   {
    "duration": 13,
    "start_time": "2022-07-10T10:04:51.575Z"
   },
   {
    "duration": 160,
    "start_time": "2022-07-10T10:04:51.589Z"
   },
   {
    "duration": 2,
    "start_time": "2022-07-10T10:04:51.751Z"
   },
   {
    "duration": 32,
    "start_time": "2022-07-10T10:04:51.755Z"
   },
   {
    "duration": 178,
    "start_time": "2022-07-10T10:04:51.790Z"
   },
   {
    "duration": 3,
    "start_time": "2022-07-10T10:04:51.969Z"
   },
   {
    "duration": 28,
    "start_time": "2022-07-10T10:04:51.974Z"
   },
   {
    "duration": 207,
    "start_time": "2022-07-10T10:04:52.004Z"
   },
   {
    "duration": 2,
    "start_time": "2022-07-10T10:04:52.213Z"
   },
   {
    "duration": 19,
    "start_time": "2022-07-10T10:04:52.223Z"
   },
   {
    "duration": 146,
    "start_time": "2022-07-10T10:04:52.243Z"
   },
   {
    "duration": 2,
    "start_time": "2022-07-10T10:04:52.391Z"
   },
   {
    "duration": 30,
    "start_time": "2022-07-10T10:04:52.395Z"
   },
   {
    "duration": 27,
    "start_time": "2022-07-10T10:04:52.427Z"
   },
   {
    "duration": 8,
    "start_time": "2022-07-10T10:04:52.455Z"
   },
   {
    "duration": 305,
    "start_time": "2022-07-10T10:04:52.467Z"
   },
   {
    "duration": 14,
    "start_time": "2022-07-10T10:05:31.739Z"
   },
   {
    "duration": 3,
    "start_time": "2022-07-10T10:05:43.433Z"
   },
   {
    "duration": 99,
    "start_time": "2022-07-10T10:05:43.455Z"
   },
   {
    "duration": 14,
    "start_time": "2022-07-10T10:05:43.556Z"
   },
   {
    "duration": 2104,
    "start_time": "2022-07-10T10:05:43.572Z"
   },
   {
    "duration": 10,
    "start_time": "2022-07-10T10:05:45.677Z"
   },
   {
    "duration": 4,
    "start_time": "2022-07-10T10:05:45.689Z"
   },
   {
    "duration": 25,
    "start_time": "2022-07-10T10:05:45.694Z"
   },
   {
    "duration": 5,
    "start_time": "2022-07-10T10:05:45.720Z"
   },
   {
    "duration": 11,
    "start_time": "2022-07-10T10:05:45.726Z"
   },
   {
    "duration": 15,
    "start_time": "2022-07-10T10:05:45.738Z"
   },
   {
    "duration": 3,
    "start_time": "2022-07-10T10:05:45.754Z"
   },
   {
    "duration": 10,
    "start_time": "2022-07-10T10:05:45.758Z"
   },
   {
    "duration": 13,
    "start_time": "2022-07-10T10:05:45.769Z"
   },
   {
    "duration": 43,
    "start_time": "2022-07-10T10:05:45.783Z"
   },
   {
    "duration": 30,
    "start_time": "2022-07-10T10:05:45.829Z"
   },
   {
    "duration": 3,
    "start_time": "2022-07-10T10:05:45.860Z"
   },
   {
    "duration": 213,
    "start_time": "2022-07-10T10:05:45.865Z"
   },
   {
    "duration": 47,
    "start_time": "2022-07-10T10:05:50.047Z"
   },
   {
    "duration": 177,
    "start_time": "2022-07-10T10:15:03.808Z"
   },
   {
    "duration": 16,
    "start_time": "2022-07-10T10:17:26.279Z"
   },
   {
    "duration": 11,
    "start_time": "2022-07-10T10:17:50.067Z"
   },
   {
    "duration": 3,
    "start_time": "2022-07-10T10:18:12.822Z"
   },
   {
    "duration": 132,
    "start_time": "2022-07-10T10:18:12.832Z"
   },
   {
    "duration": 20,
    "start_time": "2022-07-10T10:18:12.966Z"
   },
   {
    "duration": 2203,
    "start_time": "2022-07-10T10:18:12.987Z"
   },
   {
    "duration": 15,
    "start_time": "2022-07-10T10:18:15.192Z"
   },
   {
    "duration": 11,
    "start_time": "2022-07-10T10:18:15.222Z"
   },
   {
    "duration": 14,
    "start_time": "2022-07-10T10:18:15.234Z"
   },
   {
    "duration": 8,
    "start_time": "2022-07-10T10:18:15.250Z"
   },
   {
    "duration": 16,
    "start_time": "2022-07-10T10:18:15.260Z"
   },
   {
    "duration": 16,
    "start_time": "2022-07-10T10:18:15.277Z"
   },
   {
    "duration": 3,
    "start_time": "2022-07-10T10:18:15.295Z"
   },
   {
    "duration": 16,
    "start_time": "2022-07-10T10:18:15.299Z"
   },
   {
    "duration": 11,
    "start_time": "2022-07-10T10:18:15.317Z"
   },
   {
    "duration": 34,
    "start_time": "2022-07-10T10:18:15.329Z"
   },
   {
    "duration": 56,
    "start_time": "2022-07-10T10:18:15.367Z"
   },
   {
    "duration": 2,
    "start_time": "2022-07-10T10:18:15.425Z"
   },
   {
    "duration": 188,
    "start_time": "2022-07-10T10:18:15.429Z"
   },
   {
    "duration": 9,
    "start_time": "2022-07-10T10:18:15.619Z"
   },
   {
    "duration": 8,
    "start_time": "2022-07-10T10:18:15.630Z"
   },
   {
    "duration": 4,
    "start_time": "2022-07-10T10:18:15.639Z"
   },
   {
    "duration": 8,
    "start_time": "2022-07-10T10:18:15.645Z"
   },
   {
    "duration": 7,
    "start_time": "2022-07-10T10:18:15.654Z"
   },
   {
    "duration": 5,
    "start_time": "2022-07-10T10:18:15.663Z"
   },
   {
    "duration": 4,
    "start_time": "2022-07-10T10:18:15.670Z"
   },
   {
    "duration": 428,
    "start_time": "2022-07-10T10:18:15.675Z"
   },
   {
    "duration": 4,
    "start_time": "2022-07-10T10:18:16.105Z"
   },
   {
    "duration": 8,
    "start_time": "2022-07-10T10:18:16.111Z"
   },
   {
    "duration": 12,
    "start_time": "2022-07-10T10:18:16.122Z"
   },
   {
    "duration": 160,
    "start_time": "2022-07-10T10:18:16.136Z"
   },
   {
    "duration": 9,
    "start_time": "2022-07-10T10:18:16.297Z"
   },
   {
    "duration": 157,
    "start_time": "2022-07-10T10:18:16.308Z"
   },
   {
    "duration": 11,
    "start_time": "2022-07-10T10:18:16.467Z"
   },
   {
    "duration": 165,
    "start_time": "2022-07-10T10:18:16.479Z"
   },
   {
    "duration": 9,
    "start_time": "2022-07-10T10:18:16.646Z"
   },
   {
    "duration": 251,
    "start_time": "2022-07-10T10:18:16.657Z"
   },
   {
    "duration": 15,
    "start_time": "2022-07-10T10:18:16.909Z"
   },
   {
    "duration": 158,
    "start_time": "2022-07-10T10:18:16.926Z"
   },
   {
    "duration": 155,
    "start_time": "2022-07-10T10:18:17.086Z"
   },
   {
    "duration": 381,
    "start_time": "2022-07-10T10:18:17.243Z"
   },
   {
    "duration": 9,
    "start_time": "2022-07-10T10:18:17.626Z"
   },
   {
    "duration": 144,
    "start_time": "2022-07-10T10:18:17.636Z"
   },
   {
    "duration": 250,
    "start_time": "2022-07-10T10:18:17.784Z"
   },
   {
    "duration": 8,
    "start_time": "2022-07-10T10:18:18.036Z"
   },
   {
    "duration": 138,
    "start_time": "2022-07-10T10:18:18.046Z"
   },
   {
    "duration": 264,
    "start_time": "2022-07-10T10:18:18.186Z"
   },
   {
    "duration": 11,
    "start_time": "2022-07-10T10:18:18.451Z"
   },
   {
    "duration": 236,
    "start_time": "2022-07-10T10:18:18.463Z"
   },
   {
    "duration": 180,
    "start_time": "2022-07-10T10:18:18.701Z"
   },
   {
    "duration": 158,
    "start_time": "2022-07-10T10:18:18.883Z"
   },
   {
    "duration": 194,
    "start_time": "2022-07-10T10:18:19.042Z"
   },
   {
    "duration": 2,
    "start_time": "2022-07-10T10:18:19.238Z"
   },
   {
    "duration": 12,
    "start_time": "2022-07-10T10:18:19.241Z"
   },
   {
    "duration": 196,
    "start_time": "2022-07-10T10:18:19.255Z"
   },
   {
    "duration": 958,
    "start_time": "2022-07-10T10:18:19.453Z"
   },
   {
    "duration": 0,
    "start_time": "2022-07-10T10:18:20.413Z"
   },
   {
    "duration": 0,
    "start_time": "2022-07-10T10:18:20.414Z"
   },
   {
    "duration": 0,
    "start_time": "2022-07-10T10:18:20.415Z"
   },
   {
    "duration": 0,
    "start_time": "2022-07-10T10:18:20.416Z"
   },
   {
    "duration": 0,
    "start_time": "2022-07-10T10:18:20.417Z"
   },
   {
    "duration": 0,
    "start_time": "2022-07-10T10:18:20.418Z"
   },
   {
    "duration": 0,
    "start_time": "2022-07-10T10:18:20.419Z"
   },
   {
    "duration": 0,
    "start_time": "2022-07-10T10:18:20.420Z"
   },
   {
    "duration": 0,
    "start_time": "2022-07-10T10:18:20.421Z"
   },
   {
    "duration": 0,
    "start_time": "2022-07-10T10:18:20.422Z"
   },
   {
    "duration": 0,
    "start_time": "2022-07-10T10:18:20.423Z"
   },
   {
    "duration": 0,
    "start_time": "2022-07-10T10:18:20.424Z"
   },
   {
    "duration": 0,
    "start_time": "2022-07-10T10:18:20.425Z"
   },
   {
    "duration": 0,
    "start_time": "2022-07-10T10:18:20.426Z"
   },
   {
    "duration": 0,
    "start_time": "2022-07-10T10:18:20.427Z"
   },
   {
    "duration": 146,
    "start_time": "2022-07-10T10:19:06.279Z"
   },
   {
    "duration": 140,
    "start_time": "2022-07-10T10:23:04.938Z"
   },
   {
    "duration": 257,
    "start_time": "2022-07-10T10:26:05.893Z"
   },
   {
    "duration": 183,
    "start_time": "2022-07-10T10:26:51.777Z"
   },
   {
    "duration": 129,
    "start_time": "2022-07-10T10:27:41.825Z"
   },
   {
    "duration": 210,
    "start_time": "2022-07-10T10:29:09.937Z"
   },
   {
    "duration": 9,
    "start_time": "2022-07-10T10:36:23.152Z"
   },
   {
    "duration": 115,
    "start_time": "2022-07-10T10:36:41.836Z"
   },
   {
    "duration": 186,
    "start_time": "2022-07-10T10:36:50.394Z"
   },
   {
    "duration": 149,
    "start_time": "2022-07-10T10:36:57.677Z"
   },
   {
    "duration": 123,
    "start_time": "2022-07-10T10:38:34.016Z"
   },
   {
    "duration": 45,
    "start_time": "2022-07-10T10:54:31.526Z"
   },
   {
    "duration": 33,
    "start_time": "2022-07-10T10:56:08.423Z"
   },
   {
    "duration": 19,
    "start_time": "2022-07-10T10:57:06.178Z"
   },
   {
    "duration": 17,
    "start_time": "2022-07-10T10:57:15.077Z"
   },
   {
    "duration": 16,
    "start_time": "2022-07-10T10:57:30.497Z"
   },
   {
    "duration": 35,
    "start_time": "2022-07-10T10:57:48.137Z"
   },
   {
    "duration": 60,
    "start_time": "2022-07-10T10:57:55.365Z"
   },
   {
    "duration": 15,
    "start_time": "2022-07-10T10:58:20.593Z"
   },
   {
    "duration": 55,
    "start_time": "2022-07-10T10:58:28.185Z"
   },
   {
    "duration": 19,
    "start_time": "2022-07-10T11:07:06.974Z"
   },
   {
    "duration": 186,
    "start_time": "2022-07-10T11:08:54.712Z"
   },
   {
    "duration": 2,
    "start_time": "2022-07-10T11:51:17.459Z"
   },
   {
    "duration": 123,
    "start_time": "2022-07-10T11:51:17.463Z"
   },
   {
    "duration": 15,
    "start_time": "2022-07-10T11:51:17.587Z"
   },
   {
    "duration": 2115,
    "start_time": "2022-07-10T11:51:17.604Z"
   },
   {
    "duration": 17,
    "start_time": "2022-07-10T11:51:19.721Z"
   },
   {
    "duration": 9,
    "start_time": "2022-07-10T11:51:19.740Z"
   },
   {
    "duration": 12,
    "start_time": "2022-07-10T11:51:19.751Z"
   },
   {
    "duration": 7,
    "start_time": "2022-07-10T11:51:19.764Z"
   },
   {
    "duration": 7,
    "start_time": "2022-07-10T11:51:19.774Z"
   },
   {
    "duration": 53,
    "start_time": "2022-07-10T11:51:19.782Z"
   },
   {
    "duration": 2,
    "start_time": "2022-07-10T11:51:19.837Z"
   },
   {
    "duration": 11,
    "start_time": "2022-07-10T11:51:19.841Z"
   },
   {
    "duration": 10,
    "start_time": "2022-07-10T11:51:19.853Z"
   },
   {
    "duration": 26,
    "start_time": "2022-07-10T11:51:19.865Z"
   },
   {
    "duration": 57,
    "start_time": "2022-07-10T11:51:19.892Z"
   },
   {
    "duration": 3,
    "start_time": "2022-07-10T11:51:19.950Z"
   },
   {
    "duration": 211,
    "start_time": "2022-07-10T11:51:19.955Z"
   },
   {
    "duration": 10,
    "start_time": "2022-07-10T11:51:20.168Z"
   },
   {
    "duration": 8,
    "start_time": "2022-07-10T11:51:20.179Z"
   },
   {
    "duration": 10,
    "start_time": "2022-07-10T11:51:20.189Z"
   },
   {
    "duration": 33,
    "start_time": "2022-07-10T11:51:20.200Z"
   },
   {
    "duration": 6,
    "start_time": "2022-07-10T11:51:20.235Z"
   },
   {
    "duration": 11,
    "start_time": "2022-07-10T11:51:20.243Z"
   },
   {
    "duration": 4,
    "start_time": "2022-07-10T11:51:20.257Z"
   },
   {
    "duration": 438,
    "start_time": "2022-07-10T11:51:20.262Z"
   },
   {
    "duration": 4,
    "start_time": "2022-07-10T11:51:20.702Z"
   },
   {
    "duration": 17,
    "start_time": "2022-07-10T11:51:20.708Z"
   },
   {
    "duration": 15,
    "start_time": "2022-07-10T11:51:20.735Z"
   },
   {
    "duration": 154,
    "start_time": "2022-07-10T11:51:20.752Z"
   },
   {
    "duration": 20,
    "start_time": "2022-07-10T11:51:20.908Z"
   },
   {
    "duration": 168,
    "start_time": "2022-07-10T11:51:20.929Z"
   },
   {
    "duration": 10,
    "start_time": "2022-07-10T11:51:21.098Z"
   },
   {
    "duration": 176,
    "start_time": "2022-07-10T11:51:21.110Z"
   },
   {
    "duration": 9,
    "start_time": "2022-07-10T11:51:21.288Z"
   },
   {
    "duration": 264,
    "start_time": "2022-07-10T11:51:21.299Z"
   },
   {
    "duration": 8,
    "start_time": "2022-07-10T11:51:21.565Z"
   },
   {
    "duration": 170,
    "start_time": "2022-07-10T11:51:21.575Z"
   },
   {
    "duration": 158,
    "start_time": "2022-07-10T11:51:21.747Z"
   },
   {
    "duration": 433,
    "start_time": "2022-07-10T11:51:21.906Z"
   },
   {
    "duration": 10,
    "start_time": "2022-07-10T11:51:22.341Z"
   },
   {
    "duration": 159,
    "start_time": "2022-07-10T11:51:22.352Z"
   },
   {
    "duration": 272,
    "start_time": "2022-07-10T11:51:22.513Z"
   },
   {
    "duration": 11,
    "start_time": "2022-07-10T11:51:22.787Z"
   },
   {
    "duration": 176,
    "start_time": "2022-07-10T11:51:22.799Z"
   },
   {
    "duration": 305,
    "start_time": "2022-07-10T11:51:22.977Z"
   },
   {
    "duration": 11,
    "start_time": "2022-07-10T11:51:23.284Z"
   },
   {
    "duration": 263,
    "start_time": "2022-07-10T11:51:23.297Z"
   },
   {
    "duration": 187,
    "start_time": "2022-07-10T11:51:23.562Z"
   },
   {
    "duration": 167,
    "start_time": "2022-07-10T11:51:23.750Z"
   },
   {
    "duration": 213,
    "start_time": "2022-07-10T11:51:23.919Z"
   },
   {
    "duration": 187,
    "start_time": "2022-07-10T11:51:24.138Z"
   },
   {
    "duration": 183,
    "start_time": "2022-07-10T11:51:24.327Z"
   },
   {
    "duration": 177,
    "start_time": "2022-07-10T11:51:24.512Z"
   },
   {
    "duration": 290,
    "start_time": "2022-07-10T11:51:24.692Z"
   },
   {
    "duration": 155,
    "start_time": "2022-07-10T11:51:24.984Z"
   },
   {
    "duration": 14,
    "start_time": "2022-07-10T11:51:25.141Z"
   },
   {
    "duration": 31,
    "start_time": "2022-07-10T11:51:25.156Z"
   },
   {
    "duration": 7,
    "start_time": "2022-07-10T11:51:25.189Z"
   },
   {
    "duration": 289,
    "start_time": "2022-07-10T11:51:25.198Z"
   },
   {
    "duration": 62,
    "start_time": "2022-07-10T12:03:45.859Z"
   },
   {
    "duration": 3,
    "start_time": "2022-07-10T12:07:04.969Z"
   },
   {
    "duration": 124,
    "start_time": "2022-07-10T12:07:04.974Z"
   },
   {
    "duration": 32,
    "start_time": "2022-07-10T12:07:05.100Z"
   },
   {
    "duration": 2182,
    "start_time": "2022-07-10T12:07:05.138Z"
   },
   {
    "duration": 19,
    "start_time": "2022-07-10T12:07:07.322Z"
   },
   {
    "duration": 14,
    "start_time": "2022-07-10T12:07:07.343Z"
   },
   {
    "duration": 14,
    "start_time": "2022-07-10T12:07:07.359Z"
   },
   {
    "duration": 5,
    "start_time": "2022-07-10T12:07:07.374Z"
   },
   {
    "duration": 9,
    "start_time": "2022-07-10T12:07:07.381Z"
   },
   {
    "duration": 13,
    "start_time": "2022-07-10T12:07:07.391Z"
   },
   {
    "duration": 2,
    "start_time": "2022-07-10T12:07:07.406Z"
   },
   {
    "duration": 28,
    "start_time": "2022-07-10T12:07:07.410Z"
   },
   {
    "duration": 8,
    "start_time": "2022-07-10T12:07:07.440Z"
   },
   {
    "duration": 27,
    "start_time": "2022-07-10T12:07:07.450Z"
   },
   {
    "duration": 55,
    "start_time": "2022-07-10T12:07:07.479Z"
   },
   {
    "duration": 28,
    "start_time": "2022-07-10T12:07:07.536Z"
   },
   {
    "duration": 208,
    "start_time": "2022-07-10T12:07:07.566Z"
   },
   {
    "duration": 8,
    "start_time": "2022-07-10T12:07:07.776Z"
   },
   {
    "duration": 12,
    "start_time": "2022-07-10T12:07:07.785Z"
   },
   {
    "duration": 21,
    "start_time": "2022-07-10T12:07:07.799Z"
   },
   {
    "duration": 20,
    "start_time": "2022-07-10T12:07:07.821Z"
   },
   {
    "duration": 9,
    "start_time": "2022-07-10T12:07:07.842Z"
   },
   {
    "duration": 14,
    "start_time": "2022-07-10T12:07:07.853Z"
   },
   {
    "duration": 10,
    "start_time": "2022-07-10T12:07:07.868Z"
   },
   {
    "duration": 8,
    "start_time": "2022-07-10T12:07:07.880Z"
   },
   {
    "duration": 445,
    "start_time": "2022-07-10T12:07:07.892Z"
   },
   {
    "duration": 5,
    "start_time": "2022-07-10T12:07:08.338Z"
   },
   {
    "duration": 15,
    "start_time": "2022-07-10T12:07:08.344Z"
   },
   {
    "duration": 12,
    "start_time": "2022-07-10T12:07:08.361Z"
   },
   {
    "duration": 167,
    "start_time": "2022-07-10T12:07:08.374Z"
   },
   {
    "duration": 11,
    "start_time": "2022-07-10T12:07:08.543Z"
   },
   {
    "duration": 203,
    "start_time": "2022-07-10T12:07:08.556Z"
   },
   {
    "duration": 10,
    "start_time": "2022-07-10T12:07:08.761Z"
   },
   {
    "duration": 183,
    "start_time": "2022-07-10T12:07:08.773Z"
   },
   {
    "duration": 12,
    "start_time": "2022-07-10T12:07:08.958Z"
   },
   {
    "duration": 331,
    "start_time": "2022-07-10T12:07:08.972Z"
   },
   {
    "duration": 19,
    "start_time": "2022-07-10T12:07:09.305Z"
   },
   {
    "duration": 172,
    "start_time": "2022-07-10T12:07:09.331Z"
   },
   {
    "duration": 180,
    "start_time": "2022-07-10T12:07:09.505Z"
   },
   {
    "duration": 442,
    "start_time": "2022-07-10T12:07:09.686Z"
   },
   {
    "duration": 12,
    "start_time": "2022-07-10T12:07:10.130Z"
   },
   {
    "duration": 281,
    "start_time": "2022-07-10T12:07:10.144Z"
   },
   {
    "duration": 140,
    "start_time": "2022-07-10T12:07:10.427Z"
   },
   {
    "duration": 10,
    "start_time": "2022-07-10T12:07:10.570Z"
   },
   {
    "duration": 191,
    "start_time": "2022-07-10T12:07:10.582Z"
   },
   {
    "duration": 310,
    "start_time": "2022-07-10T12:07:10.775Z"
   },
   {
    "duration": 10,
    "start_time": "2022-07-10T12:07:11.087Z"
   },
   {
    "duration": 261,
    "start_time": "2022-07-10T12:07:11.098Z"
   },
   {
    "duration": 193,
    "start_time": "2022-07-10T12:07:11.361Z"
   },
   {
    "duration": 193,
    "start_time": "2022-07-10T12:07:11.556Z"
   },
   {
    "duration": 210,
    "start_time": "2022-07-10T12:07:11.751Z"
   },
   {
    "duration": 208,
    "start_time": "2022-07-10T12:07:11.963Z"
   },
   {
    "duration": 174,
    "start_time": "2022-07-10T12:07:12.173Z"
   },
   {
    "duration": 290,
    "start_time": "2022-07-10T12:07:12.349Z"
   },
   {
    "duration": 180,
    "start_time": "2022-07-10T12:07:12.641Z"
   },
   {
    "duration": 156,
    "start_time": "2022-07-10T12:07:12.829Z"
   },
   {
    "duration": 20,
    "start_time": "2022-07-10T12:07:12.987Z"
   },
   {
    "duration": 42,
    "start_time": "2022-07-10T12:07:13.010Z"
   },
   {
    "duration": 9,
    "start_time": "2022-07-10T12:07:13.054Z"
   },
   {
    "duration": 327,
    "start_time": "2022-07-10T12:07:13.064Z"
   },
   {
    "duration": 8,
    "start_time": "2022-07-10T12:07:46.600Z"
   },
   {
    "duration": 10,
    "start_time": "2022-07-10T12:08:01.120Z"
   },
   {
    "duration": 8,
    "start_time": "2022-07-10T12:10:26.714Z"
   },
   {
    "duration": 7,
    "start_time": "2022-07-10T12:10:42.709Z"
   },
   {
    "duration": 6,
    "start_time": "2022-07-10T12:11:06.600Z"
   },
   {
    "duration": 9,
    "start_time": "2022-07-10T12:11:17.001Z"
   },
   {
    "duration": 17,
    "start_time": "2022-07-10T12:11:53.480Z"
   },
   {
    "duration": 48,
    "start_time": "2022-07-10T12:11:59.720Z"
   },
   {
    "duration": 3,
    "start_time": "2022-07-10T12:13:39.900Z"
   },
   {
    "duration": 131,
    "start_time": "2022-07-10T12:13:39.906Z"
   },
   {
    "duration": 16,
    "start_time": "2022-07-10T12:13:40.039Z"
   },
   {
    "duration": 2269,
    "start_time": "2022-07-10T12:13:40.057Z"
   },
   {
    "duration": 14,
    "start_time": "2022-07-10T12:13:42.336Z"
   },
   {
    "duration": 5,
    "start_time": "2022-07-10T12:13:42.351Z"
   },
   {
    "duration": 8,
    "start_time": "2022-07-10T12:13:42.358Z"
   },
   {
    "duration": 6,
    "start_time": "2022-07-10T12:13:42.368Z"
   },
   {
    "duration": 8,
    "start_time": "2022-07-10T12:13:42.376Z"
   },
   {
    "duration": 19,
    "start_time": "2022-07-10T12:13:42.385Z"
   },
   {
    "duration": 18,
    "start_time": "2022-07-10T12:13:42.406Z"
   },
   {
    "duration": 21,
    "start_time": "2022-07-10T12:13:42.427Z"
   },
   {
    "duration": 10,
    "start_time": "2022-07-10T12:13:42.449Z"
   },
   {
    "duration": 29,
    "start_time": "2022-07-10T12:13:42.461Z"
   },
   {
    "duration": 42,
    "start_time": "2022-07-10T12:13:42.492Z"
   },
   {
    "duration": 3,
    "start_time": "2022-07-10T12:13:42.539Z"
   },
   {
    "duration": 205,
    "start_time": "2022-07-10T12:13:42.544Z"
   },
   {
    "duration": 13,
    "start_time": "2022-07-10T12:13:42.751Z"
   },
   {
    "duration": 18,
    "start_time": "2022-07-10T12:13:42.766Z"
   },
   {
    "duration": 3,
    "start_time": "2022-07-10T12:13:42.786Z"
   },
   {
    "duration": 41,
    "start_time": "2022-07-10T12:13:42.790Z"
   },
   {
    "duration": 9,
    "start_time": "2022-07-10T12:13:42.832Z"
   },
   {
    "duration": 12,
    "start_time": "2022-07-10T12:13:42.843Z"
   },
   {
    "duration": 29,
    "start_time": "2022-07-10T12:13:42.856Z"
   },
   {
    "duration": 24,
    "start_time": "2022-07-10T12:13:42.890Z"
   },
   {
    "duration": 5,
    "start_time": "2022-07-10T12:13:42.917Z"
   },
   {
    "duration": 305,
    "start_time": "2022-07-10T12:13:42.924Z"
   },
   {
    "duration": 9,
    "start_time": "2022-07-10T12:13:43.232Z"
   },
   {
    "duration": 7,
    "start_time": "2022-07-10T12:13:43.245Z"
   },
   {
    "duration": 13,
    "start_time": "2022-07-10T12:13:43.254Z"
   },
   {
    "duration": 206,
    "start_time": "2022-07-10T12:13:43.269Z"
   },
   {
    "duration": 10,
    "start_time": "2022-07-10T12:13:43.477Z"
   },
   {
    "duration": 165,
    "start_time": "2022-07-10T12:13:43.489Z"
   },
   {
    "duration": 10,
    "start_time": "2022-07-10T12:13:43.655Z"
   },
   {
    "duration": 180,
    "start_time": "2022-07-10T12:13:43.667Z"
   },
   {
    "duration": 10,
    "start_time": "2022-07-10T12:13:43.848Z"
   },
   {
    "duration": 431,
    "start_time": "2022-07-10T12:13:43.859Z"
   },
   {
    "duration": 9,
    "start_time": "2022-07-10T12:13:44.292Z"
   },
   {
    "duration": 183,
    "start_time": "2022-07-10T12:13:44.302Z"
   },
   {
    "duration": 192,
    "start_time": "2022-07-10T12:13:44.487Z"
   },
   {
    "duration": 458,
    "start_time": "2022-07-10T12:13:44.682Z"
   },
   {
    "duration": 11,
    "start_time": "2022-07-10T12:13:45.142Z"
   },
   {
    "duration": 161,
    "start_time": "2022-07-10T12:13:45.155Z"
   },
   {
    "duration": 138,
    "start_time": "2022-07-10T12:13:45.318Z"
   },
   {
    "duration": 10,
    "start_time": "2022-07-10T12:13:45.458Z"
   },
   {
    "duration": 169,
    "start_time": "2022-07-10T12:13:45.470Z"
   },
   {
    "duration": 401,
    "start_time": "2022-07-10T12:13:45.641Z"
   },
   {
    "duration": 9,
    "start_time": "2022-07-10T12:13:46.044Z"
   },
   {
    "duration": 267,
    "start_time": "2022-07-10T12:13:46.054Z"
   },
   {
    "duration": 176,
    "start_time": "2022-07-10T12:13:46.324Z"
   },
   {
    "duration": 173,
    "start_time": "2022-07-10T12:13:46.502Z"
   },
   {
    "duration": 204,
    "start_time": "2022-07-10T12:13:46.677Z"
   },
   {
    "duration": 200,
    "start_time": "2022-07-10T12:13:46.882Z"
   },
   {
    "duration": 158,
    "start_time": "2022-07-10T12:13:47.084Z"
   },
   {
    "duration": 132,
    "start_time": "2022-07-10T12:13:47.245Z"
   },
   {
    "duration": 167,
    "start_time": "2022-07-10T12:13:47.379Z"
   },
   {
    "duration": 147,
    "start_time": "2022-07-10T12:13:47.548Z"
   },
   {
    "duration": 30,
    "start_time": "2022-07-10T12:13:47.697Z"
   },
   {
    "duration": 27,
    "start_time": "2022-07-10T12:13:47.732Z"
   },
   {
    "duration": 7,
    "start_time": "2022-07-10T12:13:47.761Z"
   },
   {
    "duration": 284,
    "start_time": "2022-07-10T12:13:47.769Z"
   },
   {
    "duration": 6,
    "start_time": "2022-07-10T12:18:37.177Z"
   },
   {
    "duration": 3,
    "start_time": "2022-07-10T12:19:08.194Z"
   },
   {
    "duration": 111,
    "start_time": "2022-07-10T12:19:08.199Z"
   },
   {
    "duration": 21,
    "start_time": "2022-07-10T12:19:08.312Z"
   },
   {
    "duration": 2326,
    "start_time": "2022-07-10T12:19:08.335Z"
   },
   {
    "duration": 11,
    "start_time": "2022-07-10T12:19:10.663Z"
   },
   {
    "duration": 10,
    "start_time": "2022-07-10T12:19:10.676Z"
   },
   {
    "duration": 10,
    "start_time": "2022-07-10T12:19:10.688Z"
   },
   {
    "duration": 24,
    "start_time": "2022-07-10T12:19:10.699Z"
   },
   {
    "duration": 8,
    "start_time": "2022-07-10T12:19:10.725Z"
   },
   {
    "duration": 23,
    "start_time": "2022-07-10T12:19:10.734Z"
   },
   {
    "duration": 24,
    "start_time": "2022-07-10T12:19:10.759Z"
   },
   {
    "duration": 38,
    "start_time": "2022-07-10T12:19:10.785Z"
   },
   {
    "duration": 34,
    "start_time": "2022-07-10T12:19:10.825Z"
   },
   {
    "duration": 48,
    "start_time": "2022-07-10T12:19:10.862Z"
   },
   {
    "duration": 175,
    "start_time": "2022-07-10T12:19:10.912Z"
   },
   {
    "duration": 3,
    "start_time": "2022-07-10T12:19:11.089Z"
   },
   {
    "duration": 220,
    "start_time": "2022-07-10T12:19:11.094Z"
   },
   {
    "duration": 7,
    "start_time": "2022-07-10T12:19:11.315Z"
   },
   {
    "duration": 22,
    "start_time": "2022-07-10T12:19:11.324Z"
   },
   {
    "duration": 28,
    "start_time": "2022-07-10T12:19:11.347Z"
   },
   {
    "duration": 17,
    "start_time": "2022-07-10T12:19:11.377Z"
   },
   {
    "duration": 30,
    "start_time": "2022-07-10T12:19:11.396Z"
   },
   {
    "duration": 28,
    "start_time": "2022-07-10T12:19:11.428Z"
   },
   {
    "duration": 21,
    "start_time": "2022-07-10T12:19:11.458Z"
   },
   {
    "duration": 29,
    "start_time": "2022-07-10T12:19:11.481Z"
   },
   {
    "duration": 11,
    "start_time": "2022-07-10T12:19:11.512Z"
   },
   {
    "duration": 325,
    "start_time": "2022-07-10T12:19:11.526Z"
   },
   {
    "duration": 4,
    "start_time": "2022-07-10T12:19:11.853Z"
   },
   {
    "duration": 32,
    "start_time": "2022-07-10T12:19:11.858Z"
   },
   {
    "duration": 27,
    "start_time": "2022-07-10T12:19:11.892Z"
   },
   {
    "duration": 199,
    "start_time": "2022-07-10T12:19:11.921Z"
   },
   {
    "duration": 10,
    "start_time": "2022-07-10T12:19:12.122Z"
   },
   {
    "duration": 172,
    "start_time": "2022-07-10T12:19:12.135Z"
   },
   {
    "duration": 18,
    "start_time": "2022-07-10T12:19:12.308Z"
   },
   {
    "duration": 180,
    "start_time": "2022-07-10T12:19:12.328Z"
   },
   {
    "duration": 19,
    "start_time": "2022-07-10T12:19:12.511Z"
   },
   {
    "duration": 285,
    "start_time": "2022-07-10T12:19:12.532Z"
   },
   {
    "duration": 15,
    "start_time": "2022-07-10T12:19:12.819Z"
   },
   {
    "duration": 210,
    "start_time": "2022-07-10T12:19:12.836Z"
   },
   {
    "duration": 159,
    "start_time": "2022-07-10T12:19:13.049Z"
   },
   {
    "duration": 545,
    "start_time": "2022-07-10T12:19:13.212Z"
   },
   {
    "duration": 11,
    "start_time": "2022-07-10T12:19:13.758Z"
   },
   {
    "duration": 167,
    "start_time": "2022-07-10T12:19:13.770Z"
   },
   {
    "duration": 138,
    "start_time": "2022-07-10T12:19:13.939Z"
   },
   {
    "duration": 8,
    "start_time": "2022-07-10T12:19:14.079Z"
   },
   {
    "duration": 156,
    "start_time": "2022-07-10T12:19:14.089Z"
   },
   {
    "duration": 318,
    "start_time": "2022-07-10T12:19:14.247Z"
   },
   {
    "duration": 11,
    "start_time": "2022-07-10T12:19:14.567Z"
   },
   {
    "duration": 275,
    "start_time": "2022-07-10T12:19:14.580Z"
   },
   {
    "duration": 180,
    "start_time": "2022-07-10T12:19:14.857Z"
   },
   {
    "duration": 175,
    "start_time": "2022-07-10T12:19:15.038Z"
   },
   {
    "duration": 183,
    "start_time": "2022-07-10T12:19:15.214Z"
   },
   {
    "duration": 303,
    "start_time": "2022-07-10T12:19:15.399Z"
   },
   {
    "duration": 143,
    "start_time": "2022-07-10T12:19:15.705Z"
   },
   {
    "duration": 134,
    "start_time": "2022-07-10T12:19:15.850Z"
   },
   {
    "duration": 169,
    "start_time": "2022-07-10T12:19:15.986Z"
   },
   {
    "duration": 144,
    "start_time": "2022-07-10T12:19:16.156Z"
   },
   {
    "duration": 26,
    "start_time": "2022-07-10T12:19:16.302Z"
   },
   {
    "duration": 34,
    "start_time": "2022-07-10T12:19:16.330Z"
   },
   {
    "duration": 9,
    "start_time": "2022-07-10T12:19:16.366Z"
   },
   {
    "duration": 293,
    "start_time": "2022-07-10T12:19:16.377Z"
   },
   {
    "duration": 9,
    "start_time": "2022-07-10T12:19:55.270Z"
   },
   {
    "duration": 4,
    "start_time": "2022-07-10T12:20:25.922Z"
   },
   {
    "duration": 126,
    "start_time": "2022-07-10T12:20:25.940Z"
   },
   {
    "duration": 16,
    "start_time": "2022-07-10T12:20:26.068Z"
   },
   {
    "duration": 2294,
    "start_time": "2022-07-10T12:20:26.085Z"
   },
   {
    "duration": 12,
    "start_time": "2022-07-10T12:20:28.380Z"
   },
   {
    "duration": 6,
    "start_time": "2022-07-10T12:20:28.394Z"
   },
   {
    "duration": 24,
    "start_time": "2022-07-10T12:20:28.402Z"
   },
   {
    "duration": 20,
    "start_time": "2022-07-10T12:20:28.429Z"
   },
   {
    "duration": 13,
    "start_time": "2022-07-10T12:20:28.452Z"
   },
   {
    "duration": 18,
    "start_time": "2022-07-10T12:20:28.467Z"
   },
   {
    "duration": 5,
    "start_time": "2022-07-10T12:20:28.487Z"
   },
   {
    "duration": 11,
    "start_time": "2022-07-10T12:20:28.494Z"
   },
   {
    "duration": 12,
    "start_time": "2022-07-10T12:20:28.507Z"
   },
   {
    "duration": 44,
    "start_time": "2022-07-10T12:20:28.521Z"
   },
   {
    "duration": 36,
    "start_time": "2022-07-10T12:20:28.568Z"
   },
   {
    "duration": 4,
    "start_time": "2022-07-10T12:20:28.623Z"
   },
   {
    "duration": 239,
    "start_time": "2022-07-10T12:20:28.629Z"
   },
   {
    "duration": 6,
    "start_time": "2022-07-10T12:20:46.996Z"
   },
   {
    "duration": 9,
    "start_time": "2022-07-10T12:20:57.669Z"
   },
   {
    "duration": 3,
    "start_time": "2022-07-10T12:21:08.406Z"
   },
   {
    "duration": 155,
    "start_time": "2022-07-10T12:21:08.411Z"
   },
   {
    "duration": 17,
    "start_time": "2022-07-10T12:21:08.568Z"
   },
   {
    "duration": 2578,
    "start_time": "2022-07-10T12:21:08.587Z"
   },
   {
    "duration": 13,
    "start_time": "2022-07-10T12:21:11.168Z"
   },
   {
    "duration": 11,
    "start_time": "2022-07-10T12:21:11.182Z"
   },
   {
    "duration": 13,
    "start_time": "2022-07-10T12:21:11.196Z"
   },
   {
    "duration": 14,
    "start_time": "2022-07-10T12:21:11.212Z"
   },
   {
    "duration": 31,
    "start_time": "2022-07-10T12:21:11.227Z"
   },
   {
    "duration": 19,
    "start_time": "2022-07-10T12:21:11.260Z"
   },
   {
    "duration": 3,
    "start_time": "2022-07-10T12:21:11.283Z"
   },
   {
    "duration": 20,
    "start_time": "2022-07-10T12:21:11.287Z"
   },
   {
    "duration": 11,
    "start_time": "2022-07-10T12:21:11.310Z"
   },
   {
    "duration": 48,
    "start_time": "2022-07-10T12:21:11.323Z"
   },
   {
    "duration": 35,
    "start_time": "2022-07-10T12:21:11.373Z"
   },
   {
    "duration": 4,
    "start_time": "2022-07-10T12:21:11.424Z"
   },
   {
    "duration": 254,
    "start_time": "2022-07-10T12:21:11.429Z"
   },
   {
    "duration": 3,
    "start_time": "2022-07-10T12:21:11.685Z"
   },
   {
    "duration": 12,
    "start_time": "2022-07-10T12:21:11.690Z"
   },
   {
    "duration": 22,
    "start_time": "2022-07-10T12:21:11.704Z"
   },
   {
    "duration": 27,
    "start_time": "2022-07-10T12:21:11.728Z"
   },
   {
    "duration": 7,
    "start_time": "2022-07-10T12:21:11.757Z"
   },
   {
    "duration": 15,
    "start_time": "2022-07-10T12:21:11.766Z"
   },
   {
    "duration": 8,
    "start_time": "2022-07-10T12:21:11.783Z"
   },
   {
    "duration": 12,
    "start_time": "2022-07-10T12:21:11.793Z"
   },
   {
    "duration": 16,
    "start_time": "2022-07-10T12:21:11.808Z"
   },
   {
    "duration": 354,
    "start_time": "2022-07-10T12:21:11.826Z"
   },
   {
    "duration": 5,
    "start_time": "2022-07-10T12:21:12.182Z"
   },
   {
    "duration": 12,
    "start_time": "2022-07-10T12:21:12.191Z"
   },
   {
    "duration": 19,
    "start_time": "2022-07-10T12:21:12.205Z"
   },
   {
    "duration": 191,
    "start_time": "2022-07-10T12:21:12.227Z"
   },
   {
    "duration": 14,
    "start_time": "2022-07-10T12:21:12.423Z"
   },
   {
    "duration": 381,
    "start_time": "2022-07-10T12:21:12.439Z"
   },
   {
    "duration": 14,
    "start_time": "2022-07-10T12:21:12.823Z"
   },
   {
    "duration": 223,
    "start_time": "2022-07-10T12:21:12.839Z"
   },
   {
    "duration": 11,
    "start_time": "2022-07-10T12:21:13.064Z"
   },
   {
    "duration": 353,
    "start_time": "2022-07-10T12:21:13.077Z"
   },
   {
    "duration": 12,
    "start_time": "2022-07-10T12:21:13.432Z"
   },
   {
    "duration": 187,
    "start_time": "2022-07-10T12:21:13.446Z"
   },
   {
    "duration": 156,
    "start_time": "2022-07-10T12:21:13.635Z"
   },
   {
    "duration": 453,
    "start_time": "2022-07-10T12:21:13.792Z"
   },
   {
    "duration": 10,
    "start_time": "2022-07-10T12:21:14.247Z"
   },
   {
    "duration": 180,
    "start_time": "2022-07-10T12:21:14.258Z"
   },
   {
    "duration": 176,
    "start_time": "2022-07-10T12:21:14.441Z"
   },
   {
    "duration": 19,
    "start_time": "2022-07-10T12:21:14.622Z"
   },
   {
    "duration": 327,
    "start_time": "2022-07-10T12:21:14.644Z"
   },
   {
    "duration": 288,
    "start_time": "2022-07-10T12:21:14.973Z"
   },
   {
    "duration": 10,
    "start_time": "2022-07-10T12:21:15.263Z"
   },
   {
    "duration": 276,
    "start_time": "2022-07-10T12:21:15.275Z"
   },
   {
    "duration": 193,
    "start_time": "2022-07-10T12:21:15.553Z"
   },
   {
    "duration": 172,
    "start_time": "2022-07-10T12:21:15.748Z"
   },
   {
    "duration": 224,
    "start_time": "2022-07-10T12:21:15.922Z"
   },
   {
    "duration": 198,
    "start_time": "2022-07-10T12:21:16.148Z"
   },
   {
    "duration": 154,
    "start_time": "2022-07-10T12:21:16.347Z"
   },
   {
    "duration": 151,
    "start_time": "2022-07-10T12:21:16.503Z"
   },
   {
    "duration": 170,
    "start_time": "2022-07-10T12:21:16.656Z"
   },
   {
    "duration": 265,
    "start_time": "2022-07-10T12:21:16.833Z"
   },
   {
    "duration": 25,
    "start_time": "2022-07-10T12:21:17.100Z"
   },
   {
    "duration": 29,
    "start_time": "2022-07-10T12:21:17.128Z"
   },
   {
    "duration": 8,
    "start_time": "2022-07-10T12:21:17.158Z"
   },
   {
    "duration": 313,
    "start_time": "2022-07-10T12:21:17.168Z"
   },
   {
    "duration": 50,
    "start_time": "2022-07-10T12:21:49.407Z"
   },
   {
    "duration": 8,
    "start_time": "2022-07-10T12:23:46.177Z"
   },
   {
    "duration": 3,
    "start_time": "2022-07-10T12:26:46.626Z"
   },
   {
    "duration": 111,
    "start_time": "2022-07-10T12:26:46.631Z"
   },
   {
    "duration": 14,
    "start_time": "2022-07-10T12:26:46.744Z"
   },
   {
    "duration": 2101,
    "start_time": "2022-07-10T12:26:46.760Z"
   },
   {
    "duration": 11,
    "start_time": "2022-07-10T12:26:48.863Z"
   },
   {
    "duration": 12,
    "start_time": "2022-07-10T12:26:48.876Z"
   },
   {
    "duration": 6,
    "start_time": "2022-07-10T12:26:48.890Z"
   },
   {
    "duration": 5,
    "start_time": "2022-07-10T12:26:48.898Z"
   },
   {
    "duration": 21,
    "start_time": "2022-07-10T12:26:48.905Z"
   },
   {
    "duration": 12,
    "start_time": "2022-07-10T12:26:48.927Z"
   },
   {
    "duration": 3,
    "start_time": "2022-07-10T12:26:48.941Z"
   },
   {
    "duration": 9,
    "start_time": "2022-07-10T12:26:48.946Z"
   },
   {
    "duration": 9,
    "start_time": "2022-07-10T12:26:48.956Z"
   },
   {
    "duration": 25,
    "start_time": "2022-07-10T12:26:48.967Z"
   },
   {
    "duration": 18,
    "start_time": "2022-07-10T12:26:49.026Z"
   },
   {
    "duration": 14,
    "start_time": "2022-07-10T12:26:49.052Z"
   },
   {
    "duration": 211,
    "start_time": "2022-07-10T12:26:49.068Z"
   },
   {
    "duration": 6,
    "start_time": "2022-07-10T12:26:52.484Z"
   },
   {
    "duration": 7,
    "start_time": "2022-07-10T12:27:20.695Z"
   },
   {
    "duration": 16,
    "start_time": "2022-07-10T12:27:39.442Z"
   },
   {
    "duration": 27,
    "start_time": "2022-07-10T12:27:42.538Z"
   },
   {
    "duration": 3,
    "start_time": "2022-07-10T12:27:52.525Z"
   },
   {
    "duration": 126,
    "start_time": "2022-07-10T12:27:52.531Z"
   },
   {
    "duration": 17,
    "start_time": "2022-07-10T12:27:52.659Z"
   },
   {
    "duration": 2687,
    "start_time": "2022-07-10T12:27:52.678Z"
   },
   {
    "duration": 16,
    "start_time": "2022-07-10T12:27:55.368Z"
   },
   {
    "duration": 12,
    "start_time": "2022-07-10T12:27:55.386Z"
   },
   {
    "duration": 7,
    "start_time": "2022-07-10T12:27:55.400Z"
   },
   {
    "duration": 14,
    "start_time": "2022-07-10T12:27:55.425Z"
   },
   {
    "duration": 11,
    "start_time": "2022-07-10T12:27:55.441Z"
   },
   {
    "duration": 13,
    "start_time": "2022-07-10T12:27:55.454Z"
   },
   {
    "duration": 2,
    "start_time": "2022-07-10T12:27:55.469Z"
   },
   {
    "duration": 14,
    "start_time": "2022-07-10T12:27:55.473Z"
   },
   {
    "duration": 10,
    "start_time": "2022-07-10T12:27:55.491Z"
   },
   {
    "duration": 47,
    "start_time": "2022-07-10T12:27:55.503Z"
   },
   {
    "duration": 39,
    "start_time": "2022-07-10T12:27:55.552Z"
   },
   {
    "duration": 4,
    "start_time": "2022-07-10T12:27:55.592Z"
   },
   {
    "duration": 243,
    "start_time": "2022-07-10T12:27:55.597Z"
   },
   {
    "duration": 6,
    "start_time": "2022-07-10T12:27:55.843Z"
   },
   {
    "duration": 5,
    "start_time": "2022-07-10T12:27:55.851Z"
   },
   {
    "duration": 15,
    "start_time": "2022-07-10T12:27:55.858Z"
   },
   {
    "duration": 4,
    "start_time": "2022-07-10T12:27:55.875Z"
   },
   {
    "duration": 21,
    "start_time": "2022-07-10T12:27:55.880Z"
   },
   {
    "duration": 7,
    "start_time": "2022-07-10T12:27:55.903Z"
   },
   {
    "duration": 15,
    "start_time": "2022-07-10T12:27:55.924Z"
   },
   {
    "duration": 18,
    "start_time": "2022-07-10T12:27:55.945Z"
   },
   {
    "duration": 311,
    "start_time": "2022-07-10T12:27:55.965Z"
   },
   {
    "duration": 5,
    "start_time": "2022-07-10T12:27:56.279Z"
   },
   {
    "duration": 10,
    "start_time": "2022-07-10T12:27:56.286Z"
   },
   {
    "duration": 12,
    "start_time": "2022-07-10T12:27:56.298Z"
   },
   {
    "duration": 177,
    "start_time": "2022-07-10T12:27:56.324Z"
   },
   {
    "duration": 27,
    "start_time": "2022-07-10T12:27:56.503Z"
   },
   {
    "duration": 154,
    "start_time": "2022-07-10T12:27:56.535Z"
   },
   {
    "duration": 9,
    "start_time": "2022-07-10T12:27:56.692Z"
   },
   {
    "duration": 173,
    "start_time": "2022-07-10T12:27:56.703Z"
   },
   {
    "duration": 9,
    "start_time": "2022-07-10T12:27:56.878Z"
   },
   {
    "duration": 281,
    "start_time": "2022-07-10T12:27:56.889Z"
   },
   {
    "duration": 14,
    "start_time": "2022-07-10T12:27:57.175Z"
   },
   {
    "duration": 355,
    "start_time": "2022-07-10T12:27:57.191Z"
   },
   {
    "duration": 163,
    "start_time": "2022-07-10T12:27:57.548Z"
   },
   {
    "duration": 451,
    "start_time": "2022-07-10T12:27:57.712Z"
   },
   {
    "duration": 10,
    "start_time": "2022-07-10T12:27:58.165Z"
   },
   {
    "duration": 172,
    "start_time": "2022-07-10T12:27:58.176Z"
   },
   {
    "duration": 137,
    "start_time": "2022-07-10T12:27:58.350Z"
   },
   {
    "duration": 11,
    "start_time": "2022-07-10T12:27:58.489Z"
   },
   {
    "duration": 164,
    "start_time": "2022-07-10T12:27:58.501Z"
   },
   {
    "duration": 306,
    "start_time": "2022-07-10T12:27:58.667Z"
   },
   {
    "duration": 10,
    "start_time": "2022-07-10T12:27:58.976Z"
   },
   {
    "duration": 257,
    "start_time": "2022-07-10T12:27:58.988Z"
   },
   {
    "duration": 307,
    "start_time": "2022-07-10T12:27:59.247Z"
   },
   {
    "duration": 161,
    "start_time": "2022-07-10T12:27:59.556Z"
   },
   {
    "duration": 199,
    "start_time": "2022-07-10T12:27:59.724Z"
   },
   {
    "duration": 218,
    "start_time": "2022-07-10T12:27:59.926Z"
   },
   {
    "duration": 160,
    "start_time": "2022-07-10T12:28:00.146Z"
   },
   {
    "duration": 153,
    "start_time": "2022-07-10T12:28:00.308Z"
   },
   {
    "duration": 180,
    "start_time": "2022-07-10T12:28:00.463Z"
   },
   {
    "duration": 135,
    "start_time": "2022-07-10T12:28:00.645Z"
   },
   {
    "duration": 15,
    "start_time": "2022-07-10T12:28:00.781Z"
   },
   {
    "duration": 43,
    "start_time": "2022-07-10T12:28:00.798Z"
   },
   {
    "duration": 10,
    "start_time": "2022-07-10T12:28:00.844Z"
   },
   {
    "duration": 306,
    "start_time": "2022-07-10T12:28:00.855Z"
   },
   {
    "duration": 54,
    "start_time": "2022-07-10T12:31:09.120Z"
   },
   {
    "duration": 628,
    "start_time": "2022-07-11T12:54:44.717Z"
   },
   {
    "duration": 111,
    "start_time": "2022-07-11T12:54:45.347Z"
   },
   {
    "duration": 13,
    "start_time": "2022-07-11T12:54:45.460Z"
   },
   {
    "duration": 2060,
    "start_time": "2022-07-11T12:54:45.474Z"
   },
   {
    "duration": 8,
    "start_time": "2022-07-11T12:54:47.536Z"
   },
   {
    "duration": 5,
    "start_time": "2022-07-11T12:54:47.546Z"
   },
   {
    "duration": 5,
    "start_time": "2022-07-11T12:54:47.552Z"
   },
   {
    "duration": 6,
    "start_time": "2022-07-11T12:54:47.559Z"
   },
   {
    "duration": 6,
    "start_time": "2022-07-11T12:54:47.567Z"
   },
   {
    "duration": 11,
    "start_time": "2022-07-11T12:54:47.575Z"
   },
   {
    "duration": 2,
    "start_time": "2022-07-11T12:54:47.587Z"
   },
   {
    "duration": 10,
    "start_time": "2022-07-11T12:54:47.590Z"
   },
   {
    "duration": 12,
    "start_time": "2022-07-11T12:54:47.601Z"
   },
   {
    "duration": 40,
    "start_time": "2022-07-11T12:54:47.614Z"
   },
   {
    "duration": 27,
    "start_time": "2022-07-11T12:54:47.656Z"
   },
   {
    "duration": 3,
    "start_time": "2022-07-11T12:54:47.685Z"
   },
   {
    "duration": 204,
    "start_time": "2022-07-11T12:54:47.690Z"
   },
   {
    "duration": 6,
    "start_time": "2022-07-11T12:54:47.896Z"
   },
   {
    "duration": 4,
    "start_time": "2022-07-11T12:54:47.904Z"
   },
   {
    "duration": 15,
    "start_time": "2022-07-11T12:54:47.909Z"
   },
   {
    "duration": 5,
    "start_time": "2022-07-11T12:54:47.925Z"
   },
   {
    "duration": 17,
    "start_time": "2022-07-11T12:54:47.931Z"
   },
   {
    "duration": 9,
    "start_time": "2022-07-11T12:54:47.950Z"
   },
   {
    "duration": 6,
    "start_time": "2022-07-11T12:54:47.961Z"
   },
   {
    "duration": 3,
    "start_time": "2022-07-11T12:54:47.968Z"
   },
   {
    "duration": 283,
    "start_time": "2022-07-11T12:54:47.973Z"
   },
   {
    "duration": 4,
    "start_time": "2022-07-11T12:54:48.258Z"
   },
   {
    "duration": 7,
    "start_time": "2022-07-11T12:54:48.265Z"
   },
   {
    "duration": 10,
    "start_time": "2022-07-11T12:54:48.274Z"
   },
   {
    "duration": 169,
    "start_time": "2022-07-11T12:54:48.285Z"
   },
   {
    "duration": 9,
    "start_time": "2022-07-11T12:54:48.456Z"
   },
   {
    "duration": 263,
    "start_time": "2022-07-11T12:54:48.466Z"
   },
   {
    "duration": 9,
    "start_time": "2022-07-11T12:54:48.731Z"
   },
   {
    "duration": 166,
    "start_time": "2022-07-11T12:54:48.753Z"
   },
   {
    "duration": 10,
    "start_time": "2022-07-11T12:54:48.920Z"
   },
   {
    "duration": 267,
    "start_time": "2022-07-11T12:54:48.932Z"
   },
   {
    "duration": 9,
    "start_time": "2022-07-11T12:54:49.201Z"
   },
   {
    "duration": 162,
    "start_time": "2022-07-11T12:54:49.211Z"
   },
   {
    "duration": 149,
    "start_time": "2022-07-11T12:54:49.375Z"
   },
   {
    "duration": 363,
    "start_time": "2022-07-11T12:54:49.526Z"
   },
   {
    "duration": 8,
    "start_time": "2022-07-11T12:54:49.891Z"
   },
   {
    "duration": 132,
    "start_time": "2022-07-11T12:54:49.900Z"
   },
   {
    "duration": 119,
    "start_time": "2022-07-11T12:54:50.033Z"
   },
   {
    "duration": 9,
    "start_time": "2022-07-11T12:54:50.153Z"
   },
   {
    "duration": 222,
    "start_time": "2022-07-11T12:54:50.163Z"
   },
   {
    "duration": 263,
    "start_time": "2022-07-11T12:54:50.386Z"
   },
   {
    "duration": 8,
    "start_time": "2022-07-11T12:54:50.652Z"
   },
   {
    "duration": 228,
    "start_time": "2022-07-11T12:54:50.661Z"
   },
   {
    "duration": 169,
    "start_time": "2022-07-11T12:54:50.890Z"
   },
   {
    "duration": 159,
    "start_time": "2022-07-11T12:54:51.061Z"
   },
   {
    "duration": 197,
    "start_time": "2022-07-11T12:54:51.222Z"
   },
   {
    "duration": 189,
    "start_time": "2022-07-11T12:54:51.421Z"
   },
   {
    "duration": 143,
    "start_time": "2022-07-11T12:54:51.612Z"
   },
   {
    "duration": 127,
    "start_time": "2022-07-11T12:54:51.757Z"
   },
   {
    "duration": 218,
    "start_time": "2022-07-11T12:54:51.886Z"
   },
   {
    "duration": 156,
    "start_time": "2022-07-11T12:54:52.106Z"
   },
   {
    "duration": 18,
    "start_time": "2022-07-11T12:54:52.264Z"
   },
   {
    "duration": 26,
    "start_time": "2022-07-11T12:54:52.284Z"
   },
   {
    "duration": 8,
    "start_time": "2022-07-11T12:54:52.311Z"
   },
   {
    "duration": 319,
    "start_time": "2022-07-11T12:54:52.321Z"
   },
   {
    "duration": 6,
    "start_time": "2022-07-11T13:10:27.361Z"
   },
   {
    "duration": 4,
    "start_time": "2022-07-11T13:10:33.002Z"
   },
   {
    "duration": 637,
    "start_time": "2022-07-11T13:11:10.272Z"
   },
   {
    "duration": 115,
    "start_time": "2022-07-11T13:11:10.911Z"
   },
   {
    "duration": 14,
    "start_time": "2022-07-11T13:11:11.027Z"
   },
   {
    "duration": 1996,
    "start_time": "2022-07-11T13:11:11.052Z"
   },
   {
    "duration": 9,
    "start_time": "2022-07-11T13:11:13.051Z"
   },
   {
    "duration": 5,
    "start_time": "2022-07-11T13:11:13.062Z"
   },
   {
    "duration": 6,
    "start_time": "2022-07-11T13:11:13.069Z"
   },
   {
    "duration": 3,
    "start_time": "2022-07-11T13:11:13.077Z"
   },
   {
    "duration": 6,
    "start_time": "2022-07-11T13:11:13.082Z"
   },
   {
    "duration": 9,
    "start_time": "2022-07-11T13:11:13.090Z"
   },
   {
    "duration": 2,
    "start_time": "2022-07-11T13:11:13.100Z"
   },
   {
    "duration": 19,
    "start_time": "2022-07-11T13:11:13.104Z"
   },
   {
    "duration": 10,
    "start_time": "2022-07-11T13:11:13.124Z"
   },
   {
    "duration": 26,
    "start_time": "2022-07-11T13:11:13.151Z"
   },
   {
    "duration": 29,
    "start_time": "2022-07-11T13:11:13.178Z"
   },
   {
    "duration": 3,
    "start_time": "2022-07-11T13:11:13.209Z"
   },
   {
    "duration": 208,
    "start_time": "2022-07-11T13:11:13.213Z"
   },
   {
    "duration": 7,
    "start_time": "2022-07-11T13:11:13.423Z"
   },
   {
    "duration": 2,
    "start_time": "2022-07-11T13:11:13.431Z"
   },
   {
    "duration": 19,
    "start_time": "2022-07-11T13:11:13.434Z"
   },
   {
    "duration": 4,
    "start_time": "2022-07-11T13:11:13.455Z"
   },
   {
    "duration": 8,
    "start_time": "2022-07-11T13:11:13.461Z"
   },
   {
    "duration": 5,
    "start_time": "2022-07-11T13:11:13.471Z"
   },
   {
    "duration": 5,
    "start_time": "2022-07-11T13:11:13.478Z"
   },
   {
    "duration": 3,
    "start_time": "2022-07-11T13:11:13.485Z"
   },
   {
    "duration": 309,
    "start_time": "2022-07-11T13:11:13.489Z"
   },
   {
    "duration": 4,
    "start_time": "2022-07-11T13:11:13.800Z"
   },
   {
    "duration": 6,
    "start_time": "2022-07-11T13:11:13.806Z"
   },
   {
    "duration": 11,
    "start_time": "2022-07-11T13:11:13.813Z"
   },
   {
    "duration": 174,
    "start_time": "2022-07-11T13:11:13.825Z"
   },
   {
    "duration": 9,
    "start_time": "2022-07-11T13:11:14.000Z"
   },
   {
    "duration": 247,
    "start_time": "2022-07-11T13:11:14.011Z"
   },
   {
    "duration": 9,
    "start_time": "2022-07-11T13:11:14.260Z"
   },
   {
    "duration": 161,
    "start_time": "2022-07-11T13:11:14.271Z"
   },
   {
    "duration": 19,
    "start_time": "2022-07-11T13:11:14.434Z"
   },
   {
    "duration": 253,
    "start_time": "2022-07-11T13:11:14.455Z"
   },
   {
    "duration": 8,
    "start_time": "2022-07-11T13:11:14.710Z"
   },
   {
    "duration": 165,
    "start_time": "2022-07-11T13:11:14.720Z"
   },
   {
    "duration": 158,
    "start_time": "2022-07-11T13:11:14.887Z"
   },
   {
    "duration": 383,
    "start_time": "2022-07-11T13:11:15.052Z"
   },
   {
    "duration": 15,
    "start_time": "2022-07-11T13:11:15.438Z"
   },
   {
    "duration": 134,
    "start_time": "2022-07-11T13:11:15.455Z"
   },
   {
    "duration": 125,
    "start_time": "2022-07-11T13:11:15.591Z"
   },
   {
    "duration": 9,
    "start_time": "2022-07-11T13:11:15.717Z"
   },
   {
    "duration": 225,
    "start_time": "2022-07-11T13:11:15.727Z"
   },
   {
    "duration": 309,
    "start_time": "2022-07-11T13:11:15.954Z"
   },
   {
    "duration": 12,
    "start_time": "2022-07-11T13:11:16.265Z"
   },
   {
    "duration": 241,
    "start_time": "2022-07-11T13:11:16.279Z"
   },
   {
    "duration": 169,
    "start_time": "2022-07-11T13:11:16.522Z"
   },
   {
    "duration": 164,
    "start_time": "2022-07-11T13:11:16.692Z"
   },
   {
    "duration": 201,
    "start_time": "2022-07-11T13:11:16.857Z"
   },
   {
    "duration": 200,
    "start_time": "2022-07-11T13:11:17.059Z"
   },
   {
    "duration": 149,
    "start_time": "2022-07-11T13:11:17.261Z"
   },
   {
    "duration": 127,
    "start_time": "2022-07-11T13:11:17.412Z"
   },
   {
    "duration": 213,
    "start_time": "2022-07-11T13:11:17.541Z"
   },
   {
    "duration": 136,
    "start_time": "2022-07-11T13:11:17.756Z"
   },
   {
    "duration": 15,
    "start_time": "2022-07-11T13:11:17.893Z"
   },
   {
    "duration": 23,
    "start_time": "2022-07-11T13:11:17.909Z"
   },
   {
    "duration": 25,
    "start_time": "2022-07-11T13:11:17.934Z"
   },
   {
    "duration": 262,
    "start_time": "2022-07-11T13:11:17.961Z"
   },
   {
    "duration": 117,
    "start_time": "2022-07-11T13:14:34.018Z"
   },
   {
    "duration": 796,
    "start_time": "2023-04-14T08:50:07.363Z"
   },
   {
    "duration": 262,
    "start_time": "2023-04-14T08:50:08.163Z"
   },
   {
    "duration": 22,
    "start_time": "2023-04-14T08:50:08.427Z"
   },
   {
    "duration": 2561,
    "start_time": "2023-04-14T08:50:08.453Z"
   },
   {
    "duration": 14,
    "start_time": "2023-04-14T08:50:11.016Z"
   },
   {
    "duration": 6,
    "start_time": "2023-04-14T08:50:11.032Z"
   },
   {
    "duration": 11,
    "start_time": "2023-04-14T08:50:11.040Z"
   },
   {
    "duration": 6,
    "start_time": "2023-04-14T08:50:11.053Z"
   },
   {
    "duration": 13,
    "start_time": "2023-04-14T08:50:11.061Z"
   },
   {
    "duration": 17,
    "start_time": "2023-04-14T08:50:11.076Z"
   },
   {
    "duration": 11,
    "start_time": "2023-04-14T08:50:11.095Z"
   },
   {
    "duration": 14,
    "start_time": "2023-04-14T08:50:11.108Z"
   },
   {
    "duration": 16,
    "start_time": "2023-04-14T08:50:11.124Z"
   },
   {
    "duration": 33,
    "start_time": "2023-04-14T08:50:11.142Z"
   },
   {
    "duration": 53,
    "start_time": "2023-04-14T08:50:11.177Z"
   },
   {
    "duration": 4,
    "start_time": "2023-04-14T08:50:11.232Z"
   },
   {
    "duration": 313,
    "start_time": "2023-04-14T08:50:11.238Z"
   },
   {
    "duration": 8,
    "start_time": "2023-04-14T08:50:11.552Z"
   },
   {
    "duration": 39,
    "start_time": "2023-04-14T08:50:11.561Z"
   },
   {
    "duration": 32,
    "start_time": "2023-04-14T08:50:11.605Z"
   },
   {
    "duration": 29,
    "start_time": "2023-04-14T08:50:11.640Z"
   },
   {
    "duration": 26,
    "start_time": "2023-04-14T08:50:11.671Z"
   },
   {
    "duration": 27,
    "start_time": "2023-04-14T08:50:11.699Z"
   },
   {
    "duration": 27,
    "start_time": "2023-04-14T08:50:11.728Z"
   },
   {
    "duration": 9,
    "start_time": "2023-04-14T08:50:11.757Z"
   },
   {
    "duration": 370,
    "start_time": "2023-04-14T08:50:11.768Z"
   },
   {
    "duration": 4,
    "start_time": "2023-04-14T08:50:12.140Z"
   },
   {
    "duration": 8,
    "start_time": "2023-04-14T08:50:12.148Z"
   },
   {
    "duration": 10,
    "start_time": "2023-04-14T08:50:12.157Z"
   },
   {
    "duration": 246,
    "start_time": "2023-04-14T08:50:12.188Z"
   },
   {
    "duration": 14,
    "start_time": "2023-04-14T08:50:12.437Z"
   },
   {
    "duration": 367,
    "start_time": "2023-04-14T08:50:12.453Z"
   },
   {
    "duration": 13,
    "start_time": "2023-04-14T08:50:12.823Z"
   },
   {
    "duration": 199,
    "start_time": "2023-04-14T08:50:12.838Z"
   },
   {
    "duration": 10,
    "start_time": "2023-04-14T08:50:13.039Z"
   },
   {
    "duration": 328,
    "start_time": "2023-04-14T08:50:13.052Z"
   },
   {
    "duration": 18,
    "start_time": "2023-04-14T08:50:13.385Z"
   },
   {
    "duration": 183,
    "start_time": "2023-04-14T08:50:13.409Z"
   },
   {
    "duration": 177,
    "start_time": "2023-04-14T08:50:13.597Z"
   },
   {
    "duration": 558,
    "start_time": "2023-04-14T08:50:13.775Z"
   },
   {
    "duration": 13,
    "start_time": "2023-04-14T08:50:14.336Z"
   },
   {
    "duration": 197,
    "start_time": "2023-04-14T08:50:14.350Z"
   },
   {
    "duration": 153,
    "start_time": "2023-04-14T08:50:14.549Z"
   },
   {
    "duration": 16,
    "start_time": "2023-04-14T08:50:14.706Z"
   },
   {
    "duration": 261,
    "start_time": "2023-04-14T08:50:14.724Z"
   },
   {
    "duration": 351,
    "start_time": "2023-04-14T08:50:14.988Z"
   },
   {
    "duration": 9,
    "start_time": "2023-04-14T08:50:15.341Z"
   },
   {
    "duration": 321,
    "start_time": "2023-04-14T08:50:15.352Z"
   },
   {
    "duration": 219,
    "start_time": "2023-04-14T08:50:15.675Z"
   },
   {
    "duration": 223,
    "start_time": "2023-04-14T08:50:15.897Z"
   },
   {
    "duration": 222,
    "start_time": "2023-04-14T08:50:16.122Z"
   },
   {
    "duration": 252,
    "start_time": "2023-04-14T08:50:16.346Z"
   },
   {
    "duration": 183,
    "start_time": "2023-04-14T08:50:16.601Z"
   },
   {
    "duration": 181,
    "start_time": "2023-04-14T08:50:16.788Z"
   },
   {
    "duration": 278,
    "start_time": "2023-04-14T08:50:16.970Z"
   },
   {
    "duration": 164,
    "start_time": "2023-04-14T08:50:17.250Z"
   },
   {
    "duration": 16,
    "start_time": "2023-04-14T08:50:17.417Z"
   },
   {
    "duration": 85,
    "start_time": "2023-04-14T08:50:17.435Z"
   },
   {
    "duration": 10,
    "start_time": "2023-04-14T08:50:17.523Z"
   },
   {
    "duration": 340,
    "start_time": "2023-04-14T08:50:17.535Z"
   }
  ],
  "kernelspec": {
   "display_name": "Python 3 (ipykernel)",
   "language": "python",
   "name": "python3"
  },
  "language_info": {
   "codemirror_mode": {
    "name": "ipython",
    "version": 3
   },
   "file_extension": ".py",
   "mimetype": "text/x-python",
   "name": "python",
   "nbconvert_exporter": "python",
   "pygments_lexer": "ipython3",
   "version": "3.9.12"
  },
  "toc": {
   "base_numbering": 1,
   "nav_menu": {
    "height": "365px",
    "width": "479px"
   },
   "number_sections": true,
   "sideBar": true,
   "skip_h1_title": true,
   "title_cell": "Содержание",
   "title_sidebar": "Contents",
   "toc_cell": true,
   "toc_position": {
    "height": "calc(100% - 180px)",
    "left": "10px",
    "top": "150px",
    "width": "194px"
   },
   "toc_section_display": true,
   "toc_window_display": false
  }
 },
 "nbformat": 4,
 "nbformat_minor": 2
}
