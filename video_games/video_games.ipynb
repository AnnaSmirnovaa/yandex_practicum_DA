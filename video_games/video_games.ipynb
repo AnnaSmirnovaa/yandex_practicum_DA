{
 "cells": [
  {
   "cell_type": "markdown",
   "metadata": {},
   "source": [
    "# Исследовательский анализ данных о продажах  компьютерных игр."
   ]
  },
  {
   "cell_type": "markdown",
   "metadata": {},
   "source": [
    "Интернет-магазин «Стримчик» продаёт по всему миру компьютерные игры. Из открытых источников доступны исторические данные о продажах игр, оценки пользователей и экспертов, жанры и платформы (например, Xbox или PlayStation). Необходимо выявить определяющие успешность игры закономерности. Это позволит сделать ставку на потенциально популярный продукт и спланировать рекламные кампании.\n",
    "Перед нами данные до 2016 года, мы планируем кампанию на 2017 год. \n",
    "\n",
    "\n",
    "\n",
    "В ходе проекта мы:\n",
    "- Проведем исследовательский анализ данных\n",
    "- Составим портрет пользователя каждого региона\n",
    "- Проверим гипотезы о равенстве средний пользовательских оценках\n",
    "\n",
    "Описание данных:\n",
    "\n",
    "\n",
    "Таблица *data* содержит информацию  о продажах игр, оценки пользователей и экспертов, жанры и платформы \n",
    "\n",
    "\n",
    "- *Name* — название игры\n",
    "- *Platform* — платформа\n",
    "- *Year_of_Release* — год выпуска\n",
    "- *Genre* — жанр игры\n",
    "- *NA_sales* — продажи в Северной Америке (миллионы проданных копий)\n",
    "- *EU_sales* — продажи в Европе (миллионы проданных копий)\n",
    "- *JP_sales* — продажи в Японии (миллионы проданных копий)\n",
    "- *Other_sales* — продажи в других странах (миллионы проданных копий)\n",
    "- *Critic_Score* — оценка критиков (максимум 100)\n",
    "- *User_Score* — оценка пользователей (максимум 10)\n",
    "- *Rating* — рейтинг от организации ESRB (англ. Entertainment Software Rating Board). Эта ассоциация определяет рейтинг компьютерных игр и присваивает им подходящую возрастную категорию."
   ]
  },
  {
   "cell_type": "markdown",
   "metadata": {},
   "source": [
    "### Загрузим данные и изучим общую информацию."
   ]
  },
  {
   "cell_type": "markdown",
   "metadata": {},
   "source": [
    "#### Импортируем библиотеки. Считаем данные из csv-файла в датафрейм и сохраним в переменную `data`. Выведем общую информацию о файле."
   ]
  },
  {
   "cell_type": "code",
   "execution_count": 85,
   "metadata": {},
   "outputs": [
    {
     "name": "stdout",
     "output_type": "stream",
     "text": [
      "Requirement already satisfied: missingno in c:\\users\\anna\\anaconda35\\lib\\site-packages (0.5.2)\n",
      "Requirement already satisfied: numpy in c:\\users\\anna\\anaconda35\\lib\\site-packages (from missingno) (1.21.5)\n",
      "Requirement already satisfied: matplotlib in c:\\users\\anna\\anaconda35\\lib\\site-packages (from missingno) (3.5.1)\n",
      "Requirement already satisfied: scipy in c:\\users\\anna\\anaconda35\\lib\\site-packages (from missingno) (1.7.3)\n",
      "Requirement already satisfied: seaborn in c:\\users\\anna\\anaconda35\\lib\\site-packages (from missingno) (0.11.2)\n",
      "Requirement already satisfied: cycler>=0.10 in c:\\users\\anna\\anaconda35\\lib\\site-packages (from matplotlib->missingno) (0.11.0)\n",
      "Requirement already satisfied: fonttools>=4.22.0 in c:\\users\\anna\\anaconda35\\lib\\site-packages (from matplotlib->missingno) (4.25.0)\n",
      "Requirement already satisfied: kiwisolver>=1.0.1 in c:\\users\\anna\\anaconda35\\lib\\site-packages (from matplotlib->missingno) (1.3.2)\n",
      "Requirement already satisfied: packaging>=20.0 in c:\\users\\anna\\anaconda35\\lib\\site-packages (from matplotlib->missingno) (21.3)\n",
      "Requirement already satisfied: pillow>=6.2.0 in c:\\users\\anna\\anaconda35\\lib\\site-packages (from matplotlib->missingno) (9.0.1)\n",
      "Requirement already satisfied: pyparsing>=2.2.1 in c:\\users\\anna\\anaconda35\\lib\\site-packages (from matplotlib->missingno) (3.0.4)\n",
      "Requirement already satisfied: python-dateutil>=2.7 in c:\\users\\anna\\anaconda35\\lib\\site-packages (from matplotlib->missingno) (2.8.2)\n",
      "Requirement already satisfied: pandas>=0.23 in c:\\users\\anna\\anaconda35\\lib\\site-packages (from seaborn->missingno) (1.4.2)\n",
      "Requirement already satisfied: pytz>=2020.1 in c:\\users\\anna\\anaconda35\\lib\\site-packages (from pandas>=0.23->seaborn->missingno) (2021.3)\n",
      "Requirement already satisfied: six>=1.5 in c:\\users\\anna\\anaconda35\\lib\\site-packages (from python-dateutil>=2.7->matplotlib->missingno) (1.16.0)\n"
     ]
    }
   ],
   "source": [
    "import pandas as pd\n",
    "import seaborn as sn\n",
    "import seaborn as sns\n",
    "import matplotlib.pyplot as plt\n",
    "import numpy as np\n",
    "from plotly.offline import init_notebook_mode, iplot\n",
    "import plotly\n",
    "import plotly.graph_objs as go\n",
    "from scipy import stats as st\n",
    "\n",
    "!pip install missingno\n",
    "import missingno as msno"
   ]
  },
  {
   "cell_type": "code",
   "execution_count": 86,
   "metadata": {
    "scrolled": true
   },
   "outputs": [
    {
     "data": {
      "text/html": [
       "<div>\n",
       "<style scoped>\n",
       "    .dataframe tbody tr th:only-of-type {\n",
       "        vertical-align: middle;\n",
       "    }\n",
       "\n",
       "    .dataframe tbody tr th {\n",
       "        vertical-align: top;\n",
       "    }\n",
       "\n",
       "    .dataframe thead th {\n",
       "        text-align: right;\n",
       "    }\n",
       "</style>\n",
       "<table border=\"1\" class=\"dataframe\">\n",
       "  <thead>\n",
       "    <tr style=\"text-align: right;\">\n",
       "      <th></th>\n",
       "      <th>Name</th>\n",
       "      <th>Platform</th>\n",
       "      <th>Year_of_Release</th>\n",
       "      <th>Genre</th>\n",
       "      <th>NA_sales</th>\n",
       "      <th>EU_sales</th>\n",
       "      <th>JP_sales</th>\n",
       "      <th>Other_sales</th>\n",
       "      <th>Critic_Score</th>\n",
       "      <th>User_Score</th>\n",
       "      <th>Rating</th>\n",
       "    </tr>\n",
       "  </thead>\n",
       "  <tbody>\n",
       "    <tr>\n",
       "      <th>0</th>\n",
       "      <td>Wii Sports</td>\n",
       "      <td>Wii</td>\n",
       "      <td>2006.0</td>\n",
       "      <td>Sports</td>\n",
       "      <td>41.36</td>\n",
       "      <td>28.96</td>\n",
       "      <td>3.77</td>\n",
       "      <td>8.45</td>\n",
       "      <td>76.0</td>\n",
       "      <td>8</td>\n",
       "      <td>E</td>\n",
       "    </tr>\n",
       "    <tr>\n",
       "      <th>1</th>\n",
       "      <td>Super Mario Bros.</td>\n",
       "      <td>NES</td>\n",
       "      <td>1985.0</td>\n",
       "      <td>Platform</td>\n",
       "      <td>29.08</td>\n",
       "      <td>3.58</td>\n",
       "      <td>6.81</td>\n",
       "      <td>0.77</td>\n",
       "      <td>NaN</td>\n",
       "      <td>NaN</td>\n",
       "      <td>NaN</td>\n",
       "    </tr>\n",
       "    <tr>\n",
       "      <th>2</th>\n",
       "      <td>Mario Kart Wii</td>\n",
       "      <td>Wii</td>\n",
       "      <td>2008.0</td>\n",
       "      <td>Racing</td>\n",
       "      <td>15.68</td>\n",
       "      <td>12.76</td>\n",
       "      <td>3.79</td>\n",
       "      <td>3.29</td>\n",
       "      <td>82.0</td>\n",
       "      <td>8.3</td>\n",
       "      <td>E</td>\n",
       "    </tr>\n",
       "    <tr>\n",
       "      <th>3</th>\n",
       "      <td>Wii Sports Resort</td>\n",
       "      <td>Wii</td>\n",
       "      <td>2009.0</td>\n",
       "      <td>Sports</td>\n",
       "      <td>15.61</td>\n",
       "      <td>10.93</td>\n",
       "      <td>3.28</td>\n",
       "      <td>2.95</td>\n",
       "      <td>80.0</td>\n",
       "      <td>8</td>\n",
       "      <td>E</td>\n",
       "    </tr>\n",
       "    <tr>\n",
       "      <th>4</th>\n",
       "      <td>Pokemon Red/Pokemon Blue</td>\n",
       "      <td>GB</td>\n",
       "      <td>1996.0</td>\n",
       "      <td>Role-Playing</td>\n",
       "      <td>11.27</td>\n",
       "      <td>8.89</td>\n",
       "      <td>10.22</td>\n",
       "      <td>1.00</td>\n",
       "      <td>NaN</td>\n",
       "      <td>NaN</td>\n",
       "      <td>NaN</td>\n",
       "    </tr>\n",
       "    <tr>\n",
       "      <th>...</th>\n",
       "      <td>...</td>\n",
       "      <td>...</td>\n",
       "      <td>...</td>\n",
       "      <td>...</td>\n",
       "      <td>...</td>\n",
       "      <td>...</td>\n",
       "      <td>...</td>\n",
       "      <td>...</td>\n",
       "      <td>...</td>\n",
       "      <td>...</td>\n",
       "      <td>...</td>\n",
       "    </tr>\n",
       "    <tr>\n",
       "      <th>16710</th>\n",
       "      <td>Samurai Warriors: Sanada Maru</td>\n",
       "      <td>PS3</td>\n",
       "      <td>2016.0</td>\n",
       "      <td>Action</td>\n",
       "      <td>0.00</td>\n",
       "      <td>0.00</td>\n",
       "      <td>0.01</td>\n",
       "      <td>0.00</td>\n",
       "      <td>NaN</td>\n",
       "      <td>NaN</td>\n",
       "      <td>NaN</td>\n",
       "    </tr>\n",
       "    <tr>\n",
       "      <th>16711</th>\n",
       "      <td>LMA Manager 2007</td>\n",
       "      <td>X360</td>\n",
       "      <td>2006.0</td>\n",
       "      <td>Sports</td>\n",
       "      <td>0.00</td>\n",
       "      <td>0.01</td>\n",
       "      <td>0.00</td>\n",
       "      <td>0.00</td>\n",
       "      <td>NaN</td>\n",
       "      <td>NaN</td>\n",
       "      <td>NaN</td>\n",
       "    </tr>\n",
       "    <tr>\n",
       "      <th>16712</th>\n",
       "      <td>Haitaka no Psychedelica</td>\n",
       "      <td>PSV</td>\n",
       "      <td>2016.0</td>\n",
       "      <td>Adventure</td>\n",
       "      <td>0.00</td>\n",
       "      <td>0.00</td>\n",
       "      <td>0.01</td>\n",
       "      <td>0.00</td>\n",
       "      <td>NaN</td>\n",
       "      <td>NaN</td>\n",
       "      <td>NaN</td>\n",
       "    </tr>\n",
       "    <tr>\n",
       "      <th>16713</th>\n",
       "      <td>Spirits &amp; Spells</td>\n",
       "      <td>GBA</td>\n",
       "      <td>2003.0</td>\n",
       "      <td>Platform</td>\n",
       "      <td>0.01</td>\n",
       "      <td>0.00</td>\n",
       "      <td>0.00</td>\n",
       "      <td>0.00</td>\n",
       "      <td>NaN</td>\n",
       "      <td>NaN</td>\n",
       "      <td>NaN</td>\n",
       "    </tr>\n",
       "    <tr>\n",
       "      <th>16714</th>\n",
       "      <td>Winning Post 8 2016</td>\n",
       "      <td>PSV</td>\n",
       "      <td>2016.0</td>\n",
       "      <td>Simulation</td>\n",
       "      <td>0.00</td>\n",
       "      <td>0.00</td>\n",
       "      <td>0.01</td>\n",
       "      <td>0.00</td>\n",
       "      <td>NaN</td>\n",
       "      <td>NaN</td>\n",
       "      <td>NaN</td>\n",
       "    </tr>\n",
       "  </tbody>\n",
       "</table>\n",
       "<p>16715 rows × 11 columns</p>\n",
       "</div>"
      ],
      "text/plain": [
       "                                Name Platform  Year_of_Release         Genre  \\\n",
       "0                         Wii Sports      Wii           2006.0        Sports   \n",
       "1                  Super Mario Bros.      NES           1985.0      Platform   \n",
       "2                     Mario Kart Wii      Wii           2008.0        Racing   \n",
       "3                  Wii Sports Resort      Wii           2009.0        Sports   \n",
       "4           Pokemon Red/Pokemon Blue       GB           1996.0  Role-Playing   \n",
       "...                              ...      ...              ...           ...   \n",
       "16710  Samurai Warriors: Sanada Maru      PS3           2016.0        Action   \n",
       "16711               LMA Manager 2007     X360           2006.0        Sports   \n",
       "16712        Haitaka no Psychedelica      PSV           2016.0     Adventure   \n",
       "16713               Spirits & Spells      GBA           2003.0      Platform   \n",
       "16714            Winning Post 8 2016      PSV           2016.0    Simulation   \n",
       "\n",
       "       NA_sales  EU_sales  JP_sales  Other_sales  Critic_Score User_Score  \\\n",
       "0         41.36     28.96      3.77         8.45          76.0          8   \n",
       "1         29.08      3.58      6.81         0.77           NaN        NaN   \n",
       "2         15.68     12.76      3.79         3.29          82.0        8.3   \n",
       "3         15.61     10.93      3.28         2.95          80.0          8   \n",
       "4         11.27      8.89     10.22         1.00           NaN        NaN   \n",
       "...         ...       ...       ...          ...           ...        ...   \n",
       "16710      0.00      0.00      0.01         0.00           NaN        NaN   \n",
       "16711      0.00      0.01      0.00         0.00           NaN        NaN   \n",
       "16712      0.00      0.00      0.01         0.00           NaN        NaN   \n",
       "16713      0.01      0.00      0.00         0.00           NaN        NaN   \n",
       "16714      0.00      0.00      0.01         0.00           NaN        NaN   \n",
       "\n",
       "      Rating  \n",
       "0          E  \n",
       "1        NaN  \n",
       "2          E  \n",
       "3          E  \n",
       "4        NaN  \n",
       "...      ...  \n",
       "16710    NaN  \n",
       "16711    NaN  \n",
       "16712    NaN  \n",
       "16713    NaN  \n",
       "16714    NaN  \n",
       "\n",
       "[16715 rows x 11 columns]"
      ]
     },
     "execution_count": 86,
     "metadata": {},
     "output_type": "execute_result"
    }
   ],
   "source": [
    "data = pd.read_csv('games.csv')\n",
    "data"
   ]
  },
  {
   "cell_type": "code",
   "execution_count": 87,
   "metadata": {},
   "outputs": [
    {
     "name": "stdout",
     "output_type": "stream",
     "text": [
      "<class 'pandas.core.frame.DataFrame'>\n",
      "RangeIndex: 16715 entries, 0 to 16714\n",
      "Data columns (total 11 columns):\n",
      " #   Column           Non-Null Count  Dtype  \n",
      "---  ------           --------------  -----  \n",
      " 0   Name             16713 non-null  object \n",
      " 1   Platform         16715 non-null  object \n",
      " 2   Year_of_Release  16446 non-null  float64\n",
      " 3   Genre            16713 non-null  object \n",
      " 4   NA_sales         16715 non-null  float64\n",
      " 5   EU_sales         16715 non-null  float64\n",
      " 6   JP_sales         16715 non-null  float64\n",
      " 7   Other_sales      16715 non-null  float64\n",
      " 8   Critic_Score     8137 non-null   float64\n",
      " 9   User_Score       10014 non-null  object \n",
      " 10  Rating           9949 non-null   object \n",
      "dtypes: float64(6), object(5)\n",
      "memory usage: 1.4+ MB\n"
     ]
    }
   ],
   "source": [
    "data.info()"
   ]
  },
  {
   "cell_type": "markdown",
   "metadata": {},
   "source": [
    "В исследуемых данных представлена информация о 16715 проданных играх. В таблице встречаются столбцы с значениями типа object и float64."
   ]
  },
  {
   "cell_type": "markdown",
   "metadata": {},
   "source": [
    "###  Предобработка данных"
   ]
  },
  {
   "cell_type": "markdown",
   "metadata": {},
   "source": [
    "#### Заменим названия столбцов (приведем к нижнему регистру)."
   ]
  },
  {
   "cell_type": "code",
   "execution_count": 88,
   "metadata": {},
   "outputs": [],
   "source": [
    "data.columns = data.columns.str.lower()"
   ]
  },
  {
   "cell_type": "markdown",
   "metadata": {},
   "source": [
    "#### Преобразуем данные в нужные типы и заменим пропуски.\n",
    "\n",
    "Выведем количество пропущенных значений в стобцах."
   ]
  },
  {
   "cell_type": "code",
   "execution_count": 89,
   "metadata": {},
   "outputs": [
    {
     "data": {
      "text/plain": [
       "name                  2\n",
       "platform              0\n",
       "year_of_release     269\n",
       "genre                 2\n",
       "na_sales              0\n",
       "eu_sales              0\n",
       "jp_sales              0\n",
       "other_sales           0\n",
       "critic_score       8578\n",
       "user_score         6701\n",
       "rating             6766\n",
       "dtype: int64"
      ]
     },
     "execution_count": 89,
     "metadata": {},
     "output_type": "execute_result"
    }
   ],
   "source": [
    "data.isna().sum()"
   ]
  },
  {
   "cell_type": "code",
   "execution_count": 90,
   "metadata": {},
   "outputs": [
    {
     "data": {
      "image/png": "[encoded data removed]",
      "text/plain": [
       "<Figure size 1800x720 with 2 Axes>"
      ]
     },
     "metadata": {
      "needs_background": "light"
     },
     "output_type": "display_data"
    }
   ],
   "source": [
    "msno.matrix(data, labels=True);"
   ]
  },
  {
   "cell_type": "code",
   "execution_count": 91,
   "metadata": {},
   "outputs": [
    {
     "data": {
      "image/png": "[encoded data removed]",
      "text/plain": [
       "<Figure size 1800x720 with 3 Axes>"
      ]
     },
     "metadata": {
      "needs_background": "light"
     },
     "output_type": "display_data"
    }
   ],
   "source": [
    "msno.bar(data);"
   ]
  },
  {
   "cell_type": "markdown",
   "metadata": {},
   "source": [
    "В столбце *name* представлены наименования игр, в таблице имеется два пропуска, для анализа данных в данном проекте для нас не имеет значения названия, оставим пропуски без изменений. В столбцах *critic_score* , *user_score* , *rating* представлена информация об оценке критиков, пользователей и рейтинг от организаций соответственно. Пропуски в этих столбцах составляют более 35%, удаление пропущенных значений повлечет искажение данных, поэтому удалять мы их не будем, замена на медиану или среднее в данном случае будет субъективна, оставим пропущенные значения без изменений. В дальнейшем анализе будем фильтровать такие значения, где это необходимо. В стобце *year_of_release* содержится информация о годе выхода игры, пропущенные значения соствляют менее 2%. Так же данный столбец необходимо провести в нужному типу данных. Для максимального сохранения информации, заменим пропущенные значения в данном столбце на 0, преобразуем тип данных и при исследовании по годам будем фильтровать таблицу без пропущенных значений."
   ]
  },
  {
   "cell_type": "code",
   "execution_count": 92,
   "metadata": {},
   "outputs": [],
   "source": [
    "#заменим пропущенные значения в столбце year_of_release на 0\n",
    "data['year_of_release'] = data['year_of_release'].fillna(0)\n",
    "#преобразуем тип данных в year_of_release\n",
    "data['year_of_release'] = data['year_of_release'].astype(int)"
   ]
  },
  {
   "cell_type": "markdown",
   "metadata": {},
   "source": [
    "Отдельно проанализируем столбец *user_score*, в наших данных этот столбец имеет тип object. В таблице есть значения **'tbd'**, что означает to be determined - то есть оценки пока нет, но будет. Для преобразования типа данных, нам необходимо заменить такие значения на числовые, заменим их на 0 и преобразуем тип."
   ]
  },
  {
   "cell_type": "code",
   "execution_count": 93,
   "metadata": {},
   "outputs": [],
   "source": [
    "data['user_score'] = data['user_score'].replace ('tbd', 0)\n",
    "data['user_score'] = data['user_score'].astype(float)"
   ]
  },
  {
   "cell_type": "markdown",
   "metadata": {},
   "source": [
    "#### Добавим новый столбец с информацией о суммарных продажах во всех регионах."
   ]
  },
  {
   "cell_type": "code",
   "execution_count": 94,
   "metadata": {},
   "outputs": [],
   "source": [
    "data['sum_sales'] =  data[['na_sales','eu_sales','jp_sales', 'other_sales']].sum(axis = 1)"
   ]
  },
  {
   "cell_type": "markdown",
   "metadata": {},
   "source": [
    "#### Проверим данные на явные дубликаты."
   ]
  },
  {
   "cell_type": "code",
   "execution_count": 95,
   "metadata": {},
   "outputs": [
    {
     "name": "stdout",
     "output_type": "stream",
     "text": [
      "Количество явных дубликатов: 0\n"
     ]
    }
   ],
   "source": [
    "print('Количество явных дубликатов:', data.duplicated().sum())"
   ]
  },
  {
   "cell_type": "markdown",
   "metadata": {},
   "source": [
    "Вывод раздела:\n",
    "- В исследуемых данных представлена информация о 16715 проданных играх. В таблице встречаются столбцы с значениями типа object и float64.\n",
    "- В данный отсутствуют явные дубликаты.\n",
    "- В таблице есть пропущенные значения, в столбцах *critic_score , user_score , rating* пропуски составляют 35%. Оставим их без изменений, так как любая  замена будет субъективна. Причиной возникнованения пропусков могли стать несколько факторов, пользователи не обязаны, либо не хотят ставить оценки при использовании игры, так же возможно игра новая и у пользователей, и у критиков еще не сформировано мнение по данной игре. Еще одной причиной возникновения пропусков могла стать техническая сторона."
   ]
  },
  {
   "cell_type": "markdown",
   "metadata": {},
   "source": [
    "### Исследовательский анализ данных."
   ]
  },
  {
   "cell_type": "markdown",
   "metadata": {},
   "source": [
    "#### Проанализируем сколько игр выпускалось в разные года."
   ]
  },
  {
   "cell_type": "code",
   "execution_count": 96,
   "metadata": {},
   "outputs": [
    {
     "data": {
      "image/png": "[encoded data removed]",
      "text/plain": [
       "<Figure size 432x288 with 1 Axes>"
      ]
     },
     "metadata": {
      "needs_background": "light"
     },
     "output_type": "display_data"
    }
   ],
   "source": [
    "#создадим таблицу без пропущенных значений\n",
    "game_of_year = data[data['year_of_release']!= 0]\n",
    "#сгруппируем данные по годам и посчитаем сколько игр выпускалось в каждый год\n",
    "game_of_year = game_of_year.pivot_table(index='year_of_release', values='name', aggfunc='count')\n",
    "#переименуем столбец\n",
    "game_of_year.columns = ['Количество игр']\n",
    "#визуализируем данные\n",
    "game_of_year.plot(legend=False);\n",
    "plt.title('Количество игр по годам');\n",
    "plt.xlabel('Год');\n",
    "plt.ylabel('Количество');\n"
   ]
  },
  {
   "cell_type": "markdown",
   "metadata": {},
   "source": [
    "Из графика видно, что с начала 90х годов количество игр ежегодно растет. Можно заменить резкие изменения в динамике количества появлений игр в 1994, 2002 и 2012 годах. До 1994 года игровая индустрия развивалась медленно и для анализа рынка эти данные нам малоинформативны."
   ]
  },
  {
   "cell_type": "markdown",
   "metadata": {},
   "source": [
    "#### Проанализируем, как менялись продажи по платформам. \n",
    "\n",
    "Выберем платформы с наибольшими суммарными продажами и постройте распределение по годам."
   ]
  },
  {
   "cell_type": "code",
   "execution_count": 97,
   "metadata": {},
   "outputs": [
    {
     "data": {
      "text/plain": [
       "platform\n",
       "PC       259.52\n",
       "PSP      294.05\n",
       "PS4      314.14\n",
       "GBA      317.85\n",
       "PS       730.86\n",
       "DS       806.12\n",
       "Wii      907.51\n",
       "PS3      939.65\n",
       "X360     971.42\n",
       "PS2     1255.77\n",
       "Name: sum_sales, dtype: float64"
      ]
     },
     "execution_count": 97,
     "metadata": {},
     "output_type": "execute_result"
    }
   ],
   "source": [
    "#Выведем ТОП-10 платформ по суммарным продажам\n",
    "data.groupby('platform')['sum_sales'].sum().sort_values().tail(10)"
   ]
  },
  {
   "cell_type": "markdown",
   "metadata": {},
   "source": [
    "Можно сделать вывод, что 6 платформ значительно отличаются от остальных по суммам продаж, проанализируем ТОП-6 этих платформ и построим распределение по годам."
   ]
  },
  {
   "cell_type": "code",
   "execution_count": 98,
   "metadata": {},
   "outputs": [],
   "source": [
    "#создадим таблицу с ТОП-6 платформ и суммами ипродаж по ним\n",
    "top = data.groupby('platform')['sum_sales'].sum().sort_values(ascending = False).reset_index().head(6)\n",
    "#соеденим исходных датафрейм с таблицей топ- 6, чтобы в новой таблице остались только платформы из топ-6\n",
    "top_sales = data.merge(top, on='platform', how='inner')\n",
    "#удалим данные с пропусками в годе выхода игры\n",
    "top_sales = top_sales[top_sales['year_of_release'] != 0]\n",
    "#создадим таблицу, где по каждой платформе будем сумма продаж по всем играм за каждый год\n",
    "s = top_sales.pivot_table(index = 'platform', columns = 'year_of_release', values = 'sum_sales_x', aggfunc = 'sum')"
   ]
  },
  {
   "cell_type": "code",
   "execution_count": 99,
   "metadata": {},
   "outputs": [
    {
     "data": {
      "image/png": "[encoded data removed]",
      "text/plain": [
       "<Figure size 1080x720 with 2 Axes>"
      ]
     },
     "metadata": {
      "needs_background": "light"
     },
     "output_type": "display_data"
    }
   ],
   "source": [
    "#визуализируем\n",
    "fig, ax = plt.subplots(figsize=(15, 10))\n",
    "sn.heatmap(s);\n",
    "plt.title('Распределение суммарный продаж по годам для кажой платформы');\n",
    "plt.xlabel('Год выпуска');\n",
    "plt.ylabel('Платформа');\n"
   ]
  },
  {
   "cell_type": "markdown",
   "metadata": {},
   "source": [
    "Из графика можно сделать вывод,что характерный срок появления новых и исчезновения старых платформ составляет в среднем 10 лет. Видно, что максимальные продажи приходятся на 3-6 года жизнедеятельности платформы, ближе в 9-10 году использования продажи падают. \n",
    "\n",
    "Обратим внимание, что в ТОП-6 платформ попали: PS, PS2, PS3. Это три поколения для приствок PlayStation, проследим, как они меняли по годам:\n",
    "- PS 1994-2003\n",
    "- PS2 2000-2011\n",
    "- PS3 2006-2016\n",
    "- Так же в 2013 выпущена новая версия PS4\n",
    "\n",
    "Получается каждые 5-7 лет компания Sony выпускает новую платформу с лучшими техническими параметрами, а игры на предыдущей платформе еще существуют на рынке 3 года.\n",
    "Появление на рынке новой платформы PS4 говорит от том, что она просуществует 2-4 года и топ продаж для этой платформы ожидается на 2017 год.\n",
    "Актуальным периодом по продажам считаю с 2013 по 2016 год.\n"
   ]
  },
  {
   "cell_type": "code",
   "execution_count": 100,
   "metadata": {},
   "outputs": [],
   "source": [
    "#создадим таблицу только с данными за актуальный период с 2013 по 2016 года\n",
    "data_new = data[data['year_of_release'] > 2012]"
   ]
  },
  {
   "cell_type": "markdown",
   "metadata": {},
   "source": [
    "#### Выясним какие платформы лидируют по продажам, растут или падают. Выберем несколько потенциально прибыльных платформ."
   ]
  },
  {
   "cell_type": "code",
   "execution_count": 101,
   "metadata": {},
   "outputs": [
    {
     "data": {
      "application/vnd.plotly.v1+json": {
       "config": {
        "linkText": "Export to plot.ly",
        "plotlyServerURL": "https://plot.ly",
        "showLink": false
       },
       "data": [
        {
         "name": "PS3",
         "type": "scatter",
         "x": [
          2013,
          2014,
          2015,
          2016
         ],
         "y": [
          113.25,
          47.760000000000005,
          16.82,
          3.6
         ]
        },
        {
         "name": "X360",
         "type": "scatter",
         "x": [
          2013,
          2014,
          2015,
          2016
         ],
         "y": [
          88.58,
          34.74,
          11.959999999999999,
          1.52
         ]
        },
        {
         "name": "PS4",
         "type": "scatter",
         "x": [
          2013,
          2014,
          2015,
          2016
         ],
         "y": [
          25.99,
          100,
          118.9,
          69.25
         ]
        },
        {
         "name": "3DS",
         "type": "scatter",
         "x": [
          2013,
          2014,
          2015,
          2016
         ],
         "y": [
          56.57,
          43.76,
          27.78,
          15.14
         ]
        },
        {
         "name": "XOne",
         "type": "scatter",
         "x": [
          2013,
          2014,
          2015,
          2016
         ],
         "y": [
          18.96,
          54.07,
          60.14,
          26.150000000000002
         ]
        },
        {
         "name": "WiiU",
         "type": "scatter",
         "x": [
          2013,
          2014,
          2015,
          2016
         ],
         "y": [
          21.650000000000002,
          22.03,
          16.35,
          4.6000000000000005
         ]
        },
        {
         "name": "Wii",
         "type": "scatter",
         "x": [
          2013,
          2014,
          2015,
          2016
         ],
         "y": [
          8.59,
          3.75,
          1.14,
          0.18
         ]
        },
        {
         "name": "PC",
         "type": "scatter",
         "x": [
          2013,
          2014,
          2015,
          2016
         ],
         "y": [
          12.38,
          13.280000000000001,
          8.520000000000001,
          5.25
         ]
        },
        {
         "name": "PSV",
         "type": "scatter",
         "x": [
          2013,
          2014,
          2015,
          2016
         ],
         "y": [
          10.59,
          11.9,
          6.25,
          4.25
         ]
        },
        {
         "name": "DS",
         "type": "scatter",
         "x": [
          2013
         ],
         "y": [
          1.54
         ]
        },
        {
         "name": "PSP",
         "type": "scatter",
         "x": [
          2013,
          2014,
          2015
         ],
         "y": [
          3.14,
          0.24,
          0.12
         ]
        }
       ],
       "layout": {
        "template": {
         "data": {
          "bar": [
           {
            "error_x": {
             "color": "#2a3f5f"
            },
            "error_y": {
             "color": "#2a3f5f"
            },
            "marker": {
             "line": {
              "color": "#E5ECF6",
              "width": 0.5
             },
             "pattern": {
              "fillmode": "overlay",
              "size": 10,
              "solidity": 0.2
             }
            },
            "type": "bar"
           }
          ],
          "barpolar": [
           {
            "marker": {
             "line": {
              "color": "#E5ECF6",
              "width": 0.5
             },
             "pattern": {
              "fillmode": "overlay",
              "size": 10,
              "solidity": 0.2
             }
            },
            "type": "barpolar"
           }
          ],
          "carpet": [
           {
            "aaxis": {
             "endlinecolor": "#2a3f5f",
             "gridcolor": "white",
             "linecolor": "white",
             "minorgridcolor": "white",
             "startlinecolor": "#2a3f5f"
            },
            "baxis": {
             "endlinecolor": "#2a3f5f",
             "gridcolor": "white",
             "linecolor": "white",
             "minorgridcolor": "white",
             "startlinecolor": "#2a3f5f"
            },
            "type": "carpet"
           }
          ],
          "choropleth": [
           {
            "colorbar": {
             "outlinewidth": 0,
             "ticks": ""
            },
            "type": "choropleth"
           }
          ],
          "contour": [
           {
            "colorbar": {
             "outlinewidth": 0,
             "ticks": ""
            },
            "colorscale": [
             [
              0,
              "#0d0887"
             ],
             [
              0.1111111111111111,
              "#46039f"
             ],
             [
              0.2222222222222222,
              "#7201a8"
             ],
             [
              0.3333333333333333,
              "#9c179e"
             ],
             [
              0.4444444444444444,
              "#bd3786"
             ],
             [
              0.5555555555555556,
              "#d8576b"
             ],
             [
              0.6666666666666666,
              "#ed7953"
             ],
             [
              0.7777777777777778,
              "#fb9f3a"
             ],
             [
              0.8888888888888888,
              "#fdca26"
             ],
             [
              1,
              "#f0f921"
             ]
            ],
            "type": "contour"
           }
          ],
          "contourcarpet": [
           {
            "colorbar": {
             "outlinewidth": 0,
             "ticks": ""
            },
            "type": "contourcarpet"
           }
          ],
          "heatmap": [
           {
            "colorbar": {
             "outlinewidth": 0,
             "ticks": ""
            },
            "colorscale": [
             [
              0,
              "#0d0887"
             ],
             [
              0.1111111111111111,
              "#46039f"
             ],
             [
              0.2222222222222222,
              "#7201a8"
             ],
             [
              0.3333333333333333,
              "#9c179e"
             ],
             [
              0.4444444444444444,
              "#bd3786"
             ],
             [
              0.5555555555555556,
              "#d8576b"
             ],
             [
              0.6666666666666666,
              "#ed7953"
             ],
             [
              0.7777777777777778,
              "#fb9f3a"
             ],
             [
              0.8888888888888888,
              "#fdca26"
             ],
             [
              1,
              "#f0f921"
             ]
            ],
            "type": "heatmap"
           }
          ],
          "heatmapgl": [
           {
            "colorbar": {
             "outlinewidth": 0,
             "ticks": ""
            },
            "colorscale": [
             [
              0,
              "#0d0887"
             ],
             [
              0.1111111111111111,
              "#46039f"
             ],
             [
              0.2222222222222222,
              "#7201a8"
             ],
             [
              0.3333333333333333,
              "#9c179e"
             ],
             [
              0.4444444444444444,
              "#bd3786"
             ],
             [
              0.5555555555555556,
              "#d8576b"
             ],
             [
              0.6666666666666666,
              "#ed7953"
             ],
             [
              0.7777777777777778,
              "#fb9f3a"
             ],
             [
              0.8888888888888888,
              "#fdca26"
             ],
             [
              1,
              "#f0f921"
             ]
            ],
            "type": "heatmapgl"
           }
          ],
          "histogram": [
           {
            "marker": {
             "pattern": {
              "fillmode": "overlay",
              "size": 10,
              "solidity": 0.2
             }
            },
            "type": "histogram"
           }
          ],
          "histogram2d": [
           {
            "colorbar": {
             "outlinewidth": 0,
             "ticks": ""
            },
            "colorscale": [
             [
              0,
              "#0d0887"
             ],
             [
              0.1111111111111111,
              "#46039f"
             ],
             [
              0.2222222222222222,
              "#7201a8"
             ],
             [
              0.3333333333333333,
              "#9c179e"
             ],
             [
              0.4444444444444444,
              "#bd3786"
             ],
             [
              0.5555555555555556,
              "#d8576b"
             ],
             [
              0.6666666666666666,
              "#ed7953"
             ],
             [
              0.7777777777777778,
              "#fb9f3a"
             ],
             [
              0.8888888888888888,
              "#fdca26"
             ],
             [
              1,
              "#f0f921"
             ]
            ],
            "type": "histogram2d"
           }
          ],
          "histogram2dcontour": [
           {
            "colorbar": {
             "outlinewidth": 0,
             "ticks": ""
            },
            "colorscale": [
             [
              0,
              "#0d0887"
             ],
             [
              0.1111111111111111,
              "#46039f"
             ],
             [
              0.2222222222222222,
              "#7201a8"
             ],
             [
              0.3333333333333333,
              "#9c179e"
             ],
             [
              0.4444444444444444,
              "#bd3786"
             ],
             [
              0.5555555555555556,
              "#d8576b"
             ],
             [
              0.6666666666666666,
              "#ed7953"
             ],
             [
              0.7777777777777778,
              "#fb9f3a"
             ],
             [
              0.8888888888888888,
              "#fdca26"
             ],
             [
              1,
              "#f0f921"
             ]
            ],
            "type": "histogram2dcontour"
           }
          ],
          "mesh3d": [
           {
            "colorbar": {
             "outlinewidth": 0,
             "ticks": ""
            },
            "type": "mesh3d"
           }
          ],
          "parcoords": [
           {
            "line": {
             "colorbar": {
              "outlinewidth": 0,
              "ticks": ""
             }
            },
            "type": "parcoords"
           }
          ],
          "pie": [
           {
            "automargin": true,
            "type": "pie"
           }
          ],
          "scatter": [
           {
            "marker": {
             "colorbar": {
              "outlinewidth": 0,
              "ticks": ""
             }
            },
            "type": "scatter"
           }
          ],
          "scatter3d": [
           {
            "line": {
             "colorbar": {
              "outlinewidth": 0,
              "ticks": ""
             }
            },
            "marker": {
             "colorbar": {
              "outlinewidth": 0,
              "ticks": ""
             }
            },
            "type": "scatter3d"
           }
          ],
          "scattercarpet": [
           {
            "marker": {
             "colorbar": {
              "outlinewidth": 0,
              "ticks": ""
             }
            },
            "type": "scattercarpet"
           }
          ],
          "scattergeo": [
           {
            "marker": {
             "colorbar": {
              "outlinewidth": 0,
              "ticks": ""
             }
            },
            "type": "scattergeo"
           }
          ],
          "scattergl": [
           {
            "marker": {
             "colorbar": {
              "outlinewidth": 0,
              "ticks": ""
             }
            },
            "type": "scattergl"
           }
          ],
          "scattermapbox": [
           {
            "marker": {
             "colorbar": {
              "outlinewidth": 0,
              "ticks": ""
             }
            },
            "type": "scattermapbox"
           }
          ],
          "scatterpolar": [
           {
            "marker": {
             "colorbar": {
              "outlinewidth": 0,
              "ticks": ""
             }
            },
            "type": "scatterpolar"
           }
          ],
          "scatterpolargl": [
           {
            "marker": {
             "colorbar": {
              "outlinewidth": 0,
              "ticks": ""
             }
            },
            "type": "scatterpolargl"
           }
          ],
          "scatterternary": [
           {
            "marker": {
             "colorbar": {
              "outlinewidth": 0,
              "ticks": ""
             }
            },
            "type": "scatterternary"
           }
          ],
          "surface": [
           {
            "colorbar": {
             "outlinewidth": 0,
             "ticks": ""
            },
            "colorscale": [
             [
              0,
              "#0d0887"
             ],
             [
              0.1111111111111111,
              "#46039f"
             ],
             [
              0.2222222222222222,
              "#7201a8"
             ],
             [
              0.3333333333333333,
              "#9c179e"
             ],
             [
              0.4444444444444444,
              "#bd3786"
             ],
             [
              0.5555555555555556,
              "#d8576b"
             ],
             [
              0.6666666666666666,
              "#ed7953"
             ],
             [
              0.7777777777777778,
              "#fb9f3a"
             ],
             [
              0.8888888888888888,
              "#fdca26"
             ],
             [
              1,
              "#f0f921"
             ]
            ],
            "type": "surface"
           }
          ],
          "table": [
           {
            "cells": {
             "fill": {
              "color": "#EBF0F8"
             },
             "line": {
              "color": "white"
             }
            },
            "header": {
             "fill": {
              "color": "#C8D4E3"
             },
             "line": {
              "color": "white"
             }
            },
            "type": "table"
           }
          ]
         },
         "layout": {
          "annotationdefaults": {
           "arrowcolor": "#2a3f5f",
           "arrowhead": 0,
           "arrowwidth": 1
          },
          "autotypenumbers": "strict",
          "coloraxis": {
           "colorbar": {
            "outlinewidth": 0,
            "ticks": ""
           }
          },
          "colorscale": {
           "diverging": [
            [
             0,
             "#8e0152"
            ],
            [
             0.1,
             "#c51b7d"
            ],
            [
             0.2,
             "#de77ae"
            ],
            [
             0.3,
             "#f1b6da"
            ],
            [
             0.4,
             "#fde0ef"
            ],
            [
             0.5,
             "#f7f7f7"
            ],
            [
             0.6,
             "#e6f5d0"
            ],
            [
             0.7,
             "#b8e186"
            ],
            [
             0.8,
             "#7fbc41"
            ],
            [
             0.9,
             "#4d9221"
            ],
            [
             1,
             "#276419"
            ]
           ],
           "sequential": [
            [
             0,
             "#0d0887"
            ],
            [
             0.1111111111111111,
             "#46039f"
            ],
            [
             0.2222222222222222,
             "#7201a8"
            ],
            [
             0.3333333333333333,
             "#9c179e"
            ],
            [
             0.4444444444444444,
             "#bd3786"
            ],
            [
             0.5555555555555556,
             "#d8576b"
            ],
            [
             0.6666666666666666,
             "#ed7953"
            ],
            [
             0.7777777777777778,
             "#fb9f3a"
            ],
            [
             0.8888888888888888,
             "#fdca26"
            ],
            [
             1,
             "#f0f921"
            ]
           ],
           "sequentialminus": [
            [
             0,
             "#0d0887"
            ],
            [
             0.1111111111111111,
             "#46039f"
            ],
            [
             0.2222222222222222,
             "#7201a8"
            ],
            [
             0.3333333333333333,
             "#9c179e"
            ],
            [
             0.4444444444444444,
             "#bd3786"
            ],
            [
             0.5555555555555556,
             "#d8576b"
            ],
            [
             0.6666666666666666,
             "#ed7953"
            ],
            [
             0.7777777777777778,
             "#fb9f3a"
            ],
            [
             0.8888888888888888,
             "#fdca26"
            ],
            [
             1,
             "#f0f921"
            ]
           ]
          },
          "colorway": [
           "#636efa",
           "#EF553B",
           "#00cc96",
           "#ab63fa",
           "#FFA15A",
           "#19d3f3",
           "#FF6692",
           "#B6E880",
           "#FF97FF",
           "#FECB52"
          ],
          "font": {
           "color": "#2a3f5f"
          },
          "geo": {
           "bgcolor": "white",
           "lakecolor": "white",
           "landcolor": "#E5ECF6",
           "showlakes": true,
           "showland": true,
           "subunitcolor": "white"
          },
          "hoverlabel": {
           "align": "left"
          },
          "hovermode": "closest",
          "mapbox": {
           "style": "light"
          },
          "paper_bgcolor": "white",
          "plot_bgcolor": "#E5ECF6",
          "polar": {
           "angularaxis": {
            "gridcolor": "white",
            "linecolor": "white",
            "ticks": ""
           },
           "bgcolor": "#E5ECF6",
           "radialaxis": {
            "gridcolor": "white",
            "linecolor": "white",
            "ticks": ""
           }
          },
          "scene": {
           "xaxis": {
            "backgroundcolor": "#E5ECF6",
            "gridcolor": "white",
            "gridwidth": 2,
            "linecolor": "white",
            "showbackground": true,
            "ticks": "",
            "zerolinecolor": "white"
           },
           "yaxis": {
            "backgroundcolor": "#E5ECF6",
            "gridcolor": "white",
            "gridwidth": 2,
            "linecolor": "white",
            "showbackground": true,
            "ticks": "",
            "zerolinecolor": "white"
           },
           "zaxis": {
            "backgroundcolor": "#E5ECF6",
            "gridcolor": "white",
            "gridwidth": 2,
            "linecolor": "white",
            "showbackground": true,
            "ticks": "",
            "zerolinecolor": "white"
           }
          },
          "shapedefaults": {
           "line": {
            "color": "#2a3f5f"
           }
          },
          "ternary": {
           "aaxis": {
            "gridcolor": "white",
            "linecolor": "white",
            "ticks": ""
           },
           "baxis": {
            "gridcolor": "white",
            "linecolor": "white",
            "ticks": ""
           },
           "bgcolor": "#E5ECF6",
           "caxis": {
            "gridcolor": "white",
            "linecolor": "white",
            "ticks": ""
           }
          },
          "title": {
           "x": 0.05
          },
          "xaxis": {
           "automargin": true,
           "gridcolor": "white",
           "linecolor": "white",
           "ticks": "",
           "title": {
            "standoff": 15
           },
           "zerolinecolor": "white",
           "zerolinewidth": 2
          },
          "yaxis": {
           "automargin": true,
           "gridcolor": "white",
           "linecolor": "white",
           "ticks": "",
           "title": {
            "standoff": 15
           },
           "zerolinecolor": "white",
           "zerolinewidth": 2
          }
         }
        },
        "title": {
         "text": "Суммарные продажи для каждой платформы по годам"
        }
       }
      },
      "text/html": [
       "<div>                            <div id=\"f1401cb0-6bd7-473e-8bae-454c8916649d\" class=\"plotly-graph-div\" style=\"height:525px; width:100%;\"></div>            <script type=\"text/javascript\">                require([\"plotly\"], function(Plotly) {                    window.PLOTLYENV=window.PLOTLYENV || {};                                    if (document.getElementById(\"f1401cb0-6bd7-473e-8bae-454c8916649d\")) {                    Plotly.newPlot(                        \"f1401cb0-6bd7-473e-8bae-454c8916649d\",                        [{\"name\":\"PS3\",\"x\":[2013,2014,2015,2016],\"y\":[113.25,47.760000000000005,16.82,3.6],\"type\":\"scatter\"},{\"name\":\"X360\",\"x\":[2013,2014,2015,2016],\"y\":[88.58,34.74,11.959999999999999,1.52],\"type\":\"scatter\"},{\"name\":\"PS4\",\"x\":[2013,2014,2015,2016],\"y\":[25.99,100.0,118.9,69.25],\"type\":\"scatter\"},{\"name\":\"3DS\",\"x\":[2013,2014,2015,2016],\"y\":[56.57,43.76,27.78,15.14],\"type\":\"scatter\"},{\"name\":\"XOne\",\"x\":[2013,2014,2015,2016],\"y\":[18.96,54.07,60.14,26.150000000000002],\"type\":\"scatter\"},{\"name\":\"WiiU\",\"x\":[2013,2014,2015,2016],\"y\":[21.650000000000002,22.03,16.35,4.6000000000000005],\"type\":\"scatter\"},{\"name\":\"Wii\",\"x\":[2013,2014,2015,2016],\"y\":[8.59,3.75,1.14,0.18],\"type\":\"scatter\"},{\"name\":\"PC\",\"x\":[2013,2014,2015,2016],\"y\":[12.38,13.280000000000001,8.520000000000001,5.25],\"type\":\"scatter\"},{\"name\":\"PSV\",\"x\":[2013,2014,2015,2016],\"y\":[10.59,11.9,6.25,4.25],\"type\":\"scatter\"},{\"name\":\"DS\",\"x\":[2013],\"y\":[1.54],\"type\":\"scatter\"},{\"name\":\"PSP\",\"x\":[2013,2014,2015],\"y\":[3.14,0.24,0.12],\"type\":\"scatter\"}],                        {\"template\":{\"data\":{\"barpolar\":[{\"marker\":{\"line\":{\"color\":\"#E5ECF6\",\"width\":0.5},\"pattern\":{\"fillmode\":\"overlay\",\"size\":10,\"solidity\":0.2}},\"type\":\"barpolar\"}],\"bar\":[{\"error_x\":{\"color\":\"#2a3f5f\"},\"error_y\":{\"color\":\"#2a3f5f\"},\"marker\":{\"line\":{\"color\":\"#E5ECF6\",\"width\":0.5},\"pattern\":{\"fillmode\":\"overlay\",\"size\":10,\"solidity\":0.2}},\"type\":\"bar\"}],\"carpet\":[{\"aaxis\":{\"endlinecolor\":\"#2a3f5f\",\"gridcolor\":\"white\",\"linecolor\":\"white\",\"minorgridcolor\":\"white\",\"startlinecolor\":\"#2a3f5f\"},\"baxis\":{\"endlinecolor\":\"#2a3f5f\",\"gridcolor\":\"white\",\"linecolor\":\"white\",\"minorgridcolor\":\"white\",\"startlinecolor\":\"#2a3f5f\"},\"type\":\"carpet\"}],\"choropleth\":[{\"colorbar\":{\"outlinewidth\":0,\"ticks\":\"\"},\"type\":\"choropleth\"}],\"contourcarpet\":[{\"colorbar\":{\"outlinewidth\":0,\"ticks\":\"\"},\"type\":\"contourcarpet\"}],\"contour\":[{\"colorbar\":{\"outlinewidth\":0,\"ticks\":\"\"},\"colorscale\":[[0.0,\"#0d0887\"],[0.1111111111111111,\"#46039f\"],[0.2222222222222222,\"#7201a8\"],[0.3333333333333333,\"#9c179e\"],[0.4444444444444444,\"#bd3786\"],[0.5555555555555556,\"#d8576b\"],[0.6666666666666666,\"#ed7953\"],[0.7777777777777778,\"#fb9f3a\"],[0.8888888888888888,\"#fdca26\"],[1.0,\"#f0f921\"]],\"type\":\"contour\"}],\"heatmapgl\":[{\"colorbar\":{\"outlinewidth\":0,\"ticks\":\"\"},\"colorscale\":[[0.0,\"#0d0887\"],[0.1111111111111111,\"#46039f\"],[0.2222222222222222,\"#7201a8\"],[0.3333333333333333,\"#9c179e\"],[0.4444444444444444,\"#bd3786\"],[0.5555555555555556,\"#d8576b\"],[0.6666666666666666,\"#ed7953\"],[0.7777777777777778,\"#fb9f3a\"],[0.8888888888888888,\"#fdca26\"],[1.0,\"#f0f921\"]],\"type\":\"heatmapgl\"}],\"heatmap\":[{\"colorbar\":{\"outlinewidth\":0,\"ticks\":\"\"},\"colorscale\":[[0.0,\"#0d0887\"],[0.1111111111111111,\"#46039f\"],[0.2222222222222222,\"#7201a8\"],[0.3333333333333333,\"#9c179e\"],[0.4444444444444444,\"#bd3786\"],[0.5555555555555556,\"#d8576b\"],[0.6666666666666666,\"#ed7953\"],[0.7777777777777778,\"#fb9f3a\"],[0.8888888888888888,\"#fdca26\"],[1.0,\"#f0f921\"]],\"type\":\"heatmap\"}],\"histogram2dcontour\":[{\"colorbar\":{\"outlinewidth\":0,\"ticks\":\"\"},\"colorscale\":[[0.0,\"#0d0887\"],[0.1111111111111111,\"#46039f\"],[0.2222222222222222,\"#7201a8\"],[0.3333333333333333,\"#9c179e\"],[0.4444444444444444,\"#bd3786\"],[0.5555555555555556,\"#d8576b\"],[0.6666666666666666,\"#ed7953\"],[0.7777777777777778,\"#fb9f3a\"],[0.8888888888888888,\"#fdca26\"],[1.0,\"#f0f921\"]],\"type\":\"histogram2dcontour\"}],\"histogram2d\":[{\"colorbar\":{\"outlinewidth\":0,\"ticks\":\"\"},\"colorscale\":[[0.0,\"#0d0887\"],[0.1111111111111111,\"#46039f\"],[0.2222222222222222,\"#7201a8\"],[0.3333333333333333,\"#9c179e\"],[0.4444444444444444,\"#bd3786\"],[0.5555555555555556,\"#d8576b\"],[0.6666666666666666,\"#ed7953\"],[0.7777777777777778,\"#fb9f3a\"],[0.8888888888888888,\"#fdca26\"],[1.0,\"#f0f921\"]],\"type\":\"histogram2d\"}],\"histogram\":[{\"marker\":{\"pattern\":{\"fillmode\":\"overlay\",\"size\":10,\"solidity\":0.2}},\"type\":\"histogram\"}],\"mesh3d\":[{\"colorbar\":{\"outlinewidth\":0,\"ticks\":\"\"},\"type\":\"mesh3d\"}],\"parcoords\":[{\"line\":{\"colorbar\":{\"outlinewidth\":0,\"ticks\":\"\"}},\"type\":\"parcoords\"}],\"pie\":[{\"automargin\":true,\"type\":\"pie\"}],\"scatter3d\":[{\"line\":{\"colorbar\":{\"outlinewidth\":0,\"ticks\":\"\"}},\"marker\":{\"colorbar\":{\"outlinewidth\":0,\"ticks\":\"\"}},\"type\":\"scatter3d\"}],\"scattercarpet\":[{\"marker\":{\"colorbar\":{\"outlinewidth\":0,\"ticks\":\"\"}},\"type\":\"scattercarpet\"}],\"scattergeo\":[{\"marker\":{\"colorbar\":{\"outlinewidth\":0,\"ticks\":\"\"}},\"type\":\"scattergeo\"}],\"scattergl\":[{\"marker\":{\"colorbar\":{\"outlinewidth\":0,\"ticks\":\"\"}},\"type\":\"scattergl\"}],\"scattermapbox\":[{\"marker\":{\"colorbar\":{\"outlinewidth\":0,\"ticks\":\"\"}},\"type\":\"scattermapbox\"}],\"scatterpolargl\":[{\"marker\":{\"colorbar\":{\"outlinewidth\":0,\"ticks\":\"\"}},\"type\":\"scatterpolargl\"}],\"scatterpolar\":[{\"marker\":{\"colorbar\":{\"outlinewidth\":0,\"ticks\":\"\"}},\"type\":\"scatterpolar\"}],\"scatter\":[{\"marker\":{\"colorbar\":{\"outlinewidth\":0,\"ticks\":\"\"}},\"type\":\"scatter\"}],\"scatterternary\":[{\"marker\":{\"colorbar\":{\"outlinewidth\":0,\"ticks\":\"\"}},\"type\":\"scatterternary\"}],\"surface\":[{\"colorbar\":{\"outlinewidth\":0,\"ticks\":\"\"},\"colorscale\":[[0.0,\"#0d0887\"],[0.1111111111111111,\"#46039f\"],[0.2222222222222222,\"#7201a8\"],[0.3333333333333333,\"#9c179e\"],[0.4444444444444444,\"#bd3786\"],[0.5555555555555556,\"#d8576b\"],[0.6666666666666666,\"#ed7953\"],[0.7777777777777778,\"#fb9f3a\"],[0.8888888888888888,\"#fdca26\"],[1.0,\"#f0f921\"]],\"type\":\"surface\"}],\"table\":[{\"cells\":{\"fill\":{\"color\":\"#EBF0F8\"},\"line\":{\"color\":\"white\"}},\"header\":{\"fill\":{\"color\":\"#C8D4E3\"},\"line\":{\"color\":\"white\"}},\"type\":\"table\"}]},\"layout\":{\"annotationdefaults\":{\"arrowcolor\":\"#2a3f5f\",\"arrowhead\":0,\"arrowwidth\":1},\"autotypenumbers\":\"strict\",\"coloraxis\":{\"colorbar\":{\"outlinewidth\":0,\"ticks\":\"\"}},\"colorscale\":{\"diverging\":[[0,\"#8e0152\"],[0.1,\"#c51b7d\"],[0.2,\"#de77ae\"],[0.3,\"#f1b6da\"],[0.4,\"#fde0ef\"],[0.5,\"#f7f7f7\"],[0.6,\"#e6f5d0\"],[0.7,\"#b8e186\"],[0.8,\"#7fbc41\"],[0.9,\"#4d9221\"],[1,\"#276419\"]],\"sequential\":[[0.0,\"#0d0887\"],[0.1111111111111111,\"#46039f\"],[0.2222222222222222,\"#7201a8\"],[0.3333333333333333,\"#9c179e\"],[0.4444444444444444,\"#bd3786\"],[0.5555555555555556,\"#d8576b\"],[0.6666666666666666,\"#ed7953\"],[0.7777777777777778,\"#fb9f3a\"],[0.8888888888888888,\"#fdca26\"],[1.0,\"#f0f921\"]],\"sequentialminus\":[[0.0,\"#0d0887\"],[0.1111111111111111,\"#46039f\"],[0.2222222222222222,\"#7201a8\"],[0.3333333333333333,\"#9c179e\"],[0.4444444444444444,\"#bd3786\"],[0.5555555555555556,\"#d8576b\"],[0.6666666666666666,\"#ed7953\"],[0.7777777777777778,\"#fb9f3a\"],[0.8888888888888888,\"#fdca26\"],[1.0,\"#f0f921\"]]},\"colorway\":[\"#636efa\",\"#EF553B\",\"#00cc96\",\"#ab63fa\",\"#FFA15A\",\"#19d3f3\",\"#FF6692\",\"#B6E880\",\"#FF97FF\",\"#FECB52\"],\"font\":{\"color\":\"#2a3f5f\"},\"geo\":{\"bgcolor\":\"white\",\"lakecolor\":\"white\",\"landcolor\":\"#E5ECF6\",\"showlakes\":true,\"showland\":true,\"subunitcolor\":\"white\"},\"hoverlabel\":{\"align\":\"left\"},\"hovermode\":\"closest\",\"mapbox\":{\"style\":\"light\"},\"paper_bgcolor\":\"white\",\"plot_bgcolor\":\"#E5ECF6\",\"polar\":{\"angularaxis\":{\"gridcolor\":\"white\",\"linecolor\":\"white\",\"ticks\":\"\"},\"bgcolor\":\"#E5ECF6\",\"radialaxis\":{\"gridcolor\":\"white\",\"linecolor\":\"white\",\"ticks\":\"\"}},\"scene\":{\"xaxis\":{\"backgroundcolor\":\"#E5ECF6\",\"gridcolor\":\"white\",\"gridwidth\":2,\"linecolor\":\"white\",\"showbackground\":true,\"ticks\":\"\",\"zerolinecolor\":\"white\"},\"yaxis\":{\"backgroundcolor\":\"#E5ECF6\",\"gridcolor\":\"white\",\"gridwidth\":2,\"linecolor\":\"white\",\"showbackground\":true,\"ticks\":\"\",\"zerolinecolor\":\"white\"},\"zaxis\":{\"backgroundcolor\":\"#E5ECF6\",\"gridcolor\":\"white\",\"gridwidth\":2,\"linecolor\":\"white\",\"showbackground\":true,\"ticks\":\"\",\"zerolinecolor\":\"white\"}},\"shapedefaults\":{\"line\":{\"color\":\"#2a3f5f\"}},\"ternary\":{\"aaxis\":{\"gridcolor\":\"white\",\"linecolor\":\"white\",\"ticks\":\"\"},\"baxis\":{\"gridcolor\":\"white\",\"linecolor\":\"white\",\"ticks\":\"\"},\"bgcolor\":\"#E5ECF6\",\"caxis\":{\"gridcolor\":\"white\",\"linecolor\":\"white\",\"ticks\":\"\"}},\"title\":{\"x\":0.05},\"xaxis\":{\"automargin\":true,\"gridcolor\":\"white\",\"linecolor\":\"white\",\"ticks\":\"\",\"title\":{\"standoff\":15},\"zerolinecolor\":\"white\",\"zerolinewidth\":2},\"yaxis\":{\"automargin\":true,\"gridcolor\":\"white\",\"linecolor\":\"white\",\"ticks\":\"\",\"title\":{\"standoff\":15},\"zerolinecolor\":\"white\",\"zerolinewidth\":2}}},\"title\":{\"text\":\"\\u0421\\u0443\\u043c\\u043c\\u0430\\u0440\\u043d\\u044b\\u0435 \\u043f\\u0440\\u043e\\u0434\\u0430\\u0436\\u0438 \\u0434\\u043b\\u044f \\u043a\\u0430\\u0436\\u0434\\u043e\\u0439 \\u043f\\u043b\\u0430\\u0442\\u0444\\u043e\\u0440\\u043c\\u044b \\u043f\\u043e \\u0433\\u043e\\u0434\\u0430\\u043c\"}},                        {\"responsive\": true}                    ).then(function(){\n",
       "                            \n",
       "var gd = document.getElementById('f1401cb0-6bd7-473e-8bae-454c8916649d');\n",
       "var x = new MutationObserver(function (mutations, observer) {{\n",
       "        var display = window.getComputedStyle(gd).display;\n",
       "        if (!display || display === 'none') {{\n",
       "            console.log([gd, 'removed!']);\n",
       "            Plotly.purge(gd);\n",
       "            observer.disconnect();\n",
       "        }}\n",
       "}});\n",
       "\n",
       "// Listen for the removal of the full notebook cells\n",
       "var notebookContainer = gd.closest('#notebook-container');\n",
       "if (notebookContainer) {{\n",
       "    x.observe(notebookContainer, {childList: true});\n",
       "}}\n",
       "\n",
       "// Listen for the clearing of the current output cell\n",
       "var outputEl = gd.closest('.output');\n",
       "if (outputEl) {{\n",
       "    x.observe(outputEl, {childList: true});\n",
       "}}\n",
       "\n",
       "                        })                };                });            </script>        </div>"
      ]
     },
     "metadata": {},
     "output_type": "display_data"
    }
   ],
   "source": [
    "df = []\n",
    "\n",
    "for platform in data_new['platform'].unique():\n",
    "    df.append(\n",
    "        go.Scatter(x=data_new[data_new.platform==platform].groupby('year_of_release')['sum_sales'].sum().index,\n",
    "               y=data_new[data_new.platform==platform].groupby('year_of_release')['sum_sales'].sum(),\n",
    "               name=platform)\n",
    "    )\n",
    "layout = {'title': 'Суммарные продажи для каждой платформы по годам'}\n",
    "    \n",
    "fig = go.Figure(data=df, layout=layout)\n",
    "iplot(fig, show_link = False)"
   ]
  },
  {
   "cell_type": "code",
   "execution_count": 102,
   "metadata": {},
   "outputs": [
    {
     "data": {
      "image/png": "[encoded data removed]",
      "text/plain": [
       "<Figure size 432x288 with 1 Axes>"
      ]
     },
     "metadata": {
      "needs_background": "light"
     },
     "output_type": "display_data"
    }
   ],
   "source": [
    "plt.title('Суммарный объем продаж за 3 года для каждой платформы')\n",
    "(data_new\n",
    "         .groupby('platform')['sum_sales'].sum()\n",
    "         .sort_values(ascending=False)\n",
    "         .plot(kind='barh', grid=True, legend=False)\n",
    ");\n"
   ]
  },
  {
   "cell_type": "markdown",
   "metadata": {},
   "source": [
    "ТОП-3 платформы по продажам в мире это PS4, PS3, XOne. В 2015 продажи на пике у  PS4 и XOne, так как они заменяют предыдущее поколение игровых приставок. На убыль идут приставки предыдущего поколения PS3 и X360.\n",
    "Максимальная суммарная продажа была у платформы PS4 в 2015 году и составила почти 119 млн проданных копий. \n",
    "\n",
    "Таким образом потенциально прибыльными платформами можно считать PS4 и XOne, их \"жизненный цикл\" только начался, данные платформы пришли на смену предыдущих и в будущем можно ожидать увеличение прибыли от них.\n",
    "\n"
   ]
  },
  {
   "cell_type": "markdown",
   "metadata": {},
   "source": [
    "#### Построим график «ящик с усами» по глобальным продажам игр в разбивке по платформам за актуальный период. "
   ]
  },
  {
   "cell_type": "markdown",
   "metadata": {},
   "source": [
    "По графику выше можно сделать вывод что лидерами продаж являются пять платформ: PS4, PS3, XOne, 3DS, X360. Отфильтруем данные и построим график «ящик с усами» по глобальным продажам игр для ТОП-5 лидеров продаж."
   ]
  },
  {
   "cell_type": "code",
   "execution_count": 103,
   "metadata": {},
   "outputs": [],
   "source": [
    "#создадим таблицу с информацией о ТОП-5 платформах\n",
    "top_platforms = data[data['platform'].isin(['PS4','X360','PS3','XOne','3DS'])]"
   ]
  },
  {
   "cell_type": "code",
   "execution_count": 104,
   "metadata": {},
   "outputs": [
    {
     "data": {
      "image/png": "[encoded data removed]",
      "text/plain": [
       "<Figure size 720x720 with 1 Axes>"
      ]
     },
     "metadata": {
      "needs_background": "light"
     },
     "output_type": "display_data"
    }
   ],
   "source": [
    "plt.figure(figsize=(10,10))\n",
    "sns.boxplot(data=top_platforms, x='platform', y='sum_sales')\n",
    "plt.title('График по глобальным продажам')\n",
    "plt.xlabel('Платформа')\n",
    "plt.ylabel('Объем продаж');"
   ]
  },
  {
   "cell_type": "markdown",
   "metadata": {},
   "source": [
    "На графике есть аномальные выбросы практически у всех платформ, сделаем дополнительный график, ограничивающий выбросы."
   ]
  },
  {
   "cell_type": "code",
   "execution_count": 105,
   "metadata": {},
   "outputs": [
    {
     "data": {
      "image/png": "[encoded data removed]",
      "text/plain": [
       "<Figure size 720x720 with 1 Axes>"
      ]
     },
     "metadata": {
      "needs_background": "light"
     },
     "output_type": "display_data"
    }
   ],
   "source": [
    "plt.figure(figsize=(10,10))\n",
    "sns.boxplot(data=top_platforms, x='platform', y='sum_sales')\n",
    "plt.title('График по глобальным продажам')\n",
    "plt.xlabel('Платформа')\n",
    "plt.ylabel('Объем продаж')\n",
    "#ограничим ось у , тк у платформ есть выброс , который делает график не информативным\n",
    "plt.ylim (0,5);"
   ]
  },
  {
   "cell_type": "markdown",
   "metadata": {},
   "source": [
    "Анализируя график можно сделать вывод, что на всех платформах есть аномальные выбросы. Можно отметить, что аномальнo крупные продажи были у X360 и PS3."
   ]
  },
  {
   "cell_type": "markdown",
   "metadata": {},
   "source": [
    "#### Проанализируем, как влияют на продажи внутри одной популярной платформы отзывы пользователей и критиков. \n",
    "\n",
    "Построим диаграмму рассеяния и посчитаем корреляцию между отзывами и продажами на примере платформы PS4"
   ]
  },
  {
   "cell_type": "code",
   "execution_count": 106,
   "metadata": {},
   "outputs": [],
   "source": [
    "data_ps = data[data['platform'] == 'PS4']\n",
    "#создадим таблицу лишь с столбцами суммы, и оценки пользователей и критиков\n",
    "data_ps = data_ps.loc[:, ['sum_sales', 'critic_score', 'user_score']]"
   ]
  },
  {
   "cell_type": "code",
   "execution_count": 107,
   "metadata": {},
   "outputs": [
    {
     "data": {
      "image/png": "[encoded data removed]",
      "text/plain": [
       "<Figure size 648x648 with 9 Axes>"
      ]
     },
     "metadata": {
      "needs_background": "light"
     },
     "output_type": "display_data"
    }
   ],
   "source": [
    "#Построим матрицу рассеяния\n",
    "pd.plotting.scatter_matrix(data_ps, figsize=(9, 9));"
   ]
  },
  {
   "cell_type": "code",
   "execution_count": 108,
   "metadata": {},
   "outputs": [
    {
     "data": {
      "text/html": [
       "<div>\n",
       "<style scoped>\n",
       "    .dataframe tbody tr th:only-of-type {\n",
       "        vertical-align: middle;\n",
       "    }\n",
       "\n",
       "    .dataframe tbody tr th {\n",
       "        vertical-align: top;\n",
       "    }\n",
       "\n",
       "    .dataframe thead th {\n",
       "        text-align: right;\n",
       "    }\n",
       "</style>\n",
       "<table border=\"1\" class=\"dataframe\">\n",
       "  <thead>\n",
       "    <tr style=\"text-align: right;\">\n",
       "      <th></th>\n",
       "      <th>sum_sales</th>\n",
       "      <th>critic_score</th>\n",
       "      <th>user_score</th>\n",
       "    </tr>\n",
       "  </thead>\n",
       "  <tbody>\n",
       "    <tr>\n",
       "      <th>sum_sales</th>\n",
       "      <td>1.000000</td>\n",
       "      <td>0.406568</td>\n",
       "      <td>0.023279</td>\n",
       "    </tr>\n",
       "    <tr>\n",
       "      <th>critic_score</th>\n",
       "      <td>0.406568</td>\n",
       "      <td>1.000000</td>\n",
       "      <td>0.520752</td>\n",
       "    </tr>\n",
       "    <tr>\n",
       "      <th>user_score</th>\n",
       "      <td>0.023279</td>\n",
       "      <td>0.520752</td>\n",
       "      <td>1.000000</td>\n",
       "    </tr>\n",
       "  </tbody>\n",
       "</table>\n",
       "</div>"
      ],
      "text/plain": [
       "              sum_sales  critic_score  user_score\n",
       "sum_sales      1.000000      0.406568    0.023279\n",
       "critic_score   0.406568      1.000000    0.520752\n",
       "user_score     0.023279      0.520752    1.000000"
      ]
     },
     "execution_count": 108,
     "metadata": {},
     "output_type": "execute_result"
    }
   ],
   "source": [
    "#матрица корреляции\n",
    "data_ps.corr()"
   ]
  },
  {
   "cell_type": "markdown",
   "metadata": {},
   "source": [
    "Можно сделать вывод, что оценки критиков влияют на продажи. При высокой оценке игра лучше продается. Сильной зависимости между оценкой игроков и продажами нет. Стоит заметить, что на оценку игроков влияют критики, Чем выше оценка критика, тем выше мнение игрока.\n",
    "\n",
    "\n",
    "\n",
    "Проверим наши выводы с продажами игр на других платформах. Построим графики для X360 и DS."
   ]
  },
  {
   "cell_type": "code",
   "execution_count": 109,
   "metadata": {},
   "outputs": [
    {
     "data": {
      "image/png": "[encoded data removed]",
      "text/plain": [
       "<Figure size 648x648 with 9 Axes>"
      ]
     },
     "metadata": {
      "needs_background": "light"
     },
     "output_type": "display_data"
    }
   ],
   "source": [
    "data_ps = data[data['platform'] == 'X360']\n",
    "#создадим таблицу лишь с столбцами суммы, и оценки пользователей и критиков\n",
    "data_ps = data_ps.loc[:, ['sum_sales', 'critic_score', 'user_score']]\n",
    "#Построим матрицу рассеяния\n",
    "pd.plotting.scatter_matrix(data_ps, figsize=(9, 9));"
   ]
  },
  {
   "cell_type": "code",
   "execution_count": 110,
   "metadata": {},
   "outputs": [
    {
     "data": {
      "text/html": [
       "<div>\n",
       "<style scoped>\n",
       "    .dataframe tbody tr th:only-of-type {\n",
       "        vertical-align: middle;\n",
       "    }\n",
       "\n",
       "    .dataframe tbody tr th {\n",
       "        vertical-align: top;\n",
       "    }\n",
       "\n",
       "    .dataframe thead th {\n",
       "        text-align: right;\n",
       "    }\n",
       "</style>\n",
       "<table border=\"1\" class=\"dataframe\">\n",
       "  <thead>\n",
       "    <tr style=\"text-align: right;\">\n",
       "      <th></th>\n",
       "      <th>sum_sales</th>\n",
       "      <th>critic_score</th>\n",
       "      <th>user_score</th>\n",
       "    </tr>\n",
       "  </thead>\n",
       "  <tbody>\n",
       "    <tr>\n",
       "      <th>sum_sales</th>\n",
       "      <td>1.000000</td>\n",
       "      <td>0.393736</td>\n",
       "      <td>0.166731</td>\n",
       "    </tr>\n",
       "    <tr>\n",
       "      <th>critic_score</th>\n",
       "      <td>0.393736</td>\n",
       "      <td>1.000000</td>\n",
       "      <td>0.545538</td>\n",
       "    </tr>\n",
       "    <tr>\n",
       "      <th>user_score</th>\n",
       "      <td>0.166731</td>\n",
       "      <td>0.545538</td>\n",
       "      <td>1.000000</td>\n",
       "    </tr>\n",
       "  </tbody>\n",
       "</table>\n",
       "</div>"
      ],
      "text/plain": [
       "              sum_sales  critic_score  user_score\n",
       "sum_sales      1.000000      0.393736    0.166731\n",
       "critic_score   0.393736      1.000000    0.545538\n",
       "user_score     0.166731      0.545538    1.000000"
      ]
     },
     "execution_count": 110,
     "metadata": {},
     "output_type": "execute_result"
    }
   ],
   "source": [
    "#матрица корреляции\n",
    "data_ps.corr()"
   ]
  },
  {
   "cell_type": "code",
   "execution_count": 111,
   "metadata": {},
   "outputs": [
    {
     "data": {
      "image/png": "[encoded data removed]",
      "text/plain": [
       "<Figure size 648x648 with 9 Axes>"
      ]
     },
     "metadata": {
      "needs_background": "light"
     },
     "output_type": "display_data"
    }
   ],
   "source": [
    "data_ps = data[data['platform'] == 'DS']\n",
    "#создадим таблицу лишь с столбцами суммы, и оценки пользователей и критиков\n",
    "data_ps = data_ps.loc[:, ['sum_sales', 'critic_score', 'user_score']]\n",
    "#Построим матрицу рассеяния\n",
    "pd.plotting.scatter_matrix(data_ps, figsize=(9, 9));"
   ]
  },
  {
   "cell_type": "code",
   "execution_count": 112,
   "metadata": {},
   "outputs": [
    {
     "data": {
      "text/html": [
       "<div>\n",
       "<style scoped>\n",
       "    .dataframe tbody tr th:only-of-type {\n",
       "        vertical-align: middle;\n",
       "    }\n",
       "\n",
       "    .dataframe tbody tr th {\n",
       "        vertical-align: top;\n",
       "    }\n",
       "\n",
       "    .dataframe thead th {\n",
       "        text-align: right;\n",
       "    }\n",
       "</style>\n",
       "<table border=\"1\" class=\"dataframe\">\n",
       "  <thead>\n",
       "    <tr style=\"text-align: right;\">\n",
       "      <th></th>\n",
       "      <th>sum_sales</th>\n",
       "      <th>critic_score</th>\n",
       "      <th>user_score</th>\n",
       "    </tr>\n",
       "  </thead>\n",
       "  <tbody>\n",
       "    <tr>\n",
       "      <th>sum_sales</th>\n",
       "      <td>1.000000</td>\n",
       "      <td>0.236379</td>\n",
       "      <td>0.227980</td>\n",
       "    </tr>\n",
       "    <tr>\n",
       "      <th>critic_score</th>\n",
       "      <td>0.236379</td>\n",
       "      <td>1.000000</td>\n",
       "      <td>0.445258</td>\n",
       "    </tr>\n",
       "    <tr>\n",
       "      <th>user_score</th>\n",
       "      <td>0.227980</td>\n",
       "      <td>0.445258</td>\n",
       "      <td>1.000000</td>\n",
       "    </tr>\n",
       "  </tbody>\n",
       "</table>\n",
       "</div>"
      ],
      "text/plain": [
       "              sum_sales  critic_score  user_score\n",
       "sum_sales      1.000000      0.236379    0.227980\n",
       "critic_score   0.236379      1.000000    0.445258\n",
       "user_score     0.227980      0.445258    1.000000"
      ]
     },
     "execution_count": 112,
     "metadata": {},
     "output_type": "execute_result"
    }
   ],
   "source": [
    "#матрица корреляции\n",
    "data_ps.corr()"
   ]
  },
  {
   "cell_type": "markdown",
   "metadata": {},
   "source": [
    "Наши выводы подтверждаются, на платформах X360 и DS имеются похожие тенденции как и у PS4."
   ]
  },
  {
   "cell_type": "markdown",
   "metadata": {},
   "source": [
    "#### Проанализируем  общее распределение игр по жанрам. "
   ]
  },
  {
   "cell_type": "code",
   "execution_count": 113,
   "metadata": {},
   "outputs": [
    {
     "data": {
      "image/png": "[encoded data removed]",
      "text/plain": [
       "<Figure size 1800x720 with 1 Axes>"
      ]
     },
     "metadata": {},
     "output_type": "display_data"
    }
   ],
   "source": [
    "data_genre = data.groupby('genre')['name'].count()\n",
    "genres = data_genre.index\n",
    "plt.figure(figsize=(25,10))\n",
    "plt.pie(x=data_genre, labels=genres, autopct=\"%.2f\")\n",
    "plt.show()"
   ]
  },
  {
   "cell_type": "markdown",
   "metadata": {},
   "source": [
    "В представленных данных более 20% это игры жанра Action, Так же популярны игры жанра Sports, их доля равна 14% и Misc - почти 11%. Доли остальных жанров не более 10%."
   ]
  },
  {
   "cell_type": "code",
   "execution_count": 114,
   "metadata": {},
   "outputs": [
    {
     "data": {
      "image/png": "[encoded data removed]",
      "text/plain": [
       "<Figure size 720x504 with 1 Axes>"
      ]
     },
     "metadata": {
      "needs_background": "light"
     },
     "output_type": "display_data"
    }
   ],
   "source": [
    "plt.figure(figsize=(10, 7));\n",
    "plt.title('Средняя стоимость игры каждого жанра');\n",
    "(data\n",
    "         .groupby('genre')['sum_sales'].median()\n",
    "         .sort_values(ascending=False)\n",
    "         .plot(kind='barh', grid=True, legend=False)\n",
    ");\n",
    "#используем медиану, тк возможы выбросы в стоимости отдельной игры, что може изказить среднее"
   ]
  },
  {
   "cell_type": "markdown",
   "metadata": {},
   "source": [
    "Самая дорогая средняя стоимость одной игры у жанра Platform, так же дорогими являются Fighting, Sports и Shooter. Средняя стоимость игры у жанра Adventure значительно ниже остальных жанров."
   ]
  },
  {
   "cell_type": "markdown",
   "metadata": {},
   "source": [
    "### Составим портрет пользователя каждого региона.\n",
    "\n",
    "\n",
    "#### В таблице представлены пользователи из трех регионов: Северная Америка, Европа и Япония. Найдем ТОП-5 платформ для каждого региона."
   ]
  },
  {
   "cell_type": "code",
   "execution_count": 115,
   "metadata": {},
   "outputs": [],
   "source": [
    "#Создадим функцию для создания портрета пользователя \n",
    "def user_portrait(item, row):\n",
    "    s = data.groupby(item)[row].sum().sort_values(ascending=False).head(5)\n",
    "    return s"
   ]
  },
  {
   "cell_type": "code",
   "execution_count": 116,
   "metadata": {},
   "outputs": [],
   "source": [
    "#создадим функцию для визуализации портрета\n",
    "def vizual__portrait(a,b,c, tittle):\n",
    "    fig = plt.figure(figsize=(15, 6))\n",
    "    ax1 = fig.add_subplot(1, 3, 1)\n",
    "    ax2 = fig.add_subplot(1, 3, 2)\n",
    "    ax3 = fig.add_subplot(1, 3, 3)\n",
    "    ax1.bar(a.index, a);\n",
    "    ax1.set_title('Северная Америка')\n",
    "    ax2.bar(b.index, b);\n",
    "    ax2.set_title('Европа')\n",
    "    ax3.bar(c.index, c);\n",
    "    ax3.set_title('Япония')\n",
    "    fig.suptitle(tittle)\n",
    "    plt.show()"
   ]
  },
  {
   "cell_type": "code",
   "execution_count": 117,
   "metadata": {},
   "outputs": [],
   "source": [
    "# для каждого региона применим функцию создание портрета\n",
    "na_platform = user_portrait('platform', 'na_sales')\n",
    "eu_platform = user_portrait('platform', 'eu_sales')\n",
    "jp_platform = user_portrait('platform', 'jp_sales')"
   ]
  },
  {
   "cell_type": "code",
   "execution_count": 118,
   "metadata": {},
   "outputs": [
    {
     "data": {
      "image/png": "[encoded data removed]",
      "text/plain": [
       "<Figure size 1080x432 with 3 Axes>"
      ]
     },
     "metadata": {
      "needs_background": "light"
     },
     "output_type": "display_data"
    }
   ],
   "source": [
    "#применим функцию визуализации\n",
    "vizual__portrait(na_platform, eu_platform, jp_platform, 'ТОП-5 платформ')"
   ]
  },
  {
   "cell_type": "markdown",
   "metadata": {},
   "source": [
    "В Северной Америке самая популярная платформа X360. Европейцы предпочитают PS2ю В Японии популярны DS."
   ]
  },
  {
   "cell_type": "markdown",
   "metadata": {},
   "source": [
    "#### Найдем самые популярные жанры для каждого региона."
   ]
  },
  {
   "cell_type": "code",
   "execution_count": 119,
   "metadata": {},
   "outputs": [],
   "source": [
    "# для каждого региона применим функцию создание портрета\n",
    "na_genre = user_portrait('genre', 'na_sales')\n",
    "eu_genre = user_portrait('genre', 'eu_sales')\n",
    "jp_genre = user_portrait('genre', 'jp_sales')"
   ]
  },
  {
   "cell_type": "code",
   "execution_count": 120,
   "metadata": {},
   "outputs": [
    {
     "data": {
      "image/png": "[encoded data removed]",
      "text/plain": [
       "<Figure size 1080x432 with 3 Axes>"
      ]
     },
     "metadata": {
      "needs_background": "light"
     },
     "output_type": "display_data"
    }
   ],
   "source": [
    "#применим функцию визуализации\n",
    "vizual__portrait(na_genre, eu_genre, jp_genre, 'ТОП-5 жанров')"
   ]
  },
  {
   "cell_type": "markdown",
   "metadata": {},
   "source": [
    "Жанровые предпочтения Европейцев и Американцев практически совпадают. Самый популярный жанр у низ это Action, так же жители этих регионов предпочитают Sports и Shooter. Предпочтения в Японии отличаются от остальных, самым популярным жанром здесь является Role-Playing. Последнее место в ТОП5 жанров у всех регионов занимает Misc."
   ]
  },
  {
   "cell_type": "markdown",
   "metadata": {},
   "source": [
    "#### Проанализируем влияет ли рейтинг ESRB на продажи в отдельном регионе."
   ]
  },
  {
   "cell_type": "code",
   "execution_count": 121,
   "metadata": {},
   "outputs": [],
   "source": [
    "# для каждого региона применим функцию создание портрета\n",
    "na_raiting = user_portrait('rating', 'na_sales')\n",
    "eu_raiting = user_portrait('rating', 'eu_sales')\n",
    "jp_raiting = user_portrait('rating', 'jp_sales')"
   ]
  },
  {
   "cell_type": "code",
   "execution_count": 122,
   "metadata": {},
   "outputs": [
    {
     "data": {
      "image/png": "[encoded data removed]",
      "text/plain": [
       "<Figure size 1080x432 with 3 Axes>"
      ]
     },
     "metadata": {
      "needs_background": "light"
     },
     "output_type": "display_data"
    }
   ],
   "source": [
    "#применим функцию визуализации\n",
    "vizual__portrait(na_raiting, eu_raiting, jp_raiting, 'ТОП-5 рейтингов')"
   ]
  },
  {
   "cell_type": "markdown",
   "metadata": {},
   "source": [
    "Во всех представленных регионах самыми продаваемыми являются игры с рейтингои \"Е\"-для всех возрастов. Так же во всех странах в тройку лидеров входят игры для пользователей старше 13(рейтинг Т) и страше 17 лет (рейтинг М). При прогнозировании продаж необходимо учитывать региональные особенности."
   ]
  },
  {
   "cell_type": "markdown",
   "metadata": {},
   "source": [
    "### Проверка гипотез."
   ]
  },
  {
   "cell_type": "markdown",
   "metadata": {},
   "source": [
    "#### Проверим, одинаковы ли средние пользовательские рейтинги платформ Xbox One и PC.\n",
    "Сформулируем  гипотезы:\n",
    "\n",
    "Нулевая гипотеза H₀: Средние пользовательские рейтинги платформ Xbox One и PC одинаковые\n",
    "\n",
    "\n",
    "Альтернативная гипотеза H₁: Средние пользовательские рейтинги платформ Xbox One и PC разные\n",
    "\n",
    "\n",
    "Установим уровень статистичекой значимости равный 0,05."
   ]
  },
  {
   "cell_type": "code",
   "execution_count": 123,
   "metadata": {},
   "outputs": [],
   "source": [
    "# отфильтруем данные по каждой платформе\n",
    "data_xbox =data[data['platform'] == 'XOne']\n",
    "data_PC =data[data['platform'] == 'PC']\n",
    "data_xbox = data_xbox['sum_sales']\n",
    "data_PC = data_PC['sum_sales']"
   ]
  },
  {
   "cell_type": "code",
   "execution_count": 124,
   "metadata": {},
   "outputs": [
    {
     "name": "stdout",
     "output_type": "stream",
     "text": [
      "p-значение: 1.0196533966248761e-07\n",
      "Отвергаем нулевую гипотезу\n"
     ]
    }
   ],
   "source": [
    "alpha = 0.05 \n",
    "results = st.ttest_ind(data_xbox, data_PC, equal_var = False)\n",
    "results.pvalue\n",
    "print('p-значение:', results.pvalue)\n",
    "if results.pvalue < alpha:\n",
    "    print(\"Отвергаем нулевую гипотезу\")\n",
    "else:\n",
    "    print(\"Не получилось отвергнуть нулевую гипотезу\")"
   ]
  },
  {
   "cell_type": "markdown",
   "metadata": {},
   "source": [
    "Средняя оценка пользователей платформы XBox One отличается от средней оценки пользователей платформы PC. Нулевую гипотезу отвергаем."
   ]
  },
  {
   "cell_type": "markdown",
   "metadata": {},
   "source": [
    "####  Проверим, разные ли cредние пользовательские рейтинги жанров Action  и Sports.\n",
    "Сформулируем гипотезы:\n",
    "\n",
    "Нулевая гипотеза H₀: Средние пользовательские рейтинги жанров Action  и Sports разные\n",
    "\n",
    "Альтернативная гипотеза H₁: Средние пользовательские рейтинги жанров Action  и Sports одинаковые\n",
    "\n",
    "Установим уровень статистичекой значимости равный 0,05."
   ]
  },
  {
   "cell_type": "code",
   "execution_count": 125,
   "metadata": {},
   "outputs": [],
   "source": [
    "# отфильтруем данные по каждому жанру\n",
    "data_action =data[data['genre'] == 'Action']\n",
    "data_sports =data[data['genre'] == 'Sports']\n",
    "data_action = data_action['sum_sales']\n",
    "data_sports = data_sports['sum_sales']"
   ]
  },
  {
   "cell_type": "code",
   "execution_count": 126,
   "metadata": {},
   "outputs": [
    {
     "name": "stdout",
     "output_type": "stream",
     "text": [
      "p-значение: 0.29801906118531296\n",
      "Отвергаем нулевую гипотезу\n"
     ]
    }
   ],
   "source": [
    "alpha = 0.05 \n",
    "results = st.ttest_ind(data_action, data_sports, equal_var = False)\n",
    "results.pvalue\n",
    "print('p-значение:', results.pvalue)\n",
    "if results.pvalue < alpha:\n",
    "    print(\"Не получилось отвергнуть нулевую гипотезу\")\n",
    "else:\n",
    "    print(\"Отвергаем нулевую гипотезу\")"
   ]
  },
  {
   "cell_type": "markdown",
   "metadata": {},
   "source": [
    "Гипотезу о том, что  cредние пользовательские рейтинги жанров Action и Sports разные отвергаем."
   ]
  },
  {
   "cell_type": "markdown",
   "metadata": {},
   "source": [
    "### Вывод."
   ]
  },
  {
   "cell_type": "markdown",
   "metadata": {},
   "source": [
    "В результате исследования можно сделать вывод:\n",
    "\n",
    "\n",
    "1. С начала 90х годов количество игр ежегодно растет. Можно заменить резкие изменения в динамике количества появлений игр в 1994, 2002 и 2012 годах. До 1994 года игровая индустрия развивалась медленно и для анализа рынка эти данные нам малоинформативны.\n",
    "2. Существует ТОП-6 платформ значительно отличающихся от остальных по суммам продаж, это PS2, X360, PS3, Wii, DS, PS.\n",
    "3. Срок появления новых и исчезновения старых платформ составляет в среднем 10 лет. Максимальные продажи приходятся на 3-6 года жизнедеятельности платформы, ближе в 9-10 году использования продажи падают. Каждые 5-7 лет компания Sony выпускает новую платформу с лучшими техническими параметрами, а игры на предыдущей платформе еще существуют на рынке 3 года.\n",
    "Появление на рынке новой платформы PS4 говорит от том, что она просуществует 2-4 года и топ продаж для этой платформы ожидается на 2017 год.\n",
    "4. ТОП-3 платформы по продажам в мире это PS4, PS3, XOne.  В 2015 продажи на пике у  PS4 и XOne, так как они заменяют предыдущее поколение игровых приставок. На убыль идут приставки предыдущего поколения PS3 и X360. Максимальная суммарная продажа была у платформы PS4 в 2015 году и составила почти 119 проданных копий. \n",
    "\n",
    "Таким образом потенциально прибыльными платформами можно считать PS4 и XOne, их \"жизненный цикл\" только начался, данные платформы пришли на смену предыдущих и в будущем можно ожидать увеличение прибыли от них.\n",
    "\n",
    "5. На всех платформах есть аномальные выбросы. Можно отметить, что аномальнo крупные продажи были у X360 и PS3.\n",
    "6. Оценки критиков влияют на продажи. При высокой оценке игра лучше продается. Сильной зависимости между оценкой игроков и продажами нет. Стоит заметить, что на оценку игроков влияют критики, Чем выше оценка критика, тем выше мнение игрока.\n",
    "7. В представленных данных более 20% это игры жанра Action. Так же популярны игры жанра Sports, их доля равна 14% и Misc - почти 11%. Доли остальных жанров не более 10%.\n",
    "8. Больше всего продаж у игр жанра Action, это связано с тем, что игр данного жанра выпускается больше всех остальных.Игр жанра Sports так же большой объем и по количеству выпускаемых игр и по продажам. Стоит обратить внимание, что игры жанра Shooter неожиданно стоят на третьем месте по продажам, хотя игр производится почти в два раза меньше. Неожиданно, что Adventure сильно отстаёт по продажам, хотя игр выпускается много. Самая дорогая средняя стоимость одной игры у жанра Platform, так же дорогими являются Fighting, Sports и Shooter. Средняя стоимость игры у жанра Adventure значительно ниже остальных жанров.\n",
    "9. В Северной Америке самая популярная платформа X360. Европейцы предпочитают PS2ю В Японии популярны DS.\n",
    "10. Жанровые предпочтения Европейцев и Американцев практически совпадают. Самый популярный жанр у них это Action, так же жители этих регионов предпочитают Sports и Shooter. Предпочтения в Японии отличаются от остальных, самым популярным жанром здесь является Role-Playing. Последнее место в ТОП5 жанров у всех регионов занимает Misc.\n",
    "11. Во всех представленных регионах самыми продаваемыми являются игры с рейтингои \"Е\"-для всех возрастов. Так же во всех странах в тройку лидеров входят игры для пользователей старше 13(рейтинг Т) и страше 17 лет (рейтинг М).\n",
    "14. Средняя оценка пользователей платформы XBox One отличается от средней оценки пользователей платформы PC. Нулевую гипотезу отвергаем.\n",
    "15. Гипотезу о том, что cредние пользовательские рейтинги жанров Action и Sports разные отвергаем."
   ]
  }
 ],
 "metadata": {
  "ExecuteTimeLog": [
   {
    "duration": 370,
    "start_time": "2023-03-30T06:24:36.615Z"
   },
   {
    "duration": 118,
    "start_time": "2023-03-30T06:24:37.713Z"
   },
   {
    "duration": 4,
    "start_time": "2023-03-30T06:30:06.843Z"
   },
   {
    "duration": 98,
    "start_time": "2023-03-30T06:30:08.417Z"
   },
   {
    "duration": 22,
    "start_time": "2023-03-30T06:30:12.124Z"
   },
   {
    "duration": 16,
    "start_time": "2023-03-30T06:30:37.231Z"
   },
   {
    "duration": 10,
    "start_time": "2023-03-30T06:32:09.812Z"
   },
   {
    "duration": 23,
    "start_time": "2023-03-30T06:32:42.342Z"
   },
   {
    "duration": 5,
    "start_time": "2023-03-30T06:35:54.938Z"
   },
   {
    "duration": 46,
    "start_time": "2023-03-30T06:37:06.565Z"
   },
   {
    "duration": 25,
    "start_time": "2023-03-30T06:37:11.359Z"
   },
   {
    "duration": 16,
    "start_time": "2023-03-30T06:38:55.021Z"
   },
   {
    "duration": 4,
    "start_time": "2023-03-30T06:39:51.580Z"
   },
   {
    "duration": 15,
    "start_time": "2023-03-30T06:40:57.206Z"
   },
   {
    "duration": 8,
    "start_time": "2023-03-30T06:42:14.310Z"
   },
   {
    "duration": 18,
    "start_time": "2023-03-30T06:42:27.308Z"
   },
   {
    "duration": 19,
    "start_time": "2023-03-30T06:43:28.064Z"
   },
   {
    "duration": 23,
    "start_time": "2023-03-30T06:45:51.866Z"
   },
   {
    "duration": 9,
    "start_time": "2023-03-30T06:46:17.651Z"
   },
   {
    "duration": 24,
    "start_time": "2023-03-30T06:47:34.969Z"
   },
   {
    "duration": 16,
    "start_time": "2023-03-30T06:47:43.662Z"
   },
   {
    "duration": 49,
    "start_time": "2023-03-30T06:55:47.255Z"
   },
   {
    "duration": 30,
    "start_time": "2023-03-30T06:55:52.133Z"
   },
   {
    "duration": 12,
    "start_time": "2023-03-30T07:12:02.988Z"
   },
   {
    "duration": 12,
    "start_time": "2023-03-30T07:15:11.466Z"
   },
   {
    "duration": 12,
    "start_time": "2023-03-30T07:15:31.789Z"
   },
   {
    "duration": 12,
    "start_time": "2023-03-30T07:15:58.329Z"
   },
   {
    "duration": 9,
    "start_time": "2023-03-30T07:16:37.234Z"
   },
   {
    "duration": 3,
    "start_time": "2023-03-30T07:17:31.277Z"
   },
   {
    "duration": 118,
    "start_time": "2023-03-30T07:17:31.284Z"
   },
   {
    "duration": 32,
    "start_time": "2023-03-30T07:17:31.404Z"
   },
   {
    "duration": 64,
    "start_time": "2023-03-30T07:17:31.438Z"
   },
   {
    "duration": 73,
    "start_time": "2023-03-30T07:17:31.505Z"
   },
   {
    "duration": 17,
    "start_time": "2023-03-30T07:17:34.057Z"
   },
   {
    "duration": 4,
    "start_time": "2023-03-30T07:22:19.546Z"
   },
   {
    "duration": 15,
    "start_time": "2023-03-30T07:22:23.480Z"
   },
   {
    "duration": 5,
    "start_time": "2023-03-30T07:32:17.494Z"
   },
   {
    "duration": 10,
    "start_time": "2023-03-30T07:32:28.799Z"
   },
   {
    "duration": 7,
    "start_time": "2023-03-30T07:32:47.913Z"
   },
   {
    "duration": 14,
    "start_time": "2023-03-30T07:32:57.114Z"
   },
   {
    "duration": 7,
    "start_time": "2023-03-30T07:34:02.089Z"
   },
   {
    "duration": 15,
    "start_time": "2023-03-30T07:34:04.877Z"
   },
   {
    "duration": 188,
    "start_time": "2023-03-30T07:34:38.833Z"
   },
   {
    "duration": 11,
    "start_time": "2023-03-30T07:34:45.314Z"
   },
   {
    "duration": 14,
    "start_time": "2023-03-30T07:34:48.548Z"
   },
   {
    "duration": 8,
    "start_time": "2023-03-30T07:36:07.240Z"
   },
   {
    "duration": 52,
    "start_time": "2023-03-30T07:38:32.581Z"
   },
   {
    "duration": 73,
    "start_time": "2023-03-30T07:38:51.857Z"
   },
   {
    "duration": 10,
    "start_time": "2023-03-30T07:41:32.553Z"
   },
   {
    "duration": 12,
    "start_time": "2023-03-30T07:41:39.678Z"
   },
   {
    "duration": 9,
    "start_time": "2023-03-30T07:41:52.904Z"
   },
   {
    "duration": 6,
    "start_time": "2023-03-30T07:51:15.137Z"
   },
   {
    "duration": 15,
    "start_time": "2023-03-30T07:51:22.089Z"
   },
   {
    "duration": 11,
    "start_time": "2023-03-30T07:51:27.890Z"
   },
   {
    "duration": 16,
    "start_time": "2023-03-30T07:52:52.436Z"
   },
   {
    "duration": 17,
    "start_time": "2023-03-30T07:52:57.956Z"
   },
   {
    "duration": 16,
    "start_time": "2023-03-30T07:55:28.447Z"
   },
   {
    "duration": 81,
    "start_time": "2023-03-30T07:55:33.761Z"
   },
   {
    "duration": 32,
    "start_time": "2023-03-30T07:56:40.254Z"
   },
   {
    "duration": 59,
    "start_time": "2023-03-30T07:56:41.458Z"
   },
   {
    "duration": 1079,
    "start_time": "2023-03-30T07:57:30.706Z"
   },
   {
    "duration": 86,
    "start_time": "2023-03-30T07:57:34.740Z"
   },
   {
    "duration": 4,
    "start_time": "2023-03-30T07:57:42.802Z"
   },
   {
    "duration": 65,
    "start_time": "2023-03-30T07:57:42.808Z"
   },
   {
    "duration": 2,
    "start_time": "2023-03-30T07:57:42.878Z"
   },
   {
    "duration": 31,
    "start_time": "2023-03-30T07:57:42.882Z"
   },
   {
    "duration": 13,
    "start_time": "2023-03-30T07:57:42.915Z"
   },
   {
    "duration": 11,
    "start_time": "2023-03-30T07:57:42.930Z"
   },
   {
    "duration": 81,
    "start_time": "2023-03-30T07:57:42.943Z"
   },
   {
    "duration": 0,
    "start_time": "2023-03-30T07:57:43.026Z"
   },
   {
    "duration": 0,
    "start_time": "2023-03-30T07:57:43.028Z"
   },
   {
    "duration": 0,
    "start_time": "2023-03-30T07:57:43.029Z"
   },
   {
    "duration": 0,
    "start_time": "2023-03-30T07:57:43.030Z"
   },
   {
    "duration": 0,
    "start_time": "2023-03-30T07:57:43.032Z"
   },
   {
    "duration": 0,
    "start_time": "2023-03-30T07:57:43.033Z"
   },
   {
    "duration": 0,
    "start_time": "2023-03-30T07:57:43.034Z"
   },
   {
    "duration": 23,
    "start_time": "2023-03-30T07:57:51.964Z"
   },
   {
    "duration": 46,
    "start_time": "2023-03-30T07:57:52.371Z"
   },
   {
    "duration": 11,
    "start_time": "2023-03-30T07:57:52.818Z"
   },
   {
    "duration": 8,
    "start_time": "2023-03-30T07:57:53.522Z"
   },
   {
    "duration": 12,
    "start_time": "2023-03-30T07:57:54.323Z"
   },
   {
    "duration": 14,
    "start_time": "2023-03-30T07:57:55.226Z"
   },
   {
    "duration": 48,
    "start_time": "2023-03-30T07:57:56.627Z"
   },
   {
    "duration": 459,
    "start_time": "2023-03-30T07:58:56.471Z"
   },
   {
    "duration": 3,
    "start_time": "2023-03-30T08:01:40.821Z"
   },
   {
    "duration": 84,
    "start_time": "2023-03-30T08:01:40.825Z"
   },
   {
    "duration": 3,
    "start_time": "2023-03-30T08:01:40.911Z"
   },
   {
    "duration": 16,
    "start_time": "2023-03-30T08:01:40.916Z"
   },
   {
    "duration": 18,
    "start_time": "2023-03-30T08:01:40.934Z"
   },
   {
    "duration": 30,
    "start_time": "2023-03-30T08:01:40.954Z"
   },
   {
    "duration": 30,
    "start_time": "2023-03-30T08:01:40.987Z"
   },
   {
    "duration": 22,
    "start_time": "2023-03-30T08:01:41.019Z"
   },
   {
    "duration": 9,
    "start_time": "2023-03-30T08:01:41.043Z"
   },
   {
    "duration": 37,
    "start_time": "2023-03-30T08:01:41.054Z"
   },
   {
    "duration": 19,
    "start_time": "2023-03-30T08:01:41.094Z"
   },
   {
    "duration": 15,
    "start_time": "2023-03-30T08:01:41.114Z"
   },
   {
    "duration": 66,
    "start_time": "2023-03-30T08:01:41.130Z"
   },
   {
    "duration": 1364,
    "start_time": "2023-03-30T08:01:41.197Z"
   },
   {
    "duration": 1395,
    "start_time": "2023-03-30T08:01:55.634Z"
   },
   {
    "duration": 1436,
    "start_time": "2023-03-30T08:02:37.041Z"
   },
   {
    "duration": 43,
    "start_time": "2023-03-30T08:03:08.203Z"
   },
   {
    "duration": 1339,
    "start_time": "2023-03-30T08:03:10.917Z"
   },
   {
    "duration": 1315,
    "start_time": "2023-03-30T08:03:22.694Z"
   },
   {
    "duration": 1424,
    "start_time": "2023-03-30T08:03:31.448Z"
   },
   {
    "duration": 1490,
    "start_time": "2023-03-30T08:03:42.739Z"
   },
   {
    "duration": 1422,
    "start_time": "2023-03-30T08:04:00.340Z"
   },
   {
    "duration": 587,
    "start_time": "2023-03-30T08:04:14.358Z"
   },
   {
    "duration": 547,
    "start_time": "2023-03-30T08:04:35.780Z"
   },
   {
    "duration": 497,
    "start_time": "2023-03-30T08:04:41.900Z"
   },
   {
    "duration": 563,
    "start_time": "2023-03-30T08:04:53.728Z"
   },
   {
    "duration": 1549,
    "start_time": "2023-03-31T06:36:56.113Z"
   },
   {
    "duration": 221,
    "start_time": "2023-03-31T06:36:57.664Z"
   },
   {
    "duration": 4,
    "start_time": "2023-03-31T06:36:57.887Z"
   },
   {
    "duration": 27,
    "start_time": "2023-03-31T06:36:57.893Z"
   },
   {
    "duration": 18,
    "start_time": "2023-03-31T06:36:57.922Z"
   },
   {
    "duration": 9,
    "start_time": "2023-03-31T06:36:57.941Z"
   },
   {
    "duration": 8,
    "start_time": "2023-03-31T06:36:57.952Z"
   },
   {
    "duration": 19,
    "start_time": "2023-03-31T06:36:57.983Z"
   },
   {
    "duration": 28,
    "start_time": "2023-03-31T06:36:58.003Z"
   },
   {
    "duration": 10,
    "start_time": "2023-03-31T06:36:58.034Z"
   },
   {
    "duration": 17,
    "start_time": "2023-03-31T06:36:58.047Z"
   },
   {
    "duration": 8,
    "start_time": "2023-03-31T06:36:58.082Z"
   },
   {
    "duration": 16,
    "start_time": "2023-03-31T06:36:58.092Z"
   },
   {
    "duration": 42,
    "start_time": "2023-03-31T06:36:58.110Z"
   },
   {
    "duration": 556,
    "start_time": "2023-03-31T06:36:58.153Z"
   },
   {
    "duration": 6,
    "start_time": "2023-03-31T06:41:25.969Z"
   },
   {
    "duration": 9,
    "start_time": "2023-03-31T06:45:26.168Z"
   },
   {
    "duration": 27,
    "start_time": "2023-03-31T06:48:04.666Z"
   },
   {
    "duration": 134,
    "start_time": "2023-03-31T06:48:58.634Z"
   },
   {
    "duration": 9,
    "start_time": "2023-03-31T06:49:04.373Z"
   },
   {
    "duration": 17,
    "start_time": "2023-03-31T06:49:09.745Z"
   },
   {
    "duration": 15,
    "start_time": "2023-03-31T06:49:30.711Z"
   },
   {
    "duration": 26,
    "start_time": "2023-03-31T06:50:47.354Z"
   },
   {
    "duration": 41,
    "start_time": "2023-03-31T06:50:58.075Z"
   },
   {
    "duration": 65,
    "start_time": "2023-03-31T06:54:23.997Z"
   },
   {
    "duration": 792,
    "start_time": "2023-03-31T06:54:32.861Z"
   },
   {
    "duration": 8,
    "start_time": "2023-03-31T06:56:09.701Z"
   },
   {
    "duration": 1268,
    "start_time": "2023-04-13T06:50:15.578Z"
   },
   {
    "duration": 115,
    "start_time": "2023-04-13T06:50:17.077Z"
   },
   {
    "duration": 15,
    "start_time": "2023-04-13T06:50:31.911Z"
   },
   {
    "duration": 2,
    "start_time": "2023-04-13T06:57:14.324Z"
   },
   {
    "duration": 82,
    "start_time": "2023-04-13T06:57:14.328Z"
   },
   {
    "duration": 12,
    "start_time": "2023-04-13T06:57:14.411Z"
   },
   {
    "duration": 2,
    "start_time": "2023-04-13T06:57:14.424Z"
   },
   {
    "duration": 8,
    "start_time": "2023-04-13T06:57:17.256Z"
   },
   {
    "duration": 4,
    "start_time": "2023-04-13T07:12:58.857Z"
   },
   {
    "duration": 6,
    "start_time": "2023-04-13T07:14:17.307Z"
   },
   {
    "duration": 13,
    "start_time": "2023-04-13T07:14:33.310Z"
   },
   {
    "duration": 5,
    "start_time": "2023-04-13T07:23:01.268Z"
   },
   {
    "duration": 6,
    "start_time": "2023-04-13T07:23:26.447Z"
   },
   {
    "duration": 12,
    "start_time": "2023-04-13T07:23:29.560Z"
   },
   {
    "duration": 8,
    "start_time": "2023-04-13T07:27:08.290Z"
   },
   {
    "duration": 8,
    "start_time": "2023-04-13T07:31:46.381Z"
   },
   {
    "duration": 135,
    "start_time": "2023-04-13T07:32:38.604Z"
   },
   {
    "duration": 91,
    "start_time": "2023-04-13T07:32:54.690Z"
   },
   {
    "duration": 9,
    "start_time": "2023-04-13T07:33:58.961Z"
   },
   {
    "duration": 159,
    "start_time": "2023-04-13T07:43:49.671Z"
   },
   {
    "duration": 126,
    "start_time": "2023-04-13T07:44:38.155Z"
   },
   {
    "duration": 15,
    "start_time": "2023-04-13T07:45:58.130Z"
   },
   {
    "duration": 149,
    "start_time": "2023-04-13T07:46:05.529Z"
   },
   {
    "duration": 150,
    "start_time": "2023-04-13T07:48:25.461Z"
   },
   {
    "duration": 153,
    "start_time": "2023-04-13T07:48:49.757Z"
   },
   {
    "duration": 265,
    "start_time": "2023-04-13T07:49:20.716Z"
   },
   {
    "duration": 242,
    "start_time": "2023-04-13T07:49:27.661Z"
   },
   {
    "duration": 241,
    "start_time": "2023-04-13T07:49:36.413Z"
   },
   {
    "duration": 232,
    "start_time": "2023-04-13T07:50:11.516Z"
   },
   {
    "duration": 189,
    "start_time": "2023-04-13T07:50:16.561Z"
   },
   {
    "duration": 169,
    "start_time": "2023-04-13T07:51:03.857Z"
   },
   {
    "duration": 180,
    "start_time": "2023-04-13T07:51:26.774Z"
   },
   {
    "duration": 148,
    "start_time": "2023-04-13T07:51:33.431Z"
   },
   {
    "duration": 135,
    "start_time": "2023-04-13T07:53:40.428Z"
   },
   {
    "duration": 6,
    "start_time": "2023-04-13T07:56:55.343Z"
   },
   {
    "duration": 160,
    "start_time": "2023-04-13T08:00:12.950Z"
   },
   {
    "duration": 167,
    "start_time": "2023-04-13T08:00:28.275Z"
   },
   {
    "duration": 216,
    "start_time": "2023-04-13T08:00:34.416Z"
   },
   {
    "duration": 8,
    "start_time": "2023-04-13T08:12:42.629Z"
   },
   {
    "duration": 13,
    "start_time": "2023-04-13T08:14:07.926Z"
   },
   {
    "duration": 8,
    "start_time": "2023-04-13T08:14:20.776Z"
   },
   {
    "duration": 8,
    "start_time": "2023-04-13T08:18:47.424Z"
   },
   {
    "duration": 40,
    "start_time": "2023-04-13T08:23:50.370Z"
   },
   {
    "duration": 9,
    "start_time": "2023-04-13T08:24:15.845Z"
   },
   {
    "duration": 6,
    "start_time": "2023-04-13T08:24:20.912Z"
   },
   {
    "duration": 41,
    "start_time": "2023-04-13T08:26:06.847Z"
   },
   {
    "duration": 49,
    "start_time": "2023-04-13T08:26:19.439Z"
   },
   {
    "duration": 35,
    "start_time": "2023-04-13T08:28:18.624Z"
   },
   {
    "duration": 21,
    "start_time": "2023-04-13T08:28:23.817Z"
   },
   {
    "duration": 15,
    "start_time": "2023-04-13T08:28:25.658Z"
   },
   {
    "duration": 445,
    "start_time": "2023-04-13T08:28:41.618Z"
   },
   {
    "duration": 4,
    "start_time": "2023-04-13T08:29:07.027Z"
   },
   {
    "duration": 86,
    "start_time": "2023-04-13T08:29:07.032Z"
   },
   {
    "duration": 14,
    "start_time": "2023-04-13T08:29:07.120Z"
   },
   {
    "duration": 4,
    "start_time": "2023-04-13T08:29:07.136Z"
   },
   {
    "duration": 25,
    "start_time": "2023-04-13T08:29:07.142Z"
   },
   {
    "duration": 6,
    "start_time": "2023-04-13T08:29:07.169Z"
   },
   {
    "duration": 23,
    "start_time": "2023-04-13T08:29:07.176Z"
   },
   {
    "duration": 7,
    "start_time": "2023-04-13T08:29:07.204Z"
   },
   {
    "duration": 193,
    "start_time": "2023-04-13T08:29:07.213Z"
   },
   {
    "duration": 15,
    "start_time": "2023-04-13T08:29:07.408Z"
   },
   {
    "duration": 20,
    "start_time": "2023-04-13T08:29:07.424Z"
   },
   {
    "duration": 14,
    "start_time": "2023-04-13T08:29:07.446Z"
   },
   {
    "duration": 489,
    "start_time": "2023-04-13T08:29:07.462Z"
   },
   {
    "duration": 5,
    "start_time": "2023-04-13T08:29:07.955Z"
   },
   {
    "duration": 23,
    "start_time": "2023-04-13T08:29:34.813Z"
   },
   {
    "duration": 21,
    "start_time": "2023-04-13T08:29:35.864Z"
   },
   {
    "duration": 543,
    "start_time": "2023-04-13T08:29:38.579Z"
   },
   {
    "duration": 8,
    "start_time": "2023-04-13T08:29:58.345Z"
   },
   {
    "duration": 21,
    "start_time": "2023-04-13T08:30:59.158Z"
   },
   {
    "duration": 19,
    "start_time": "2023-04-13T08:30:59.934Z"
   },
   {
    "duration": 505,
    "start_time": "2023-04-13T08:31:04.011Z"
   },
   {
    "duration": 440,
    "start_time": "2023-04-13T08:43:29.516Z"
   },
   {
    "duration": 411,
    "start_time": "2023-04-13T08:43:41.523Z"
   },
   {
    "duration": 5,
    "start_time": "2023-04-13T08:47:04.627Z"
   },
   {
    "duration": 4,
    "start_time": "2023-04-13T08:48:17.347Z"
   },
   {
    "duration": 39,
    "start_time": "2023-04-13T08:56:46.422Z"
   },
   {
    "duration": 38,
    "start_time": "2023-04-13T09:24:47.180Z"
   },
   {
    "duration": 28,
    "start_time": "2023-04-13T09:26:19.905Z"
   },
   {
    "duration": 1351,
    "start_time": "2023-04-13T09:26:40.369Z"
   },
   {
    "duration": 45,
    "start_time": "2023-04-13T09:26:57.283Z"
   },
   {
    "duration": 1535,
    "start_time": "2023-04-13T09:27:10.113Z"
   },
   {
    "duration": 1340,
    "start_time": "2023-04-13T09:28:26.234Z"
   },
   {
    "duration": 4,
    "start_time": "2023-04-13T09:28:46.357Z"
   },
   {
    "duration": 1465,
    "start_time": "2023-04-13T09:28:50.709Z"
   },
   {
    "duration": 775,
    "start_time": "2023-04-13T09:32:18.434Z"
   },
   {
    "duration": 26,
    "start_time": "2023-04-13T09:32:27.313Z"
   },
   {
    "duration": 232,
    "start_time": "2023-04-13T09:32:59.260Z"
   },
   {
    "duration": 40,
    "start_time": "2023-04-13T09:33:11.379Z"
   },
   {
    "duration": 16,
    "start_time": "2023-04-13T09:33:33.617Z"
   },
   {
    "duration": 29,
    "start_time": "2023-04-13T09:33:39.226Z"
   },
   {
    "duration": 21,
    "start_time": "2023-04-13T09:35:59.980Z"
   },
   {
    "duration": 27,
    "start_time": "2023-04-13T09:36:13.616Z"
   },
   {
    "duration": 11,
    "start_time": "2023-04-13T09:38:18.026Z"
   },
   {
    "duration": 9,
    "start_time": "2023-04-13T09:39:16.317Z"
   },
   {
    "duration": 75,
    "start_time": "2023-04-13T09:39:16.329Z"
   },
   {
    "duration": 18,
    "start_time": "2023-04-13T09:39:16.406Z"
   },
   {
    "duration": 4,
    "start_time": "2023-04-13T09:39:16.431Z"
   },
   {
    "duration": 16,
    "start_time": "2023-04-13T09:39:16.437Z"
   },
   {
    "duration": 14,
    "start_time": "2023-04-13T09:39:16.455Z"
   },
   {
    "duration": 10,
    "start_time": "2023-04-13T09:39:16.471Z"
   },
   {
    "duration": 12,
    "start_time": "2023-04-13T09:39:16.483Z"
   },
   {
    "duration": 174,
    "start_time": "2023-04-13T09:39:16.503Z"
   },
   {
    "duration": 22,
    "start_time": "2023-04-13T09:39:16.680Z"
   },
   {
    "duration": 25,
    "start_time": "2023-04-13T09:39:16.706Z"
   },
   {
    "duration": 411,
    "start_time": "2023-04-13T09:39:16.732Z"
   },
   {
    "duration": 4,
    "start_time": "2023-04-13T09:39:17.145Z"
   },
   {
    "duration": 53,
    "start_time": "2023-04-13T09:39:17.151Z"
   },
   {
    "duration": 417,
    "start_time": "2023-04-13T09:39:17.205Z"
   },
   {
    "duration": 2,
    "start_time": "2023-04-13T09:40:37.781Z"
   },
   {
    "duration": 79,
    "start_time": "2023-04-13T09:41:38.966Z"
   },
   {
    "duration": 75,
    "start_time": "2023-04-13T09:42:08.263Z"
   },
   {
    "duration": 28,
    "start_time": "2023-04-13T09:44:10.213Z"
   },
   {
    "duration": 8,
    "start_time": "2023-04-13T09:54:18.029Z"
   },
   {
    "duration": 7,
    "start_time": "2023-04-13T09:54:40.759Z"
   },
   {
    "duration": 48,
    "start_time": "2023-04-13T09:56:24.344Z"
   },
   {
    "duration": 5,
    "start_time": "2023-04-13T09:56:28.624Z"
   },
   {
    "duration": 158,
    "start_time": "2023-04-13T09:56:29.617Z"
   },
   {
    "duration": 256,
    "start_time": "2023-04-13T09:57:37.874Z"
   },
   {
    "duration": 187,
    "start_time": "2023-04-13T09:58:31.384Z"
   },
   {
    "duration": 159,
    "start_time": "2023-04-13T09:58:40.351Z"
   },
   {
    "duration": 184,
    "start_time": "2023-04-13T09:59:12.925Z"
   },
   {
    "duration": 171,
    "start_time": "2023-04-13T10:00:31.012Z"
   },
   {
    "duration": 170,
    "start_time": "2023-04-13T10:00:36.020Z"
   },
   {
    "duration": 170,
    "start_time": "2023-04-13T10:00:43.516Z"
   },
   {
    "duration": 168,
    "start_time": "2023-04-13T10:00:58.054Z"
   },
   {
    "duration": 547,
    "start_time": "2023-04-13T10:28:59.293Z"
   },
   {
    "duration": 13,
    "start_time": "2023-04-13T10:30:26.008Z"
   },
   {
    "duration": 801,
    "start_time": "2023-04-13T10:30:33.491Z"
   },
   {
    "duration": 350,
    "start_time": "2023-04-13T10:30:53.508Z"
   },
   {
    "duration": 7,
    "start_time": "2023-04-13T10:34:23.544Z"
   },
   {
    "duration": 299,
    "start_time": "2023-04-13T10:34:48.523Z"
   },
   {
    "duration": 539,
    "start_time": "2023-04-13T10:36:05.409Z"
   },
   {
    "duration": 303,
    "start_time": "2023-04-13T10:36:23.214Z"
   },
   {
    "duration": 565,
    "start_time": "2023-04-13T10:36:31.610Z"
   },
   {
    "duration": 308,
    "start_time": "2023-04-13T10:36:42.048Z"
   },
   {
    "duration": 278,
    "start_time": "2023-04-13T10:36:55.305Z"
   },
   {
    "duration": 284,
    "start_time": "2023-04-13T10:37:11.646Z"
   },
   {
    "duration": 5,
    "start_time": "2023-04-13T11:08:05.061Z"
   },
   {
    "duration": 7,
    "start_time": "2023-04-13T11:10:34.823Z"
   },
   {
    "duration": 206,
    "start_time": "2023-04-13T11:10:55.380Z"
   },
   {
    "duration": 245,
    "start_time": "2023-04-13T11:18:10.714Z"
   },
   {
    "duration": 194,
    "start_time": "2023-04-13T11:19:26.415Z"
   },
   {
    "duration": 256,
    "start_time": "2023-04-13T11:19:35.380Z"
   },
   {
    "duration": 226,
    "start_time": "2023-04-13T11:19:43.425Z"
   },
   {
    "duration": 248,
    "start_time": "2023-04-13T11:20:05.042Z"
   },
   {
    "duration": 389,
    "start_time": "2023-04-13T11:20:23.960Z"
   },
   {
    "duration": 222,
    "start_time": "2023-04-13T11:27:34.651Z"
   },
   {
    "duration": 10,
    "start_time": "2023-04-13T11:29:25.703Z"
   },
   {
    "duration": 215,
    "start_time": "2023-04-13T11:29:27.854Z"
   },
   {
    "duration": 8,
    "start_time": "2023-04-13T11:29:44.277Z"
   },
   {
    "duration": 217,
    "start_time": "2023-04-13T11:29:46.653Z"
   },
   {
    "duration": 10,
    "start_time": "2023-04-13T11:29:58.911Z"
   },
   {
    "duration": 247,
    "start_time": "2023-04-13T11:30:00.679Z"
   },
   {
    "duration": 102,
    "start_time": "2023-04-13T11:31:32.024Z"
   },
   {
    "duration": 121,
    "start_time": "2023-04-13T11:31:41.699Z"
   },
   {
    "duration": 7,
    "start_time": "2023-04-13T11:32:01.262Z"
   },
   {
    "duration": 59,
    "start_time": "2023-04-13T11:32:19.015Z"
   },
   {
    "duration": 6,
    "start_time": "2023-04-13T11:34:39.386Z"
   },
   {
    "duration": 195,
    "start_time": "2023-04-13T11:34:41.885Z"
   },
   {
    "duration": 242,
    "start_time": "2023-04-13T11:35:33.331Z"
   },
   {
    "duration": 817,
    "start_time": "2023-04-13T11:37:17.645Z"
   },
   {
    "duration": 340,
    "start_time": "2023-04-13T11:37:41.585Z"
   },
   {
    "duration": 323,
    "start_time": "2023-04-13T11:39:57.968Z"
   },
   {
    "duration": 340,
    "start_time": "2023-04-13T11:40:18.671Z"
   },
   {
    "duration": 469,
    "start_time": "2023-04-13T11:40:33.442Z"
   },
   {
    "duration": 249,
    "start_time": "2023-04-13T11:40:58.123Z"
   },
   {
    "duration": 261,
    "start_time": "2023-04-13T11:41:10.581Z"
   },
   {
    "duration": 679,
    "start_time": "2023-04-13T11:41:19.243Z"
   },
   {
    "duration": 286,
    "start_time": "2023-04-13T11:41:29.124Z"
   },
   {
    "duration": 224,
    "start_time": "2023-04-13T11:41:42.832Z"
   },
   {
    "duration": 278,
    "start_time": "2023-04-13T11:41:53.949Z"
   },
   {
    "duration": 244,
    "start_time": "2023-04-13T11:42:00.140Z"
   },
   {
    "duration": 234,
    "start_time": "2023-04-13T11:42:25.824Z"
   },
   {
    "duration": 232,
    "start_time": "2023-04-13T11:42:37.038Z"
   },
   {
    "duration": 238,
    "start_time": "2023-04-13T11:42:56.488Z"
   },
   {
    "duration": 232,
    "start_time": "2023-04-13T11:44:15.109Z"
   },
   {
    "duration": 1464,
    "start_time": "2023-04-14T06:57:02.619Z"
   },
   {
    "duration": 151,
    "start_time": "2023-04-14T06:57:04.087Z"
   },
   {
    "duration": 18,
    "start_time": "2023-04-14T06:57:04.241Z"
   },
   {
    "duration": 4,
    "start_time": "2023-04-14T06:57:04.262Z"
   },
   {
    "duration": 24,
    "start_time": "2023-04-14T06:57:04.269Z"
   },
   {
    "duration": 6,
    "start_time": "2023-04-14T06:57:04.296Z"
   },
   {
    "duration": 13,
    "start_time": "2023-04-14T06:57:04.305Z"
   },
   {
    "duration": 7,
    "start_time": "2023-04-14T06:57:04.321Z"
   },
   {
    "duration": 224,
    "start_time": "2023-04-14T06:57:04.331Z"
   },
   {
    "duration": 10,
    "start_time": "2023-04-14T06:57:04.558Z"
   },
   {
    "duration": 132,
    "start_time": "2023-04-14T06:57:04.570Z"
   },
   {
    "duration": 0,
    "start_time": "2023-04-14T06:57:04.704Z"
   },
   {
    "duration": 0,
    "start_time": "2023-04-14T06:57:04.706Z"
   },
   {
    "duration": 0,
    "start_time": "2023-04-14T06:57:04.708Z"
   },
   {
    "duration": 0,
    "start_time": "2023-04-14T06:57:04.710Z"
   },
   {
    "duration": 0,
    "start_time": "2023-04-14T06:57:04.711Z"
   },
   {
    "duration": 0,
    "start_time": "2023-04-14T06:57:04.712Z"
   },
   {
    "duration": 1,
    "start_time": "2023-04-14T06:57:04.713Z"
   },
   {
    "duration": 0,
    "start_time": "2023-04-14T06:57:04.715Z"
   },
   {
    "duration": 39,
    "start_time": "2023-04-14T06:58:44.095Z"
   },
   {
    "duration": 555,
    "start_time": "2023-04-14T06:58:49.809Z"
   },
   {
    "duration": 5,
    "start_time": "2023-04-14T06:59:21.388Z"
   },
   {
    "duration": 30,
    "start_time": "2023-04-14T06:59:23.020Z"
   },
   {
    "duration": 3,
    "start_time": "2023-04-14T07:07:50.317Z"
   },
   {
    "duration": 72,
    "start_time": "2023-04-14T07:07:50.403Z"
   },
   {
    "duration": 18,
    "start_time": "2023-04-14T07:07:50.478Z"
   },
   {
    "duration": 3,
    "start_time": "2023-04-14T07:07:50.498Z"
   },
   {
    "duration": 11,
    "start_time": "2023-04-14T07:07:50.599Z"
   },
   {
    "duration": 6,
    "start_time": "2023-04-14T07:07:51.039Z"
   },
   {
    "duration": 28,
    "start_time": "2023-04-14T07:07:51.048Z"
   },
   {
    "duration": 7,
    "start_time": "2023-04-14T07:07:51.078Z"
   },
   {
    "duration": 254,
    "start_time": "2023-04-14T07:07:51.088Z"
   },
   {
    "duration": 9,
    "start_time": "2023-04-14T07:07:51.345Z"
   },
   {
    "duration": 41,
    "start_time": "2023-04-14T07:07:51.355Z"
   },
   {
    "duration": 451,
    "start_time": "2023-04-14T07:07:51.398Z"
   },
   {
    "duration": 5,
    "start_time": "2023-04-14T07:07:51.851Z"
   },
   {
    "duration": 48,
    "start_time": "2023-04-14T07:07:51.857Z"
   },
   {
    "duration": 91,
    "start_time": "2023-04-14T07:07:51.907Z"
   },
   {
    "duration": 203,
    "start_time": "2023-04-14T07:07:52.000Z"
   },
   {
    "duration": 321,
    "start_time": "2023-04-14T07:07:52.205Z"
   },
   {
    "duration": 6,
    "start_time": "2023-04-14T07:07:52.528Z"
   },
   {
    "duration": 229,
    "start_time": "2023-04-14T07:07:52.537Z"
   },
   {
    "duration": 7,
    "start_time": "2023-04-14T07:18:55.985Z"
   },
   {
    "duration": 32,
    "start_time": "2023-04-14T07:21:27.297Z"
   },
   {
    "duration": 88,
    "start_time": "2023-04-14T07:21:52.018Z"
   },
   {
    "duration": 7,
    "start_time": "2023-04-14T07:21:55.542Z"
   },
   {
    "duration": 16,
    "start_time": "2023-04-14T07:21:55.961Z"
   },
   {
    "duration": 783,
    "start_time": "2023-04-14T07:25:31.543Z"
   },
   {
    "duration": 1046,
    "start_time": "2023-04-14T07:25:36.294Z"
   },
   {
    "duration": 11,
    "start_time": "2023-04-14T07:26:45.927Z"
   },
   {
    "duration": 5,
    "start_time": "2023-04-14T07:29:30.513Z"
   },
   {
    "duration": 841,
    "start_time": "2023-04-14T07:29:48.508Z"
   },
   {
    "duration": 963,
    "start_time": "2023-04-14T07:29:49.475Z"
   },
   {
    "duration": 20,
    "start_time": "2023-04-14T07:30:48.911Z"
   },
   {
    "duration": 746,
    "start_time": "2023-04-14T07:30:52.938Z"
   },
   {
    "duration": 8,
    "start_time": "2023-04-14T07:32:33.476Z"
   },
   {
    "duration": 667,
    "start_time": "2023-04-14T07:33:21.487Z"
   },
   {
    "duration": 11,
    "start_time": "2023-04-14T07:33:55.326Z"
   },
   {
    "duration": 618,
    "start_time": "2023-04-14T07:45:03.109Z"
   },
   {
    "duration": 10,
    "start_time": "2023-04-14T07:45:16.785Z"
   },
   {
    "duration": 784,
    "start_time": "2023-04-14T07:46:17.494Z"
   },
   {
    "duration": 10,
    "start_time": "2023-04-14T07:46:27.431Z"
   },
   {
    "duration": 49,
    "start_time": "2023-04-14T07:49:18.318Z"
   },
   {
    "duration": 226,
    "start_time": "2023-04-14T07:52:59.712Z"
   },
   {
    "duration": 235,
    "start_time": "2023-04-14T07:53:13.177Z"
   },
   {
    "duration": 207,
    "start_time": "2023-04-14T08:04:17.960Z"
   },
   {
    "duration": 29,
    "start_time": "2023-04-14T08:24:40.422Z"
   },
   {
    "duration": 4,
    "start_time": "2023-04-14T08:25:01.652Z"
   },
   {
    "duration": 22,
    "start_time": "2023-04-14T08:25:02.807Z"
   },
   {
    "duration": 7,
    "start_time": "2023-04-14T08:25:38.588Z"
   },
   {
    "duration": 33,
    "start_time": "2023-04-14T08:25:41.302Z"
   },
   {
    "duration": 6,
    "start_time": "2023-04-14T08:26:24.398Z"
   },
   {
    "duration": 15,
    "start_time": "2023-04-14T08:26:25.120Z"
   },
   {
    "duration": 25,
    "start_time": "2023-04-14T08:27:38.148Z"
   },
   {
    "duration": 3,
    "start_time": "2023-04-14T08:32:16.998Z"
   },
   {
    "duration": 20,
    "start_time": "2023-04-14T08:32:18.086Z"
   },
   {
    "duration": 16,
    "start_time": "2023-04-14T08:32:45.696Z"
   },
   {
    "duration": 4,
    "start_time": "2023-04-14T08:33:30.715Z"
   },
   {
    "duration": 165,
    "start_time": "2023-04-14T08:33:31.705Z"
   },
   {
    "duration": 4,
    "start_time": "2023-04-14T08:33:38.502Z"
   },
   {
    "duration": 197,
    "start_time": "2023-04-14T08:33:39.648Z"
   },
   {
    "duration": 5,
    "start_time": "2023-04-14T08:33:53.970Z"
   },
   {
    "duration": 31,
    "start_time": "2023-04-14T08:33:56.283Z"
   },
   {
    "duration": 5,
    "start_time": "2023-04-14T08:34:21.641Z"
   },
   {
    "duration": 191,
    "start_time": "2023-04-14T08:34:23.413Z"
   },
   {
    "duration": 4,
    "start_time": "2023-04-14T08:34:27.902Z"
   },
   {
    "duration": 142,
    "start_time": "2023-04-14T08:34:28.392Z"
   },
   {
    "duration": 177,
    "start_time": "2023-04-14T08:34:38.047Z"
   },
   {
    "duration": 87,
    "start_time": "2023-04-14T08:34:45.318Z"
   },
   {
    "duration": 139,
    "start_time": "2023-04-14T08:34:45.820Z"
   },
   {
    "duration": 4,
    "start_time": "2023-04-14T08:34:51.040Z"
   },
   {
    "duration": 131,
    "start_time": "2023-04-14T08:34:52.299Z"
   },
   {
    "duration": 7,
    "start_time": "2023-04-14T08:35:05.497Z"
   },
   {
    "duration": 134,
    "start_time": "2023-04-14T08:35:06.278Z"
   },
   {
    "duration": 136,
    "start_time": "2023-04-14T08:35:07.524Z"
   },
   {
    "duration": 6,
    "start_time": "2023-04-14T08:35:50.195Z"
   },
   {
    "duration": 308,
    "start_time": "2023-04-14T08:35:50.972Z"
   },
   {
    "duration": 7,
    "start_time": "2023-04-14T08:36:07.726Z"
   },
   {
    "duration": 417,
    "start_time": "2023-04-14T08:36:08.854Z"
   },
   {
    "duration": 4,
    "start_time": "2023-04-14T08:36:21.642Z"
   },
   {
    "duration": 276,
    "start_time": "2023-04-14T08:36:24.316Z"
   },
   {
    "duration": 6,
    "start_time": "2023-04-14T08:37:23.991Z"
   },
   {
    "duration": 272,
    "start_time": "2023-04-14T08:37:29.582Z"
   },
   {
    "duration": 5,
    "start_time": "2023-04-14T08:37:56.976Z"
   },
   {
    "duration": 191,
    "start_time": "2023-04-14T08:38:04.088Z"
   },
   {
    "duration": 144,
    "start_time": "2023-04-14T08:38:47.803Z"
   },
   {
    "duration": 153,
    "start_time": "2023-04-14T08:38:58.077Z"
   },
   {
    "duration": 3,
    "start_time": "2023-04-14T08:54:41.532Z"
   },
   {
    "duration": 16,
    "start_time": "2023-04-14T08:54:42.272Z"
   },
   {
    "duration": 5,
    "start_time": "2023-04-14T08:54:51.862Z"
   },
   {
    "duration": 17,
    "start_time": "2023-04-14T08:54:52.308Z"
   },
   {
    "duration": 5,
    "start_time": "2023-04-14T08:55:03.739Z"
   },
   {
    "duration": 23,
    "start_time": "2023-04-14T08:55:04.389Z"
   },
   {
    "duration": 5,
    "start_time": "2023-04-14T08:58:52.538Z"
   },
   {
    "duration": 44,
    "start_time": "2023-04-14T08:58:53.559Z"
   },
   {
    "duration": 131,
    "start_time": "2023-04-14T08:59:17.753Z"
   },
   {
    "duration": 125,
    "start_time": "2023-04-14T09:00:59.107Z"
   },
   {
    "duration": 166,
    "start_time": "2023-04-14T09:01:19.509Z"
   },
   {
    "duration": 132,
    "start_time": "2023-04-14T09:01:41.347Z"
   },
   {
    "duration": 187,
    "start_time": "2023-04-14T09:11:06.518Z"
   },
   {
    "duration": 115,
    "start_time": "2023-04-14T09:11:34.287Z"
   },
   {
    "duration": 4,
    "start_time": "2023-04-14T09:11:39.056Z"
   },
   {
    "duration": 44,
    "start_time": "2023-04-14T09:11:40.366Z"
   },
   {
    "duration": 18,
    "start_time": "2023-04-14T09:12:22.103Z"
   },
   {
    "duration": 181,
    "start_time": "2023-04-14T09:12:53.972Z"
   },
   {
    "duration": 17,
    "start_time": "2023-04-14T09:13:50.574Z"
   },
   {
    "duration": 18,
    "start_time": "2023-04-14T09:14:35.214Z"
   },
   {
    "duration": 5,
    "start_time": "2023-04-14T09:14:46.375Z"
   },
   {
    "duration": 107,
    "start_time": "2023-04-14T09:14:46.382Z"
   },
   {
    "duration": 24,
    "start_time": "2023-04-14T09:14:46.492Z"
   },
   {
    "duration": 4,
    "start_time": "2023-04-14T09:14:46.519Z"
   },
   {
    "duration": 21,
    "start_time": "2023-04-14T09:14:46.527Z"
   },
   {
    "duration": 35,
    "start_time": "2023-04-14T09:14:46.551Z"
   },
   {
    "duration": 13,
    "start_time": "2023-04-14T09:14:46.588Z"
   },
   {
    "duration": 9,
    "start_time": "2023-04-14T09:14:46.604Z"
   },
   {
    "duration": 280,
    "start_time": "2023-04-14T09:14:46.620Z"
   },
   {
    "duration": 14,
    "start_time": "2023-04-14T09:14:46.902Z"
   },
   {
    "duration": 41,
    "start_time": "2023-04-14T09:14:46.920Z"
   },
   {
    "duration": 632,
    "start_time": "2023-04-14T09:14:46.964Z"
   },
   {
    "duration": 17,
    "start_time": "2023-04-14T09:14:47.599Z"
   },
   {
    "duration": 55,
    "start_time": "2023-04-14T09:14:47.618Z"
   },
   {
    "duration": 171,
    "start_time": "2023-04-14T09:14:47.675Z"
   },
   {
    "duration": 254,
    "start_time": "2023-04-14T09:14:47.849Z"
   },
   {
    "duration": 587,
    "start_time": "2023-04-14T09:14:48.109Z"
   },
   {
    "duration": 12,
    "start_time": "2023-04-14T09:14:48.699Z"
   },
   {
    "duration": 354,
    "start_time": "2023-04-14T09:14:48.713Z"
   },
   {
    "duration": 16,
    "start_time": "2023-04-14T09:14:49.069Z"
   },
   {
    "duration": 856,
    "start_time": "2023-04-14T09:14:49.088Z"
   },
   {
    "duration": 16,
    "start_time": "2023-04-14T09:14:49.949Z"
   },
   {
    "duration": 874,
    "start_time": "2023-04-14T09:14:49.968Z"
   },
   {
    "duration": 13,
    "start_time": "2023-04-14T09:14:50.845Z"
   },
   {
    "duration": 880,
    "start_time": "2023-04-14T09:14:50.860Z"
   },
   {
    "duration": 19,
    "start_time": "2023-04-14T09:14:51.742Z"
   },
   {
    "duration": 317,
    "start_time": "2023-04-14T09:14:51.764Z"
   },
   {
    "duration": 320,
    "start_time": "2023-04-14T09:14:52.084Z"
   },
   {
    "duration": 33,
    "start_time": "2023-04-14T09:14:52.408Z"
   },
   {
    "duration": 18,
    "start_time": "2023-04-14T09:14:52.444Z"
   },
   {
    "duration": 168,
    "start_time": "2023-04-14T09:14:52.464Z"
   },
   {
    "duration": 154,
    "start_time": "2023-04-14T09:14:52.634Z"
   },
   {
    "duration": 5,
    "start_time": "2023-04-14T09:14:52.790Z"
   },
   {
    "duration": 28,
    "start_time": "2023-04-14T09:14:52.800Z"
   },
   {
    "duration": 51,
    "start_time": "2023-04-14T09:14:52.830Z"
   },
   {
    "duration": 16,
    "start_time": "2023-04-14T09:14:52.884Z"
   },
   {
    "duration": 16,
    "start_time": "2023-04-14T09:14:56.349Z"
   },
   {
    "duration": 9,
    "start_time": "2023-04-14T09:15:10.477Z"
   },
   {
    "duration": 41,
    "start_time": "2023-04-14T09:15:11.145Z"
   },
   {
    "duration": 18,
    "start_time": "2023-04-14T09:15:12.554Z"
   },
   {
    "duration": 15,
    "start_time": "2023-04-14T09:16:12.262Z"
   },
   {
    "duration": 5,
    "start_time": "2023-04-14T09:17:45.053Z"
   },
   {
    "duration": 120,
    "start_time": "2023-04-14T09:17:45.065Z"
   },
   {
    "duration": 24,
    "start_time": "2023-04-14T09:17:45.189Z"
   },
   {
    "duration": 8,
    "start_time": "2023-04-14T09:17:45.216Z"
   },
   {
    "duration": 34,
    "start_time": "2023-04-14T09:17:45.226Z"
   },
   {
    "duration": 17,
    "start_time": "2023-04-14T09:17:45.263Z"
   },
   {
    "duration": 14,
    "start_time": "2023-04-14T09:17:45.282Z"
   },
   {
    "duration": 30,
    "start_time": "2023-04-14T09:17:45.298Z"
   },
   {
    "duration": 264,
    "start_time": "2023-04-14T09:17:45.332Z"
   },
   {
    "duration": 11,
    "start_time": "2023-04-14T09:17:45.601Z"
   },
   {
    "duration": 40,
    "start_time": "2023-04-14T09:17:45.614Z"
   },
   {
    "duration": 686,
    "start_time": "2023-04-14T09:17:45.658Z"
   },
   {
    "duration": 11,
    "start_time": "2023-04-14T09:17:46.350Z"
   },
   {
    "duration": 53,
    "start_time": "2023-04-14T09:17:46.364Z"
   },
   {
    "duration": 168,
    "start_time": "2023-04-14T09:17:46.420Z"
   },
   {
    "duration": 322,
    "start_time": "2023-04-14T09:17:46.594Z"
   },
   {
    "duration": 704,
    "start_time": "2023-04-14T09:17:46.918Z"
   },
   {
    "duration": 9,
    "start_time": "2023-04-14T09:17:47.625Z"
   },
   {
    "duration": 377,
    "start_time": "2023-04-14T09:17:47.637Z"
   },
   {
    "duration": 10,
    "start_time": "2023-04-14T09:17:48.019Z"
   },
   {
    "duration": 990,
    "start_time": "2023-04-14T09:17:48.032Z"
   },
   {
    "duration": 15,
    "start_time": "2023-04-14T09:17:49.025Z"
   },
   {
    "duration": 961,
    "start_time": "2023-04-14T09:17:49.042Z"
   },
   {
    "duration": 16,
    "start_time": "2023-04-14T09:17:50.005Z"
   },
   {
    "duration": 988,
    "start_time": "2023-04-14T09:17:50.023Z"
   },
   {
    "duration": 14,
    "start_time": "2023-04-14T09:17:51.014Z"
   },
   {
    "duration": 309,
    "start_time": "2023-04-14T09:17:51.031Z"
   },
   {
    "duration": 311,
    "start_time": "2023-04-14T09:18:01.281Z"
   },
   {
    "duration": 36,
    "start_time": "2023-04-14T09:19:14.990Z"
   },
   {
    "duration": 31,
    "start_time": "2023-04-14T09:19:24.972Z"
   },
   {
    "duration": 34,
    "start_time": "2023-04-14T09:19:47.072Z"
   },
   {
    "duration": 231,
    "start_time": "2023-04-14T09:20:09.257Z"
   },
   {
    "duration": 183,
    "start_time": "2023-04-14T09:20:16.482Z"
   },
   {
    "duration": 195,
    "start_time": "2023-04-14T09:20:39.453Z"
   },
   {
    "duration": 5,
    "start_time": "2023-04-14T09:21:16.947Z"
   },
   {
    "duration": 19,
    "start_time": "2023-04-14T09:21:20.644Z"
   },
   {
    "duration": 16,
    "start_time": "2023-04-14T09:21:26.047Z"
   },
   {
    "duration": 73,
    "start_time": "2023-04-14T09:28:58.611Z"
   },
   {
    "duration": 9,
    "start_time": "2023-04-14T09:29:06.532Z"
   },
   {
    "duration": 670,
    "start_time": "2023-04-14T09:29:44.950Z"
   },
   {
    "duration": 618,
    "start_time": "2023-04-14T09:29:56.882Z"
   },
   {
    "duration": 6,
    "start_time": "2023-04-14T09:31:30.833Z"
   },
   {
    "duration": 21,
    "start_time": "2023-04-14T09:31:31.609Z"
   },
   {
    "duration": 19,
    "start_time": "2023-04-14T09:31:32.905Z"
   },
   {
    "duration": 3,
    "start_time": "2023-04-14T09:31:58.507Z"
   },
   {
    "duration": 25,
    "start_time": "2023-04-14T09:31:59.292Z"
   },
   {
    "duration": 24,
    "start_time": "2023-04-14T09:32:00.789Z"
   },
   {
    "duration": 261,
    "start_time": "2023-04-14T09:32:19.784Z"
   },
   {
    "duration": 20,
    "start_time": "2023-04-14T09:32:38.017Z"
   },
   {
    "duration": 147,
    "start_time": "2023-04-14T09:33:43.977Z"
   },
   {
    "duration": 18,
    "start_time": "2023-04-14T09:34:17.971Z"
   },
   {
    "duration": 9,
    "start_time": "2023-04-14T09:54:09.266Z"
   },
   {
    "duration": 201,
    "start_time": "2023-04-14T09:54:41.005Z"
   },
   {
    "duration": 9,
    "start_time": "2023-04-14T10:00:05.314Z"
   },
   {
    "duration": 303,
    "start_time": "2023-04-14T10:00:28.957Z"
   },
   {
    "duration": 228,
    "start_time": "2023-04-14T10:00:50.936Z"
   },
   {
    "duration": 9,
    "start_time": "2023-04-14T10:04:04.020Z"
   },
   {
    "duration": 12,
    "start_time": "2023-04-14T10:04:04.967Z"
   },
   {
    "duration": 265,
    "start_time": "2023-04-14T10:04:07.647Z"
   },
   {
    "duration": 4,
    "start_time": "2023-04-14T10:04:49.111Z"
   },
   {
    "duration": 7,
    "start_time": "2023-04-14T10:04:49.775Z"
   },
   {
    "duration": 257,
    "start_time": "2023-04-14T10:04:50.570Z"
   },
   {
    "duration": 4,
    "start_time": "2023-04-14T10:04:58.225Z"
   },
   {
    "duration": 9,
    "start_time": "2023-04-14T10:04:58.635Z"
   },
   {
    "duration": 239,
    "start_time": "2023-04-14T10:04:59.425Z"
   },
   {
    "duration": 10,
    "start_time": "2023-04-14T10:06:32.024Z"
   },
   {
    "duration": 273,
    "start_time": "2023-04-14T10:06:32.929Z"
   },
   {
    "duration": 15,
    "start_time": "2023-04-14T10:06:45.881Z"
   },
   {
    "duration": 10,
    "start_time": "2023-04-14T10:06:55.716Z"
   },
   {
    "duration": 4,
    "start_time": "2023-04-14T10:08:23.238Z"
   },
   {
    "duration": 11,
    "start_time": "2023-04-14T10:08:25.117Z"
   },
   {
    "duration": 9,
    "start_time": "2023-04-14T10:08:31.573Z"
   },
   {
    "duration": 8,
    "start_time": "2023-04-14T10:08:37.764Z"
   },
   {
    "duration": 10,
    "start_time": "2023-04-14T10:08:59.460Z"
   },
   {
    "duration": 272,
    "start_time": "2023-04-14T10:09:01.364Z"
   },
   {
    "duration": 10,
    "start_time": "2023-04-14T10:09:05.883Z"
   },
   {
    "duration": 10,
    "start_time": "2023-04-14T10:09:07.912Z"
   },
   {
    "duration": 267,
    "start_time": "2023-04-14T10:09:10.072Z"
   },
   {
    "duration": 5,
    "start_time": "2023-04-14T10:11:28.420Z"
   },
   {
    "duration": 11,
    "start_time": "2023-04-14T10:11:29.167Z"
   },
   {
    "duration": 534,
    "start_time": "2023-04-14T10:11:29.816Z"
   },
   {
    "duration": 553,
    "start_time": "2023-04-14T11:23:55.283Z"
   },
   {
    "duration": 474,
    "start_time": "2023-04-14T11:26:05.631Z"
   },
   {
    "duration": 482,
    "start_time": "2023-04-14T11:27:22.436Z"
   },
   {
    "duration": 556,
    "start_time": "2023-04-14T11:27:28.916Z"
   },
   {
    "duration": 497,
    "start_time": "2023-04-14T11:28:12.101Z"
   },
   {
    "duration": 3,
    "start_time": "2023-04-14T11:37:41.862Z"
   },
   {
    "duration": 15,
    "start_time": "2023-04-14T11:37:44.106Z"
   },
   {
    "duration": 5,
    "start_time": "2023-04-14T11:37:46.459Z"
   },
   {
    "duration": 589,
    "start_time": "2023-04-14T11:37:47.502Z"
   },
   {
    "duration": 3,
    "start_time": "2023-04-14T11:39:34.955Z"
   },
   {
    "duration": 4,
    "start_time": "2023-04-14T11:39:35.506Z"
   },
   {
    "duration": 10,
    "start_time": "2023-04-14T11:39:36.153Z"
   },
   {
    "duration": 479,
    "start_time": "2023-04-14T11:39:36.862Z"
   },
   {
    "duration": 23,
    "start_time": "2023-04-14T11:45:09.609Z"
   },
   {
    "duration": 474,
    "start_time": "2023-04-14T11:45:10.579Z"
   },
   {
    "duration": 12,
    "start_time": "2023-04-14T11:55:15.742Z"
   },
   {
    "duration": 29,
    "start_time": "2023-04-14T11:55:20.445Z"
   },
   {
    "duration": 14,
    "start_time": "2023-04-14T11:55:42.125Z"
   },
   {
    "duration": 435,
    "start_time": "2023-04-14T11:55:43.033Z"
   },
   {
    "duration": 24,
    "start_time": "2023-04-14T11:58:43.732Z"
   },
   {
    "duration": 1508,
    "start_time": "2023-04-14T11:59:02.326Z"
   },
   {
    "duration": 8,
    "start_time": "2023-04-14T11:59:13.209Z"
   },
   {
    "duration": 1426,
    "start_time": "2023-04-17T06:20:34.551Z"
   },
   {
    "duration": 218,
    "start_time": "2023-04-17T06:20:35.979Z"
   },
   {
    "duration": 13,
    "start_time": "2023-04-17T06:20:36.198Z"
   },
   {
    "duration": 4,
    "start_time": "2023-04-17T06:20:36.213Z"
   },
   {
    "duration": 11,
    "start_time": "2023-04-17T06:20:36.218Z"
   },
   {
    "duration": 4,
    "start_time": "2023-04-17T06:20:36.230Z"
   },
   {
    "duration": 6,
    "start_time": "2023-04-17T06:20:36.236Z"
   },
   {
    "duration": 6,
    "start_time": "2023-04-17T06:20:36.243Z"
   },
   {
    "duration": 166,
    "start_time": "2023-04-17T06:20:36.251Z"
   },
   {
    "duration": 7,
    "start_time": "2023-04-17T06:20:36.419Z"
   },
   {
    "duration": 28,
    "start_time": "2023-04-17T06:20:36.427Z"
   },
   {
    "duration": 463,
    "start_time": "2023-04-17T06:20:36.456Z"
   },
   {
    "duration": 3,
    "start_time": "2023-04-17T06:20:36.921Z"
   },
   {
    "duration": 32,
    "start_time": "2023-04-17T06:20:36.925Z"
   },
   {
    "duration": 380,
    "start_time": "2023-04-17T06:20:36.959Z"
   },
   {
    "duration": 278,
    "start_time": "2023-04-17T06:20:37.340Z"
   },
   {
    "duration": 241,
    "start_time": "2023-04-17T06:20:37.620Z"
   },
   {
    "duration": 10,
    "start_time": "2023-04-17T06:20:37.864Z"
   },
   {
    "duration": 210,
    "start_time": "2023-04-17T06:20:37.876Z"
   },
   {
    "duration": 6,
    "start_time": "2023-04-17T06:20:38.088Z"
   },
   {
    "duration": 525,
    "start_time": "2023-04-17T06:20:38.095Z"
   },
   {
    "duration": 8,
    "start_time": "2023-04-17T06:20:38.622Z"
   },
   {
    "duration": 671,
    "start_time": "2023-04-17T06:20:38.632Z"
   },
   {
    "duration": 8,
    "start_time": "2023-04-17T06:20:39.304Z"
   },
   {
    "duration": 587,
    "start_time": "2023-04-17T06:20:39.313Z"
   },
   {
    "duration": 9,
    "start_time": "2023-04-17T06:20:39.901Z"
   },
   {
    "duration": 220,
    "start_time": "2023-04-17T06:20:39.911Z"
   },
   {
    "duration": 214,
    "start_time": "2023-04-17T06:20:40.134Z"
   },
   {
    "duration": 3,
    "start_time": "2023-04-17T06:20:40.350Z"
   },
   {
    "duration": 14,
    "start_time": "2023-04-17T06:20:40.354Z"
   },
   {
    "duration": 17,
    "start_time": "2023-04-17T06:20:40.369Z"
   },
   {
    "duration": 415,
    "start_time": "2023-04-17T06:20:40.387Z"
   },
   {
    "duration": 9,
    "start_time": "2023-04-17T06:20:40.803Z"
   },
   {
    "duration": 376,
    "start_time": "2023-04-17T06:20:40.813Z"
   },
   {
    "duration": 9,
    "start_time": "2023-04-17T06:20:41.190Z"
   },
   {
    "duration": 372,
    "start_time": "2023-04-17T06:20:41.201Z"
   },
   {
    "duration": 4,
    "start_time": "2023-04-17T06:23:21.785Z"
   },
   {
    "duration": 9,
    "start_time": "2023-04-17T06:26:47.031Z"
   },
   {
    "duration": 138,
    "start_time": "2023-04-17T06:26:47.844Z"
   },
   {
    "duration": 4,
    "start_time": "2023-04-17T06:28:48.413Z"
   },
   {
    "duration": 67,
    "start_time": "2023-04-17T06:28:48.419Z"
   },
   {
    "duration": 13,
    "start_time": "2023-04-17T06:28:48.488Z"
   },
   {
    "duration": 5,
    "start_time": "2023-04-17T06:28:48.503Z"
   },
   {
    "duration": 14,
    "start_time": "2023-04-17T06:28:48.509Z"
   },
   {
    "duration": 4,
    "start_time": "2023-04-17T06:28:48.525Z"
   },
   {
    "duration": 7,
    "start_time": "2023-04-17T06:28:48.531Z"
   },
   {
    "duration": 32,
    "start_time": "2023-04-17T06:28:48.540Z"
   },
   {
    "duration": 151,
    "start_time": "2023-04-17T06:28:48.575Z"
   },
   {
    "duration": 7,
    "start_time": "2023-04-17T06:28:48.728Z"
   },
   {
    "duration": 41,
    "start_time": "2023-04-17T06:28:48.736Z"
   },
   {
    "duration": 399,
    "start_time": "2023-04-17T06:28:48.779Z"
   },
   {
    "duration": 5,
    "start_time": "2023-04-17T06:28:49.180Z"
   },
   {
    "duration": 29,
    "start_time": "2023-04-17T06:28:49.187Z"
   },
   {
    "duration": 96,
    "start_time": "2023-04-17T06:28:49.218Z"
   },
   {
    "duration": 159,
    "start_time": "2023-04-17T06:28:49.315Z"
   },
   {
    "duration": 240,
    "start_time": "2023-04-17T06:28:49.476Z"
   },
   {
    "duration": 6,
    "start_time": "2023-04-17T06:28:49.718Z"
   },
   {
    "duration": 194,
    "start_time": "2023-04-17T06:28:49.725Z"
   },
   {
    "duration": 5,
    "start_time": "2023-04-17T06:28:49.921Z"
   },
   {
    "duration": 585,
    "start_time": "2023-04-17T06:28:49.927Z"
   },
   {
    "duration": 15,
    "start_time": "2023-04-17T06:28:50.514Z"
   },
   {
    "duration": 512,
    "start_time": "2023-04-17T06:28:50.530Z"
   },
   {
    "duration": 7,
    "start_time": "2023-04-17T06:28:51.046Z"
   },
   {
    "duration": 556,
    "start_time": "2023-04-17T06:28:51.055Z"
   },
   {
    "duration": 8,
    "start_time": "2023-04-17T06:28:51.612Z"
   },
   {
    "duration": 172,
    "start_time": "2023-04-17T06:28:51.621Z"
   },
   {
    "duration": 255,
    "start_time": "2023-04-17T06:28:51.794Z"
   },
   {
    "duration": 3,
    "start_time": "2023-04-17T06:28:52.050Z"
   },
   {
    "duration": 20,
    "start_time": "2023-04-17T06:28:52.055Z"
   },
   {
    "duration": 17,
    "start_time": "2023-04-17T06:28:52.076Z"
   },
   {
    "duration": 287,
    "start_time": "2023-04-17T06:28:52.095Z"
   },
   {
    "duration": 17,
    "start_time": "2023-04-17T06:28:52.384Z"
   },
   {
    "duration": 241,
    "start_time": "2023-04-17T06:28:52.402Z"
   },
   {
    "duration": 9,
    "start_time": "2023-04-17T06:28:52.645Z"
   },
   {
    "duration": 276,
    "start_time": "2023-04-17T06:28:52.655Z"
   },
   {
    "duration": 4,
    "start_time": "2023-04-17T06:28:52.933Z"
   },
   {
    "duration": 9,
    "start_time": "2023-04-17T06:28:52.939Z"
   },
   {
    "duration": 17,
    "start_time": "2023-04-17T06:28:52.950Z"
   },
   {
    "duration": 12,
    "start_time": "2023-04-17T06:29:56.224Z"
   },
   {
    "duration": 5,
    "start_time": "2023-04-17T06:30:12.277Z"
   },
   {
    "duration": 7,
    "start_time": "2023-04-17T06:34:21.282Z"
   },
   {
    "duration": 6,
    "start_time": "2023-04-17T06:34:25.221Z"
   },
   {
    "duration": 6,
    "start_time": "2023-04-17T06:34:28.471Z"
   },
   {
    "duration": 10,
    "start_time": "2023-04-17T06:42:31.716Z"
   },
   {
    "duration": 6,
    "start_time": "2023-04-17T06:42:32.547Z"
   },
   {
    "duration": 5,
    "start_time": "2023-04-17T06:43:06.356Z"
   },
   {
    "duration": 1397,
    "start_time": "2023-04-17T09:17:59.569Z"
   },
   {
    "duration": 214,
    "start_time": "2023-04-17T09:18:00.968Z"
   },
   {
    "duration": 14,
    "start_time": "2023-04-17T09:18:01.184Z"
   },
   {
    "duration": 26,
    "start_time": "2023-04-17T09:18:01.201Z"
   },
   {
    "duration": 34,
    "start_time": "2023-04-17T09:18:01.229Z"
   },
   {
    "duration": 31,
    "start_time": "2023-04-17T09:18:01.265Z"
   },
   {
    "duration": 56,
    "start_time": "2023-04-17T09:18:01.298Z"
   },
   {
    "duration": 41,
    "start_time": "2023-04-17T09:18:01.356Z"
   },
   {
    "duration": 207,
    "start_time": "2023-04-17T09:18:01.399Z"
   },
   {
    "duration": 7,
    "start_time": "2023-04-17T09:18:01.609Z"
   },
   {
    "duration": 57,
    "start_time": "2023-04-17T09:18:01.618Z"
   },
   {
    "duration": 530,
    "start_time": "2023-04-17T09:18:01.677Z"
   },
   {
    "duration": 4,
    "start_time": "2023-04-17T09:18:02.208Z"
   },
   {
    "duration": 432,
    "start_time": "2023-04-17T09:18:02.214Z"
   },
   {
    "duration": 315,
    "start_time": "2023-04-17T09:18:02.648Z"
   },
   {
    "duration": 280,
    "start_time": "2023-04-17T09:18:02.964Z"
   },
   {
    "duration": 6,
    "start_time": "2023-04-17T09:18:03.246Z"
   },
   {
    "duration": 201,
    "start_time": "2023-04-17T09:18:03.260Z"
   },
   {
    "duration": 6,
    "start_time": "2023-04-17T09:18:03.463Z"
   },
   {
    "duration": 551,
    "start_time": "2023-04-17T09:18:03.470Z"
   },
   {
    "duration": 8,
    "start_time": "2023-04-17T09:18:04.023Z"
   },
   {
    "duration": 654,
    "start_time": "2023-04-17T09:18:04.032Z"
   },
   {
    "duration": 9,
    "start_time": "2023-04-17T09:18:04.688Z"
   },
   {
    "duration": 590,
    "start_time": "2023-04-17T09:18:04.698Z"
   },
   {
    "duration": 8,
    "start_time": "2023-04-17T09:18:05.289Z"
   },
   {
    "duration": 185,
    "start_time": "2023-04-17T09:18:05.298Z"
   },
   {
    "duration": 183,
    "start_time": "2023-04-17T09:18:05.484Z"
   },
   {
    "duration": 3,
    "start_time": "2023-04-17T09:18:05.670Z"
   },
   {
    "duration": 18,
    "start_time": "2023-04-17T09:18:05.674Z"
   },
   {
    "duration": 13,
    "start_time": "2023-04-17T09:18:05.693Z"
   },
   {
    "duration": 280,
    "start_time": "2023-04-17T09:18:05.708Z"
   },
   {
    "duration": 8,
    "start_time": "2023-04-17T09:18:05.990Z"
   },
   {
    "duration": 275,
    "start_time": "2023-04-17T09:18:05.999Z"
   },
   {
    "duration": 10,
    "start_time": "2023-04-17T09:18:06.277Z"
   },
   {
    "duration": 414,
    "start_time": "2023-04-17T09:18:06.288Z"
   },
   {
    "duration": 9,
    "start_time": "2023-04-17T09:18:06.704Z"
   },
   {
    "duration": 7,
    "start_time": "2023-04-17T09:18:06.715Z"
   },
   {
    "duration": 7,
    "start_time": "2023-04-17T09:18:06.724Z"
   },
   {
    "duration": 28,
    "start_time": "2023-04-17T09:18:06.733Z"
   },
   {
    "duration": 104,
    "start_time": "2023-04-17T15:02:35.934Z"
   },
   {
    "duration": 1570,
    "start_time": "2023-04-17T15:24:32.511Z"
   },
   {
    "duration": 554,
    "start_time": "2023-04-17T15:24:34.088Z"
   },
   {
    "duration": 17,
    "start_time": "2023-04-17T15:24:34.644Z"
   },
   {
    "duration": 8,
    "start_time": "2023-04-17T15:24:34.672Z"
   },
   {
    "duration": 13,
    "start_time": "2023-04-17T15:24:34.687Z"
   },
   {
    "duration": 12,
    "start_time": "2023-04-17T15:24:34.702Z"
   },
   {
    "duration": 8,
    "start_time": "2023-04-17T15:24:34.715Z"
   },
   {
    "duration": 9,
    "start_time": "2023-04-17T15:24:34.725Z"
   },
   {
    "duration": 182,
    "start_time": "2023-04-17T15:24:34.735Z"
   },
   {
    "duration": 8,
    "start_time": "2023-04-17T15:24:34.919Z"
   },
   {
    "duration": 53,
    "start_time": "2023-04-17T15:24:34.928Z"
   },
   {
    "duration": 527,
    "start_time": "2023-04-17T15:24:34.985Z"
   },
   {
    "duration": 7,
    "start_time": "2023-04-17T15:24:35.514Z"
   },
   {
    "duration": 1822,
    "start_time": "2023-04-17T15:24:35.523Z"
   },
   {
    "duration": 388,
    "start_time": "2023-04-17T15:24:37.347Z"
   },
   {
    "duration": 310,
    "start_time": "2023-04-17T15:24:37.737Z"
   },
   {
    "duration": 15,
    "start_time": "2023-04-17T15:24:38.049Z"
   },
   {
    "duration": 236,
    "start_time": "2023-04-17T15:24:38.069Z"
   },
   {
    "duration": 6,
    "start_time": "2023-04-17T15:24:38.307Z"
   },
   {
    "duration": 693,
    "start_time": "2023-04-17T15:24:38.314Z"
   },
   {
    "duration": 13,
    "start_time": "2023-04-17T15:24:39.010Z"
   },
   {
    "duration": 888,
    "start_time": "2023-04-17T15:24:39.025Z"
   },
   {
    "duration": 13,
    "start_time": "2023-04-17T15:24:39.915Z"
   },
   {
    "duration": 844,
    "start_time": "2023-04-17T15:24:39.930Z"
   },
   {
    "duration": 13,
    "start_time": "2023-04-17T15:24:40.780Z"
   },
   {
    "duration": 228,
    "start_time": "2023-04-17T15:24:40.795Z"
   },
   {
    "duration": 266,
    "start_time": "2023-04-17T15:24:41.025Z"
   },
   {
    "duration": 5,
    "start_time": "2023-04-17T15:24:41.295Z"
   },
   {
    "duration": 11,
    "start_time": "2023-04-17T15:24:41.302Z"
   },
   {
    "duration": 27,
    "start_time": "2023-04-17T15:24:41.315Z"
   },
   {
    "duration": 381,
    "start_time": "2023-04-17T15:24:41.344Z"
   },
   {
    "duration": 10,
    "start_time": "2023-04-17T15:24:41.727Z"
   },
   {
    "duration": 380,
    "start_time": "2023-04-17T15:24:41.739Z"
   },
   {
    "duration": 12,
    "start_time": "2023-04-17T15:24:42.121Z"
   },
   {
    "duration": 516,
    "start_time": "2023-04-17T15:24:42.135Z"
   },
   {
    "duration": 25,
    "start_time": "2023-04-17T15:24:42.661Z"
   },
   {
    "duration": 6,
    "start_time": "2023-04-17T15:24:42.689Z"
   },
   {
    "duration": 13,
    "start_time": "2023-04-17T15:24:42.697Z"
   },
   {
    "duration": 7,
    "start_time": "2023-04-17T15:24:42.713Z"
   },
   {
    "duration": 48,
    "start_time": "2023-04-18T05:54:46.418Z"
   },
   {
    "duration": 0,
    "start_time": "2023-04-18T05:54:46.468Z"
   },
   {
    "duration": 0,
    "start_time": "2023-04-18T05:54:46.469Z"
   },
   {
    "duration": 0,
    "start_time": "2023-04-18T05:54:46.471Z"
   },
   {
    "duration": 0,
    "start_time": "2023-04-18T05:54:46.472Z"
   },
   {
    "duration": 8,
    "start_time": "2023-04-18T05:54:46.482Z"
   },
   {
    "duration": 6,
    "start_time": "2023-04-18T05:54:46.503Z"
   },
   {
    "duration": 7,
    "start_time": "2023-04-18T05:54:46.515Z"
   },
   {
    "duration": 7,
    "start_time": "2023-04-18T05:54:46.525Z"
   },
   {
    "duration": 44,
    "start_time": "2023-04-18T05:54:46.536Z"
   },
   {
    "duration": 0,
    "start_time": "2023-04-18T05:54:46.581Z"
   },
   {
    "duration": 0,
    "start_time": "2023-04-18T05:54:46.583Z"
   },
   {
    "duration": 0,
    "start_time": "2023-04-18T05:54:46.585Z"
   },
   {
    "duration": 8,
    "start_time": "2023-04-18T05:54:46.590Z"
   },
   {
    "duration": 0,
    "start_time": "2023-04-18T05:54:46.599Z"
   },
   {
    "duration": 9,
    "start_time": "2023-04-18T05:54:46.605Z"
   },
   {
    "duration": 7,
    "start_time": "2023-04-18T05:54:46.622Z"
   },
   {
    "duration": 20,
    "start_time": "2023-04-18T05:54:46.636Z"
   },
   {
    "duration": 9,
    "start_time": "2023-04-18T05:54:46.659Z"
   },
   {
    "duration": 0,
    "start_time": "2023-04-18T05:54:46.672Z"
   },
   {
    "duration": 12,
    "start_time": "2023-04-18T05:54:46.674Z"
   },
   {
    "duration": 0,
    "start_time": "2023-04-18T05:54:46.687Z"
   },
   {
    "duration": 7,
    "start_time": "2023-04-18T05:54:46.694Z"
   },
   {
    "duration": 21,
    "start_time": "2023-04-18T05:54:46.703Z"
   },
   {
    "duration": 0,
    "start_time": "2023-04-18T05:54:46.725Z"
   },
   {
    "duration": 0,
    "start_time": "2023-04-18T05:54:46.726Z"
   },
   {
    "duration": 29,
    "start_time": "2023-04-18T05:54:46.731Z"
   },
   {
    "duration": 0,
    "start_time": "2023-04-18T05:54:46.761Z"
   },
   {
    "duration": 0,
    "start_time": "2023-04-18T05:54:46.762Z"
   },
   {
    "duration": 6,
    "start_time": "2023-04-18T05:54:46.764Z"
   },
   {
    "duration": 11,
    "start_time": "2023-04-18T05:54:46.778Z"
   },
   {
    "duration": 7,
    "start_time": "2023-04-18T05:54:46.795Z"
   },
   {
    "duration": 7,
    "start_time": "2023-04-18T05:54:46.806Z"
   },
   {
    "duration": 8,
    "start_time": "2023-04-18T05:54:46.817Z"
   },
   {
    "duration": 7,
    "start_time": "2023-04-18T05:54:46.857Z"
   },
   {
    "duration": 0,
    "start_time": "2023-04-18T05:54:46.866Z"
   },
   {
    "duration": 1428,
    "start_time": "2023-04-18T05:54:57.916Z"
   },
   {
    "duration": 212,
    "start_time": "2023-04-18T05:54:59.347Z"
   },
   {
    "duration": 17,
    "start_time": "2023-04-18T05:54:59.562Z"
   },
   {
    "duration": 87,
    "start_time": "2023-04-18T05:54:59.582Z"
   },
   {
    "duration": 0,
    "start_time": "2023-04-18T05:54:59.672Z"
   },
   {
    "duration": 0,
    "start_time": "2023-04-18T05:54:59.674Z"
   },
   {
    "duration": 0,
    "start_time": "2023-04-18T05:54:59.675Z"
   },
   {
    "duration": 0,
    "start_time": "2023-04-18T05:54:59.676Z"
   },
   {
    "duration": 0,
    "start_time": "2023-04-18T05:54:59.678Z"
   },
   {
    "duration": 0,
    "start_time": "2023-04-18T05:54:59.680Z"
   },
   {
    "duration": 0,
    "start_time": "2023-04-18T05:54:59.682Z"
   },
   {
    "duration": 0,
    "start_time": "2023-04-18T05:54:59.683Z"
   },
   {
    "duration": 0,
    "start_time": "2023-04-18T05:54:59.685Z"
   },
   {
    "duration": 0,
    "start_time": "2023-04-18T05:54:59.686Z"
   },
   {
    "duration": 0,
    "start_time": "2023-04-18T05:54:59.688Z"
   },
   {
    "duration": 0,
    "start_time": "2023-04-18T05:54:59.689Z"
   },
   {
    "duration": 0,
    "start_time": "2023-04-18T05:54:59.691Z"
   },
   {
    "duration": 0,
    "start_time": "2023-04-18T05:54:59.693Z"
   },
   {
    "duration": 0,
    "start_time": "2023-04-18T05:54:59.694Z"
   },
   {
    "duration": 0,
    "start_time": "2023-04-18T05:54:59.696Z"
   },
   {
    "duration": 0,
    "start_time": "2023-04-18T05:54:59.697Z"
   },
   {
    "duration": 0,
    "start_time": "2023-04-18T05:54:59.699Z"
   },
   {
    "duration": 0,
    "start_time": "2023-04-18T05:54:59.701Z"
   },
   {
    "duration": 0,
    "start_time": "2023-04-18T05:54:59.702Z"
   },
   {
    "duration": 0,
    "start_time": "2023-04-18T05:54:59.756Z"
   },
   {
    "duration": 0,
    "start_time": "2023-04-18T05:54:59.758Z"
   },
   {
    "duration": 0,
    "start_time": "2023-04-18T05:54:59.760Z"
   },
   {
    "duration": 0,
    "start_time": "2023-04-18T05:54:59.762Z"
   },
   {
    "duration": 0,
    "start_time": "2023-04-18T05:54:59.764Z"
   },
   {
    "duration": 0,
    "start_time": "2023-04-18T05:54:59.765Z"
   },
   {
    "duration": 0,
    "start_time": "2023-04-18T05:54:59.767Z"
   },
   {
    "duration": 0,
    "start_time": "2023-04-18T05:54:59.768Z"
   },
   {
    "duration": 0,
    "start_time": "2023-04-18T05:54:59.770Z"
   },
   {
    "duration": 0,
    "start_time": "2023-04-18T05:54:59.771Z"
   },
   {
    "duration": 0,
    "start_time": "2023-04-18T05:54:59.773Z"
   },
   {
    "duration": 0,
    "start_time": "2023-04-18T05:54:59.774Z"
   },
   {
    "duration": 0,
    "start_time": "2023-04-18T05:54:59.777Z"
   },
   {
    "duration": 0,
    "start_time": "2023-04-18T05:54:59.778Z"
   },
   {
    "duration": 0,
    "start_time": "2023-04-18T05:54:59.780Z"
   },
   {
    "duration": 22,
    "start_time": "2023-04-18T05:55:21.198Z"
   },
   {
    "duration": 23,
    "start_time": "2023-04-18T05:57:54.425Z"
   },
   {
    "duration": 12,
    "start_time": "2023-04-18T05:59:37.212Z"
   },
   {
    "duration": 0,
    "start_time": "2023-04-18T05:59:37.225Z"
   },
   {
    "duration": 0,
    "start_time": "2023-04-18T05:59:37.226Z"
   },
   {
    "duration": 3,
    "start_time": "2023-04-18T05:59:37.229Z"
   },
   {
    "duration": 13,
    "start_time": "2023-04-18T05:59:37.238Z"
   },
   {
    "duration": 10,
    "start_time": "2023-04-18T05:59:39.936Z"
   },
   {
    "duration": 387,
    "start_time": "2023-04-18T06:00:02.469Z"
   },
   {
    "duration": 23,
    "start_time": "2023-04-18T06:03:23.022Z"
   },
   {
    "duration": 16,
    "start_time": "2023-04-18T06:03:31.579Z"
   },
   {
    "duration": 3,
    "start_time": "2023-04-18T06:14:05.835Z"
   },
   {
    "duration": 67,
    "start_time": "2023-04-18T06:14:05.840Z"
   },
   {
    "duration": 17,
    "start_time": "2023-04-18T06:14:05.910Z"
   },
   {
    "duration": 3,
    "start_time": "2023-04-18T06:14:05.929Z"
   },
   {
    "duration": 9,
    "start_time": "2023-04-18T06:14:05.956Z"
   },
   {
    "duration": 5,
    "start_time": "2023-04-18T06:14:05.967Z"
   },
   {
    "duration": 12,
    "start_time": "2023-04-18T06:14:05.977Z"
   },
   {
    "duration": 19,
    "start_time": "2023-04-18T06:14:05.991Z"
   },
   {
    "duration": 23,
    "start_time": "2023-04-18T06:14:06.012Z"
   },
   {
    "duration": 221,
    "start_time": "2023-04-18T06:14:06.037Z"
   },
   {
    "duration": 8,
    "start_time": "2023-04-18T06:14:06.260Z"
   },
   {
    "duration": 26,
    "start_time": "2023-04-18T06:14:06.269Z"
   },
   {
    "duration": 525,
    "start_time": "2023-04-18T06:14:06.297Z"
   },
   {
    "duration": 5,
    "start_time": "2023-04-18T06:14:06.824Z"
   },
   {
    "duration": 413,
    "start_time": "2023-04-18T06:14:06.831Z"
   },
   {
    "duration": 390,
    "start_time": "2023-04-18T06:14:07.246Z"
   },
   {
    "duration": 305,
    "start_time": "2023-04-18T06:14:07.638Z"
   },
   {
    "duration": 12,
    "start_time": "2023-04-18T06:14:07.945Z"
   },
   {
    "duration": 233,
    "start_time": "2023-04-18T06:14:07.959Z"
   },
   {
    "duration": 6,
    "start_time": "2023-04-18T06:14:08.194Z"
   },
   {
    "duration": 614,
    "start_time": "2023-04-18T06:14:08.202Z"
   },
   {
    "duration": 10,
    "start_time": "2023-04-18T06:14:08.818Z"
   },
   {
    "duration": 733,
    "start_time": "2023-04-18T06:14:08.829Z"
   },
   {
    "duration": 9,
    "start_time": "2023-04-18T06:14:09.564Z"
   },
   {
    "duration": 636,
    "start_time": "2023-04-18T06:14:09.575Z"
   },
   {
    "duration": 12,
    "start_time": "2023-04-18T06:14:10.213Z"
   },
   {
    "duration": 228,
    "start_time": "2023-04-18T06:14:10.228Z"
   },
   {
    "duration": 198,
    "start_time": "2023-04-18T06:14:10.458Z"
   },
   {
    "duration": 3,
    "start_time": "2023-04-18T06:14:10.659Z"
   },
   {
    "duration": 9,
    "start_time": "2023-04-18T06:14:10.664Z"
   },
   {
    "duration": 12,
    "start_time": "2023-04-18T06:14:10.676Z"
   },
   {
    "duration": 347,
    "start_time": "2023-04-18T06:14:10.690Z"
   },
   {
    "duration": 21,
    "start_time": "2023-04-18T06:14:11.039Z"
   },
   {
    "duration": 378,
    "start_time": "2023-04-18T06:14:11.062Z"
   },
   {
    "duration": 22,
    "start_time": "2023-04-18T06:14:11.442Z"
   },
   {
    "duration": 703,
    "start_time": "2023-04-18T06:14:11.466Z"
   },
   {
    "duration": 11,
    "start_time": "2023-04-18T06:14:12.173Z"
   },
   {
    "duration": 36,
    "start_time": "2023-04-18T06:14:12.186Z"
   },
   {
    "duration": 30,
    "start_time": "2023-04-18T06:14:12.225Z"
   },
   {
    "duration": 15,
    "start_time": "2023-04-18T06:14:12.257Z"
   },
   {
    "duration": 4,
    "start_time": "2023-04-18T06:23:23.065Z"
   },
   {
    "duration": 71,
    "start_time": "2023-04-18T06:23:23.073Z"
   },
   {
    "duration": 15,
    "start_time": "2023-04-18T06:23:23.146Z"
   },
   {
    "duration": 4,
    "start_time": "2023-04-18T06:23:23.163Z"
   },
   {
    "duration": 11,
    "start_time": "2023-04-18T06:23:23.170Z"
   },
   {
    "duration": 5,
    "start_time": "2023-04-18T06:23:23.182Z"
   },
   {
    "duration": 7,
    "start_time": "2023-04-18T06:23:23.192Z"
   },
   {
    "duration": 8,
    "start_time": "2023-04-18T06:23:23.201Z"
   },
   {
    "duration": 46,
    "start_time": "2023-04-18T06:23:23.210Z"
   },
   {
    "duration": 170,
    "start_time": "2023-04-18T06:23:23.258Z"
   },
   {
    "duration": 12,
    "start_time": "2023-04-18T06:23:23.432Z"
   },
   {
    "duration": 41,
    "start_time": "2023-04-18T06:23:23.446Z"
   },
   {
    "duration": 457,
    "start_time": "2023-04-18T06:23:23.490Z"
   },
   {
    "duration": 5,
    "start_time": "2023-04-18T06:23:27.781Z"
   },
   {
    "duration": 5,
    "start_time": "2023-04-18T06:24:28.514Z"
   },
   {
    "duration": 69,
    "start_time": "2023-04-18T06:24:42.574Z"
   },
   {
    "duration": 153,
    "start_time": "2023-04-18T06:25:20.671Z"
   },
   {
    "duration": 349,
    "start_time": "2023-04-18T06:31:23.772Z"
   },
   {
    "duration": 174,
    "start_time": "2023-04-18T06:35:20.703Z"
   },
   {
    "duration": 5,
    "start_time": "2023-04-18T06:40:23.766Z"
   },
   {
    "duration": 188,
    "start_time": "2023-04-18T06:40:35.078Z"
   },
   {
    "duration": 197,
    "start_time": "2023-04-18T06:41:01.169Z"
   },
   {
    "duration": 186,
    "start_time": "2023-04-18T06:43:27.504Z"
   },
   {
    "duration": 56,
    "start_time": "2023-04-18T06:43:58.718Z"
   },
   {
    "duration": 297,
    "start_time": "2023-04-18T06:44:04.713Z"
   },
   {
    "duration": 188,
    "start_time": "2023-04-18T06:44:15.043Z"
   },
   {
    "duration": 188,
    "start_time": "2023-04-18T06:44:25.146Z"
   },
   {
    "duration": 176,
    "start_time": "2023-04-18T06:49:32.765Z"
   },
   {
    "duration": 174,
    "start_time": "2023-04-18T06:49:49.757Z"
   },
   {
    "duration": 205,
    "start_time": "2023-04-18T06:50:43.262Z"
   },
   {
    "duration": 169,
    "start_time": "2023-04-18T06:52:19.182Z"
   },
   {
    "duration": 59,
    "start_time": "2023-04-18T07:06:01.817Z"
   },
   {
    "duration": 52,
    "start_time": "2023-04-18T07:06:10.231Z"
   },
   {
    "duration": 2981,
    "start_time": "2023-04-18T07:15:32.945Z"
   },
   {
    "duration": 73,
    "start_time": "2023-04-18T07:15:42.656Z"
   },
   {
    "duration": 14,
    "start_time": "2023-04-18T07:15:45.484Z"
   },
   {
    "duration": 4,
    "start_time": "2023-04-18T07:15:48.144Z"
   },
   {
    "duration": 9,
    "start_time": "2023-04-18T07:15:50.161Z"
   },
   {
    "duration": 5,
    "start_time": "2023-04-18T07:15:52.809Z"
   },
   {
    "duration": 7,
    "start_time": "2023-04-18T07:15:54.912Z"
   },
   {
    "duration": 6,
    "start_time": "2023-04-18T07:15:56.674Z"
   },
   {
    "duration": 17,
    "start_time": "2023-04-18T07:15:58.416Z"
   },
   {
    "duration": 842,
    "start_time": "2023-04-18T07:16:31.242Z"
   },
   {
    "duration": 724,
    "start_time": "2023-04-18T07:16:38.254Z"
   },
   {
    "duration": 1063,
    "start_time": "2023-04-18T07:17:04.273Z"
   },
   {
    "duration": 556,
    "start_time": "2023-04-18T07:17:18.818Z"
   },
   {
    "duration": 2172,
    "start_time": "2023-04-18T07:19:58.075Z"
   },
   {
    "duration": 75,
    "start_time": "2023-04-18T07:20:00.250Z"
   },
   {
    "duration": 17,
    "start_time": "2023-04-18T07:20:00.328Z"
   },
   {
    "duration": 21,
    "start_time": "2023-04-18T07:20:00.348Z"
   },
   {
    "duration": 35,
    "start_time": "2023-04-18T07:20:00.371Z"
   },
   {
    "duration": 981,
    "start_time": "2023-04-18T07:20:00.407Z"
   },
   {
    "duration": 1046,
    "start_time": "2023-04-18T07:20:01.389Z"
   },
   {
    "duration": 19,
    "start_time": "2023-04-18T07:20:02.437Z"
   },
   {
    "duration": 38,
    "start_time": "2023-04-18T07:20:02.457Z"
   },
   {
    "duration": 18,
    "start_time": "2023-04-18T07:20:02.497Z"
   },
   {
    "duration": 32,
    "start_time": "2023-04-18T07:20:02.516Z"
   },
   {
    "duration": 154,
    "start_time": "2023-04-18T07:20:02.550Z"
   },
   {
    "duration": 10,
    "start_time": "2023-04-18T07:20:02.707Z"
   },
   {
    "duration": 41,
    "start_time": "2023-04-18T07:20:02.719Z"
   },
   {
    "duration": 456,
    "start_time": "2023-04-18T07:20:02.763Z"
   },
   {
    "duration": 6,
    "start_time": "2023-04-18T07:20:03.221Z"
   },
   {
    "duration": 108,
    "start_time": "2023-04-18T07:20:03.229Z"
   },
   {
    "duration": 173,
    "start_time": "2023-04-18T07:20:03.338Z"
   },
   {
    "duration": 6,
    "start_time": "2023-04-18T07:20:03.513Z"
   },
   {
    "duration": 210,
    "start_time": "2023-04-18T07:20:03.520Z"
   },
   {
    "duration": 218,
    "start_time": "2023-04-18T07:20:03.732Z"
   },
   {
    "duration": 9,
    "start_time": "2023-04-18T07:20:03.959Z"
   },
   {
    "duration": 826,
    "start_time": "2023-04-18T07:20:03.970Z"
   },
   {
    "duration": 11,
    "start_time": "2023-04-18T07:20:04.798Z"
   },
   {
    "duration": 684,
    "start_time": "2023-04-18T07:20:04.810Z"
   },
   {
    "duration": 10,
    "start_time": "2023-04-18T07:20:05.496Z"
   },
   {
    "duration": 660,
    "start_time": "2023-04-18T07:20:05.508Z"
   },
   {
    "duration": 8,
    "start_time": "2023-04-18T07:20:06.172Z"
   },
   {
    "duration": 230,
    "start_time": "2023-04-18T07:20:06.182Z"
   },
   {
    "duration": 338,
    "start_time": "2023-04-18T07:20:06.414Z"
   },
   {
    "duration": 3,
    "start_time": "2023-04-18T07:20:06.756Z"
   },
   {
    "duration": 22,
    "start_time": "2023-04-18T07:20:06.761Z"
   },
   {
    "duration": 28,
    "start_time": "2023-04-18T07:20:06.784Z"
   },
   {
    "duration": 336,
    "start_time": "2023-04-18T07:20:06.814Z"
   },
   {
    "duration": 13,
    "start_time": "2023-04-18T07:20:07.156Z"
   },
   {
    "duration": 325,
    "start_time": "2023-04-18T07:20:07.171Z"
   },
   {
    "duration": 10,
    "start_time": "2023-04-18T07:20:07.498Z"
   },
   {
    "duration": 317,
    "start_time": "2023-04-18T07:20:07.510Z"
   },
   {
    "duration": 9,
    "start_time": "2023-04-18T07:20:07.828Z"
   },
   {
    "duration": 20,
    "start_time": "2023-04-18T07:20:07.839Z"
   },
   {
    "duration": 20,
    "start_time": "2023-04-18T07:20:07.860Z"
   },
   {
    "duration": 11,
    "start_time": "2023-04-18T07:20:07.882Z"
   },
   {
    "duration": 56,
    "start_time": "2023-04-18T21:23:20.457Z"
   }
  ],
  "kernelspec": {
   "display_name": "Python 3 (ipykernel)",
   "language": "python",
   "name": "python3"
  },
  "language_info": {
   "codemirror_mode": {
    "name": "ipython",
    "version": 3
   },
   "file_extension": ".py",
   "mimetype": "text/x-python",
   "name": "python",
   "nbconvert_exporter": "python",
   "pygments_lexer": "ipython3",
   "version": "3.9.12"
  },
  "toc": {
   "base_numbering": 1,
   "nav_menu": {},
   "number_sections": true,
   "sideBar": true,
   "skip_h1_title": true,
   "title_cell": "Table of Contents",
   "title_sidebar": "Contents",
   "toc_cell": false,
   "toc_position": {},
   "toc_section_display": true,
   "toc_window_display": true
  }
 },
 "nbformat": 4,
 "nbformat_minor": 2
}
