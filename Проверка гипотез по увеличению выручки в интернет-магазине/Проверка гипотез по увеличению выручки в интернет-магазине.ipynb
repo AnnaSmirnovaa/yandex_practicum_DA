{
 "cells": [
  {
   "cell_type": "markdown",
   "metadata": {},
   "source": [
    "# Анализ результатов А/В-теста"
   ]
  },
  {
   "cell_type": "markdown",
   "metadata": {},
   "source": [
    "Совместно  с отделом маркетинга был подготовлен список гипотез для увеличения выручки крупного интернет-магазина.\n",
    "\n",
    "\n",
    "В ходе исследования мы:\n",
    "- приоритизируем гипотезы\n",
    "- запустим A/B-тест\n",
    "- проанализируем результаты\n",
    "\n",
    "\n",
    "Описание данных:\n",
    "\n",
    "\n",
    "\n",
    "Файл **hypothesis.csv.**\n",
    "- *Hypothesis* — краткое описание гипотезы;\n",
    "- *Reach* — охват пользователей по 10-балльной шкале;\n",
    "- *Impact* — влияние на пользователей по 10-балльной шкале;\n",
    "- *Confidence* — уверенность в гипотезе по 10-балльной шкале;\n",
    "- *Efforts* — затраты ресурсов на проверку гипотезы по 10-балльной шкале. Чем больше значение Efforts, тем дороже проверка гипотезы.\n",
    "\n",
    "\n",
    "Файл **orders.csv.**\n",
    "- *transactionId* — идентификатор заказа;\n",
    "- *visitorId* — идентификатор пользователя, совершившего заказ;\n",
    "- *date* — дата, когда был совершён заказ;\n",
    "- *revenue* — выручка заказа;\n",
    "- *group* — группа A/B-теста, в которую попал заказ.\n",
    "\n",
    "\n",
    "Файл **visitors.csv.** \n",
    "- *date* — дата;\n",
    "- *group* — группа A/B-теста;\n",
    "- *visitors* — количество пользователей в указанную дату в указанной группе A/B-теста"
   ]
  },
  {
   "cell_type": "markdown",
   "metadata": {},
   "source": [
    "### Импорт библиотек."
   ]
  },
  {
   "cell_type": "markdown",
   "metadata": {},
   "source": [
    "#### Импортируем библиотеки. Считаем данные из csv-файлов в датафреймы и сохраним в переменные"
   ]
  },
  {
   "cell_type": "code",
   "execution_count": 1,
   "metadata": {},
   "outputs": [],
   "source": [
    "import pandas as pd\n",
    "import matplotlib.pyplot as plt\n",
    "import datetime as dt\n",
    "import numpy as np\n",
    "import scipy.stats as stats\n",
    "\n",
    "pd.set_option('display.max_colwidth', 0)"
   ]
  },
  {
   "cell_type": "code",
   "execution_count": 2,
   "metadata": {},
   "outputs": [],
   "source": [
    "data = pd.read_csv('hypothesis.csv')\n",
    "orders = pd.read_csv('orders.csv')\n",
    "visitors = pd.read_csv('visitors.csv')"
   ]
  },
  {
   "cell_type": "markdown",
   "metadata": {},
   "source": [
    "### Предобработка данных."
   ]
  },
  {
   "cell_type": "markdown",
   "metadata": {},
   "source": [
    "#### Выведем общую информацию о таблицах и их типах данных. Проверим на наличие дубликатов."
   ]
  },
  {
   "cell_type": "code",
   "execution_count": 3,
   "metadata": {},
   "outputs": [
    {
     "name": "stdout",
     "output_type": "stream",
     "text": [
      "<class 'pandas.core.frame.DataFrame'>\n",
      "RangeIndex: 9 entries, 0 to 8\n",
      "Data columns (total 5 columns):\n",
      " #   Column      Non-Null Count  Dtype \n",
      "---  ------      --------------  ----- \n",
      " 0   Hypothesis  9 non-null      object\n",
      " 1   Reach       9 non-null      int64 \n",
      " 2   Impact      9 non-null      int64 \n",
      " 3   Confidence  9 non-null      int64 \n",
      " 4   Efforts     9 non-null      int64 \n",
      "dtypes: int64(4), object(1)\n",
      "memory usage: 488.0+ bytes\n",
      "Количество явных дубликатов 0\n"
     ]
    }
   ],
   "source": [
    "data.info()\n",
    "print('Количество явных дубликатов', data.duplicated().sum())"
   ]
  },
  {
   "cell_type": "code",
   "execution_count": 4,
   "metadata": {},
   "outputs": [
    {
     "name": "stdout",
     "output_type": "stream",
     "text": [
      "<class 'pandas.core.frame.DataFrame'>\n",
      "RangeIndex: 62 entries, 0 to 61\n",
      "Data columns (total 3 columns):\n",
      " #   Column    Non-Null Count  Dtype \n",
      "---  ------    --------------  ----- \n",
      " 0   date      62 non-null     object\n",
      " 1   group     62 non-null     object\n",
      " 2   visitors  62 non-null     int64 \n",
      "dtypes: int64(1), object(2)\n",
      "memory usage: 1.6+ KB\n",
      "Количество явных дубликатов 0\n"
     ]
    }
   ],
   "source": [
    "visitors.info()\n",
    "print('Количество явных дубликатов', visitors.duplicated().sum())"
   ]
  },
  {
   "cell_type": "code",
   "execution_count": 5,
   "metadata": {},
   "outputs": [
    {
     "name": "stdout",
     "output_type": "stream",
     "text": [
      "<class 'pandas.core.frame.DataFrame'>\n",
      "RangeIndex: 1197 entries, 0 to 1196\n",
      "Data columns (total 5 columns):\n",
      " #   Column         Non-Null Count  Dtype \n",
      "---  ------         --------------  ----- \n",
      " 0   transactionId  1197 non-null   int64 \n",
      " 1   visitorId      1197 non-null   int64 \n",
      " 2   date           1197 non-null   object\n",
      " 3   revenue        1197 non-null   int64 \n",
      " 4   group          1197 non-null   object\n",
      "dtypes: int64(3), object(2)\n",
      "memory usage: 46.9+ KB\n",
      "Количество явных дубликатов 0\n"
     ]
    }
   ],
   "source": [
    "orders.info()\n",
    "print('Количество явных дубликатов', orders.duplicated().sum())"
   ]
  },
  {
   "cell_type": "markdown",
   "metadata": {},
   "source": [
    "#### Изменение типов данных.\n",
    "\n",
    "Приведем даты в столбцах *date* таблиц **visitors и orders** к типу datetime64."
   ]
  },
  {
   "cell_type": "code",
   "execution_count": 6,
   "metadata": {},
   "outputs": [],
   "source": [
    "visitors['date'] = visitors['date'].map(\n",
    "    lambda x: dt.datetime.strptime(x, '%Y-%m-%d')\n",
    ")"
   ]
  },
  {
   "cell_type": "code",
   "execution_count": 7,
   "metadata": {},
   "outputs": [],
   "source": [
    "orders['date'] = orders['date'].map(\n",
    "    lambda x: dt.datetime.strptime(x, '%Y-%m-%d')\n",
    ")"
   ]
  },
  {
   "cell_type": "markdown",
   "metadata": {},
   "source": [
    "#### Переименование столбцов.\n",
    "Переименуем столбцы таблицы **visitors**, приведем их к змеинному регистру."
   ]
  },
  {
   "cell_type": "code",
   "execution_count": 8,
   "metadata": {},
   "outputs": [],
   "source": [
    "orders=orders.rename(columns={'transactionId':'transaction_id','visitorId':'visitor_id'})"
   ]
  },
  {
   "cell_type": "code",
   "execution_count": 9,
   "metadata": {},
   "outputs": [
    {
     "name": "stdout",
     "output_type": "stream",
     "text": [
      "<class 'pandas.core.frame.DataFrame'>\n",
      "RangeIndex: 1197 entries, 0 to 1196\n",
      "Data columns (total 5 columns):\n",
      " #   Column          Non-Null Count  Dtype         \n",
      "---  ------          --------------  -----         \n",
      " 0   transaction_id  1197 non-null   int64         \n",
      " 1   visitor_id      1197 non-null   int64         \n",
      " 2   date            1197 non-null   datetime64[ns]\n",
      " 3   revenue         1197 non-null   int64         \n",
      " 4   group           1197 non-null   object        \n",
      "dtypes: datetime64[ns](1), int64(3), object(1)\n",
      "memory usage: 46.9+ KB\n"
     ]
    }
   ],
   "source": [
    "orders.info()"
   ]
  },
  {
   "cell_type": "markdown",
   "metadata": {},
   "source": [
    "В процессе предобработки данных не выявлено пропусков и явных дубликатов. Столбцы с данными о датах приведены к нужному типу для дальнейшего анализа. Названия столбцов приведены к змеинному регистру."
   ]
  },
  {
   "cell_type": "markdown",
   "metadata": {},
   "source": [
    "### Приоритезация гипотез."
   ]
  },
  {
   "cell_type": "markdown",
   "metadata": {},
   "source": [
    "#### Применим фреймворк ICE."
   ]
  },
  {
   "cell_type": "code",
   "execution_count": 10,
   "metadata": {},
   "outputs": [
    {
     "data": {
      "text/html": [
       "<div>\n",
       "<style scoped>\n",
       "    .dataframe tbody tr th:only-of-type {\n",
       "        vertical-align: middle;\n",
       "    }\n",
       "\n",
       "    .dataframe tbody tr th {\n",
       "        vertical-align: top;\n",
       "    }\n",
       "\n",
       "    .dataframe thead th {\n",
       "        text-align: right;\n",
       "    }\n",
       "</style>\n",
       "<table border=\"1\" class=\"dataframe\">\n",
       "  <thead>\n",
       "    <tr style=\"text-align: right;\">\n",
       "      <th></th>\n",
       "      <th>Hypothesis</th>\n",
       "      <th>ICE</th>\n",
       "    </tr>\n",
       "  </thead>\n",
       "  <tbody>\n",
       "    <tr>\n",
       "      <th>8</th>\n",
       "      <td>Запустить акцию, дающую скидку на товар в день рождения</td>\n",
       "      <td>16.2</td>\n",
       "    </tr>\n",
       "    <tr>\n",
       "      <th>0</th>\n",
       "      <td>Добавить два новых канала привлечения трафика, что позволит привлекать на 30% больше пользователей</td>\n",
       "      <td>13.3</td>\n",
       "    </tr>\n",
       "    <tr>\n",
       "      <th>7</th>\n",
       "      <td>Добавить форму подписки на все основные страницы, чтобы собрать базу клиентов для email-рассылок</td>\n",
       "      <td>11.2</td>\n",
       "    </tr>\n",
       "    <tr>\n",
       "      <th>6</th>\n",
       "      <td>Показать на главной странице баннеры с актуальными акциями и распродажами, чтобы увеличить конверсию</td>\n",
       "      <td>8.0</td>\n",
       "    </tr>\n",
       "    <tr>\n",
       "      <th>2</th>\n",
       "      <td>Добавить блоки рекомендаций товаров на сайт интернет магазина, чтобы повысить конверсию и средний чек заказа</td>\n",
       "      <td>7.0</td>\n",
       "    </tr>\n",
       "    <tr>\n",
       "      <th>1</th>\n",
       "      <td>Запустить собственную службу доставки, что сократит срок доставки заказов</td>\n",
       "      <td>2.0</td>\n",
       "    </tr>\n",
       "    <tr>\n",
       "      <th>5</th>\n",
       "      <td>Добавить страницу отзывов клиентов о магазине, что позволит увеличить количество заказов</td>\n",
       "      <td>1.3</td>\n",
       "    </tr>\n",
       "    <tr>\n",
       "      <th>3</th>\n",
       "      <td>Изменить структура категорий, что увеличит конверсию, т.к. пользователи быстрее найдут нужный товар</td>\n",
       "      <td>1.1</td>\n",
       "    </tr>\n",
       "    <tr>\n",
       "      <th>4</th>\n",
       "      <td>Изменить цвет фона главной страницы, чтобы увеличить вовлеченность пользователей</td>\n",
       "      <td>1.0</td>\n",
       "    </tr>\n",
       "  </tbody>\n",
       "</table>\n",
       "</div>"
      ],
      "text/plain": [
       "                                                                                                     Hypothesis  \\\n",
       "8  Запустить акцию, дающую скидку на товар в день рождения                                                        \n",
       "0  Добавить два новых канала привлечения трафика, что позволит привлекать на 30% больше пользователей             \n",
       "7  Добавить форму подписки на все основные страницы, чтобы собрать базу клиентов для email-рассылок               \n",
       "6  Показать на главной странице баннеры с актуальными акциями и распродажами, чтобы увеличить конверсию           \n",
       "2  Добавить блоки рекомендаций товаров на сайт интернет магазина, чтобы повысить конверсию и средний чек заказа   \n",
       "1  Запустить собственную службу доставки, что сократит срок доставки заказов                                      \n",
       "5  Добавить страницу отзывов клиентов о магазине, что позволит увеличить количество заказов                       \n",
       "3  Изменить структура категорий, что увеличит конверсию, т.к. пользователи быстрее найдут нужный товар            \n",
       "4  Изменить цвет фона главной страницы, чтобы увеличить вовлеченность пользователей                               \n",
       "\n",
       "    ICE  \n",
       "8  16.2  \n",
       "0  13.3  \n",
       "7  11.2  \n",
       "6  8.0   \n",
       "2  7.0   \n",
       "1  2.0   \n",
       "5  1.3   \n",
       "3  1.1   \n",
       "4  1.0   "
      ]
     },
     "execution_count": 10,
     "metadata": {},
     "output_type": "execute_result"
    }
   ],
   "source": [
    "data['ICE'] = (data['Impact'] * data['Confidence'] / data['Efforts']).round(1)\n",
    "\n",
    "data[['Hypothesis', 'ICE']].sort_values('ICE', ascending = False)"
   ]
  },
  {
   "cell_type": "markdown",
   "metadata": {},
   "source": [
    "#### Применим фреймворк RICE."
   ]
  },
  {
   "cell_type": "code",
   "execution_count": 11,
   "metadata": {},
   "outputs": [
    {
     "data": {
      "text/html": [
       "<div>\n",
       "<style scoped>\n",
       "    .dataframe tbody tr th:only-of-type {\n",
       "        vertical-align: middle;\n",
       "    }\n",
       "\n",
       "    .dataframe tbody tr th {\n",
       "        vertical-align: top;\n",
       "    }\n",
       "\n",
       "    .dataframe thead th {\n",
       "        text-align: right;\n",
       "    }\n",
       "</style>\n",
       "<table border=\"1\" class=\"dataframe\">\n",
       "  <thead>\n",
       "    <tr style=\"text-align: right;\">\n",
       "      <th></th>\n",
       "      <th>Hypothesis</th>\n",
       "      <th>RICE</th>\n",
       "      <th>ICE</th>\n",
       "    </tr>\n",
       "  </thead>\n",
       "  <tbody>\n",
       "    <tr>\n",
       "      <th>7</th>\n",
       "      <td>Добавить форму подписки на все основные страницы, чтобы собрать базу клиентов для email-рассылок</td>\n",
       "      <td>112.0</td>\n",
       "      <td>11.2</td>\n",
       "    </tr>\n",
       "    <tr>\n",
       "      <th>2</th>\n",
       "      <td>Добавить блоки рекомендаций товаров на сайт интернет магазина, чтобы повысить конверсию и средний чек заказа</td>\n",
       "      <td>56.0</td>\n",
       "      <td>7.0</td>\n",
       "    </tr>\n",
       "    <tr>\n",
       "      <th>0</th>\n",
       "      <td>Добавить два новых канала привлечения трафика, что позволит привлекать на 30% больше пользователей</td>\n",
       "      <td>40.0</td>\n",
       "      <td>13.3</td>\n",
       "    </tr>\n",
       "    <tr>\n",
       "      <th>6</th>\n",
       "      <td>Показать на главной странице баннеры с актуальными акциями и распродажами, чтобы увеличить конверсию</td>\n",
       "      <td>40.0</td>\n",
       "      <td>8.0</td>\n",
       "    </tr>\n",
       "    <tr>\n",
       "      <th>8</th>\n",
       "      <td>Запустить акцию, дающую скидку на товар в день рождения</td>\n",
       "      <td>16.2</td>\n",
       "      <td>16.2</td>\n",
       "    </tr>\n",
       "    <tr>\n",
       "      <th>3</th>\n",
       "      <td>Изменить структура категорий, что увеличит конверсию, т.к. пользователи быстрее найдут нужный товар</td>\n",
       "      <td>9.0</td>\n",
       "      <td>1.1</td>\n",
       "    </tr>\n",
       "    <tr>\n",
       "      <th>1</th>\n",
       "      <td>Запустить собственную службу доставки, что сократит срок доставки заказов</td>\n",
       "      <td>4.0</td>\n",
       "      <td>2.0</td>\n",
       "    </tr>\n",
       "    <tr>\n",
       "      <th>5</th>\n",
       "      <td>Добавить страницу отзывов клиентов о магазине, что позволит увеличить количество заказов</td>\n",
       "      <td>4.0</td>\n",
       "      <td>1.3</td>\n",
       "    </tr>\n",
       "    <tr>\n",
       "      <th>4</th>\n",
       "      <td>Изменить цвет фона главной страницы, чтобы увеличить вовлеченность пользователей</td>\n",
       "      <td>3.0</td>\n",
       "      <td>1.0</td>\n",
       "    </tr>\n",
       "  </tbody>\n",
       "</table>\n",
       "</div>"
      ],
      "text/plain": [
       "                                                                                                     Hypothesis  \\\n",
       "7  Добавить форму подписки на все основные страницы, чтобы собрать базу клиентов для email-рассылок               \n",
       "2  Добавить блоки рекомендаций товаров на сайт интернет магазина, чтобы повысить конверсию и средний чек заказа   \n",
       "0  Добавить два новых канала привлечения трафика, что позволит привлекать на 30% больше пользователей             \n",
       "6  Показать на главной странице баннеры с актуальными акциями и распродажами, чтобы увеличить конверсию           \n",
       "8  Запустить акцию, дающую скидку на товар в день рождения                                                        \n",
       "3  Изменить структура категорий, что увеличит конверсию, т.к. пользователи быстрее найдут нужный товар            \n",
       "1  Запустить собственную службу доставки, что сократит срок доставки заказов                                      \n",
       "5  Добавить страницу отзывов клиентов о магазине, что позволит увеличить количество заказов                       \n",
       "4  Изменить цвет фона главной страницы, чтобы увеличить вовлеченность пользователей                               \n",
       "\n",
       "    RICE   ICE  \n",
       "7  112.0  11.2  \n",
       "2  56.0   7.0   \n",
       "0  40.0   13.3  \n",
       "6  40.0   8.0   \n",
       "8  16.2   16.2  \n",
       "3  9.0    1.1   \n",
       "1  4.0    2.0   \n",
       "5  4.0    1.3   \n",
       "4  3.0    1.0   "
      ]
     },
     "execution_count": 11,
     "metadata": {},
     "output_type": "execute_result"
    }
   ],
   "source": [
    "data['RICE'] = data['Reach'] * data['Impact'] * data['Confidence'] / data['Efforts']\n",
    "data[['Hypothesis', 'RICE', 'ICE']].sort_values('RICE', ascending=False)"
   ]
  },
  {
   "cell_type": "markdown",
   "metadata": {},
   "source": [
    "В пятерку приоритетных по ICE и RICE входят такие гипотезы как: \n",
    "1. Запустить акцию, дающую скидку на товар в день рождения\n",
    "2. Добавить форму подписки на все основные страницы, чтобы собрать базу клиентов для email-рассылок\n",
    "3. Добавить два новых канала привлечения трафика, что позволит привлекать на 30% больше пользователей\n",
    "4. Добавить блоки рекомендаций товаров на сайт интернет магазина, чтобы повысить конверсию и средний чек заказа\n",
    "5. Показать на главной странице баннеры с актуальными акциями и распродажами, чтобы увеличить конверсию\n",
    "\n",
    "При использовании метода ICE гипотеза о запуске акции в День Рождения имеет максимальную оценку, но при приоритезации с использованием метода RICE данная гипотеза опустилась на пятое место. Это связано с показателем Reach, охват пользователей, которых затронет данное изменение минимальный."
   ]
  },
  {
   "cell_type": "markdown",
   "metadata": {},
   "source": [
    "### Анализ А/В-теста."
   ]
  },
  {
   "cell_type": "markdown",
   "metadata": {},
   "source": [
    "#### Общий анализ данных."
   ]
  },
  {
   "cell_type": "code",
   "execution_count": 12,
   "metadata": {},
   "outputs": [
    {
     "name": "stdout",
     "output_type": "stream",
     "text": [
      "Количество уникальных пользователей совершивших заказ: 1031\n",
      "Количество посетителей за период проведения теста: 37652\n",
      "Кoличество заказов за период проведение теста: 1197\n"
     ]
    }
   ],
   "source": [
    "print('Количество уникальных пользователей совершивших заказ:', orders['visitor_id'].nunique())\n",
    "print('Количество посетителей за период проведения теста:', visitors['visitors'].sum())\n",
    "print('Кoличество заказов за период проведение теста:', orders['transaction_id'].count())"
   ]
  },
  {
   "cell_type": "code",
   "execution_count": 13,
   "metadata": {},
   "outputs": [
    {
     "data": {
      "text/plain": [
       "group\n",
       "A    557\n",
       "B    640\n",
       "Name: transaction_id, dtype: int64"
      ]
     },
     "execution_count": 13,
     "metadata": {},
     "output_type": "execute_result"
    }
   ],
   "source": [
    "#Количество заказов в каждой группе\n",
    "orders.groupby('group')['transaction_id'].count()"
   ]
  },
  {
   "cell_type": "code",
   "execution_count": 14,
   "metadata": {},
   "outputs": [
    {
     "data": {
      "text/plain": [
       "group\n",
       "A    18736\n",
       "B    18916\n",
       "Name: visitors, dtype: int64"
      ]
     },
     "execution_count": 14,
     "metadata": {},
     "output_type": "execute_result"
    }
   ],
   "source": [
    "#Количество посетителей в каждой группе\n",
    "visitors.groupby('group')['visitors'].sum()"
   ]
  },
  {
   "cell_type": "markdown",
   "metadata": {},
   "source": [
    "В имеющихся у нас таблицах пердставлены данные о 1197 заказах от 1031 уникального пользователя. Посетителей во время проведение теста было 37652 человек из них 18736 в группе А и 18916 в группе В. Таким образов количество посетителей в группах практически одинаково. Число заказов в группе А значительно меньше чем в группе В и равно 557 и 640 соответственно."
   ]
  },
  {
   "cell_type": "code",
   "execution_count": 15,
   "metadata": {},
   "outputs": [
    {
     "name": "stdout",
     "output_type": "stream",
     "text": [
      "Количество пользователей, заказы который попали в обе группы: 58\n",
      "Количество таких заказов в группе А: 89.0\n",
      "Количество таких заказов в группе B: 92.0\n"
     ]
    }
   ],
   "source": [
    "#сформируем сводную таблицу по каждому пользователю с количеством заказов в каждой группе\n",
    "data_pivot = orders.pivot_table(index = 'visitor_id', columns = 'group', values = 'transaction_id', aggfunc = 'count')\n",
    "data_pivot = data_pivot.reset_index()\n",
    "#переименуем столбцы id пользователя, кол-во заказов в группе A и в группе B\n",
    "data_pivot.columns=['visitor_id', 'A', 'B']\n",
    "#удалим пользователей, заказы которых попали тоолько в одну группу\n",
    "data_pivot = data_pivot.dropna()\n",
    "# выведем кол-во пользователей, заказы которых попали в обе группы\n",
    "print('Количество пользователей, заказы который попали в обе группы:', len(data_pivot['visitor_id']))\n",
    "\n",
    "#выведем кол-во заказов таких пользователей в группе А\n",
    "print('Количество таких заказов в группе А:', data_pivot['A'].sum())\n",
    "#выведем кол-во заказов таких пользователей в группе В\n",
    "print('Количество таких заказов в группе B:', data_pivot['B'].sum())\n"
   ]
  },
  {
   "cell_type": "markdown",
   "metadata": {},
   "source": [
    "В данных встречается 58 пользователей(почти 6%), чьи заказы попали в обе группы теста. В общей сложности таких заказов было 181, по сегментам они поделены практически поровну, в группу А попало 89 заказов таких пользователей, а в группу В 92 заказа. Удаление таких пользователей из данных невозможно, так как у нас нет данных об уникальных посещениях этих пользователей (в таблице visitors нет id посетителей)."
   ]
  },
  {
   "cell_type": "markdown",
   "metadata": {},
   "source": [
    "#### Подготовка данных для анализа."
   ]
  },
  {
   "cell_type": "markdown",
   "metadata": {},
   "source": [
    " Создадим датафрейм **datesGroups** с уникальными парами значений 'date' и 'group', таблицы orders. Избавимся от дубликатов методом drop_duplicates()."
   ]
  },
  {
   "cell_type": "code",
   "execution_count": 16,
   "metadata": {},
   "outputs": [],
   "source": [
    "# создаем массив уникальных пар значений дат и групп теста\n",
    "datesGroups = orders[['date','group']].drop_duplicates()"
   ]
  },
  {
   "cell_type": "markdown",
   "metadata": {},
   "source": [
    "Объявим переменную **ordersAggregated**, содержащую:\n",
    "\n",
    "- дату;\n",
    "- группу A/B-теста;\n",
    "- число уникальных заказов в группе теста по указанную дату включительно;\n",
    "- число уникальных пользователей, совершивших хотя бы 1 заказ в группе теста по указанную дату включительно;\n",
    "- суммарную выручку заказов в группе теста по указанную дату включительно."
   ]
  },
  {
   "cell_type": "code",
   "execution_count": 17,
   "metadata": {},
   "outputs": [],
   "source": [
    "ordersAggregated = datesGroups.apply(\n",
    "    lambda x: orders[\n",
    "        np.logical_and(\n",
    "            orders['date'] <= x['date'], orders['group'] == x['group']\n",
    "        )\n",
    "    ].agg(\n",
    "        {\n",
    "            'date': 'max',\n",
    "            'group': 'max',\n",
    "            'transaction_id': 'nunique',\n",
    "            'visitor_id': 'nunique',\n",
    "            'revenue': 'sum',\n",
    "        }\n",
    "    ),\n",
    "    axis=1,\n",
    ").sort_values(by=['date', 'group'])"
   ]
  },
  {
   "cell_type": "markdown",
   "metadata": {},
   "source": [
    "Аналогично  объявим переменную **visitorsAggregated**, содержащую:\n",
    "- дату;\n",
    "- группу A/B-теста;\n",
    "- количество уникальных посетителей в группе теста по указанную дату включительно."
   ]
  },
  {
   "cell_type": "code",
   "execution_count": 18,
   "metadata": {},
   "outputs": [],
   "source": [
    "visitorsAggregated = datesGroups.apply(\n",
    "    lambda x: visitors[\n",
    "        np.logical_and(\n",
    "            visitors['date'] <= x['date'], visitors['group'] == x['group']\n",
    "        )\n",
    "    ].agg({'date': 'max', 'group': 'max', 'visitors': 'sum'}),\n",
    "    axis=1,\n",
    ").sort_values(by=['date', 'group'])"
   ]
  },
  {
   "cell_type": "code",
   "execution_count": 19,
   "metadata": {},
   "outputs": [],
   "source": [
    "# объединяем кумулятивные данные в одной таблице и переименуем названия столбцов\n",
    "cumulativeData = ordersAggregated.merge(visitorsAggregated, left_on=['date', 'group'], right_on=['date', 'group'])\n",
    "cumulativeData.columns = ['date', 'group', 'orders', 'buyers', 'revenue', 'visitors']"
   ]
  },
  {
   "cell_type": "markdown",
   "metadata": {},
   "source": [
    "#### График кумулятивной выручки по группам. \n",
    "\n",
    "Объявим переменные **cumulativeRevenueA и cumulativeRevenueB**, в которых сохраните данные о датах, выручке и числе заказов в группах A и B.\n",
    "Построим графики кумулятивной выручки по дням и группам A/B-тестирования: "
   ]
  },
  {
   "cell_type": "code",
   "execution_count": 20,
   "metadata": {},
   "outputs": [
    {
     "data": {
      "image/png": "[encoded data removed]",
      "text/plain": [
       "<Figure size 1080x360 with 1 Axes>"
      ]
     },
     "metadata": {
      "needs_background": "light"
     },
     "output_type": "display_data"
    }
   ],
   "source": [
    "# датафрейм с кумулятивным количеством заказов и кумулятивной выручкой по дням в группе А\n",
    "cumulativeRevenueA = cumulativeData[cumulativeData['group']=='A'][['date','revenue', 'orders']]\n",
    "\n",
    "# датафрейм с кумулятивным количеством заказов и кумулятивной выручкой по дням в группе B\n",
    "cumulativeRevenueB = cumulativeData[cumulativeData['group']=='B'][['date','revenue', 'orders']]\n",
    "\n",
    "# Строим график выручки группы А\n",
    "plt.plot(cumulativeRevenueA['date'], cumulativeRevenueA['revenue'], label='A')\n",
    "\n",
    "# Строим график выручки группы B\n",
    "plt.plot(cumulativeRevenueB['date'], cumulativeRevenueB['revenue'], label='B')\n",
    "plt.title('График кумулятивной выручки по группам')\n",
    "plt.xlabel('Дата')\n",
    "plt.ylabel('Сумма выручки')\n",
    "plt.gcf().set_size_inches(15, 5)\n",
    "plt.legend();\n"
   ]
  },
  {
   "cell_type": "markdown",
   "metadata": {},
   "source": [
    "Выручка сегмента А равномерно растет на протяжении всего теста. После 17.08.2019 выручка группы В резко увеличилась и продолжала расти до конца теста. Возможно аномально дорогие заказы повлияли на такой скачок выручки в середине теста."
   ]
  },
  {
   "cell_type": "markdown",
   "metadata": {},
   "source": [
    "#### График кумулятивного среднего чека по группам."
   ]
  },
  {
   "cell_type": "code",
   "execution_count": 21,
   "metadata": {},
   "outputs": [
    {
     "data": {
      "image/png": "[encoded data removed]",
      "text/plain": [
       "<Figure size 1080x360 with 1 Axes>"
      ]
     },
     "metadata": {
      "needs_background": "light"
     },
     "output_type": "display_data"
    }
   ],
   "source": [
    "#разделим кумулятивную выручку на кумулятивное число заказов\n",
    "plt.plot(cumulativeRevenueA['date'], cumulativeRevenueA['revenue']/cumulativeRevenueA['orders'], label='A')\n",
    "plt.plot(cumulativeRevenueB['date'], cumulativeRevenueB['revenue']/cumulativeRevenueB['orders'], label='B')\n",
    "plt.gcf().set_size_inches(15, 5)\n",
    "plt.title('График кумулятивного среднего чека по группам')\n",
    "plt.xlabel('Дата')\n",
    "plt.ylabel('Значение среднего чека')\n",
    "plt.legend();"
   ]
  },
  {
   "cell_type": "markdown",
   "metadata": {},
   "source": [
    "Значение среднего чека неравномерно у обеих групп первую половину теста. После 17.08.2019 показатель стал стабильным для сегмента А, а в группе В наблюдается резкий скачок с дальнейшим падением значения. Возможно в сегмент В попали крупные заказы, тогда ему нужно больше времени прийти к реальному среднему чеку, либо требуется дополнительный анализ на выбросы, которые сильно искажают результаты."
   ]
  },
  {
   "cell_type": "markdown",
   "metadata": {},
   "source": [
    "#### График относительного изменения кумулятивного среднего чека группы B к группе A. "
   ]
  },
  {
   "cell_type": "code",
   "execution_count": 22,
   "metadata": {
    "scrolled": true
   },
   "outputs": [
    {
     "data": {
      "image/png": "[encoded data removed]",
      "text/plain": [
       "<Figure size 1080x360 with 1 Axes>"
      ]
     },
     "metadata": {
      "needs_background": "light"
     },
     "output_type": "display_data"
    }
   ],
   "source": [
    "# собираем данные в одном датафрейме\n",
    "mergedCumulativeRevenue = cumulativeRevenueA.merge(cumulativeRevenueB, left_on='date', right_on='date', how='left', \n",
    "                                                   suffixes=['A', 'B'])\n",
    "\n",
    "# cтроим отношение средних чеков\n",
    "plt.plot(mergedCumulativeRevenue['date'], \n",
    "         (mergedCumulativeRevenue['revenueB']/mergedCumulativeRevenue['ordersB'])/\n",
    "         (mergedCumulativeRevenue['revenueA']/mergedCumulativeRevenue['ordersA'])-1)\n",
    "\n",
    "# добавляем ось X\n",
    "plt.axhline(y=0, color='black', linestyle='--')\n",
    "plt.title('График относительного изменения кумулятивного среднего чека группы B к группе A')\n",
    "plt.xlabel('Дата')\n",
    "plt.ylabel('Показатель прироста')\n",
    "plt.gcf().set_size_inches(15, 5)\n"
   ]
  },
  {
   "cell_type": "markdown",
   "metadata": {},
   "source": [
    "На основании графика можно сделать вывод, что результаты теста значительно и резко менялисть в несколько дат. Видимо в эти дни были совершены аномальные заказы."
   ]
  },
  {
   "cell_type": "markdown",
   "metadata": {},
   "source": [
    "#### График кумулятивного среднего количества заказов на посетителя по группам."
   ]
  },
  {
   "cell_type": "code",
   "execution_count": 23,
   "metadata": {},
   "outputs": [
    {
     "data": {
      "image/png": "[encoded data removed]",
      "text/plain": [
       "<Figure size 1080x360 with 1 Axes>"
      ]
     },
     "metadata": {
      "needs_background": "light"
     },
     "output_type": "display_data"
    }
   ],
   "source": [
    "# считаем кумулятивное среднее количество заказов на посетителя\n",
    "cumulativeData['conversion'] = cumulativeData['orders']/cumulativeData['visitors']\n",
    "\n",
    "# отделяем данные по группе A\n",
    "cumulativeDataA = cumulativeData[cumulativeData['group']=='A']\n",
    "\n",
    "# отделяем данные по группе B\n",
    "cumulativeDataB = cumulativeData[cumulativeData['group']=='B']\n",
    "\n",
    "# строим графики\n",
    "plt.plot(cumulativeDataA['date'], cumulativeDataA['conversion'], label='A')\n",
    "plt.plot(cumulativeDataB['date'], cumulativeDataB['conversion'], label='B')\n",
    "plt.legend()\n",
    "plt.gcf().set_size_inches(15, 5)\n",
    "plt.title(' График кумулятивного среднего количества заказов на посетителя по группам')\n",
    "plt.xlabel('Дата')\n",
    "plt.ylabel('Показатель среднего кол-ва заказов')\n",
    "# задаем масштаб осей\n",
    "plt.axis([dt.datetime(2019, 7, 31), dt.datetime(2019, 9, 2), 0, 0.05]);"
   ]
  },
  {
   "cell_type": "markdown",
   "metadata": {},
   "source": [
    "Значение показателя среднего количества заказов довольно быстро зафиксировалось в обоих сегментах около своего среднего значения. Среднее количество заказов группы В чуть выше чем в А."
   ]
  },
  {
   "cell_type": "markdown",
   "metadata": {},
   "source": [
    "#### График относительного изменения кумулятивного среднего количества заказов на посетителя группы B к группе A."
   ]
  },
  {
   "cell_type": "code",
   "execution_count": 24,
   "metadata": {},
   "outputs": [
    {
     "data": {
      "image/png": "[encoded data removed]",
      "text/plain": [
       "<Figure size 1080x360 with 1 Axes>"
      ]
     },
     "metadata": {
      "needs_background": "light"
     },
     "output_type": "display_data"
    }
   ],
   "source": [
    "mergedCumulativeConversions = cumulativeDataA[['date','conversion']].merge(cumulativeDataB[['date','conversion']], \n",
    "                                                                           left_on='date', right_on='date', how='left', \n",
    "                                                                           suffixes=['A', 'B'])\n",
    "\n",
    "plt.plot(mergedCumulativeConversions['date'], \n",
    "         mergedCumulativeConversions['conversionB']/mergedCumulativeConversions['conversionA']-1,\n",
    "         label=\"Относительный прирост среднего количества заказов на посетителя В относительно группы A\"\n",
    "         )\n",
    "plt.legend()\n",
    "plt.gcf().set_size_inches(15, 5)\n",
    "plt.axhline(y=0, color='black', linestyle='--')\n",
    "plt.axhline(y=0.2, color='grey', linestyle='--')\n",
    "plt.title('График относительного изменения кумулятивного среднего количества заказов на посетителя группы B к группе A')\n",
    "plt.xlabel('Дата')\n",
    "plt.ylabel('Показатель прироста')\n",
    "plt.axis([dt.datetime(2019, 7, 31), dt.datetime(2019, 9, 2), -0.5, 0.5]);"
   ]
  },
  {
   "cell_type": "markdown",
   "metadata": {},
   "source": [
    "Почти с начала теста и до его середины группа В лидировала по среднему количеству заказов на посетителя и наращивала свой показатель. После 17.08.2019 показатель сегмента В слегка просел и зафиксировался в районе 10%."
   ]
  },
  {
   "cell_type": "markdown",
   "metadata": {},
   "source": [
    "#### Точечный график количества заказов по пользователям."
   ]
  },
  {
   "cell_type": "code",
   "execution_count": 25,
   "metadata": {},
   "outputs": [
    {
     "data": {
      "image/png": "[encoded data removed]",
      "text/plain": [
       "<Figure size 432x288 with 1 Axes>"
      ]
     },
     "metadata": {
      "needs_background": "light"
     },
     "output_type": "display_data"
    }
   ],
   "source": [
    "#Найдем число заказов по пользователям\n",
    "ordersByUsers = (\n",
    "    orders.groupby('visitor_id', as_index=False)\n",
    "    .agg({'transaction_id': 'nunique'})\n",
    ")\n",
    "ordersByUsers.columns = ['visitor_id', 'orders']\n",
    "\n",
    "# построим точечную диаграмму числа заказов на пользователя\n",
    "x_values = pd.Series(range(0,len(ordersByUsers)))\n",
    "plt.title('Точечный график количества заказов по пользователям')\n",
    "plt.xlabel('Количество пользователей')\n",
    "plt.ylabel('Количество заказов')\n",
    "plt.scatter(x_values, ordersByUsers['orders']);"
   ]
  },
  {
   "cell_type": "markdown",
   "metadata": {},
   "source": [
    "Большинство покупателей заказывали только один раз. Однако доля пользователей с 2-3 заказами тоже значительна. Есть редкие случаи пользователей с заказами более 5. Возможно их можно считать аномальными."
   ]
  },
  {
   "cell_type": "markdown",
   "metadata": {},
   "source": [
    "#### Посчитаем 95-й и 99-й перцентили количества заказов на пользователя. "
   ]
  },
  {
   "cell_type": "code",
   "execution_count": 26,
   "metadata": {},
   "outputs": [
    {
     "data": {
      "text/plain": [
       "array([2., 4.])"
      ]
     },
     "execution_count": 26,
     "metadata": {},
     "output_type": "execute_result"
    }
   ],
   "source": [
    "np.percentile(ordersByUsers['orders'], [95, 99])"
   ]
  },
  {
   "cell_type": "markdown",
   "metadata": {},
   "source": [
    "Не более 5% пользователей оформляли больше чем 2 заказа. И всего 1% пользователей заказывали более четырех раз. \n",
    "За верхнюю границу числа заказов можно выбрать 2 заказа на одного пользователя."
   ]
  },
  {
   "cell_type": "markdown",
   "metadata": {},
   "source": [
    "#### Точечный график стоимостей заказов. "
   ]
  },
  {
   "cell_type": "code",
   "execution_count": 27,
   "metadata": {
    "scrolled": true
   },
   "outputs": [
    {
     "data": {
      "image/png": "[encoded data removed]",
      "text/plain": [
       "<Figure size 432x288 with 1 Axes>"
      ]
     },
     "metadata": {
      "needs_background": "light"
     },
     "output_type": "display_data"
    }
   ],
   "source": [
    "x_values = pd.Series(range(0, len(orders['revenue'])))\n",
    "plt.title('Точечный график стоимостей заказов')\n",
    "plt.xlabel('Количество пользователей')\n",
    "plt.ylabel('Стоимость заказа')\n",
    "plt.scatter(x_values, orders['revenue']); "
   ]
  },
  {
   "cell_type": "markdown",
   "metadata": {},
   "source": [
    "Большая доля заказов в границе до 60 000. Но на графике видны аномальные редкие значения в 200 000 и 1 300 000. Построим график, исключив выбросы в виде стоимости заказа свыше 200 000 для большей информативности."
   ]
  },
  {
   "cell_type": "code",
   "execution_count": 28,
   "metadata": {},
   "outputs": [
    {
     "data": {
      "image/png": "[encoded data removed]",
      "text/plain": [
       "<Figure size 432x288 with 1 Axes>"
      ]
     },
     "metadata": {
      "needs_background": "light"
     },
     "output_type": "display_data"
    }
   ],
   "source": [
    "orders_new = orders[orders['revenue']<200000]\n",
    "x_values = pd.Series(range(0, len(orders_new['revenue'])))\n",
    "plt.title('Точечный график стоимостей заказов')\n",
    "plt.xlabel('Количество пользователей')\n",
    "plt.ylabel('Стоимость заказа')\n",
    "plt.scatter(x_values, orders_new['revenue']);"
   ]
  },
  {
   "cell_type": "markdown",
   "metadata": {},
   "source": [
    "Большая доля заказов в границе до 20 000, реже встречаются заказы стоимостью от 20 000 до 40 000. Заказы свыше 50 000 встречаются крайне редко."
   ]
  },
  {
   "cell_type": "markdown",
   "metadata": {},
   "source": [
    "#### Посчитаем 95-й и 99-й перцентили стоимости заказов. "
   ]
  },
  {
   "cell_type": "code",
   "execution_count": 29,
   "metadata": {},
   "outputs": [
    {
     "data": {
      "text/plain": [
       "array([28000. , 58233.2])"
      ]
     },
     "execution_count": 29,
     "metadata": {},
     "output_type": "execute_result"
    }
   ],
   "source": [
    "np.percentile(orders['revenue'], [95, 99])"
   ]
  },
  {
   "cell_type": "markdown",
   "metadata": {},
   "source": [
    "Не более 5% заказов дороже 28 000 и не более 1% дороже 58 233,20. За верхнюю границу стоимости заказов стоит выбрать 28 000."
   ]
  },
  {
   "cell_type": "markdown",
   "metadata": {},
   "source": [
    "#### Посчитаем статистическую значимость различий в среднем количестве заказов на посетителя между группами по «сырым» данным."
   ]
  },
  {
   "cell_type": "markdown",
   "metadata": {},
   "source": [
    "Сформулируем гипотезы. \n",
    "1. Нулевая: различий в среднем количестве заказов между группами нет. \n",
    "2. Альтернативная: различия в среднем между группами есть.\n",
    "\n",
    "Уровень статистической значимости установим в размере 0.05.\n",
    "\n",
    "Подготовим данные. Создадим таблицу date с данными о количестве и сумме заказа за день, а так же с накопленным количеством и суммой заказов включая дату."
   ]
  },
  {
   "cell_type": "code",
   "execution_count": 30,
   "metadata": {},
   "outputs": [],
   "source": [
    "#создадим таблицу с данными о дате и количестве посетителей в день по группе А\n",
    "visitorsADaily = visitors[visitors['group'] == 'A'][['date', 'visitors']]\n",
    "visitorsADaily.columns = ['date', 'visitorsPerDateA']\n",
    "#создадим таблицу комулятивного количества пользователей по группе А\n",
    "visitorsACummulative = visitorsADaily.apply(\n",
    "    lambda x: visitorsADaily[visitorsADaily['date'] <= x['date']].agg(\n",
    "        {'date': 'max', 'visitorsPerDateA': 'sum'}\n",
    "    ),\n",
    "    axis=1,\n",
    ")\n",
    "visitorsACummulative.columns = ['date', 'visitorsCummulativeA']\n",
    "\n",
    "\n",
    "#создадим таблицу с данными о дате и количестве посетителей в день по группе В\n",
    "visitorsBDaily = visitors[visitors['group'] == 'B'][['date', 'visitors']]\n",
    "visitorsBDaily.columns = ['date', 'visitorsPerDateB']\n",
    "#создадим таблицу комулятивного количества пользователей по группе А\n",
    "visitorsBCummulative = visitorsBDaily.apply(\n",
    "    lambda x: visitorsBDaily[visitorsBDaily['date'] <= x['date']].agg(\n",
    "        {'date': 'max', 'visitorsPerDateB': 'sum'}\n",
    "    ),\n",
    "    axis=1,\n",
    ")\n",
    "visitorsBCummulative.columns = ['date', 'visitorsCummulativeB']\n",
    "\n",
    "# группируем данные по заказам группы А, количество заказов в день и их выручка\n",
    "ordersADaily = (\n",
    "    orders[orders['group'] == 'A'][['date', 'transaction_id', 'visitor_id', 'revenue']]\n",
    "    .groupby('date', as_index=False)\n",
    "    .agg({'transaction_id': pd.Series.nunique, 'revenue': 'sum'})\n",
    ")\n",
    "ordersADaily.columns = ['date', 'ordersPerDateA', 'revenuePerDateA']\n",
    "#создадим таблицу комулятивного количества заказов и сумм выручки по группе А\n",
    "ordersACummulative = ordersADaily.apply(\n",
    "    lambda x: ordersADaily[ordersADaily['date'] <= x['date']].agg(\n",
    "        {'date': 'max', 'ordersPerDateA': 'sum', 'revenuePerDateA': 'sum'}\n",
    "    ),\n",
    "    axis=1,\n",
    ").sort_values(by=['date'])\n",
    "ordersACummulative.columns = [\n",
    "    'date',\n",
    "    'ordersCummulativeA',\n",
    "    'revenueCummulativeA',\n",
    "]\n",
    "\n",
    "\n",
    "# группируем данные по заказам группы В, количество заказов в день и их выручка\n",
    "ordersBDaily = (\n",
    "    orders[orders['group'] == 'B'][['date', 'transaction_id', 'visitor_id', 'revenue']]\n",
    "    .groupby('date', as_index=False)\n",
    "    .agg({'transaction_id': pd.Series.nunique, 'revenue': 'sum'})\n",
    ")\n",
    "ordersBDaily.columns = ['date', 'ordersPerDateB', 'revenuePerDateB']\n",
    "#создадим таблицу комулятивного количества заказов и сумм выручки по группе В\n",
    "ordersBCummulative = ordersBDaily.apply(\n",
    "    lambda x: ordersBDaily[ordersBDaily['date'] <= x['date']].agg(\n",
    "        {'date': 'max', 'ordersPerDateB': 'sum', 'revenuePerDateB': 'sum'}\n",
    "    ),\n",
    "    axis=1,\n",
    ").sort_values(by=['date'])\n",
    "ordersBCummulative.columns = [\n",
    "    'date',\n",
    "    'ordersCummulativeB',\n",
    "    'revenueCummulativeB',\n",
    "]"
   ]
  },
  {
   "cell_type": "code",
   "execution_count": 31,
   "metadata": {},
   "outputs": [],
   "source": [
    "#Создадим переменные ordersByUsersA и ordersByUsersB со столбцами ['userId', 'orders']. \n",
    "#В них для пользователей, которые заказывали хотя бы 1 раз, укажем число совершённых заказов.\n",
    "ordersByUsersA = (\n",
    "    orders[orders['group'] == 'A']\n",
    "    .groupby('visitor_id', as_index=False)\n",
    "    .agg({'transaction_id': pd.Series.nunique})\n",
    ")\n",
    "ordersByUsersA.columns = ['userId', 'orders']\n",
    "\n",
    "ordersByUsersB = (\n",
    "    orders[orders['group'] == 'B']\n",
    "    .groupby('visitor_id', as_index=False)\n",
    "    .agg({'transaction_id': pd.Series.nunique})\n",
    ")\n",
    "ordersByUsersB.columns = ['userId', 'orders']\n"
   ]
  },
  {
   "cell_type": "code",
   "execution_count": 32,
   "metadata": {},
   "outputs": [
    {
     "name": "stdout",
     "output_type": "stream",
     "text": [
      "P-value: 0.017\n",
      "Относительный прирост среднего группы В к А: 0.138\n"
     ]
    }
   ],
   "source": [
    "#Создадим переменные sampleA и sampleB, в которых пользователям с заказами будет соответствовать число заказов пользователя. \n",
    "#А пользователям без заказов — нули.\n",
    "sampleA = pd.concat(\n",
    "    [\n",
    "        ordersByUsersA['orders'],\n",
    "        pd.Series(\n",
    "            0,\n",
    "            index=np.arange(\n",
    "                visitorsADaily['visitorsPerDateA'].sum() - len(ordersByUsersA['orders'])\n",
    "            ),\n",
    "            name='orders',\n",
    "        ),\n",
    "    ],\n",
    "    axis=0,\n",
    ")\n",
    "\n",
    "sampleB = pd.concat(\n",
    "    [\n",
    "        ordersByUsersB['orders'],\n",
    "        pd.Series(\n",
    "            0,\n",
    "            index=np.arange(\n",
    "                visitorsBDaily['visitorsPerDateB'].sum() - len(ordersByUsersB['orders'])\n",
    "            ),\n",
    "            name='orders',\n",
    "        ),\n",
    "    ],\n",
    "    axis=0,\n",
    ")\n",
    "#Применим критерий «U-критерий Манна-Уитни» и посчитаем статистическую значимость различия среднего количества заказов\n",
    "print('P-value:', \"{0:.3f}\".format(stats.mannwhitneyu(sampleA, sampleB)[1]))\n",
    "# Расчитаем относительный прирост среднего числа заказов группы B\n",
    "print('Относительный прирост среднего группы В к А:', \"{0:.3f}\".format(sampleB.mean() / sampleA.mean() - 1))\n"
   ]
  },
  {
   "cell_type": "markdown",
   "metadata": {},
   "source": [
    "Статистическая значимость (p-value) значительно меньше 5%, значит нулевую гипотезу отвергаем. Анализ \"сырых данных\" показывает, что в среднем количестве заказов между группами есть статистически значимые различия. Относительный прирост среднего группы В к среднему количеству заказов в группе А равен 13,8%."
   ]
  },
  {
   "cell_type": "markdown",
   "metadata": {},
   "source": [
    "#### Посчитаем статистическую значимость различий в среднем чеке заказа между группами по «сырым» данным. "
   ]
  },
  {
   "cell_type": "markdown",
   "metadata": {},
   "source": [
    "Сформулируем гипотезы:\n",
    "1. Нулевая гипотеза: различий в среднем чеке между группами нет. \n",
    "2. Альтернативная гипотеза: различия в среднем чеке между группами есть. \n",
    "\n",
    "Уровень статистической значимости установим в размере 0.05."
   ]
  },
  {
   "cell_type": "code",
   "execution_count": 33,
   "metadata": {},
   "outputs": [
    {
     "name": "stdout",
     "output_type": "stream",
     "text": [
      "P-value: 0.729\n",
      "Относительный прирост среднего группы В к А: 0.259\n"
     ]
    }
   ],
   "source": [
    "print('P-value:','{0:.3f}'.format(stats.mannwhitneyu(orders[orders['group']=='A']['revenue'], \n",
    "                                                     orders[orders['group']=='B']['revenue'])[1]))\n",
    "print('Относительный прирост среднего группы В к А:', \n",
    "      '{0:.3f}'.format(orders[orders['group']=='B']['revenue'].mean() / orders[orders['group']=='A']['revenue'].mean()-1))"
   ]
  },
  {
   "cell_type": "markdown",
   "metadata": {},
   "source": [
    "Статистическая значимость (p-value) значительно больше 5%, причин отвергать нулевую гипотезу и считать, что в среднем чеке есть различия, нет. Однако относительный прирост в группе В по отошению к сегменту А равен почти 26%."
   ]
  },
  {
   "cell_type": "markdown",
   "metadata": {},
   "source": [
    "#### Посчитаем статистическую значимость различий в среднем количестве заказов на посетителя между группами по «очищенным» данным. "
   ]
  },
  {
   "cell_type": "markdown",
   "metadata": {},
   "source": [
    "Сформулируем гипотезы:\n",
    "1. Нулевая гипотеза: различий в среднем количестве заказов на поситителя по \"очищенным\" данным между группами нет. \n",
    "2. Альтернативная гипотеза: различия в среднем количестве заказов на поситителя по \"очищенным\" данным между группами есть. \n",
    "\n",
    "Уровень статистической значимости установим в размере 0.05.\n",
    "\n",
    "\n",
    "\n",
    "Примем за аномальных пользователей тех, кто совершил от 3 заказов или совершил заказ дороже 28 000 рублей. Так мы уберём 5% пользователей с наибольшим числом заказов и от 1% до 5% пользователей с дорогими заказами. Сделаем срезы пользователей с числом заказов больше 2 — **usersWithManyOrders** и пользователей, совершивших заказы дороже 28 000 — **usersWithExpensiveOrders**. Объединим их в таблице **abnormalUsers**. "
   ]
  },
  {
   "cell_type": "code",
   "execution_count": 34,
   "metadata": {},
   "outputs": [
    {
     "name": "stdout",
     "output_type": "stream",
     "text": [
      "1099    148427295\n",
      "18      199603092\n",
      "928     204675465\n",
      "23      237748145\n",
      "37      249864742\n",
      "dtype: int64\n",
      "74\n"
     ]
    }
   ],
   "source": [
    "usersWithManyOrders = pd.concat(\n",
    "    [\n",
    "        ordersByUsersA[ordersByUsersA['orders'] > 2]['userId'],\n",
    "        ordersByUsersB[ordersByUsersB['orders'] > 2]['userId'],\n",
    "    ],\n",
    "    axis=0,\n",
    ")\n",
    "usersWithExpensiveOrders = orders[orders['revenue'] > 28000]['visitor_id']\n",
    "abnormalUsers = (\n",
    "    pd.concat([usersWithManyOrders, usersWithExpensiveOrders], axis=0)\n",
    "    .drop_duplicates()\n",
    "    .sort_values()\n",
    ")\n",
    "print(abnormalUsers.head(5))\n",
    "print(abnormalUsers.shape[0]) "
   ]
  },
  {
   "cell_type": "code",
   "execution_count": 35,
   "metadata": {},
   "outputs": [
    {
     "name": "stdout",
     "output_type": "stream",
     "text": [
      "Уровень статистической значимости(p-value): 0.013\n",
      "Относительный прирост среднего числа заказов группы В к А: 0.173\n"
     ]
    }
   ],
   "source": [
    "#Создадим переменные sampleAFiltered и sampleBFiltered, в которых сохраните очищенные данные о заказах — не включая аномальных \n",
    "sampleAFiltered = pd.concat(\n",
    "    [\n",
    "        ordersByUsersA[\n",
    "            np.logical_not(ordersByUsersA['userId'].isin(abnormalUsers))\n",
    "        ]['orders'],\n",
    "        pd.Series(\n",
    "            0,\n",
    "            index=np.arange(\n",
    "                visitorsADaily['visitorsPerDateA'].sum() - len(ordersByUsersA['orders'])\n",
    "            ),\n",
    "            name='orders',\n",
    "        ),\n",
    "    ],\n",
    "    axis=0,\n",
    ")\n",
    "\n",
    "sampleBFiltered = pd.concat(\n",
    "    [\n",
    "        ordersByUsersB[\n",
    "            np.logical_not(ordersByUsersB['userId'].isin(abnormalUsers))\n",
    "        ]['orders'],\n",
    "        pd.Series(\n",
    "            0,\n",
    "            index=np.arange(\n",
    "                visitorsBDaily['visitorsPerDateB'].sum() - len(ordersByUsersB['orders'])\n",
    "            ),\n",
    "            name='orders',\n",
    "        ),\n",
    "    ],\n",
    "    axis=0,\n",
    ")\n",
    "#Применим критерий «U-критерий Манна-Уитни» и посчитаем статистическую значимость различия среднего количества заказов\n",
    "print('Уровень статистической значимости(p-value):', '{0:.3f}'.format(stats.mannwhitneyu(sampleAFiltered, sampleBFiltered)[1]))\n",
    "# Расчитаем относительный прирост среднего числа заказов группы B\n",
    "print('Относительный прирост среднего числа заказов группы В к А:', \n",
    "      '{0:.3f}'.format(sampleBFiltered.mean()/sampleAFiltered.mean()-1))\n",
    "\n"
   ]
  },
  {
   "cell_type": "markdown",
   "metadata": {},
   "source": [
    "Как и в случае с \"сырыми\" данными показатель статистической значимости меньше 5%,значит нулевую гипотезу отвергаем. Анализ \"очищенных данных\" так же показывает, что в среднем количестве заказов между группами есть статистически значимые различия. Показатели среднего количества заказов в группе В так же лучше, чем в группе А.\n"
   ]
  },
  {
   "cell_type": "markdown",
   "metadata": {},
   "source": [
    "#### Посчитаем статистическую значимость различий в среднем чеке заказа между группами по «очищенным» данным. \n",
    "\n",
    "\n",
    "Сформулируем гипотезы:\n",
    "1. Нулевая гипотеза: различий в среднем чеке заказа по \"очищенным\" данным между группами нет. \n",
    "2. Альтернативная гипотеза: различия в среднем чеке заказа по \"очищенным\" данным между группами есть. \n",
    "\n",
    "Уровень статистической значимости установим в размере 0.05."
   ]
  },
  {
   "cell_type": "code",
   "execution_count": 36,
   "metadata": {},
   "outputs": [
    {
     "name": "stdout",
     "output_type": "stream",
     "text": [
      "Уровень статистической значимости(p-value): 0.738\n",
      "Относительный прирост среднего числа заказов группы В к А: -0.020\n"
     ]
    }
   ],
   "source": [
    "print(\n",
    "    'Уровень статистической значимости(p-value):',\n",
    "    '{0:.3f}'.format(\n",
    "        stats.mannwhitneyu(\n",
    "            orders[\n",
    "                np.logical_and(\n",
    "                    orders['group'] == 'A',\n",
    "                    np.logical_not(orders['visitor_id'].isin(abnormalUsers)),\n",
    "                )\n",
    "            ]['revenue'],\n",
    "            orders[\n",
    "                np.logical_and(\n",
    "                    orders['group'] == 'B',\n",
    "                    np.logical_not(orders['visitor_id'].isin(abnormalUsers)),\n",
    "                )\n",
    "            ]['revenue'],\n",
    "        )[1]\n",
    "    )\n",
    ")\n",
    "\n",
    "print(\n",
    "    'Относительный прирост среднего числа заказов группы В к А:',\n",
    "    '{0:.3f}'.format(\n",
    "        orders[\n",
    "            np.logical_and(\n",
    "                orders['group'] == 'B',\n",
    "                np.logical_not(orders['visitor_id'].isin(abnormalUsers)),\n",
    "            )\n",
    "        ]['revenue'].mean()\n",
    "        / orders[\n",
    "            np.logical_and(\n",
    "                orders['group'] == 'A',\n",
    "                np.logical_not(orders['visitor_id'].isin(abnormalUsers)),\n",
    "            )\n",
    "        ]['revenue'].mean()\n",
    "        - 1\n",
    "    )\n",
    ")\n",
    "\n",
    "\n"
   ]
  },
  {
   "cell_type": "markdown",
   "metadata": {},
   "source": [
    "По результату теста выводы о статистической значимости не изменились, в среднем чеке нет различий между группами. Но показатель относительного прироста дал отрицательный результат. Средний чек в сегменте В значительно ниже чем в группе А."
   ]
  },
  {
   "cell_type": "markdown",
   "metadata": {},
   "source": [
    "### Вывод.\n"
   ]
  },
  {
   "cell_type": "markdown",
   "metadata": {},
   "source": [
    "1. Есть статистически значимое различие по среднему количеству заказов между группами как по «сырым», так и по данным после фильтрации аномалий;\n",
    "2. Нет статистически значимого различия по среднему чеку между группами ни по «сырым», ни по данным после фильтрации аномалий;\n",
    "3. График кумулятивного среднего количества заказов на посетителя по группам сообщает, что результаты группы B лучше группы A: показатели зафиксировались около среднего значения во второй половине теста.\n",
    "4. График различия среднего чека колеблется, за счет выбросов в виде аномально больших значений чека в середине теста. Но показатель стабилизировался и медленно снижается во второй половине теста и зафиксировался в районе 30%.\n",
    "\n",
    "Тест можно остановить. Количество заказов в группе В увеличилось по сравнению с группой А. Но статистически значимого различия по среднему чеку между группами нет."
   ]
  }
 ],
 "metadata": {
  "ExecuteTimeLog": [
   {
    "duration": 464,
    "start_time": "2023-02-14T09:43:54.438Z"
   },
   {
    "duration": 57,
    "start_time": "2023-02-14T09:43:55.641Z"
   },
   {
    "duration": 23,
    "start_time": "2023-02-14T09:43:56.566Z"
   },
   {
    "duration": 8,
    "start_time": "2023-02-14T09:46:17.990Z"
   },
   {
    "duration": 10,
    "start_time": "2023-02-14T09:46:39.421Z"
   },
   {
    "duration": 15,
    "start_time": "2023-02-14T09:48:21.383Z"
   },
   {
    "duration": 9,
    "start_time": "2023-02-14T10:18:31.663Z"
   },
   {
    "duration": 10,
    "start_time": "2023-02-14T10:45:30.342Z"
   },
   {
    "duration": 135,
    "start_time": "2023-02-14T10:51:09.310Z"
   },
   {
    "duration": 12,
    "start_time": "2023-02-14T10:51:25.870Z"
   },
   {
    "duration": 10,
    "start_time": "2023-02-14T10:51:35.526Z"
   },
   {
    "duration": 11,
    "start_time": "2023-02-14T10:51:54.021Z"
   },
   {
    "duration": 10,
    "start_time": "2023-02-14T10:52:03.700Z"
   },
   {
    "duration": 278,
    "start_time": "2023-02-14T12:24:52.077Z"
   },
   {
    "duration": 2,
    "start_time": "2023-02-14T12:25:25.113Z"
   },
   {
    "duration": 272,
    "start_time": "2023-02-14T12:25:30.550Z"
   },
   {
    "duration": 3,
    "start_time": "2023-02-14T12:25:38.602Z"
   },
   {
    "duration": 78,
    "start_time": "2023-02-14T12:25:38.607Z"
   },
   {
    "duration": 8,
    "start_time": "2023-02-14T12:25:38.687Z"
   },
   {
    "duration": 14,
    "start_time": "2023-02-14T12:25:38.699Z"
   },
   {
    "duration": 15,
    "start_time": "2023-02-14T12:25:38.715Z"
   },
   {
    "duration": 14,
    "start_time": "2023-02-14T12:25:38.732Z"
   },
   {
    "duration": 13,
    "start_time": "2023-02-14T12:25:38.749Z"
   },
   {
    "duration": 200,
    "start_time": "2023-02-14T12:25:38.763Z"
   },
   {
    "duration": 178,
    "start_time": "2023-02-14T12:28:26.378Z"
   },
   {
    "duration": 189,
    "start_time": "2023-02-14T12:40:42.371Z"
   },
   {
    "duration": 173,
    "start_time": "2023-02-14T12:40:57.394Z"
   },
   {
    "duration": 12,
    "start_time": "2023-02-14T12:41:22.824Z"
   },
   {
    "duration": 172,
    "start_time": "2023-02-14T12:41:44.431Z"
   },
   {
    "duration": 181,
    "start_time": "2023-02-14T12:42:14.148Z"
   },
   {
    "duration": 183,
    "start_time": "2023-02-14T12:43:06.559Z"
   },
   {
    "duration": 179,
    "start_time": "2023-02-14T12:43:52.978Z"
   },
   {
    "duration": 10,
    "start_time": "2023-02-14T12:44:21.657Z"
   },
   {
    "duration": 4,
    "start_time": "2023-02-14T12:44:39.547Z"
   },
   {
    "duration": 10,
    "start_time": "2023-02-14T12:44:49.877Z"
   },
   {
    "duration": 11,
    "start_time": "2023-02-14T12:44:55.353Z"
   },
   {
    "duration": 239,
    "start_time": "2023-02-14T12:45:37.240Z"
   },
   {
    "duration": 13,
    "start_time": "2023-02-14T12:46:07.791Z"
   },
   {
    "duration": 2,
    "start_time": "2023-02-14T12:46:17.581Z"
   },
   {
    "duration": 71,
    "start_time": "2023-02-14T12:46:17.585Z"
   },
   {
    "duration": 8,
    "start_time": "2023-02-14T12:46:17.657Z"
   },
   {
    "duration": 14,
    "start_time": "2023-02-14T12:46:17.667Z"
   },
   {
    "duration": 16,
    "start_time": "2023-02-14T12:46:17.682Z"
   },
   {
    "duration": 46,
    "start_time": "2023-02-14T12:46:17.700Z"
   },
   {
    "duration": 27,
    "start_time": "2023-02-14T12:46:17.749Z"
   },
   {
    "duration": 17,
    "start_time": "2023-02-14T12:46:17.778Z"
   },
   {
    "duration": 17,
    "start_time": "2023-02-14T12:46:17.797Z"
   },
   {
    "duration": 11,
    "start_time": "2023-02-14T12:46:37.273Z"
   },
   {
    "duration": 11,
    "start_time": "2023-02-14T12:46:40.891Z"
   },
   {
    "duration": 10,
    "start_time": "2023-02-14T12:47:19.636Z"
   },
   {
    "duration": 12,
    "start_time": "2023-02-14T12:47:38.493Z"
   },
   {
    "duration": 12,
    "start_time": "2023-02-14T12:47:46.005Z"
   },
   {
    "duration": 442,
    "start_time": "2023-02-16T07:23:16.320Z"
   },
   {
    "duration": 191,
    "start_time": "2023-02-16T07:23:16.765Z"
   },
   {
    "duration": 19,
    "start_time": "2023-02-16T07:23:16.958Z"
   },
   {
    "duration": 13,
    "start_time": "2023-02-16T07:23:16.978Z"
   },
   {
    "duration": 11,
    "start_time": "2023-02-16T07:23:16.994Z"
   },
   {
    "duration": 16,
    "start_time": "2023-02-16T07:23:17.006Z"
   },
   {
    "duration": 11,
    "start_time": "2023-02-16T07:23:17.024Z"
   },
   {
    "duration": 6,
    "start_time": "2023-02-16T07:23:17.037Z"
   },
   {
    "duration": 15,
    "start_time": "2023-02-16T07:23:17.045Z"
   },
   {
    "duration": 14,
    "start_time": "2023-02-16T07:23:17.063Z"
   },
   {
    "duration": 11,
    "start_time": "2023-02-16T07:23:17.079Z"
   },
   {
    "duration": 6,
    "start_time": "2023-02-16T07:33:27.358Z"
   },
   {
    "duration": 163,
    "start_time": "2023-02-16T07:35:13.533Z"
   },
   {
    "duration": 12,
    "start_time": "2023-02-16T07:39:14.995Z"
   },
   {
    "duration": 171,
    "start_time": "2023-02-16T07:42:31.526Z"
   },
   {
    "duration": 9,
    "start_time": "2023-02-16T07:44:28.472Z"
   },
   {
    "duration": 17,
    "start_time": "2023-02-16T07:44:34.451Z"
   },
   {
    "duration": 76,
    "start_time": "2023-02-16T07:51:18.705Z"
   },
   {
    "duration": 443,
    "start_time": "2023-02-16T07:51:33.253Z"
   },
   {
    "duration": 67,
    "start_time": "2023-02-16T07:51:33.698Z"
   },
   {
    "duration": 15,
    "start_time": "2023-02-16T07:51:33.767Z"
   },
   {
    "duration": 21,
    "start_time": "2023-02-16T07:51:33.785Z"
   },
   {
    "duration": 16,
    "start_time": "2023-02-16T07:51:33.807Z"
   },
   {
    "duration": 12,
    "start_time": "2023-02-16T07:51:33.824Z"
   },
   {
    "duration": 15,
    "start_time": "2023-02-16T07:51:33.839Z"
   },
   {
    "duration": 6,
    "start_time": "2023-02-16T07:51:33.856Z"
   },
   {
    "duration": 15,
    "start_time": "2023-02-16T07:51:33.864Z"
   },
   {
    "duration": 17,
    "start_time": "2023-02-16T07:51:33.882Z"
   },
   {
    "duration": 47,
    "start_time": "2023-02-16T07:51:33.901Z"
   },
   {
    "duration": 32,
    "start_time": "2023-02-16T07:51:33.950Z"
   },
   {
    "duration": 211,
    "start_time": "2023-02-16T07:51:33.984Z"
   },
   {
    "duration": 182,
    "start_time": "2023-02-16T07:51:34.197Z"
   },
   {
    "duration": 10,
    "start_time": "2023-02-16T07:51:34.381Z"
   },
   {
    "duration": 34,
    "start_time": "2023-02-16T07:51:34.393Z"
   },
   {
    "duration": 307,
    "start_time": "2023-02-16T07:51:34.430Z"
   },
   {
    "duration": 202,
    "start_time": "2023-02-16T07:51:55.056Z"
   },
   {
    "duration": 248,
    "start_time": "2023-02-16T08:00:16.542Z"
   },
   {
    "duration": 163,
    "start_time": "2023-02-16T08:02:25.943Z"
   },
   {
    "duration": 173,
    "start_time": "2023-02-16T08:02:45.621Z"
   },
   {
    "duration": 171,
    "start_time": "2023-02-16T08:05:44.853Z"
   },
   {
    "duration": 182,
    "start_time": "2023-02-16T08:05:55.826Z"
   },
   {
    "duration": 181,
    "start_time": "2023-02-16T08:06:03.582Z"
   },
   {
    "duration": 186,
    "start_time": "2023-02-16T08:06:14.669Z"
   },
   {
    "duration": 275,
    "start_time": "2023-02-16T08:07:36.554Z"
   },
   {
    "duration": 182,
    "start_time": "2023-02-16T08:12:25.752Z"
   },
   {
    "duration": 171,
    "start_time": "2023-02-16T08:12:39.298Z"
   },
   {
    "duration": 290,
    "start_time": "2023-02-16T08:14:50.861Z"
   },
   {
    "duration": 330,
    "start_time": "2023-02-16T08:15:07.108Z"
   },
   {
    "duration": 255,
    "start_time": "2023-02-16T08:15:15.622Z"
   },
   {
    "duration": 195,
    "start_time": "2023-02-16T08:15:31.800Z"
   },
   {
    "duration": 181,
    "start_time": "2023-02-16T08:15:44.289Z"
   },
   {
    "duration": 193,
    "start_time": "2023-02-16T08:15:54.112Z"
   },
   {
    "duration": 251,
    "start_time": "2023-02-16T08:16:00.142Z"
   },
   {
    "duration": 218,
    "start_time": "2023-02-16T08:16:08.567Z"
   },
   {
    "duration": 202,
    "start_time": "2023-02-16T08:16:16.650Z"
   },
   {
    "duration": 199,
    "start_time": "2023-02-16T08:16:29.174Z"
   },
   {
    "duration": 10,
    "start_time": "2023-02-16T08:26:54.245Z"
   },
   {
    "duration": 173,
    "start_time": "2023-02-16T10:49:01.088Z"
   },
   {
    "duration": 230,
    "start_time": "2023-02-16T10:49:26.318Z"
   },
   {
    "duration": 255,
    "start_time": "2023-02-16T10:49:31.061Z"
   },
   {
    "duration": 321,
    "start_time": "2023-02-16T10:52:43.040Z"
   },
   {
    "duration": 289,
    "start_time": "2023-02-16T10:53:27.332Z"
   },
   {
    "duration": 327,
    "start_time": "2023-02-16T10:53:42.227Z"
   },
   {
    "duration": 311,
    "start_time": "2023-02-16T10:54:03.204Z"
   },
   {
    "duration": 330,
    "start_time": "2023-02-16T10:54:09.623Z"
   },
   {
    "duration": 314,
    "start_time": "2023-02-16T10:54:18.239Z"
   },
   {
    "duration": 16,
    "start_time": "2023-02-16T11:03:33.618Z"
   },
   {
    "duration": 292,
    "start_time": "2023-02-16T11:09:04.486Z"
   },
   {
    "duration": 265,
    "start_time": "2023-02-16T11:09:25.444Z"
   },
   {
    "duration": 244,
    "start_time": "2023-02-16T11:09:53.185Z"
   },
   {
    "duration": 201,
    "start_time": "2023-02-16T11:11:09.563Z"
   },
   {
    "duration": 317,
    "start_time": "2023-02-16T11:12:20.072Z"
   },
   {
    "duration": 188,
    "start_time": "2023-02-16T11:13:14.145Z"
   },
   {
    "duration": 192,
    "start_time": "2023-02-16T11:13:23.452Z"
   },
   {
    "duration": 396,
    "start_time": "2023-02-16T11:16:51.972Z"
   },
   {
    "duration": 329,
    "start_time": "2023-02-16T11:17:05.550Z"
   },
   {
    "duration": 383,
    "start_time": "2023-02-16T11:17:42.717Z"
   },
   {
    "duration": 353,
    "start_time": "2023-02-16T11:18:44.457Z"
   },
   {
    "duration": 195,
    "start_time": "2023-02-16T11:19:03.232Z"
   },
   {
    "duration": 7,
    "start_time": "2023-02-16T12:05:31.117Z"
   },
   {
    "duration": 13,
    "start_time": "2023-02-16T12:06:16.821Z"
   },
   {
    "duration": 128,
    "start_time": "2023-02-16T12:07:32.530Z"
   },
   {
    "duration": 5,
    "start_time": "2023-02-16T12:10:05.634Z"
   },
   {
    "duration": 163,
    "start_time": "2023-02-16T12:12:35.176Z"
   },
   {
    "duration": 712,
    "start_time": "2023-02-16T12:13:53.520Z"
   },
   {
    "duration": 6,
    "start_time": "2023-02-16T12:14:01.264Z"
   },
   {
    "duration": 224,
    "start_time": "2023-02-16T13:06:16.638Z"
   },
   {
    "duration": 148,
    "start_time": "2023-02-16T13:15:16.150Z"
   },
   {
    "duration": 8,
    "start_time": "2023-02-16T13:30:07.336Z"
   },
   {
    "duration": 1780,
    "start_time": "2023-02-17T06:19:42.457Z"
   },
   {
    "duration": 242,
    "start_time": "2023-02-17T06:19:44.239Z"
   },
   {
    "duration": 17,
    "start_time": "2023-02-17T06:19:44.483Z"
   },
   {
    "duration": 19,
    "start_time": "2023-02-17T06:19:44.502Z"
   },
   {
    "duration": 14,
    "start_time": "2023-02-17T06:19:44.523Z"
   },
   {
    "duration": 14,
    "start_time": "2023-02-17T06:19:44.538Z"
   },
   {
    "duration": 10,
    "start_time": "2023-02-17T06:19:44.553Z"
   },
   {
    "duration": 29,
    "start_time": "2023-02-17T06:19:44.565Z"
   },
   {
    "duration": 14,
    "start_time": "2023-02-17T06:19:44.595Z"
   },
   {
    "duration": 18,
    "start_time": "2023-02-17T06:19:44.612Z"
   },
   {
    "duration": 12,
    "start_time": "2023-02-17T06:19:44.632Z"
   },
   {
    "duration": 8,
    "start_time": "2023-02-17T06:19:44.646Z"
   },
   {
    "duration": 169,
    "start_time": "2023-02-17T06:19:44.655Z"
   },
   {
    "duration": 135,
    "start_time": "2023-02-17T06:19:44.826Z"
   },
   {
    "duration": 6,
    "start_time": "2023-02-17T06:19:44.963Z"
   },
   {
    "duration": 41,
    "start_time": "2023-02-17T06:19:44.970Z"
   },
   {
    "duration": 353,
    "start_time": "2023-02-17T06:19:45.013Z"
   },
   {
    "duration": 208,
    "start_time": "2023-02-17T06:19:45.368Z"
   },
   {
    "duration": 341,
    "start_time": "2023-02-17T06:19:45.578Z"
   },
   {
    "duration": 11,
    "start_time": "2023-02-17T06:19:45.921Z"
   },
   {
    "duration": 234,
    "start_time": "2023-02-17T06:19:45.934Z"
   },
   {
    "duration": 327,
    "start_time": "2023-02-17T06:19:46.170Z"
   },
   {
    "duration": 136,
    "start_time": "2023-02-17T06:19:46.499Z"
   },
   {
    "duration": 4,
    "start_time": "2023-02-17T06:19:46.637Z"
   },
   {
    "duration": 128,
    "start_time": "2023-02-17T06:19:46.643Z"
   },
   {
    "duration": 4,
    "start_time": "2023-02-17T06:19:46.773Z"
   },
   {
    "duration": 219,
    "start_time": "2023-02-17T06:19:46.779Z"
   },
   {
    "duration": 134,
    "start_time": "2023-02-17T06:19:47.001Z"
   },
   {
    "duration": 6,
    "start_time": "2023-02-17T06:19:47.137Z"
   },
   {
    "duration": 6,
    "start_time": "2023-02-17T06:24:25.191Z"
   },
   {
    "duration": 9,
    "start_time": "2023-02-17T06:27:39.740Z"
   },
   {
    "duration": 10,
    "start_time": "2023-02-17T06:28:00.432Z"
   },
   {
    "duration": 27,
    "start_time": "2023-02-17T06:45:04.398Z"
   },
   {
    "duration": 10,
    "start_time": "2023-02-17T06:49:36.733Z"
   },
   {
    "duration": 15,
    "start_time": "2023-02-17T07:00:51.285Z"
   },
   {
    "duration": 195,
    "start_time": "2023-02-17T07:23:31.911Z"
   },
   {
    "duration": 3,
    "start_time": "2023-02-17T07:23:41.936Z"
   },
   {
    "duration": 81,
    "start_time": "2023-02-17T07:23:41.942Z"
   },
   {
    "duration": 8,
    "start_time": "2023-02-17T07:23:42.025Z"
   },
   {
    "duration": 17,
    "start_time": "2023-02-17T07:23:42.034Z"
   },
   {
    "duration": 11,
    "start_time": "2023-02-17T07:23:42.053Z"
   },
   {
    "duration": 12,
    "start_time": "2023-02-17T07:23:42.065Z"
   },
   {
    "duration": 12,
    "start_time": "2023-02-17T07:23:42.078Z"
   },
   {
    "duration": 3,
    "start_time": "2023-02-17T07:23:42.092Z"
   },
   {
    "duration": 13,
    "start_time": "2023-02-17T07:23:42.097Z"
   },
   {
    "duration": 10,
    "start_time": "2023-02-17T07:23:42.112Z"
   },
   {
    "duration": 240,
    "start_time": "2023-02-17T07:23:42.124Z"
   },
   {
    "duration": 127,
    "start_time": "2023-02-17T07:23:42.365Z"
   },
   {
    "duration": 7,
    "start_time": "2023-02-17T07:23:42.493Z"
   },
   {
    "duration": 207,
    "start_time": "2023-02-17T07:23:42.502Z"
   },
   {
    "duration": 190,
    "start_time": "2023-02-17T07:23:47.295Z"
   },
   {
    "duration": 109,
    "start_time": "2023-02-17T07:57:23.119Z"
   },
   {
    "duration": 79,
    "start_time": "2023-02-17T08:10:10.986Z"
   },
   {
    "duration": 156,
    "start_time": "2023-02-17T08:10:25.048Z"
   },
   {
    "duration": 1876,
    "start_time": "2023-02-17T08:28:34.368Z"
   },
   {
    "duration": 1198,
    "start_time": "2023-02-17T08:28:44.307Z"
   },
   {
    "duration": 2,
    "start_time": "2023-02-17T08:28:51.105Z"
   },
   {
    "duration": 89,
    "start_time": "2023-02-17T08:28:51.109Z"
   },
   {
    "duration": 9,
    "start_time": "2023-02-17T08:28:51.200Z"
   },
   {
    "duration": 13,
    "start_time": "2023-02-17T08:28:51.211Z"
   },
   {
    "duration": 20,
    "start_time": "2023-02-17T08:28:51.227Z"
   },
   {
    "duration": 15,
    "start_time": "2023-02-17T08:28:51.249Z"
   },
   {
    "duration": 27,
    "start_time": "2023-02-17T08:28:51.265Z"
   },
   {
    "duration": 4,
    "start_time": "2023-02-17T08:28:51.294Z"
   },
   {
    "duration": 15,
    "start_time": "2023-02-17T08:28:51.300Z"
   },
   {
    "duration": 12,
    "start_time": "2023-02-17T08:28:51.316Z"
   },
   {
    "duration": 194,
    "start_time": "2023-02-17T08:28:51.331Z"
   },
   {
    "duration": 137,
    "start_time": "2023-02-17T08:28:51.527Z"
   },
   {
    "duration": 7,
    "start_time": "2023-02-17T08:28:51.665Z"
   },
   {
    "duration": 200,
    "start_time": "2023-02-17T08:28:51.673Z"
   },
   {
    "duration": 191,
    "start_time": "2023-02-17T08:28:51.875Z"
   },
   {
    "duration": 316,
    "start_time": "2023-02-17T08:28:52.068Z"
   },
   {
    "duration": 196,
    "start_time": "2023-02-17T08:28:52.385Z"
   },
   {
    "duration": 319,
    "start_time": "2023-02-17T08:28:52.582Z"
   },
   {
    "duration": 118,
    "start_time": "2023-02-17T08:28:52.903Z"
   },
   {
    "duration": 4,
    "start_time": "2023-02-17T08:28:53.023Z"
   },
   {
    "duration": 146,
    "start_time": "2023-02-17T08:28:53.029Z"
   },
   {
    "duration": 5,
    "start_time": "2023-02-17T08:28:53.176Z"
   },
   {
    "duration": 313,
    "start_time": "2023-02-17T08:28:53.191Z"
   },
   {
    "duration": 139,
    "start_time": "2023-02-17T08:28:53.506Z"
   },
   {
    "duration": 26,
    "start_time": "2023-02-17T08:28:53.647Z"
   },
   {
    "duration": 26,
    "start_time": "2023-02-17T08:28:53.674Z"
   },
   {
    "duration": 25,
    "start_time": "2023-02-17T08:29:03.495Z"
   },
   {
    "duration": 25,
    "start_time": "2023-02-17T08:29:18.371Z"
   },
   {
    "duration": 27,
    "start_time": "2023-02-17T08:30:36.902Z"
   },
   {
    "duration": 11,
    "start_time": "2023-02-17T08:44:04.995Z"
   },
   {
    "duration": 12,
    "start_time": "2023-02-17T08:44:50.916Z"
   },
   {
    "duration": 12,
    "start_time": "2023-02-17T08:45:06.393Z"
   },
   {
    "duration": 3,
    "start_time": "2023-02-17T08:45:11.631Z"
   },
   {
    "duration": 87,
    "start_time": "2023-02-17T08:45:11.642Z"
   },
   {
    "duration": 8,
    "start_time": "2023-02-17T08:45:11.731Z"
   },
   {
    "duration": 14,
    "start_time": "2023-02-17T08:45:11.740Z"
   },
   {
    "duration": 9,
    "start_time": "2023-02-17T08:45:11.756Z"
   },
   {
    "duration": 11,
    "start_time": "2023-02-17T08:45:11.768Z"
   },
   {
    "duration": 22,
    "start_time": "2023-02-17T08:45:11.781Z"
   },
   {
    "duration": 17,
    "start_time": "2023-02-17T08:45:11.805Z"
   },
   {
    "duration": 24,
    "start_time": "2023-02-17T08:45:11.823Z"
   },
   {
    "duration": 15,
    "start_time": "2023-02-17T08:45:11.849Z"
   },
   {
    "duration": 171,
    "start_time": "2023-02-17T08:45:11.866Z"
   },
   {
    "duration": 120,
    "start_time": "2023-02-17T08:45:12.039Z"
   },
   {
    "duration": 6,
    "start_time": "2023-02-17T08:45:12.161Z"
   },
   {
    "duration": 209,
    "start_time": "2023-02-17T08:45:12.169Z"
   },
   {
    "duration": 203,
    "start_time": "2023-02-17T08:45:12.382Z"
   },
   {
    "duration": 319,
    "start_time": "2023-02-17T08:45:12.592Z"
   },
   {
    "duration": 199,
    "start_time": "2023-02-17T08:45:12.912Z"
   },
   {
    "duration": 308,
    "start_time": "2023-02-17T08:45:13.113Z"
   },
   {
    "duration": 124,
    "start_time": "2023-02-17T08:45:13.422Z"
   },
   {
    "duration": 5,
    "start_time": "2023-02-17T08:45:13.548Z"
   },
   {
    "duration": 139,
    "start_time": "2023-02-17T08:45:13.554Z"
   },
   {
    "duration": 5,
    "start_time": "2023-02-17T08:45:13.695Z"
   },
   {
    "duration": 239,
    "start_time": "2023-02-17T08:45:13.702Z"
   },
   {
    "duration": 139,
    "start_time": "2023-02-17T08:45:13.942Z"
   },
   {
    "duration": 30,
    "start_time": "2023-02-17T08:45:14.083Z"
   },
   {
    "duration": 11,
    "start_time": "2023-02-17T08:45:14.115Z"
   },
   {
    "duration": 11,
    "start_time": "2023-02-17T08:45:31.408Z"
   },
   {
    "duration": 11,
    "start_time": "2023-02-17T08:45:39.024Z"
   },
   {
    "duration": 11,
    "start_time": "2023-02-17T08:45:56.703Z"
   },
   {
    "duration": 11,
    "start_time": "2023-02-17T08:46:03.161Z"
   },
   {
    "duration": 1304,
    "start_time": "2023-02-17T09:01:34.303Z"
   },
   {
    "duration": 9,
    "start_time": "2023-02-17T09:01:51.294Z"
   },
   {
    "duration": 13,
    "start_time": "2023-02-17T09:02:21.321Z"
   },
   {
    "duration": 9,
    "start_time": "2023-02-17T09:02:36.869Z"
   },
   {
    "duration": 8,
    "start_time": "2023-02-17T09:08:48.346Z"
   },
   {
    "duration": 25,
    "start_time": "2023-02-17T09:10:38.353Z"
   },
   {
    "duration": 13,
    "start_time": "2023-02-17T09:18:50.393Z"
   },
   {
    "duration": 14,
    "start_time": "2023-02-17T09:19:29.390Z"
   },
   {
    "duration": 3,
    "start_time": "2023-02-17T09:32:27.688Z"
   },
   {
    "duration": 91,
    "start_time": "2023-02-17T09:32:27.693Z"
   },
   {
    "duration": 10,
    "start_time": "2023-02-17T09:32:27.786Z"
   },
   {
    "duration": 21,
    "start_time": "2023-02-17T09:32:27.797Z"
   },
   {
    "duration": 12,
    "start_time": "2023-02-17T09:32:27.820Z"
   },
   {
    "duration": 15,
    "start_time": "2023-02-17T09:32:27.833Z"
   },
   {
    "duration": 18,
    "start_time": "2023-02-17T09:32:27.850Z"
   },
   {
    "duration": 12,
    "start_time": "2023-02-17T09:32:27.869Z"
   },
   {
    "duration": 16,
    "start_time": "2023-02-17T09:32:27.883Z"
   },
   {
    "duration": 8,
    "start_time": "2023-02-17T09:32:27.901Z"
   },
   {
    "duration": 159,
    "start_time": "2023-02-17T09:32:27.911Z"
   },
   {
    "duration": 122,
    "start_time": "2023-02-17T09:32:28.071Z"
   },
   {
    "duration": 6,
    "start_time": "2023-02-17T09:32:28.194Z"
   },
   {
    "duration": 196,
    "start_time": "2023-02-17T09:32:28.202Z"
   },
   {
    "duration": 205,
    "start_time": "2023-02-17T09:32:28.399Z"
   },
   {
    "duration": 299,
    "start_time": "2023-02-17T09:32:28.606Z"
   },
   {
    "duration": 281,
    "start_time": "2023-02-17T09:32:28.907Z"
   },
   {
    "duration": 315,
    "start_time": "2023-02-17T09:32:29.189Z"
   },
   {
    "duration": 116,
    "start_time": "2023-02-17T09:32:29.506Z"
   },
   {
    "duration": 5,
    "start_time": "2023-02-17T09:32:29.623Z"
   },
   {
    "duration": 138,
    "start_time": "2023-02-17T09:32:29.629Z"
   },
   {
    "duration": 4,
    "start_time": "2023-02-17T09:32:29.769Z"
   },
   {
    "duration": 219,
    "start_time": "2023-02-17T09:32:29.775Z"
   },
   {
    "duration": 190,
    "start_time": "2023-02-17T09:32:29.995Z"
   },
   {
    "duration": 33,
    "start_time": "2023-02-17T09:32:30.192Z"
   },
   {
    "duration": 22,
    "start_time": "2023-02-17T09:32:30.228Z"
   },
   {
    "duration": 22,
    "start_time": "2023-02-17T09:32:30.252Z"
   },
   {
    "duration": 77,
    "start_time": "2023-02-17T09:32:30.276Z"
   },
   {
    "duration": 16,
    "start_time": "2023-02-17T09:32:30.357Z"
   },
   {
    "duration": 51,
    "start_time": "2023-02-17T09:32:30.375Z"
   },
   {
    "duration": 3,
    "start_time": "2023-02-17T09:33:40.485Z"
   },
   {
    "duration": 85,
    "start_time": "2023-02-17T09:33:40.490Z"
   },
   {
    "duration": 8,
    "start_time": "2023-02-17T09:33:40.577Z"
   },
   {
    "duration": 20,
    "start_time": "2023-02-17T09:33:40.587Z"
   },
   {
    "duration": 20,
    "start_time": "2023-02-17T09:33:40.610Z"
   },
   {
    "duration": 14,
    "start_time": "2023-02-17T09:33:40.632Z"
   },
   {
    "duration": 17,
    "start_time": "2023-02-17T09:33:40.647Z"
   },
   {
    "duration": 7,
    "start_time": "2023-02-17T09:33:40.666Z"
   },
   {
    "duration": 20,
    "start_time": "2023-02-17T09:33:40.675Z"
   },
   {
    "duration": 15,
    "start_time": "2023-02-17T09:33:40.697Z"
   },
   {
    "duration": 160,
    "start_time": "2023-02-17T09:33:40.715Z"
   },
   {
    "duration": 132,
    "start_time": "2023-02-17T09:33:40.877Z"
   },
   {
    "duration": 7,
    "start_time": "2023-02-17T09:33:41.010Z"
   },
   {
    "duration": 212,
    "start_time": "2023-02-17T09:33:41.019Z"
   },
   {
    "duration": 196,
    "start_time": "2023-02-17T09:33:41.233Z"
   },
   {
    "duration": 281,
    "start_time": "2023-02-17T09:33:41.431Z"
   },
   {
    "duration": 187,
    "start_time": "2023-02-17T09:33:41.714Z"
   },
   {
    "duration": 299,
    "start_time": "2023-02-17T09:33:41.903Z"
   },
   {
    "duration": 113,
    "start_time": "2023-02-17T09:33:42.204Z"
   },
   {
    "duration": 4,
    "start_time": "2023-02-17T09:33:42.318Z"
   },
   {
    "duration": 130,
    "start_time": "2023-02-17T09:33:42.324Z"
   },
   {
    "duration": 4,
    "start_time": "2023-02-17T09:33:42.456Z"
   },
   {
    "duration": 306,
    "start_time": "2023-02-17T09:33:42.462Z"
   },
   {
    "duration": 140,
    "start_time": "2023-02-17T09:33:42.770Z"
   },
   {
    "duration": 26,
    "start_time": "2023-02-17T09:33:42.912Z"
   },
   {
    "duration": 11,
    "start_time": "2023-02-17T09:33:42.940Z"
   },
   {
    "duration": 9,
    "start_time": "2023-02-17T09:33:42.953Z"
   },
   {
    "duration": 52,
    "start_time": "2023-02-17T09:33:42.963Z"
   },
   {
    "duration": 17,
    "start_time": "2023-02-17T09:33:43.019Z"
   },
   {
    "duration": 15,
    "start_time": "2023-02-17T09:33:43.038Z"
   },
   {
    "duration": 3,
    "start_time": "2023-02-17T09:56:47.180Z"
   },
   {
    "duration": 82,
    "start_time": "2023-02-17T09:56:47.185Z"
   },
   {
    "duration": 9,
    "start_time": "2023-02-17T09:56:47.269Z"
   },
   {
    "duration": 12,
    "start_time": "2023-02-17T09:56:47.280Z"
   },
   {
    "duration": 10,
    "start_time": "2023-02-17T09:56:47.294Z"
   },
   {
    "duration": 11,
    "start_time": "2023-02-17T09:56:47.306Z"
   },
   {
    "duration": 15,
    "start_time": "2023-02-17T09:56:47.319Z"
   },
   {
    "duration": 6,
    "start_time": "2023-02-17T09:56:47.336Z"
   },
   {
    "duration": 14,
    "start_time": "2023-02-17T09:56:47.344Z"
   },
   {
    "duration": 10,
    "start_time": "2023-02-17T09:56:47.360Z"
   },
   {
    "duration": 163,
    "start_time": "2023-02-17T09:56:47.391Z"
   },
   {
    "duration": 124,
    "start_time": "2023-02-17T09:56:47.556Z"
   },
   {
    "duration": 7,
    "start_time": "2023-02-17T09:56:47.691Z"
   },
   {
    "duration": 213,
    "start_time": "2023-02-17T09:56:47.699Z"
   },
   {
    "duration": 194,
    "start_time": "2023-02-17T09:56:47.913Z"
   },
   {
    "duration": 272,
    "start_time": "2023-02-17T09:56:48.109Z"
   },
   {
    "duration": 177,
    "start_time": "2023-02-17T09:56:48.383Z"
   },
   {
    "duration": 340,
    "start_time": "2023-02-17T09:56:48.561Z"
   },
   {
    "duration": 123,
    "start_time": "2023-02-17T09:56:48.903Z"
   },
   {
    "duration": 4,
    "start_time": "2023-02-17T09:56:49.028Z"
   },
   {
    "duration": 141,
    "start_time": "2023-02-17T09:56:49.034Z"
   },
   {
    "duration": 5,
    "start_time": "2023-02-17T09:56:49.177Z"
   },
   {
    "duration": 222,
    "start_time": "2023-02-17T09:56:49.192Z"
   },
   {
    "duration": 147,
    "start_time": "2023-02-17T09:56:49.416Z"
   },
   {
    "duration": 36,
    "start_time": "2023-02-17T09:56:49.565Z"
   },
   {
    "duration": 11,
    "start_time": "2023-02-17T09:56:49.602Z"
   },
   {
    "duration": 8,
    "start_time": "2023-02-17T09:56:49.615Z"
   },
   {
    "duration": 26,
    "start_time": "2023-02-17T09:56:49.625Z"
   },
   {
    "duration": 44,
    "start_time": "2023-02-17T09:56:49.655Z"
   },
   {
    "duration": 13,
    "start_time": "2023-02-17T09:56:49.702Z"
   },
   {
    "duration": 2,
    "start_time": "2023-02-17T11:31:12.022Z"
   },
   {
    "duration": 3,
    "start_time": "2023-02-17T11:33:38.902Z"
   },
   {
    "duration": 3,
    "start_time": "2023-02-17T11:35:43.425Z"
   },
   {
    "duration": 84,
    "start_time": "2023-02-17T11:35:43.430Z"
   },
   {
    "duration": 13,
    "start_time": "2023-02-17T11:35:43.515Z"
   },
   {
    "duration": 18,
    "start_time": "2023-02-17T11:35:43.529Z"
   },
   {
    "duration": 28,
    "start_time": "2023-02-17T11:35:43.549Z"
   },
   {
    "duration": 15,
    "start_time": "2023-02-17T11:35:43.579Z"
   },
   {
    "duration": 29,
    "start_time": "2023-02-17T11:35:43.596Z"
   },
   {
    "duration": 7,
    "start_time": "2023-02-17T11:35:43.626Z"
   },
   {
    "duration": 17,
    "start_time": "2023-02-17T11:35:43.634Z"
   },
   {
    "duration": 19,
    "start_time": "2023-02-17T11:35:43.653Z"
   },
   {
    "duration": 174,
    "start_time": "2023-02-17T11:35:43.674Z"
   },
   {
    "duration": 142,
    "start_time": "2023-02-17T11:35:43.850Z"
   },
   {
    "duration": 6,
    "start_time": "2023-02-17T11:35:43.994Z"
   },
   {
    "duration": 208,
    "start_time": "2023-02-17T11:35:44.002Z"
   },
   {
    "duration": 196,
    "start_time": "2023-02-17T11:35:44.212Z"
   },
   {
    "duration": 288,
    "start_time": "2023-02-17T11:35:44.410Z"
   },
   {
    "duration": 189,
    "start_time": "2023-02-17T11:35:44.700Z"
   },
   {
    "duration": 412,
    "start_time": "2023-02-17T11:35:44.892Z"
   },
   {
    "duration": 126,
    "start_time": "2023-02-17T11:35:45.305Z"
   },
   {
    "duration": 5,
    "start_time": "2023-02-17T11:35:45.432Z"
   },
   {
    "duration": 143,
    "start_time": "2023-02-17T11:35:45.439Z"
   },
   {
    "duration": 11,
    "start_time": "2023-02-17T11:35:45.584Z"
   },
   {
    "duration": 223,
    "start_time": "2023-02-17T11:35:45.596Z"
   },
   {
    "duration": 175,
    "start_time": "2023-02-17T11:35:45.821Z"
   },
   {
    "duration": 30,
    "start_time": "2023-02-17T11:35:45.998Z"
   },
   {
    "duration": 14,
    "start_time": "2023-02-17T11:35:46.030Z"
   },
   {
    "duration": 11,
    "start_time": "2023-02-17T11:35:46.047Z"
   },
   {
    "duration": 63,
    "start_time": "2023-02-17T11:35:46.060Z"
   },
   {
    "duration": 19,
    "start_time": "2023-02-17T11:35:46.125Z"
   },
   {
    "duration": 1253,
    "start_time": "2023-02-17T19:10:23.660Z"
   },
   {
    "duration": 267,
    "start_time": "2023-02-17T19:10:24.915Z"
   },
   {
    "duration": 17,
    "start_time": "2023-02-17T19:10:25.185Z"
   },
   {
    "duration": 14,
    "start_time": "2023-02-17T19:10:25.204Z"
   },
   {
    "duration": 15,
    "start_time": "2023-02-17T19:10:25.219Z"
   },
   {
    "duration": 32,
    "start_time": "2023-02-17T19:10:25.236Z"
   },
   {
    "duration": 11,
    "start_time": "2023-02-17T19:10:25.270Z"
   },
   {
    "duration": 9,
    "start_time": "2023-02-17T19:10:25.283Z"
   },
   {
    "duration": 14,
    "start_time": "2023-02-17T19:10:25.294Z"
   },
   {
    "duration": 8,
    "start_time": "2023-02-17T19:10:25.311Z"
   },
   {
    "duration": 184,
    "start_time": "2023-02-17T19:10:25.320Z"
   },
   {
    "duration": 136,
    "start_time": "2023-02-17T19:10:25.506Z"
   },
   {
    "duration": 7,
    "start_time": "2023-02-17T19:10:25.647Z"
   },
   {
    "duration": 305,
    "start_time": "2023-02-17T19:10:25.656Z"
   },
   {
    "duration": 215,
    "start_time": "2023-02-17T19:10:25.963Z"
   },
   {
    "duration": 386,
    "start_time": "2023-02-17T19:10:26.180Z"
   },
   {
    "duration": 239,
    "start_time": "2023-02-17T19:10:26.569Z"
   },
   {
    "duration": 343,
    "start_time": "2023-02-17T19:10:26.810Z"
   },
   {
    "duration": 121,
    "start_time": "2023-02-17T19:10:27.155Z"
   },
   {
    "duration": 5,
    "start_time": "2023-02-17T19:10:27.278Z"
   },
   {
    "duration": 154,
    "start_time": "2023-02-17T19:10:27.284Z"
   },
   {
    "duration": 6,
    "start_time": "2023-02-17T19:10:27.440Z"
   },
   {
    "duration": 243,
    "start_time": "2023-02-17T19:10:27.449Z"
   },
   {
    "duration": 153,
    "start_time": "2023-02-17T19:10:27.694Z"
   },
   {
    "duration": 26,
    "start_time": "2023-02-17T19:10:27.849Z"
   },
   {
    "duration": 10,
    "start_time": "2023-02-17T19:10:27.877Z"
   },
   {
    "duration": 9,
    "start_time": "2023-02-17T19:10:27.889Z"
   },
   {
    "duration": 74,
    "start_time": "2023-02-17T19:10:27.901Z"
   },
   {
    "duration": 14,
    "start_time": "2023-02-17T19:10:27.977Z"
   },
   {
    "duration": 1078,
    "start_time": "2023-02-18T16:55:19.512Z"
   },
   {
    "duration": 76,
    "start_time": "2023-02-18T16:55:20.592Z"
   },
   {
    "duration": 16,
    "start_time": "2023-02-18T16:55:20.670Z"
   },
   {
    "duration": 17,
    "start_time": "2023-02-18T16:55:20.688Z"
   },
   {
    "duration": 18,
    "start_time": "2023-02-18T16:55:20.706Z"
   },
   {
    "duration": 17,
    "start_time": "2023-02-18T16:55:20.726Z"
   },
   {
    "duration": 12,
    "start_time": "2023-02-18T16:55:20.744Z"
   },
   {
    "duration": 6,
    "start_time": "2023-02-18T16:55:20.757Z"
   },
   {
    "duration": 16,
    "start_time": "2023-02-18T16:55:20.764Z"
   },
   {
    "duration": 7,
    "start_time": "2023-02-18T16:55:20.782Z"
   },
   {
    "duration": 176,
    "start_time": "2023-02-18T16:55:20.790Z"
   },
   {
    "duration": 126,
    "start_time": "2023-02-18T16:55:20.968Z"
   },
   {
    "duration": 13,
    "start_time": "2023-02-18T16:55:21.095Z"
   },
   {
    "duration": 267,
    "start_time": "2023-02-18T16:55:21.109Z"
   },
   {
    "duration": 195,
    "start_time": "2023-02-18T16:55:21.378Z"
   },
   {
    "duration": 284,
    "start_time": "2023-02-18T16:55:21.575Z"
   },
   {
    "duration": 191,
    "start_time": "2023-02-18T16:55:21.861Z"
   },
   {
    "duration": 312,
    "start_time": "2023-02-18T16:55:22.054Z"
   },
   {
    "duration": 111,
    "start_time": "2023-02-18T16:55:22.367Z"
   },
   {
    "duration": 5,
    "start_time": "2023-02-18T16:55:22.480Z"
   },
   {
    "duration": 135,
    "start_time": "2023-02-18T16:55:22.486Z"
   },
   {
    "duration": 5,
    "start_time": "2023-02-18T16:55:22.622Z"
   },
   {
    "duration": 235,
    "start_time": "2023-02-18T16:55:22.628Z"
   },
   {
    "duration": 142,
    "start_time": "2023-02-18T16:55:22.865Z"
   },
   {
    "duration": 27,
    "start_time": "2023-02-18T16:55:23.009Z"
   },
   {
    "duration": 10,
    "start_time": "2023-02-18T16:55:23.049Z"
   },
   {
    "duration": 8,
    "start_time": "2023-02-18T16:55:23.061Z"
   },
   {
    "duration": 31,
    "start_time": "2023-02-18T16:55:23.072Z"
   },
   {
    "duration": 14,
    "start_time": "2023-02-18T16:55:23.104Z"
   },
   {
    "duration": 1271,
    "start_time": "2023-02-19T07:06:31.175Z"
   },
   {
    "duration": 305,
    "start_time": "2023-02-19T07:06:32.447Z"
   },
   {
    "duration": 17,
    "start_time": "2023-02-19T07:06:32.754Z"
   },
   {
    "duration": 31,
    "start_time": "2023-02-19T07:06:32.774Z"
   },
   {
    "duration": 22,
    "start_time": "2023-02-19T07:06:32.807Z"
   },
   {
    "duration": 13,
    "start_time": "2023-02-19T07:06:32.831Z"
   },
   {
    "duration": 11,
    "start_time": "2023-02-19T07:06:32.846Z"
   },
   {
    "duration": 9,
    "start_time": "2023-02-19T07:06:32.859Z"
   },
   {
    "duration": 25,
    "start_time": "2023-02-19T07:06:32.870Z"
   },
   {
    "duration": 7,
    "start_time": "2023-02-19T07:06:32.898Z"
   },
   {
    "duration": 170,
    "start_time": "2023-02-19T07:06:32.907Z"
   },
   {
    "duration": 128,
    "start_time": "2023-02-19T07:06:33.078Z"
   },
   {
    "duration": 6,
    "start_time": "2023-02-19T07:06:33.207Z"
   },
   {
    "duration": 264,
    "start_time": "2023-02-19T07:06:33.215Z"
   },
   {
    "duration": 180,
    "start_time": "2023-02-19T07:06:33.481Z"
   },
   {
    "duration": 370,
    "start_time": "2023-02-19T07:06:33.663Z"
   },
   {
    "duration": 172,
    "start_time": "2023-02-19T07:06:34.035Z"
   },
   {
    "duration": 307,
    "start_time": "2023-02-19T07:06:34.208Z"
   },
   {
    "duration": 106,
    "start_time": "2023-02-19T07:06:34.517Z"
   },
   {
    "duration": 6,
    "start_time": "2023-02-19T07:06:34.625Z"
   },
   {
    "duration": 134,
    "start_time": "2023-02-19T07:06:34.634Z"
   },
   {
    "duration": 4,
    "start_time": "2023-02-19T07:06:34.770Z"
   },
   {
    "duration": 218,
    "start_time": "2023-02-19T07:06:34.776Z"
   },
   {
    "duration": 144,
    "start_time": "2023-02-19T07:06:34.996Z"
   },
   {
    "duration": 26,
    "start_time": "2023-02-19T07:06:35.142Z"
   },
   {
    "duration": 27,
    "start_time": "2023-02-19T07:06:35.169Z"
   },
   {
    "duration": 9,
    "start_time": "2023-02-19T07:06:35.197Z"
   },
   {
    "duration": 34,
    "start_time": "2023-02-19T07:06:35.210Z"
   },
   {
    "duration": 15,
    "start_time": "2023-02-19T07:06:35.246Z"
   },
   {
    "duration": 1309,
    "start_time": "2023-02-19T07:07:59.965Z"
   },
   {
    "duration": 1095,
    "start_time": "2023-02-19T07:08:32.256Z"
   },
   {
    "duration": 3,
    "start_time": "2023-02-19T07:08:40.866Z"
   },
   {
    "duration": 108,
    "start_time": "2023-02-19T07:08:40.871Z"
   },
   {
    "duration": 16,
    "start_time": "2023-02-19T07:08:40.980Z"
   },
   {
    "duration": 33,
    "start_time": "2023-02-19T07:08:41.003Z"
   },
   {
    "duration": 23,
    "start_time": "2023-02-19T07:08:41.039Z"
   },
   {
    "duration": 15,
    "start_time": "2023-02-19T07:08:41.064Z"
   },
   {
    "duration": 12,
    "start_time": "2023-02-19T07:08:49.369Z"
   },
   {
    "duration": 12,
    "start_time": "2023-02-19T07:09:00.361Z"
   },
   {
    "duration": 9,
    "start_time": "2023-02-19T07:09:24.523Z"
   },
   {
    "duration": 10,
    "start_time": "2023-02-19T07:09:33.934Z"
   },
   {
    "duration": 10,
    "start_time": "2023-02-19T07:10:55.351Z"
   },
   {
    "duration": 11,
    "start_time": "2023-02-19T07:11:04.948Z"
   },
   {
    "duration": 10,
    "start_time": "2023-02-19T07:11:11.772Z"
   },
   {
    "duration": 11,
    "start_time": "2023-02-19T07:11:17.465Z"
   },
   {
    "duration": 9,
    "start_time": "2023-02-19T07:22:36.062Z"
   },
   {
    "duration": 0,
    "start_time": "2023-02-19T07:22:36.073Z"
   },
   {
    "duration": 0,
    "start_time": "2023-02-19T07:22:36.074Z"
   },
   {
    "duration": 19,
    "start_time": "2023-02-19T07:22:36.075Z"
   },
   {
    "duration": 21,
    "start_time": "2023-02-19T07:22:36.095Z"
   },
   {
    "duration": 14,
    "start_time": "2023-02-19T07:22:36.117Z"
   },
   {
    "duration": 12,
    "start_time": "2023-02-19T07:22:45.964Z"
   },
   {
    "duration": 8,
    "start_time": "2023-02-19T07:24:59.062Z"
   },
   {
    "duration": 11,
    "start_time": "2023-02-19T07:25:57.833Z"
   },
   {
    "duration": 2,
    "start_time": "2023-02-19T07:26:09.212Z"
   },
   {
    "duration": 71,
    "start_time": "2023-02-19T07:28:38.618Z"
   },
   {
    "duration": 4,
    "start_time": "2023-02-19T10:39:55.987Z"
   },
   {
    "duration": 48,
    "start_time": "2023-02-19T10:40:57.075Z"
   },
   {
    "duration": 1238,
    "start_time": "2023-02-19T10:41:03.733Z"
   },
   {
    "duration": 259,
    "start_time": "2023-02-19T10:41:04.973Z"
   },
   {
    "duration": 16,
    "start_time": "2023-02-19T10:41:07.657Z"
   },
   {
    "duration": 4,
    "start_time": "2023-02-19T11:04:25.282Z"
   },
   {
    "duration": 91,
    "start_time": "2023-02-19T11:04:25.289Z"
   },
   {
    "duration": 14,
    "start_time": "2023-02-19T11:04:25.383Z"
   },
   {
    "duration": 21,
    "start_time": "2023-02-19T11:04:25.399Z"
   },
   {
    "duration": 40,
    "start_time": "2023-02-19T11:04:25.422Z"
   },
   {
    "duration": 10,
    "start_time": "2023-02-19T11:04:25.464Z"
   },
   {
    "duration": 17,
    "start_time": "2023-02-19T11:04:25.476Z"
   },
   {
    "duration": 4,
    "start_time": "2023-02-19T11:04:29.481Z"
   },
   {
    "duration": 14,
    "start_time": "2023-02-19T11:04:51.808Z"
   },
   {
    "duration": 4,
    "start_time": "2023-02-19T11:05:41.600Z"
   },
   {
    "duration": 95,
    "start_time": "2023-02-19T11:05:41.606Z"
   },
   {
    "duration": 14,
    "start_time": "2023-02-19T11:05:41.703Z"
   },
   {
    "duration": 18,
    "start_time": "2023-02-19T11:05:41.720Z"
   },
   {
    "duration": 28,
    "start_time": "2023-02-19T11:05:41.741Z"
   },
   {
    "duration": 33,
    "start_time": "2023-02-19T11:05:41.771Z"
   },
   {
    "duration": 16,
    "start_time": "2023-02-19T11:05:41.806Z"
   },
   {
    "duration": 13,
    "start_time": "2023-02-19T11:05:41.824Z"
   },
   {
    "duration": 11,
    "start_time": "2023-02-19T11:05:49.366Z"
   },
   {
    "duration": 2,
    "start_time": "2023-02-19T11:11:33.386Z"
   },
   {
    "duration": 78,
    "start_time": "2023-02-19T11:11:33.394Z"
   },
   {
    "duration": 12,
    "start_time": "2023-02-19T11:11:33.474Z"
   },
   {
    "duration": 17,
    "start_time": "2023-02-19T11:11:33.488Z"
   },
   {
    "duration": 21,
    "start_time": "2023-02-19T11:11:33.507Z"
   },
   {
    "duration": 6,
    "start_time": "2023-02-19T11:11:33.531Z"
   },
   {
    "duration": 17,
    "start_time": "2023-02-19T11:11:33.538Z"
   },
   {
    "duration": 6,
    "start_time": "2023-02-19T11:11:33.556Z"
   },
   {
    "duration": 12,
    "start_time": "2023-02-19T11:11:33.564Z"
   },
   {
    "duration": 41,
    "start_time": "2023-02-19T11:11:33.578Z"
   },
   {
    "duration": 13,
    "start_time": "2023-02-19T11:11:33.624Z"
   },
   {
    "duration": 6,
    "start_time": "2023-02-19T11:11:33.638Z"
   },
   {
    "duration": 11,
    "start_time": "2023-02-19T11:11:33.646Z"
   },
   {
    "duration": 7,
    "start_time": "2023-02-19T11:11:33.659Z"
   },
   {
    "duration": 188,
    "start_time": "2023-02-19T11:11:33.668Z"
   },
   {
    "duration": 135,
    "start_time": "2023-02-19T11:11:33.858Z"
   },
   {
    "duration": 26,
    "start_time": "2023-02-19T11:11:33.995Z"
   },
   {
    "duration": 282,
    "start_time": "2023-02-19T11:11:34.023Z"
   },
   {
    "duration": 215,
    "start_time": "2023-02-19T11:11:34.307Z"
   },
   {
    "duration": 359,
    "start_time": "2023-02-19T11:11:34.524Z"
   },
   {
    "duration": 215,
    "start_time": "2023-02-19T11:11:34.885Z"
   },
   {
    "duration": 355,
    "start_time": "2023-02-19T11:11:35.102Z"
   },
   {
    "duration": 129,
    "start_time": "2023-02-19T11:11:35.460Z"
   },
   {
    "duration": 5,
    "start_time": "2023-02-19T11:11:35.591Z"
   },
   {
    "duration": 158,
    "start_time": "2023-02-19T11:11:35.604Z"
   },
   {
    "duration": 5,
    "start_time": "2023-02-19T11:11:35.764Z"
   },
   {
    "duration": 245,
    "start_time": "2023-02-19T11:11:35.772Z"
   },
   {
    "duration": 168,
    "start_time": "2023-02-19T11:11:36.020Z"
   },
   {
    "duration": 47,
    "start_time": "2023-02-19T11:11:36.189Z"
   },
   {
    "duration": 12,
    "start_time": "2023-02-19T11:11:36.237Z"
   },
   {
    "duration": 9,
    "start_time": "2023-02-19T11:11:36.251Z"
   },
   {
    "duration": 53,
    "start_time": "2023-02-19T11:11:36.262Z"
   },
   {
    "duration": 15,
    "start_time": "2023-02-19T11:11:36.319Z"
   },
   {
    "duration": 76,
    "start_time": "2023-02-19T11:15:14.941Z"
   },
   {
    "duration": 11,
    "start_time": "2023-02-19T11:15:56.282Z"
   },
   {
    "duration": 14,
    "start_time": "2023-02-19T11:16:13.506Z"
   },
   {
    "duration": 4,
    "start_time": "2023-02-19T11:16:29.990Z"
   },
   {
    "duration": 89,
    "start_time": "2023-02-19T11:16:29.996Z"
   },
   {
    "duration": 14,
    "start_time": "2023-02-19T11:16:30.087Z"
   },
   {
    "duration": 44,
    "start_time": "2023-02-19T11:16:30.102Z"
   },
   {
    "duration": 32,
    "start_time": "2023-02-19T11:16:30.148Z"
   },
   {
    "duration": 37,
    "start_time": "2023-02-19T11:16:30.182Z"
   },
   {
    "duration": 35,
    "start_time": "2023-02-19T11:16:30.222Z"
   },
   {
    "duration": 24,
    "start_time": "2023-02-19T11:16:30.259Z"
   },
   {
    "duration": 46,
    "start_time": "2023-02-19T11:16:30.285Z"
   },
   {
    "duration": 15,
    "start_time": "2023-02-19T11:16:33.909Z"
   },
   {
    "duration": 6,
    "start_time": "2023-02-19T11:16:38.869Z"
   },
   {
    "duration": 10,
    "start_time": "2023-02-19T11:16:55.629Z"
   },
   {
    "duration": 7,
    "start_time": "2023-02-19T11:19:56.332Z"
   },
   {
    "duration": 6,
    "start_time": "2023-02-19T11:20:43.744Z"
   },
   {
    "duration": 11,
    "start_time": "2023-02-19T11:21:07.377Z"
   },
   {
    "duration": 103,
    "start_time": "2023-02-19T11:23:28.508Z"
   },
   {
    "duration": 111,
    "start_time": "2023-02-19T11:23:32.931Z"
   },
   {
    "duration": 12,
    "start_time": "2023-02-19T11:24:25.935Z"
   },
   {
    "duration": 11,
    "start_time": "2023-02-19T11:24:41.616Z"
   },
   {
    "duration": 9,
    "start_time": "2023-02-19T11:30:50.852Z"
   },
   {
    "duration": 11,
    "start_time": "2023-02-19T11:34:46.871Z"
   },
   {
    "duration": 6,
    "start_time": "2023-02-19T11:34:50.631Z"
   },
   {
    "duration": 9,
    "start_time": "2023-02-19T11:34:52.683Z"
   },
   {
    "duration": 11,
    "start_time": "2023-02-19T11:34:59.253Z"
   },
   {
    "duration": 17,
    "start_time": "2023-02-19T11:36:29.014Z"
   },
   {
    "duration": 10,
    "start_time": "2023-02-19T11:36:50.852Z"
   },
   {
    "duration": 9,
    "start_time": "2023-02-19T11:36:55.895Z"
   },
   {
    "duration": 11,
    "start_time": "2023-02-19T11:37:42.818Z"
   },
   {
    "duration": 8,
    "start_time": "2023-02-19T11:37:48.303Z"
   },
   {
    "duration": 17,
    "start_time": "2023-02-19T11:37:48.918Z"
   },
   {
    "duration": 5,
    "start_time": "2023-02-19T11:38:00.646Z"
   },
   {
    "duration": 10,
    "start_time": "2023-02-19T11:38:14.960Z"
   },
   {
    "duration": 19,
    "start_time": "2023-02-19T11:44:29.729Z"
   },
   {
    "duration": 19,
    "start_time": "2023-02-19T11:45:58.659Z"
   },
   {
    "duration": 25,
    "start_time": "2023-02-19T11:46:11.092Z"
   },
   {
    "duration": 315,
    "start_time": "2023-02-19T11:46:22.128Z"
   },
   {
    "duration": 21,
    "start_time": "2023-02-19T11:49:13.631Z"
   },
   {
    "duration": 14,
    "start_time": "2023-02-19T11:49:54.535Z"
   },
   {
    "duration": 287,
    "start_time": "2023-02-19T11:50:09.857Z"
   },
   {
    "duration": 20,
    "start_time": "2023-02-19T11:50:17.762Z"
   },
   {
    "duration": 295,
    "start_time": "2023-02-19T11:50:32.437Z"
   },
   {
    "duration": 20,
    "start_time": "2023-02-19T11:50:51.507Z"
   },
   {
    "duration": 15,
    "start_time": "2023-02-19T11:57:56.225Z"
   },
   {
    "duration": 26,
    "start_time": "2023-02-19T11:58:02.940Z"
   },
   {
    "duration": 30,
    "start_time": "2023-02-19T11:59:01.360Z"
   },
   {
    "duration": 5,
    "start_time": "2023-02-19T12:03:23.865Z"
   },
   {
    "duration": 5,
    "start_time": "2023-02-19T12:03:34.060Z"
   },
   {
    "duration": 6,
    "start_time": "2023-02-19T12:04:04.831Z"
   },
   {
    "duration": 73,
    "start_time": "2023-02-19T12:04:21.779Z"
   },
   {
    "duration": 8,
    "start_time": "2023-02-19T12:04:28.925Z"
   },
   {
    "duration": 16,
    "start_time": "2023-02-19T12:05:13.358Z"
   },
   {
    "duration": 20,
    "start_time": "2023-02-19T12:05:48.714Z"
   },
   {
    "duration": 26,
    "start_time": "2023-02-19T12:06:10.210Z"
   },
   {
    "duration": 20,
    "start_time": "2023-02-19T12:06:58.054Z"
   },
   {
    "duration": 7,
    "start_time": "2023-02-19T12:14:57.578Z"
   },
   {
    "duration": 4,
    "start_time": "2023-02-19T12:17:25.291Z"
   },
   {
    "duration": 3,
    "start_time": "2023-02-19T12:39:25.537Z"
   },
   {
    "duration": 6,
    "start_time": "2023-02-19T12:40:07.003Z"
   },
   {
    "duration": 7,
    "start_time": "2023-02-19T12:40:32.656Z"
   },
   {
    "duration": 7,
    "start_time": "2023-02-19T12:40:42.779Z"
   },
   {
    "duration": 38,
    "start_time": "2023-02-19T12:40:54.344Z"
   },
   {
    "duration": 8,
    "start_time": "2023-02-19T12:40:59.669Z"
   },
   {
    "duration": 11,
    "start_time": "2023-02-19T12:42:06.539Z"
   },
   {
    "duration": 294,
    "start_time": "2023-02-19T12:48:33.325Z"
   },
   {
    "duration": 4,
    "start_time": "2023-02-19T13:28:39.162Z"
   },
   {
    "duration": 92,
    "start_time": "2023-02-19T13:28:39.168Z"
   },
   {
    "duration": 13,
    "start_time": "2023-02-19T13:28:39.262Z"
   },
   {
    "duration": 14,
    "start_time": "2023-02-19T13:28:39.276Z"
   },
   {
    "duration": 15,
    "start_time": "2023-02-19T13:28:39.292Z"
   },
   {
    "duration": 18,
    "start_time": "2023-02-19T13:28:39.310Z"
   },
   {
    "duration": 17,
    "start_time": "2023-02-19T13:28:39.329Z"
   },
   {
    "duration": 6,
    "start_time": "2023-02-19T13:28:39.347Z"
   },
   {
    "duration": 14,
    "start_time": "2023-02-19T13:28:39.355Z"
   },
   {
    "duration": 6,
    "start_time": "2023-02-19T13:28:39.371Z"
   },
   {
    "duration": 10,
    "start_time": "2023-02-19T13:28:39.379Z"
   },
   {
    "duration": 16,
    "start_time": "2023-02-19T13:28:39.391Z"
   },
   {
    "duration": 9,
    "start_time": "2023-02-19T13:28:39.414Z"
   },
   {
    "duration": 12,
    "start_time": "2023-02-19T13:28:39.426Z"
   },
   {
    "duration": 23,
    "start_time": "2023-02-19T13:28:39.439Z"
   },
   {
    "duration": 2,
    "start_time": "2023-02-19T13:28:39.464Z"
   },
   {
    "duration": 10,
    "start_time": "2023-02-19T13:28:39.468Z"
   },
   {
    "duration": 34,
    "start_time": "2023-02-19T13:28:39.479Z"
   },
   {
    "duration": 12,
    "start_time": "2023-02-19T13:28:39.515Z"
   },
   {
    "duration": 14,
    "start_time": "2023-02-19T13:28:39.528Z"
   },
   {
    "duration": 5,
    "start_time": "2023-02-19T13:28:39.544Z"
   },
   {
    "duration": 6,
    "start_time": "2023-02-19T13:28:39.551Z"
   },
   {
    "duration": 9,
    "start_time": "2023-02-19T13:28:39.559Z"
   },
   {
    "duration": 7,
    "start_time": "2023-02-19T13:28:39.570Z"
   },
   {
    "duration": 219,
    "start_time": "2023-02-19T13:28:39.579Z"
   },
   {
    "duration": 137,
    "start_time": "2023-02-19T13:28:39.799Z"
   },
   {
    "duration": 9,
    "start_time": "2023-02-19T13:28:39.938Z"
   },
   {
    "duration": 304,
    "start_time": "2023-02-19T13:28:39.949Z"
   },
   {
    "duration": 240,
    "start_time": "2023-02-19T13:28:40.255Z"
   },
   {
    "duration": 327,
    "start_time": "2023-02-19T13:28:40.496Z"
   },
   {
    "duration": 200,
    "start_time": "2023-02-19T13:28:40.825Z"
   },
   {
    "duration": 311,
    "start_time": "2023-02-19T13:28:41.027Z"
   },
   {
    "duration": 121,
    "start_time": "2023-02-19T13:28:41.340Z"
   },
   {
    "duration": 5,
    "start_time": "2023-02-19T13:28:41.463Z"
   },
   {
    "duration": 157,
    "start_time": "2023-02-19T13:28:41.470Z"
   },
   {
    "duration": 5,
    "start_time": "2023-02-19T13:28:41.629Z"
   },
   {
    "duration": 230,
    "start_time": "2023-02-19T13:28:41.636Z"
   },
   {
    "duration": 159,
    "start_time": "2023-02-19T13:28:41.868Z"
   },
   {
    "duration": 45,
    "start_time": "2023-02-19T13:28:42.029Z"
   },
   {
    "duration": 34,
    "start_time": "2023-02-19T13:28:42.076Z"
   },
   {
    "duration": 21,
    "start_time": "2023-02-19T13:28:42.114Z"
   },
   {
    "duration": 34,
    "start_time": "2023-02-19T13:28:42.137Z"
   },
   {
    "duration": 43,
    "start_time": "2023-02-19T13:28:42.173Z"
   },
   {
    "duration": 138,
    "start_time": "2023-02-19T13:32:49.538Z"
   },
   {
    "duration": 122,
    "start_time": "2023-02-19T13:34:11.721Z"
   },
   {
    "duration": 5,
    "start_time": "2023-02-19T13:35:11.907Z"
   },
   {
    "duration": 14,
    "start_time": "2023-02-19T13:37:12.610Z"
   },
   {
    "duration": 6,
    "start_time": "2023-02-19T13:38:28.675Z"
   },
   {
    "duration": 15,
    "start_time": "2023-02-19T13:38:33.367Z"
   },
   {
    "duration": 21,
    "start_time": "2023-02-19T13:39:47.120Z"
   },
   {
    "duration": 18,
    "start_time": "2023-02-19T13:39:54.267Z"
   },
   {
    "duration": 1268,
    "start_time": "2023-02-19T17:14:58.775Z"
   },
   {
    "duration": 179,
    "start_time": "2023-02-19T17:15:00.045Z"
   },
   {
    "duration": 17,
    "start_time": "2023-02-19T17:15:00.226Z"
   },
   {
    "duration": 45,
    "start_time": "2023-02-19T17:15:00.245Z"
   },
   {
    "duration": 21,
    "start_time": "2023-02-19T17:15:00.292Z"
   },
   {
    "duration": 4,
    "start_time": "2023-02-19T17:15:00.315Z"
   },
   {
    "duration": 25,
    "start_time": "2023-02-19T17:15:00.321Z"
   },
   {
    "duration": 26,
    "start_time": "2023-02-19T17:15:00.348Z"
   },
   {
    "duration": 33,
    "start_time": "2023-02-19T17:15:00.376Z"
   },
   {
    "duration": 34,
    "start_time": "2023-02-19T17:15:00.411Z"
   },
   {
    "duration": 33,
    "start_time": "2023-02-19T17:15:00.446Z"
   },
   {
    "duration": 37,
    "start_time": "2023-02-19T17:15:00.481Z"
   },
   {
    "duration": 37,
    "start_time": "2023-02-19T17:15:00.519Z"
   },
   {
    "duration": 35,
    "start_time": "2023-02-19T17:15:00.557Z"
   },
   {
    "duration": 46,
    "start_time": "2023-02-19T17:15:00.594Z"
   },
   {
    "duration": 3,
    "start_time": "2023-02-19T17:15:00.642Z"
   },
   {
    "duration": 33,
    "start_time": "2023-02-19T17:15:00.646Z"
   },
   {
    "duration": 25,
    "start_time": "2023-02-19T17:15:00.680Z"
   },
   {
    "duration": 33,
    "start_time": "2023-02-19T17:15:00.706Z"
   },
   {
    "duration": 44,
    "start_time": "2023-02-19T17:15:00.740Z"
   },
   {
    "duration": 33,
    "start_time": "2023-02-19T17:15:00.786Z"
   },
   {
    "duration": 20,
    "start_time": "2023-02-19T17:15:00.821Z"
   },
   {
    "duration": 53,
    "start_time": "2023-02-19T17:15:00.843Z"
   },
   {
    "duration": 31,
    "start_time": "2023-02-19T17:15:00.898Z"
   },
   {
    "duration": 185,
    "start_time": "2023-02-19T17:15:00.931Z"
   },
   {
    "duration": 125,
    "start_time": "2023-02-19T17:15:01.118Z"
   },
   {
    "duration": 7,
    "start_time": "2023-02-19T17:15:01.245Z"
   },
   {
    "duration": 313,
    "start_time": "2023-02-19T17:15:01.255Z"
   },
   {
    "duration": 211,
    "start_time": "2023-02-19T17:15:13.680Z"
   },
   {
    "duration": 47,
    "start_time": "2023-02-19T17:21:44.922Z"
   },
   {
    "duration": 379,
    "start_time": "2023-02-19T17:22:04.262Z"
   },
   {
    "duration": 204,
    "start_time": "2023-02-19T17:27:54.916Z"
   },
   {
    "duration": 311,
    "start_time": "2023-02-19T17:28:54.997Z"
   },
   {
    "duration": 309,
    "start_time": "2023-02-19T17:29:15.618Z"
   },
   {
    "duration": 292,
    "start_time": "2023-02-19T17:31:12.428Z"
   },
   {
    "duration": 123,
    "start_time": "2023-02-19T17:32:32.001Z"
   },
   {
    "duration": 209,
    "start_time": "2023-02-19T17:34:21.287Z"
   },
   {
    "duration": 163,
    "start_time": "2023-02-19T17:54:30.691Z"
   },
   {
    "duration": 7,
    "start_time": "2023-02-19T17:54:31.897Z"
   },
   {
    "duration": 12,
    "start_time": "2023-02-19T17:56:19.477Z"
   },
   {
    "duration": 16,
    "start_time": "2023-02-19T17:57:38.083Z"
   },
   {
    "duration": 161,
    "start_time": "2023-02-19T17:58:16.267Z"
   },
   {
    "duration": 51,
    "start_time": "2023-02-20T07:05:21.750Z"
   },
   {
    "duration": 1404,
    "start_time": "2023-02-20T07:16:16.075Z"
   },
   {
    "duration": 241,
    "start_time": "2023-02-20T07:16:17.482Z"
   },
   {
    "duration": 29,
    "start_time": "2023-02-20T07:16:17.725Z"
   },
   {
    "duration": 18,
    "start_time": "2023-02-20T07:16:17.759Z"
   },
   {
    "duration": 22,
    "start_time": "2023-02-20T07:16:17.779Z"
   },
   {
    "duration": 7,
    "start_time": "2023-02-20T07:16:17.803Z"
   },
   {
    "duration": 33,
    "start_time": "2023-02-20T07:16:17.813Z"
   },
   {
    "duration": 17,
    "start_time": "2023-02-20T07:16:17.849Z"
   },
   {
    "duration": 14,
    "start_time": "2023-02-20T07:16:17.867Z"
   },
   {
    "duration": 11,
    "start_time": "2023-02-20T07:16:17.883Z"
   },
   {
    "duration": 14,
    "start_time": "2023-02-20T07:16:17.896Z"
   },
   {
    "duration": 20,
    "start_time": "2023-02-20T07:16:17.912Z"
   },
   {
    "duration": 5,
    "start_time": "2023-02-20T07:16:17.934Z"
   },
   {
    "duration": 31,
    "start_time": "2023-02-20T07:16:17.941Z"
   },
   {
    "duration": 28,
    "start_time": "2023-02-20T07:16:17.974Z"
   },
   {
    "duration": 3,
    "start_time": "2023-02-20T07:16:18.003Z"
   },
   {
    "duration": 26,
    "start_time": "2023-02-20T07:16:18.008Z"
   },
   {
    "duration": 29,
    "start_time": "2023-02-20T07:16:18.041Z"
   },
   {
    "duration": 12,
    "start_time": "2023-02-20T07:16:18.072Z"
   },
   {
    "duration": 12,
    "start_time": "2023-02-20T07:16:18.086Z"
   },
   {
    "duration": 16,
    "start_time": "2023-02-20T07:16:18.100Z"
   },
   {
    "duration": 11,
    "start_time": "2023-02-20T07:16:18.118Z"
   },
   {
    "duration": 33,
    "start_time": "2023-02-20T07:16:18.131Z"
   },
   {
    "duration": 10,
    "start_time": "2023-02-20T07:16:18.167Z"
   },
   {
    "duration": 209,
    "start_time": "2023-02-20T07:16:18.179Z"
   },
   {
    "duration": 135,
    "start_time": "2023-02-20T07:16:18.389Z"
   },
   {
    "duration": 15,
    "start_time": "2023-02-20T07:16:18.525Z"
   },
   {
    "duration": 344,
    "start_time": "2023-02-20T07:16:18.548Z"
   },
   {
    "duration": 249,
    "start_time": "2023-02-20T07:16:18.893Z"
   },
   {
    "duration": 413,
    "start_time": "2023-02-20T07:16:19.145Z"
   },
   {
    "duration": 244,
    "start_time": "2023-02-20T07:16:19.560Z"
   },
   {
    "duration": 389,
    "start_time": "2023-02-20T07:16:19.806Z"
   },
   {
    "duration": 194,
    "start_time": "2023-02-20T07:16:20.196Z"
   },
   {
    "duration": 5,
    "start_time": "2023-02-20T07:16:20.392Z"
   },
   {
    "duration": 260,
    "start_time": "2023-02-20T07:16:20.399Z"
   },
   {
    "duration": 164,
    "start_time": "2023-02-20T07:16:20.661Z"
   },
   {
    "duration": 21,
    "start_time": "2023-02-20T07:16:20.831Z"
   },
   {
    "duration": 312,
    "start_time": "2023-02-20T07:20:57.990Z"
   },
   {
    "duration": 138,
    "start_time": "2023-02-20T07:21:01.565Z"
   },
   {
    "duration": 26,
    "start_time": "2023-02-20T07:21:07.769Z"
   },
   {
    "duration": 4,
    "start_time": "2023-02-20T07:25:00.783Z"
   },
   {
    "duration": 116,
    "start_time": "2023-02-20T07:25:00.789Z"
   },
   {
    "duration": 13,
    "start_time": "2023-02-20T07:25:00.907Z"
   },
   {
    "duration": 43,
    "start_time": "2023-02-20T07:25:00.921Z"
   },
   {
    "duration": 30,
    "start_time": "2023-02-20T07:25:00.966Z"
   },
   {
    "duration": 27,
    "start_time": "2023-02-20T07:25:00.997Z"
   },
   {
    "duration": 52,
    "start_time": "2023-02-20T07:25:01.026Z"
   },
   {
    "duration": 65,
    "start_time": "2023-02-20T07:25:01.080Z"
   },
   {
    "duration": 43,
    "start_time": "2023-02-20T07:25:01.147Z"
   },
   {
    "duration": 29,
    "start_time": "2023-02-20T07:25:01.192Z"
   },
   {
    "duration": 61,
    "start_time": "2023-02-20T07:25:01.222Z"
   },
   {
    "duration": 30,
    "start_time": "2023-02-20T07:25:01.285Z"
   },
   {
    "duration": 37,
    "start_time": "2023-02-20T07:25:01.317Z"
   },
   {
    "duration": 23,
    "start_time": "2023-02-20T07:25:01.357Z"
   },
   {
    "duration": 67,
    "start_time": "2023-02-20T07:25:01.382Z"
   },
   {
    "duration": 14,
    "start_time": "2023-02-20T07:25:01.451Z"
   },
   {
    "duration": 47,
    "start_time": "2023-02-20T07:25:01.467Z"
   },
   {
    "duration": 28,
    "start_time": "2023-02-20T07:25:01.516Z"
   },
   {
    "duration": 40,
    "start_time": "2023-02-20T07:25:01.546Z"
   },
   {
    "duration": 24,
    "start_time": "2023-02-20T07:25:01.588Z"
   },
   {
    "duration": 45,
    "start_time": "2023-02-20T07:25:01.615Z"
   },
   {
    "duration": 15,
    "start_time": "2023-02-20T07:25:01.662Z"
   },
   {
    "duration": 7,
    "start_time": "2023-02-20T07:25:01.680Z"
   },
   {
    "duration": 8,
    "start_time": "2023-02-20T07:25:01.689Z"
   },
   {
    "duration": 178,
    "start_time": "2023-02-20T07:25:01.699Z"
   },
   {
    "duration": 148,
    "start_time": "2023-02-20T07:25:01.879Z"
   },
   {
    "duration": 13,
    "start_time": "2023-02-20T07:25:02.031Z"
   },
   {
    "duration": 238,
    "start_time": "2023-02-20T07:25:02.047Z"
   },
   {
    "duration": 232,
    "start_time": "2023-02-20T07:25:02.287Z"
   },
   {
    "duration": 389,
    "start_time": "2023-02-20T07:25:02.521Z"
   },
   {
    "duration": 247,
    "start_time": "2023-02-20T07:25:02.912Z"
   },
   {
    "duration": 366,
    "start_time": "2023-02-20T07:25:03.162Z"
   },
   {
    "duration": 161,
    "start_time": "2023-02-20T07:25:03.533Z"
   },
   {
    "duration": 5,
    "start_time": "2023-02-20T07:25:03.696Z"
   },
   {
    "duration": 194,
    "start_time": "2023-02-20T07:25:03.703Z"
   },
   {
    "duration": 160,
    "start_time": "2023-02-20T07:25:03.899Z"
   },
   {
    "duration": 6,
    "start_time": "2023-02-20T07:25:04.061Z"
   },
   {
    "duration": 244,
    "start_time": "2023-02-20T07:25:04.068Z"
   },
   {
    "duration": 165,
    "start_time": "2023-02-20T07:25:04.313Z"
   },
   {
    "duration": 27,
    "start_time": "2023-02-20T07:25:12.093Z"
   },
   {
    "duration": 14,
    "start_time": "2023-02-20T07:25:41.290Z"
   },
   {
    "duration": 11,
    "start_time": "2023-02-20T07:26:00.952Z"
   },
   {
    "duration": 63,
    "start_time": "2023-02-20T07:26:51.645Z"
   },
   {
    "duration": 22,
    "start_time": "2023-02-20T07:27:10.052Z"
   },
   {
    "duration": 70,
    "start_time": "2023-02-20T07:28:12.710Z"
   },
   {
    "duration": 10,
    "start_time": "2023-02-20T07:33:54.454Z"
   },
   {
    "duration": 27,
    "start_time": "2023-02-20T07:34:14.299Z"
   },
   {
    "duration": 20,
    "start_time": "2023-02-20T07:34:22.465Z"
   },
   {
    "duration": 43,
    "start_time": "2023-02-20T07:39:30.354Z"
   },
   {
    "duration": 37,
    "start_time": "2023-02-20T07:39:41.754Z"
   },
   {
    "duration": 16,
    "start_time": "2023-02-20T07:46:09.586Z"
   },
   {
    "duration": 25,
    "start_time": "2023-02-20T07:46:34.053Z"
   },
   {
    "duration": 7,
    "start_time": "2023-02-20T07:51:23.705Z"
   },
   {
    "duration": 10,
    "start_time": "2023-02-20T07:51:55.957Z"
   },
   {
    "duration": 4,
    "start_time": "2023-02-20T07:58:41.665Z"
   },
   {
    "duration": 7,
    "start_time": "2023-02-20T07:59:34.027Z"
   },
   {
    "duration": 9,
    "start_time": "2023-02-20T07:59:53.022Z"
   },
   {
    "duration": 47,
    "start_time": "2023-02-20T08:00:10.766Z"
   },
   {
    "duration": 48,
    "start_time": "2023-02-20T08:00:17.559Z"
   },
   {
    "duration": 86,
    "start_time": "2023-02-20T08:00:23.790Z"
   },
   {
    "duration": 5,
    "start_time": "2023-02-20T08:00:29.110Z"
   },
   {
    "duration": 16,
    "start_time": "2023-02-20T08:01:01.508Z"
   },
   {
    "duration": 19,
    "start_time": "2023-02-20T08:01:06.454Z"
   },
   {
    "duration": 5,
    "start_time": "2023-02-20T08:01:31.620Z"
   },
   {
    "duration": 153,
    "start_time": "2023-02-20T08:02:49.153Z"
   },
   {
    "duration": 10,
    "start_time": "2023-02-20T08:02:56.841Z"
   },
   {
    "duration": 12,
    "start_time": "2023-02-20T08:04:34.222Z"
   },
   {
    "duration": 25,
    "start_time": "2023-02-20T08:05:25.829Z"
   },
   {
    "duration": 8,
    "start_time": "2023-02-20T08:05:29.352Z"
   },
   {
    "duration": 6,
    "start_time": "2023-02-20T08:05:30.953Z"
   },
   {
    "duration": 4,
    "start_time": "2023-02-20T08:05:32.198Z"
   },
   {
    "duration": 20,
    "start_time": "2023-02-20T08:05:38.577Z"
   },
   {
    "duration": 24,
    "start_time": "2023-02-20T08:05:49.616Z"
   },
   {
    "duration": 24,
    "start_time": "2023-02-20T08:13:41.158Z"
   },
   {
    "duration": 18,
    "start_time": "2023-02-20T08:13:53.190Z"
   },
   {
    "duration": 23,
    "start_time": "2023-02-20T08:14:00.436Z"
   },
   {
    "duration": 7,
    "start_time": "2023-02-20T08:16:10.765Z"
   },
   {
    "duration": 12,
    "start_time": "2023-02-20T08:17:47.322Z"
   },
   {
    "duration": 9,
    "start_time": "2023-02-20T08:19:14.543Z"
   },
   {
    "duration": 17,
    "start_time": "2023-02-20T09:15:53.027Z"
   },
   {
    "duration": 48,
    "start_time": "2023-02-20T09:20:32.510Z"
   },
   {
    "duration": 4,
    "start_time": "2023-02-20T09:23:43.880Z"
   },
   {
    "duration": 79,
    "start_time": "2023-02-20T09:23:43.887Z"
   },
   {
    "duration": 17,
    "start_time": "2023-02-20T09:23:43.969Z"
   },
   {
    "duration": 27,
    "start_time": "2023-02-20T09:23:43.988Z"
   },
   {
    "duration": 20,
    "start_time": "2023-02-20T09:23:44.018Z"
   },
   {
    "duration": 7,
    "start_time": "2023-02-20T09:23:44.041Z"
   },
   {
    "duration": 15,
    "start_time": "2023-02-20T09:23:44.050Z"
   },
   {
    "duration": 7,
    "start_time": "2023-02-20T09:23:44.067Z"
   },
   {
    "duration": 16,
    "start_time": "2023-02-20T09:23:44.076Z"
   },
   {
    "duration": 12,
    "start_time": "2023-02-20T09:23:44.094Z"
   },
   {
    "duration": 31,
    "start_time": "2023-02-20T09:23:44.109Z"
   },
   {
    "duration": 13,
    "start_time": "2023-02-20T09:23:44.141Z"
   },
   {
    "duration": 12,
    "start_time": "2023-02-20T09:23:44.155Z"
   },
   {
    "duration": 15,
    "start_time": "2023-02-20T09:23:44.169Z"
   },
   {
    "duration": 29,
    "start_time": "2023-02-20T09:23:44.185Z"
   },
   {
    "duration": 6,
    "start_time": "2023-02-20T09:23:44.215Z"
   },
   {
    "duration": 166,
    "start_time": "2023-02-20T09:23:44.223Z"
   },
   {
    "duration": 127,
    "start_time": "2023-02-20T09:23:44.391Z"
   },
   {
    "duration": 17,
    "start_time": "2023-02-20T09:23:44.519Z"
   },
   {
    "duration": 248,
    "start_time": "2023-02-20T09:23:44.538Z"
   },
   {
    "duration": 309,
    "start_time": "2023-02-20T09:23:44.788Z"
   },
   {
    "duration": 364,
    "start_time": "2023-02-20T09:23:45.099Z"
   },
   {
    "duration": 241,
    "start_time": "2023-02-20T09:23:45.465Z"
   },
   {
    "duration": 384,
    "start_time": "2023-02-20T09:23:45.708Z"
   },
   {
    "duration": 150,
    "start_time": "2023-02-20T09:23:46.094Z"
   },
   {
    "duration": 5,
    "start_time": "2023-02-20T09:23:46.245Z"
   },
   {
    "duration": 168,
    "start_time": "2023-02-20T09:23:46.252Z"
   },
   {
    "duration": 160,
    "start_time": "2023-02-20T09:23:46.422Z"
   },
   {
    "duration": 4,
    "start_time": "2023-02-20T09:23:46.585Z"
   },
   {
    "duration": 234,
    "start_time": "2023-02-20T09:23:46.591Z"
   },
   {
    "duration": 180,
    "start_time": "2023-02-20T09:23:46.827Z"
   },
   {
    "duration": 40,
    "start_time": "2023-02-20T09:23:47.009Z"
   },
   {
    "duration": 13,
    "start_time": "2023-02-20T09:23:47.051Z"
   },
   {
    "duration": 13,
    "start_time": "2023-02-20T09:23:47.066Z"
   },
   {
    "duration": 52,
    "start_time": "2023-02-20T09:23:47.081Z"
   },
   {
    "duration": 23,
    "start_time": "2023-02-20T09:23:47.134Z"
   },
   {
    "duration": 43,
    "start_time": "2023-02-20T22:29:41.447Z"
   },
   {
    "duration": 1037,
    "start_time": "2023-02-20T22:29:46.928Z"
   },
   {
    "duration": 63,
    "start_time": "2023-02-20T22:29:47.967Z"
   },
   {
    "duration": 12,
    "start_time": "2023-02-20T22:29:48.032Z"
   },
   {
    "duration": 12,
    "start_time": "2023-02-20T22:29:48.046Z"
   },
   {
    "duration": 18,
    "start_time": "2023-02-20T22:29:48.059Z"
   },
   {
    "duration": 6,
    "start_time": "2023-02-20T22:29:48.078Z"
   },
   {
    "duration": 12,
    "start_time": "2023-02-20T22:29:48.086Z"
   },
   {
    "duration": 6,
    "start_time": "2023-02-20T22:29:48.100Z"
   },
   {
    "duration": 12,
    "start_time": "2023-02-20T22:29:48.108Z"
   },
   {
    "duration": 26,
    "start_time": "2023-02-20T22:29:48.122Z"
   },
   {
    "duration": 8,
    "start_time": "2023-02-20T22:29:48.149Z"
   },
   {
    "duration": 13,
    "start_time": "2023-02-20T22:29:48.159Z"
   },
   {
    "duration": 9,
    "start_time": "2023-02-20T22:29:48.174Z"
   },
   {
    "duration": 8,
    "start_time": "2023-02-20T22:29:48.184Z"
   },
   {
    "duration": 7,
    "start_time": "2023-02-20T22:29:48.194Z"
   },
   {
    "duration": 39,
    "start_time": "2023-02-20T22:29:48.202Z"
   },
   {
    "duration": 5,
    "start_time": "2023-02-20T22:29:48.242Z"
   },
   {
    "duration": 170,
    "start_time": "2023-02-20T22:29:48.248Z"
   },
   {
    "duration": 121,
    "start_time": "2023-02-20T22:29:48.420Z"
   },
   {
    "duration": 5,
    "start_time": "2023-02-20T22:29:48.543Z"
   },
   {
    "duration": 277,
    "start_time": "2023-02-20T22:29:48.549Z"
   },
   {
    "duration": 190,
    "start_time": "2023-02-20T22:29:48.827Z"
   },
   {
    "duration": 320,
    "start_time": "2023-02-20T22:29:49.019Z"
   },
   {
    "duration": 198,
    "start_time": "2023-02-20T22:29:49.341Z"
   },
   {
    "duration": 311,
    "start_time": "2023-02-20T22:29:49.541Z"
   },
   {
    "duration": 130,
    "start_time": "2023-02-20T22:29:49.854Z"
   },
   {
    "duration": 5,
    "start_time": "2023-02-20T22:29:49.985Z"
   },
   {
    "duration": 138,
    "start_time": "2023-02-20T22:29:49.993Z"
   },
   {
    "duration": 131,
    "start_time": "2023-02-20T22:29:50.133Z"
   },
   {
    "duration": 6,
    "start_time": "2023-02-20T22:29:50.266Z"
   },
   {
    "duration": 275,
    "start_time": "2023-02-20T22:29:50.274Z"
   },
   {
    "duration": 118,
    "start_time": "2023-02-20T22:29:50.551Z"
   },
   {
    "duration": 23,
    "start_time": "2023-02-20T22:29:50.671Z"
   },
   {
    "duration": 10,
    "start_time": "2023-02-20T22:29:50.696Z"
   },
   {
    "duration": 31,
    "start_time": "2023-02-20T22:29:50.707Z"
   },
   {
    "duration": 24,
    "start_time": "2023-02-20T22:29:50.739Z"
   },
   {
    "duration": 13,
    "start_time": "2023-02-20T22:29:50.765Z"
   },
   {
    "duration": 42,
    "start_time": "2023-02-20T22:30:29.219Z"
   },
   {
    "duration": 10,
    "start_time": "2023-02-20T22:30:48.035Z"
   }
  ],
  "kernelspec": {
   "display_name": "Python 3 (ipykernel)",
   "language": "python",
   "name": "python3"
  },
  "language_info": {
   "codemirror_mode": {
    "name": "ipython",
    "version": 3
   },
   "file_extension": ".py",
   "mimetype": "text/x-python",
   "name": "python",
   "nbconvert_exporter": "python",
   "pygments_lexer": "ipython3",
   "version": "3.9.12"
  },
  "toc": {
   "base_numbering": 1,
   "nav_menu": {},
   "number_sections": true,
   "sideBar": true,
   "skip_h1_title": true,
   "title_cell": "Table of Contents",
   "title_sidebar": "Contents",
   "toc_cell": false,
   "toc_position": {},
   "toc_section_display": true,
   "toc_window_display": false
  }
 },
 "nbformat": 4,
 "nbformat_minor": 2
}
